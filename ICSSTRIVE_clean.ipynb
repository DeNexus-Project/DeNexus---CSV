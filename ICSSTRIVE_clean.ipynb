{
 "cells": [
  {
   "cell_type": "markdown",
   "metadata": {},
   "source": [
    "# Icsstrive."
   ]
  },
  {
   "cell_type": "markdown",
   "metadata": {},
   "source": [
    "## Importación de librerías."
   ]
  },
  {
   "cell_type": "code",
   "execution_count": 2,
   "metadata": {},
   "outputs": [],
   "source": [
    "import pandas as pd\n",
    "import numpy as np\n",
    "import seaborn as sns\n",
    "from sklearn.preprocessing import LabelEncoder\n",
    "from sklearn.preprocessing import OneHotEncoder\n",
    "import country_converter as coco\n",
    "import matplotlib.pyplot as plt\n",
    "import re\n",
    "import ast\n",
    "from urllib.parse import urlparse\n",
    "import hashlib\n",
    "from sklearn.model_selection import train_test_split, cross_val_score\n",
    "from sklearn.preprocessing import LabelEncoder, StandardScaler\n",
    "from sklearn.ensemble import RandomForestClassifier, GradientBoostingClassifier\n",
    "from sklearn.metrics import classification_report, roc_curve, auc, confusion_matrix\n",
    "from sklearn.neural_network import MLPClassifier\n",
    "from sklearn.cluster import KMeans\n",
    "from sklearn.decomposition import PCA\n",
    "from xgboost import XGBClassifier\n",
    "\n",
    "# Ajustar configuraciones de Pandas\n",
    "pd.set_option('display.max_columns', None)\n",
    "pd.set_option('display.width', 1000)"
   ]
  },
  {
   "cell_type": "markdown",
   "metadata": {},
   "source": [
    "## Importación e información de dataframes."
   ]
  },
  {
   "cell_type": "code",
   "execution_count": 3,
   "metadata": {},
   "outputs": [
    {
     "data": {
      "text/html": [
       "<div>\n",
       "<style scoped>\n",
       "    .dataframe tbody tr th:only-of-type {\n",
       "        vertical-align: middle;\n",
       "    }\n",
       "\n",
       "    .dataframe tbody tr th {\n",
       "        vertical-align: top;\n",
       "    }\n",
       "\n",
       "    .dataframe thead th {\n",
       "        text-align: right;\n",
       "    }\n",
       "</style>\n",
       "<table border=\"1\" class=\"dataframe\">\n",
       "  <thead>\n",
       "    <tr style=\"text-align: right;\">\n",
       "      <th></th>\n",
       "      <th>data_source_link_url</th>\n",
       "      <th>description</th>\n",
       "      <th>date</th>\n",
       "      <th>locations</th>\n",
       "      <th>estimated_cost</th>\n",
       "      <th>victims</th>\n",
       "      <th>type_of_malware</th>\n",
       "      <th>threat_source</th>\n",
       "      <th>industries</th>\n",
       "      <th>impacts</th>\n",
       "      <th>references</th>\n",
       "    </tr>\n",
       "  </thead>\n",
       "  <tbody>\n",
       "    <tr>\n",
       "      <th>0</th>\n",
       "      <td>https://icsstrive.com/incident/operational-imp...</td>\n",
       "      <td>ALPS' North American production operations and...</td>\n",
       "      <td>September 10, 2023</td>\n",
       "      <td>['Japan', 'United States']</td>\n",
       "      <td>Partially impacted North American production a...</td>\n",
       "      <td>[{'title': 'Alps Alpine Group', 'link_url': 'h...</td>\n",
       "      <td>No Malware identified</td>\n",
       "      <td>[{'title': 'BlackByte', 'link_url': 'https://i...</td>\n",
       "      <td>['Automotive', 'Manufacturing']</td>\n",
       "      <td>OT IT</td>\n",
       "      <td>[{'title': 'Cyber Incident Victim: Alps Alpine...</td>\n",
       "    </tr>\n",
       "    <tr>\n",
       "      <th>1</th>\n",
       "      <td>https://icsstrive.com/incident/framework-lapto...</td>\n",
       "      <td>San Francisco, California-based Framework, the...</td>\n",
       "      <td>January 9, 2024</td>\n",
       "      <td>['United States']</td>\n",
       "      <td>Unknown as it seems PII was stolen</td>\n",
       "      <td>[{'title': 'Framework', 'link_url': 'https://i...</td>\n",
       "      <td>No Malware identified</td>\n",
       "      <td>No threat source identified</td>\n",
       "      <td>['Technology']</td>\n",
       "      <td>IT</td>\n",
       "      <td>[{'title': 'Laptop Maker Framework Says Custom...</td>\n",
       "    </tr>\n",
       "    <tr>\n",
       "      <th>2</th>\n",
       "      <td>https://icsstrive.com/incident/clothing-provid...</td>\n",
       "      <td>After suffering a cyberattack December 13, V.F...</td>\n",
       "      <td>December 13, 2023</td>\n",
       "      <td>['United States']</td>\n",
       "      <td>Cost not known, 35.5 million customers persona...</td>\n",
       "      <td>[{'title': 'V.F. Corporation', 'link_url': 'ht...</td>\n",
       "      <td>No Malware identified</td>\n",
       "      <td>No threat source identified</td>\n",
       "      <td>['Manufacturing']</td>\n",
       "      <td>IT</td>\n",
       "      <td>[{'title': 'Clothing Brand, V.F. Corp., Hack H...</td>\n",
       "    </tr>\n",
       "    <tr>\n",
       "      <th>3</th>\n",
       "      <td>https://icsstrive.com/incident/hackers-accesse...</td>\n",
       "      <td>Toyota Financial Services (TFS) is warning cus...</td>\n",
       "      <td>December 11, 2023</td>\n",
       "      <td>['Germany']</td>\n",
       "      <td>No cost values disclosed.</td>\n",
       "      <td>[{'title': 'Toyota Financial Services, subs. o...</td>\n",
       "      <td>No Malware identified</td>\n",
       "      <td>No threat source identified</td>\n",
       "      <td>['Automotive']</td>\n",
       "      <td>IT Privacy</td>\n",
       "      <td>[{'title': 'Toyota warns customers of data bre...</td>\n",
       "    </tr>\n",
       "    <tr>\n",
       "      <th>4</th>\n",
       "      <td>https://icsstrive.com/incident/chinese-identif...</td>\n",
       "      <td>Chinese hackers are positioning themselves ins...</td>\n",
       "      <td>December 11, 2023</td>\n",
       "      <td>['United States']</td>\n",
       "      <td>No cost values disclosed.</td>\n",
       "      <td>[{'title': 'Unidentified Oil &amp; Gas Pipeline', ...</td>\n",
       "      <td>No Malware identified</td>\n",
       "      <td>[{'title': 'Volt Typhoon', 'link_url': 'https:...</td>\n",
       "      <td>['Oil &amp; Gas', 'Water and Waste Water']</td>\n",
       "      <td>IT</td>\n",
       "      <td>[{'title': 'Chinese hackers allegedly target U...</td>\n",
       "    </tr>\n",
       "    <tr>\n",
       "      <th>...</th>\n",
       "      <td>...</td>\n",
       "      <td>...</td>\n",
       "      <td>...</td>\n",
       "      <td>...</td>\n",
       "      <td>...</td>\n",
       "      <td>...</td>\n",
       "      <td>...</td>\n",
       "      <td>...</td>\n",
       "      <td>...</td>\n",
       "      <td>...</td>\n",
       "      <td>...</td>\n",
       "    </tr>\n",
       "    <tr>\n",
       "      <th>1101</th>\n",
       "      <td>https://icsstrive.com/incident/ransomware-atta...</td>\n",
       "      <td>Bassett Furniture was forced to shut down its ...</td>\n",
       "      <td>July 10, 2024</td>\n",
       "      <td>['United States']</td>\n",
       "      <td>unknown, manufacturing shut down</td>\n",
       "      <td>[{'title': 'Bassett Furniture', 'link_url': 'h...</td>\n",
       "      <td>No Malware identified</td>\n",
       "      <td>No threat source identified</td>\n",
       "      <td>['Manufacturing']</td>\n",
       "      <td>OT IT</td>\n",
       "      <td>[{'title': 'Bassett Furniture reports signific...</td>\n",
       "    </tr>\n",
       "    <tr>\n",
       "      <th>1102</th>\n",
       "      <td>https://icsstrive.com/incident/rhysida-ransomw...</td>\n",
       "      <td>The government of Columbus, Ohio shut down a l...</td>\n",
       "      <td>July 18, 2024</td>\n",
       "      <td>['United States']</td>\n",
       "      <td>$1.9M ransom demand; IT systems shut down</td>\n",
       "      <td>[{'title': 'Ohio State Government', 'link_url'...</td>\n",
       "      <td>No Malware identified</td>\n",
       "      <td>[{'title': 'Rhysida Ransomware Group', 'link_u...</td>\n",
       "      <td>['Government']</td>\n",
       "      <td>IT</td>\n",
       "      <td>[{'title': 'Columbus says it thwarted overseas...</td>\n",
       "    </tr>\n",
       "    <tr>\n",
       "      <th>1103</th>\n",
       "      <td>https://icsstrive.com/incident/threat-actor-ta...</td>\n",
       "      <td>A threat actor known as \"Sticky Werewolf\" is u...</td>\n",
       "      <td>June 7, 2024</td>\n",
       "      <td>['Belarus', 'Russia']</td>\n",
       "      <td>No cost values disclosed.</td>\n",
       "      <td>[{'title': 'Russian Aviation Industry', 'link_...</td>\n",
       "      <td>[{'title': 'Phishing Attack', 'link_url': 'htt...</td>\n",
       "      <td>[{'title': 'Sticky Werewolf', 'link_url': 'htt...</td>\n",
       "      <td>['Transportation (Includes Logistics, Shipping...</td>\n",
       "      <td>IT</td>\n",
       "      <td>[{'title': 'STICKY WEREWOLF TARGETS THE AVIATI...</td>\n",
       "    </tr>\n",
       "    <tr>\n",
       "      <th>1104</th>\n",
       "      <td>https://icsstrive.com/incident/wichita-city-ra...</td>\n",
       "      <td>The cyberattack at the city of Wichita, Kansas...</td>\n",
       "      <td>May 3, 2024</td>\n",
       "      <td>['United States']</td>\n",
       "      <td>CIty services down for &gt;1 month</td>\n",
       "      <td>[{'title': 'City of Wichita', 'link_url': 'htt...</td>\n",
       "      <td>No Malware identified</td>\n",
       "      <td>[{'title': 'LockBit', 'link_url': 'https://ics...</td>\n",
       "      <td>['Government', 'Water and Waste Water']</td>\n",
       "      <td>IT Privacy</td>\n",
       "      <td>[{'title': 'City of Wichita water bill payment...</td>\n",
       "    </tr>\n",
       "    <tr>\n",
       "      <th>1105</th>\n",
       "      <td>https://icsstrive.com/incident/data-compromise...</td>\n",
       "      <td>​Fresnillo PLC, the world's largest silver pro...</td>\n",
       "      <td>July 30, 2024</td>\n",
       "      <td>['Mexico']</td>\n",
       "      <td>No cost values disclosed.</td>\n",
       "      <td>[{'title': 'Fresnillo', 'link_url': 'https://i...</td>\n",
       "      <td>No Malware identified</td>\n",
       "      <td>No threat source identified</td>\n",
       "      <td>['Metals &amp; Mining']</td>\n",
       "      <td>IT</td>\n",
       "      <td>[{'title': 'World leading silver producer Fres...</td>\n",
       "    </tr>\n",
       "  </tbody>\n",
       "</table>\n",
       "<p>1106 rows × 11 columns</p>\n",
       "</div>"
      ],
      "text/plain": [
       "                                   data_source_link_url                                        description                date                   locations                                     estimated_cost                                            victims                                    type_of_malware                                      threat_source                                         industries      impacts                                         references\n",
       "0     https://icsstrive.com/incident/operational-imp...  ALPS' North American production operations and...  September 10, 2023  ['Japan', 'United States']  Partially impacted North American production a...  [{'title': 'Alps Alpine Group', 'link_url': 'h...                              No Malware identified  [{'title': 'BlackByte', 'link_url': 'https://i...                    ['Automotive', 'Manufacturing']        OT IT  [{'title': 'Cyber Incident Victim: Alps Alpine...\n",
       "1     https://icsstrive.com/incident/framework-lapto...  San Francisco, California-based Framework, the...     January 9, 2024           ['United States']                 Unknown as it seems PII was stolen  [{'title': 'Framework', 'link_url': 'https://i...                              No Malware identified                        No threat source identified                                     ['Technology']           IT  [{'title': 'Laptop Maker Framework Says Custom...\n",
       "2     https://icsstrive.com/incident/clothing-provid...  After suffering a cyberattack December 13, V.F...   December 13, 2023           ['United States']  Cost not known, 35.5 million customers persona...  [{'title': 'V.F. Corporation', 'link_url': 'ht...                              No Malware identified                        No threat source identified                                  ['Manufacturing']           IT  [{'title': 'Clothing Brand, V.F. Corp., Hack H...\n",
       "3     https://icsstrive.com/incident/hackers-accesse...  Toyota Financial Services (TFS) is warning cus...   December 11, 2023                 ['Germany']                          No cost values disclosed.  [{'title': 'Toyota Financial Services, subs. o...                              No Malware identified                        No threat source identified                                     ['Automotive']   IT Privacy  [{'title': 'Toyota warns customers of data bre...\n",
       "4     https://icsstrive.com/incident/chinese-identif...  Chinese hackers are positioning themselves ins...   December 11, 2023           ['United States']                          No cost values disclosed.  [{'title': 'Unidentified Oil & Gas Pipeline', ...                              No Malware identified  [{'title': 'Volt Typhoon', 'link_url': 'https:...             ['Oil & Gas', 'Water and Waste Water']           IT  [{'title': 'Chinese hackers allegedly target U...\n",
       "...                                                 ...                                                ...                 ...                         ...                                                ...                                                ...                                                ...                                                ...                                                ...          ...                                                ...\n",
       "1101  https://icsstrive.com/incident/ransomware-atta...  Bassett Furniture was forced to shut down its ...       July 10, 2024           ['United States']                   unknown, manufacturing shut down  [{'title': 'Bassett Furniture', 'link_url': 'h...                              No Malware identified                        No threat source identified                                  ['Manufacturing']        OT IT  [{'title': 'Bassett Furniture reports signific...\n",
       "1102  https://icsstrive.com/incident/rhysida-ransomw...  The government of Columbus, Ohio shut down a l...       July 18, 2024           ['United States']          $1.9M ransom demand; IT systems shut down  [{'title': 'Ohio State Government', 'link_url'...                              No Malware identified  [{'title': 'Rhysida Ransomware Group', 'link_u...                                     ['Government']           IT  [{'title': 'Columbus says it thwarted overseas...\n",
       "1103  https://icsstrive.com/incident/threat-actor-ta...  A threat actor known as \"Sticky Werewolf\" is u...        June 7, 2024       ['Belarus', 'Russia']                          No cost values disclosed.  [{'title': 'Russian Aviation Industry', 'link_...  [{'title': 'Phishing Attack', 'link_url': 'htt...  [{'title': 'Sticky Werewolf', 'link_url': 'htt...  ['Transportation (Includes Logistics, Shipping...           IT  [{'title': 'STICKY WEREWOLF TARGETS THE AVIATI...\n",
       "1104  https://icsstrive.com/incident/wichita-city-ra...  The cyberattack at the city of Wichita, Kansas...         May 3, 2024           ['United States']                    CIty services down for >1 month  [{'title': 'City of Wichita', 'link_url': 'htt...                              No Malware identified  [{'title': 'LockBit', 'link_url': 'https://ics...            ['Government', 'Water and Waste Water']   IT Privacy  [{'title': 'City of Wichita water bill payment...\n",
       "1105  https://icsstrive.com/incident/data-compromise...  ​Fresnillo PLC, the world's largest silver pro...       July 30, 2024                  ['Mexico']                          No cost values disclosed.  [{'title': 'Fresnillo', 'link_url': 'https://i...                              No Malware identified                        No threat source identified                                ['Metals & Mining']           IT  [{'title': 'World leading silver producer Fres...\n",
       "\n",
       "[1106 rows x 11 columns]"
      ]
     },
     "execution_count": 3,
     "metadata": {},
     "output_type": "execute_result"
    }
   ],
   "source": [
    "df = pd.read_csv('./data/ICSSTRIVE.csv')\n",
    "df"
   ]
  },
  {
   "cell_type": "code",
   "execution_count": 4,
   "metadata": {},
   "outputs": [
    {
     "data": {
      "text/html": [
       "<div>\n",
       "<style scoped>\n",
       "    .dataframe tbody tr th:only-of-type {\n",
       "        vertical-align: middle;\n",
       "    }\n",
       "\n",
       "    .dataframe tbody tr th {\n",
       "        vertical-align: top;\n",
       "    }\n",
       "\n",
       "    .dataframe thead th {\n",
       "        text-align: right;\n",
       "    }\n",
       "</style>\n",
       "<table border=\"1\" class=\"dataframe\">\n",
       "  <thead>\n",
       "    <tr style=\"text-align: right;\">\n",
       "      <th></th>\n",
       "      <th>data_source_link_url</th>\n",
       "      <th>description</th>\n",
       "      <th>date</th>\n",
       "      <th>locations</th>\n",
       "      <th>estimated_cost</th>\n",
       "      <th>victims</th>\n",
       "      <th>type_of_malware</th>\n",
       "      <th>threat_source</th>\n",
       "      <th>industries</th>\n",
       "      <th>impacts</th>\n",
       "      <th>references</th>\n",
       "    </tr>\n",
       "  </thead>\n",
       "  <tbody>\n",
       "    <tr>\n",
       "      <th>count</th>\n",
       "      <td>1106</td>\n",
       "      <td>1106</td>\n",
       "      <td>1106</td>\n",
       "      <td>1106</td>\n",
       "      <td>1106</td>\n",
       "      <td>1106</td>\n",
       "      <td>1106</td>\n",
       "      <td>1106</td>\n",
       "      <td>1106</td>\n",
       "      <td>723</td>\n",
       "      <td>1106</td>\n",
       "    </tr>\n",
       "    <tr>\n",
       "      <th>unique</th>\n",
       "      <td>1058</td>\n",
       "      <td>860</td>\n",
       "      <td>672</td>\n",
       "      <td>135</td>\n",
       "      <td>355</td>\n",
       "      <td>790</td>\n",
       "      <td>60</td>\n",
       "      <td>97</td>\n",
       "      <td>91</td>\n",
       "      <td>12</td>\n",
       "      <td>820</td>\n",
       "    </tr>\n",
       "    <tr>\n",
       "      <th>top</th>\n",
       "      <td>https://icsstrive.com/incident/mumu-infection-...</td>\n",
       "      <td>WIZARD SPIDER is a sophisticated eCrime group ...</td>\n",
       "      <td>January 1, 2003</td>\n",
       "      <td>['United States']</td>\n",
       "      <td>No cost values disclosed.</td>\n",
       "      <td>No victims identified</td>\n",
       "      <td>No Malware identified</td>\n",
       "      <td>No threat source identified</td>\n",
       "      <td>['Transportation (Includes Logistics, Shipping...</td>\n",
       "      <td>IT</td>\n",
       "      <td>No references identified.</td>\n",
       "    </tr>\n",
       "    <tr>\n",
       "      <th>freq</th>\n",
       "      <td>2</td>\n",
       "      <td>239</td>\n",
       "      <td>34</td>\n",
       "      <td>413</td>\n",
       "      <td>299</td>\n",
       "      <td>260</td>\n",
       "      <td>877</td>\n",
       "      <td>818</td>\n",
       "      <td>159</td>\n",
       "      <td>443</td>\n",
       "      <td>282</td>\n",
       "    </tr>\n",
       "  </tbody>\n",
       "</table>\n",
       "</div>"
      ],
      "text/plain": [
       "                                     data_source_link_url                                        description             date          locations             estimated_cost                victims        type_of_malware                threat_source                                         industries impacts                 references\n",
       "count                                                1106                                               1106             1106               1106                       1106                   1106                   1106                         1106                                               1106     723                       1106\n",
       "unique                                               1058                                                860              672                135                        355                    790                     60                           97                                                 91      12                        820\n",
       "top     https://icsstrive.com/incident/mumu-infection-...  WIZARD SPIDER is a sophisticated eCrime group ...  January 1, 2003  ['United States']  No cost values disclosed.  No victims identified  No Malware identified  No threat source identified  ['Transportation (Includes Logistics, Shipping...      IT  No references identified.\n",
       "freq                                                    2                                                239               34                413                        299                    260                    877                          818                                                159     443                        282"
      ]
     },
     "execution_count": 4,
     "metadata": {},
     "output_type": "execute_result"
    }
   ],
   "source": [
    "df.describe(include='all')"
   ]
  },
  {
   "cell_type": "code",
   "execution_count": 5,
   "metadata": {},
   "outputs": [
    {
     "data": {
      "text/plain": [
       "(1106, 11)"
      ]
     },
     "execution_count": 5,
     "metadata": {},
     "output_type": "execute_result"
    }
   ],
   "source": [
    "df.shape"
   ]
  },
  {
   "cell_type": "code",
   "execution_count": 6,
   "metadata": {},
   "outputs": [
    {
     "data": {
      "text/plain": [
       "data_source_link_url    object\n",
       "description             object\n",
       "date                    object\n",
       "locations               object\n",
       "estimated_cost          object\n",
       "victims                 object\n",
       "type_of_malware         object\n",
       "threat_source           object\n",
       "industries              object\n",
       "impacts                 object\n",
       "references              object\n",
       "dtype: object"
      ]
     },
     "execution_count": 6,
     "metadata": {},
     "output_type": "execute_result"
    }
   ],
   "source": [
    "df.dtypes"
   ]
  },
  {
   "cell_type": "code",
   "execution_count": 7,
   "metadata": {},
   "outputs": [
    {
     "data": {
      "text/plain": [
       "Index(['data_source_link_url', 'description', 'date', 'locations', 'estimated_cost', 'victims', 'type_of_malware', 'threat_source', 'industries', 'impacts', 'references'], dtype='object')"
      ]
     },
     "execution_count": 7,
     "metadata": {},
     "output_type": "execute_result"
    }
   ],
   "source": [
    "df.columns"
   ]
  },
  {
   "cell_type": "markdown",
   "metadata": {},
   "source": [
    "A continuación, se incluye una breve explicación sobre la información que aporta cada columna.\n",
    "1. **Description**: Una breve descripción del incidente de ciberseguridad.\n",
    "2. **Date**: La fecha en que se produjo o descubrió el incidente. Esto ayuda a comprender la cronología del ataque y analizar las tendencias.\n",
    "3. **Locations**: Una lista de ubicaciones geográficas afectadas por el incidente, normalmente representadas por países o regiones.\n",
    "4. **Estimated cost**: El impacto financiero estimado del ataque, que puede incluir pérdidas financieras directas, costes de recuperación o rescates pagados.\n",
    "5. **Victims**: Detalles sobre las víctimas del ataque, normalmente organizaciones o empresas afectadas.\n",
    "6. **Type of Malware**: El tipo de malware utilizado en el ataque, si se ha identificado.\n",
    "7. **Threat source**: La fuente o actor detrás de la amenaza, como un grupo de hackers o un actor patrocinado por el Estado.\n",
    "8. **Industries**: Las industrias afectadas por el ataque, como la automoción, la fabricación, el gobierno, etc. Esto ayuda a identificar los sectores objetivo del ataque.\n",
    "9. **Impacts**: Los tipos de impactos del ataque, como la interrupción de las operaciones de TI, OT (tecnología operativa) o problemas de privacidad (exfiltración de datos).\n",
    "10. **References**: Referencias adicionales al incidente, que pueden incluir enlaces a artículos de noticias o informes más detallados del incidente.\n",
    "11. **Data source link url**: El enlace a la fuente primaria de información sobre el incidente, normalmente un informe o artículo en un sitio web relevante.\n"
   ]
  },
  {
   "cell_type": "code",
   "execution_count": 8,
   "metadata": {},
   "outputs": [
    {
     "data": {
      "text/html": [
       "<div>\n",
       "<style scoped>\n",
       "    .dataframe tbody tr th:only-of-type {\n",
       "        vertical-align: middle;\n",
       "    }\n",
       "\n",
       "    .dataframe tbody tr th {\n",
       "        vertical-align: top;\n",
       "    }\n",
       "\n",
       "    .dataframe thead th {\n",
       "        text-align: right;\n",
       "    }\n",
       "</style>\n",
       "<table border=\"1\" class=\"dataframe\">\n",
       "  <thead>\n",
       "    <tr style=\"text-align: right;\">\n",
       "      <th></th>\n",
       "      <th>data_source_link_url</th>\n",
       "      <th>description</th>\n",
       "      <th>date</th>\n",
       "      <th>locations</th>\n",
       "      <th>estimated_cost</th>\n",
       "      <th>victims</th>\n",
       "      <th>type_of_malware</th>\n",
       "      <th>threat_source</th>\n",
       "      <th>industries</th>\n",
       "      <th>impacts</th>\n",
       "      <th>references</th>\n",
       "    </tr>\n",
       "  </thead>\n",
       "  <tbody>\n",
       "    <tr>\n",
       "      <th>0</th>\n",
       "      <td>https://icsstrive.com/incident/operational-imp...</td>\n",
       "      <td>ALPS' North American production operations and...</td>\n",
       "      <td>September 10, 2023</td>\n",
       "      <td>['Japan', 'United States']</td>\n",
       "      <td>Partially impacted North American production a...</td>\n",
       "      <td>[{'title': 'Alps Alpine Group', 'link_url': 'h...</td>\n",
       "      <td>No Malware identified</td>\n",
       "      <td>[{'title': 'BlackByte', 'link_url': 'https://i...</td>\n",
       "      <td>['Automotive', 'Manufacturing']</td>\n",
       "      <td>OT IT</td>\n",
       "      <td>[{'title': 'Cyber Incident Victim: Alps Alpine...</td>\n",
       "    </tr>\n",
       "    <tr>\n",
       "      <th>1</th>\n",
       "      <td>https://icsstrive.com/incident/framework-lapto...</td>\n",
       "      <td>San Francisco, California-based Framework, the...</td>\n",
       "      <td>January 9, 2024</td>\n",
       "      <td>['United States']</td>\n",
       "      <td>Unknown as it seems PII was stolen</td>\n",
       "      <td>[{'title': 'Framework', 'link_url': 'https://i...</td>\n",
       "      <td>No Malware identified</td>\n",
       "      <td>No threat source identified</td>\n",
       "      <td>['Technology']</td>\n",
       "      <td>IT</td>\n",
       "      <td>[{'title': 'Laptop Maker Framework Says Custom...</td>\n",
       "    </tr>\n",
       "    <tr>\n",
       "      <th>2</th>\n",
       "      <td>https://icsstrive.com/incident/clothing-provid...</td>\n",
       "      <td>After suffering a cyberattack December 13, V.F...</td>\n",
       "      <td>December 13, 2023</td>\n",
       "      <td>['United States']</td>\n",
       "      <td>Cost not known, 35.5 million customers persona...</td>\n",
       "      <td>[{'title': 'V.F. Corporation', 'link_url': 'ht...</td>\n",
       "      <td>No Malware identified</td>\n",
       "      <td>No threat source identified</td>\n",
       "      <td>['Manufacturing']</td>\n",
       "      <td>IT</td>\n",
       "      <td>[{'title': 'Clothing Brand, V.F. Corp., Hack H...</td>\n",
       "    </tr>\n",
       "  </tbody>\n",
       "</table>\n",
       "</div>"
      ],
      "text/plain": [
       "                                data_source_link_url                                        description                date                   locations                                     estimated_cost                                            victims        type_of_malware                                      threat_source                       industries impacts                                         references\n",
       "0  https://icsstrive.com/incident/operational-imp...  ALPS' North American production operations and...  September 10, 2023  ['Japan', 'United States']  Partially impacted North American production a...  [{'title': 'Alps Alpine Group', 'link_url': 'h...  No Malware identified  [{'title': 'BlackByte', 'link_url': 'https://i...  ['Automotive', 'Manufacturing']   OT IT  [{'title': 'Cyber Incident Victim: Alps Alpine...\n",
       "1  https://icsstrive.com/incident/framework-lapto...  San Francisco, California-based Framework, the...     January 9, 2024           ['United States']                 Unknown as it seems PII was stolen  [{'title': 'Framework', 'link_url': 'https://i...  No Malware identified                        No threat source identified                   ['Technology']      IT  [{'title': 'Laptop Maker Framework Says Custom...\n",
       "2  https://icsstrive.com/incident/clothing-provid...  After suffering a cyberattack December 13, V.F...   December 13, 2023           ['United States']  Cost not known, 35.5 million customers persona...  [{'title': 'V.F. Corporation', 'link_url': 'ht...  No Malware identified                        No threat source identified                ['Manufacturing']      IT  [{'title': 'Clothing Brand, V.F. Corp., Hack H..."
      ]
     },
     "execution_count": 8,
     "metadata": {},
     "output_type": "execute_result"
    }
   ],
   "source": [
    "df.head(3)"
   ]
  },
  {
   "cell_type": "markdown",
   "metadata": {},
   "source": [
    "Separaremos la columna **Date** en componentes de día, mes y año, cada uno de ellos como una columna diferente, convirtiéndola en un formato de fecha."
   ]
  },
  {
   "cell_type": "code",
   "execution_count": 9,
   "metadata": {},
   "outputs": [],
   "source": [
    "df['date'] = pd.to_datetime(df['date'])"
   ]
  },
  {
   "cell_type": "code",
   "execution_count": 10,
   "metadata": {},
   "outputs": [],
   "source": [
    "df['year'] = df['date'].dt.year\n",
    "df['month'] = df['date'].dt.month\n",
    "df['day'] = df['date'].dt.day"
   ]
  },
  {
   "cell_type": "code",
   "execution_count": 11,
   "metadata": {},
   "outputs": [],
   "source": [
    "df.drop('date', axis = 1, inplace = True)"
   ]
  },
  {
   "cell_type": "code",
   "execution_count": 12,
   "metadata": {},
   "outputs": [
    {
     "data": {
      "text/html": [
       "<div>\n",
       "<style scoped>\n",
       "    .dataframe tbody tr th:only-of-type {\n",
       "        vertical-align: middle;\n",
       "    }\n",
       "\n",
       "    .dataframe tbody tr th {\n",
       "        vertical-align: top;\n",
       "    }\n",
       "\n",
       "    .dataframe thead th {\n",
       "        text-align: right;\n",
       "    }\n",
       "</style>\n",
       "<table border=\"1\" class=\"dataframe\">\n",
       "  <thead>\n",
       "    <tr style=\"text-align: right;\">\n",
       "      <th></th>\n",
       "      <th>data_source_link_url</th>\n",
       "      <th>description</th>\n",
       "      <th>locations</th>\n",
       "      <th>estimated_cost</th>\n",
       "      <th>victims</th>\n",
       "      <th>type_of_malware</th>\n",
       "      <th>threat_source</th>\n",
       "      <th>industries</th>\n",
       "      <th>impacts</th>\n",
       "      <th>references</th>\n",
       "      <th>year</th>\n",
       "      <th>month</th>\n",
       "      <th>day</th>\n",
       "    </tr>\n",
       "  </thead>\n",
       "  <tbody>\n",
       "    <tr>\n",
       "      <th>0</th>\n",
       "      <td>https://icsstrive.com/incident/operational-imp...</td>\n",
       "      <td>ALPS' North American production operations and...</td>\n",
       "      <td>['Japan', 'United States']</td>\n",
       "      <td>Partially impacted North American production a...</td>\n",
       "      <td>[{'title': 'Alps Alpine Group', 'link_url': 'h...</td>\n",
       "      <td>No Malware identified</td>\n",
       "      <td>[{'title': 'BlackByte', 'link_url': 'https://i...</td>\n",
       "      <td>['Automotive', 'Manufacturing']</td>\n",
       "      <td>OT IT</td>\n",
       "      <td>[{'title': 'Cyber Incident Victim: Alps Alpine...</td>\n",
       "      <td>2023</td>\n",
       "      <td>9</td>\n",
       "      <td>10</td>\n",
       "    </tr>\n",
       "    <tr>\n",
       "      <th>1</th>\n",
       "      <td>https://icsstrive.com/incident/framework-lapto...</td>\n",
       "      <td>San Francisco, California-based Framework, the...</td>\n",
       "      <td>['United States']</td>\n",
       "      <td>Unknown as it seems PII was stolen</td>\n",
       "      <td>[{'title': 'Framework', 'link_url': 'https://i...</td>\n",
       "      <td>No Malware identified</td>\n",
       "      <td>No threat source identified</td>\n",
       "      <td>['Technology']</td>\n",
       "      <td>IT</td>\n",
       "      <td>[{'title': 'Laptop Maker Framework Says Custom...</td>\n",
       "      <td>2024</td>\n",
       "      <td>1</td>\n",
       "      <td>9</td>\n",
       "    </tr>\n",
       "  </tbody>\n",
       "</table>\n",
       "</div>"
      ],
      "text/plain": [
       "                                data_source_link_url                                        description                   locations                                     estimated_cost                                            victims        type_of_malware                                      threat_source                       industries impacts                                         references  year  month  day\n",
       "0  https://icsstrive.com/incident/operational-imp...  ALPS' North American production operations and...  ['Japan', 'United States']  Partially impacted North American production a...  [{'title': 'Alps Alpine Group', 'link_url': 'h...  No Malware identified  [{'title': 'BlackByte', 'link_url': 'https://i...  ['Automotive', 'Manufacturing']   OT IT  [{'title': 'Cyber Incident Victim: Alps Alpine...  2023      9   10\n",
       "1  https://icsstrive.com/incident/framework-lapto...  San Francisco, California-based Framework, the...           ['United States']                 Unknown as it seems PII was stolen  [{'title': 'Framework', 'link_url': 'https://i...  No Malware identified                        No threat source identified                   ['Technology']      IT  [{'title': 'Laptop Maker Framework Says Custom...  2024      1    9"
      ]
     },
     "execution_count": 12,
     "metadata": {},
     "output_type": "execute_result"
    }
   ],
   "source": [
    "df.head(2)"
   ]
  },
  {
   "cell_type": "markdown",
   "metadata": {},
   "source": [
    "## Limpieza de datos."
   ]
  },
  {
   "cell_type": "markdown",
   "metadata": {},
   "source": [
    "### Manejo de filas duplicadas.\n",
    "En caso de haber filas duplicadas, deberemos de eliminar estas para que no afecten al análisis posterior."
   ]
  },
  {
   "cell_type": "code",
   "execution_count": 13,
   "metadata": {},
   "outputs": [
    {
     "data": {
      "text/plain": [
       "np.int64(48)"
      ]
     },
     "execution_count": 13,
     "metadata": {},
     "output_type": "execute_result"
    }
   ],
   "source": [
    "df.duplicated().sum() # Columnas duplicadas"
   ]
  },
  {
   "cell_type": "code",
   "execution_count": 14,
   "metadata": {},
   "outputs": [],
   "source": [
    "df.drop_duplicates(inplace = True)"
   ]
  },
  {
   "cell_type": "code",
   "execution_count": 15,
   "metadata": {},
   "outputs": [
    {
     "data": {
      "text/plain": [
       "(1058, 13)"
      ]
     },
     "execution_count": 15,
     "metadata": {},
     "output_type": "execute_result"
    }
   ],
   "source": [
    "df.shape"
   ]
  },
  {
   "cell_type": "markdown",
   "metadata": {},
   "source": [
    "### Manejo de filas nulas."
   ]
  },
  {
   "cell_type": "code",
   "execution_count": 16,
   "metadata": {},
   "outputs": [
    {
     "data": {
      "text/plain": [
       "data_source_link_url      0\n",
       "description               0\n",
       "locations                 0\n",
       "estimated_cost            0\n",
       "victims                   0\n",
       "type_of_malware           0\n",
       "threat_source             0\n",
       "industries                0\n",
       "impacts                 336\n",
       "references                0\n",
       "year                      0\n",
       "month                     0\n",
       "day                       0\n",
       "dtype: int64"
      ]
     },
     "execution_count": 16,
     "metadata": {},
     "output_type": "execute_result"
    }
   ],
   "source": [
    "df.isnull().sum()"
   ]
  },
  {
   "cell_type": "markdown",
   "metadata": {},
   "source": [
    "Como estos valores nulos son pocos, los rellenaremos con la moda en este caso ya que es una variable de tipo objeto."
   ]
  },
  {
   "cell_type": "code",
   "execution_count": 17,
   "metadata": {},
   "outputs": [
    {
     "name": "stderr",
     "output_type": "stream",
     "text": [
      "C:\\Users\\ale_m\\AppData\\Local\\Temp\\ipykernel_39776\\3781718338.py:1: FutureWarning: A value is trying to be set on a copy of a DataFrame or Series through chained assignment using an inplace method.\n",
      "The behavior will change in pandas 3.0. This inplace method will never work because the intermediate object on which we are setting values always behaves as a copy.\n",
      "\n",
      "For example, when doing 'df[col].method(value, inplace=True)', try using 'df.method({col: value}, inplace=True)' or df[col] = df[col].method(value) instead, to perform the operation inplace on the original object.\n",
      "\n",
      "\n",
      "  df['impacts'].fillna(df['impacts'].mode()[0], inplace=True)\n"
     ]
    }
   ],
   "source": [
    "df['impacts'].fillna(df['impacts'].mode()[0], inplace=True)"
   ]
  },
  {
   "cell_type": "code",
   "execution_count": 18,
   "metadata": {},
   "outputs": [
    {
     "data": {
      "text/plain": [
       "1058"
      ]
     },
     "execution_count": 18,
     "metadata": {},
     "output_type": "execute_result"
    }
   ],
   "source": [
    "df.shape[0]"
   ]
  },
  {
   "cell_type": "markdown",
   "metadata": {},
   "source": [
    "### Selección de variables categóricas y continuas.\n",
    "Para realizar correctamente un ánalisis de datos debemos de distinguir entre las variables categóricas, variables que representan diferentes categorías o grupos, y continuas, variables que pueden tomar cualquier valor dentro de un rango determinado."
   ]
  },
  {
   "cell_type": "code",
   "execution_count": 19,
   "metadata": {},
   "outputs": [
    {
     "name": "stdout",
     "output_type": "stream",
     "text": [
      "Variables continuas: data_source_link_url, description, locations, estimated_cost, victims, threat_source, industries, references\n",
      "Variables categóricas: type_of_malware, impacts, year, month, day\n"
     ]
    }
   ],
   "source": [
    "v_continuas = []\n",
    "v_categoricas = []\n",
    "for i in df.columns:\n",
    "    if df[i].nunique() > 70 or df[i].dtypes in ['float64', 'int64']:\n",
    "        v_continuas.append(i)\n",
    "    else:\n",
    "        v_categoricas.append(i)\n",
    "\n",
    "print('Variables continuas: {}'.format(', '.join(v_continuas)))\n",
    "print('Variables categóricas: {}'.format(', '.join(v_categoricas)))"
   ]
  },
  {
   "cell_type": "markdown",
   "metadata": {},
   "source": [
    "#### Tratamiento de variables categóricas.\n",
    "Para el posterior modelo de clasificación, necesitamos codificar nuestras variables. Para ello, realizaremos una codificación ordinal que consiste en asignar valores enteros a las categorias basándose en su posición o jerarquía en los datos."
   ]
  },
  {
   "cell_type": "code",
   "execution_count": 20,
   "metadata": {},
   "outputs": [
    {
     "data": {
      "text/html": [
       "<div>\n",
       "<style scoped>\n",
       "    .dataframe tbody tr th:only-of-type {\n",
       "        vertical-align: middle;\n",
       "    }\n",
       "\n",
       "    .dataframe tbody tr th {\n",
       "        vertical-align: top;\n",
       "    }\n",
       "\n",
       "    .dataframe thead th {\n",
       "        text-align: right;\n",
       "    }\n",
       "</style>\n",
       "<table border=\"1\" class=\"dataframe\">\n",
       "  <thead>\n",
       "    <tr style=\"text-align: right;\">\n",
       "      <th></th>\n",
       "      <th>type_of_malware</th>\n",
       "      <th>impacts</th>\n",
       "      <th>year</th>\n",
       "      <th>month</th>\n",
       "      <th>day</th>\n",
       "    </tr>\n",
       "  </thead>\n",
       "  <tbody>\n",
       "    <tr>\n",
       "      <th>0</th>\n",
       "      <td>No Malware identified</td>\n",
       "      <td>OT IT</td>\n",
       "      <td>2023</td>\n",
       "      <td>9</td>\n",
       "      <td>10</td>\n",
       "    </tr>\n",
       "    <tr>\n",
       "      <th>1</th>\n",
       "      <td>No Malware identified</td>\n",
       "      <td>IT</td>\n",
       "      <td>2024</td>\n",
       "      <td>1</td>\n",
       "      <td>9</td>\n",
       "    </tr>\n",
       "    <tr>\n",
       "      <th>2</th>\n",
       "      <td>No Malware identified</td>\n",
       "      <td>IT</td>\n",
       "      <td>2023</td>\n",
       "      <td>12</td>\n",
       "      <td>13</td>\n",
       "    </tr>\n",
       "  </tbody>\n",
       "</table>\n",
       "</div>"
      ],
      "text/plain": [
       "         type_of_malware impacts  year  month  day\n",
       "0  No Malware identified   OT IT  2023      9   10\n",
       "1  No Malware identified      IT  2024      1    9\n",
       "2  No Malware identified      IT  2023     12   13"
      ]
     },
     "execution_count": 20,
     "metadata": {},
     "output_type": "execute_result"
    }
   ],
   "source": [
    "df[v_categoricas].head(3)"
   ]
  },
  {
   "cell_type": "markdown",
   "metadata": {},
   "source": [
    "##### **Impact.**\n",
    "El proceso consiste en agrupar los valores de la columna **Impacts** en categorías correspondientes. Como algunos valores pueden pertenecer a varias categorías, se realiza una asignación múltiple. Luego, se crean variables dummies para representar esas categorías, marcando con `1` las categorías presentes en cada fila. Esto facilita el análisis de datos en un formato adecuado para modelos y algoritmos."
   ]
  },
  {
   "cell_type": "code",
   "execution_count": 21,
   "metadata": {},
   "outputs": [
    {
     "data": {
      "text/plain": [
       "array(['OT IT', 'IT', 'IT Privacy', 'OT', 'Privacy', 'OT Privacy',\n",
       "       'OT IT Privacy', ' IT', ' OT IT', ' IT Privacy', ' IT Safety',\n",
       "       ' IT Safety Privacy'], dtype=object)"
      ]
     },
     "execution_count": 21,
     "metadata": {},
     "output_type": "execute_result"
    }
   ],
   "source": [
    "df['impacts'].unique()"
   ]
  },
  {
   "cell_type": "code",
   "execution_count": 22,
   "metadata": {},
   "outputs": [],
   "source": [
    "df['impacts'] = df['impacts'].str.strip() # Eliminar espacios en blanco."
   ]
  },
  {
   "cell_type": "code",
   "execution_count": 23,
   "metadata": {},
   "outputs": [],
   "source": [
    "impact_category_mapping = {\n",
    "    \"IT\": [\"IT\", \"IT Privacy\", \"IT Safety\", \"IT Safety Privacy\", \"OT IT\"],\n",
    "    \"OT\": [\"OT\", \"OT Privacy\", \"OT IT\"],\n",
    "    \"Privacy\": [\"Privacy\", \"OT Privacy\", \"IT Privacy\"],\n",
    "}"
   ]
  },
  {
   "cell_type": "code",
   "execution_count": 24,
   "metadata": {},
   "outputs": [],
   "source": [
    "def map_categories(value, mapping):\n",
    "    categories = []\n",
    "    for category, terms in mapping.items():\n",
    "        if any(term.strip() in value.split() for term in terms):\n",
    "            categories.append(category)\n",
    "    return categories"
   ]
  },
  {
   "cell_type": "code",
   "execution_count": 25,
   "metadata": {},
   "outputs": [],
   "source": [
    "df['impacts'] = df['impacts'].apply(lambda x: ', '.join(set(map_categories(x, impact_category_mapping))))"
   ]
  },
  {
   "cell_type": "code",
   "execution_count": 26,
   "metadata": {},
   "outputs": [],
   "source": [
    "df_impacts = df['impacts'].str.get_dummies(sep=', ')\n",
    "df_impacts = df_impacts.add_prefix('impacts_')"
   ]
  },
  {
   "cell_type": "code",
   "execution_count": 27,
   "metadata": {},
   "outputs": [
    {
     "data": {
      "text/html": [
       "<div>\n",
       "<style scoped>\n",
       "    .dataframe tbody tr th:only-of-type {\n",
       "        vertical-align: middle;\n",
       "    }\n",
       "\n",
       "    .dataframe tbody tr th {\n",
       "        vertical-align: top;\n",
       "    }\n",
       "\n",
       "    .dataframe thead th {\n",
       "        text-align: right;\n",
       "    }\n",
       "</style>\n",
       "<table border=\"1\" class=\"dataframe\">\n",
       "  <thead>\n",
       "    <tr style=\"text-align: right;\">\n",
       "      <th></th>\n",
       "      <th>impacts_IT</th>\n",
       "      <th>impacts_OT</th>\n",
       "      <th>impacts_Privacy</th>\n",
       "    </tr>\n",
       "  </thead>\n",
       "  <tbody>\n",
       "    <tr>\n",
       "      <th>0</th>\n",
       "      <td>1</td>\n",
       "      <td>1</td>\n",
       "      <td>0</td>\n",
       "    </tr>\n",
       "    <tr>\n",
       "      <th>1</th>\n",
       "      <td>1</td>\n",
       "      <td>0</td>\n",
       "      <td>0</td>\n",
       "    </tr>\n",
       "    <tr>\n",
       "      <th>2</th>\n",
       "      <td>1</td>\n",
       "      <td>0</td>\n",
       "      <td>0</td>\n",
       "    </tr>\n",
       "  </tbody>\n",
       "</table>\n",
       "</div>"
      ],
      "text/plain": [
       "   impacts_IT  impacts_OT  impacts_Privacy\n",
       "0           1           1                0\n",
       "1           1           0                0\n",
       "2           1           0                0"
      ]
     },
     "execution_count": 27,
     "metadata": {},
     "output_type": "execute_result"
    }
   ],
   "source": [
    "df_impacts.head(3)"
   ]
  },
  {
   "cell_type": "markdown",
   "metadata": {},
   "source": [
    "El siguiente código se ha agregado para lograr que las columnas codificadas se agreguen justo después de la columna original, de manera que sea más fácil ver a qué se le ha asignado el valor codificado."
   ]
  },
  {
   "cell_type": "code",
   "execution_count": 28,
   "metadata": {},
   "outputs": [],
   "source": [
    "idx = df.columns.get_loc('impacts') + 1\n",
    "\n",
    "df_before = df.iloc[:, :idx]\n",
    "df_after = df.iloc[:, idx:]\n",
    "\n",
    "df = pd.concat([df_before, df_impacts, df_after], axis=1)"
   ]
  },
  {
   "cell_type": "code",
   "execution_count": 29,
   "metadata": {},
   "outputs": [
    {
     "data": {
      "text/html": [
       "<div>\n",
       "<style scoped>\n",
       "    .dataframe tbody tr th:only-of-type {\n",
       "        vertical-align: middle;\n",
       "    }\n",
       "\n",
       "    .dataframe tbody tr th {\n",
       "        vertical-align: top;\n",
       "    }\n",
       "\n",
       "    .dataframe thead th {\n",
       "        text-align: right;\n",
       "    }\n",
       "</style>\n",
       "<table border=\"1\" class=\"dataframe\">\n",
       "  <thead>\n",
       "    <tr style=\"text-align: right;\">\n",
       "      <th></th>\n",
       "      <th>data_source_link_url</th>\n",
       "      <th>description</th>\n",
       "      <th>locations</th>\n",
       "      <th>estimated_cost</th>\n",
       "      <th>victims</th>\n",
       "      <th>type_of_malware</th>\n",
       "      <th>threat_source</th>\n",
       "      <th>industries</th>\n",
       "      <th>impacts</th>\n",
       "      <th>impacts_IT</th>\n",
       "      <th>impacts_OT</th>\n",
       "      <th>impacts_Privacy</th>\n",
       "      <th>references</th>\n",
       "      <th>year</th>\n",
       "      <th>month</th>\n",
       "      <th>day</th>\n",
       "    </tr>\n",
       "  </thead>\n",
       "  <tbody>\n",
       "    <tr>\n",
       "      <th>0</th>\n",
       "      <td>https://icsstrive.com/incident/operational-imp...</td>\n",
       "      <td>ALPS' North American production operations and...</td>\n",
       "      <td>['Japan', 'United States']</td>\n",
       "      <td>Partially impacted North American production a...</td>\n",
       "      <td>[{'title': 'Alps Alpine Group', 'link_url': 'h...</td>\n",
       "      <td>No Malware identified</td>\n",
       "      <td>[{'title': 'BlackByte', 'link_url': 'https://i...</td>\n",
       "      <td>['Automotive', 'Manufacturing']</td>\n",
       "      <td>OT, IT</td>\n",
       "      <td>1</td>\n",
       "      <td>1</td>\n",
       "      <td>0</td>\n",
       "      <td>[{'title': 'Cyber Incident Victim: Alps Alpine...</td>\n",
       "      <td>2023</td>\n",
       "      <td>9</td>\n",
       "      <td>10</td>\n",
       "    </tr>\n",
       "    <tr>\n",
       "      <th>1</th>\n",
       "      <td>https://icsstrive.com/incident/framework-lapto...</td>\n",
       "      <td>San Francisco, California-based Framework, the...</td>\n",
       "      <td>['United States']</td>\n",
       "      <td>Unknown as it seems PII was stolen</td>\n",
       "      <td>[{'title': 'Framework', 'link_url': 'https://i...</td>\n",
       "      <td>No Malware identified</td>\n",
       "      <td>No threat source identified</td>\n",
       "      <td>['Technology']</td>\n",
       "      <td>IT</td>\n",
       "      <td>1</td>\n",
       "      <td>0</td>\n",
       "      <td>0</td>\n",
       "      <td>[{'title': 'Laptop Maker Framework Says Custom...</td>\n",
       "      <td>2024</td>\n",
       "      <td>1</td>\n",
       "      <td>9</td>\n",
       "    </tr>\n",
       "    <tr>\n",
       "      <th>2</th>\n",
       "      <td>https://icsstrive.com/incident/clothing-provid...</td>\n",
       "      <td>After suffering a cyberattack December 13, V.F...</td>\n",
       "      <td>['United States']</td>\n",
       "      <td>Cost not known, 35.5 million customers persona...</td>\n",
       "      <td>[{'title': 'V.F. Corporation', 'link_url': 'ht...</td>\n",
       "      <td>No Malware identified</td>\n",
       "      <td>No threat source identified</td>\n",
       "      <td>['Manufacturing']</td>\n",
       "      <td>IT</td>\n",
       "      <td>1</td>\n",
       "      <td>0</td>\n",
       "      <td>0</td>\n",
       "      <td>[{'title': 'Clothing Brand, V.F. Corp., Hack H...</td>\n",
       "      <td>2023</td>\n",
       "      <td>12</td>\n",
       "      <td>13</td>\n",
       "    </tr>\n",
       "    <tr>\n",
       "      <th>3</th>\n",
       "      <td>https://icsstrive.com/incident/hackers-accesse...</td>\n",
       "      <td>Toyota Financial Services (TFS) is warning cus...</td>\n",
       "      <td>['Germany']</td>\n",
       "      <td>No cost values disclosed.</td>\n",
       "      <td>[{'title': 'Toyota Financial Services, subs. o...</td>\n",
       "      <td>No Malware identified</td>\n",
       "      <td>No threat source identified</td>\n",
       "      <td>['Automotive']</td>\n",
       "      <td>Privacy, IT</td>\n",
       "      <td>1</td>\n",
       "      <td>0</td>\n",
       "      <td>1</td>\n",
       "      <td>[{'title': 'Toyota warns customers of data bre...</td>\n",
       "      <td>2023</td>\n",
       "      <td>12</td>\n",
       "      <td>11</td>\n",
       "    </tr>\n",
       "  </tbody>\n",
       "</table>\n",
       "</div>"
      ],
      "text/plain": [
       "                                data_source_link_url                                        description                   locations                                     estimated_cost                                            victims        type_of_malware                                      threat_source                       industries      impacts  impacts_IT  impacts_OT  impacts_Privacy                                         references  year  month  day\n",
       "0  https://icsstrive.com/incident/operational-imp...  ALPS' North American production operations and...  ['Japan', 'United States']  Partially impacted North American production a...  [{'title': 'Alps Alpine Group', 'link_url': 'h...  No Malware identified  [{'title': 'BlackByte', 'link_url': 'https://i...  ['Automotive', 'Manufacturing']       OT, IT           1           1                0  [{'title': 'Cyber Incident Victim: Alps Alpine...  2023      9   10\n",
       "1  https://icsstrive.com/incident/framework-lapto...  San Francisco, California-based Framework, the...           ['United States']                 Unknown as it seems PII was stolen  [{'title': 'Framework', 'link_url': 'https://i...  No Malware identified                        No threat source identified                   ['Technology']           IT           1           0                0  [{'title': 'Laptop Maker Framework Says Custom...  2024      1    9\n",
       "2  https://icsstrive.com/incident/clothing-provid...  After suffering a cyberattack December 13, V.F...           ['United States']  Cost not known, 35.5 million customers persona...  [{'title': 'V.F. Corporation', 'link_url': 'ht...  No Malware identified                        No threat source identified                ['Manufacturing']           IT           1           0                0  [{'title': 'Clothing Brand, V.F. Corp., Hack H...  2023     12   13\n",
       "3  https://icsstrive.com/incident/hackers-accesse...  Toyota Financial Services (TFS) is warning cus...                 ['Germany']                          No cost values disclosed.  [{'title': 'Toyota Financial Services, subs. o...  No Malware identified                        No threat source identified                   ['Automotive']  Privacy, IT           1           0                1  [{'title': 'Toyota warns customers of data bre...  2023     12   11"
      ]
     },
     "execution_count": 29,
     "metadata": {},
     "output_type": "execute_result"
    }
   ],
   "source": [
    "df.head(4)"
   ]
  },
  {
   "cell_type": "markdown",
   "metadata": {},
   "source": [
    "##### **Type of Malware.**\n",
    "El proceso consiste en convertir las cadenas de la columna, que pueden representar listas de diccionarios, en estructuras adecuadas para extraer la información relevante.\n",
    "\n",
    "Primero, las cadenas se convierten en listas de diccionarios, manejando posibles errores de formato mediante excepciones para evitar fallos. Cuando la conversión es exitosa, se extraen los valores de las claves `title` y `link_url` de los diccionarios dentro de la lista, asignando valores predeterminados como `No Malware Detected` si no se encuentran datos. Esto permite crear dos nuevas columnas: **Malware title** y **Malware URL**."
   ]
  },
  {
   "cell_type": "code",
   "execution_count": 30,
   "metadata": {},
   "outputs": [
    {
     "data": {
      "text/plain": [
       "array(['No Malware identified',\n",
       "       \"[{'title': 'LockBit', 'link_url': 'https://icsstrive.com/malware/lockbit/'}]\",\n",
       "       \"[{'title': 'Unknown', 'link_url': 'https://icsstrive.com/malware/unknown-2/'}]\",\n",
       "       \"[{'title': 'DDoS Attack', 'link_url': 'https://icsstrive.com/malware/ddos-attack/'}]\"],\n",
       "      dtype=object)"
      ]
     },
     "execution_count": 30,
     "metadata": {},
     "output_type": "execute_result"
    }
   ],
   "source": [
    "df['type_of_malware'].unique()[0:4]"
   ]
  },
  {
   "cell_type": "code",
   "execution_count": 31,
   "metadata": {},
   "outputs": [
    {
     "data": {
      "text/plain": [
       "(830, 16)"
      ]
     },
     "execution_count": 31,
     "metadata": {},
     "output_type": "execute_result"
    }
   ],
   "source": [
    "df[df['type_of_malware'] == 'No Malware identified'].shape"
   ]
  },
  {
   "cell_type": "code",
   "execution_count": 32,
   "metadata": {},
   "outputs": [],
   "source": [
    "def safely_parse(value):\n",
    "    try:\n",
    "        return ast.literal_eval(value) if isinstance(value, str) else value\n",
    "    except:\n",
    "        return []"
   ]
  },
  {
   "cell_type": "code",
   "execution_count": 33,
   "metadata": {},
   "outputs": [],
   "source": [
    "df['type_of_malware'] = df['type_of_malware'].apply(safely_parse)"
   ]
  },
  {
   "cell_type": "code",
   "execution_count": 34,
   "metadata": {},
   "outputs": [],
   "source": [
    "df['malware_title'] = df['type_of_malware'].apply(lambda x: x[0]['title'] if isinstance(x, list) and x else 'No Malware identified')\n",
    "df['malware_url'] = df['type_of_malware'].apply(lambda x: x[0]['link_url'] if isinstance(x, list) and x else 'No Malware identified')"
   ]
  },
  {
   "cell_type": "markdown",
   "metadata": {},
   "source": [
    "El siguiente código se ha agregado para lograr que las columnas codificadas se agreguen justo después de la columna original, de manera que sea más fácil ver a qué se le ha asignado el valor codificado."
   ]
  },
  {
   "cell_type": "code",
   "execution_count": 35,
   "metadata": {},
   "outputs": [],
   "source": [
    "columns = df.columns.tolist()\n",
    "idx = columns.index('type_of_malware')\n",
    "\n",
    "columns = columns[:idx + 1] + ['malware_title', 'malware_url'] + columns[idx + 1:-2]\n",
    "df = df[columns]"
   ]
  },
  {
   "cell_type": "code",
   "execution_count": 36,
   "metadata": {},
   "outputs": [
    {
     "data": {
      "text/html": [
       "<div>\n",
       "<style scoped>\n",
       "    .dataframe tbody tr th:only-of-type {\n",
       "        vertical-align: middle;\n",
       "    }\n",
       "\n",
       "    .dataframe tbody tr th {\n",
       "        vertical-align: top;\n",
       "    }\n",
       "\n",
       "    .dataframe thead th {\n",
       "        text-align: right;\n",
       "    }\n",
       "</style>\n",
       "<table border=\"1\" class=\"dataframe\">\n",
       "  <thead>\n",
       "    <tr style=\"text-align: right;\">\n",
       "      <th></th>\n",
       "      <th>data_source_link_url</th>\n",
       "      <th>description</th>\n",
       "      <th>locations</th>\n",
       "      <th>estimated_cost</th>\n",
       "      <th>victims</th>\n",
       "      <th>type_of_malware</th>\n",
       "      <th>malware_title</th>\n",
       "      <th>malware_url</th>\n",
       "      <th>threat_source</th>\n",
       "      <th>industries</th>\n",
       "      <th>impacts</th>\n",
       "      <th>impacts_IT</th>\n",
       "      <th>impacts_OT</th>\n",
       "      <th>impacts_Privacy</th>\n",
       "      <th>references</th>\n",
       "      <th>year</th>\n",
       "      <th>month</th>\n",
       "      <th>day</th>\n",
       "    </tr>\n",
       "  </thead>\n",
       "  <tbody>\n",
       "    <tr>\n",
       "      <th>0</th>\n",
       "      <td>https://icsstrive.com/incident/operational-imp...</td>\n",
       "      <td>ALPS' North American production operations and...</td>\n",
       "      <td>['Japan', 'United States']</td>\n",
       "      <td>Partially impacted North American production a...</td>\n",
       "      <td>[{'title': 'Alps Alpine Group', 'link_url': 'h...</td>\n",
       "      <td>[]</td>\n",
       "      <td>No Malware identified</td>\n",
       "      <td>No Malware identified</td>\n",
       "      <td>[{'title': 'BlackByte', 'link_url': 'https://i...</td>\n",
       "      <td>['Automotive', 'Manufacturing']</td>\n",
       "      <td>OT, IT</td>\n",
       "      <td>1</td>\n",
       "      <td>1</td>\n",
       "      <td>0</td>\n",
       "      <td>[{'title': 'Cyber Incident Victim: Alps Alpine...</td>\n",
       "      <td>2023</td>\n",
       "      <td>9</td>\n",
       "      <td>10</td>\n",
       "    </tr>\n",
       "    <tr>\n",
       "      <th>1</th>\n",
       "      <td>https://icsstrive.com/incident/framework-lapto...</td>\n",
       "      <td>San Francisco, California-based Framework, the...</td>\n",
       "      <td>['United States']</td>\n",
       "      <td>Unknown as it seems PII was stolen</td>\n",
       "      <td>[{'title': 'Framework', 'link_url': 'https://i...</td>\n",
       "      <td>[]</td>\n",
       "      <td>No Malware identified</td>\n",
       "      <td>No Malware identified</td>\n",
       "      <td>No threat source identified</td>\n",
       "      <td>['Technology']</td>\n",
       "      <td>IT</td>\n",
       "      <td>1</td>\n",
       "      <td>0</td>\n",
       "      <td>0</td>\n",
       "      <td>[{'title': 'Laptop Maker Framework Says Custom...</td>\n",
       "      <td>2024</td>\n",
       "      <td>1</td>\n",
       "      <td>9</td>\n",
       "    </tr>\n",
       "  </tbody>\n",
       "</table>\n",
       "</div>"
      ],
      "text/plain": [
       "                                data_source_link_url                                        description                   locations                                     estimated_cost                                            victims type_of_malware          malware_title            malware_url                                      threat_source                       industries impacts  impacts_IT  impacts_OT  impacts_Privacy                                         references  year  month  day\n",
       "0  https://icsstrive.com/incident/operational-imp...  ALPS' North American production operations and...  ['Japan', 'United States']  Partially impacted North American production a...  [{'title': 'Alps Alpine Group', 'link_url': 'h...              []  No Malware identified  No Malware identified  [{'title': 'BlackByte', 'link_url': 'https://i...  ['Automotive', 'Manufacturing']  OT, IT           1           1                0  [{'title': 'Cyber Incident Victim: Alps Alpine...  2023      9   10\n",
       "1  https://icsstrive.com/incident/framework-lapto...  San Francisco, California-based Framework, the...           ['United States']                 Unknown as it seems PII was stolen  [{'title': 'Framework', 'link_url': 'https://i...              []  No Malware identified  No Malware identified                        No threat source identified                   ['Technology']      IT           1           0                0  [{'title': 'Laptop Maker Framework Says Custom...  2024      1    9"
      ]
     },
     "execution_count": 36,
     "metadata": {},
     "output_type": "execute_result"
    }
   ],
   "source": [
    "df.head(2)"
   ]
  },
  {
   "cell_type": "code",
   "execution_count": 37,
   "metadata": {},
   "outputs": [],
   "source": [
    "df.drop('type_of_malware', axis = 1, inplace = True)"
   ]
  },
  {
   "cell_type": "markdown",
   "metadata": {},
   "source": [
    "**Malware URL.**\n",
    "\n",
    "Deberemos de extraer el nombre del dominio de la URL de la nueva columna **Malware URL**."
   ]
  },
  {
   "cell_type": "code",
   "execution_count": 38,
   "metadata": {},
   "outputs": [],
   "source": [
    "def extract_domain(url):\n",
    "    try:\n",
    "        if not url or \"http\" not in url:\n",
    "            return \"N/A\"\n",
    "        return urlparse(url).netloc\n",
    "    except:\n",
    "        return \"N/A\"\n",
    "\n",
    "df['malware_url'] = df['malware_url'].apply(extract_domain)"
   ]
  },
  {
   "cell_type": "code",
   "execution_count": 39,
   "metadata": {},
   "outputs": [
    {
     "data": {
      "text/plain": [
       "array(['N/A', 'icsstrive.com'], dtype=object)"
      ]
     },
     "execution_count": 39,
     "metadata": {},
     "output_type": "execute_result"
    }
   ],
   "source": [
    "df['malware_url'].unique()"
   ]
  },
  {
   "cell_type": "markdown",
   "metadata": {},
   "source": [
    "**Malware Title.**"
   ]
  },
  {
   "cell_type": "code",
   "execution_count": 40,
   "metadata": {},
   "outputs": [
    {
     "data": {
      "text/plain": [
       "array(['No Malware identified', 'LockBit', 'Unknown', 'DDoS Attack',\n",
       "       'Unknown ransomware variant', 'Ransomware – unknown',\n",
       "       'Unknown phishing attack', 'Ransomware – Unknown group or variant'],\n",
       "      dtype=object)"
      ]
     },
     "execution_count": 40,
     "metadata": {},
     "output_type": "execute_result"
    }
   ],
   "source": [
    "df['malware_title'].unique()[0:8]"
   ]
  },
  {
   "cell_type": "code",
   "execution_count": 41,
   "metadata": {},
   "outputs": [],
   "source": [
    "malware_mapping = {\n",
    "    \"Ransomware\": [\n",
    "        \"LockBit\", \"Unknown ransomware variant\", \"Ransomware – unknown\",\n",
    "        \"Ransomware – Unknown group or variant\", \"BlackCat\", \"CLOP\", \"Agenda\",\n",
    "        \"Ragnar Locker\", \"Quantum Ransomware\", \"LV\", \"PLAY\", \"RansomEXX\",\n",
    "        \"ROADSWEEP\", \"Ransomware [Target: AU Prison]\", \"Conti Ransomware\",\n",
    "        \"Bitlocker Ransomware\", \"BlackByte\", \"Maui ransomware\", \"Snatch Ransomware\",\n",
    "        \"Colossus\", \"BlackMatter\", \"REvil\", \"Avaddon\", \"DarkSide\",\n",
    "        \"Phoenix Locker\", \"DoppelPaymer\", \"Ransomware (target: Gyrodata)\",\n",
    "        \"Nefilim Ransomware\", \"Ryuk ransomware\", \"Netfilim\", \"Egregor\",\n",
    "        \"unknown ransomware, but unsegmented domain\", \"Lockergoga\", \"SamSam\",\n",
    "        \"WannaCry\", \"Backmydata ransomware\", \"NotPetya\", \"Ranwomare attack\",\n",
    "        \"Mailto\", \"Matriex\"\n",
    "    ],\n",
    "    \"Spyware\": [\"Winnti\"],\n",
    "    \"Worm\": [\"Zotob Worm\"],\n",
    "    \"Trojan\": [\"W32.Ramnit\"],\n",
    "    \"Phishing\": [\n",
    "        \"Unknown phishing attack\", \"Phishing Attack\", \"0Ktapus phishing campaign\"\n",
    "    ],\n",
    "    \"Malware\": [\n",
    "        \"LightlessCan malware\", \"Meteor\", \"Shamoon\", \"Stuxnet\", \"EKANS\",\n",
    "        \"SNAKE\", \"Triton\", \"Flame\", \"Related to Accellion File Transfer Appliance (FTA)\"\n",
    "    ],\n",
    "    \"No Malware identified\": [\n",
    "        \"No Malware identified\", \"Unknown malware attack\", \"Unknown\"\n",
    "    ],\n",
    "    \"DDoS\": [\"DDoS Attack\"]\n",
    "}"
   ]
  },
  {
   "cell_type": "code",
   "execution_count": 42,
   "metadata": {},
   "outputs": [],
   "source": [
    "def map_malware_title(title):\n",
    "    for category, titles in malware_mapping.items():\n",
    "        if title in titles:\n",
    "            return category\n",
    "    return None"
   ]
  },
  {
   "cell_type": "markdown",
   "metadata": {},
   "source": [
    "Creamos esta nueva columna agrupada junto a la columna existente denominada **Malware Title**."
   ]
  },
  {
   "cell_type": "code",
   "execution_count": 43,
   "metadata": {},
   "outputs": [],
   "source": [
    "column_position = df.columns.get_loc(\"malware_title\")\n",
    "df.insert(column_position + 1,\n",
    "          'malware_title_grouped',\n",
    "          df['malware_title'].apply(map_malware_title))"
   ]
  },
  {
   "cell_type": "code",
   "execution_count": 44,
   "metadata": {},
   "outputs": [
    {
     "data": {
      "text/plain": [
       "array([], dtype=object)"
      ]
     },
     "execution_count": 44,
     "metadata": {},
     "output_type": "execute_result"
    }
   ],
   "source": [
    "df[df['malware_title_grouped'].isnull()]['malware_title'].unique() # Malware no mapeado."
   ]
  },
  {
   "cell_type": "code",
   "execution_count": 45,
   "metadata": {},
   "outputs": [],
   "source": [
    "label_encoder = LabelEncoder()\n",
    "df['malware_title_grouped'] = label_encoder.fit_transform(df['malware_title_grouped'])"
   ]
  },
  {
   "cell_type": "code",
   "execution_count": 46,
   "metadata": {},
   "outputs": [
    {
     "data": {
      "text/html": [
       "<div>\n",
       "<style scoped>\n",
       "    .dataframe tbody tr th:only-of-type {\n",
       "        vertical-align: middle;\n",
       "    }\n",
       "\n",
       "    .dataframe tbody tr th {\n",
       "        vertical-align: top;\n",
       "    }\n",
       "\n",
       "    .dataframe thead th {\n",
       "        text-align: right;\n",
       "    }\n",
       "</style>\n",
       "<table border=\"1\" class=\"dataframe\">\n",
       "  <thead>\n",
       "    <tr style=\"text-align: right;\">\n",
       "      <th></th>\n",
       "      <th>data_source_link_url</th>\n",
       "      <th>description</th>\n",
       "      <th>locations</th>\n",
       "      <th>estimated_cost</th>\n",
       "      <th>victims</th>\n",
       "      <th>malware_title</th>\n",
       "      <th>malware_title_grouped</th>\n",
       "      <th>malware_url</th>\n",
       "      <th>threat_source</th>\n",
       "      <th>industries</th>\n",
       "      <th>impacts</th>\n",
       "      <th>impacts_IT</th>\n",
       "      <th>impacts_OT</th>\n",
       "      <th>impacts_Privacy</th>\n",
       "      <th>references</th>\n",
       "      <th>year</th>\n",
       "      <th>month</th>\n",
       "      <th>day</th>\n",
       "    </tr>\n",
       "  </thead>\n",
       "  <tbody>\n",
       "    <tr>\n",
       "      <th>0</th>\n",
       "      <td>https://icsstrive.com/incident/operational-imp...</td>\n",
       "      <td>ALPS' North American production operations and...</td>\n",
       "      <td>['Japan', 'United States']</td>\n",
       "      <td>Partially impacted North American production a...</td>\n",
       "      <td>[{'title': 'Alps Alpine Group', 'link_url': 'h...</td>\n",
       "      <td>No Malware identified</td>\n",
       "      <td>2</td>\n",
       "      <td>N/A</td>\n",
       "      <td>[{'title': 'BlackByte', 'link_url': 'https://i...</td>\n",
       "      <td>['Automotive', 'Manufacturing']</td>\n",
       "      <td>OT, IT</td>\n",
       "      <td>1</td>\n",
       "      <td>1</td>\n",
       "      <td>0</td>\n",
       "      <td>[{'title': 'Cyber Incident Victim: Alps Alpine...</td>\n",
       "      <td>2023</td>\n",
       "      <td>9</td>\n",
       "      <td>10</td>\n",
       "    </tr>\n",
       "    <tr>\n",
       "      <th>1</th>\n",
       "      <td>https://icsstrive.com/incident/framework-lapto...</td>\n",
       "      <td>San Francisco, California-based Framework, the...</td>\n",
       "      <td>['United States']</td>\n",
       "      <td>Unknown as it seems PII was stolen</td>\n",
       "      <td>[{'title': 'Framework', 'link_url': 'https://i...</td>\n",
       "      <td>No Malware identified</td>\n",
       "      <td>2</td>\n",
       "      <td>N/A</td>\n",
       "      <td>No threat source identified</td>\n",
       "      <td>['Technology']</td>\n",
       "      <td>IT</td>\n",
       "      <td>1</td>\n",
       "      <td>0</td>\n",
       "      <td>0</td>\n",
       "      <td>[{'title': 'Laptop Maker Framework Says Custom...</td>\n",
       "      <td>2024</td>\n",
       "      <td>1</td>\n",
       "      <td>9</td>\n",
       "    </tr>\n",
       "  </tbody>\n",
       "</table>\n",
       "</div>"
      ],
      "text/plain": [
       "                                data_source_link_url                                        description                   locations                                     estimated_cost                                            victims          malware_title  malware_title_grouped malware_url                                      threat_source                       industries impacts  impacts_IT  impacts_OT  impacts_Privacy                                         references  year  month  day\n",
       "0  https://icsstrive.com/incident/operational-imp...  ALPS' North American production operations and...  ['Japan', 'United States']  Partially impacted North American production a...  [{'title': 'Alps Alpine Group', 'link_url': 'h...  No Malware identified                      2         N/A  [{'title': 'BlackByte', 'link_url': 'https://i...  ['Automotive', 'Manufacturing']  OT, IT           1           1                0  [{'title': 'Cyber Incident Victim: Alps Alpine...  2023      9   10\n",
       "1  https://icsstrive.com/incident/framework-lapto...  San Francisco, California-based Framework, the...           ['United States']                 Unknown as it seems PII was stolen  [{'title': 'Framework', 'link_url': 'https://i...  No Malware identified                      2         N/A                        No threat source identified                   ['Technology']      IT           1           0                0  [{'title': 'Laptop Maker Framework Says Custom...  2024      1    9"
      ]
     },
     "execution_count": 46,
     "metadata": {},
     "output_type": "execute_result"
    }
   ],
   "source": [
    "df.head(2)"
   ]
  },
  {
   "cell_type": "markdown",
   "metadata": {},
   "source": [
    "### Tratamiento de variables continuas.\n",
    "Para el modelo de clasificación debemos de pasar todas las columnas a tipo `int`. Por ello, debemos de ver si realizar como en el caso anterior una codificación ordinal o agruparlos."
   ]
  },
  {
   "cell_type": "code",
   "execution_count": 47,
   "metadata": {},
   "outputs": [
    {
     "data": {
      "text/html": [
       "<div>\n",
       "<style scoped>\n",
       "    .dataframe tbody tr th:only-of-type {\n",
       "        vertical-align: middle;\n",
       "    }\n",
       "\n",
       "    .dataframe tbody tr th {\n",
       "        vertical-align: top;\n",
       "    }\n",
       "\n",
       "    .dataframe thead th {\n",
       "        text-align: right;\n",
       "    }\n",
       "</style>\n",
       "<table border=\"1\" class=\"dataframe\">\n",
       "  <thead>\n",
       "    <tr style=\"text-align: right;\">\n",
       "      <th></th>\n",
       "      <th>data_source_link_url</th>\n",
       "      <th>description</th>\n",
       "      <th>locations</th>\n",
       "      <th>estimated_cost</th>\n",
       "      <th>victims</th>\n",
       "      <th>threat_source</th>\n",
       "      <th>industries</th>\n",
       "      <th>references</th>\n",
       "    </tr>\n",
       "  </thead>\n",
       "  <tbody>\n",
       "    <tr>\n",
       "      <th>0</th>\n",
       "      <td>https://icsstrive.com/incident/operational-imp...</td>\n",
       "      <td>ALPS' North American production operations and...</td>\n",
       "      <td>['Japan', 'United States']</td>\n",
       "      <td>Partially impacted North American production a...</td>\n",
       "      <td>[{'title': 'Alps Alpine Group', 'link_url': 'h...</td>\n",
       "      <td>[{'title': 'BlackByte', 'link_url': 'https://i...</td>\n",
       "      <td>['Automotive', 'Manufacturing']</td>\n",
       "      <td>[{'title': 'Cyber Incident Victim: Alps Alpine...</td>\n",
       "    </tr>\n",
       "    <tr>\n",
       "      <th>1</th>\n",
       "      <td>https://icsstrive.com/incident/framework-lapto...</td>\n",
       "      <td>San Francisco, California-based Framework, the...</td>\n",
       "      <td>['United States']</td>\n",
       "      <td>Unknown as it seems PII was stolen</td>\n",
       "      <td>[{'title': 'Framework', 'link_url': 'https://i...</td>\n",
       "      <td>No threat source identified</td>\n",
       "      <td>['Technology']</td>\n",
       "      <td>[{'title': 'Laptop Maker Framework Says Custom...</td>\n",
       "    </tr>\n",
       "  </tbody>\n",
       "</table>\n",
       "</div>"
      ],
      "text/plain": [
       "                                data_source_link_url                                        description                   locations                                     estimated_cost                                            victims                                      threat_source                       industries                                         references\n",
       "0  https://icsstrive.com/incident/operational-imp...  ALPS' North American production operations and...  ['Japan', 'United States']  Partially impacted North American production a...  [{'title': 'Alps Alpine Group', 'link_url': 'h...  [{'title': 'BlackByte', 'link_url': 'https://i...  ['Automotive', 'Manufacturing']  [{'title': 'Cyber Incident Victim: Alps Alpine...\n",
       "1  https://icsstrive.com/incident/framework-lapto...  San Francisco, California-based Framework, the...           ['United States']                 Unknown as it seems PII was stolen  [{'title': 'Framework', 'link_url': 'https://i...                        No threat source identified                   ['Technology']  [{'title': 'Laptop Maker Framework Says Custom..."
      ]
     },
     "execution_count": 47,
     "metadata": {},
     "output_type": "execute_result"
    }
   ],
   "source": [
    "df[v_continuas].head(2)"
   ]
  },
  {
   "cell_type": "code",
   "execution_count": 48,
   "metadata": {},
   "outputs": [],
   "source": [
    "v_categoricas_cont = list(df[v_continuas].dtypes[df[v_continuas].dtypes == 'object'].index)"
   ]
  },
  {
   "cell_type": "code",
   "execution_count": 49,
   "metadata": {},
   "outputs": [
    {
     "data": {
      "text/plain": [
       "data_source_link_url    1058\n",
       "description              860\n",
       "locations                135\n",
       "estimated_cost           355\n",
       "victims                  790\n",
       "threat_source             97\n",
       "industries                91\n",
       "references               820\n",
       "dtype: int64"
      ]
     },
     "execution_count": 49,
     "metadata": {},
     "output_type": "execute_result"
    }
   ],
   "source": [
    "df[v_categoricas_cont].nunique()"
   ]
  },
  {
   "cell_type": "markdown",
   "metadata": {},
   "source": [
    "#### **Data Source Link URL.**\n",
    "Deberemos de extraer el nombre del dominio de la URL."
   ]
  },
  {
   "cell_type": "code",
   "execution_count": 50,
   "metadata": {},
   "outputs": [],
   "source": [
    "def extract_domain(url):\n",
    "    try:\n",
    "        return urlparse(url).netloc\n",
    "    except:\n",
    "        return None\n",
    "\n",
    "df['data_source_link_url'] = df['data_source_link_url'].apply(extract_domain)"
   ]
  },
  {
   "cell_type": "code",
   "execution_count": 51,
   "metadata": {},
   "outputs": [],
   "source": [
    "df['data_source_link_url'] = df['data_source_link_url'].str.replace('www.', '', regex=False)"
   ]
  },
  {
   "cell_type": "code",
   "execution_count": 52,
   "metadata": {},
   "outputs": [
    {
     "data": {
      "text/html": [
       "<div>\n",
       "<style scoped>\n",
       "    .dataframe tbody tr th:only-of-type {\n",
       "        vertical-align: middle;\n",
       "    }\n",
       "\n",
       "    .dataframe tbody tr th {\n",
       "        vertical-align: top;\n",
       "    }\n",
       "\n",
       "    .dataframe thead th {\n",
       "        text-align: right;\n",
       "    }\n",
       "</style>\n",
       "<table border=\"1\" class=\"dataframe\">\n",
       "  <thead>\n",
       "    <tr style=\"text-align: right;\">\n",
       "      <th></th>\n",
       "      <th>data_source_link_url</th>\n",
       "      <th>description</th>\n",
       "      <th>locations</th>\n",
       "      <th>estimated_cost</th>\n",
       "      <th>victims</th>\n",
       "      <th>malware_title</th>\n",
       "      <th>malware_title_grouped</th>\n",
       "      <th>malware_url</th>\n",
       "      <th>threat_source</th>\n",
       "      <th>industries</th>\n",
       "      <th>impacts</th>\n",
       "      <th>impacts_IT</th>\n",
       "      <th>impacts_OT</th>\n",
       "      <th>impacts_Privacy</th>\n",
       "      <th>references</th>\n",
       "      <th>year</th>\n",
       "      <th>month</th>\n",
       "      <th>day</th>\n",
       "    </tr>\n",
       "  </thead>\n",
       "  <tbody>\n",
       "    <tr>\n",
       "      <th>0</th>\n",
       "      <td>icsstrive.com</td>\n",
       "      <td>ALPS' North American production operations and...</td>\n",
       "      <td>['Japan', 'United States']</td>\n",
       "      <td>Partially impacted North American production a...</td>\n",
       "      <td>[{'title': 'Alps Alpine Group', 'link_url': 'h...</td>\n",
       "      <td>No Malware identified</td>\n",
       "      <td>2</td>\n",
       "      <td>N/A</td>\n",
       "      <td>[{'title': 'BlackByte', 'link_url': 'https://i...</td>\n",
       "      <td>['Automotive', 'Manufacturing']</td>\n",
       "      <td>OT, IT</td>\n",
       "      <td>1</td>\n",
       "      <td>1</td>\n",
       "      <td>0</td>\n",
       "      <td>[{'title': 'Cyber Incident Victim: Alps Alpine...</td>\n",
       "      <td>2023</td>\n",
       "      <td>9</td>\n",
       "      <td>10</td>\n",
       "    </tr>\n",
       "    <tr>\n",
       "      <th>1</th>\n",
       "      <td>icsstrive.com</td>\n",
       "      <td>San Francisco, California-based Framework, the...</td>\n",
       "      <td>['United States']</td>\n",
       "      <td>Unknown as it seems PII was stolen</td>\n",
       "      <td>[{'title': 'Framework', 'link_url': 'https://i...</td>\n",
       "      <td>No Malware identified</td>\n",
       "      <td>2</td>\n",
       "      <td>N/A</td>\n",
       "      <td>No threat source identified</td>\n",
       "      <td>['Technology']</td>\n",
       "      <td>IT</td>\n",
       "      <td>1</td>\n",
       "      <td>0</td>\n",
       "      <td>0</td>\n",
       "      <td>[{'title': 'Laptop Maker Framework Says Custom...</td>\n",
       "      <td>2024</td>\n",
       "      <td>1</td>\n",
       "      <td>9</td>\n",
       "    </tr>\n",
       "    <tr>\n",
       "      <th>2</th>\n",
       "      <td>icsstrive.com</td>\n",
       "      <td>After suffering a cyberattack December 13, V.F...</td>\n",
       "      <td>['United States']</td>\n",
       "      <td>Cost not known, 35.5 million customers persona...</td>\n",
       "      <td>[{'title': 'V.F. Corporation', 'link_url': 'ht...</td>\n",
       "      <td>No Malware identified</td>\n",
       "      <td>2</td>\n",
       "      <td>N/A</td>\n",
       "      <td>No threat source identified</td>\n",
       "      <td>['Manufacturing']</td>\n",
       "      <td>IT</td>\n",
       "      <td>1</td>\n",
       "      <td>0</td>\n",
       "      <td>0</td>\n",
       "      <td>[{'title': 'Clothing Brand, V.F. Corp., Hack H...</td>\n",
       "      <td>2023</td>\n",
       "      <td>12</td>\n",
       "      <td>13</td>\n",
       "    </tr>\n",
       "  </tbody>\n",
       "</table>\n",
       "</div>"
      ],
      "text/plain": [
       "  data_source_link_url                                        description                   locations                                     estimated_cost                                            victims          malware_title  malware_title_grouped malware_url                                      threat_source                       industries impacts  impacts_IT  impacts_OT  impacts_Privacy                                         references  year  month  day\n",
       "0        icsstrive.com  ALPS' North American production operations and...  ['Japan', 'United States']  Partially impacted North American production a...  [{'title': 'Alps Alpine Group', 'link_url': 'h...  No Malware identified                      2         N/A  [{'title': 'BlackByte', 'link_url': 'https://i...  ['Automotive', 'Manufacturing']  OT, IT           1           1                0  [{'title': 'Cyber Incident Victim: Alps Alpine...  2023      9   10\n",
       "1        icsstrive.com  San Francisco, California-based Framework, the...           ['United States']                 Unknown as it seems PII was stolen  [{'title': 'Framework', 'link_url': 'https://i...  No Malware identified                      2         N/A                        No threat source identified                   ['Technology']      IT           1           0                0  [{'title': 'Laptop Maker Framework Says Custom...  2024      1    9\n",
       "2        icsstrive.com  After suffering a cyberattack December 13, V.F...           ['United States']  Cost not known, 35.5 million customers persona...  [{'title': 'V.F. Corporation', 'link_url': 'ht...  No Malware identified                      2         N/A                        No threat source identified                ['Manufacturing']      IT           1           0                0  [{'title': 'Clothing Brand, V.F. Corp., Hack H...  2023     12   13"
      ]
     },
     "execution_count": 52,
     "metadata": {},
     "output_type": "execute_result"
    }
   ],
   "source": [
    "df.head(3)"
   ]
  },
  {
   "cell_type": "markdown",
   "metadata": {},
   "source": [
    "#### **Locations.**\n",
    "Para realizar una evaluación más efectiva de los países en nuestros datos, es conveniente agruparlos por continentes. Esto es especialmente relevante porque en otros archivos CSV hay registros de ataques provenientes de diferentes países, distribuidos en distintos continentes.\n",
    "\n",
    "Para facilitar este análisis, procederemos a crear seis nuevas columnas en nuestro conjunto de datos, cada una representando un continente específico. Estas columnas indicarán con un valor de 1 si el país pertenece al continente correspondiente y 0 si no es así, es decir, mediante una asignación de valores binarios."
   ]
  },
  {
   "cell_type": "code",
   "execution_count": 53,
   "metadata": {},
   "outputs": [
    {
     "data": {
      "text/plain": [
       "array([\"['Japan', 'United States']\", \"['United States']\", \"['Germany']\",\n",
       "       \"['Trinidad & Tobago']\", \"['Curaçao']\",\n",
       "       \"['Australia', 'New Zealand']\", \"['Australia', 'United States']\",\n",
       "       \"['Italy', 'United Kingdom']\", \"['France']\"], dtype=object)"
      ]
     },
     "execution_count": 53,
     "metadata": {},
     "output_type": "execute_result"
    }
   ],
   "source": [
    "df['locations'].unique()[0:9]"
   ]
  },
  {
   "cell_type": "markdown",
   "metadata": {},
   "source": [
    "Vemos que existen los caracteres `[` y `]`, así como las comillas, y los eliminaremos para dejar las cadenas de texto más limpias y legibles."
   ]
  },
  {
   "cell_type": "code",
   "execution_count": 54,
   "metadata": {},
   "outputs": [],
   "source": [
    "df['locations'] = df['locations'].str.strip(\"[]\").str.replace(\"'\", \"\")"
   ]
  },
  {
   "cell_type": "markdown",
   "metadata": {},
   "source": [
    "Creamos un diccionario que relaciona países con continentes para mejorar la eficiencia en el proceso de detección."
   ]
  },
  {
   "cell_type": "code",
   "execution_count": 55,
   "metadata": {},
   "outputs": [],
   "source": [
    "continents_mapping = {\n",
    "    'Africa': [\n",
    "        'Ghana', 'South Africa', 'Nigeria', 'Kenya', 'Egypt', 'Morocco', 'Zimbabwe', 'Algeria', 'Ethiopia', 'Uganda', \n",
    "        'Angola', 'Tanzania', 'Sudan', 'Mozambique', 'Madagascar', 'Cameroon', 'Côte d\\'Ivoire', 'Burkina Faso', \n",
    "        'Mali', 'Malawi', 'Zambia', 'Senegal', 'Chad', 'Rwanda', 'Guinea', 'Benin', 'Burundi', 'Tunisia', 'Somalia', \n",
    "        'South Sudan', 'Togo', 'Sierra Leone', 'Libya', 'Congo', 'Liberia', 'Mauritania', 'Central African Republic', \n",
    "        'Niger', 'Eswatini', 'Djibouti', 'Comoros', 'Cabo Verde', 'Sao Tome and Principe', 'Africa', 'Middle East'\n",
    "    ],\n",
    "    'Asia': [\n",
    "        'China', 'India', 'Japan', 'South Korea', 'Indonesia', 'Pakistan', 'Bangladesh', 'Russia', 'Turkey', 'Iran', \n",
    "        'Saudi Arabia', 'Uzbekistan', 'Malaysia', 'Afghanistan', 'Yemen', 'Sri Lanka', 'Nepal', 'Kazakhstan', 'Syria', \n",
    "        'Cambodia', 'Jordan', 'Azerbaijan', 'United Arab Emirates', 'Tajikistan', 'Israel', 'Laos', 'Lebanon', 'Kyrgyzstan', \n",
    "        'Turkmenistan', 'Singapore', 'Oman', 'State of Palestine', 'Kuwait', 'Georgia', 'Mongolia', 'Armenia', \n",
    "    'Qatar', 'Bahrain', 'Timor-Leste', 'Cyprus', 'Asia-Pacific', 'Asia', 'Middle East'\n",
    "    ],\n",
    "    'Europe': [\n",
    "        'Germany', 'France', 'Italy', 'United Kingdom', 'Spain', 'Russia', 'Ukraine', 'Poland', 'Romania', 'Netherlands', \n",
    "        'Belgium', 'Greece', 'Czech Republic', 'Portugal', 'Sweden', 'Hungary', 'Belarus', 'Austria', 'Serbia', 'Switzerland', \n",
    "        'Bulgaria', 'Denmark', 'Finland', 'Slovakia', 'Norway', 'Croatia', 'Bosnia and Herzegovina', 'Ireland', 'Slovenia', \n",
    "        'North Macedonia', 'Albania', 'Luxembourg', 'Malta', 'Montenegro', 'Moldova', 'Latvia', 'Estonia', 'Kosovo', \n",
    "        'Lithuania', 'Andorra', 'Monaco', 'San Marino', 'Vatican City', 'Europe'\n",
    "    ],\n",
    "    'North America': [\n",
    "        'United States', 'Canada', 'Mexico', 'Guatemala', 'Belize', 'Honduras', 'El Salvador', 'Nicaragua', 'Costa Rica', \n",
    "        'Panama', 'Bermuda', 'Trinidad & Tobago', 'Jamaica', 'Saint Lucia', 'Barbados', 'Saint Kitts and Nevis', \n",
    "        'Antigua and Barbuda', 'Saint Vincent and the Grenadines', 'Grenada', 'Dominica', 'Saint Pierre and Miquelon', \n",
    "        'The Bahamas', 'Cuba', 'Dominican Republic', 'Haiti', 'Guadeloupe', 'St. Maarten'\n",
    "    ],\n",
    "    'South America': [\n",
    "        'Brazil', 'Argentina', 'Colombia', 'Peru', 'Venezuela', 'Chile', 'Ecuador', 'Bolivia', 'Paraguay', 'Guyana', \n",
    "        'Suriname', 'Uruguay', 'French Guiana', 'Curaçao', 'Saint Helena'\n",
    "    ],\n",
    "    'Australia': [\n",
    "        'Australia', 'New Zealand', 'Papua New Guinea', 'Fiji', 'Solomon Islands', 'Vanuatu', 'Samoa', 'Tonga', 'Tuvalu', \n",
    "        'Nauru', 'Kiribati', 'Marshall Islands', 'Palau', 'Micronesia', 'Oceania'\n",
    "    ],\n",
    "    'Africa, Asia, North America, Europe, South America, Australia': ['Global']\n",
    "}"
   ]
  },
  {
   "cell_type": "code",
   "execution_count": 56,
   "metadata": {},
   "outputs": [],
   "source": [
    "def assign_continent(region):\n",
    "    countries = [country.strip() for country in region.split(',')]\n",
    "    continents = set()\n",
    "    \n",
    "    for country in countries:\n",
    "        for continent, countries_list in continents_mapping.items():\n",
    "            if country in countries_list:\n",
    "                continents.add(continent)\n",
    "    \n",
    "    # Devolver una lista de continentes, unirlos como una cadena\n",
    "    return ', '.join(continents) if continents else None\n",
    "\n",
    "# Crear una nueva columna en el DataFrame con los continentes\n",
    "df['continent'] = df['locations'].apply(assign_continent)"
   ]
  },
  {
   "cell_type": "code",
   "execution_count": 57,
   "metadata": {},
   "outputs": [
    {
     "name": "stdout",
     "output_type": "stream",
     "text": [
      "Lista de países con 'continent' como None:\n",
      "['Philippines' 'Taiwan' '' 'Thailand'\n",
      " 'United Kingdom of Britain & Northern Ireland' 'Unknown'\n",
      " 'Russian Federation' 'Guam' 'Philippines, Taiwan'\n",
      " 'Macedonia (Rep. of N.)' 'Hong Kong' 'Vietnam']\n"
     ]
    }
   ],
   "source": [
    "countries_with_no_continent = df[df['continent'].isnull()]['locations'].unique()\n",
    "\n",
    "# Mostrar la lista de países con 'continent' como None\n",
    "print(\"Lista de países con 'continent' como None:\")\n",
    "print(countries_with_no_continent)"
   ]
  },
  {
   "cell_type": "code",
   "execution_count": 58,
   "metadata": {},
   "outputs": [],
   "source": [
    "df_null_continent = df[df['continent'].isnull()]"
   ]
  },
  {
   "cell_type": "code",
   "execution_count": 59,
   "metadata": {},
   "outputs": [],
   "source": [
    "def assign_continent(countries):\n",
    "    countries_list = [country.strip() for country in countries.split(',')] if ',' in countries else [countries]\n",
    "    continents = set()\n",
    "    for country in countries_list:\n",
    "        try:\n",
    "            continent = coco.convert(names=country, to='continent')\n",
    "            if continent:\n",
    "                if continent == 'Oceania':\n",
    "                    continent = 'Australia'\n",
    "                if continent == 'not found':\n",
    "                    continent = None\n",
    "                continents.add(continent)\n",
    "        except:\n",
    "            continue\n",
    "    valid_continents = [continent for continent in continents if continent is not None]\n",
    "    if not valid_continents:\n",
    "        return None\n",
    "    return ', '.join(valid_continents)"
   ]
  },
  {
   "cell_type": "code",
   "execution_count": 60,
   "metadata": {},
   "outputs": [
    {
     "name": "stderr",
     "output_type": "stream",
     "text": [
      " not found in regex\n",
      " not found in regex\n",
      " not found in regex\n",
      " not found in regex\n",
      " not found in regex\n",
      " not found in regex\n",
      " not found in regex\n",
      " not found in regex\n",
      " not found in regex\n",
      " not found in regex\n",
      " not found in regex\n",
      " not found in regex\n",
      "Unknown not found in regex\n",
      "Unknown not found in regex\n",
      "Unknown not found in regex\n",
      "Unknown not found in regex\n",
      " not found in regex\n",
      "Unknown not found in regex\n",
      " not found in regex\n",
      "Unknown not found in regex\n",
      "Unknown not found in regex\n",
      "Unknown not found in regex\n",
      "Unknown not found in regex\n",
      " not found in regex\n",
      " not found in regex\n"
     ]
    }
   ],
   "source": [
    "df.loc[df['continent'].isnull(), 'continent'] = df_null_continent['locations'].apply(assign_continent)"
   ]
  },
  {
   "cell_type": "code",
   "execution_count": 61,
   "metadata": {},
   "outputs": [
    {
     "data": {
      "text/plain": [
       "np.int64(25)"
      ]
     },
     "execution_count": 61,
     "metadata": {},
     "output_type": "execute_result"
    }
   ],
   "source": [
    "df['continent'].isnull().sum()"
   ]
  },
  {
   "cell_type": "code",
   "execution_count": 62,
   "metadata": {},
   "outputs": [],
   "source": [
    "df.dropna(subset=['continent'], inplace=True)"
   ]
  },
  {
   "cell_type": "code",
   "execution_count": 63,
   "metadata": {},
   "outputs": [
    {
     "data": {
      "text/html": [
       "<div>\n",
       "<style scoped>\n",
       "    .dataframe tbody tr th:only-of-type {\n",
       "        vertical-align: middle;\n",
       "    }\n",
       "\n",
       "    .dataframe tbody tr th {\n",
       "        vertical-align: top;\n",
       "    }\n",
       "\n",
       "    .dataframe thead th {\n",
       "        text-align: right;\n",
       "    }\n",
       "</style>\n",
       "<table border=\"1\" class=\"dataframe\">\n",
       "  <thead>\n",
       "    <tr style=\"text-align: right;\">\n",
       "      <th></th>\n",
       "      <th>data_source_link_url</th>\n",
       "      <th>description</th>\n",
       "      <th>locations</th>\n",
       "      <th>estimated_cost</th>\n",
       "      <th>victims</th>\n",
       "      <th>malware_title</th>\n",
       "      <th>malware_title_grouped</th>\n",
       "      <th>malware_url</th>\n",
       "      <th>threat_source</th>\n",
       "      <th>industries</th>\n",
       "      <th>impacts</th>\n",
       "      <th>impacts_IT</th>\n",
       "      <th>impacts_OT</th>\n",
       "      <th>impacts_Privacy</th>\n",
       "      <th>references</th>\n",
       "      <th>year</th>\n",
       "      <th>month</th>\n",
       "      <th>day</th>\n",
       "      <th>continent</th>\n",
       "    </tr>\n",
       "  </thead>\n",
       "  <tbody>\n",
       "  </tbody>\n",
       "</table>\n",
       "</div>"
      ],
      "text/plain": [
       "Empty DataFrame\n",
       "Columns: [data_source_link_url, description, locations, estimated_cost, victims, malware_title, malware_title_grouped, malware_url, threat_source, industries, impacts, impacts_IT, impacts_OT, impacts_Privacy, references, year, month, day, continent]\n",
       "Index: []"
      ]
     },
     "execution_count": 63,
     "metadata": {},
     "output_type": "execute_result"
    }
   ],
   "source": [
    "df[df['continent'] == 'America'] # Para corregir el dicionario, y separar en Norte o Sur."
   ]
  },
  {
   "cell_type": "code",
   "execution_count": 64,
   "metadata": {},
   "outputs": [],
   "source": [
    "df.drop('locations', axis=1, inplace=True)"
   ]
  },
  {
   "cell_type": "code",
   "execution_count": 65,
   "metadata": {},
   "outputs": [
    {
     "data": {
      "text/plain": [
       "array(['North America', 'Asia', 'Europe', 'South America', 'Australia',\n",
       "       'Africa'], dtype=object)"
      ]
     },
     "execution_count": 65,
     "metadata": {},
     "output_type": "execute_result"
    }
   ],
   "source": [
    "df['continent'].str.split(',').explode().str.strip().unique()"
   ]
  },
  {
   "cell_type": "code",
   "execution_count": 66,
   "metadata": {},
   "outputs": [],
   "source": [
    "continent_dummies = df['continent'].str.get_dummies(sep=', ')"
   ]
  },
  {
   "cell_type": "code",
   "execution_count": 67,
   "metadata": {},
   "outputs": [
    {
     "data": {
      "text/html": [
       "<div>\n",
       "<style scoped>\n",
       "    .dataframe tbody tr th:only-of-type {\n",
       "        vertical-align: middle;\n",
       "    }\n",
       "\n",
       "    .dataframe tbody tr th {\n",
       "        vertical-align: top;\n",
       "    }\n",
       "\n",
       "    .dataframe thead th {\n",
       "        text-align: right;\n",
       "    }\n",
       "</style>\n",
       "<table border=\"1\" class=\"dataframe\">\n",
       "  <thead>\n",
       "    <tr style=\"text-align: right;\">\n",
       "      <th></th>\n",
       "      <th>data_source_link_url</th>\n",
       "      <th>description</th>\n",
       "      <th>estimated_cost</th>\n",
       "      <th>victims</th>\n",
       "      <th>malware_title</th>\n",
       "      <th>malware_title_grouped</th>\n",
       "      <th>malware_url</th>\n",
       "      <th>threat_source</th>\n",
       "      <th>industries</th>\n",
       "      <th>impacts</th>\n",
       "      <th>impacts_IT</th>\n",
       "      <th>impacts_OT</th>\n",
       "      <th>impacts_Privacy</th>\n",
       "      <th>references</th>\n",
       "      <th>year</th>\n",
       "      <th>month</th>\n",
       "      <th>day</th>\n",
       "      <th>continent</th>\n",
       "      <th>Africa</th>\n",
       "      <th>Asia</th>\n",
       "      <th>Australia</th>\n",
       "      <th>Europe</th>\n",
       "      <th>North America</th>\n",
       "      <th>South America</th>\n",
       "    </tr>\n",
       "  </thead>\n",
       "  <tbody>\n",
       "    <tr>\n",
       "      <th>0</th>\n",
       "      <td>icsstrive.com</td>\n",
       "      <td>ALPS' North American production operations and...</td>\n",
       "      <td>Partially impacted North American production a...</td>\n",
       "      <td>[{'title': 'Alps Alpine Group', 'link_url': 'h...</td>\n",
       "      <td>No Malware identified</td>\n",
       "      <td>2</td>\n",
       "      <td>N/A</td>\n",
       "      <td>[{'title': 'BlackByte', 'link_url': 'https://i...</td>\n",
       "      <td>['Automotive', 'Manufacturing']</td>\n",
       "      <td>OT, IT</td>\n",
       "      <td>1</td>\n",
       "      <td>1</td>\n",
       "      <td>0</td>\n",
       "      <td>[{'title': 'Cyber Incident Victim: Alps Alpine...</td>\n",
       "      <td>2023</td>\n",
       "      <td>9</td>\n",
       "      <td>10</td>\n",
       "      <td>North America, Asia</td>\n",
       "      <td>0</td>\n",
       "      <td>1</td>\n",
       "      <td>0</td>\n",
       "      <td>0</td>\n",
       "      <td>1</td>\n",
       "      <td>0</td>\n",
       "    </tr>\n",
       "    <tr>\n",
       "      <th>1</th>\n",
       "      <td>icsstrive.com</td>\n",
       "      <td>San Francisco, California-based Framework, the...</td>\n",
       "      <td>Unknown as it seems PII was stolen</td>\n",
       "      <td>[{'title': 'Framework', 'link_url': 'https://i...</td>\n",
       "      <td>No Malware identified</td>\n",
       "      <td>2</td>\n",
       "      <td>N/A</td>\n",
       "      <td>No threat source identified</td>\n",
       "      <td>['Technology']</td>\n",
       "      <td>IT</td>\n",
       "      <td>1</td>\n",
       "      <td>0</td>\n",
       "      <td>0</td>\n",
       "      <td>[{'title': 'Laptop Maker Framework Says Custom...</td>\n",
       "      <td>2024</td>\n",
       "      <td>1</td>\n",
       "      <td>9</td>\n",
       "      <td>North America</td>\n",
       "      <td>0</td>\n",
       "      <td>0</td>\n",
       "      <td>0</td>\n",
       "      <td>0</td>\n",
       "      <td>1</td>\n",
       "      <td>0</td>\n",
       "    </tr>\n",
       "    <tr>\n",
       "      <th>2</th>\n",
       "      <td>icsstrive.com</td>\n",
       "      <td>After suffering a cyberattack December 13, V.F...</td>\n",
       "      <td>Cost not known, 35.5 million customers persona...</td>\n",
       "      <td>[{'title': 'V.F. Corporation', 'link_url': 'ht...</td>\n",
       "      <td>No Malware identified</td>\n",
       "      <td>2</td>\n",
       "      <td>N/A</td>\n",
       "      <td>No threat source identified</td>\n",
       "      <td>['Manufacturing']</td>\n",
       "      <td>IT</td>\n",
       "      <td>1</td>\n",
       "      <td>0</td>\n",
       "      <td>0</td>\n",
       "      <td>[{'title': 'Clothing Brand, V.F. Corp., Hack H...</td>\n",
       "      <td>2023</td>\n",
       "      <td>12</td>\n",
       "      <td>13</td>\n",
       "      <td>North America</td>\n",
       "      <td>0</td>\n",
       "      <td>0</td>\n",
       "      <td>0</td>\n",
       "      <td>0</td>\n",
       "      <td>1</td>\n",
       "      <td>0</td>\n",
       "    </tr>\n",
       "    <tr>\n",
       "      <th>3</th>\n",
       "      <td>icsstrive.com</td>\n",
       "      <td>Toyota Financial Services (TFS) is warning cus...</td>\n",
       "      <td>No cost values disclosed.</td>\n",
       "      <td>[{'title': 'Toyota Financial Services, subs. o...</td>\n",
       "      <td>No Malware identified</td>\n",
       "      <td>2</td>\n",
       "      <td>N/A</td>\n",
       "      <td>No threat source identified</td>\n",
       "      <td>['Automotive']</td>\n",
       "      <td>Privacy, IT</td>\n",
       "      <td>1</td>\n",
       "      <td>0</td>\n",
       "      <td>1</td>\n",
       "      <td>[{'title': 'Toyota warns customers of data bre...</td>\n",
       "      <td>2023</td>\n",
       "      <td>12</td>\n",
       "      <td>11</td>\n",
       "      <td>Europe</td>\n",
       "      <td>0</td>\n",
       "      <td>0</td>\n",
       "      <td>0</td>\n",
       "      <td>1</td>\n",
       "      <td>0</td>\n",
       "      <td>0</td>\n",
       "    </tr>\n",
       "    <tr>\n",
       "      <th>4</th>\n",
       "      <td>icsstrive.com</td>\n",
       "      <td>Chinese hackers are positioning themselves ins...</td>\n",
       "      <td>No cost values disclosed.</td>\n",
       "      <td>[{'title': 'Unidentified Oil &amp; Gas Pipeline', ...</td>\n",
       "      <td>No Malware identified</td>\n",
       "      <td>2</td>\n",
       "      <td>N/A</td>\n",
       "      <td>[{'title': 'Volt Typhoon', 'link_url': 'https:...</td>\n",
       "      <td>['Oil &amp; Gas', 'Water and Waste Water']</td>\n",
       "      <td>IT</td>\n",
       "      <td>1</td>\n",
       "      <td>0</td>\n",
       "      <td>0</td>\n",
       "      <td>[{'title': 'Chinese hackers allegedly target U...</td>\n",
       "      <td>2023</td>\n",
       "      <td>12</td>\n",
       "      <td>11</td>\n",
       "      <td>North America</td>\n",
       "      <td>0</td>\n",
       "      <td>0</td>\n",
       "      <td>0</td>\n",
       "      <td>0</td>\n",
       "      <td>1</td>\n",
       "      <td>0</td>\n",
       "    </tr>\n",
       "    <tr>\n",
       "      <th>5</th>\n",
       "      <td>icsstrive.com</td>\n",
       "      <td>Blue Waters Products Limited is the latest loc...</td>\n",
       "      <td>unknown</td>\n",
       "      <td>[{'title': 'Blue Waters Products Limited', 'li...</td>\n",
       "      <td>No Malware identified</td>\n",
       "      <td>2</td>\n",
       "      <td>N/A</td>\n",
       "      <td>[{'title': 'LockBit', 'link_url': 'https://ics...</td>\n",
       "      <td>['Water and Waste Water']</td>\n",
       "      <td>IT</td>\n",
       "      <td>1</td>\n",
       "      <td>0</td>\n",
       "      <td>0</td>\n",
       "      <td>[{'title': 'LockBit3 takes responsibility for ...</td>\n",
       "      <td>2023</td>\n",
       "      <td>12</td>\n",
       "      <td>9</td>\n",
       "      <td>North America</td>\n",
       "      <td>0</td>\n",
       "      <td>0</td>\n",
       "      <td>0</td>\n",
       "      <td>0</td>\n",
       "      <td>1</td>\n",
       "      <td>0</td>\n",
       "    </tr>\n",
       "    <tr>\n",
       "      <th>6</th>\n",
       "      <td>icsstrive.com</td>\n",
       "      <td>A regulatory agency in Florida that oversees t...</td>\n",
       "      <td>No cost values disclosed.</td>\n",
       "      <td>[{'title': 'St. Johns River Water Management D...</td>\n",
       "      <td>No Malware identified</td>\n",
       "      <td>2</td>\n",
       "      <td>N/A</td>\n",
       "      <td>[{'title': 'Cyber Av3ngers', 'link_url': 'http...</td>\n",
       "      <td>['Water and Waste Water']</td>\n",
       "      <td>IT</td>\n",
       "      <td>1</td>\n",
       "      <td>0</td>\n",
       "      <td>0</td>\n",
       "      <td>[{'title': 'Florida water agency latest to con...</td>\n",
       "      <td>2023</td>\n",
       "      <td>12</td>\n",
       "      <td>6</td>\n",
       "      <td>North America</td>\n",
       "      <td>0</td>\n",
       "      <td>0</td>\n",
       "      <td>0</td>\n",
       "      <td>0</td>\n",
       "      <td>1</td>\n",
       "      <td>0</td>\n",
       "    </tr>\n",
       "  </tbody>\n",
       "</table>\n",
       "</div>"
      ],
      "text/plain": [
       "  data_source_link_url                                        description                                     estimated_cost                                            victims          malware_title  malware_title_grouped malware_url                                      threat_source                              industries      impacts  impacts_IT  impacts_OT  impacts_Privacy                                         references  year  month  day            continent  Africa  Asia  Australia  Europe  North America  South America\n",
       "0        icsstrive.com  ALPS' North American production operations and...  Partially impacted North American production a...  [{'title': 'Alps Alpine Group', 'link_url': 'h...  No Malware identified                      2         N/A  [{'title': 'BlackByte', 'link_url': 'https://i...         ['Automotive', 'Manufacturing']       OT, IT           1           1                0  [{'title': 'Cyber Incident Victim: Alps Alpine...  2023      9   10  North America, Asia       0     1          0       0              1              0\n",
       "1        icsstrive.com  San Francisco, California-based Framework, the...                 Unknown as it seems PII was stolen  [{'title': 'Framework', 'link_url': 'https://i...  No Malware identified                      2         N/A                        No threat source identified                          ['Technology']           IT           1           0                0  [{'title': 'Laptop Maker Framework Says Custom...  2024      1    9        North America       0     0          0       0              1              0\n",
       "2        icsstrive.com  After suffering a cyberattack December 13, V.F...  Cost not known, 35.5 million customers persona...  [{'title': 'V.F. Corporation', 'link_url': 'ht...  No Malware identified                      2         N/A                        No threat source identified                       ['Manufacturing']           IT           1           0                0  [{'title': 'Clothing Brand, V.F. Corp., Hack H...  2023     12   13        North America       0     0          0       0              1              0\n",
       "3        icsstrive.com  Toyota Financial Services (TFS) is warning cus...                          No cost values disclosed.  [{'title': 'Toyota Financial Services, subs. o...  No Malware identified                      2         N/A                        No threat source identified                          ['Automotive']  Privacy, IT           1           0                1  [{'title': 'Toyota warns customers of data bre...  2023     12   11               Europe       0     0          0       1              0              0\n",
       "4        icsstrive.com  Chinese hackers are positioning themselves ins...                          No cost values disclosed.  [{'title': 'Unidentified Oil & Gas Pipeline', ...  No Malware identified                      2         N/A  [{'title': 'Volt Typhoon', 'link_url': 'https:...  ['Oil & Gas', 'Water and Waste Water']           IT           1           0                0  [{'title': 'Chinese hackers allegedly target U...  2023     12   11        North America       0     0          0       0              1              0\n",
       "5        icsstrive.com  Blue Waters Products Limited is the latest loc...                                            unknown  [{'title': 'Blue Waters Products Limited', 'li...  No Malware identified                      2         N/A  [{'title': 'LockBit', 'link_url': 'https://ics...               ['Water and Waste Water']           IT           1           0                0  [{'title': 'LockBit3 takes responsibility for ...  2023     12    9        North America       0     0          0       0              1              0\n",
       "6        icsstrive.com  A regulatory agency in Florida that oversees t...                          No cost values disclosed.  [{'title': 'St. Johns River Water Management D...  No Malware identified                      2         N/A  [{'title': 'Cyber Av3ngers', 'link_url': 'http...               ['Water and Waste Water']           IT           1           0                0  [{'title': 'Florida water agency latest to con...  2023     12    6        North America       0     0          0       0              1              0"
      ]
     },
     "execution_count": 67,
     "metadata": {},
     "output_type": "execute_result"
    }
   ],
   "source": [
    "df = pd.concat([df, continent_dummies], axis=1)\n",
    "df.head(7)"
   ]
  },
  {
   "cell_type": "code",
   "execution_count": 68,
   "metadata": {},
   "outputs": [],
   "source": [
    "df.drop('continent', axis=1, inplace=True)"
   ]
  },
  {
   "cell_type": "markdown",
   "metadata": {},
   "source": [
    "#### **Victims.**\n",
    "El proceso consiste en convertir las cadenas de la columna, que pueden representar listas de diccionarios, en estructuras adecuadas para extraer la información relevante.\n",
    "\n",
    "Primero, las cadenas se convierten en listas de diccionarios, manejando posibles errores de formato mediante excepciones para evitar fallos. Cuando la conversión es exitosa, se extraen los valores de las claves `title` y `link_url` de los diccionarios dentro de la lista. Esto permite crear dos nuevas columnas: **Victims title** y **Victims URL**."
   ]
  },
  {
   "cell_type": "code",
   "execution_count": 69,
   "metadata": {},
   "outputs": [
    {
     "data": {
      "text/plain": [
       "array([\"[{'title': 'Alps Alpine Group', 'link_url': 'https://icsstrive.com/victim/alps-alpine-group/'}]\",\n",
       "       \"[{'title': 'Framework', 'link_url': 'https://icsstrive.com/victim/framework/'}]\",\n",
       "       \"[{'title': 'V.F. Corporation', 'link_url': 'https://icsstrive.com/victim/v-f-corporation/'}]\",\n",
       "       \"[{'title': 'Toyota Financial Services, subs. of Toyota Motor Corp', 'link_url': 'https://icsstrive.com/victim/toyota-financial-services-subs-of-toyota-motor-corp/'}]\",\n",
       "       \"[{'title': 'Unidentified Oil & Gas Pipeline', 'link_url': 'https://icsstrive.com/victim/unidentified-oil-gas-pipeline/'}, {'title': 'Hawaii Water Utility', 'link_url': 'https://icsstrive.com/victim/hawaii-water-utility/'}]\",\n",
       "       \"[{'title': 'Blue Waters Products Limited', 'link_url': 'https://icsstrive.com/victim/blue-waters-products-limited/'}]\",\n",
       "       \"[{'title': 'St. Johns River Water Management District, Florida', 'link_url': 'https://icsstrive.com/victim/st-johns-river-water-management-district-florida/'}]\"],\n",
       "      dtype=object)"
      ]
     },
     "execution_count": 69,
     "metadata": {},
     "output_type": "execute_result"
    }
   ],
   "source": [
    "df['victims'].unique()[:7]"
   ]
  },
  {
   "cell_type": "code",
   "execution_count": 70,
   "metadata": {},
   "outputs": [],
   "source": [
    "df['victims'] = df['victims'].apply(safely_parse)"
   ]
  },
  {
   "cell_type": "code",
   "execution_count": 71,
   "metadata": {},
   "outputs": [],
   "source": [
    "df['victims_title'] = df['victims'].apply(lambda x: x[0]['title'] if isinstance(x, list) and x else 'No victims identified')\n",
    "df['victims_url'] = df['victims'].apply(lambda x: x[0]['link_url'] if isinstance(x, list) and x else 'No victims identified')"
   ]
  },
  {
   "cell_type": "markdown",
   "metadata": {},
   "source": [
    "El siguiente código se ha agregado para lograr que las columnas codificadas se agreguen justo después de la columna original, de manera que sea más fácil ver a qué se le ha asignado el valor codificado."
   ]
  },
  {
   "cell_type": "code",
   "execution_count": 72,
   "metadata": {},
   "outputs": [],
   "source": [
    "columns = df.columns.tolist()\n",
    "idx = columns.index('victims')\n",
    "\n",
    "columns = columns[:idx + 1] + ['victims_title', 'victims_url'] + columns[idx + 1:-2]\n",
    "df = df[columns]"
   ]
  },
  {
   "cell_type": "code",
   "execution_count": 73,
   "metadata": {},
   "outputs": [],
   "source": [
    "df.drop('victims', axis=1, inplace=True)"
   ]
  },
  {
   "cell_type": "markdown",
   "metadata": {},
   "source": [
    "**Victims URL.**"
   ]
  },
  {
   "cell_type": "code",
   "execution_count": 74,
   "metadata": {},
   "outputs": [],
   "source": [
    "df['victims_url'] = df['victims_url'].apply(extract_domain)"
   ]
  },
  {
   "cell_type": "code",
   "execution_count": 75,
   "metadata": {},
   "outputs": [
    {
     "data": {
      "text/plain": [
       "array(['icsstrive.com', ''], dtype=object)"
      ]
     },
     "execution_count": 75,
     "metadata": {},
     "output_type": "execute_result"
    }
   ],
   "source": [
    "df['victims_url'].unique()"
   ]
  },
  {
   "cell_type": "code",
   "execution_count": 76,
   "metadata": {},
   "outputs": [],
   "source": [
    "df['victims_url'] = df['victims_url'].replace([''], 'No victims identified')"
   ]
  },
  {
   "cell_type": "code",
   "execution_count": 77,
   "metadata": {},
   "outputs": [
    {
     "data": {
      "text/plain": [
       "array(['icsstrive.com', 'No victims identified'], dtype=object)"
      ]
     },
     "execution_count": 77,
     "metadata": {},
     "output_type": "execute_result"
    }
   ],
   "source": [
    "df['victims_url'].unique()"
   ]
  },
  {
   "cell_type": "markdown",
   "metadata": {},
   "source": [
    "**Victims Title.**"
   ]
  },
  {
   "cell_type": "code",
   "execution_count": 78,
   "metadata": {},
   "outputs": [
    {
     "data": {
      "text/plain": [
       "array(['Alps Alpine Group', 'Framework', 'V.F. Corporation',\n",
       "       'Toyota Financial Services, subs. of Toyota Motor Corp',\n",
       "       'Unidentified Oil & Gas Pipeline', 'Blue Waters Products Limited',\n",
       "       'St. Johns River Water Management District, Florida'], dtype=object)"
      ]
     },
     "execution_count": 78,
     "metadata": {},
     "output_type": "execute_result"
    }
   ],
   "source": [
    "df['victims_title'].unique()[:7]"
   ]
  },
  {
   "cell_type": "code",
   "execution_count": 79,
   "metadata": {},
   "outputs": [
    {
     "data": {
      "text/plain": [
       "777"
      ]
     },
     "execution_count": 79,
     "metadata": {},
     "output_type": "execute_result"
    }
   ],
   "source": [
    "df['victims_title'].nunique()"
   ]
  },
  {
   "cell_type": "markdown",
   "metadata": {},
   "source": [
    "No es posible categorizar los valores únicos de esta columna, ya que son numerosos y corresponden a nombres de empresas sin palabras clave que indiquen su industria. Sin datos adicionales o etiquetas, la clasificación no es factible."
   ]
  },
  {
   "cell_type": "markdown",
   "metadata": {},
   "source": [
    "#### **Threat Sources.**\n",
    "El proceso consiste en convertir las cadenas de la columna, que pueden representar listas de diccionarios, en estructuras adecuadas para extraer la información relevante.\n",
    "\n",
    "Primero, las cadenas se convierten en listas de diccionarios, manejando posibles errores de formato mediante excepciones para evitar fallos. Cuando la conversión es exitosa, se extraen los valores de las claves `title` y `link_url` de los diccionarios dentro de la lista. Esto permite crear dos nuevas columnas: **Threat Sources title** y **Threat Sources URL**."
   ]
  },
  {
   "cell_type": "code",
   "execution_count": 80,
   "metadata": {},
   "outputs": [
    {
     "data": {
      "text/plain": [
       "array(['No threat source identified',\n",
       "       \"[{'title': 'Volt Typhoon', 'link_url': 'https://icsstrive.com/threat-actor/volt-typhoon/'}]\",\n",
       "       \"[{'title': 'LockBit', 'link_url': 'https://icsstrive.com/threat-actor/lockbit/'}]\",\n",
       "       \"[{'title': 'Cyber Av3ngers', 'link_url': 'https://icsstrive.com/threat-actor/cyber-av3ngers/'}]\",\n",
       "       \"[{'title': 'Akira Ransomware Gang', 'link_url': 'https://icsstrive.com/threat-actor/akira-ransomware-gang/'}]\",\n",
       "       \"[{'title': 'Hunters International', 'link_url': 'https://icsstrive.com/threat-actor/hunters-international/'}]\",\n",
       "       \"[{'title': 'Play, aka PlayCrypt', 'link_url': 'https://icsstrive.com/threat-actor/play/'}]\",\n",
       "       \"[{'title': 'Medusa', 'link_url': 'https://icsstrive.com/threat-actor/medusa/'}]\"],\n",
       "      dtype=object)"
      ]
     },
     "execution_count": 80,
     "metadata": {},
     "output_type": "execute_result"
    }
   ],
   "source": [
    "df['threat_source'].unique()[1:9]"
   ]
  },
  {
   "cell_type": "code",
   "execution_count": 81,
   "metadata": {},
   "outputs": [
    {
     "data": {
      "text/plain": [
       "(753, 24)"
      ]
     },
     "execution_count": 81,
     "metadata": {},
     "output_type": "execute_result"
    }
   ],
   "source": [
    "df[df['threat_source'] == 'No threat source identified'].shape"
   ]
  },
  {
   "cell_type": "code",
   "execution_count": 82,
   "metadata": {},
   "outputs": [],
   "source": [
    "df['threat_source'] = df['threat_source'].apply(safely_parse)"
   ]
  },
  {
   "cell_type": "code",
   "execution_count": 83,
   "metadata": {},
   "outputs": [],
   "source": [
    "df['threat_source_title'] = df['threat_source'].apply(lambda x: x[0]['title'] if isinstance(x, list) and x else 'No threat source identified')\n",
    "df['threat_source_url'] = df['threat_source'].apply(lambda x: x[0]['link_url'] if isinstance(x, list) and x else 'No threat source identified')"
   ]
  },
  {
   "cell_type": "markdown",
   "metadata": {},
   "source": [
    "El siguiente código se ha agregado para lograr que las columnas codificadas se agreguen justo después de la columna original, de manera que sea más fácil ver a qué se le ha asignado el valor codificado.\n",
    "\n"
   ]
  },
  {
   "cell_type": "code",
   "execution_count": 84,
   "metadata": {},
   "outputs": [],
   "source": [
    "columns = df.columns.tolist()\n",
    "idx = columns.index('threat_source')\n",
    "\n",
    "columns = columns[:idx + 1] + ['threat_source_title', 'threat_source_url'] + columns[idx + 1:-2]\n",
    "df = df[columns]"
   ]
  },
  {
   "cell_type": "markdown",
   "metadata": {},
   "source": [
    "**Threat Sources URL.**"
   ]
  },
  {
   "cell_type": "code",
   "execution_count": 85,
   "metadata": {},
   "outputs": [],
   "source": [
    "df['threat_source_url'] = df['threat_source_url'].apply(extract_domain)"
   ]
  },
  {
   "cell_type": "code",
   "execution_count": 86,
   "metadata": {},
   "outputs": [],
   "source": [
    "df['threat_source_url'] = df['threat_source_url'].replace([''], 'No threat source identified')"
   ]
  },
  {
   "cell_type": "code",
   "execution_count": 87,
   "metadata": {},
   "outputs": [
    {
     "data": {
      "text/plain": [
       "array(['icsstrive.com', 'No threat source identified'], dtype=object)"
      ]
     },
     "execution_count": 87,
     "metadata": {},
     "output_type": "execute_result"
    }
   ],
   "source": [
    "df['threat_source_url'].unique()"
   ]
  },
  {
   "cell_type": "markdown",
   "metadata": {},
   "source": [
    "**Threat Sources Title.**"
   ]
  },
  {
   "cell_type": "code",
   "execution_count": 88,
   "metadata": {},
   "outputs": [
    {
     "data": {
      "text/plain": [
       "array(['BlackByte', 'No threat source identified', 'Volt Typhoon',\n",
       "       'LockBit', 'Cyber Av3ngers', 'Akira Ransomware Gang',\n",
       "       'Hunters International', 'Play, aka PlayCrypt', 'Medusa',\n",
       "       'BlackCat / ALPHV'], dtype=object)"
      ]
     },
     "execution_count": 88,
     "metadata": {},
     "output_type": "execute_result"
    }
   ],
   "source": [
    "df['threat_source_title'].unique()[:10]"
   ]
  },
  {
   "cell_type": "code",
   "execution_count": 89,
   "metadata": {},
   "outputs": [
    {
     "data": {
      "text/plain": [
       "91"
      ]
     },
     "execution_count": 89,
     "metadata": {},
     "output_type": "execute_result"
    }
   ],
   "source": [
    "df['threat_source_title'].nunique()"
   ]
  },
  {
   "cell_type": "markdown",
   "metadata": {},
   "source": [
    "Realizaremos un diccionario para poder categorizar los **Threat Source Title** según el grupo involucrado."
   ]
  },
  {
   "cell_type": "code",
   "execution_count": 90,
   "metadata": {},
   "outputs": [],
   "source": [
    "threat_source_categories = {\n",
    "    \"Ransomware Groups\": [\n",
    "        \"BlackByte\", \"LockBit\", \"Akira Ransomware Gang\", \"Play, aka PlayCrypt\",\n",
    "        \"Medusa\", \"BlackCat / ALPHV\", \"Cerber ransomware operation\",\n",
    "        \"Rhysida Ransomware Group\", \"NoEscape ransomware gang\", \n",
    "        \"Dunghill ransomware gang\", \"Clop (or Cl0p) ransomware gang\",\n",
    "        \"Royal Ransomware gang\", \"Bl00dy ‘bloody’ Ransomware Gang\", \n",
    "        \"Hive Ransomware Group\", \"DoppelPaymer Ransomware Gang\",\n",
    "        \"BianLian Ransomware Group\", \"Ragnar Locker\", \"Stormous ransomware group\", \n",
    "        \"Yanluowang ransomware group\", \"Lorenz ransomware gang\",\n",
    "        \"Nefilim ransomware gang\", \"Mount Locker\", \"Ryuk ransomware gang\",\n",
    "        \"Cactus ransomware gang\", \"Ransomexx\", \"BlackSuit\",\n",
    "        \"INC Ransom\", \"Black Basta Group\", \"Vice Society\", \"Daixin Team\",\n",
    "        \"Snatch ransomware group\", \"Qilin\", \"Nempty Ransomware group\",\n",
    "        \"Netwalker Group\", \"REvil\", \"Ragnarok Group\", \"Pandora\"\n",
    "    ],\n",
    "    \n",
    "    \"Hacktivists\": [\n",
    "        \"Cyber Av3ngers\", \"Mysterious Team Bangladesh\", \"Anonymous Sudan\",\n",
    "        \"Killnet\", \"Team OneFist\", \"Anonymous\", \"Predatory Sparrow\",\n",
    "        \"Cyber-Partisans\", \"Indian Cyber Force (ICF)\", \"NoName057(16)\", 'Lapsus$'\n",
    "    ],\n",
    "    \n",
    "    \"Nation State Actors\": [\n",
    "        \"Volt Typhoon\", \"Lazarus\", \"Sandworm\", \"Winnti\", \"Wizard Spider\", \n",
    "        \"Nobelium hacking group\", \n",
    "        \"Central Scientific Research Institute of Chemistry and Mechanics (CNIIHM), Russia\", \n",
    "        \"Russian Main Intelligence Directorate (GRU)\", \"Kimsuky\", \n",
    "        \"STIBNITE\", \"Cutting Sword of Justice\", \n",
    "        \"Nation State Actor\", \"Israel\", \"Russia\", \"Iran\", \"United States\",\n",
    "        \"Black Vine\", \"Isreal\", 'Indra'\n",
    "    ],\n",
    "\n",
    "    \"Criminal Groups\": [\n",
    "        \"Scattered Spider\", \"Money Message ransomware gang\", \n",
    "        \"RansomHouse Extortion Group\", \"Industrial Spy\", \"Gold Dupont\", \n",
    "        \"Desorden\", \"BlackMatter\", 'UNC2546'\n",
    "    ],\n",
    "    \n",
    "    \"Individuals\": [\n",
    "        \"Joseph Atkins\", \"Wyatt A. Travnichek\", \"Former Employee\"\n",
    "    ],\n",
    "    \n",
    "    \"Unknown\": [\n",
    "        \"No threat source identified\", \"Unconfirmed\", 'LV'\n",
    "    ],\n",
    "    \n",
    "    \"Miscellaneous Groups\": [\n",
    "        \"IT Army\", \"DarkSide\", \"Dark Angels\", \"Phoenix\", \"ZeroX\", \n",
    "        \"Cold River\", \"Black Reward\", \"Scatter Swine / 0ktapus\", \n",
    "        \"Brain Cipher\", \"Sticky Werewolf\", \"Hunters International\"\n",
    "    ]\n",
    "}"
   ]
  },
  {
   "cell_type": "code",
   "execution_count": 91,
   "metadata": {},
   "outputs": [],
   "source": [
    "def mapping_category(threat):\n",
    "    for category, threats in threat_source_categories.items():\n",
    "        if threat in threats:\n",
    "            return category\n",
    "    return None"
   ]
  },
  {
   "cell_type": "code",
   "execution_count": 92,
   "metadata": {},
   "outputs": [],
   "source": [
    "df['threat_source_category'] = df['threat_source_title'].apply(mapping_category)"
   ]
  },
  {
   "cell_type": "markdown",
   "metadata": {},
   "source": [
    "El siguiente código se ha agregado para lograr que las columnas codificadas se agreguen justo después de la columna original, de manera que sea más fácil ver a qué se le ha asignado el valor codificado."
   ]
  },
  {
   "cell_type": "code",
   "execution_count": 93,
   "metadata": {},
   "outputs": [],
   "source": [
    "df.insert(df.columns.get_loc('threat_source_title') + 1, 'threat_source_category', df.pop('threat_source_category'))"
   ]
  },
  {
   "cell_type": "code",
   "execution_count": 94,
   "metadata": {},
   "outputs": [
    {
     "data": {
      "text/plain": [
       "array([], dtype=object)"
      ]
     },
     "execution_count": 94,
     "metadata": {},
     "output_type": "execute_result"
    }
   ],
   "source": [
    "df[df['threat_source_category'].isnull()]['threat_source_title'].unique() # Threats no mapeados."
   ]
  },
  {
   "cell_type": "code",
   "execution_count": 95,
   "metadata": {},
   "outputs": [
    {
     "data": {
      "text/html": [
       "<div>\n",
       "<style scoped>\n",
       "    .dataframe tbody tr th:only-of-type {\n",
       "        vertical-align: middle;\n",
       "    }\n",
       "\n",
       "    .dataframe tbody tr th {\n",
       "        vertical-align: top;\n",
       "    }\n",
       "\n",
       "    .dataframe thead th {\n",
       "        text-align: right;\n",
       "    }\n",
       "</style>\n",
       "<table border=\"1\" class=\"dataframe\">\n",
       "  <thead>\n",
       "    <tr style=\"text-align: right;\">\n",
       "      <th></th>\n",
       "      <th>data_source_link_url</th>\n",
       "      <th>description</th>\n",
       "      <th>estimated_cost</th>\n",
       "      <th>victims_title</th>\n",
       "      <th>victims_url</th>\n",
       "      <th>malware_title</th>\n",
       "      <th>malware_title_grouped</th>\n",
       "      <th>malware_url</th>\n",
       "      <th>threat_source</th>\n",
       "      <th>threat_source_title</th>\n",
       "      <th>threat_source_category</th>\n",
       "      <th>threat_source_url</th>\n",
       "      <th>industries</th>\n",
       "      <th>impacts</th>\n",
       "      <th>impacts_IT</th>\n",
       "      <th>impacts_OT</th>\n",
       "      <th>impacts_Privacy</th>\n",
       "      <th>references</th>\n",
       "      <th>year</th>\n",
       "      <th>month</th>\n",
       "      <th>day</th>\n",
       "      <th>Africa</th>\n",
       "      <th>Asia</th>\n",
       "      <th>Australia</th>\n",
       "      <th>Europe</th>\n",
       "      <th>North America</th>\n",
       "      <th>South America</th>\n",
       "    </tr>\n",
       "  </thead>\n",
       "  <tbody>\n",
       "    <tr>\n",
       "      <th>0</th>\n",
       "      <td>icsstrive.com</td>\n",
       "      <td>ALPS' North American production operations and...</td>\n",
       "      <td>Partially impacted North American production a...</td>\n",
       "      <td>Alps Alpine Group</td>\n",
       "      <td>icsstrive.com</td>\n",
       "      <td>No Malware identified</td>\n",
       "      <td>2</td>\n",
       "      <td>N/A</td>\n",
       "      <td>[{'title': 'BlackByte', 'link_url': 'https://i...</td>\n",
       "      <td>BlackByte</td>\n",
       "      <td>Ransomware Groups</td>\n",
       "      <td>icsstrive.com</td>\n",
       "      <td>['Automotive', 'Manufacturing']</td>\n",
       "      <td>OT, IT</td>\n",
       "      <td>1</td>\n",
       "      <td>1</td>\n",
       "      <td>0</td>\n",
       "      <td>[{'title': 'Cyber Incident Victim: Alps Alpine...</td>\n",
       "      <td>2023</td>\n",
       "      <td>9</td>\n",
       "      <td>10</td>\n",
       "      <td>0</td>\n",
       "      <td>1</td>\n",
       "      <td>0</td>\n",
       "      <td>0</td>\n",
       "      <td>1</td>\n",
       "      <td>0</td>\n",
       "    </tr>\n",
       "    <tr>\n",
       "      <th>1</th>\n",
       "      <td>icsstrive.com</td>\n",
       "      <td>San Francisco, California-based Framework, the...</td>\n",
       "      <td>Unknown as it seems PII was stolen</td>\n",
       "      <td>Framework</td>\n",
       "      <td>icsstrive.com</td>\n",
       "      <td>No Malware identified</td>\n",
       "      <td>2</td>\n",
       "      <td>N/A</td>\n",
       "      <td>[]</td>\n",
       "      <td>No threat source identified</td>\n",
       "      <td>Unknown</td>\n",
       "      <td>No threat source identified</td>\n",
       "      <td>['Technology']</td>\n",
       "      <td>IT</td>\n",
       "      <td>1</td>\n",
       "      <td>0</td>\n",
       "      <td>0</td>\n",
       "      <td>[{'title': 'Laptop Maker Framework Says Custom...</td>\n",
       "      <td>2024</td>\n",
       "      <td>1</td>\n",
       "      <td>9</td>\n",
       "      <td>0</td>\n",
       "      <td>0</td>\n",
       "      <td>0</td>\n",
       "      <td>0</td>\n",
       "      <td>1</td>\n",
       "      <td>0</td>\n",
       "    </tr>\n",
       "  </tbody>\n",
       "</table>\n",
       "</div>"
      ],
      "text/plain": [
       "  data_source_link_url                                        description                                     estimated_cost      victims_title    victims_url          malware_title  malware_title_grouped malware_url                                      threat_source          threat_source_title threat_source_category            threat_source_url                       industries impacts  impacts_IT  impacts_OT  impacts_Privacy                                         references  year  month  day  Africa  Asia  Australia  Europe  North America  South America\n",
       "0        icsstrive.com  ALPS' North American production operations and...  Partially impacted North American production a...  Alps Alpine Group  icsstrive.com  No Malware identified                      2         N/A  [{'title': 'BlackByte', 'link_url': 'https://i...                    BlackByte      Ransomware Groups                icsstrive.com  ['Automotive', 'Manufacturing']  OT, IT           1           1                0  [{'title': 'Cyber Incident Victim: Alps Alpine...  2023      9   10       0     1          0       0              1              0\n",
       "1        icsstrive.com  San Francisco, California-based Framework, the...                 Unknown as it seems PII was stolen          Framework  icsstrive.com  No Malware identified                      2         N/A                                                 []  No threat source identified                Unknown  No threat source identified                   ['Technology']      IT           1           0                0  [{'title': 'Laptop Maker Framework Says Custom...  2024      1    9       0     0          0       0              1              0"
      ]
     },
     "execution_count": 95,
     "metadata": {},
     "output_type": "execute_result"
    }
   ],
   "source": [
    "df.head(2)"
   ]
  },
  {
   "cell_type": "code",
   "execution_count": 96,
   "metadata": {},
   "outputs": [],
   "source": [
    "label_encoder = LabelEncoder()\n",
    "df['threat_source_category_encoded'] = label_encoder.fit_transform(df['threat_source_category'])"
   ]
  },
  {
   "cell_type": "markdown",
   "metadata": {},
   "source": [
    "El siguiente código se ha agregado para lograr que las columnas codificadas se agreguen justo después de la columna original, de manera que sea más fácil ver a qué se le ha asignado el valor codificado.\n"
   ]
  },
  {
   "cell_type": "code",
   "execution_count": 97,
   "metadata": {},
   "outputs": [],
   "source": [
    "columns = df.columns.tolist()\n",
    "index = columns.index('threat_source_category')\n",
    "columns.insert(index + 1, columns.pop())\n",
    "df = df[columns]"
   ]
  },
  {
   "cell_type": "code",
   "execution_count": 98,
   "metadata": {},
   "outputs": [
    {
     "data": {
      "text/html": [
       "<div>\n",
       "<style scoped>\n",
       "    .dataframe tbody tr th:only-of-type {\n",
       "        vertical-align: middle;\n",
       "    }\n",
       "\n",
       "    .dataframe tbody tr th {\n",
       "        vertical-align: top;\n",
       "    }\n",
       "\n",
       "    .dataframe thead th {\n",
       "        text-align: right;\n",
       "    }\n",
       "</style>\n",
       "<table border=\"1\" class=\"dataframe\">\n",
       "  <thead>\n",
       "    <tr style=\"text-align: right;\">\n",
       "      <th></th>\n",
       "      <th>data_source_link_url</th>\n",
       "      <th>description</th>\n",
       "      <th>estimated_cost</th>\n",
       "      <th>victims_title</th>\n",
       "      <th>victims_url</th>\n",
       "      <th>malware_title</th>\n",
       "      <th>malware_title_grouped</th>\n",
       "      <th>malware_url</th>\n",
       "      <th>threat_source</th>\n",
       "      <th>threat_source_title</th>\n",
       "      <th>threat_source_category</th>\n",
       "      <th>threat_source_category_encoded</th>\n",
       "      <th>threat_source_url</th>\n",
       "      <th>industries</th>\n",
       "      <th>impacts</th>\n",
       "      <th>impacts_IT</th>\n",
       "      <th>impacts_OT</th>\n",
       "      <th>impacts_Privacy</th>\n",
       "      <th>references</th>\n",
       "      <th>year</th>\n",
       "      <th>month</th>\n",
       "      <th>day</th>\n",
       "      <th>Africa</th>\n",
       "      <th>Asia</th>\n",
       "      <th>Australia</th>\n",
       "      <th>Europe</th>\n",
       "      <th>North America</th>\n",
       "      <th>South America</th>\n",
       "    </tr>\n",
       "  </thead>\n",
       "  <tbody>\n",
       "    <tr>\n",
       "      <th>0</th>\n",
       "      <td>icsstrive.com</td>\n",
       "      <td>ALPS' North American production operations and...</td>\n",
       "      <td>Partially impacted North American production a...</td>\n",
       "      <td>Alps Alpine Group</td>\n",
       "      <td>icsstrive.com</td>\n",
       "      <td>No Malware identified</td>\n",
       "      <td>2</td>\n",
       "      <td>N/A</td>\n",
       "      <td>[{'title': 'BlackByte', 'link_url': 'https://i...</td>\n",
       "      <td>BlackByte</td>\n",
       "      <td>Ransomware Groups</td>\n",
       "      <td>5</td>\n",
       "      <td>icsstrive.com</td>\n",
       "      <td>['Automotive', 'Manufacturing']</td>\n",
       "      <td>OT, IT</td>\n",
       "      <td>1</td>\n",
       "      <td>1</td>\n",
       "      <td>0</td>\n",
       "      <td>[{'title': 'Cyber Incident Victim: Alps Alpine...</td>\n",
       "      <td>2023</td>\n",
       "      <td>9</td>\n",
       "      <td>10</td>\n",
       "      <td>0</td>\n",
       "      <td>1</td>\n",
       "      <td>0</td>\n",
       "      <td>0</td>\n",
       "      <td>1</td>\n",
       "      <td>0</td>\n",
       "    </tr>\n",
       "    <tr>\n",
       "      <th>1</th>\n",
       "      <td>icsstrive.com</td>\n",
       "      <td>San Francisco, California-based Framework, the...</td>\n",
       "      <td>Unknown as it seems PII was stolen</td>\n",
       "      <td>Framework</td>\n",
       "      <td>icsstrive.com</td>\n",
       "      <td>No Malware identified</td>\n",
       "      <td>2</td>\n",
       "      <td>N/A</td>\n",
       "      <td>[]</td>\n",
       "      <td>No threat source identified</td>\n",
       "      <td>Unknown</td>\n",
       "      <td>6</td>\n",
       "      <td>No threat source identified</td>\n",
       "      <td>['Technology']</td>\n",
       "      <td>IT</td>\n",
       "      <td>1</td>\n",
       "      <td>0</td>\n",
       "      <td>0</td>\n",
       "      <td>[{'title': 'Laptop Maker Framework Says Custom...</td>\n",
       "      <td>2024</td>\n",
       "      <td>1</td>\n",
       "      <td>9</td>\n",
       "      <td>0</td>\n",
       "      <td>0</td>\n",
       "      <td>0</td>\n",
       "      <td>0</td>\n",
       "      <td>1</td>\n",
       "      <td>0</td>\n",
       "    </tr>\n",
       "    <tr>\n",
       "      <th>2</th>\n",
       "      <td>icsstrive.com</td>\n",
       "      <td>After suffering a cyberattack December 13, V.F...</td>\n",
       "      <td>Cost not known, 35.5 million customers persona...</td>\n",
       "      <td>V.F. Corporation</td>\n",
       "      <td>icsstrive.com</td>\n",
       "      <td>No Malware identified</td>\n",
       "      <td>2</td>\n",
       "      <td>N/A</td>\n",
       "      <td>[]</td>\n",
       "      <td>No threat source identified</td>\n",
       "      <td>Unknown</td>\n",
       "      <td>6</td>\n",
       "      <td>No threat source identified</td>\n",
       "      <td>['Manufacturing']</td>\n",
       "      <td>IT</td>\n",
       "      <td>1</td>\n",
       "      <td>0</td>\n",
       "      <td>0</td>\n",
       "      <td>[{'title': 'Clothing Brand, V.F. Corp., Hack H...</td>\n",
       "      <td>2023</td>\n",
       "      <td>12</td>\n",
       "      <td>13</td>\n",
       "      <td>0</td>\n",
       "      <td>0</td>\n",
       "      <td>0</td>\n",
       "      <td>0</td>\n",
       "      <td>1</td>\n",
       "      <td>0</td>\n",
       "    </tr>\n",
       "  </tbody>\n",
       "</table>\n",
       "</div>"
      ],
      "text/plain": [
       "  data_source_link_url                                        description                                     estimated_cost      victims_title    victims_url          malware_title  malware_title_grouped malware_url                                      threat_source          threat_source_title threat_source_category  threat_source_category_encoded            threat_source_url                       industries impacts  impacts_IT  impacts_OT  impacts_Privacy                                         references  year  month  day  Africa  Asia  Australia  Europe  North America  South America\n",
       "0        icsstrive.com  ALPS' North American production operations and...  Partially impacted North American production a...  Alps Alpine Group  icsstrive.com  No Malware identified                      2         N/A  [{'title': 'BlackByte', 'link_url': 'https://i...                    BlackByte      Ransomware Groups                               5                icsstrive.com  ['Automotive', 'Manufacturing']  OT, IT           1           1                0  [{'title': 'Cyber Incident Victim: Alps Alpine...  2023      9   10       0     1          0       0              1              0\n",
       "1        icsstrive.com  San Francisco, California-based Framework, the...                 Unknown as it seems PII was stolen          Framework  icsstrive.com  No Malware identified                      2         N/A                                                 []  No threat source identified                Unknown                               6  No threat source identified                   ['Technology']      IT           1           0                0  [{'title': 'Laptop Maker Framework Says Custom...  2024      1    9       0     0          0       0              1              0\n",
       "2        icsstrive.com  After suffering a cyberattack December 13, V.F...  Cost not known, 35.5 million customers persona...   V.F. Corporation  icsstrive.com  No Malware identified                      2         N/A                                                 []  No threat source identified                Unknown                               6  No threat source identified                ['Manufacturing']      IT           1           0                0  [{'title': 'Clothing Brand, V.F. Corp., Hack H...  2023     12   13       0     0          0       0              1              0"
      ]
     },
     "execution_count": 98,
     "metadata": {},
     "output_type": "execute_result"
    }
   ],
   "source": [
    "df.head(3)"
   ]
  },
  {
   "cell_type": "markdown",
   "metadata": {},
   "source": [
    "#### **Industries.**\n",
    "\n",
    "Para facilitar el análisis, crearemos categorias para agruparlas. Por tal motivo, crearemos una nueva columna llamada **Industries Grouped**, que contendrá el nombre de la categoría de la industria a la que pertenece cada fila. Primero, se limpiarán los datos manejando posibles valores nulos o vacios. Luego, se utilizará un conjunto de categorías predifinidas tales como: `Manufacturing`, `Technology`, `Healthcare`, entre otras."
   ]
  },
  {
   "cell_type": "code",
   "execution_count": 99,
   "metadata": {},
   "outputs": [
    {
     "data": {
      "text/plain": [
       "array([\"['Automotive', 'Manufacturing']\", \"['Technology']\",\n",
       "       \"['Manufacturing']\", \"['Automotive']\",\n",
       "       \"['Oil & Gas', 'Water and Waste Water']\",\n",
       "       \"['Water and Waste Water']\",\n",
       "       \"['Energy (Includes Power and Utilities)', 'Water and Waste Water']\",\n",
       "       \"['Automotive', 'Other']\",\n",
       "       \"['Transportation (Includes Logistics, Shipping, Maritime, Rail, Trucking)']\",\n",
       "       \"['Food & Beverage']\"], dtype=object)"
      ]
     },
     "execution_count": 99,
     "metadata": {},
     "output_type": "execute_result"
    }
   ],
   "source": [
    "df['industries'].unique()[0:10]"
   ]
  },
  {
   "cell_type": "code",
   "execution_count": 100,
   "metadata": {},
   "outputs": [],
   "source": [
    "df['industries'] = df['industries'].str.strip(\"[]\").str.replace(\"'\", \"\")"
   ]
  },
  {
   "cell_type": "code",
   "execution_count": 101,
   "metadata": {},
   "outputs": [
    {
     "data": {
      "text/plain": [
       "89"
      ]
     },
     "execution_count": 101,
     "metadata": {},
     "output_type": "execute_result"
    }
   ],
   "source": [
    "df['industries'].nunique()"
   ]
  },
  {
   "cell_type": "code",
   "execution_count": 102,
   "metadata": {},
   "outputs": [],
   "source": [
    "industries_mapping = {\n",
    "    \"Manufacturing\": [\n",
    "        \"Automotive\", \"Manufacturing\", \"Pulp & Paper\", \"Metals\", \"Chemicals\", \"Food & Beverage\",\n",
    "        \"Metals & Mining\", \"Steel\", \"Packaging\"\n",
    "    ],\n",
    "    \"Technology\": [\n",
    "        \"Technology\", \"Software\", \"Cloud Provider\", \"Communications\"\n",
    "    ],\n",
    "    \"Healthcare\": [\n",
    "        \"Healthcare\", \"Pharmaceutical\", \"Biotech\"\n",
    "    ],\n",
    "    \"Transportation and Logistics\": [\n",
    "        \"Transportation (Includes Logistics, Shipping, Maritime, Rail, Trucking)\"\n",
    "    ],\n",
    "    \"Energy and Utilities\": [\n",
    "        \"Oil & Gas\", \"Water and Waste Water\", \"Energy (Includes Power and Utilities)\"\n",
    "    ],\n",
    "    \"Government and Defense\": [\n",
    "        \"Government\", \"Defense\"\n",
    "    ],\n",
    "    \"Engineering and Construction\": [\n",
    "        \"Engineering (Includes Industrial Construction)\"],\n",
    "    \"Other\": [\n",
    "        \"Other\"\n",
    "    ],\n",
    "    \"Unknown\": [\n",
    "        \"Unknown\"\n",
    "    ]\n",
    "}"
   ]
  },
  {
   "cell_type": "code",
   "execution_count": 103,
   "metadata": {},
   "outputs": [],
   "source": [
    "def map_industries(industries):\n",
    "    if not industries or industries.strip() == \"\":\n",
    "        return \"Unknown\"\n",
    "    industries_list = [ind.strip() for ind in industries.split(',')]\n",
    "\n",
    "    mapped_categories = set() # Usar un conjunto para evitar duplicados.\n",
    "    for industry in industries_list:\n",
    "        for category, items in industries_mapping.items():\n",
    "            if industry in items:\n",
    "                mapped_categories.add(category)\n",
    "                break\n",
    "        else:  # Si no se encuentra en el mapeo\n",
    "            mapped_categories.add(industry)\n",
    "    return \", \".join(sorted(mapped_categories))"
   ]
  },
  {
   "cell_type": "code",
   "execution_count": 104,
   "metadata": {},
   "outputs": [],
   "source": [
    "df['industries_grouped'] = df['industries'].apply(map_industries)"
   ]
  },
  {
   "cell_type": "code",
   "execution_count": 105,
   "metadata": {},
   "outputs": [
    {
     "data": {
      "text/plain": [
       "46"
      ]
     },
     "execution_count": 105,
     "metadata": {},
     "output_type": "execute_result"
    }
   ],
   "source": [
    "df['industries_grouped'].nunique()"
   ]
  },
  {
   "cell_type": "code",
   "execution_count": 106,
   "metadata": {},
   "outputs": [],
   "source": [
    "columns = df.columns.tolist()\n",
    "index = columns.index('industries')\n",
    "columns.insert(index + 1, columns.pop())\n",
    "df = df[columns]"
   ]
  },
  {
   "cell_type": "code",
   "execution_count": 107,
   "metadata": {},
   "outputs": [
    {
     "data": {
      "text/html": [
       "<div>\n",
       "<style scoped>\n",
       "    .dataframe tbody tr th:only-of-type {\n",
       "        vertical-align: middle;\n",
       "    }\n",
       "\n",
       "    .dataframe tbody tr th {\n",
       "        vertical-align: top;\n",
       "    }\n",
       "\n",
       "    .dataframe thead th {\n",
       "        text-align: right;\n",
       "    }\n",
       "</style>\n",
       "<table border=\"1\" class=\"dataframe\">\n",
       "  <thead>\n",
       "    <tr style=\"text-align: right;\">\n",
       "      <th></th>\n",
       "      <th>data_source_link_url</th>\n",
       "      <th>description</th>\n",
       "      <th>estimated_cost</th>\n",
       "      <th>victims_title</th>\n",
       "      <th>victims_url</th>\n",
       "      <th>malware_title</th>\n",
       "      <th>malware_title_grouped</th>\n",
       "      <th>malware_url</th>\n",
       "      <th>threat_source</th>\n",
       "      <th>threat_source_title</th>\n",
       "      <th>threat_source_category</th>\n",
       "      <th>threat_source_category_encoded</th>\n",
       "      <th>threat_source_url</th>\n",
       "      <th>industries</th>\n",
       "      <th>industries_grouped</th>\n",
       "      <th>impacts</th>\n",
       "      <th>impacts_IT</th>\n",
       "      <th>impacts_OT</th>\n",
       "      <th>impacts_Privacy</th>\n",
       "      <th>references</th>\n",
       "      <th>year</th>\n",
       "      <th>month</th>\n",
       "      <th>day</th>\n",
       "      <th>Africa</th>\n",
       "      <th>Asia</th>\n",
       "      <th>Australia</th>\n",
       "      <th>Europe</th>\n",
       "      <th>North America</th>\n",
       "      <th>South America</th>\n",
       "    </tr>\n",
       "  </thead>\n",
       "  <tbody>\n",
       "    <tr>\n",
       "      <th>0</th>\n",
       "      <td>icsstrive.com</td>\n",
       "      <td>ALPS' North American production operations and...</td>\n",
       "      <td>Partially impacted North American production a...</td>\n",
       "      <td>Alps Alpine Group</td>\n",
       "      <td>icsstrive.com</td>\n",
       "      <td>No Malware identified</td>\n",
       "      <td>2</td>\n",
       "      <td>N/A</td>\n",
       "      <td>[{'title': 'BlackByte', 'link_url': 'https://i...</td>\n",
       "      <td>BlackByte</td>\n",
       "      <td>Ransomware Groups</td>\n",
       "      <td>5</td>\n",
       "      <td>icsstrive.com</td>\n",
       "      <td>Automotive, Manufacturing</td>\n",
       "      <td>Manufacturing</td>\n",
       "      <td>OT, IT</td>\n",
       "      <td>1</td>\n",
       "      <td>1</td>\n",
       "      <td>0</td>\n",
       "      <td>[{'title': 'Cyber Incident Victim: Alps Alpine...</td>\n",
       "      <td>2023</td>\n",
       "      <td>9</td>\n",
       "      <td>10</td>\n",
       "      <td>0</td>\n",
       "      <td>1</td>\n",
       "      <td>0</td>\n",
       "      <td>0</td>\n",
       "      <td>1</td>\n",
       "      <td>0</td>\n",
       "    </tr>\n",
       "    <tr>\n",
       "      <th>1</th>\n",
       "      <td>icsstrive.com</td>\n",
       "      <td>San Francisco, California-based Framework, the...</td>\n",
       "      <td>Unknown as it seems PII was stolen</td>\n",
       "      <td>Framework</td>\n",
       "      <td>icsstrive.com</td>\n",
       "      <td>No Malware identified</td>\n",
       "      <td>2</td>\n",
       "      <td>N/A</td>\n",
       "      <td>[]</td>\n",
       "      <td>No threat source identified</td>\n",
       "      <td>Unknown</td>\n",
       "      <td>6</td>\n",
       "      <td>No threat source identified</td>\n",
       "      <td>Technology</td>\n",
       "      <td>Technology</td>\n",
       "      <td>IT</td>\n",
       "      <td>1</td>\n",
       "      <td>0</td>\n",
       "      <td>0</td>\n",
       "      <td>[{'title': 'Laptop Maker Framework Says Custom...</td>\n",
       "      <td>2024</td>\n",
       "      <td>1</td>\n",
       "      <td>9</td>\n",
       "      <td>0</td>\n",
       "      <td>0</td>\n",
       "      <td>0</td>\n",
       "      <td>0</td>\n",
       "      <td>1</td>\n",
       "      <td>0</td>\n",
       "    </tr>\n",
       "    <tr>\n",
       "      <th>2</th>\n",
       "      <td>icsstrive.com</td>\n",
       "      <td>After suffering a cyberattack December 13, V.F...</td>\n",
       "      <td>Cost not known, 35.5 million customers persona...</td>\n",
       "      <td>V.F. Corporation</td>\n",
       "      <td>icsstrive.com</td>\n",
       "      <td>No Malware identified</td>\n",
       "      <td>2</td>\n",
       "      <td>N/A</td>\n",
       "      <td>[]</td>\n",
       "      <td>No threat source identified</td>\n",
       "      <td>Unknown</td>\n",
       "      <td>6</td>\n",
       "      <td>No threat source identified</td>\n",
       "      <td>Manufacturing</td>\n",
       "      <td>Manufacturing</td>\n",
       "      <td>IT</td>\n",
       "      <td>1</td>\n",
       "      <td>0</td>\n",
       "      <td>0</td>\n",
       "      <td>[{'title': 'Clothing Brand, V.F. Corp., Hack H...</td>\n",
       "      <td>2023</td>\n",
       "      <td>12</td>\n",
       "      <td>13</td>\n",
       "      <td>0</td>\n",
       "      <td>0</td>\n",
       "      <td>0</td>\n",
       "      <td>0</td>\n",
       "      <td>1</td>\n",
       "      <td>0</td>\n",
       "    </tr>\n",
       "  </tbody>\n",
       "</table>\n",
       "</div>"
      ],
      "text/plain": [
       "  data_source_link_url                                        description                                     estimated_cost      victims_title    victims_url          malware_title  malware_title_grouped malware_url                                      threat_source          threat_source_title threat_source_category  threat_source_category_encoded            threat_source_url                 industries industries_grouped impacts  impacts_IT  impacts_OT  impacts_Privacy                                         references  year  month  day  Africa  Asia  Australia  Europe  North America  South America\n",
       "0        icsstrive.com  ALPS' North American production operations and...  Partially impacted North American production a...  Alps Alpine Group  icsstrive.com  No Malware identified                      2         N/A  [{'title': 'BlackByte', 'link_url': 'https://i...                    BlackByte      Ransomware Groups                               5                icsstrive.com  Automotive, Manufacturing      Manufacturing  OT, IT           1           1                0  [{'title': 'Cyber Incident Victim: Alps Alpine...  2023      9   10       0     1          0       0              1              0\n",
       "1        icsstrive.com  San Francisco, California-based Framework, the...                 Unknown as it seems PII was stolen          Framework  icsstrive.com  No Malware identified                      2         N/A                                                 []  No threat source identified                Unknown                               6  No threat source identified                 Technology         Technology      IT           1           0                0  [{'title': 'Laptop Maker Framework Says Custom...  2024      1    9       0     0          0       0              1              0\n",
       "2        icsstrive.com  After suffering a cyberattack December 13, V.F...  Cost not known, 35.5 million customers persona...   V.F. Corporation  icsstrive.com  No Malware identified                      2         N/A                                                 []  No threat source identified                Unknown                               6  No threat source identified              Manufacturing      Manufacturing      IT           1           0                0  [{'title': 'Clothing Brand, V.F. Corp., Hack H...  2023     12   13       0     0          0       0              1              0"
      ]
     },
     "execution_count": 107,
     "metadata": {},
     "output_type": "execute_result"
    }
   ],
   "source": [
    "df.head(3)"
   ]
  },
  {
   "cell_type": "markdown",
   "metadata": {},
   "source": [
    "Al tener le Dataframe muchas columnas, no es óptimo el uso del **One-Hot Encoding**. Para abordar este problema, se utiliza **Hash Encoding**. En lugar de crear una columna por cada categoría única, **Hash Encoding** aplica una función de hash a las categorías y genera un número reducido de columnas, que corresponden a valores hash generados a partir de las categorías. Este enfoque permite reducir la dimensionalidad del conjunto de datos sin perder demasiada información."
   ]
  },
  {
   "cell_type": "code",
   "execution_count": 108,
   "metadata": {},
   "outputs": [],
   "source": [
    "def hash_category(category, max_hash_size=1000): # Si solo hay una category.\n",
    "    return int(hashlib.md5(category.encode('utf-8')).hexdigest(), 16) % max_hash_size"
   ]
  },
  {
   "cell_type": "code",
   "execution_count": 109,
   "metadata": {},
   "outputs": [],
   "source": [
    "def hash_categories(row, max_hash_size=1000): # Si hay varias categories.\n",
    "    categories = row.split(', ')\n",
    "    return [hash_category(cat, max_hash_size) for cat in categories]"
   ]
  },
  {
   "cell_type": "code",
   "execution_count": 110,
   "metadata": {},
   "outputs": [],
   "source": [
    "df['industries_grouped_hashed'] = df['industries_grouped'].apply(hash_categories)"
   ]
  },
  {
   "cell_type": "code",
   "execution_count": 111,
   "metadata": {},
   "outputs": [],
   "source": [
    "cols = df.columns.tolist()\n",
    "disclosure_index = cols.index('industries_grouped')\n",
    "cols.insert(disclosure_index + 1, cols.pop(cols.index('industries_grouped_hashed')))\n",
    "df = df[cols]"
   ]
  },
  {
   "cell_type": "code",
   "execution_count": 112,
   "metadata": {},
   "outputs": [
    {
     "data": {
      "text/html": [
       "<div>\n",
       "<style scoped>\n",
       "    .dataframe tbody tr th:only-of-type {\n",
       "        vertical-align: middle;\n",
       "    }\n",
       "\n",
       "    .dataframe tbody tr th {\n",
       "        vertical-align: top;\n",
       "    }\n",
       "\n",
       "    .dataframe thead th {\n",
       "        text-align: right;\n",
       "    }\n",
       "</style>\n",
       "<table border=\"1\" class=\"dataframe\">\n",
       "  <thead>\n",
       "    <tr style=\"text-align: right;\">\n",
       "      <th></th>\n",
       "      <th>data_source_link_url</th>\n",
       "      <th>description</th>\n",
       "      <th>estimated_cost</th>\n",
       "      <th>victims_title</th>\n",
       "      <th>victims_url</th>\n",
       "      <th>malware_title</th>\n",
       "      <th>malware_title_grouped</th>\n",
       "      <th>malware_url</th>\n",
       "      <th>threat_source</th>\n",
       "      <th>threat_source_title</th>\n",
       "      <th>threat_source_category</th>\n",
       "      <th>threat_source_category_encoded</th>\n",
       "      <th>threat_source_url</th>\n",
       "      <th>industries</th>\n",
       "      <th>industries_grouped</th>\n",
       "      <th>industries_grouped_hashed</th>\n",
       "      <th>impacts</th>\n",
       "      <th>impacts_IT</th>\n",
       "      <th>impacts_OT</th>\n",
       "      <th>impacts_Privacy</th>\n",
       "      <th>references</th>\n",
       "      <th>year</th>\n",
       "      <th>month</th>\n",
       "      <th>day</th>\n",
       "      <th>Africa</th>\n",
       "      <th>Asia</th>\n",
       "      <th>Australia</th>\n",
       "      <th>Europe</th>\n",
       "      <th>North America</th>\n",
       "      <th>South America</th>\n",
       "    </tr>\n",
       "  </thead>\n",
       "  <tbody>\n",
       "    <tr>\n",
       "      <th>0</th>\n",
       "      <td>icsstrive.com</td>\n",
       "      <td>ALPS' North American production operations and...</td>\n",
       "      <td>Partially impacted North American production a...</td>\n",
       "      <td>Alps Alpine Group</td>\n",
       "      <td>icsstrive.com</td>\n",
       "      <td>No Malware identified</td>\n",
       "      <td>2</td>\n",
       "      <td>N/A</td>\n",
       "      <td>[{'title': 'BlackByte', 'link_url': 'https://i...</td>\n",
       "      <td>BlackByte</td>\n",
       "      <td>Ransomware Groups</td>\n",
       "      <td>5</td>\n",
       "      <td>icsstrive.com</td>\n",
       "      <td>Automotive, Manufacturing</td>\n",
       "      <td>Manufacturing</td>\n",
       "      <td>[12]</td>\n",
       "      <td>OT, IT</td>\n",
       "      <td>1</td>\n",
       "      <td>1</td>\n",
       "      <td>0</td>\n",
       "      <td>[{'title': 'Cyber Incident Victim: Alps Alpine...</td>\n",
       "      <td>2023</td>\n",
       "      <td>9</td>\n",
       "      <td>10</td>\n",
       "      <td>0</td>\n",
       "      <td>1</td>\n",
       "      <td>0</td>\n",
       "      <td>0</td>\n",
       "      <td>1</td>\n",
       "      <td>0</td>\n",
       "    </tr>\n",
       "    <tr>\n",
       "      <th>1</th>\n",
       "      <td>icsstrive.com</td>\n",
       "      <td>San Francisco, California-based Framework, the...</td>\n",
       "      <td>Unknown as it seems PII was stolen</td>\n",
       "      <td>Framework</td>\n",
       "      <td>icsstrive.com</td>\n",
       "      <td>No Malware identified</td>\n",
       "      <td>2</td>\n",
       "      <td>N/A</td>\n",
       "      <td>[]</td>\n",
       "      <td>No threat source identified</td>\n",
       "      <td>Unknown</td>\n",
       "      <td>6</td>\n",
       "      <td>No threat source identified</td>\n",
       "      <td>Technology</td>\n",
       "      <td>Technology</td>\n",
       "      <td>[240]</td>\n",
       "      <td>IT</td>\n",
       "      <td>1</td>\n",
       "      <td>0</td>\n",
       "      <td>0</td>\n",
       "      <td>[{'title': 'Laptop Maker Framework Says Custom...</td>\n",
       "      <td>2024</td>\n",
       "      <td>1</td>\n",
       "      <td>9</td>\n",
       "      <td>0</td>\n",
       "      <td>0</td>\n",
       "      <td>0</td>\n",
       "      <td>0</td>\n",
       "      <td>1</td>\n",
       "      <td>0</td>\n",
       "    </tr>\n",
       "    <tr>\n",
       "      <th>2</th>\n",
       "      <td>icsstrive.com</td>\n",
       "      <td>After suffering a cyberattack December 13, V.F...</td>\n",
       "      <td>Cost not known, 35.5 million customers persona...</td>\n",
       "      <td>V.F. Corporation</td>\n",
       "      <td>icsstrive.com</td>\n",
       "      <td>No Malware identified</td>\n",
       "      <td>2</td>\n",
       "      <td>N/A</td>\n",
       "      <td>[]</td>\n",
       "      <td>No threat source identified</td>\n",
       "      <td>Unknown</td>\n",
       "      <td>6</td>\n",
       "      <td>No threat source identified</td>\n",
       "      <td>Manufacturing</td>\n",
       "      <td>Manufacturing</td>\n",
       "      <td>[12]</td>\n",
       "      <td>IT</td>\n",
       "      <td>1</td>\n",
       "      <td>0</td>\n",
       "      <td>0</td>\n",
       "      <td>[{'title': 'Clothing Brand, V.F. Corp., Hack H...</td>\n",
       "      <td>2023</td>\n",
       "      <td>12</td>\n",
       "      <td>13</td>\n",
       "      <td>0</td>\n",
       "      <td>0</td>\n",
       "      <td>0</td>\n",
       "      <td>0</td>\n",
       "      <td>1</td>\n",
       "      <td>0</td>\n",
       "    </tr>\n",
       "  </tbody>\n",
       "</table>\n",
       "</div>"
      ],
      "text/plain": [
       "  data_source_link_url                                        description                                     estimated_cost      victims_title    victims_url          malware_title  malware_title_grouped malware_url                                      threat_source          threat_source_title threat_source_category  threat_source_category_encoded            threat_source_url                 industries industries_grouped industries_grouped_hashed impacts  impacts_IT  impacts_OT  impacts_Privacy                                         references  year  month  day  Africa  Asia  Australia  Europe  North America  South America\n",
       "0        icsstrive.com  ALPS' North American production operations and...  Partially impacted North American production a...  Alps Alpine Group  icsstrive.com  No Malware identified                      2         N/A  [{'title': 'BlackByte', 'link_url': 'https://i...                    BlackByte      Ransomware Groups                               5                icsstrive.com  Automotive, Manufacturing      Manufacturing                      [12]  OT, IT           1           1                0  [{'title': 'Cyber Incident Victim: Alps Alpine...  2023      9   10       0     1          0       0              1              0\n",
       "1        icsstrive.com  San Francisco, California-based Framework, the...                 Unknown as it seems PII was stolen          Framework  icsstrive.com  No Malware identified                      2         N/A                                                 []  No threat source identified                Unknown                               6  No threat source identified                 Technology         Technology                     [240]      IT           1           0                0  [{'title': 'Laptop Maker Framework Says Custom...  2024      1    9       0     0          0       0              1              0\n",
       "2        icsstrive.com  After suffering a cyberattack December 13, V.F...  Cost not known, 35.5 million customers persona...   V.F. Corporation  icsstrive.com  No Malware identified                      2         N/A                                                 []  No threat source identified                Unknown                               6  No threat source identified              Manufacturing      Manufacturing                      [12]      IT           1           0                0  [{'title': 'Clothing Brand, V.F. Corp., Hack H...  2023     12   13       0     0          0       0              1              0"
      ]
     },
     "execution_count": 112,
     "metadata": {},
     "output_type": "execute_result"
    }
   ],
   "source": [
    "df.head(3)"
   ]
  },
  {
   "cell_type": "markdown",
   "metadata": {},
   "source": [
    "#### **Estimated Cost.**\n",
    "\n",
    "Para aquellos casos en los que el valor del costo este ausente o sea indeterminado \"N/A\", se reemplazaran con la moda de los valores presentes en la columna de costo estimado en funcion a la industria a la que pertenencen. Además, se creará una nueva columna **cost_category**, que represnetará la categoría del costo estimado con las siguientes categorías: \n",
    "\n",
    "- `Low` : para costos bajos\n",
    "- `Medium` : para costos medios\n",
    "- `High` : para costos altos\n",
    "- `Very High` : para valores más elevados"
   ]
  },
  {
   "cell_type": "code",
   "execution_count": 113,
   "metadata": {},
   "outputs": [
    {
     "data": {
      "text/plain": [
       "array(['Partially impacted North American production and shipping for 2+ days,  employee data leaked',\n",
       "       'Unknown as it seems PII was stolen',\n",
       "       'Cost not known, 35.5 million customers personal information stolen',\n",
       "       'No cost values disclosed.', 'unknown',\n",
       "       'internal systems disrupted for several days',\n",
       "       'unknown at this time', '$8M Ransom demanded',\n",
       "       'Production disrupted',\n",
       "       'disruptions in logistics planning, supply chain management, and communication channels'],\n",
       "      dtype=object)"
      ]
     },
     "execution_count": 113,
     "metadata": {},
     "output_type": "execute_result"
    }
   ],
   "source": [
    "df['estimated_cost'].unique()[0:10]"
   ]
  },
  {
   "cell_type": "code",
   "execution_count": 114,
   "metadata": {},
   "outputs": [],
   "source": [
    "def clean_estimated_cost(cost_string):\n",
    "    if pd.isna(cost_string):\n",
    "        return \"N/A\"\n",
    "\n",
    "    cost_string = str(cost_string).strip()\n",
    "\n",
    "    # Prioridad 1: Detectar rangos monetarios con o sin símbolo de dólar\n",
    "    match_range = re.search(\n",
    "        r'(\\$?\\s*\\d+(?:[.,]\\d{1,2})?)\\s*[-to]+\\s*(\\d+(?:[.,]\\d{1,2}))(?:\\s*(million|billion|M|K))?',\n",
    "        cost_string, re.IGNORECASE\n",
    "    )\n",
    "    if match_range:\n",
    "        low_value, high_value, unit = match_range.groups()\n",
    "        low_value = float(low_value.replace(',', '').replace('$', '').strip())\n",
    "        high_value = float(high_value.replace(',', '').strip())\n",
    "        multiplier = {'million': 1_000_000, 'billion': 1_000_000_000, 'M': 1_000_000, 'K': 1_000}.get((unit or \"\").lower(), 1)\n",
    "        return int(high_value * multiplier)\n",
    "    # Prioridad 2: Detectar valores monetarios explícitos (e.g., \"$3M\", \"5 million\")\n",
    "    match_single = re.search(\n",
    "        r'(?:US\\$|\\$)?\\s*(\\d+(?:[.,]\\d{1,2})?)\\s*(million|billion|M|K|B)',  # Incluye prefijo \"US$\" o \"$\"\n",
    "        cost_string, re.IGNORECASE)\n",
    "\n",
    "    if match_single:\n",
    "        value, unit = match_single.groups()\n",
    "        value = float(re.sub(r'[^\\d.]+', '', value.strip()))\n",
    "        multiplier = {'million': 1_000_000, 'billion': 1_000_000_000, 'm': 1_000_000, 'k': 1_000, 'b':  1_000_000_000}.get((unit or \"\").lower(), 1)\n",
    "        return int(value * multiplier)\n",
    "\n",
    "    match_number_with_comma = re.search(\n",
    "    r'(?:US\\$|\\$)?\\s*(\\d{1,3}(?:[.,]\\d{3})+)(?:[.,]\\d{1,2})?',  # Detecta valores con separadores de miles y decimales\n",
    "    cost_string, re.IGNORECASE)\n",
    "    if match_number_with_comma:\n",
    "        value = match_number_with_comma.group(1)\n",
    "        try:\n",
    "            # Identificar si los puntos actúan como separadores de miles (formato internacional)\n",
    "            if '.' in value and ',' not in value:  # Formato como \"7.500.000\"\n",
    "                value = value.replace('.', '')  # Eliminar puntos como separadores de miles\n",
    "            else:  # Formato con comas \"7,500,000\"\n",
    "                value = value.replace(',', '')  # Eliminar comas como separadores de miles\n",
    "            # Convertir a flotante\n",
    "            value = float(value.strip())\n",
    "        except ValueError:\n",
    "            return \"N/A\"\n",
    "        return int(value)\n",
    "\n",
    "    # Prioridad 3: Detectar referencias temporales (e.g., \"2 weeks\")\n",
    "    if re.search(r'\\d+\\s*(days|weeks|hours|minutes|seconds)', cost_string.lower()):\n",
    "        return \"N/A\"\n",
    "\n",
    "    # Prioridad 4: Detectar palabras clave que indican falta de datos\n",
    "    if any(word in cost_string.lower() for word in ['no cost values disclosed', 'unknown', 'unsure']):\n",
    "        return \"N/A\"\n",
    "\n",
    "    # Prioridad 5: Valor no procesable\n",
    "    return 'No cost values disclosed'"
   ]
  },
  {
   "cell_type": "code",
   "execution_count": 115,
   "metadata": {},
   "outputs": [],
   "source": [
    "df['estimated_cost'] = df['estimated_cost'].apply(clean_estimated_cost)"
   ]
  },
  {
   "cell_type": "code",
   "execution_count": 116,
   "metadata": {},
   "outputs": [
    {
     "data": {
      "text/plain": [
       "array(['No cost values disclosed', 'N/A', 35500000, 8000000, 51000000,\n",
       "       1000000, 110000000, 1500000, 3000000, 70000000, 85000000, 20000000,\n",
       "       4000000, 20000, 100000, 3250000, 56000000000, 10500000, 4600000,\n",
       "       126243, 23000000, 55000000, 2500, 2250000, 30000000, 60000000,\n",
       "       400000, 12000000, 1100000, 2000000, 9700000, 10000000, 44000000,\n",
       "       40000000, 600000, 180000, 15000000, 63000, 7500000, 70000, 13000,\n",
       "       500000, 5900000, 50000000, 320000, 11000000, 34000000, 113000000,\n",
       "       52200000, 4400000, 24000000, 140000000, 955000000000, 750000000000,\n",
       "       16700000, 67000000, 45000, 450000, 30000000000, 5200000, 300000,\n",
       "       565000000000, 71000000, 7000000, 50000, 1, 1300000000, 188000000,\n",
       "       330000000, 300000000, 68000000, 2400000, 339000000, 14000000,\n",
       "       3500000000, 1900000], dtype=object)"
      ]
     },
     "execution_count": 116,
     "metadata": {},
     "output_type": "execute_result"
    }
   ],
   "source": [
    "df['estimated_cost'].unique()"
   ]
  },
  {
   "cell_type": "code",
   "execution_count": 117,
   "metadata": {},
   "outputs": [],
   "source": [
    "def categorize_estimated_cost(value):\n",
    "    if value == \"N/A\" or value == \"No cost values disclosed\":\n",
    "        return \"Unknown\"\n",
    "    elif value < 100_000:\n",
    "        return \"Low\"\n",
    "    elif 100_000 <= value < 1_000_000:\n",
    "        return \"Medium\"\n",
    "    elif 1_000_000 <= value < 10_000_000:\n",
    "        return \"High\"\n",
    "    else:\n",
    "        return \"Very High\""
   ]
  },
  {
   "cell_type": "code",
   "execution_count": 118,
   "metadata": {},
   "outputs": [],
   "source": [
    "df['cost_category'] = df['estimated_cost'].apply(categorize_estimated_cost)"
   ]
  },
  {
   "cell_type": "code",
   "execution_count": 119,
   "metadata": {},
   "outputs": [],
   "source": [
    "label_encoder = LabelEncoder()\n",
    "df['cost_category_encoded'] = label_encoder.fit_transform(df['cost_category'])"
   ]
  },
  {
   "cell_type": "markdown",
   "metadata": {},
   "source": [
    "El siguiente código se ha agregado para lograr que las columnas codificadas se agreguen justo después de la columna original, de manera que sea más fácil ver a qué se le ha asignado el valor codificado."
   ]
  },
  {
   "cell_type": "code",
   "execution_count": 120,
   "metadata": {},
   "outputs": [],
   "source": [
    "columns = df.columns.tolist()\n",
    "idx = columns.index('estimated_cost')\n",
    "\n",
    "columns = columns[:idx + 1] + ['cost_category', 'cost_category_encoded'] + columns[idx + 1:-2]\n",
    "df = df[columns]"
   ]
  },
  {
   "cell_type": "code",
   "execution_count": 121,
   "metadata": {},
   "outputs": [
    {
     "data": {
      "text/html": [
       "<div>\n",
       "<style scoped>\n",
       "    .dataframe tbody tr th:only-of-type {\n",
       "        vertical-align: middle;\n",
       "    }\n",
       "\n",
       "    .dataframe tbody tr th {\n",
       "        vertical-align: top;\n",
       "    }\n",
       "\n",
       "    .dataframe thead th {\n",
       "        text-align: right;\n",
       "    }\n",
       "</style>\n",
       "<table border=\"1\" class=\"dataframe\">\n",
       "  <thead>\n",
       "    <tr style=\"text-align: right;\">\n",
       "      <th></th>\n",
       "      <th>data_source_link_url</th>\n",
       "      <th>description</th>\n",
       "      <th>estimated_cost</th>\n",
       "      <th>cost_category</th>\n",
       "      <th>cost_category_encoded</th>\n",
       "      <th>victims_title</th>\n",
       "      <th>victims_url</th>\n",
       "      <th>malware_title</th>\n",
       "      <th>malware_title_grouped</th>\n",
       "      <th>malware_url</th>\n",
       "      <th>threat_source</th>\n",
       "      <th>threat_source_title</th>\n",
       "      <th>threat_source_category</th>\n",
       "      <th>threat_source_category_encoded</th>\n",
       "      <th>threat_source_url</th>\n",
       "      <th>industries</th>\n",
       "      <th>industries_grouped</th>\n",
       "      <th>industries_grouped_hashed</th>\n",
       "      <th>impacts</th>\n",
       "      <th>impacts_IT</th>\n",
       "      <th>impacts_OT</th>\n",
       "      <th>impacts_Privacy</th>\n",
       "      <th>references</th>\n",
       "      <th>year</th>\n",
       "      <th>month</th>\n",
       "      <th>day</th>\n",
       "      <th>Africa</th>\n",
       "      <th>Asia</th>\n",
       "      <th>Australia</th>\n",
       "      <th>Europe</th>\n",
       "      <th>North America</th>\n",
       "      <th>South America</th>\n",
       "    </tr>\n",
       "  </thead>\n",
       "  <tbody>\n",
       "    <tr>\n",
       "      <th>0</th>\n",
       "      <td>icsstrive.com</td>\n",
       "      <td>ALPS' North American production operations and...</td>\n",
       "      <td>No cost values disclosed</td>\n",
       "      <td>Unknown</td>\n",
       "      <td>3</td>\n",
       "      <td>Alps Alpine Group</td>\n",
       "      <td>icsstrive.com</td>\n",
       "      <td>No Malware identified</td>\n",
       "      <td>2</td>\n",
       "      <td>N/A</td>\n",
       "      <td>[{'title': 'BlackByte', 'link_url': 'https://i...</td>\n",
       "      <td>BlackByte</td>\n",
       "      <td>Ransomware Groups</td>\n",
       "      <td>5</td>\n",
       "      <td>icsstrive.com</td>\n",
       "      <td>Automotive, Manufacturing</td>\n",
       "      <td>Manufacturing</td>\n",
       "      <td>[12]</td>\n",
       "      <td>OT, IT</td>\n",
       "      <td>1</td>\n",
       "      <td>1</td>\n",
       "      <td>0</td>\n",
       "      <td>[{'title': 'Cyber Incident Victim: Alps Alpine...</td>\n",
       "      <td>2023</td>\n",
       "      <td>9</td>\n",
       "      <td>10</td>\n",
       "      <td>0</td>\n",
       "      <td>1</td>\n",
       "      <td>0</td>\n",
       "      <td>0</td>\n",
       "      <td>1</td>\n",
       "      <td>0</td>\n",
       "    </tr>\n",
       "    <tr>\n",
       "      <th>1</th>\n",
       "      <td>icsstrive.com</td>\n",
       "      <td>San Francisco, California-based Framework, the...</td>\n",
       "      <td>N/A</td>\n",
       "      <td>Unknown</td>\n",
       "      <td>3</td>\n",
       "      <td>Framework</td>\n",
       "      <td>icsstrive.com</td>\n",
       "      <td>No Malware identified</td>\n",
       "      <td>2</td>\n",
       "      <td>N/A</td>\n",
       "      <td>[]</td>\n",
       "      <td>No threat source identified</td>\n",
       "      <td>Unknown</td>\n",
       "      <td>6</td>\n",
       "      <td>No threat source identified</td>\n",
       "      <td>Technology</td>\n",
       "      <td>Technology</td>\n",
       "      <td>[240]</td>\n",
       "      <td>IT</td>\n",
       "      <td>1</td>\n",
       "      <td>0</td>\n",
       "      <td>0</td>\n",
       "      <td>[{'title': 'Laptop Maker Framework Says Custom...</td>\n",
       "      <td>2024</td>\n",
       "      <td>1</td>\n",
       "      <td>9</td>\n",
       "      <td>0</td>\n",
       "      <td>0</td>\n",
       "      <td>0</td>\n",
       "      <td>0</td>\n",
       "      <td>1</td>\n",
       "      <td>0</td>\n",
       "    </tr>\n",
       "  </tbody>\n",
       "</table>\n",
       "</div>"
      ],
      "text/plain": [
       "  data_source_link_url                                        description            estimated_cost cost_category  cost_category_encoded      victims_title    victims_url          malware_title  malware_title_grouped malware_url                                      threat_source          threat_source_title threat_source_category  threat_source_category_encoded            threat_source_url                 industries industries_grouped industries_grouped_hashed impacts  impacts_IT  impacts_OT  impacts_Privacy                                         references  year  month  day  Africa  Asia  Australia  Europe  North America  South America\n",
       "0        icsstrive.com  ALPS' North American production operations and...  No cost values disclosed       Unknown                      3  Alps Alpine Group  icsstrive.com  No Malware identified                      2         N/A  [{'title': 'BlackByte', 'link_url': 'https://i...                    BlackByte      Ransomware Groups                               5                icsstrive.com  Automotive, Manufacturing      Manufacturing                      [12]  OT, IT           1           1                0  [{'title': 'Cyber Incident Victim: Alps Alpine...  2023      9   10       0     1          0       0              1              0\n",
       "1        icsstrive.com  San Francisco, California-based Framework, the...                       N/A       Unknown                      3          Framework  icsstrive.com  No Malware identified                      2         N/A                                                 []  No threat source identified                Unknown                               6  No threat source identified                 Technology         Technology                     [240]      IT           1           0                0  [{'title': 'Laptop Maker Framework Says Custom...  2024      1    9       0     0          0       0              1              0"
      ]
     },
     "execution_count": 121,
     "metadata": {},
     "output_type": "execute_result"
    }
   ],
   "source": [
    "df.head(2)"
   ]
  },
  {
   "cell_type": "markdown",
   "metadata": {},
   "source": [
    "#### **References.**\n",
    "El proceso consiste en convertir las cadenas de la columna, que pueden representar listas de diccionarios, en estructuras adecuadas para extraer la información relevante.\n",
    "\n",
    "Primero, las cadenas se convierten en listas de diccionarios, manejando posibles errores de formato mediante excepciones para evitar fallos. Cuando la conversión es exitosa, se extraen los valores de las claves `title` y `link_url` de los diccionarios dentro de la lista. Esto permite crear dos nuevas columnas: **References title** y **References URL**."
   ]
  },
  {
   "cell_type": "code",
   "execution_count": 122,
   "metadata": {},
   "outputs": [
    {
     "data": {
      "text/plain": [
       "array([\"[{'title': 'Cyber Incident Victim: Alps Alpine Group', 'link_url': 'https://www.csidb.net/csidb/incidents/e7098fd4-9a15-4754-8591-f7d635b30225/'}, {'title': 'Cyber attack on our group companies', 'link_url': 'https://www.alpsalpine.com/cms.media/September_12th_Cyber_Attack_ver1_11_31306d3123.pdf'}, {'title': 'Press Release 2nd Update: Cyber attack on our group companies', 'link_url': 'https://www.alpsalpine.com/cms.media/September_14th_Cyber_Attack_ver0_7_5d102b80e5.pdf'}, {'title': 'PRESS RELEASE: Cyberattacks on Our Group Companies', 'link_url': 'https://www.alpsalpine.com/cms.media/20230728_Cyberattack_ENG_886868a7b3.pdf'}]\",\n",
       "       \"[{'title': 'Laptop Maker Framework Says Customer Data Stolen in Third-Party Breach', 'link_url': 'https://www.securityweek.com/laptop-maker-framework-says-customer-data-stolen-in-third-party-breach/'}, {'title': 'Laptop Maker Hit In Attack', 'link_url': 'https://www.isssource.com/laptop-maker-hit-in-attack/'}]\",\n",
       "       \"[{'title': 'Clothing Brand, V.F. Corp., Hack Hits 35.5M Customers', 'link_url': 'https://www.isssource.com/clothing-brand-v-f-corp-hack-hits-35-5m-customers/'}]\",\n",
       "       \"[{'title': 'Toyota warns customers of data breach exposing personal, financial info', 'link_url': 'https://www.bleepingcomputer.com/news/security/toyota-warns-customers-of-data-breach-exposing-personal-financial-info/'}]\",\n",
       "       \"[{'title': 'Chinese hackers allegedly target US infrastructure as ‘Volt Typhoon’', 'link_url': 'https://interestingengineering.com/culture/chinese-hackers-usa-infrastructure-volt-typhoon'}, {'title': 'China’s cyber army is invading critical U.S. services', 'link_url': 'https://www.washingtonpost.com/technology/2023/12/11/china-hacking-hawaii-pacific-taiwan-conflict/'}, {'title': 'Chinese-affiliated hacking groups infiltrated critical American infrastructure, including Hawaii water utility and at least one oil and gas pipeline, US officials say', 'link_url': 'https://www.dailymail.co.uk/news/article-12850109/china-hacking-taiwan-power-infrastructure-passwords.html'}]\",\n",
       "       \"[{'title': 'LockBit3 takes responsibility for data breach of BlueWaters bottled water and drinks', 'link_url': 'https://beyondmachines.net/event_details/lockbit3-takes-responsibility-for-data-breach-of-bluewaters-bottled-water-and-drinks-b-t-q-z-s'}, {'title': 'Cybercriminals attack Blue Waters', 'link_url': 'https://www.guardian.co.tt/news/cybercriminals-attack-blue-waters-6.2.1872658.4556c4186c'}]\"],\n",
       "      dtype=object)"
      ]
     },
     "execution_count": 122,
     "metadata": {},
     "output_type": "execute_result"
    }
   ],
   "source": [
    "df['references'].unique()[:6]"
   ]
  },
  {
   "cell_type": "code",
   "execution_count": 123,
   "metadata": {},
   "outputs": [],
   "source": [
    "df['references'] = df['references'].apply(safely_parse)"
   ]
  },
  {
   "cell_type": "code",
   "execution_count": 124,
   "metadata": {},
   "outputs": [],
   "source": [
    "df['references_title'] = df['references'].apply(lambda x: x[0]['title'] if isinstance(x, list) and x else 'No references identified')\n",
    "df['references_url'] = df['references'].apply(lambda x: x[0]['link_url'] if isinstance(x, list) and x else 'No references identified')"
   ]
  },
  {
   "cell_type": "markdown",
   "metadata": {},
   "source": [
    "El siguiente código se ha agregado para lograr que las columnas codificadas se agreguen justo después de la columna original, de manera que sea más fácil ver a qué se le ha asignado el valor codificado.\n",
    "\n"
   ]
  },
  {
   "cell_type": "code",
   "execution_count": 125,
   "metadata": {},
   "outputs": [],
   "source": [
    "columns = df.columns.tolist()\n",
    "idx = columns.index('references')\n",
    "\n",
    "columns = columns[:idx + 1] + ['references_title', 'references_url'] + columns[idx + 1:-2]\n",
    "df = df[columns]"
   ]
  },
  {
   "cell_type": "markdown",
   "metadata": {},
   "source": [
    "**References URL.**"
   ]
  },
  {
   "cell_type": "code",
   "execution_count": 126,
   "metadata": {},
   "outputs": [],
   "source": [
    "df['references_url'] = df['references_url'].apply(extract_domain)"
   ]
  },
  {
   "cell_type": "code",
   "execution_count": 127,
   "metadata": {},
   "outputs": [],
   "source": [
    "df['references_url'] = df['references_url'].replace([''], 'No references identified')"
   ]
  },
  {
   "cell_type": "code",
   "execution_count": 128,
   "metadata": {},
   "outputs": [
    {
     "data": {
      "text/plain": [
       "352"
      ]
     },
     "execution_count": 128,
     "metadata": {},
     "output_type": "execute_result"
    }
   ],
   "source": [
    "df['references_url'].nunique()"
   ]
  },
  {
   "cell_type": "markdown",
   "metadata": {},
   "source": [
    "**References Title.**"
   ]
  },
  {
   "cell_type": "code",
   "execution_count": 129,
   "metadata": {},
   "outputs": [
    {
     "data": {
      "text/plain": [
       "803"
      ]
     },
     "execution_count": 129,
     "metadata": {},
     "output_type": "execute_result"
    }
   ],
   "source": [
    "df['references_title'].nunique()"
   ]
  },
  {
   "cell_type": "markdown",
   "metadata": {},
   "source": [
    "## Modelos de clasificación."
   ]
  },
  {
   "cell_type": "code",
   "execution_count": 130,
   "metadata": {},
   "outputs": [],
   "source": [
    "df_1 = df.drop(list(df.select_dtypes(include=['object']).columns), axis = 1)"
   ]
  },
  {
   "cell_type": "code",
   "execution_count": 131,
   "metadata": {},
   "outputs": [
    {
     "data": {
      "text/plain": [
       "cost_category_encoded             int64\n",
       "malware_title_grouped             int64\n",
       "threat_source_category_encoded    int64\n",
       "impacts_IT                        int64\n",
       "impacts_OT                        int64\n",
       "impacts_Privacy                   int64\n",
       "year                              int32\n",
       "month                             int32\n",
       "day                               int32\n",
       "Africa                            int64\n",
       "Asia                              int64\n",
       "Australia                         int64\n",
       "Europe                            int64\n",
       "North America                     int64\n",
       "South America                     int64\n",
       "dtype: object"
      ]
     },
     "execution_count": 131,
     "metadata": {},
     "output_type": "execute_result"
    }
   ],
   "source": [
    "df_1.dtypes"
   ]
  },
  {
   "cell_type": "markdown",
   "metadata": {},
   "source": [
    "El código construye, evalúa y visualiza modelos supervisados y no supervisados. Realiza un preprocesamiento que incluye selección de variables, estandarización y división de datos, y utiliza PCA antes de aplicar K-Means. Se comparan modelos como Random Forest, XGBoost y redes neuronales mediante métricas como precisión, matriz de confusión y curvas ROC, y el modelo con mejores resultados se considera el más adecuado."
   ]
  },
  {
   "cell_type": "code",
   "execution_count": null,
   "metadata": {},
   "outputs": [],
   "source": []
  },
  {
   "cell_type": "code",
   "execution_count": null,
   "metadata": {},
   "outputs": [
    {
     "data": {
      "text/plain": [
       "cost_category_encoded             int64\n",
       "malware_title_grouped             int64\n",
       "threat_source_category_encoded    int64\n",
       "impacts_IT                        int64\n",
       "impacts_OT                        int64\n",
       "impacts_Privacy                   int64\n",
       "year                              int32\n",
       "month                             int32\n",
       "day                               int32\n",
       "Africa                            int64\n",
       "Asia                              int64\n",
       "Australia                         int64\n",
       "Europe                            int64\n",
       "North America                     int64\n",
       "South America                     int64\n",
       "dtype: object"
      ]
     },
     "metadata": {},
     "output_type": "display_data"
    }
   ],
   "source": [
    "df_1.dtypes"
   ]
  },
  {
   "cell_type": "code",
   "execution_count": 142,
   "metadata": {},
   "outputs": [],
   "source": [
    "# Definir columnas objetivo\n",
    "target_columns = [\"impacts_IT\", \"impacts_OT\", \"impacts_Privacy\"]"
   ]
  },
  {
   "cell_type": "code",
   "execution_count": 143,
   "metadata": {},
   "outputs": [
    {
     "name": "stdout",
     "output_type": "stream",
     "text": [
      "impacts_IT         2\n",
      "impacts_OT         2\n",
      "impacts_Privacy    2\n",
      "dtype: int64\n"
     ]
    }
   ],
   "source": [
    "\n",
    "print(df[target_columns].nunique())  \n"
   ]
  },
  {
   "cell_type": "code",
   "execution_count": 144,
   "metadata": {},
   "outputs": [],
   "source": [
    "# Separar características numéricas y las columnas objetivo\n",
    "X = df.select_dtypes(include=['number']).drop(columns=target_columns)\n",
    "y = df[target_columns]"
   ]
  },
  {
   "cell_type": "code",
   "execution_count": 145,
   "metadata": {},
   "outputs": [
    {
     "data": {
      "image/png": "[encoded data removed]",
      "text/plain": [
       "<Figure size 1200x800 with 2 Axes>"
      ]
     },
     "metadata": {},
     "output_type": "display_data"
    }
   ],
   "source": [
    "# Mapa de calor de correlación\n",
    "plt.figure(figsize=(12, 8))\n",
    "corr_matrix = df.select_dtypes(include=['number']).corr()\n",
    "sns.heatmap(corr_matrix, annot=True, cmap='coolwarm', fmt='.2f')\n",
    "plt.title('Correlation Matrix')\n",
    "plt.show()"
   ]
  },
  {
   "cell_type": "code",
   "execution_count": 146,
   "metadata": {},
   "outputs": [],
   "source": [
    "scaler = StandardScaler()\n",
    "X_scaled = scaler.fit_transform(X)"
   ]
  },
  {
   "cell_type": "code",
   "execution_count": 147,
   "metadata": {},
   "outputs": [],
   "source": [
    "X_train, X_test, y_train, y_test = train_test_split(X_scaled, y, test_size=0.3, random_state=42)"
   ]
  },
  {
   "cell_type": "markdown",
   "metadata": {},
   "source": [
    "## Modelos Supervisados\n",
    "\n",
    "Construiremos tres tipos de modelos: Random Forest, XGBoost y Red Neuronal, con el objetivo de identificar el modelo que ofrezca el mejor desempeño"
   ]
  },
  {
   "cell_type": "code",
   "execution_count": 148,
   "metadata": {},
   "outputs": [],
   "source": [
    "# 1. Modelo de Random Forest\n",
    "clf_rf = RandomForestClassifier(random_state=42, n_estimators=100)\n",
    "clf_rf.fit(X_train, y_train)\n",
    "y_pred_rf = clf_rf.predict(X_test)"
   ]
  },
  {
   "cell_type": "code",
   "execution_count": 149,
   "metadata": {},
   "outputs": [
    {
     "name": "stderr",
     "output_type": "stream",
     "text": [
      "C:\\Users\\ale_m\\AppData\\Local\\Packages\\PythonSoftwareFoundation.Python.3.11_qbz5n2kfra8p0\\LocalCache\\local-packages\\Python311\\site-packages\\xgboost\\core.py:158: UserWarning: [11:40:56] WARNING: C:\\buildkite-agent\\builds\\buildkite-windows-cpu-autoscaling-group-i-0c55ff5f71b100e98-1\\xgboost\\xgboost-ci-windows\\src\\learner.cc:740: \n",
      "Parameters: { \"use_label_encoder\" } are not used.\n",
      "\n",
      "  warnings.warn(smsg, UserWarning)\n"
     ]
    }
   ],
   "source": [
    "# 2. Modelo de XGBoost\n",
    "clf_xgb = XGBClassifier(random_state=42, use_label_encoder=False, eval_metric='logloss')\n",
    "clf_xgb.fit(X_train, y_train)\n",
    "y_pred_xgb = clf_xgb.predict(X_test)"
   ]
  },
  {
   "cell_type": "code",
   "execution_count": 150,
   "metadata": {},
   "outputs": [
    {
     "name": "stderr",
     "output_type": "stream",
     "text": [
      "C:\\Users\\ale_m\\AppData\\Local\\Packages\\PythonSoftwareFoundation.Python.3.11_qbz5n2kfra8p0\\LocalCache\\local-packages\\Python311\\site-packages\\sklearn\\neural_network\\_multilayer_perceptron.py:690: ConvergenceWarning: Stochastic Optimizer: Maximum iterations (500) reached and the optimization hasn't converged yet.\n",
      "  warnings.warn(\n"
     ]
    }
   ],
   "source": [
    "# 3. Modelo de Red Neuronal\n",
    "clf_nn = MLPClassifier(random_state=42, max_iter=500)\n",
    "clf_nn.fit(X_train, y_train)\n",
    "y_pred_nn = clf_nn.predict(X_test)"
   ]
  },
  {
   "cell_type": "markdown",
   "metadata": {},
   "source": [
    "\n",
    "Evaluaremos el desempeño de los modelos."
   ]
  },
  {
   "cell_type": "code",
   "execution_count": 151,
   "metadata": {},
   "outputs": [],
   "source": [
    "models = {\n",
    "    \"Random Forest\": (clf_rf, y_pred_rf),\n",
    "    \"XGBoost\": (clf_xgb, y_pred_xgb),\n",
    "    \"Neural Network\": (clf_nn, y_pred_nn)\n",
    "}"
   ]
  },
  {
   "cell_type": "code",
   "execution_count": 152,
   "metadata": {},
   "outputs": [
    {
     "name": "stdout",
     "output_type": "stream",
     "text": [
      "\n",
      "Random Forest Classification Report:\n",
      "\n",
      "Target: impacts_IT\n",
      "              precision    recall  f1-score   support\n",
      "\n",
      "           0       0.00      0.00      0.00        14\n",
      "           1       0.95      1.00      0.98       296\n",
      "\n",
      "    accuracy                           0.95       310\n",
      "   macro avg       0.48      0.50      0.49       310\n",
      "weighted avg       0.91      0.95      0.93       310\n",
      "\n"
     ]
    },
    {
     "data": {
      "image/png": "[encoded data removed]",
      "text/plain": [
       "<Figure size 640x480 with 2 Axes>"
      ]
     },
     "metadata": {},
     "output_type": "display_data"
    },
    {
     "name": "stdout",
     "output_type": "stream",
     "text": [
      "\n",
      "Target: impacts_OT\n",
      "              precision    recall  f1-score   support\n",
      "\n",
      "           0       0.81      0.94      0.87       248\n",
      "           1       0.29      0.10      0.14        62\n",
      "\n",
      "    accuracy                           0.77       310\n",
      "   macro avg       0.55      0.52      0.51       310\n",
      "weighted avg       0.70      0.77      0.72       310\n",
      "\n"
     ]
    },
    {
     "data": {
      "image/png": "[encoded data removed]",
      "text/plain": [
       "<Figure size 640x480 with 2 Axes>"
      ]
     },
     "metadata": {},
     "output_type": "display_data"
    },
    {
     "name": "stdout",
     "output_type": "stream",
     "text": [
      "\n",
      "Target: impacts_Privacy\n",
      "              precision    recall  f1-score   support\n",
      "\n",
      "           0       0.95      0.99      0.97       294\n",
      "           1       0.40      0.12      0.19        16\n",
      "\n",
      "    accuracy                           0.95       310\n",
      "   macro avg       0.68      0.56      0.58       310\n",
      "weighted avg       0.93      0.95      0.93       310\n",
      "\n"
     ]
    },
    {
     "data": {
      "image/png": "[encoded data removed]",
      "text/plain": [
       "<Figure size 640x480 with 2 Axes>"
      ]
     },
     "metadata": {},
     "output_type": "display_data"
    },
    {
     "name": "stdout",
     "output_type": "stream",
     "text": [
      "\n",
      "XGBoost Classification Report:\n",
      "\n",
      "Target: impacts_IT\n",
      "              precision    recall  f1-score   support\n",
      "\n",
      "           0       0.50      0.14      0.22        14\n",
      "           1       0.96      0.99      0.98       296\n",
      "\n",
      "    accuracy                           0.95       310\n",
      "   macro avg       0.73      0.57      0.60       310\n",
      "weighted avg       0.94      0.95      0.94       310\n",
      "\n"
     ]
    },
    {
     "data": {
      "image/png": "[encoded data removed]",
      "text/plain": [
       "<Figure size 640x480 with 2 Axes>"
      ]
     },
     "metadata": {},
     "output_type": "display_data"
    },
    {
     "name": "stdout",
     "output_type": "stream",
     "text": [
      "\n",
      "Target: impacts_OT\n",
      "              precision    recall  f1-score   support\n",
      "\n",
      "           0       0.82      0.92      0.86       248\n",
      "           1       0.36      0.19      0.25        62\n",
      "\n",
      "    accuracy                           0.77       310\n",
      "   macro avg       0.59      0.55      0.56       310\n",
      "weighted avg       0.73      0.77      0.74       310\n",
      "\n"
     ]
    },
    {
     "data": {
      "image/png": "[encoded data removed]",
      "text/plain": [
       "<Figure size 640x480 with 2 Axes>"
      ]
     },
     "metadata": {},
     "output_type": "display_data"
    },
    {
     "name": "stdout",
     "output_type": "stream",
     "text": [
      "\n",
      "Target: impacts_Privacy\n",
      "              precision    recall  f1-score   support\n",
      "\n",
      "           0       0.95      0.97      0.96       294\n",
      "           1       0.20      0.12      0.15        16\n",
      "\n",
      "    accuracy                           0.93       310\n",
      "   macro avg       0.58      0.55      0.56       310\n",
      "weighted avg       0.91      0.93      0.92       310\n",
      "\n"
     ]
    },
    {
     "data": {
      "image/png": "[encoded data removed]",
      "text/plain": [
       "<Figure size 640x480 with 2 Axes>"
      ]
     },
     "metadata": {},
     "output_type": "display_data"
    },
    {
     "name": "stdout",
     "output_type": "stream",
     "text": [
      "\n",
      "Neural Network Classification Report:\n",
      "\n",
      "Target: impacts_IT\n",
      "              precision    recall  f1-score   support\n",
      "\n",
      "           0       0.00      0.00      0.00        14\n",
      "           1       0.95      1.00      0.98       296\n",
      "\n",
      "    accuracy                           0.95       310\n",
      "   macro avg       0.48      0.50      0.49       310\n",
      "weighted avg       0.91      0.95      0.93       310\n",
      "\n"
     ]
    },
    {
     "name": "stderr",
     "output_type": "stream",
     "text": [
      "C:\\Users\\ale_m\\AppData\\Local\\Packages\\PythonSoftwareFoundation.Python.3.11_qbz5n2kfra8p0\\LocalCache\\local-packages\\Python311\\site-packages\\sklearn\\metrics\\_classification.py:1531: UndefinedMetricWarning: Precision is ill-defined and being set to 0.0 in labels with no predicted samples. Use `zero_division` parameter to control this behavior.\n",
      "  _warn_prf(average, modifier, f\"{metric.capitalize()} is\", len(result))\n",
      "C:\\Users\\ale_m\\AppData\\Local\\Packages\\PythonSoftwareFoundation.Python.3.11_qbz5n2kfra8p0\\LocalCache\\local-packages\\Python311\\site-packages\\sklearn\\metrics\\_classification.py:1531: UndefinedMetricWarning: Precision is ill-defined and being set to 0.0 in labels with no predicted samples. Use `zero_division` parameter to control this behavior.\n",
      "  _warn_prf(average, modifier, f\"{metric.capitalize()} is\", len(result))\n",
      "C:\\Users\\ale_m\\AppData\\Local\\Packages\\PythonSoftwareFoundation.Python.3.11_qbz5n2kfra8p0\\LocalCache\\local-packages\\Python311\\site-packages\\sklearn\\metrics\\_classification.py:1531: UndefinedMetricWarning: Precision is ill-defined and being set to 0.0 in labels with no predicted samples. Use `zero_division` parameter to control this behavior.\n",
      "  _warn_prf(average, modifier, f\"{metric.capitalize()} is\", len(result))\n"
     ]
    },
    {
     "data": {
      "image/png": "[encoded data removed]",
      "text/plain": [
       "<Figure size 640x480 with 2 Axes>"
      ]
     },
     "metadata": {},
     "output_type": "display_data"
    },
    {
     "name": "stdout",
     "output_type": "stream",
     "text": [
      "\n",
      "Target: impacts_OT\n",
      "              precision    recall  f1-score   support\n",
      "\n",
      "           0       0.82      0.98      0.89       248\n",
      "           1       0.64      0.11      0.19        62\n",
      "\n",
      "    accuracy                           0.81       310\n",
      "   macro avg       0.73      0.55      0.54       310\n",
      "weighted avg       0.78      0.81      0.75       310\n",
      "\n"
     ]
    },
    {
     "data": {
      "image/png": "[encoded data removed]",
      "text/plain": [
       "<Figure size 640x480 with 2 Axes>"
      ]
     },
     "metadata": {},
     "output_type": "display_data"
    },
    {
     "name": "stdout",
     "output_type": "stream",
     "text": [
      "\n",
      "Target: impacts_Privacy\n",
      "              precision    recall  f1-score   support\n",
      "\n",
      "           0       0.95      1.00      0.97       294\n",
      "           1       0.00      0.00      0.00        16\n",
      "\n",
      "    accuracy                           0.95       310\n",
      "   macro avg       0.47      0.50      0.49       310\n",
      "weighted avg       0.90      0.95      0.92       310\n",
      "\n"
     ]
    },
    {
     "data": {
      "image/png": "[encoded data removed]",
      "text/plain": [
       "<Figure size 640x480 with 2 Axes>"
      ]
     },
     "metadata": {},
     "output_type": "display_data"
    }
   ],
   "source": [
    "# Reportes de clasificación y matrices de confusión\n",
    "for model_name, (model, y_pred) in models.items():\n",
    "    print(f\"\\n{model_name} Classification Report:\")\n",
    "    for i, col in enumerate(target_columns):\n",
    "        print(f\"\\nTarget: {col}\")\n",
    "        print(classification_report(y_test[col], y_pred[:, i]))\n",
    "\n",
    "        cm = confusion_matrix(y_test[col], y_pred[:, i])\n",
    "        sns.heatmap(cm, annot=True, fmt='d', cmap='Blues')\n",
    "        plt.title(f\"{model_name} Confusion Matrix for {col}\")\n",
    "        plt.xlabel(\"Predicted\")\n",
    "        plt.ylabel(\"Actual\")\n",
    "        plt.show()"
   ]
  },
  {
   "cell_type": "code",
   "execution_count": 161,
   "metadata": {},
   "outputs": [
    {
     "name": "stdout",
     "output_type": "stream",
     "text": [
      "Error al calcular la curva ROC para XGBoost - impacts_IT: tuple index out of range\n",
      "Error al calcular la curva ROC para XGBoost - impacts_OT: tuple index out of range\n",
      "Error al calcular la curva ROC para XGBoost - impacts_Privacy: tuple index out of range\n",
      "Error al calcular la curva ROC para Neural Network - impacts_IT: tuple index out of range\n",
      "Error al calcular la curva ROC para Neural Network - impacts_OT: tuple index out of range\n",
      "Error al calcular la curva ROC para Neural Network - impacts_Privacy: tuple index out of range\n"
     ]
    },
    {
     "data": {
      "image/png": "[encoded data removed]",
      "text/plain": [
       "<Figure size 1000x800 with 1 Axes>"
      ]
     },
     "metadata": {},
     "output_type": "display_data"
    }
   ],
   "source": [
    "from sklearn.metrics import roc_curve, auc\n",
    "import matplotlib.pyplot as plt\n",
    "import numpy as np\n",
    "\n",
    "# Inicializamos una figura para las curvas ROC\n",
    "plt.figure(figsize=(10, 8))\n",
    "\n",
    "# Iteramos sobre cada modelo y cada columna objetivo\n",
    "for model_name, (model, _) in models.items():\n",
    "    for i, col in enumerate(target_columns):\n",
    "        # Verificamos si el modelo tiene el método 'predict_proba'\n",
    "        if hasattr(model, \"predict_proba\"):\n",
    "            # Obtener las probabilidades para cada columna objetivo\n",
    "            # Si el modelo tiene más de 2 clases, el índice 1 corresponde a la clase positiva (1)\n",
    "            try:\n",
    "                y_pred_prob = model.predict_proba(X_test)\n",
    "\n",
    "                # Si el modelo es multi-output, y_pred_prob será una lista de probabilidades para cada columna objetivo\n",
    "                # Necesitamos acceder a la columna correspondiente (índice i) de las probabilidades de la clase positiva\n",
    "                if y_pred_prob[0].shape[1] > 1:  # Si hay más de 2 clases\n",
    "                    y_pred_prob_class = y_pred_prob[i][:, 1]  # Probabilidad de la clase positiva para cada columna objetivo\n",
    "                else:  # Si solo hay 2 clases (0 y 1)\n",
    "                    y_pred_prob_class = y_pred_prob[i][:, 1]  # Probabilidad de la clase 1 (positiva)\n",
    "\n",
    "                # Calcular la curva ROC\n",
    "                fpr, tpr, _ = roc_curve(y_test[col], y_pred_prob_class)\n",
    "                roc_auc = auc(fpr, tpr)\n",
    "\n",
    "                # Graficamos la curva ROC\n",
    "                plt.plot(fpr, tpr, label=f'{model_name} - {col} (AUC = {roc_auc:.2f})')\n",
    "\n",
    "            except Exception as e:\n",
    "                print(f\"Error al calcular la curva ROC para {model_name} - {col}: {e}\")\n",
    "        else:\n",
    "            print(f\"El modelo {model_name} no soporta predicciones de probabilidad para la columna {col}.\")\n",
    "\n",
    "# Añadimos la diagonal de la curva ROC\n",
    "plt.plot([0, 1], [0, 1], 'k--')\n",
    "\n",
    "# Títulos y etiquetas\n",
    "plt.title('Curvas ROC para cada modelo y columna objetivo')\n",
    "plt.xlabel('Tasa de Falsos Positivos')\n",
    "plt.ylabel('Tasa de Verdaderos Positivos')\n",
    "plt.legend()\n",
    "plt.show()\n"
   ]
  },
  {
   "cell_type": "markdown",
   "metadata": {},
   "source": [
    "Visualizaremos la importancia de las características en el modelo Random Forest."
   ]
  },
  {
   "cell_type": "code",
   "execution_count": 154,
   "metadata": {},
   "outputs": [
    {
     "data": {
      "image/png": "[encoded data removed]",
      "text/plain": [
       "<Figure size 1000x600 with 1 Axes>"
      ]
     },
     "metadata": {},
     "output_type": "display_data"
    }
   ],
   "source": [
    "importances = clf_rf.feature_importances_\n",
    "features = X.columns\n",
    "importance_df = pd.DataFrame({'Feature': features, 'Importance': importances}).sort_values(by='Importance', ascending=False)\n",
    "\n",
    "plt.figure(figsize=(10, 6))\n",
    "sns.barplot(x='Importance', y='Feature', data=importance_df)\n",
    "plt.title('Feature Importance - Random Forest')\n",
    "plt.show()"
   ]
  },
  {
   "cell_type": "markdown",
   "metadata": {},
   "source": [
    "\n",
    "Resumiremos las métricas de desempeño de cada modelo."
   ]
  },
  {
   "cell_type": "code",
   "execution_count": 155,
   "metadata": {},
   "outputs": [
    {
     "name": "stdout",
     "output_type": "stream",
     "text": [
      "\n",
      "Resumen de Métricas:\n",
      "[{'Model': 'Random Forest', 'impacts_IT': 0.9516129032258065, 'impacts_OT': 0.7709677419354839, 'impacts_Privacy': 0.9451612903225807}, {'Model': 'XGBoost', 'impacts_IT': 0.9548387096774194, 'impacts_OT': 0.7709677419354839, 'impacts_Privacy': 0.9290322580645162}, {'Model': 'Neural Network', 'impacts_IT': 0.9548387096774194, 'impacts_OT': 0.8096774193548387, 'impacts_Privacy': 0.9451612903225807}]\n"
     ]
    },
    {
     "name": "stderr",
     "output_type": "stream",
     "text": [
      "C:\\Users\\ale_m\\AppData\\Local\\Packages\\PythonSoftwareFoundation.Python.3.11_qbz5n2kfra8p0\\LocalCache\\local-packages\\Python311\\site-packages\\sklearn\\metrics\\_classification.py:1531: UndefinedMetricWarning: Precision is ill-defined and being set to 0.0 in labels with no predicted samples. Use `zero_division` parameter to control this behavior.\n",
      "  _warn_prf(average, modifier, f\"{metric.capitalize()} is\", len(result))\n",
      "C:\\Users\\ale_m\\AppData\\Local\\Packages\\PythonSoftwareFoundation.Python.3.11_qbz5n2kfra8p0\\LocalCache\\local-packages\\Python311\\site-packages\\sklearn\\metrics\\_classification.py:1531: UndefinedMetricWarning: Precision is ill-defined and being set to 0.0 in labels with no predicted samples. Use `zero_division` parameter to control this behavior.\n",
      "  _warn_prf(average, modifier, f\"{metric.capitalize()} is\", len(result))\n",
      "C:\\Users\\ale_m\\AppData\\Local\\Packages\\PythonSoftwareFoundation.Python.3.11_qbz5n2kfra8p0\\LocalCache\\local-packages\\Python311\\site-packages\\sklearn\\metrics\\_classification.py:1531: UndefinedMetricWarning: Precision is ill-defined and being set to 0.0 in labels with no predicted samples. Use `zero_division` parameter to control this behavior.\n",
      "  _warn_prf(average, modifier, f\"{metric.capitalize()} is\", len(result))\n"
     ]
    }
   ],
   "source": [
    "metrics_summary = []\n",
    "\n",
    "for model_name, (model, y_pred) in models.items():\n",
    "    model_metrics = {'Model': model_name}\n",
    "    for i, col in enumerate(target_columns):\n",
    "        report = classification_report(y_test[col], y_pred[:, i], output_dict=True)\n",
    "        model_metrics[col] = report['accuracy']  # Puedes agregar más métricas si lo deseas\n",
    "    metrics_summary.append(model_metrics)\n",
    "print(\"\\nResumen de Métricas:\")\n",
    "print(metrics_summary)"
   ]
  },
  {
   "cell_type": "code",
   "execution_count": 156,
   "metadata": {},
   "outputs": [
    {
     "data": {
      "text/plain": [
       "[{'Model': 'Random Forest',\n",
       "  'impacts_IT': 0.9516,\n",
       "  'impacts_OT': 0.771,\n",
       "  'impacts_Privacy': 0.9452},\n",
       " {'Model': 'XGBoost',\n",
       "  'impacts_IT': 0.9548,\n",
       "  'impacts_OT': 0.771,\n",
       "  'impacts_Privacy': 0.929},\n",
       " {'Model': 'Neural Network',\n",
       "  'impacts_IT': 0.9548,\n",
       "  'impacts_OT': 0.8097,\n",
       "  'impacts_Privacy': 0.9452}]"
      ]
     },
     "execution_count": 156,
     "metadata": {},
     "output_type": "execute_result"
    }
   ],
   "source": [
    "[{'Model': 'Random Forest', 'impacts_IT': 0.9516, 'impacts_OT': 0.7710, 'impacts_Privacy': 0.9452},\n",
    "{'Model': 'XGBoost', 'impacts_IT': 0.9548, 'impacts_OT': 0.7710, 'impacts_Privacy': 0.9290},\n",
    "{'Model': 'Neural Network', 'impacts_IT': 0.9548, 'impacts_OT': 0.8097, 'impacts_Privacy': 0.9452}]\n"
   ]
  },
  {
   "cell_type": "markdown",
   "metadata": {},
   "source": [
    "## Modelo No Supervisado\n",
    "Optamos que para poder realizar el KMeans usando elbow method para aegurarnos de asignar correctamente el numero de Ks"
   ]
  },
  {
   "cell_type": "code",
   "execution_count": 164,
   "metadata": {},
   "outputs": [
    {
     "data": {
      "image/png": "[encoded data removed]",
      "text/plain": [
       "<Figure size 800x600 with 1 Axes>"
      ]
     },
     "metadata": {},
     "output_type": "display_data"
    }
   ],
   "source": [
    "#Elbow method\n",
    "X_unsupervised = df.select_dtypes(include=['number']).drop(columns=target_columns)\n",
    "inertia = []\n",
    "for k in range(1, 11):\n",
    "    kmeans = KMeans(n_clusters=k, random_state=42)\n",
    "    kmeans.fit(X_unsupervised)\n",
    "    inertia.append(kmeans.inertia_)\n",
    "\n",
    "plt.figure(figsize=(8, 6))\n",
    "plt.plot(range(1, 11), inertia, marker='o', linestyle='--')\n",
    "plt.title('Elbow Method for Optimal Number of Clusters')\n",
    "plt.xlabel('Number of Clusters (k)')\n",
    "plt.ylabel('Inertia')\n",
    "plt.xticks(range(1, 11))\n",
    "plt.grid(True)\n",
    "plt.show()\n"
   ]
  },
  {
   "cell_type": "code",
   "execution_count": 172,
   "metadata": {},
   "outputs": [
    {
     "name": "stdout",
     "output_type": "stream",
     "text": [
      "Number of Clusters (k=1): Inertia = 164995.3533\n",
      "Number of Clusters (k=2): Inertia = 79586.0142\n",
      "Number of Clusters (k=3): Inertia = 40102.1186\n",
      "Number of Clusters (k=4): Inertia = 29689.0214\n",
      "Number of Clusters (k=5): Inertia = 26276.8184\n",
      "Number of Clusters (k=6): Inertia = 23181.6991\n",
      "Number of Clusters (k=7): Inertia = 20721.8077\n",
      "Number of Clusters (k=8): Inertia = 17669.1391\n",
      "Number of Clusters (k=9): Inertia = 16058.2097\n",
      "Number of Clusters (k=10): Inertia = 15527.6753\n"
     ]
    }
   ],
   "source": [
    "for k, score in zip(range(1, 11), inertia):\n",
    "    print(f\"Number of Clusters (k={k}): Inertia = {score:.4f}\")\n"
   ]
  },
  {
   "cell_type": "code",
   "execution_count": null,
   "metadata": {},
   "outputs": [],
   "source": [
    "#KMeans\n",
    "optimal_k = 3\n",
    "kmeans = KMeans(n_clusters=optimal_k, random_state=42)\n",
    "kmeans.fit(X_unsupervised)\n",
    "\n"
   ]
  },
  {
   "cell_type": "code",
   "execution_count": 173,
   "metadata": {},
   "outputs": [
    {
     "name": "stdout",
     "output_type": "stream",
     "text": [
      "\n",
      "Optimal number of clusters: 3\n",
      "Inertia for optimal_k (3): 40102.1186\n"
     ]
    }
   ],
   "source": [
    "\n",
    "df['Cluster'] = kmeans.labels_\n",
    "\n",
    "print(f\"\\nOptimal number of clusters: {optimal_k}\")\n",
    "print(f\"Inertia for optimal_k ({optimal_k}): {kmeans.inertia_:.4f}\")"
   ]
  }
 ],
 "metadata": {
  "kernelspec": {
   "display_name": "Python 3",
   "language": "python",
   "name": "python3"
  },
  "language_info": {
   "codemirror_mode": {
    "name": "ipython",
    "version": 3
   },
   "file_extension": ".py",
   "mimetype": "text/x-python",
   "name": "python",
   "nbconvert_exporter": "python",
   "pygments_lexer": "ipython3",
   "version": "3.11.9"
  }
 },
 "nbformat": 4,
 "nbformat_minor": 2
}
