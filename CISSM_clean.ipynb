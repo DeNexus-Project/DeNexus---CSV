{
 "cells": [
  {
   "cell_type": "markdown",
   "metadata": {},
   "source": [
    "# CISSM.\n",
    "El archivo CSV contiene información sobre incidentes de ciberataques, con detalles sobre la fecha del evento, los actores involucrados, el tipo de evento, la organización afectada, el tipo de industria, la fuente del evento, el país, el motivo y el tipo de ataque."
   ]
  },
  {
   "cell_type": "markdown",
   "metadata": {},
   "source": [
    "## Importación de librerías."
   ]
  },
  {
   "cell_type": "code",
   "execution_count": 206,
   "metadata": {},
   "outputs": [],
   "source": [
    "import pandas as pd\n",
    "import matplotlib.pyplot as plt\n",
    "import seaborn as sns\n",
    "from sklearn.preprocessing import OrdinalEncoder\n",
    "from urllib.parse import urlparse\n",
    "from sklearn.model_selection import train_test_split\n",
    "from sklearn.preprocessing import StandardScaler\n",
    "from sklearn.ensemble import RandomForestClassifier\n",
    "from sklearn.model_selection import train_test_split, cross_val_score\n",
    "from sklearn.tree import DecisionTreeClassifier\n",
    "from sklearn.linear_model import LogisticRegression"
   ]
  },
  {
   "cell_type": "markdown",
   "metadata": {},
   "source": [
    "## Importación e información de dataframes"
   ]
  },
  {
   "cell_type": "code",
   "execution_count": 207,
   "metadata": {},
   "outputs": [
    {
     "data": {
      "text/html": [
       "<div>\n",
       "<style scoped>\n",
       "    .dataframe tbody tr th:only-of-type {\n",
       "        vertical-align: middle;\n",
       "    }\n",
       "\n",
       "    .dataframe tbody tr th {\n",
       "        vertical-align: top;\n",
       "    }\n",
       "\n",
       "    .dataframe thead th {\n",
       "        text-align: right;\n",
       "    }\n",
       "</style>\n",
       "<table border=\"1\" class=\"dataframe\">\n",
       "  <thead>\n",
       "    <tr style=\"text-align: right;\">\n",
       "      <th></th>\n",
       "      <th>event_description</th>\n",
       "      <th>event_date</th>\n",
       "      <th>actor</th>\n",
       "      <th>actor_type</th>\n",
       "      <th>event_type</th>\n",
       "      <th>organization</th>\n",
       "      <th>event_subtype</th>\n",
       "      <th>motive</th>\n",
       "      <th>event_source</th>\n",
       "      <th>country</th>\n",
       "      <th>industry</th>\n",
       "      <th>industry_code</th>\n",
       "      <th>id</th>\n",
       "      <th>dnx_id</th>\n",
       "      <th>date_uploaded</th>\n",
       "    </tr>\n",
       "  </thead>\n",
       "  <tbody>\n",
       "    <tr>\n",
       "      <th>0</th>\n",
       "      <td>Innovery, an Italian company delivering IT ser...</td>\n",
       "      <td>2023-09-30</td>\n",
       "      <td>Undetermined</td>\n",
       "      <td>Criminal</td>\n",
       "      <td>Exploitive</td>\n",
       "      <td>Innovery</td>\n",
       "      <td>Exploitation of Application Server</td>\n",
       "      <td>Financial</td>\n",
       "      <td>https://www.redhotcyber.com/post/attacco-infor...</td>\n",
       "      <td>ITA</td>\n",
       "      <td>Professional, Scientific, and Technical Services</td>\n",
       "      <td>54.0</td>\n",
       "      <td>f5c2ebc02807a6b3</td>\n",
       "      <td>inc_cis_13422</td>\n",
       "      <td>2024-04-01</td>\n",
       "    </tr>\n",
       "    <tr>\n",
       "      <th>1</th>\n",
       "      <td>The ALPHV/BlackCat ransomware gang adds the ho...</td>\n",
       "      <td>2023-09-30</td>\n",
       "      <td>ALPHV</td>\n",
       "      <td>Criminal</td>\n",
       "      <td>Mixed</td>\n",
       "      <td>Motel One</td>\n",
       "      <td>Data Attack,Undetermined</td>\n",
       "      <td>Financial</td>\n",
       "      <td>https://securityaffairs.com/151732/cyber-crime...</td>\n",
       "      <td>DEU</td>\n",
       "      <td>Accommodation and Food Services</td>\n",
       "      <td>72.0</td>\n",
       "      <td>0b7a20f4161d89b2</td>\n",
       "      <td>inc_cis_13421</td>\n",
       "      <td>2024-04-01</td>\n",
       "    </tr>\n",
       "    <tr>\n",
       "      <th>2</th>\n",
       "      <td>The pro-Russian collective NoName057(16) takes...</td>\n",
       "      <td>2023-09-29</td>\n",
       "      <td>NoName057(16)</td>\n",
       "      <td>Hacktivist</td>\n",
       "      <td>Disruptive</td>\n",
       "      <td>Multiple organizations in Italy</td>\n",
       "      <td>External Denial of Service</td>\n",
       "      <td>Protest</td>\n",
       "      <td>https://www.redhotcyber.com/post/si-ricomincia...</td>\n",
       "      <td>ITA</td>\n",
       "      <td>Public Administration</td>\n",
       "      <td>92.0</td>\n",
       "      <td>2e37d07ef6ef3cb6</td>\n",
       "      <td>inc_cis_13420</td>\n",
       "      <td>2024-04-01</td>\n",
       "    </tr>\n",
       "    <tr>\n",
       "      <th>3</th>\n",
       "      <td>API Financial Solutions files a notice of data...</td>\n",
       "      <td>2023-09-29</td>\n",
       "      <td>Undetermined</td>\n",
       "      <td>Criminal</td>\n",
       "      <td>Exploitive</td>\n",
       "      <td>API Financial Solutions</td>\n",
       "      <td>Undetermined</td>\n",
       "      <td>Financial</td>\n",
       "      <td>https://www.jdsupra.com/legalnews/api-financia...</td>\n",
       "      <td>USA</td>\n",
       "      <td>Finance and Insurance</td>\n",
       "      <td>52.0</td>\n",
       "      <td>f8029e6b6169de1f</td>\n",
       "      <td>inc_cis_13419</td>\n",
       "      <td>2024-04-01</td>\n",
       "    </tr>\n",
       "    <tr>\n",
       "      <th>4</th>\n",
       "      <td>McLaren HealthCare, confirms to be dealing wit...</td>\n",
       "      <td>2023-09-29</td>\n",
       "      <td>ALPHV</td>\n",
       "      <td>Criminal</td>\n",
       "      <td>Mixed</td>\n",
       "      <td>McLaren HealthCare</td>\n",
       "      <td>Data Attack,Undetermined</td>\n",
       "      <td>Financial</td>\n",
       "      <td>https://therecord.media/mclaren-healthcare-ran...</td>\n",
       "      <td>USA</td>\n",
       "      <td>Health Care and Social Assistance</td>\n",
       "      <td>62.0</td>\n",
       "      <td>1ed93f0579b9056c</td>\n",
       "      <td>inc_cis_13418</td>\n",
       "      <td>2024-04-01</td>\n",
       "    </tr>\n",
       "    <tr>\n",
       "      <th>...</th>\n",
       "      <td>...</td>\n",
       "      <td>...</td>\n",
       "      <td>...</td>\n",
       "      <td>...</td>\n",
       "      <td>...</td>\n",
       "      <td>...</td>\n",
       "      <td>...</td>\n",
       "      <td>...</td>\n",
       "      <td>...</td>\n",
       "      <td>...</td>\n",
       "      <td>...</td>\n",
       "      <td>...</td>\n",
       "      <td>...</td>\n",
       "      <td>...</td>\n",
       "      <td>...</td>\n",
       "    </tr>\n",
       "    <tr>\n",
       "      <th>13418</th>\n",
       "      <td>Erlanger Health is also affected by the MOVEit...</td>\n",
       "      <td>2023-09-27</td>\n",
       "      <td>Qilin</td>\n",
       "      <td>Criminal</td>\n",
       "      <td>Mixed</td>\n",
       "      <td>Cardiovascular Consultants</td>\n",
       "      <td>Exploitation of Application Server</td>\n",
       "      <td>Financial</td>\n",
       "      <td>https://www.databreaches.net/cardiovascular-co...</td>\n",
       "      <td>USA</td>\n",
       "      <td>Health Care and Social Assistance</td>\n",
       "      <td>62.0</td>\n",
       "      <td>c823006f6c70313c</td>\n",
       "      <td>inc_cis_4</td>\n",
       "      <td>2024-04-01</td>\n",
       "    </tr>\n",
       "    <tr>\n",
       "      <th>13419</th>\n",
       "      <td>The European Telecommunications Standards Inst...</td>\n",
       "      <td>2023-09-27</td>\n",
       "      <td>cl0p</td>\n",
       "      <td>Criminal</td>\n",
       "      <td>Exploitive</td>\n",
       "      <td>Erlanger Health</td>\n",
       "      <td>Exploitation of Application Server</td>\n",
       "      <td>Financial</td>\n",
       "      <td>https://www.hipaajournal.com/oak-valley-hospit...</td>\n",
       "      <td>USA</td>\n",
       "      <td>Health Care and Social Assistance</td>\n",
       "      <td>62.0</td>\n",
       "      <td>c886a43fe79a0a7b</td>\n",
       "      <td>inc_cis_3</td>\n",
       "      <td>2024-04-01</td>\n",
       "    </tr>\n",
       "    <tr>\n",
       "      <th>13420</th>\n",
       "      <td>Lost Trust Team adds GI Medical Services in Ne...</td>\n",
       "      <td>2023-09-27</td>\n",
       "      <td>Undetermined</td>\n",
       "      <td>Criminal</td>\n",
       "      <td>Exploitive</td>\n",
       "      <td>European Telecommunications Standards Institut...</td>\n",
       "      <td>Exploitation of Application Server</td>\n",
       "      <td>Undetermined</td>\n",
       "      <td>https://therecord.media/etsi-telecommunication...</td>\n",
       "      <td>FRA</td>\n",
       "      <td>Information</td>\n",
       "      <td>51.0</td>\n",
       "      <td>bb17aacdf2e20d25</td>\n",
       "      <td>inc_cis_2</td>\n",
       "      <td>2024-04-01</td>\n",
       "    </tr>\n",
       "    <tr>\n",
       "      <th>13421</th>\n",
       "      <td>UK charities including Shelter, the RSPCA, the...</td>\n",
       "      <td>2023-09-27</td>\n",
       "      <td>Lost Trust</td>\n",
       "      <td>Criminal</td>\n",
       "      <td>Exploitive</td>\n",
       "      <td>GI Medical Services</td>\n",
       "      <td>Undetermined</td>\n",
       "      <td>Financial</td>\n",
       "      <td>https://www.databreaches.net/and-yet-more-vict...</td>\n",
       "      <td>USA</td>\n",
       "      <td>Health Care and Social Assistance</td>\n",
       "      <td>62.0</td>\n",
       "      <td>bac11292d79231f0</td>\n",
       "      <td>inc_cis_1</td>\n",
       "      <td>2024-04-01</td>\n",
       "    </tr>\n",
       "    <tr>\n",
       "      <th>13422</th>\n",
       "      <td>[]</td>\n",
       "      <td>2023-09-27</td>\n",
       "      <td>Undetermined</td>\n",
       "      <td>Criminal</td>\n",
       "      <td>Exploitive</td>\n",
       "      <td>Kokoro</td>\n",
       "      <td>Undetermined</td>\n",
       "      <td>Financial</td>\n",
       "      <td>https://grahamcluley.com/british-charities-war...</td>\n",
       "      <td>GBR</td>\n",
       "      <td>Professional, Scientific, and Technical Services</td>\n",
       "      <td>54.0</td>\n",
       "      <td>1b4c2a9495a49c91</td>\n",
       "      <td>inc_cis_0</td>\n",
       "      <td>2024-04-01</td>\n",
       "    </tr>\n",
       "  </tbody>\n",
       "</table>\n",
       "<p>13423 rows × 15 columns</p>\n",
       "</div>"
      ],
      "text/plain": [
       "                                       event_description  event_date  \\\n",
       "0      Innovery, an Italian company delivering IT ser...  2023-09-30   \n",
       "1      The ALPHV/BlackCat ransomware gang adds the ho...  2023-09-30   \n",
       "2      The pro-Russian collective NoName057(16) takes...  2023-09-29   \n",
       "3      API Financial Solutions files a notice of data...  2023-09-29   \n",
       "4      McLaren HealthCare, confirms to be dealing wit...  2023-09-29   \n",
       "...                                                  ...         ...   \n",
       "13418  Erlanger Health is also affected by the MOVEit...  2023-09-27   \n",
       "13419  The European Telecommunications Standards Inst...  2023-09-27   \n",
       "13420  Lost Trust Team adds GI Medical Services in Ne...  2023-09-27   \n",
       "13421  UK charities including Shelter, the RSPCA, the...  2023-09-27   \n",
       "13422                                                 []  2023-09-27   \n",
       "\n",
       "               actor  actor_type  event_type  \\\n",
       "0       Undetermined    Criminal  Exploitive   \n",
       "1              ALPHV    Criminal       Mixed   \n",
       "2      NoName057(16)  Hacktivist  Disruptive   \n",
       "3       Undetermined    Criminal  Exploitive   \n",
       "4              ALPHV    Criminal       Mixed   \n",
       "...              ...         ...         ...   \n",
       "13418          Qilin    Criminal       Mixed   \n",
       "13419           cl0p    Criminal  Exploitive   \n",
       "13420   Undetermined    Criminal  Exploitive   \n",
       "13421     Lost Trust    Criminal  Exploitive   \n",
       "13422   Undetermined    Criminal  Exploitive   \n",
       "\n",
       "                                            organization  \\\n",
       "0                                               Innovery   \n",
       "1                                              Motel One   \n",
       "2                        Multiple organizations in Italy   \n",
       "3                                API Financial Solutions   \n",
       "4                                     McLaren HealthCare   \n",
       "...                                                  ...   \n",
       "13418                         Cardiovascular Consultants   \n",
       "13419                                    Erlanger Health   \n",
       "13420  European Telecommunications Standards Institut...   \n",
       "13421                                GI Medical Services   \n",
       "13422                                             Kokoro   \n",
       "\n",
       "                            event_subtype        motive  \\\n",
       "0      Exploitation of Application Server     Financial   \n",
       "1                Data Attack,Undetermined     Financial   \n",
       "2              External Denial of Service       Protest   \n",
       "3                            Undetermined     Financial   \n",
       "4                Data Attack,Undetermined     Financial   \n",
       "...                                   ...           ...   \n",
       "13418  Exploitation of Application Server     Financial   \n",
       "13419  Exploitation of Application Server     Financial   \n",
       "13420  Exploitation of Application Server  Undetermined   \n",
       "13421                        Undetermined     Financial   \n",
       "13422                        Undetermined     Financial   \n",
       "\n",
       "                                            event_source country  \\\n",
       "0      https://www.redhotcyber.com/post/attacco-infor...     ITA   \n",
       "1      https://securityaffairs.com/151732/cyber-crime...     DEU   \n",
       "2      https://www.redhotcyber.com/post/si-ricomincia...     ITA   \n",
       "3      https://www.jdsupra.com/legalnews/api-financia...     USA   \n",
       "4      https://therecord.media/mclaren-healthcare-ran...     USA   \n",
       "...                                                  ...     ...   \n",
       "13418  https://www.databreaches.net/cardiovascular-co...     USA   \n",
       "13419  https://www.hipaajournal.com/oak-valley-hospit...     USA   \n",
       "13420  https://therecord.media/etsi-telecommunication...     FRA   \n",
       "13421  https://www.databreaches.net/and-yet-more-vict...     USA   \n",
       "13422  https://grahamcluley.com/british-charities-war...     GBR   \n",
       "\n",
       "                                               industry industry_code  \\\n",
       "0      Professional, Scientific, and Technical Services          54.0   \n",
       "1                       Accommodation and Food Services          72.0   \n",
       "2                                 Public Administration          92.0   \n",
       "3                                 Finance and Insurance          52.0   \n",
       "4                     Health Care and Social Assistance          62.0   \n",
       "...                                                 ...           ...   \n",
       "13418                 Health Care and Social Assistance          62.0   \n",
       "13419                 Health Care and Social Assistance          62.0   \n",
       "13420                                       Information          51.0   \n",
       "13421                 Health Care and Social Assistance          62.0   \n",
       "13422  Professional, Scientific, and Technical Services          54.0   \n",
       "\n",
       "                     id         dnx_id date_uploaded  \n",
       "0      f5c2ebc02807a6b3  inc_cis_13422    2024-04-01  \n",
       "1      0b7a20f4161d89b2  inc_cis_13421    2024-04-01  \n",
       "2      2e37d07ef6ef3cb6  inc_cis_13420    2024-04-01  \n",
       "3      f8029e6b6169de1f  inc_cis_13419    2024-04-01  \n",
       "4      1ed93f0579b9056c  inc_cis_13418    2024-04-01  \n",
       "...                 ...            ...           ...  \n",
       "13418  c823006f6c70313c      inc_cis_4    2024-04-01  \n",
       "13419  c886a43fe79a0a7b      inc_cis_3    2024-04-01  \n",
       "13420  bb17aacdf2e20d25      inc_cis_2    2024-04-01  \n",
       "13421  bac11292d79231f0      inc_cis_1    2024-04-01  \n",
       "13422  1b4c2a9495a49c91      inc_cis_0    2024-04-01  \n",
       "\n",
       "[13423 rows x 15 columns]"
      ]
     },
     "execution_count": 207,
     "metadata": {},
     "output_type": "execute_result"
    }
   ],
   "source": [
    "df = pd.read_csv('./data/CISSM.csv')\n",
    "df"
   ]
  },
  {
   "cell_type": "markdown",
   "metadata": {},
   "source": [
    "Debemos de tomar la columna ID como índice."
   ]
  },
  {
   "cell_type": "code",
   "execution_count": 208,
   "metadata": {},
   "outputs": [],
   "source": [
    "df.set_index('id', inplace=True)"
   ]
  },
  {
   "cell_type": "code",
   "execution_count": 209,
   "metadata": {},
   "outputs": [
    {
     "data": {
      "text/html": [
       "<div>\n",
       "<style scoped>\n",
       "    .dataframe tbody tr th:only-of-type {\n",
       "        vertical-align: middle;\n",
       "    }\n",
       "\n",
       "    .dataframe tbody tr th {\n",
       "        vertical-align: top;\n",
       "    }\n",
       "\n",
       "    .dataframe thead th {\n",
       "        text-align: right;\n",
       "    }\n",
       "</style>\n",
       "<table border=\"1\" class=\"dataframe\">\n",
       "  <thead>\n",
       "    <tr style=\"text-align: right;\">\n",
       "      <th></th>\n",
       "      <th>event_description</th>\n",
       "      <th>event_date</th>\n",
       "      <th>actor</th>\n",
       "      <th>actor_type</th>\n",
       "      <th>event_type</th>\n",
       "      <th>organization</th>\n",
       "      <th>event_subtype</th>\n",
       "      <th>motive</th>\n",
       "      <th>event_source</th>\n",
       "      <th>country</th>\n",
       "      <th>industry</th>\n",
       "      <th>industry_code</th>\n",
       "      <th>dnx_id</th>\n",
       "      <th>date_uploaded</th>\n",
       "    </tr>\n",
       "  </thead>\n",
       "  <tbody>\n",
       "    <tr>\n",
       "      <th>count</th>\n",
       "      <td>13423</td>\n",
       "      <td>13423</td>\n",
       "      <td>13423</td>\n",
       "      <td>13423</td>\n",
       "      <td>13423</td>\n",
       "      <td>13423</td>\n",
       "      <td>13423</td>\n",
       "      <td>13423</td>\n",
       "      <td>13423</td>\n",
       "      <td>13423</td>\n",
       "      <td>13423</td>\n",
       "      <td>13423</td>\n",
       "      <td>13423</td>\n",
       "      <td>13423</td>\n",
       "    </tr>\n",
       "    <tr>\n",
       "      <th>unique</th>\n",
       "      <td>11646</td>\n",
       "      <td>3126</td>\n",
       "      <td>1163</td>\n",
       "      <td>7</td>\n",
       "      <td>5</td>\n",
       "      <td>12202</td>\n",
       "      <td>95</td>\n",
       "      <td>13</td>\n",
       "      <td>10724</td>\n",
       "      <td>164</td>\n",
       "      <td>22</td>\n",
       "      <td>26</td>\n",
       "      <td>13423</td>\n",
       "      <td>1</td>\n",
       "    </tr>\n",
       "    <tr>\n",
       "      <th>top</th>\n",
       "      <td>Vice Society encrypts network and threatens to...</td>\n",
       "      <td>2017-06-27</td>\n",
       "      <td>Undetermined</td>\n",
       "      <td>Criminal</td>\n",
       "      <td>Exploitive</td>\n",
       "      <td>Undetermined</td>\n",
       "      <td>Exploitation of Application Server</td>\n",
       "      <td>Financial</td>\n",
       "      <td>https://stniiomyjliimcgkvdszvgen3eaaoz55hreqqx...</td>\n",
       "      <td>USA</td>\n",
       "      <td>Public Administration</td>\n",
       "      <td>92.0</td>\n",
       "      <td>inc_cis_13422</td>\n",
       "      <td>2024-04-01</td>\n",
       "    </tr>\n",
       "    <tr>\n",
       "      <th>freq</th>\n",
       "      <td>97</td>\n",
       "      <td>78</td>\n",
       "      <td>7639</td>\n",
       "      <td>10181</td>\n",
       "      <td>6676</td>\n",
       "      <td>56</td>\n",
       "      <td>4314</td>\n",
       "      <td>7533</td>\n",
       "      <td>73</td>\n",
       "      <td>6459</td>\n",
       "      <td>2518</td>\n",
       "      <td>2518</td>\n",
       "      <td>1</td>\n",
       "      <td>13423</td>\n",
       "    </tr>\n",
       "  </tbody>\n",
       "</table>\n",
       "</div>"
      ],
      "text/plain": [
       "                                        event_description  event_date  \\\n",
       "count                                               13423       13423   \n",
       "unique                                              11646        3126   \n",
       "top     Vice Society encrypts network and threatens to...  2017-06-27   \n",
       "freq                                                   97          78   \n",
       "\n",
       "               actor actor_type  event_type  organization  \\\n",
       "count          13423      13423       13423         13423   \n",
       "unique          1163          7           5         12202   \n",
       "top     Undetermined   Criminal  Exploitive  Undetermined   \n",
       "freq            7639      10181        6676            56   \n",
       "\n",
       "                             event_subtype     motive  \\\n",
       "count                                13423      13423   \n",
       "unique                                  95         13   \n",
       "top     Exploitation of Application Server  Financial   \n",
       "freq                                  4314       7533   \n",
       "\n",
       "                                             event_source country  \\\n",
       "count                                               13423   13423   \n",
       "unique                                              10724     164   \n",
       "top     https://stniiomyjliimcgkvdszvgen3eaaoz55hreqqx...     USA   \n",
       "freq                                                   73    6459   \n",
       "\n",
       "                     industry industry_code         dnx_id date_uploaded  \n",
       "count                   13423         13423          13423         13423  \n",
       "unique                     22            26          13423             1  \n",
       "top     Public Administration          92.0  inc_cis_13422    2024-04-01  \n",
       "freq                     2518          2518              1         13423  "
      ]
     },
     "execution_count": 209,
     "metadata": {},
     "output_type": "execute_result"
    }
   ],
   "source": [
    "df.describe()"
   ]
  },
  {
   "cell_type": "code",
   "execution_count": 210,
   "metadata": {},
   "outputs": [
    {
     "data": {
      "text/plain": [
       "(13423, 14)"
      ]
     },
     "execution_count": 210,
     "metadata": {},
     "output_type": "execute_result"
    }
   ],
   "source": [
    "df.shape"
   ]
  },
  {
   "cell_type": "code",
   "execution_count": 211,
   "metadata": {},
   "outputs": [
    {
     "data": {
      "text/plain": [
       "event_description    object\n",
       "event_date           object\n",
       "actor                object\n",
       "actor_type           object\n",
       "event_type           object\n",
       "organization         object\n",
       "event_subtype        object\n",
       "motive               object\n",
       "event_source         object\n",
       "country              object\n",
       "industry             object\n",
       "industry_code        object\n",
       "dnx_id               object\n",
       "date_uploaded        object\n",
       "dtype: object"
      ]
     },
     "execution_count": 211,
     "metadata": {},
     "output_type": "execute_result"
    }
   ],
   "source": [
    "df.dtypes"
   ]
  },
  {
   "cell_type": "code",
   "execution_count": 212,
   "metadata": {},
   "outputs": [],
   "source": [
    "df['industry_code'] = pd.to_numeric(df['industry_code'], errors='coerce')"
   ]
  },
  {
   "cell_type": "code",
   "execution_count": 213,
   "metadata": {},
   "outputs": [
    {
     "data": {
      "text/plain": [
       "Index(['event_description', 'event_date', 'actor', 'actor_type', 'event_type',\n",
       "       'organization', 'event_subtype', 'motive', 'event_source', 'country',\n",
       "       'industry', 'industry_code', 'dnx_id', 'date_uploaded'],\n",
       "      dtype='object')"
      ]
     },
     "execution_count": 213,
     "metadata": {},
     "output_type": "execute_result"
    }
   ],
   "source": [
    "df.columns"
   ]
  },
  {
   "cell_type": "markdown",
   "metadata": {},
   "source": [
    "A continuación, se incluye una breve explicación sobre la información que aporta cada columna.\n",
    "1. **ID**: Un identificador único para cada incidente de ciberataque.\n",
    "2. **Event Description**: Descripción detallada del incidente, explicando qué ocurrió durante el ataque.\n",
    "3. **Event Date**: Fecha en la que ocurrió el evento o ataque.\n",
    "4. **Actor**: La entidad o grupo responsable del ataque.\n",
    "5. **Actor Type**: El tipo de actor responsable del ataque, como \"Criminal\" o \"Estado\".\n",
    "6. **Event Type**: Tipo de ataque realizado, como \"Exploitive\" o \"Data Attack\".\n",
    "7. **Organization**: La organización o empresa que fue el objetivo del ataque.\n",
    "8. **Event Subtype**: Subtipo del evento que describe más específicamente el ataque.\n",
    "9. **Motive**: Razón o motivo detrás del ataque, por ejemplo, \"Financial\" si el objetivo es económico.\n",
    "10. **Event Source**: Fuente de información sobre el evento, generalmente un enlace a un artículo o informe.\n",
    "11. **Country**: País donde ocurrió el ataque o donde está ubicada la organización objetivo.\n",
    "12. **Industry**: Sector o industria al que pertenece la organización atacada.\n",
    "13. **Industry Code**: Código numérico que representa el sector o industria de la organización.\n",
    "14. **DNX ID**: Un identificador adicional del incidente dentro del sistema de la base de datos.\n",
    "15. **Date Uploaded**: La fecha en que la información sobre el incidente fue subida al sistema o base de datos."
   ]
  },
  {
   "cell_type": "code",
   "execution_count": 214,
   "metadata": {},
   "outputs": [
    {
     "data": {
      "text/html": [
       "<div>\n",
       "<style scoped>\n",
       "    .dataframe tbody tr th:only-of-type {\n",
       "        vertical-align: middle;\n",
       "    }\n",
       "\n",
       "    .dataframe tbody tr th {\n",
       "        vertical-align: top;\n",
       "    }\n",
       "\n",
       "    .dataframe thead th {\n",
       "        text-align: right;\n",
       "    }\n",
       "</style>\n",
       "<table border=\"1\" class=\"dataframe\">\n",
       "  <thead>\n",
       "    <tr style=\"text-align: right;\">\n",
       "      <th></th>\n",
       "      <th>event_description</th>\n",
       "      <th>event_date</th>\n",
       "      <th>actor</th>\n",
       "      <th>actor_type</th>\n",
       "      <th>event_type</th>\n",
       "      <th>organization</th>\n",
       "      <th>event_subtype</th>\n",
       "      <th>motive</th>\n",
       "      <th>event_source</th>\n",
       "      <th>country</th>\n",
       "      <th>industry</th>\n",
       "      <th>industry_code</th>\n",
       "      <th>dnx_id</th>\n",
       "      <th>date_uploaded</th>\n",
       "    </tr>\n",
       "    <tr>\n",
       "      <th>id</th>\n",
       "      <th></th>\n",
       "      <th></th>\n",
       "      <th></th>\n",
       "      <th></th>\n",
       "      <th></th>\n",
       "      <th></th>\n",
       "      <th></th>\n",
       "      <th></th>\n",
       "      <th></th>\n",
       "      <th></th>\n",
       "      <th></th>\n",
       "      <th></th>\n",
       "      <th></th>\n",
       "      <th></th>\n",
       "    </tr>\n",
       "  </thead>\n",
       "  <tbody>\n",
       "    <tr>\n",
       "      <th>f5c2ebc02807a6b3</th>\n",
       "      <td>Innovery, an Italian company delivering IT ser...</td>\n",
       "      <td>2023-09-30</td>\n",
       "      <td>Undetermined</td>\n",
       "      <td>Criminal</td>\n",
       "      <td>Exploitive</td>\n",
       "      <td>Innovery</td>\n",
       "      <td>Exploitation of Application Server</td>\n",
       "      <td>Financial</td>\n",
       "      <td>https://www.redhotcyber.com/post/attacco-infor...</td>\n",
       "      <td>ITA</td>\n",
       "      <td>Professional, Scientific, and Technical Services</td>\n",
       "      <td>54.0</td>\n",
       "      <td>inc_cis_13422</td>\n",
       "      <td>2024-04-01</td>\n",
       "    </tr>\n",
       "    <tr>\n",
       "      <th>0b7a20f4161d89b2</th>\n",
       "      <td>The ALPHV/BlackCat ransomware gang adds the ho...</td>\n",
       "      <td>2023-09-30</td>\n",
       "      <td>ALPHV</td>\n",
       "      <td>Criminal</td>\n",
       "      <td>Mixed</td>\n",
       "      <td>Motel One</td>\n",
       "      <td>Data Attack,Undetermined</td>\n",
       "      <td>Financial</td>\n",
       "      <td>https://securityaffairs.com/151732/cyber-crime...</td>\n",
       "      <td>DEU</td>\n",
       "      <td>Accommodation and Food Services</td>\n",
       "      <td>72.0</td>\n",
       "      <td>inc_cis_13421</td>\n",
       "      <td>2024-04-01</td>\n",
       "    </tr>\n",
       "    <tr>\n",
       "      <th>2e37d07ef6ef3cb6</th>\n",
       "      <td>The pro-Russian collective NoName057(16) takes...</td>\n",
       "      <td>2023-09-29</td>\n",
       "      <td>NoName057(16)</td>\n",
       "      <td>Hacktivist</td>\n",
       "      <td>Disruptive</td>\n",
       "      <td>Multiple organizations in Italy</td>\n",
       "      <td>External Denial of Service</td>\n",
       "      <td>Protest</td>\n",
       "      <td>https://www.redhotcyber.com/post/si-ricomincia...</td>\n",
       "      <td>ITA</td>\n",
       "      <td>Public Administration</td>\n",
       "      <td>92.0</td>\n",
       "      <td>inc_cis_13420</td>\n",
       "      <td>2024-04-01</td>\n",
       "    </tr>\n",
       "  </tbody>\n",
       "</table>\n",
       "</div>"
      ],
      "text/plain": [
       "                                                  event_description  \\\n",
       "id                                                                    \n",
       "f5c2ebc02807a6b3  Innovery, an Italian company delivering IT ser...   \n",
       "0b7a20f4161d89b2  The ALPHV/BlackCat ransomware gang adds the ho...   \n",
       "2e37d07ef6ef3cb6  The pro-Russian collective NoName057(16) takes...   \n",
       "\n",
       "                  event_date          actor  actor_type  event_type  \\\n",
       "id                                                                    \n",
       "f5c2ebc02807a6b3  2023-09-30   Undetermined    Criminal  Exploitive   \n",
       "0b7a20f4161d89b2  2023-09-30          ALPHV    Criminal       Mixed   \n",
       "2e37d07ef6ef3cb6  2023-09-29  NoName057(16)  Hacktivist  Disruptive   \n",
       "\n",
       "                                     organization  \\\n",
       "id                                                  \n",
       "f5c2ebc02807a6b3                         Innovery   \n",
       "0b7a20f4161d89b2                        Motel One   \n",
       "2e37d07ef6ef3cb6  Multiple organizations in Italy   \n",
       "\n",
       "                                       event_subtype     motive  \\\n",
       "id                                                                \n",
       "f5c2ebc02807a6b3  Exploitation of Application Server  Financial   \n",
       "0b7a20f4161d89b2            Data Attack,Undetermined  Financial   \n",
       "2e37d07ef6ef3cb6          External Denial of Service    Protest   \n",
       "\n",
       "                                                       event_source country  \\\n",
       "id                                                                            \n",
       "f5c2ebc02807a6b3  https://www.redhotcyber.com/post/attacco-infor...     ITA   \n",
       "0b7a20f4161d89b2  https://securityaffairs.com/151732/cyber-crime...     DEU   \n",
       "2e37d07ef6ef3cb6  https://www.redhotcyber.com/post/si-ricomincia...     ITA   \n",
       "\n",
       "                                                          industry  \\\n",
       "id                                                                   \n",
       "f5c2ebc02807a6b3  Professional, Scientific, and Technical Services   \n",
       "0b7a20f4161d89b2                   Accommodation and Food Services   \n",
       "2e37d07ef6ef3cb6                             Public Administration   \n",
       "\n",
       "                  industry_code         dnx_id date_uploaded  \n",
       "id                                                            \n",
       "f5c2ebc02807a6b3           54.0  inc_cis_13422    2024-04-01  \n",
       "0b7a20f4161d89b2           72.0  inc_cis_13421    2024-04-01  \n",
       "2e37d07ef6ef3cb6           92.0  inc_cis_13420    2024-04-01  "
      ]
     },
     "execution_count": 214,
     "metadata": {},
     "output_type": "execute_result"
    }
   ],
   "source": [
    "df.head(3)"
   ]
  },
  {
   "cell_type": "code",
   "execution_count": 215,
   "metadata": {},
   "outputs": [],
   "source": [
    "df['event_date'] = pd.to_datetime(df['event_date'])"
   ]
  },
  {
   "cell_type": "code",
   "execution_count": 216,
   "metadata": {},
   "outputs": [],
   "source": [
    "df['year'] = df['event_date'].dt.year\n",
    "df['month'] = df['event_date'].dt.month\n",
    "df['day'] = df['event_date'].dt.day"
   ]
  },
  {
   "cell_type": "code",
   "execution_count": 217,
   "metadata": {},
   "outputs": [],
   "source": [
    "df.drop('event_date', axis = 1, inplace = True)"
   ]
  },
  {
   "cell_type": "code",
   "execution_count": 218,
   "metadata": {},
   "outputs": [
    {
     "data": {
      "text/html": [
       "<div>\n",
       "<style scoped>\n",
       "    .dataframe tbody tr th:only-of-type {\n",
       "        vertical-align: middle;\n",
       "    }\n",
       "\n",
       "    .dataframe tbody tr th {\n",
       "        vertical-align: top;\n",
       "    }\n",
       "\n",
       "    .dataframe thead th {\n",
       "        text-align: right;\n",
       "    }\n",
       "</style>\n",
       "<table border=\"1\" class=\"dataframe\">\n",
       "  <thead>\n",
       "    <tr style=\"text-align: right;\">\n",
       "      <th></th>\n",
       "      <th>event_description</th>\n",
       "      <th>actor</th>\n",
       "      <th>actor_type</th>\n",
       "      <th>event_type</th>\n",
       "      <th>organization</th>\n",
       "      <th>event_subtype</th>\n",
       "      <th>motive</th>\n",
       "      <th>event_source</th>\n",
       "      <th>country</th>\n",
       "      <th>industry</th>\n",
       "      <th>industry_code</th>\n",
       "      <th>dnx_id</th>\n",
       "      <th>date_uploaded</th>\n",
       "      <th>year</th>\n",
       "      <th>month</th>\n",
       "      <th>day</th>\n",
       "    </tr>\n",
       "    <tr>\n",
       "      <th>id</th>\n",
       "      <th></th>\n",
       "      <th></th>\n",
       "      <th></th>\n",
       "      <th></th>\n",
       "      <th></th>\n",
       "      <th></th>\n",
       "      <th></th>\n",
       "      <th></th>\n",
       "      <th></th>\n",
       "      <th></th>\n",
       "      <th></th>\n",
       "      <th></th>\n",
       "      <th></th>\n",
       "      <th></th>\n",
       "      <th></th>\n",
       "      <th></th>\n",
       "    </tr>\n",
       "  </thead>\n",
       "  <tbody>\n",
       "    <tr>\n",
       "      <th>f5c2ebc02807a6b3</th>\n",
       "      <td>Innovery, an Italian company delivering IT ser...</td>\n",
       "      <td>Undetermined</td>\n",
       "      <td>Criminal</td>\n",
       "      <td>Exploitive</td>\n",
       "      <td>Innovery</td>\n",
       "      <td>Exploitation of Application Server</td>\n",
       "      <td>Financial</td>\n",
       "      <td>https://www.redhotcyber.com/post/attacco-infor...</td>\n",
       "      <td>ITA</td>\n",
       "      <td>Professional, Scientific, and Technical Services</td>\n",
       "      <td>54.0</td>\n",
       "      <td>inc_cis_13422</td>\n",
       "      <td>2024-04-01</td>\n",
       "      <td>2023</td>\n",
       "      <td>9</td>\n",
       "      <td>30</td>\n",
       "    </tr>\n",
       "    <tr>\n",
       "      <th>0b7a20f4161d89b2</th>\n",
       "      <td>The ALPHV/BlackCat ransomware gang adds the ho...</td>\n",
       "      <td>ALPHV</td>\n",
       "      <td>Criminal</td>\n",
       "      <td>Mixed</td>\n",
       "      <td>Motel One</td>\n",
       "      <td>Data Attack,Undetermined</td>\n",
       "      <td>Financial</td>\n",
       "      <td>https://securityaffairs.com/151732/cyber-crime...</td>\n",
       "      <td>DEU</td>\n",
       "      <td>Accommodation and Food Services</td>\n",
       "      <td>72.0</td>\n",
       "      <td>inc_cis_13421</td>\n",
       "      <td>2024-04-01</td>\n",
       "      <td>2023</td>\n",
       "      <td>9</td>\n",
       "      <td>30</td>\n",
       "    </tr>\n",
       "  </tbody>\n",
       "</table>\n",
       "</div>"
      ],
      "text/plain": [
       "                                                  event_description  \\\n",
       "id                                                                    \n",
       "f5c2ebc02807a6b3  Innovery, an Italian company delivering IT ser...   \n",
       "0b7a20f4161d89b2  The ALPHV/BlackCat ransomware gang adds the ho...   \n",
       "\n",
       "                         actor actor_type  event_type organization  \\\n",
       "id                                                                   \n",
       "f5c2ebc02807a6b3  Undetermined   Criminal  Exploitive     Innovery   \n",
       "0b7a20f4161d89b2         ALPHV   Criminal       Mixed    Motel One   \n",
       "\n",
       "                                       event_subtype     motive  \\\n",
       "id                                                                \n",
       "f5c2ebc02807a6b3  Exploitation of Application Server  Financial   \n",
       "0b7a20f4161d89b2            Data Attack,Undetermined  Financial   \n",
       "\n",
       "                                                       event_source country  \\\n",
       "id                                                                            \n",
       "f5c2ebc02807a6b3  https://www.redhotcyber.com/post/attacco-infor...     ITA   \n",
       "0b7a20f4161d89b2  https://securityaffairs.com/151732/cyber-crime...     DEU   \n",
       "\n",
       "                                                          industry  \\\n",
       "id                                                                   \n",
       "f5c2ebc02807a6b3  Professional, Scientific, and Technical Services   \n",
       "0b7a20f4161d89b2                   Accommodation and Food Services   \n",
       "\n",
       "                  industry_code         dnx_id date_uploaded  year  month  day  \n",
       "id                                                                              \n",
       "f5c2ebc02807a6b3           54.0  inc_cis_13422    2024-04-01  2023      9   30  \n",
       "0b7a20f4161d89b2           72.0  inc_cis_13421    2024-04-01  2023      9   30  "
      ]
     },
     "execution_count": 218,
     "metadata": {},
     "output_type": "execute_result"
    }
   ],
   "source": [
    "df.head(2)"
   ]
  },
  {
   "cell_type": "markdown",
   "metadata": {},
   "source": [
    "## Limpieza de datos.\n",
    "A simple vista, podemos detectar algunas columnas que no aportarán información para la identificación de patrones de ciberataques. La fecha en que la información fue subida al sistema no es relevante para el análisis de los incidentes en sí, ya que no afecta la naturaleza o el impacto del ataque, **Date Uploaded**. Finalmente, la columna **Industry** puede parecer importante, pero se elimina ya que existe otra en la que está representada por el código de la industria."
   ]
  },
  {
   "cell_type": "code",
   "execution_count": 219,
   "metadata": {},
   "outputs": [],
   "source": [
    "df.drop(['date_uploaded'], axis = 1, inplace = True)"
   ]
  },
  {
   "cell_type": "markdown",
   "metadata": {},
   "source": [
    "### Manejo de filas duplicadas.\n",
    "En caso de haber filas duplicadas, deberemos de eliminar estas para que no afecten al análisis posterior."
   ]
  },
  {
   "cell_type": "code",
   "execution_count": 220,
   "metadata": {},
   "outputs": [
    {
     "data": {
      "text/plain": [
       "0"
      ]
     },
     "execution_count": 220,
     "metadata": {},
     "output_type": "execute_result"
    }
   ],
   "source": [
    "df.duplicated().sum() # Columnas duplicadas"
   ]
  },
  {
   "cell_type": "code",
   "execution_count": 221,
   "metadata": {},
   "outputs": [],
   "source": [
    "df.drop_duplicates(inplace = True)"
   ]
  },
  {
   "cell_type": "code",
   "execution_count": 222,
   "metadata": {},
   "outputs": [
    {
     "data": {
      "text/plain": [
       "(13423, 15)"
      ]
     },
     "execution_count": 222,
     "metadata": {},
     "output_type": "execute_result"
    }
   ],
   "source": [
    "df.shape"
   ]
  },
  {
   "cell_type": "markdown",
   "metadata": {},
   "source": [
    "### Manejo de filas nulas."
   ]
  },
  {
   "cell_type": "code",
   "execution_count": 223,
   "metadata": {},
   "outputs": [
    {
     "data": {
      "text/plain": [
       "event_description     0\n",
       "actor                 0\n",
       "actor_type            0\n",
       "event_type            0\n",
       "organization          0\n",
       "event_subtype         0\n",
       "motive                0\n",
       "event_source          0\n",
       "country               0\n",
       "industry              0\n",
       "industry_code        22\n",
       "dnx_id                0\n",
       "year                  0\n",
       "month                 0\n",
       "day                   0\n",
       "dtype: int64"
      ]
     },
     "execution_count": 223,
     "metadata": {},
     "output_type": "execute_result"
    }
   ],
   "source": [
    "df.isnull().sum() # Valores nulos"
   ]
  },
  {
   "cell_type": "code",
   "execution_count": 224,
   "metadata": {},
   "outputs": [],
   "source": [
    "df.dropna(inplace = True)"
   ]
  },
  {
   "cell_type": "markdown",
   "metadata": {},
   "source": [
    "Al examinar detenidamente el DataFrame, notamos que hay algunas columnas que no están marcadas como valores nulos, pero que contienen el texto `'[]'`, lo que indica que son valores vacíos. Es necesario revisar estas filas para determinar cómo manejarlas.\n",
    "\n",
    "Después de esta revisión, concluimos que las filas afectadas son bastante pocas en comparación con el total de filas en el DataFrame original. Por lo tanto, la mejor opción sería eliminarlas."
   ]
  },
  {
   "cell_type": "code",
   "execution_count": 225,
   "metadata": {},
   "outputs": [
    {
     "data": {
      "text/plain": [
       "event_description     3\n",
       "actor                 0\n",
       "actor_type            0\n",
       "event_type            0\n",
       "organization          0\n",
       "event_subtype        21\n",
       "motive                1\n",
       "event_source          4\n",
       "country               8\n",
       "industry              0\n",
       "industry_code         0\n",
       "dnx_id                0\n",
       "year                  0\n",
       "month                 0\n",
       "day                   0\n",
       "dtype: int64"
      ]
     },
     "execution_count": 225,
     "metadata": {},
     "output_type": "execute_result"
    }
   ],
   "source": [
    "(df == '[]').sum()"
   ]
  },
  {
   "cell_type": "code",
   "execution_count": 226,
   "metadata": {},
   "outputs": [],
   "source": [
    "df.drop(df[(df == '[]').any(axis=1)].index, inplace=True)"
   ]
  },
  {
   "cell_type": "code",
   "execution_count": 227,
   "metadata": {},
   "outputs": [
    {
     "data": {
      "text/plain": [
       "(13364, 15)"
      ]
     },
     "execution_count": 227,
     "metadata": {},
     "output_type": "execute_result"
    }
   ],
   "source": [
    "df.shape"
   ]
  },
  {
   "cell_type": "markdown",
   "metadata": {},
   "source": [
    "### Selección de variables categóricas y continuas.\n",
    "Para realizar correctamente un ánalisis de datos debemos de distinguir entre las variables categóricas, variables que representan diferentes categorías o grupos, y continuas, variables que pueden tomar cualquier valor dentro de un rango determinado."
   ]
  },
  {
   "cell_type": "code",
   "execution_count": 228,
   "metadata": {},
   "outputs": [
    {
     "name": "stdout",
     "output_type": "stream",
     "text": [
      "Variables continuas: event_description, actor, organization, event_subtype, event_source, country, industry_code, dnx_id, year, month, day\n",
      "Variables categóricas: actor_type, event_type, motive, industry\n"
     ]
    }
   ],
   "source": [
    "v_continuas = []\n",
    "v_categoricas = []\n",
    "for i in df.columns:\n",
    "    if df[i].nunique() > 25 or df[i].dtypes in ['float64', 'int64']:\n",
    "        v_continuas.append(i)\n",
    "    else:\n",
    "        v_categoricas.append(i)\n",
    "\n",
    "print('Variables continuas: {}'.format(', '.join(v_continuas)))\n",
    "print('Variables categóricas: {}'.format(', '.join(v_categoricas)))"
   ]
  },
  {
   "cell_type": "markdown",
   "metadata": {},
   "source": [
    "#### Tratamiento de variables categóricas.\n",
    "Para el posterior modelo de clasificación, necesitamos codificar nuestras variables. Para ello, realizaremos una codificación ordinal que consiste en asignar valores enteros a las categorias basándose en su posición o jerarquía en los datos."
   ]
  },
  {
   "cell_type": "code",
   "execution_count": 229,
   "metadata": {},
   "outputs": [
    {
     "data": {
      "text/html": [
       "<div>\n",
       "<style scoped>\n",
       "    .dataframe tbody tr th:only-of-type {\n",
       "        vertical-align: middle;\n",
       "    }\n",
       "\n",
       "    .dataframe tbody tr th {\n",
       "        vertical-align: top;\n",
       "    }\n",
       "\n",
       "    .dataframe thead th {\n",
       "        text-align: right;\n",
       "    }\n",
       "</style>\n",
       "<table border=\"1\" class=\"dataframe\">\n",
       "  <thead>\n",
       "    <tr style=\"text-align: right;\">\n",
       "      <th></th>\n",
       "      <th>actor_type</th>\n",
       "      <th>event_type</th>\n",
       "      <th>motive</th>\n",
       "      <th>industry</th>\n",
       "    </tr>\n",
       "    <tr>\n",
       "      <th>id</th>\n",
       "      <th></th>\n",
       "      <th></th>\n",
       "      <th></th>\n",
       "      <th></th>\n",
       "    </tr>\n",
       "  </thead>\n",
       "  <tbody>\n",
       "    <tr>\n",
       "      <th>f5c2ebc02807a6b3</th>\n",
       "      <td>Criminal</td>\n",
       "      <td>Exploitive</td>\n",
       "      <td>Financial</td>\n",
       "      <td>Professional, Scientific, and Technical Services</td>\n",
       "    </tr>\n",
       "    <tr>\n",
       "      <th>0b7a20f4161d89b2</th>\n",
       "      <td>Criminal</td>\n",
       "      <td>Mixed</td>\n",
       "      <td>Financial</td>\n",
       "      <td>Accommodation and Food Services</td>\n",
       "    </tr>\n",
       "    <tr>\n",
       "      <th>2e37d07ef6ef3cb6</th>\n",
       "      <td>Hacktivist</td>\n",
       "      <td>Disruptive</td>\n",
       "      <td>Protest</td>\n",
       "      <td>Public Administration</td>\n",
       "    </tr>\n",
       "  </tbody>\n",
       "</table>\n",
       "</div>"
      ],
      "text/plain": [
       "                  actor_type  event_type     motive  \\\n",
       "id                                                    \n",
       "f5c2ebc02807a6b3    Criminal  Exploitive  Financial   \n",
       "0b7a20f4161d89b2    Criminal       Mixed  Financial   \n",
       "2e37d07ef6ef3cb6  Hacktivist  Disruptive    Protest   \n",
       "\n",
       "                                                          industry  \n",
       "id                                                                  \n",
       "f5c2ebc02807a6b3  Professional, Scientific, and Technical Services  \n",
       "0b7a20f4161d89b2                   Accommodation and Food Services  \n",
       "2e37d07ef6ef3cb6                             Public Administration  "
      ]
     },
     "execution_count": 229,
     "metadata": {},
     "output_type": "execute_result"
    }
   ],
   "source": [
    "df[v_categoricas].head(3)"
   ]
  },
  {
   "cell_type": "code",
   "execution_count": 230,
   "metadata": {},
   "outputs": [
    {
     "data": {
      "text/plain": [
       "actor_type     7\n",
       "event_type     5\n",
       "motive        11\n",
       "industry      21\n",
       "dtype: int64"
      ]
     },
     "execution_count": 230,
     "metadata": {},
     "output_type": "execute_result"
    }
   ],
   "source": [
    "df[v_categoricas].nunique()"
   ]
  },
  {
   "cell_type": "markdown",
   "metadata": {},
   "source": [
    "##### **Industry.**\n",
    "Esta columna ya viene codificada a través de **Industry Code**. Guardámos la columna para saber a que corresponde cada una."
   ]
  },
  {
   "cell_type": "code",
   "execution_count": 231,
   "metadata": {},
   "outputs": [
    {
     "data": {
      "text/plain": [
       "21"
      ]
     },
     "execution_count": 231,
     "metadata": {},
     "output_type": "execute_result"
    }
   ],
   "source": [
    "df['industry'].nunique()"
   ]
  },
  {
   "cell_type": "code",
   "execution_count": 232,
   "metadata": {},
   "outputs": [
    {
     "data": {
      "text/plain": [
       "25"
      ]
     },
     "execution_count": 232,
     "metadata": {},
     "output_type": "execute_result"
    }
   ],
   "source": [
    "df['industry_code'].nunique()"
   ]
  },
  {
   "cell_type": "markdown",
   "metadata": {},
   "source": [
    "##### **Event Type.**"
   ]
  },
  {
   "cell_type": "code",
   "execution_count": 233,
   "metadata": {},
   "outputs": [
    {
     "data": {
      "text/plain": [
       "array(['Exploitive', 'Mixed', 'Disruptive', 'Undetermined',\n",
       "       'Exploitation of Application Server'], dtype=object)"
      ]
     },
     "execution_count": 233,
     "metadata": {},
     "output_type": "execute_result"
    }
   ],
   "source": [
    "df['event_type'].unique()"
   ]
  },
  {
   "cell_type": "markdown",
   "metadata": {},
   "source": [
    "Los valores **Exploitive** y **Exploitation of Application Server** están relacionados con la explotación de vulnerabilidades, ya sea de manera general o específica (como en un servidor de aplicaciones). Por ello los juntaremos en la misma categoria."
   ]
  },
  {
   "cell_type": "code",
   "execution_count": 234,
   "metadata": {},
   "outputs": [],
   "source": [
    "df['event_type'].replace('Exploitation of Application Server', 'Exploitive', inplace=True)"
   ]
  },
  {
   "cell_type": "markdown",
   "metadata": {},
   "source": [
    "Cuando trabajamos con variables categóricas, como en este caso con la columna 'event_type' que tiene valores como **Exploitive**, **Disruptive**, **Mixed** y **Undetermined**, se suele utilizar la técnica de **One-hot encoder** para convertir estas categorías en variables binarias que un modelo de Machine Learning pueda entender. El objetivo es crear una columna para cada categoría con valores 0 o 1, indicando si un evento pertenece a esa categoría o no.\n",
    "\n",
    "El valor **Mixed** es especial porque representa una combinación de dos categorías: **Exploitive** y **Disruptive**. Esto significa que cuando un evento está clasificado como **Mixed**, en realidad debe ser tratado como si fuera tanto **Exploitive** como **Disruptive**. Añadiendo un 1 en cada columna de estos."
   ]
  },
  {
   "cell_type": "code",
   "execution_count": 235,
   "metadata": {},
   "outputs": [],
   "source": [
    "dummies = pd.get_dummies(df['event_type'])\n",
    "dummies['Exploitive'] = dummies['Exploitive'] | dummies['Mixed']\n",
    "dummies['Disruptive'] = dummies['Disruptive'] | dummies['Mixed']\n",
    "\n",
    "df = pd.concat([df, dummies], axis=1)\n",
    "df.drop(['Mixed'], axis=1, inplace=True)"
   ]
  },
  {
   "cell_type": "code",
   "execution_count": 236,
   "metadata": {},
   "outputs": [
    {
     "data": {
      "text/html": [
       "<div>\n",
       "<style scoped>\n",
       "    .dataframe tbody tr th:only-of-type {\n",
       "        vertical-align: middle;\n",
       "    }\n",
       "\n",
       "    .dataframe tbody tr th {\n",
       "        vertical-align: top;\n",
       "    }\n",
       "\n",
       "    .dataframe thead th {\n",
       "        text-align: right;\n",
       "    }\n",
       "</style>\n",
       "<table border=\"1\" class=\"dataframe\">\n",
       "  <thead>\n",
       "    <tr style=\"text-align: right;\">\n",
       "      <th></th>\n",
       "      <th>event_description</th>\n",
       "      <th>actor</th>\n",
       "      <th>actor_type</th>\n",
       "      <th>event_type</th>\n",
       "      <th>organization</th>\n",
       "      <th>event_subtype</th>\n",
       "      <th>motive</th>\n",
       "      <th>event_source</th>\n",
       "      <th>country</th>\n",
       "      <th>industry</th>\n",
       "      <th>industry_code</th>\n",
       "      <th>dnx_id</th>\n",
       "      <th>year</th>\n",
       "      <th>month</th>\n",
       "      <th>day</th>\n",
       "      <th>Disruptive</th>\n",
       "      <th>Exploitive</th>\n",
       "      <th>Undetermined</th>\n",
       "    </tr>\n",
       "    <tr>\n",
       "      <th>id</th>\n",
       "      <th></th>\n",
       "      <th></th>\n",
       "      <th></th>\n",
       "      <th></th>\n",
       "      <th></th>\n",
       "      <th></th>\n",
       "      <th></th>\n",
       "      <th></th>\n",
       "      <th></th>\n",
       "      <th></th>\n",
       "      <th></th>\n",
       "      <th></th>\n",
       "      <th></th>\n",
       "      <th></th>\n",
       "      <th></th>\n",
       "      <th></th>\n",
       "      <th></th>\n",
       "      <th></th>\n",
       "    </tr>\n",
       "  </thead>\n",
       "  <tbody>\n",
       "    <tr>\n",
       "      <th>f5c2ebc02807a6b3</th>\n",
       "      <td>Innovery, an Italian company delivering IT ser...</td>\n",
       "      <td>Undetermined</td>\n",
       "      <td>Criminal</td>\n",
       "      <td>Exploitive</td>\n",
       "      <td>Innovery</td>\n",
       "      <td>Exploitation of Application Server</td>\n",
       "      <td>Financial</td>\n",
       "      <td>https://www.redhotcyber.com/post/attacco-infor...</td>\n",
       "      <td>ITA</td>\n",
       "      <td>Professional, Scientific, and Technical Services</td>\n",
       "      <td>54.0</td>\n",
       "      <td>inc_cis_13422</td>\n",
       "      <td>2023</td>\n",
       "      <td>9</td>\n",
       "      <td>30</td>\n",
       "      <td>0</td>\n",
       "      <td>1</td>\n",
       "      <td>0</td>\n",
       "    </tr>\n",
       "    <tr>\n",
       "      <th>0b7a20f4161d89b2</th>\n",
       "      <td>The ALPHV/BlackCat ransomware gang adds the ho...</td>\n",
       "      <td>ALPHV</td>\n",
       "      <td>Criminal</td>\n",
       "      <td>Mixed</td>\n",
       "      <td>Motel One</td>\n",
       "      <td>Data Attack,Undetermined</td>\n",
       "      <td>Financial</td>\n",
       "      <td>https://securityaffairs.com/151732/cyber-crime...</td>\n",
       "      <td>DEU</td>\n",
       "      <td>Accommodation and Food Services</td>\n",
       "      <td>72.0</td>\n",
       "      <td>inc_cis_13421</td>\n",
       "      <td>2023</td>\n",
       "      <td>9</td>\n",
       "      <td>30</td>\n",
       "      <td>1</td>\n",
       "      <td>1</td>\n",
       "      <td>0</td>\n",
       "    </tr>\n",
       "  </tbody>\n",
       "</table>\n",
       "</div>"
      ],
      "text/plain": [
       "                                                  event_description  \\\n",
       "id                                                                    \n",
       "f5c2ebc02807a6b3  Innovery, an Italian company delivering IT ser...   \n",
       "0b7a20f4161d89b2  The ALPHV/BlackCat ransomware gang adds the ho...   \n",
       "\n",
       "                         actor actor_type  event_type organization  \\\n",
       "id                                                                   \n",
       "f5c2ebc02807a6b3  Undetermined   Criminal  Exploitive     Innovery   \n",
       "0b7a20f4161d89b2         ALPHV   Criminal       Mixed    Motel One   \n",
       "\n",
       "                                       event_subtype     motive  \\\n",
       "id                                                                \n",
       "f5c2ebc02807a6b3  Exploitation of Application Server  Financial   \n",
       "0b7a20f4161d89b2            Data Attack,Undetermined  Financial   \n",
       "\n",
       "                                                       event_source country  \\\n",
       "id                                                                            \n",
       "f5c2ebc02807a6b3  https://www.redhotcyber.com/post/attacco-infor...     ITA   \n",
       "0b7a20f4161d89b2  https://securityaffairs.com/151732/cyber-crime...     DEU   \n",
       "\n",
       "                                                          industry  \\\n",
       "id                                                                   \n",
       "f5c2ebc02807a6b3  Professional, Scientific, and Technical Services   \n",
       "0b7a20f4161d89b2                   Accommodation and Food Services   \n",
       "\n",
       "                  industry_code         dnx_id  year  month  day  Disruptive  \\\n",
       "id                                                                             \n",
       "f5c2ebc02807a6b3           54.0  inc_cis_13422  2023      9   30           0   \n",
       "0b7a20f4161d89b2           72.0  inc_cis_13421  2023      9   30           1   \n",
       "\n",
       "                  Exploitive  Undetermined  \n",
       "id                                          \n",
       "f5c2ebc02807a6b3           1             0  \n",
       "0b7a20f4161d89b2           1             0  "
      ]
     },
     "execution_count": 236,
     "metadata": {},
     "output_type": "execute_result"
    }
   ],
   "source": [
    "df.head(2)"
   ]
  },
  {
   "cell_type": "markdown",
   "metadata": {},
   "source": [
    "##### **Motive**"
   ]
  },
  {
   "cell_type": "code",
   "execution_count": 237,
   "metadata": {},
   "outputs": [
    {
     "data": {
      "text/plain": [
       "array(['Financial', 'Protest', 'Undetermined', 'Political-Espionage',\n",
       "       'Sabotage', 'Espionage', 'Espionage-Political', 'Sabatoge',\n",
       "       'Personal Attack', 'Protest,Financial', 'Industrial-Espionage'],\n",
       "      dtype=object)"
      ]
     },
     "execution_count": 237,
     "metadata": {},
     "output_type": "execute_result"
    }
   ],
   "source": [
    "df['motive'].unique()"
   ]
  },
  {
   "cell_type": "markdown",
   "metadata": {},
   "source": [
    "Debemos de arreglar fallos de escritura primero. En nuestro conjunto de datos, encontramos entradas como **Sabatoge**, que son errores de escritura y deben corregirse a **Sabotage**. Estas correcciones aseguran que todos los datos sean consistentes y que no haya duplicados causados por errores de escritura."
   ]
  },
  {
   "cell_type": "code",
   "execution_count": 238,
   "metadata": {},
   "outputs": [],
   "source": [
    "df['motive'] = df['motive'].str.replace('Espionage-Political', 'Political-Espionage')\n",
    "df['motive'] = df['motive'].str.replace('Sabatoge', 'Sabotage')"
   ]
  },
  {
   "cell_type": "markdown",
   "metadata": {},
   "source": [
    "Es importante agrupar categorías que representan la misma amenaza. Por ejemplo, las categorías **Industrial-Espionage** y **Political-Espionage** pueden ser agrupadas bajo una sola categoría: **Espionage**. Esta agrupación ayuda a simplificar el análisis, permitiendo que se obtengan conclusiones más claras y significativas."
   ]
  },
  {
   "cell_type": "code",
   "execution_count": 239,
   "metadata": {},
   "outputs": [],
   "source": [
    "motive_mapping = {\n",
    "    'Political-Espionage': 'Espionage',\n",
    "    'Industrial-Espionage': 'Espionage',\n",
    "}\n",
    "\n",
    "# Aplicamos la agrupación\n",
    "df['motive'] = df['motive'].replace(motive_mapping)"
   ]
  },
  {
   "cell_type": "code",
   "execution_count": 240,
   "metadata": {},
   "outputs": [
    {
     "data": {
      "text/plain": [
       "array(['Financial', 'Protest', 'Undetermined', 'Espionage', 'Sabotage',\n",
       "       'Personal Attack', 'Protest,Financial'], dtype=object)"
      ]
     },
     "execution_count": 240,
     "metadata": {},
     "output_type": "execute_result"
    }
   ],
   "source": [
    "df['motive'].unique()"
   ]
  },
  {
   "cell_type": "markdown",
   "metadata": {},
   "source": [
    "En el proceso de limpieza de datos, es posible que se detecten casos donde una fila contenga múltiples categorías que deberían ser exclusivas. En nuestro conjunto de datos, hemos encontrado un caso donde una entrada presenta simultáneamente las categorías **Protest** y **Financial**. Sin embargo, dado que esta situación ocurre solo en una fila de aproximadamente 13000 registros, podemos prescindir de este caso sin afectar significativamente el análisis general."
   ]
  },
  {
   "cell_type": "code",
   "execution_count": 241,
   "metadata": {},
   "outputs": [],
   "source": [
    "df.drop(df[df['motive'] == 'Protest,Financial'].index, inplace=True) # solo es una fila, por no hacer get_dummies"
   ]
  },
  {
   "cell_type": "code",
   "execution_count": 242,
   "metadata": {},
   "outputs": [
    {
     "data": {
      "text/plain": [
       "array(['Financial', 'Protest', 'Undetermined', 'Espionage', 'Sabotage',\n",
       "       'Personal Attack'], dtype=object)"
      ]
     },
     "execution_count": 242,
     "metadata": {},
     "output_type": "execute_result"
    }
   ],
   "source": [
    "df['motive'].unique()"
   ]
  },
  {
   "cell_type": "code",
   "execution_count": 243,
   "metadata": {},
   "outputs": [
    {
     "data": {
      "text/html": [
       "<div>\n",
       "<style scoped>\n",
       "    .dataframe tbody tr th:only-of-type {\n",
       "        vertical-align: middle;\n",
       "    }\n",
       "\n",
       "    .dataframe tbody tr th {\n",
       "        vertical-align: top;\n",
       "    }\n",
       "\n",
       "    .dataframe thead th {\n",
       "        text-align: right;\n",
       "    }\n",
       "</style>\n",
       "<table border=\"1\" class=\"dataframe\">\n",
       "  <thead>\n",
       "    <tr style=\"text-align: right;\">\n",
       "      <th></th>\n",
       "      <th>event_description</th>\n",
       "      <th>actor</th>\n",
       "      <th>actor_type</th>\n",
       "      <th>event_type</th>\n",
       "      <th>organization</th>\n",
       "      <th>event_subtype</th>\n",
       "      <th>motive</th>\n",
       "      <th>motive_code</th>\n",
       "      <th>event_source</th>\n",
       "      <th>country</th>\n",
       "      <th>industry</th>\n",
       "      <th>industry_code</th>\n",
       "      <th>dnx_id</th>\n",
       "      <th>year</th>\n",
       "      <th>month</th>\n",
       "      <th>day</th>\n",
       "      <th>Disruptive</th>\n",
       "      <th>Exploitive</th>\n",
       "      <th>Undetermined</th>\n",
       "    </tr>\n",
       "    <tr>\n",
       "      <th>id</th>\n",
       "      <th></th>\n",
       "      <th></th>\n",
       "      <th></th>\n",
       "      <th></th>\n",
       "      <th></th>\n",
       "      <th></th>\n",
       "      <th></th>\n",
       "      <th></th>\n",
       "      <th></th>\n",
       "      <th></th>\n",
       "      <th></th>\n",
       "      <th></th>\n",
       "      <th></th>\n",
       "      <th></th>\n",
       "      <th></th>\n",
       "      <th></th>\n",
       "      <th></th>\n",
       "      <th></th>\n",
       "      <th></th>\n",
       "    </tr>\n",
       "  </thead>\n",
       "  <tbody>\n",
       "    <tr>\n",
       "      <th>f5c2ebc02807a6b3</th>\n",
       "      <td>Innovery, an Italian company delivering IT ser...</td>\n",
       "      <td>Undetermined</td>\n",
       "      <td>Criminal</td>\n",
       "      <td>Exploitive</td>\n",
       "      <td>Innovery</td>\n",
       "      <td>Exploitation of Application Server</td>\n",
       "      <td>Financial</td>\n",
       "      <td>1.0</td>\n",
       "      <td>https://www.redhotcyber.com/post/attacco-infor...</td>\n",
       "      <td>ITA</td>\n",
       "      <td>Professional, Scientific, and Technical Services</td>\n",
       "      <td>54.0</td>\n",
       "      <td>inc_cis_13422</td>\n",
       "      <td>2023</td>\n",
       "      <td>9</td>\n",
       "      <td>30</td>\n",
       "      <td>0</td>\n",
       "      <td>1</td>\n",
       "      <td>0</td>\n",
       "    </tr>\n",
       "    <tr>\n",
       "      <th>0b7a20f4161d89b2</th>\n",
       "      <td>The ALPHV/BlackCat ransomware gang adds the ho...</td>\n",
       "      <td>ALPHV</td>\n",
       "      <td>Criminal</td>\n",
       "      <td>Mixed</td>\n",
       "      <td>Motel One</td>\n",
       "      <td>Data Attack,Undetermined</td>\n",
       "      <td>Financial</td>\n",
       "      <td>1.0</td>\n",
       "      <td>https://securityaffairs.com/151732/cyber-crime...</td>\n",
       "      <td>DEU</td>\n",
       "      <td>Accommodation and Food Services</td>\n",
       "      <td>72.0</td>\n",
       "      <td>inc_cis_13421</td>\n",
       "      <td>2023</td>\n",
       "      <td>9</td>\n",
       "      <td>30</td>\n",
       "      <td>1</td>\n",
       "      <td>1</td>\n",
       "      <td>0</td>\n",
       "    </tr>\n",
       "  </tbody>\n",
       "</table>\n",
       "</div>"
      ],
      "text/plain": [
       "                                                  event_description  \\\n",
       "id                                                                    \n",
       "f5c2ebc02807a6b3  Innovery, an Italian company delivering IT ser...   \n",
       "0b7a20f4161d89b2  The ALPHV/BlackCat ransomware gang adds the ho...   \n",
       "\n",
       "                         actor actor_type  event_type organization  \\\n",
       "id                                                                   \n",
       "f5c2ebc02807a6b3  Undetermined   Criminal  Exploitive     Innovery   \n",
       "0b7a20f4161d89b2         ALPHV   Criminal       Mixed    Motel One   \n",
       "\n",
       "                                       event_subtype     motive  motive_code  \\\n",
       "id                                                                             \n",
       "f5c2ebc02807a6b3  Exploitation of Application Server  Financial          1.0   \n",
       "0b7a20f4161d89b2            Data Attack,Undetermined  Financial          1.0   \n",
       "\n",
       "                                                       event_source country  \\\n",
       "id                                                                            \n",
       "f5c2ebc02807a6b3  https://www.redhotcyber.com/post/attacco-infor...     ITA   \n",
       "0b7a20f4161d89b2  https://securityaffairs.com/151732/cyber-crime...     DEU   \n",
       "\n",
       "                                                          industry  \\\n",
       "id                                                                   \n",
       "f5c2ebc02807a6b3  Professional, Scientific, and Technical Services   \n",
       "0b7a20f4161d89b2                   Accommodation and Food Services   \n",
       "\n",
       "                  industry_code         dnx_id  year  month  day  Disruptive  \\\n",
       "id                                                                             \n",
       "f5c2ebc02807a6b3           54.0  inc_cis_13422  2023      9   30           0   \n",
       "0b7a20f4161d89b2           72.0  inc_cis_13421  2023      9   30           1   \n",
       "\n",
       "                  Exploitive  Undetermined  \n",
       "id                                          \n",
       "f5c2ebc02807a6b3           1             0  \n",
       "0b7a20f4161d89b2           1             0  "
      ]
     },
     "execution_count": 243,
     "metadata": {},
     "output_type": "execute_result"
    }
   ],
   "source": [
    "encoder = OrdinalEncoder()\n",
    "df.insert(df.columns.get_loc('motive') + 1, 'motive_code', encoder.fit_transform(df[['motive']]))\n",
    "df.head(2)"
   ]
  },
  {
   "cell_type": "markdown",
   "metadata": {},
   "source": [
    "##### **Actor Type.**\n",
    "Debemos examinar cuidadosamente esta columna para determinar si es posible realizar la codificación ordinal. Como se observa, hay un valor que aparece como `Undeterminated` y otro valor de `Criminal` que está mal escrito en una de las entradas."
   ]
  },
  {
   "cell_type": "code",
   "execution_count": 244,
   "metadata": {},
   "outputs": [
    {
     "data": {
      "text/plain": [
       "array(['Criminal', 'Hacktivist', 'Nation-State', 'Undetermined',\n",
       "       'Hobbyist', 'Crimimal', 'Terrorist'], dtype=object)"
      ]
     },
     "execution_count": 244,
     "metadata": {},
     "output_type": "execute_result"
    }
   ],
   "source": [
    "df['actor_type'] = df['actor_type'].str.replace('Criminal', 'Criminal', regex=True)\n",
    "df['actor_type'].unique()"
   ]
  },
  {
   "cell_type": "code",
   "execution_count": 245,
   "metadata": {},
   "outputs": [],
   "source": [
    "df['actor_type'] = df['actor_type'].str.replace('Criminal', 'Criminal', regex=True)\n"
   ]
  },
  {
   "cell_type": "code",
   "execution_count": 246,
   "metadata": {},
   "outputs": [
    {
     "data": {
      "text/plain": [
       "array(['Criminal', 'Hacktivist', 'Nation-State', 'Undetermined',\n",
       "       'Hobbyist', 'Crimimal', 'Terrorist'], dtype=object)"
      ]
     },
     "execution_count": 246,
     "metadata": {},
     "output_type": "execute_result"
    }
   ],
   "source": [
    "df['actor_type'].unique()"
   ]
  },
  {
   "cell_type": "code",
   "execution_count": 247,
   "metadata": {},
   "outputs": [
    {
     "data": {
      "text/html": [
       "<div>\n",
       "<style scoped>\n",
       "    .dataframe tbody tr th:only-of-type {\n",
       "        vertical-align: middle;\n",
       "    }\n",
       "\n",
       "    .dataframe tbody tr th {\n",
       "        vertical-align: top;\n",
       "    }\n",
       "\n",
       "    .dataframe thead th {\n",
       "        text-align: right;\n",
       "    }\n",
       "</style>\n",
       "<table border=\"1\" class=\"dataframe\">\n",
       "  <thead>\n",
       "    <tr style=\"text-align: right;\">\n",
       "      <th></th>\n",
       "      <th>event_description</th>\n",
       "      <th>actor</th>\n",
       "      <th>actor_type</th>\n",
       "      <th>event_type</th>\n",
       "      <th>organization</th>\n",
       "      <th>event_subtype</th>\n",
       "      <th>motive</th>\n",
       "      <th>motive_code</th>\n",
       "      <th>event_source</th>\n",
       "      <th>country</th>\n",
       "      <th>industry</th>\n",
       "      <th>industry_code</th>\n",
       "      <th>dnx_id</th>\n",
       "      <th>year</th>\n",
       "      <th>month</th>\n",
       "      <th>day</th>\n",
       "      <th>Disruptive</th>\n",
       "      <th>Exploitive</th>\n",
       "      <th>Undetermined</th>\n",
       "    </tr>\n",
       "    <tr>\n",
       "      <th>id</th>\n",
       "      <th></th>\n",
       "      <th></th>\n",
       "      <th></th>\n",
       "      <th></th>\n",
       "      <th></th>\n",
       "      <th></th>\n",
       "      <th></th>\n",
       "      <th></th>\n",
       "      <th></th>\n",
       "      <th></th>\n",
       "      <th></th>\n",
       "      <th></th>\n",
       "      <th></th>\n",
       "      <th></th>\n",
       "      <th></th>\n",
       "      <th></th>\n",
       "      <th></th>\n",
       "      <th></th>\n",
       "      <th></th>\n",
       "    </tr>\n",
       "  </thead>\n",
       "  <tbody>\n",
       "    <tr>\n",
       "      <th>f5c2ebc02807a6b3</th>\n",
       "      <td>Innovery, an Italian company delivering IT ser...</td>\n",
       "      <td>Undetermined</td>\n",
       "      <td>1.0</td>\n",
       "      <td>Exploitive</td>\n",
       "      <td>Innovery</td>\n",
       "      <td>Exploitation of Application Server</td>\n",
       "      <td>Financial</td>\n",
       "      <td>1.0</td>\n",
       "      <td>https://www.redhotcyber.com/post/attacco-infor...</td>\n",
       "      <td>ITA</td>\n",
       "      <td>Professional, Scientific, and Technical Services</td>\n",
       "      <td>54.0</td>\n",
       "      <td>inc_cis_13422</td>\n",
       "      <td>2023</td>\n",
       "      <td>9</td>\n",
       "      <td>30</td>\n",
       "      <td>0</td>\n",
       "      <td>1</td>\n",
       "      <td>0</td>\n",
       "    </tr>\n",
       "    <tr>\n",
       "      <th>0b7a20f4161d89b2</th>\n",
       "      <td>The ALPHV/BlackCat ransomware gang adds the ho...</td>\n",
       "      <td>ALPHV</td>\n",
       "      <td>1.0</td>\n",
       "      <td>Mixed</td>\n",
       "      <td>Motel One</td>\n",
       "      <td>Data Attack,Undetermined</td>\n",
       "      <td>Financial</td>\n",
       "      <td>1.0</td>\n",
       "      <td>https://securityaffairs.com/151732/cyber-crime...</td>\n",
       "      <td>DEU</td>\n",
       "      <td>Accommodation and Food Services</td>\n",
       "      <td>72.0</td>\n",
       "      <td>inc_cis_13421</td>\n",
       "      <td>2023</td>\n",
       "      <td>9</td>\n",
       "      <td>30</td>\n",
       "      <td>1</td>\n",
       "      <td>1</td>\n",
       "      <td>0</td>\n",
       "    </tr>\n",
       "  </tbody>\n",
       "</table>\n",
       "</div>"
      ],
      "text/plain": [
       "                                                  event_description  \\\n",
       "id                                                                    \n",
       "f5c2ebc02807a6b3  Innovery, an Italian company delivering IT ser...   \n",
       "0b7a20f4161d89b2  The ALPHV/BlackCat ransomware gang adds the ho...   \n",
       "\n",
       "                         actor  actor_type  event_type organization  \\\n",
       "id                                                                    \n",
       "f5c2ebc02807a6b3  Undetermined         1.0  Exploitive     Innovery   \n",
       "0b7a20f4161d89b2         ALPHV         1.0       Mixed    Motel One   \n",
       "\n",
       "                                       event_subtype     motive  motive_code  \\\n",
       "id                                                                             \n",
       "f5c2ebc02807a6b3  Exploitation of Application Server  Financial          1.0   \n",
       "0b7a20f4161d89b2            Data Attack,Undetermined  Financial          1.0   \n",
       "\n",
       "                                                       event_source country  \\\n",
       "id                                                                            \n",
       "f5c2ebc02807a6b3  https://www.redhotcyber.com/post/attacco-infor...     ITA   \n",
       "0b7a20f4161d89b2  https://securityaffairs.com/151732/cyber-crime...     DEU   \n",
       "\n",
       "                                                          industry  \\\n",
       "id                                                                   \n",
       "f5c2ebc02807a6b3  Professional, Scientific, and Technical Services   \n",
       "0b7a20f4161d89b2                   Accommodation and Food Services   \n",
       "\n",
       "                  industry_code         dnx_id  year  month  day  Disruptive  \\\n",
       "id                                                                             \n",
       "f5c2ebc02807a6b3           54.0  inc_cis_13422  2023      9   30           0   \n",
       "0b7a20f4161d89b2           72.0  inc_cis_13421  2023      9   30           1   \n",
       "\n",
       "                  Exploitive  Undetermined  \n",
       "id                                          \n",
       "f5c2ebc02807a6b3           1             0  \n",
       "0b7a20f4161d89b2           1             0  "
      ]
     },
     "execution_count": 247,
     "metadata": {},
     "output_type": "execute_result"
    }
   ],
   "source": [
    "encoder = OrdinalEncoder()\n",
    "df['actor_type'] = encoder.fit_transform(df[['actor_type']])\n",
    "df.head(2)"
   ]
  },
  {
   "cell_type": "markdown",
   "metadata": {},
   "source": [
    "#### Tratamiento de variables continuas.\n",
    "Para el modelo de clasificación debemos de pasar todas las columnas a tipo `int`. Por ello, debemos de ver si realizar como en el caso anterior una codificación ordinal o agruparlos."
   ]
  },
  {
   "cell_type": "code",
   "execution_count": 248,
   "metadata": {},
   "outputs": [
    {
     "data": {
      "text/html": [
       "<div>\n",
       "<style scoped>\n",
       "    .dataframe tbody tr th:only-of-type {\n",
       "        vertical-align: middle;\n",
       "    }\n",
       "\n",
       "    .dataframe tbody tr th {\n",
       "        vertical-align: top;\n",
       "    }\n",
       "\n",
       "    .dataframe thead th {\n",
       "        text-align: right;\n",
       "    }\n",
       "</style>\n",
       "<table border=\"1\" class=\"dataframe\">\n",
       "  <thead>\n",
       "    <tr style=\"text-align: right;\">\n",
       "      <th></th>\n",
       "      <th>event_description</th>\n",
       "      <th>actor</th>\n",
       "      <th>organization</th>\n",
       "      <th>event_subtype</th>\n",
       "      <th>event_source</th>\n",
       "      <th>country</th>\n",
       "      <th>industry_code</th>\n",
       "      <th>dnx_id</th>\n",
       "      <th>year</th>\n",
       "      <th>month</th>\n",
       "      <th>day</th>\n",
       "    </tr>\n",
       "    <tr>\n",
       "      <th>id</th>\n",
       "      <th></th>\n",
       "      <th></th>\n",
       "      <th></th>\n",
       "      <th></th>\n",
       "      <th></th>\n",
       "      <th></th>\n",
       "      <th></th>\n",
       "      <th></th>\n",
       "      <th></th>\n",
       "      <th></th>\n",
       "      <th></th>\n",
       "    </tr>\n",
       "  </thead>\n",
       "  <tbody>\n",
       "    <tr>\n",
       "      <th>f5c2ebc02807a6b3</th>\n",
       "      <td>Innovery, an Italian company delivering IT ser...</td>\n",
       "      <td>Undetermined</td>\n",
       "      <td>Innovery</td>\n",
       "      <td>Exploitation of Application Server</td>\n",
       "      <td>https://www.redhotcyber.com/post/attacco-infor...</td>\n",
       "      <td>ITA</td>\n",
       "      <td>54.0</td>\n",
       "      <td>inc_cis_13422</td>\n",
       "      <td>2023</td>\n",
       "      <td>9</td>\n",
       "      <td>30</td>\n",
       "    </tr>\n",
       "    <tr>\n",
       "      <th>0b7a20f4161d89b2</th>\n",
       "      <td>The ALPHV/BlackCat ransomware gang adds the ho...</td>\n",
       "      <td>ALPHV</td>\n",
       "      <td>Motel One</td>\n",
       "      <td>Data Attack,Undetermined</td>\n",
       "      <td>https://securityaffairs.com/151732/cyber-crime...</td>\n",
       "      <td>DEU</td>\n",
       "      <td>72.0</td>\n",
       "      <td>inc_cis_13421</td>\n",
       "      <td>2023</td>\n",
       "      <td>9</td>\n",
       "      <td>30</td>\n",
       "    </tr>\n",
       "  </tbody>\n",
       "</table>\n",
       "</div>"
      ],
      "text/plain": [
       "                                                  event_description  \\\n",
       "id                                                                    \n",
       "f5c2ebc02807a6b3  Innovery, an Italian company delivering IT ser...   \n",
       "0b7a20f4161d89b2  The ALPHV/BlackCat ransomware gang adds the ho...   \n",
       "\n",
       "                         actor organization  \\\n",
       "id                                            \n",
       "f5c2ebc02807a6b3  Undetermined     Innovery   \n",
       "0b7a20f4161d89b2         ALPHV    Motel One   \n",
       "\n",
       "                                       event_subtype  \\\n",
       "id                                                     \n",
       "f5c2ebc02807a6b3  Exploitation of Application Server   \n",
       "0b7a20f4161d89b2            Data Attack,Undetermined   \n",
       "\n",
       "                                                       event_source country  \\\n",
       "id                                                                            \n",
       "f5c2ebc02807a6b3  https://www.redhotcyber.com/post/attacco-infor...     ITA   \n",
       "0b7a20f4161d89b2  https://securityaffairs.com/151732/cyber-crime...     DEU   \n",
       "\n",
       "                  industry_code         dnx_id  year  month  day  \n",
       "id                                                                \n",
       "f5c2ebc02807a6b3           54.0  inc_cis_13422  2023      9   30  \n",
       "0b7a20f4161d89b2           72.0  inc_cis_13421  2023      9   30  "
      ]
     },
     "execution_count": 248,
     "metadata": {},
     "output_type": "execute_result"
    }
   ],
   "source": [
    "df[v_continuas].head(2)"
   ]
  },
  {
   "cell_type": "code",
   "execution_count": 249,
   "metadata": {},
   "outputs": [],
   "source": [
    "v_categoricas_cont = list(df[v_continuas].dtypes[df[v_continuas].dtypes == 'object'].index)\n",
    "v_categoricas_cont.remove('dnx_id')"
   ]
  },
  {
   "cell_type": "code",
   "execution_count": 250,
   "metadata": {},
   "outputs": [
    {
     "data": {
      "text/plain": [
       "event_description    11591\n",
       "actor                 1161\n",
       "organization         12150\n",
       "event_subtype           93\n",
       "event_source         10687\n",
       "country                163\n",
       "dtype: int64"
      ]
     },
     "execution_count": 250,
     "metadata": {},
     "output_type": "execute_result"
    }
   ],
   "source": [
    "df[v_categoricas_cont].nunique()"
   ]
  },
  {
   "cell_type": "markdown",
   "metadata": {},
   "source": [
    "##### **Event Subtype.**"
   ]
  },
  {
   "cell_type": "code",
   "execution_count": 251,
   "metadata": {},
   "outputs": [
    {
     "data": {
      "text/plain": [
       "array(['Exploitation of Application Server', 'Data Attack,Undetermined',\n",
       "       'External Denial of Service', 'Undetermined',\n",
       "       'Exploitation of Application Server,Data Attack',\n",
       "       'Exploitation of End User', 'Exploitation of Infrastructure',\n",
       "       'Message Manipulation', 'Data Attack,Exploitation of End User',\n",
       "       'Exploitation of End Host', 'External Denial of Services',\n",
       "       'Data Attack,Exploitation of End Host', 'Data Attack',\n",
       "       'Physical Attack', 'Physical Attack,Undetermined',\n",
       "       'Exploitation of Applilcation Server', 'Exploitation of Sensor',\n",
       "       'Internal Denial of Service', 'Exploitation of Sensors',\n",
       "       'Exploitation of Applicatoin Server',\n",
       "       'Exploitation of Data in Transit',\n",
       "       'Exploitation of Application Server,Message Manipulation',\n",
       "       'Exploitation of Network Infrastructure',\n",
       "       'Exploitation of Network Infrastrucutre',\n",
       "       'Exploitation of Application Server,Data Attack,Internal Denial of Service',\n",
       "       'Exploitation of Network Server',\n",
       "       'Data Attack,Internal Denial of Service',\n",
       "       'Exploitation of Application Server,External Denial of Service',\n",
       "       'Internal Denial of Services', 'Unknown',\n",
       "       'Exploitation of Application Server,Exploitation of End Host',\n",
       "       'Exploitation of End Host,Internal Denial of Services',\n",
       "       'Exploitation of Application Server,Data Attack,External Denial of Services',\n",
       "       'Data Attack,External Denial of Services',\n",
       "       'Exploittation of Application Server',\n",
       "       'Data Attack,Exploitation of Application Server',\n",
       "       'Exploitation of Application Server,External Denial of Services',\n",
       "       'Exploitation of End Hosts', 'Exploitatiion of Sensors',\n",
       "       'Exploitation of Application Server,Exploitation of Data in Transit',\n",
       "       'Message Manipulation,Data Attack', 'Data Attack,Physical Attack',\n",
       "       'Exploitation of Application Servers',\n",
       "       'Exploitation of End Hosts,Data Attack,Exploitation of Application Servers',\n",
       "       'Exploitation of End Hosts,Data Attack',\n",
       "       'Exploitation of Network Infrastructure,Data Attack',\n",
       "       'External Denial of Service,Data Attack',\n",
       "       'Exploitation of Application Server,External Denial of Service,Data Attack',\n",
       "       'Exploitation of Application Server,Exploitation of Network Infrastructure',\n",
       "       'Exploitation of Application Server,Exploitation of End Hosts',\n",
       "       'Exploitation of End Hosts,External Denial of Service',\n",
       "       'Exploitation of End Hosts,Exploitation of Application Servers',\n",
       "       'Exploitation of Application Server,Exploitation of End Hosts,Internal Denial of Service',\n",
       "       'Exploitation of Application Server,External Denial of Service,Data Attack,Internal Denial of Service',\n",
       "       'External Denial of Service,Internal Denial of Service',\n",
       "       'Exploitation of Application Server,Internal Denial of Service',\n",
       "       'Message Manipulation,Internal Denial of Service',\n",
       "       'Exploitation of Application Server,Message Manipulation,External Denial of Service,Data Attack',\n",
       "       'Message Manipulation,External Denial of Service',\n",
       "       'Exploitation of Application Server,Data Attack,Exploitation of End Host',\n",
       "       'Exploitation of End Hosts,Exploitation of Data in Transit,Internal Denial of Service',\n",
       "       'Exploitation of End Hosts,Exploitation of Sensors',\n",
       "       'Exploitation of End Hosts,Exploitation of Data in Transit',\n",
       "       'Message Manipulation,Exploitation of End Hosts',\n",
       "       'Data Attack,Physical Attack,Internal Denial of Service',\n",
       "       'Exploitation of Application Server,Message Manipulation,Exploitation of Data in Transit',\n",
       "       'External Denial of Service,Data Attack,Internal Denial of Service',\n",
       "       'Message Manipulation,External Denial of Service,Data Attack',\n",
       "       'Exploitation of Application Server,Exploitation of End Hosts,Exploitation of Data in Transit',\n",
       "       'Exploitation of Application Server,Message Manipulation,Exploitation of End Hosts,Data Attack',\n",
       "       'Exploitation of Application Server,Message Manipulation,Exploitation of End Hosts',\n",
       "       'Exploitation of Application Server,Message Manipulation,External Denial of Service',\n",
       "       'Exploitation of Application Server,Exploitation of End Hosts,Physical Attack',\n",
       "       'Exploitation of Application Server,Physical Attack',\n",
       "       'Message Manipulation,Exploitation of End Hosts,Data Attack',\n",
       "       'Exploitation of Application Server,Exploitation of Network Infrastructure,Exploitation of Sensors',\n",
       "       'Exploitation of Application Server,Exploitation of End Hosts,Exploitation of Network Infrastructure',\n",
       "       'Exploitation of Application Server,Exploitation of Sensors',\n",
       "       'Exploitation of Network Infrastructure,Exploitation of Data in Transit',\n",
       "       'Message Manipulation,Exploitation of End Hosts,Exploitation of Data in Transit',\n",
       "       'Exploitation of Application Server,Exploitation of End Hosts,External Denial of Service',\n",
       "       'External Denial of Service,Data Attack,Physical Attack',\n",
       "       'Exploitation of Application Server,Exploitation of End Hosts,Exploitation of Sensors',\n",
       "       'Message Manipulation,Exploitation of Data in Transit',\n",
       "       'Exploitation of Application Server,Exploitation of Network Infrastructure,Internal Denial of Service',\n",
       "       'Exploitation of End Hosts,Internal Denial of Service',\n",
       "       'Exploitation of Application Server,Message Manipulation,Internal Denial of Service',\n",
       "       'Message Manipulation,Exploitation of End Hosts,External Denial of Service,Exploitation of Data in Transit',\n",
       "       'Exploitation of End Hosts,Exploitation of Network Infrastructure',\n",
       "       'External Denial of Service,Physical Attack',\n",
       "       'Exploitation of Network Infrastructure,Internal Denial of Service',\n",
       "       'Message Manipulation,External Denial of Service,Internal Denial of Service, Physical Attack',\n",
       "       'Exploitation of Application Server,Message Manipulation,Data Attack'],\n",
       "      dtype=object)"
      ]
     },
     "execution_count": 251,
     "metadata": {},
     "output_type": "execute_result"
    }
   ],
   "source": [
    "df['event_subtype'].unique()"
   ]
  },
  {
   "cell_type": "markdown",
   "metadata": {},
   "source": [
    "**Corrección de escritura.**"
   ]
  },
  {
   "cell_type": "code",
   "execution_count": 252,
   "metadata": {},
   "outputs": [],
   "source": [
    "df['event_subtype'] = df['event_subtype'].str.replace('Exploittation of Application Server', 'Exploitation of Application Server')"
   ]
  },
  {
   "cell_type": "markdown",
   "metadata": {},
   "source": [
    "##### **Country.**\n",
    "Para realizar una evaluación más efectiva de los países en nuestros datos, es conveniente agruparlos por continentes. Esto es especialmente relevante porque en otros archivos CSV hay registros de ataques provenientes de diferentes países, distribuidos en distintos continentes.\n",
    "\n",
    "Para facilitar este análisis, procederemos a crear seis nuevas columnas en nuestro conjunto de datos, cada una representando un continente específico. Estas columnas indicarán con un valor de 1 si el país pertenece al continente correspondiente y 0 si no es así, es decir, mediante una asignación de valores binarios."
   ]
  },
  {
   "cell_type": "code",
   "execution_count": 253,
   "metadata": {},
   "outputs": [
    {
     "data": {
      "text/plain": [
       "array(['ITA', 'DEU', 'USA', 'RUS', 'CAN', 'GBR', 'FRA', 'JPN', 'UKR',\n",
       "       'PHL', 'HKG', 'SGP', 'BMU', 'NZL', 'CHN', '999', 'ISR', 'BRA',\n",
       "       'KWT', 'THA', 'IND', 'COL', 'LKA', 'ESP', 'AUS', 'NLD', 'TUR',\n",
       "       'TWN', 'MEX', 'MAR', 'CZE', 'KOR', 'IRN', 'POL', 'BEL', 'DNK',\n",
       "       'ZAF', 'CHE', 'SRB', 'SLV', 'LTU', 'ECU', 'ARG', 'IDN', 'VNM',\n",
       "       'PRT', 'PAK', 'NGA', 'KEN', 'NOR', 'EGY', 'MYS', 'IRL', 'SWE',\n",
       "       'FIN', 'MLT', 'BLR', 'TTO', 'MLI', 'JAM', 'EST', 'GRC', 'CHL',\n",
       "       'CYM', 'HRV', 'SYC', 'VEN', 'GTM', 'CYP', 'PAN', 'CRI', 'VCT',\n",
       "       'PRI', 'PER', 'DOM', 'BHR', 'TON', 'URY', 'SVK', 'LVA', 'CUB',\n",
       "       'MDA', 'ARE', 'AUT', 'BRB', 'ROU', 'VAT', 'MDV', 'GLP', 'BES',\n",
       "       'TGO', 'SAU', 'VUT', 'BGR', 'HUN', 'BHS', 'MMR', 'PRY', 'KAZ',\n",
       "       'GHA', 'BIH', 'ALB', 'MNE', 'BOL', 'ASM', 'KIR', 'LUX', 'BGD',\n",
       "       'GRL', 'ZMB', 'JOR', 'NRU', 'GIB', 'GUF', 'LBN', 'QAT', 'SVN',\n",
       "       'PRK', 'AND', 'AGO', 'PNG', 'AFG', 'GEO', 'FJI', 'OMN', 'MNG',\n",
       "       'NPL', 'CPV', 'UGA', 'MKD', 'DZA', 'ARM', 'RWA', 'IRQ', 'SLE',\n",
       "       'KHM', 'ETH', 'IMN', 'UZB', 'TKM', 'LIE', 'YEM', 'ZWE', 'GAB',\n",
       "       'ATA', 'SYR', 'MCO', 'LBY', 'MWI', 'AZE', 'TUN', 'TZA', 'SEN',\n",
       "       'ISL', 'LAO', 'NAM', 'GUM', 'PLW', 'TJK', 'PSE', 'LSO', 'NIC',\n",
       "       'SDN'], dtype=object)"
      ]
     },
     "execution_count": 253,
     "metadata": {},
     "output_type": "execute_result"
    }
   ],
   "source": [
    "df['country'].unique()"
   ]
  },
  {
   "cell_type": "code",
   "execution_count": 254,
   "metadata": {},
   "outputs": [],
   "source": [
    "continent_mapping = {\n",
    "    'Europe': ['ITA', 'DEU', 'GBR', 'FRA', 'UKR', 'ESP', 'NLD', 'POL', 'BEL', 'DNK',\n",
    "               'CHE', 'SRB', 'LTU', 'MLT', 'GRC', 'CZE', 'HRV', 'HUN', 'AUT', 'SVK',\n",
    "               'BLR', 'BGR', 'GIB', 'MDA', 'PRT', 'SVN', 'AND', 'LVA', 'CUB', 'KIR', \n",
    "               'RUS', 'NOR', 'SWE', 'FIN', 'EST', 'IRL', 'CYP', 'TUR', 'ROU', 'VAT',\n",
    "                'MDV', 'BIH', 'ALB', 'MNE', 'LUX', 'ARM', 'IMN', 'LIE', 'MCO', 'AZE',\n",
    "                'ISL', 'MKD'],\n",
    "    'North America': ['USA', 'CAN', 'BMU', 'MEX', 'NIC', 'CRI', 'SLV', 'GTM', \n",
    "                      'PRI', 'TTO', 'JAM', 'BHS', 'BLZ', 'CYM', 'BRB', 'GLP',\n",
    "                      'GRL'],\n",
    "    'South America': ['BRA', 'ARG', 'COL', 'PER', 'VEN', 'CHL', 'URY', 'PAR', \n",
    "                      'BOL', 'ECU', 'PAN', 'VCT', 'DOM', 'BES', 'PRY', 'GUF',],\n",
    "    'Asia': ['JPN', 'CHN', 'KWT', 'THA', 'IND', 'PHL', 'HKG', 'SGP', 'IDN', \n",
    "             'VNM', 'IRN', 'KOR', 'PAK', 'ISR', 'TWN', 'BGD', 'AFG', 'KHM', \n",
    "             'LAO', 'OMN', 'QAT', 'JOR', 'IRQ', 'MNG', 'UZB', 'TKM', 'YEM', \n",
    "             'MDA', 'GEO', 'FJI', 'LKA', 'TJK', 'MYS', 'BHR', 'ARE', 'SAU',\n",
    "              'MMR', 'KAZ', 'LBN', 'PRK', 'NPL', 'SYR', 'LBY', 'PSE'],\n",
    "    'Africa': ['ZAF', 'EGY', 'KEN', 'NGA', 'GHA', 'ETH', 'ZMB', 'UGA', \n",
    "               'DZA', 'TGO', 'MAR', 'SDN', 'SLE', 'RWA', 'AGO', 'MLI', \n",
    "               'TUN', 'ZWE', 'NAM', 'LSO', 'MZW', 'SYC', 'CPV', 'GAB',\n",
    "               'MWI', 'TZA', 'SEN'],\n",
    "    'Australia': ['NZL', 'AUS', 'TON', 'PNG', 'NRU', 'FJI', 'PLW', 'KIR', 'VUT', 'ASM', 'GUM']\n",
    "}"
   ]
  },
  {
   "cell_type": "code",
   "execution_count": 255,
   "metadata": {},
   "outputs": [],
   "source": [
    "def assign_continent(country):\n",
    "    for continent, countries in continent_mapping.items():\n",
    "        if country in countries:\n",
    "            return continent\n",
    "    return None  # Si el país no está en la lista, retornar None"
   ]
  },
  {
   "cell_type": "code",
   "execution_count": 256,
   "metadata": {},
   "outputs": [
    {
     "data": {
      "text/plain": [
       "163"
      ]
     },
     "execution_count": 256,
     "metadata": {},
     "output_type": "execute_result"
    }
   ],
   "source": [
    "df['country'].nunique()"
   ]
  },
  {
   "cell_type": "code",
   "execution_count": 257,
   "metadata": {},
   "outputs": [
    {
     "data": {
      "text/plain": [
       "(13363, 19)"
      ]
     },
     "execution_count": 257,
     "metadata": {},
     "output_type": "execute_result"
    }
   ],
   "source": [
    "df.shape"
   ]
  },
  {
   "cell_type": "code",
   "execution_count": 258,
   "metadata": {},
   "outputs": [],
   "source": [
    "df['continent'] = df['country'].map(assign_continent)"
   ]
  },
  {
   "cell_type": "code",
   "execution_count": 259,
   "metadata": {},
   "outputs": [
    {
     "data": {
      "text/plain": [
       "array(['Europe', 'North America', 'Asia', 'Australia', None,\n",
       "       'South America', 'Africa'], dtype=object)"
      ]
     },
     "execution_count": 259,
     "metadata": {},
     "output_type": "execute_result"
    }
   ],
   "source": [
    "df['continent'].unique()"
   ]
  },
  {
   "cell_type": "code",
   "execution_count": 260,
   "metadata": {},
   "outputs": [
    {
     "name": "stdout",
     "output_type": "stream",
     "text": [
      "Lista de países con 'continent' como None:\n",
      "['999' 'ATA']\n"
     ]
    }
   ],
   "source": [
    "countries_with_no_continent = df[df['continent'].isnull()]['country'].unique()\n",
    "\n",
    "# Mostrar la lista de países con 'continent' como None\n",
    "print(\"Lista de países con 'continent' como None:\")\n",
    "print(countries_with_no_continent)"
   ]
  },
  {
   "cell_type": "code",
   "execution_count": 261,
   "metadata": {},
   "outputs": [],
   "source": [
    "df.dropna(subset=['continent'], inplace=True)"
   ]
  },
  {
   "cell_type": "code",
   "execution_count": 262,
   "metadata": {},
   "outputs": [
    {
     "name": "stdout",
     "output_type": "stream",
     "text": [
      "                                                  event_description  \\\n",
      "id                                                                    \n",
      "f5c2ebc02807a6b3  Innovery, an Italian company delivering IT ser...   \n",
      "0b7a20f4161d89b2  The ALPHV/BlackCat ransomware gang adds the ho...   \n",
      "2e37d07ef6ef3cb6  The pro-Russian collective NoName057(16) takes...   \n",
      "f8029e6b6169de1f  API Financial Solutions files a notice of data...   \n",
      "1ed93f0579b9056c  McLaren HealthCare, confirms to be dealing wit...   \n",
      "...                                                             ...   \n",
      "285fa5842609a5bf  Cardiovascular Consultants (CVC Heart) is hit ...   \n",
      "c823006f6c70313c  Erlanger Health is also affected by the MOVEit...   \n",
      "c886a43fe79a0a7b  The European Telecommunications Standards Inst...   \n",
      "bb17aacdf2e20d25  Lost Trust Team adds GI Medical Services in Ne...   \n",
      "bac11292d79231f0  UK charities including Shelter, the RSPCA, the...   \n",
      "\n",
      "                               actor  actor_type  event_type  \\\n",
      "id                                                             \n",
      "f5c2ebc02807a6b3        Undetermined         1.0  Exploitive   \n",
      "0b7a20f4161d89b2               ALPHV         1.0       Mixed   \n",
      "2e37d07ef6ef3cb6       NoName057(16)         2.0  Disruptive   \n",
      "f8029e6b6169de1f        Undetermined         1.0  Exploitive   \n",
      "1ed93f0579b9056c               ALPHV         1.0       Mixed   \n",
      "...                              ...         ...         ...   \n",
      "285fa5842609a5bf  Indian Cyber Force         2.0  Disruptive   \n",
      "c823006f6c70313c               Qilin         1.0       Mixed   \n",
      "c886a43fe79a0a7b                cl0p         1.0  Exploitive   \n",
      "bb17aacdf2e20d25        Undetermined         1.0  Exploitive   \n",
      "bac11292d79231f0          Lost Trust         1.0  Exploitive   \n",
      "\n",
      "                                                       organization  \\\n",
      "id                                                                    \n",
      "f5c2ebc02807a6b3                                           Innovery   \n",
      "0b7a20f4161d89b2                                          Motel One   \n",
      "2e37d07ef6ef3cb6                    Multiple organizations in Italy   \n",
      "f8029e6b6169de1f                            API Financial Solutions   \n",
      "1ed93f0579b9056c                                 McLaren HealthCare   \n",
      "...                                                             ...   \n",
      "285fa5842609a5bf                              Canadian Armed Forces   \n",
      "c823006f6c70313c                         Cardiovascular Consultants   \n",
      "c886a43fe79a0a7b                                    Erlanger Health   \n",
      "bb17aacdf2e20d25  European Telecommunications Standards Institut...   \n",
      "bac11292d79231f0                                GI Medical Services   \n",
      "\n",
      "                                       event_subtype        motive  \\\n",
      "id                                                                   \n",
      "f5c2ebc02807a6b3  Exploitation of Application Server     Financial   \n",
      "0b7a20f4161d89b2            Data Attack,Undetermined     Financial   \n",
      "2e37d07ef6ef3cb6          External Denial of Service       Protest   \n",
      "f8029e6b6169de1f                        Undetermined     Financial   \n",
      "1ed93f0579b9056c            Data Attack,Undetermined     Financial   \n",
      "...                                              ...           ...   \n",
      "285fa5842609a5bf          External Denial of Service       Protest   \n",
      "c823006f6c70313c  Exploitation of Application Server     Financial   \n",
      "c886a43fe79a0a7b  Exploitation of Application Server     Financial   \n",
      "bb17aacdf2e20d25  Exploitation of Application Server  Undetermined   \n",
      "bac11292d79231f0                        Undetermined     Financial   \n",
      "\n",
      "                  motive_code  \\\n",
      "id                              \n",
      "f5c2ebc02807a6b3          1.0   \n",
      "0b7a20f4161d89b2          1.0   \n",
      "2e37d07ef6ef3cb6          3.0   \n",
      "f8029e6b6169de1f          1.0   \n",
      "1ed93f0579b9056c          1.0   \n",
      "...                       ...   \n",
      "285fa5842609a5bf          3.0   \n",
      "c823006f6c70313c          1.0   \n",
      "c886a43fe79a0a7b          1.0   \n",
      "bb17aacdf2e20d25          5.0   \n",
      "bac11292d79231f0          1.0   \n",
      "\n",
      "                                                       event_source country  \\\n",
      "id                                                                            \n",
      "f5c2ebc02807a6b3  https://www.redhotcyber.com/post/attacco-infor...     ITA   \n",
      "0b7a20f4161d89b2  https://securityaffairs.com/151732/cyber-crime...     DEU   \n",
      "2e37d07ef6ef3cb6  https://www.redhotcyber.com/post/si-ricomincia...     ITA   \n",
      "f8029e6b6169de1f  https://www.jdsupra.com/legalnews/api-financia...     USA   \n",
      "1ed93f0579b9056c  https://therecord.media/mclaren-healthcare-ran...     USA   \n",
      "...                                                             ...     ...   \n",
      "285fa5842609a5bf  https://thewire.in/world/pro-india-hacker-grou...     CAN   \n",
      "c823006f6c70313c  https://www.databreaches.net/cardiovascular-co...     USA   \n",
      "c886a43fe79a0a7b  https://www.hipaajournal.com/oak-valley-hospit...     USA   \n",
      "bb17aacdf2e20d25  https://therecord.media/etsi-telecommunication...     FRA   \n",
      "bac11292d79231f0  https://www.databreaches.net/and-yet-more-vict...     USA   \n",
      "\n",
      "                  ... Disruptive  Exploitive Undetermined      continent  \\\n",
      "id                ...                                                      \n",
      "f5c2ebc02807a6b3  ...          0           1            0         Europe   \n",
      "0b7a20f4161d89b2  ...          1           1            0         Europe   \n",
      "2e37d07ef6ef3cb6  ...          1           0            0         Europe   \n",
      "f8029e6b6169de1f  ...          0           1            0  North America   \n",
      "1ed93f0579b9056c  ...          1           1            0  North America   \n",
      "...               ...        ...         ...          ...            ...   \n",
      "285fa5842609a5bf  ...          1           0            0  North America   \n",
      "c823006f6c70313c  ...          1           1            0  North America   \n",
      "c886a43fe79a0a7b  ...          0           1            0  North America   \n",
      "bb17aacdf2e20d25  ...          0           1            0         Europe   \n",
      "bac11292d79231f0  ...          0           1            0  North America   \n",
      "\n",
      "                  Africa  Asia  Australia  Europe  North America South America  \n",
      "id                                                                              \n",
      "f5c2ebc02807a6b3       0     0          0       1              0             0  \n",
      "0b7a20f4161d89b2       0     0          0       1              0             0  \n",
      "2e37d07ef6ef3cb6       0     0          0       1              0             0  \n",
      "f8029e6b6169de1f       0     0          0       0              1             0  \n",
      "1ed93f0579b9056c       0     0          0       0              1             0  \n",
      "...                  ...   ...        ...     ...            ...           ...  \n",
      "285fa5842609a5bf       0     0          0       0              1             0  \n",
      "c823006f6c70313c       0     0          0       0              1             0  \n",
      "c886a43fe79a0a7b       0     0          0       0              1             0  \n",
      "bb17aacdf2e20d25       0     0          0       1              0             0  \n",
      "bac11292d79231f0       0     0          0       0              1             0  \n",
      "\n",
      "[13019 rows x 26 columns]\n"
     ]
    }
   ],
   "source": [
    "df['continent'] = df['country'].apply(assign_continent)\n",
    "df_continentes = pd.get_dummies(df['continent'])\n",
    "\n",
    "df = pd.concat([df, df_continentes], axis=1)\n",
    "\n",
    "print(df)"
   ]
  },
  {
   "cell_type": "code",
   "execution_count": 263,
   "metadata": {},
   "outputs": [],
   "source": [
    "df.drop(['country', 'continent'], axis = 1, inplace = True)"
   ]
  },
  {
   "cell_type": "code",
   "execution_count": 264,
   "metadata": {},
   "outputs": [
    {
     "data": {
      "text/html": [
       "<div>\n",
       "<style scoped>\n",
       "    .dataframe tbody tr th:only-of-type {\n",
       "        vertical-align: middle;\n",
       "    }\n",
       "\n",
       "    .dataframe tbody tr th {\n",
       "        vertical-align: top;\n",
       "    }\n",
       "\n",
       "    .dataframe thead th {\n",
       "        text-align: right;\n",
       "    }\n",
       "</style>\n",
       "<table border=\"1\" class=\"dataframe\">\n",
       "  <thead>\n",
       "    <tr style=\"text-align: right;\">\n",
       "      <th></th>\n",
       "      <th>event_description</th>\n",
       "      <th>actor</th>\n",
       "      <th>actor_type</th>\n",
       "      <th>event_type</th>\n",
       "      <th>organization</th>\n",
       "      <th>event_subtype</th>\n",
       "      <th>motive</th>\n",
       "      <th>motive_code</th>\n",
       "      <th>event_source</th>\n",
       "      <th>industry</th>\n",
       "      <th>...</th>\n",
       "      <th>day</th>\n",
       "      <th>Disruptive</th>\n",
       "      <th>Exploitive</th>\n",
       "      <th>Undetermined</th>\n",
       "      <th>Africa</th>\n",
       "      <th>Asia</th>\n",
       "      <th>Australia</th>\n",
       "      <th>Europe</th>\n",
       "      <th>North America</th>\n",
       "      <th>South America</th>\n",
       "    </tr>\n",
       "    <tr>\n",
       "      <th>id</th>\n",
       "      <th></th>\n",
       "      <th></th>\n",
       "      <th></th>\n",
       "      <th></th>\n",
       "      <th></th>\n",
       "      <th></th>\n",
       "      <th></th>\n",
       "      <th></th>\n",
       "      <th></th>\n",
       "      <th></th>\n",
       "      <th></th>\n",
       "      <th></th>\n",
       "      <th></th>\n",
       "      <th></th>\n",
       "      <th></th>\n",
       "      <th></th>\n",
       "      <th></th>\n",
       "      <th></th>\n",
       "      <th></th>\n",
       "      <th></th>\n",
       "      <th></th>\n",
       "    </tr>\n",
       "  </thead>\n",
       "  <tbody>\n",
       "    <tr>\n",
       "      <th>f5c2ebc02807a6b3</th>\n",
       "      <td>Innovery, an Italian company delivering IT ser...</td>\n",
       "      <td>Undetermined</td>\n",
       "      <td>1.0</td>\n",
       "      <td>Exploitive</td>\n",
       "      <td>Innovery</td>\n",
       "      <td>Exploitation of Application Server</td>\n",
       "      <td>Financial</td>\n",
       "      <td>1.0</td>\n",
       "      <td>https://www.redhotcyber.com/post/attacco-infor...</td>\n",
       "      <td>Professional, Scientific, and Technical Services</td>\n",
       "      <td>...</td>\n",
       "      <td>30</td>\n",
       "      <td>0</td>\n",
       "      <td>1</td>\n",
       "      <td>0</td>\n",
       "      <td>0</td>\n",
       "      <td>0</td>\n",
       "      <td>0</td>\n",
       "      <td>1</td>\n",
       "      <td>0</td>\n",
       "      <td>0</td>\n",
       "    </tr>\n",
       "    <tr>\n",
       "      <th>0b7a20f4161d89b2</th>\n",
       "      <td>The ALPHV/BlackCat ransomware gang adds the ho...</td>\n",
       "      <td>ALPHV</td>\n",
       "      <td>1.0</td>\n",
       "      <td>Mixed</td>\n",
       "      <td>Motel One</td>\n",
       "      <td>Data Attack,Undetermined</td>\n",
       "      <td>Financial</td>\n",
       "      <td>1.0</td>\n",
       "      <td>https://securityaffairs.com/151732/cyber-crime...</td>\n",
       "      <td>Accommodation and Food Services</td>\n",
       "      <td>...</td>\n",
       "      <td>30</td>\n",
       "      <td>1</td>\n",
       "      <td>1</td>\n",
       "      <td>0</td>\n",
       "      <td>0</td>\n",
       "      <td>0</td>\n",
       "      <td>0</td>\n",
       "      <td>1</td>\n",
       "      <td>0</td>\n",
       "      <td>0</td>\n",
       "    </tr>\n",
       "  </tbody>\n",
       "</table>\n",
       "<p>2 rows × 24 columns</p>\n",
       "</div>"
      ],
      "text/plain": [
       "                                                  event_description  \\\n",
       "id                                                                    \n",
       "f5c2ebc02807a6b3  Innovery, an Italian company delivering IT ser...   \n",
       "0b7a20f4161d89b2  The ALPHV/BlackCat ransomware gang adds the ho...   \n",
       "\n",
       "                         actor  actor_type  event_type organization  \\\n",
       "id                                                                    \n",
       "f5c2ebc02807a6b3  Undetermined         1.0  Exploitive     Innovery   \n",
       "0b7a20f4161d89b2         ALPHV         1.0       Mixed    Motel One   \n",
       "\n",
       "                                       event_subtype     motive  motive_code  \\\n",
       "id                                                                             \n",
       "f5c2ebc02807a6b3  Exploitation of Application Server  Financial          1.0   \n",
       "0b7a20f4161d89b2            Data Attack,Undetermined  Financial          1.0   \n",
       "\n",
       "                                                       event_source  \\\n",
       "id                                                                    \n",
       "f5c2ebc02807a6b3  https://www.redhotcyber.com/post/attacco-infor...   \n",
       "0b7a20f4161d89b2  https://securityaffairs.com/151732/cyber-crime...   \n",
       "\n",
       "                                                          industry  ...  day  \\\n",
       "id                                                                  ...        \n",
       "f5c2ebc02807a6b3  Professional, Scientific, and Technical Services  ...   30   \n",
       "0b7a20f4161d89b2                   Accommodation and Food Services  ...   30   \n",
       "\n",
       "                 Disruptive  Exploitive  Undetermined  Africa  Asia  \\\n",
       "id                                                                    \n",
       "f5c2ebc02807a6b3          0           1             0       0     0   \n",
       "0b7a20f4161d89b2          1           1             0       0     0   \n",
       "\n",
       "                  Australia  Europe  North America  South America  \n",
       "id                                                                 \n",
       "f5c2ebc02807a6b3          0       1              0              0  \n",
       "0b7a20f4161d89b2          0       1              0              0  \n",
       "\n",
       "[2 rows x 24 columns]"
      ]
     },
     "execution_count": 264,
     "metadata": {},
     "output_type": "execute_result"
    }
   ],
   "source": [
    "df.head(2)"
   ]
  },
  {
   "cell_type": "markdown",
   "metadata": {},
   "source": [
    "##### **Event Source.**\n",
    "Esta columna servirá posteriormente para definir las relaciones entre CSVs. Deberemos de extraer el nombre del dominio de la URL. "
   ]
  },
  {
   "cell_type": "code",
   "execution_count": 265,
   "metadata": {},
   "outputs": [],
   "source": [
    "df['event_source'] = df['event_source'].fillna(\"\").apply(lambda x: urlparse(str(x)).netloc)\n"
   ]
  },
  {
   "cell_type": "code",
   "execution_count": 266,
   "metadata": {},
   "outputs": [
    {
     "data": {
      "text/html": [
       "<div>\n",
       "<style scoped>\n",
       "    .dataframe tbody tr th:only-of-type {\n",
       "        vertical-align: middle;\n",
       "    }\n",
       "\n",
       "    .dataframe tbody tr th {\n",
       "        vertical-align: top;\n",
       "    }\n",
       "\n",
       "    .dataframe thead th {\n",
       "        text-align: right;\n",
       "    }\n",
       "</style>\n",
       "<table border=\"1\" class=\"dataframe\">\n",
       "  <thead>\n",
       "    <tr style=\"text-align: right;\">\n",
       "      <th></th>\n",
       "      <th>event_description</th>\n",
       "      <th>actor</th>\n",
       "      <th>actor_type</th>\n",
       "      <th>event_type</th>\n",
       "      <th>organization</th>\n",
       "      <th>event_subtype</th>\n",
       "      <th>motive</th>\n",
       "      <th>motive_code</th>\n",
       "      <th>event_source</th>\n",
       "      <th>industry</th>\n",
       "      <th>...</th>\n",
       "      <th>day</th>\n",
       "      <th>Disruptive</th>\n",
       "      <th>Exploitive</th>\n",
       "      <th>Undetermined</th>\n",
       "      <th>Africa</th>\n",
       "      <th>Asia</th>\n",
       "      <th>Australia</th>\n",
       "      <th>Europe</th>\n",
       "      <th>North America</th>\n",
       "      <th>South America</th>\n",
       "    </tr>\n",
       "    <tr>\n",
       "      <th>id</th>\n",
       "      <th></th>\n",
       "      <th></th>\n",
       "      <th></th>\n",
       "      <th></th>\n",
       "      <th></th>\n",
       "      <th></th>\n",
       "      <th></th>\n",
       "      <th></th>\n",
       "      <th></th>\n",
       "      <th></th>\n",
       "      <th></th>\n",
       "      <th></th>\n",
       "      <th></th>\n",
       "      <th></th>\n",
       "      <th></th>\n",
       "      <th></th>\n",
       "      <th></th>\n",
       "      <th></th>\n",
       "      <th></th>\n",
       "      <th></th>\n",
       "      <th></th>\n",
       "    </tr>\n",
       "  </thead>\n",
       "  <tbody>\n",
       "    <tr>\n",
       "      <th>f5c2ebc02807a6b3</th>\n",
       "      <td>Innovery, an Italian company delivering IT ser...</td>\n",
       "      <td>Undetermined</td>\n",
       "      <td>1.0</td>\n",
       "      <td>Exploitive</td>\n",
       "      <td>Innovery</td>\n",
       "      <td>Exploitation of Application Server</td>\n",
       "      <td>Financial</td>\n",
       "      <td>1.0</td>\n",
       "      <td>www.redhotcyber.com</td>\n",
       "      <td>Professional, Scientific, and Technical Services</td>\n",
       "      <td>...</td>\n",
       "      <td>30</td>\n",
       "      <td>0</td>\n",
       "      <td>1</td>\n",
       "      <td>0</td>\n",
       "      <td>0</td>\n",
       "      <td>0</td>\n",
       "      <td>0</td>\n",
       "      <td>1</td>\n",
       "      <td>0</td>\n",
       "      <td>0</td>\n",
       "    </tr>\n",
       "    <tr>\n",
       "      <th>0b7a20f4161d89b2</th>\n",
       "      <td>The ALPHV/BlackCat ransomware gang adds the ho...</td>\n",
       "      <td>ALPHV</td>\n",
       "      <td>1.0</td>\n",
       "      <td>Mixed</td>\n",
       "      <td>Motel One</td>\n",
       "      <td>Data Attack,Undetermined</td>\n",
       "      <td>Financial</td>\n",
       "      <td>1.0</td>\n",
       "      <td>securityaffairs.com</td>\n",
       "      <td>Accommodation and Food Services</td>\n",
       "      <td>...</td>\n",
       "      <td>30</td>\n",
       "      <td>1</td>\n",
       "      <td>1</td>\n",
       "      <td>0</td>\n",
       "      <td>0</td>\n",
       "      <td>0</td>\n",
       "      <td>0</td>\n",
       "      <td>1</td>\n",
       "      <td>0</td>\n",
       "      <td>0</td>\n",
       "    </tr>\n",
       "    <tr>\n",
       "      <th>2e37d07ef6ef3cb6</th>\n",
       "      <td>The pro-Russian collective NoName057(16) takes...</td>\n",
       "      <td>NoName057(16)</td>\n",
       "      <td>2.0</td>\n",
       "      <td>Disruptive</td>\n",
       "      <td>Multiple organizations in Italy</td>\n",
       "      <td>External Denial of Service</td>\n",
       "      <td>Protest</td>\n",
       "      <td>3.0</td>\n",
       "      <td>www.redhotcyber.com</td>\n",
       "      <td>Public Administration</td>\n",
       "      <td>...</td>\n",
       "      <td>29</td>\n",
       "      <td>1</td>\n",
       "      <td>0</td>\n",
       "      <td>0</td>\n",
       "      <td>0</td>\n",
       "      <td>0</td>\n",
       "      <td>0</td>\n",
       "      <td>1</td>\n",
       "      <td>0</td>\n",
       "      <td>0</td>\n",
       "    </tr>\n",
       "    <tr>\n",
       "      <th>f8029e6b6169de1f</th>\n",
       "      <td>API Financial Solutions files a notice of data...</td>\n",
       "      <td>Undetermined</td>\n",
       "      <td>1.0</td>\n",
       "      <td>Exploitive</td>\n",
       "      <td>API Financial Solutions</td>\n",
       "      <td>Undetermined</td>\n",
       "      <td>Financial</td>\n",
       "      <td>1.0</td>\n",
       "      <td>www.jdsupra.com</td>\n",
       "      <td>Finance and Insurance</td>\n",
       "      <td>...</td>\n",
       "      <td>29</td>\n",
       "      <td>0</td>\n",
       "      <td>1</td>\n",
       "      <td>0</td>\n",
       "      <td>0</td>\n",
       "      <td>0</td>\n",
       "      <td>0</td>\n",
       "      <td>0</td>\n",
       "      <td>1</td>\n",
       "      <td>0</td>\n",
       "    </tr>\n",
       "    <tr>\n",
       "      <th>1ed93f0579b9056c</th>\n",
       "      <td>McLaren HealthCare, confirms to be dealing wit...</td>\n",
       "      <td>ALPHV</td>\n",
       "      <td>1.0</td>\n",
       "      <td>Mixed</td>\n",
       "      <td>McLaren HealthCare</td>\n",
       "      <td>Data Attack,Undetermined</td>\n",
       "      <td>Financial</td>\n",
       "      <td>1.0</td>\n",
       "      <td>therecord.media</td>\n",
       "      <td>Health Care and Social Assistance</td>\n",
       "      <td>...</td>\n",
       "      <td>29</td>\n",
       "      <td>1</td>\n",
       "      <td>1</td>\n",
       "      <td>0</td>\n",
       "      <td>0</td>\n",
       "      <td>0</td>\n",
       "      <td>0</td>\n",
       "      <td>0</td>\n",
       "      <td>1</td>\n",
       "      <td>0</td>\n",
       "    </tr>\n",
       "    <tr>\n",
       "      <th>...</th>\n",
       "      <td>...</td>\n",
       "      <td>...</td>\n",
       "      <td>...</td>\n",
       "      <td>...</td>\n",
       "      <td>...</td>\n",
       "      <td>...</td>\n",
       "      <td>...</td>\n",
       "      <td>...</td>\n",
       "      <td>...</td>\n",
       "      <td>...</td>\n",
       "      <td>...</td>\n",
       "      <td>...</td>\n",
       "      <td>...</td>\n",
       "      <td>...</td>\n",
       "      <td>...</td>\n",
       "      <td>...</td>\n",
       "      <td>...</td>\n",
       "      <td>...</td>\n",
       "      <td>...</td>\n",
       "      <td>...</td>\n",
       "      <td>...</td>\n",
       "    </tr>\n",
       "    <tr>\n",
       "      <th>285fa5842609a5bf</th>\n",
       "      <td>Cardiovascular Consultants (CVC Heart) is hit ...</td>\n",
       "      <td>Indian Cyber Force</td>\n",
       "      <td>2.0</td>\n",
       "      <td>Disruptive</td>\n",
       "      <td>Canadian Armed Forces</td>\n",
       "      <td>External Denial of Service</td>\n",
       "      <td>Protest</td>\n",
       "      <td>3.0</td>\n",
       "      <td>thewire.in</td>\n",
       "      <td>Public Administration</td>\n",
       "      <td>...</td>\n",
       "      <td>27</td>\n",
       "      <td>1</td>\n",
       "      <td>0</td>\n",
       "      <td>0</td>\n",
       "      <td>0</td>\n",
       "      <td>0</td>\n",
       "      <td>0</td>\n",
       "      <td>0</td>\n",
       "      <td>1</td>\n",
       "      <td>0</td>\n",
       "    </tr>\n",
       "    <tr>\n",
       "      <th>c823006f6c70313c</th>\n",
       "      <td>Erlanger Health is also affected by the MOVEit...</td>\n",
       "      <td>Qilin</td>\n",
       "      <td>1.0</td>\n",
       "      <td>Mixed</td>\n",
       "      <td>Cardiovascular Consultants</td>\n",
       "      <td>Exploitation of Application Server</td>\n",
       "      <td>Financial</td>\n",
       "      <td>1.0</td>\n",
       "      <td>www.databreaches.net</td>\n",
       "      <td>Health Care and Social Assistance</td>\n",
       "      <td>...</td>\n",
       "      <td>27</td>\n",
       "      <td>1</td>\n",
       "      <td>1</td>\n",
       "      <td>0</td>\n",
       "      <td>0</td>\n",
       "      <td>0</td>\n",
       "      <td>0</td>\n",
       "      <td>0</td>\n",
       "      <td>1</td>\n",
       "      <td>0</td>\n",
       "    </tr>\n",
       "    <tr>\n",
       "      <th>c886a43fe79a0a7b</th>\n",
       "      <td>The European Telecommunications Standards Inst...</td>\n",
       "      <td>cl0p</td>\n",
       "      <td>1.0</td>\n",
       "      <td>Exploitive</td>\n",
       "      <td>Erlanger Health</td>\n",
       "      <td>Exploitation of Application Server</td>\n",
       "      <td>Financial</td>\n",
       "      <td>1.0</td>\n",
       "      <td>www.hipaajournal.com</td>\n",
       "      <td>Health Care and Social Assistance</td>\n",
       "      <td>...</td>\n",
       "      <td>27</td>\n",
       "      <td>0</td>\n",
       "      <td>1</td>\n",
       "      <td>0</td>\n",
       "      <td>0</td>\n",
       "      <td>0</td>\n",
       "      <td>0</td>\n",
       "      <td>0</td>\n",
       "      <td>1</td>\n",
       "      <td>0</td>\n",
       "    </tr>\n",
       "    <tr>\n",
       "      <th>bb17aacdf2e20d25</th>\n",
       "      <td>Lost Trust Team adds GI Medical Services in Ne...</td>\n",
       "      <td>Undetermined</td>\n",
       "      <td>1.0</td>\n",
       "      <td>Exploitive</td>\n",
       "      <td>European Telecommunications Standards Institut...</td>\n",
       "      <td>Exploitation of Application Server</td>\n",
       "      <td>Undetermined</td>\n",
       "      <td>5.0</td>\n",
       "      <td>therecord.media</td>\n",
       "      <td>Information</td>\n",
       "      <td>...</td>\n",
       "      <td>27</td>\n",
       "      <td>0</td>\n",
       "      <td>1</td>\n",
       "      <td>0</td>\n",
       "      <td>0</td>\n",
       "      <td>0</td>\n",
       "      <td>0</td>\n",
       "      <td>1</td>\n",
       "      <td>0</td>\n",
       "      <td>0</td>\n",
       "    </tr>\n",
       "    <tr>\n",
       "      <th>bac11292d79231f0</th>\n",
       "      <td>UK charities including Shelter, the RSPCA, the...</td>\n",
       "      <td>Lost Trust</td>\n",
       "      <td>1.0</td>\n",
       "      <td>Exploitive</td>\n",
       "      <td>GI Medical Services</td>\n",
       "      <td>Undetermined</td>\n",
       "      <td>Financial</td>\n",
       "      <td>1.0</td>\n",
       "      <td>www.databreaches.net</td>\n",
       "      <td>Health Care and Social Assistance</td>\n",
       "      <td>...</td>\n",
       "      <td>27</td>\n",
       "      <td>0</td>\n",
       "      <td>1</td>\n",
       "      <td>0</td>\n",
       "      <td>0</td>\n",
       "      <td>0</td>\n",
       "      <td>0</td>\n",
       "      <td>0</td>\n",
       "      <td>1</td>\n",
       "      <td>0</td>\n",
       "    </tr>\n",
       "  </tbody>\n",
       "</table>\n",
       "<p>13019 rows × 24 columns</p>\n",
       "</div>"
      ],
      "text/plain": [
       "                                                  event_description  \\\n",
       "id                                                                    \n",
       "f5c2ebc02807a6b3  Innovery, an Italian company delivering IT ser...   \n",
       "0b7a20f4161d89b2  The ALPHV/BlackCat ransomware gang adds the ho...   \n",
       "2e37d07ef6ef3cb6  The pro-Russian collective NoName057(16) takes...   \n",
       "f8029e6b6169de1f  API Financial Solutions files a notice of data...   \n",
       "1ed93f0579b9056c  McLaren HealthCare, confirms to be dealing wit...   \n",
       "...                                                             ...   \n",
       "285fa5842609a5bf  Cardiovascular Consultants (CVC Heart) is hit ...   \n",
       "c823006f6c70313c  Erlanger Health is also affected by the MOVEit...   \n",
       "c886a43fe79a0a7b  The European Telecommunications Standards Inst...   \n",
       "bb17aacdf2e20d25  Lost Trust Team adds GI Medical Services in Ne...   \n",
       "bac11292d79231f0  UK charities including Shelter, the RSPCA, the...   \n",
       "\n",
       "                               actor  actor_type  event_type  \\\n",
       "id                                                             \n",
       "f5c2ebc02807a6b3        Undetermined         1.0  Exploitive   \n",
       "0b7a20f4161d89b2               ALPHV         1.0       Mixed   \n",
       "2e37d07ef6ef3cb6       NoName057(16)         2.0  Disruptive   \n",
       "f8029e6b6169de1f        Undetermined         1.0  Exploitive   \n",
       "1ed93f0579b9056c               ALPHV         1.0       Mixed   \n",
       "...                              ...         ...         ...   \n",
       "285fa5842609a5bf  Indian Cyber Force         2.0  Disruptive   \n",
       "c823006f6c70313c               Qilin         1.0       Mixed   \n",
       "c886a43fe79a0a7b                cl0p         1.0  Exploitive   \n",
       "bb17aacdf2e20d25        Undetermined         1.0  Exploitive   \n",
       "bac11292d79231f0          Lost Trust         1.0  Exploitive   \n",
       "\n",
       "                                                       organization  \\\n",
       "id                                                                    \n",
       "f5c2ebc02807a6b3                                           Innovery   \n",
       "0b7a20f4161d89b2                                          Motel One   \n",
       "2e37d07ef6ef3cb6                    Multiple organizations in Italy   \n",
       "f8029e6b6169de1f                            API Financial Solutions   \n",
       "1ed93f0579b9056c                                 McLaren HealthCare   \n",
       "...                                                             ...   \n",
       "285fa5842609a5bf                              Canadian Armed Forces   \n",
       "c823006f6c70313c                         Cardiovascular Consultants   \n",
       "c886a43fe79a0a7b                                    Erlanger Health   \n",
       "bb17aacdf2e20d25  European Telecommunications Standards Institut...   \n",
       "bac11292d79231f0                                GI Medical Services   \n",
       "\n",
       "                                       event_subtype        motive  \\\n",
       "id                                                                   \n",
       "f5c2ebc02807a6b3  Exploitation of Application Server     Financial   \n",
       "0b7a20f4161d89b2            Data Attack,Undetermined     Financial   \n",
       "2e37d07ef6ef3cb6          External Denial of Service       Protest   \n",
       "f8029e6b6169de1f                        Undetermined     Financial   \n",
       "1ed93f0579b9056c            Data Attack,Undetermined     Financial   \n",
       "...                                              ...           ...   \n",
       "285fa5842609a5bf          External Denial of Service       Protest   \n",
       "c823006f6c70313c  Exploitation of Application Server     Financial   \n",
       "c886a43fe79a0a7b  Exploitation of Application Server     Financial   \n",
       "bb17aacdf2e20d25  Exploitation of Application Server  Undetermined   \n",
       "bac11292d79231f0                        Undetermined     Financial   \n",
       "\n",
       "                  motive_code          event_source  \\\n",
       "id                                                    \n",
       "f5c2ebc02807a6b3          1.0   www.redhotcyber.com   \n",
       "0b7a20f4161d89b2          1.0   securityaffairs.com   \n",
       "2e37d07ef6ef3cb6          3.0   www.redhotcyber.com   \n",
       "f8029e6b6169de1f          1.0       www.jdsupra.com   \n",
       "1ed93f0579b9056c          1.0       therecord.media   \n",
       "...                       ...                   ...   \n",
       "285fa5842609a5bf          3.0            thewire.in   \n",
       "c823006f6c70313c          1.0  www.databreaches.net   \n",
       "c886a43fe79a0a7b          1.0  www.hipaajournal.com   \n",
       "bb17aacdf2e20d25          5.0       therecord.media   \n",
       "bac11292d79231f0          1.0  www.databreaches.net   \n",
       "\n",
       "                                                          industry  ...  day  \\\n",
       "id                                                                  ...        \n",
       "f5c2ebc02807a6b3  Professional, Scientific, and Technical Services  ...   30   \n",
       "0b7a20f4161d89b2                   Accommodation and Food Services  ...   30   \n",
       "2e37d07ef6ef3cb6                             Public Administration  ...   29   \n",
       "f8029e6b6169de1f                             Finance and Insurance  ...   29   \n",
       "1ed93f0579b9056c                 Health Care and Social Assistance  ...   29   \n",
       "...                                                            ...  ...  ...   \n",
       "285fa5842609a5bf                             Public Administration  ...   27   \n",
       "c823006f6c70313c                 Health Care and Social Assistance  ...   27   \n",
       "c886a43fe79a0a7b                 Health Care and Social Assistance  ...   27   \n",
       "bb17aacdf2e20d25                                       Information  ...   27   \n",
       "bac11292d79231f0                 Health Care and Social Assistance  ...   27   \n",
       "\n",
       "                 Disruptive  Exploitive  Undetermined  Africa  Asia  \\\n",
       "id                                                                    \n",
       "f5c2ebc02807a6b3          0           1             0       0     0   \n",
       "0b7a20f4161d89b2          1           1             0       0     0   \n",
       "2e37d07ef6ef3cb6          1           0             0       0     0   \n",
       "f8029e6b6169de1f          0           1             0       0     0   \n",
       "1ed93f0579b9056c          1           1             0       0     0   \n",
       "...                     ...         ...           ...     ...   ...   \n",
       "285fa5842609a5bf          1           0             0       0     0   \n",
       "c823006f6c70313c          1           1             0       0     0   \n",
       "c886a43fe79a0a7b          0           1             0       0     0   \n",
       "bb17aacdf2e20d25          0           1             0       0     0   \n",
       "bac11292d79231f0          0           1             0       0     0   \n",
       "\n",
       "                  Australia  Europe  North America  South America  \n",
       "id                                                                 \n",
       "f5c2ebc02807a6b3          0       1              0              0  \n",
       "0b7a20f4161d89b2          0       1              0              0  \n",
       "2e37d07ef6ef3cb6          0       1              0              0  \n",
       "f8029e6b6169de1f          0       0              1              0  \n",
       "1ed93f0579b9056c          0       0              1              0  \n",
       "...                     ...     ...            ...            ...  \n",
       "285fa5842609a5bf          0       0              1              0  \n",
       "c823006f6c70313c          0       0              1              0  \n",
       "c886a43fe79a0a7b          0       0              1              0  \n",
       "bb17aacdf2e20d25          0       1              0              0  \n",
       "bac11292d79231f0          0       0              1              0  \n",
       "\n",
       "[13019 rows x 24 columns]"
      ]
     },
     "execution_count": 266,
     "metadata": {},
     "output_type": "execute_result"
    }
   ],
   "source": [
    "df"
   ]
  },
  {
   "cell_type": "markdown",
   "metadata": {},
   "source": [
    "# Limpieza datos anómalos\n",
    "Se debe de revisar si hay datos anómalos en el conjunto de datos. Para ello, vamos a realizar un análisis de las variables continuas para detectar posibles valores atípicos.\n",
    "\n",
    "En el proceso vamos a utilizar la técnica de **IQR** para detectar los valores atípicos. Esta técnica consiste en calcular el rango intercuartílico (IQR) de una variable continua y luego identificar los valores que se encuentran por debajo del percentil 10 o por encima del percentil 90.\n",
    "\n",
    "\n",
    "\n"
   ]
  },
  {
   "cell_type": "code",
   "execution_count": 267,
   "metadata": {},
   "outputs": [
    {
     "data": {
      "text/plain": [
       "(13019, 24)"
      ]
     },
     "execution_count": 267,
     "metadata": {},
     "output_type": "execute_result"
    }
   ],
   "source": [
    "df.shape"
   ]
  },
  {
   "cell_type": "code",
   "execution_count": 268,
   "metadata": {},
   "outputs": [
    {
     "name": "stdout",
     "output_type": "stream",
     "text": [
      "Tamaño del DataFrame original: (13019, 24)\n",
      "Tamaño del DataFrame después de eliminar outliers: (11918, 24)\n"
     ]
    }
   ],
   "source": [
    "columns_to_check = ['industry_code', 'actor_type', 'motive_code']  \n",
    "\n",
    "Q1 = df[columns_to_check].quantile(0.10)\n",
    "Q3 = df[columns_to_check].quantile(0.90)\n",
    "\n",
    "\n",
    "IQR = Q3 - Q1\n",
    "\n",
    "lower_bound = Q1 - 1.5 * IQR\n",
    "upper_bound = Q3 + 1.5 * IQR\n",
    "\n",
    "df_cleaned = df[~((df[columns_to_check] < lower_bound) | (df[columns_to_check] > upper_bound)).any(axis=1)]\n",
    "\n",
    "print(\"Tamaño del DataFrame original:\", df.shape)\n",
    "print(\"Tamaño del DataFrame después de eliminar outliers:\", df_cleaned.shape)"
   ]
  },
  {
   "cell_type": "code",
   "execution_count": 269,
   "metadata": {},
   "outputs": [
    {
     "data": {
      "text/plain": [
       "Index(['event_description', 'actor', 'actor_type', 'event_type',\n",
       "       'organization', 'event_subtype', 'motive', 'motive_code',\n",
       "       'event_source', 'industry', 'industry_code', 'dnx_id', 'year', 'month',\n",
       "       'day', 'Disruptive', 'Exploitive', 'Undetermined', 'Africa', 'Asia',\n",
       "       'Australia', 'Europe', 'North America', 'South America'],\n",
       "      dtype='object')"
      ]
     },
     "execution_count": 269,
     "metadata": {},
     "output_type": "execute_result"
    }
   ],
   "source": [
    "df_cleaned.columns"
   ]
  },
  {
   "cell_type": "markdown",
   "metadata": {},
   "source": [
    "# Modelos de clasificación."
   ]
  },
  {
   "cell_type": "code",
   "execution_count": 270,
   "metadata": {},
   "outputs": [],
   "source": [
    "df_1 = df_cleaned.drop(list(df.select_dtypes(include=['object']).columns), axis = 1)"
   ]
  },
  {
   "cell_type": "code",
   "execution_count": 271,
   "metadata": {},
   "outputs": [],
   "source": [
    "X = df_1.drop('actor_type', axis=1)  \n",
    "y = df_1['actor_type']"
   ]
  },
  {
   "cell_type": "code",
   "execution_count": 272,
   "metadata": {},
   "outputs": [
    {
     "name": "stdout",
     "output_type": "stream",
     "text": [
      "(9534, 14)\n",
      "(2384, 14)\n"
     ]
    }
   ],
   "source": [
    "X_train, X_test, y_train, y_test = train_test_split(X, y, train_size = 0.8, random_state=42)\n",
    "print(X_train.shape)\n",
    "print(X_test.shape)"
   ]
  },
  {
   "cell_type": "code",
   "execution_count": 273,
   "metadata": {},
   "outputs": [
    {
     "name": "stdout",
     "output_type": "stream",
     "text": [
      "Resultados de los modelos:\n",
      "Random Forest: 0.9571009020348227\n",
      "Regresión Logística: 0.8508495909376967\n",
      "Árbol de Decisión: 0.935389133627019\n",
      "\n",
      "El mejor modelo es: Random Forest\n"
     ]
    }
   ],
   "source": [
    "\n",
    "def mejor_modelo(X, y, modelos):\n",
    "    resultados = {}\n",
    "    for nombre, modelo in modelos.items():\n",
    "      if nombre == 'Regresión Logística':\n",
    "        scaler = StandardScaler()\n",
    "        X = scaler.fit_transform(X)\n",
    "      scores = cross_val_score(modelo, X, y, cv=2, scoring='accuracy')\n",
    "      resultados[nombre] = scores.mean()\n",
    "\n",
    "    mejor = max(resultados, key=resultados.get)\n",
    "    return mejor, resultados\n",
    "\n",
    "modelos = {\n",
    "    'Random Forest': RandomForestClassifier(),\n",
    "    'Regresión Logística': LogisticRegression(max_iter=1000),\n",
    "    'Árbol de Decisión': DecisionTreeClassifier()\n",
    "}\n",
    "\n",
    "mejor, resultados = mejor_modelo(X_train, y_train, modelos)\n",
    "\n",
    "print(\"Resultados de los modelos:\")\n",
    "for modelo, score in resultados.items():\n",
    "    print(f\"{modelo}: {score}\")\n",
    "\n",
    "print(f\"\\nEl mejor modelo es: {mejor}\")"
   ]
  },
  {
   "cell_type": "code",
   "execution_count": 274,
   "metadata": {},
   "outputs": [
    {
     "data": {
      "image/png": "[encoded data removed]",
      "text/plain": [
       "<Figure size 1000x800 with 2 Axes>"
      ]
     },
     "metadata": {},
     "output_type": "display_data"
    }
   ],
   "source": [
    "correlation_matrix = df_1.corr()\n",
    "\n",
    "plt.figure(figsize=(10, 8))\n",
    "sns.heatmap(correlation_matrix, annot=True, cmap='coolwarm', fmt=\".2f\")\n",
    "plt.title('Correlation Matrix between Continuous Variables')\n",
    "plt.show()\n"
   ]
  },
  {
   "cell_type": "markdown",
   "metadata": {},
   "source": [
    "# Gráficas generales"
   ]
  },
  {
   "cell_type": "code",
   "execution_count": 275,
   "metadata": {},
   "outputs": [
    {
     "data": {
      "image/png": "[encoded data removed]",
      "text/plain": [
       "<Figure size 1200x600 with 1 Axes>"
      ]
     },
     "metadata": {},
     "output_type": "display_data"
    }
   ],
   "source": [
    "plt.figure(figsize=(12, 6))\n",
    "sns.countplot(data=df_cleaned, x='event_type', palette='Set2')\n",
    "plt.title('Number of Incidents by Type of Event')\n",
    "plt.xlabel('Type of Event')\n",
    "plt.ylabel('Number of Incidents')\n",
    "plt.xticks(rotation=45)\n",
    "plt.grid()\n",
    "plt.show()"
   ]
  },
  {
   "cell_type": "code",
   "execution_count": 276,
   "metadata": {},
   "outputs": [
    {
     "data": {
      "image/png": "[encoded data removed]",
      "text/plain": [
       "<Figure size 1200x800 with 1 Axes>"
      ]
     },
     "metadata": {},
     "output_type": "display_data"
    }
   ],
   "source": [
    "motive_counts = df_cleaned['motive'].value_counts()\n",
    "labels = motive_counts.index\n",
    "sizes = motive_counts.values\n",
    "\n",
    "plt.figure(figsize=(12, 8))\n",
    "plt.barh(labels, sizes, color='skyblue')\n",
    "plt.xlabel('Number of Incidents')\n",
    "plt.title('Distribution of Motives about Incidents', fontsize=16)\n",
    "plt.xticks(rotation=45)\n",
    "plt.grid(axis='x')\n",
    "\n",
    "plt.tight_layout()\n",
    "plt.show()"
   ]
  },
  {
   "cell_type": "code",
   "execution_count": 277,
   "metadata": {},
   "outputs": [
    {
     "data": {
      "image/png": "[encoded data removed]",
      "text/plain": [
       "<Figure size 1200x600 with 1 Axes>"
      ]
     },
     "metadata": {},
     "output_type": "display_data"
    }
   ],
   "source": [
    "plt.figure(figsize=(12, 6))\n",
    "sns.countplot(data=df_cleaned, x='industry_code', palette='Set2')\n",
    "plt.title('Number of Incidents by Industry')\n",
    "plt.xlabel('Industry')\n",
    "plt.ylabel('Number of Incidents')\n",
    "plt.xticks(rotation=45)\n",
    "plt.grid()\n",
    "plt.show()"
   ]
  },
  {
   "cell_type": "code",
   "execution_count": 278,
   "metadata": {},
   "outputs": [
    {
     "data": {
      "image/png": "[encoded data removed]",
      "text/plain": [
       "<Figure size 1200x600 with 1 Axes>"
      ]
     },
     "metadata": {},
     "output_type": "display_data"
    }
   ],
   "source": [
    "plt.figure(figsize=(12, 6))\n",
    "sns.histplot(df_cleaned['year'], bins=range(df['year'].min(), df['year'].max() + 1), kde=False)\n",
    "plt.title('Number of Incidents by Year')\n",
    "plt.xlabel('Year')\n",
    "plt.ylabel('Number of Incidents')\n",
    "plt.grid()\n",
    "plt.show()"
   ]
  },
  {
   "cell_type": "code",
   "execution_count": 279,
   "metadata": {},
   "outputs": [],
   "source": [
    "df_cleaned.to_csv('./data/CISSM_cleaned.csv', index=False)\n"
   ]
  }
 ],
 "metadata": {
  "kernelspec": {
   "display_name": "base",
   "language": "python",
   "name": "python3"
  },
  "language_info": {
   "codemirror_mode": {
    "name": "ipython",
    "version": 3
   },
   "file_extension": ".py",
   "mimetype": "text/x-python",
   "name": "python",
   "nbconvert_exporter": "python",
   "pygments_lexer": "ipython3",
   "version": "3.9.13"
  }
 },
 "nbformat": 4,
 "nbformat_minor": 2
}
