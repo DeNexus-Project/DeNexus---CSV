{
 "cells": [
  {
   "cell_type": "markdown",
   "metadata": {},
   "source": [
    "# CISSM.\n",
    "El archivo CSV contiene información sobre incidentes de ciberataques, con detalles sobre la fecha del evento, los actores involucrados, el tipo de evento, la organización afectada, el tipo de industria, la fuente del evento, el país, el motivo y el tipo de ataque."
   ]
  },
  {
   "cell_type": "markdown",
   "metadata": {},
   "source": [
    "## Importación de librerías."
   ]
  },
  {
   "cell_type": "code",
   "execution_count": 1,
   "metadata": {},
   "outputs": [],
   "source": [
    "# === Librerías estándar de Python ===\n",
    "import os\n",
    "import numpy as np\n",
    "\n",
    "# === Librerías de análisis de datos y visualización ===\n",
    "import pandas as pd\n",
    "import matplotlib.pyplot as plt\n",
    "import seaborn as sns\n",
    "\n",
    "# === Librerías de preprocesamiento de datos ===\n",
    "from sklearn.preprocessing import OrdinalEncoder\n",
    "from urllib.parse import urlparse\n",
    "\n",
    "# === Librerías para aprendizaje supervisado ===\n",
    "from sklearn.model_selection import train_test_split, cross_val_score\n",
    "from sklearn.ensemble import RandomForestClassifier\n",
    "from sklearn.tree import DecisionTreeClassifier\n",
    "\n",
    "# === Librerías para métricas de evaluación ===\n",
    "from sklearn.metrics import (\n",
    "    confusion_matrix,\n",
    "    classification_report,\n",
    "    roc_curve,\n",
    "    auc,\n",
    "    precision_score,\n",
    "    recall_score,\n",
    ")\n",
    "\n",
    "# === Librerías para aprendizaje no supervisado ===\n",
    "from sklearn.cluster import KMeans\n",
    "from sklearn.metrics import silhouette_score, silhouette_samples\n",
    "\n",
    "# === Librerías para balanceo de datos ===\n",
    "from imblearn.over_sampling import RandomOverSampler\n",
    "\n",
    "# === Librerías adicionales ===\n",
    "from tabulate import tabulate\n",
    "\n",
    "# === Configuración de colores ===\n",
    "denexus_colors = ['#1B2D40', '#577596', '#C7262B', '#F85C37', '#FF8250', '#4A4A4A']\n",
    "denexus_palette = sns.light_palette(\"#1B2D40\", n_colors=100, as_cmap=True)"
   ]
  },
  {
   "cell_type": "markdown",
   "metadata": {},
   "source": [
    "## Importación e información de dataframes"
   ]
  },
  {
   "cell_type": "code",
   "execution_count": 2,
   "metadata": {},
   "outputs": [
    {
     "data": {
      "text/html": [
       "<div>\n",
       "<style scoped>\n",
       "    .dataframe tbody tr th:only-of-type {\n",
       "        vertical-align: middle;\n",
       "    }\n",
       "\n",
       "    .dataframe tbody tr th {\n",
       "        vertical-align: top;\n",
       "    }\n",
       "\n",
       "    .dataframe thead th {\n",
       "        text-align: right;\n",
       "    }\n",
       "</style>\n",
       "<table border=\"1\" class=\"dataframe\">\n",
       "  <thead>\n",
       "    <tr style=\"text-align: right;\">\n",
       "      <th></th>\n",
       "      <th>event_description</th>\n",
       "      <th>event_date</th>\n",
       "      <th>actor</th>\n",
       "      <th>actor_type</th>\n",
       "      <th>event_type</th>\n",
       "      <th>organization</th>\n",
       "      <th>event_subtype</th>\n",
       "      <th>motive</th>\n",
       "      <th>event_source</th>\n",
       "      <th>country</th>\n",
       "      <th>industry</th>\n",
       "      <th>industry_code</th>\n",
       "      <th>id</th>\n",
       "      <th>dnx_id</th>\n",
       "      <th>date_uploaded</th>\n",
       "    </tr>\n",
       "  </thead>\n",
       "  <tbody>\n",
       "    <tr>\n",
       "      <th>0</th>\n",
       "      <td>Innovery, an Italian company delivering IT ser...</td>\n",
       "      <td>2023-09-30</td>\n",
       "      <td>Undetermined</td>\n",
       "      <td>Criminal</td>\n",
       "      <td>Exploitive</td>\n",
       "      <td>Innovery</td>\n",
       "      <td>Exploitation of Application Server</td>\n",
       "      <td>Financial</td>\n",
       "      <td>https://www.redhotcyber.com/post/attacco-infor...</td>\n",
       "      <td>ITA</td>\n",
       "      <td>Professional, Scientific, and Technical Services</td>\n",
       "      <td>54.0</td>\n",
       "      <td>f5c2ebc02807a6b3</td>\n",
       "      <td>inc_cis_13422</td>\n",
       "      <td>2024-04-01</td>\n",
       "    </tr>\n",
       "    <tr>\n",
       "      <th>1</th>\n",
       "      <td>The ALPHV/BlackCat ransomware gang adds the ho...</td>\n",
       "      <td>2023-09-30</td>\n",
       "      <td>ALPHV</td>\n",
       "      <td>Criminal</td>\n",
       "      <td>Mixed</td>\n",
       "      <td>Motel One</td>\n",
       "      <td>Data Attack,Undetermined</td>\n",
       "      <td>Financial</td>\n",
       "      <td>https://securityaffairs.com/151732/cyber-crime...</td>\n",
       "      <td>DEU</td>\n",
       "      <td>Accommodation and Food Services</td>\n",
       "      <td>72.0</td>\n",
       "      <td>0b7a20f4161d89b2</td>\n",
       "      <td>inc_cis_13421</td>\n",
       "      <td>2024-04-01</td>\n",
       "    </tr>\n",
       "    <tr>\n",
       "      <th>2</th>\n",
       "      <td>The pro-Russian collective NoName057(16) takes...</td>\n",
       "      <td>2023-09-29</td>\n",
       "      <td>NoName057(16)</td>\n",
       "      <td>Hacktivist</td>\n",
       "      <td>Disruptive</td>\n",
       "      <td>Multiple organizations in Italy</td>\n",
       "      <td>External Denial of Service</td>\n",
       "      <td>Protest</td>\n",
       "      <td>https://www.redhotcyber.com/post/si-ricomincia...</td>\n",
       "      <td>ITA</td>\n",
       "      <td>Public Administration</td>\n",
       "      <td>92.0</td>\n",
       "      <td>2e37d07ef6ef3cb6</td>\n",
       "      <td>inc_cis_13420</td>\n",
       "      <td>2024-04-01</td>\n",
       "    </tr>\n",
       "    <tr>\n",
       "      <th>3</th>\n",
       "      <td>API Financial Solutions files a notice of data...</td>\n",
       "      <td>2023-09-29</td>\n",
       "      <td>Undetermined</td>\n",
       "      <td>Criminal</td>\n",
       "      <td>Exploitive</td>\n",
       "      <td>API Financial Solutions</td>\n",
       "      <td>Undetermined</td>\n",
       "      <td>Financial</td>\n",
       "      <td>https://www.jdsupra.com/legalnews/api-financia...</td>\n",
       "      <td>USA</td>\n",
       "      <td>Finance and Insurance</td>\n",
       "      <td>52.0</td>\n",
       "      <td>f8029e6b6169de1f</td>\n",
       "      <td>inc_cis_13419</td>\n",
       "      <td>2024-04-01</td>\n",
       "    </tr>\n",
       "    <tr>\n",
       "      <th>4</th>\n",
       "      <td>McLaren HealthCare, confirms to be dealing wit...</td>\n",
       "      <td>2023-09-29</td>\n",
       "      <td>ALPHV</td>\n",
       "      <td>Criminal</td>\n",
       "      <td>Mixed</td>\n",
       "      <td>McLaren HealthCare</td>\n",
       "      <td>Data Attack,Undetermined</td>\n",
       "      <td>Financial</td>\n",
       "      <td>https://therecord.media/mclaren-healthcare-ran...</td>\n",
       "      <td>USA</td>\n",
       "      <td>Health Care and Social Assistance</td>\n",
       "      <td>62.0</td>\n",
       "      <td>1ed93f0579b9056c</td>\n",
       "      <td>inc_cis_13418</td>\n",
       "      <td>2024-04-01</td>\n",
       "    </tr>\n",
       "    <tr>\n",
       "      <th>...</th>\n",
       "      <td>...</td>\n",
       "      <td>...</td>\n",
       "      <td>...</td>\n",
       "      <td>...</td>\n",
       "      <td>...</td>\n",
       "      <td>...</td>\n",
       "      <td>...</td>\n",
       "      <td>...</td>\n",
       "      <td>...</td>\n",
       "      <td>...</td>\n",
       "      <td>...</td>\n",
       "      <td>...</td>\n",
       "      <td>...</td>\n",
       "      <td>...</td>\n",
       "      <td>...</td>\n",
       "    </tr>\n",
       "    <tr>\n",
       "      <th>13418</th>\n",
       "      <td>Erlanger Health is also affected by the MOVEit...</td>\n",
       "      <td>2023-09-27</td>\n",
       "      <td>Qilin</td>\n",
       "      <td>Criminal</td>\n",
       "      <td>Mixed</td>\n",
       "      <td>Cardiovascular Consultants</td>\n",
       "      <td>Exploitation of Application Server</td>\n",
       "      <td>Financial</td>\n",
       "      <td>https://www.databreaches.net/cardiovascular-co...</td>\n",
       "      <td>USA</td>\n",
       "      <td>Health Care and Social Assistance</td>\n",
       "      <td>62.0</td>\n",
       "      <td>c823006f6c70313c</td>\n",
       "      <td>inc_cis_4</td>\n",
       "      <td>2024-04-01</td>\n",
       "    </tr>\n",
       "    <tr>\n",
       "      <th>13419</th>\n",
       "      <td>The European Telecommunications Standards Inst...</td>\n",
       "      <td>2023-09-27</td>\n",
       "      <td>cl0p</td>\n",
       "      <td>Criminal</td>\n",
       "      <td>Exploitive</td>\n",
       "      <td>Erlanger Health</td>\n",
       "      <td>Exploitation of Application Server</td>\n",
       "      <td>Financial</td>\n",
       "      <td>https://www.hipaajournal.com/oak-valley-hospit...</td>\n",
       "      <td>USA</td>\n",
       "      <td>Health Care and Social Assistance</td>\n",
       "      <td>62.0</td>\n",
       "      <td>c886a43fe79a0a7b</td>\n",
       "      <td>inc_cis_3</td>\n",
       "      <td>2024-04-01</td>\n",
       "    </tr>\n",
       "    <tr>\n",
       "      <th>13420</th>\n",
       "      <td>Lost Trust Team adds GI Medical Services in Ne...</td>\n",
       "      <td>2023-09-27</td>\n",
       "      <td>Undetermined</td>\n",
       "      <td>Criminal</td>\n",
       "      <td>Exploitive</td>\n",
       "      <td>European Telecommunications Standards Institut...</td>\n",
       "      <td>Exploitation of Application Server</td>\n",
       "      <td>Undetermined</td>\n",
       "      <td>https://therecord.media/etsi-telecommunication...</td>\n",
       "      <td>FRA</td>\n",
       "      <td>Information</td>\n",
       "      <td>51.0</td>\n",
       "      <td>bb17aacdf2e20d25</td>\n",
       "      <td>inc_cis_2</td>\n",
       "      <td>2024-04-01</td>\n",
       "    </tr>\n",
       "    <tr>\n",
       "      <th>13421</th>\n",
       "      <td>UK charities including Shelter, the RSPCA, the...</td>\n",
       "      <td>2023-09-27</td>\n",
       "      <td>Lost Trust</td>\n",
       "      <td>Criminal</td>\n",
       "      <td>Exploitive</td>\n",
       "      <td>GI Medical Services</td>\n",
       "      <td>Undetermined</td>\n",
       "      <td>Financial</td>\n",
       "      <td>https://www.databreaches.net/and-yet-more-vict...</td>\n",
       "      <td>USA</td>\n",
       "      <td>Health Care and Social Assistance</td>\n",
       "      <td>62.0</td>\n",
       "      <td>bac11292d79231f0</td>\n",
       "      <td>inc_cis_1</td>\n",
       "      <td>2024-04-01</td>\n",
       "    </tr>\n",
       "    <tr>\n",
       "      <th>13422</th>\n",
       "      <td>[]</td>\n",
       "      <td>2023-09-27</td>\n",
       "      <td>Undetermined</td>\n",
       "      <td>Criminal</td>\n",
       "      <td>Exploitive</td>\n",
       "      <td>Kokoro</td>\n",
       "      <td>Undetermined</td>\n",
       "      <td>Financial</td>\n",
       "      <td>https://grahamcluley.com/british-charities-war...</td>\n",
       "      <td>GBR</td>\n",
       "      <td>Professional, Scientific, and Technical Services</td>\n",
       "      <td>54.0</td>\n",
       "      <td>1b4c2a9495a49c91</td>\n",
       "      <td>inc_cis_0</td>\n",
       "      <td>2024-04-01</td>\n",
       "    </tr>\n",
       "  </tbody>\n",
       "</table>\n",
       "<p>13423 rows × 15 columns</p>\n",
       "</div>"
      ],
      "text/plain": [
       "                                       event_description  event_date  \\\n",
       "0      Innovery, an Italian company delivering IT ser...  2023-09-30   \n",
       "1      The ALPHV/BlackCat ransomware gang adds the ho...  2023-09-30   \n",
       "2      The pro-Russian collective NoName057(16) takes...  2023-09-29   \n",
       "3      API Financial Solutions files a notice of data...  2023-09-29   \n",
       "4      McLaren HealthCare, confirms to be dealing wit...  2023-09-29   \n",
       "...                                                  ...         ...   \n",
       "13418  Erlanger Health is also affected by the MOVEit...  2023-09-27   \n",
       "13419  The European Telecommunications Standards Inst...  2023-09-27   \n",
       "13420  Lost Trust Team adds GI Medical Services in Ne...  2023-09-27   \n",
       "13421  UK charities including Shelter, the RSPCA, the...  2023-09-27   \n",
       "13422                                                 []  2023-09-27   \n",
       "\n",
       "               actor  actor_type  event_type  \\\n",
       "0       Undetermined    Criminal  Exploitive   \n",
       "1              ALPHV    Criminal       Mixed   \n",
       "2      NoName057(16)  Hacktivist  Disruptive   \n",
       "3       Undetermined    Criminal  Exploitive   \n",
       "4              ALPHV    Criminal       Mixed   \n",
       "...              ...         ...         ...   \n",
       "13418          Qilin    Criminal       Mixed   \n",
       "13419           cl0p    Criminal  Exploitive   \n",
       "13420   Undetermined    Criminal  Exploitive   \n",
       "13421     Lost Trust    Criminal  Exploitive   \n",
       "13422   Undetermined    Criminal  Exploitive   \n",
       "\n",
       "                                            organization  \\\n",
       "0                                               Innovery   \n",
       "1                                              Motel One   \n",
       "2                        Multiple organizations in Italy   \n",
       "3                                API Financial Solutions   \n",
       "4                                     McLaren HealthCare   \n",
       "...                                                  ...   \n",
       "13418                         Cardiovascular Consultants   \n",
       "13419                                    Erlanger Health   \n",
       "13420  European Telecommunications Standards Institut...   \n",
       "13421                                GI Medical Services   \n",
       "13422                                             Kokoro   \n",
       "\n",
       "                            event_subtype        motive  \\\n",
       "0      Exploitation of Application Server     Financial   \n",
       "1                Data Attack,Undetermined     Financial   \n",
       "2              External Denial of Service       Protest   \n",
       "3                            Undetermined     Financial   \n",
       "4                Data Attack,Undetermined     Financial   \n",
       "...                                   ...           ...   \n",
       "13418  Exploitation of Application Server     Financial   \n",
       "13419  Exploitation of Application Server     Financial   \n",
       "13420  Exploitation of Application Server  Undetermined   \n",
       "13421                        Undetermined     Financial   \n",
       "13422                        Undetermined     Financial   \n",
       "\n",
       "                                            event_source country  \\\n",
       "0      https://www.redhotcyber.com/post/attacco-infor...     ITA   \n",
       "1      https://securityaffairs.com/151732/cyber-crime...     DEU   \n",
       "2      https://www.redhotcyber.com/post/si-ricomincia...     ITA   \n",
       "3      https://www.jdsupra.com/legalnews/api-financia...     USA   \n",
       "4      https://therecord.media/mclaren-healthcare-ran...     USA   \n",
       "...                                                  ...     ...   \n",
       "13418  https://www.databreaches.net/cardiovascular-co...     USA   \n",
       "13419  https://www.hipaajournal.com/oak-valley-hospit...     USA   \n",
       "13420  https://therecord.media/etsi-telecommunication...     FRA   \n",
       "13421  https://www.databreaches.net/and-yet-more-vict...     USA   \n",
       "13422  https://grahamcluley.com/british-charities-war...     GBR   \n",
       "\n",
       "                                               industry industry_code  \\\n",
       "0      Professional, Scientific, and Technical Services          54.0   \n",
       "1                       Accommodation and Food Services          72.0   \n",
       "2                                 Public Administration          92.0   \n",
       "3                                 Finance and Insurance          52.0   \n",
       "4                     Health Care and Social Assistance          62.0   \n",
       "...                                                 ...           ...   \n",
       "13418                 Health Care and Social Assistance          62.0   \n",
       "13419                 Health Care and Social Assistance          62.0   \n",
       "13420                                       Information          51.0   \n",
       "13421                 Health Care and Social Assistance          62.0   \n",
       "13422  Professional, Scientific, and Technical Services          54.0   \n",
       "\n",
       "                     id         dnx_id date_uploaded  \n",
       "0      f5c2ebc02807a6b3  inc_cis_13422    2024-04-01  \n",
       "1      0b7a20f4161d89b2  inc_cis_13421    2024-04-01  \n",
       "2      2e37d07ef6ef3cb6  inc_cis_13420    2024-04-01  \n",
       "3      f8029e6b6169de1f  inc_cis_13419    2024-04-01  \n",
       "4      1ed93f0579b9056c  inc_cis_13418    2024-04-01  \n",
       "...                 ...            ...           ...  \n",
       "13418  c823006f6c70313c      inc_cis_4    2024-04-01  \n",
       "13419  c886a43fe79a0a7b      inc_cis_3    2024-04-01  \n",
       "13420  bb17aacdf2e20d25      inc_cis_2    2024-04-01  \n",
       "13421  bac11292d79231f0      inc_cis_1    2024-04-01  \n",
       "13422  1b4c2a9495a49c91      inc_cis_0    2024-04-01  \n",
       "\n",
       "[13423 rows x 15 columns]"
      ]
     },
     "execution_count": 2,
     "metadata": {},
     "output_type": "execute_result"
    }
   ],
   "source": [
    "df = pd.read_csv('./data/CISSM.csv')\n",
    "df"
   ]
  },
  {
   "cell_type": "markdown",
   "metadata": {},
   "source": [
    "Debemos de tomar la columna ID como índice."
   ]
  },
  {
   "cell_type": "code",
   "execution_count": 3,
   "metadata": {},
   "outputs": [],
   "source": [
    "df.set_index('id', inplace=True)"
   ]
  },
  {
   "cell_type": "code",
   "execution_count": 4,
   "metadata": {},
   "outputs": [
    {
     "data": {
      "text/html": [
       "<div>\n",
       "<style scoped>\n",
       "    .dataframe tbody tr th:only-of-type {\n",
       "        vertical-align: middle;\n",
       "    }\n",
       "\n",
       "    .dataframe tbody tr th {\n",
       "        vertical-align: top;\n",
       "    }\n",
       "\n",
       "    .dataframe thead th {\n",
       "        text-align: right;\n",
       "    }\n",
       "</style>\n",
       "<table border=\"1\" class=\"dataframe\">\n",
       "  <thead>\n",
       "    <tr style=\"text-align: right;\">\n",
       "      <th></th>\n",
       "      <th>event_description</th>\n",
       "      <th>event_date</th>\n",
       "      <th>actor</th>\n",
       "      <th>actor_type</th>\n",
       "      <th>event_type</th>\n",
       "      <th>organization</th>\n",
       "      <th>event_subtype</th>\n",
       "      <th>motive</th>\n",
       "      <th>event_source</th>\n",
       "      <th>country</th>\n",
       "      <th>industry</th>\n",
       "      <th>industry_code</th>\n",
       "      <th>dnx_id</th>\n",
       "      <th>date_uploaded</th>\n",
       "    </tr>\n",
       "  </thead>\n",
       "  <tbody>\n",
       "    <tr>\n",
       "      <th>count</th>\n",
       "      <td>13423</td>\n",
       "      <td>13423</td>\n",
       "      <td>13423</td>\n",
       "      <td>13423</td>\n",
       "      <td>13423</td>\n",
       "      <td>13423</td>\n",
       "      <td>13423</td>\n",
       "      <td>13423</td>\n",
       "      <td>13423</td>\n",
       "      <td>13423</td>\n",
       "      <td>13423</td>\n",
       "      <td>13423</td>\n",
       "      <td>13423</td>\n",
       "      <td>13423</td>\n",
       "    </tr>\n",
       "    <tr>\n",
       "      <th>unique</th>\n",
       "      <td>11646</td>\n",
       "      <td>3126</td>\n",
       "      <td>1163</td>\n",
       "      <td>7</td>\n",
       "      <td>5</td>\n",
       "      <td>12202</td>\n",
       "      <td>95</td>\n",
       "      <td>13</td>\n",
       "      <td>10724</td>\n",
       "      <td>164</td>\n",
       "      <td>22</td>\n",
       "      <td>26</td>\n",
       "      <td>13423</td>\n",
       "      <td>1</td>\n",
       "    </tr>\n",
       "    <tr>\n",
       "      <th>top</th>\n",
       "      <td>Vice Society encrypts network and threatens to...</td>\n",
       "      <td>2017-06-27</td>\n",
       "      <td>Undetermined</td>\n",
       "      <td>Criminal</td>\n",
       "      <td>Exploitive</td>\n",
       "      <td>Undetermined</td>\n",
       "      <td>Exploitation of Application Server</td>\n",
       "      <td>Financial</td>\n",
       "      <td>https://stniiomyjliimcgkvdszvgen3eaaoz55hreqqx...</td>\n",
       "      <td>USA</td>\n",
       "      <td>Public Administration</td>\n",
       "      <td>92.0</td>\n",
       "      <td>inc_cis_13422</td>\n",
       "      <td>2024-04-01</td>\n",
       "    </tr>\n",
       "    <tr>\n",
       "      <th>freq</th>\n",
       "      <td>97</td>\n",
       "      <td>78</td>\n",
       "      <td>7639</td>\n",
       "      <td>10181</td>\n",
       "      <td>6676</td>\n",
       "      <td>56</td>\n",
       "      <td>4314</td>\n",
       "      <td>7533</td>\n",
       "      <td>73</td>\n",
       "      <td>6459</td>\n",
       "      <td>2518</td>\n",
       "      <td>2518</td>\n",
       "      <td>1</td>\n",
       "      <td>13423</td>\n",
       "    </tr>\n",
       "  </tbody>\n",
       "</table>\n",
       "</div>"
      ],
      "text/plain": [
       "                                        event_description  event_date  \\\n",
       "count                                               13423       13423   \n",
       "unique                                              11646        3126   \n",
       "top     Vice Society encrypts network and threatens to...  2017-06-27   \n",
       "freq                                                   97          78   \n",
       "\n",
       "               actor actor_type  event_type  organization  \\\n",
       "count          13423      13423       13423         13423   \n",
       "unique          1163          7           5         12202   \n",
       "top     Undetermined   Criminal  Exploitive  Undetermined   \n",
       "freq            7639      10181        6676            56   \n",
       "\n",
       "                             event_subtype     motive  \\\n",
       "count                                13423      13423   \n",
       "unique                                  95         13   \n",
       "top     Exploitation of Application Server  Financial   \n",
       "freq                                  4314       7533   \n",
       "\n",
       "                                             event_source country  \\\n",
       "count                                               13423   13423   \n",
       "unique                                              10724     164   \n",
       "top     https://stniiomyjliimcgkvdszvgen3eaaoz55hreqqx...     USA   \n",
       "freq                                                   73    6459   \n",
       "\n",
       "                     industry industry_code         dnx_id date_uploaded  \n",
       "count                   13423         13423          13423         13423  \n",
       "unique                     22            26          13423             1  \n",
       "top     Public Administration          92.0  inc_cis_13422    2024-04-01  \n",
       "freq                     2518          2518              1         13423  "
      ]
     },
     "execution_count": 4,
     "metadata": {},
     "output_type": "execute_result"
    }
   ],
   "source": [
    "df.describe()"
   ]
  },
  {
   "cell_type": "code",
   "execution_count": 5,
   "metadata": {},
   "outputs": [
    {
     "data": {
      "text/plain": [
       "(13423, 14)"
      ]
     },
     "execution_count": 5,
     "metadata": {},
     "output_type": "execute_result"
    }
   ],
   "source": [
    "df.shape"
   ]
  },
  {
   "cell_type": "code",
   "execution_count": 6,
   "metadata": {},
   "outputs": [
    {
     "data": {
      "text/plain": [
       "event_description    object\n",
       "event_date           object\n",
       "actor                object\n",
       "actor_type           object\n",
       "event_type           object\n",
       "organization         object\n",
       "event_subtype        object\n",
       "motive               object\n",
       "event_source         object\n",
       "country              object\n",
       "industry             object\n",
       "industry_code        object\n",
       "dnx_id               object\n",
       "date_uploaded        object\n",
       "dtype: object"
      ]
     },
     "execution_count": 6,
     "metadata": {},
     "output_type": "execute_result"
    }
   ],
   "source": [
    "df.dtypes"
   ]
  },
  {
   "cell_type": "code",
   "execution_count": 7,
   "metadata": {},
   "outputs": [],
   "source": [
    "df['industry_code'] = pd.to_numeric(df['industry_code'], errors='coerce')"
   ]
  },
  {
   "cell_type": "code",
   "execution_count": 8,
   "metadata": {},
   "outputs": [
    {
     "data": {
      "text/plain": [
       "Index(['event_description', 'event_date', 'actor', 'actor_type', 'event_type',\n",
       "       'organization', 'event_subtype', 'motive', 'event_source', 'country',\n",
       "       'industry', 'industry_code', 'dnx_id', 'date_uploaded'],\n",
       "      dtype='object')"
      ]
     },
     "execution_count": 8,
     "metadata": {},
     "output_type": "execute_result"
    }
   ],
   "source": [
    "df.columns"
   ]
  },
  {
   "cell_type": "markdown",
   "metadata": {},
   "source": [
    "A continuación, se incluye una breve explicación sobre la información que aporta cada columna.\n",
    "1. **ID**: Un identificador único para cada incidente de ciberataque.\n",
    "2. **Event Description**: Descripción detallada del incidente, explicando qué ocurrió durante el ataque.\n",
    "3. **Event Date**: Fecha en la que ocurrió el evento o ataque.\n",
    "4. **Actor**: La entidad o grupo responsable del ataque.\n",
    "5. **Actor Type**: El tipo de actor responsable del ataque, como \"Criminal\" o \"Estado\".\n",
    "6. **Event Type**: Tipo de ataque realizado, como \"Exploitive\" o \"Data Attack\".\n",
    "7. **Organization**: La organización o empresa que fue el objetivo del ataque.\n",
    "8. **Event Subtype**: Subtipo del evento que describe más específicamente el ataque.\n",
    "9. **Motive**: Razón o motivo detrás del ataque, por ejemplo, \"Financial\" si el objetivo es económico.\n",
    "10. **Event Source**: Fuente de información sobre el evento, generalmente un enlace a un artículo o informe.\n",
    "11. **Country**: País donde ocurrió el ataque o donde está ubicada la organización objetivo.\n",
    "12. **Industry**: Sector o industria al que pertenece la organización atacada.\n",
    "13. **Industry Code**: Código numérico que representa el sector o industria de la organización.\n",
    "14. **DNX ID**: Un identificador adicional del incidente dentro del sistema de la base de datos.\n",
    "15. **Date Uploaded**: La fecha en que la información sobre el incidente fue subida al sistema o base de datos."
   ]
  },
  {
   "cell_type": "code",
   "execution_count": 9,
   "metadata": {},
   "outputs": [
    {
     "data": {
      "text/html": [
       "<div>\n",
       "<style scoped>\n",
       "    .dataframe tbody tr th:only-of-type {\n",
       "        vertical-align: middle;\n",
       "    }\n",
       "\n",
       "    .dataframe tbody tr th {\n",
       "        vertical-align: top;\n",
       "    }\n",
       "\n",
       "    .dataframe thead th {\n",
       "        text-align: right;\n",
       "    }\n",
       "</style>\n",
       "<table border=\"1\" class=\"dataframe\">\n",
       "  <thead>\n",
       "    <tr style=\"text-align: right;\">\n",
       "      <th></th>\n",
       "      <th>event_description</th>\n",
       "      <th>event_date</th>\n",
       "      <th>actor</th>\n",
       "      <th>actor_type</th>\n",
       "      <th>event_type</th>\n",
       "      <th>organization</th>\n",
       "      <th>event_subtype</th>\n",
       "      <th>motive</th>\n",
       "      <th>event_source</th>\n",
       "      <th>country</th>\n",
       "      <th>industry</th>\n",
       "      <th>industry_code</th>\n",
       "      <th>dnx_id</th>\n",
       "      <th>date_uploaded</th>\n",
       "    </tr>\n",
       "    <tr>\n",
       "      <th>id</th>\n",
       "      <th></th>\n",
       "      <th></th>\n",
       "      <th></th>\n",
       "      <th></th>\n",
       "      <th></th>\n",
       "      <th></th>\n",
       "      <th></th>\n",
       "      <th></th>\n",
       "      <th></th>\n",
       "      <th></th>\n",
       "      <th></th>\n",
       "      <th></th>\n",
       "      <th></th>\n",
       "      <th></th>\n",
       "    </tr>\n",
       "  </thead>\n",
       "  <tbody>\n",
       "    <tr>\n",
       "      <th>f5c2ebc02807a6b3</th>\n",
       "      <td>Innovery, an Italian company delivering IT ser...</td>\n",
       "      <td>2023-09-30</td>\n",
       "      <td>Undetermined</td>\n",
       "      <td>Criminal</td>\n",
       "      <td>Exploitive</td>\n",
       "      <td>Innovery</td>\n",
       "      <td>Exploitation of Application Server</td>\n",
       "      <td>Financial</td>\n",
       "      <td>https://www.redhotcyber.com/post/attacco-infor...</td>\n",
       "      <td>ITA</td>\n",
       "      <td>Professional, Scientific, and Technical Services</td>\n",
       "      <td>54.0</td>\n",
       "      <td>inc_cis_13422</td>\n",
       "      <td>2024-04-01</td>\n",
       "    </tr>\n",
       "    <tr>\n",
       "      <th>0b7a20f4161d89b2</th>\n",
       "      <td>The ALPHV/BlackCat ransomware gang adds the ho...</td>\n",
       "      <td>2023-09-30</td>\n",
       "      <td>ALPHV</td>\n",
       "      <td>Criminal</td>\n",
       "      <td>Mixed</td>\n",
       "      <td>Motel One</td>\n",
       "      <td>Data Attack,Undetermined</td>\n",
       "      <td>Financial</td>\n",
       "      <td>https://securityaffairs.com/151732/cyber-crime...</td>\n",
       "      <td>DEU</td>\n",
       "      <td>Accommodation and Food Services</td>\n",
       "      <td>72.0</td>\n",
       "      <td>inc_cis_13421</td>\n",
       "      <td>2024-04-01</td>\n",
       "    </tr>\n",
       "    <tr>\n",
       "      <th>2e37d07ef6ef3cb6</th>\n",
       "      <td>The pro-Russian collective NoName057(16) takes...</td>\n",
       "      <td>2023-09-29</td>\n",
       "      <td>NoName057(16)</td>\n",
       "      <td>Hacktivist</td>\n",
       "      <td>Disruptive</td>\n",
       "      <td>Multiple organizations in Italy</td>\n",
       "      <td>External Denial of Service</td>\n",
       "      <td>Protest</td>\n",
       "      <td>https://www.redhotcyber.com/post/si-ricomincia...</td>\n",
       "      <td>ITA</td>\n",
       "      <td>Public Administration</td>\n",
       "      <td>92.0</td>\n",
       "      <td>inc_cis_13420</td>\n",
       "      <td>2024-04-01</td>\n",
       "    </tr>\n",
       "  </tbody>\n",
       "</table>\n",
       "</div>"
      ],
      "text/plain": [
       "                                                  event_description  \\\n",
       "id                                                                    \n",
       "f5c2ebc02807a6b3  Innovery, an Italian company delivering IT ser...   \n",
       "0b7a20f4161d89b2  The ALPHV/BlackCat ransomware gang adds the ho...   \n",
       "2e37d07ef6ef3cb6  The pro-Russian collective NoName057(16) takes...   \n",
       "\n",
       "                  event_date          actor  actor_type  event_type  \\\n",
       "id                                                                    \n",
       "f5c2ebc02807a6b3  2023-09-30   Undetermined    Criminal  Exploitive   \n",
       "0b7a20f4161d89b2  2023-09-30          ALPHV    Criminal       Mixed   \n",
       "2e37d07ef6ef3cb6  2023-09-29  NoName057(16)  Hacktivist  Disruptive   \n",
       "\n",
       "                                     organization  \\\n",
       "id                                                  \n",
       "f5c2ebc02807a6b3                         Innovery   \n",
       "0b7a20f4161d89b2                        Motel One   \n",
       "2e37d07ef6ef3cb6  Multiple organizations in Italy   \n",
       "\n",
       "                                       event_subtype     motive  \\\n",
       "id                                                                \n",
       "f5c2ebc02807a6b3  Exploitation of Application Server  Financial   \n",
       "0b7a20f4161d89b2            Data Attack,Undetermined  Financial   \n",
       "2e37d07ef6ef3cb6          External Denial of Service    Protest   \n",
       "\n",
       "                                                       event_source country  \\\n",
       "id                                                                            \n",
       "f5c2ebc02807a6b3  https://www.redhotcyber.com/post/attacco-infor...     ITA   \n",
       "0b7a20f4161d89b2  https://securityaffairs.com/151732/cyber-crime...     DEU   \n",
       "2e37d07ef6ef3cb6  https://www.redhotcyber.com/post/si-ricomincia...     ITA   \n",
       "\n",
       "                                                          industry  \\\n",
       "id                                                                   \n",
       "f5c2ebc02807a6b3  Professional, Scientific, and Technical Services   \n",
       "0b7a20f4161d89b2                   Accommodation and Food Services   \n",
       "2e37d07ef6ef3cb6                             Public Administration   \n",
       "\n",
       "                  industry_code         dnx_id date_uploaded  \n",
       "id                                                            \n",
       "f5c2ebc02807a6b3           54.0  inc_cis_13422    2024-04-01  \n",
       "0b7a20f4161d89b2           72.0  inc_cis_13421    2024-04-01  \n",
       "2e37d07ef6ef3cb6           92.0  inc_cis_13420    2024-04-01  "
      ]
     },
     "execution_count": 9,
     "metadata": {},
     "output_type": "execute_result"
    }
   ],
   "source": [
    "df.head(3)"
   ]
  },
  {
   "cell_type": "code",
   "execution_count": 10,
   "metadata": {},
   "outputs": [],
   "source": [
    "df['event_date'] = pd.to_datetime(df['event_date'])"
   ]
  },
  {
   "cell_type": "code",
   "execution_count": 11,
   "metadata": {},
   "outputs": [],
   "source": [
    "df['year'] = df['event_date'].dt.year\n",
    "df['month'] = df['event_date'].dt.month\n",
    "df['day'] = df['event_date'].dt.day"
   ]
  },
  {
   "cell_type": "code",
   "execution_count": 12,
   "metadata": {},
   "outputs": [],
   "source": [
    "df.drop('event_date', axis = 1, inplace = True)"
   ]
  },
  {
   "cell_type": "code",
   "execution_count": 13,
   "metadata": {},
   "outputs": [
    {
     "data": {
      "text/html": [
       "<div>\n",
       "<style scoped>\n",
       "    .dataframe tbody tr th:only-of-type {\n",
       "        vertical-align: middle;\n",
       "    }\n",
       "\n",
       "    .dataframe tbody tr th {\n",
       "        vertical-align: top;\n",
       "    }\n",
       "\n",
       "    .dataframe thead th {\n",
       "        text-align: right;\n",
       "    }\n",
       "</style>\n",
       "<table border=\"1\" class=\"dataframe\">\n",
       "  <thead>\n",
       "    <tr style=\"text-align: right;\">\n",
       "      <th></th>\n",
       "      <th>event_description</th>\n",
       "      <th>actor</th>\n",
       "      <th>actor_type</th>\n",
       "      <th>event_type</th>\n",
       "      <th>organization</th>\n",
       "      <th>event_subtype</th>\n",
       "      <th>motive</th>\n",
       "      <th>event_source</th>\n",
       "      <th>country</th>\n",
       "      <th>industry</th>\n",
       "      <th>industry_code</th>\n",
       "      <th>dnx_id</th>\n",
       "      <th>date_uploaded</th>\n",
       "      <th>year</th>\n",
       "      <th>month</th>\n",
       "      <th>day</th>\n",
       "    </tr>\n",
       "    <tr>\n",
       "      <th>id</th>\n",
       "      <th></th>\n",
       "      <th></th>\n",
       "      <th></th>\n",
       "      <th></th>\n",
       "      <th></th>\n",
       "      <th></th>\n",
       "      <th></th>\n",
       "      <th></th>\n",
       "      <th></th>\n",
       "      <th></th>\n",
       "      <th></th>\n",
       "      <th></th>\n",
       "      <th></th>\n",
       "      <th></th>\n",
       "      <th></th>\n",
       "      <th></th>\n",
       "    </tr>\n",
       "  </thead>\n",
       "  <tbody>\n",
       "    <tr>\n",
       "      <th>f5c2ebc02807a6b3</th>\n",
       "      <td>Innovery, an Italian company delivering IT ser...</td>\n",
       "      <td>Undetermined</td>\n",
       "      <td>Criminal</td>\n",
       "      <td>Exploitive</td>\n",
       "      <td>Innovery</td>\n",
       "      <td>Exploitation of Application Server</td>\n",
       "      <td>Financial</td>\n",
       "      <td>https://www.redhotcyber.com/post/attacco-infor...</td>\n",
       "      <td>ITA</td>\n",
       "      <td>Professional, Scientific, and Technical Services</td>\n",
       "      <td>54.0</td>\n",
       "      <td>inc_cis_13422</td>\n",
       "      <td>2024-04-01</td>\n",
       "      <td>2023</td>\n",
       "      <td>9</td>\n",
       "      <td>30</td>\n",
       "    </tr>\n",
       "    <tr>\n",
       "      <th>0b7a20f4161d89b2</th>\n",
       "      <td>The ALPHV/BlackCat ransomware gang adds the ho...</td>\n",
       "      <td>ALPHV</td>\n",
       "      <td>Criminal</td>\n",
       "      <td>Mixed</td>\n",
       "      <td>Motel One</td>\n",
       "      <td>Data Attack,Undetermined</td>\n",
       "      <td>Financial</td>\n",
       "      <td>https://securityaffairs.com/151732/cyber-crime...</td>\n",
       "      <td>DEU</td>\n",
       "      <td>Accommodation and Food Services</td>\n",
       "      <td>72.0</td>\n",
       "      <td>inc_cis_13421</td>\n",
       "      <td>2024-04-01</td>\n",
       "      <td>2023</td>\n",
       "      <td>9</td>\n",
       "      <td>30</td>\n",
       "    </tr>\n",
       "  </tbody>\n",
       "</table>\n",
       "</div>"
      ],
      "text/plain": [
       "                                                  event_description  \\\n",
       "id                                                                    \n",
       "f5c2ebc02807a6b3  Innovery, an Italian company delivering IT ser...   \n",
       "0b7a20f4161d89b2  The ALPHV/BlackCat ransomware gang adds the ho...   \n",
       "\n",
       "                         actor actor_type  event_type organization  \\\n",
       "id                                                                   \n",
       "f5c2ebc02807a6b3  Undetermined   Criminal  Exploitive     Innovery   \n",
       "0b7a20f4161d89b2         ALPHV   Criminal       Mixed    Motel One   \n",
       "\n",
       "                                       event_subtype     motive  \\\n",
       "id                                                                \n",
       "f5c2ebc02807a6b3  Exploitation of Application Server  Financial   \n",
       "0b7a20f4161d89b2            Data Attack,Undetermined  Financial   \n",
       "\n",
       "                                                       event_source country  \\\n",
       "id                                                                            \n",
       "f5c2ebc02807a6b3  https://www.redhotcyber.com/post/attacco-infor...     ITA   \n",
       "0b7a20f4161d89b2  https://securityaffairs.com/151732/cyber-crime...     DEU   \n",
       "\n",
       "                                                          industry  \\\n",
       "id                                                                   \n",
       "f5c2ebc02807a6b3  Professional, Scientific, and Technical Services   \n",
       "0b7a20f4161d89b2                   Accommodation and Food Services   \n",
       "\n",
       "                  industry_code         dnx_id date_uploaded  year  month  day  \n",
       "id                                                                              \n",
       "f5c2ebc02807a6b3           54.0  inc_cis_13422    2024-04-01  2023      9   30  \n",
       "0b7a20f4161d89b2           72.0  inc_cis_13421    2024-04-01  2023      9   30  "
      ]
     },
     "execution_count": 13,
     "metadata": {},
     "output_type": "execute_result"
    }
   ],
   "source": [
    "df.head(2)"
   ]
  },
  {
   "cell_type": "markdown",
   "metadata": {},
   "source": [
    "## Limpieza de datos.\n",
    "A simple vista, podemos detectar algunas columnas que no aportarán información para la identificación de patrones de ciberataques. La fecha en que la información fue subida al sistema no es relevante para el análisis de los incidentes en sí, ya que no afecta la naturaleza o el impacto del ataque, **Date Uploaded**. Finalmente, la columna **Industry** puede parecer importante, pero se elimina ya que existe otra en la que está representada por el código de la industria."
   ]
  },
  {
   "cell_type": "code",
   "execution_count": 14,
   "metadata": {},
   "outputs": [],
   "source": [
    "df.drop(['date_uploaded'], axis = 1, inplace = True)"
   ]
  },
  {
   "cell_type": "markdown",
   "metadata": {},
   "source": [
    "### Manejo de filas duplicadas.\n",
    "En caso de haber filas duplicadas, deberemos de eliminar estas para que no afecten al análisis posterior."
   ]
  },
  {
   "cell_type": "code",
   "execution_count": 15,
   "metadata": {},
   "outputs": [
    {
     "data": {
      "text/plain": [
       "0"
      ]
     },
     "execution_count": 15,
     "metadata": {},
     "output_type": "execute_result"
    }
   ],
   "source": [
    "df.duplicated().sum() # Columnas duplicadas"
   ]
  },
  {
   "cell_type": "code",
   "execution_count": 16,
   "metadata": {},
   "outputs": [],
   "source": [
    "df.drop_duplicates(inplace = True)"
   ]
  },
  {
   "cell_type": "code",
   "execution_count": 17,
   "metadata": {},
   "outputs": [
    {
     "data": {
      "text/plain": [
       "(13423, 15)"
      ]
     },
     "execution_count": 17,
     "metadata": {},
     "output_type": "execute_result"
    }
   ],
   "source": [
    "df.shape"
   ]
  },
  {
   "cell_type": "markdown",
   "metadata": {},
   "source": [
    "### Manejo de filas nulas."
   ]
  },
  {
   "cell_type": "code",
   "execution_count": 18,
   "metadata": {},
   "outputs": [
    {
     "data": {
      "text/plain": [
       "event_description     0\n",
       "actor                 0\n",
       "actor_type            0\n",
       "event_type            0\n",
       "organization          0\n",
       "event_subtype         0\n",
       "motive                0\n",
       "event_source          0\n",
       "country               0\n",
       "industry              0\n",
       "industry_code        22\n",
       "dnx_id                0\n",
       "year                  0\n",
       "month                 0\n",
       "day                   0\n",
       "dtype: int64"
      ]
     },
     "execution_count": 18,
     "metadata": {},
     "output_type": "execute_result"
    }
   ],
   "source": [
    "df.isnull().sum() # Valores nulos"
   ]
  },
  {
   "cell_type": "code",
   "execution_count": 19,
   "metadata": {},
   "outputs": [],
   "source": [
    "df.dropna(inplace = True)"
   ]
  },
  {
   "cell_type": "markdown",
   "metadata": {},
   "source": [
    "Al examinar detenidamente el DataFrame, notamos que hay algunas columnas que no están marcadas como valores nulos, pero que contienen el texto `'[]'`, lo que indica que son valores vacíos. Es necesario revisar estas filas para determinar cómo manejarlas.\n",
    "\n",
    "Después de esta revisión, concluimos que las filas afectadas son bastante pocas en comparación con el total de filas en el DataFrame original. Por lo tanto, la mejor opción sería eliminarlas."
   ]
  },
  {
   "cell_type": "code",
   "execution_count": 20,
   "metadata": {},
   "outputs": [
    {
     "data": {
      "text/plain": [
       "event_description     3\n",
       "actor                 0\n",
       "actor_type            0\n",
       "event_type            0\n",
       "organization          0\n",
       "event_subtype        21\n",
       "motive                1\n",
       "event_source          4\n",
       "country               8\n",
       "industry              0\n",
       "industry_code         0\n",
       "dnx_id                0\n",
       "year                  0\n",
       "month                 0\n",
       "day                   0\n",
       "dtype: int64"
      ]
     },
     "execution_count": 20,
     "metadata": {},
     "output_type": "execute_result"
    }
   ],
   "source": [
    "(df == '[]').sum()"
   ]
  },
  {
   "cell_type": "code",
   "execution_count": 21,
   "metadata": {},
   "outputs": [],
   "source": [
    "df.drop(df[(df == '[]').any(axis=1)].index, inplace=True)"
   ]
  },
  {
   "cell_type": "code",
   "execution_count": 22,
   "metadata": {},
   "outputs": [
    {
     "data": {
      "text/plain": [
       "(13364, 15)"
      ]
     },
     "execution_count": 22,
     "metadata": {},
     "output_type": "execute_result"
    }
   ],
   "source": [
    "df.shape"
   ]
  },
  {
   "cell_type": "markdown",
   "metadata": {},
   "source": [
    "### Selección de variables categóricas y continuas.\n",
    "Para realizar correctamente un ánalisis de datos debemos de distinguir entre las variables categóricas, variables que representan diferentes categorías o grupos, y continuas, variables que pueden tomar cualquier valor dentro de un rango determinado."
   ]
  },
  {
   "cell_type": "code",
   "execution_count": 23,
   "metadata": {},
   "outputs": [
    {
     "name": "stdout",
     "output_type": "stream",
     "text": [
      "Variables continuas: event_description, actor, organization, event_subtype, event_source, country, industry_code, dnx_id, year, month, day\n",
      "Variables categóricas: actor_type, event_type, motive, industry\n"
     ]
    }
   ],
   "source": [
    "v_continuas = []\n",
    "v_categoricas = []\n",
    "for i in df.columns:\n",
    "    if df[i].nunique() > 25 or df[i].dtypes in ['float64', 'int64']:\n",
    "        v_continuas.append(i)\n",
    "    else:\n",
    "        v_categoricas.append(i)\n",
    "\n",
    "print('Variables continuas: {}'.format(', '.join(v_continuas)))\n",
    "print('Variables categóricas: {}'.format(', '.join(v_categoricas)))"
   ]
  },
  {
   "cell_type": "markdown",
   "metadata": {},
   "source": [
    "#### Tratamiento de variables categóricas.\n",
    "Para el posterior modelo de clasificación, necesitamos codificar nuestras variables. Para ello, realizaremos una codificación ordinal que consiste en asignar valores enteros a las categorias basándose en su posición o jerarquía en los datos."
   ]
  },
  {
   "cell_type": "code",
   "execution_count": 24,
   "metadata": {},
   "outputs": [
    {
     "data": {
      "text/html": [
       "<div>\n",
       "<style scoped>\n",
       "    .dataframe tbody tr th:only-of-type {\n",
       "        vertical-align: middle;\n",
       "    }\n",
       "\n",
       "    .dataframe tbody tr th {\n",
       "        vertical-align: top;\n",
       "    }\n",
       "\n",
       "    .dataframe thead th {\n",
       "        text-align: right;\n",
       "    }\n",
       "</style>\n",
       "<table border=\"1\" class=\"dataframe\">\n",
       "  <thead>\n",
       "    <tr style=\"text-align: right;\">\n",
       "      <th></th>\n",
       "      <th>actor_type</th>\n",
       "      <th>event_type</th>\n",
       "      <th>motive</th>\n",
       "      <th>industry</th>\n",
       "    </tr>\n",
       "    <tr>\n",
       "      <th>id</th>\n",
       "      <th></th>\n",
       "      <th></th>\n",
       "      <th></th>\n",
       "      <th></th>\n",
       "    </tr>\n",
       "  </thead>\n",
       "  <tbody>\n",
       "    <tr>\n",
       "      <th>f5c2ebc02807a6b3</th>\n",
       "      <td>Criminal</td>\n",
       "      <td>Exploitive</td>\n",
       "      <td>Financial</td>\n",
       "      <td>Professional, Scientific, and Technical Services</td>\n",
       "    </tr>\n",
       "    <tr>\n",
       "      <th>0b7a20f4161d89b2</th>\n",
       "      <td>Criminal</td>\n",
       "      <td>Mixed</td>\n",
       "      <td>Financial</td>\n",
       "      <td>Accommodation and Food Services</td>\n",
       "    </tr>\n",
       "    <tr>\n",
       "      <th>2e37d07ef6ef3cb6</th>\n",
       "      <td>Hacktivist</td>\n",
       "      <td>Disruptive</td>\n",
       "      <td>Protest</td>\n",
       "      <td>Public Administration</td>\n",
       "    </tr>\n",
       "  </tbody>\n",
       "</table>\n",
       "</div>"
      ],
      "text/plain": [
       "                  actor_type  event_type     motive  \\\n",
       "id                                                    \n",
       "f5c2ebc02807a6b3    Criminal  Exploitive  Financial   \n",
       "0b7a20f4161d89b2    Criminal       Mixed  Financial   \n",
       "2e37d07ef6ef3cb6  Hacktivist  Disruptive    Protest   \n",
       "\n",
       "                                                          industry  \n",
       "id                                                                  \n",
       "f5c2ebc02807a6b3  Professional, Scientific, and Technical Services  \n",
       "0b7a20f4161d89b2                   Accommodation and Food Services  \n",
       "2e37d07ef6ef3cb6                             Public Administration  "
      ]
     },
     "execution_count": 24,
     "metadata": {},
     "output_type": "execute_result"
    }
   ],
   "source": [
    "df[v_categoricas].head(3)"
   ]
  },
  {
   "cell_type": "code",
   "execution_count": 25,
   "metadata": {},
   "outputs": [
    {
     "data": {
      "text/plain": [
       "actor_type     7\n",
       "event_type     5\n",
       "motive        11\n",
       "industry      21\n",
       "dtype: int64"
      ]
     },
     "execution_count": 25,
     "metadata": {},
     "output_type": "execute_result"
    }
   ],
   "source": [
    "df[v_categoricas].nunique()"
   ]
  },
  {
   "cell_type": "markdown",
   "metadata": {},
   "source": [
    "##### **Industry.**\n",
    "Esta columna ya viene codificada a través de **Industry Code**. Guardámos la columna para saber a que corresponde cada una."
   ]
  },
  {
   "cell_type": "code",
   "execution_count": 26,
   "metadata": {},
   "outputs": [
    {
     "data": {
      "text/plain": [
       "21"
      ]
     },
     "execution_count": 26,
     "metadata": {},
     "output_type": "execute_result"
    }
   ],
   "source": [
    "df['industry'].nunique()"
   ]
  },
  {
   "cell_type": "code",
   "execution_count": 27,
   "metadata": {},
   "outputs": [
    {
     "data": {
      "text/plain": [
       "25"
      ]
     },
     "execution_count": 27,
     "metadata": {},
     "output_type": "execute_result"
    }
   ],
   "source": [
    "df['industry_code'].nunique()"
   ]
  },
  {
   "cell_type": "code",
   "execution_count": 28,
   "metadata": {},
   "outputs": [],
   "source": [
    "industry_to_code = df.drop_duplicates(subset=['industry', 'industry_code']).set_index('industry')['industry_code'].to_dict()"
   ]
  },
  {
   "cell_type": "code",
   "execution_count": 29,
   "metadata": {},
   "outputs": [
    {
     "data": {
      "text/plain": [
       "{'Professional, Scientific, and Technical Services': 54.0,\n",
       " 'Accommodation and Food Services': 72.0,\n",
       " 'Public Administration': 92.0,\n",
       " 'Finance and Insurance': 52.0,\n",
       " 'Health Care and Social Assistance': 62.0,\n",
       " 'Information': 51.0,\n",
       " 'Administrative and Support and Waste Management and Remediation Services': 56.0,\n",
       " 'Manufacturing': 32.0,\n",
       " 'Construction': 23.0,\n",
       " 'Retail Trade': 45.0,\n",
       " 'Educational Services': 61.0,\n",
       " 'Wholesale Trade': 42.0,\n",
       " 'Real Estate and Rental and Leasing': 53.0,\n",
       " 'Transportation and Warehousing': 49.0,\n",
       " 'Other Services (except Public Administration)': 81.0,\n",
       " 'Arts, Entertainment, and Recreation': 71.0,\n",
       " 'Utilities': 22.0,\n",
       " 'Undetermined': 99.0,\n",
       " 'Agriculture, Forestry, Fishing and Hunting': 11.0,\n",
       " 'Mining, Quarrying, and Oil and Gas Extraction': 21.0,\n",
       " 'Management of Companies and Enterprises': 55.0}"
      ]
     },
     "execution_count": 29,
     "metadata": {},
     "output_type": "execute_result"
    }
   ],
   "source": [
    "industry_to_code"
   ]
  },
  {
   "cell_type": "markdown",
   "metadata": {},
   "source": [
    "##### **Event Type.**"
   ]
  },
  {
   "cell_type": "code",
   "execution_count": 30,
   "metadata": {},
   "outputs": [
    {
     "data": {
      "text/plain": [
       "array(['Exploitive', 'Mixed', 'Disruptive', 'Undetermined',\n",
       "       'Exploitation of Application Server'], dtype=object)"
      ]
     },
     "execution_count": 30,
     "metadata": {},
     "output_type": "execute_result"
    }
   ],
   "source": [
    "df['event_type'].unique()"
   ]
  },
  {
   "cell_type": "markdown",
   "metadata": {},
   "source": [
    "Los valores **Exploitive** y **Exploitation of Application Server** están relacionados con la explotación de vulnerabilidades, ya sea de manera general o específica (como en un servidor de aplicaciones). Por ello los juntaremos en la misma categoria."
   ]
  },
  {
   "cell_type": "code",
   "execution_count": 31,
   "metadata": {},
   "outputs": [],
   "source": [
    "df['event_type'].replace('Exploitation of Application Server', 'Exploitive', inplace=True)"
   ]
  },
  {
   "cell_type": "code",
   "execution_count": 32,
   "metadata": {},
   "outputs": [
    {
     "data": {
      "text/plain": [
       "array(['Exploitive', 'Mixed', 'Disruptive', 'Undetermined'], dtype=object)"
      ]
     },
     "execution_count": 32,
     "metadata": {},
     "output_type": "execute_result"
    }
   ],
   "source": [
    "df['event_type'].unique()"
   ]
  },
  {
   "cell_type": "markdown",
   "metadata": {},
   "source": [
    "Cuando trabajamos con variables categóricas, como en este caso con la columna 'event_type' que tiene valores como **Exploitive**, **Disruptive**, **Mixed** y **Undetermined**, se suele utilizar la técnica de **One-hot encoder** para convertir estas categorías en variables binarias que un modelo de Machine Learning pueda entender. El objetivo es crear una columna para cada categoría con valores 0 o 1, indicando si un evento pertenece a esa categoría o no.\n",
    "\n",
    "El valor **Mixed** es especial porque representa una combinación de dos categorías: **Exploitive** y **Disruptive**. Esto significa que cuando un evento está clasificado como **Mixed**, en realidad debe ser tratado como si fuera tanto **Exploitive** como **Disruptive**. Añadiendo un 1 en cada columna de estos."
   ]
  },
  {
   "cell_type": "code",
   "execution_count": 33,
   "metadata": {},
   "outputs": [],
   "source": [
    "dummies = pd.get_dummies(df['event_type'])\n",
    "dummies['Exploitive'] = dummies['Exploitive'] | dummies['Mixed']\n",
    "dummies['Disruptive'] = dummies['Disruptive'] | dummies['Mixed']"
   ]
  },
  {
   "cell_type": "markdown",
   "metadata": {},
   "source": [
    "El siguiente código se ha agregado para lograr que las columnas codificadas se agreguen justo después de la columna original, de manera que sea más fácil ver a qué se le ha asignado el valor codificado."
   ]
  },
  {
   "cell_type": "code",
   "execution_count": 34,
   "metadata": {},
   "outputs": [],
   "source": [
    "dummies.drop(['Mixed'], axis=1, inplace=True)\n",
    "dummies.columns = ['event_type_' + col for col in dummies.columns]"
   ]
  },
  {
   "cell_type": "code",
   "execution_count": 35,
   "metadata": {},
   "outputs": [],
   "source": [
    "idx = df.columns.get_loc('event_type') + 1\n",
    "\n",
    "df_before = df.iloc[:, :idx]\n",
    "df_after = df.iloc[:, idx:]\n",
    "\n",
    "df = pd.concat([df_before, dummies, df_after], axis=1)"
   ]
  },
  {
   "cell_type": "code",
   "execution_count": 36,
   "metadata": {},
   "outputs": [
    {
     "data": {
      "text/html": [
       "<div>\n",
       "<style scoped>\n",
       "    .dataframe tbody tr th:only-of-type {\n",
       "        vertical-align: middle;\n",
       "    }\n",
       "\n",
       "    .dataframe tbody tr th {\n",
       "        vertical-align: top;\n",
       "    }\n",
       "\n",
       "    .dataframe thead th {\n",
       "        text-align: right;\n",
       "    }\n",
       "</style>\n",
       "<table border=\"1\" class=\"dataframe\">\n",
       "  <thead>\n",
       "    <tr style=\"text-align: right;\">\n",
       "      <th></th>\n",
       "      <th>event_description</th>\n",
       "      <th>actor</th>\n",
       "      <th>actor_type</th>\n",
       "      <th>event_type</th>\n",
       "      <th>event_type_Disruptive</th>\n",
       "      <th>event_type_Exploitive</th>\n",
       "      <th>event_type_Undetermined</th>\n",
       "      <th>organization</th>\n",
       "      <th>event_subtype</th>\n",
       "      <th>motive</th>\n",
       "      <th>event_source</th>\n",
       "      <th>country</th>\n",
       "      <th>industry</th>\n",
       "      <th>industry_code</th>\n",
       "      <th>dnx_id</th>\n",
       "      <th>year</th>\n",
       "      <th>month</th>\n",
       "      <th>day</th>\n",
       "    </tr>\n",
       "    <tr>\n",
       "      <th>id</th>\n",
       "      <th></th>\n",
       "      <th></th>\n",
       "      <th></th>\n",
       "      <th></th>\n",
       "      <th></th>\n",
       "      <th></th>\n",
       "      <th></th>\n",
       "      <th></th>\n",
       "      <th></th>\n",
       "      <th></th>\n",
       "      <th></th>\n",
       "      <th></th>\n",
       "      <th></th>\n",
       "      <th></th>\n",
       "      <th></th>\n",
       "      <th></th>\n",
       "      <th></th>\n",
       "      <th></th>\n",
       "    </tr>\n",
       "  </thead>\n",
       "  <tbody>\n",
       "    <tr>\n",
       "      <th>f5c2ebc02807a6b3</th>\n",
       "      <td>Innovery, an Italian company delivering IT ser...</td>\n",
       "      <td>Undetermined</td>\n",
       "      <td>Criminal</td>\n",
       "      <td>Exploitive</td>\n",
       "      <td>0</td>\n",
       "      <td>1</td>\n",
       "      <td>0</td>\n",
       "      <td>Innovery</td>\n",
       "      <td>Exploitation of Application Server</td>\n",
       "      <td>Financial</td>\n",
       "      <td>https://www.redhotcyber.com/post/attacco-infor...</td>\n",
       "      <td>ITA</td>\n",
       "      <td>Professional, Scientific, and Technical Services</td>\n",
       "      <td>54.0</td>\n",
       "      <td>inc_cis_13422</td>\n",
       "      <td>2023</td>\n",
       "      <td>9</td>\n",
       "      <td>30</td>\n",
       "    </tr>\n",
       "    <tr>\n",
       "      <th>0b7a20f4161d89b2</th>\n",
       "      <td>The ALPHV/BlackCat ransomware gang adds the ho...</td>\n",
       "      <td>ALPHV</td>\n",
       "      <td>Criminal</td>\n",
       "      <td>Mixed</td>\n",
       "      <td>1</td>\n",
       "      <td>1</td>\n",
       "      <td>0</td>\n",
       "      <td>Motel One</td>\n",
       "      <td>Data Attack,Undetermined</td>\n",
       "      <td>Financial</td>\n",
       "      <td>https://securityaffairs.com/151732/cyber-crime...</td>\n",
       "      <td>DEU</td>\n",
       "      <td>Accommodation and Food Services</td>\n",
       "      <td>72.0</td>\n",
       "      <td>inc_cis_13421</td>\n",
       "      <td>2023</td>\n",
       "      <td>9</td>\n",
       "      <td>30</td>\n",
       "    </tr>\n",
       "  </tbody>\n",
       "</table>\n",
       "</div>"
      ],
      "text/plain": [
       "                                                  event_description  \\\n",
       "id                                                                    \n",
       "f5c2ebc02807a6b3  Innovery, an Italian company delivering IT ser...   \n",
       "0b7a20f4161d89b2  The ALPHV/BlackCat ransomware gang adds the ho...   \n",
       "\n",
       "                         actor actor_type  event_type  event_type_Disruptive  \\\n",
       "id                                                                             \n",
       "f5c2ebc02807a6b3  Undetermined   Criminal  Exploitive                      0   \n",
       "0b7a20f4161d89b2         ALPHV   Criminal       Mixed                      1   \n",
       "\n",
       "                  event_type_Exploitive  event_type_Undetermined organization  \\\n",
       "id                                                                              \n",
       "f5c2ebc02807a6b3                      1                        0     Innovery   \n",
       "0b7a20f4161d89b2                      1                        0    Motel One   \n",
       "\n",
       "                                       event_subtype     motive  \\\n",
       "id                                                                \n",
       "f5c2ebc02807a6b3  Exploitation of Application Server  Financial   \n",
       "0b7a20f4161d89b2            Data Attack,Undetermined  Financial   \n",
       "\n",
       "                                                       event_source country  \\\n",
       "id                                                                            \n",
       "f5c2ebc02807a6b3  https://www.redhotcyber.com/post/attacco-infor...     ITA   \n",
       "0b7a20f4161d89b2  https://securityaffairs.com/151732/cyber-crime...     DEU   \n",
       "\n",
       "                                                          industry  \\\n",
       "id                                                                   \n",
       "f5c2ebc02807a6b3  Professional, Scientific, and Technical Services   \n",
       "0b7a20f4161d89b2                   Accommodation and Food Services   \n",
       "\n",
       "                  industry_code         dnx_id  year  month  day  \n",
       "id                                                                \n",
       "f5c2ebc02807a6b3           54.0  inc_cis_13422  2023      9   30  \n",
       "0b7a20f4161d89b2           72.0  inc_cis_13421  2023      9   30  "
      ]
     },
     "execution_count": 36,
     "metadata": {},
     "output_type": "execute_result"
    }
   ],
   "source": [
    "df.head(2)"
   ]
  },
  {
   "cell_type": "markdown",
   "metadata": {},
   "source": [
    "##### **Motive**"
   ]
  },
  {
   "cell_type": "code",
   "execution_count": 37,
   "metadata": {},
   "outputs": [
    {
     "data": {
      "text/plain": [
       "array(['Financial', 'Protest', 'Undetermined', 'Political-Espionage',\n",
       "       'Sabotage', 'Espionage', 'Espionage-Political', 'Sabatoge',\n",
       "       'Personal Attack', 'Protest,Financial', 'Industrial-Espionage'],\n",
       "      dtype=object)"
      ]
     },
     "execution_count": 37,
     "metadata": {},
     "output_type": "execute_result"
    }
   ],
   "source": [
    "df['motive'].unique()"
   ]
  },
  {
   "cell_type": "markdown",
   "metadata": {},
   "source": [
    "Debemos de arreglar fallos de escritura primero. En nuestro conjunto de datos, encontramos entradas como **Sabatoge**, que son errores de escritura y deben corregirse a **Sabotage**. Estas correcciones aseguran que todos los datos sean consistentes y que no haya duplicados causados por errores de escritura."
   ]
  },
  {
   "cell_type": "code",
   "execution_count": 38,
   "metadata": {},
   "outputs": [],
   "source": [
    "df['motive'] = df['motive'].str.replace('Espionage-Political', 'Political-Espionage')\n",
    "df['motive'] = df['motive'].str.replace('Sabatoge', 'Sabotage')"
   ]
  },
  {
   "cell_type": "markdown",
   "metadata": {},
   "source": [
    "Es importante agrupar categorías que representan la misma amenaza. Por ejemplo, las categorías **Industrial-Espionage** y **Political-Espionage** pueden ser agrupadas bajo una sola categoría: **Espionage**. Esta agrupación ayuda a simplificar el análisis, permitiendo que se obtengan conclusiones más claras y significativas."
   ]
  },
  {
   "cell_type": "code",
   "execution_count": 39,
   "metadata": {},
   "outputs": [],
   "source": [
    "motive_mapping = {\n",
    "    'Political-Espionage': 'Espionage',\n",
    "    'Industrial-Espionage': 'Espionage',\n",
    "}\n",
    "\n",
    "# Aplicamos la agrupación\n",
    "df['motive'] = df['motive'].replace(motive_mapping)"
   ]
  },
  {
   "cell_type": "code",
   "execution_count": 40,
   "metadata": {},
   "outputs": [
    {
     "data": {
      "text/plain": [
       "array(['Financial', 'Protest', 'Undetermined', 'Espionage', 'Sabotage',\n",
       "       'Personal Attack', 'Protest,Financial'], dtype=object)"
      ]
     },
     "execution_count": 40,
     "metadata": {},
     "output_type": "execute_result"
    }
   ],
   "source": [
    "df['motive'].unique()"
   ]
  },
  {
   "cell_type": "markdown",
   "metadata": {},
   "source": [
    "En el proceso de limpieza de datos, es posible que se detecten casos donde una fila contenga múltiples categorías que deberían ser exclusivas. En nuestro conjunto de datos, hemos encontrado un caso donde una entrada presenta simultáneamente las categorías **Protest** y **Financial**. Sin embargo, dado que esta situación ocurre solo en una fila de aproximadamente 13000 registros, podemos prescindir de este caso sin afectar significativamente el análisis general."
   ]
  },
  {
   "cell_type": "code",
   "execution_count": 41,
   "metadata": {},
   "outputs": [],
   "source": [
    "df.drop(df[df['motive'] == 'Protest,Financial'].index, inplace=True) # solo es una fila, por no hacer get_dummies."
   ]
  },
  {
   "cell_type": "code",
   "execution_count": 42,
   "metadata": {},
   "outputs": [
    {
     "data": {
      "text/plain": [
       "array(['Financial', 'Protest', 'Undetermined', 'Espionage', 'Sabotage',\n",
       "       'Personal Attack'], dtype=object)"
      ]
     },
     "execution_count": 42,
     "metadata": {},
     "output_type": "execute_result"
    }
   ],
   "source": [
    "df['motive'].unique()"
   ]
  },
  {
   "cell_type": "code",
   "execution_count": 43,
   "metadata": {},
   "outputs": [
    {
     "data": {
      "text/html": [
       "<div>\n",
       "<style scoped>\n",
       "    .dataframe tbody tr th:only-of-type {\n",
       "        vertical-align: middle;\n",
       "    }\n",
       "\n",
       "    .dataframe tbody tr th {\n",
       "        vertical-align: top;\n",
       "    }\n",
       "\n",
       "    .dataframe thead th {\n",
       "        text-align: right;\n",
       "    }\n",
       "</style>\n",
       "<table border=\"1\" class=\"dataframe\">\n",
       "  <thead>\n",
       "    <tr style=\"text-align: right;\">\n",
       "      <th></th>\n",
       "      <th>event_description</th>\n",
       "      <th>actor</th>\n",
       "      <th>actor_type</th>\n",
       "      <th>event_type</th>\n",
       "      <th>event_type_Disruptive</th>\n",
       "      <th>event_type_Exploitive</th>\n",
       "      <th>event_type_Undetermined</th>\n",
       "      <th>organization</th>\n",
       "      <th>event_subtype</th>\n",
       "      <th>motive</th>\n",
       "      <th>motive_code</th>\n",
       "      <th>event_source</th>\n",
       "      <th>country</th>\n",
       "      <th>industry</th>\n",
       "      <th>industry_code</th>\n",
       "      <th>dnx_id</th>\n",
       "      <th>year</th>\n",
       "      <th>month</th>\n",
       "      <th>day</th>\n",
       "    </tr>\n",
       "    <tr>\n",
       "      <th>id</th>\n",
       "      <th></th>\n",
       "      <th></th>\n",
       "      <th></th>\n",
       "      <th></th>\n",
       "      <th></th>\n",
       "      <th></th>\n",
       "      <th></th>\n",
       "      <th></th>\n",
       "      <th></th>\n",
       "      <th></th>\n",
       "      <th></th>\n",
       "      <th></th>\n",
       "      <th></th>\n",
       "      <th></th>\n",
       "      <th></th>\n",
       "      <th></th>\n",
       "      <th></th>\n",
       "      <th></th>\n",
       "      <th></th>\n",
       "    </tr>\n",
       "  </thead>\n",
       "  <tbody>\n",
       "    <tr>\n",
       "      <th>f5c2ebc02807a6b3</th>\n",
       "      <td>Innovery, an Italian company delivering IT ser...</td>\n",
       "      <td>Undetermined</td>\n",
       "      <td>Criminal</td>\n",
       "      <td>Exploitive</td>\n",
       "      <td>0</td>\n",
       "      <td>1</td>\n",
       "      <td>0</td>\n",
       "      <td>Innovery</td>\n",
       "      <td>Exploitation of Application Server</td>\n",
       "      <td>Financial</td>\n",
       "      <td>1.0</td>\n",
       "      <td>https://www.redhotcyber.com/post/attacco-infor...</td>\n",
       "      <td>ITA</td>\n",
       "      <td>Professional, Scientific, and Technical Services</td>\n",
       "      <td>54.0</td>\n",
       "      <td>inc_cis_13422</td>\n",
       "      <td>2023</td>\n",
       "      <td>9</td>\n",
       "      <td>30</td>\n",
       "    </tr>\n",
       "    <tr>\n",
       "      <th>0b7a20f4161d89b2</th>\n",
       "      <td>The ALPHV/BlackCat ransomware gang adds the ho...</td>\n",
       "      <td>ALPHV</td>\n",
       "      <td>Criminal</td>\n",
       "      <td>Mixed</td>\n",
       "      <td>1</td>\n",
       "      <td>1</td>\n",
       "      <td>0</td>\n",
       "      <td>Motel One</td>\n",
       "      <td>Data Attack,Undetermined</td>\n",
       "      <td>Financial</td>\n",
       "      <td>1.0</td>\n",
       "      <td>https://securityaffairs.com/151732/cyber-crime...</td>\n",
       "      <td>DEU</td>\n",
       "      <td>Accommodation and Food Services</td>\n",
       "      <td>72.0</td>\n",
       "      <td>inc_cis_13421</td>\n",
       "      <td>2023</td>\n",
       "      <td>9</td>\n",
       "      <td>30</td>\n",
       "    </tr>\n",
       "  </tbody>\n",
       "</table>\n",
       "</div>"
      ],
      "text/plain": [
       "                                                  event_description  \\\n",
       "id                                                                    \n",
       "f5c2ebc02807a6b3  Innovery, an Italian company delivering IT ser...   \n",
       "0b7a20f4161d89b2  The ALPHV/BlackCat ransomware gang adds the ho...   \n",
       "\n",
       "                         actor actor_type  event_type  event_type_Disruptive  \\\n",
       "id                                                                             \n",
       "f5c2ebc02807a6b3  Undetermined   Criminal  Exploitive                      0   \n",
       "0b7a20f4161d89b2         ALPHV   Criminal       Mixed                      1   \n",
       "\n",
       "                  event_type_Exploitive  event_type_Undetermined organization  \\\n",
       "id                                                                              \n",
       "f5c2ebc02807a6b3                      1                        0     Innovery   \n",
       "0b7a20f4161d89b2                      1                        0    Motel One   \n",
       "\n",
       "                                       event_subtype     motive  motive_code  \\\n",
       "id                                                                             \n",
       "f5c2ebc02807a6b3  Exploitation of Application Server  Financial          1.0   \n",
       "0b7a20f4161d89b2            Data Attack,Undetermined  Financial          1.0   \n",
       "\n",
       "                                                       event_source country  \\\n",
       "id                                                                            \n",
       "f5c2ebc02807a6b3  https://www.redhotcyber.com/post/attacco-infor...     ITA   \n",
       "0b7a20f4161d89b2  https://securityaffairs.com/151732/cyber-crime...     DEU   \n",
       "\n",
       "                                                          industry  \\\n",
       "id                                                                   \n",
       "f5c2ebc02807a6b3  Professional, Scientific, and Technical Services   \n",
       "0b7a20f4161d89b2                   Accommodation and Food Services   \n",
       "\n",
       "                  industry_code         dnx_id  year  month  day  \n",
       "id                                                                \n",
       "f5c2ebc02807a6b3           54.0  inc_cis_13422  2023      9   30  \n",
       "0b7a20f4161d89b2           72.0  inc_cis_13421  2023      9   30  "
      ]
     },
     "execution_count": 43,
     "metadata": {},
     "output_type": "execute_result"
    }
   ],
   "source": [
    "encoder = OrdinalEncoder()\n",
    "df.insert(df.columns.get_loc('motive') + 1, 'motive_code', encoder.fit_transform(df[['motive']]))\n",
    "df.head(2)"
   ]
  },
  {
   "cell_type": "markdown",
   "metadata": {},
   "source": [
    "##### **Actor Type.**\n",
    "Debemos examinar cuidadosamente esta columna para determinar si es posible realizar la codificación ordinal. Como se observa, hay un valor que aparece como `Undeterminated` y otro valor de `Criminal` que está mal escrito en una de las entradas."
   ]
  },
  {
   "cell_type": "code",
   "execution_count": 44,
   "metadata": {},
   "outputs": [
    {
     "data": {
      "text/plain": [
       "array(['Criminal', 'Hacktivist', 'Nation-State', 'Undetermined',\n",
       "       'Hobbyist', 'Crimimal', 'Terrorist'], dtype=object)"
      ]
     },
     "execution_count": 44,
     "metadata": {},
     "output_type": "execute_result"
    }
   ],
   "source": [
    "df['actor_type'] = df['actor_type'].str.replace('Criminal', 'Criminal', regex=True)\n",
    "df['actor_type'].unique()"
   ]
  },
  {
   "cell_type": "code",
   "execution_count": 45,
   "metadata": {},
   "outputs": [],
   "source": [
    "df['actor_type'] = df['actor_type'].str.replace('Crimimal', 'Criminal', regex=True)"
   ]
  },
  {
   "cell_type": "code",
   "execution_count": 46,
   "metadata": {},
   "outputs": [
    {
     "data": {
      "text/plain": [
       "array(['Criminal', 'Hacktivist', 'Nation-State', 'Undetermined',\n",
       "       'Hobbyist', 'Terrorist'], dtype=object)"
      ]
     },
     "execution_count": 46,
     "metadata": {},
     "output_type": "execute_result"
    }
   ],
   "source": [
    "df['actor_type'].unique()"
   ]
  },
  {
   "cell_type": "code",
   "execution_count": 47,
   "metadata": {},
   "outputs": [],
   "source": [
    "mapping_actors = {'Criminal': ['Criminal', 'Nation-State', 'Terrorist'],\n",
    "           'Hacktivist': ['Hacktivist', 'Hobbyist', 'Undetermined']}"
   ]
  },
  {
   "cell_type": "code",
   "execution_count": 48,
   "metadata": {},
   "outputs": [],
   "source": [
    "def map_actors(title):\n",
    "    for category, titles in mapping_actors.items():\n",
    "        if title in titles:\n",
    "            return category\n",
    "    return None"
   ]
  },
  {
   "cell_type": "code",
   "execution_count": 49,
   "metadata": {},
   "outputs": [],
   "source": [
    "df['actor_type'] = df['actor_type'].apply(map_actors)"
   ]
  },
  {
   "cell_type": "code",
   "execution_count": 50,
   "metadata": {},
   "outputs": [],
   "source": [
    "encoder = OrdinalEncoder()\n",
    "df['actor_type_code'] = encoder.fit_transform(df[['actor_type']])"
   ]
  },
  {
   "cell_type": "markdown",
   "metadata": {},
   "source": [
    "El siguiente código se ha agregado para lograr que las columnas codificadas se agreguen justo después de la columna original, de manera que sea más fácil ver a qué se le ha asignado el valor codificado."
   ]
  },
  {
   "cell_type": "code",
   "execution_count": 51,
   "metadata": {},
   "outputs": [],
   "source": [
    "columns = df.columns.tolist()\n",
    "index = columns.index('actor_type')\n",
    "columns.insert(index + 1, columns.pop())\n",
    "df = df[columns]"
   ]
  },
  {
   "cell_type": "code",
   "execution_count": 52,
   "metadata": {},
   "outputs": [
    {
     "data": {
      "text/html": [
       "<div>\n",
       "<style scoped>\n",
       "    .dataframe tbody tr th:only-of-type {\n",
       "        vertical-align: middle;\n",
       "    }\n",
       "\n",
       "    .dataframe tbody tr th {\n",
       "        vertical-align: top;\n",
       "    }\n",
       "\n",
       "    .dataframe thead th {\n",
       "        text-align: right;\n",
       "    }\n",
       "</style>\n",
       "<table border=\"1\" class=\"dataframe\">\n",
       "  <thead>\n",
       "    <tr style=\"text-align: right;\">\n",
       "      <th></th>\n",
       "      <th>event_description</th>\n",
       "      <th>actor</th>\n",
       "      <th>actor_type</th>\n",
       "      <th>actor_type_code</th>\n",
       "      <th>event_type</th>\n",
       "      <th>event_type_Disruptive</th>\n",
       "      <th>event_type_Exploitive</th>\n",
       "      <th>event_type_Undetermined</th>\n",
       "      <th>organization</th>\n",
       "      <th>event_subtype</th>\n",
       "      <th>motive</th>\n",
       "      <th>motive_code</th>\n",
       "      <th>event_source</th>\n",
       "      <th>country</th>\n",
       "      <th>industry</th>\n",
       "      <th>industry_code</th>\n",
       "      <th>dnx_id</th>\n",
       "      <th>year</th>\n",
       "      <th>month</th>\n",
       "      <th>day</th>\n",
       "    </tr>\n",
       "    <tr>\n",
       "      <th>id</th>\n",
       "      <th></th>\n",
       "      <th></th>\n",
       "      <th></th>\n",
       "      <th></th>\n",
       "      <th></th>\n",
       "      <th></th>\n",
       "      <th></th>\n",
       "      <th></th>\n",
       "      <th></th>\n",
       "      <th></th>\n",
       "      <th></th>\n",
       "      <th></th>\n",
       "      <th></th>\n",
       "      <th></th>\n",
       "      <th></th>\n",
       "      <th></th>\n",
       "      <th></th>\n",
       "      <th></th>\n",
       "      <th></th>\n",
       "      <th></th>\n",
       "    </tr>\n",
       "  </thead>\n",
       "  <tbody>\n",
       "    <tr>\n",
       "      <th>f5c2ebc02807a6b3</th>\n",
       "      <td>Innovery, an Italian company delivering IT ser...</td>\n",
       "      <td>Undetermined</td>\n",
       "      <td>Criminal</td>\n",
       "      <td>0.0</td>\n",
       "      <td>Exploitive</td>\n",
       "      <td>0</td>\n",
       "      <td>1</td>\n",
       "      <td>0</td>\n",
       "      <td>Innovery</td>\n",
       "      <td>Exploitation of Application Server</td>\n",
       "      <td>Financial</td>\n",
       "      <td>1.0</td>\n",
       "      <td>https://www.redhotcyber.com/post/attacco-infor...</td>\n",
       "      <td>ITA</td>\n",
       "      <td>Professional, Scientific, and Technical Services</td>\n",
       "      <td>54.0</td>\n",
       "      <td>inc_cis_13422</td>\n",
       "      <td>2023</td>\n",
       "      <td>9</td>\n",
       "      <td>30</td>\n",
       "    </tr>\n",
       "    <tr>\n",
       "      <th>0b7a20f4161d89b2</th>\n",
       "      <td>The ALPHV/BlackCat ransomware gang adds the ho...</td>\n",
       "      <td>ALPHV</td>\n",
       "      <td>Criminal</td>\n",
       "      <td>0.0</td>\n",
       "      <td>Mixed</td>\n",
       "      <td>1</td>\n",
       "      <td>1</td>\n",
       "      <td>0</td>\n",
       "      <td>Motel One</td>\n",
       "      <td>Data Attack,Undetermined</td>\n",
       "      <td>Financial</td>\n",
       "      <td>1.0</td>\n",
       "      <td>https://securityaffairs.com/151732/cyber-crime...</td>\n",
       "      <td>DEU</td>\n",
       "      <td>Accommodation and Food Services</td>\n",
       "      <td>72.0</td>\n",
       "      <td>inc_cis_13421</td>\n",
       "      <td>2023</td>\n",
       "      <td>9</td>\n",
       "      <td>30</td>\n",
       "    </tr>\n",
       "    <tr>\n",
       "      <th>2e37d07ef6ef3cb6</th>\n",
       "      <td>The pro-Russian collective NoName057(16) takes...</td>\n",
       "      <td>NoName057(16)</td>\n",
       "      <td>Hacktivist</td>\n",
       "      <td>1.0</td>\n",
       "      <td>Disruptive</td>\n",
       "      <td>1</td>\n",
       "      <td>0</td>\n",
       "      <td>0</td>\n",
       "      <td>Multiple organizations in Italy</td>\n",
       "      <td>External Denial of Service</td>\n",
       "      <td>Protest</td>\n",
       "      <td>3.0</td>\n",
       "      <td>https://www.redhotcyber.com/post/si-ricomincia...</td>\n",
       "      <td>ITA</td>\n",
       "      <td>Public Administration</td>\n",
       "      <td>92.0</td>\n",
       "      <td>inc_cis_13420</td>\n",
       "      <td>2023</td>\n",
       "      <td>9</td>\n",
       "      <td>29</td>\n",
       "    </tr>\n",
       "  </tbody>\n",
       "</table>\n",
       "</div>"
      ],
      "text/plain": [
       "                                                  event_description  \\\n",
       "id                                                                    \n",
       "f5c2ebc02807a6b3  Innovery, an Italian company delivering IT ser...   \n",
       "0b7a20f4161d89b2  The ALPHV/BlackCat ransomware gang adds the ho...   \n",
       "2e37d07ef6ef3cb6  The pro-Russian collective NoName057(16) takes...   \n",
       "\n",
       "                          actor  actor_type  actor_type_code  event_type  \\\n",
       "id                                                                         \n",
       "f5c2ebc02807a6b3   Undetermined    Criminal              0.0  Exploitive   \n",
       "0b7a20f4161d89b2          ALPHV    Criminal              0.0       Mixed   \n",
       "2e37d07ef6ef3cb6  NoName057(16)  Hacktivist              1.0  Disruptive   \n",
       "\n",
       "                  event_type_Disruptive  event_type_Exploitive  \\\n",
       "id                                                               \n",
       "f5c2ebc02807a6b3                      0                      1   \n",
       "0b7a20f4161d89b2                      1                      1   \n",
       "2e37d07ef6ef3cb6                      1                      0   \n",
       "\n",
       "                  event_type_Undetermined                     organization  \\\n",
       "id                                                                           \n",
       "f5c2ebc02807a6b3                        0                         Innovery   \n",
       "0b7a20f4161d89b2                        0                        Motel One   \n",
       "2e37d07ef6ef3cb6                        0  Multiple organizations in Italy   \n",
       "\n",
       "                                       event_subtype     motive  motive_code  \\\n",
       "id                                                                             \n",
       "f5c2ebc02807a6b3  Exploitation of Application Server  Financial          1.0   \n",
       "0b7a20f4161d89b2            Data Attack,Undetermined  Financial          1.0   \n",
       "2e37d07ef6ef3cb6          External Denial of Service    Protest          3.0   \n",
       "\n",
       "                                                       event_source country  \\\n",
       "id                                                                            \n",
       "f5c2ebc02807a6b3  https://www.redhotcyber.com/post/attacco-infor...     ITA   \n",
       "0b7a20f4161d89b2  https://securityaffairs.com/151732/cyber-crime...     DEU   \n",
       "2e37d07ef6ef3cb6  https://www.redhotcyber.com/post/si-ricomincia...     ITA   \n",
       "\n",
       "                                                          industry  \\\n",
       "id                                                                   \n",
       "f5c2ebc02807a6b3  Professional, Scientific, and Technical Services   \n",
       "0b7a20f4161d89b2                   Accommodation and Food Services   \n",
       "2e37d07ef6ef3cb6                             Public Administration   \n",
       "\n",
       "                  industry_code         dnx_id  year  month  day  \n",
       "id                                                                \n",
       "f5c2ebc02807a6b3           54.0  inc_cis_13422  2023      9   30  \n",
       "0b7a20f4161d89b2           72.0  inc_cis_13421  2023      9   30  \n",
       "2e37d07ef6ef3cb6           92.0  inc_cis_13420  2023      9   29  "
      ]
     },
     "execution_count": 52,
     "metadata": {},
     "output_type": "execute_result"
    }
   ],
   "source": [
    "df.head(3)"
   ]
  },
  {
   "cell_type": "markdown",
   "metadata": {},
   "source": [
    "#### Tratamiento de variables continuas.\n",
    "Para el modelo de clasificación debemos de pasar todas las columnas a tipo `int`. Por ello, debemos de ver si realizar como en el caso anterior una codificación ordinal o agruparlos."
   ]
  },
  {
   "cell_type": "code",
   "execution_count": 53,
   "metadata": {},
   "outputs": [
    {
     "data": {
      "text/html": [
       "<div>\n",
       "<style scoped>\n",
       "    .dataframe tbody tr th:only-of-type {\n",
       "        vertical-align: middle;\n",
       "    }\n",
       "\n",
       "    .dataframe tbody tr th {\n",
       "        vertical-align: top;\n",
       "    }\n",
       "\n",
       "    .dataframe thead th {\n",
       "        text-align: right;\n",
       "    }\n",
       "</style>\n",
       "<table border=\"1\" class=\"dataframe\">\n",
       "  <thead>\n",
       "    <tr style=\"text-align: right;\">\n",
       "      <th></th>\n",
       "      <th>event_description</th>\n",
       "      <th>actor</th>\n",
       "      <th>organization</th>\n",
       "      <th>event_subtype</th>\n",
       "      <th>event_source</th>\n",
       "      <th>country</th>\n",
       "      <th>industry_code</th>\n",
       "      <th>dnx_id</th>\n",
       "      <th>year</th>\n",
       "      <th>month</th>\n",
       "      <th>day</th>\n",
       "    </tr>\n",
       "    <tr>\n",
       "      <th>id</th>\n",
       "      <th></th>\n",
       "      <th></th>\n",
       "      <th></th>\n",
       "      <th></th>\n",
       "      <th></th>\n",
       "      <th></th>\n",
       "      <th></th>\n",
       "      <th></th>\n",
       "      <th></th>\n",
       "      <th></th>\n",
       "      <th></th>\n",
       "    </tr>\n",
       "  </thead>\n",
       "  <tbody>\n",
       "    <tr>\n",
       "      <th>f5c2ebc02807a6b3</th>\n",
       "      <td>Innovery, an Italian company delivering IT ser...</td>\n",
       "      <td>Undetermined</td>\n",
       "      <td>Innovery</td>\n",
       "      <td>Exploitation of Application Server</td>\n",
       "      <td>https://www.redhotcyber.com/post/attacco-infor...</td>\n",
       "      <td>ITA</td>\n",
       "      <td>54.0</td>\n",
       "      <td>inc_cis_13422</td>\n",
       "      <td>2023</td>\n",
       "      <td>9</td>\n",
       "      <td>30</td>\n",
       "    </tr>\n",
       "    <tr>\n",
       "      <th>0b7a20f4161d89b2</th>\n",
       "      <td>The ALPHV/BlackCat ransomware gang adds the ho...</td>\n",
       "      <td>ALPHV</td>\n",
       "      <td>Motel One</td>\n",
       "      <td>Data Attack,Undetermined</td>\n",
       "      <td>https://securityaffairs.com/151732/cyber-crime...</td>\n",
       "      <td>DEU</td>\n",
       "      <td>72.0</td>\n",
       "      <td>inc_cis_13421</td>\n",
       "      <td>2023</td>\n",
       "      <td>9</td>\n",
       "      <td>30</td>\n",
       "    </tr>\n",
       "  </tbody>\n",
       "</table>\n",
       "</div>"
      ],
      "text/plain": [
       "                                                  event_description  \\\n",
       "id                                                                    \n",
       "f5c2ebc02807a6b3  Innovery, an Italian company delivering IT ser...   \n",
       "0b7a20f4161d89b2  The ALPHV/BlackCat ransomware gang adds the ho...   \n",
       "\n",
       "                         actor organization  \\\n",
       "id                                            \n",
       "f5c2ebc02807a6b3  Undetermined     Innovery   \n",
       "0b7a20f4161d89b2         ALPHV    Motel One   \n",
       "\n",
       "                                       event_subtype  \\\n",
       "id                                                     \n",
       "f5c2ebc02807a6b3  Exploitation of Application Server   \n",
       "0b7a20f4161d89b2            Data Attack,Undetermined   \n",
       "\n",
       "                                                       event_source country  \\\n",
       "id                                                                            \n",
       "f5c2ebc02807a6b3  https://www.redhotcyber.com/post/attacco-infor...     ITA   \n",
       "0b7a20f4161d89b2  https://securityaffairs.com/151732/cyber-crime...     DEU   \n",
       "\n",
       "                  industry_code         dnx_id  year  month  day  \n",
       "id                                                                \n",
       "f5c2ebc02807a6b3           54.0  inc_cis_13422  2023      9   30  \n",
       "0b7a20f4161d89b2           72.0  inc_cis_13421  2023      9   30  "
      ]
     },
     "execution_count": 53,
     "metadata": {},
     "output_type": "execute_result"
    }
   ],
   "source": [
    "df[v_continuas].head(2)"
   ]
  },
  {
   "cell_type": "code",
   "execution_count": 54,
   "metadata": {},
   "outputs": [],
   "source": [
    "v_categoricas_cont = list(df[v_continuas].dtypes[df[v_continuas].dtypes == 'object'].index)\n",
    "v_categoricas_cont.remove('dnx_id')"
   ]
  },
  {
   "cell_type": "code",
   "execution_count": 55,
   "metadata": {},
   "outputs": [
    {
     "data": {
      "text/plain": [
       "event_description    11591\n",
       "actor                 1161\n",
       "organization         12150\n",
       "event_subtype           93\n",
       "event_source         10687\n",
       "country                163\n",
       "dtype: int64"
      ]
     },
     "execution_count": 55,
     "metadata": {},
     "output_type": "execute_result"
    }
   ],
   "source": [
    "df[v_categoricas_cont].nunique()"
   ]
  },
  {
   "cell_type": "markdown",
   "metadata": {},
   "source": [
    "##### **Event Subtype.**"
   ]
  },
  {
   "cell_type": "code",
   "execution_count": 56,
   "metadata": {},
   "outputs": [
    {
     "data": {
      "text/plain": [
       "array(['Exploitation of Application Server', 'Data Attack,Undetermined',\n",
       "       'External Denial of Service', 'Undetermined',\n",
       "       'Exploitation of Application Server,Data Attack',\n",
       "       'Exploitation of End User', 'Exploitation of Infrastructure',\n",
       "       'Message Manipulation', 'Data Attack,Exploitation of End User',\n",
       "       'Exploitation of End Host'], dtype=object)"
      ]
     },
     "execution_count": 56,
     "metadata": {},
     "output_type": "execute_result"
    }
   ],
   "source": [
    "df['event_subtype'].unique()[:10]"
   ]
  },
  {
   "cell_type": "markdown",
   "metadata": {},
   "source": [
    "**Corrección de escritura.**"
   ]
  },
  {
   "cell_type": "code",
   "execution_count": 57,
   "metadata": {},
   "outputs": [],
   "source": [
    "df['event_subtype'] = df['event_subtype'].str.replace('Exploittation of Application Server', 'Exploitation of Application Server')"
   ]
  },
  {
   "cell_type": "markdown",
   "metadata": {},
   "source": [
    "##### **Country.**\n",
    "Para realizar una evaluación más efectiva de los países en nuestros datos, es conveniente agruparlos por continentes. Esto es especialmente relevante porque en otros archivos CSV hay registros de ataques provenientes de diferentes países, distribuidos en distintos continentes.\n",
    "\n",
    "Para facilitar este análisis, procederemos a crear seis nuevas columnas en nuestro conjunto de datos, cada una representando un continente específico. Estas columnas indicarán con un valor de 1 si el país pertenece al continente correspondiente y 0 si no es así, es decir, mediante una asignación de valores binarios."
   ]
  },
  {
   "cell_type": "code",
   "execution_count": 58,
   "metadata": {},
   "outputs": [
    {
     "data": {
      "text/plain": [
       "array(['ITA', 'DEU', 'USA', 'RUS', 'CAN', 'GBR', 'FRA', 'JPN', 'UKR',\n",
       "       'PHL', 'HKG', 'SGP', 'BMU', 'NZL', 'CHN', '999', 'ISR', 'BRA',\n",
       "       'KWT', 'THA', 'IND', 'COL', 'LKA', 'ESP', 'AUS', 'NLD', 'TUR',\n",
       "       'TWN', 'MEX', 'MAR', 'CZE', 'KOR', 'IRN', 'POL', 'BEL', 'DNK',\n",
       "       'ZAF', 'CHE', 'SRB', 'SLV', 'LTU', 'ECU', 'ARG', 'IDN', 'VNM',\n",
       "       'PRT', 'PAK', 'NGA', 'KEN', 'NOR', 'EGY', 'MYS', 'IRL', 'SWE',\n",
       "       'FIN', 'MLT', 'BLR', 'TTO', 'MLI', 'JAM', 'EST', 'GRC', 'CHL',\n",
       "       'CYM', 'HRV', 'SYC', 'VEN', 'GTM', 'CYP', 'PAN', 'CRI', 'VCT',\n",
       "       'PRI', 'PER', 'DOM', 'BHR', 'TON', 'URY', 'SVK', 'LVA', 'CUB',\n",
       "       'MDA', 'ARE', 'AUT', 'BRB', 'ROU', 'VAT', 'MDV', 'GLP', 'BES',\n",
       "       'TGO', 'SAU', 'VUT', 'BGR', 'HUN', 'BHS', 'MMR', 'PRY', 'KAZ',\n",
       "       'GHA', 'BIH', 'ALB', 'MNE', 'BOL', 'ASM', 'KIR', 'LUX', 'BGD',\n",
       "       'GRL', 'ZMB', 'JOR', 'NRU', 'GIB', 'GUF', 'LBN', 'QAT', 'SVN',\n",
       "       'PRK', 'AND', 'AGO', 'PNG', 'AFG', 'GEO', 'FJI', 'OMN', 'MNG',\n",
       "       'NPL', 'CPV', 'UGA', 'MKD', 'DZA', 'ARM', 'RWA', 'IRQ', 'SLE',\n",
       "       'KHM', 'ETH', 'IMN', 'UZB', 'TKM', 'LIE', 'YEM', 'ZWE', 'GAB',\n",
       "       'ATA', 'SYR', 'MCO', 'LBY', 'MWI', 'AZE', 'TUN', 'TZA', 'SEN',\n",
       "       'ISL', 'LAO', 'NAM', 'GUM', 'PLW', 'TJK', 'PSE', 'LSO', 'NIC',\n",
       "       'SDN'], dtype=object)"
      ]
     },
     "execution_count": 58,
     "metadata": {},
     "output_type": "execute_result"
    }
   ],
   "source": [
    "df['country'].unique()"
   ]
  },
  {
   "cell_type": "code",
   "execution_count": 59,
   "metadata": {},
   "outputs": [],
   "source": [
    "continent_mapping = {\n",
    "    'Europe': ['ITA', 'DEU', 'GBR', 'FRA', 'UKR', 'ESP', 'NLD', 'POL', 'BEL', 'DNK',\n",
    "               'CHE', 'SRB', 'LTU', 'MLT', 'GRC', 'CZE', 'HRV', 'HUN', 'AUT', 'SVK',\n",
    "               'BLR', 'BGR', 'GIB', 'MDA', 'PRT', 'SVN', 'AND', 'LVA', 'CUB', 'KIR', \n",
    "               'RUS', 'NOR', 'SWE', 'FIN', 'EST', 'IRL', 'CYP', 'TUR', 'ROU', 'VAT',\n",
    "                'MDV', 'BIH', 'ALB', 'MNE', 'LUX', 'ARM', 'IMN', 'LIE', 'MCO', 'AZE',\n",
    "                'ISL', 'MKD'],\n",
    "    'North America': ['USA', 'CAN', 'BMU', 'MEX', 'NIC', 'CRI', 'SLV', 'GTM', \n",
    "                      'PRI', 'TTO', 'JAM', 'BHS', 'BLZ', 'CYM', 'BRB', 'GLP',\n",
    "                      'GRL'],\n",
    "    'South America': ['BRA', 'ARG', 'COL', 'PER', 'VEN', 'CHL', 'URY', 'PAR', \n",
    "                      'BOL', 'ECU', 'PAN', 'VCT', 'DOM', 'BES', 'PRY', 'GUF',],\n",
    "    'Asia': ['JPN', 'CHN', 'KWT', 'THA', 'IND', 'PHL', 'HKG', 'SGP', 'IDN', \n",
    "             'VNM', 'IRN', 'KOR', 'PAK', 'ISR', 'TWN', 'BGD', 'AFG', 'KHM', \n",
    "             'LAO', 'OMN', 'QAT', 'JOR', 'IRQ', 'MNG', 'UZB', 'TKM', 'YEM', \n",
    "             'MDA', 'GEO', 'FJI', 'LKA', 'TJK', 'MYS', 'BHR', 'ARE', 'SAU',\n",
    "              'MMR', 'KAZ', 'LBN', 'PRK', 'NPL', 'SYR', 'LBY', 'PSE'],\n",
    "    'Africa': ['ZAF', 'EGY', 'KEN', 'NGA', 'GHA', 'ETH', 'ZMB', 'UGA', \n",
    "               'DZA', 'TGO', 'MAR', 'SDN', 'SLE', 'RWA', 'AGO', 'MLI', \n",
    "               'TUN', 'ZWE', 'NAM', 'LSO', 'MZW', 'SYC', 'CPV', 'GAB',\n",
    "               'MWI', 'TZA', 'SEN'],\n",
    "    'Australia': ['NZL', 'AUS', 'TON', 'PNG', 'NRU', 'FJI', 'PLW', 'KIR', 'VUT', 'ASM', 'GUM']\n",
    "}"
   ]
  },
  {
   "cell_type": "code",
   "execution_count": 60,
   "metadata": {},
   "outputs": [],
   "source": [
    "def assign_continent(country):\n",
    "    for continent, countries in continent_mapping.items():\n",
    "        if country in countries:\n",
    "            return continent\n",
    "    return None  # Si el país no está en la lista, retornar None"
   ]
  },
  {
   "cell_type": "code",
   "execution_count": 61,
   "metadata": {},
   "outputs": [
    {
     "data": {
      "text/plain": [
       "163"
      ]
     },
     "execution_count": 61,
     "metadata": {},
     "output_type": "execute_result"
    }
   ],
   "source": [
    "df['country'].nunique()"
   ]
  },
  {
   "cell_type": "code",
   "execution_count": 62,
   "metadata": {},
   "outputs": [],
   "source": [
    "df['continent'] = df['country'].map(assign_continent)"
   ]
  },
  {
   "cell_type": "code",
   "execution_count": 63,
   "metadata": {},
   "outputs": [
    {
     "data": {
      "text/plain": [
       "array(['Europe', 'North America', 'Asia', 'Australia', None,\n",
       "       'South America', 'Africa'], dtype=object)"
      ]
     },
     "execution_count": 63,
     "metadata": {},
     "output_type": "execute_result"
    }
   ],
   "source": [
    "df['continent'].unique()"
   ]
  },
  {
   "cell_type": "code",
   "execution_count": 64,
   "metadata": {},
   "outputs": [
    {
     "name": "stdout",
     "output_type": "stream",
     "text": [
      "Lista de países con 'continent' como None:\n",
      "['999' 'ATA']\n"
     ]
    }
   ],
   "source": [
    "countries_with_no_continent = df[df['continent'].isnull()]['country'].unique()\n",
    "\n",
    "# Mostrar la lista de países con 'continent' como None\n",
    "print(\"Lista de países con 'continent' como None:\")\n",
    "print(countries_with_no_continent)"
   ]
  },
  {
   "cell_type": "code",
   "execution_count": 65,
   "metadata": {},
   "outputs": [],
   "source": [
    "df.dropna(subset=['continent'], inplace=True)"
   ]
  },
  {
   "cell_type": "code",
   "execution_count": 66,
   "metadata": {},
   "outputs": [],
   "source": [
    "df['continent'] = df['country'].apply(assign_continent)\n",
    "df_continentes = pd.get_dummies(df['continent'])\n",
    "df = pd.concat([df, df_continentes], axis=1)"
   ]
  },
  {
   "cell_type": "code",
   "execution_count": 67,
   "metadata": {},
   "outputs": [],
   "source": [
    "df.drop(['country', 'continent'], axis = 1, inplace = True)"
   ]
  },
  {
   "cell_type": "code",
   "execution_count": 68,
   "metadata": {},
   "outputs": [
    {
     "data": {
      "text/html": [
       "<div>\n",
       "<style scoped>\n",
       "    .dataframe tbody tr th:only-of-type {\n",
       "        vertical-align: middle;\n",
       "    }\n",
       "\n",
       "    .dataframe tbody tr th {\n",
       "        vertical-align: top;\n",
       "    }\n",
       "\n",
       "    .dataframe thead th {\n",
       "        text-align: right;\n",
       "    }\n",
       "</style>\n",
       "<table border=\"1\" class=\"dataframe\">\n",
       "  <thead>\n",
       "    <tr style=\"text-align: right;\">\n",
       "      <th></th>\n",
       "      <th>event_description</th>\n",
       "      <th>actor</th>\n",
       "      <th>actor_type</th>\n",
       "      <th>actor_type_code</th>\n",
       "      <th>event_type</th>\n",
       "      <th>event_type_Disruptive</th>\n",
       "      <th>event_type_Exploitive</th>\n",
       "      <th>event_type_Undetermined</th>\n",
       "      <th>organization</th>\n",
       "      <th>event_subtype</th>\n",
       "      <th>...</th>\n",
       "      <th>dnx_id</th>\n",
       "      <th>year</th>\n",
       "      <th>month</th>\n",
       "      <th>day</th>\n",
       "      <th>Africa</th>\n",
       "      <th>Asia</th>\n",
       "      <th>Australia</th>\n",
       "      <th>Europe</th>\n",
       "      <th>North America</th>\n",
       "      <th>South America</th>\n",
       "    </tr>\n",
       "    <tr>\n",
       "      <th>id</th>\n",
       "      <th></th>\n",
       "      <th></th>\n",
       "      <th></th>\n",
       "      <th></th>\n",
       "      <th></th>\n",
       "      <th></th>\n",
       "      <th></th>\n",
       "      <th></th>\n",
       "      <th></th>\n",
       "      <th></th>\n",
       "      <th></th>\n",
       "      <th></th>\n",
       "      <th></th>\n",
       "      <th></th>\n",
       "      <th></th>\n",
       "      <th></th>\n",
       "      <th></th>\n",
       "      <th></th>\n",
       "      <th></th>\n",
       "      <th></th>\n",
       "      <th></th>\n",
       "    </tr>\n",
       "  </thead>\n",
       "  <tbody>\n",
       "    <tr>\n",
       "      <th>f5c2ebc02807a6b3</th>\n",
       "      <td>Innovery, an Italian company delivering IT ser...</td>\n",
       "      <td>Undetermined</td>\n",
       "      <td>Criminal</td>\n",
       "      <td>0.0</td>\n",
       "      <td>Exploitive</td>\n",
       "      <td>0</td>\n",
       "      <td>1</td>\n",
       "      <td>0</td>\n",
       "      <td>Innovery</td>\n",
       "      <td>Exploitation of Application Server</td>\n",
       "      <td>...</td>\n",
       "      <td>inc_cis_13422</td>\n",
       "      <td>2023</td>\n",
       "      <td>9</td>\n",
       "      <td>30</td>\n",
       "      <td>0</td>\n",
       "      <td>0</td>\n",
       "      <td>0</td>\n",
       "      <td>1</td>\n",
       "      <td>0</td>\n",
       "      <td>0</td>\n",
       "    </tr>\n",
       "    <tr>\n",
       "      <th>0b7a20f4161d89b2</th>\n",
       "      <td>The ALPHV/BlackCat ransomware gang adds the ho...</td>\n",
       "      <td>ALPHV</td>\n",
       "      <td>Criminal</td>\n",
       "      <td>0.0</td>\n",
       "      <td>Mixed</td>\n",
       "      <td>1</td>\n",
       "      <td>1</td>\n",
       "      <td>0</td>\n",
       "      <td>Motel One</td>\n",
       "      <td>Data Attack,Undetermined</td>\n",
       "      <td>...</td>\n",
       "      <td>inc_cis_13421</td>\n",
       "      <td>2023</td>\n",
       "      <td>9</td>\n",
       "      <td>30</td>\n",
       "      <td>0</td>\n",
       "      <td>0</td>\n",
       "      <td>0</td>\n",
       "      <td>1</td>\n",
       "      <td>0</td>\n",
       "      <td>0</td>\n",
       "    </tr>\n",
       "  </tbody>\n",
       "</table>\n",
       "<p>2 rows × 25 columns</p>\n",
       "</div>"
      ],
      "text/plain": [
       "                                                  event_description  \\\n",
       "id                                                                    \n",
       "f5c2ebc02807a6b3  Innovery, an Italian company delivering IT ser...   \n",
       "0b7a20f4161d89b2  The ALPHV/BlackCat ransomware gang adds the ho...   \n",
       "\n",
       "                         actor actor_type  actor_type_code  event_type  \\\n",
       "id                                                                       \n",
       "f5c2ebc02807a6b3  Undetermined   Criminal              0.0  Exploitive   \n",
       "0b7a20f4161d89b2         ALPHV   Criminal              0.0       Mixed   \n",
       "\n",
       "                  event_type_Disruptive  event_type_Exploitive  \\\n",
       "id                                                               \n",
       "f5c2ebc02807a6b3                      0                      1   \n",
       "0b7a20f4161d89b2                      1                      1   \n",
       "\n",
       "                  event_type_Undetermined organization  \\\n",
       "id                                                       \n",
       "f5c2ebc02807a6b3                        0     Innovery   \n",
       "0b7a20f4161d89b2                        0    Motel One   \n",
       "\n",
       "                                       event_subtype  ...         dnx_id  \\\n",
       "id                                                    ...                  \n",
       "f5c2ebc02807a6b3  Exploitation of Application Server  ...  inc_cis_13422   \n",
       "0b7a20f4161d89b2            Data Attack,Undetermined  ...  inc_cis_13421   \n",
       "\n",
       "                  year month day  Africa Asia  Australia  Europe  \\\n",
       "id                                                                 \n",
       "f5c2ebc02807a6b3  2023     9  30       0    0          0       1   \n",
       "0b7a20f4161d89b2  2023     9  30       0    0          0       1   \n",
       "\n",
       "                  North America  South America  \n",
       "id                                              \n",
       "f5c2ebc02807a6b3              0              0  \n",
       "0b7a20f4161d89b2              0              0  \n",
       "\n",
       "[2 rows x 25 columns]"
      ]
     },
     "execution_count": 68,
     "metadata": {},
     "output_type": "execute_result"
    }
   ],
   "source": [
    "df.head(2)"
   ]
  },
  {
   "cell_type": "markdown",
   "metadata": {},
   "source": [
    "##### **Event Source.**\n",
    "Deberemos de extraer el nombre del dominio de la URL."
   ]
  },
  {
   "cell_type": "code",
   "execution_count": 69,
   "metadata": {},
   "outputs": [],
   "source": [
    "df['event_source'] = df['event_source'].apply(lambda x: urlparse(str(x)).netloc)"
   ]
  },
  {
   "cell_type": "code",
   "execution_count": 70,
   "metadata": {},
   "outputs": [
    {
     "data": {
      "text/html": [
       "<div>\n",
       "<style scoped>\n",
       "    .dataframe tbody tr th:only-of-type {\n",
       "        vertical-align: middle;\n",
       "    }\n",
       "\n",
       "    .dataframe tbody tr th {\n",
       "        vertical-align: top;\n",
       "    }\n",
       "\n",
       "    .dataframe thead th {\n",
       "        text-align: right;\n",
       "    }\n",
       "</style>\n",
       "<table border=\"1\" class=\"dataframe\">\n",
       "  <thead>\n",
       "    <tr style=\"text-align: right;\">\n",
       "      <th></th>\n",
       "      <th>event_description</th>\n",
       "      <th>actor</th>\n",
       "      <th>actor_type</th>\n",
       "      <th>actor_type_code</th>\n",
       "      <th>event_type</th>\n",
       "      <th>event_type_Disruptive</th>\n",
       "      <th>event_type_Exploitive</th>\n",
       "      <th>event_type_Undetermined</th>\n",
       "      <th>organization</th>\n",
       "      <th>event_subtype</th>\n",
       "      <th>...</th>\n",
       "      <th>dnx_id</th>\n",
       "      <th>year</th>\n",
       "      <th>month</th>\n",
       "      <th>day</th>\n",
       "      <th>Africa</th>\n",
       "      <th>Asia</th>\n",
       "      <th>Australia</th>\n",
       "      <th>Europe</th>\n",
       "      <th>North America</th>\n",
       "      <th>South America</th>\n",
       "    </tr>\n",
       "    <tr>\n",
       "      <th>id</th>\n",
       "      <th></th>\n",
       "      <th></th>\n",
       "      <th></th>\n",
       "      <th></th>\n",
       "      <th></th>\n",
       "      <th></th>\n",
       "      <th></th>\n",
       "      <th></th>\n",
       "      <th></th>\n",
       "      <th></th>\n",
       "      <th></th>\n",
       "      <th></th>\n",
       "      <th></th>\n",
       "      <th></th>\n",
       "      <th></th>\n",
       "      <th></th>\n",
       "      <th></th>\n",
       "      <th></th>\n",
       "      <th></th>\n",
       "      <th></th>\n",
       "      <th></th>\n",
       "    </tr>\n",
       "  </thead>\n",
       "  <tbody>\n",
       "    <tr>\n",
       "      <th>f5c2ebc02807a6b3</th>\n",
       "      <td>Innovery, an Italian company delivering IT ser...</td>\n",
       "      <td>Undetermined</td>\n",
       "      <td>Criminal</td>\n",
       "      <td>0.0</td>\n",
       "      <td>Exploitive</td>\n",
       "      <td>0</td>\n",
       "      <td>1</td>\n",
       "      <td>0</td>\n",
       "      <td>Innovery</td>\n",
       "      <td>Exploitation of Application Server</td>\n",
       "      <td>...</td>\n",
       "      <td>inc_cis_13422</td>\n",
       "      <td>2023</td>\n",
       "      <td>9</td>\n",
       "      <td>30</td>\n",
       "      <td>0</td>\n",
       "      <td>0</td>\n",
       "      <td>0</td>\n",
       "      <td>1</td>\n",
       "      <td>0</td>\n",
       "      <td>0</td>\n",
       "    </tr>\n",
       "    <tr>\n",
       "      <th>0b7a20f4161d89b2</th>\n",
       "      <td>The ALPHV/BlackCat ransomware gang adds the ho...</td>\n",
       "      <td>ALPHV</td>\n",
       "      <td>Criminal</td>\n",
       "      <td>0.0</td>\n",
       "      <td>Mixed</td>\n",
       "      <td>1</td>\n",
       "      <td>1</td>\n",
       "      <td>0</td>\n",
       "      <td>Motel One</td>\n",
       "      <td>Data Attack,Undetermined</td>\n",
       "      <td>...</td>\n",
       "      <td>inc_cis_13421</td>\n",
       "      <td>2023</td>\n",
       "      <td>9</td>\n",
       "      <td>30</td>\n",
       "      <td>0</td>\n",
       "      <td>0</td>\n",
       "      <td>0</td>\n",
       "      <td>1</td>\n",
       "      <td>0</td>\n",
       "      <td>0</td>\n",
       "    </tr>\n",
       "  </tbody>\n",
       "</table>\n",
       "<p>2 rows × 25 columns</p>\n",
       "</div>"
      ],
      "text/plain": [
       "                                                  event_description  \\\n",
       "id                                                                    \n",
       "f5c2ebc02807a6b3  Innovery, an Italian company delivering IT ser...   \n",
       "0b7a20f4161d89b2  The ALPHV/BlackCat ransomware gang adds the ho...   \n",
       "\n",
       "                         actor actor_type  actor_type_code  event_type  \\\n",
       "id                                                                       \n",
       "f5c2ebc02807a6b3  Undetermined   Criminal              0.0  Exploitive   \n",
       "0b7a20f4161d89b2         ALPHV   Criminal              0.0       Mixed   \n",
       "\n",
       "                  event_type_Disruptive  event_type_Exploitive  \\\n",
       "id                                                               \n",
       "f5c2ebc02807a6b3                      0                      1   \n",
       "0b7a20f4161d89b2                      1                      1   \n",
       "\n",
       "                  event_type_Undetermined organization  \\\n",
       "id                                                       \n",
       "f5c2ebc02807a6b3                        0     Innovery   \n",
       "0b7a20f4161d89b2                        0    Motel One   \n",
       "\n",
       "                                       event_subtype  ...         dnx_id  \\\n",
       "id                                                    ...                  \n",
       "f5c2ebc02807a6b3  Exploitation of Application Server  ...  inc_cis_13422   \n",
       "0b7a20f4161d89b2            Data Attack,Undetermined  ...  inc_cis_13421   \n",
       "\n",
       "                  year month day  Africa Asia  Australia  Europe  \\\n",
       "id                                                                 \n",
       "f5c2ebc02807a6b3  2023     9  30       0    0          0       1   \n",
       "0b7a20f4161d89b2  2023     9  30       0    0          0       1   \n",
       "\n",
       "                  North America  South America  \n",
       "id                                              \n",
       "f5c2ebc02807a6b3              0              0  \n",
       "0b7a20f4161d89b2              0              0  \n",
       "\n",
       "[2 rows x 25 columns]"
      ]
     },
     "execution_count": 70,
     "metadata": {},
     "output_type": "execute_result"
    }
   ],
   "source": [
    "df.head(2)"
   ]
  },
  {
   "cell_type": "code",
   "execution_count": 71,
   "metadata": {},
   "outputs": [],
   "source": [
    "df_cleaned = df.copy()"
   ]
  },
  {
   "cell_type": "code",
   "execution_count": 72,
   "metadata": {},
   "outputs": [],
   "source": [
    "df.to_csv('./data/CISSM_cleaned.csv', index=False)"
   ]
  },
  {
   "cell_type": "markdown",
   "metadata": {},
   "source": [
    "## Modelos de clasificación.\n",
    "En este análisis desarrollaremos modelos de clasificación para identificar patrones y predecir ciberataques. Utilizaremos **Actor Type Code** como variable objetivo, ya que representa diferentes tipos de actores detrás de los ataques. Realizaremos modelos supervisados. Para los modelos supervisados, realizaremos evaluación cruzada para medir su generalización. Y al ser una columna de tipo binaria, se realizará la curva ROC."
   ]
  },
  {
   "cell_type": "code",
   "execution_count": 73,
   "metadata": {},
   "outputs": [],
   "source": [
    "df_1 = df.drop(list(df.select_dtypes(include=['object']).columns), axis = 1)"
   ]
  },
  {
   "cell_type": "code",
   "execution_count": 74,
   "metadata": {},
   "outputs": [
    {
     "data": {
      "text/plain": [
       "actor_type_code            float64\n",
       "event_type_Disruptive        uint8\n",
       "event_type_Exploitive        uint8\n",
       "event_type_Undetermined      uint8\n",
       "motive_code                float64\n",
       "industry_code              float64\n",
       "year                         int64\n",
       "month                        int64\n",
       "day                          int64\n",
       "Africa                       uint8\n",
       "Asia                         uint8\n",
       "Australia                    uint8\n",
       "Europe                       uint8\n",
       "North America                uint8\n",
       "South America                uint8\n",
       "dtype: object"
      ]
     },
     "execution_count": 74,
     "metadata": {},
     "output_type": "execute_result"
    }
   ],
   "source": [
    "df_1.dtypes"
   ]
  },
  {
   "cell_type": "markdown",
   "metadata": {},
   "source": [
    "### Modelos de Clasificación Supervisado.\n",
    "Hemos seleccionado **Actor Type Code** como la variable objetivo porque representa diferentes tipos de actores detrás de ciberataques. Este análisis se centra en predecir el tipo de amenaza que se encuentra detrás de cada incidente, lo cual tiene un impacto directo en la planificación de estrategias de defensa. Aunque no es una variable binaria, este problema multiclase permite capturar patrones más complejos en los datos."
   ]
  },
  {
   "cell_type": "code",
   "execution_count": 75,
   "metadata": {},
   "outputs": [],
   "source": [
    "results = pd.DataFrame(columns=['Model', 'Tipo', 'Accuracy', 'Precision', 'Recall'])\n",
    "results['Tipo'] = ['Binary']*2"
   ]
  },
  {
   "cell_type": "markdown",
   "metadata": {},
   "source": [
    "#### Matriz de correlación."
   ]
  },
  {
   "cell_type": "code",
   "execution_count": 76,
   "metadata": {},
   "outputs": [
    {
     "data": {
      "image/png": "[encoded data removed]",
      "text/plain": [
       "<Figure size 1000x800 with 2 Axes>"
      ]
     },
     "metadata": {},
     "output_type": "display_data"
    }
   ],
   "source": [
    "correlation_matrix = df_1.corr()\n",
    "\n",
    "plt.figure(figsize=(10, 8))\n",
    "sns.heatmap(correlation_matrix, annot=True, cmap='coolwarm', fmt=\".2f\")\n",
    "plt.title('Correlation Matrix between Continuous Variables')\n",
    "plt.show()\n"
   ]
  },
  {
   "cell_type": "markdown",
   "metadata": {},
   "source": [
    "#### División en Conjuntos de Entrenamiento y Prueba."
   ]
  },
  {
   "cell_type": "code",
   "execution_count": 77,
   "metadata": {},
   "outputs": [],
   "source": [
    "X = df_1.drop('actor_type_code', axis=1)\n",
    "y = df_1['actor_type_code']"
   ]
  },
  {
   "cell_type": "code",
   "execution_count": 78,
   "metadata": {},
   "outputs": [],
   "source": [
    "X_train, X_test, y_train, y_test = train_test_split(X, y, train_size = 0.8, random_state=42)"
   ]
  },
  {
   "cell_type": "code",
   "execution_count": 79,
   "metadata": {},
   "outputs": [
    {
     "data": {
      "text/plain": [
       "0.0    8488\n",
       "1.0    1927\n",
       "Name: actor_type_code, dtype: int64"
      ]
     },
     "execution_count": 79,
     "metadata": {},
     "output_type": "execute_result"
    }
   ],
   "source": [
    "y_train.value_counts()"
   ]
  },
  {
   "cell_type": "code",
   "execution_count": 80,
   "metadata": {},
   "outputs": [
    {
     "data": {
      "text/plain": [
       "0.0    2114\n",
       "1.0     490\n",
       "Name: actor_type_code, dtype: int64"
      ]
     },
     "execution_count": 80,
     "metadata": {},
     "output_type": "execute_result"
    }
   ],
   "source": [
    "y_test.value_counts()"
   ]
  },
  {
   "cell_type": "markdown",
   "metadata": {},
   "source": [
    "Al tener un **conjunto de entrenamiento muy desbalanceado**, lo óptimo para un correcto modelo de aprendizaje automático sería realizar un **balanceo de las clases** a través de **ROS** ya que este funciona mejor apra variables categóricas que **SMOTE**. Sin embargo, este balanceo no debe aplicarse al conjunto de prueba, ya que hacerlo alteraría la naturaleza de los datos, haciéndolos no representativos de la realidad. El **conjunto de prueba** debe reflejar fielmente la distribución de clases en el mundo real. Por lo tanto, en lugar de aplicar balanceo en el conjunto de prueba, lo que se hará será **asignar mayor importancia a las clases minoritarias** durante el entrenamiento del modelo, ajustando los pesos de las clases en el modelo. De este modo, el modelo aprenderá a prestar más atención a las clases con menos representaciones, sin comprometer la integridad del conjunto de prueba."
   ]
  },
  {
   "cell_type": "markdown",
   "metadata": {},
   "source": [
    "#### Manejo de variables desbalanceadas.\n",
    "Dado el desbalance de clases en el conjunto de entrenamiento, vamos a aplicar **Random Over-Sampling (ROS)** para equilibrar las clases minoritarias. Esta técnica aumenta la representación de las clases menos frecuentes duplicando aleatoriamente sus instancias, lo que permite que el modelo aprenda de manera más equitativa."
   ]
  },
  {
   "cell_type": "code",
   "execution_count": 81,
   "metadata": {},
   "outputs": [],
   "source": [
    "ros = RandomOverSampler(random_state=42)\n",
    "X_train_ros, y_train_ros = ros.fit_resample(X_train, y_train)"
   ]
  },
  {
   "cell_type": "markdown",
   "metadata": {},
   "source": [
    "#### Entrenamiento y Evaluación de Modelos.\n",
    "En este apartado, entrenaremos modelos de aprendizaje supervisado para predecir el tipo de actor detrás de los ciberataques."
   ]
  },
  {
   "cell_type": "markdown",
   "metadata": {},
   "source": [
    "##### **Random Forest.**\n",
    "**Random Forest** es un algoritmo de aprendizaje automático basado en la creación de múltiples árboles de decisión, cuyos resultados se combinan para mejorar la precisión y evitar el sobreajuste. Es eficaz para clasificación y regresión, **manejando bien el desbalance de clases** y datos complejos."
   ]
  },
  {
   "cell_type": "code",
   "execution_count": 82,
   "metadata": {},
   "outputs": [
    {
     "data": {
      "text/html": [
       "<style>#sk-container-id-1 {\n",
       "  /* Definition of color scheme common for light and dark mode */\n",
       "  --sklearn-color-text: black;\n",
       "  --sklearn-color-line: gray;\n",
       "  /* Definition of color scheme for unfitted estimators */\n",
       "  --sklearn-color-unfitted-level-0: #fff5e6;\n",
       "  --sklearn-color-unfitted-level-1: #f6e4d2;\n",
       "  --sklearn-color-unfitted-level-2: #ffe0b3;\n",
       "  --sklearn-color-unfitted-level-3: chocolate;\n",
       "  /* Definition of color scheme for fitted estimators */\n",
       "  --sklearn-color-fitted-level-0: #f0f8ff;\n",
       "  --sklearn-color-fitted-level-1: #d4ebff;\n",
       "  --sklearn-color-fitted-level-2: #b3dbfd;\n",
       "  --sklearn-color-fitted-level-3: cornflowerblue;\n",
       "\n",
       "  /* Specific color for light theme */\n",
       "  --sklearn-color-text-on-default-background: var(--sg-text-color, var(--theme-code-foreground, var(--jp-content-font-color1, black)));\n",
       "  --sklearn-color-background: var(--sg-background-color, var(--theme-background, var(--jp-layout-color0, white)));\n",
       "  --sklearn-color-border-box: var(--sg-text-color, var(--theme-code-foreground, var(--jp-content-font-color1, black)));\n",
       "  --sklearn-color-icon: #696969;\n",
       "\n",
       "  @media (prefers-color-scheme: dark) {\n",
       "    /* Redefinition of color scheme for dark theme */\n",
       "    --sklearn-color-text-on-default-background: var(--sg-text-color, var(--theme-code-foreground, var(--jp-content-font-color1, white)));\n",
       "    --sklearn-color-background: var(--sg-background-color, var(--theme-background, var(--jp-layout-color0, #111)));\n",
       "    --sklearn-color-border-box: var(--sg-text-color, var(--theme-code-foreground, var(--jp-content-font-color1, white)));\n",
       "    --sklearn-color-icon: #878787;\n",
       "  }\n",
       "}\n",
       "\n",
       "#sk-container-id-1 {\n",
       "  color: var(--sklearn-color-text);\n",
       "}\n",
       "\n",
       "#sk-container-id-1 pre {\n",
       "  padding: 0;\n",
       "}\n",
       "\n",
       "#sk-container-id-1 input.sk-hidden--visually {\n",
       "  border: 0;\n",
       "  clip: rect(1px 1px 1px 1px);\n",
       "  clip: rect(1px, 1px, 1px, 1px);\n",
       "  height: 1px;\n",
       "  margin: -1px;\n",
       "  overflow: hidden;\n",
       "  padding: 0;\n",
       "  position: absolute;\n",
       "  width: 1px;\n",
       "}\n",
       "\n",
       "#sk-container-id-1 div.sk-dashed-wrapped {\n",
       "  border: 1px dashed var(--sklearn-color-line);\n",
       "  margin: 0 0.4em 0.5em 0.4em;\n",
       "  box-sizing: border-box;\n",
       "  padding-bottom: 0.4em;\n",
       "  background-color: var(--sklearn-color-background);\n",
       "}\n",
       "\n",
       "#sk-container-id-1 div.sk-container {\n",
       "  /* jupyter's `normalize.less` sets `[hidden] { display: none; }`\n",
       "     but bootstrap.min.css set `[hidden] { display: none !important; }`\n",
       "     so we also need the `!important` here to be able to override the\n",
       "     default hidden behavior on the sphinx rendered scikit-learn.org.\n",
       "     See: https://github.com/scikit-learn/scikit-learn/issues/21755 */\n",
       "  display: inline-block !important;\n",
       "  position: relative;\n",
       "}\n",
       "\n",
       "#sk-container-id-1 div.sk-text-repr-fallback {\n",
       "  display: none;\n",
       "}\n",
       "\n",
       "div.sk-parallel-item,\n",
       "div.sk-serial,\n",
       "div.sk-item {\n",
       "  /* draw centered vertical line to link estimators */\n",
       "  background-image: linear-gradient(var(--sklearn-color-text-on-default-background), var(--sklearn-color-text-on-default-background));\n",
       "  background-size: 2px 100%;\n",
       "  background-repeat: no-repeat;\n",
       "  background-position: center center;\n",
       "}\n",
       "\n",
       "/* Parallel-specific style estimator block */\n",
       "\n",
       "#sk-container-id-1 div.sk-parallel-item::after {\n",
       "  content: \"\";\n",
       "  width: 100%;\n",
       "  border-bottom: 2px solid var(--sklearn-color-text-on-default-background);\n",
       "  flex-grow: 1;\n",
       "}\n",
       "\n",
       "#sk-container-id-1 div.sk-parallel {\n",
       "  display: flex;\n",
       "  align-items: stretch;\n",
       "  justify-content: center;\n",
       "  background-color: var(--sklearn-color-background);\n",
       "  position: relative;\n",
       "}\n",
       "\n",
       "#sk-container-id-1 div.sk-parallel-item {\n",
       "  display: flex;\n",
       "  flex-direction: column;\n",
       "}\n",
       "\n",
       "#sk-container-id-1 div.sk-parallel-item:first-child::after {\n",
       "  align-self: flex-end;\n",
       "  width: 50%;\n",
       "}\n",
       "\n",
       "#sk-container-id-1 div.sk-parallel-item:last-child::after {\n",
       "  align-self: flex-start;\n",
       "  width: 50%;\n",
       "}\n",
       "\n",
       "#sk-container-id-1 div.sk-parallel-item:only-child::after {\n",
       "  width: 0;\n",
       "}\n",
       "\n",
       "/* Serial-specific style estimator block */\n",
       "\n",
       "#sk-container-id-1 div.sk-serial {\n",
       "  display: flex;\n",
       "  flex-direction: column;\n",
       "  align-items: center;\n",
       "  background-color: var(--sklearn-color-background);\n",
       "  padding-right: 1em;\n",
       "  padding-left: 1em;\n",
       "}\n",
       "\n",
       "\n",
       "/* Toggleable style: style used for estimator/Pipeline/ColumnTransformer box that is\n",
       "clickable and can be expanded/collapsed.\n",
       "- Pipeline and ColumnTransformer use this feature and define the default style\n",
       "- Estimators will overwrite some part of the style using the `sk-estimator` class\n",
       "*/\n",
       "\n",
       "/* Pipeline and ColumnTransformer style (default) */\n",
       "\n",
       "#sk-container-id-1 div.sk-toggleable {\n",
       "  /* Default theme specific background. It is overwritten whether we have a\n",
       "  specific estimator or a Pipeline/ColumnTransformer */\n",
       "  background-color: var(--sklearn-color-background);\n",
       "}\n",
       "\n",
       "/* Toggleable label */\n",
       "#sk-container-id-1 label.sk-toggleable__label {\n",
       "  cursor: pointer;\n",
       "  display: block;\n",
       "  width: 100%;\n",
       "  margin-bottom: 0;\n",
       "  padding: 0.5em;\n",
       "  box-sizing: border-box;\n",
       "  text-align: center;\n",
       "}\n",
       "\n",
       "#sk-container-id-1 label.sk-toggleable__label-arrow:before {\n",
       "  /* Arrow on the left of the label */\n",
       "  content: \"▸\";\n",
       "  float: left;\n",
       "  margin-right: 0.25em;\n",
       "  color: var(--sklearn-color-icon);\n",
       "}\n",
       "\n",
       "#sk-container-id-1 label.sk-toggleable__label-arrow:hover:before {\n",
       "  color: var(--sklearn-color-text);\n",
       "}\n",
       "\n",
       "/* Toggleable content - dropdown */\n",
       "\n",
       "#sk-container-id-1 div.sk-toggleable__content {\n",
       "  max-height: 0;\n",
       "  max-width: 0;\n",
       "  overflow: hidden;\n",
       "  text-align: left;\n",
       "  /* unfitted */\n",
       "  background-color: var(--sklearn-color-unfitted-level-0);\n",
       "}\n",
       "\n",
       "#sk-container-id-1 div.sk-toggleable__content.fitted {\n",
       "  /* fitted */\n",
       "  background-color: var(--sklearn-color-fitted-level-0);\n",
       "}\n",
       "\n",
       "#sk-container-id-1 div.sk-toggleable__content pre {\n",
       "  margin: 0.2em;\n",
       "  border-radius: 0.25em;\n",
       "  color: var(--sklearn-color-text);\n",
       "  /* unfitted */\n",
       "  background-color: var(--sklearn-color-unfitted-level-0);\n",
       "}\n",
       "\n",
       "#sk-container-id-1 div.sk-toggleable__content.fitted pre {\n",
       "  /* unfitted */\n",
       "  background-color: var(--sklearn-color-fitted-level-0);\n",
       "}\n",
       "\n",
       "#sk-container-id-1 input.sk-toggleable__control:checked~div.sk-toggleable__content {\n",
       "  /* Expand drop-down */\n",
       "  max-height: 200px;\n",
       "  max-width: 100%;\n",
       "  overflow: auto;\n",
       "}\n",
       "\n",
       "#sk-container-id-1 input.sk-toggleable__control:checked~label.sk-toggleable__label-arrow:before {\n",
       "  content: \"▾\";\n",
       "}\n",
       "\n",
       "/* Pipeline/ColumnTransformer-specific style */\n",
       "\n",
       "#sk-container-id-1 div.sk-label input.sk-toggleable__control:checked~label.sk-toggleable__label {\n",
       "  color: var(--sklearn-color-text);\n",
       "  background-color: var(--sklearn-color-unfitted-level-2);\n",
       "}\n",
       "\n",
       "#sk-container-id-1 div.sk-label.fitted input.sk-toggleable__control:checked~label.sk-toggleable__label {\n",
       "  background-color: var(--sklearn-color-fitted-level-2);\n",
       "}\n",
       "\n",
       "/* Estimator-specific style */\n",
       "\n",
       "/* Colorize estimator box */\n",
       "#sk-container-id-1 div.sk-estimator input.sk-toggleable__control:checked~label.sk-toggleable__label {\n",
       "  /* unfitted */\n",
       "  background-color: var(--sklearn-color-unfitted-level-2);\n",
       "}\n",
       "\n",
       "#sk-container-id-1 div.sk-estimator.fitted input.sk-toggleable__control:checked~label.sk-toggleable__label {\n",
       "  /* fitted */\n",
       "  background-color: var(--sklearn-color-fitted-level-2);\n",
       "}\n",
       "\n",
       "#sk-container-id-1 div.sk-label label.sk-toggleable__label,\n",
       "#sk-container-id-1 div.sk-label label {\n",
       "  /* The background is the default theme color */\n",
       "  color: var(--sklearn-color-text-on-default-background);\n",
       "}\n",
       "\n",
       "/* On hover, darken the color of the background */\n",
       "#sk-container-id-1 div.sk-label:hover label.sk-toggleable__label {\n",
       "  color: var(--sklearn-color-text);\n",
       "  background-color: var(--sklearn-color-unfitted-level-2);\n",
       "}\n",
       "\n",
       "/* Label box, darken color on hover, fitted */\n",
       "#sk-container-id-1 div.sk-label.fitted:hover label.sk-toggleable__label.fitted {\n",
       "  color: var(--sklearn-color-text);\n",
       "  background-color: var(--sklearn-color-fitted-level-2);\n",
       "}\n",
       "\n",
       "/* Estimator label */\n",
       "\n",
       "#sk-container-id-1 div.sk-label label {\n",
       "  font-family: monospace;\n",
       "  font-weight: bold;\n",
       "  display: inline-block;\n",
       "  line-height: 1.2em;\n",
       "}\n",
       "\n",
       "#sk-container-id-1 div.sk-label-container {\n",
       "  text-align: center;\n",
       "}\n",
       "\n",
       "/* Estimator-specific */\n",
       "#sk-container-id-1 div.sk-estimator {\n",
       "  font-family: monospace;\n",
       "  border: 1px dotted var(--sklearn-color-border-box);\n",
       "  border-radius: 0.25em;\n",
       "  box-sizing: border-box;\n",
       "  margin-bottom: 0.5em;\n",
       "  /* unfitted */\n",
       "  background-color: var(--sklearn-color-unfitted-level-0);\n",
       "}\n",
       "\n",
       "#sk-container-id-1 div.sk-estimator.fitted {\n",
       "  /* fitted */\n",
       "  background-color: var(--sklearn-color-fitted-level-0);\n",
       "}\n",
       "\n",
       "/* on hover */\n",
       "#sk-container-id-1 div.sk-estimator:hover {\n",
       "  /* unfitted */\n",
       "  background-color: var(--sklearn-color-unfitted-level-2);\n",
       "}\n",
       "\n",
       "#sk-container-id-1 div.sk-estimator.fitted:hover {\n",
       "  /* fitted */\n",
       "  background-color: var(--sklearn-color-fitted-level-2);\n",
       "}\n",
       "\n",
       "/* Specification for estimator info (e.g. \"i\" and \"?\") */\n",
       "\n",
       "/* Common style for \"i\" and \"?\" */\n",
       "\n",
       ".sk-estimator-doc-link,\n",
       "a:link.sk-estimator-doc-link,\n",
       "a:visited.sk-estimator-doc-link {\n",
       "  float: right;\n",
       "  font-size: smaller;\n",
       "  line-height: 1em;\n",
       "  font-family: monospace;\n",
       "  background-color: var(--sklearn-color-background);\n",
       "  border-radius: 1em;\n",
       "  height: 1em;\n",
       "  width: 1em;\n",
       "  text-decoration: none !important;\n",
       "  margin-left: 1ex;\n",
       "  /* unfitted */\n",
       "  border: var(--sklearn-color-unfitted-level-1) 1pt solid;\n",
       "  color: var(--sklearn-color-unfitted-level-1);\n",
       "}\n",
       "\n",
       ".sk-estimator-doc-link.fitted,\n",
       "a:link.sk-estimator-doc-link.fitted,\n",
       "a:visited.sk-estimator-doc-link.fitted {\n",
       "  /* fitted */\n",
       "  border: var(--sklearn-color-fitted-level-1) 1pt solid;\n",
       "  color: var(--sklearn-color-fitted-level-1);\n",
       "}\n",
       "\n",
       "/* On hover */\n",
       "div.sk-estimator:hover .sk-estimator-doc-link:hover,\n",
       ".sk-estimator-doc-link:hover,\n",
       "div.sk-label-container:hover .sk-estimator-doc-link:hover,\n",
       ".sk-estimator-doc-link:hover {\n",
       "  /* unfitted */\n",
       "  background-color: var(--sklearn-color-unfitted-level-3);\n",
       "  color: var(--sklearn-color-background);\n",
       "  text-decoration: none;\n",
       "}\n",
       "\n",
       "div.sk-estimator.fitted:hover .sk-estimator-doc-link.fitted:hover,\n",
       ".sk-estimator-doc-link.fitted:hover,\n",
       "div.sk-label-container:hover .sk-estimator-doc-link.fitted:hover,\n",
       ".sk-estimator-doc-link.fitted:hover {\n",
       "  /* fitted */\n",
       "  background-color: var(--sklearn-color-fitted-level-3);\n",
       "  color: var(--sklearn-color-background);\n",
       "  text-decoration: none;\n",
       "}\n",
       "\n",
       "/* Span, style for the box shown on hovering the info icon */\n",
       ".sk-estimator-doc-link span {\n",
       "  display: none;\n",
       "  z-index: 9999;\n",
       "  position: relative;\n",
       "  font-weight: normal;\n",
       "  right: .2ex;\n",
       "  padding: .5ex;\n",
       "  margin: .5ex;\n",
       "  width: min-content;\n",
       "  min-width: 20ex;\n",
       "  max-width: 50ex;\n",
       "  color: var(--sklearn-color-text);\n",
       "  box-shadow: 2pt 2pt 4pt #999;\n",
       "  /* unfitted */\n",
       "  background: var(--sklearn-color-unfitted-level-0);\n",
       "  border: .5pt solid var(--sklearn-color-unfitted-level-3);\n",
       "}\n",
       "\n",
       ".sk-estimator-doc-link.fitted span {\n",
       "  /* fitted */\n",
       "  background: var(--sklearn-color-fitted-level-0);\n",
       "  border: var(--sklearn-color-fitted-level-3);\n",
       "}\n",
       "\n",
       ".sk-estimator-doc-link:hover span {\n",
       "  display: block;\n",
       "}\n",
       "\n",
       "/* \"?\"-specific style due to the `<a>` HTML tag */\n",
       "\n",
       "#sk-container-id-1 a.estimator_doc_link {\n",
       "  float: right;\n",
       "  font-size: 1rem;\n",
       "  line-height: 1em;\n",
       "  font-family: monospace;\n",
       "  background-color: var(--sklearn-color-background);\n",
       "  border-radius: 1rem;\n",
       "  height: 1rem;\n",
       "  width: 1rem;\n",
       "  text-decoration: none;\n",
       "  /* unfitted */\n",
       "  color: var(--sklearn-color-unfitted-level-1);\n",
       "  border: var(--sklearn-color-unfitted-level-1) 1pt solid;\n",
       "}\n",
       "\n",
       "#sk-container-id-1 a.estimator_doc_link.fitted {\n",
       "  /* fitted */\n",
       "  border: var(--sklearn-color-fitted-level-1) 1pt solid;\n",
       "  color: var(--sklearn-color-fitted-level-1);\n",
       "}\n",
       "\n",
       "/* On hover */\n",
       "#sk-container-id-1 a.estimator_doc_link:hover {\n",
       "  /* unfitted */\n",
       "  background-color: var(--sklearn-color-unfitted-level-3);\n",
       "  color: var(--sklearn-color-background);\n",
       "  text-decoration: none;\n",
       "}\n",
       "\n",
       "#sk-container-id-1 a.estimator_doc_link.fitted:hover {\n",
       "  /* fitted */\n",
       "  background-color: var(--sklearn-color-fitted-level-3);\n",
       "}\n",
       "</style><div id=\"sk-container-id-1\" class=\"sk-top-container\"><div class=\"sk-text-repr-fallback\"><pre>RandomForestClassifier(min_samples_split=5, random_state=42)</pre><b>In a Jupyter environment, please rerun this cell to show the HTML representation or trust the notebook. <br />On GitHub, the HTML representation is unable to render, please try loading this page with nbviewer.org.</b></div><div class=\"sk-container\" hidden><div class=\"sk-item\"><div class=\"sk-estimator fitted sk-toggleable\"><input class=\"sk-toggleable__control sk-hidden--visually\" id=\"sk-estimator-id-1\" type=\"checkbox\" checked><label for=\"sk-estimator-id-1\" class=\"sk-toggleable__label fitted sk-toggleable__label-arrow fitted\">&nbsp;&nbsp;RandomForestClassifier<a class=\"sk-estimator-doc-link fitted\" rel=\"noreferrer\" target=\"_blank\" href=\"https://scikit-learn.org/1.5/modules/generated/sklearn.ensemble.RandomForestClassifier.html\">?<span>Documentation for RandomForestClassifier</span></a><span class=\"sk-estimator-doc-link fitted\">i<span>Fitted</span></span></label><div class=\"sk-toggleable__content fitted\"><pre>RandomForestClassifier(min_samples_split=5, random_state=42)</pre></div> </div></div></div></div>"
      ],
      "text/plain": [
       "RandomForestClassifier(min_samples_split=5, random_state=42)"
      ]
     },
     "execution_count": 82,
     "metadata": {},
     "output_type": "execute_result"
    }
   ],
   "source": [
    "rf_model = RandomForestClassifier(\n",
    "                                  random_state=42,\n",
    "                                  n_estimators=100,\n",
    "                                  min_samples_split=5)\n",
    "rf_model.fit(X_train_ros, y_train_ros)"
   ]
  },
  {
   "cell_type": "code",
   "execution_count": 83,
   "metadata": {},
   "outputs": [
    {
     "data": {
      "image/png": "[encoded data removed]",
      "text/plain": [
       "<Figure size 1000x600 with 1 Axes>"
      ]
     },
     "metadata": {},
     "output_type": "display_data"
    }
   ],
   "source": [
    "feature_importances = rf_model.feature_importances_\n",
    "\n",
    "importance_df = pd.DataFrame({\n",
    "    'Feature': X.columns,\n",
    "    'Importance': feature_importances\n",
    "}).sort_values(by='Importance', ascending=False)\n",
    "\n",
    "plt.figure(figsize=(10, 6))\n",
    "plt.barh(importance_df['Feature'], importance_df['Importance'], align='center', color=denexus_colors[2])\n",
    "plt.gca().invert_yaxis()\n",
    "plt.xlabel('Importance Score')\n",
    "plt.ylabel('Features')\n",
    "plt.title('Feature Importance - Random Forest')\n",
    "plt.tight_layout()\n",
    "# Guardar el gráfico en la carpeta 'plots'.\n",
    "output_dir = \"plots\"\n",
    "if os.path.exists(output_dir) and os.path.isdir(output_dir):\n",
    "    output_path = os.path.join(output_dir, \"feature-importance_random-forest.png\")\n",
    "    plt.savefig(output_path)\n",
    "plt.show()"
   ]
  },
  {
   "cell_type": "code",
   "execution_count": 84,
   "metadata": {},
   "outputs": [
    {
     "data": {
      "text/plain": [
       "array([0.97467609, 0.97349043, 0.97466863, 0.97496318, 0.96789396])"
      ]
     },
     "execution_count": 84,
     "metadata": {},
     "output_type": "execute_result"
    }
   ],
   "source": [
    "cv_scores = cross_val_score(rf_model, X_train_ros, y_train_ros, cv=5, scoring='accuracy')\n",
    "cv_scores"
   ]
  },
  {
   "cell_type": "code",
   "execution_count": 85,
   "metadata": {},
   "outputs": [
    {
     "name": "stdout",
     "output_type": "stream",
     "text": [
      "Train set score (Accuracy) = 0.9972313854853911\n",
      "Test set score (Accuracy) = 0.9320276497695853\n",
      "╒══════════════╤════════════════╤════════════════╕\n",
      "│              │   Pred Class 0 │   Pred Class 1 │\n",
      "╞══════════════╪════════════════╪════════════════╡\n",
      "│ Real Class 0 │           2015 │             99 │\n",
      "├──────────────┼────────────────┼────────────────┤\n",
      "│ Real Class 1 │             78 │            412 │\n",
      "╘══════════════╧════════════════╧════════════════╛\n",
      "\n",
      "Classification Report:\n",
      "              precision    recall  f1-score   support\n",
      "\n",
      "         0.0       0.96      0.95      0.96      2114\n",
      "         1.0       0.81      0.84      0.82       490\n",
      "\n",
      "    accuracy                           0.93      2604\n",
      "   macro avg       0.88      0.90      0.89      2604\n",
      "weighted avg       0.93      0.93      0.93      2604\n",
      "\n"
     ]
    }
   ],
   "source": [
    "print(\"Train set score (Accuracy) =\", rf_model.score(X_train_ros, y_train_ros))\n",
    "print(\"Test set score (Accuracy) =\", rf_model.score(X_test, y_test))\n",
    "\n",
    "conf_mat = confusion_matrix(y_test, rf_model.predict(X_test))\n",
    "\n",
    "num_classes = conf_mat.shape[0]\n",
    "\n",
    "print(tabulate(\n",
    "    conf_mat,\n",
    "    headers=[f'Pred Class {i}' for i in range(num_classes)],\n",
    "    showindex=[f'Real Class {i}' for i in range(num_classes)],\n",
    "    tablefmt='fancy_grid'\n",
    "))\n",
    "\n",
    "print(\"\\nClassification Report:\")\n",
    "print(classification_report(y_test, rf_model.predict(X_test)))"
   ]
  },
  {
   "cell_type": "code",
   "execution_count": 86,
   "metadata": {},
   "outputs": [
    {
     "data": {
      "image/png": "[encoded data removed]",
      "text/plain": [
       "<Figure size 800x600 with 2 Axes>"
      ]
     },
     "metadata": {},
     "output_type": "display_data"
    }
   ],
   "source": [
    "class_labels = [f'Class {i}' for i in range(conf_mat.shape[0])]\n",
    "\n",
    "plt.figure(figsize=(8, 6))\n",
    "sns.heatmap(conf_mat, annot=True, fmt='d', cmap=denexus_palette,\n",
    "            xticklabels=class_labels, yticklabels=class_labels, cbar=True)\n",
    "plt.title('Confusion Matrix - Random Forest Classification')\n",
    "plt.xlabel('Predicted Class')\n",
    "plt.ylabel('Actual Class')\n",
    "plt.tight_layout()\n",
    "# Guardar el gráfico en la carpeta 'plots'.\n",
    "output_dir = \"plots\"\n",
    "if os.path.exists(output_dir) and os.path.isdir(output_dir):\n",
    "    output_path = os.path.join(output_dir, \"confusion-matrix_random-forest.png\")\n",
    "    plt.savefig(output_path)\n",
    "plt.show()"
   ]
  },
  {
   "cell_type": "markdown",
   "metadata": {},
   "source": [
    "##### **Arbol de Decisión.**\n",
    "Un Árbol de Decisión es un modelo útil para tareas de clasificación y regresión en aprendizaje automático. Es un modelo de decisión jerárquica que toma decisiones en función de las características de los datos y las distribuye en ramas, con cada nodo representando una prueba de una característica."
   ]
  },
  {
   "cell_type": "code",
   "execution_count": 87,
   "metadata": {},
   "outputs": [
    {
     "data": {
      "text/html": [
       "<style>#sk-container-id-2 {\n",
       "  /* Definition of color scheme common for light and dark mode */\n",
       "  --sklearn-color-text: black;\n",
       "  --sklearn-color-line: gray;\n",
       "  /* Definition of color scheme for unfitted estimators */\n",
       "  --sklearn-color-unfitted-level-0: #fff5e6;\n",
       "  --sklearn-color-unfitted-level-1: #f6e4d2;\n",
       "  --sklearn-color-unfitted-level-2: #ffe0b3;\n",
       "  --sklearn-color-unfitted-level-3: chocolate;\n",
       "  /* Definition of color scheme for fitted estimators */\n",
       "  --sklearn-color-fitted-level-0: #f0f8ff;\n",
       "  --sklearn-color-fitted-level-1: #d4ebff;\n",
       "  --sklearn-color-fitted-level-2: #b3dbfd;\n",
       "  --sklearn-color-fitted-level-3: cornflowerblue;\n",
       "\n",
       "  /* Specific color for light theme */\n",
       "  --sklearn-color-text-on-default-background: var(--sg-text-color, var(--theme-code-foreground, var(--jp-content-font-color1, black)));\n",
       "  --sklearn-color-background: var(--sg-background-color, var(--theme-background, var(--jp-layout-color0, white)));\n",
       "  --sklearn-color-border-box: var(--sg-text-color, var(--theme-code-foreground, var(--jp-content-font-color1, black)));\n",
       "  --sklearn-color-icon: #696969;\n",
       "\n",
       "  @media (prefers-color-scheme: dark) {\n",
       "    /* Redefinition of color scheme for dark theme */\n",
       "    --sklearn-color-text-on-default-background: var(--sg-text-color, var(--theme-code-foreground, var(--jp-content-font-color1, white)));\n",
       "    --sklearn-color-background: var(--sg-background-color, var(--theme-background, var(--jp-layout-color0, #111)));\n",
       "    --sklearn-color-border-box: var(--sg-text-color, var(--theme-code-foreground, var(--jp-content-font-color1, white)));\n",
       "    --sklearn-color-icon: #878787;\n",
       "  }\n",
       "}\n",
       "\n",
       "#sk-container-id-2 {\n",
       "  color: var(--sklearn-color-text);\n",
       "}\n",
       "\n",
       "#sk-container-id-2 pre {\n",
       "  padding: 0;\n",
       "}\n",
       "\n",
       "#sk-container-id-2 input.sk-hidden--visually {\n",
       "  border: 0;\n",
       "  clip: rect(1px 1px 1px 1px);\n",
       "  clip: rect(1px, 1px, 1px, 1px);\n",
       "  height: 1px;\n",
       "  margin: -1px;\n",
       "  overflow: hidden;\n",
       "  padding: 0;\n",
       "  position: absolute;\n",
       "  width: 1px;\n",
       "}\n",
       "\n",
       "#sk-container-id-2 div.sk-dashed-wrapped {\n",
       "  border: 1px dashed var(--sklearn-color-line);\n",
       "  margin: 0 0.4em 0.5em 0.4em;\n",
       "  box-sizing: border-box;\n",
       "  padding-bottom: 0.4em;\n",
       "  background-color: var(--sklearn-color-background);\n",
       "}\n",
       "\n",
       "#sk-container-id-2 div.sk-container {\n",
       "  /* jupyter's `normalize.less` sets `[hidden] { display: none; }`\n",
       "     but bootstrap.min.css set `[hidden] { display: none !important; }`\n",
       "     so we also need the `!important` here to be able to override the\n",
       "     default hidden behavior on the sphinx rendered scikit-learn.org.\n",
       "     See: https://github.com/scikit-learn/scikit-learn/issues/21755 */\n",
       "  display: inline-block !important;\n",
       "  position: relative;\n",
       "}\n",
       "\n",
       "#sk-container-id-2 div.sk-text-repr-fallback {\n",
       "  display: none;\n",
       "}\n",
       "\n",
       "div.sk-parallel-item,\n",
       "div.sk-serial,\n",
       "div.sk-item {\n",
       "  /* draw centered vertical line to link estimators */\n",
       "  background-image: linear-gradient(var(--sklearn-color-text-on-default-background), var(--sklearn-color-text-on-default-background));\n",
       "  background-size: 2px 100%;\n",
       "  background-repeat: no-repeat;\n",
       "  background-position: center center;\n",
       "}\n",
       "\n",
       "/* Parallel-specific style estimator block */\n",
       "\n",
       "#sk-container-id-2 div.sk-parallel-item::after {\n",
       "  content: \"\";\n",
       "  width: 100%;\n",
       "  border-bottom: 2px solid var(--sklearn-color-text-on-default-background);\n",
       "  flex-grow: 1;\n",
       "}\n",
       "\n",
       "#sk-container-id-2 div.sk-parallel {\n",
       "  display: flex;\n",
       "  align-items: stretch;\n",
       "  justify-content: center;\n",
       "  background-color: var(--sklearn-color-background);\n",
       "  position: relative;\n",
       "}\n",
       "\n",
       "#sk-container-id-2 div.sk-parallel-item {\n",
       "  display: flex;\n",
       "  flex-direction: column;\n",
       "}\n",
       "\n",
       "#sk-container-id-2 div.sk-parallel-item:first-child::after {\n",
       "  align-self: flex-end;\n",
       "  width: 50%;\n",
       "}\n",
       "\n",
       "#sk-container-id-2 div.sk-parallel-item:last-child::after {\n",
       "  align-self: flex-start;\n",
       "  width: 50%;\n",
       "}\n",
       "\n",
       "#sk-container-id-2 div.sk-parallel-item:only-child::after {\n",
       "  width: 0;\n",
       "}\n",
       "\n",
       "/* Serial-specific style estimator block */\n",
       "\n",
       "#sk-container-id-2 div.sk-serial {\n",
       "  display: flex;\n",
       "  flex-direction: column;\n",
       "  align-items: center;\n",
       "  background-color: var(--sklearn-color-background);\n",
       "  padding-right: 1em;\n",
       "  padding-left: 1em;\n",
       "}\n",
       "\n",
       "\n",
       "/* Toggleable style: style used for estimator/Pipeline/ColumnTransformer box that is\n",
       "clickable and can be expanded/collapsed.\n",
       "- Pipeline and ColumnTransformer use this feature and define the default style\n",
       "- Estimators will overwrite some part of the style using the `sk-estimator` class\n",
       "*/\n",
       "\n",
       "/* Pipeline and ColumnTransformer style (default) */\n",
       "\n",
       "#sk-container-id-2 div.sk-toggleable {\n",
       "  /* Default theme specific background. It is overwritten whether we have a\n",
       "  specific estimator or a Pipeline/ColumnTransformer */\n",
       "  background-color: var(--sklearn-color-background);\n",
       "}\n",
       "\n",
       "/* Toggleable label */\n",
       "#sk-container-id-2 label.sk-toggleable__label {\n",
       "  cursor: pointer;\n",
       "  display: block;\n",
       "  width: 100%;\n",
       "  margin-bottom: 0;\n",
       "  padding: 0.5em;\n",
       "  box-sizing: border-box;\n",
       "  text-align: center;\n",
       "}\n",
       "\n",
       "#sk-container-id-2 label.sk-toggleable__label-arrow:before {\n",
       "  /* Arrow on the left of the label */\n",
       "  content: \"▸\";\n",
       "  float: left;\n",
       "  margin-right: 0.25em;\n",
       "  color: var(--sklearn-color-icon);\n",
       "}\n",
       "\n",
       "#sk-container-id-2 label.sk-toggleable__label-arrow:hover:before {\n",
       "  color: var(--sklearn-color-text);\n",
       "}\n",
       "\n",
       "/* Toggleable content - dropdown */\n",
       "\n",
       "#sk-container-id-2 div.sk-toggleable__content {\n",
       "  max-height: 0;\n",
       "  max-width: 0;\n",
       "  overflow: hidden;\n",
       "  text-align: left;\n",
       "  /* unfitted */\n",
       "  background-color: var(--sklearn-color-unfitted-level-0);\n",
       "}\n",
       "\n",
       "#sk-container-id-2 div.sk-toggleable__content.fitted {\n",
       "  /* fitted */\n",
       "  background-color: var(--sklearn-color-fitted-level-0);\n",
       "}\n",
       "\n",
       "#sk-container-id-2 div.sk-toggleable__content pre {\n",
       "  margin: 0.2em;\n",
       "  border-radius: 0.25em;\n",
       "  color: var(--sklearn-color-text);\n",
       "  /* unfitted */\n",
       "  background-color: var(--sklearn-color-unfitted-level-0);\n",
       "}\n",
       "\n",
       "#sk-container-id-2 div.sk-toggleable__content.fitted pre {\n",
       "  /* unfitted */\n",
       "  background-color: var(--sklearn-color-fitted-level-0);\n",
       "}\n",
       "\n",
       "#sk-container-id-2 input.sk-toggleable__control:checked~div.sk-toggleable__content {\n",
       "  /* Expand drop-down */\n",
       "  max-height: 200px;\n",
       "  max-width: 100%;\n",
       "  overflow: auto;\n",
       "}\n",
       "\n",
       "#sk-container-id-2 input.sk-toggleable__control:checked~label.sk-toggleable__label-arrow:before {\n",
       "  content: \"▾\";\n",
       "}\n",
       "\n",
       "/* Pipeline/ColumnTransformer-specific style */\n",
       "\n",
       "#sk-container-id-2 div.sk-label input.sk-toggleable__control:checked~label.sk-toggleable__label {\n",
       "  color: var(--sklearn-color-text);\n",
       "  background-color: var(--sklearn-color-unfitted-level-2);\n",
       "}\n",
       "\n",
       "#sk-container-id-2 div.sk-label.fitted input.sk-toggleable__control:checked~label.sk-toggleable__label {\n",
       "  background-color: var(--sklearn-color-fitted-level-2);\n",
       "}\n",
       "\n",
       "/* Estimator-specific style */\n",
       "\n",
       "/* Colorize estimator box */\n",
       "#sk-container-id-2 div.sk-estimator input.sk-toggleable__control:checked~label.sk-toggleable__label {\n",
       "  /* unfitted */\n",
       "  background-color: var(--sklearn-color-unfitted-level-2);\n",
       "}\n",
       "\n",
       "#sk-container-id-2 div.sk-estimator.fitted input.sk-toggleable__control:checked~label.sk-toggleable__label {\n",
       "  /* fitted */\n",
       "  background-color: var(--sklearn-color-fitted-level-2);\n",
       "}\n",
       "\n",
       "#sk-container-id-2 div.sk-label label.sk-toggleable__label,\n",
       "#sk-container-id-2 div.sk-label label {\n",
       "  /* The background is the default theme color */\n",
       "  color: var(--sklearn-color-text-on-default-background);\n",
       "}\n",
       "\n",
       "/* On hover, darken the color of the background */\n",
       "#sk-container-id-2 div.sk-label:hover label.sk-toggleable__label {\n",
       "  color: var(--sklearn-color-text);\n",
       "  background-color: var(--sklearn-color-unfitted-level-2);\n",
       "}\n",
       "\n",
       "/* Label box, darken color on hover, fitted */\n",
       "#sk-container-id-2 div.sk-label.fitted:hover label.sk-toggleable__label.fitted {\n",
       "  color: var(--sklearn-color-text);\n",
       "  background-color: var(--sklearn-color-fitted-level-2);\n",
       "}\n",
       "\n",
       "/* Estimator label */\n",
       "\n",
       "#sk-container-id-2 div.sk-label label {\n",
       "  font-family: monospace;\n",
       "  font-weight: bold;\n",
       "  display: inline-block;\n",
       "  line-height: 1.2em;\n",
       "}\n",
       "\n",
       "#sk-container-id-2 div.sk-label-container {\n",
       "  text-align: center;\n",
       "}\n",
       "\n",
       "/* Estimator-specific */\n",
       "#sk-container-id-2 div.sk-estimator {\n",
       "  font-family: monospace;\n",
       "  border: 1px dotted var(--sklearn-color-border-box);\n",
       "  border-radius: 0.25em;\n",
       "  box-sizing: border-box;\n",
       "  margin-bottom: 0.5em;\n",
       "  /* unfitted */\n",
       "  background-color: var(--sklearn-color-unfitted-level-0);\n",
       "}\n",
       "\n",
       "#sk-container-id-2 div.sk-estimator.fitted {\n",
       "  /* fitted */\n",
       "  background-color: var(--sklearn-color-fitted-level-0);\n",
       "}\n",
       "\n",
       "/* on hover */\n",
       "#sk-container-id-2 div.sk-estimator:hover {\n",
       "  /* unfitted */\n",
       "  background-color: var(--sklearn-color-unfitted-level-2);\n",
       "}\n",
       "\n",
       "#sk-container-id-2 div.sk-estimator.fitted:hover {\n",
       "  /* fitted */\n",
       "  background-color: var(--sklearn-color-fitted-level-2);\n",
       "}\n",
       "\n",
       "/* Specification for estimator info (e.g. \"i\" and \"?\") */\n",
       "\n",
       "/* Common style for \"i\" and \"?\" */\n",
       "\n",
       ".sk-estimator-doc-link,\n",
       "a:link.sk-estimator-doc-link,\n",
       "a:visited.sk-estimator-doc-link {\n",
       "  float: right;\n",
       "  font-size: smaller;\n",
       "  line-height: 1em;\n",
       "  font-family: monospace;\n",
       "  background-color: var(--sklearn-color-background);\n",
       "  border-radius: 1em;\n",
       "  height: 1em;\n",
       "  width: 1em;\n",
       "  text-decoration: none !important;\n",
       "  margin-left: 1ex;\n",
       "  /* unfitted */\n",
       "  border: var(--sklearn-color-unfitted-level-1) 1pt solid;\n",
       "  color: var(--sklearn-color-unfitted-level-1);\n",
       "}\n",
       "\n",
       ".sk-estimator-doc-link.fitted,\n",
       "a:link.sk-estimator-doc-link.fitted,\n",
       "a:visited.sk-estimator-doc-link.fitted {\n",
       "  /* fitted */\n",
       "  border: var(--sklearn-color-fitted-level-1) 1pt solid;\n",
       "  color: var(--sklearn-color-fitted-level-1);\n",
       "}\n",
       "\n",
       "/* On hover */\n",
       "div.sk-estimator:hover .sk-estimator-doc-link:hover,\n",
       ".sk-estimator-doc-link:hover,\n",
       "div.sk-label-container:hover .sk-estimator-doc-link:hover,\n",
       ".sk-estimator-doc-link:hover {\n",
       "  /* unfitted */\n",
       "  background-color: var(--sklearn-color-unfitted-level-3);\n",
       "  color: var(--sklearn-color-background);\n",
       "  text-decoration: none;\n",
       "}\n",
       "\n",
       "div.sk-estimator.fitted:hover .sk-estimator-doc-link.fitted:hover,\n",
       ".sk-estimator-doc-link.fitted:hover,\n",
       "div.sk-label-container:hover .sk-estimator-doc-link.fitted:hover,\n",
       ".sk-estimator-doc-link.fitted:hover {\n",
       "  /* fitted */\n",
       "  background-color: var(--sklearn-color-fitted-level-3);\n",
       "  color: var(--sklearn-color-background);\n",
       "  text-decoration: none;\n",
       "}\n",
       "\n",
       "/* Span, style for the box shown on hovering the info icon */\n",
       ".sk-estimator-doc-link span {\n",
       "  display: none;\n",
       "  z-index: 9999;\n",
       "  position: relative;\n",
       "  font-weight: normal;\n",
       "  right: .2ex;\n",
       "  padding: .5ex;\n",
       "  margin: .5ex;\n",
       "  width: min-content;\n",
       "  min-width: 20ex;\n",
       "  max-width: 50ex;\n",
       "  color: var(--sklearn-color-text);\n",
       "  box-shadow: 2pt 2pt 4pt #999;\n",
       "  /* unfitted */\n",
       "  background: var(--sklearn-color-unfitted-level-0);\n",
       "  border: .5pt solid var(--sklearn-color-unfitted-level-3);\n",
       "}\n",
       "\n",
       ".sk-estimator-doc-link.fitted span {\n",
       "  /* fitted */\n",
       "  background: var(--sklearn-color-fitted-level-0);\n",
       "  border: var(--sklearn-color-fitted-level-3);\n",
       "}\n",
       "\n",
       ".sk-estimator-doc-link:hover span {\n",
       "  display: block;\n",
       "}\n",
       "\n",
       "/* \"?\"-specific style due to the `<a>` HTML tag */\n",
       "\n",
       "#sk-container-id-2 a.estimator_doc_link {\n",
       "  float: right;\n",
       "  font-size: 1rem;\n",
       "  line-height: 1em;\n",
       "  font-family: monospace;\n",
       "  background-color: var(--sklearn-color-background);\n",
       "  border-radius: 1rem;\n",
       "  height: 1rem;\n",
       "  width: 1rem;\n",
       "  text-decoration: none;\n",
       "  /* unfitted */\n",
       "  color: var(--sklearn-color-unfitted-level-1);\n",
       "  border: var(--sklearn-color-unfitted-level-1) 1pt solid;\n",
       "}\n",
       "\n",
       "#sk-container-id-2 a.estimator_doc_link.fitted {\n",
       "  /* fitted */\n",
       "  border: var(--sklearn-color-fitted-level-1) 1pt solid;\n",
       "  color: var(--sklearn-color-fitted-level-1);\n",
       "}\n",
       "\n",
       "/* On hover */\n",
       "#sk-container-id-2 a.estimator_doc_link:hover {\n",
       "  /* unfitted */\n",
       "  background-color: var(--sklearn-color-unfitted-level-3);\n",
       "  color: var(--sklearn-color-background);\n",
       "  text-decoration: none;\n",
       "}\n",
       "\n",
       "#sk-container-id-2 a.estimator_doc_link.fitted:hover {\n",
       "  /* fitted */\n",
       "  background-color: var(--sklearn-color-fitted-level-3);\n",
       "}\n",
       "</style><div id=\"sk-container-id-2\" class=\"sk-top-container\"><div class=\"sk-text-repr-fallback\"><pre>DecisionTreeClassifier(random_state=42)</pre><b>In a Jupyter environment, please rerun this cell to show the HTML representation or trust the notebook. <br />On GitHub, the HTML representation is unable to render, please try loading this page with nbviewer.org.</b></div><div class=\"sk-container\" hidden><div class=\"sk-item\"><div class=\"sk-estimator fitted sk-toggleable\"><input class=\"sk-toggleable__control sk-hidden--visually\" id=\"sk-estimator-id-2\" type=\"checkbox\" checked><label for=\"sk-estimator-id-2\" class=\"sk-toggleable__label fitted sk-toggleable__label-arrow fitted\">&nbsp;&nbsp;DecisionTreeClassifier<a class=\"sk-estimator-doc-link fitted\" rel=\"noreferrer\" target=\"_blank\" href=\"https://scikit-learn.org/1.5/modules/generated/sklearn.tree.DecisionTreeClassifier.html\">?<span>Documentation for DecisionTreeClassifier</span></a><span class=\"sk-estimator-doc-link fitted\">i<span>Fitted</span></span></label><div class=\"sk-toggleable__content fitted\"><pre>DecisionTreeClassifier(random_state=42)</pre></div> </div></div></div></div>"
      ],
      "text/plain": [
       "DecisionTreeClassifier(random_state=42)"
      ]
     },
     "execution_count": 87,
     "metadata": {},
     "output_type": "execute_result"
    }
   ],
   "source": [
    "dt_model = DecisionTreeClassifier(random_state=42)\n",
    "dt_model.fit(X_train_ros, y_train_ros)"
   ]
  },
  {
   "cell_type": "code",
   "execution_count": 88,
   "metadata": {},
   "outputs": [
    {
     "data": {
      "image/png": "[encoded data removed]",
      "text/plain": [
       "<Figure size 1000x600 with 1 Axes>"
      ]
     },
     "metadata": {},
     "output_type": "display_data"
    }
   ],
   "source": [
    "feature_importances = dt_model.feature_importances_\n",
    "\n",
    "importance_df = pd.DataFrame({\n",
    "    'Feature': X.columns,\n",
    "    'Importance': feature_importances\n",
    "}).sort_values(by='Importance', ascending=False)\n",
    "\n",
    "plt.figure(figsize=(10, 6))\n",
    "plt.barh(importance_df['Feature'], importance_df['Importance'], align='center', color=denexus_colors[2])\n",
    "plt.gca().invert_yaxis()\n",
    "plt.xlabel('Importance Score')\n",
    "plt.ylabel('Features')\n",
    "plt.title('Feature Importance - Decision Tree')\n",
    "plt.tight_layout()\n",
    "# Guardar el gráfico en la carpeta 'plots'.\n",
    "output_dir = \"plots\"\n",
    "if os.path.exists(output_dir) and os.path.isdir(output_dir):\n",
    "    output_path = os.path.join(output_dir, \"feature-importance_decision-tree.png\")\n",
    "    plt.savefig(output_path)\n",
    "plt.show()"
   ]
  },
  {
   "cell_type": "code",
   "execution_count": 89,
   "metadata": {},
   "outputs": [
    {
     "data": {
      "text/plain": [
       "array([0.96908127, 0.97466863, 0.97319588, 0.97437408, 0.97290133])"
      ]
     },
     "execution_count": 89,
     "metadata": {},
     "output_type": "execute_result"
    }
   ],
   "source": [
    "cv_scores = cross_val_score(dt_model, X_train_ros, y_train_ros, cv=5, scoring='accuracy')\n",
    "cv_scores"
   ]
  },
  {
   "cell_type": "code",
   "execution_count": 90,
   "metadata": {},
   "outputs": [
    {
     "name": "stdout",
     "output_type": "stream",
     "text": [
      "Train set score (Accuracy) = 0.9990574929311969\n",
      "Test set score (Accuracy) = 0.9162826420890937\n",
      "╒══════════════╤════════════════╤════════════════╕\n",
      "│              │   Pred Class 0 │   Pred Class 1 │\n",
      "╞══════════════╪════════════════╪════════════════╡\n",
      "│ Real Class 0 │           1998 │            116 │\n",
      "├──────────────┼────────────────┼────────────────┤\n",
      "│ Real Class 1 │            102 │            388 │\n",
      "╘══════════════╧════════════════╧════════════════╛\n",
      "\n",
      "Classification Report:\n",
      "              precision    recall  f1-score   support\n",
      "\n",
      "         0.0       0.95      0.95      0.95      2114\n",
      "         1.0       0.77      0.79      0.78       490\n",
      "\n",
      "    accuracy                           0.92      2604\n",
      "   macro avg       0.86      0.87      0.86      2604\n",
      "weighted avg       0.92      0.92      0.92      2604\n",
      "\n"
     ]
    }
   ],
   "source": [
    "print(\"Train set score (Accuracy) =\", dt_model.score(X_train_ros, y_train_ros))\n",
    "print(\"Test set score (Accuracy) =\", dt_model.score(X_test, y_test))\n",
    "\n",
    "conf_mat = confusion_matrix(y_test, dt_model.predict(X_test))\n",
    "\n",
    "num_classes = conf_mat.shape[0]\n",
    "\n",
    "print(tabulate(\n",
    "    conf_mat,\n",
    "    headers=[f'Pred Class {i}' for i in range(num_classes)],\n",
    "    showindex=[f'Real Class {i}' for i in range(num_classes)],\n",
    "    tablefmt='fancy_grid'\n",
    "))\n",
    "\n",
    "print(\"\\nClassification Report:\")\n",
    "print(classification_report(y_test, dt_model.predict(X_test)))"
   ]
  },
  {
   "cell_type": "code",
   "execution_count": 91,
   "metadata": {},
   "outputs": [
    {
     "data": {
      "image/png": "[encoded data removed]",
      "text/plain": [
       "<Figure size 800x600 with 2 Axes>"
      ]
     },
     "metadata": {},
     "output_type": "display_data"
    }
   ],
   "source": [
    "class_labels = [f'Class {i}' for i in range(conf_mat.shape[0])]\n",
    "\n",
    "plt.figure(figsize=(8, 6))\n",
    "sns.heatmap(conf_mat, annot=True, fmt='d', cmap=denexus_palette,\n",
    "            xticklabels=class_labels, yticklabels=class_labels, cbar=True)\n",
    "plt.title('Confusion Matrix - Decision Tree Classification')\n",
    "plt.xlabel('Predicted Class')\n",
    "plt.ylabel('Actual Class')\n",
    "plt.tight_layout()\n",
    "# Guardar el gráfico en la carpeta 'plots'.\n",
    "output_dir = \"plots\"\n",
    "if os.path.exists(output_dir) and os.path.isdir(output_dir):\n",
    "    output_path = os.path.join(output_dir, \"confusion-matrix_decision-tree.png\")\n",
    "    plt.savefig(output_path)\n",
    "plt.show()"
   ]
  },
  {
   "cell_type": "markdown",
   "metadata": {},
   "source": [
    "#### Curva ROC.\n",
    "La **curva ROC** (*Receiver Operating Characteristic*) es una representación gráfica utilizada para evaluar el rendimiento de un modelo de clasificación binaria. Muestra la relación entre la **tasa de verdaderos positivos (TPR)** y la **tasa de falsos positivos (FPR)** a medida que varía el umbral de decisión del modelo.\n",
    "\n",
    "Un modelo perfecto tendrá una curva que pase cerca del vértice superior izquierdo (FPR=0, TPR=1), indicando un rendimiento ideal. El área bajo la curva (**AUC** - *Area Under the Curve*) resume en un único valor qué tan bien el modelo discrimina entre las dos clases, donde un valor de 1 indica un modelo perfecto y 0.5 sugiere un rendimiento aleatorio."
   ]
  },
  {
   "cell_type": "code",
   "execution_count": 92,
   "metadata": {},
   "outputs": [],
   "source": [
    "y_prob_rf = rf_model.predict_proba(X_test)[:, 1]\n",
    "y_prob_dt = dt_model.predict_proba(X_test)[:, 1]"
   ]
  },
  {
   "cell_type": "code",
   "execution_count": 93,
   "metadata": {},
   "outputs": [],
   "source": [
    "# Calcular FPR, TPR y el AUC.\n",
    "## Random Forest.\n",
    "fpr_rf, tpr_rf, _ = roc_curve(y_test, y_prob_rf)\n",
    "roc_auc_rf = auc(fpr_rf, tpr_rf)\n",
    "\n",
    "## Decision Tree.\n",
    "fpr_dt, tpr_dt, _ = roc_curve(y_test, y_prob_dt)\n",
    "roc_auc_dt = auc(fpr_dt, tpr_dt)"
   ]
  },
  {
   "cell_type": "code",
   "execution_count": 94,
   "metadata": {},
   "outputs": [
    {
     "data": {
      "image/png": "[encoded data removed]",
      "text/plain": [
       "<Figure size 1400x600 with 2 Axes>"
      ]
     },
     "metadata": {},
     "output_type": "display_data"
    }
   ],
   "source": [
    "fig, axs = plt.subplots(1, 2, figsize=(14, 6))\n",
    "\n",
    "## Subplot para Random Forest.\n",
    "axs[0].plot(fpr_rf, tpr_rf, label=f'ROC Curve RF (AUC = {roc_auc_rf:.2f})', color=denexus_colors[1])\n",
    "axs[0].plot([0, 1], [0, 1], color=denexus_colors[2], linestyle='--', label='Random Guess')\n",
    "axs[0].set_title('ROC Curve - Random Forest')\n",
    "axs[0].set_xlabel('False Positive Rate (FPR)')\n",
    "axs[0].set_ylabel('True Positive Rate (TPR)')\n",
    "axs[0].legend(loc='lower right')\n",
    "axs[0].grid(True)\n",
    "\n",
    "## Subplot para Decision Tree.\n",
    "axs[1].plot(fpr_dt, tpr_dt, color=denexus_colors[1], label=f'ROC Curve DT (AUC = {roc_auc_dt:.2f})')\n",
    "axs[1].plot([0, 1], [0, 1], color=denexus_colors[2], linestyle='--', label='Random Guess')\n",
    "axs[1].set_title('ROC Curve - Decision Tree')\n",
    "axs[1].set_xlabel('False Positive Rate (FPR)')\n",
    "axs[1].set_ylabel('True Positive Rate (TPR)')\n",
    "axs[1].legend(loc='lower right')\n",
    "axs[1].grid(True)\n",
    "\n",
    "plt.tight_layout()\n",
    "# Guardar el gráfico en la carpeta 'plots'.\n",
    "output_dir = \"plots\"\n",
    "if os.path.exists(output_dir) and os.path.isdir(output_dir):\n",
    "    output_path = os.path.join(output_dir, \"ROC-curve.png\")\n",
    "    plt.savefig(output_path)\n",
    "plt.show()"
   ]
  },
  {
   "cell_type": "markdown",
   "metadata": {},
   "source": [
    "#### Resultados."
   ]
  },
  {
   "cell_type": "code",
   "execution_count": 95,
   "metadata": {},
   "outputs": [],
   "source": [
    "rf_pred = rf_model.predict(X_test)\n",
    "dt_pred = dt_model.predict(X_test)"
   ]
  },
  {
   "cell_type": "code",
   "execution_count": 96,
   "metadata": {},
   "outputs": [],
   "source": [
    "rf_precision = precision_score(y_test, rf_pred, average='weighted')\n",
    "rf_recall = recall_score(y_test, rf_pred, average='weighted')"
   ]
  },
  {
   "cell_type": "code",
   "execution_count": 97,
   "metadata": {},
   "outputs": [],
   "source": [
    "dt_precision = precision_score(y_test, dt_pred, average='weighted')\n",
    "dt_recall = recall_score(y_test, dt_pred, average='weighted')"
   ]
  },
  {
   "cell_type": "code",
   "execution_count": 98,
   "metadata": {},
   "outputs": [],
   "source": [
    "results['Model'] = ['RandomForest', 'DecisionTree']\n",
    "results['Accuracy'] = [rf_model.score(X_test, y_test), dt_model.score(X_test, y_test)]\n",
    "results['Precision'] = [rf_precision, dt_precision]\n",
    "results['Recall'] = [rf_recall, dt_recall]"
   ]
  },
  {
   "cell_type": "code",
   "execution_count": 99,
   "metadata": {},
   "outputs": [
    {
     "data": {
      "text/html": [
       "<div>\n",
       "<style scoped>\n",
       "    .dataframe tbody tr th:only-of-type {\n",
       "        vertical-align: middle;\n",
       "    }\n",
       "\n",
       "    .dataframe tbody tr th {\n",
       "        vertical-align: top;\n",
       "    }\n",
       "\n",
       "    .dataframe thead th {\n",
       "        text-align: right;\n",
       "    }\n",
       "</style>\n",
       "<table border=\"1\" class=\"dataframe\">\n",
       "  <thead>\n",
       "    <tr style=\"text-align: right;\">\n",
       "      <th></th>\n",
       "      <th>Model</th>\n",
       "      <th>Tipo</th>\n",
       "      <th>Accuracy</th>\n",
       "      <th>Precision</th>\n",
       "      <th>Recall</th>\n",
       "    </tr>\n",
       "  </thead>\n",
       "  <tbody>\n",
       "    <tr>\n",
       "      <th>0</th>\n",
       "      <td>RandomForest</td>\n",
       "      <td>Binary</td>\n",
       "      <td>0.932028</td>\n",
       "      <td>0.933290</td>\n",
       "      <td>0.932028</td>\n",
       "    </tr>\n",
       "    <tr>\n",
       "      <th>1</th>\n",
       "      <td>DecisionTree</td>\n",
       "      <td>Binary</td>\n",
       "      <td>0.916283</td>\n",
       "      <td>0.917259</td>\n",
       "      <td>0.916283</td>\n",
       "    </tr>\n",
       "  </tbody>\n",
       "</table>\n",
       "</div>"
      ],
      "text/plain": [
       "          Model    Tipo  Accuracy  Precision    Recall\n",
       "0  RandomForest  Binary  0.932028   0.933290  0.932028\n",
       "1  DecisionTree  Binary  0.916283   0.917259  0.916283"
      ]
     },
     "execution_count": 99,
     "metadata": {},
     "output_type": "execute_result"
    }
   ],
   "source": [
    "results"
   ]
  },
  {
   "cell_type": "markdown",
   "metadata": {},
   "source": [
    "### Modelos de Clasificación No Supervisado.\n",
    "Aplicamos el modelo no supervisado K-Means para agrupar los datos en los clusters indicados a través del **método Elbow**, utilizando las características del conjunto de entrenamiento. Finalmente, se genera un resumen de las medias de las características por cada cluster para su análisis."
   ]
  },
  {
   "cell_type": "code",
   "execution_count": 100,
   "metadata": {},
   "outputs": [
    {
     "data": {
      "image/png": "[encoded data removed]",
      "text/plain": [
       "<Figure size 800x600 with 1 Axes>"
      ]
     },
     "metadata": {},
     "output_type": "display_data"
    }
   ],
   "source": [
    "#Elbow method.\n",
    "X_unsupervised = df_1.copy()\n",
    "inertia = []\n",
    "for k in range(1, 11):\n",
    "    kmeans = KMeans(n_clusters=k, random_state=42)\n",
    "    kmeans.fit(X_unsupervised)\n",
    "    inertia.append(kmeans.inertia_)\n",
    "\n",
    "plt.figure(figsize=(8, 6))\n",
    "plt.plot(range(1, 11), inertia, marker='o', linestyle='--', color=denexus_colors[1])\n",
    "plt.title('Elbow Method for Optimal Number of Clusters')\n",
    "plt.xlabel('Number of Clusters (k)')\n",
    "plt.ylabel('Inertia')\n",
    "plt.xticks(range(1, 11))\n",
    "plt.grid(True)\n",
    "# Guardar el gráfico en la carpeta 'plots'.\n",
    "output_dir = \"plots\"\n",
    "if os.path.exists(output_dir) and os.path.isdir(output_dir):\n",
    "    output_path = os.path.join(output_dir, \"elbow-method-kmeans.png\")\n",
    "    plt.savefig(output_path)\n",
    "plt.show()"
   ]
  },
  {
   "cell_type": "code",
   "execution_count": 101,
   "metadata": {},
   "outputs": [
    {
     "name": "stdout",
     "output_type": "stream",
     "text": [
      "Number of Clusters (k=1): Inertia = 6010336.7896\n",
      "Number of Clusters (k=2): Inertia = 2594473.2875\n",
      "Number of Clusters (k=3): Inertia = 2018370.7247\n",
      "Number of Clusters (k=4): Inertia = 1375644.5427\n",
      "Number of Clusters (k=5): Inertia = 1193016.7960\n",
      "Number of Clusters (k=6): Inertia = 1052154.2826\n",
      "Number of Clusters (k=7): Inertia = 846089.4149\n",
      "Number of Clusters (k=8): Inertia = 792750.9463\n",
      "Number of Clusters (k=9): Inertia = 733034.8490\n",
      "Number of Clusters (k=10): Inertia = 676188.4634\n"
     ]
    }
   ],
   "source": [
    "for k, score in zip(range(1, 11), inertia):\n",
    "    print(f\"Number of Clusters (k={k}): Inertia = {score:.4f}\")"
   ]
  },
  {
   "cell_type": "code",
   "execution_count": 102,
   "metadata": {},
   "outputs": [
    {
     "data": {
      "text/html": [
       "<style>#sk-container-id-3 {\n",
       "  /* Definition of color scheme common for light and dark mode */\n",
       "  --sklearn-color-text: black;\n",
       "  --sklearn-color-line: gray;\n",
       "  /* Definition of color scheme for unfitted estimators */\n",
       "  --sklearn-color-unfitted-level-0: #fff5e6;\n",
       "  --sklearn-color-unfitted-level-1: #f6e4d2;\n",
       "  --sklearn-color-unfitted-level-2: #ffe0b3;\n",
       "  --sklearn-color-unfitted-level-3: chocolate;\n",
       "  /* Definition of color scheme for fitted estimators */\n",
       "  --sklearn-color-fitted-level-0: #f0f8ff;\n",
       "  --sklearn-color-fitted-level-1: #d4ebff;\n",
       "  --sklearn-color-fitted-level-2: #b3dbfd;\n",
       "  --sklearn-color-fitted-level-3: cornflowerblue;\n",
       "\n",
       "  /* Specific color for light theme */\n",
       "  --sklearn-color-text-on-default-background: var(--sg-text-color, var(--theme-code-foreground, var(--jp-content-font-color1, black)));\n",
       "  --sklearn-color-background: var(--sg-background-color, var(--theme-background, var(--jp-layout-color0, white)));\n",
       "  --sklearn-color-border-box: var(--sg-text-color, var(--theme-code-foreground, var(--jp-content-font-color1, black)));\n",
       "  --sklearn-color-icon: #696969;\n",
       "\n",
       "  @media (prefers-color-scheme: dark) {\n",
       "    /* Redefinition of color scheme for dark theme */\n",
       "    --sklearn-color-text-on-default-background: var(--sg-text-color, var(--theme-code-foreground, var(--jp-content-font-color1, white)));\n",
       "    --sklearn-color-background: var(--sg-background-color, var(--theme-background, var(--jp-layout-color0, #111)));\n",
       "    --sklearn-color-border-box: var(--sg-text-color, var(--theme-code-foreground, var(--jp-content-font-color1, white)));\n",
       "    --sklearn-color-icon: #878787;\n",
       "  }\n",
       "}\n",
       "\n",
       "#sk-container-id-3 {\n",
       "  color: var(--sklearn-color-text);\n",
       "}\n",
       "\n",
       "#sk-container-id-3 pre {\n",
       "  padding: 0;\n",
       "}\n",
       "\n",
       "#sk-container-id-3 input.sk-hidden--visually {\n",
       "  border: 0;\n",
       "  clip: rect(1px 1px 1px 1px);\n",
       "  clip: rect(1px, 1px, 1px, 1px);\n",
       "  height: 1px;\n",
       "  margin: -1px;\n",
       "  overflow: hidden;\n",
       "  padding: 0;\n",
       "  position: absolute;\n",
       "  width: 1px;\n",
       "}\n",
       "\n",
       "#sk-container-id-3 div.sk-dashed-wrapped {\n",
       "  border: 1px dashed var(--sklearn-color-line);\n",
       "  margin: 0 0.4em 0.5em 0.4em;\n",
       "  box-sizing: border-box;\n",
       "  padding-bottom: 0.4em;\n",
       "  background-color: var(--sklearn-color-background);\n",
       "}\n",
       "\n",
       "#sk-container-id-3 div.sk-container {\n",
       "  /* jupyter's `normalize.less` sets `[hidden] { display: none; }`\n",
       "     but bootstrap.min.css set `[hidden] { display: none !important; }`\n",
       "     so we also need the `!important` here to be able to override the\n",
       "     default hidden behavior on the sphinx rendered scikit-learn.org.\n",
       "     See: https://github.com/scikit-learn/scikit-learn/issues/21755 */\n",
       "  display: inline-block !important;\n",
       "  position: relative;\n",
       "}\n",
       "\n",
       "#sk-container-id-3 div.sk-text-repr-fallback {\n",
       "  display: none;\n",
       "}\n",
       "\n",
       "div.sk-parallel-item,\n",
       "div.sk-serial,\n",
       "div.sk-item {\n",
       "  /* draw centered vertical line to link estimators */\n",
       "  background-image: linear-gradient(var(--sklearn-color-text-on-default-background), var(--sklearn-color-text-on-default-background));\n",
       "  background-size: 2px 100%;\n",
       "  background-repeat: no-repeat;\n",
       "  background-position: center center;\n",
       "}\n",
       "\n",
       "/* Parallel-specific style estimator block */\n",
       "\n",
       "#sk-container-id-3 div.sk-parallel-item::after {\n",
       "  content: \"\";\n",
       "  width: 100%;\n",
       "  border-bottom: 2px solid var(--sklearn-color-text-on-default-background);\n",
       "  flex-grow: 1;\n",
       "}\n",
       "\n",
       "#sk-container-id-3 div.sk-parallel {\n",
       "  display: flex;\n",
       "  align-items: stretch;\n",
       "  justify-content: center;\n",
       "  background-color: var(--sklearn-color-background);\n",
       "  position: relative;\n",
       "}\n",
       "\n",
       "#sk-container-id-3 div.sk-parallel-item {\n",
       "  display: flex;\n",
       "  flex-direction: column;\n",
       "}\n",
       "\n",
       "#sk-container-id-3 div.sk-parallel-item:first-child::after {\n",
       "  align-self: flex-end;\n",
       "  width: 50%;\n",
       "}\n",
       "\n",
       "#sk-container-id-3 div.sk-parallel-item:last-child::after {\n",
       "  align-self: flex-start;\n",
       "  width: 50%;\n",
       "}\n",
       "\n",
       "#sk-container-id-3 div.sk-parallel-item:only-child::after {\n",
       "  width: 0;\n",
       "}\n",
       "\n",
       "/* Serial-specific style estimator block */\n",
       "\n",
       "#sk-container-id-3 div.sk-serial {\n",
       "  display: flex;\n",
       "  flex-direction: column;\n",
       "  align-items: center;\n",
       "  background-color: var(--sklearn-color-background);\n",
       "  padding-right: 1em;\n",
       "  padding-left: 1em;\n",
       "}\n",
       "\n",
       "\n",
       "/* Toggleable style: style used for estimator/Pipeline/ColumnTransformer box that is\n",
       "clickable and can be expanded/collapsed.\n",
       "- Pipeline and ColumnTransformer use this feature and define the default style\n",
       "- Estimators will overwrite some part of the style using the `sk-estimator` class\n",
       "*/\n",
       "\n",
       "/* Pipeline and ColumnTransformer style (default) */\n",
       "\n",
       "#sk-container-id-3 div.sk-toggleable {\n",
       "  /* Default theme specific background. It is overwritten whether we have a\n",
       "  specific estimator or a Pipeline/ColumnTransformer */\n",
       "  background-color: var(--sklearn-color-background);\n",
       "}\n",
       "\n",
       "/* Toggleable label */\n",
       "#sk-container-id-3 label.sk-toggleable__label {\n",
       "  cursor: pointer;\n",
       "  display: block;\n",
       "  width: 100%;\n",
       "  margin-bottom: 0;\n",
       "  padding: 0.5em;\n",
       "  box-sizing: border-box;\n",
       "  text-align: center;\n",
       "}\n",
       "\n",
       "#sk-container-id-3 label.sk-toggleable__label-arrow:before {\n",
       "  /* Arrow on the left of the label */\n",
       "  content: \"▸\";\n",
       "  float: left;\n",
       "  margin-right: 0.25em;\n",
       "  color: var(--sklearn-color-icon);\n",
       "}\n",
       "\n",
       "#sk-container-id-3 label.sk-toggleable__label-arrow:hover:before {\n",
       "  color: var(--sklearn-color-text);\n",
       "}\n",
       "\n",
       "/* Toggleable content - dropdown */\n",
       "\n",
       "#sk-container-id-3 div.sk-toggleable__content {\n",
       "  max-height: 0;\n",
       "  max-width: 0;\n",
       "  overflow: hidden;\n",
       "  text-align: left;\n",
       "  /* unfitted */\n",
       "  background-color: var(--sklearn-color-unfitted-level-0);\n",
       "}\n",
       "\n",
       "#sk-container-id-3 div.sk-toggleable__content.fitted {\n",
       "  /* fitted */\n",
       "  background-color: var(--sklearn-color-fitted-level-0);\n",
       "}\n",
       "\n",
       "#sk-container-id-3 div.sk-toggleable__content pre {\n",
       "  margin: 0.2em;\n",
       "  border-radius: 0.25em;\n",
       "  color: var(--sklearn-color-text);\n",
       "  /* unfitted */\n",
       "  background-color: var(--sklearn-color-unfitted-level-0);\n",
       "}\n",
       "\n",
       "#sk-container-id-3 div.sk-toggleable__content.fitted pre {\n",
       "  /* unfitted */\n",
       "  background-color: var(--sklearn-color-fitted-level-0);\n",
       "}\n",
       "\n",
       "#sk-container-id-3 input.sk-toggleable__control:checked~div.sk-toggleable__content {\n",
       "  /* Expand drop-down */\n",
       "  max-height: 200px;\n",
       "  max-width: 100%;\n",
       "  overflow: auto;\n",
       "}\n",
       "\n",
       "#sk-container-id-3 input.sk-toggleable__control:checked~label.sk-toggleable__label-arrow:before {\n",
       "  content: \"▾\";\n",
       "}\n",
       "\n",
       "/* Pipeline/ColumnTransformer-specific style */\n",
       "\n",
       "#sk-container-id-3 div.sk-label input.sk-toggleable__control:checked~label.sk-toggleable__label {\n",
       "  color: var(--sklearn-color-text);\n",
       "  background-color: var(--sklearn-color-unfitted-level-2);\n",
       "}\n",
       "\n",
       "#sk-container-id-3 div.sk-label.fitted input.sk-toggleable__control:checked~label.sk-toggleable__label {\n",
       "  background-color: var(--sklearn-color-fitted-level-2);\n",
       "}\n",
       "\n",
       "/* Estimator-specific style */\n",
       "\n",
       "/* Colorize estimator box */\n",
       "#sk-container-id-3 div.sk-estimator input.sk-toggleable__control:checked~label.sk-toggleable__label {\n",
       "  /* unfitted */\n",
       "  background-color: var(--sklearn-color-unfitted-level-2);\n",
       "}\n",
       "\n",
       "#sk-container-id-3 div.sk-estimator.fitted input.sk-toggleable__control:checked~label.sk-toggleable__label {\n",
       "  /* fitted */\n",
       "  background-color: var(--sklearn-color-fitted-level-2);\n",
       "}\n",
       "\n",
       "#sk-container-id-3 div.sk-label label.sk-toggleable__label,\n",
       "#sk-container-id-3 div.sk-label label {\n",
       "  /* The background is the default theme color */\n",
       "  color: var(--sklearn-color-text-on-default-background);\n",
       "}\n",
       "\n",
       "/* On hover, darken the color of the background */\n",
       "#sk-container-id-3 div.sk-label:hover label.sk-toggleable__label {\n",
       "  color: var(--sklearn-color-text);\n",
       "  background-color: var(--sklearn-color-unfitted-level-2);\n",
       "}\n",
       "\n",
       "/* Label box, darken color on hover, fitted */\n",
       "#sk-container-id-3 div.sk-label.fitted:hover label.sk-toggleable__label.fitted {\n",
       "  color: var(--sklearn-color-text);\n",
       "  background-color: var(--sklearn-color-fitted-level-2);\n",
       "}\n",
       "\n",
       "/* Estimator label */\n",
       "\n",
       "#sk-container-id-3 div.sk-label label {\n",
       "  font-family: monospace;\n",
       "  font-weight: bold;\n",
       "  display: inline-block;\n",
       "  line-height: 1.2em;\n",
       "}\n",
       "\n",
       "#sk-container-id-3 div.sk-label-container {\n",
       "  text-align: center;\n",
       "}\n",
       "\n",
       "/* Estimator-specific */\n",
       "#sk-container-id-3 div.sk-estimator {\n",
       "  font-family: monospace;\n",
       "  border: 1px dotted var(--sklearn-color-border-box);\n",
       "  border-radius: 0.25em;\n",
       "  box-sizing: border-box;\n",
       "  margin-bottom: 0.5em;\n",
       "  /* unfitted */\n",
       "  background-color: var(--sklearn-color-unfitted-level-0);\n",
       "}\n",
       "\n",
       "#sk-container-id-3 div.sk-estimator.fitted {\n",
       "  /* fitted */\n",
       "  background-color: var(--sklearn-color-fitted-level-0);\n",
       "}\n",
       "\n",
       "/* on hover */\n",
       "#sk-container-id-3 div.sk-estimator:hover {\n",
       "  /* unfitted */\n",
       "  background-color: var(--sklearn-color-unfitted-level-2);\n",
       "}\n",
       "\n",
       "#sk-container-id-3 div.sk-estimator.fitted:hover {\n",
       "  /* fitted */\n",
       "  background-color: var(--sklearn-color-fitted-level-2);\n",
       "}\n",
       "\n",
       "/* Specification for estimator info (e.g. \"i\" and \"?\") */\n",
       "\n",
       "/* Common style for \"i\" and \"?\" */\n",
       "\n",
       ".sk-estimator-doc-link,\n",
       "a:link.sk-estimator-doc-link,\n",
       "a:visited.sk-estimator-doc-link {\n",
       "  float: right;\n",
       "  font-size: smaller;\n",
       "  line-height: 1em;\n",
       "  font-family: monospace;\n",
       "  background-color: var(--sklearn-color-background);\n",
       "  border-radius: 1em;\n",
       "  height: 1em;\n",
       "  width: 1em;\n",
       "  text-decoration: none !important;\n",
       "  margin-left: 1ex;\n",
       "  /* unfitted */\n",
       "  border: var(--sklearn-color-unfitted-level-1) 1pt solid;\n",
       "  color: var(--sklearn-color-unfitted-level-1);\n",
       "}\n",
       "\n",
       ".sk-estimator-doc-link.fitted,\n",
       "a:link.sk-estimator-doc-link.fitted,\n",
       "a:visited.sk-estimator-doc-link.fitted {\n",
       "  /* fitted */\n",
       "  border: var(--sklearn-color-fitted-level-1) 1pt solid;\n",
       "  color: var(--sklearn-color-fitted-level-1);\n",
       "}\n",
       "\n",
       "/* On hover */\n",
       "div.sk-estimator:hover .sk-estimator-doc-link:hover,\n",
       ".sk-estimator-doc-link:hover,\n",
       "div.sk-label-container:hover .sk-estimator-doc-link:hover,\n",
       ".sk-estimator-doc-link:hover {\n",
       "  /* unfitted */\n",
       "  background-color: var(--sklearn-color-unfitted-level-3);\n",
       "  color: var(--sklearn-color-background);\n",
       "  text-decoration: none;\n",
       "}\n",
       "\n",
       "div.sk-estimator.fitted:hover .sk-estimator-doc-link.fitted:hover,\n",
       ".sk-estimator-doc-link.fitted:hover,\n",
       "div.sk-label-container:hover .sk-estimator-doc-link.fitted:hover,\n",
       ".sk-estimator-doc-link.fitted:hover {\n",
       "  /* fitted */\n",
       "  background-color: var(--sklearn-color-fitted-level-3);\n",
       "  color: var(--sklearn-color-background);\n",
       "  text-decoration: none;\n",
       "}\n",
       "\n",
       "/* Span, style for the box shown on hovering the info icon */\n",
       ".sk-estimator-doc-link span {\n",
       "  display: none;\n",
       "  z-index: 9999;\n",
       "  position: relative;\n",
       "  font-weight: normal;\n",
       "  right: .2ex;\n",
       "  padding: .5ex;\n",
       "  margin: .5ex;\n",
       "  width: min-content;\n",
       "  min-width: 20ex;\n",
       "  max-width: 50ex;\n",
       "  color: var(--sklearn-color-text);\n",
       "  box-shadow: 2pt 2pt 4pt #999;\n",
       "  /* unfitted */\n",
       "  background: var(--sklearn-color-unfitted-level-0);\n",
       "  border: .5pt solid var(--sklearn-color-unfitted-level-3);\n",
       "}\n",
       "\n",
       ".sk-estimator-doc-link.fitted span {\n",
       "  /* fitted */\n",
       "  background: var(--sklearn-color-fitted-level-0);\n",
       "  border: var(--sklearn-color-fitted-level-3);\n",
       "}\n",
       "\n",
       ".sk-estimator-doc-link:hover span {\n",
       "  display: block;\n",
       "}\n",
       "\n",
       "/* \"?\"-specific style due to the `<a>` HTML tag */\n",
       "\n",
       "#sk-container-id-3 a.estimator_doc_link {\n",
       "  float: right;\n",
       "  font-size: 1rem;\n",
       "  line-height: 1em;\n",
       "  font-family: monospace;\n",
       "  background-color: var(--sklearn-color-background);\n",
       "  border-radius: 1rem;\n",
       "  height: 1rem;\n",
       "  width: 1rem;\n",
       "  text-decoration: none;\n",
       "  /* unfitted */\n",
       "  color: var(--sklearn-color-unfitted-level-1);\n",
       "  border: var(--sklearn-color-unfitted-level-1) 1pt solid;\n",
       "}\n",
       "\n",
       "#sk-container-id-3 a.estimator_doc_link.fitted {\n",
       "  /* fitted */\n",
       "  border: var(--sklearn-color-fitted-level-1) 1pt solid;\n",
       "  color: var(--sklearn-color-fitted-level-1);\n",
       "}\n",
       "\n",
       "/* On hover */\n",
       "#sk-container-id-3 a.estimator_doc_link:hover {\n",
       "  /* unfitted */\n",
       "  background-color: var(--sklearn-color-unfitted-level-3);\n",
       "  color: var(--sklearn-color-background);\n",
       "  text-decoration: none;\n",
       "}\n",
       "\n",
       "#sk-container-id-3 a.estimator_doc_link.fitted:hover {\n",
       "  /* fitted */\n",
       "  background-color: var(--sklearn-color-fitted-level-3);\n",
       "}\n",
       "</style><div id=\"sk-container-id-3\" class=\"sk-top-container\"><div class=\"sk-text-repr-fallback\"><pre>KMeans(n_clusters=6, random_state=42)</pre><b>In a Jupyter environment, please rerun this cell to show the HTML representation or trust the notebook. <br />On GitHub, the HTML representation is unable to render, please try loading this page with nbviewer.org.</b></div><div class=\"sk-container\" hidden><div class=\"sk-item\"><div class=\"sk-estimator fitted sk-toggleable\"><input class=\"sk-toggleable__control sk-hidden--visually\" id=\"sk-estimator-id-3\" type=\"checkbox\" checked><label for=\"sk-estimator-id-3\" class=\"sk-toggleable__label fitted sk-toggleable__label-arrow fitted\">&nbsp;&nbsp;KMeans<a class=\"sk-estimator-doc-link fitted\" rel=\"noreferrer\" target=\"_blank\" href=\"https://scikit-learn.org/1.5/modules/generated/sklearn.cluster.KMeans.html\">?<span>Documentation for KMeans</span></a><span class=\"sk-estimator-doc-link fitted\">i<span>Fitted</span></span></label><div class=\"sk-toggleable__content fitted\"><pre>KMeans(n_clusters=6, random_state=42)</pre></div> </div></div></div></div>"
      ],
      "text/plain": [
       "KMeans(n_clusters=6, random_state=42)"
      ]
     },
     "execution_count": 102,
     "metadata": {},
     "output_type": "execute_result"
    }
   ],
   "source": [
    "#KMeans.\n",
    "optimal_k = 6\n",
    "kmeans = KMeans(n_clusters=optimal_k, random_state=42)\n",
    "kmeans.fit(X_unsupervised)"
   ]
  },
  {
   "cell_type": "code",
   "execution_count": 103,
   "metadata": {},
   "outputs": [
    {
     "name": "stdout",
     "output_type": "stream",
     "text": [
      "Optimal number of clusters: 6\n",
      "Inertia for optimal_k (6): 1052154.2826\n"
     ]
    }
   ],
   "source": [
    "X_unsupervised['Cluster'] = kmeans.predict(X_unsupervised)\n",
    "\n",
    "print(f\"Optimal number of clusters: {optimal_k}\")\n",
    "print(f\"Inertia for optimal_k ({optimal_k}): {kmeans.inertia_:.4f}\")"
   ]
  },
  {
   "cell_type": "code",
   "execution_count": 104,
   "metadata": {},
   "outputs": [
    {
     "name": "stdout",
     "output_type": "stream",
     "text": [
      "Optimal number of clusters: 6\n",
      "Inertia for optimal_k (6): 1052154.2826\n",
      "Silhouette Score (Average): 0.3645\n"
     ]
    },
    {
     "data": {
      "image/png": "[encoded data removed]",
      "text/plain": [
       "<Figure size 1000x800 with 1 Axes>"
      ]
     },
     "metadata": {},
     "output_type": "display_data"
    }
   ],
   "source": [
    "silhouette_avg = silhouette_score(X_unsupervised, X_unsupervised['Cluster'])\n",
    "silhouette_values = silhouette_samples(X_unsupervised, X_unsupervised['Cluster'])\n",
    "\n",
    "print(f\"Optimal number of clusters: {optimal_k}\")\n",
    "print(f\"Inertia for optimal_k ({optimal_k}): {kmeans.inertia_:.4f}\")\n",
    "print(f\"Silhouette Score (Average): {silhouette_avg:.4f}\")\n",
    "\n",
    "# Gráfico de silueta\n",
    "plt.figure(figsize=(10, 8))\n",
    "y_lower = 10\n",
    "\n",
    "for i in range(optimal_k):\n",
    "    cluster_silhouette_values = silhouette_values[X_unsupervised['Cluster'] == i]\n",
    "    cluster_silhouette_values.sort()\n",
    "    cluster_size = len(cluster_silhouette_values)\n",
    "    y_upper = y_lower + cluster_size\n",
    "    \n",
    "    plt.fill_betweenx(\n",
    "        np.arange(y_lower, y_upper),\n",
    "        0,\n",
    "        cluster_silhouette_values,\n",
    "        alpha=0.7,\n",
    "        color=denexus_colors[i % len(denexus_colors)]\n",
    "    )\n",
    "    plt.text(-0.05, y_lower + 0.5 * cluster_size, str(i))\n",
    "    y_lower = y_upper + 10  # Espacio entre clusters\n",
    "\n",
    "plt.axvline(x=silhouette_avg, color=\"red\", linestyle=\"--\", label=f\"Avg Silhouette Score: {silhouette_avg:.4f}\")\n",
    "plt.title(\"Silhouette Analysis for KMeans Clustering\")\n",
    "plt.xlabel(\"Silhouette Score\")\n",
    "plt.ylabel(\"Cluster Label\")\n",
    "plt.legend()\n",
    "plt.grid()\n",
    "plt.tight_layout()\n",
    "# Guardar el gráfico en la carpeta 'plots'.\n",
    "output_dir = \"plots\"\n",
    "if os.path.exists(output_dir) and os.path.isdir(output_dir):\n",
    "    output_path = os.path.join(output_dir, \"silhouette-analysis-kmeans-cluster.png\")\n",
    "    plt.savefig(output_path)\n",
    "plt.show()"
   ]
  },
  {
   "cell_type": "markdown",
   "metadata": {},
   "source": [
    "## Gráficas generales."
   ]
  },
  {
   "cell_type": "code",
   "execution_count": 105,
   "metadata": {},
   "outputs": [
    {
     "data": {
      "image/png": "[encoded data removed]",
      "text/plain": [
       "<Figure size 1200x600 with 1 Axes>"
      ]
     },
     "metadata": {},
     "output_type": "display_data"
    }
   ],
   "source": [
    "plt.figure(figsize=(12, 6))\n",
    "sns.countplot(data=df_cleaned, x='event_type', palette=denexus_colors)\n",
    "plt.title('Number of Incidents by Type of Event')\n",
    "plt.xlabel('Type of Event')\n",
    "plt.ylabel('Number of Incidents')\n",
    "plt.xticks(rotation=45)\n",
    "plt.grid(False)\n",
    "# Guardar el gráfico en la carpeta 'plots'.\n",
    "output_dir = \"plots\"\n",
    "if os.path.exists(output_dir) and os.path.isdir(output_dir):\n",
    "    output_path = os.path.join(output_dir, \"num-incidents-by-type-event.png\")\n",
    "    plt.savefig(output_path)\n",
    "plt.show()"
   ]
  },
  {
   "cell_type": "code",
   "execution_count": 106,
   "metadata": {},
   "outputs": [
    {
     "data": {
      "image/png": "[encoded data removed]",
      "text/plain": [
       "<Figure size 1200x800 with 1 Axes>"
      ]
     },
     "metadata": {},
     "output_type": "display_data"
    }
   ],
   "source": [
    "motive_counts = df_cleaned['motive'].value_counts()\n",
    "labels = motive_counts.index\n",
    "sizes = motive_counts.values\n",
    "\n",
    "plt.figure(figsize=(12, 8))\n",
    "plt.barh(labels, sizes, color=denexus_colors[0])\n",
    "plt.xlabel('Number of Incidents')\n",
    "plt.title('Distribution of Motives about Incidents', fontsize=16)\n",
    "plt.xticks(rotation=45)\n",
    "plt.grid(axis='x')\n",
    "plt.tight_layout()\n",
    "output_dir = \"plots\"\n",
    "if os.path.exists(output_dir) and os.path.isdir(output_dir):\n",
    "    output_path = os.path.join(output_dir, \"distribution-motives-incidents.png\")\n",
    "    plt.savefig(output_path)\n",
    "plt.show()"
   ]
  },
  {
   "cell_type": "code",
   "execution_count": 107,
   "metadata": {},
   "outputs": [
    {
     "data": {
      "image/png": "[encoded data removed]",
      "text/plain": [
       "<Figure size 1200x600 with 1 Axes>"
      ]
     },
     "metadata": {},
     "output_type": "display_data"
    }
   ],
   "source": [
    "plt.figure(figsize=(12, 6))\n",
    "sns.histplot(df_cleaned['year'], bins=range(df['year'].min(), df['year'].max() + 1), kde=False, color=denexus_colors[0])\n",
    "plt.title('Number of Incidents by Year')\n",
    "plt.xlabel('Year')\n",
    "plt.ylabel('Number of Incidents')\n",
    "plt.grid(axis='y')\n",
    "# Guardar el gráfico en la carpeta 'plots'.\n",
    "output_dir = \"plots\"\n",
    "if os.path.exists(output_dir) and os.path.isdir(output_dir):\n",
    "    output_path = os.path.join(output_dir, \"num-incidents-per-year.png\")\n",
    "    plt.savefig(output_path)\n",
    "plt.show()"
   ]
  }
 ],
 "metadata": {
  "kernelspec": {
   "display_name": "base",
   "language": "python",
   "name": "python3"
  },
  "language_info": {
   "codemirror_mode": {
    "name": "ipython",
    "version": 3
   },
   "file_extension": ".py",
   "mimetype": "text/x-python",
   "name": "python",
   "nbconvert_exporter": "python",
   "pygments_lexer": "ipython3",
   "version": "3.9.13"
  }
 },
 "nbformat": 4,
 "nbformat_minor": 2
}
