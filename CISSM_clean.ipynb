{
 "cells": [
  {
   "cell_type": "markdown",
   "metadata": {},
   "source": [
    "# CISSM.\n",
    "El archivo CSV contiene información sobre incidentes de ciberataques, con detalles sobre la fecha del evento, los actores involucrados, el tipo de evento, la organización afectada, el tipo de industria, la fuente del evento, el país, el motivo y el tipo de ataque."
   ]
  },
  {
   "cell_type": "markdown",
   "metadata": {},
   "source": [
    "## Importación de librerías."
   ]
  },
  {
   "cell_type": "code",
   "execution_count": 125,
   "metadata": {},
   "outputs": [],
   "source": [
    "import pandas as pd\n",
    "import matplotlib.pyplot as plt\n",
    "import seaborn as sns\n",
    "from sklearn.preprocessing import OrdinalEncoder\n",
    "from urllib.parse import urlparse\n",
    "from sklearn.model_selection import train_test_split\n",
    "from sklearn.preprocessing import StandardScaler\n",
    "from sklearn.ensemble import RandomForestClassifier\n",
    "from sklearn.model_selection import train_test_split, cross_val_score\n",
    "from sklearn.tree import DecisionTreeClassifier\n",
    "from sklearn.linear_model import LogisticRegression"
   ]
  },
  {
   "cell_type": "markdown",
   "metadata": {},
   "source": [
    "## Importación e información de dataframes"
   ]
  },
  {
   "cell_type": "code",
   "execution_count": 126,
   "metadata": {},
   "outputs": [
    {
     "data": {
      "text/html": [
       "<div>\n",
       "<style scoped>\n",
       "    .dataframe tbody tr th:only-of-type {\n",
       "        vertical-align: middle;\n",
       "    }\n",
       "\n",
       "    .dataframe tbody tr th {\n",
       "        vertical-align: top;\n",
       "    }\n",
       "\n",
       "    .dataframe thead th {\n",
       "        text-align: right;\n",
       "    }\n",
       "</style>\n",
       "<table border=\"1\" class=\"dataframe\">\n",
       "  <thead>\n",
       "    <tr style=\"text-align: right;\">\n",
       "      <th></th>\n",
       "      <th>event_description</th>\n",
       "      <th>event_date</th>\n",
       "      <th>actor</th>\n",
       "      <th>actor_type</th>\n",
       "      <th>event_type</th>\n",
       "      <th>organization</th>\n",
       "      <th>event_subtype</th>\n",
       "      <th>motive</th>\n",
       "      <th>event_source</th>\n",
       "      <th>country</th>\n",
       "      <th>industry</th>\n",
       "      <th>industry_code</th>\n",
       "      <th>id</th>\n",
       "      <th>dnx_id</th>\n",
       "      <th>date_uploaded</th>\n",
       "    </tr>\n",
       "  </thead>\n",
       "  <tbody>\n",
       "    <tr>\n",
       "      <th>0</th>\n",
       "      <td>Innovery, an Italian company delivering IT ser...</td>\n",
       "      <td>2023-09-30</td>\n",
       "      <td>Undetermined</td>\n",
       "      <td>Criminal</td>\n",
       "      <td>Exploitive</td>\n",
       "      <td>Innovery</td>\n",
       "      <td>Exploitation of Application Server</td>\n",
       "      <td>Financial</td>\n",
       "      <td>https://www.redhotcyber.com/post/attacco-infor...</td>\n",
       "      <td>ITA</td>\n",
       "      <td>Professional, Scientific, and Technical Services</td>\n",
       "      <td>54.0</td>\n",
       "      <td>f5c2ebc02807a6b3</td>\n",
       "      <td>inc_cis_13422</td>\n",
       "      <td>2024-04-01</td>\n",
       "    </tr>\n",
       "    <tr>\n",
       "      <th>1</th>\n",
       "      <td>The ALPHV/BlackCat ransomware gang adds the ho...</td>\n",
       "      <td>2023-09-30</td>\n",
       "      <td>ALPHV</td>\n",
       "      <td>Criminal</td>\n",
       "      <td>Mixed</td>\n",
       "      <td>Motel One</td>\n",
       "      <td>Data Attack,Undetermined</td>\n",
       "      <td>Financial</td>\n",
       "      <td>https://securityaffairs.com/151732/cyber-crime...</td>\n",
       "      <td>DEU</td>\n",
       "      <td>Accommodation and Food Services</td>\n",
       "      <td>72.0</td>\n",
       "      <td>0b7a20f4161d89b2</td>\n",
       "      <td>inc_cis_13421</td>\n",
       "      <td>2024-04-01</td>\n",
       "    </tr>\n",
       "    <tr>\n",
       "      <th>2</th>\n",
       "      <td>The pro-Russian collective NoName057(16) takes...</td>\n",
       "      <td>2023-09-29</td>\n",
       "      <td>NoName057(16)</td>\n",
       "      <td>Hacktivist</td>\n",
       "      <td>Disruptive</td>\n",
       "      <td>Multiple organizations in Italy</td>\n",
       "      <td>External Denial of Service</td>\n",
       "      <td>Protest</td>\n",
       "      <td>https://www.redhotcyber.com/post/si-ricomincia...</td>\n",
       "      <td>ITA</td>\n",
       "      <td>Public Administration</td>\n",
       "      <td>92.0</td>\n",
       "      <td>2e37d07ef6ef3cb6</td>\n",
       "      <td>inc_cis_13420</td>\n",
       "      <td>2024-04-01</td>\n",
       "    </tr>\n",
       "    <tr>\n",
       "      <th>3</th>\n",
       "      <td>API Financial Solutions files a notice of data...</td>\n",
       "      <td>2023-09-29</td>\n",
       "      <td>Undetermined</td>\n",
       "      <td>Criminal</td>\n",
       "      <td>Exploitive</td>\n",
       "      <td>API Financial Solutions</td>\n",
       "      <td>Undetermined</td>\n",
       "      <td>Financial</td>\n",
       "      <td>https://www.jdsupra.com/legalnews/api-financia...</td>\n",
       "      <td>USA</td>\n",
       "      <td>Finance and Insurance</td>\n",
       "      <td>52.0</td>\n",
       "      <td>f8029e6b6169de1f</td>\n",
       "      <td>inc_cis_13419</td>\n",
       "      <td>2024-04-01</td>\n",
       "    </tr>\n",
       "    <tr>\n",
       "      <th>4</th>\n",
       "      <td>McLaren HealthCare, confirms to be dealing wit...</td>\n",
       "      <td>2023-09-29</td>\n",
       "      <td>ALPHV</td>\n",
       "      <td>Criminal</td>\n",
       "      <td>Mixed</td>\n",
       "      <td>McLaren HealthCare</td>\n",
       "      <td>Data Attack,Undetermined</td>\n",
       "      <td>Financial</td>\n",
       "      <td>https://therecord.media/mclaren-healthcare-ran...</td>\n",
       "      <td>USA</td>\n",
       "      <td>Health Care and Social Assistance</td>\n",
       "      <td>62.0</td>\n",
       "      <td>1ed93f0579b9056c</td>\n",
       "      <td>inc_cis_13418</td>\n",
       "      <td>2024-04-01</td>\n",
       "    </tr>\n",
       "    <tr>\n",
       "      <th>...</th>\n",
       "      <td>...</td>\n",
       "      <td>...</td>\n",
       "      <td>...</td>\n",
       "      <td>...</td>\n",
       "      <td>...</td>\n",
       "      <td>...</td>\n",
       "      <td>...</td>\n",
       "      <td>...</td>\n",
       "      <td>...</td>\n",
       "      <td>...</td>\n",
       "      <td>...</td>\n",
       "      <td>...</td>\n",
       "      <td>...</td>\n",
       "      <td>...</td>\n",
       "      <td>...</td>\n",
       "    </tr>\n",
       "    <tr>\n",
       "      <th>13418</th>\n",
       "      <td>Erlanger Health is also affected by the MOVEit...</td>\n",
       "      <td>2023-09-27</td>\n",
       "      <td>Qilin</td>\n",
       "      <td>Criminal</td>\n",
       "      <td>Mixed</td>\n",
       "      <td>Cardiovascular Consultants</td>\n",
       "      <td>Exploitation of Application Server</td>\n",
       "      <td>Financial</td>\n",
       "      <td>https://www.databreaches.net/cardiovascular-co...</td>\n",
       "      <td>USA</td>\n",
       "      <td>Health Care and Social Assistance</td>\n",
       "      <td>62.0</td>\n",
       "      <td>c823006f6c70313c</td>\n",
       "      <td>inc_cis_4</td>\n",
       "      <td>2024-04-01</td>\n",
       "    </tr>\n",
       "    <tr>\n",
       "      <th>13419</th>\n",
       "      <td>The European Telecommunications Standards Inst...</td>\n",
       "      <td>2023-09-27</td>\n",
       "      <td>cl0p</td>\n",
       "      <td>Criminal</td>\n",
       "      <td>Exploitive</td>\n",
       "      <td>Erlanger Health</td>\n",
       "      <td>Exploitation of Application Server</td>\n",
       "      <td>Financial</td>\n",
       "      <td>https://www.hipaajournal.com/oak-valley-hospit...</td>\n",
       "      <td>USA</td>\n",
       "      <td>Health Care and Social Assistance</td>\n",
       "      <td>62.0</td>\n",
       "      <td>c886a43fe79a0a7b</td>\n",
       "      <td>inc_cis_3</td>\n",
       "      <td>2024-04-01</td>\n",
       "    </tr>\n",
       "    <tr>\n",
       "      <th>13420</th>\n",
       "      <td>Lost Trust Team adds GI Medical Services in Ne...</td>\n",
       "      <td>2023-09-27</td>\n",
       "      <td>Undetermined</td>\n",
       "      <td>Criminal</td>\n",
       "      <td>Exploitive</td>\n",
       "      <td>European Telecommunications Standards Institut...</td>\n",
       "      <td>Exploitation of Application Server</td>\n",
       "      <td>Undetermined</td>\n",
       "      <td>https://therecord.media/etsi-telecommunication...</td>\n",
       "      <td>FRA</td>\n",
       "      <td>Information</td>\n",
       "      <td>51.0</td>\n",
       "      <td>bb17aacdf2e20d25</td>\n",
       "      <td>inc_cis_2</td>\n",
       "      <td>2024-04-01</td>\n",
       "    </tr>\n",
       "    <tr>\n",
       "      <th>13421</th>\n",
       "      <td>UK charities including Shelter, the RSPCA, the...</td>\n",
       "      <td>2023-09-27</td>\n",
       "      <td>Lost Trust</td>\n",
       "      <td>Criminal</td>\n",
       "      <td>Exploitive</td>\n",
       "      <td>GI Medical Services</td>\n",
       "      <td>Undetermined</td>\n",
       "      <td>Financial</td>\n",
       "      <td>https://www.databreaches.net/and-yet-more-vict...</td>\n",
       "      <td>USA</td>\n",
       "      <td>Health Care and Social Assistance</td>\n",
       "      <td>62.0</td>\n",
       "      <td>bac11292d79231f0</td>\n",
       "      <td>inc_cis_1</td>\n",
       "      <td>2024-04-01</td>\n",
       "    </tr>\n",
       "    <tr>\n",
       "      <th>13422</th>\n",
       "      <td>[]</td>\n",
       "      <td>2023-09-27</td>\n",
       "      <td>Undetermined</td>\n",
       "      <td>Criminal</td>\n",
       "      <td>Exploitive</td>\n",
       "      <td>Kokoro</td>\n",
       "      <td>Undetermined</td>\n",
       "      <td>Financial</td>\n",
       "      <td>https://grahamcluley.com/british-charities-war...</td>\n",
       "      <td>GBR</td>\n",
       "      <td>Professional, Scientific, and Technical Services</td>\n",
       "      <td>54.0</td>\n",
       "      <td>1b4c2a9495a49c91</td>\n",
       "      <td>inc_cis_0</td>\n",
       "      <td>2024-04-01</td>\n",
       "    </tr>\n",
       "  </tbody>\n",
       "</table>\n",
       "<p>13423 rows × 15 columns</p>\n",
       "</div>"
      ],
      "text/plain": [
       "                                       event_description  event_date  \\\n",
       "0      Innovery, an Italian company delivering IT ser...  2023-09-30   \n",
       "1      The ALPHV/BlackCat ransomware gang adds the ho...  2023-09-30   \n",
       "2      The pro-Russian collective NoName057(16) takes...  2023-09-29   \n",
       "3      API Financial Solutions files a notice of data...  2023-09-29   \n",
       "4      McLaren HealthCare, confirms to be dealing wit...  2023-09-29   \n",
       "...                                                  ...         ...   \n",
       "13418  Erlanger Health is also affected by the MOVEit...  2023-09-27   \n",
       "13419  The European Telecommunications Standards Inst...  2023-09-27   \n",
       "13420  Lost Trust Team adds GI Medical Services in Ne...  2023-09-27   \n",
       "13421  UK charities including Shelter, the RSPCA, the...  2023-09-27   \n",
       "13422                                                 []  2023-09-27   \n",
       "\n",
       "               actor  actor_type  event_type  \\\n",
       "0       Undetermined    Criminal  Exploitive   \n",
       "1              ALPHV    Criminal       Mixed   \n",
       "2      NoName057(16)  Hacktivist  Disruptive   \n",
       "3       Undetermined    Criminal  Exploitive   \n",
       "4              ALPHV    Criminal       Mixed   \n",
       "...              ...         ...         ...   \n",
       "13418          Qilin    Criminal       Mixed   \n",
       "13419           cl0p    Criminal  Exploitive   \n",
       "13420   Undetermined    Criminal  Exploitive   \n",
       "13421     Lost Trust    Criminal  Exploitive   \n",
       "13422   Undetermined    Criminal  Exploitive   \n",
       "\n",
       "                                            organization  \\\n",
       "0                                               Innovery   \n",
       "1                                              Motel One   \n",
       "2                        Multiple organizations in Italy   \n",
       "3                                API Financial Solutions   \n",
       "4                                     McLaren HealthCare   \n",
       "...                                                  ...   \n",
       "13418                         Cardiovascular Consultants   \n",
       "13419                                    Erlanger Health   \n",
       "13420  European Telecommunications Standards Institut...   \n",
       "13421                                GI Medical Services   \n",
       "13422                                             Kokoro   \n",
       "\n",
       "                            event_subtype        motive  \\\n",
       "0      Exploitation of Application Server     Financial   \n",
       "1                Data Attack,Undetermined     Financial   \n",
       "2              External Denial of Service       Protest   \n",
       "3                            Undetermined     Financial   \n",
       "4                Data Attack,Undetermined     Financial   \n",
       "...                                   ...           ...   \n",
       "13418  Exploitation of Application Server     Financial   \n",
       "13419  Exploitation of Application Server     Financial   \n",
       "13420  Exploitation of Application Server  Undetermined   \n",
       "13421                        Undetermined     Financial   \n",
       "13422                        Undetermined     Financial   \n",
       "\n",
       "                                            event_source country  \\\n",
       "0      https://www.redhotcyber.com/post/attacco-infor...     ITA   \n",
       "1      https://securityaffairs.com/151732/cyber-crime...     DEU   \n",
       "2      https://www.redhotcyber.com/post/si-ricomincia...     ITA   \n",
       "3      https://www.jdsupra.com/legalnews/api-financia...     USA   \n",
       "4      https://therecord.media/mclaren-healthcare-ran...     USA   \n",
       "...                                                  ...     ...   \n",
       "13418  https://www.databreaches.net/cardiovascular-co...     USA   \n",
       "13419  https://www.hipaajournal.com/oak-valley-hospit...     USA   \n",
       "13420  https://therecord.media/etsi-telecommunication...     FRA   \n",
       "13421  https://www.databreaches.net/and-yet-more-vict...     USA   \n",
       "13422  https://grahamcluley.com/british-charities-war...     GBR   \n",
       "\n",
       "                                               industry industry_code  \\\n",
       "0      Professional, Scientific, and Technical Services          54.0   \n",
       "1                       Accommodation and Food Services          72.0   \n",
       "2                                 Public Administration          92.0   \n",
       "3                                 Finance and Insurance          52.0   \n",
       "4                     Health Care and Social Assistance          62.0   \n",
       "...                                                 ...           ...   \n",
       "13418                 Health Care and Social Assistance          62.0   \n",
       "13419                 Health Care and Social Assistance          62.0   \n",
       "13420                                       Information          51.0   \n",
       "13421                 Health Care and Social Assistance          62.0   \n",
       "13422  Professional, Scientific, and Technical Services          54.0   \n",
       "\n",
       "                     id         dnx_id date_uploaded  \n",
       "0      f5c2ebc02807a6b3  inc_cis_13422    2024-04-01  \n",
       "1      0b7a20f4161d89b2  inc_cis_13421    2024-04-01  \n",
       "2      2e37d07ef6ef3cb6  inc_cis_13420    2024-04-01  \n",
       "3      f8029e6b6169de1f  inc_cis_13419    2024-04-01  \n",
       "4      1ed93f0579b9056c  inc_cis_13418    2024-04-01  \n",
       "...                 ...            ...           ...  \n",
       "13418  c823006f6c70313c      inc_cis_4    2024-04-01  \n",
       "13419  c886a43fe79a0a7b      inc_cis_3    2024-04-01  \n",
       "13420  bb17aacdf2e20d25      inc_cis_2    2024-04-01  \n",
       "13421  bac11292d79231f0      inc_cis_1    2024-04-01  \n",
       "13422  1b4c2a9495a49c91      inc_cis_0    2024-04-01  \n",
       "\n",
       "[13423 rows x 15 columns]"
      ]
     },
     "execution_count": 126,
     "metadata": {},
     "output_type": "execute_result"
    }
   ],
   "source": [
    "df = pd.read_csv('./data/CISSM.csv')\n",
    "df"
   ]
  },
  {
   "cell_type": "markdown",
   "metadata": {},
   "source": [
    "Debemos de tomar la columna ID como índice."
   ]
  },
  {
   "cell_type": "code",
   "execution_count": 127,
   "metadata": {},
   "outputs": [],
   "source": [
    "df.set_index('id', inplace=True)"
   ]
  },
  {
   "cell_type": "code",
   "execution_count": 128,
   "metadata": {},
   "outputs": [
    {
     "data": {
      "text/html": [
       "<div>\n",
       "<style scoped>\n",
       "    .dataframe tbody tr th:only-of-type {\n",
       "        vertical-align: middle;\n",
       "    }\n",
       "\n",
       "    .dataframe tbody tr th {\n",
       "        vertical-align: top;\n",
       "    }\n",
       "\n",
       "    .dataframe thead th {\n",
       "        text-align: right;\n",
       "    }\n",
       "</style>\n",
       "<table border=\"1\" class=\"dataframe\">\n",
       "  <thead>\n",
       "    <tr style=\"text-align: right;\">\n",
       "      <th></th>\n",
       "      <th>event_description</th>\n",
       "      <th>event_date</th>\n",
       "      <th>actor</th>\n",
       "      <th>actor_type</th>\n",
       "      <th>event_type</th>\n",
       "      <th>organization</th>\n",
       "      <th>event_subtype</th>\n",
       "      <th>motive</th>\n",
       "      <th>event_source</th>\n",
       "      <th>country</th>\n",
       "      <th>industry</th>\n",
       "      <th>industry_code</th>\n",
       "      <th>dnx_id</th>\n",
       "      <th>date_uploaded</th>\n",
       "    </tr>\n",
       "  </thead>\n",
       "  <tbody>\n",
       "    <tr>\n",
       "      <th>count</th>\n",
       "      <td>13423</td>\n",
       "      <td>13423</td>\n",
       "      <td>13423</td>\n",
       "      <td>13423</td>\n",
       "      <td>13423</td>\n",
       "      <td>13423</td>\n",
       "      <td>13423</td>\n",
       "      <td>13423</td>\n",
       "      <td>13423</td>\n",
       "      <td>13423</td>\n",
       "      <td>13423</td>\n",
       "      <td>13423</td>\n",
       "      <td>13423</td>\n",
       "      <td>13423</td>\n",
       "    </tr>\n",
       "    <tr>\n",
       "      <th>unique</th>\n",
       "      <td>11646</td>\n",
       "      <td>3126</td>\n",
       "      <td>1163</td>\n",
       "      <td>7</td>\n",
       "      <td>5</td>\n",
       "      <td>12202</td>\n",
       "      <td>95</td>\n",
       "      <td>13</td>\n",
       "      <td>10724</td>\n",
       "      <td>164</td>\n",
       "      <td>22</td>\n",
       "      <td>26</td>\n",
       "      <td>13423</td>\n",
       "      <td>1</td>\n",
       "    </tr>\n",
       "    <tr>\n",
       "      <th>top</th>\n",
       "      <td>Vice Society encrypts network and threatens to...</td>\n",
       "      <td>2017-06-27</td>\n",
       "      <td>Undetermined</td>\n",
       "      <td>Criminal</td>\n",
       "      <td>Exploitive</td>\n",
       "      <td>Undetermined</td>\n",
       "      <td>Exploitation of Application Server</td>\n",
       "      <td>Financial</td>\n",
       "      <td>https://stniiomyjliimcgkvdszvgen3eaaoz55hreqqx...</td>\n",
       "      <td>USA</td>\n",
       "      <td>Public Administration</td>\n",
       "      <td>92.0</td>\n",
       "      <td>inc_cis_13422</td>\n",
       "      <td>2024-04-01</td>\n",
       "    </tr>\n",
       "    <tr>\n",
       "      <th>freq</th>\n",
       "      <td>97</td>\n",
       "      <td>78</td>\n",
       "      <td>7639</td>\n",
       "      <td>10181</td>\n",
       "      <td>6676</td>\n",
       "      <td>56</td>\n",
       "      <td>4314</td>\n",
       "      <td>7533</td>\n",
       "      <td>73</td>\n",
       "      <td>6459</td>\n",
       "      <td>2518</td>\n",
       "      <td>2518</td>\n",
       "      <td>1</td>\n",
       "      <td>13423</td>\n",
       "    </tr>\n",
       "  </tbody>\n",
       "</table>\n",
       "</div>"
      ],
      "text/plain": [
       "                                        event_description  event_date  \\\n",
       "count                                               13423       13423   \n",
       "unique                                              11646        3126   \n",
       "top     Vice Society encrypts network and threatens to...  2017-06-27   \n",
       "freq                                                   97          78   \n",
       "\n",
       "               actor actor_type  event_type  organization  \\\n",
       "count          13423      13423       13423         13423   \n",
       "unique          1163          7           5         12202   \n",
       "top     Undetermined   Criminal  Exploitive  Undetermined   \n",
       "freq            7639      10181        6676            56   \n",
       "\n",
       "                             event_subtype     motive  \\\n",
       "count                                13423      13423   \n",
       "unique                                  95         13   \n",
       "top     Exploitation of Application Server  Financial   \n",
       "freq                                  4314       7533   \n",
       "\n",
       "                                             event_source country  \\\n",
       "count                                               13423   13423   \n",
       "unique                                              10724     164   \n",
       "top     https://stniiomyjliimcgkvdszvgen3eaaoz55hreqqx...     USA   \n",
       "freq                                                   73    6459   \n",
       "\n",
       "                     industry industry_code         dnx_id date_uploaded  \n",
       "count                   13423         13423          13423         13423  \n",
       "unique                     22            26          13423             1  \n",
       "top     Public Administration          92.0  inc_cis_13422    2024-04-01  \n",
       "freq                     2518          2518              1         13423  "
      ]
     },
     "execution_count": 128,
     "metadata": {},
     "output_type": "execute_result"
    }
   ],
   "source": [
    "df.describe()"
   ]
  },
  {
   "cell_type": "code",
   "execution_count": 129,
   "metadata": {},
   "outputs": [
    {
     "data": {
      "text/plain": [
       "(13423, 14)"
      ]
     },
     "execution_count": 129,
     "metadata": {},
     "output_type": "execute_result"
    }
   ],
   "source": [
    "df.shape"
   ]
  },
  {
   "cell_type": "code",
   "execution_count": 130,
   "metadata": {},
   "outputs": [
    {
     "data": {
      "text/plain": [
       "event_description    object\n",
       "event_date           object\n",
       "actor                object\n",
       "actor_type           object\n",
       "event_type           object\n",
       "organization         object\n",
       "event_subtype        object\n",
       "motive               object\n",
       "event_source         object\n",
       "country              object\n",
       "industry             object\n",
       "industry_code        object\n",
       "dnx_id               object\n",
       "date_uploaded        object\n",
       "dtype: object"
      ]
     },
     "execution_count": 130,
     "metadata": {},
     "output_type": "execute_result"
    }
   ],
   "source": [
    "df.dtypes"
   ]
  },
  {
   "cell_type": "code",
   "execution_count": 131,
   "metadata": {},
   "outputs": [],
   "source": [
    "df['industry_code'] = pd.to_numeric(df['industry_code'], errors='coerce')"
   ]
  },
  {
   "cell_type": "code",
   "execution_count": 132,
   "metadata": {},
   "outputs": [
    {
     "data": {
      "text/plain": [
       "Index(['event_description', 'event_date', 'actor', 'actor_type', 'event_type',\n",
       "       'organization', 'event_subtype', 'motive', 'event_source', 'country',\n",
       "       'industry', 'industry_code', 'dnx_id', 'date_uploaded'],\n",
       "      dtype='object')"
      ]
     },
     "execution_count": 132,
     "metadata": {},
     "output_type": "execute_result"
    }
   ],
   "source": [
    "df.columns"
   ]
  },
  {
   "cell_type": "markdown",
   "metadata": {},
   "source": [
    "A continuación, se incluye una breve explicación sobre la información que aporta cada columna.\n",
    "1. **ID**: Un identificador único para cada incidente de ciberataque.\n",
    "2. **Event Description**: Descripción detallada del incidente, explicando qué ocurrió durante el ataque.\n",
    "3. **Event Date**: Fecha en la que ocurrió el evento o ataque.\n",
    "4. **Actor**: La entidad o grupo responsable del ataque.\n",
    "5. **Actor Type**: El tipo de actor responsable del ataque, como \"Criminal\" o \"Estado\".\n",
    "6. **Event Type**: Tipo de ataque realizado, como \"Exploitive\" o \"Data Attack\".\n",
    "7. **Organization**: La organización o empresa que fue el objetivo del ataque.\n",
    "8. **Event Subtype**: Subtipo del evento que describe más específicamente el ataque.\n",
    "9. **Motive**: Razón o motivo detrás del ataque, por ejemplo, \"Financial\" si el objetivo es económico.\n",
    "10. **Event Source**: Fuente de información sobre el evento, generalmente un enlace a un artículo o informe.\n",
    "11. **Country**: País donde ocurrió el ataque o donde está ubicada la organización objetivo.\n",
    "12. **Industry**: Sector o industria al que pertenece la organización atacada.\n",
    "13. **Industry Code**: Código numérico que representa el sector o industria de la organización.\n",
    "14. **DNX ID**: Un identificador adicional del incidente dentro del sistema de la base de datos.\n",
    "15. **Date Uploaded**: La fecha en que la información sobre el incidente fue subida al sistema o base de datos."
   ]
  },
  {
   "cell_type": "code",
   "execution_count": 133,
   "metadata": {},
   "outputs": [
    {
     "data": {
      "text/html": [
       "<div>\n",
       "<style scoped>\n",
       "    .dataframe tbody tr th:only-of-type {\n",
       "        vertical-align: middle;\n",
       "    }\n",
       "\n",
       "    .dataframe tbody tr th {\n",
       "        vertical-align: top;\n",
       "    }\n",
       "\n",
       "    .dataframe thead th {\n",
       "        text-align: right;\n",
       "    }\n",
       "</style>\n",
       "<table border=\"1\" class=\"dataframe\">\n",
       "  <thead>\n",
       "    <tr style=\"text-align: right;\">\n",
       "      <th></th>\n",
       "      <th>event_description</th>\n",
       "      <th>event_date</th>\n",
       "      <th>actor</th>\n",
       "      <th>actor_type</th>\n",
       "      <th>event_type</th>\n",
       "      <th>organization</th>\n",
       "      <th>event_subtype</th>\n",
       "      <th>motive</th>\n",
       "      <th>event_source</th>\n",
       "      <th>country</th>\n",
       "      <th>industry</th>\n",
       "      <th>industry_code</th>\n",
       "      <th>dnx_id</th>\n",
       "      <th>date_uploaded</th>\n",
       "    </tr>\n",
       "    <tr>\n",
       "      <th>id</th>\n",
       "      <th></th>\n",
       "      <th></th>\n",
       "      <th></th>\n",
       "      <th></th>\n",
       "      <th></th>\n",
       "      <th></th>\n",
       "      <th></th>\n",
       "      <th></th>\n",
       "      <th></th>\n",
       "      <th></th>\n",
       "      <th></th>\n",
       "      <th></th>\n",
       "      <th></th>\n",
       "      <th></th>\n",
       "    </tr>\n",
       "  </thead>\n",
       "  <tbody>\n",
       "    <tr>\n",
       "      <th>f5c2ebc02807a6b3</th>\n",
       "      <td>Innovery, an Italian company delivering IT ser...</td>\n",
       "      <td>2023-09-30</td>\n",
       "      <td>Undetermined</td>\n",
       "      <td>Criminal</td>\n",
       "      <td>Exploitive</td>\n",
       "      <td>Innovery</td>\n",
       "      <td>Exploitation of Application Server</td>\n",
       "      <td>Financial</td>\n",
       "      <td>https://www.redhotcyber.com/post/attacco-infor...</td>\n",
       "      <td>ITA</td>\n",
       "      <td>Professional, Scientific, and Technical Services</td>\n",
       "      <td>54.0</td>\n",
       "      <td>inc_cis_13422</td>\n",
       "      <td>2024-04-01</td>\n",
       "    </tr>\n",
       "    <tr>\n",
       "      <th>0b7a20f4161d89b2</th>\n",
       "      <td>The ALPHV/BlackCat ransomware gang adds the ho...</td>\n",
       "      <td>2023-09-30</td>\n",
       "      <td>ALPHV</td>\n",
       "      <td>Criminal</td>\n",
       "      <td>Mixed</td>\n",
       "      <td>Motel One</td>\n",
       "      <td>Data Attack,Undetermined</td>\n",
       "      <td>Financial</td>\n",
       "      <td>https://securityaffairs.com/151732/cyber-crime...</td>\n",
       "      <td>DEU</td>\n",
       "      <td>Accommodation and Food Services</td>\n",
       "      <td>72.0</td>\n",
       "      <td>inc_cis_13421</td>\n",
       "      <td>2024-04-01</td>\n",
       "    </tr>\n",
       "    <tr>\n",
       "      <th>2e37d07ef6ef3cb6</th>\n",
       "      <td>The pro-Russian collective NoName057(16) takes...</td>\n",
       "      <td>2023-09-29</td>\n",
       "      <td>NoName057(16)</td>\n",
       "      <td>Hacktivist</td>\n",
       "      <td>Disruptive</td>\n",
       "      <td>Multiple organizations in Italy</td>\n",
       "      <td>External Denial of Service</td>\n",
       "      <td>Protest</td>\n",
       "      <td>https://www.redhotcyber.com/post/si-ricomincia...</td>\n",
       "      <td>ITA</td>\n",
       "      <td>Public Administration</td>\n",
       "      <td>92.0</td>\n",
       "      <td>inc_cis_13420</td>\n",
       "      <td>2024-04-01</td>\n",
       "    </tr>\n",
       "  </tbody>\n",
       "</table>\n",
       "</div>"
      ],
      "text/plain": [
       "                                                  event_description  \\\n",
       "id                                                                    \n",
       "f5c2ebc02807a6b3  Innovery, an Italian company delivering IT ser...   \n",
       "0b7a20f4161d89b2  The ALPHV/BlackCat ransomware gang adds the ho...   \n",
       "2e37d07ef6ef3cb6  The pro-Russian collective NoName057(16) takes...   \n",
       "\n",
       "                  event_date          actor  actor_type  event_type  \\\n",
       "id                                                                    \n",
       "f5c2ebc02807a6b3  2023-09-30   Undetermined    Criminal  Exploitive   \n",
       "0b7a20f4161d89b2  2023-09-30          ALPHV    Criminal       Mixed   \n",
       "2e37d07ef6ef3cb6  2023-09-29  NoName057(16)  Hacktivist  Disruptive   \n",
       "\n",
       "                                     organization  \\\n",
       "id                                                  \n",
       "f5c2ebc02807a6b3                         Innovery   \n",
       "0b7a20f4161d89b2                        Motel One   \n",
       "2e37d07ef6ef3cb6  Multiple organizations in Italy   \n",
       "\n",
       "                                       event_subtype     motive  \\\n",
       "id                                                                \n",
       "f5c2ebc02807a6b3  Exploitation of Application Server  Financial   \n",
       "0b7a20f4161d89b2            Data Attack,Undetermined  Financial   \n",
       "2e37d07ef6ef3cb6          External Denial of Service    Protest   \n",
       "\n",
       "                                                       event_source country  \\\n",
       "id                                                                            \n",
       "f5c2ebc02807a6b3  https://www.redhotcyber.com/post/attacco-infor...     ITA   \n",
       "0b7a20f4161d89b2  https://securityaffairs.com/151732/cyber-crime...     DEU   \n",
       "2e37d07ef6ef3cb6  https://www.redhotcyber.com/post/si-ricomincia...     ITA   \n",
       "\n",
       "                                                          industry  \\\n",
       "id                                                                   \n",
       "f5c2ebc02807a6b3  Professional, Scientific, and Technical Services   \n",
       "0b7a20f4161d89b2                   Accommodation and Food Services   \n",
       "2e37d07ef6ef3cb6                             Public Administration   \n",
       "\n",
       "                  industry_code         dnx_id date_uploaded  \n",
       "id                                                            \n",
       "f5c2ebc02807a6b3           54.0  inc_cis_13422    2024-04-01  \n",
       "0b7a20f4161d89b2           72.0  inc_cis_13421    2024-04-01  \n",
       "2e37d07ef6ef3cb6           92.0  inc_cis_13420    2024-04-01  "
      ]
     },
     "execution_count": 133,
     "metadata": {},
     "output_type": "execute_result"
    }
   ],
   "source": [
    "df.head(3)"
   ]
  },
  {
   "cell_type": "code",
   "execution_count": 134,
   "metadata": {},
   "outputs": [],
   "source": [
    "df['event_date'] = pd.to_datetime(df['event_date'])"
   ]
  },
  {
   "cell_type": "code",
   "execution_count": 135,
   "metadata": {},
   "outputs": [],
   "source": [
    "df['year'] = df['event_date'].dt.year\n",
    "df['month'] = df['event_date'].dt.month\n",
    "df['day'] = df['event_date'].dt.day"
   ]
  },
  {
   "cell_type": "code",
   "execution_count": 136,
   "metadata": {},
   "outputs": [],
   "source": [
    "df.drop('event_date', axis = 1, inplace = True)"
   ]
  },
  {
   "cell_type": "code",
   "execution_count": 137,
   "metadata": {},
   "outputs": [
    {
     "data": {
      "text/html": [
       "<div>\n",
       "<style scoped>\n",
       "    .dataframe tbody tr th:only-of-type {\n",
       "        vertical-align: middle;\n",
       "    }\n",
       "\n",
       "    .dataframe tbody tr th {\n",
       "        vertical-align: top;\n",
       "    }\n",
       "\n",
       "    .dataframe thead th {\n",
       "        text-align: right;\n",
       "    }\n",
       "</style>\n",
       "<table border=\"1\" class=\"dataframe\">\n",
       "  <thead>\n",
       "    <tr style=\"text-align: right;\">\n",
       "      <th></th>\n",
       "      <th>event_description</th>\n",
       "      <th>actor</th>\n",
       "      <th>actor_type</th>\n",
       "      <th>event_type</th>\n",
       "      <th>organization</th>\n",
       "      <th>event_subtype</th>\n",
       "      <th>motive</th>\n",
       "      <th>event_source</th>\n",
       "      <th>country</th>\n",
       "      <th>industry</th>\n",
       "      <th>industry_code</th>\n",
       "      <th>dnx_id</th>\n",
       "      <th>date_uploaded</th>\n",
       "      <th>year</th>\n",
       "      <th>month</th>\n",
       "      <th>day</th>\n",
       "    </tr>\n",
       "    <tr>\n",
       "      <th>id</th>\n",
       "      <th></th>\n",
       "      <th></th>\n",
       "      <th></th>\n",
       "      <th></th>\n",
       "      <th></th>\n",
       "      <th></th>\n",
       "      <th></th>\n",
       "      <th></th>\n",
       "      <th></th>\n",
       "      <th></th>\n",
       "      <th></th>\n",
       "      <th></th>\n",
       "      <th></th>\n",
       "      <th></th>\n",
       "      <th></th>\n",
       "      <th></th>\n",
       "    </tr>\n",
       "  </thead>\n",
       "  <tbody>\n",
       "    <tr>\n",
       "      <th>f5c2ebc02807a6b3</th>\n",
       "      <td>Innovery, an Italian company delivering IT ser...</td>\n",
       "      <td>Undetermined</td>\n",
       "      <td>Criminal</td>\n",
       "      <td>Exploitive</td>\n",
       "      <td>Innovery</td>\n",
       "      <td>Exploitation of Application Server</td>\n",
       "      <td>Financial</td>\n",
       "      <td>https://www.redhotcyber.com/post/attacco-infor...</td>\n",
       "      <td>ITA</td>\n",
       "      <td>Professional, Scientific, and Technical Services</td>\n",
       "      <td>54.0</td>\n",
       "      <td>inc_cis_13422</td>\n",
       "      <td>2024-04-01</td>\n",
       "      <td>2023</td>\n",
       "      <td>9</td>\n",
       "      <td>30</td>\n",
       "    </tr>\n",
       "    <tr>\n",
       "      <th>0b7a20f4161d89b2</th>\n",
       "      <td>The ALPHV/BlackCat ransomware gang adds the ho...</td>\n",
       "      <td>ALPHV</td>\n",
       "      <td>Criminal</td>\n",
       "      <td>Mixed</td>\n",
       "      <td>Motel One</td>\n",
       "      <td>Data Attack,Undetermined</td>\n",
       "      <td>Financial</td>\n",
       "      <td>https://securityaffairs.com/151732/cyber-crime...</td>\n",
       "      <td>DEU</td>\n",
       "      <td>Accommodation and Food Services</td>\n",
       "      <td>72.0</td>\n",
       "      <td>inc_cis_13421</td>\n",
       "      <td>2024-04-01</td>\n",
       "      <td>2023</td>\n",
       "      <td>9</td>\n",
       "      <td>30</td>\n",
       "    </tr>\n",
       "  </tbody>\n",
       "</table>\n",
       "</div>"
      ],
      "text/plain": [
       "                                                  event_description  \\\n",
       "id                                                                    \n",
       "f5c2ebc02807a6b3  Innovery, an Italian company delivering IT ser...   \n",
       "0b7a20f4161d89b2  The ALPHV/BlackCat ransomware gang adds the ho...   \n",
       "\n",
       "                         actor actor_type  event_type organization  \\\n",
       "id                                                                   \n",
       "f5c2ebc02807a6b3  Undetermined   Criminal  Exploitive     Innovery   \n",
       "0b7a20f4161d89b2         ALPHV   Criminal       Mixed    Motel One   \n",
       "\n",
       "                                       event_subtype     motive  \\\n",
       "id                                                                \n",
       "f5c2ebc02807a6b3  Exploitation of Application Server  Financial   \n",
       "0b7a20f4161d89b2            Data Attack,Undetermined  Financial   \n",
       "\n",
       "                                                       event_source country  \\\n",
       "id                                                                            \n",
       "f5c2ebc02807a6b3  https://www.redhotcyber.com/post/attacco-infor...     ITA   \n",
       "0b7a20f4161d89b2  https://securityaffairs.com/151732/cyber-crime...     DEU   \n",
       "\n",
       "                                                          industry  \\\n",
       "id                                                                   \n",
       "f5c2ebc02807a6b3  Professional, Scientific, and Technical Services   \n",
       "0b7a20f4161d89b2                   Accommodation and Food Services   \n",
       "\n",
       "                  industry_code         dnx_id date_uploaded  year  month  day  \n",
       "id                                                                              \n",
       "f5c2ebc02807a6b3           54.0  inc_cis_13422    2024-04-01  2023      9   30  \n",
       "0b7a20f4161d89b2           72.0  inc_cis_13421    2024-04-01  2023      9   30  "
      ]
     },
     "execution_count": 137,
     "metadata": {},
     "output_type": "execute_result"
    }
   ],
   "source": [
    "df.head(2)"
   ]
  },
  {
   "cell_type": "markdown",
   "metadata": {},
   "source": [
    "## Limpieza de datos.\n",
    "A simple vista, podemos detectar algunas columnas que no aportarán información para la identificación de patrones de ciberataques. La fecha en que la información fue subida al sistema no es relevante para el análisis de los incidentes en sí, ya que no afecta la naturaleza o el impacto del ataque, **Date Uploaded**. Finalmente, la columna **Industry** puede parecer importante, pero se elimina ya que existe otra en la que está representada por el código de la industria."
   ]
  },
  {
   "cell_type": "code",
   "execution_count": 138,
   "metadata": {},
   "outputs": [],
   "source": [
    "df.drop(['date_uploaded'], axis = 1, inplace = True)"
   ]
  },
  {
   "cell_type": "markdown",
   "metadata": {},
   "source": [
    "### Manejo de filas duplicadas.\n",
    "En caso de haber filas duplicadas, deberemos de eliminar estas para que no afecten al análisis posterior."
   ]
  },
  {
   "cell_type": "code",
   "execution_count": 139,
   "metadata": {},
   "outputs": [
    {
     "data": {
      "text/plain": [
       "0"
      ]
     },
     "execution_count": 139,
     "metadata": {},
     "output_type": "execute_result"
    }
   ],
   "source": [
    "df.duplicated().sum() # Columnas duplicadas"
   ]
  },
  {
   "cell_type": "code",
   "execution_count": 140,
   "metadata": {},
   "outputs": [],
   "source": [
    "df.drop_duplicates(inplace = True)"
   ]
  },
  {
   "cell_type": "code",
   "execution_count": 141,
   "metadata": {},
   "outputs": [
    {
     "data": {
      "text/plain": [
       "(13423, 15)"
      ]
     },
     "execution_count": 141,
     "metadata": {},
     "output_type": "execute_result"
    }
   ],
   "source": [
    "df.shape"
   ]
  },
  {
   "cell_type": "markdown",
   "metadata": {},
   "source": [
    "### Manejo de filas nulas."
   ]
  },
  {
   "cell_type": "code",
   "execution_count": 142,
   "metadata": {},
   "outputs": [
    {
     "data": {
      "text/plain": [
       "event_description     0\n",
       "actor                 0\n",
       "actor_type            0\n",
       "event_type            0\n",
       "organization          0\n",
       "event_subtype         0\n",
       "motive                0\n",
       "event_source          0\n",
       "country               0\n",
       "industry              0\n",
       "industry_code        22\n",
       "dnx_id                0\n",
       "year                  0\n",
       "month                 0\n",
       "day                   0\n",
       "dtype: int64"
      ]
     },
     "execution_count": 142,
     "metadata": {},
     "output_type": "execute_result"
    }
   ],
   "source": [
    "df.isnull().sum() # Valores nulos"
   ]
  },
  {
   "cell_type": "code",
   "execution_count": 143,
   "metadata": {},
   "outputs": [],
   "source": [
    "df.dropna(inplace = True)"
   ]
  },
  {
   "cell_type": "markdown",
   "metadata": {},
   "source": [
    "Al examinar detenidamente el DataFrame, notamos que hay algunas columnas que no están marcadas como valores nulos, pero que contienen el texto `'[]'`, lo que indica que son valores vacíos. Es necesario revisar estas filas para determinar cómo manejarlas.\n",
    "\n",
    "Después de esta revisión, concluimos que las filas afectadas son bastante pocas en comparación con el total de filas en el DataFrame original. Por lo tanto, la mejor opción sería eliminarlas."
   ]
  },
  {
   "cell_type": "code",
   "execution_count": 144,
   "metadata": {},
   "outputs": [
    {
     "data": {
      "text/plain": [
       "event_description     3\n",
       "actor                 0\n",
       "actor_type            0\n",
       "event_type            0\n",
       "organization          0\n",
       "event_subtype        21\n",
       "motive                1\n",
       "event_source          4\n",
       "country               8\n",
       "industry              0\n",
       "industry_code         0\n",
       "dnx_id                0\n",
       "year                  0\n",
       "month                 0\n",
       "day                   0\n",
       "dtype: int64"
      ]
     },
     "execution_count": 144,
     "metadata": {},
     "output_type": "execute_result"
    }
   ],
   "source": [
    "(df == '[]').sum()"
   ]
  },
  {
   "cell_type": "code",
   "execution_count": 145,
   "metadata": {},
   "outputs": [],
   "source": [
    "df.drop(df[(df == '[]').any(axis=1)].index, inplace=True)"
   ]
  },
  {
   "cell_type": "code",
   "execution_count": 146,
   "metadata": {},
   "outputs": [
    {
     "data": {
      "text/plain": [
       "(13364, 15)"
      ]
     },
     "execution_count": 146,
     "metadata": {},
     "output_type": "execute_result"
    }
   ],
   "source": [
    "df.shape"
   ]
  },
  {
   "cell_type": "markdown",
   "metadata": {},
   "source": [
    "### Selección de variables categóricas y continuas.\n",
    "Para realizar correctamente un ánalisis de datos debemos de distinguir entre las variables categóricas, variables que representan diferentes categorías o grupos, y continuas, variables que pueden tomar cualquier valor dentro de un rango determinado."
   ]
  },
  {
   "cell_type": "code",
   "execution_count": 147,
   "metadata": {},
   "outputs": [
    {
     "name": "stdout",
     "output_type": "stream",
     "text": [
      "Variables continuas: event_description, actor, organization, event_subtype, event_source, country, industry_code, dnx_id, year, month, day\n",
      "Variables categóricas: actor_type, event_type, motive, industry\n"
     ]
    }
   ],
   "source": [
    "v_continuas = []\n",
    "v_categoricas = []\n",
    "for i in df.columns:\n",
    "    if df[i].nunique() > 25 or df[i].dtypes in ['float64', 'int64']:\n",
    "        v_continuas.append(i)\n",
    "    else:\n",
    "        v_categoricas.append(i)\n",
    "\n",
    "print('Variables continuas: {}'.format(', '.join(v_continuas)))\n",
    "print('Variables categóricas: {}'.format(', '.join(v_categoricas)))"
   ]
  },
  {
   "cell_type": "markdown",
   "metadata": {},
   "source": [
    "#### Tratamiento de variables categóricas.\n",
    "Para el posterior modelo de clasificación, necesitamos codificar nuestras variables. Para ello, realizaremos una codificación ordinal que consiste en asignar valores enteros a las categorias basándose en su posición o jerarquía en los datos."
   ]
  },
  {
   "cell_type": "code",
   "execution_count": 148,
   "metadata": {},
   "outputs": [
    {
     "data": {
      "text/html": [
       "<div>\n",
       "<style scoped>\n",
       "    .dataframe tbody tr th:only-of-type {\n",
       "        vertical-align: middle;\n",
       "    }\n",
       "\n",
       "    .dataframe tbody tr th {\n",
       "        vertical-align: top;\n",
       "    }\n",
       "\n",
       "    .dataframe thead th {\n",
       "        text-align: right;\n",
       "    }\n",
       "</style>\n",
       "<table border=\"1\" class=\"dataframe\">\n",
       "  <thead>\n",
       "    <tr style=\"text-align: right;\">\n",
       "      <th></th>\n",
       "      <th>actor_type</th>\n",
       "      <th>event_type</th>\n",
       "      <th>motive</th>\n",
       "      <th>industry</th>\n",
       "    </tr>\n",
       "    <tr>\n",
       "      <th>id</th>\n",
       "      <th></th>\n",
       "      <th></th>\n",
       "      <th></th>\n",
       "      <th></th>\n",
       "    </tr>\n",
       "  </thead>\n",
       "  <tbody>\n",
       "    <tr>\n",
       "      <th>f5c2ebc02807a6b3</th>\n",
       "      <td>Criminal</td>\n",
       "      <td>Exploitive</td>\n",
       "      <td>Financial</td>\n",
       "      <td>Professional, Scientific, and Technical Services</td>\n",
       "    </tr>\n",
       "    <tr>\n",
       "      <th>0b7a20f4161d89b2</th>\n",
       "      <td>Criminal</td>\n",
       "      <td>Mixed</td>\n",
       "      <td>Financial</td>\n",
       "      <td>Accommodation and Food Services</td>\n",
       "    </tr>\n",
       "    <tr>\n",
       "      <th>2e37d07ef6ef3cb6</th>\n",
       "      <td>Hacktivist</td>\n",
       "      <td>Disruptive</td>\n",
       "      <td>Protest</td>\n",
       "      <td>Public Administration</td>\n",
       "    </tr>\n",
       "  </tbody>\n",
       "</table>\n",
       "</div>"
      ],
      "text/plain": [
       "                  actor_type  event_type     motive  \\\n",
       "id                                                    \n",
       "f5c2ebc02807a6b3    Criminal  Exploitive  Financial   \n",
       "0b7a20f4161d89b2    Criminal       Mixed  Financial   \n",
       "2e37d07ef6ef3cb6  Hacktivist  Disruptive    Protest   \n",
       "\n",
       "                                                          industry  \n",
       "id                                                                  \n",
       "f5c2ebc02807a6b3  Professional, Scientific, and Technical Services  \n",
       "0b7a20f4161d89b2                   Accommodation and Food Services  \n",
       "2e37d07ef6ef3cb6                             Public Administration  "
      ]
     },
     "execution_count": 148,
     "metadata": {},
     "output_type": "execute_result"
    }
   ],
   "source": [
    "df[v_categoricas].head(3)"
   ]
  },
  {
   "cell_type": "code",
   "execution_count": 149,
   "metadata": {},
   "outputs": [
    {
     "data": {
      "text/plain": [
       "actor_type     7\n",
       "event_type     5\n",
       "motive        11\n",
       "industry      21\n",
       "dtype: int64"
      ]
     },
     "execution_count": 149,
     "metadata": {},
     "output_type": "execute_result"
    }
   ],
   "source": [
    "df[v_categoricas].nunique()"
   ]
  },
  {
   "cell_type": "markdown",
   "metadata": {},
   "source": [
    "##### **Industry.**\n",
    "Esta columna ya viene codificada a través de **Industry Code**. Guardámos la columna para saber a que corresponde cada una."
   ]
  },
  {
   "cell_type": "code",
   "execution_count": 150,
   "metadata": {},
   "outputs": [
    {
     "data": {
      "text/plain": [
       "21"
      ]
     },
     "execution_count": 150,
     "metadata": {},
     "output_type": "execute_result"
    }
   ],
   "source": [
    "df['industry'].nunique()"
   ]
  },
  {
   "cell_type": "code",
   "execution_count": 151,
   "metadata": {},
   "outputs": [
    {
     "data": {
      "text/plain": [
       "25"
      ]
     },
     "execution_count": 151,
     "metadata": {},
     "output_type": "execute_result"
    }
   ],
   "source": [
    "df['industry_code'].nunique()"
   ]
  },
  {
   "cell_type": "markdown",
   "metadata": {},
   "source": [
    "##### **Event Type.**"
   ]
  },
  {
   "cell_type": "code",
   "execution_count": 152,
   "metadata": {},
   "outputs": [
    {
     "data": {
      "text/plain": [
       "array(['Exploitive', 'Mixed', 'Disruptive', 'Undetermined',\n",
       "       'Exploitation of Application Server'], dtype=object)"
      ]
     },
     "execution_count": 152,
     "metadata": {},
     "output_type": "execute_result"
    }
   ],
   "source": [
    "df['event_type'].unique()"
   ]
  },
  {
   "cell_type": "markdown",
   "metadata": {},
   "source": [
    "Los valores **Exploitive** y **Exploitation of Application Server** están relacionados con la explotación de vulnerabilidades, ya sea de manera general o específica (como en un servidor de aplicaciones). Por ello los juntaremos en la misma categoria."
   ]
  },
  {
   "cell_type": "code",
   "execution_count": 153,
   "metadata": {},
   "outputs": [],
   "source": [
    "df['event_type'].replace('Exploitation of Application Server', 'Exploitive', inplace=True)"
   ]
  },
  {
   "cell_type": "markdown",
   "metadata": {},
   "source": [
    "Cuando trabajamos con variables categóricas, como en este caso con la columna 'event_type' que tiene valores como **Exploitive**, **Disruptive**, **Mixed** y **Undetermined**, se suele utilizar la técnica de **One-hot encoder** para convertir estas categorías en variables binarias que un modelo de Machine Learning pueda entender. El objetivo es crear una columna para cada categoría con valores 0 o 1, indicando si un evento pertenece a esa categoría o no.\n",
    "\n",
    "El valor **Mixed** es especial porque representa una combinación de dos categorías: **Exploitive** y **Disruptive**. Esto significa que cuando un evento está clasificado como **Mixed**, en realidad debe ser tratado como si fuera tanto **Exploitive** como **Disruptive**. Añadiendo un 1 en cada columna de estos."
   ]
  },
  {
   "cell_type": "code",
   "execution_count": 154,
   "metadata": {},
   "outputs": [],
   "source": [
    "dummies = pd.get_dummies(df['event_type'])\n",
    "dummies['Exploitive'] = dummies['Exploitive'] | dummies['Mixed']\n",
    "dummies['Disruptive'] = dummies['Disruptive'] | dummies['Mixed']\n",
    "\n",
    "df = pd.concat([df, dummies], axis=1)\n",
    "df.drop(['Mixed'], axis=1, inplace=True)"
   ]
  },
  {
   "cell_type": "code",
   "execution_count": 155,
   "metadata": {},
   "outputs": [
    {
     "data": {
      "text/html": [
       "<div>\n",
       "<style scoped>\n",
       "    .dataframe tbody tr th:only-of-type {\n",
       "        vertical-align: middle;\n",
       "    }\n",
       "\n",
       "    .dataframe tbody tr th {\n",
       "        vertical-align: top;\n",
       "    }\n",
       "\n",
       "    .dataframe thead th {\n",
       "        text-align: right;\n",
       "    }\n",
       "</style>\n",
       "<table border=\"1\" class=\"dataframe\">\n",
       "  <thead>\n",
       "    <tr style=\"text-align: right;\">\n",
       "      <th></th>\n",
       "      <th>event_description</th>\n",
       "      <th>actor</th>\n",
       "      <th>actor_type</th>\n",
       "      <th>event_type</th>\n",
       "      <th>organization</th>\n",
       "      <th>event_subtype</th>\n",
       "      <th>motive</th>\n",
       "      <th>event_source</th>\n",
       "      <th>country</th>\n",
       "      <th>industry</th>\n",
       "      <th>industry_code</th>\n",
       "      <th>dnx_id</th>\n",
       "      <th>year</th>\n",
       "      <th>month</th>\n",
       "      <th>day</th>\n",
       "      <th>Disruptive</th>\n",
       "      <th>Exploitive</th>\n",
       "      <th>Undetermined</th>\n",
       "    </tr>\n",
       "    <tr>\n",
       "      <th>id</th>\n",
       "      <th></th>\n",
       "      <th></th>\n",
       "      <th></th>\n",
       "      <th></th>\n",
       "      <th></th>\n",
       "      <th></th>\n",
       "      <th></th>\n",
       "      <th></th>\n",
       "      <th></th>\n",
       "      <th></th>\n",
       "      <th></th>\n",
       "      <th></th>\n",
       "      <th></th>\n",
       "      <th></th>\n",
       "      <th></th>\n",
       "      <th></th>\n",
       "      <th></th>\n",
       "      <th></th>\n",
       "    </tr>\n",
       "  </thead>\n",
       "  <tbody>\n",
       "    <tr>\n",
       "      <th>f5c2ebc02807a6b3</th>\n",
       "      <td>Innovery, an Italian company delivering IT ser...</td>\n",
       "      <td>Undetermined</td>\n",
       "      <td>Criminal</td>\n",
       "      <td>Exploitive</td>\n",
       "      <td>Innovery</td>\n",
       "      <td>Exploitation of Application Server</td>\n",
       "      <td>Financial</td>\n",
       "      <td>https://www.redhotcyber.com/post/attacco-infor...</td>\n",
       "      <td>ITA</td>\n",
       "      <td>Professional, Scientific, and Technical Services</td>\n",
       "      <td>54.0</td>\n",
       "      <td>inc_cis_13422</td>\n",
       "      <td>2023</td>\n",
       "      <td>9</td>\n",
       "      <td>30</td>\n",
       "      <td>0</td>\n",
       "      <td>1</td>\n",
       "      <td>0</td>\n",
       "    </tr>\n",
       "    <tr>\n",
       "      <th>0b7a20f4161d89b2</th>\n",
       "      <td>The ALPHV/BlackCat ransomware gang adds the ho...</td>\n",
       "      <td>ALPHV</td>\n",
       "      <td>Criminal</td>\n",
       "      <td>Mixed</td>\n",
       "      <td>Motel One</td>\n",
       "      <td>Data Attack,Undetermined</td>\n",
       "      <td>Financial</td>\n",
       "      <td>https://securityaffairs.com/151732/cyber-crime...</td>\n",
       "      <td>DEU</td>\n",
       "      <td>Accommodation and Food Services</td>\n",
       "      <td>72.0</td>\n",
       "      <td>inc_cis_13421</td>\n",
       "      <td>2023</td>\n",
       "      <td>9</td>\n",
       "      <td>30</td>\n",
       "      <td>1</td>\n",
       "      <td>1</td>\n",
       "      <td>0</td>\n",
       "    </tr>\n",
       "  </tbody>\n",
       "</table>\n",
       "</div>"
      ],
      "text/plain": [
       "                                                  event_description  \\\n",
       "id                                                                    \n",
       "f5c2ebc02807a6b3  Innovery, an Italian company delivering IT ser...   \n",
       "0b7a20f4161d89b2  The ALPHV/BlackCat ransomware gang adds the ho...   \n",
       "\n",
       "                         actor actor_type  event_type organization  \\\n",
       "id                                                                   \n",
       "f5c2ebc02807a6b3  Undetermined   Criminal  Exploitive     Innovery   \n",
       "0b7a20f4161d89b2         ALPHV   Criminal       Mixed    Motel One   \n",
       "\n",
       "                                       event_subtype     motive  \\\n",
       "id                                                                \n",
       "f5c2ebc02807a6b3  Exploitation of Application Server  Financial   \n",
       "0b7a20f4161d89b2            Data Attack,Undetermined  Financial   \n",
       "\n",
       "                                                       event_source country  \\\n",
       "id                                                                            \n",
       "f5c2ebc02807a6b3  https://www.redhotcyber.com/post/attacco-infor...     ITA   \n",
       "0b7a20f4161d89b2  https://securityaffairs.com/151732/cyber-crime...     DEU   \n",
       "\n",
       "                                                          industry  \\\n",
       "id                                                                   \n",
       "f5c2ebc02807a6b3  Professional, Scientific, and Technical Services   \n",
       "0b7a20f4161d89b2                   Accommodation and Food Services   \n",
       "\n",
       "                  industry_code         dnx_id  year  month  day  Disruptive  \\\n",
       "id                                                                             \n",
       "f5c2ebc02807a6b3           54.0  inc_cis_13422  2023      9   30           0   \n",
       "0b7a20f4161d89b2           72.0  inc_cis_13421  2023      9   30           1   \n",
       "\n",
       "                  Exploitive  Undetermined  \n",
       "id                                          \n",
       "f5c2ebc02807a6b3           1             0  \n",
       "0b7a20f4161d89b2           1             0  "
      ]
     },
     "execution_count": 155,
     "metadata": {},
     "output_type": "execute_result"
    }
   ],
   "source": [
    "df.head(2)"
   ]
  },
  {
   "cell_type": "markdown",
   "metadata": {},
   "source": [
    "##### **Motive**"
   ]
  },
  {
   "cell_type": "code",
   "execution_count": 156,
   "metadata": {},
   "outputs": [
    {
     "data": {
      "text/plain": [
       "array(['Financial', 'Protest', 'Undetermined', 'Political-Espionage',\n",
       "       'Sabotage', 'Espionage', 'Espionage-Political', 'Sabatoge',\n",
       "       'Personal Attack', 'Protest,Financial', 'Industrial-Espionage'],\n",
       "      dtype=object)"
      ]
     },
     "execution_count": 156,
     "metadata": {},
     "output_type": "execute_result"
    }
   ],
   "source": [
    "df['motive'].unique()"
   ]
  },
  {
   "cell_type": "markdown",
   "metadata": {},
   "source": [
    "Debemos de arreglar fallos de escritura primero. En nuestro conjunto de datos, encontramos entradas como **Sabatoge**, que son errores de escritura y deben corregirse a **Sabotage**. Estas correcciones aseguran que todos los datos sean consistentes y que no haya duplicados causados por errores de escritura."
   ]
  },
  {
   "cell_type": "code",
   "execution_count": 157,
   "metadata": {},
   "outputs": [],
   "source": [
    "df['motive'] = df['motive'].str.replace('Espionage-Political', 'Political-Espionage')\n",
    "df['motive'] = df['motive'].str.replace('Sabatoge', 'Sabotage')"
   ]
  },
  {
   "cell_type": "markdown",
   "metadata": {},
   "source": [
    "Es importante agrupar categorías que representan la misma amenaza. Por ejemplo, las categorías **Industrial-Espionage** y **Political-Espionage** pueden ser agrupadas bajo una sola categoría: **Espionage**. Esta agrupación ayuda a simplificar el análisis, permitiendo que se obtengan conclusiones más claras y significativas."
   ]
  },
  {
   "cell_type": "code",
   "execution_count": 158,
   "metadata": {},
   "outputs": [],
   "source": [
    "motive_mapping = {\n",
    "    'Political-Espionage': 'Espionage',\n",
    "    'Industrial-Espionage': 'Espionage',\n",
    "}\n",
    "\n",
    "# Aplicamos la agrupación\n",
    "df['motive'] = df['motive'].replace(motive_mapping)"
   ]
  },
  {
   "cell_type": "code",
   "execution_count": 159,
   "metadata": {},
   "outputs": [
    {
     "data": {
      "text/plain": [
       "array(['Financial', 'Protest', 'Undetermined', 'Espionage', 'Sabotage',\n",
       "       'Personal Attack', 'Protest,Financial'], dtype=object)"
      ]
     },
     "execution_count": 159,
     "metadata": {},
     "output_type": "execute_result"
    }
   ],
   "source": [
    "df['motive'].unique()"
   ]
  },
  {
   "cell_type": "markdown",
   "metadata": {},
   "source": [
    "En el proceso de limpieza de datos, es posible que se detecten casos donde una fila contenga múltiples categorías que deberían ser exclusivas. En nuestro conjunto de datos, hemos encontrado un caso donde una entrada presenta simultáneamente las categorías **Protest** y **Financial**. Sin embargo, dado que esta situación ocurre solo en una fila de aproximadamente 13000 registros, podemos prescindir de este caso sin afectar significativamente el análisis general."
   ]
  },
  {
   "cell_type": "code",
   "execution_count": 160,
   "metadata": {},
   "outputs": [],
   "source": [
    "df.drop(df[df['motive'] == 'Protest,Financial'].index, inplace=True) # solo es una fila, por no hacer get_dummies"
   ]
  },
  {
   "cell_type": "code",
   "execution_count": 161,
   "metadata": {},
   "outputs": [
    {
     "data": {
      "text/plain": [
       "array(['Financial', 'Protest', 'Undetermined', 'Espionage', 'Sabotage',\n",
       "       'Personal Attack'], dtype=object)"
      ]
     },
     "execution_count": 161,
     "metadata": {},
     "output_type": "execute_result"
    }
   ],
   "source": [
    "df['motive'].unique()"
   ]
  },
  {
   "cell_type": "code",
   "execution_count": 162,
   "metadata": {},
   "outputs": [
    {
     "data": {
      "text/html": [
       "<div>\n",
       "<style scoped>\n",
       "    .dataframe tbody tr th:only-of-type {\n",
       "        vertical-align: middle;\n",
       "    }\n",
       "\n",
       "    .dataframe tbody tr th {\n",
       "        vertical-align: top;\n",
       "    }\n",
       "\n",
       "    .dataframe thead th {\n",
       "        text-align: right;\n",
       "    }\n",
       "</style>\n",
       "<table border=\"1\" class=\"dataframe\">\n",
       "  <thead>\n",
       "    <tr style=\"text-align: right;\">\n",
       "      <th></th>\n",
       "      <th>event_description</th>\n",
       "      <th>actor</th>\n",
       "      <th>actor_type</th>\n",
       "      <th>event_type</th>\n",
       "      <th>organization</th>\n",
       "      <th>event_subtype</th>\n",
       "      <th>motive</th>\n",
       "      <th>motive_code</th>\n",
       "      <th>event_source</th>\n",
       "      <th>country</th>\n",
       "      <th>industry</th>\n",
       "      <th>industry_code</th>\n",
       "      <th>dnx_id</th>\n",
       "      <th>year</th>\n",
       "      <th>month</th>\n",
       "      <th>day</th>\n",
       "      <th>Disruptive</th>\n",
       "      <th>Exploitive</th>\n",
       "      <th>Undetermined</th>\n",
       "    </tr>\n",
       "    <tr>\n",
       "      <th>id</th>\n",
       "      <th></th>\n",
       "      <th></th>\n",
       "      <th></th>\n",
       "      <th></th>\n",
       "      <th></th>\n",
       "      <th></th>\n",
       "      <th></th>\n",
       "      <th></th>\n",
       "      <th></th>\n",
       "      <th></th>\n",
       "      <th></th>\n",
       "      <th></th>\n",
       "      <th></th>\n",
       "      <th></th>\n",
       "      <th></th>\n",
       "      <th></th>\n",
       "      <th></th>\n",
       "      <th></th>\n",
       "      <th></th>\n",
       "    </tr>\n",
       "  </thead>\n",
       "  <tbody>\n",
       "    <tr>\n",
       "      <th>f5c2ebc02807a6b3</th>\n",
       "      <td>Innovery, an Italian company delivering IT ser...</td>\n",
       "      <td>Undetermined</td>\n",
       "      <td>Criminal</td>\n",
       "      <td>Exploitive</td>\n",
       "      <td>Innovery</td>\n",
       "      <td>Exploitation of Application Server</td>\n",
       "      <td>Financial</td>\n",
       "      <td>1.0</td>\n",
       "      <td>https://www.redhotcyber.com/post/attacco-infor...</td>\n",
       "      <td>ITA</td>\n",
       "      <td>Professional, Scientific, and Technical Services</td>\n",
       "      <td>54.0</td>\n",
       "      <td>inc_cis_13422</td>\n",
       "      <td>2023</td>\n",
       "      <td>9</td>\n",
       "      <td>30</td>\n",
       "      <td>0</td>\n",
       "      <td>1</td>\n",
       "      <td>0</td>\n",
       "    </tr>\n",
       "    <tr>\n",
       "      <th>0b7a20f4161d89b2</th>\n",
       "      <td>The ALPHV/BlackCat ransomware gang adds the ho...</td>\n",
       "      <td>ALPHV</td>\n",
       "      <td>Criminal</td>\n",
       "      <td>Mixed</td>\n",
       "      <td>Motel One</td>\n",
       "      <td>Data Attack,Undetermined</td>\n",
       "      <td>Financial</td>\n",
       "      <td>1.0</td>\n",
       "      <td>https://securityaffairs.com/151732/cyber-crime...</td>\n",
       "      <td>DEU</td>\n",
       "      <td>Accommodation and Food Services</td>\n",
       "      <td>72.0</td>\n",
       "      <td>inc_cis_13421</td>\n",
       "      <td>2023</td>\n",
       "      <td>9</td>\n",
       "      <td>30</td>\n",
       "      <td>1</td>\n",
       "      <td>1</td>\n",
       "      <td>0</td>\n",
       "    </tr>\n",
       "  </tbody>\n",
       "</table>\n",
       "</div>"
      ],
      "text/plain": [
       "                                                  event_description  \\\n",
       "id                                                                    \n",
       "f5c2ebc02807a6b3  Innovery, an Italian company delivering IT ser...   \n",
       "0b7a20f4161d89b2  The ALPHV/BlackCat ransomware gang adds the ho...   \n",
       "\n",
       "                         actor actor_type  event_type organization  \\\n",
       "id                                                                   \n",
       "f5c2ebc02807a6b3  Undetermined   Criminal  Exploitive     Innovery   \n",
       "0b7a20f4161d89b2         ALPHV   Criminal       Mixed    Motel One   \n",
       "\n",
       "                                       event_subtype     motive  motive_code  \\\n",
       "id                                                                             \n",
       "f5c2ebc02807a6b3  Exploitation of Application Server  Financial          1.0   \n",
       "0b7a20f4161d89b2            Data Attack,Undetermined  Financial          1.0   \n",
       "\n",
       "                                                       event_source country  \\\n",
       "id                                                                            \n",
       "f5c2ebc02807a6b3  https://www.redhotcyber.com/post/attacco-infor...     ITA   \n",
       "0b7a20f4161d89b2  https://securityaffairs.com/151732/cyber-crime...     DEU   \n",
       "\n",
       "                                                          industry  \\\n",
       "id                                                                   \n",
       "f5c2ebc02807a6b3  Professional, Scientific, and Technical Services   \n",
       "0b7a20f4161d89b2                   Accommodation and Food Services   \n",
       "\n",
       "                  industry_code         dnx_id  year  month  day  Disruptive  \\\n",
       "id                                                                             \n",
       "f5c2ebc02807a6b3           54.0  inc_cis_13422  2023      9   30           0   \n",
       "0b7a20f4161d89b2           72.0  inc_cis_13421  2023      9   30           1   \n",
       "\n",
       "                  Exploitive  Undetermined  \n",
       "id                                          \n",
       "f5c2ebc02807a6b3           1             0  \n",
       "0b7a20f4161d89b2           1             0  "
      ]
     },
     "execution_count": 162,
     "metadata": {},
     "output_type": "execute_result"
    }
   ],
   "source": [
    "encoder = OrdinalEncoder()\n",
    "df.insert(df.columns.get_loc('motive') + 1, 'motive_code', encoder.fit_transform(df[['motive']]))\n",
    "df.head(2)"
   ]
  },
  {
   "cell_type": "markdown",
   "metadata": {},
   "source": [
    "##### **Actor Type.**\n",
    "Debemos examinar cuidadosamente esta columna para determinar si es posible realizar la codificación ordinal. Como se observa, hay un valor que aparece como `Undeterminated` y otro valor de `Criminal` que está mal escrito en una de las entradas."
   ]
  },
  {
   "cell_type": "code",
   "execution_count": 163,
   "metadata": {},
   "outputs": [
    {
     "data": {
      "text/plain": [
       "array(['Criminal', 'Hacktivist', 'Nation-State', 'Undetermined',\n",
       "       'Hobbyist', 'Crimimal', 'Terrorist'], dtype=object)"
      ]
     },
     "execution_count": 163,
     "metadata": {},
     "output_type": "execute_result"
    }
   ],
   "source": [
    "df['actor_type'] = df['actor_type'].str.replace('Criminal', 'Criminal', regex=True)\n",
    "df['actor_type'].unique()"
   ]
  },
  {
   "cell_type": "code",
   "execution_count": 164,
   "metadata": {},
   "outputs": [],
   "source": [
    "df['actor_type'] = df['actor_type'].str.replace('Crimimal', 'Criminal', regex=True)"
   ]
  },
  {
   "cell_type": "code",
   "execution_count": 165,
   "metadata": {},
   "outputs": [
    {
     "data": {
      "text/plain": [
       "array(['Criminal', 'Hacktivist', 'Nation-State', 'Undetermined',\n",
       "       'Hobbyist', 'Terrorist'], dtype=object)"
      ]
     },
     "execution_count": 165,
     "metadata": {},
     "output_type": "execute_result"
    }
   ],
   "source": [
    "df['actor_type'].unique()"
   ]
  },
  {
   "cell_type": "code",
   "execution_count": 166,
   "metadata": {},
   "outputs": [
    {
     "data": {
      "text/html": [
       "<div>\n",
       "<style scoped>\n",
       "    .dataframe tbody tr th:only-of-type {\n",
       "        vertical-align: middle;\n",
       "    }\n",
       "\n",
       "    .dataframe tbody tr th {\n",
       "        vertical-align: top;\n",
       "    }\n",
       "\n",
       "    .dataframe thead th {\n",
       "        text-align: right;\n",
       "    }\n",
       "</style>\n",
       "<table border=\"1\" class=\"dataframe\">\n",
       "  <thead>\n",
       "    <tr style=\"text-align: right;\">\n",
       "      <th></th>\n",
       "      <th>event_description</th>\n",
       "      <th>actor</th>\n",
       "      <th>actor_type</th>\n",
       "      <th>event_type</th>\n",
       "      <th>organization</th>\n",
       "      <th>event_subtype</th>\n",
       "      <th>motive</th>\n",
       "      <th>motive_code</th>\n",
       "      <th>event_source</th>\n",
       "      <th>country</th>\n",
       "      <th>industry</th>\n",
       "      <th>industry_code</th>\n",
       "      <th>dnx_id</th>\n",
       "      <th>year</th>\n",
       "      <th>month</th>\n",
       "      <th>day</th>\n",
       "      <th>Disruptive</th>\n",
       "      <th>Exploitive</th>\n",
       "      <th>Undetermined</th>\n",
       "      <th>actor_type_group</th>\n",
       "    </tr>\n",
       "    <tr>\n",
       "      <th>id</th>\n",
       "      <th></th>\n",
       "      <th></th>\n",
       "      <th></th>\n",
       "      <th></th>\n",
       "      <th></th>\n",
       "      <th></th>\n",
       "      <th></th>\n",
       "      <th></th>\n",
       "      <th></th>\n",
       "      <th></th>\n",
       "      <th></th>\n",
       "      <th></th>\n",
       "      <th></th>\n",
       "      <th></th>\n",
       "      <th></th>\n",
       "      <th></th>\n",
       "      <th></th>\n",
       "      <th></th>\n",
       "      <th></th>\n",
       "      <th></th>\n",
       "    </tr>\n",
       "  </thead>\n",
       "  <tbody>\n",
       "    <tr>\n",
       "      <th>f5c2ebc02807a6b3</th>\n",
       "      <td>Innovery, an Italian company delivering IT ser...</td>\n",
       "      <td>Undetermined</td>\n",
       "      <td>Criminal</td>\n",
       "      <td>Exploitive</td>\n",
       "      <td>Innovery</td>\n",
       "      <td>Exploitation of Application Server</td>\n",
       "      <td>Financial</td>\n",
       "      <td>1.0</td>\n",
       "      <td>https://www.redhotcyber.com/post/attacco-infor...</td>\n",
       "      <td>ITA</td>\n",
       "      <td>Professional, Scientific, and Technical Services</td>\n",
       "      <td>54.0</td>\n",
       "      <td>inc_cis_13422</td>\n",
       "      <td>2023</td>\n",
       "      <td>9</td>\n",
       "      <td>30</td>\n",
       "      <td>0</td>\n",
       "      <td>1</td>\n",
       "      <td>0</td>\n",
       "      <td>0.0</td>\n",
       "    </tr>\n",
       "    <tr>\n",
       "      <th>0b7a20f4161d89b2</th>\n",
       "      <td>The ALPHV/BlackCat ransomware gang adds the ho...</td>\n",
       "      <td>ALPHV</td>\n",
       "      <td>Criminal</td>\n",
       "      <td>Mixed</td>\n",
       "      <td>Motel One</td>\n",
       "      <td>Data Attack,Undetermined</td>\n",
       "      <td>Financial</td>\n",
       "      <td>1.0</td>\n",
       "      <td>https://securityaffairs.com/151732/cyber-crime...</td>\n",
       "      <td>DEU</td>\n",
       "      <td>Accommodation and Food Services</td>\n",
       "      <td>72.0</td>\n",
       "      <td>inc_cis_13421</td>\n",
       "      <td>2023</td>\n",
       "      <td>9</td>\n",
       "      <td>30</td>\n",
       "      <td>1</td>\n",
       "      <td>1</td>\n",
       "      <td>0</td>\n",
       "      <td>0.0</td>\n",
       "    </tr>\n",
       "  </tbody>\n",
       "</table>\n",
       "</div>"
      ],
      "text/plain": [
       "                                                  event_description  \\\n",
       "id                                                                    \n",
       "f5c2ebc02807a6b3  Innovery, an Italian company delivering IT ser...   \n",
       "0b7a20f4161d89b2  The ALPHV/BlackCat ransomware gang adds the ho...   \n",
       "\n",
       "                         actor actor_type  event_type organization  \\\n",
       "id                                                                   \n",
       "f5c2ebc02807a6b3  Undetermined   Criminal  Exploitive     Innovery   \n",
       "0b7a20f4161d89b2         ALPHV   Criminal       Mixed    Motel One   \n",
       "\n",
       "                                       event_subtype     motive  motive_code  \\\n",
       "id                                                                             \n",
       "f5c2ebc02807a6b3  Exploitation of Application Server  Financial          1.0   \n",
       "0b7a20f4161d89b2            Data Attack,Undetermined  Financial          1.0   \n",
       "\n",
       "                                                       event_source country  \\\n",
       "id                                                                            \n",
       "f5c2ebc02807a6b3  https://www.redhotcyber.com/post/attacco-infor...     ITA   \n",
       "0b7a20f4161d89b2  https://securityaffairs.com/151732/cyber-crime...     DEU   \n",
       "\n",
       "                                                          industry  \\\n",
       "id                                                                   \n",
       "f5c2ebc02807a6b3  Professional, Scientific, and Technical Services   \n",
       "0b7a20f4161d89b2                   Accommodation and Food Services   \n",
       "\n",
       "                  industry_code         dnx_id  year  month  day  Disruptive  \\\n",
       "id                                                                             \n",
       "f5c2ebc02807a6b3           54.0  inc_cis_13422  2023      9   30           0   \n",
       "0b7a20f4161d89b2           72.0  inc_cis_13421  2023      9   30           1   \n",
       "\n",
       "                  Exploitive  Undetermined  actor_type_group  \n",
       "id                                                            \n",
       "f5c2ebc02807a6b3           1             0               0.0  \n",
       "0b7a20f4161d89b2           1             0               0.0  "
      ]
     },
     "execution_count": 166,
     "metadata": {},
     "output_type": "execute_result"
    }
   ],
   "source": [
    "encoder = OrdinalEncoder()\n",
    "df['actor_type_group'] = encoder.fit_transform(df[['actor_type']])\n",
    "df.head(2)"
   ]
  },
  {
   "cell_type": "markdown",
   "metadata": {},
   "source": [
    "#### Tratamiento de variables continuas.\n",
    "Para el modelo de clasificación debemos de pasar todas las columnas a tipo `int`. Por ello, debemos de ver si realizar como en el caso anterior una codificación ordinal o agruparlos."
   ]
  },
  {
   "cell_type": "code",
   "execution_count": 167,
   "metadata": {},
   "outputs": [
    {
     "data": {
      "text/html": [
       "<div>\n",
       "<style scoped>\n",
       "    .dataframe tbody tr th:only-of-type {\n",
       "        vertical-align: middle;\n",
       "    }\n",
       "\n",
       "    .dataframe tbody tr th {\n",
       "        vertical-align: top;\n",
       "    }\n",
       "\n",
       "    .dataframe thead th {\n",
       "        text-align: right;\n",
       "    }\n",
       "</style>\n",
       "<table border=\"1\" class=\"dataframe\">\n",
       "  <thead>\n",
       "    <tr style=\"text-align: right;\">\n",
       "      <th></th>\n",
       "      <th>event_description</th>\n",
       "      <th>actor</th>\n",
       "      <th>organization</th>\n",
       "      <th>event_subtype</th>\n",
       "      <th>event_source</th>\n",
       "      <th>country</th>\n",
       "      <th>industry_code</th>\n",
       "      <th>dnx_id</th>\n",
       "      <th>year</th>\n",
       "      <th>month</th>\n",
       "      <th>day</th>\n",
       "    </tr>\n",
       "    <tr>\n",
       "      <th>id</th>\n",
       "      <th></th>\n",
       "      <th></th>\n",
       "      <th></th>\n",
       "      <th></th>\n",
       "      <th></th>\n",
       "      <th></th>\n",
       "      <th></th>\n",
       "      <th></th>\n",
       "      <th></th>\n",
       "      <th></th>\n",
       "      <th></th>\n",
       "    </tr>\n",
       "  </thead>\n",
       "  <tbody>\n",
       "    <tr>\n",
       "      <th>f5c2ebc02807a6b3</th>\n",
       "      <td>Innovery, an Italian company delivering IT ser...</td>\n",
       "      <td>Undetermined</td>\n",
       "      <td>Innovery</td>\n",
       "      <td>Exploitation of Application Server</td>\n",
       "      <td>https://www.redhotcyber.com/post/attacco-infor...</td>\n",
       "      <td>ITA</td>\n",
       "      <td>54.0</td>\n",
       "      <td>inc_cis_13422</td>\n",
       "      <td>2023</td>\n",
       "      <td>9</td>\n",
       "      <td>30</td>\n",
       "    </tr>\n",
       "    <tr>\n",
       "      <th>0b7a20f4161d89b2</th>\n",
       "      <td>The ALPHV/BlackCat ransomware gang adds the ho...</td>\n",
       "      <td>ALPHV</td>\n",
       "      <td>Motel One</td>\n",
       "      <td>Data Attack,Undetermined</td>\n",
       "      <td>https://securityaffairs.com/151732/cyber-crime...</td>\n",
       "      <td>DEU</td>\n",
       "      <td>72.0</td>\n",
       "      <td>inc_cis_13421</td>\n",
       "      <td>2023</td>\n",
       "      <td>9</td>\n",
       "      <td>30</td>\n",
       "    </tr>\n",
       "  </tbody>\n",
       "</table>\n",
       "</div>"
      ],
      "text/plain": [
       "                                                  event_description  \\\n",
       "id                                                                    \n",
       "f5c2ebc02807a6b3  Innovery, an Italian company delivering IT ser...   \n",
       "0b7a20f4161d89b2  The ALPHV/BlackCat ransomware gang adds the ho...   \n",
       "\n",
       "                         actor organization  \\\n",
       "id                                            \n",
       "f5c2ebc02807a6b3  Undetermined     Innovery   \n",
       "0b7a20f4161d89b2         ALPHV    Motel One   \n",
       "\n",
       "                                       event_subtype  \\\n",
       "id                                                     \n",
       "f5c2ebc02807a6b3  Exploitation of Application Server   \n",
       "0b7a20f4161d89b2            Data Attack,Undetermined   \n",
       "\n",
       "                                                       event_source country  \\\n",
       "id                                                                            \n",
       "f5c2ebc02807a6b3  https://www.redhotcyber.com/post/attacco-infor...     ITA   \n",
       "0b7a20f4161d89b2  https://securityaffairs.com/151732/cyber-crime...     DEU   \n",
       "\n",
       "                  industry_code         dnx_id  year  month  day  \n",
       "id                                                                \n",
       "f5c2ebc02807a6b3           54.0  inc_cis_13422  2023      9   30  \n",
       "0b7a20f4161d89b2           72.0  inc_cis_13421  2023      9   30  "
      ]
     },
     "execution_count": 167,
     "metadata": {},
     "output_type": "execute_result"
    }
   ],
   "source": [
    "df[v_continuas].head(2)"
   ]
  },
  {
   "cell_type": "code",
   "execution_count": 168,
   "metadata": {},
   "outputs": [],
   "source": [
    "v_categoricas_cont = list(df[v_continuas].dtypes[df[v_continuas].dtypes == 'object'].index)\n",
    "v_categoricas_cont.remove('dnx_id')"
   ]
  },
  {
   "cell_type": "code",
   "execution_count": 169,
   "metadata": {},
   "outputs": [
    {
     "data": {
      "text/plain": [
       "event_description    11591\n",
       "actor                 1161\n",
       "organization         12150\n",
       "event_subtype           93\n",
       "event_source         10687\n",
       "country                163\n",
       "dtype: int64"
      ]
     },
     "execution_count": 169,
     "metadata": {},
     "output_type": "execute_result"
    }
   ],
   "source": [
    "df[v_categoricas_cont].nunique()"
   ]
  },
  {
   "cell_type": "markdown",
   "metadata": {},
   "source": [
    "##### **Event Subtype.**"
   ]
  },
  {
   "cell_type": "code",
   "execution_count": 170,
   "metadata": {},
   "outputs": [
    {
     "data": {
      "text/plain": [
       "array(['Exploitation of Application Server', 'Data Attack,Undetermined',\n",
       "       'External Denial of Service', 'Undetermined',\n",
       "       'Exploitation of Application Server,Data Attack',\n",
       "       'Exploitation of End User', 'Exploitation of Infrastructure',\n",
       "       'Message Manipulation', 'Data Attack,Exploitation of End User',\n",
       "       'Exploitation of End Host', 'External Denial of Services',\n",
       "       'Data Attack,Exploitation of End Host', 'Data Attack',\n",
       "       'Physical Attack', 'Physical Attack,Undetermined',\n",
       "       'Exploitation of Applilcation Server', 'Exploitation of Sensor',\n",
       "       'Internal Denial of Service', 'Exploitation of Sensors',\n",
       "       'Exploitation of Applicatoin Server',\n",
       "       'Exploitation of Data in Transit',\n",
       "       'Exploitation of Application Server,Message Manipulation',\n",
       "       'Exploitation of Network Infrastructure',\n",
       "       'Exploitation of Network Infrastrucutre',\n",
       "       'Exploitation of Application Server,Data Attack,Internal Denial of Service',\n",
       "       'Exploitation of Network Server',\n",
       "       'Data Attack,Internal Denial of Service',\n",
       "       'Exploitation of Application Server,External Denial of Service',\n",
       "       'Internal Denial of Services', 'Unknown',\n",
       "       'Exploitation of Application Server,Exploitation of End Host',\n",
       "       'Exploitation of End Host,Internal Denial of Services',\n",
       "       'Exploitation of Application Server,Data Attack,External Denial of Services',\n",
       "       'Data Attack,External Denial of Services',\n",
       "       'Exploittation of Application Server',\n",
       "       'Data Attack,Exploitation of Application Server',\n",
       "       'Exploitation of Application Server,External Denial of Services',\n",
       "       'Exploitation of End Hosts', 'Exploitatiion of Sensors',\n",
       "       'Exploitation of Application Server,Exploitation of Data in Transit',\n",
       "       'Message Manipulation,Data Attack', 'Data Attack,Physical Attack',\n",
       "       'Exploitation of Application Servers',\n",
       "       'Exploitation of End Hosts,Data Attack,Exploitation of Application Servers',\n",
       "       'Exploitation of End Hosts,Data Attack',\n",
       "       'Exploitation of Network Infrastructure,Data Attack',\n",
       "       'External Denial of Service,Data Attack',\n",
       "       'Exploitation of Application Server,External Denial of Service,Data Attack',\n",
       "       'Exploitation of Application Server,Exploitation of Network Infrastructure',\n",
       "       'Exploitation of Application Server,Exploitation of End Hosts',\n",
       "       'Exploitation of End Hosts,External Denial of Service',\n",
       "       'Exploitation of End Hosts,Exploitation of Application Servers',\n",
       "       'Exploitation of Application Server,Exploitation of End Hosts,Internal Denial of Service',\n",
       "       'Exploitation of Application Server,External Denial of Service,Data Attack,Internal Denial of Service',\n",
       "       'External Denial of Service,Internal Denial of Service',\n",
       "       'Exploitation of Application Server,Internal Denial of Service',\n",
       "       'Message Manipulation,Internal Denial of Service',\n",
       "       'Exploitation of Application Server,Message Manipulation,External Denial of Service,Data Attack',\n",
       "       'Message Manipulation,External Denial of Service',\n",
       "       'Exploitation of Application Server,Data Attack,Exploitation of End Host',\n",
       "       'Exploitation of End Hosts,Exploitation of Data in Transit,Internal Denial of Service',\n",
       "       'Exploitation of End Hosts,Exploitation of Sensors',\n",
       "       'Exploitation of End Hosts,Exploitation of Data in Transit',\n",
       "       'Message Manipulation,Exploitation of End Hosts',\n",
       "       'Data Attack,Physical Attack,Internal Denial of Service',\n",
       "       'Exploitation of Application Server,Message Manipulation,Exploitation of Data in Transit',\n",
       "       'External Denial of Service,Data Attack,Internal Denial of Service',\n",
       "       'Message Manipulation,External Denial of Service,Data Attack',\n",
       "       'Exploitation of Application Server,Exploitation of End Hosts,Exploitation of Data in Transit',\n",
       "       'Exploitation of Application Server,Message Manipulation,Exploitation of End Hosts,Data Attack',\n",
       "       'Exploitation of Application Server,Message Manipulation,Exploitation of End Hosts',\n",
       "       'Exploitation of Application Server,Message Manipulation,External Denial of Service',\n",
       "       'Exploitation of Application Server,Exploitation of End Hosts,Physical Attack',\n",
       "       'Exploitation of Application Server,Physical Attack',\n",
       "       'Message Manipulation,Exploitation of End Hosts,Data Attack',\n",
       "       'Exploitation of Application Server,Exploitation of Network Infrastructure,Exploitation of Sensors',\n",
       "       'Exploitation of Application Server,Exploitation of End Hosts,Exploitation of Network Infrastructure',\n",
       "       'Exploitation of Application Server,Exploitation of Sensors',\n",
       "       'Exploitation of Network Infrastructure,Exploitation of Data in Transit',\n",
       "       'Message Manipulation,Exploitation of End Hosts,Exploitation of Data in Transit',\n",
       "       'Exploitation of Application Server,Exploitation of End Hosts,External Denial of Service',\n",
       "       'External Denial of Service,Data Attack,Physical Attack',\n",
       "       'Exploitation of Application Server,Exploitation of End Hosts,Exploitation of Sensors',\n",
       "       'Message Manipulation,Exploitation of Data in Transit',\n",
       "       'Exploitation of Application Server,Exploitation of Network Infrastructure,Internal Denial of Service',\n",
       "       'Exploitation of End Hosts,Internal Denial of Service',\n",
       "       'Exploitation of Application Server,Message Manipulation,Internal Denial of Service',\n",
       "       'Message Manipulation,Exploitation of End Hosts,External Denial of Service,Exploitation of Data in Transit',\n",
       "       'Exploitation of End Hosts,Exploitation of Network Infrastructure',\n",
       "       'External Denial of Service,Physical Attack',\n",
       "       'Exploitation of Network Infrastructure,Internal Denial of Service',\n",
       "       'Message Manipulation,External Denial of Service,Internal Denial of Service, Physical Attack',\n",
       "       'Exploitation of Application Server,Message Manipulation,Data Attack'],\n",
       "      dtype=object)"
      ]
     },
     "execution_count": 170,
     "metadata": {},
     "output_type": "execute_result"
    }
   ],
   "source": [
    "df['event_subtype'].unique()"
   ]
  },
  {
   "cell_type": "markdown",
   "metadata": {},
   "source": [
    "**Corrección de escritura.**"
   ]
  },
  {
   "cell_type": "code",
   "execution_count": 171,
   "metadata": {},
   "outputs": [],
   "source": [
    "df['event_subtype'] = df['event_subtype'].str.replace('Exploittation of Application Server', 'Exploitation of Application Server')"
   ]
  },
  {
   "cell_type": "markdown",
   "metadata": {},
   "source": [
    "##### **Country.**\n",
    "Para realizar una evaluación más efectiva de los países en nuestros datos, es conveniente agruparlos por continentes. Esto es especialmente relevante porque en otros archivos CSV hay registros de ataques provenientes de diferentes países, distribuidos en distintos continentes.\n",
    "\n",
    "Para facilitar este análisis, procederemos a crear seis nuevas columnas en nuestro conjunto de datos, cada una representando un continente específico. Estas columnas indicarán con un valor de 1 si el país pertenece al continente correspondiente y 0 si no es así, es decir, mediante una asignación de valores binarios."
   ]
  },
  {
   "cell_type": "code",
   "execution_count": 172,
   "metadata": {},
   "outputs": [
    {
     "data": {
      "text/plain": [
       "array(['ITA', 'DEU', 'USA', 'RUS', 'CAN', 'GBR', 'FRA', 'JPN', 'UKR',\n",
       "       'PHL', 'HKG', 'SGP', 'BMU', 'NZL', 'CHN', '999', 'ISR', 'BRA',\n",
       "       'KWT', 'THA', 'IND', 'COL', 'LKA', 'ESP', 'AUS', 'NLD', 'TUR',\n",
       "       'TWN', 'MEX', 'MAR', 'CZE', 'KOR', 'IRN', 'POL', 'BEL', 'DNK',\n",
       "       'ZAF', 'CHE', 'SRB', 'SLV', 'LTU', 'ECU', 'ARG', 'IDN', 'VNM',\n",
       "       'PRT', 'PAK', 'NGA', 'KEN', 'NOR', 'EGY', 'MYS', 'IRL', 'SWE',\n",
       "       'FIN', 'MLT', 'BLR', 'TTO', 'MLI', 'JAM', 'EST', 'GRC', 'CHL',\n",
       "       'CYM', 'HRV', 'SYC', 'VEN', 'GTM', 'CYP', 'PAN', 'CRI', 'VCT',\n",
       "       'PRI', 'PER', 'DOM', 'BHR', 'TON', 'URY', 'SVK', 'LVA', 'CUB',\n",
       "       'MDA', 'ARE', 'AUT', 'BRB', 'ROU', 'VAT', 'MDV', 'GLP', 'BES',\n",
       "       'TGO', 'SAU', 'VUT', 'BGR', 'HUN', 'BHS', 'MMR', 'PRY', 'KAZ',\n",
       "       'GHA', 'BIH', 'ALB', 'MNE', 'BOL', 'ASM', 'KIR', 'LUX', 'BGD',\n",
       "       'GRL', 'ZMB', 'JOR', 'NRU', 'GIB', 'GUF', 'LBN', 'QAT', 'SVN',\n",
       "       'PRK', 'AND', 'AGO', 'PNG', 'AFG', 'GEO', 'FJI', 'OMN', 'MNG',\n",
       "       'NPL', 'CPV', 'UGA', 'MKD', 'DZA', 'ARM', 'RWA', 'IRQ', 'SLE',\n",
       "       'KHM', 'ETH', 'IMN', 'UZB', 'TKM', 'LIE', 'YEM', 'ZWE', 'GAB',\n",
       "       'ATA', 'SYR', 'MCO', 'LBY', 'MWI', 'AZE', 'TUN', 'TZA', 'SEN',\n",
       "       'ISL', 'LAO', 'NAM', 'GUM', 'PLW', 'TJK', 'PSE', 'LSO', 'NIC',\n",
       "       'SDN'], dtype=object)"
      ]
     },
     "execution_count": 172,
     "metadata": {},
     "output_type": "execute_result"
    }
   ],
   "source": [
    "df['country'].unique()"
   ]
  },
  {
   "cell_type": "code",
   "execution_count": 173,
   "metadata": {},
   "outputs": [],
   "source": [
    "continent_mapping = {\n",
    "    'Europe': ['ITA', 'DEU', 'GBR', 'FRA', 'UKR', 'ESP', 'NLD', 'POL', 'BEL', 'DNK',\n",
    "               'CHE', 'SRB', 'LTU', 'MLT', 'GRC', 'CZE', 'HRV', 'HUN', 'AUT', 'SVK',\n",
    "               'BLR', 'BGR', 'GIB', 'MDA', 'PRT', 'SVN', 'AND', 'LVA', 'CUB', 'KIR', \n",
    "               'RUS', 'NOR', 'SWE', 'FIN', 'EST', 'IRL', 'CYP', 'TUR', 'ROU', 'VAT',\n",
    "                'MDV', 'BIH', 'ALB', 'MNE', 'LUX', 'ARM', 'IMN', 'LIE', 'MCO', 'AZE',\n",
    "                'ISL', 'MKD'],\n",
    "    'North America': ['USA', 'CAN', 'BMU', 'MEX', 'NIC', 'CRI', 'SLV', 'GTM', \n",
    "                      'PRI', 'TTO', 'JAM', 'BHS', 'BLZ', 'CYM', 'BRB', 'GLP',\n",
    "                      'GRL'],\n",
    "    'South America': ['BRA', 'ARG', 'COL', 'PER', 'VEN', 'CHL', 'URY', 'PAR', \n",
    "                      'BOL', 'ECU', 'PAN', 'VCT', 'DOM', 'BES', 'PRY', 'GUF',],\n",
    "    'Asia': ['JPN', 'CHN', 'KWT', 'THA', 'IND', 'PHL', 'HKG', 'SGP', 'IDN', \n",
    "             'VNM', 'IRN', 'KOR', 'PAK', 'ISR', 'TWN', 'BGD', 'AFG', 'KHM', \n",
    "             'LAO', 'OMN', 'QAT', 'JOR', 'IRQ', 'MNG', 'UZB', 'TKM', 'YEM', \n",
    "             'MDA', 'GEO', 'FJI', 'LKA', 'TJK', 'MYS', 'BHR', 'ARE', 'SAU',\n",
    "              'MMR', 'KAZ', 'LBN', 'PRK', 'NPL', 'SYR', 'LBY', 'PSE'],\n",
    "    'Africa': ['ZAF', 'EGY', 'KEN', 'NGA', 'GHA', 'ETH', 'ZMB', 'UGA', \n",
    "               'DZA', 'TGO', 'MAR', 'SDN', 'SLE', 'RWA', 'AGO', 'MLI', \n",
    "               'TUN', 'ZWE', 'NAM', 'LSO', 'MZW', 'SYC', 'CPV', 'GAB',\n",
    "               'MWI', 'TZA', 'SEN'],\n",
    "    'Australia': ['NZL', 'AUS', 'TON', 'PNG', 'NRU', 'FJI', 'PLW', 'KIR', 'VUT', 'ASM', 'GUM']\n",
    "}"
   ]
  },
  {
   "cell_type": "code",
   "execution_count": 174,
   "metadata": {},
   "outputs": [],
   "source": [
    "def assign_continent(country):\n",
    "    for continent, countries in continent_mapping.items():\n",
    "        if country in countries:\n",
    "            return continent\n",
    "    return None  # Si el país no está en la lista, retornar None"
   ]
  },
  {
   "cell_type": "code",
   "execution_count": 175,
   "metadata": {},
   "outputs": [
    {
     "data": {
      "text/plain": [
       "163"
      ]
     },
     "execution_count": 175,
     "metadata": {},
     "output_type": "execute_result"
    }
   ],
   "source": [
    "df['country'].nunique()"
   ]
  },
  {
   "cell_type": "code",
   "execution_count": 176,
   "metadata": {},
   "outputs": [
    {
     "data": {
      "text/plain": [
       "(13363, 20)"
      ]
     },
     "execution_count": 176,
     "metadata": {},
     "output_type": "execute_result"
    }
   ],
   "source": [
    "df.shape"
   ]
  },
  {
   "cell_type": "code",
   "execution_count": 177,
   "metadata": {},
   "outputs": [],
   "source": [
    "df['continent'] = df['country'].map(assign_continent)"
   ]
  },
  {
   "cell_type": "code",
   "execution_count": 178,
   "metadata": {},
   "outputs": [
    {
     "data": {
      "text/plain": [
       "array(['Europe', 'North America', 'Asia', 'Australia', None,\n",
       "       'South America', 'Africa'], dtype=object)"
      ]
     },
     "execution_count": 178,
     "metadata": {},
     "output_type": "execute_result"
    }
   ],
   "source": [
    "df['continent'].unique()"
   ]
  },
  {
   "cell_type": "code",
   "execution_count": 179,
   "metadata": {},
   "outputs": [
    {
     "name": "stdout",
     "output_type": "stream",
     "text": [
      "Lista de países con 'continent' como None:\n",
      "['999' 'ATA']\n"
     ]
    }
   ],
   "source": [
    "countries_with_no_continent = df[df['continent'].isnull()]['country'].unique()\n",
    "\n",
    "# Mostrar la lista de países con 'continent' como None\n",
    "print(\"Lista de países con 'continent' como None:\")\n",
    "print(countries_with_no_continent)"
   ]
  },
  {
   "cell_type": "code",
   "execution_count": 180,
   "metadata": {},
   "outputs": [],
   "source": [
    "df.dropna(subset=['continent'], inplace=True)"
   ]
  },
  {
   "cell_type": "code",
   "execution_count": 181,
   "metadata": {},
   "outputs": [
    {
     "name": "stdout",
     "output_type": "stream",
     "text": [
      "                                                  event_description  \\\n",
      "id                                                                    \n",
      "f5c2ebc02807a6b3  Innovery, an Italian company delivering IT ser...   \n",
      "0b7a20f4161d89b2  The ALPHV/BlackCat ransomware gang adds the ho...   \n",
      "2e37d07ef6ef3cb6  The pro-Russian collective NoName057(16) takes...   \n",
      "f8029e6b6169de1f  API Financial Solutions files a notice of data...   \n",
      "1ed93f0579b9056c  McLaren HealthCare, confirms to be dealing wit...   \n",
      "...                                                             ...   \n",
      "285fa5842609a5bf  Cardiovascular Consultants (CVC Heart) is hit ...   \n",
      "c823006f6c70313c  Erlanger Health is also affected by the MOVEit...   \n",
      "c886a43fe79a0a7b  The European Telecommunications Standards Inst...   \n",
      "bb17aacdf2e20d25  Lost Trust Team adds GI Medical Services in Ne...   \n",
      "bac11292d79231f0  UK charities including Shelter, the RSPCA, the...   \n",
      "\n",
      "                               actor  actor_type  event_type  \\\n",
      "id                                                             \n",
      "f5c2ebc02807a6b3        Undetermined    Criminal  Exploitive   \n",
      "0b7a20f4161d89b2               ALPHV    Criminal       Mixed   \n",
      "2e37d07ef6ef3cb6       NoName057(16)  Hacktivist  Disruptive   \n",
      "f8029e6b6169de1f        Undetermined    Criminal  Exploitive   \n",
      "1ed93f0579b9056c               ALPHV    Criminal       Mixed   \n",
      "...                              ...         ...         ...   \n",
      "285fa5842609a5bf  Indian Cyber Force  Hacktivist  Disruptive   \n",
      "c823006f6c70313c               Qilin    Criminal       Mixed   \n",
      "c886a43fe79a0a7b                cl0p    Criminal  Exploitive   \n",
      "bb17aacdf2e20d25        Undetermined    Criminal  Exploitive   \n",
      "bac11292d79231f0          Lost Trust    Criminal  Exploitive   \n",
      "\n",
      "                                                       organization  \\\n",
      "id                                                                    \n",
      "f5c2ebc02807a6b3                                           Innovery   \n",
      "0b7a20f4161d89b2                                          Motel One   \n",
      "2e37d07ef6ef3cb6                    Multiple organizations in Italy   \n",
      "f8029e6b6169de1f                            API Financial Solutions   \n",
      "1ed93f0579b9056c                                 McLaren HealthCare   \n",
      "...                                                             ...   \n",
      "285fa5842609a5bf                              Canadian Armed Forces   \n",
      "c823006f6c70313c                         Cardiovascular Consultants   \n",
      "c886a43fe79a0a7b                                    Erlanger Health   \n",
      "bb17aacdf2e20d25  European Telecommunications Standards Institut...   \n",
      "bac11292d79231f0                                GI Medical Services   \n",
      "\n",
      "                                       event_subtype        motive  \\\n",
      "id                                                                   \n",
      "f5c2ebc02807a6b3  Exploitation of Application Server     Financial   \n",
      "0b7a20f4161d89b2            Data Attack,Undetermined     Financial   \n",
      "2e37d07ef6ef3cb6          External Denial of Service       Protest   \n",
      "f8029e6b6169de1f                        Undetermined     Financial   \n",
      "1ed93f0579b9056c            Data Attack,Undetermined     Financial   \n",
      "...                                              ...           ...   \n",
      "285fa5842609a5bf          External Denial of Service       Protest   \n",
      "c823006f6c70313c  Exploitation of Application Server     Financial   \n",
      "c886a43fe79a0a7b  Exploitation of Application Server     Financial   \n",
      "bb17aacdf2e20d25  Exploitation of Application Server  Undetermined   \n",
      "bac11292d79231f0                        Undetermined     Financial   \n",
      "\n",
      "                  motive_code  \\\n",
      "id                              \n",
      "f5c2ebc02807a6b3          1.0   \n",
      "0b7a20f4161d89b2          1.0   \n",
      "2e37d07ef6ef3cb6          3.0   \n",
      "f8029e6b6169de1f          1.0   \n",
      "1ed93f0579b9056c          1.0   \n",
      "...                       ...   \n",
      "285fa5842609a5bf          3.0   \n",
      "c823006f6c70313c          1.0   \n",
      "c886a43fe79a0a7b          1.0   \n",
      "bb17aacdf2e20d25          5.0   \n",
      "bac11292d79231f0          1.0   \n",
      "\n",
      "                                                       event_source country  \\\n",
      "id                                                                            \n",
      "f5c2ebc02807a6b3  https://www.redhotcyber.com/post/attacco-infor...     ITA   \n",
      "0b7a20f4161d89b2  https://securityaffairs.com/151732/cyber-crime...     DEU   \n",
      "2e37d07ef6ef3cb6  https://www.redhotcyber.com/post/si-ricomincia...     ITA   \n",
      "f8029e6b6169de1f  https://www.jdsupra.com/legalnews/api-financia...     USA   \n",
      "1ed93f0579b9056c  https://therecord.media/mclaren-healthcare-ran...     USA   \n",
      "...                                                             ...     ...   \n",
      "285fa5842609a5bf  https://thewire.in/world/pro-india-hacker-grou...     CAN   \n",
      "c823006f6c70313c  https://www.databreaches.net/cardiovascular-co...     USA   \n",
      "c886a43fe79a0a7b  https://www.hipaajournal.com/oak-valley-hospit...     USA   \n",
      "bb17aacdf2e20d25  https://therecord.media/etsi-telecommunication...     FRA   \n",
      "bac11292d79231f0  https://www.databreaches.net/and-yet-more-vict...     USA   \n",
      "\n",
      "                  ... Exploitive  Undetermined actor_type_group  \\\n",
      "id                ...                                             \n",
      "f5c2ebc02807a6b3  ...          1             0              0.0   \n",
      "0b7a20f4161d89b2  ...          1             0              0.0   \n",
      "2e37d07ef6ef3cb6  ...          0             0              1.0   \n",
      "f8029e6b6169de1f  ...          1             0              0.0   \n",
      "1ed93f0579b9056c  ...          1             0              0.0   \n",
      "...               ...        ...           ...              ...   \n",
      "285fa5842609a5bf  ...          0             0              1.0   \n",
      "c823006f6c70313c  ...          1             0              0.0   \n",
      "c886a43fe79a0a7b  ...          1             0              0.0   \n",
      "bb17aacdf2e20d25  ...          1             0              0.0   \n",
      "bac11292d79231f0  ...          1             0              0.0   \n",
      "\n",
      "                      continent  Africa  Asia  Australia  Europe  \\\n",
      "id                                                                 \n",
      "f5c2ebc02807a6b3         Europe       0     0          0       1   \n",
      "0b7a20f4161d89b2         Europe       0     0          0       1   \n",
      "2e37d07ef6ef3cb6         Europe       0     0          0       1   \n",
      "f8029e6b6169de1f  North America       0     0          0       0   \n",
      "1ed93f0579b9056c  North America       0     0          0       0   \n",
      "...                         ...     ...   ...        ...     ...   \n",
      "285fa5842609a5bf  North America       0     0          0       0   \n",
      "c823006f6c70313c  North America       0     0          0       0   \n",
      "c886a43fe79a0a7b  North America       0     0          0       0   \n",
      "bb17aacdf2e20d25         Europe       0     0          0       1   \n",
      "bac11292d79231f0  North America       0     0          0       0   \n",
      "\n",
      "                  North America  South America  \n",
      "id                                              \n",
      "f5c2ebc02807a6b3              0              0  \n",
      "0b7a20f4161d89b2              0              0  \n",
      "2e37d07ef6ef3cb6              0              0  \n",
      "f8029e6b6169de1f              1              0  \n",
      "1ed93f0579b9056c              1              0  \n",
      "...                         ...            ...  \n",
      "285fa5842609a5bf              1              0  \n",
      "c823006f6c70313c              1              0  \n",
      "c886a43fe79a0a7b              1              0  \n",
      "bb17aacdf2e20d25              0              0  \n",
      "bac11292d79231f0              1              0  \n",
      "\n",
      "[13019 rows x 27 columns]\n"
     ]
    }
   ],
   "source": [
    "df['continent'] = df['country'].apply(assign_continent)\n",
    "df_continentes = pd.get_dummies(df['continent'])\n",
    "\n",
    "df = pd.concat([df, df_continentes], axis=1)\n",
    "\n",
    "print(df)"
   ]
  },
  {
   "cell_type": "code",
   "execution_count": 182,
   "metadata": {},
   "outputs": [],
   "source": [
    "df.drop(['country', 'continent'], axis = 1, inplace = True)"
   ]
  },
  {
   "cell_type": "code",
   "execution_count": 183,
   "metadata": {},
   "outputs": [
    {
     "data": {
      "text/html": [
       "<div>\n",
       "<style scoped>\n",
       "    .dataframe tbody tr th:only-of-type {\n",
       "        vertical-align: middle;\n",
       "    }\n",
       "\n",
       "    .dataframe tbody tr th {\n",
       "        vertical-align: top;\n",
       "    }\n",
       "\n",
       "    .dataframe thead th {\n",
       "        text-align: right;\n",
       "    }\n",
       "</style>\n",
       "<table border=\"1\" class=\"dataframe\">\n",
       "  <thead>\n",
       "    <tr style=\"text-align: right;\">\n",
       "      <th></th>\n",
       "      <th>event_description</th>\n",
       "      <th>actor</th>\n",
       "      <th>actor_type</th>\n",
       "      <th>event_type</th>\n",
       "      <th>organization</th>\n",
       "      <th>event_subtype</th>\n",
       "      <th>motive</th>\n",
       "      <th>motive_code</th>\n",
       "      <th>event_source</th>\n",
       "      <th>industry</th>\n",
       "      <th>...</th>\n",
       "      <th>Disruptive</th>\n",
       "      <th>Exploitive</th>\n",
       "      <th>Undetermined</th>\n",
       "      <th>actor_type_group</th>\n",
       "      <th>Africa</th>\n",
       "      <th>Asia</th>\n",
       "      <th>Australia</th>\n",
       "      <th>Europe</th>\n",
       "      <th>North America</th>\n",
       "      <th>South America</th>\n",
       "    </tr>\n",
       "    <tr>\n",
       "      <th>id</th>\n",
       "      <th></th>\n",
       "      <th></th>\n",
       "      <th></th>\n",
       "      <th></th>\n",
       "      <th></th>\n",
       "      <th></th>\n",
       "      <th></th>\n",
       "      <th></th>\n",
       "      <th></th>\n",
       "      <th></th>\n",
       "      <th></th>\n",
       "      <th></th>\n",
       "      <th></th>\n",
       "      <th></th>\n",
       "      <th></th>\n",
       "      <th></th>\n",
       "      <th></th>\n",
       "      <th></th>\n",
       "      <th></th>\n",
       "      <th></th>\n",
       "      <th></th>\n",
       "    </tr>\n",
       "  </thead>\n",
       "  <tbody>\n",
       "    <tr>\n",
       "      <th>f5c2ebc02807a6b3</th>\n",
       "      <td>Innovery, an Italian company delivering IT ser...</td>\n",
       "      <td>Undetermined</td>\n",
       "      <td>Criminal</td>\n",
       "      <td>Exploitive</td>\n",
       "      <td>Innovery</td>\n",
       "      <td>Exploitation of Application Server</td>\n",
       "      <td>Financial</td>\n",
       "      <td>1.0</td>\n",
       "      <td>https://www.redhotcyber.com/post/attacco-infor...</td>\n",
       "      <td>Professional, Scientific, and Technical Services</td>\n",
       "      <td>...</td>\n",
       "      <td>0</td>\n",
       "      <td>1</td>\n",
       "      <td>0</td>\n",
       "      <td>0.0</td>\n",
       "      <td>0</td>\n",
       "      <td>0</td>\n",
       "      <td>0</td>\n",
       "      <td>1</td>\n",
       "      <td>0</td>\n",
       "      <td>0</td>\n",
       "    </tr>\n",
       "    <tr>\n",
       "      <th>0b7a20f4161d89b2</th>\n",
       "      <td>The ALPHV/BlackCat ransomware gang adds the ho...</td>\n",
       "      <td>ALPHV</td>\n",
       "      <td>Criminal</td>\n",
       "      <td>Mixed</td>\n",
       "      <td>Motel One</td>\n",
       "      <td>Data Attack,Undetermined</td>\n",
       "      <td>Financial</td>\n",
       "      <td>1.0</td>\n",
       "      <td>https://securityaffairs.com/151732/cyber-crime...</td>\n",
       "      <td>Accommodation and Food Services</td>\n",
       "      <td>...</td>\n",
       "      <td>1</td>\n",
       "      <td>1</td>\n",
       "      <td>0</td>\n",
       "      <td>0.0</td>\n",
       "      <td>0</td>\n",
       "      <td>0</td>\n",
       "      <td>0</td>\n",
       "      <td>1</td>\n",
       "      <td>0</td>\n",
       "      <td>0</td>\n",
       "    </tr>\n",
       "  </tbody>\n",
       "</table>\n",
       "<p>2 rows × 25 columns</p>\n",
       "</div>"
      ],
      "text/plain": [
       "                                                  event_description  \\\n",
       "id                                                                    \n",
       "f5c2ebc02807a6b3  Innovery, an Italian company delivering IT ser...   \n",
       "0b7a20f4161d89b2  The ALPHV/BlackCat ransomware gang adds the ho...   \n",
       "\n",
       "                         actor actor_type  event_type organization  \\\n",
       "id                                                                   \n",
       "f5c2ebc02807a6b3  Undetermined   Criminal  Exploitive     Innovery   \n",
       "0b7a20f4161d89b2         ALPHV   Criminal       Mixed    Motel One   \n",
       "\n",
       "                                       event_subtype     motive  motive_code  \\\n",
       "id                                                                             \n",
       "f5c2ebc02807a6b3  Exploitation of Application Server  Financial          1.0   \n",
       "0b7a20f4161d89b2            Data Attack,Undetermined  Financial          1.0   \n",
       "\n",
       "                                                       event_source  \\\n",
       "id                                                                    \n",
       "f5c2ebc02807a6b3  https://www.redhotcyber.com/post/attacco-infor...   \n",
       "0b7a20f4161d89b2  https://securityaffairs.com/151732/cyber-crime...   \n",
       "\n",
       "                                                          industry  ...  \\\n",
       "id                                                                  ...   \n",
       "f5c2ebc02807a6b3  Professional, Scientific, and Technical Services  ...   \n",
       "0b7a20f4161d89b2                   Accommodation and Food Services  ...   \n",
       "\n",
       "                  Disruptive Exploitive  Undetermined  actor_type_group  \\\n",
       "id                                                                        \n",
       "f5c2ebc02807a6b3           0          1             0               0.0   \n",
       "0b7a20f4161d89b2           1          1             0               0.0   \n",
       "\n",
       "                  Africa  Asia  Australia  Europe  North America  \\\n",
       "id                                                                 \n",
       "f5c2ebc02807a6b3       0     0          0       1              0   \n",
       "0b7a20f4161d89b2       0     0          0       1              0   \n",
       "\n",
       "                  South America  \n",
       "id                               \n",
       "f5c2ebc02807a6b3              0  \n",
       "0b7a20f4161d89b2              0  \n",
       "\n",
       "[2 rows x 25 columns]"
      ]
     },
     "execution_count": 183,
     "metadata": {},
     "output_type": "execute_result"
    }
   ],
   "source": [
    "df.head(2)"
   ]
  },
  {
   "cell_type": "markdown",
   "metadata": {},
   "source": [
    "##### **Event Source.**\n",
    "Esta columna servirá posteriormente para definir las relaciones entre CSVs. Deberemos de extraer el nombre del dominio de la URL. "
   ]
  },
  {
   "cell_type": "code",
   "execution_count": 184,
   "metadata": {},
   "outputs": [],
   "source": [
    "df['event_source'] = df['event_source'].fillna(\"\").apply(lambda x: urlparse(str(x)).netloc)\n"
   ]
  },
  {
   "cell_type": "code",
   "execution_count": 185,
   "metadata": {},
   "outputs": [
    {
     "data": {
      "text/html": [
       "<div>\n",
       "<style scoped>\n",
       "    .dataframe tbody tr th:only-of-type {\n",
       "        vertical-align: middle;\n",
       "    }\n",
       "\n",
       "    .dataframe tbody tr th {\n",
       "        vertical-align: top;\n",
       "    }\n",
       "\n",
       "    .dataframe thead th {\n",
       "        text-align: right;\n",
       "    }\n",
       "</style>\n",
       "<table border=\"1\" class=\"dataframe\">\n",
       "  <thead>\n",
       "    <tr style=\"text-align: right;\">\n",
       "      <th></th>\n",
       "      <th>event_description</th>\n",
       "      <th>actor</th>\n",
       "      <th>actor_type</th>\n",
       "      <th>event_type</th>\n",
       "      <th>organization</th>\n",
       "      <th>event_subtype</th>\n",
       "      <th>motive</th>\n",
       "      <th>motive_code</th>\n",
       "      <th>event_source</th>\n",
       "      <th>industry</th>\n",
       "      <th>...</th>\n",
       "      <th>Disruptive</th>\n",
       "      <th>Exploitive</th>\n",
       "      <th>Undetermined</th>\n",
       "      <th>actor_type_group</th>\n",
       "      <th>Africa</th>\n",
       "      <th>Asia</th>\n",
       "      <th>Australia</th>\n",
       "      <th>Europe</th>\n",
       "      <th>North America</th>\n",
       "      <th>South America</th>\n",
       "    </tr>\n",
       "    <tr>\n",
       "      <th>id</th>\n",
       "      <th></th>\n",
       "      <th></th>\n",
       "      <th></th>\n",
       "      <th></th>\n",
       "      <th></th>\n",
       "      <th></th>\n",
       "      <th></th>\n",
       "      <th></th>\n",
       "      <th></th>\n",
       "      <th></th>\n",
       "      <th></th>\n",
       "      <th></th>\n",
       "      <th></th>\n",
       "      <th></th>\n",
       "      <th></th>\n",
       "      <th></th>\n",
       "      <th></th>\n",
       "      <th></th>\n",
       "      <th></th>\n",
       "      <th></th>\n",
       "      <th></th>\n",
       "    </tr>\n",
       "  </thead>\n",
       "  <tbody>\n",
       "    <tr>\n",
       "      <th>f5c2ebc02807a6b3</th>\n",
       "      <td>Innovery, an Italian company delivering IT ser...</td>\n",
       "      <td>Undetermined</td>\n",
       "      <td>Criminal</td>\n",
       "      <td>Exploitive</td>\n",
       "      <td>Innovery</td>\n",
       "      <td>Exploitation of Application Server</td>\n",
       "      <td>Financial</td>\n",
       "      <td>1.0</td>\n",
       "      <td>www.redhotcyber.com</td>\n",
       "      <td>Professional, Scientific, and Technical Services</td>\n",
       "      <td>...</td>\n",
       "      <td>0</td>\n",
       "      <td>1</td>\n",
       "      <td>0</td>\n",
       "      <td>0.0</td>\n",
       "      <td>0</td>\n",
       "      <td>0</td>\n",
       "      <td>0</td>\n",
       "      <td>1</td>\n",
       "      <td>0</td>\n",
       "      <td>0</td>\n",
       "    </tr>\n",
       "    <tr>\n",
       "      <th>0b7a20f4161d89b2</th>\n",
       "      <td>The ALPHV/BlackCat ransomware gang adds the ho...</td>\n",
       "      <td>ALPHV</td>\n",
       "      <td>Criminal</td>\n",
       "      <td>Mixed</td>\n",
       "      <td>Motel One</td>\n",
       "      <td>Data Attack,Undetermined</td>\n",
       "      <td>Financial</td>\n",
       "      <td>1.0</td>\n",
       "      <td>securityaffairs.com</td>\n",
       "      <td>Accommodation and Food Services</td>\n",
       "      <td>...</td>\n",
       "      <td>1</td>\n",
       "      <td>1</td>\n",
       "      <td>0</td>\n",
       "      <td>0.0</td>\n",
       "      <td>0</td>\n",
       "      <td>0</td>\n",
       "      <td>0</td>\n",
       "      <td>1</td>\n",
       "      <td>0</td>\n",
       "      <td>0</td>\n",
       "    </tr>\n",
       "    <tr>\n",
       "      <th>2e37d07ef6ef3cb6</th>\n",
       "      <td>The pro-Russian collective NoName057(16) takes...</td>\n",
       "      <td>NoName057(16)</td>\n",
       "      <td>Hacktivist</td>\n",
       "      <td>Disruptive</td>\n",
       "      <td>Multiple organizations in Italy</td>\n",
       "      <td>External Denial of Service</td>\n",
       "      <td>Protest</td>\n",
       "      <td>3.0</td>\n",
       "      <td>www.redhotcyber.com</td>\n",
       "      <td>Public Administration</td>\n",
       "      <td>...</td>\n",
       "      <td>1</td>\n",
       "      <td>0</td>\n",
       "      <td>0</td>\n",
       "      <td>1.0</td>\n",
       "      <td>0</td>\n",
       "      <td>0</td>\n",
       "      <td>0</td>\n",
       "      <td>1</td>\n",
       "      <td>0</td>\n",
       "      <td>0</td>\n",
       "    </tr>\n",
       "    <tr>\n",
       "      <th>f8029e6b6169de1f</th>\n",
       "      <td>API Financial Solutions files a notice of data...</td>\n",
       "      <td>Undetermined</td>\n",
       "      <td>Criminal</td>\n",
       "      <td>Exploitive</td>\n",
       "      <td>API Financial Solutions</td>\n",
       "      <td>Undetermined</td>\n",
       "      <td>Financial</td>\n",
       "      <td>1.0</td>\n",
       "      <td>www.jdsupra.com</td>\n",
       "      <td>Finance and Insurance</td>\n",
       "      <td>...</td>\n",
       "      <td>0</td>\n",
       "      <td>1</td>\n",
       "      <td>0</td>\n",
       "      <td>0.0</td>\n",
       "      <td>0</td>\n",
       "      <td>0</td>\n",
       "      <td>0</td>\n",
       "      <td>0</td>\n",
       "      <td>1</td>\n",
       "      <td>0</td>\n",
       "    </tr>\n",
       "    <tr>\n",
       "      <th>1ed93f0579b9056c</th>\n",
       "      <td>McLaren HealthCare, confirms to be dealing wit...</td>\n",
       "      <td>ALPHV</td>\n",
       "      <td>Criminal</td>\n",
       "      <td>Mixed</td>\n",
       "      <td>McLaren HealthCare</td>\n",
       "      <td>Data Attack,Undetermined</td>\n",
       "      <td>Financial</td>\n",
       "      <td>1.0</td>\n",
       "      <td>therecord.media</td>\n",
       "      <td>Health Care and Social Assistance</td>\n",
       "      <td>...</td>\n",
       "      <td>1</td>\n",
       "      <td>1</td>\n",
       "      <td>0</td>\n",
       "      <td>0.0</td>\n",
       "      <td>0</td>\n",
       "      <td>0</td>\n",
       "      <td>0</td>\n",
       "      <td>0</td>\n",
       "      <td>1</td>\n",
       "      <td>0</td>\n",
       "    </tr>\n",
       "    <tr>\n",
       "      <th>...</th>\n",
       "      <td>...</td>\n",
       "      <td>...</td>\n",
       "      <td>...</td>\n",
       "      <td>...</td>\n",
       "      <td>...</td>\n",
       "      <td>...</td>\n",
       "      <td>...</td>\n",
       "      <td>...</td>\n",
       "      <td>...</td>\n",
       "      <td>...</td>\n",
       "      <td>...</td>\n",
       "      <td>...</td>\n",
       "      <td>...</td>\n",
       "      <td>...</td>\n",
       "      <td>...</td>\n",
       "      <td>...</td>\n",
       "      <td>...</td>\n",
       "      <td>...</td>\n",
       "      <td>...</td>\n",
       "      <td>...</td>\n",
       "      <td>...</td>\n",
       "    </tr>\n",
       "    <tr>\n",
       "      <th>285fa5842609a5bf</th>\n",
       "      <td>Cardiovascular Consultants (CVC Heart) is hit ...</td>\n",
       "      <td>Indian Cyber Force</td>\n",
       "      <td>Hacktivist</td>\n",
       "      <td>Disruptive</td>\n",
       "      <td>Canadian Armed Forces</td>\n",
       "      <td>External Denial of Service</td>\n",
       "      <td>Protest</td>\n",
       "      <td>3.0</td>\n",
       "      <td>thewire.in</td>\n",
       "      <td>Public Administration</td>\n",
       "      <td>...</td>\n",
       "      <td>1</td>\n",
       "      <td>0</td>\n",
       "      <td>0</td>\n",
       "      <td>1.0</td>\n",
       "      <td>0</td>\n",
       "      <td>0</td>\n",
       "      <td>0</td>\n",
       "      <td>0</td>\n",
       "      <td>1</td>\n",
       "      <td>0</td>\n",
       "    </tr>\n",
       "    <tr>\n",
       "      <th>c823006f6c70313c</th>\n",
       "      <td>Erlanger Health is also affected by the MOVEit...</td>\n",
       "      <td>Qilin</td>\n",
       "      <td>Criminal</td>\n",
       "      <td>Mixed</td>\n",
       "      <td>Cardiovascular Consultants</td>\n",
       "      <td>Exploitation of Application Server</td>\n",
       "      <td>Financial</td>\n",
       "      <td>1.0</td>\n",
       "      <td>www.databreaches.net</td>\n",
       "      <td>Health Care and Social Assistance</td>\n",
       "      <td>...</td>\n",
       "      <td>1</td>\n",
       "      <td>1</td>\n",
       "      <td>0</td>\n",
       "      <td>0.0</td>\n",
       "      <td>0</td>\n",
       "      <td>0</td>\n",
       "      <td>0</td>\n",
       "      <td>0</td>\n",
       "      <td>1</td>\n",
       "      <td>0</td>\n",
       "    </tr>\n",
       "    <tr>\n",
       "      <th>c886a43fe79a0a7b</th>\n",
       "      <td>The European Telecommunications Standards Inst...</td>\n",
       "      <td>cl0p</td>\n",
       "      <td>Criminal</td>\n",
       "      <td>Exploitive</td>\n",
       "      <td>Erlanger Health</td>\n",
       "      <td>Exploitation of Application Server</td>\n",
       "      <td>Financial</td>\n",
       "      <td>1.0</td>\n",
       "      <td>www.hipaajournal.com</td>\n",
       "      <td>Health Care and Social Assistance</td>\n",
       "      <td>...</td>\n",
       "      <td>0</td>\n",
       "      <td>1</td>\n",
       "      <td>0</td>\n",
       "      <td>0.0</td>\n",
       "      <td>0</td>\n",
       "      <td>0</td>\n",
       "      <td>0</td>\n",
       "      <td>0</td>\n",
       "      <td>1</td>\n",
       "      <td>0</td>\n",
       "    </tr>\n",
       "    <tr>\n",
       "      <th>bb17aacdf2e20d25</th>\n",
       "      <td>Lost Trust Team adds GI Medical Services in Ne...</td>\n",
       "      <td>Undetermined</td>\n",
       "      <td>Criminal</td>\n",
       "      <td>Exploitive</td>\n",
       "      <td>European Telecommunications Standards Institut...</td>\n",
       "      <td>Exploitation of Application Server</td>\n",
       "      <td>Undetermined</td>\n",
       "      <td>5.0</td>\n",
       "      <td>therecord.media</td>\n",
       "      <td>Information</td>\n",
       "      <td>...</td>\n",
       "      <td>0</td>\n",
       "      <td>1</td>\n",
       "      <td>0</td>\n",
       "      <td>0.0</td>\n",
       "      <td>0</td>\n",
       "      <td>0</td>\n",
       "      <td>0</td>\n",
       "      <td>1</td>\n",
       "      <td>0</td>\n",
       "      <td>0</td>\n",
       "    </tr>\n",
       "    <tr>\n",
       "      <th>bac11292d79231f0</th>\n",
       "      <td>UK charities including Shelter, the RSPCA, the...</td>\n",
       "      <td>Lost Trust</td>\n",
       "      <td>Criminal</td>\n",
       "      <td>Exploitive</td>\n",
       "      <td>GI Medical Services</td>\n",
       "      <td>Undetermined</td>\n",
       "      <td>Financial</td>\n",
       "      <td>1.0</td>\n",
       "      <td>www.databreaches.net</td>\n",
       "      <td>Health Care and Social Assistance</td>\n",
       "      <td>...</td>\n",
       "      <td>0</td>\n",
       "      <td>1</td>\n",
       "      <td>0</td>\n",
       "      <td>0.0</td>\n",
       "      <td>0</td>\n",
       "      <td>0</td>\n",
       "      <td>0</td>\n",
       "      <td>0</td>\n",
       "      <td>1</td>\n",
       "      <td>0</td>\n",
       "    </tr>\n",
       "  </tbody>\n",
       "</table>\n",
       "<p>13019 rows × 25 columns</p>\n",
       "</div>"
      ],
      "text/plain": [
       "                                                  event_description  \\\n",
       "id                                                                    \n",
       "f5c2ebc02807a6b3  Innovery, an Italian company delivering IT ser...   \n",
       "0b7a20f4161d89b2  The ALPHV/BlackCat ransomware gang adds the ho...   \n",
       "2e37d07ef6ef3cb6  The pro-Russian collective NoName057(16) takes...   \n",
       "f8029e6b6169de1f  API Financial Solutions files a notice of data...   \n",
       "1ed93f0579b9056c  McLaren HealthCare, confirms to be dealing wit...   \n",
       "...                                                             ...   \n",
       "285fa5842609a5bf  Cardiovascular Consultants (CVC Heart) is hit ...   \n",
       "c823006f6c70313c  Erlanger Health is also affected by the MOVEit...   \n",
       "c886a43fe79a0a7b  The European Telecommunications Standards Inst...   \n",
       "bb17aacdf2e20d25  Lost Trust Team adds GI Medical Services in Ne...   \n",
       "bac11292d79231f0  UK charities including Shelter, the RSPCA, the...   \n",
       "\n",
       "                               actor  actor_type  event_type  \\\n",
       "id                                                             \n",
       "f5c2ebc02807a6b3        Undetermined    Criminal  Exploitive   \n",
       "0b7a20f4161d89b2               ALPHV    Criminal       Mixed   \n",
       "2e37d07ef6ef3cb6       NoName057(16)  Hacktivist  Disruptive   \n",
       "f8029e6b6169de1f        Undetermined    Criminal  Exploitive   \n",
       "1ed93f0579b9056c               ALPHV    Criminal       Mixed   \n",
       "...                              ...         ...         ...   \n",
       "285fa5842609a5bf  Indian Cyber Force  Hacktivist  Disruptive   \n",
       "c823006f6c70313c               Qilin    Criminal       Mixed   \n",
       "c886a43fe79a0a7b                cl0p    Criminal  Exploitive   \n",
       "bb17aacdf2e20d25        Undetermined    Criminal  Exploitive   \n",
       "bac11292d79231f0          Lost Trust    Criminal  Exploitive   \n",
       "\n",
       "                                                       organization  \\\n",
       "id                                                                    \n",
       "f5c2ebc02807a6b3                                           Innovery   \n",
       "0b7a20f4161d89b2                                          Motel One   \n",
       "2e37d07ef6ef3cb6                    Multiple organizations in Italy   \n",
       "f8029e6b6169de1f                            API Financial Solutions   \n",
       "1ed93f0579b9056c                                 McLaren HealthCare   \n",
       "...                                                             ...   \n",
       "285fa5842609a5bf                              Canadian Armed Forces   \n",
       "c823006f6c70313c                         Cardiovascular Consultants   \n",
       "c886a43fe79a0a7b                                    Erlanger Health   \n",
       "bb17aacdf2e20d25  European Telecommunications Standards Institut...   \n",
       "bac11292d79231f0                                GI Medical Services   \n",
       "\n",
       "                                       event_subtype        motive  \\\n",
       "id                                                                   \n",
       "f5c2ebc02807a6b3  Exploitation of Application Server     Financial   \n",
       "0b7a20f4161d89b2            Data Attack,Undetermined     Financial   \n",
       "2e37d07ef6ef3cb6          External Denial of Service       Protest   \n",
       "f8029e6b6169de1f                        Undetermined     Financial   \n",
       "1ed93f0579b9056c            Data Attack,Undetermined     Financial   \n",
       "...                                              ...           ...   \n",
       "285fa5842609a5bf          External Denial of Service       Protest   \n",
       "c823006f6c70313c  Exploitation of Application Server     Financial   \n",
       "c886a43fe79a0a7b  Exploitation of Application Server     Financial   \n",
       "bb17aacdf2e20d25  Exploitation of Application Server  Undetermined   \n",
       "bac11292d79231f0                        Undetermined     Financial   \n",
       "\n",
       "                  motive_code          event_source  \\\n",
       "id                                                    \n",
       "f5c2ebc02807a6b3          1.0   www.redhotcyber.com   \n",
       "0b7a20f4161d89b2          1.0   securityaffairs.com   \n",
       "2e37d07ef6ef3cb6          3.0   www.redhotcyber.com   \n",
       "f8029e6b6169de1f          1.0       www.jdsupra.com   \n",
       "1ed93f0579b9056c          1.0       therecord.media   \n",
       "...                       ...                   ...   \n",
       "285fa5842609a5bf          3.0            thewire.in   \n",
       "c823006f6c70313c          1.0  www.databreaches.net   \n",
       "c886a43fe79a0a7b          1.0  www.hipaajournal.com   \n",
       "bb17aacdf2e20d25          5.0       therecord.media   \n",
       "bac11292d79231f0          1.0  www.databreaches.net   \n",
       "\n",
       "                                                          industry  ...  \\\n",
       "id                                                                  ...   \n",
       "f5c2ebc02807a6b3  Professional, Scientific, and Technical Services  ...   \n",
       "0b7a20f4161d89b2                   Accommodation and Food Services  ...   \n",
       "2e37d07ef6ef3cb6                             Public Administration  ...   \n",
       "f8029e6b6169de1f                             Finance and Insurance  ...   \n",
       "1ed93f0579b9056c                 Health Care and Social Assistance  ...   \n",
       "...                                                            ...  ...   \n",
       "285fa5842609a5bf                             Public Administration  ...   \n",
       "c823006f6c70313c                 Health Care and Social Assistance  ...   \n",
       "c886a43fe79a0a7b                 Health Care and Social Assistance  ...   \n",
       "bb17aacdf2e20d25                                       Information  ...   \n",
       "bac11292d79231f0                 Health Care and Social Assistance  ...   \n",
       "\n",
       "                  Disruptive Exploitive  Undetermined  actor_type_group  \\\n",
       "id                                                                        \n",
       "f5c2ebc02807a6b3           0          1             0               0.0   \n",
       "0b7a20f4161d89b2           1          1             0               0.0   \n",
       "2e37d07ef6ef3cb6           1          0             0               1.0   \n",
       "f8029e6b6169de1f           0          1             0               0.0   \n",
       "1ed93f0579b9056c           1          1             0               0.0   \n",
       "...                      ...        ...           ...               ...   \n",
       "285fa5842609a5bf           1          0             0               1.0   \n",
       "c823006f6c70313c           1          1             0               0.0   \n",
       "c886a43fe79a0a7b           0          1             0               0.0   \n",
       "bb17aacdf2e20d25           0          1             0               0.0   \n",
       "bac11292d79231f0           0          1             0               0.0   \n",
       "\n",
       "                  Africa  Asia  Australia  Europe  North America  \\\n",
       "id                                                                 \n",
       "f5c2ebc02807a6b3       0     0          0       1              0   \n",
       "0b7a20f4161d89b2       0     0          0       1              0   \n",
       "2e37d07ef6ef3cb6       0     0          0       1              0   \n",
       "f8029e6b6169de1f       0     0          0       0              1   \n",
       "1ed93f0579b9056c       0     0          0       0              1   \n",
       "...                  ...   ...        ...     ...            ...   \n",
       "285fa5842609a5bf       0     0          0       0              1   \n",
       "c823006f6c70313c       0     0          0       0              1   \n",
       "c886a43fe79a0a7b       0     0          0       0              1   \n",
       "bb17aacdf2e20d25       0     0          0       1              0   \n",
       "bac11292d79231f0       0     0          0       0              1   \n",
       "\n",
       "                  South America  \n",
       "id                               \n",
       "f5c2ebc02807a6b3              0  \n",
       "0b7a20f4161d89b2              0  \n",
       "2e37d07ef6ef3cb6              0  \n",
       "f8029e6b6169de1f              0  \n",
       "1ed93f0579b9056c              0  \n",
       "...                         ...  \n",
       "285fa5842609a5bf              0  \n",
       "c823006f6c70313c              0  \n",
       "c886a43fe79a0a7b              0  \n",
       "bb17aacdf2e20d25              0  \n",
       "bac11292d79231f0              0  \n",
       "\n",
       "[13019 rows x 25 columns]"
      ]
     },
     "execution_count": 185,
     "metadata": {},
     "output_type": "execute_result"
    }
   ],
   "source": [
    "df"
   ]
  },
  {
   "cell_type": "markdown",
   "metadata": {},
   "source": [
    "# Limpieza datos anómalos\n",
    "Se debe de revisar si hay datos anómalos en el conjunto de datos. Para ello, vamos a realizar un análisis de las variables continuas para detectar posibles valores atípicos.\n",
    "\n",
    "En el proceso vamos a utilizar la técnica de **IQR** para detectar los valores atípicos. Esta técnica consiste en calcular el rango intercuartílico (IQR) de una variable continua y luego identificar los valores que se encuentran por debajo del percentil 10 o por encima del percentil 90.\n",
    "\n",
    "\n",
    "\n"
   ]
  },
  {
   "cell_type": "code",
   "execution_count": 186,
   "metadata": {},
   "outputs": [
    {
     "data": {
      "text/plain": [
       "(13019, 25)"
      ]
     },
     "execution_count": 186,
     "metadata": {},
     "output_type": "execute_result"
    }
   ],
   "source": [
    "df.shape"
   ]
  },
  {
   "cell_type": "code",
   "execution_count": 187,
   "metadata": {},
   "outputs": [
    {
     "name": "stdout",
     "output_type": "stream",
     "text": [
      "Tamaño del DataFrame original: (13019, 25)\n",
      "Tamaño del DataFrame después de eliminar outliers: (13019, 25)\n"
     ]
    },
    {
     "name": "stderr",
     "output_type": "stream",
     "text": [
      "C:\\Users\\mgonzgarc\\AppData\\Local\\Temp\\ipykernel_18684\\609800568.py:12: FutureWarning: Automatic reindexing on DataFrame vs Series comparisons is deprecated and will raise ValueError in a future version. Do `left, right = left.align(right, axis=1, copy=False)` before e.g. `left == right`\n",
      "  df_cleaned = df[~((df[columns_to_check] < lower_bound) | (df[columns_to_check] > upper_bound)).any(axis=1)]\n",
      "C:\\Users\\mgonzgarc\\AppData\\Local\\Temp\\ipykernel_18684\\609800568.py:12: FutureWarning: Automatic reindexing on DataFrame vs Series comparisons is deprecated and will raise ValueError in a future version. Do `left, right = left.align(right, axis=1, copy=False)` before e.g. `left == right`\n",
      "  df_cleaned = df[~((df[columns_to_check] < lower_bound) | (df[columns_to_check] > upper_bound)).any(axis=1)]\n"
     ]
    }
   ],
   "source": [
    "columns_to_check = ['industry_code', 'actor_type', 'motive_code']  \n",
    "\n",
    "Q1 = df[columns_to_check].quantile(0.10)\n",
    "Q3 = df[columns_to_check].quantile(0.90)\n",
    "\n",
    "\n",
    "IQR = Q3 - Q1\n",
    "\n",
    "lower_bound = Q1 - 1.5 * IQR\n",
    "upper_bound = Q3 + 1.5 * IQR\n",
    "\n",
    "df_cleaned = df[~((df[columns_to_check] < lower_bound) | (df[columns_to_check] > upper_bound)).any(axis=1)]\n",
    "\n",
    "print(\"Tamaño del DataFrame original:\", df.shape)\n",
    "print(\"Tamaño del DataFrame después de eliminar outliers:\", df_cleaned.shape)"
   ]
  },
  {
   "cell_type": "code",
   "execution_count": 188,
   "metadata": {},
   "outputs": [
    {
     "data": {
      "text/plain": [
       "Index(['event_description', 'actor', 'actor_type', 'event_type',\n",
       "       'organization', 'event_subtype', 'motive', 'motive_code',\n",
       "       'event_source', 'industry', 'industry_code', 'dnx_id', 'year', 'month',\n",
       "       'day', 'Disruptive', 'Exploitive', 'Undetermined', 'actor_type_group',\n",
       "       'Africa', 'Asia', 'Australia', 'Europe', 'North America',\n",
       "       'South America'],\n",
       "      dtype='object')"
      ]
     },
     "execution_count": 188,
     "metadata": {},
     "output_type": "execute_result"
    }
   ],
   "source": [
    "df_cleaned.columns"
   ]
  },
  {
   "cell_type": "markdown",
   "metadata": {},
   "source": [
    "# Modelos de clasificación."
   ]
  },
  {
   "cell_type": "code",
   "execution_count": 189,
   "metadata": {},
   "outputs": [],
   "source": [
    "df_1 = df_cleaned.drop(list(df.select_dtypes(include=['object']).columns), axis = 1)"
   ]
  },
  {
   "cell_type": "code",
   "execution_count": 190,
   "metadata": {},
   "outputs": [],
   "source": [
    "X = df_1.drop('actor_type_group', axis=1)  \n",
    "y = df_1['actor_type_group']"
   ]
  },
  {
   "cell_type": "code",
   "execution_count": 194,
   "metadata": {},
   "outputs": [
    {
     "data": {
      "text/plain": [
       "array(['Hobbyist'], dtype=object)"
      ]
     },
     "execution_count": 194,
     "metadata": {},
     "output_type": "execute_result"
    }
   ],
   "source": [
    "df[df['actor_type_group'] == 2]['actor_type'].unique()"
   ]
  },
  {
   "cell_type": "code",
   "execution_count": 123,
   "metadata": {},
   "outputs": [
    {
     "data": {
      "text/plain": [
       "0.0    9878\n",
       "1.0    1856\n",
       "2.0     184\n",
       "Name: actor_type, dtype: int64"
      ]
     },
     "execution_count": 123,
     "metadata": {},
     "output_type": "execute_result"
    }
   ],
   "source": [
    "y.value_counts()"
   ]
  },
  {
   "cell_type": "code",
   "execution_count": 112,
   "metadata": {},
   "outputs": [
    {
     "name": "stdout",
     "output_type": "stream",
     "text": [
      "(9534, 14)\n",
      "(2384, 14)\n"
     ]
    }
   ],
   "source": [
    "X_train, X_test, y_train, y_test = train_test_split(X, y, train_size = 0.8, random_state=42)\n",
    "print(X_train.shape)\n",
    "print(X_test.shape)"
   ]
  },
  {
   "cell_type": "code",
   "execution_count": 117,
   "metadata": {},
   "outputs": [
    {
     "data": {
      "text/html": [
       "<style>#sk-container-id-1 {\n",
       "  /* Definition of color scheme common for light and dark mode */\n",
       "  --sklearn-color-text: black;\n",
       "  --sklearn-color-line: gray;\n",
       "  /* Definition of color scheme for unfitted estimators */\n",
       "  --sklearn-color-unfitted-level-0: #fff5e6;\n",
       "  --sklearn-color-unfitted-level-1: #f6e4d2;\n",
       "  --sklearn-color-unfitted-level-2: #ffe0b3;\n",
       "  --sklearn-color-unfitted-level-3: chocolate;\n",
       "  /* Definition of color scheme for fitted estimators */\n",
       "  --sklearn-color-fitted-level-0: #f0f8ff;\n",
       "  --sklearn-color-fitted-level-1: #d4ebff;\n",
       "  --sklearn-color-fitted-level-2: #b3dbfd;\n",
       "  --sklearn-color-fitted-level-3: cornflowerblue;\n",
       "\n",
       "  /* Specific color for light theme */\n",
       "  --sklearn-color-text-on-default-background: var(--sg-text-color, var(--theme-code-foreground, var(--jp-content-font-color1, black)));\n",
       "  --sklearn-color-background: var(--sg-background-color, var(--theme-background, var(--jp-layout-color0, white)));\n",
       "  --sklearn-color-border-box: var(--sg-text-color, var(--theme-code-foreground, var(--jp-content-font-color1, black)));\n",
       "  --sklearn-color-icon: #696969;\n",
       "\n",
       "  @media (prefers-color-scheme: dark) {\n",
       "    /* Redefinition of color scheme for dark theme */\n",
       "    --sklearn-color-text-on-default-background: var(--sg-text-color, var(--theme-code-foreground, var(--jp-content-font-color1, white)));\n",
       "    --sklearn-color-background: var(--sg-background-color, var(--theme-background, var(--jp-layout-color0, #111)));\n",
       "    --sklearn-color-border-box: var(--sg-text-color, var(--theme-code-foreground, var(--jp-content-font-color1, white)));\n",
       "    --sklearn-color-icon: #878787;\n",
       "  }\n",
       "}\n",
       "\n",
       "#sk-container-id-1 {\n",
       "  color: var(--sklearn-color-text);\n",
       "}\n",
       "\n",
       "#sk-container-id-1 pre {\n",
       "  padding: 0;\n",
       "}\n",
       "\n",
       "#sk-container-id-1 input.sk-hidden--visually {\n",
       "  border: 0;\n",
       "  clip: rect(1px 1px 1px 1px);\n",
       "  clip: rect(1px, 1px, 1px, 1px);\n",
       "  height: 1px;\n",
       "  margin: -1px;\n",
       "  overflow: hidden;\n",
       "  padding: 0;\n",
       "  position: absolute;\n",
       "  width: 1px;\n",
       "}\n",
       "\n",
       "#sk-container-id-1 div.sk-dashed-wrapped {\n",
       "  border: 1px dashed var(--sklearn-color-line);\n",
       "  margin: 0 0.4em 0.5em 0.4em;\n",
       "  box-sizing: border-box;\n",
       "  padding-bottom: 0.4em;\n",
       "  background-color: var(--sklearn-color-background);\n",
       "}\n",
       "\n",
       "#sk-container-id-1 div.sk-container {\n",
       "  /* jupyter's `normalize.less` sets `[hidden] { display: none; }`\n",
       "     but bootstrap.min.css set `[hidden] { display: none !important; }`\n",
       "     so we also need the `!important` here to be able to override the\n",
       "     default hidden behavior on the sphinx rendered scikit-learn.org.\n",
       "     See: https://github.com/scikit-learn/scikit-learn/issues/21755 */\n",
       "  display: inline-block !important;\n",
       "  position: relative;\n",
       "}\n",
       "\n",
       "#sk-container-id-1 div.sk-text-repr-fallback {\n",
       "  display: none;\n",
       "}\n",
       "\n",
       "div.sk-parallel-item,\n",
       "div.sk-serial,\n",
       "div.sk-item {\n",
       "  /* draw centered vertical line to link estimators */\n",
       "  background-image: linear-gradient(var(--sklearn-color-text-on-default-background), var(--sklearn-color-text-on-default-background));\n",
       "  background-size: 2px 100%;\n",
       "  background-repeat: no-repeat;\n",
       "  background-position: center center;\n",
       "}\n",
       "\n",
       "/* Parallel-specific style estimator block */\n",
       "\n",
       "#sk-container-id-1 div.sk-parallel-item::after {\n",
       "  content: \"\";\n",
       "  width: 100%;\n",
       "  border-bottom: 2px solid var(--sklearn-color-text-on-default-background);\n",
       "  flex-grow: 1;\n",
       "}\n",
       "\n",
       "#sk-container-id-1 div.sk-parallel {\n",
       "  display: flex;\n",
       "  align-items: stretch;\n",
       "  justify-content: center;\n",
       "  background-color: var(--sklearn-color-background);\n",
       "  position: relative;\n",
       "}\n",
       "\n",
       "#sk-container-id-1 div.sk-parallel-item {\n",
       "  display: flex;\n",
       "  flex-direction: column;\n",
       "}\n",
       "\n",
       "#sk-container-id-1 div.sk-parallel-item:first-child::after {\n",
       "  align-self: flex-end;\n",
       "  width: 50%;\n",
       "}\n",
       "\n",
       "#sk-container-id-1 div.sk-parallel-item:last-child::after {\n",
       "  align-self: flex-start;\n",
       "  width: 50%;\n",
       "}\n",
       "\n",
       "#sk-container-id-1 div.sk-parallel-item:only-child::after {\n",
       "  width: 0;\n",
       "}\n",
       "\n",
       "/* Serial-specific style estimator block */\n",
       "\n",
       "#sk-container-id-1 div.sk-serial {\n",
       "  display: flex;\n",
       "  flex-direction: column;\n",
       "  align-items: center;\n",
       "  background-color: var(--sklearn-color-background);\n",
       "  padding-right: 1em;\n",
       "  padding-left: 1em;\n",
       "}\n",
       "\n",
       "\n",
       "/* Toggleable style: style used for estimator/Pipeline/ColumnTransformer box that is\n",
       "clickable and can be expanded/collapsed.\n",
       "- Pipeline and ColumnTransformer use this feature and define the default style\n",
       "- Estimators will overwrite some part of the style using the `sk-estimator` class\n",
       "*/\n",
       "\n",
       "/* Pipeline and ColumnTransformer style (default) */\n",
       "\n",
       "#sk-container-id-1 div.sk-toggleable {\n",
       "  /* Default theme specific background. It is overwritten whether we have a\n",
       "  specific estimator or a Pipeline/ColumnTransformer */\n",
       "  background-color: var(--sklearn-color-background);\n",
       "}\n",
       "\n",
       "/* Toggleable label */\n",
       "#sk-container-id-1 label.sk-toggleable__label {\n",
       "  cursor: pointer;\n",
       "  display: block;\n",
       "  width: 100%;\n",
       "  margin-bottom: 0;\n",
       "  padding: 0.5em;\n",
       "  box-sizing: border-box;\n",
       "  text-align: center;\n",
       "}\n",
       "\n",
       "#sk-container-id-1 label.sk-toggleable__label-arrow:before {\n",
       "  /* Arrow on the left of the label */\n",
       "  content: \"▸\";\n",
       "  float: left;\n",
       "  margin-right: 0.25em;\n",
       "  color: var(--sklearn-color-icon);\n",
       "}\n",
       "\n",
       "#sk-container-id-1 label.sk-toggleable__label-arrow:hover:before {\n",
       "  color: var(--sklearn-color-text);\n",
       "}\n",
       "\n",
       "/* Toggleable content - dropdown */\n",
       "\n",
       "#sk-container-id-1 div.sk-toggleable__content {\n",
       "  max-height: 0;\n",
       "  max-width: 0;\n",
       "  overflow: hidden;\n",
       "  text-align: left;\n",
       "  /* unfitted */\n",
       "  background-color: var(--sklearn-color-unfitted-level-0);\n",
       "}\n",
       "\n",
       "#sk-container-id-1 div.sk-toggleable__content.fitted {\n",
       "  /* fitted */\n",
       "  background-color: var(--sklearn-color-fitted-level-0);\n",
       "}\n",
       "\n",
       "#sk-container-id-1 div.sk-toggleable__content pre {\n",
       "  margin: 0.2em;\n",
       "  border-radius: 0.25em;\n",
       "  color: var(--sklearn-color-text);\n",
       "  /* unfitted */\n",
       "  background-color: var(--sklearn-color-unfitted-level-0);\n",
       "}\n",
       "\n",
       "#sk-container-id-1 div.sk-toggleable__content.fitted pre {\n",
       "  /* unfitted */\n",
       "  background-color: var(--sklearn-color-fitted-level-0);\n",
       "}\n",
       "\n",
       "#sk-container-id-1 input.sk-toggleable__control:checked~div.sk-toggleable__content {\n",
       "  /* Expand drop-down */\n",
       "  max-height: 200px;\n",
       "  max-width: 100%;\n",
       "  overflow: auto;\n",
       "}\n",
       "\n",
       "#sk-container-id-1 input.sk-toggleable__control:checked~label.sk-toggleable__label-arrow:before {\n",
       "  content: \"▾\";\n",
       "}\n",
       "\n",
       "/* Pipeline/ColumnTransformer-specific style */\n",
       "\n",
       "#sk-container-id-1 div.sk-label input.sk-toggleable__control:checked~label.sk-toggleable__label {\n",
       "  color: var(--sklearn-color-text);\n",
       "  background-color: var(--sklearn-color-unfitted-level-2);\n",
       "}\n",
       "\n",
       "#sk-container-id-1 div.sk-label.fitted input.sk-toggleable__control:checked~label.sk-toggleable__label {\n",
       "  background-color: var(--sklearn-color-fitted-level-2);\n",
       "}\n",
       "\n",
       "/* Estimator-specific style */\n",
       "\n",
       "/* Colorize estimator box */\n",
       "#sk-container-id-1 div.sk-estimator input.sk-toggleable__control:checked~label.sk-toggleable__label {\n",
       "  /* unfitted */\n",
       "  background-color: var(--sklearn-color-unfitted-level-2);\n",
       "}\n",
       "\n",
       "#sk-container-id-1 div.sk-estimator.fitted input.sk-toggleable__control:checked~label.sk-toggleable__label {\n",
       "  /* fitted */\n",
       "  background-color: var(--sklearn-color-fitted-level-2);\n",
       "}\n",
       "\n",
       "#sk-container-id-1 div.sk-label label.sk-toggleable__label,\n",
       "#sk-container-id-1 div.sk-label label {\n",
       "  /* The background is the default theme color */\n",
       "  color: var(--sklearn-color-text-on-default-background);\n",
       "}\n",
       "\n",
       "/* On hover, darken the color of the background */\n",
       "#sk-container-id-1 div.sk-label:hover label.sk-toggleable__label {\n",
       "  color: var(--sklearn-color-text);\n",
       "  background-color: var(--sklearn-color-unfitted-level-2);\n",
       "}\n",
       "\n",
       "/* Label box, darken color on hover, fitted */\n",
       "#sk-container-id-1 div.sk-label.fitted:hover label.sk-toggleable__label.fitted {\n",
       "  color: var(--sklearn-color-text);\n",
       "  background-color: var(--sklearn-color-fitted-level-2);\n",
       "}\n",
       "\n",
       "/* Estimator label */\n",
       "\n",
       "#sk-container-id-1 div.sk-label label {\n",
       "  font-family: monospace;\n",
       "  font-weight: bold;\n",
       "  display: inline-block;\n",
       "  line-height: 1.2em;\n",
       "}\n",
       "\n",
       "#sk-container-id-1 div.sk-label-container {\n",
       "  text-align: center;\n",
       "}\n",
       "\n",
       "/* Estimator-specific */\n",
       "#sk-container-id-1 div.sk-estimator {\n",
       "  font-family: monospace;\n",
       "  border: 1px dotted var(--sklearn-color-border-box);\n",
       "  border-radius: 0.25em;\n",
       "  box-sizing: border-box;\n",
       "  margin-bottom: 0.5em;\n",
       "  /* unfitted */\n",
       "  background-color: var(--sklearn-color-unfitted-level-0);\n",
       "}\n",
       "\n",
       "#sk-container-id-1 div.sk-estimator.fitted {\n",
       "  /* fitted */\n",
       "  background-color: var(--sklearn-color-fitted-level-0);\n",
       "}\n",
       "\n",
       "/* on hover */\n",
       "#sk-container-id-1 div.sk-estimator:hover {\n",
       "  /* unfitted */\n",
       "  background-color: var(--sklearn-color-unfitted-level-2);\n",
       "}\n",
       "\n",
       "#sk-container-id-1 div.sk-estimator.fitted:hover {\n",
       "  /* fitted */\n",
       "  background-color: var(--sklearn-color-fitted-level-2);\n",
       "}\n",
       "\n",
       "/* Specification for estimator info (e.g. \"i\" and \"?\") */\n",
       "\n",
       "/* Common style for \"i\" and \"?\" */\n",
       "\n",
       ".sk-estimator-doc-link,\n",
       "a:link.sk-estimator-doc-link,\n",
       "a:visited.sk-estimator-doc-link {\n",
       "  float: right;\n",
       "  font-size: smaller;\n",
       "  line-height: 1em;\n",
       "  font-family: monospace;\n",
       "  background-color: var(--sklearn-color-background);\n",
       "  border-radius: 1em;\n",
       "  height: 1em;\n",
       "  width: 1em;\n",
       "  text-decoration: none !important;\n",
       "  margin-left: 1ex;\n",
       "  /* unfitted */\n",
       "  border: var(--sklearn-color-unfitted-level-1) 1pt solid;\n",
       "  color: var(--sklearn-color-unfitted-level-1);\n",
       "}\n",
       "\n",
       ".sk-estimator-doc-link.fitted,\n",
       "a:link.sk-estimator-doc-link.fitted,\n",
       "a:visited.sk-estimator-doc-link.fitted {\n",
       "  /* fitted */\n",
       "  border: var(--sklearn-color-fitted-level-1) 1pt solid;\n",
       "  color: var(--sklearn-color-fitted-level-1);\n",
       "}\n",
       "\n",
       "/* On hover */\n",
       "div.sk-estimator:hover .sk-estimator-doc-link:hover,\n",
       ".sk-estimator-doc-link:hover,\n",
       "div.sk-label-container:hover .sk-estimator-doc-link:hover,\n",
       ".sk-estimator-doc-link:hover {\n",
       "  /* unfitted */\n",
       "  background-color: var(--sklearn-color-unfitted-level-3);\n",
       "  color: var(--sklearn-color-background);\n",
       "  text-decoration: none;\n",
       "}\n",
       "\n",
       "div.sk-estimator.fitted:hover .sk-estimator-doc-link.fitted:hover,\n",
       ".sk-estimator-doc-link.fitted:hover,\n",
       "div.sk-label-container:hover .sk-estimator-doc-link.fitted:hover,\n",
       ".sk-estimator-doc-link.fitted:hover {\n",
       "  /* fitted */\n",
       "  background-color: var(--sklearn-color-fitted-level-3);\n",
       "  color: var(--sklearn-color-background);\n",
       "  text-decoration: none;\n",
       "}\n",
       "\n",
       "/* Span, style for the box shown on hovering the info icon */\n",
       ".sk-estimator-doc-link span {\n",
       "  display: none;\n",
       "  z-index: 9999;\n",
       "  position: relative;\n",
       "  font-weight: normal;\n",
       "  right: .2ex;\n",
       "  padding: .5ex;\n",
       "  margin: .5ex;\n",
       "  width: min-content;\n",
       "  min-width: 20ex;\n",
       "  max-width: 50ex;\n",
       "  color: var(--sklearn-color-text);\n",
       "  box-shadow: 2pt 2pt 4pt #999;\n",
       "  /* unfitted */\n",
       "  background: var(--sklearn-color-unfitted-level-0);\n",
       "  border: .5pt solid var(--sklearn-color-unfitted-level-3);\n",
       "}\n",
       "\n",
       ".sk-estimator-doc-link.fitted span {\n",
       "  /* fitted */\n",
       "  background: var(--sklearn-color-fitted-level-0);\n",
       "  border: var(--sklearn-color-fitted-level-3);\n",
       "}\n",
       "\n",
       ".sk-estimator-doc-link:hover span {\n",
       "  display: block;\n",
       "}\n",
       "\n",
       "/* \"?\"-specific style due to the `<a>` HTML tag */\n",
       "\n",
       "#sk-container-id-1 a.estimator_doc_link {\n",
       "  float: right;\n",
       "  font-size: 1rem;\n",
       "  line-height: 1em;\n",
       "  font-family: monospace;\n",
       "  background-color: var(--sklearn-color-background);\n",
       "  border-radius: 1rem;\n",
       "  height: 1rem;\n",
       "  width: 1rem;\n",
       "  text-decoration: none;\n",
       "  /* unfitted */\n",
       "  color: var(--sklearn-color-unfitted-level-1);\n",
       "  border: var(--sklearn-color-unfitted-level-1) 1pt solid;\n",
       "}\n",
       "\n",
       "#sk-container-id-1 a.estimator_doc_link.fitted {\n",
       "  /* fitted */\n",
       "  border: var(--sklearn-color-fitted-level-1) 1pt solid;\n",
       "  color: var(--sklearn-color-fitted-level-1);\n",
       "}\n",
       "\n",
       "/* On hover */\n",
       "#sk-container-id-1 a.estimator_doc_link:hover {\n",
       "  /* unfitted */\n",
       "  background-color: var(--sklearn-color-unfitted-level-3);\n",
       "  color: var(--sklearn-color-background);\n",
       "  text-decoration: none;\n",
       "}\n",
       "\n",
       "#sk-container-id-1 a.estimator_doc_link.fitted:hover {\n",
       "  /* fitted */\n",
       "  background-color: var(--sklearn-color-fitted-level-3);\n",
       "}\n",
       "</style><div id=\"sk-container-id-1\" class=\"sk-top-container\"><div class=\"sk-text-repr-fallback\"><pre>RandomForestClassifier(min_samples_split=5, random_state=42)</pre><b>In a Jupyter environment, please rerun this cell to show the HTML representation or trust the notebook. <br />On GitHub, the HTML representation is unable to render, please try loading this page with nbviewer.org.</b></div><div class=\"sk-container\" hidden><div class=\"sk-item\"><div class=\"sk-estimator fitted sk-toggleable\"><input class=\"sk-toggleable__control sk-hidden--visually\" id=\"sk-estimator-id-1\" type=\"checkbox\" checked><label for=\"sk-estimator-id-1\" class=\"sk-toggleable__label fitted sk-toggleable__label-arrow fitted\">&nbsp;&nbsp;RandomForestClassifier<a class=\"sk-estimator-doc-link fitted\" rel=\"noreferrer\" target=\"_blank\" href=\"https://scikit-learn.org/1.5/modules/generated/sklearn.ensemble.RandomForestClassifier.html\">?<span>Documentation for RandomForestClassifier</span></a><span class=\"sk-estimator-doc-link fitted\">i<span>Fitted</span></span></label><div class=\"sk-toggleable__content fitted\"><pre>RandomForestClassifier(min_samples_split=5, random_state=42)</pre></div> </div></div></div></div>"
      ],
      "text/plain": [
       "RandomForestClassifier(min_samples_split=5, random_state=42)"
      ]
     },
     "execution_count": 117,
     "metadata": {},
     "output_type": "execute_result"
    }
   ],
   "source": [
    "rf_model = RandomForestClassifier(\n",
    "                                  random_state=42,\n",
    "                                  n_estimators=100,\n",
    "                                  min_samples_split=5)\n",
    "rf_model.fit(X_train, y_train)"
   ]
  },
  {
   "cell_type": "code",
   "execution_count": 118,
   "metadata": {},
   "outputs": [
    {
     "data": {
      "text/plain": [
       "array([0.9611956 , 0.96329313, 0.95647614, 0.95804929, 0.95435467])"
      ]
     },
     "execution_count": 118,
     "metadata": {},
     "output_type": "execute_result"
    }
   ],
   "source": [
    "cv_scores = cross_val_score(rf_model, X_train, y_train, cv=5, scoring='accuracy')\n",
    "cv_scores"
   ]
  },
  {
   "cell_type": "code",
   "execution_count": 122,
   "metadata": {},
   "outputs": [
    {
     "name": "stdout",
     "output_type": "stream",
     "text": [
      "Train set score (Accuracy) = 0.9835326200964968\n",
      "Test set score (Accuracy) = 0.9697986577181208\n",
      "╒══════════════╤════════════════╤════════════════╤════════════════╕\n",
      "│              │   Pred Class 0 │   Pred Class 1 │   Pred Class 2 │\n",
      "╞══════════════╪════════════════╪════════════════╪════════════════╡\n",
      "│ Real Class 0 │           1930 │             21 │              0 │\n",
      "├──────────────┼────────────────┼────────────────┼────────────────┤\n",
      "│ Real Class 1 │             30 │            364 │              0 │\n",
      "├──────────────┼────────────────┼────────────────┼────────────────┤\n",
      "│ Real Class 2 │             17 │              4 │             18 │\n",
      "╘══════════════╧════════════════╧════════════════╧════════════════╛\n",
      "\n",
      "Classification Report:\n",
      "              precision    recall  f1-score   support\n",
      "\n",
      "         0.0       0.98      0.99      0.98      1951\n",
      "         1.0       0.94      0.92      0.93       394\n",
      "         2.0       1.00      0.46      0.63        39\n",
      "\n",
      "    accuracy                           0.97      2384\n",
      "   macro avg       0.97      0.79      0.85      2384\n",
      "weighted avg       0.97      0.97      0.97      2384\n",
      "\n"
     ]
    }
   ],
   "source": [
    "from sklearn.metrics import confusion_matrix, classification_report\n",
    "from tabulate import tabulate\n",
    "\n",
    "# Calcular y mostrar las métricas de precisión\n",
    "print(\"Train set score (Accuracy) =\", rf_model.score(X_train, y_train))\n",
    "print(\"Test set score (Accuracy) =\", rf_model.score(X_test, y_test))\n",
    "\n",
    "# Generar la matriz de confusión\n",
    "conf_mat = confusion_matrix(y_test, rf_model.predict(X_test))\n",
    "\n",
    "# Determinar el número de clases\n",
    "num_classes = conf_mat.shape[0]\n",
    "\n",
    "# Imprimir la matriz de confusión con tabulate\n",
    "print(tabulate(\n",
    "    conf_mat,\n",
    "    headers=[f'Pred Class {i}' for i in range(num_classes)],\n",
    "    showindex=[f'Real Class {i}' for i in range(num_classes)],\n",
    "    tablefmt='fancy_grid'\n",
    "))\n",
    "\n",
    "# Imprimir el reporte de clasificación\n",
    "print(\"\\nClassification Report:\")\n",
    "print(classification_report(y_test, rf_model.predict(X_test)))"
   ]
  },
  {
   "cell_type": "code",
   "execution_count": 113,
   "metadata": {},
   "outputs": [
    {
     "name": "stdout",
     "output_type": "stream",
     "text": [
      "Resultados de los modelos:\n",
      "Random Forest: 0.9579400041955108\n",
      "Regresión Logística: 0.8510593664778687\n",
      "Árbol de Decisión: 0.934235368156073\n",
      "\n",
      "El mejor modelo es: Random Forest\n"
     ]
    }
   ],
   "source": [
    "\n",
    "def mejor_modelo(X, y, modelos):\n",
    "    resultados = {}\n",
    "    for nombre, modelo in modelos.items():\n",
    "      if nombre == 'Regresión Logística':\n",
    "        scaler = StandardScaler()\n",
    "        X = scaler.fit_transform(X)\n",
    "      scores = cross_val_score(modelo, X, y, cv=2, scoring='accuracy')\n",
    "      resultados[nombre] = scores.mean()\n",
    "\n",
    "    mejor = max(resultados, key=resultados.get)\n",
    "    return mejor, resultados\n",
    "\n",
    "modelos = {\n",
    "    'Random Forest': RandomForestClassifier(),\n",
    "    'Regresión Logística': LogisticRegression(max_iter=1000),\n",
    "    'Árbol de Decisión': DecisionTreeClassifier()\n",
    "}\n",
    "\n",
    "mejor, resultados = mejor_modelo(X_train, y_train, modelos)\n",
    "\n",
    "print(\"Resultados de los modelos:\")\n",
    "for modelo, score in resultados.items():\n",
    "    print(f\"{modelo}: {score}\")\n",
    "\n",
    "print(f\"\\nEl mejor modelo es: {mejor}\")"
   ]
  },
  {
   "cell_type": "code",
   "execution_count": 114,
   "metadata": {},
   "outputs": [
    {
     "data": {
      "image/png": "[encoded data removed]",
      "text/plain": [
       "<Figure size 1000x800 with 2 Axes>"
      ]
     },
     "metadata": {},
     "output_type": "display_data"
    }
   ],
   "source": [
    "correlation_matrix = df_1.corr()\n",
    "\n",
    "plt.figure(figsize=(10, 8))\n",
    "sns.heatmap(correlation_matrix, annot=True, cmap='coolwarm', fmt=\".2f\")\n",
    "plt.title('Correlation Matrix between Continuous Variables')\n",
    "plt.show()\n"
   ]
  },
  {
   "cell_type": "markdown",
   "metadata": {},
   "source": [
    "# Gráficas generales"
   ]
  },
  {
   "cell_type": "code",
   "execution_count": 70,
   "metadata": {},
   "outputs": [
    {
     "data": {
      "image/png": "[encoded data removed]",
      "text/plain": [
       "<Figure size 1200x600 with 1 Axes>"
      ]
     },
     "metadata": {},
     "output_type": "display_data"
    }
   ],
   "source": [
    "plt.figure(figsize=(12, 6))\n",
    "sns.countplot(data=df_cleaned, x='event_type', palette='Set2')\n",
    "plt.title('Number of Incidents by Type of Event')\n",
    "plt.xlabel('Type of Event')\n",
    "plt.ylabel('Number of Incidents')\n",
    "plt.xticks(rotation=45)\n",
    "plt.grid()\n",
    "plt.show()"
   ]
  },
  {
   "cell_type": "code",
   "execution_count": 71,
   "metadata": {},
   "outputs": [
    {
     "data": {
      "image/png": "[encoded data removed]",
      "text/plain": [
       "<Figure size 1200x800 with 1 Axes>"
      ]
     },
     "metadata": {},
     "output_type": "display_data"
    }
   ],
   "source": [
    "motive_counts = df_cleaned['motive'].value_counts()\n",
    "labels = motive_counts.index\n",
    "sizes = motive_counts.values\n",
    "\n",
    "plt.figure(figsize=(12, 8))\n",
    "plt.barh(labels, sizes, color='skyblue')\n",
    "plt.xlabel('Number of Incidents')\n",
    "plt.title('Distribution of Motives about Incidents', fontsize=16)\n",
    "plt.xticks(rotation=45)\n",
    "plt.grid(axis='x')\n",
    "\n",
    "plt.tight_layout()\n",
    "plt.show()"
   ]
  },
  {
   "cell_type": "code",
   "execution_count": 72,
   "metadata": {},
   "outputs": [
    {
     "data": {
      "image/png": "[encoded data removed]",
      "text/plain": [
       "<Figure size 1200x600 with 1 Axes>"
      ]
     },
     "metadata": {},
     "output_type": "display_data"
    }
   ],
   "source": [
    "plt.figure(figsize=(12, 6))\n",
    "sns.countplot(data=df_cleaned, x='industry_code', palette='Set2')\n",
    "plt.title('Number of Incidents by Industry')\n",
    "plt.xlabel('Industry')\n",
    "plt.ylabel('Number of Incidents')\n",
    "plt.xticks(rotation=45)\n",
    "plt.grid()\n",
    "plt.show()"
   ]
  },
  {
   "cell_type": "code",
   "execution_count": 73,
   "metadata": {},
   "outputs": [
    {
     "data": {
      "image/png": "[encoded data removed]",
      "text/plain": [
       "<Figure size 1200x600 with 1 Axes>"
      ]
     },
     "metadata": {},
     "output_type": "display_data"
    }
   ],
   "source": [
    "plt.figure(figsize=(12, 6))\n",
    "sns.histplot(df_cleaned['year'], bins=range(df['year'].min(), df['year'].max() + 1), kde=False)\n",
    "plt.title('Number of Incidents by Year')\n",
    "plt.xlabel('Year')\n",
    "plt.ylabel('Number of Incidents')\n",
    "plt.grid()\n",
    "plt.show()"
   ]
  },
  {
   "cell_type": "code",
   "execution_count": 74,
   "metadata": {},
   "outputs": [],
   "source": [
    "df_cleaned.to_csv('./data/CISSM_cleaned.csv', index=False)\n"
   ]
  },
  {
   "cell_type": "markdown",
   "metadata": {},
   "source": [
    "## Curva ROC\n",
    "Este código realiza un análisis supervisado de datos utilizando regresión logística. Incluye la preparación de datos mediante codificación, manejo de valores faltantes y estandarización, seguido de la construcción de un modelo para clasificar un objetivo binario. Además, genera una curva ROC para evaluar el rendimiento y realiza validación cruzada para identificar posibles problemas de sobreajuste."
   ]
  },
  {
   "cell_type": "markdown",
   "metadata": {},
   "source": [
    "Preparamos los datos"
   ]
  },
  {
   "cell_type": "code",
   "execution_count": 116,
   "metadata": {},
   "outputs": [
    {
     "data": {
      "text/plain": [
       "Index(['actor_type', 'motive_code', 'industry_code', 'year', 'month', 'day',\n",
       "       'Disruptive', 'Exploitive', 'Undetermined', 'Africa', 'Asia',\n",
       "       'Australia', 'Europe', 'North America', 'South America'],\n",
       "      dtype='object')"
      ]
     },
     "execution_count": 116,
     "metadata": {},
     "output_type": "execute_result"
    }
   ],
   "source": [
    "df_1.columns"
   ]
  },
  {
   "cell_type": "code",
   "execution_count": 195,
   "metadata": {},
   "outputs": [],
   "source": [
    "import pandas as pd\n",
    "import matplotlib.pyplot as plt\n",
    "from sklearn.preprocessing import OrdinalEncoder, StandardScaler\n",
    "from sklearn.model_selection import train_test_split, cross_val_score\n",
    "from sklearn.linear_model import LogisticRegression\n",
    "from sklearn.metrics import roc_curve, auc, classification_report\n",
    "from sklearn.cluster import KMeans\n",
    "\n",
    "\n",
    "X = df_1.drop('actor_type_group', axis=1)\n",
    "y = df_1['actor_type_group']"
   ]
  },
  {
   "cell_type": "markdown",
   "metadata": {},
   "source": [
    "Estandarizamos los datos"
   ]
  },
  {
   "cell_type": "code",
   "execution_count": 196,
   "metadata": {},
   "outputs": [],
   "source": [
    "X_train, X_test, y_train, y_test = train_test_split(X, y, train_size=0.8, random_state=42)\n",
    "\n",
    "scaler = StandardScaler()\n",
    "X_train_scaled = scaler.fit_transform(X_train)\n",
    "X_test_scaled = scaler.transform(X_test)"
   ]
  },
  {
   "cell_type": "markdown",
   "metadata": {},
   "source": [
    "Llevamos a cabo la Regresion Logistica"
   ]
  },
  {
   "cell_type": "code",
   "execution_count": 197,
   "metadata": {},
   "outputs": [],
   "source": [
    "log_reg = LogisticRegression(max_iter=1000)\n",
    "log_reg.fit(X_train_scaled, y_train)\n",
    "y_proba = log_reg.predict_proba(X_test_scaled)[:, 1]"
   ]
  },
  {
   "cell_type": "markdown",
   "metadata": {},
   "source": [
    "Desarrollamos la Curva ROC"
   ]
  },
  {
   "cell_type": "code",
   "execution_count": null,
   "metadata": {},
   "outputs": [
    {
     "ename": "ValueError",
     "evalue": "multiclass format is not supported",
     "output_type": "error",
     "traceback": [
      "\u001b[1;31m---------------------------------------------------------------------------\u001b[0m",
      "\u001b[1;31mValueError\u001b[0m                                Traceback (most recent call last)",
      "\u001b[1;32m~\\AppData\\Local\\Temp\\ipykernel_18684\\1307387798.py\u001b[0m in \u001b[0;36m<module>\u001b[1;34m\u001b[0m\n\u001b[1;32m----> 1\u001b[1;33m \u001b[0mfpr\u001b[0m\u001b[1;33m,\u001b[0m \u001b[0mtpr\u001b[0m\u001b[1;33m,\u001b[0m \u001b[0mthresholds\u001b[0m \u001b[1;33m=\u001b[0m \u001b[0mroc_curve\u001b[0m\u001b[1;33m(\u001b[0m\u001b[0my_test\u001b[0m\u001b[1;33m,\u001b[0m \u001b[0my_proba\u001b[0m\u001b[1;33m)\u001b[0m\u001b[1;33m\u001b[0m\u001b[1;33m\u001b[0m\u001b[0m\n\u001b[0m\u001b[0;32m      2\u001b[0m \u001b[0mroc_auc\u001b[0m \u001b[1;33m=\u001b[0m \u001b[0mauc\u001b[0m\u001b[1;33m(\u001b[0m\u001b[0mfpr\u001b[0m\u001b[1;33m,\u001b[0m \u001b[0mtpr\u001b[0m\u001b[1;33m)\u001b[0m\u001b[1;33m\u001b[0m\u001b[1;33m\u001b[0m\u001b[0m\n\u001b[0;32m      3\u001b[0m \u001b[1;33m\u001b[0m\u001b[0m\n\u001b[0;32m      4\u001b[0m \u001b[1;33m\u001b[0m\u001b[0m\n\u001b[0;32m      5\u001b[0m \u001b[0mplt\u001b[0m\u001b[1;33m.\u001b[0m\u001b[0mfigure\u001b[0m\u001b[1;33m(\u001b[0m\u001b[0mfigsize\u001b[0m\u001b[1;33m=\u001b[0m\u001b[1;33m(\u001b[0m\u001b[1;36m8\u001b[0m\u001b[1;33m,\u001b[0m \u001b[1;36m6\u001b[0m\u001b[1;33m)\u001b[0m\u001b[1;33m)\u001b[0m\u001b[1;33m\u001b[0m\u001b[1;33m\u001b[0m\u001b[0m\n",
      "\u001b[1;32mc:\\Users\\mgonzgarc\\Anaconda3\\lib\\site-packages\\sklearn\\utils\\_param_validation.py\u001b[0m in \u001b[0;36mwrapper\u001b[1;34m(*args, **kwargs)\u001b[0m\n\u001b[0;32m    211\u001b[0m                     )\n\u001b[0;32m    212\u001b[0m                 ):\n\u001b[1;32m--> 213\u001b[1;33m                     \u001b[1;32mreturn\u001b[0m \u001b[0mfunc\u001b[0m\u001b[1;33m(\u001b[0m\u001b[1;33m*\u001b[0m\u001b[0margs\u001b[0m\u001b[1;33m,\u001b[0m \u001b[1;33m**\u001b[0m\u001b[0mkwargs\u001b[0m\u001b[1;33m)\u001b[0m\u001b[1;33m\u001b[0m\u001b[1;33m\u001b[0m\u001b[0m\n\u001b[0m\u001b[0;32m    214\u001b[0m             \u001b[1;32mexcept\u001b[0m \u001b[0mInvalidParameterError\u001b[0m \u001b[1;32mas\u001b[0m \u001b[0me\u001b[0m\u001b[1;33m:\u001b[0m\u001b[1;33m\u001b[0m\u001b[1;33m\u001b[0m\u001b[0m\n\u001b[0;32m    215\u001b[0m                 \u001b[1;31m# When the function is just a wrapper around an estimator, we allow\u001b[0m\u001b[1;33m\u001b[0m\u001b[1;33m\u001b[0m\u001b[0m\n",
      "\u001b[1;32mc:\\Users\\mgonzgarc\\Anaconda3\\lib\\site-packages\\sklearn\\metrics\\_ranking.py\u001b[0m in \u001b[0;36mroc_curve\u001b[1;34m(y_true, y_score, pos_label, sample_weight, drop_intermediate)\u001b[0m\n\u001b[0;32m   1143\u001b[0m     \u001b[0marray\u001b[0m\u001b[1;33m(\u001b[0m\u001b[1;33m[\u001b[0m \u001b[0minf\u001b[0m\u001b[1;33m,\u001b[0m \u001b[1;36m0.8\u001b[0m \u001b[1;33m,\u001b[0m \u001b[1;36m0.4\u001b[0m \u001b[1;33m,\u001b[0m \u001b[1;36m0.35\u001b[0m\u001b[1;33m,\u001b[0m \u001b[1;36m0.1\u001b[0m \u001b[1;33m]\u001b[0m\u001b[1;33m)\u001b[0m\u001b[1;33m\u001b[0m\u001b[1;33m\u001b[0m\u001b[0m\n\u001b[0;32m   1144\u001b[0m     \"\"\"\n\u001b[1;32m-> 1145\u001b[1;33m     fps, tps, thresholds = _binary_clf_curve(\n\u001b[0m\u001b[0;32m   1146\u001b[0m         \u001b[0my_true\u001b[0m\u001b[1;33m,\u001b[0m \u001b[0my_score\u001b[0m\u001b[1;33m,\u001b[0m \u001b[0mpos_label\u001b[0m\u001b[1;33m=\u001b[0m\u001b[0mpos_label\u001b[0m\u001b[1;33m,\u001b[0m \u001b[0msample_weight\u001b[0m\u001b[1;33m=\u001b[0m\u001b[0msample_weight\u001b[0m\u001b[1;33m\u001b[0m\u001b[1;33m\u001b[0m\u001b[0m\n\u001b[0;32m   1147\u001b[0m     )\n",
      "\u001b[1;32mc:\\Users\\mgonzgarc\\Anaconda3\\lib\\site-packages\\sklearn\\metrics\\_ranking.py\u001b[0m in \u001b[0;36m_binary_clf_curve\u001b[1;34m(y_true, y_score, pos_label, sample_weight)\u001b[0m\n\u001b[0;32m    815\u001b[0m     \u001b[0my_type\u001b[0m \u001b[1;33m=\u001b[0m \u001b[0mtype_of_target\u001b[0m\u001b[1;33m(\u001b[0m\u001b[0my_true\u001b[0m\u001b[1;33m,\u001b[0m \u001b[0minput_name\u001b[0m\u001b[1;33m=\u001b[0m\u001b[1;34m\"y_true\"\u001b[0m\u001b[1;33m)\u001b[0m\u001b[1;33m\u001b[0m\u001b[1;33m\u001b[0m\u001b[0m\n\u001b[0;32m    816\u001b[0m     \u001b[1;32mif\u001b[0m \u001b[1;32mnot\u001b[0m \u001b[1;33m(\u001b[0m\u001b[0my_type\u001b[0m \u001b[1;33m==\u001b[0m \u001b[1;34m\"binary\"\u001b[0m \u001b[1;32mor\u001b[0m \u001b[1;33m(\u001b[0m\u001b[0my_type\u001b[0m \u001b[1;33m==\u001b[0m \u001b[1;34m\"multiclass\"\u001b[0m \u001b[1;32mand\u001b[0m \u001b[0mpos_label\u001b[0m \u001b[1;32mis\u001b[0m \u001b[1;32mnot\u001b[0m \u001b[1;32mNone\u001b[0m\u001b[1;33m)\u001b[0m\u001b[1;33m)\u001b[0m\u001b[1;33m:\u001b[0m\u001b[1;33m\u001b[0m\u001b[1;33m\u001b[0m\u001b[0m\n\u001b[1;32m--> 817\u001b[1;33m         \u001b[1;32mraise\u001b[0m \u001b[0mValueError\u001b[0m\u001b[1;33m(\u001b[0m\u001b[1;34m\"{0} format is not supported\"\u001b[0m\u001b[1;33m.\u001b[0m\u001b[0mformat\u001b[0m\u001b[1;33m(\u001b[0m\u001b[0my_type\u001b[0m\u001b[1;33m)\u001b[0m\u001b[1;33m)\u001b[0m\u001b[1;33m\u001b[0m\u001b[1;33m\u001b[0m\u001b[0m\n\u001b[0m\u001b[0;32m    818\u001b[0m \u001b[1;33m\u001b[0m\u001b[0m\n\u001b[0;32m    819\u001b[0m     \u001b[0mcheck_consistent_length\u001b[0m\u001b[1;33m(\u001b[0m\u001b[0my_true\u001b[0m\u001b[1;33m,\u001b[0m \u001b[0my_score\u001b[0m\u001b[1;33m,\u001b[0m \u001b[0msample_weight\u001b[0m\u001b[1;33m)\u001b[0m\u001b[1;33m\u001b[0m\u001b[1;33m\u001b[0m\u001b[0m\n",
      "\u001b[1;31mValueError\u001b[0m: multiclass format is not supported"
     ]
    }
   ],
   "source": [
    "fpr, tpr, thresholds = roc_curve(y_test, y_proba)\n",
    "roc_auc = auc(fpr, tpr)\n",
    "\n",
    "\n",
    "plt.figure(figsize=(8, 6))\n",
    "plt.plot(fpr, tpr, color='blue', label=f'ROC Curve (AUC = {roc_auc:.2f})')\n",
    "plt.plot([0, 1], [0, 1], color='red', linestyle='--')\n",
    "plt.xlabel('False Positive Rate')\n",
    "plt.ylabel('True Positive Rate')\n",
    "plt.title('ROC Curve')\n",
    "plt.legend()\n",
    "plt.grid()\n",
    "plt.show()\n"
   ]
  },
  {
   "cell_type": "markdown",
   "metadata": {},
   "source": [
    "### Evaluacion Cruzada\n",
    "Llevamos a cabo la `Evaluación Cruzada` para detectar sobre ajuste"
   ]
  },
  {
   "cell_type": "code",
   "execution_count": 79,
   "metadata": {},
   "outputs": [
    {
     "name": "stdout",
     "output_type": "stream",
     "text": [
      "Cross-validation accuracy (train): 0.97\n",
      "Test accuracy: 0.97\n",
      "Classification report (Test):\n",
      "              precision    recall  f1-score   support\n",
      "\n",
      "           0       0.99      0.94      0.96       934\n",
      "           1       0.96      0.99      0.98      1450\n",
      "\n",
      "    accuracy                           0.97      2384\n",
      "   macro avg       0.98      0.97      0.97      2384\n",
      "weighted avg       0.97      0.97      0.97      2384\n",
      "\n"
     ]
    }
   ],
   "source": [
    "\n",
    "cross_val_scores = cross_val_score(log_reg, X_train_scaled, y_train, cv=5, scoring='accuracy')\n",
    "test_score = log_reg.score(X_test_scaled, y_test)\n",
    "\n",
    "\n",
    "print(f\"Cross-validation accuracy (train): {cross_val_scores.mean():.2f}\")\n",
    "print(f\"Test accuracy: {test_score:.2f}\")\n",
    "print(\"Classification report (Test):\")\n",
    "print(classification_report(y_test, log_reg.predict(X_test_scaled)))"
   ]
  },
  {
   "cell_type": "markdown",
   "metadata": {},
   "source": [
    "El modelo de regresión logística mostró un rendimiento excelente, con un AUC de 0.98 en la `curva ROC` y una precisión del 97% en el conjunto de prueba. Además, el reporte de clasificación destaca un equilibrio sólido entre precisión, recall y F1-score, indicando que el modelo discrimina efectivamente entre las clases."
   ]
  },
  {
   "cell_type": "markdown",
   "metadata": {},
   "source": [
    "## Clusterización (No supervisada)\n",
    "Aplicamos el modelo no supervisado K-Means para agrupar los datos en dos clusters, utilizando las características del conjunto de entrenamiento. Finalmente, se genera un resumen de las medias de las características por cada cluster para su análisis."
   ]
  },
  {
   "cell_type": "code",
   "execution_count": 80,
   "metadata": {},
   "outputs": [
    {
     "name": "stdout",
     "output_type": "stream",
     "text": [
      "Resumen de Clusters (No Supervisado):\n",
      "         actor_type  event_type  event_subtype  motive_code  event_source  \\\n",
      "Cluster                                                                     \n",
      "0          1.071868    1.322253      19.731918     1.807633    509.512004   \n",
      "1          1.422596    0.003294      48.019763     2.940382    497.184783   \n",
      "\n",
      "         industry_code       dnx_id         year     month        day  \\\n",
      "Cluster                                                                 \n",
      "0            61.021237  6022.147276  2020.091413  6.636504  15.795168   \n",
      "1            66.643610  5812.664690  2019.210145  6.307312  15.593544   \n",
      "\n",
      "         Disruptive  Exploitive  Undetermined    Africa      Asia  Australia  \\\n",
      "Cluster                                                                        \n",
      "0          0.283780    0.980763      0.019237  0.010157  0.099107   0.027547   \n",
      "1          0.998682    0.002306      0.000000  0.025362  0.128129   0.020092   \n",
      "\n",
      "           Europe  North America  South America  \n",
      "Cluster                                          \n",
      "0        0.211296       0.626347       0.025546  \n",
      "1        0.400198       0.408762       0.017457  \n"
     ]
    }
   ],
   "source": [
    "\n",
    "\n",
    "kmeans = KMeans(n_clusters=2, random_state=42)\n",
    "clusters = kmeans.fit_predict(X_train_scaled)\n",
    "\n",
    "\n",
    "X_train_clustered = X_train.copy()\n",
    "X_train_clustered['Cluster'] = clusters\n",
    "\n",
    "cluster_summary = X_train_clustered.groupby('Cluster').mean()\n",
    "print(\"Resumen de Clusters (No Supervisado):\")\n",
    "print(cluster_summary)\n"
   ]
  },
  {
   "cell_type": "markdown",
   "metadata": {},
   "source": [
    "Visualizamos la clusterización"
   ]
  },
  {
   "cell_type": "code",
   "execution_count": 81,
   "metadata": {},
   "outputs": [
    {
     "data": {
      "image/png": "[encoded data removed]",
      "text/plain": [
       "<Figure size 1000x800 with 2 Axes>"
      ]
     },
     "metadata": {},
     "output_type": "display_data"
    }
   ],
   "source": [
    "\n",
    "plt.figure(figsize=(10, 8))\n",
    "\n",
    "\n",
    "plt.scatter(\n",
    "    X_train_scaled[:, 0],\n",
    "    X_train_scaled[:, 1],\n",
    "    c=clusters,\n",
    "    cmap='viridis',\n",
    "    s=50\n",
    ")\n",
    "\n",
    "plt.title(\"Clusters identificados por K-Means\", fontsize=16)\n",
    "plt.xlabel(\"Feature 1 (scaled)\")\n",
    "plt.ylabel(\"Feature 2 (scaled)\")\n",
    "plt.colorbar(label=\"Cluster\")\n",
    "plt.grid()\n",
    "plt.show()\n"
   ]
  },
  {
   "cell_type": "markdown",
   "metadata": {},
   "source": [
    "Viendo los resultads llegamos a la conclusion de que no es adecuado hacer un modelo No supervisado"
   ]
  }
 ],
 "metadata": {
  "kernelspec": {
   "display_name": "base",
   "language": "python",
   "name": "python3"
  },
  "language_info": {
   "codemirror_mode": {
    "name": "ipython",
    "version": 3
   },
   "file_extension": ".py",
   "mimetype": "text/x-python",
   "name": "python",
   "nbconvert_exporter": "python",
   "pygments_lexer": "ipython3",
   "version": "3.9.13"
  }
 },
 "nbformat": 4,
 "nbformat_minor": 2
}
