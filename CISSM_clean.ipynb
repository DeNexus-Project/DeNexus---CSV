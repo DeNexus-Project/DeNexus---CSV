{
 "cells": [
  {
   "cell_type": "markdown",
   "metadata": {},
   "source": [
    "# CISSM.\n",
    "El archivo CSV contiene información sobre incidentes de ciberataques, con detalles sobre la fecha del evento, los actores involucrados, el tipo de evento, la organización afectada, el tipo de industria, la fuente del evento, el país, el motivo y el tipo de ataque."
   ]
  },
  {
   "cell_type": "markdown",
   "metadata": {},
   "source": [
    "## Importación de librerías."
   ]
  },
  {
   "cell_type": "code",
   "execution_count": 79,
   "metadata": {},
   "outputs": [],
   "source": [
    "import pandas as pd\n",
    "import matplotlib.pyplot as plt\n",
    "import seaborn as sns\n",
    "from sklearn.preprocessing import OrdinalEncoder\n",
    "from urllib.parse import urlparse\n",
    "from sklearn.model_selection import train_test_split\n",
    "from sklearn.preprocessing import StandardScaler\n",
    "from sklearn.ensemble import RandomForestClassifier\n",
    "from sklearn.model_selection import train_test_split, cross_val_score\n",
    "from sklearn.tree import DecisionTreeClassifier\n",
    "from sklearn.linear_model import LogisticRegression"
   ]
  },
  {
   "cell_type": "markdown",
   "metadata": {},
   "source": [
    "## Importación e información de dataframes"
   ]
  },
  {
   "cell_type": "code",
   "execution_count": 80,
   "metadata": {},
   "outputs": [
    {
     "data": {
      "text/html": [
       "<div>\n",
       "<style scoped>\n",
       "    .dataframe tbody tr th:only-of-type {\n",
       "        vertical-align: middle;\n",
       "    }\n",
       "\n",
       "    .dataframe tbody tr th {\n",
       "        vertical-align: top;\n",
       "    }\n",
       "\n",
       "    .dataframe thead th {\n",
       "        text-align: right;\n",
       "    }\n",
       "</style>\n",
       "<table border=\"1\" class=\"dataframe\">\n",
       "  <thead>\n",
       "    <tr style=\"text-align: right;\">\n",
       "      <th></th>\n",
       "      <th>event_description</th>\n",
       "      <th>event_date</th>\n",
       "      <th>actor</th>\n",
       "      <th>actor_type</th>\n",
       "      <th>event_type</th>\n",
       "      <th>organization</th>\n",
       "      <th>event_subtype</th>\n",
       "      <th>motive</th>\n",
       "      <th>event_source</th>\n",
       "      <th>country</th>\n",
       "      <th>industry</th>\n",
       "      <th>industry_code</th>\n",
       "      <th>id</th>\n",
       "      <th>dnx_id</th>\n",
       "      <th>date_uploaded</th>\n",
       "    </tr>\n",
       "  </thead>\n",
       "  <tbody>\n",
       "    <tr>\n",
       "      <th>0</th>\n",
       "      <td>Innovery, an Italian company delivering IT ser...</td>\n",
       "      <td>2023-09-30</td>\n",
       "      <td>Undetermined</td>\n",
       "      <td>Criminal</td>\n",
       "      <td>Exploitive</td>\n",
       "      <td>Innovery</td>\n",
       "      <td>Exploitation of Application Server</td>\n",
       "      <td>Financial</td>\n",
       "      <td>https://www.redhotcyber.com/post/attacco-infor...</td>\n",
       "      <td>ITA</td>\n",
       "      <td>Professional, Scientific, and Technical Services</td>\n",
       "      <td>54.0</td>\n",
       "      <td>f5c2ebc02807a6b3</td>\n",
       "      <td>inc_cis_13422</td>\n",
       "      <td>2024-04-01</td>\n",
       "    </tr>\n",
       "    <tr>\n",
       "      <th>1</th>\n",
       "      <td>The ALPHV/BlackCat ransomware gang adds the ho...</td>\n",
       "      <td>2023-09-30</td>\n",
       "      <td>ALPHV</td>\n",
       "      <td>Criminal</td>\n",
       "      <td>Mixed</td>\n",
       "      <td>Motel One</td>\n",
       "      <td>Data Attack,Undetermined</td>\n",
       "      <td>Financial</td>\n",
       "      <td>https://securityaffairs.com/151732/cyber-crime...</td>\n",
       "      <td>DEU</td>\n",
       "      <td>Accommodation and Food Services</td>\n",
       "      <td>72.0</td>\n",
       "      <td>0b7a20f4161d89b2</td>\n",
       "      <td>inc_cis_13421</td>\n",
       "      <td>2024-04-01</td>\n",
       "    </tr>\n",
       "    <tr>\n",
       "      <th>2</th>\n",
       "      <td>The pro-Russian collective NoName057(16) takes...</td>\n",
       "      <td>2023-09-29</td>\n",
       "      <td>NoName057(16)</td>\n",
       "      <td>Hacktivist</td>\n",
       "      <td>Disruptive</td>\n",
       "      <td>Multiple organizations in Italy</td>\n",
       "      <td>External Denial of Service</td>\n",
       "      <td>Protest</td>\n",
       "      <td>https://www.redhotcyber.com/post/si-ricomincia...</td>\n",
       "      <td>ITA</td>\n",
       "      <td>Public Administration</td>\n",
       "      <td>92.0</td>\n",
       "      <td>2e37d07ef6ef3cb6</td>\n",
       "      <td>inc_cis_13420</td>\n",
       "      <td>2024-04-01</td>\n",
       "    </tr>\n",
       "    <tr>\n",
       "      <th>3</th>\n",
       "      <td>API Financial Solutions files a notice of data...</td>\n",
       "      <td>2023-09-29</td>\n",
       "      <td>Undetermined</td>\n",
       "      <td>Criminal</td>\n",
       "      <td>Exploitive</td>\n",
       "      <td>API Financial Solutions</td>\n",
       "      <td>Undetermined</td>\n",
       "      <td>Financial</td>\n",
       "      <td>https://www.jdsupra.com/legalnews/api-financia...</td>\n",
       "      <td>USA</td>\n",
       "      <td>Finance and Insurance</td>\n",
       "      <td>52.0</td>\n",
       "      <td>f8029e6b6169de1f</td>\n",
       "      <td>inc_cis_13419</td>\n",
       "      <td>2024-04-01</td>\n",
       "    </tr>\n",
       "    <tr>\n",
       "      <th>4</th>\n",
       "      <td>McLaren HealthCare, confirms to be dealing wit...</td>\n",
       "      <td>2023-09-29</td>\n",
       "      <td>ALPHV</td>\n",
       "      <td>Criminal</td>\n",
       "      <td>Mixed</td>\n",
       "      <td>McLaren HealthCare</td>\n",
       "      <td>Data Attack,Undetermined</td>\n",
       "      <td>Financial</td>\n",
       "      <td>https://therecord.media/mclaren-healthcare-ran...</td>\n",
       "      <td>USA</td>\n",
       "      <td>Health Care and Social Assistance</td>\n",
       "      <td>62.0</td>\n",
       "      <td>1ed93f0579b9056c</td>\n",
       "      <td>inc_cis_13418</td>\n",
       "      <td>2024-04-01</td>\n",
       "    </tr>\n",
       "    <tr>\n",
       "      <th>...</th>\n",
       "      <td>...</td>\n",
       "      <td>...</td>\n",
       "      <td>...</td>\n",
       "      <td>...</td>\n",
       "      <td>...</td>\n",
       "      <td>...</td>\n",
       "      <td>...</td>\n",
       "      <td>...</td>\n",
       "      <td>...</td>\n",
       "      <td>...</td>\n",
       "      <td>...</td>\n",
       "      <td>...</td>\n",
       "      <td>...</td>\n",
       "      <td>...</td>\n",
       "      <td>...</td>\n",
       "    </tr>\n",
       "    <tr>\n",
       "      <th>13418</th>\n",
       "      <td>Erlanger Health is also affected by the MOVEit...</td>\n",
       "      <td>2023-09-27</td>\n",
       "      <td>Qilin</td>\n",
       "      <td>Criminal</td>\n",
       "      <td>Mixed</td>\n",
       "      <td>Cardiovascular Consultants</td>\n",
       "      <td>Exploitation of Application Server</td>\n",
       "      <td>Financial</td>\n",
       "      <td>https://www.databreaches.net/cardiovascular-co...</td>\n",
       "      <td>USA</td>\n",
       "      <td>Health Care and Social Assistance</td>\n",
       "      <td>62.0</td>\n",
       "      <td>c823006f6c70313c</td>\n",
       "      <td>inc_cis_4</td>\n",
       "      <td>2024-04-01</td>\n",
       "    </tr>\n",
       "    <tr>\n",
       "      <th>13419</th>\n",
       "      <td>The European Telecommunications Standards Inst...</td>\n",
       "      <td>2023-09-27</td>\n",
       "      <td>cl0p</td>\n",
       "      <td>Criminal</td>\n",
       "      <td>Exploitive</td>\n",
       "      <td>Erlanger Health</td>\n",
       "      <td>Exploitation of Application Server</td>\n",
       "      <td>Financial</td>\n",
       "      <td>https://www.hipaajournal.com/oak-valley-hospit...</td>\n",
       "      <td>USA</td>\n",
       "      <td>Health Care and Social Assistance</td>\n",
       "      <td>62.0</td>\n",
       "      <td>c886a43fe79a0a7b</td>\n",
       "      <td>inc_cis_3</td>\n",
       "      <td>2024-04-01</td>\n",
       "    </tr>\n",
       "    <tr>\n",
       "      <th>13420</th>\n",
       "      <td>Lost Trust Team adds GI Medical Services in Ne...</td>\n",
       "      <td>2023-09-27</td>\n",
       "      <td>Undetermined</td>\n",
       "      <td>Criminal</td>\n",
       "      <td>Exploitive</td>\n",
       "      <td>European Telecommunications Standards Institut...</td>\n",
       "      <td>Exploitation of Application Server</td>\n",
       "      <td>Undetermined</td>\n",
       "      <td>https://therecord.media/etsi-telecommunication...</td>\n",
       "      <td>FRA</td>\n",
       "      <td>Information</td>\n",
       "      <td>51.0</td>\n",
       "      <td>bb17aacdf2e20d25</td>\n",
       "      <td>inc_cis_2</td>\n",
       "      <td>2024-04-01</td>\n",
       "    </tr>\n",
       "    <tr>\n",
       "      <th>13421</th>\n",
       "      <td>UK charities including Shelter, the RSPCA, the...</td>\n",
       "      <td>2023-09-27</td>\n",
       "      <td>Lost Trust</td>\n",
       "      <td>Criminal</td>\n",
       "      <td>Exploitive</td>\n",
       "      <td>GI Medical Services</td>\n",
       "      <td>Undetermined</td>\n",
       "      <td>Financial</td>\n",
       "      <td>https://www.databreaches.net/and-yet-more-vict...</td>\n",
       "      <td>USA</td>\n",
       "      <td>Health Care and Social Assistance</td>\n",
       "      <td>62.0</td>\n",
       "      <td>bac11292d79231f0</td>\n",
       "      <td>inc_cis_1</td>\n",
       "      <td>2024-04-01</td>\n",
       "    </tr>\n",
       "    <tr>\n",
       "      <th>13422</th>\n",
       "      <td>[]</td>\n",
       "      <td>2023-09-27</td>\n",
       "      <td>Undetermined</td>\n",
       "      <td>Criminal</td>\n",
       "      <td>Exploitive</td>\n",
       "      <td>Kokoro</td>\n",
       "      <td>Undetermined</td>\n",
       "      <td>Financial</td>\n",
       "      <td>https://grahamcluley.com/british-charities-war...</td>\n",
       "      <td>GBR</td>\n",
       "      <td>Professional, Scientific, and Technical Services</td>\n",
       "      <td>54.0</td>\n",
       "      <td>1b4c2a9495a49c91</td>\n",
       "      <td>inc_cis_0</td>\n",
       "      <td>2024-04-01</td>\n",
       "    </tr>\n",
       "  </tbody>\n",
       "</table>\n",
       "<p>13423 rows × 15 columns</p>\n",
       "</div>"
      ],
      "text/plain": [
       "                                       event_description  event_date  \\\n",
       "0      Innovery, an Italian company delivering IT ser...  2023-09-30   \n",
       "1      The ALPHV/BlackCat ransomware gang adds the ho...  2023-09-30   \n",
       "2      The pro-Russian collective NoName057(16) takes...  2023-09-29   \n",
       "3      API Financial Solutions files a notice of data...  2023-09-29   \n",
       "4      McLaren HealthCare, confirms to be dealing wit...  2023-09-29   \n",
       "...                                                  ...         ...   \n",
       "13418  Erlanger Health is also affected by the MOVEit...  2023-09-27   \n",
       "13419  The European Telecommunications Standards Inst...  2023-09-27   \n",
       "13420  Lost Trust Team adds GI Medical Services in Ne...  2023-09-27   \n",
       "13421  UK charities including Shelter, the RSPCA, the...  2023-09-27   \n",
       "13422                                                 []  2023-09-27   \n",
       "\n",
       "               actor  actor_type  event_type  \\\n",
       "0       Undetermined    Criminal  Exploitive   \n",
       "1              ALPHV    Criminal       Mixed   \n",
       "2      NoName057(16)  Hacktivist  Disruptive   \n",
       "3       Undetermined    Criminal  Exploitive   \n",
       "4              ALPHV    Criminal       Mixed   \n",
       "...              ...         ...         ...   \n",
       "13418          Qilin    Criminal       Mixed   \n",
       "13419           cl0p    Criminal  Exploitive   \n",
       "13420   Undetermined    Criminal  Exploitive   \n",
       "13421     Lost Trust    Criminal  Exploitive   \n",
       "13422   Undetermined    Criminal  Exploitive   \n",
       "\n",
       "                                            organization  \\\n",
       "0                                               Innovery   \n",
       "1                                              Motel One   \n",
       "2                        Multiple organizations in Italy   \n",
       "3                                API Financial Solutions   \n",
       "4                                     McLaren HealthCare   \n",
       "...                                                  ...   \n",
       "13418                         Cardiovascular Consultants   \n",
       "13419                                    Erlanger Health   \n",
       "13420  European Telecommunications Standards Institut...   \n",
       "13421                                GI Medical Services   \n",
       "13422                                             Kokoro   \n",
       "\n",
       "                            event_subtype        motive  \\\n",
       "0      Exploitation of Application Server     Financial   \n",
       "1                Data Attack,Undetermined     Financial   \n",
       "2              External Denial of Service       Protest   \n",
       "3                            Undetermined     Financial   \n",
       "4                Data Attack,Undetermined     Financial   \n",
       "...                                   ...           ...   \n",
       "13418  Exploitation of Application Server     Financial   \n",
       "13419  Exploitation of Application Server     Financial   \n",
       "13420  Exploitation of Application Server  Undetermined   \n",
       "13421                        Undetermined     Financial   \n",
       "13422                        Undetermined     Financial   \n",
       "\n",
       "                                            event_source country  \\\n",
       "0      https://www.redhotcyber.com/post/attacco-infor...     ITA   \n",
       "1      https://securityaffairs.com/151732/cyber-crime...     DEU   \n",
       "2      https://www.redhotcyber.com/post/si-ricomincia...     ITA   \n",
       "3      https://www.jdsupra.com/legalnews/api-financia...     USA   \n",
       "4      https://therecord.media/mclaren-healthcare-ran...     USA   \n",
       "...                                                  ...     ...   \n",
       "13418  https://www.databreaches.net/cardiovascular-co...     USA   \n",
       "13419  https://www.hipaajournal.com/oak-valley-hospit...     USA   \n",
       "13420  https://therecord.media/etsi-telecommunication...     FRA   \n",
       "13421  https://www.databreaches.net/and-yet-more-vict...     USA   \n",
       "13422  https://grahamcluley.com/british-charities-war...     GBR   \n",
       "\n",
       "                                               industry industry_code  \\\n",
       "0      Professional, Scientific, and Technical Services          54.0   \n",
       "1                       Accommodation and Food Services          72.0   \n",
       "2                                 Public Administration          92.0   \n",
       "3                                 Finance and Insurance          52.0   \n",
       "4                     Health Care and Social Assistance          62.0   \n",
       "...                                                 ...           ...   \n",
       "13418                 Health Care and Social Assistance          62.0   \n",
       "13419                 Health Care and Social Assistance          62.0   \n",
       "13420                                       Information          51.0   \n",
       "13421                 Health Care and Social Assistance          62.0   \n",
       "13422  Professional, Scientific, and Technical Services          54.0   \n",
       "\n",
       "                     id         dnx_id date_uploaded  \n",
       "0      f5c2ebc02807a6b3  inc_cis_13422    2024-04-01  \n",
       "1      0b7a20f4161d89b2  inc_cis_13421    2024-04-01  \n",
       "2      2e37d07ef6ef3cb6  inc_cis_13420    2024-04-01  \n",
       "3      f8029e6b6169de1f  inc_cis_13419    2024-04-01  \n",
       "4      1ed93f0579b9056c  inc_cis_13418    2024-04-01  \n",
       "...                 ...            ...           ...  \n",
       "13418  c823006f6c70313c      inc_cis_4    2024-04-01  \n",
       "13419  c886a43fe79a0a7b      inc_cis_3    2024-04-01  \n",
       "13420  bb17aacdf2e20d25      inc_cis_2    2024-04-01  \n",
       "13421  bac11292d79231f0      inc_cis_1    2024-04-01  \n",
       "13422  1b4c2a9495a49c91      inc_cis_0    2024-04-01  \n",
       "\n",
       "[13423 rows x 15 columns]"
      ]
     },
     "execution_count": 80,
     "metadata": {},
     "output_type": "execute_result"
    }
   ],
   "source": [
    "df = pd.read_csv('CISSM.csv')\n",
    "df"
   ]
  },
  {
   "cell_type": "markdown",
   "metadata": {},
   "source": [
    "Debemos de tomar la columna ID como índice."
   ]
  },
  {
   "cell_type": "code",
   "execution_count": 81,
   "metadata": {},
   "outputs": [],
   "source": [
    "df.set_index('id', inplace=True)"
   ]
  },
  {
   "cell_type": "code",
   "execution_count": 82,
   "metadata": {},
   "outputs": [
    {
     "data": {
      "text/html": [
       "<div>\n",
       "<style scoped>\n",
       "    .dataframe tbody tr th:only-of-type {\n",
       "        vertical-align: middle;\n",
       "    }\n",
       "\n",
       "    .dataframe tbody tr th {\n",
       "        vertical-align: top;\n",
       "    }\n",
       "\n",
       "    .dataframe thead th {\n",
       "        text-align: right;\n",
       "    }\n",
       "</style>\n",
       "<table border=\"1\" class=\"dataframe\">\n",
       "  <thead>\n",
       "    <tr style=\"text-align: right;\">\n",
       "      <th></th>\n",
       "      <th>event_description</th>\n",
       "      <th>event_date</th>\n",
       "      <th>actor</th>\n",
       "      <th>actor_type</th>\n",
       "      <th>event_type</th>\n",
       "      <th>organization</th>\n",
       "      <th>event_subtype</th>\n",
       "      <th>motive</th>\n",
       "      <th>event_source</th>\n",
       "      <th>country</th>\n",
       "      <th>industry</th>\n",
       "      <th>industry_code</th>\n",
       "      <th>dnx_id</th>\n",
       "      <th>date_uploaded</th>\n",
       "    </tr>\n",
       "  </thead>\n",
       "  <tbody>\n",
       "    <tr>\n",
       "      <th>count</th>\n",
       "      <td>13423</td>\n",
       "      <td>13423</td>\n",
       "      <td>13423</td>\n",
       "      <td>13423</td>\n",
       "      <td>13423</td>\n",
       "      <td>13423</td>\n",
       "      <td>13423</td>\n",
       "      <td>13423</td>\n",
       "      <td>13423</td>\n",
       "      <td>13423</td>\n",
       "      <td>13423</td>\n",
       "      <td>13423</td>\n",
       "      <td>13423</td>\n",
       "      <td>13423</td>\n",
       "    </tr>\n",
       "    <tr>\n",
       "      <th>unique</th>\n",
       "      <td>11646</td>\n",
       "      <td>3126</td>\n",
       "      <td>1163</td>\n",
       "      <td>7</td>\n",
       "      <td>5</td>\n",
       "      <td>12202</td>\n",
       "      <td>95</td>\n",
       "      <td>13</td>\n",
       "      <td>10724</td>\n",
       "      <td>164</td>\n",
       "      <td>22</td>\n",
       "      <td>26</td>\n",
       "      <td>13423</td>\n",
       "      <td>1</td>\n",
       "    </tr>\n",
       "    <tr>\n",
       "      <th>top</th>\n",
       "      <td>Vice Society encrypts network and threatens to...</td>\n",
       "      <td>2017-06-27</td>\n",
       "      <td>Undetermined</td>\n",
       "      <td>Criminal</td>\n",
       "      <td>Exploitive</td>\n",
       "      <td>Undetermined</td>\n",
       "      <td>Exploitation of Application Server</td>\n",
       "      <td>Financial</td>\n",
       "      <td>https://stniiomyjliimcgkvdszvgen3eaaoz55hreqqx...</td>\n",
       "      <td>USA</td>\n",
       "      <td>Public Administration</td>\n",
       "      <td>92.0</td>\n",
       "      <td>inc_cis_13422</td>\n",
       "      <td>2024-04-01</td>\n",
       "    </tr>\n",
       "    <tr>\n",
       "      <th>freq</th>\n",
       "      <td>97</td>\n",
       "      <td>78</td>\n",
       "      <td>7639</td>\n",
       "      <td>10181</td>\n",
       "      <td>6676</td>\n",
       "      <td>56</td>\n",
       "      <td>4314</td>\n",
       "      <td>7533</td>\n",
       "      <td>73</td>\n",
       "      <td>6459</td>\n",
       "      <td>2518</td>\n",
       "      <td>2518</td>\n",
       "      <td>1</td>\n",
       "      <td>13423</td>\n",
       "    </tr>\n",
       "  </tbody>\n",
       "</table>\n",
       "</div>"
      ],
      "text/plain": [
       "                                        event_description  event_date  \\\n",
       "count                                               13423       13423   \n",
       "unique                                              11646        3126   \n",
       "top     Vice Society encrypts network and threatens to...  2017-06-27   \n",
       "freq                                                   97          78   \n",
       "\n",
       "               actor actor_type  event_type  organization  \\\n",
       "count          13423      13423       13423         13423   \n",
       "unique          1163          7           5         12202   \n",
       "top     Undetermined   Criminal  Exploitive  Undetermined   \n",
       "freq            7639      10181        6676            56   \n",
       "\n",
       "                             event_subtype     motive  \\\n",
       "count                                13423      13423   \n",
       "unique                                  95         13   \n",
       "top     Exploitation of Application Server  Financial   \n",
       "freq                                  4314       7533   \n",
       "\n",
       "                                             event_source country  \\\n",
       "count                                               13423   13423   \n",
       "unique                                              10724     164   \n",
       "top     https://stniiomyjliimcgkvdszvgen3eaaoz55hreqqx...     USA   \n",
       "freq                                                   73    6459   \n",
       "\n",
       "                     industry industry_code         dnx_id date_uploaded  \n",
       "count                   13423         13423          13423         13423  \n",
       "unique                     22            26          13423             1  \n",
       "top     Public Administration          92.0  inc_cis_13422    2024-04-01  \n",
       "freq                     2518          2518              1         13423  "
      ]
     },
     "execution_count": 82,
     "metadata": {},
     "output_type": "execute_result"
    }
   ],
   "source": [
    "df.describe()"
   ]
  },
  {
   "cell_type": "code",
   "execution_count": 83,
   "metadata": {},
   "outputs": [
    {
     "data": {
      "text/plain": [
       "(13423, 14)"
      ]
     },
     "execution_count": 83,
     "metadata": {},
     "output_type": "execute_result"
    }
   ],
   "source": [
    "df.shape"
   ]
  },
  {
   "cell_type": "code",
   "execution_count": 84,
   "metadata": {},
   "outputs": [
    {
     "data": {
      "text/plain": [
       "event_description    object\n",
       "event_date           object\n",
       "actor                object\n",
       "actor_type           object\n",
       "event_type           object\n",
       "organization         object\n",
       "event_subtype        object\n",
       "motive               object\n",
       "event_source         object\n",
       "country              object\n",
       "industry             object\n",
       "industry_code        object\n",
       "dnx_id               object\n",
       "date_uploaded        object\n",
       "dtype: object"
      ]
     },
     "execution_count": 84,
     "metadata": {},
     "output_type": "execute_result"
    }
   ],
   "source": [
    "df.dtypes"
   ]
  },
  {
   "cell_type": "code",
   "execution_count": 156,
   "metadata": {},
   "outputs": [],
   "source": [
    "df['industry_code'] = pd.to_numeric(df['industry_code'], errors='coerce')"
   ]
  },
  {
   "cell_type": "code",
   "execution_count": 86,
   "metadata": {},
   "outputs": [
    {
     "data": {
      "text/plain": [
       "Index(['event_description', 'event_date', 'actor', 'actor_type', 'event_type',\n",
       "       'organization', 'event_subtype', 'motive', 'event_source', 'country',\n",
       "       'industry', 'industry_code', 'dnx_id', 'date_uploaded'],\n",
       "      dtype='object')"
      ]
     },
     "execution_count": 86,
     "metadata": {},
     "output_type": "execute_result"
    }
   ],
   "source": [
    "df.columns"
   ]
  },
  {
   "cell_type": "markdown",
   "metadata": {},
   "source": [
    "A continuación, se incluye una breve explicación sobre la información que aporta cada columna.\n",
    "1. **ID**: Un identificador único para cada incidente de ciberataque.\n",
    "2. **Event Description**: Descripción detallada del incidente, explicando qué ocurrió durante el ataque.\n",
    "3. **Event Date**: Fecha en la que ocurrió el evento o ataque.\n",
    "4. **Actor**: La entidad o grupo responsable del ataque.\n",
    "5. **Actor Type**: El tipo de actor responsable del ataque, como \"Criminal\" o \"Estado\".\n",
    "6. **Event Type**: Tipo de ataque realizado, como \"Exploitive\" o \"Data Attack\".\n",
    "7. **Organization**: La organización o empresa que fue el objetivo del ataque.\n",
    "8. **Event Subtype**: Subtipo del evento que describe más específicamente el ataque.\n",
    "9. **Motive**: Razón o motivo detrás del ataque, por ejemplo, \"Financial\" si el objetivo es económico.\n",
    "10. **Event Source**: Fuente de información sobre el evento, generalmente un enlace a un artículo o informe.\n",
    "11. **Country**: País donde ocurrió el ataque o donde está ubicada la organización objetivo.\n",
    "12. **Industry**: Sector o industria al que pertenece la organización atacada.\n",
    "13. **Industry Code**: Código numérico que representa el sector o industria de la organización.\n",
    "14. **DNX ID**: Un identificador adicional del incidente dentro del sistema de la base de datos.\n",
    "15. **Date Uploaded**: La fecha en que la información sobre el incidente fue subida al sistema o base de datos."
   ]
  },
  {
   "cell_type": "code",
   "execution_count": 87,
   "metadata": {},
   "outputs": [
    {
     "data": {
      "text/html": [
       "<div>\n",
       "<style scoped>\n",
       "    .dataframe tbody tr th:only-of-type {\n",
       "        vertical-align: middle;\n",
       "    }\n",
       "\n",
       "    .dataframe tbody tr th {\n",
       "        vertical-align: top;\n",
       "    }\n",
       "\n",
       "    .dataframe thead th {\n",
       "        text-align: right;\n",
       "    }\n",
       "</style>\n",
       "<table border=\"1\" class=\"dataframe\">\n",
       "  <thead>\n",
       "    <tr style=\"text-align: right;\">\n",
       "      <th></th>\n",
       "      <th>event_description</th>\n",
       "      <th>event_date</th>\n",
       "      <th>actor</th>\n",
       "      <th>actor_type</th>\n",
       "      <th>event_type</th>\n",
       "      <th>organization</th>\n",
       "      <th>event_subtype</th>\n",
       "      <th>motive</th>\n",
       "      <th>event_source</th>\n",
       "      <th>country</th>\n",
       "      <th>industry</th>\n",
       "      <th>industry_code</th>\n",
       "      <th>dnx_id</th>\n",
       "      <th>date_uploaded</th>\n",
       "    </tr>\n",
       "    <tr>\n",
       "      <th>id</th>\n",
       "      <th></th>\n",
       "      <th></th>\n",
       "      <th></th>\n",
       "      <th></th>\n",
       "      <th></th>\n",
       "      <th></th>\n",
       "      <th></th>\n",
       "      <th></th>\n",
       "      <th></th>\n",
       "      <th></th>\n",
       "      <th></th>\n",
       "      <th></th>\n",
       "      <th></th>\n",
       "      <th></th>\n",
       "    </tr>\n",
       "  </thead>\n",
       "  <tbody>\n",
       "    <tr>\n",
       "      <th>f5c2ebc02807a6b3</th>\n",
       "      <td>Innovery, an Italian company delivering IT ser...</td>\n",
       "      <td>2023-09-30</td>\n",
       "      <td>Undetermined</td>\n",
       "      <td>Criminal</td>\n",
       "      <td>Exploitive</td>\n",
       "      <td>Innovery</td>\n",
       "      <td>Exploitation of Application Server</td>\n",
       "      <td>Financial</td>\n",
       "      <td>https://www.redhotcyber.com/post/attacco-infor...</td>\n",
       "      <td>ITA</td>\n",
       "      <td>Professional, Scientific, and Technical Services</td>\n",
       "      <td>54.0</td>\n",
       "      <td>inc_cis_13422</td>\n",
       "      <td>2024-04-01</td>\n",
       "    </tr>\n",
       "    <tr>\n",
       "      <th>0b7a20f4161d89b2</th>\n",
       "      <td>The ALPHV/BlackCat ransomware gang adds the ho...</td>\n",
       "      <td>2023-09-30</td>\n",
       "      <td>ALPHV</td>\n",
       "      <td>Criminal</td>\n",
       "      <td>Mixed</td>\n",
       "      <td>Motel One</td>\n",
       "      <td>Data Attack,Undetermined</td>\n",
       "      <td>Financial</td>\n",
       "      <td>https://securityaffairs.com/151732/cyber-crime...</td>\n",
       "      <td>DEU</td>\n",
       "      <td>Accommodation and Food Services</td>\n",
       "      <td>72.0</td>\n",
       "      <td>inc_cis_13421</td>\n",
       "      <td>2024-04-01</td>\n",
       "    </tr>\n",
       "    <tr>\n",
       "      <th>2e37d07ef6ef3cb6</th>\n",
       "      <td>The pro-Russian collective NoName057(16) takes...</td>\n",
       "      <td>2023-09-29</td>\n",
       "      <td>NoName057(16)</td>\n",
       "      <td>Hacktivist</td>\n",
       "      <td>Disruptive</td>\n",
       "      <td>Multiple organizations in Italy</td>\n",
       "      <td>External Denial of Service</td>\n",
       "      <td>Protest</td>\n",
       "      <td>https://www.redhotcyber.com/post/si-ricomincia...</td>\n",
       "      <td>ITA</td>\n",
       "      <td>Public Administration</td>\n",
       "      <td>92.0</td>\n",
       "      <td>inc_cis_13420</td>\n",
       "      <td>2024-04-01</td>\n",
       "    </tr>\n",
       "  </tbody>\n",
       "</table>\n",
       "</div>"
      ],
      "text/plain": [
       "                                                  event_description  \\\n",
       "id                                                                    \n",
       "f5c2ebc02807a6b3  Innovery, an Italian company delivering IT ser...   \n",
       "0b7a20f4161d89b2  The ALPHV/BlackCat ransomware gang adds the ho...   \n",
       "2e37d07ef6ef3cb6  The pro-Russian collective NoName057(16) takes...   \n",
       "\n",
       "                  event_date          actor  actor_type  event_type  \\\n",
       "id                                                                    \n",
       "f5c2ebc02807a6b3  2023-09-30   Undetermined    Criminal  Exploitive   \n",
       "0b7a20f4161d89b2  2023-09-30          ALPHV    Criminal       Mixed   \n",
       "2e37d07ef6ef3cb6  2023-09-29  NoName057(16)  Hacktivist  Disruptive   \n",
       "\n",
       "                                     organization  \\\n",
       "id                                                  \n",
       "f5c2ebc02807a6b3                         Innovery   \n",
       "0b7a20f4161d89b2                        Motel One   \n",
       "2e37d07ef6ef3cb6  Multiple organizations in Italy   \n",
       "\n",
       "                                       event_subtype     motive  \\\n",
       "id                                                                \n",
       "f5c2ebc02807a6b3  Exploitation of Application Server  Financial   \n",
       "0b7a20f4161d89b2            Data Attack,Undetermined  Financial   \n",
       "2e37d07ef6ef3cb6          External Denial of Service    Protest   \n",
       "\n",
       "                                                       event_source country  \\\n",
       "id                                                                            \n",
       "f5c2ebc02807a6b3  https://www.redhotcyber.com/post/attacco-infor...     ITA   \n",
       "0b7a20f4161d89b2  https://securityaffairs.com/151732/cyber-crime...     DEU   \n",
       "2e37d07ef6ef3cb6  https://www.redhotcyber.com/post/si-ricomincia...     ITA   \n",
       "\n",
       "                                                          industry  \\\n",
       "id                                                                   \n",
       "f5c2ebc02807a6b3  Professional, Scientific, and Technical Services   \n",
       "0b7a20f4161d89b2                   Accommodation and Food Services   \n",
       "2e37d07ef6ef3cb6                             Public Administration   \n",
       "\n",
       "                  industry_code         dnx_id date_uploaded  \n",
       "id                                                            \n",
       "f5c2ebc02807a6b3           54.0  inc_cis_13422    2024-04-01  \n",
       "0b7a20f4161d89b2           72.0  inc_cis_13421    2024-04-01  \n",
       "2e37d07ef6ef3cb6           92.0  inc_cis_13420    2024-04-01  "
      ]
     },
     "execution_count": 87,
     "metadata": {},
     "output_type": "execute_result"
    }
   ],
   "source": [
    "df.head(3)"
   ]
  },
  {
   "cell_type": "code",
   "execution_count": 88,
   "metadata": {},
   "outputs": [],
   "source": [
    "df['event_date'] = pd.to_datetime(df['event_date'])"
   ]
  },
  {
   "cell_type": "code",
   "execution_count": 89,
   "metadata": {},
   "outputs": [],
   "source": [
    "df['year'] = df['event_date'].dt.year\n",
    "df['month'] = df['event_date'].dt.month\n",
    "df['day'] = df['event_date'].dt.day"
   ]
  },
  {
   "cell_type": "code",
   "execution_count": 90,
   "metadata": {},
   "outputs": [],
   "source": [
    "df.drop('event_date', axis = 1, inplace = True)"
   ]
  },
  {
   "cell_type": "code",
   "execution_count": 91,
   "metadata": {},
   "outputs": [
    {
     "data": {
      "text/html": [
       "<div>\n",
       "<style scoped>\n",
       "    .dataframe tbody tr th:only-of-type {\n",
       "        vertical-align: middle;\n",
       "    }\n",
       "\n",
       "    .dataframe tbody tr th {\n",
       "        vertical-align: top;\n",
       "    }\n",
       "\n",
       "    .dataframe thead th {\n",
       "        text-align: right;\n",
       "    }\n",
       "</style>\n",
       "<table border=\"1\" class=\"dataframe\">\n",
       "  <thead>\n",
       "    <tr style=\"text-align: right;\">\n",
       "      <th></th>\n",
       "      <th>event_description</th>\n",
       "      <th>actor</th>\n",
       "      <th>actor_type</th>\n",
       "      <th>event_type</th>\n",
       "      <th>organization</th>\n",
       "      <th>event_subtype</th>\n",
       "      <th>motive</th>\n",
       "      <th>event_source</th>\n",
       "      <th>country</th>\n",
       "      <th>industry</th>\n",
       "      <th>industry_code</th>\n",
       "      <th>dnx_id</th>\n",
       "      <th>date_uploaded</th>\n",
       "      <th>year</th>\n",
       "      <th>month</th>\n",
       "      <th>day</th>\n",
       "    </tr>\n",
       "    <tr>\n",
       "      <th>id</th>\n",
       "      <th></th>\n",
       "      <th></th>\n",
       "      <th></th>\n",
       "      <th></th>\n",
       "      <th></th>\n",
       "      <th></th>\n",
       "      <th></th>\n",
       "      <th></th>\n",
       "      <th></th>\n",
       "      <th></th>\n",
       "      <th></th>\n",
       "      <th></th>\n",
       "      <th></th>\n",
       "      <th></th>\n",
       "      <th></th>\n",
       "      <th></th>\n",
       "    </tr>\n",
       "  </thead>\n",
       "  <tbody>\n",
       "    <tr>\n",
       "      <th>f5c2ebc02807a6b3</th>\n",
       "      <td>Innovery, an Italian company delivering IT ser...</td>\n",
       "      <td>Undetermined</td>\n",
       "      <td>Criminal</td>\n",
       "      <td>Exploitive</td>\n",
       "      <td>Innovery</td>\n",
       "      <td>Exploitation of Application Server</td>\n",
       "      <td>Financial</td>\n",
       "      <td>https://www.redhotcyber.com/post/attacco-infor...</td>\n",
       "      <td>ITA</td>\n",
       "      <td>Professional, Scientific, and Technical Services</td>\n",
       "      <td>54.0</td>\n",
       "      <td>inc_cis_13422</td>\n",
       "      <td>2024-04-01</td>\n",
       "      <td>2023</td>\n",
       "      <td>9</td>\n",
       "      <td>30</td>\n",
       "    </tr>\n",
       "    <tr>\n",
       "      <th>0b7a20f4161d89b2</th>\n",
       "      <td>The ALPHV/BlackCat ransomware gang adds the ho...</td>\n",
       "      <td>ALPHV</td>\n",
       "      <td>Criminal</td>\n",
       "      <td>Mixed</td>\n",
       "      <td>Motel One</td>\n",
       "      <td>Data Attack,Undetermined</td>\n",
       "      <td>Financial</td>\n",
       "      <td>https://securityaffairs.com/151732/cyber-crime...</td>\n",
       "      <td>DEU</td>\n",
       "      <td>Accommodation and Food Services</td>\n",
       "      <td>72.0</td>\n",
       "      <td>inc_cis_13421</td>\n",
       "      <td>2024-04-01</td>\n",
       "      <td>2023</td>\n",
       "      <td>9</td>\n",
       "      <td>30</td>\n",
       "    </tr>\n",
       "  </tbody>\n",
       "</table>\n",
       "</div>"
      ],
      "text/plain": [
       "                                                  event_description  \\\n",
       "id                                                                    \n",
       "f5c2ebc02807a6b3  Innovery, an Italian company delivering IT ser...   \n",
       "0b7a20f4161d89b2  The ALPHV/BlackCat ransomware gang adds the ho...   \n",
       "\n",
       "                         actor actor_type  event_type organization  \\\n",
       "id                                                                   \n",
       "f5c2ebc02807a6b3  Undetermined   Criminal  Exploitive     Innovery   \n",
       "0b7a20f4161d89b2         ALPHV   Criminal       Mixed    Motel One   \n",
       "\n",
       "                                       event_subtype     motive  \\\n",
       "id                                                                \n",
       "f5c2ebc02807a6b3  Exploitation of Application Server  Financial   \n",
       "0b7a20f4161d89b2            Data Attack,Undetermined  Financial   \n",
       "\n",
       "                                                       event_source country  \\\n",
       "id                                                                            \n",
       "f5c2ebc02807a6b3  https://www.redhotcyber.com/post/attacco-infor...     ITA   \n",
       "0b7a20f4161d89b2  https://securityaffairs.com/151732/cyber-crime...     DEU   \n",
       "\n",
       "                                                          industry  \\\n",
       "id                                                                   \n",
       "f5c2ebc02807a6b3  Professional, Scientific, and Technical Services   \n",
       "0b7a20f4161d89b2                   Accommodation and Food Services   \n",
       "\n",
       "                  industry_code         dnx_id date_uploaded  year  month  day  \n",
       "id                                                                              \n",
       "f5c2ebc02807a6b3           54.0  inc_cis_13422    2024-04-01  2023      9   30  \n",
       "0b7a20f4161d89b2           72.0  inc_cis_13421    2024-04-01  2023      9   30  "
      ]
     },
     "execution_count": 91,
     "metadata": {},
     "output_type": "execute_result"
    }
   ],
   "source": [
    "df.head(2)"
   ]
  },
  {
   "cell_type": "markdown",
   "metadata": {},
   "source": [
    "## Limpieza de datos.\n",
    "A simple vista, podemos detectar algunas columnas que no aportarán información para la identificación de patrones de ciberataques. La fecha en que la información fue subida al sistema no es relevante para el análisis de los incidentes en sí, ya que no afecta la naturaleza o el impacto del ataque, **Date Uploaded**. Finalmente, la columna **Industry** puede parecer importante, pero se elimina ya que existe otra en la que está representada por el código de la industria."
   ]
  },
  {
   "cell_type": "code",
   "execution_count": 92,
   "metadata": {},
   "outputs": [],
   "source": [
    "df.drop(['date_uploaded'], axis = 1, inplace = True)"
   ]
  },
  {
   "cell_type": "markdown",
   "metadata": {},
   "source": [
    "### Manejo de filas duplicadas.\n",
    "En caso de haber filas duplicadas, deberemos de eliminar estas para que no afecten al análisis posterior."
   ]
  },
  {
   "cell_type": "code",
   "execution_count": 93,
   "metadata": {},
   "outputs": [
    {
     "data": {
      "text/plain": [
       "0"
      ]
     },
     "execution_count": 93,
     "metadata": {},
     "output_type": "execute_result"
    }
   ],
   "source": [
    "df.duplicated().sum() # Columnas duplicadas"
   ]
  },
  {
   "cell_type": "code",
   "execution_count": 94,
   "metadata": {},
   "outputs": [],
   "source": [
    "df.drop_duplicates(inplace = True)"
   ]
  },
  {
   "cell_type": "code",
   "execution_count": 95,
   "metadata": {},
   "outputs": [
    {
     "data": {
      "text/plain": [
       "(13423, 15)"
      ]
     },
     "execution_count": 95,
     "metadata": {},
     "output_type": "execute_result"
    }
   ],
   "source": [
    "df.shape"
   ]
  },
  {
   "cell_type": "markdown",
   "metadata": {},
   "source": [
    "### Manejo de filas nulas."
   ]
  },
  {
   "cell_type": "code",
   "execution_count": 96,
   "metadata": {},
   "outputs": [
    {
     "data": {
      "text/plain": [
       "event_description     0\n",
       "actor                 0\n",
       "actor_type            0\n",
       "event_type            0\n",
       "organization          0\n",
       "event_subtype         0\n",
       "motive                0\n",
       "event_source          0\n",
       "country               0\n",
       "industry              0\n",
       "industry_code        22\n",
       "dnx_id                0\n",
       "year                  0\n",
       "month                 0\n",
       "day                   0\n",
       "dtype: int64"
      ]
     },
     "execution_count": 96,
     "metadata": {},
     "output_type": "execute_result"
    }
   ],
   "source": [
    "df.isnull().sum() # Valores nulos"
   ]
  },
  {
   "cell_type": "code",
   "execution_count": 97,
   "metadata": {},
   "outputs": [],
   "source": [
    "df.dropna(inplace = True)"
   ]
  },
  {
   "cell_type": "markdown",
   "metadata": {},
   "source": [
    "Al examinar detenidamente el DataFrame, notamos que hay algunas columnas que no están marcadas como valores nulos, pero que contienen el texto `'[]'`, lo que indica que son valores vacíos. Es necesario revisar estas filas para determinar cómo manejarlas.\n",
    "\n",
    "Después de esta revisión, concluimos que las filas afectadas son bastante pocas en comparación con el total de filas en el DataFrame original. Por lo tanto, la mejor opción sería eliminarlas."
   ]
  },
  {
   "cell_type": "code",
   "execution_count": 98,
   "metadata": {},
   "outputs": [
    {
     "data": {
      "text/plain": [
       "event_description     3\n",
       "actor                 0\n",
       "actor_type            0\n",
       "event_type            0\n",
       "organization          0\n",
       "event_subtype        21\n",
       "motive                1\n",
       "event_source          4\n",
       "country               8\n",
       "industry              0\n",
       "industry_code         0\n",
       "dnx_id                0\n",
       "year                  0\n",
       "month                 0\n",
       "day                   0\n",
       "dtype: int64"
      ]
     },
     "execution_count": 98,
     "metadata": {},
     "output_type": "execute_result"
    }
   ],
   "source": [
    "(df == '[]').sum()"
   ]
  },
  {
   "cell_type": "code",
   "execution_count": 99,
   "metadata": {},
   "outputs": [],
   "source": [
    "df.drop(df[(df == '[]').any(axis=1)].index, inplace=True)"
   ]
  },
  {
   "cell_type": "code",
   "execution_count": 100,
   "metadata": {},
   "outputs": [
    {
     "data": {
      "text/plain": [
       "(13364, 15)"
      ]
     },
     "execution_count": 100,
     "metadata": {},
     "output_type": "execute_result"
    }
   ],
   "source": [
    "df.shape"
   ]
  },
  {
   "cell_type": "markdown",
   "metadata": {},
   "source": [
    "### Selección de variables categóricas y continuas.\n",
    "Para realizar correctamente un ánalisis de datos debemos de distinguir entre las variables categóricas, variables que representan diferentes categorías o grupos, y continuas, variables que pueden tomar cualquier valor dentro de un rango determinado."
   ]
  },
  {
   "cell_type": "code",
   "execution_count": 101,
   "metadata": {},
   "outputs": [
    {
     "name": "stdout",
     "output_type": "stream",
     "text": [
      "Variables continuas: event_description, actor, organization, event_subtype, event_source, country, industry_code, dnx_id, year, month, day\n",
      "Variables categóricas: actor_type, event_type, motive, industry\n"
     ]
    }
   ],
   "source": [
    "v_continuas = []\n",
    "v_categoricas = []\n",
    "for i in df.columns:\n",
    "    if df[i].nunique() > 25 or df[i].dtypes in ['float64', 'int64']:\n",
    "        v_continuas.append(i)\n",
    "    else:\n",
    "        v_categoricas.append(i)\n",
    "\n",
    "print('Variables continuas: {}'.format(', '.join(v_continuas)))\n",
    "print('Variables categóricas: {}'.format(', '.join(v_categoricas)))"
   ]
  },
  {
   "cell_type": "markdown",
   "metadata": {},
   "source": [
    "#### Tratamiento de variables categóricas.\n",
    "Para el posterior modelo de clasificación, necesitamos codificar nuestras variables. Para ello, realizaremos una codificación ordinal que consiste en asignar valores enteros a las categorias basándose en su posición o jerarquía en los datos."
   ]
  },
  {
   "cell_type": "code",
   "execution_count": 102,
   "metadata": {},
   "outputs": [
    {
     "data": {
      "text/html": [
       "<div>\n",
       "<style scoped>\n",
       "    .dataframe tbody tr th:only-of-type {\n",
       "        vertical-align: middle;\n",
       "    }\n",
       "\n",
       "    .dataframe tbody tr th {\n",
       "        vertical-align: top;\n",
       "    }\n",
       "\n",
       "    .dataframe thead th {\n",
       "        text-align: right;\n",
       "    }\n",
       "</style>\n",
       "<table border=\"1\" class=\"dataframe\">\n",
       "  <thead>\n",
       "    <tr style=\"text-align: right;\">\n",
       "      <th></th>\n",
       "      <th>actor_type</th>\n",
       "      <th>event_type</th>\n",
       "      <th>motive</th>\n",
       "      <th>industry</th>\n",
       "    </tr>\n",
       "    <tr>\n",
       "      <th>id</th>\n",
       "      <th></th>\n",
       "      <th></th>\n",
       "      <th></th>\n",
       "      <th></th>\n",
       "    </tr>\n",
       "  </thead>\n",
       "  <tbody>\n",
       "    <tr>\n",
       "      <th>f5c2ebc02807a6b3</th>\n",
       "      <td>Criminal</td>\n",
       "      <td>Exploitive</td>\n",
       "      <td>Financial</td>\n",
       "      <td>Professional, Scientific, and Technical Services</td>\n",
       "    </tr>\n",
       "    <tr>\n",
       "      <th>0b7a20f4161d89b2</th>\n",
       "      <td>Criminal</td>\n",
       "      <td>Mixed</td>\n",
       "      <td>Financial</td>\n",
       "      <td>Accommodation and Food Services</td>\n",
       "    </tr>\n",
       "    <tr>\n",
       "      <th>2e37d07ef6ef3cb6</th>\n",
       "      <td>Hacktivist</td>\n",
       "      <td>Disruptive</td>\n",
       "      <td>Protest</td>\n",
       "      <td>Public Administration</td>\n",
       "    </tr>\n",
       "  </tbody>\n",
       "</table>\n",
       "</div>"
      ],
      "text/plain": [
       "                  actor_type  event_type     motive  \\\n",
       "id                                                    \n",
       "f5c2ebc02807a6b3    Criminal  Exploitive  Financial   \n",
       "0b7a20f4161d89b2    Criminal       Mixed  Financial   \n",
       "2e37d07ef6ef3cb6  Hacktivist  Disruptive    Protest   \n",
       "\n",
       "                                                          industry  \n",
       "id                                                                  \n",
       "f5c2ebc02807a6b3  Professional, Scientific, and Technical Services  \n",
       "0b7a20f4161d89b2                   Accommodation and Food Services  \n",
       "2e37d07ef6ef3cb6                             Public Administration  "
      ]
     },
     "execution_count": 102,
     "metadata": {},
     "output_type": "execute_result"
    }
   ],
   "source": [
    "df[v_categoricas].head(3)"
   ]
  },
  {
   "cell_type": "code",
   "execution_count": 103,
   "metadata": {},
   "outputs": [
    {
     "data": {
      "text/plain": [
       "actor_type     7\n",
       "event_type     5\n",
       "motive        11\n",
       "industry      21\n",
       "dtype: int64"
      ]
     },
     "execution_count": 103,
     "metadata": {},
     "output_type": "execute_result"
    }
   ],
   "source": [
    "df[v_categoricas].nunique()"
   ]
  },
  {
   "cell_type": "markdown",
   "metadata": {},
   "source": [
    "##### **Industry.**\n",
    "Esta columna ya viene codificada a través de **Industry Code**. Guardámos la columna para saber a que corresponde cada una."
   ]
  },
  {
   "cell_type": "code",
   "execution_count": 104,
   "metadata": {},
   "outputs": [
    {
     "data": {
      "text/plain": [
       "21"
      ]
     },
     "execution_count": 104,
     "metadata": {},
     "output_type": "execute_result"
    }
   ],
   "source": [
    "df['industry'].nunique()"
   ]
  },
  {
   "cell_type": "code",
   "execution_count": 105,
   "metadata": {},
   "outputs": [
    {
     "data": {
      "text/plain": [
       "25"
      ]
     },
     "execution_count": 105,
     "metadata": {},
     "output_type": "execute_result"
    }
   ],
   "source": [
    "df['industry_code'].nunique()"
   ]
  },
  {
   "cell_type": "markdown",
   "metadata": {},
   "source": [
    "##### **Event Type.**"
   ]
  },
  {
   "cell_type": "code",
   "execution_count": 106,
   "metadata": {},
   "outputs": [
    {
     "data": {
      "text/plain": [
       "array(['Exploitive', 'Mixed', 'Disruptive', 'Undetermined',\n",
       "       'Exploitation of Application Server'], dtype=object)"
      ]
     },
     "execution_count": 106,
     "metadata": {},
     "output_type": "execute_result"
    }
   ],
   "source": [
    "df['event_type'].unique()"
   ]
  },
  {
   "cell_type": "markdown",
   "metadata": {},
   "source": [
    "Los valores **Exploitive** y **Exploitation of Application Server** están relacionados con la explotación de vulnerabilidades, ya sea de manera general o específica (como en un servidor de aplicaciones). Por ello los juntaremos en la misma categoria."
   ]
  },
  {
   "cell_type": "code",
   "execution_count": 107,
   "metadata": {},
   "outputs": [],
   "source": [
    "df['event_type'].replace('Exploitation of Application Server', 'Exploitive', inplace=True)"
   ]
  },
  {
   "cell_type": "markdown",
   "metadata": {},
   "source": [
    "Cuando trabajamos con variables categóricas, como en este caso con la columna 'event_type' que tiene valores como **Exploitive**, **Disruptive**, **Mixed** y **Undetermined**, se suele utilizar la técnica de **One-hot encoder** para convertir estas categorías en variables binarias que un modelo de Machine Learning pueda entender. El objetivo es crear una columna para cada categoría con valores 0 o 1, indicando si un evento pertenece a esa categoría o no.\n",
    "\n",
    "El valor **Mixed** es especial porque representa una combinación de dos categorías: **Exploitive** y **Disruptive**. Esto significa que cuando un evento está clasificado como **Mixed**, en realidad debe ser tratado como si fuera tanto **Exploitive** como **Disruptive**. Añadiendo un 1 en cada columna de estos."
   ]
  },
  {
   "cell_type": "code",
   "execution_count": 108,
   "metadata": {},
   "outputs": [],
   "source": [
    "dummies = pd.get_dummies(df['event_type'])\n",
    "dummies['Exploitive'] = dummies['Exploitive'] | dummies['Mixed']\n",
    "dummies['Disruptive'] = dummies['Disruptive'] | dummies['Mixed']\n",
    "\n",
    "df = pd.concat([df, dummies], axis=1)\n",
    "df.drop(['Mixed'], axis=1, inplace=True)"
   ]
  },
  {
   "cell_type": "code",
   "execution_count": 109,
   "metadata": {},
   "outputs": [
    {
     "data": {
      "text/html": [
       "<div>\n",
       "<style scoped>\n",
       "    .dataframe tbody tr th:only-of-type {\n",
       "        vertical-align: middle;\n",
       "    }\n",
       "\n",
       "    .dataframe tbody tr th {\n",
       "        vertical-align: top;\n",
       "    }\n",
       "\n",
       "    .dataframe thead th {\n",
       "        text-align: right;\n",
       "    }\n",
       "</style>\n",
       "<table border=\"1\" class=\"dataframe\">\n",
       "  <thead>\n",
       "    <tr style=\"text-align: right;\">\n",
       "      <th></th>\n",
       "      <th>event_description</th>\n",
       "      <th>actor</th>\n",
       "      <th>actor_type</th>\n",
       "      <th>event_type</th>\n",
       "      <th>organization</th>\n",
       "      <th>event_subtype</th>\n",
       "      <th>motive</th>\n",
       "      <th>event_source</th>\n",
       "      <th>country</th>\n",
       "      <th>industry</th>\n",
       "      <th>industry_code</th>\n",
       "      <th>dnx_id</th>\n",
       "      <th>year</th>\n",
       "      <th>month</th>\n",
       "      <th>day</th>\n",
       "      <th>Disruptive</th>\n",
       "      <th>Exploitive</th>\n",
       "      <th>Undetermined</th>\n",
       "    </tr>\n",
       "    <tr>\n",
       "      <th>id</th>\n",
       "      <th></th>\n",
       "      <th></th>\n",
       "      <th></th>\n",
       "      <th></th>\n",
       "      <th></th>\n",
       "      <th></th>\n",
       "      <th></th>\n",
       "      <th></th>\n",
       "      <th></th>\n",
       "      <th></th>\n",
       "      <th></th>\n",
       "      <th></th>\n",
       "      <th></th>\n",
       "      <th></th>\n",
       "      <th></th>\n",
       "      <th></th>\n",
       "      <th></th>\n",
       "      <th></th>\n",
       "    </tr>\n",
       "  </thead>\n",
       "  <tbody>\n",
       "    <tr>\n",
       "      <th>f5c2ebc02807a6b3</th>\n",
       "      <td>Innovery, an Italian company delivering IT ser...</td>\n",
       "      <td>Undetermined</td>\n",
       "      <td>Criminal</td>\n",
       "      <td>Exploitive</td>\n",
       "      <td>Innovery</td>\n",
       "      <td>Exploitation of Application Server</td>\n",
       "      <td>Financial</td>\n",
       "      <td>https://www.redhotcyber.com/post/attacco-infor...</td>\n",
       "      <td>ITA</td>\n",
       "      <td>Professional, Scientific, and Technical Services</td>\n",
       "      <td>54.0</td>\n",
       "      <td>inc_cis_13422</td>\n",
       "      <td>2023</td>\n",
       "      <td>9</td>\n",
       "      <td>30</td>\n",
       "      <td>0</td>\n",
       "      <td>1</td>\n",
       "      <td>0</td>\n",
       "    </tr>\n",
       "    <tr>\n",
       "      <th>0b7a20f4161d89b2</th>\n",
       "      <td>The ALPHV/BlackCat ransomware gang adds the ho...</td>\n",
       "      <td>ALPHV</td>\n",
       "      <td>Criminal</td>\n",
       "      <td>Mixed</td>\n",
       "      <td>Motel One</td>\n",
       "      <td>Data Attack,Undetermined</td>\n",
       "      <td>Financial</td>\n",
       "      <td>https://securityaffairs.com/151732/cyber-crime...</td>\n",
       "      <td>DEU</td>\n",
       "      <td>Accommodation and Food Services</td>\n",
       "      <td>72.0</td>\n",
       "      <td>inc_cis_13421</td>\n",
       "      <td>2023</td>\n",
       "      <td>9</td>\n",
       "      <td>30</td>\n",
       "      <td>1</td>\n",
       "      <td>1</td>\n",
       "      <td>0</td>\n",
       "    </tr>\n",
       "  </tbody>\n",
       "</table>\n",
       "</div>"
      ],
      "text/plain": [
       "                                                  event_description  \\\n",
       "id                                                                    \n",
       "f5c2ebc02807a6b3  Innovery, an Italian company delivering IT ser...   \n",
       "0b7a20f4161d89b2  The ALPHV/BlackCat ransomware gang adds the ho...   \n",
       "\n",
       "                         actor actor_type  event_type organization  \\\n",
       "id                                                                   \n",
       "f5c2ebc02807a6b3  Undetermined   Criminal  Exploitive     Innovery   \n",
       "0b7a20f4161d89b2         ALPHV   Criminal       Mixed    Motel One   \n",
       "\n",
       "                                       event_subtype     motive  \\\n",
       "id                                                                \n",
       "f5c2ebc02807a6b3  Exploitation of Application Server  Financial   \n",
       "0b7a20f4161d89b2            Data Attack,Undetermined  Financial   \n",
       "\n",
       "                                                       event_source country  \\\n",
       "id                                                                            \n",
       "f5c2ebc02807a6b3  https://www.redhotcyber.com/post/attacco-infor...     ITA   \n",
       "0b7a20f4161d89b2  https://securityaffairs.com/151732/cyber-crime...     DEU   \n",
       "\n",
       "                                                          industry  \\\n",
       "id                                                                   \n",
       "f5c2ebc02807a6b3  Professional, Scientific, and Technical Services   \n",
       "0b7a20f4161d89b2                   Accommodation and Food Services   \n",
       "\n",
       "                  industry_code         dnx_id  year  month  day  Disruptive  \\\n",
       "id                                                                             \n",
       "f5c2ebc02807a6b3           54.0  inc_cis_13422  2023      9   30           0   \n",
       "0b7a20f4161d89b2           72.0  inc_cis_13421  2023      9   30           1   \n",
       "\n",
       "                  Exploitive  Undetermined  \n",
       "id                                          \n",
       "f5c2ebc02807a6b3           1             0  \n",
       "0b7a20f4161d89b2           1             0  "
      ]
     },
     "execution_count": 109,
     "metadata": {},
     "output_type": "execute_result"
    }
   ],
   "source": [
    "df.head(2)"
   ]
  },
  {
   "cell_type": "markdown",
   "metadata": {},
   "source": [
    "##### **Organization**\n",
    "\n",
    "Marcamos la frecuencia (`organization_freq`) con la que las organizaciones son atacadas"
   ]
  },
  {
   "cell_type": "code",
   "execution_count": 110,
   "metadata": {},
   "outputs": [
    {
     "name": "stdout",
     "output_type": "stream",
     "text": [
      "id\n",
      "f5c2ebc02807a6b3    0.000150\n",
      "0b7a20f4161d89b2    0.000150\n",
      "2e37d07ef6ef3cb6    0.000224\n",
      "Name: organization_freq, dtype: float64\n"
     ]
    }
   ],
   "source": [
    "# Calcular la frecuencia relativa de cada organización\n",
    "df['organization_freq'] = df['organization'].map(df['organization'].value_counts(normalize=True))\n",
    "\n",
    "print(df['organization_freq'].head(3))\n",
    "\n"
   ]
  },
  {
   "cell_type": "markdown",
   "metadata": {},
   "source": [
    "##### **Motive**"
   ]
  },
  {
   "cell_type": "code",
   "execution_count": 111,
   "metadata": {},
   "outputs": [
    {
     "data": {
      "text/plain": [
       "array(['Financial', 'Protest', 'Undetermined', 'Political-Espionage',\n",
       "       'Sabotage', 'Espionage', 'Espionage-Political', 'Sabatoge',\n",
       "       'Personal Attack', 'Protest,Financial', 'Industrial-Espionage'],\n",
       "      dtype=object)"
      ]
     },
     "execution_count": 111,
     "metadata": {},
     "output_type": "execute_result"
    }
   ],
   "source": [
    "df['motive'].unique()"
   ]
  },
  {
   "cell_type": "markdown",
   "metadata": {},
   "source": [
    "Debemos de arreglar fallos de escritura primero. En nuestro conjunto de datos, encontramos entradas como **Sabatoge**, que son errores de escritura y deben corregirse a **Sabotage**. Estas correcciones aseguran que todos los datos sean consistentes y que no haya duplicados causados por errores de escritura."
   ]
  },
  {
   "cell_type": "code",
   "execution_count": 112,
   "metadata": {},
   "outputs": [],
   "source": [
    "df['motive'] = df['motive'].str.replace('Espionage-Political', 'Political-Espionage')\n",
    "df['motive'] = df['motive'].str.replace('Sabatoge', 'Sabotage')"
   ]
  },
  {
   "cell_type": "markdown",
   "metadata": {},
   "source": [
    "Es importante agrupar categorías que representan la misma amenaza. Por ejemplo, las categorías **Industrial-Espionage** y **Political-Espionage** pueden ser agrupadas bajo una sola categoría: **Espionage**. Esta agrupación ayuda a simplificar el análisis, permitiendo que se obtengan conclusiones más claras y significativas."
   ]
  },
  {
   "cell_type": "code",
   "execution_count": 113,
   "metadata": {},
   "outputs": [],
   "source": [
    "motive_mapping = {\n",
    "    'Political-Espionage': 'Espionage',\n",
    "    'Industrial-Espionage': 'Espionage',\n",
    "}\n",
    "\n",
    "# Aplicamos la agrupación\n",
    "df['motive'] = df['motive'].replace(motive_mapping)"
   ]
  },
  {
   "cell_type": "code",
   "execution_count": 114,
   "metadata": {},
   "outputs": [
    {
     "data": {
      "text/plain": [
       "array(['Financial', 'Protest', 'Undetermined', 'Espionage', 'Sabotage',\n",
       "       'Personal Attack', 'Protest,Financial'], dtype=object)"
      ]
     },
     "execution_count": 114,
     "metadata": {},
     "output_type": "execute_result"
    }
   ],
   "source": [
    "df['motive'].unique()"
   ]
  },
  {
   "cell_type": "markdown",
   "metadata": {},
   "source": [
    "En el proceso de limpieza de datos, es posible que se detecten casos donde una fila contenga múltiples categorías que deberían ser exclusivas. En nuestro conjunto de datos, hemos encontrado un caso donde una entrada presenta simultáneamente las categorías **Protest** y **Financial**. Sin embargo, dado que esta situación ocurre solo en una fila de aproximadamente 13000 registros, podemos prescindir de este caso sin afectar significativamente el análisis general."
   ]
  },
  {
   "cell_type": "code",
   "execution_count": 115,
   "metadata": {},
   "outputs": [],
   "source": [
    "df.drop(df[df['motive'] == 'Protest,Financial'].index, inplace=True) # solo es una fila, por no hacer get_dummies"
   ]
  },
  {
   "cell_type": "code",
   "execution_count": 116,
   "metadata": {},
   "outputs": [
    {
     "data": {
      "text/plain": [
       "array(['Financial', 'Protest', 'Undetermined', 'Espionage', 'Sabotage',\n",
       "       'Personal Attack'], dtype=object)"
      ]
     },
     "execution_count": 116,
     "metadata": {},
     "output_type": "execute_result"
    }
   ],
   "source": [
    "df['motive'].unique()"
   ]
  },
  {
   "cell_type": "code",
   "execution_count": 117,
   "metadata": {},
   "outputs": [
    {
     "data": {
      "text/html": [
       "<div>\n",
       "<style scoped>\n",
       "    .dataframe tbody tr th:only-of-type {\n",
       "        vertical-align: middle;\n",
       "    }\n",
       "\n",
       "    .dataframe tbody tr th {\n",
       "        vertical-align: top;\n",
       "    }\n",
       "\n",
       "    .dataframe thead th {\n",
       "        text-align: right;\n",
       "    }\n",
       "</style>\n",
       "<table border=\"1\" class=\"dataframe\">\n",
       "  <thead>\n",
       "    <tr style=\"text-align: right;\">\n",
       "      <th></th>\n",
       "      <th>event_description</th>\n",
       "      <th>actor</th>\n",
       "      <th>actor_type</th>\n",
       "      <th>event_type</th>\n",
       "      <th>organization</th>\n",
       "      <th>event_subtype</th>\n",
       "      <th>motive</th>\n",
       "      <th>motive_code</th>\n",
       "      <th>event_source</th>\n",
       "      <th>country</th>\n",
       "      <th>industry</th>\n",
       "      <th>industry_code</th>\n",
       "      <th>dnx_id</th>\n",
       "      <th>year</th>\n",
       "      <th>month</th>\n",
       "      <th>day</th>\n",
       "      <th>Disruptive</th>\n",
       "      <th>Exploitive</th>\n",
       "      <th>Undetermined</th>\n",
       "      <th>organization_freq</th>\n",
       "    </tr>\n",
       "    <tr>\n",
       "      <th>id</th>\n",
       "      <th></th>\n",
       "      <th></th>\n",
       "      <th></th>\n",
       "      <th></th>\n",
       "      <th></th>\n",
       "      <th></th>\n",
       "      <th></th>\n",
       "      <th></th>\n",
       "      <th></th>\n",
       "      <th></th>\n",
       "      <th></th>\n",
       "      <th></th>\n",
       "      <th></th>\n",
       "      <th></th>\n",
       "      <th></th>\n",
       "      <th></th>\n",
       "      <th></th>\n",
       "      <th></th>\n",
       "      <th></th>\n",
       "      <th></th>\n",
       "    </tr>\n",
       "  </thead>\n",
       "  <tbody>\n",
       "    <tr>\n",
       "      <th>f5c2ebc02807a6b3</th>\n",
       "      <td>Innovery, an Italian company delivering IT ser...</td>\n",
       "      <td>Undetermined</td>\n",
       "      <td>Criminal</td>\n",
       "      <td>Exploitive</td>\n",
       "      <td>Innovery</td>\n",
       "      <td>Exploitation of Application Server</td>\n",
       "      <td>Financial</td>\n",
       "      <td>1.0</td>\n",
       "      <td>https://www.redhotcyber.com/post/attacco-infor...</td>\n",
       "      <td>ITA</td>\n",
       "      <td>Professional, Scientific, and Technical Services</td>\n",
       "      <td>54.0</td>\n",
       "      <td>inc_cis_13422</td>\n",
       "      <td>2023</td>\n",
       "      <td>9</td>\n",
       "      <td>30</td>\n",
       "      <td>0</td>\n",
       "      <td>1</td>\n",
       "      <td>0</td>\n",
       "      <td>0.00015</td>\n",
       "    </tr>\n",
       "    <tr>\n",
       "      <th>0b7a20f4161d89b2</th>\n",
       "      <td>The ALPHV/BlackCat ransomware gang adds the ho...</td>\n",
       "      <td>ALPHV</td>\n",
       "      <td>Criminal</td>\n",
       "      <td>Mixed</td>\n",
       "      <td>Motel One</td>\n",
       "      <td>Data Attack,Undetermined</td>\n",
       "      <td>Financial</td>\n",
       "      <td>1.0</td>\n",
       "      <td>https://securityaffairs.com/151732/cyber-crime...</td>\n",
       "      <td>DEU</td>\n",
       "      <td>Accommodation and Food Services</td>\n",
       "      <td>72.0</td>\n",
       "      <td>inc_cis_13421</td>\n",
       "      <td>2023</td>\n",
       "      <td>9</td>\n",
       "      <td>30</td>\n",
       "      <td>1</td>\n",
       "      <td>1</td>\n",
       "      <td>0</td>\n",
       "      <td>0.00015</td>\n",
       "    </tr>\n",
       "  </tbody>\n",
       "</table>\n",
       "</div>"
      ],
      "text/plain": [
       "                                                  event_description  \\\n",
       "id                                                                    \n",
       "f5c2ebc02807a6b3  Innovery, an Italian company delivering IT ser...   \n",
       "0b7a20f4161d89b2  The ALPHV/BlackCat ransomware gang adds the ho...   \n",
       "\n",
       "                         actor actor_type  event_type organization  \\\n",
       "id                                                                   \n",
       "f5c2ebc02807a6b3  Undetermined   Criminal  Exploitive     Innovery   \n",
       "0b7a20f4161d89b2         ALPHV   Criminal       Mixed    Motel One   \n",
       "\n",
       "                                       event_subtype     motive  motive_code  \\\n",
       "id                                                                             \n",
       "f5c2ebc02807a6b3  Exploitation of Application Server  Financial          1.0   \n",
       "0b7a20f4161d89b2            Data Attack,Undetermined  Financial          1.0   \n",
       "\n",
       "                                                       event_source country  \\\n",
       "id                                                                            \n",
       "f5c2ebc02807a6b3  https://www.redhotcyber.com/post/attacco-infor...     ITA   \n",
       "0b7a20f4161d89b2  https://securityaffairs.com/151732/cyber-crime...     DEU   \n",
       "\n",
       "                                                          industry  \\\n",
       "id                                                                   \n",
       "f5c2ebc02807a6b3  Professional, Scientific, and Technical Services   \n",
       "0b7a20f4161d89b2                   Accommodation and Food Services   \n",
       "\n",
       "                  industry_code         dnx_id  year  month  day  Disruptive  \\\n",
       "id                                                                             \n",
       "f5c2ebc02807a6b3           54.0  inc_cis_13422  2023      9   30           0   \n",
       "0b7a20f4161d89b2           72.0  inc_cis_13421  2023      9   30           1   \n",
       "\n",
       "                  Exploitive  Undetermined  organization_freq  \n",
       "id                                                             \n",
       "f5c2ebc02807a6b3           1             0            0.00015  \n",
       "0b7a20f4161d89b2           1             0            0.00015  "
      ]
     },
     "execution_count": 117,
     "metadata": {},
     "output_type": "execute_result"
    }
   ],
   "source": [
    "encoder = OrdinalEncoder()\n",
    "df.insert(df.columns.get_loc('motive') + 1, 'motive_code', encoder.fit_transform(df[['motive']]))\n",
    "df.head(2)"
   ]
  },
  {
   "cell_type": "markdown",
   "metadata": {},
   "source": [
    "##### **Actor Type.**\n",
    "Debemos examinar cuidadosamente esta columna para determinar si es posible realizar la codificación ordinal. Como se observa, hay un valor que aparece como `Undeterminated` y otro valor de `Criminal` que está mal escrito en una de las entradas."
   ]
  },
  {
   "cell_type": "code",
   "execution_count": 118,
   "metadata": {},
   "outputs": [
    {
     "data": {
      "text/plain": [
       "array(['Criminal', 'Hacktivist', 'Nation-State', 'Undetermined',\n",
       "       'Hobbyist', 'Crimimal', 'Terrorist'], dtype=object)"
      ]
     },
     "execution_count": 118,
     "metadata": {},
     "output_type": "execute_result"
    }
   ],
   "source": [
    "df['actor_type'] = df['actor_type'].str.replace('Criminal', 'Criminal', regex=True)\n",
    "df['actor_type'].unique()"
   ]
  },
  {
   "cell_type": "code",
   "execution_count": 119,
   "metadata": {},
   "outputs": [],
   "source": [
    "df['actor_type'] = df['actor_type'].str.replace('Criminal', 'Criminal', regex=True)\n"
   ]
  },
  {
   "cell_type": "code",
   "execution_count": 120,
   "metadata": {},
   "outputs": [
    {
     "data": {
      "text/plain": [
       "array(['Criminal', 'Hacktivist', 'Nation-State', 'Undetermined',\n",
       "       'Hobbyist', 'Crimimal', 'Terrorist'], dtype=object)"
      ]
     },
     "execution_count": 120,
     "metadata": {},
     "output_type": "execute_result"
    }
   ],
   "source": [
    "df['actor_type'].unique()"
   ]
  },
  {
   "cell_type": "code",
   "execution_count": 121,
   "metadata": {},
   "outputs": [
    {
     "data": {
      "text/html": [
       "<div>\n",
       "<style scoped>\n",
       "    .dataframe tbody tr th:only-of-type {\n",
       "        vertical-align: middle;\n",
       "    }\n",
       "\n",
       "    .dataframe tbody tr th {\n",
       "        vertical-align: top;\n",
       "    }\n",
       "\n",
       "    .dataframe thead th {\n",
       "        text-align: right;\n",
       "    }\n",
       "</style>\n",
       "<table border=\"1\" class=\"dataframe\">\n",
       "  <thead>\n",
       "    <tr style=\"text-align: right;\">\n",
       "      <th></th>\n",
       "      <th>event_description</th>\n",
       "      <th>actor</th>\n",
       "      <th>actor_type</th>\n",
       "      <th>event_type</th>\n",
       "      <th>organization</th>\n",
       "      <th>event_subtype</th>\n",
       "      <th>motive</th>\n",
       "      <th>motive_code</th>\n",
       "      <th>event_source</th>\n",
       "      <th>country</th>\n",
       "      <th>industry</th>\n",
       "      <th>industry_code</th>\n",
       "      <th>dnx_id</th>\n",
       "      <th>year</th>\n",
       "      <th>month</th>\n",
       "      <th>day</th>\n",
       "      <th>Disruptive</th>\n",
       "      <th>Exploitive</th>\n",
       "      <th>Undetermined</th>\n",
       "      <th>organization_freq</th>\n",
       "    </tr>\n",
       "    <tr>\n",
       "      <th>id</th>\n",
       "      <th></th>\n",
       "      <th></th>\n",
       "      <th></th>\n",
       "      <th></th>\n",
       "      <th></th>\n",
       "      <th></th>\n",
       "      <th></th>\n",
       "      <th></th>\n",
       "      <th></th>\n",
       "      <th></th>\n",
       "      <th></th>\n",
       "      <th></th>\n",
       "      <th></th>\n",
       "      <th></th>\n",
       "      <th></th>\n",
       "      <th></th>\n",
       "      <th></th>\n",
       "      <th></th>\n",
       "      <th></th>\n",
       "      <th></th>\n",
       "    </tr>\n",
       "  </thead>\n",
       "  <tbody>\n",
       "    <tr>\n",
       "      <th>f5c2ebc02807a6b3</th>\n",
       "      <td>Innovery, an Italian company delivering IT ser...</td>\n",
       "      <td>Undetermined</td>\n",
       "      <td>1.0</td>\n",
       "      <td>Exploitive</td>\n",
       "      <td>Innovery</td>\n",
       "      <td>Exploitation of Application Server</td>\n",
       "      <td>Financial</td>\n",
       "      <td>1.0</td>\n",
       "      <td>https://www.redhotcyber.com/post/attacco-infor...</td>\n",
       "      <td>ITA</td>\n",
       "      <td>Professional, Scientific, and Technical Services</td>\n",
       "      <td>54.0</td>\n",
       "      <td>inc_cis_13422</td>\n",
       "      <td>2023</td>\n",
       "      <td>9</td>\n",
       "      <td>30</td>\n",
       "      <td>0</td>\n",
       "      <td>1</td>\n",
       "      <td>0</td>\n",
       "      <td>0.00015</td>\n",
       "    </tr>\n",
       "    <tr>\n",
       "      <th>0b7a20f4161d89b2</th>\n",
       "      <td>The ALPHV/BlackCat ransomware gang adds the ho...</td>\n",
       "      <td>ALPHV</td>\n",
       "      <td>1.0</td>\n",
       "      <td>Mixed</td>\n",
       "      <td>Motel One</td>\n",
       "      <td>Data Attack,Undetermined</td>\n",
       "      <td>Financial</td>\n",
       "      <td>1.0</td>\n",
       "      <td>https://securityaffairs.com/151732/cyber-crime...</td>\n",
       "      <td>DEU</td>\n",
       "      <td>Accommodation and Food Services</td>\n",
       "      <td>72.0</td>\n",
       "      <td>inc_cis_13421</td>\n",
       "      <td>2023</td>\n",
       "      <td>9</td>\n",
       "      <td>30</td>\n",
       "      <td>1</td>\n",
       "      <td>1</td>\n",
       "      <td>0</td>\n",
       "      <td>0.00015</td>\n",
       "    </tr>\n",
       "  </tbody>\n",
       "</table>\n",
       "</div>"
      ],
      "text/plain": [
       "                                                  event_description  \\\n",
       "id                                                                    \n",
       "f5c2ebc02807a6b3  Innovery, an Italian company delivering IT ser...   \n",
       "0b7a20f4161d89b2  The ALPHV/BlackCat ransomware gang adds the ho...   \n",
       "\n",
       "                         actor  actor_type  event_type organization  \\\n",
       "id                                                                    \n",
       "f5c2ebc02807a6b3  Undetermined         1.0  Exploitive     Innovery   \n",
       "0b7a20f4161d89b2         ALPHV         1.0       Mixed    Motel One   \n",
       "\n",
       "                                       event_subtype     motive  motive_code  \\\n",
       "id                                                                             \n",
       "f5c2ebc02807a6b3  Exploitation of Application Server  Financial          1.0   \n",
       "0b7a20f4161d89b2            Data Attack,Undetermined  Financial          1.0   \n",
       "\n",
       "                                                       event_source country  \\\n",
       "id                                                                            \n",
       "f5c2ebc02807a6b3  https://www.redhotcyber.com/post/attacco-infor...     ITA   \n",
       "0b7a20f4161d89b2  https://securityaffairs.com/151732/cyber-crime...     DEU   \n",
       "\n",
       "                                                          industry  \\\n",
       "id                                                                   \n",
       "f5c2ebc02807a6b3  Professional, Scientific, and Technical Services   \n",
       "0b7a20f4161d89b2                   Accommodation and Food Services   \n",
       "\n",
       "                  industry_code         dnx_id  year  month  day  Disruptive  \\\n",
       "id                                                                             \n",
       "f5c2ebc02807a6b3           54.0  inc_cis_13422  2023      9   30           0   \n",
       "0b7a20f4161d89b2           72.0  inc_cis_13421  2023      9   30           1   \n",
       "\n",
       "                  Exploitive  Undetermined  organization_freq  \n",
       "id                                                             \n",
       "f5c2ebc02807a6b3           1             0            0.00015  \n",
       "0b7a20f4161d89b2           1             0            0.00015  "
      ]
     },
     "execution_count": 121,
     "metadata": {},
     "output_type": "execute_result"
    }
   ],
   "source": [
    "encoder = OrdinalEncoder()\n",
    "df['actor_type'] = encoder.fit_transform(df[['actor_type']])\n",
    "df.head(2)"
   ]
  },
  {
   "cell_type": "markdown",
   "metadata": {},
   "source": [
    "##### **Actor**\n",
    "\n",
    "Codificamos con label encoding Actor \n",
    "`Actor_encoded` representa el codigo de el individuo o grupo que llevo a cabo el ciberataque"
   ]
  },
  {
   "cell_type": "code",
   "execution_count": 122,
   "metadata": {},
   "outputs": [
    {
     "name": "stdout",
     "output_type": "stream",
     "text": [
      "                          actor  actor_encoded\n",
      "id                                            \n",
      "f5c2ebc02807a6b3   Undetermined           1041\n",
      "0b7a20f4161d89b2          ALPHV             55\n",
      "2e37d07ef6ef3cb6  NoName057(16)            720\n",
      "f8029e6b6169de1f   Undetermined           1041\n",
      "1ed93f0579b9056c          ALPHV             55\n",
      "(13363, 21)\n",
      "Mapping de Actor a Actor Encoded:\n",
      "{'Undetermined': 1041, 'ALPHV': 55, 'NoName057(16)': 720, 'Medusa': 627, 'Ukrainian IT Army': 1038, 'Cl0p': 254, 'Indian Cyber Force': 503, 'CACTUS': 230, 'Lost Trust': 604, 'Dark Angels': 319, 'RansomedVC': 822, 'RansomedVC or MajorNelson?': 823, 'Rhysida': 838, 'ADHD': 52, 'NoEscape': 719, 'Vice Society': 1058, 'Cyber Avengers': 285, '8BASE': 11, 'ThreeAM (AKA 3AM)': 987, 'LockBit 3.0': 596, 'Sylhet Gang': 934, 'Akira': 84, 'NGB 3rd Technical Surveillance Bureau': 690, 'Ransom House': 817, 'Snatch and Nokoyawa': 909, 'Anonymous Sudan': 148, 'ALPHVM': 56, 'Hacktivist Indonesia': 461, 'BianLian': 191, 'USDoD': 1031, 'Ransomed': 821, 'Five Families': 400, 'DataBreaches user \"Mud\"': 329, 'TheSnake': 982, 'victim': 1155, 'Trigona': 997, 'Cyb3r Drag0nz Team': 283, 'Ragnar Locker': 812, 'Scattered Spider AKA UNC3944 and 0ktapus': 872, 'Dunghill Leak': 358, 'Play': 779, 'Desorden': 337, 'GRU 85th Main Special Service Center (Unit 26165) (FANCYBEAR)': 417, 'ShinyHunters': 890, 'Nationalist': 704, 'FSB 18th Center for Information Security (Gamaredon)': 390, 'GhostSec': 432, 'Killnet': 564, 'Two Polish citizens': 1011, 'Cyber Resistance': 292, 'Snatch': 908, 'FocaLeaks': 402, 'NGB 3rd Technical Surveillance Bureau (Kimsuky)': 692, 'Black Basta': 201, 'Bronze Starlight': 224, 'Akihirah': 81, 'ThreatSec': 985, 'Fredens of Security': 412, 'PieWithNothing': 775, 'Islamic Revolutionary Guard Corps (APT 35 Charming Kitten)': 519, 'MoustachedBouncer': 662, 'GRU Main Special Center for Special Technologies (Unit 74455) (SANDWORM)': 418, 'K0LzSec': 545, 'UserSec': 1052, 'Qilin': 800, 'NDT SEC': 689, 'Team R70': 958, 'Lone Wolf': 600, 'Karakurt': 555, 'SiegedSec': 896, 'Cyclops': 305, 'Nulled': 726, 'Clop': 256, 'Collective of religiously and politically motivated hacker': 264, 'D#nut Leaks': 306, 'BlackSuit': 211, 'BrettJS': 222, 'Cyber Partisans': 291, 'KromSec': 571, 'Attackers allegedly affiliated with the Wagner Group': 169, 'BlackBasta': 205, 'REF9134': 806, 'labs666': 1125, 'Turk Hack Team': 1003, 'Black Byte': 202, 'Cyber.Anarchy.Squad': 295, 'UNC4841': 1028, 'LockBit 3.1': 597, 'DarkRace': 324, 'LockBit 3.2': 598, 'LockBit': 594, 'fibonacci': 1118, 'Hive': 479, 'Hacktivists from Ukraine': 462, 'Impotent': 502, 'GhyamSarnegouni (\"Rise to Overthrow\")': 434, 'Monti': 654, 'Royal': 847, 'Daixin': 314, 'BlackByte': 206, 'UNC3944': 1026, 'Nokoyawa': 722, 'BianLain': 190, 'Mango Sandstorm': 621, 'Mint Sandstorm': 647, 'Bl00dy': 196, 'RansomHouse': 819, 'Â\\xa0Islamic Revolutionary Guard Corps (IRGC)': 1160, 'Avos Locker': 174, 'Anonymous (Sudan)': 141, 'Sharpboys': 885, 'UNC4736': 1027, 'Shiny Hunters': 889, 'UAC-0063': 1021, 'CrossLock': 276, 'Money Message': 651, 'Abyss': 71, 'Noname 057(16)': 723, 'TurkHackTeam': 1005, 'D0nut Leaks': 307, 'Threat actors from Russia': 984, 'Stormous': 923, 'pro-Russia Threat Actors': 1139, 'SideCopy APT': 893, 'Chinese Military': 244, 'Phoenix': 772, 'GoatRAT': 438, 'Kernelware': 561, 'SVR (COZYBEAR)': 861, 'YoroTrooper': 1087, 'KalvinSecurity': 549, 'Dark Power': 320, 'IntelBroker': 509, 'SeigedSec': 876, 'RansomEXX': 818, 'Anonymous Sudan (affiliated to Killnet)': 149, 'MedusaLocker': 628, 'UAC-0056': 1020, 'IT Army of Ukraine': 498, '0mega': 1, 'Seize': 877, 'Daixin Team': 315, 'Al-Toufan, or \"The Flood\"': 86, 'DarkBit': 321, \"Ali's Justice (Edalat-e Ali)\": 92, 'Lorenz': 603, 'UAC-0114': 1024, 'UAC-0050': 1019, 'Anonymous Russia': 147, 'Genesis Day': 426, 'BlackCat': 207, \"Xi'an Tianhe Defense Technology, Defense Contractor (APT15)\": 1082, 'LeakBase': 586, \"People's CyberArmy\": 760, 'TimisoaraHackerTeam': 991, 'Kraken': 569, 'Enlace Hacktivist': 371, 'Bear IT Army': 183, 'Calisto': 235, 'TA505': 938, 'Anonymous Cuba': 145, 'Mirai': 648, 'rootkitsecurity': 1144, 'BlueNorff': 216, 'PHOBOS': 739, 'Ryushi': 855, 'STEPPY#KAVACH': 860, 'ITA': 499, 'Moses Staff': 660, 'NLB': 693, 'NLB Team': 694, 'sedut': 1147, 'BlackMagic': 208, 'APT41': 65, 'Lapsus$ gang': 583, 'XakNet': 1081, 'Black Reward': 203, 'LV': 579, 'Russian Hackers Team': 850, 'Belarusian Cyber Partisans': 186, 'Kelvin Security': 558, 'RADIS': 805, 'KillMilk': 563, 'Sawarim': 868, 'Venus': 1056, '0x_dump': 4, 'SchoolBoysGang': 873, 'Russian Cyber Army': 848, 'FSB 18th Center for Information Security (Berserk Bear)': 389, \"Ukraine's IT Army\": 1035, 'Justice Blade': 544, 'APT36': 63, 'TA569': 939, 'Quantum': 801, \"Ministry of State Security's (MSS) (MUSTANG PANDA)\": 642, '@yanluowangleaks': 49, 'Clowns': 258, 'Everest': 380, 'UAC-0132': 1025, 'National Republican Army of Russia': 701, 'Christian Dior': 249, 'Cyber Army': 284, 'Industrial Spy': 506, 'AlTahrea': 87, 'OneFist': 730, 'National Republican Army (NRA)': 700, 'Guacamaya': 450, 'VSOP': 1053, 'Thrax': 983, 'PT_Moisha': 742, 'RaHDIt': 811, 'Anonymous': 112, 'Sparta Blog': 913, 'optusdata': 1133, 'Mysterious Team Bangladesh': 681, 'Ukraine IT Army': 1034, 'TeaPots': 946, 'Haydamaki': 469, 'hdr0': 1121, 'National Security Agency': 702, 'AnonymousX777Z': 153, 'Quilin': 802, 'Bjorka': 195, 'Couple from Vietnam': 272, 'Red Hackers Alliance': 827, 'AgainstTheWest': 77, 'Two individuals': 1015, 'REvil': 807, 'FSB 18thÂ\\xa0Center for Information Security (Berserk Bear)': 393, 'Cuba': 280, '2402team': 8, 'Donut Leaks': 345, 'Zarya': 1089, 'PeopleÃ\\x8ds Cyber Army': 763, 'StudentCyberArmy': 924, 'Cyber Palyanitsa': 290, 'SilverTerrier': 901, 'pompompurin': 1137, 'XJP': 1080, 'Initial access broker (IAB) with ties to the UNC2447 cyber crime gang, Lapsus$ threat actor group, and Yanluowang ransomware operators.': 507, 'ViktorLustig': 1061, 'Adrastea': 75, 'MirrorFace': 649, 'Team OneFist': 954, 'Matrong': 626, 'devil': 1115, 'TA4563': 937, 'TarTarX': 943, 'APT27 (Iron Panda)': 59, 'APT30': 60, \"Ministry of State Security's (MSS) (APT31)\": 641, 'Thailand': 966, 'Altahrea Team': 96, 'Transparent Tribe': 996, 'al-Tahera': 1101, 'Confucius': 267, 'DEV-0586': 312, 'Rektengle': 833, 'Bitter': 194, 'ChinaDan': 243, 'Spid3r': 915, 'ICC_H@ckTeam': 493, 'Cloud Atlas': 257, 'Legion Cyber Spetsnaz': 589, 'Blue Mockingbird': 215, 'DragonForce Malaysia': 352, 'NB65 (AKA Network Battalion 65)': 688, 'DumpForums': 356, \"People's Mujahedin of Iran (MEK)\": 761, 'US Cyber Command': 1029, 'Conti': 270, 'B00daMooda and @DepaixPorteur.': 178, 'Lapsus$': 582, 'APT34': 62, 'Anonymous-DepaixPorteur': 150, 'WIZARD SPIDER': 1068, 'Curious Gorge': 281, 'Ghostwriter': 433, 'FSB 18th\\xa0Center for Information Security (Berserk Bear)': 391, 'UAC-0098': 1023, 'Hackers of Savior': 460, 'NB65': 687, 'UAC-0097': 1022, 'UAC-0041': 1018, 'The Black Rabbit World': 969, 'LOSPELAOSBRO': 578, 'GOLD DUPONT': 416, 'Twister Canyon': 1009, \"Ministry of State Security's (MSS) Tianjin State Security Department (APT10)\": 646, 'N4ughtysecTU': 686, 'AvosLocker': 175, 'Vermin': 1057, 'Spielerkid89': 917, 'RIAEvangelist': 808, 'Data': 328, 'Dragonfly': 353, 'IRIDIUM': 497, 'GURMO': 420, 'AgainstTheWest\" (ATW)': 78, 'v0g3lSec': 1154, 'Stonefly': 922, 'Agrius APT': 79, 'LockBit 2.0': 595, 'theMx0nday': 1151, 'Lapsu$': 581, 'Pandora': 751, 'SunCrypt': 930, 'Adalat Ali': 74, \"People's Mujahideen Organization of Iran (PMOI)\": 762, 'Uawrongteam': 1032, 'Sharp Boys': 884, 'Evil Corp': 381, 'Wealth Squad Chris': 1072, 'Arvin Club': 164, 'Belarus Cyber-Partisans': 185, 'BlueNoroff': 217, 'netsaosa': 1131, 'Bl@ckt0r': 200, 'BlackShadow': 210, 'PayorGrief': 755, 'Team HDP': 951, 'Groove': 448, 'Cursed Patriarch': 282, 'RootAyyildiz': 844, 'DeepBlueMagic': 331, 'TAG-38': 941, 'AnibaLeaks': 103, 'CoomingProject': 271, 'Colossus': 265, 'BlackMatter': 209, 'ALTDOS': 57, 'AristoK3': 162, 'Meris Botnet': 631, 'Sangkancil': 865, 'Pysa': 798, 'Calypso': 236, 'DEV-0056': 310, 'Sprite Spider': 918, 'Philippine Army': 769, 'Babuk': 181, 'Kiprop': 567, 'HelloKitty': 473, 'DEV-0228': 311, 'DragonForce': 351, 'U.S. Justice Department': 1017, 'Kimsuky': 566, 'Prometheus': 791, 'EpsilonRed': 372, 'PayOrG': 754, 'Grief': 447, 'Avaddon': 172, 'Xing Team': 1084, 'DarkSide': 325, 'Meowless': 630, 'N3TW0RM': 684, 'Astro Team': 168, 'DoppelPaymer': 346, 'INDRIK SPIDER': 496, 'Ragnarok': 813, 'John Doe': 537, 'holo-gfx': 1123, 'Vanda The God': 1054, \"Ministry of State Security's (MSS) Hainan State Security Department (APT40)\": 644, 'Laura Rose Carroll': 584, 'L0RDBR': 576, 'Water Roc': 1070, 'Red Echo': 826, 'IamNoobie': 500, 'PLA Unit\\xa069010 (Wicked PANDA)': 741, 'JAx': 528, 'TAG-28': 940, 'Hotarus Corp': 486, 'FIN11': 385, 'Egregor': 367, 'Myanmar Hackers': 678, \"Democratic People's Republic of Korea\": 333, 'Red Rabbit Team': 829, 'Hayalim Almonim': 468, 'Earth Longzhi': 361, 'Lebanese Cedar': 587, 'DeroHE': 335, 'Mount Locker': 661, 'State Department employee': 919, 'Crash Override': 274, 'Stephen Godlett': 921, 'Ticketmaster': 989, 'Spiderz': 916, 'Pay2Key': 753, 'Anka Neferler Timi': 104, 'United Arab Emirates': 1044, 'Zeppelin': 1091, 'Brian Noe': 223, 'NetWalker': 708, 'Ryan S. Hernandez AKA Ryan West AKA RyanRocks': 853, 'Sidewinder': 894, 'Gionee': 435, 'Richard Edmunds': 839, 'Daniel': 317, 'Two Sherman High School students': 1012, 'Volodymyr Kvashuk': 1065, 'Ranzy Locker': 824, 'MAZE': 611, 'United Microelectronics Corporation': 1047, 'Unnamed Fort Zumwalt School District student': 1051, 'Ameer Elashmawy': 98, 'Unnamed Amazon employee': 1049, 'Absa employee': 70, 'Jennifer Lennell Small': 536, 'Eris Loris': 374, 'Ransom_Man': 820, 'Hector Navarro': 471, 'Silent Librarian': 899, 'Mespinoza': 632, 'Five Hennepin HealthCare employees': 401, 'Beenu Arora': 184, 'Spectre123': 914, 'Scott Ainge': 874, '@aparich95406002': 35, 'Michael Westbury': 636, 'Fullz House': 415, 'Richard Liriano': 840, 'James Willy': 531, 'River City Bank employee': 841, 'Two \"rogue\" Shopify employees': 1010, 'Former Montefiore Medical Center employee': 407, 'Unnamed Australian contractor': 1050, 'Former Geisinger Berwick employee': 406, '13-year-old Benjamin Franklin Middle School student': 5, 'Malsmoke': 619, 'Jamie Stephanie Guilford': 533, 'Nigerian Individuals': 717, 'John Wick (AKA Korean Hackers)': 538, 'Ibraheem Ahmed Al Bayati': 501, 'Egor Igorevich Kriuchkov': 366, 'Sudhish Kasaba Ramesh': 926, '15-year old Merseyside boy': 6, 'CCP Unmasked': 231, \"Former Rezzan GÃ\\x83Æ\\x92Ã\\x86'Ã\\x83â\\x80\\xa0'Ã\\x83Æ\\x92'Ã\\x83â\\x80\\xa0'Ã\\x83Æ\\x92Ã\\x86''Ã\\x83Æ\\x92'Ã\\x83'Ã\\x82Â¼nday (?im?ek Pharmacy) employee\": 408, 'Renauld Clayton': 834, 'Fuhrpark Service transport fleet': 414, 'Former Ashley County Medical Center employee': 405, 'Trina Chu': 998, 'Indian hackers': 504, 'RedDelta': 830, 'Sawfish': 869, 'Graham Ivan Clark': 442, 'Ghost Squad': 430, 'Jamescarter': 532, 'LulzSecITA': 608, 'NightLion': 718, 'Magadimarus': 616, 'Sheriff': 886, 'Homeland Cheetahs': 483, 'Christopher Dobbins': 251, 'Kerala Cyber Hackers': 560, 'Anonymous (Brazil)': 116, 'Osiris banking Trojan': 735, 'Shandra Gilles': 883, 'United Kingdom': 1046, 'Pinoy Grayhats': 777, 'Anonymous (USA)': 143, 'm1x': 1126, 'R3dr0x': 804, 'EKANS (SNAKE)': 360, 'Sekhmet': 878, 'Toogod': 995, 'Greenbug': 445, 'APT23': 58, 'AKO': 53, 'ProLock': 787, 'Powerful Greek Army': 781, 'Israel': 526, 'DonJuji': 344, 'catz': 1109, 'Light': 591, 'THE0TIME': 942, 'APT32': 61, 'Desmond Babloo Singh': 336, 'Satan': 866, 'Protag': 793, 'NN Hacking Group': 695, 'Gordon Welterlen; Nicole Milan': 441, 'Christopher Dobbines': 250, 'Bassterlord': 182, 'Palesa': 749, 'DarkHotel': 322, 'Digital Revolution': 341, 'Syrian Electronic Army': 936, 'PwndLocker': 795, 'Digileaker': 340, 'Lynx': 610, 'Hamas': 464, 'OurMine': 737, 'Saudi Arabia': 867, 'Tick': 988, 'Anonymous (Greece)': 124, \"Phoenix's Helmets (Anka Neferler Tim)\": 773, 'Omnichorus': 729, 'Anonymous (Iran)': 125, 'Iranian Nasr Institute (APT33)': 513, 'Iranian hacker': 514, 'Shield Iran': 887, 'Iran Cyber Security Group Hackers': 512, 'Chuckling Squad': 253, \"BigBrother's Gaze\": 192, 'Rancor': 816, 'FIN8': 387, 'FIN7': 386, 'Phineas Fisher': 770, 'DarkSly': 326, 'Lizard Squad': 593, 'Anonymous (Italy)': 127, 'National Security Service Unit 02616': 703, 'Shadow Kill Hackers': 881, 'Pakistan': 745, 'InstaKilla': 508, 'Nathan': 697, \"Ministry of State Security's (MSS) Jinan State Security Department (APT17)\": 645, 'Gnosticplayers': 437, 'UkDrillas': 1033, 'fallensky519': 1117, 'Mamad Warning': 620, 'VandaTheGod': 1055, 'Raidforums': 814, 'Muhammad Fahd': 672, 'Machete': 614, 'Paige Thompson': 743, 'New World Order': 713, 'Intrusion Truth': 510, 'Israeli Elite Force (IEF)': 527, 'Kristian Boykov': 570, 'Ov1ru$': 738, 'Buhtrap': 226, 'Silence Group': 897, 'Western intelligence': 1074, 'Central Intelligence Agency': 239, 'Ayy?ld?z Tim': 176, 'Lab Dookhtegan': 580, 'Boris Bullet-Dodger': 218, 'US Navy': 1030, 'Attackers from China': 170, 'Green Leakers': 444, 'Unistellar': 1043, 'LulzSecITA; Anonymous (Italy)': 609, 'Two Unnamed Brazilian Hackers': 1014, 'N33LOB33': 683, 'Togo': 994, 'Individual': 505, 'Ministry of Intelligence': 638, 'APT39': 64, 'WINDSHIFT': 1067, 'Faisal 1337': 395, 'Team I Crew': 952, 'The Dark Overlord': 971, 'boredbloke': 1108, 'Former WPML Employee': 409, 'Chinese Strategic Support Force (SSF)': 245, '@kitlol5': 42, 'FSB 18th\\xa0Center for Information Security (Berserk Bear); GRU Unit 26165 (FANCY BEAR)': 392, 'Nicholas Truglia': 714, 'Snake': 907, 'White Company': 1075, 'Erwincho': 375, 'AnonPlus': 109, 'Colbi Trent Defiore': 262, 'CyberSecurity & Intelligence (CSI)': 300, 'baidu3250617231': 1105, 'aabbccddeefg': 1098, 'runningsnail': 1145, 'rogue0': 1143, 'Fatal Error': 397, 'Carbanak': 237, '@joshua': 41, 'L.M.': 575, 'Anonymous (Catalonia)': 117, 'booloop': 1107, '@fs0c131y': 37, 'DarkHydrus': 323, 'Dohaeragon': 343, 'Coaches for the football team at Braden River': 260, 'Shadow Brokers': 880, 'MoneyTaker': 652, 'Turksiberkarargh': 1008, 'Apophis Squad': 159, 'KINGDOM': 546, 'Todd Davis aka Lifelock': 993, 'IsHaKdZ': 516, 'Two unidentified students': 1016, 'Connor Freeman': 269, 'Akincilar': 83, 'Hunter butt': 489, 'Prosox Shade': 792, 'HighTech Brazil Hackteam': 475, 'AnoaGhost': 105, \"Kuroi'SH; Prosox\": 573, 'Suspected Chinese hackers': 932, 'Fredrick Lapointe; Rath Pak; Jimmy Saintelien': 413, 'JokerStash AKA Fin7 AKA Carbanak': 540, 'herbapproach@protonmail.com': 1122, \"Xi'an Tianhe Defense Technology, Defense Contrator (APT15)\": 1083, '$2a$45': 0, 'rmsrf': 1142, 'Dutch AIVD': 359, '@0x55Taylor': 14, 'Central Scientific Institute of Chemistry and Mechanics': 240, 'Le Duc Hoang Hai': 585, 'Dfrank': 339, \"Ministry of State Security's (MSS) Guangdong State Security Department (GSSD) (APT3)\": 643, 'Daeshgram': 313, 'Team System DZ': 959, 'Akincila': 82, 'n3tr1x; str0ng': 1128, 'Cru3lty': 277, 'Mat AKA @0xScripts': 625, 'Wild Neutron': 1076, 'ALF': 54, 'Aslan Neferler Tim': 167, '31337': 9, 'Turkish hackers': 1007, 'The Binary Guardians': 968, 'Ne0-H4ck3r': 705, '@headassgang': 40, 'chikri95': 1110, 'Logan': 599, 'CyberTeam': 301, 'Vigilance': 1059, 'Panama': 750, 'MoRo': 650, 'Chris Hutcheson': 248, 'nclay': 1130, 'TuftsLeaks': 1001, 'Evaldas Rimasauskas': 379, 'Tsar Team': 1000, 'WauchulaGhost': 1071, 'Zhengquan Zhang': 1093, 'Janitor': 534, 'Rekan Herror': 832, \"Ministry of State Security's (MSS) (APT19)\": 640, 'Berkut': 189, 'Pro_Mast3r': 788, \"Kuroi'SH\": 572, 'zerodark70': 1159, 'Fallaga Team': 396, 'A hacker(s) claiming to be affiliated with Anonymous': 50, 'Chipher0007': 246, 'Four Teenagers': 410, 'Sc0rp10nGh0s7': 871, 'Kapustkiy': 551, 'Giulio Occhionero; Francesca Maria Occhionero': 436, 'Cyberwolfgang': 304, 'CyberZeist': 303, 'Gh0s7': 428, 'Shin0bi_H4x0r': 888, 'Kapustkiy; Cryptolulz666': 552, 'Cryptolulz666; EvoIsGod': 279, 'Phantom Squad; @cripthepoodle': 767, 'Team Pak Cyber Attacker': 955, 'R.I.U. Star Patrol': 803, 'Cryptolulz666': 278, 'Kelvin Onaghinor': 557, 'Phantom Squad': 766, 'GRU Unit 74455 (SANDWORM)': 419, 'Legion': 588, 'Kapustkiy; Kasimierz L': 554, 'Jonathan Ly': 541, 'AppState Leaks': 160, 'Football Leaks': 404, 'cryptom27': 1112, 'Group_Dmar': 449, 'Kapustkiy; CyberZeist': 553, 'Amn3s1a Team': 99, 'N.T.R.': 682, 'Anthony Clark': 154, 'ElSurveillance': 368, 'vimproducts': 1156, 'Jonathan Powell': 542, 'United Cyber Caliphate': 1045, 'Anonymous (Poland)': 134, 'CyberHunta': 299, 'Three Dutch hackers named Edwin, Mattijs and Victor': 986, 'Syrian Cyber Army': 935, 'Peace': 756, 'Revolver AKA 1x0123': 836, 'SCUWatch': 856, '0x2Taylor': 3, 'Odinaff group': 728, 'Peace AKA Peace_Of_Mind': 757, 'Websites Hunter': 1073, 'Russian hackers': 851, 'pr0jekkt': 1138, 'Nathan Wyatt AKA Crafty Cockney': 699, 'RedHack': 831, 'Monte Melkonian Cyber Army (MMCA)': 653, \"Bundeswehr's Computer Network Operations Unit (CNO)\": 228, 'DC Leaks': 308, 'PoodleCorp': 780, 'MuslimLeets (aka Muj4hida)': 677, 'B0yzTeam': 179, 'DayKalif': 330, 'Unknown Nigerian attackers': 1048, 'Myrotvorets': 679, 'Spain Squad': 912, 'Anti-Armenia Team': 157, 'Expl.oit AKA Exploit': 384, 'Return': 835, 'Anonymous (Italia); Antisec-Italia': 126, 'New World Hackers (NWH)': 710, 'Intsights': 511, 'Rocket Kitten': 842, 'Pravyy Sector': 783, 'PeggleCrew': 758, 'Zurael_sTz': 1095, 'Afzal Faizal': 76, 'Anonymous (Czech Republic); Anonymous (Slovakia)': 120, 'Guccifer 2.0': 451, 'SonnySpooks': 911, 'uid0': 1152, 'JokerStash': 539, 'aLem!': 1097, 'hackermanfrisch': 1120, '@Lid': 25, 'Nofawkx-al; Kkuq e zi': 721, 'Anonymous Legion': 146, 'nofawkX-al': 1132, 'Red Hell Sofyan': 828, 'bRpsd': 1104, 'Union of Hacktivists': 1042, '1x0123': 7, 'SkyNetCentral': 905, 'Anonymous (Africa)': 113, 'Romantic; Intruder': 843, '@2aiden3': 15, 'Tessa88': 964, 'Ghost Squad Hackers': 431, '@FkPoliceAnonOps': 19, '@sw@ylol': 46, 'World Hacker Team': 1077, 'Tiger Mate': 990, 'MuhmadEmad': 673, 'Caliphate Cyber Army': 234, 'Attackers from three countries including Saudi Arabia': 171, 'Amar^SHG': 97, 'Azmeth': 177, 'Bozkurtlar': 219, 'Anonymous; Ghost Squad': 152, 'shenfenzheng': 1148, 'Team Pak Cyber Lions': 957, '@TehBVM': 29, 'Anonymous (Kenya)': 128, 'Berkshire Hathaway Homestate; Cypress Insurance; Zenith Insurance': 188, 'sn0n': 1149, 'The Real Deal': 978, 'TheFamily': 979, 'Pyopz': 797, 'Cyber Justice Team': 289, 'r3dm0v3': 1140, 'RyanDa1338': 854, 'TheNeoBoss': 981, '@gift2death': 38, 'Anonymous (Portugal)': 135, 'Andrew \"Weev\" Auernheimer': 101, 'LulzSec Pilipinas': 607, 'Anonymous (Corrupt)': 119, 'KarmaSec': 556, 'NSHC': 696, 'Metropolis': 633, 'New World Hackers group (NWH)': 711, 'Islamic State': 524, '@0x1Taylor': 13, '@TheFamilyMethod': 30, 'TeaMp0isoN': 945, 'Truthsec': 999, 'AhmetU': 80, 'Qadmon (or Kadimon)': 799, 'Bravewanderer': 220, 'Team Fursec': 950, 'af,': 1100, 'ROR[RG]': 810, 'Tobitow': 992, 'Chilean hackers': 242, 'Hanom1960; Chilean Hackers; Hazzard': 467, 'Penis AKA @DotGovs': 759, 'Hanom1960': 465, 'Blink Hacker Group': 213, 'Christopher Taylor': 252, 'Anonsec': 111, 'Hanom1960 AKA @hanomlulzsec': 466, 'Anonymous (Conservative)': 118, 'Gensu & Turkhackteam': 427, 'Lorde Bashtien': 601, '@ciadotgov': 36, 'Black-Spy': 204, 'Crazy-3r3r': 275, 'WKPF': 1069, 'Islamic State Hacker': 525, 'Fearz': 398, 'Crackas With Attitude': 273, 'W0rm': 1066, 'Fr0mShell': 411, 'IBH (Indian Black Hats)': 492, 'Anonymous (Nigeria)': 130, 'GeNiuS-JorDan': 425, 'Sc0rp!n Att@ck3r from Muslim Cyber Army': 870, 'New World Hacktivists (NWH)': 712, 'Mexican drug cartels': 634, 'Mr 4nOnymOus (part of 034th adr355 Cr3w)': 663, 'Anonymous (Rabaa Team)': 139, 'C0d3c1t4d3l': 229, 'g0tchack': 1119, 'Islamic Cyber Army': 517, 'ProjectDump': 790, 'Armada Collective': 163, 'Smitt3nz AKA Rubber': 906, 'GrenXPaRTa': 446, 'ap3x h4x0r': 1102, 'Muslim Electronic Army': 676, 'Pakistani Cyber Attackers': 747, 'Multiple Pakistani hacking groups': 675, 'Hacker Buba': 459, 'NetPirates AKA @TheNetShip': 707, 'Orion': 734, 'A. S. A. L. A.': 51, 'Eggfather': 365, 'His Royal Gingerness': 476, 'KelvinSecTeam': 559, 'CocaineSecurity': 261, 'Coldzer0': 263, 'Stealth Falcon': 920, 'Virushacker': 1064, 'Photon AKA @PhotonicProton': 774, 'mr.nsaany': 1127, 'NetherlandsMoDz': 709, 'Anonymous (Lebanon)': 129, 'Anonymous (R4BIA TEAM)': 138, 'Amped Attacks AKA sgtbilko420': 100, 'Team Pak Cyber Experts': 956, 'ph1k3': 1136, 'Abdellah Elmaghribi': 67, 'Anonymous (Belgium)': 115, '@HTGzSecurity': 22, 'Sally-Anne Jones (Umm Hussain Britaniya)': 864, 'Comcastkids': 266, 'sup3rm4n; j0shua3w': 1150, 'Th3 Ap3x': 965, 'Anoncoders': 110, 'Hell Shield Hackers': 472, 'SuperExtremeShitpostingTeam': 931, 'Exfocus': 383, '0x0D1337': 2, 'Ghost Italy': 429, 'Hack for Trump': 458, 'ElliotAlderson': 370, 'Horux': 485, 'Kyfx': 574, 'Cyber-71': 294, '@n0w1337': 43, 'Prince AKA @n0w1337': 785, 'Elite Islamic State Hackers': 369, 'ConnectingFriend; KheXan rOot': 268, 'Moroccanwolf': 659, 'JM511': 529, 'Mr.Xpr!': 667, 'Pinoy LulzSec; Elite Cyber Security; MCA and PHU DDOS Squad': 778, 'Clinkz48': 255, 'RootDevilz; Jonturk75; Bozkurt97': 845, '@DadSecurity': 18, 'Avian; Nepal Cyber Army': 173, 'Mr.H4rD3n': 664, 'MexicanH Team': 635, '@JM511': 24, 'SENAIN': 858, 'Brenda': 221, 'l1kw1d': 1124, 'Dr.MwNs': 349, 'Telecomix Canada': 963, 'Opheus Haxor': 732, 'VikingDom2016': 1060, 'The Exploit3rs': 972, '@NightmareSquad': 26, 'DetoxRansome': 338, 'FireHack': 399, 'The Impact Team': 974, 'Rex Mundi': 837, \"Blacksmith Hacker's Team\": 212, 'AnonGhost': 107, 'austinsimon864': 1103, 'cybervor': 1113, 'Lov3rDns': 605, 'AlfabetoVirtual': 89, 'Cyber Islamic State': 288, 'The Cyber Army of the Khilafah': 970, 'DangerPro': 316, 'Hufflepuff': 488, 'AnonOpsIndia': 108, 'savaka': 1146, 'Phenomene Dz': 768, '@TheNetShip': 31, 'Middle East Cyber Army': 637, 'Team Unknown': 960, 'Mufasa': 669, 'yPeRtRoN': 1158, 'Mak Man': 617, 'Daniel Soares; Alex Mosquera; Erick Vaysman': 318, 'Galvanize Mob': 421, 'Dr.SHA6H': 350, 'Moroccan Islamic Union-Mail': 657, '@rmsg0d': 44, 'AnonCoder': 106, '@TorProdigy': 33, 'Moroccan Revolution Team': 658, 'Yemen Cyber Army': 1086, 'H1d3n Root': 452, 'CyberBloc': 297, 'Pr0digy': 782, 'Gantengers Crew': 422, 'Fokinz': 403, 'RxR HaCker': 852, 'ProtoWave': 794, 'Hagash Team': 463, 'HolaKo': 482, '@Compl3x1ty': 17, 'RIPPRGANG; Autismsquad': 809, 'Angel_Of_Truth': 102, '@Apex_Haxor': 16, 'Chief AKA @Puttied': 241, 'Ne0-h4ck3r; TiGER-M@TE; F0RTYS3V3N': 706, 'Linker Squad': 592, 'Gaza Team': 424, 'Eddie Raymond Tipton': 363, '@THTHerakles': 28, 'Anonymous (Quebec)': 137, 'Anonymous (Globo)': 123, 'Abdellah Elmaghribi; Moroccan Wolf': 68, 'Anonymous (Arab)': 114, 'Anonymous; AnonGhost': 151, 'Cyber Freedom': 286, 'SkYz0': 904, 'Team Bad Dream': 947, 'Algerian Mujahideen': 90, 'Histeria': 477, 'Nigerian Cyber Army': 715, '@YourVikingdom2015': 34, 'Ebu Duhan': 362, 'bluebunny14': 1106, 'Ouch': 736, 'Chrichir': 247, 'Alex Van Handle': 88, 'Bitcoin Baron': 193, 'FRID4Y': 388, 'CyberBerkut': 296, 'Sinister': 903, 'Teams Hans': 962, 'f AKA @Cleaver': 1116, 'Dump Phenom': 355, 'Eric Walstrom': 373, 'Sudoh4k3rs': 927, '@ThySavi0r; @anonf8': 32, 'Oppressed Defenders': 733, 'LNO uNiTy': 577, '@GroundingPlanes; @Guidelines': 21, 'Bl4CKJ0K3R': 197, 'abdilo': 1099, 'OpSeaWorld': 731, 'CyberCaliphate': 298, '3xp1r3 Cyber Army': 10, 'Zyklon': 1096, 'Denarius': 334, 'xaxaxax': 1157, 'Anonymous (Philippines)': 133, 'p0lak; sh0utz': 1135, 'Bloodsec International': 214, 'Moroccan Hassan': 656, 'Anonymous (Protection)': 136, '@IncursioSubter': 23, 'Mastermind': 624, 'Carbonic AKA @MarxistAttorney': 238, 'Alsancak Tim': 95, 'Team Muslim Cyberforce': 953, 'p0lak & sh0utz': 1134, 'Dorking92': 347, 'Cyber Haxors Group': 287, \"Silent Hacker's Group\": 898, 'X-saad': 1078, 'Ulzr1z': 1040, 'MuhmadEmad; Anonymous (Kurdistan)': 674, '@ulzr1z': 48, 'Darkshadow': 327, 'Kami Haxor': 550, 'Z Company Hacking Crew': 1088, '@security_511': 45, 'Arab Warriors Team': 161, 'Virkid': 1062, 'Bl@Ck Dr@GoN': 198, 'Serbian Hackers': 879, 'IAMLUPO': 491, 'Team Danny': 949, 'Kai-H4xOrR': 547, 'Alicenorin': 93, 'HaX0r Beast Prayer': 457, 'The Mallu Soldiers': 977, 'Zukr@in': 1094, 'Kai-H4xOrR; Shell Haxor': 548, 'MaDLeeTs': 612, 'ManiAc Naiem': 622, 'Nathan Leroux; Sanadodeh Nesheiwat; David Pokora; Austin Alcala;': 698, 'The Lizard Squad': 976, '@h1v3team': 39, 'Anonymous (Romania)': 140, 'The Knowns': 975, 'Ashiyane Digital Security Team': 166, 'Ali El Top': 91, 'Jeffrey': 535, 'Sdambasha': 875, 'Anonymous (Pakistan)': 132, 'Pak Cyber Eaglez': 744, 'ASOR Hack Team': 66, 'RawShark': 825, 'Essaji': 376, 'MaeSTro-GhoL': 615, 'Sahoo': 863, 'Eg-R1z': 364, 'Nigerian Cyber Hunters': 716, 'Muhammad Bilalhas': 671, 'SaLeM': 862, 'Rajol Hazin': 815, 'Bundesnachrichtendienst': 227, 'Mr.Rocky; Mr.Slyman': 665, 'Shaltai Boltai': 882, 'PhineasFisher': 771, 'Paw Security': 752, 'CoMoDo': 259, 'Islamic Cyber Resistance': 518, 'Turk Guvengligi': 1002, 'Kim Jong-Cracks': 565, 'Pernicious Developers': 765, 'Al-Qassam Brigades': 85, 'PLA Unit 61398 (COMMENTCREW)': 740, 'Su Bin': 925, 'Anonymous (Norway)': 131, 'Sum Guy': 929, 'Green Dragon Crew': 443, 'VirtuaL DARKWAR2': 1063, 'Pakistan Haxors Crew': 746, 'Swan': 933, 'Anonymous (Denmark)': 121, 'The BLuE': 967, 'Hmei7': 480, 'H4$N4!N H4XOR': 453, 'Anti Mortadin!@': 155, 'rOOX': 1141, 'Jose Bautista': 543, 'The GreaT Team': 973, 'Libyan Cyber Army': 590, 'Bl@Ck Dr@GoN; Haxor T0du; Spider64': 199, 'NullCrew': 724, 'H4x0r10ux m1nd': 455, 'Muhammad Bilal': 670, 'SE2mhZVVY7HF4VEV0cOH': 857, 'Buddhax': 225, 'Godzilla': 439, 'Zer0Pwn': 1092, 'MrNervous': 668, 'NullCrew; TheHorseMenLulz': 725, 'ProbablyOnion': 789, 'Mark Nsd': 623, 'YMH': 1085, 'Shmook Amer; Dr.Hjd': 891, 'Anonymous (Ecuador)': 122, 'SEO': 859, 'Team Cyber Criminals': 948, 'Russian Cyber Command': 849, 'Two Students': 1013, '@Rucyborg': 27, 'Mormoroth': 655, 'Eugene Belford': 378, 'DeleteSec': 332, 'Turkish Ajan': 1006, 'Zcompany Hacking Crew': 1090, '@th3inf1d3l': 47, 'LulzSec (Peru)': 606, 'Anonymous (Ukraine)': 144, 'nairb': 1129, 'Anonymous (Syria)': 142, '@G3NTbl4ck': 20, 'Ethical Spectrum': 377, 'TheHorsemen': 980, 'Anti WMD Team': 156, 'Dr.3v1l': 348, 'Huawei': 487, 'MaXiMiZerS': 613, 'Pinoy Anonymouz': 776, 'Ukranian Svoboda Party': 1039, 'Ashik Iqbal Chy': 165, 'Sultan Haikal; Gantengers Crew': 928, 'TeamBerserk': 961, 'TurkGuvenligi': 1004, 'Hmei7; SultanHaikal': 481, 'TeaM MaDLeeTs': 944, 'ObeySec': 727, 'H4x0r HuSsY': 454, 'Mr.Xhat': 666, 'HitlerSec': 478, 'DERP Trolling': 309, 'Evil Shadow Team': 382, 'Pakiz Cyber Squad': 748, 'Belarusian Cyber-Partisans': 187, 'INC Ransom': 495, 'Irleaks': 515, 'Cactus': 233, 'Islamic Revolutionary Guard Corps (IRGC)': 521, 'Perell': 764, 'Homeland Justice': 484, 'BLACKJACK': 180, 'Predatory Sparrow': 784, 'Sidewinder (a.k.a. Rattlesnake, BabyElephant, APT Q4, APT Q39, Hardcore Nationalist, HN2, RAZOR Tiger, and GroupA21)': 895, 'Ministry of Intelligence and Security (MOIS) (APT 34 OilRig)': 639, 'Gaza Cybergang': 423, 'Hunters International': 490, 'Meow': 629, \"Ukraine's defense intelligence directorate (GUR)\": 1036, 'Knight': 568, 'cl0p': 1111, 'HelloKitty?': 474, 'Malek Team': 618, 'Cyber Toufan': 293, 'JackieChan/USInfoSearch': 530, 'CyberToufan': 302, \"Ukraine's intelligence service\": 1037, 'XDSpy': 1079, 'INC': 494, 'Dnacookies': 342, 'N4ughtySecTU Group': 685, '8Base': 12, 'FahriDinerPlume and Panic': 394, 'Abnaa AlSaada': 69, 'Alpha Team': 94, 'Actor231004': 73, 'Actor230830': 72, \"Silent Ransom Group' (SRG) and 'Luna Moth'\": 900, 'SideCopy (APT36)': 892, 'Apathy': 158, 'SingularityMD': 902, 'Pwned': 796, 'Lorentz': 602, 'Soldiers of Solomon': 910, 'NGB 3rd Technical Surveillance Bureau (BlueNorff)': 691, 'DuckTail': 354, 'Islamic Revolutionary Guard Corps (IRGC) (Imperial Kitten)': 523, 'Islamic Revolutionary Guard Corps (IRGC) (Agonizing Serpents)': 522, 'DumpForums and Ukrainian Cyber Alliance': 357, 'Rorschach': 846, 'Mysterious Team': 680, 'CYBER ERROR SYSTEM': 232, 'Islamic Revolutionary Guard Corps (CyberAv3ngers)': 520, 'KibOrg and NLB': 562, \"desserped'\": 1114, 'HAMAS': 456, 'Pro-Palestinian': 786, 'Hdr0': 470, 'Golem': 440, 'uid=0': 1153}\n",
      "                               actor  actor_encoded\n",
      "id                                                 \n",
      "f5c2ebc02807a6b3        Undetermined           1041\n",
      "0b7a20f4161d89b2               ALPHV             55\n",
      "2e37d07ef6ef3cb6       NoName057(16)            720\n",
      "6bad38f58fd34e9c              Medusa            627\n",
      "833ecf82fce5a702   Ukrainian IT Army           1038\n",
      "38e814af05b3a9e8                Cl0p            254\n",
      "f898a7ee0a7ed57b  Indian Cyber Force            503\n",
      "42d7bfe654cd3225              CACTUS            230\n",
      "15a93af6ad08b7ab          Lost Trust            604\n",
      "5b4841654d57e9eb         Dark Angels            319\n"
     ]
    }
   ],
   "source": [
    "# Codificación de actor\n",
    "\n",
    "# Label Encoding\n",
    "df['actor_encoded'] = df['actor'].astype('category').cat.codes\n",
    "\n",
    "# Verificar los valores codificados\n",
    "print(df[['actor', 'actor_encoded']].head())\n",
    "\n",
    "print (df.shape)\n",
    "\n",
    "# Verificar si los valores en 'actor_encoded' corresponden a los de 'actor'\n",
    "actor_mapping = dict(zip(df['actor'], df['actor_encoded']))\n",
    "print(\"Mapping de Actor a Actor Encoded:\")\n",
    "print(actor_mapping)\n",
    "\n",
    "# Verificar ejemplos específicos\n",
    "print(df[['actor', 'actor_encoded']].drop_duplicates().head(10))  # Comparar valores únicos\n"
   ]
  },
  {
   "cell_type": "markdown",
   "metadata": {},
   "source": [
    "#### Tratamiento de variables continuas.\n",
    "Para el modelo de clasificación debemos de pasar todas las columnas a tipo `int`. Por ello, debemos de ver si realizar como en el caso anterior una codificación ordinal o agruparlos."
   ]
  },
  {
   "cell_type": "code",
   "execution_count": 123,
   "metadata": {},
   "outputs": [
    {
     "data": {
      "text/html": [
       "<div>\n",
       "<style scoped>\n",
       "    .dataframe tbody tr th:only-of-type {\n",
       "        vertical-align: middle;\n",
       "    }\n",
       "\n",
       "    .dataframe tbody tr th {\n",
       "        vertical-align: top;\n",
       "    }\n",
       "\n",
       "    .dataframe thead th {\n",
       "        text-align: right;\n",
       "    }\n",
       "</style>\n",
       "<table border=\"1\" class=\"dataframe\">\n",
       "  <thead>\n",
       "    <tr style=\"text-align: right;\">\n",
       "      <th></th>\n",
       "      <th>event_description</th>\n",
       "      <th>actor</th>\n",
       "      <th>organization</th>\n",
       "      <th>event_subtype</th>\n",
       "      <th>event_source</th>\n",
       "      <th>country</th>\n",
       "      <th>industry_code</th>\n",
       "      <th>dnx_id</th>\n",
       "      <th>year</th>\n",
       "      <th>month</th>\n",
       "      <th>day</th>\n",
       "    </tr>\n",
       "    <tr>\n",
       "      <th>id</th>\n",
       "      <th></th>\n",
       "      <th></th>\n",
       "      <th></th>\n",
       "      <th></th>\n",
       "      <th></th>\n",
       "      <th></th>\n",
       "      <th></th>\n",
       "      <th></th>\n",
       "      <th></th>\n",
       "      <th></th>\n",
       "      <th></th>\n",
       "    </tr>\n",
       "  </thead>\n",
       "  <tbody>\n",
       "    <tr>\n",
       "      <th>f5c2ebc02807a6b3</th>\n",
       "      <td>Innovery, an Italian company delivering IT ser...</td>\n",
       "      <td>Undetermined</td>\n",
       "      <td>Innovery</td>\n",
       "      <td>Exploitation of Application Server</td>\n",
       "      <td>https://www.redhotcyber.com/post/attacco-infor...</td>\n",
       "      <td>ITA</td>\n",
       "      <td>54.0</td>\n",
       "      <td>inc_cis_13422</td>\n",
       "      <td>2023</td>\n",
       "      <td>9</td>\n",
       "      <td>30</td>\n",
       "    </tr>\n",
       "    <tr>\n",
       "      <th>0b7a20f4161d89b2</th>\n",
       "      <td>The ALPHV/BlackCat ransomware gang adds the ho...</td>\n",
       "      <td>ALPHV</td>\n",
       "      <td>Motel One</td>\n",
       "      <td>Data Attack,Undetermined</td>\n",
       "      <td>https://securityaffairs.com/151732/cyber-crime...</td>\n",
       "      <td>DEU</td>\n",
       "      <td>72.0</td>\n",
       "      <td>inc_cis_13421</td>\n",
       "      <td>2023</td>\n",
       "      <td>9</td>\n",
       "      <td>30</td>\n",
       "    </tr>\n",
       "  </tbody>\n",
       "</table>\n",
       "</div>"
      ],
      "text/plain": [
       "                                                  event_description  \\\n",
       "id                                                                    \n",
       "f5c2ebc02807a6b3  Innovery, an Italian company delivering IT ser...   \n",
       "0b7a20f4161d89b2  The ALPHV/BlackCat ransomware gang adds the ho...   \n",
       "\n",
       "                         actor organization  \\\n",
       "id                                            \n",
       "f5c2ebc02807a6b3  Undetermined     Innovery   \n",
       "0b7a20f4161d89b2         ALPHV    Motel One   \n",
       "\n",
       "                                       event_subtype  \\\n",
       "id                                                     \n",
       "f5c2ebc02807a6b3  Exploitation of Application Server   \n",
       "0b7a20f4161d89b2            Data Attack,Undetermined   \n",
       "\n",
       "                                                       event_source country  \\\n",
       "id                                                                            \n",
       "f5c2ebc02807a6b3  https://www.redhotcyber.com/post/attacco-infor...     ITA   \n",
       "0b7a20f4161d89b2  https://securityaffairs.com/151732/cyber-crime...     DEU   \n",
       "\n",
       "                  industry_code         dnx_id  year  month  day  \n",
       "id                                                                \n",
       "f5c2ebc02807a6b3           54.0  inc_cis_13422  2023      9   30  \n",
       "0b7a20f4161d89b2           72.0  inc_cis_13421  2023      9   30  "
      ]
     },
     "execution_count": 123,
     "metadata": {},
     "output_type": "execute_result"
    }
   ],
   "source": [
    "df[v_continuas].head(2)"
   ]
  },
  {
   "cell_type": "code",
   "execution_count": 124,
   "metadata": {},
   "outputs": [],
   "source": [
    "v_categoricas_cont = list(df[v_continuas].dtypes[df[v_continuas].dtypes == 'object'].index)\n",
    "v_categoricas_cont.remove('dnx_id')"
   ]
  },
  {
   "cell_type": "code",
   "execution_count": 125,
   "metadata": {},
   "outputs": [
    {
     "data": {
      "text/plain": [
       "event_description    11591\n",
       "actor                 1161\n",
       "organization         12150\n",
       "event_subtype           93\n",
       "event_source         10687\n",
       "country                163\n",
       "dtype: int64"
      ]
     },
     "execution_count": 125,
     "metadata": {},
     "output_type": "execute_result"
    }
   ],
   "source": [
    "df[v_categoricas_cont].nunique()"
   ]
  },
  {
   "cell_type": "markdown",
   "metadata": {},
   "source": [
    "##### **Event Subtype.**"
   ]
  },
  {
   "cell_type": "code",
   "execution_count": 126,
   "metadata": {},
   "outputs": [
    {
     "data": {
      "text/plain": [
       "array(['Exploitation of Application Server', 'Data Attack,Undetermined',\n",
       "       'External Denial of Service', 'Undetermined',\n",
       "       'Exploitation of Application Server,Data Attack',\n",
       "       'Exploitation of End User', 'Exploitation of Infrastructure',\n",
       "       'Message Manipulation', 'Data Attack,Exploitation of End User',\n",
       "       'Exploitation of End Host', 'External Denial of Services',\n",
       "       'Data Attack,Exploitation of End Host', 'Data Attack',\n",
       "       'Physical Attack', 'Physical Attack,Undetermined',\n",
       "       'Exploitation of Applilcation Server', 'Exploitation of Sensor',\n",
       "       'Internal Denial of Service', 'Exploitation of Sensors',\n",
       "       'Exploitation of Applicatoin Server',\n",
       "       'Exploitation of Data in Transit',\n",
       "       'Exploitation of Application Server,Message Manipulation',\n",
       "       'Exploitation of Network Infrastructure',\n",
       "       'Exploitation of Network Infrastrucutre',\n",
       "       'Exploitation of Application Server,Data Attack,Internal Denial of Service',\n",
       "       'Exploitation of Network Server',\n",
       "       'Data Attack,Internal Denial of Service',\n",
       "       'Exploitation of Application Server,External Denial of Service',\n",
       "       'Internal Denial of Services', 'Unknown',\n",
       "       'Exploitation of Application Server,Exploitation of End Host',\n",
       "       'Exploitation of End Host,Internal Denial of Services',\n",
       "       'Exploitation of Application Server,Data Attack,External Denial of Services',\n",
       "       'Data Attack,External Denial of Services',\n",
       "       'Exploittation of Application Server',\n",
       "       'Data Attack,Exploitation of Application Server',\n",
       "       'Exploitation of Application Server,External Denial of Services',\n",
       "       'Exploitation of End Hosts', 'Exploitatiion of Sensors',\n",
       "       'Exploitation of Application Server,Exploitation of Data in Transit',\n",
       "       'Message Manipulation,Data Attack', 'Data Attack,Physical Attack',\n",
       "       'Exploitation of Application Servers',\n",
       "       'Exploitation of End Hosts,Data Attack,Exploitation of Application Servers',\n",
       "       'Exploitation of End Hosts,Data Attack',\n",
       "       'Exploitation of Network Infrastructure,Data Attack',\n",
       "       'External Denial of Service,Data Attack',\n",
       "       'Exploitation of Application Server,External Denial of Service,Data Attack',\n",
       "       'Exploitation of Application Server,Exploitation of Network Infrastructure',\n",
       "       'Exploitation of Application Server,Exploitation of End Hosts',\n",
       "       'Exploitation of End Hosts,External Denial of Service',\n",
       "       'Exploitation of End Hosts,Exploitation of Application Servers',\n",
       "       'Exploitation of Application Server,Exploitation of End Hosts,Internal Denial of Service',\n",
       "       'Exploitation of Application Server,External Denial of Service,Data Attack,Internal Denial of Service',\n",
       "       'External Denial of Service,Internal Denial of Service',\n",
       "       'Exploitation of Application Server,Internal Denial of Service',\n",
       "       'Message Manipulation,Internal Denial of Service',\n",
       "       'Exploitation of Application Server,Message Manipulation,External Denial of Service,Data Attack',\n",
       "       'Message Manipulation,External Denial of Service',\n",
       "       'Exploitation of Application Server,Data Attack,Exploitation of End Host',\n",
       "       'Exploitation of End Hosts,Exploitation of Data in Transit,Internal Denial of Service',\n",
       "       'Exploitation of End Hosts,Exploitation of Sensors',\n",
       "       'Exploitation of End Hosts,Exploitation of Data in Transit',\n",
       "       'Message Manipulation,Exploitation of End Hosts',\n",
       "       'Data Attack,Physical Attack,Internal Denial of Service',\n",
       "       'Exploitation of Application Server,Message Manipulation,Exploitation of Data in Transit',\n",
       "       'External Denial of Service,Data Attack,Internal Denial of Service',\n",
       "       'Message Manipulation,External Denial of Service,Data Attack',\n",
       "       'Exploitation of Application Server,Exploitation of End Hosts,Exploitation of Data in Transit',\n",
       "       'Exploitation of Application Server,Message Manipulation,Exploitation of End Hosts,Data Attack',\n",
       "       'Exploitation of Application Server,Message Manipulation,Exploitation of End Hosts',\n",
       "       'Exploitation of Application Server,Message Manipulation,External Denial of Service',\n",
       "       'Exploitation of Application Server,Exploitation of End Hosts,Physical Attack',\n",
       "       'Exploitation of Application Server,Physical Attack',\n",
       "       'Message Manipulation,Exploitation of End Hosts,Data Attack',\n",
       "       'Exploitation of Application Server,Exploitation of Network Infrastructure,Exploitation of Sensors',\n",
       "       'Exploitation of Application Server,Exploitation of End Hosts,Exploitation of Network Infrastructure',\n",
       "       'Exploitation of Application Server,Exploitation of Sensors',\n",
       "       'Exploitation of Network Infrastructure,Exploitation of Data in Transit',\n",
       "       'Message Manipulation,Exploitation of End Hosts,Exploitation of Data in Transit',\n",
       "       'Exploitation of Application Server,Exploitation of End Hosts,External Denial of Service',\n",
       "       'External Denial of Service,Data Attack,Physical Attack',\n",
       "       'Exploitation of Application Server,Exploitation of End Hosts,Exploitation of Sensors',\n",
       "       'Message Manipulation,Exploitation of Data in Transit',\n",
       "       'Exploitation of Application Server,Exploitation of Network Infrastructure,Internal Denial of Service',\n",
       "       'Exploitation of End Hosts,Internal Denial of Service',\n",
       "       'Exploitation of Application Server,Message Manipulation,Internal Denial of Service',\n",
       "       'Message Manipulation,Exploitation of End Hosts,External Denial of Service,Exploitation of Data in Transit',\n",
       "       'Exploitation of End Hosts,Exploitation of Network Infrastructure',\n",
       "       'External Denial of Service,Physical Attack',\n",
       "       'Exploitation of Network Infrastructure,Internal Denial of Service',\n",
       "       'Message Manipulation,External Denial of Service,Internal Denial of Service, Physical Attack',\n",
       "       'Exploitation of Application Server,Message Manipulation,Data Attack'],\n",
       "      dtype=object)"
      ]
     },
     "execution_count": 126,
     "metadata": {},
     "output_type": "execute_result"
    }
   ],
   "source": [
    "df['event_subtype'].unique()"
   ]
  },
  {
   "cell_type": "markdown",
   "metadata": {},
   "source": [
    "**Corrección de escritura.**"
   ]
  },
  {
   "cell_type": "code",
   "execution_count": 127,
   "metadata": {},
   "outputs": [],
   "source": [
    "df['event_subtype'] = df['event_subtype'].str.replace('Exploittation of Application Server', 'Exploitation of Application Server')"
   ]
  },
  {
   "cell_type": "markdown",
   "metadata": {},
   "source": [
    "##### **Country.**\n",
    "Para realizar una evaluación más efectiva de los países en nuestros datos, es conveniente agruparlos por continentes. Esto es especialmente relevante porque en otros archivos CSV hay registros de ataques provenientes de diferentes países, distribuidos en distintos continentes.\n",
    "\n",
    "Para facilitar este análisis, procederemos a crear seis nuevas columnas en nuestro conjunto de datos, cada una representando un continente específico. Estas columnas indicarán con un valor de 1 si el país pertenece al continente correspondiente y 0 si no es así, es decir, mediante una asignación de valores binarios."
   ]
  },
  {
   "cell_type": "code",
   "execution_count": 128,
   "metadata": {},
   "outputs": [
    {
     "data": {
      "text/plain": [
       "array(['ITA', 'DEU', 'USA', 'RUS', 'CAN', 'GBR', 'FRA', 'JPN', 'UKR',\n",
       "       'PHL', 'HKG', 'SGP', 'BMU', 'NZL', 'CHN', '999', 'ISR', 'BRA',\n",
       "       'KWT', 'THA', 'IND', 'COL', 'LKA', 'ESP', 'AUS', 'NLD', 'TUR',\n",
       "       'TWN', 'MEX', 'MAR', 'CZE', 'KOR', 'IRN', 'POL', 'BEL', 'DNK',\n",
       "       'ZAF', 'CHE', 'SRB', 'SLV', 'LTU', 'ECU', 'ARG', 'IDN', 'VNM',\n",
       "       'PRT', 'PAK', 'NGA', 'KEN', 'NOR', 'EGY', 'MYS', 'IRL', 'SWE',\n",
       "       'FIN', 'MLT', 'BLR', 'TTO', 'MLI', 'JAM', 'EST', 'GRC', 'CHL',\n",
       "       'CYM', 'HRV', 'SYC', 'VEN', 'GTM', 'CYP', 'PAN', 'CRI', 'VCT',\n",
       "       'PRI', 'PER', 'DOM', 'BHR', 'TON', 'URY', 'SVK', 'LVA', 'CUB',\n",
       "       'MDA', 'ARE', 'AUT', 'BRB', 'ROU', 'VAT', 'MDV', 'GLP', 'BES',\n",
       "       'TGO', 'SAU', 'VUT', 'BGR', 'HUN', 'BHS', 'MMR', 'PRY', 'KAZ',\n",
       "       'GHA', 'BIH', 'ALB', 'MNE', 'BOL', 'ASM', 'KIR', 'LUX', 'BGD',\n",
       "       'GRL', 'ZMB', 'JOR', 'NRU', 'GIB', 'GUF', 'LBN', 'QAT', 'SVN',\n",
       "       'PRK', 'AND', 'AGO', 'PNG', 'AFG', 'GEO', 'FJI', 'OMN', 'MNG',\n",
       "       'NPL', 'CPV', 'UGA', 'MKD', 'DZA', 'ARM', 'RWA', 'IRQ', 'SLE',\n",
       "       'KHM', 'ETH', 'IMN', 'UZB', 'TKM', 'LIE', 'YEM', 'ZWE', 'GAB',\n",
       "       'ATA', 'SYR', 'MCO', 'LBY', 'MWI', 'AZE', 'TUN', 'TZA', 'SEN',\n",
       "       'ISL', 'LAO', 'NAM', 'GUM', 'PLW', 'TJK', 'PSE', 'LSO', 'NIC',\n",
       "       'SDN'], dtype=object)"
      ]
     },
     "execution_count": 128,
     "metadata": {},
     "output_type": "execute_result"
    }
   ],
   "source": [
    "df['country'].unique()"
   ]
  },
  {
   "cell_type": "code",
   "execution_count": 129,
   "metadata": {},
   "outputs": [],
   "source": [
    "continent_mapping = {\n",
    "    'Europe': ['ITA', 'DEU', 'GBR', 'FRA', 'UKR', 'ESP', 'NLD', 'POL', 'BEL', 'DNK',\n",
    "               'CHE', 'SRB', 'LTU', 'MLT', 'GRC', 'CZE', 'HRV', 'HUN', 'AUT', 'SVK',\n",
    "               'BLR', 'BGR', 'GIB', 'MDA', 'PRT', 'SVN', 'AND', 'LVA', 'CUB', 'KIR', \n",
    "               'RUS', 'NOR', 'SWE', 'FIN', 'EST', 'IRL', 'CYP', 'TUR', 'ROU', 'VAT',\n",
    "                'MDV', 'BIH', 'ALB', 'MNE', 'LUX', 'ARM', 'IMN', 'LIE', 'MCO', 'AZE',\n",
    "                'ISL', 'MKD'],\n",
    "    'North America': ['USA', 'CAN', 'BMU', 'MEX', 'NIC', 'CRI', 'SLV', 'GTM', \n",
    "                      'PRI', 'TTO', 'JAM', 'BHS', 'BLZ', 'CYM', 'BRB', 'GLP',\n",
    "                      'GRL'],\n",
    "    'South America': ['BRA', 'ARG', 'COL', 'PER', 'VEN', 'CHL', 'URY', 'PAR', \n",
    "                      'BOL', 'ECU', 'PAN', 'VCT', 'DOM', 'BES', 'PRY', 'GUF',],\n",
    "    'Asia': ['JPN', 'CHN', 'KWT', 'THA', 'IND', 'PHL', 'HKG', 'SGP', 'IDN', \n",
    "             'VNM', 'IRN', 'KOR', 'PAK', 'ISR', 'TWN', 'BGD', 'AFG', 'KHM', \n",
    "             'LAO', 'OMN', 'QAT', 'JOR', 'IRQ', 'MNG', 'UZB', 'TKM', 'YEM', \n",
    "             'MDA', 'GEO', 'FJI', 'LKA', 'TJK', 'MYS', 'BHR', 'ARE', 'SAU',\n",
    "              'MMR', 'KAZ', 'LBN', 'PRK', 'NPL', 'SYR', 'LBY', 'PSE'],\n",
    "    'Africa': ['ZAF', 'EGY', 'KEN', 'NGA', 'GHA', 'ETH', 'ZMB', 'UGA', \n",
    "               'DZA', 'TGO', 'MAR', 'SDN', 'SLE', 'RWA', 'AGO', 'MLI', \n",
    "               'TUN', 'ZWE', 'NAM', 'LSO', 'MZW', 'SYC', 'CPV', 'GAB',\n",
    "               'MWI', 'TZA', 'SEN'],\n",
    "    'Australia': ['NZL', 'AUS', 'TON', 'PNG', 'NRU', 'FJI', 'PLW', 'KIR', 'VUT', 'ASM', 'GUM']\n",
    "}"
   ]
  },
  {
   "cell_type": "code",
   "execution_count": 130,
   "metadata": {},
   "outputs": [],
   "source": [
    "def assign_continent(country):\n",
    "    for continent, countries in continent_mapping.items():\n",
    "        if country in countries:\n",
    "            return continent\n",
    "    return None  # Si el país no está en la lista, retornar None"
   ]
  },
  {
   "cell_type": "code",
   "execution_count": 131,
   "metadata": {},
   "outputs": [
    {
     "data": {
      "text/plain": [
       "163"
      ]
     },
     "execution_count": 131,
     "metadata": {},
     "output_type": "execute_result"
    }
   ],
   "source": [
    "df['country'].nunique()"
   ]
  },
  {
   "cell_type": "code",
   "execution_count": 132,
   "metadata": {},
   "outputs": [
    {
     "data": {
      "text/plain": [
       "(13363, 21)"
      ]
     },
     "execution_count": 132,
     "metadata": {},
     "output_type": "execute_result"
    }
   ],
   "source": [
    "df.shape"
   ]
  },
  {
   "cell_type": "code",
   "execution_count": 133,
   "metadata": {},
   "outputs": [],
   "source": [
    "df['continent'] = df['country'].map(assign_continent)"
   ]
  },
  {
   "cell_type": "code",
   "execution_count": 134,
   "metadata": {},
   "outputs": [
    {
     "data": {
      "text/plain": [
       "array(['Europe', 'North America', 'Asia', 'Australia', None,\n",
       "       'South America', 'Africa'], dtype=object)"
      ]
     },
     "execution_count": 134,
     "metadata": {},
     "output_type": "execute_result"
    }
   ],
   "source": [
    "df['continent'].unique()"
   ]
  },
  {
   "cell_type": "code",
   "execution_count": 135,
   "metadata": {},
   "outputs": [
    {
     "name": "stdout",
     "output_type": "stream",
     "text": [
      "Lista de países con 'continent' como None:\n",
      "['999' 'ATA']\n"
     ]
    }
   ],
   "source": [
    "countries_with_no_continent = df[df['continent'].isnull()]['country'].unique()\n",
    "\n",
    "# Mostrar la lista de países con 'continent' como None\n",
    "print(\"Lista de países con 'continent' como None:\")\n",
    "print(countries_with_no_continent)"
   ]
  },
  {
   "cell_type": "code",
   "execution_count": 136,
   "metadata": {},
   "outputs": [],
   "source": [
    "df.dropna(subset=['continent'], inplace=True)"
   ]
  },
  {
   "cell_type": "code",
   "execution_count": 137,
   "metadata": {},
   "outputs": [
    {
     "name": "stdout",
     "output_type": "stream",
     "text": [
      "                                                  event_description  \\\n",
      "id                                                                    \n",
      "f5c2ebc02807a6b3  Innovery, an Italian company delivering IT ser...   \n",
      "0b7a20f4161d89b2  The ALPHV/BlackCat ransomware gang adds the ho...   \n",
      "2e37d07ef6ef3cb6  The pro-Russian collective NoName057(16) takes...   \n",
      "f8029e6b6169de1f  API Financial Solutions files a notice of data...   \n",
      "1ed93f0579b9056c  McLaren HealthCare, confirms to be dealing wit...   \n",
      "...                                                             ...   \n",
      "285fa5842609a5bf  Cardiovascular Consultants (CVC Heart) is hit ...   \n",
      "c823006f6c70313c  Erlanger Health is also affected by the MOVEit...   \n",
      "c886a43fe79a0a7b  The European Telecommunications Standards Inst...   \n",
      "bb17aacdf2e20d25  Lost Trust Team adds GI Medical Services in Ne...   \n",
      "bac11292d79231f0  UK charities including Shelter, the RSPCA, the...   \n",
      "\n",
      "                               actor  actor_type  event_type  \\\n",
      "id                                                             \n",
      "f5c2ebc02807a6b3        Undetermined         1.0  Exploitive   \n",
      "0b7a20f4161d89b2               ALPHV         1.0       Mixed   \n",
      "2e37d07ef6ef3cb6       NoName057(16)         2.0  Disruptive   \n",
      "f8029e6b6169de1f        Undetermined         1.0  Exploitive   \n",
      "1ed93f0579b9056c               ALPHV         1.0       Mixed   \n",
      "...                              ...         ...         ...   \n",
      "285fa5842609a5bf  Indian Cyber Force         2.0  Disruptive   \n",
      "c823006f6c70313c               Qilin         1.0       Mixed   \n",
      "c886a43fe79a0a7b                cl0p         1.0  Exploitive   \n",
      "bb17aacdf2e20d25        Undetermined         1.0  Exploitive   \n",
      "bac11292d79231f0          Lost Trust         1.0  Exploitive   \n",
      "\n",
      "                                                       organization  \\\n",
      "id                                                                    \n",
      "f5c2ebc02807a6b3                                           Innovery   \n",
      "0b7a20f4161d89b2                                          Motel One   \n",
      "2e37d07ef6ef3cb6                    Multiple organizations in Italy   \n",
      "f8029e6b6169de1f                            API Financial Solutions   \n",
      "1ed93f0579b9056c                                 McLaren HealthCare   \n",
      "...                                                             ...   \n",
      "285fa5842609a5bf                              Canadian Armed Forces   \n",
      "c823006f6c70313c                         Cardiovascular Consultants   \n",
      "c886a43fe79a0a7b                                    Erlanger Health   \n",
      "bb17aacdf2e20d25  European Telecommunications Standards Institut...   \n",
      "bac11292d79231f0                                GI Medical Services   \n",
      "\n",
      "                                       event_subtype        motive  \\\n",
      "id                                                                   \n",
      "f5c2ebc02807a6b3  Exploitation of Application Server     Financial   \n",
      "0b7a20f4161d89b2            Data Attack,Undetermined     Financial   \n",
      "2e37d07ef6ef3cb6          External Denial of Service       Protest   \n",
      "f8029e6b6169de1f                        Undetermined     Financial   \n",
      "1ed93f0579b9056c            Data Attack,Undetermined     Financial   \n",
      "...                                              ...           ...   \n",
      "285fa5842609a5bf          External Denial of Service       Protest   \n",
      "c823006f6c70313c  Exploitation of Application Server     Financial   \n",
      "c886a43fe79a0a7b  Exploitation of Application Server     Financial   \n",
      "bb17aacdf2e20d25  Exploitation of Application Server  Undetermined   \n",
      "bac11292d79231f0                        Undetermined     Financial   \n",
      "\n",
      "                  motive_code  \\\n",
      "id                              \n",
      "f5c2ebc02807a6b3          1.0   \n",
      "0b7a20f4161d89b2          1.0   \n",
      "2e37d07ef6ef3cb6          3.0   \n",
      "f8029e6b6169de1f          1.0   \n",
      "1ed93f0579b9056c          1.0   \n",
      "...                       ...   \n",
      "285fa5842609a5bf          3.0   \n",
      "c823006f6c70313c          1.0   \n",
      "c886a43fe79a0a7b          1.0   \n",
      "bb17aacdf2e20d25          5.0   \n",
      "bac11292d79231f0          1.0   \n",
      "\n",
      "                                                       event_source country  \\\n",
      "id                                                                            \n",
      "f5c2ebc02807a6b3  https://www.redhotcyber.com/post/attacco-infor...     ITA   \n",
      "0b7a20f4161d89b2  https://securityaffairs.com/151732/cyber-crime...     DEU   \n",
      "2e37d07ef6ef3cb6  https://www.redhotcyber.com/post/si-ricomincia...     ITA   \n",
      "f8029e6b6169de1f  https://www.jdsupra.com/legalnews/api-financia...     USA   \n",
      "1ed93f0579b9056c  https://therecord.media/mclaren-healthcare-ran...     USA   \n",
      "...                                                             ...     ...   \n",
      "285fa5842609a5bf  https://thewire.in/world/pro-india-hacker-grou...     CAN   \n",
      "c823006f6c70313c  https://www.databreaches.net/cardiovascular-co...     USA   \n",
      "c886a43fe79a0a7b  https://www.hipaajournal.com/oak-valley-hospit...     USA   \n",
      "bb17aacdf2e20d25  https://therecord.media/etsi-telecommunication...     FRA   \n",
      "bac11292d79231f0  https://www.databreaches.net/and-yet-more-vict...     USA   \n",
      "\n",
      "                  ... Undetermined  organization_freq actor_encoded  \\\n",
      "id                ...                                                 \n",
      "f5c2ebc02807a6b3  ...            0           0.000150          1041   \n",
      "0b7a20f4161d89b2  ...            0           0.000150            55   \n",
      "2e37d07ef6ef3cb6  ...            0           0.000224           720   \n",
      "f8029e6b6169de1f  ...            0           0.000150          1041   \n",
      "1ed93f0579b9056c  ...            0           0.000150            55   \n",
      "...               ...          ...                ...           ...   \n",
      "285fa5842609a5bf  ...            0           0.000150           503   \n",
      "c823006f6c70313c  ...            0           0.000075           800   \n",
      "c886a43fe79a0a7b  ...            0           0.000150          1111   \n",
      "bb17aacdf2e20d25  ...            0           0.000150          1041   \n",
      "bac11292d79231f0  ...            0           0.000150           604   \n",
      "\n",
      "                      continent  Africa  Asia  Australia  Europe  \\\n",
      "id                                                                 \n",
      "f5c2ebc02807a6b3         Europe       0     0          0       1   \n",
      "0b7a20f4161d89b2         Europe       0     0          0       1   \n",
      "2e37d07ef6ef3cb6         Europe       0     0          0       1   \n",
      "f8029e6b6169de1f  North America       0     0          0       0   \n",
      "1ed93f0579b9056c  North America       0     0          0       0   \n",
      "...                         ...     ...   ...        ...     ...   \n",
      "285fa5842609a5bf  North America       0     0          0       0   \n",
      "c823006f6c70313c  North America       0     0          0       0   \n",
      "c886a43fe79a0a7b  North America       0     0          0       0   \n",
      "bb17aacdf2e20d25         Europe       0     0          0       1   \n",
      "bac11292d79231f0  North America       0     0          0       0   \n",
      "\n",
      "                  North America  South America  \n",
      "id                                              \n",
      "f5c2ebc02807a6b3              0              0  \n",
      "0b7a20f4161d89b2              0              0  \n",
      "2e37d07ef6ef3cb6              0              0  \n",
      "f8029e6b6169de1f              1              0  \n",
      "1ed93f0579b9056c              1              0  \n",
      "...                         ...            ...  \n",
      "285fa5842609a5bf              1              0  \n",
      "c823006f6c70313c              1              0  \n",
      "c886a43fe79a0a7b              1              0  \n",
      "bb17aacdf2e20d25              0              0  \n",
      "bac11292d79231f0              1              0  \n",
      "\n",
      "[13019 rows x 28 columns]\n"
     ]
    }
   ],
   "source": [
    "df['continent'] = df['country'].apply(assign_continent)\n",
    "df_continentes = pd.get_dummies(df['continent'])\n",
    "\n",
    "df = pd.concat([df, df_continentes], axis=1)\n",
    "\n",
    "print(df)"
   ]
  },
  {
   "cell_type": "code",
   "execution_count": 138,
   "metadata": {},
   "outputs": [],
   "source": [
    "df.drop(['country', 'continent'], axis = 1, inplace = True)"
   ]
  },
  {
   "cell_type": "code",
   "execution_count": 139,
   "metadata": {},
   "outputs": [
    {
     "data": {
      "text/html": [
       "<div>\n",
       "<style scoped>\n",
       "    .dataframe tbody tr th:only-of-type {\n",
       "        vertical-align: middle;\n",
       "    }\n",
       "\n",
       "    .dataframe tbody tr th {\n",
       "        vertical-align: top;\n",
       "    }\n",
       "\n",
       "    .dataframe thead th {\n",
       "        text-align: right;\n",
       "    }\n",
       "</style>\n",
       "<table border=\"1\" class=\"dataframe\">\n",
       "  <thead>\n",
       "    <tr style=\"text-align: right;\">\n",
       "      <th></th>\n",
       "      <th>event_description</th>\n",
       "      <th>actor</th>\n",
       "      <th>actor_type</th>\n",
       "      <th>event_type</th>\n",
       "      <th>organization</th>\n",
       "      <th>event_subtype</th>\n",
       "      <th>motive</th>\n",
       "      <th>motive_code</th>\n",
       "      <th>event_source</th>\n",
       "      <th>industry</th>\n",
       "      <th>...</th>\n",
       "      <th>Exploitive</th>\n",
       "      <th>Undetermined</th>\n",
       "      <th>organization_freq</th>\n",
       "      <th>actor_encoded</th>\n",
       "      <th>Africa</th>\n",
       "      <th>Asia</th>\n",
       "      <th>Australia</th>\n",
       "      <th>Europe</th>\n",
       "      <th>North America</th>\n",
       "      <th>South America</th>\n",
       "    </tr>\n",
       "    <tr>\n",
       "      <th>id</th>\n",
       "      <th></th>\n",
       "      <th></th>\n",
       "      <th></th>\n",
       "      <th></th>\n",
       "      <th></th>\n",
       "      <th></th>\n",
       "      <th></th>\n",
       "      <th></th>\n",
       "      <th></th>\n",
       "      <th></th>\n",
       "      <th></th>\n",
       "      <th></th>\n",
       "      <th></th>\n",
       "      <th></th>\n",
       "      <th></th>\n",
       "      <th></th>\n",
       "      <th></th>\n",
       "      <th></th>\n",
       "      <th></th>\n",
       "      <th></th>\n",
       "      <th></th>\n",
       "    </tr>\n",
       "  </thead>\n",
       "  <tbody>\n",
       "    <tr>\n",
       "      <th>f5c2ebc02807a6b3</th>\n",
       "      <td>Innovery, an Italian company delivering IT ser...</td>\n",
       "      <td>Undetermined</td>\n",
       "      <td>1.0</td>\n",
       "      <td>Exploitive</td>\n",
       "      <td>Innovery</td>\n",
       "      <td>Exploitation of Application Server</td>\n",
       "      <td>Financial</td>\n",
       "      <td>1.0</td>\n",
       "      <td>https://www.redhotcyber.com/post/attacco-infor...</td>\n",
       "      <td>Professional, Scientific, and Technical Services</td>\n",
       "      <td>...</td>\n",
       "      <td>1</td>\n",
       "      <td>0</td>\n",
       "      <td>0.00015</td>\n",
       "      <td>1041</td>\n",
       "      <td>0</td>\n",
       "      <td>0</td>\n",
       "      <td>0</td>\n",
       "      <td>1</td>\n",
       "      <td>0</td>\n",
       "      <td>0</td>\n",
       "    </tr>\n",
       "    <tr>\n",
       "      <th>0b7a20f4161d89b2</th>\n",
       "      <td>The ALPHV/BlackCat ransomware gang adds the ho...</td>\n",
       "      <td>ALPHV</td>\n",
       "      <td>1.0</td>\n",
       "      <td>Mixed</td>\n",
       "      <td>Motel One</td>\n",
       "      <td>Data Attack,Undetermined</td>\n",
       "      <td>Financial</td>\n",
       "      <td>1.0</td>\n",
       "      <td>https://securityaffairs.com/151732/cyber-crime...</td>\n",
       "      <td>Accommodation and Food Services</td>\n",
       "      <td>...</td>\n",
       "      <td>1</td>\n",
       "      <td>0</td>\n",
       "      <td>0.00015</td>\n",
       "      <td>55</td>\n",
       "      <td>0</td>\n",
       "      <td>0</td>\n",
       "      <td>0</td>\n",
       "      <td>1</td>\n",
       "      <td>0</td>\n",
       "      <td>0</td>\n",
       "    </tr>\n",
       "  </tbody>\n",
       "</table>\n",
       "<p>2 rows × 26 columns</p>\n",
       "</div>"
      ],
      "text/plain": [
       "                                                  event_description  \\\n",
       "id                                                                    \n",
       "f5c2ebc02807a6b3  Innovery, an Italian company delivering IT ser...   \n",
       "0b7a20f4161d89b2  The ALPHV/BlackCat ransomware gang adds the ho...   \n",
       "\n",
       "                         actor  actor_type  event_type organization  \\\n",
       "id                                                                    \n",
       "f5c2ebc02807a6b3  Undetermined         1.0  Exploitive     Innovery   \n",
       "0b7a20f4161d89b2         ALPHV         1.0       Mixed    Motel One   \n",
       "\n",
       "                                       event_subtype     motive  motive_code  \\\n",
       "id                                                                             \n",
       "f5c2ebc02807a6b3  Exploitation of Application Server  Financial          1.0   \n",
       "0b7a20f4161d89b2            Data Attack,Undetermined  Financial          1.0   \n",
       "\n",
       "                                                       event_source  \\\n",
       "id                                                                    \n",
       "f5c2ebc02807a6b3  https://www.redhotcyber.com/post/attacco-infor...   \n",
       "0b7a20f4161d89b2  https://securityaffairs.com/151732/cyber-crime...   \n",
       "\n",
       "                                                          industry  ...  \\\n",
       "id                                                                  ...   \n",
       "f5c2ebc02807a6b3  Professional, Scientific, and Technical Services  ...   \n",
       "0b7a20f4161d89b2                   Accommodation and Food Services  ...   \n",
       "\n",
       "                  Exploitive Undetermined  organization_freq  actor_encoded  \\\n",
       "id                                                                            \n",
       "f5c2ebc02807a6b3           1            0            0.00015           1041   \n",
       "0b7a20f4161d89b2           1            0            0.00015             55   \n",
       "\n",
       "                  Africa  Asia  Australia  Europe  North America  \\\n",
       "id                                                                 \n",
       "f5c2ebc02807a6b3       0     0          0       1              0   \n",
       "0b7a20f4161d89b2       0     0          0       1              0   \n",
       "\n",
       "                  South America  \n",
       "id                               \n",
       "f5c2ebc02807a6b3              0  \n",
       "0b7a20f4161d89b2              0  \n",
       "\n",
       "[2 rows x 26 columns]"
      ]
     },
     "execution_count": 139,
     "metadata": {},
     "output_type": "execute_result"
    }
   ],
   "source": [
    "df.head(2)"
   ]
  },
  {
   "cell_type": "markdown",
   "metadata": {},
   "source": [
    "##### **Event Source.**\n",
    "Esta columna servirá posteriormente para definir las relaciones entre CSVs. Deberemos de extraer el nombre del dominio de la URL. "
   ]
  },
  {
   "cell_type": "code",
   "execution_count": 140,
   "metadata": {},
   "outputs": [],
   "source": [
    "from urllib.parse import urlparse\n",
    "\n",
    "# Extraer el dominio de la URL\n",
    "df['event_source_domain'] = df['event_source'].fillna(\"\").apply(lambda x: urlparse(str(x)).netloc)\n"
   ]
  },
  {
   "cell_type": "code",
   "execution_count": 141,
   "metadata": {},
   "outputs": [],
   "source": [
    "from urllib.parse import urlparse\n",
    "\n",
    "# Extraer el dominio de la URL\n",
    "df['event_source_domain'] = df['event_source'].fillna(\"\").apply(lambda x: urlparse(str(x)).netloc)\n"
   ]
  },
  {
   "cell_type": "code",
   "execution_count": 142,
   "metadata": {},
   "outputs": [],
   "source": [
    "df['event_source'] = df['event_source'].str.replace('www.', '', regex=False)"
   ]
  },
  {
   "cell_type": "code",
   "execution_count": 143,
   "metadata": {},
   "outputs": [
    {
     "data": {
      "text/html": [
       "<div>\n",
       "<style scoped>\n",
       "    .dataframe tbody tr th:only-of-type {\n",
       "        vertical-align: middle;\n",
       "    }\n",
       "\n",
       "    .dataframe tbody tr th {\n",
       "        vertical-align: top;\n",
       "    }\n",
       "\n",
       "    .dataframe thead th {\n",
       "        text-align: right;\n",
       "    }\n",
       "</style>\n",
       "<table border=\"1\" class=\"dataframe\">\n",
       "  <thead>\n",
       "    <tr style=\"text-align: right;\">\n",
       "      <th></th>\n",
       "      <th>event_description</th>\n",
       "      <th>actor</th>\n",
       "      <th>actor_type</th>\n",
       "      <th>event_type</th>\n",
       "      <th>organization</th>\n",
       "      <th>event_subtype</th>\n",
       "      <th>motive</th>\n",
       "      <th>motive_code</th>\n",
       "      <th>event_source</th>\n",
       "      <th>industry</th>\n",
       "      <th>...</th>\n",
       "      <th>Undetermined</th>\n",
       "      <th>organization_freq</th>\n",
       "      <th>actor_encoded</th>\n",
       "      <th>Africa</th>\n",
       "      <th>Asia</th>\n",
       "      <th>Australia</th>\n",
       "      <th>Europe</th>\n",
       "      <th>North America</th>\n",
       "      <th>South America</th>\n",
       "      <th>event_source_domain</th>\n",
       "    </tr>\n",
       "    <tr>\n",
       "      <th>id</th>\n",
       "      <th></th>\n",
       "      <th></th>\n",
       "      <th></th>\n",
       "      <th></th>\n",
       "      <th></th>\n",
       "      <th></th>\n",
       "      <th></th>\n",
       "      <th></th>\n",
       "      <th></th>\n",
       "      <th></th>\n",
       "      <th></th>\n",
       "      <th></th>\n",
       "      <th></th>\n",
       "      <th></th>\n",
       "      <th></th>\n",
       "      <th></th>\n",
       "      <th></th>\n",
       "      <th></th>\n",
       "      <th></th>\n",
       "      <th></th>\n",
       "      <th></th>\n",
       "    </tr>\n",
       "  </thead>\n",
       "  <tbody>\n",
       "    <tr>\n",
       "      <th>f5c2ebc02807a6b3</th>\n",
       "      <td>Innovery, an Italian company delivering IT ser...</td>\n",
       "      <td>Undetermined</td>\n",
       "      <td>1.0</td>\n",
       "      <td>Exploitive</td>\n",
       "      <td>Innovery</td>\n",
       "      <td>Exploitation of Application Server</td>\n",
       "      <td>Financial</td>\n",
       "      <td>1.0</td>\n",
       "      <td>https://redhotcyber.com/post/attacco-informati...</td>\n",
       "      <td>Professional, Scientific, and Technical Services</td>\n",
       "      <td>...</td>\n",
       "      <td>0</td>\n",
       "      <td>0.000150</td>\n",
       "      <td>1041</td>\n",
       "      <td>0</td>\n",
       "      <td>0</td>\n",
       "      <td>0</td>\n",
       "      <td>1</td>\n",
       "      <td>0</td>\n",
       "      <td>0</td>\n",
       "      <td>www.redhotcyber.com</td>\n",
       "    </tr>\n",
       "    <tr>\n",
       "      <th>0b7a20f4161d89b2</th>\n",
       "      <td>The ALPHV/BlackCat ransomware gang adds the ho...</td>\n",
       "      <td>ALPHV</td>\n",
       "      <td>1.0</td>\n",
       "      <td>Mixed</td>\n",
       "      <td>Motel One</td>\n",
       "      <td>Data Attack,Undetermined</td>\n",
       "      <td>Financial</td>\n",
       "      <td>1.0</td>\n",
       "      <td>https://securityaffairs.com/151732/cyber-crime...</td>\n",
       "      <td>Accommodation and Food Services</td>\n",
       "      <td>...</td>\n",
       "      <td>0</td>\n",
       "      <td>0.000150</td>\n",
       "      <td>55</td>\n",
       "      <td>0</td>\n",
       "      <td>0</td>\n",
       "      <td>0</td>\n",
       "      <td>1</td>\n",
       "      <td>0</td>\n",
       "      <td>0</td>\n",
       "      <td>securityaffairs.com</td>\n",
       "    </tr>\n",
       "    <tr>\n",
       "      <th>2e37d07ef6ef3cb6</th>\n",
       "      <td>The pro-Russian collective NoName057(16) takes...</td>\n",
       "      <td>NoName057(16)</td>\n",
       "      <td>2.0</td>\n",
       "      <td>Disruptive</td>\n",
       "      <td>Multiple organizations in Italy</td>\n",
       "      <td>External Denial of Service</td>\n",
       "      <td>Protest</td>\n",
       "      <td>3.0</td>\n",
       "      <td>https://redhotcyber.com/post/si-ricomincia-agc...</td>\n",
       "      <td>Public Administration</td>\n",
       "      <td>...</td>\n",
       "      <td>0</td>\n",
       "      <td>0.000224</td>\n",
       "      <td>720</td>\n",
       "      <td>0</td>\n",
       "      <td>0</td>\n",
       "      <td>0</td>\n",
       "      <td>1</td>\n",
       "      <td>0</td>\n",
       "      <td>0</td>\n",
       "      <td>www.redhotcyber.com</td>\n",
       "    </tr>\n",
       "    <tr>\n",
       "      <th>f8029e6b6169de1f</th>\n",
       "      <td>API Financial Solutions files a notice of data...</td>\n",
       "      <td>Undetermined</td>\n",
       "      <td>1.0</td>\n",
       "      <td>Exploitive</td>\n",
       "      <td>API Financial Solutions</td>\n",
       "      <td>Undetermined</td>\n",
       "      <td>Financial</td>\n",
       "      <td>1.0</td>\n",
       "      <td>https://jdsupra.com/legalnews/api-financial-so...</td>\n",
       "      <td>Finance and Insurance</td>\n",
       "      <td>...</td>\n",
       "      <td>0</td>\n",
       "      <td>0.000150</td>\n",
       "      <td>1041</td>\n",
       "      <td>0</td>\n",
       "      <td>0</td>\n",
       "      <td>0</td>\n",
       "      <td>0</td>\n",
       "      <td>1</td>\n",
       "      <td>0</td>\n",
       "      <td>www.jdsupra.com</td>\n",
       "    </tr>\n",
       "    <tr>\n",
       "      <th>1ed93f0579b9056c</th>\n",
       "      <td>McLaren HealthCare, confirms to be dealing wit...</td>\n",
       "      <td>ALPHV</td>\n",
       "      <td>1.0</td>\n",
       "      <td>Mixed</td>\n",
       "      <td>McLaren HealthCare</td>\n",
       "      <td>Data Attack,Undetermined</td>\n",
       "      <td>Financial</td>\n",
       "      <td>1.0</td>\n",
       "      <td>https://therecord.media/mclaren-healthcare-ran...</td>\n",
       "      <td>Health Care and Social Assistance</td>\n",
       "      <td>...</td>\n",
       "      <td>0</td>\n",
       "      <td>0.000150</td>\n",
       "      <td>55</td>\n",
       "      <td>0</td>\n",
       "      <td>0</td>\n",
       "      <td>0</td>\n",
       "      <td>0</td>\n",
       "      <td>1</td>\n",
       "      <td>0</td>\n",
       "      <td>therecord.media</td>\n",
       "    </tr>\n",
       "    <tr>\n",
       "      <th>...</th>\n",
       "      <td>...</td>\n",
       "      <td>...</td>\n",
       "      <td>...</td>\n",
       "      <td>...</td>\n",
       "      <td>...</td>\n",
       "      <td>...</td>\n",
       "      <td>...</td>\n",
       "      <td>...</td>\n",
       "      <td>...</td>\n",
       "      <td>...</td>\n",
       "      <td>...</td>\n",
       "      <td>...</td>\n",
       "      <td>...</td>\n",
       "      <td>...</td>\n",
       "      <td>...</td>\n",
       "      <td>...</td>\n",
       "      <td>...</td>\n",
       "      <td>...</td>\n",
       "      <td>...</td>\n",
       "      <td>...</td>\n",
       "      <td>...</td>\n",
       "    </tr>\n",
       "    <tr>\n",
       "      <th>285fa5842609a5bf</th>\n",
       "      <td>Cardiovascular Consultants (CVC Heart) is hit ...</td>\n",
       "      <td>Indian Cyber Force</td>\n",
       "      <td>2.0</td>\n",
       "      <td>Disruptive</td>\n",
       "      <td>Canadian Armed Forces</td>\n",
       "      <td>External Denial of Service</td>\n",
       "      <td>Protest</td>\n",
       "      <td>3.0</td>\n",
       "      <td>https://thewire.in/world/pro-india-hacker-grou...</td>\n",
       "      <td>Public Administration</td>\n",
       "      <td>...</td>\n",
       "      <td>0</td>\n",
       "      <td>0.000150</td>\n",
       "      <td>503</td>\n",
       "      <td>0</td>\n",
       "      <td>0</td>\n",
       "      <td>0</td>\n",
       "      <td>0</td>\n",
       "      <td>1</td>\n",
       "      <td>0</td>\n",
       "      <td>thewire.in</td>\n",
       "    </tr>\n",
       "    <tr>\n",
       "      <th>c823006f6c70313c</th>\n",
       "      <td>Erlanger Health is also affected by the MOVEit...</td>\n",
       "      <td>Qilin</td>\n",
       "      <td>1.0</td>\n",
       "      <td>Mixed</td>\n",
       "      <td>Cardiovascular Consultants</td>\n",
       "      <td>Exploitation of Application Server</td>\n",
       "      <td>Financial</td>\n",
       "      <td>1.0</td>\n",
       "      <td>https://databreaches.net/cardiovascular-consul...</td>\n",
       "      <td>Health Care and Social Assistance</td>\n",
       "      <td>...</td>\n",
       "      <td>0</td>\n",
       "      <td>0.000075</td>\n",
       "      <td>800</td>\n",
       "      <td>0</td>\n",
       "      <td>0</td>\n",
       "      <td>0</td>\n",
       "      <td>0</td>\n",
       "      <td>1</td>\n",
       "      <td>0</td>\n",
       "      <td>www.databreaches.net</td>\n",
       "    </tr>\n",
       "    <tr>\n",
       "      <th>c886a43fe79a0a7b</th>\n",
       "      <td>The European Telecommunications Standards Inst...</td>\n",
       "      <td>cl0p</td>\n",
       "      <td>1.0</td>\n",
       "      <td>Exploitive</td>\n",
       "      <td>Erlanger Health</td>\n",
       "      <td>Exploitation of Application Server</td>\n",
       "      <td>Financial</td>\n",
       "      <td>1.0</td>\n",
       "      <td>https://hipaajournal.com/oak-valley-hospital-d...</td>\n",
       "      <td>Health Care and Social Assistance</td>\n",
       "      <td>...</td>\n",
       "      <td>0</td>\n",
       "      <td>0.000150</td>\n",
       "      <td>1111</td>\n",
       "      <td>0</td>\n",
       "      <td>0</td>\n",
       "      <td>0</td>\n",
       "      <td>0</td>\n",
       "      <td>1</td>\n",
       "      <td>0</td>\n",
       "      <td>www.hipaajournal.com</td>\n",
       "    </tr>\n",
       "    <tr>\n",
       "      <th>bb17aacdf2e20d25</th>\n",
       "      <td>Lost Trust Team adds GI Medical Services in Ne...</td>\n",
       "      <td>Undetermined</td>\n",
       "      <td>1.0</td>\n",
       "      <td>Exploitive</td>\n",
       "      <td>European Telecommunications Standards Institut...</td>\n",
       "      <td>Exploitation of Application Server</td>\n",
       "      <td>Undetermined</td>\n",
       "      <td>5.0</td>\n",
       "      <td>https://therecord.media/etsi-telecommunication...</td>\n",
       "      <td>Information</td>\n",
       "      <td>...</td>\n",
       "      <td>0</td>\n",
       "      <td>0.000150</td>\n",
       "      <td>1041</td>\n",
       "      <td>0</td>\n",
       "      <td>0</td>\n",
       "      <td>0</td>\n",
       "      <td>1</td>\n",
       "      <td>0</td>\n",
       "      <td>0</td>\n",
       "      <td>therecord.media</td>\n",
       "    </tr>\n",
       "    <tr>\n",
       "      <th>bac11292d79231f0</th>\n",
       "      <td>UK charities including Shelter, the RSPCA, the...</td>\n",
       "      <td>Lost Trust</td>\n",
       "      <td>1.0</td>\n",
       "      <td>Exploitive</td>\n",
       "      <td>GI Medical Services</td>\n",
       "      <td>Undetermined</td>\n",
       "      <td>Financial</td>\n",
       "      <td>1.0</td>\n",
       "      <td>https://databreaches.net/and-yet-more-victims-...</td>\n",
       "      <td>Health Care and Social Assistance</td>\n",
       "      <td>...</td>\n",
       "      <td>0</td>\n",
       "      <td>0.000150</td>\n",
       "      <td>604</td>\n",
       "      <td>0</td>\n",
       "      <td>0</td>\n",
       "      <td>0</td>\n",
       "      <td>0</td>\n",
       "      <td>1</td>\n",
       "      <td>0</td>\n",
       "      <td>www.databreaches.net</td>\n",
       "    </tr>\n",
       "  </tbody>\n",
       "</table>\n",
       "<p>13019 rows × 27 columns</p>\n",
       "</div>"
      ],
      "text/plain": [
       "                                                  event_description  \\\n",
       "id                                                                    \n",
       "f5c2ebc02807a6b3  Innovery, an Italian company delivering IT ser...   \n",
       "0b7a20f4161d89b2  The ALPHV/BlackCat ransomware gang adds the ho...   \n",
       "2e37d07ef6ef3cb6  The pro-Russian collective NoName057(16) takes...   \n",
       "f8029e6b6169de1f  API Financial Solutions files a notice of data...   \n",
       "1ed93f0579b9056c  McLaren HealthCare, confirms to be dealing wit...   \n",
       "...                                                             ...   \n",
       "285fa5842609a5bf  Cardiovascular Consultants (CVC Heart) is hit ...   \n",
       "c823006f6c70313c  Erlanger Health is also affected by the MOVEit...   \n",
       "c886a43fe79a0a7b  The European Telecommunications Standards Inst...   \n",
       "bb17aacdf2e20d25  Lost Trust Team adds GI Medical Services in Ne...   \n",
       "bac11292d79231f0  UK charities including Shelter, the RSPCA, the...   \n",
       "\n",
       "                               actor  actor_type  event_type  \\\n",
       "id                                                             \n",
       "f5c2ebc02807a6b3        Undetermined         1.0  Exploitive   \n",
       "0b7a20f4161d89b2               ALPHV         1.0       Mixed   \n",
       "2e37d07ef6ef3cb6       NoName057(16)         2.0  Disruptive   \n",
       "f8029e6b6169de1f        Undetermined         1.0  Exploitive   \n",
       "1ed93f0579b9056c               ALPHV         1.0       Mixed   \n",
       "...                              ...         ...         ...   \n",
       "285fa5842609a5bf  Indian Cyber Force         2.0  Disruptive   \n",
       "c823006f6c70313c               Qilin         1.0       Mixed   \n",
       "c886a43fe79a0a7b                cl0p         1.0  Exploitive   \n",
       "bb17aacdf2e20d25        Undetermined         1.0  Exploitive   \n",
       "bac11292d79231f0          Lost Trust         1.0  Exploitive   \n",
       "\n",
       "                                                       organization  \\\n",
       "id                                                                    \n",
       "f5c2ebc02807a6b3                                           Innovery   \n",
       "0b7a20f4161d89b2                                          Motel One   \n",
       "2e37d07ef6ef3cb6                    Multiple organizations in Italy   \n",
       "f8029e6b6169de1f                            API Financial Solutions   \n",
       "1ed93f0579b9056c                                 McLaren HealthCare   \n",
       "...                                                             ...   \n",
       "285fa5842609a5bf                              Canadian Armed Forces   \n",
       "c823006f6c70313c                         Cardiovascular Consultants   \n",
       "c886a43fe79a0a7b                                    Erlanger Health   \n",
       "bb17aacdf2e20d25  European Telecommunications Standards Institut...   \n",
       "bac11292d79231f0                                GI Medical Services   \n",
       "\n",
       "                                       event_subtype        motive  \\\n",
       "id                                                                   \n",
       "f5c2ebc02807a6b3  Exploitation of Application Server     Financial   \n",
       "0b7a20f4161d89b2            Data Attack,Undetermined     Financial   \n",
       "2e37d07ef6ef3cb6          External Denial of Service       Protest   \n",
       "f8029e6b6169de1f                        Undetermined     Financial   \n",
       "1ed93f0579b9056c            Data Attack,Undetermined     Financial   \n",
       "...                                              ...           ...   \n",
       "285fa5842609a5bf          External Denial of Service       Protest   \n",
       "c823006f6c70313c  Exploitation of Application Server     Financial   \n",
       "c886a43fe79a0a7b  Exploitation of Application Server     Financial   \n",
       "bb17aacdf2e20d25  Exploitation of Application Server  Undetermined   \n",
       "bac11292d79231f0                        Undetermined     Financial   \n",
       "\n",
       "                  motive_code  \\\n",
       "id                              \n",
       "f5c2ebc02807a6b3          1.0   \n",
       "0b7a20f4161d89b2          1.0   \n",
       "2e37d07ef6ef3cb6          3.0   \n",
       "f8029e6b6169de1f          1.0   \n",
       "1ed93f0579b9056c          1.0   \n",
       "...                       ...   \n",
       "285fa5842609a5bf          3.0   \n",
       "c823006f6c70313c          1.0   \n",
       "c886a43fe79a0a7b          1.0   \n",
       "bb17aacdf2e20d25          5.0   \n",
       "bac11292d79231f0          1.0   \n",
       "\n",
       "                                                       event_source  \\\n",
       "id                                                                    \n",
       "f5c2ebc02807a6b3  https://redhotcyber.com/post/attacco-informati...   \n",
       "0b7a20f4161d89b2  https://securityaffairs.com/151732/cyber-crime...   \n",
       "2e37d07ef6ef3cb6  https://redhotcyber.com/post/si-ricomincia-agc...   \n",
       "f8029e6b6169de1f  https://jdsupra.com/legalnews/api-financial-so...   \n",
       "1ed93f0579b9056c  https://therecord.media/mclaren-healthcare-ran...   \n",
       "...                                                             ...   \n",
       "285fa5842609a5bf  https://thewire.in/world/pro-india-hacker-grou...   \n",
       "c823006f6c70313c  https://databreaches.net/cardiovascular-consul...   \n",
       "c886a43fe79a0a7b  https://hipaajournal.com/oak-valley-hospital-d...   \n",
       "bb17aacdf2e20d25  https://therecord.media/etsi-telecommunication...   \n",
       "bac11292d79231f0  https://databreaches.net/and-yet-more-victims-...   \n",
       "\n",
       "                                                          industry  ...  \\\n",
       "id                                                                  ...   \n",
       "f5c2ebc02807a6b3  Professional, Scientific, and Technical Services  ...   \n",
       "0b7a20f4161d89b2                   Accommodation and Food Services  ...   \n",
       "2e37d07ef6ef3cb6                             Public Administration  ...   \n",
       "f8029e6b6169de1f                             Finance and Insurance  ...   \n",
       "1ed93f0579b9056c                 Health Care and Social Assistance  ...   \n",
       "...                                                            ...  ...   \n",
       "285fa5842609a5bf                             Public Administration  ...   \n",
       "c823006f6c70313c                 Health Care and Social Assistance  ...   \n",
       "c886a43fe79a0a7b                 Health Care and Social Assistance  ...   \n",
       "bb17aacdf2e20d25                                       Information  ...   \n",
       "bac11292d79231f0                 Health Care and Social Assistance  ...   \n",
       "\n",
       "                  Undetermined organization_freq  actor_encoded  Africa  Asia  \\\n",
       "id                                                                              \n",
       "f5c2ebc02807a6b3             0          0.000150           1041       0     0   \n",
       "0b7a20f4161d89b2             0          0.000150             55       0     0   \n",
       "2e37d07ef6ef3cb6             0          0.000224            720       0     0   \n",
       "f8029e6b6169de1f             0          0.000150           1041       0     0   \n",
       "1ed93f0579b9056c             0          0.000150             55       0     0   \n",
       "...                        ...               ...            ...     ...   ...   \n",
       "285fa5842609a5bf             0          0.000150            503       0     0   \n",
       "c823006f6c70313c             0          0.000075            800       0     0   \n",
       "c886a43fe79a0a7b             0          0.000150           1111       0     0   \n",
       "bb17aacdf2e20d25             0          0.000150           1041       0     0   \n",
       "bac11292d79231f0             0          0.000150            604       0     0   \n",
       "\n",
       "                  Australia  Europe  North America  South America  \\\n",
       "id                                                                  \n",
       "f5c2ebc02807a6b3          0       1              0              0   \n",
       "0b7a20f4161d89b2          0       1              0              0   \n",
       "2e37d07ef6ef3cb6          0       1              0              0   \n",
       "f8029e6b6169de1f          0       0              1              0   \n",
       "1ed93f0579b9056c          0       0              1              0   \n",
       "...                     ...     ...            ...            ...   \n",
       "285fa5842609a5bf          0       0              1              0   \n",
       "c823006f6c70313c          0       0              1              0   \n",
       "c886a43fe79a0a7b          0       0              1              0   \n",
       "bb17aacdf2e20d25          0       1              0              0   \n",
       "bac11292d79231f0          0       0              1              0   \n",
       "\n",
       "                   event_source_domain  \n",
       "id                                      \n",
       "f5c2ebc02807a6b3   www.redhotcyber.com  \n",
       "0b7a20f4161d89b2   securityaffairs.com  \n",
       "2e37d07ef6ef3cb6   www.redhotcyber.com  \n",
       "f8029e6b6169de1f       www.jdsupra.com  \n",
       "1ed93f0579b9056c       therecord.media  \n",
       "...                                ...  \n",
       "285fa5842609a5bf            thewire.in  \n",
       "c823006f6c70313c  www.databreaches.net  \n",
       "c886a43fe79a0a7b  www.hipaajournal.com  \n",
       "bb17aacdf2e20d25       therecord.media  \n",
       "bac11292d79231f0  www.databreaches.net  \n",
       "\n",
       "[13019 rows x 27 columns]"
      ]
     },
     "execution_count": 143,
     "metadata": {},
     "output_type": "execute_result"
    }
   ],
   "source": [
    "df"
   ]
  },
  {
   "cell_type": "markdown",
   "metadata": {},
   "source": [
    "# Limpieza datos anómalos\n",
    "Se debe de revisar si hay datos anómalos en el conjunto de datos. Para ello, vamos a realizar un análisis de las variables continuas para detectar posibles valores atípicos.\n",
    "\n",
    "En el proceso vamos a utilizar la técnica de **IQR** para detectar los valores atípicos. Esta técnica consiste en calcular el rango intercuartílico (IQR) de una variable continua y luego identificar los valores que se encuentran por debajo del percentil 10 o por encima del percentil 90.\n",
    "\n",
    "\n",
    "\n"
   ]
  },
  {
   "cell_type": "code",
   "execution_count": 144,
   "metadata": {},
   "outputs": [
    {
     "data": {
      "text/plain": [
       "(13019, 27)"
      ]
     },
     "execution_count": 144,
     "metadata": {},
     "output_type": "execute_result"
    }
   ],
   "source": [
    "df.shape"
   ]
  },
  {
   "cell_type": "code",
   "execution_count": 145,
   "metadata": {},
   "outputs": [
    {
     "name": "stdout",
     "output_type": "stream",
     "text": [
      "Tamaño del DataFrame original: (13019, 27)\n",
      "Tamaño del DataFrame después de eliminar outliers: (11918, 27)\n"
     ]
    }
   ],
   "source": [
    "columns_to_check = ['industry_code', 'actor_type', 'motive_code']  \n",
    "\n",
    "Q1 = df[columns_to_check].quantile(0.10)\n",
    "Q3 = df[columns_to_check].quantile(0.90)\n",
    "\n",
    "\n",
    "IQR = Q3 - Q1\n",
    "\n",
    "lower_bound = Q1 - 1.5 * IQR\n",
    "upper_bound = Q3 + 1.5 * IQR\n",
    "\n",
    "df_cleaned = df[~((df[columns_to_check] < lower_bound) | (df[columns_to_check] > upper_bound)).any(axis=1)]\n",
    "\n",
    "print(\"Tamaño del DataFrame original:\", df.shape)\n",
    "print(\"Tamaño del DataFrame después de eliminar outliers:\", df_cleaned.shape)"
   ]
  },
  {
   "cell_type": "code",
   "execution_count": 146,
   "metadata": {},
   "outputs": [
    {
     "data": {
      "text/plain": [
       "Index(['event_description', 'actor', 'actor_type', 'event_type',\n",
       "       'organization', 'event_subtype', 'motive', 'motive_code',\n",
       "       'event_source', 'industry', 'industry_code', 'dnx_id', 'year', 'month',\n",
       "       'day', 'Disruptive', 'Exploitive', 'Undetermined', 'organization_freq',\n",
       "       'actor_encoded', 'Africa', 'Asia', 'Australia', 'Europe',\n",
       "       'North America', 'South America', 'event_source_domain'],\n",
       "      dtype='object')"
      ]
     },
     "execution_count": 146,
     "metadata": {},
     "output_type": "execute_result"
    }
   ],
   "source": [
    "df_cleaned.columns"
   ]
  },
  {
   "cell_type": "markdown",
   "metadata": {},
   "source": [
    "# Modelos de clasificación."
   ]
  },
  {
   "cell_type": "code",
   "execution_count": 147,
   "metadata": {},
   "outputs": [],
   "source": [
    "df_1 = df_cleaned.drop(list(df.select_dtypes(include=['object']).columns), axis = 1)"
   ]
  },
  {
   "cell_type": "code",
   "execution_count": 148,
   "metadata": {},
   "outputs": [],
   "source": [
    "X = df_1.drop('actor_type', axis=1)  \n",
    "y = df_1['actor_type']"
   ]
  },
  {
   "cell_type": "code",
   "execution_count": 149,
   "metadata": {},
   "outputs": [
    {
     "name": "stdout",
     "output_type": "stream",
     "text": [
      "(9534, 16)\n",
      "(2384, 16)\n"
     ]
    }
   ],
   "source": [
    "X_train, X_test, y_train, y_test = train_test_split(X, y, train_size = 0.8, random_state=42)\n",
    "print(X_train.shape)\n",
    "print(X_test.shape)"
   ]
  },
  {
   "cell_type": "code",
   "execution_count": 150,
   "metadata": {},
   "outputs": [
    {
     "name": "stderr",
     "output_type": "stream",
     "text": [
      "c:\\Users\\anton\\anaconda3\\lib\\site-packages\\sklearn\\model_selection\\_split.py:676: UserWarning: The least populated class in y has only 2 members, which is less than n_splits=5.\n",
      "  warnings.warn(\n",
      "c:\\Users\\anton\\anaconda3\\lib\\site-packages\\sklearn\\model_selection\\_split.py:676: UserWarning: The least populated class in y has only 2 members, which is less than n_splits=5.\n",
      "  warnings.warn(\n"
     ]
    },
    {
     "name": "stdout",
     "output_type": "stream",
     "text": [
      "Resultados de los modelos:\n",
      "Random Forest: 0.9870988367262379\n",
      "Regresión Logística: 0.9226984473726059\n",
      "Árbol de Decisión: 0.982588860502341\n",
      "\n",
      "El mejor modelo es: Random Forest\n"
     ]
    },
    {
     "name": "stderr",
     "output_type": "stream",
     "text": [
      "c:\\Users\\anton\\anaconda3\\lib\\site-packages\\sklearn\\model_selection\\_split.py:676: UserWarning: The least populated class in y has only 2 members, which is less than n_splits=5.\n",
      "  warnings.warn(\n"
     ]
    }
   ],
   "source": [
    "def mejor_modelo(X, y, modelos):\n",
    "    resultados = {}\n",
    "    for nombre, modelo in modelos.items():\n",
    "      if nombre == 'Regresión Logística':\n",
    "        scaler = StandardScaler()\n",
    "        X = scaler.fit_transform(X)\n",
    "      scores = cross_val_score(modelo, X, y, cv=5, scoring='accuracy')\n",
    "      resultados[nombre] = scores.mean()\n",
    "\n",
    "    mejor = max(resultados, key=resultados.get)\n",
    "    return mejor, resultados\n",
    "\n",
    "modelos = {\n",
    "    'Random Forest': RandomForestClassifier(),\n",
    "    'Regresión Logística': LogisticRegression(max_iter=1000),\n",
    "    'Árbol de Decisión': DecisionTreeClassifier()\n",
    "}\n",
    "\n",
    "mejor, resultados = mejor_modelo(X_train, y_train, modelos)\n",
    "\n",
    "print(\"Resultados de los modelos:\")\n",
    "for modelo, score in resultados.items():\n",
    "    print(f\"{modelo}: {score}\")\n",
    "\n",
    "print(f\"\\nEl mejor modelo es: {mejor}\")"
   ]
  },
  {
   "cell_type": "code",
   "execution_count": 151,
   "metadata": {},
   "outputs": [
    {
     "data": {
      "image/png": "[encoded data removed]",
      "text/plain": [
       "<Figure size 1000x800 with 2 Axes>"
      ]
     },
     "metadata": {},
     "output_type": "display_data"
    }
   ],
   "source": [
    "correlation_matrix = df_1.corr()\n",
    "\n",
    "plt.figure(figsize=(10, 8))\n",
    "sns.heatmap(correlation_matrix, annot=True, cmap='coolwarm', fmt=\".2f\")\n",
    "plt.title('Correlation Matrix between Continuous Variables')\n",
    "plt.show()\n"
   ]
  },
  {
   "cell_type": "markdown",
   "metadata": {},
   "source": [
    "# Gráficas generales"
   ]
  },
  {
   "cell_type": "code",
   "execution_count": 152,
   "metadata": {},
   "outputs": [
    {
     "data": {
      "image/png": "[encoded data removed]",
      "text/plain": [
       "<Figure size 1200x600 with 1 Axes>"
      ]
     },
     "metadata": {},
     "output_type": "display_data"
    }
   ],
   "source": [
    "plt.figure(figsize=(12, 6))\n",
    "sns.countplot(data=df, x='event_type', palette='Set2')\n",
    "plt.title('Number of Incidents by Type of Event')\n",
    "plt.xlabel('Type of Event')\n",
    "plt.ylabel('Number of Incidents')\n",
    "plt.xticks(rotation=45)\n",
    "plt.grid()\n",
    "plt.show()"
   ]
  },
  {
   "cell_type": "code",
   "execution_count": 153,
   "metadata": {},
   "outputs": [
    {
     "data": {
      "image/png": "[encoded data removed]",
      "text/plain": [
       "<Figure size 1200x800 with 1 Axes>"
      ]
     },
     "metadata": {},
     "output_type": "display_data"
    }
   ],
   "source": [
    "motive_counts = df['motive'].value_counts()\n",
    "labels = motive_counts.index\n",
    "sizes = motive_counts.values\n",
    "\n",
    "plt.figure(figsize=(12, 8))\n",
    "plt.barh(labels, sizes, color='skyblue')\n",
    "plt.xlabel('Number of Incidents')\n",
    "plt.title('Distribution of Motives about Incidents', fontsize=16)\n",
    "plt.xticks(rotation=45)\n",
    "plt.grid(axis='x')\n",
    "\n",
    "plt.tight_layout()\n",
    "plt.show()"
   ]
  },
  {
   "cell_type": "code",
   "execution_count": 154,
   "metadata": {},
   "outputs": [
    {
     "data": {
      "image/png": "[encoded data removed]",
      "text/plain": [
       "<Figure size 1200x600 with 1 Axes>"
      ]
     },
     "metadata": {},
     "output_type": "display_data"
    }
   ],
   "source": [
    "plt.figure(figsize=(12, 6))\n",
    "sns.countplot(data=df, x='industry_code', palette='Set2')\n",
    "plt.title('Number of Incidents by Industry')\n",
    "plt.xlabel('Industry')\n",
    "plt.ylabel('Number of Incidents')\n",
    "plt.xticks(rotation=45)\n",
    "plt.grid()\n",
    "plt.show()"
   ]
  },
  {
   "cell_type": "code",
   "execution_count": 155,
   "metadata": {},
   "outputs": [
    {
     "data": {
      "image/png": "[encoded data removed]",
      "text/plain": [
       "<Figure size 1200x600 with 1 Axes>"
      ]
     },
     "metadata": {},
     "output_type": "display_data"
    }
   ],
   "source": [
    "plt.figure(figsize=(12, 6))\n",
    "sns.histplot(df['year'], bins=range(df['year'].min(), df['year'].max() + 1), kde=False)\n",
    "plt.title('Number of Incidents by Year')\n",
    "plt.xlabel('Year')\n",
    "plt.ylabel('Number of Incidents')\n",
    "plt.grid()\n",
    "plt.show()"
   ]
  }
 ],
 "metadata": {
  "kernelspec": {
   "display_name": "base",
   "language": "python",
   "name": "python3"
  },
  "language_info": {
   "codemirror_mode": {
    "name": "ipython",
    "version": 3
   },
   "file_extension": ".py",
   "mimetype": "text/x-python",
   "name": "python",
   "nbconvert_exporter": "python",
   "pygments_lexer": "ipython3",
   "version": "3.9.13"
  }
 },
 "nbformat": 4,
 "nbformat_minor": 2
}
