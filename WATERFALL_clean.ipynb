{
 "cells": [
  {
   "cell_type": "markdown",
   "metadata": {},
   "source": [
    "# Waterfall Classification.\n",
    "The Waterfall Classification dataset details cybersecurity incidents affecting a variety of industries, including information about the publication date, region, type of threat actor, physical or other consequences, and a summary of the incident. It also includes references for further digging into each case."
   ]
  },
  {
   "cell_type": "markdown",
   "metadata": {},
   "source": [
    "## Library Imports."
   ]
  },
  {
   "cell_type": "code",
   "execution_count": 66,
   "metadata": {},
   "outputs": [],
   "source": [
    "import pandas as pd\n",
    "from sklearn.preprocessing import OrdinalEncoder\n",
    "from sklearn.preprocessing import StandardScaler\n",
    "from sklearn.ensemble import RandomForestClassifier\n",
    "from sklearn.model_selection import train_test_split, cross_val_score\n",
    "from sklearn.tree import DecisionTreeClassifier\n",
    "from sklearn.utils import resample\n",
    "from sklearn.linear_model import LogisticRegression\n",
    "import matplotlib.pyplot as plt\n",
    "import re\n",
    "import seaborn as sns\n",
    "from sklearn.model_selection import cross_val_score, train_test_split\n",
    "from sklearn.preprocessing import StandardScaler"
   ]
  },
  {
   "cell_type": "markdown",
   "metadata": {},
   "source": [
    "## Data Import and DataFrame Information."
   ]
  },
  {
   "cell_type": "code",
   "execution_count": 67,
   "metadata": {},
   "outputs": [
    {
     "data": {
      "text/html": [
       "<div>\n",
       "<style scoped>\n",
       "    .dataframe tbody tr th:only-of-type {\n",
       "        vertical-align: middle;\n",
       "    }\n",
       "\n",
       "    .dataframe tbody tr th {\n",
       "        vertical-align: top;\n",
       "    }\n",
       "\n",
       "    .dataframe thead th {\n",
       "        text-align: right;\n",
       "    }\n",
       "</style>\n",
       "<table border=\"1\" class=\"dataframe\">\n",
       "  <thead>\n",
       "    <tr style=\"text-align: right;\">\n",
       "      <th></th>\n",
       "      <th>victim</th>\n",
       "      <th>published_date</th>\n",
       "      <th>region</th>\n",
       "      <th>industry</th>\n",
       "      <th>threat_actor</th>\n",
       "      <th>sites</th>\n",
       "      <th>cost</th>\n",
       "      <th>ot_or_physical_consecuences</th>\n",
       "      <th>incident_summary</th>\n",
       "      <th>references</th>\n",
       "      <th>published_year</th>\n",
       "      <th>waterfall_report_year</th>\n",
       "      <th>waterfall_report_name</th>\n",
       "    </tr>\n",
       "    <tr>\n",
       "      <th>id</th>\n",
       "      <th></th>\n",
       "      <th></th>\n",
       "      <th></th>\n",
       "      <th></th>\n",
       "      <th></th>\n",
       "      <th></th>\n",
       "      <th></th>\n",
       "      <th></th>\n",
       "      <th></th>\n",
       "      <th></th>\n",
       "      <th></th>\n",
       "      <th></th>\n",
       "      <th></th>\n",
       "    </tr>\n",
       "  </thead>\n",
       "  <tbody>\n",
       "    <tr>\n",
       "      <th>0</th>\n",
       "      <td>Stuxnet</td>\n",
       "      <td>2010-07-15</td>\n",
       "      <td>Iran</td>\n",
       "      <td>Process Mfg.</td>\n",
       "      <td>Nation State</td>\n",
       "      <td>1</td>\n",
       "      <td>NaN</td>\n",
       "      <td>Destroyed 1000 centrifuges at Natanz</td>\n",
       "      <td>Plant was infected by the Stuxnet worm in a ta...</td>\n",
       "      <td>[\"en.wikipedia.org/wiki/Stuxnet\"]</td>\n",
       "      <td>2010</td>\n",
       "      <td>2023</td>\n",
       "      <td>2023 Threat Report. ICSSTRIVE &amp; Waterfall Secu...</td>\n",
       "    </tr>\n",
       "    <tr>\n",
       "      <th>3</th>\n",
       "      <td>Iran's main oil export terminals</td>\n",
       "      <td>2012-04-22</td>\n",
       "      <td>Iran</td>\n",
       "      <td>Oil &amp; Gas</td>\n",
       "      <td>Nation State</td>\n",
       "      <td>6</td>\n",
       "      <td>NaN</td>\n",
       "      <td>Shutdown 6 terminals</td>\n",
       "      <td>6 terminals ops. affected by Flame malware. Ne...</td>\n",
       "      <td>[\"bbc.com/news/world-middle-east-59062907\",\"ir...</td>\n",
       "      <td>2012</td>\n",
       "      <td>2023</td>\n",
       "      <td>2023 Threat Report. ICSSTRIVE &amp; Waterfall Secu...</td>\n",
       "    </tr>\n",
       "    <tr>\n",
       "      <th>7</th>\n",
       "      <td>Unknown Power Plant</td>\n",
       "      <td>2012-10-?</td>\n",
       "      <td>USA</td>\n",
       "      <td>Power</td>\n",
       "      <td>Unknown</td>\n",
       "      <td>1</td>\n",
       "      <td>NaN</td>\n",
       "      <td>Delayed turbine restart (thus power generation...</td>\n",
       "      <td>10 plant PCs were infected by Mariposa malware...</td>\n",
       "      <td>[\"us-cert.gov/sites/default/files/Monitors/ICS...</td>\n",
       "      <td>2012</td>\n",
       "      <td>2023</td>\n",
       "      <td>2023 Threat Report. ICSSTRIVE &amp; Waterfall Secu...</td>\n",
       "    </tr>\n",
       "    <tr>\n",
       "      <th>12</th>\n",
       "      <td>German steel mill</td>\n",
       "      <td>2014-12-22</td>\n",
       "      <td>Germany</td>\n",
       "      <td>Metals &amp; Mining</td>\n",
       "      <td>Unknown</td>\n",
       "      <td>1</td>\n",
       "      <td>NaN</td>\n",
       "      <td>Caused \"massive damage\" to plant equipment</td>\n",
       "      <td>Sophisticated attack using spear phishing and ...</td>\n",
       "      <td>[\"bbc.com/news/technology-30575104\"]</td>\n",
       "      <td>2014</td>\n",
       "      <td>2023</td>\n",
       "      <td>2023 Threat Report. ICSSTRIVE &amp; Waterfall Secu...</td>\n",
       "    </tr>\n",
       "    <tr>\n",
       "      <th>15</th>\n",
       "      <td>Prykarpattyaoblenergo, Chernivtsioblenergo, Ky...</td>\n",
       "      <td>2015-12-13</td>\n",
       "      <td>Ukraine</td>\n",
       "      <td>Power</td>\n",
       "      <td>Nation State</td>\n",
       "      <td>32</td>\n",
       "      <td>NaN</td>\n",
       "      <td>Power outage lasts up to 6 hours affecting 230...</td>\n",
       "      <td>First publicly known attack on a power grid oc...</td>\n",
       "      <td>[\"en.wikipedia.org/wiki/2015_Ukraine_power_gri...</td>\n",
       "      <td>2015</td>\n",
       "      <td>2023</td>\n",
       "      <td>2023 Threat Report. ICSSTRIVE &amp; Waterfall Secu...</td>\n",
       "    </tr>\n",
       "  </tbody>\n",
       "</table>\n",
       "</div>"
      ],
      "text/plain": [
       "                                               victim published_date   region  \\\n",
       "id                                                                              \n",
       "0                                             Stuxnet     2010-07-15     Iran   \n",
       "3                    Iran's main oil export terminals     2012-04-22     Iran   \n",
       "7                                 Unknown Power Plant      2012-10-?      USA   \n",
       "12                                  German steel mill     2014-12-22  Germany   \n",
       "15  Prykarpattyaoblenergo, Chernivtsioblenergo, Ky...     2015-12-13  Ukraine   \n",
       "\n",
       "           industry  threat_actor  sites cost  \\\n",
       "id                                              \n",
       "0      Process Mfg.  Nation State      1  NaN   \n",
       "3         Oil & Gas  Nation State      6  NaN   \n",
       "7             Power       Unknown      1  NaN   \n",
       "12  Metals & Mining       Unknown      1  NaN   \n",
       "15            Power  Nation State     32  NaN   \n",
       "\n",
       "                          ot_or_physical_consecuences  \\\n",
       "id                                                      \n",
       "0                Destroyed 1000 centrifuges at Natanz   \n",
       "3                                Shutdown 6 terminals   \n",
       "7   Delayed turbine restart (thus power generation...   \n",
       "12         Caused \"massive damage\" to plant equipment   \n",
       "15  Power outage lasts up to 6 hours affecting 230...   \n",
       "\n",
       "                                     incident_summary  \\\n",
       "id                                                      \n",
       "0   Plant was infected by the Stuxnet worm in a ta...   \n",
       "3   6 terminals ops. affected by Flame malware. Ne...   \n",
       "7   10 plant PCs were infected by Mariposa malware...   \n",
       "12  Sophisticated attack using spear phishing and ...   \n",
       "15  First publicly known attack on a power grid oc...   \n",
       "\n",
       "                                           references  published_year  \\\n",
       "id                                                                      \n",
       "0                   [\"en.wikipedia.org/wiki/Stuxnet\"]            2010   \n",
       "3   [\"bbc.com/news/world-middle-east-59062907\",\"ir...            2012   \n",
       "7   [\"us-cert.gov/sites/default/files/Monitors/ICS...            2012   \n",
       "12               [\"bbc.com/news/technology-30575104\"]            2014   \n",
       "15  [\"en.wikipedia.org/wiki/2015_Ukraine_power_gri...            2015   \n",
       "\n",
       "    waterfall_report_year                              waterfall_report_name  \n",
       "id                                                                            \n",
       "0                    2023  2023 Threat Report. ICSSTRIVE & Waterfall Secu...  \n",
       "3                    2023  2023 Threat Report. ICSSTRIVE & Waterfall Secu...  \n",
       "7                    2023  2023 Threat Report. ICSSTRIVE & Waterfall Secu...  \n",
       "12                   2023  2023 Threat Report. ICSSTRIVE & Waterfall Secu...  \n",
       "15                   2023  2023 Threat Report. ICSSTRIVE & Waterfall Secu...  "
      ]
     },
     "execution_count": 67,
     "metadata": {},
     "output_type": "execute_result"
    }
   ],
   "source": [
    "df = pd.read_csv('./data/WATERFALL.csv', index_col=0) #tomamos la primera columna como índice\n",
    "df.head()"
   ]
  },
  {
   "cell_type": "code",
   "execution_count": 68,
   "metadata": {},
   "outputs": [
    {
     "data": {
      "text/html": [
       "<div>\n",
       "<style scoped>\n",
       "    .dataframe tbody tr th:only-of-type {\n",
       "        vertical-align: middle;\n",
       "    }\n",
       "\n",
       "    .dataframe tbody tr th {\n",
       "        vertical-align: top;\n",
       "    }\n",
       "\n",
       "    .dataframe thead th {\n",
       "        text-align: right;\n",
       "    }\n",
       "</style>\n",
       "<table border=\"1\" class=\"dataframe\">\n",
       "  <thead>\n",
       "    <tr style=\"text-align: right;\">\n",
       "      <th></th>\n",
       "      <th>victim</th>\n",
       "      <th>published_date</th>\n",
       "      <th>region</th>\n",
       "      <th>industry</th>\n",
       "      <th>threat_actor</th>\n",
       "      <th>sites</th>\n",
       "      <th>cost</th>\n",
       "      <th>ot_or_physical_consecuences</th>\n",
       "      <th>incident_summary</th>\n",
       "      <th>references</th>\n",
       "      <th>published_year</th>\n",
       "      <th>waterfall_report_year</th>\n",
       "      <th>waterfall_report_name</th>\n",
       "    </tr>\n",
       "  </thead>\n",
       "  <tbody>\n",
       "    <tr>\n",
       "      <th>count</th>\n",
       "      <td>116</td>\n",
       "      <td>116</td>\n",
       "      <td>116</td>\n",
       "      <td>116</td>\n",
       "      <td>116</td>\n",
       "      <td>116.000000</td>\n",
       "      <td>14</td>\n",
       "      <td>116</td>\n",
       "      <td>116</td>\n",
       "      <td>116</td>\n",
       "      <td>116.000000</td>\n",
       "      <td>116.0</td>\n",
       "      <td>116</td>\n",
       "    </tr>\n",
       "    <tr>\n",
       "      <th>unique</th>\n",
       "      <td>116</td>\n",
       "      <td>106</td>\n",
       "      <td>51</td>\n",
       "      <td>10</td>\n",
       "      <td>4</td>\n",
       "      <td>NaN</td>\n",
       "      <td>13</td>\n",
       "      <td>116</td>\n",
       "      <td>116</td>\n",
       "      <td>116</td>\n",
       "      <td>NaN</td>\n",
       "      <td>NaN</td>\n",
       "      <td>1</td>\n",
       "    </tr>\n",
       "    <tr>\n",
       "      <th>top</th>\n",
       "      <td>Stuxnet</td>\n",
       "      <td>2022-02-28</td>\n",
       "      <td>USA</td>\n",
       "      <td>Discrete Mfg.</td>\n",
       "      <td>Ransomware</td>\n",
       "      <td>NaN</td>\n",
       "      <td>$60M</td>\n",
       "      <td>Destroyed 1000 centrifuges at Natanz</td>\n",
       "      <td>Plant was infected by the Stuxnet worm in a ta...</td>\n",
       "      <td>[\"en.wikipedia.org/wiki/Stuxnet\"]</td>\n",
       "      <td>NaN</td>\n",
       "      <td>NaN</td>\n",
       "      <td>2023 Threat Report. ICSSTRIVE &amp; Waterfall Secu...</td>\n",
       "    </tr>\n",
       "    <tr>\n",
       "      <th>freq</th>\n",
       "      <td>1</td>\n",
       "      <td>3</td>\n",
       "      <td>21</td>\n",
       "      <td>43</td>\n",
       "      <td>89</td>\n",
       "      <td>NaN</td>\n",
       "      <td>2</td>\n",
       "      <td>1</td>\n",
       "      <td>1</td>\n",
       "      <td>1</td>\n",
       "      <td>NaN</td>\n",
       "      <td>NaN</td>\n",
       "      <td>116</td>\n",
       "    </tr>\n",
       "    <tr>\n",
       "      <th>mean</th>\n",
       "      <td>NaN</td>\n",
       "      <td>NaN</td>\n",
       "      <td>NaN</td>\n",
       "      <td>NaN</td>\n",
       "      <td>NaN</td>\n",
       "      <td>5.379310</td>\n",
       "      <td>NaN</td>\n",
       "      <td>NaN</td>\n",
       "      <td>NaN</td>\n",
       "      <td>NaN</td>\n",
       "      <td>2020.637931</td>\n",
       "      <td>2023.0</td>\n",
       "      <td>NaN</td>\n",
       "    </tr>\n",
       "    <tr>\n",
       "      <th>std</th>\n",
       "      <td>NaN</td>\n",
       "      <td>NaN</td>\n",
       "      <td>NaN</td>\n",
       "      <td>NaN</td>\n",
       "      <td>NaN</td>\n",
       "      <td>17.177668</td>\n",
       "      <td>NaN</td>\n",
       "      <td>NaN</td>\n",
       "      <td>NaN</td>\n",
       "      <td>NaN</td>\n",
       "      <td>2.212205</td>\n",
       "      <td>0.0</td>\n",
       "      <td>NaN</td>\n",
       "    </tr>\n",
       "    <tr>\n",
       "      <th>min</th>\n",
       "      <td>NaN</td>\n",
       "      <td>NaN</td>\n",
       "      <td>NaN</td>\n",
       "      <td>NaN</td>\n",
       "      <td>NaN</td>\n",
       "      <td>1.000000</td>\n",
       "      <td>NaN</td>\n",
       "      <td>NaN</td>\n",
       "      <td>NaN</td>\n",
       "      <td>NaN</td>\n",
       "      <td>2010.000000</td>\n",
       "      <td>2023.0</td>\n",
       "      <td>NaN</td>\n",
       "    </tr>\n",
       "    <tr>\n",
       "      <th>25%</th>\n",
       "      <td>NaN</td>\n",
       "      <td>NaN</td>\n",
       "      <td>NaN</td>\n",
       "      <td>NaN</td>\n",
       "      <td>NaN</td>\n",
       "      <td>1.000000</td>\n",
       "      <td>NaN</td>\n",
       "      <td>NaN</td>\n",
       "      <td>NaN</td>\n",
       "      <td>NaN</td>\n",
       "      <td>2020.000000</td>\n",
       "      <td>2023.0</td>\n",
       "      <td>NaN</td>\n",
       "    </tr>\n",
       "    <tr>\n",
       "      <th>50%</th>\n",
       "      <td>NaN</td>\n",
       "      <td>NaN</td>\n",
       "      <td>NaN</td>\n",
       "      <td>NaN</td>\n",
       "      <td>NaN</td>\n",
       "      <td>1.000000</td>\n",
       "      <td>NaN</td>\n",
       "      <td>NaN</td>\n",
       "      <td>NaN</td>\n",
       "      <td>NaN</td>\n",
       "      <td>2021.000000</td>\n",
       "      <td>2023.0</td>\n",
       "      <td>NaN</td>\n",
       "    </tr>\n",
       "    <tr>\n",
       "      <th>75%</th>\n",
       "      <td>NaN</td>\n",
       "      <td>NaN</td>\n",
       "      <td>NaN</td>\n",
       "      <td>NaN</td>\n",
       "      <td>NaN</td>\n",
       "      <td>2.000000</td>\n",
       "      <td>NaN</td>\n",
       "      <td>NaN</td>\n",
       "      <td>NaN</td>\n",
       "      <td>NaN</td>\n",
       "      <td>2022.000000</td>\n",
       "      <td>2023.0</td>\n",
       "      <td>NaN</td>\n",
       "    </tr>\n",
       "    <tr>\n",
       "      <th>max</th>\n",
       "      <td>NaN</td>\n",
       "      <td>NaN</td>\n",
       "      <td>NaN</td>\n",
       "      <td>NaN</td>\n",
       "      <td>NaN</td>\n",
       "      <td>170.000000</td>\n",
       "      <td>NaN</td>\n",
       "      <td>NaN</td>\n",
       "      <td>NaN</td>\n",
       "      <td>NaN</td>\n",
       "      <td>2022.000000</td>\n",
       "      <td>2023.0</td>\n",
       "      <td>NaN</td>\n",
       "    </tr>\n",
       "  </tbody>\n",
       "</table>\n",
       "</div>"
      ],
      "text/plain": [
       "         victim published_date region       industry threat_actor       sites  \\\n",
       "count       116            116    116            116          116  116.000000   \n",
       "unique      116            106     51             10            4         NaN   \n",
       "top     Stuxnet     2022-02-28    USA  Discrete Mfg.   Ransomware         NaN   \n",
       "freq          1              3     21             43           89         NaN   \n",
       "mean        NaN            NaN    NaN            NaN          NaN    5.379310   \n",
       "std         NaN            NaN    NaN            NaN          NaN   17.177668   \n",
       "min         NaN            NaN    NaN            NaN          NaN    1.000000   \n",
       "25%         NaN            NaN    NaN            NaN          NaN    1.000000   \n",
       "50%         NaN            NaN    NaN            NaN          NaN    1.000000   \n",
       "75%         NaN            NaN    NaN            NaN          NaN    2.000000   \n",
       "max         NaN            NaN    NaN            NaN          NaN  170.000000   \n",
       "\n",
       "        cost           ot_or_physical_consecuences  \\\n",
       "count     14                                   116   \n",
       "unique    13                                   116   \n",
       "top     $60M  Destroyed 1000 centrifuges at Natanz   \n",
       "freq       2                                     1   \n",
       "mean     NaN                                   NaN   \n",
       "std      NaN                                   NaN   \n",
       "min      NaN                                   NaN   \n",
       "25%      NaN                                   NaN   \n",
       "50%      NaN                                   NaN   \n",
       "75%      NaN                                   NaN   \n",
       "max      NaN                                   NaN   \n",
       "\n",
       "                                         incident_summary  \\\n",
       "count                                                 116   \n",
       "unique                                                116   \n",
       "top     Plant was infected by the Stuxnet worm in a ta...   \n",
       "freq                                                    1   \n",
       "mean                                                  NaN   \n",
       "std                                                   NaN   \n",
       "min                                                   NaN   \n",
       "25%                                                   NaN   \n",
       "50%                                                   NaN   \n",
       "75%                                                   NaN   \n",
       "max                                                   NaN   \n",
       "\n",
       "                               references  published_year  \\\n",
       "count                                 116      116.000000   \n",
       "unique                                116             NaN   \n",
       "top     [\"en.wikipedia.org/wiki/Stuxnet\"]             NaN   \n",
       "freq                                    1             NaN   \n",
       "mean                                  NaN     2020.637931   \n",
       "std                                   NaN        2.212205   \n",
       "min                                   NaN     2010.000000   \n",
       "25%                                   NaN     2020.000000   \n",
       "50%                                   NaN     2021.000000   \n",
       "75%                                   NaN     2022.000000   \n",
       "max                                   NaN     2022.000000   \n",
       "\n",
       "        waterfall_report_year  \\\n",
       "count                   116.0   \n",
       "unique                    NaN   \n",
       "top                       NaN   \n",
       "freq                      NaN   \n",
       "mean                   2023.0   \n",
       "std                       0.0   \n",
       "min                    2023.0   \n",
       "25%                    2023.0   \n",
       "50%                    2023.0   \n",
       "75%                    2023.0   \n",
       "max                    2023.0   \n",
       "\n",
       "                                    waterfall_report_name  \n",
       "count                                                 116  \n",
       "unique                                                  1  \n",
       "top     2023 Threat Report. ICSSTRIVE & Waterfall Secu...  \n",
       "freq                                                  116  \n",
       "mean                                                  NaN  \n",
       "std                                                   NaN  \n",
       "min                                                   NaN  \n",
       "25%                                                   NaN  \n",
       "50%                                                   NaN  \n",
       "75%                                                   NaN  \n",
       "max                                                   NaN  "
      ]
     },
     "execution_count": 68,
     "metadata": {},
     "output_type": "execute_result"
    }
   ],
   "source": [
    "df.describe(include='all')"
   ]
  },
  {
   "cell_type": "code",
   "execution_count": 69,
   "metadata": {},
   "outputs": [
    {
     "data": {
      "text/plain": [
       "(116, 13)"
      ]
     },
     "execution_count": 69,
     "metadata": {},
     "output_type": "execute_result"
    }
   ],
   "source": [
    "df.shape"
   ]
  },
  {
   "cell_type": "code",
   "execution_count": 70,
   "metadata": {},
   "outputs": [
    {
     "data": {
      "text/plain": [
       "victim                         object\n",
       "published_date                 object\n",
       "region                         object\n",
       "industry                       object\n",
       "threat_actor                   object\n",
       "sites                           int64\n",
       "cost                           object\n",
       "ot_or_physical_consecuences    object\n",
       "incident_summary               object\n",
       "references                     object\n",
       "published_year                  int64\n",
       "waterfall_report_year           int64\n",
       "waterfall_report_name          object\n",
       "dtype: object"
      ]
     },
     "execution_count": 70,
     "metadata": {},
     "output_type": "execute_result"
    }
   ],
   "source": [
    "df.dtypes"
   ]
  },
  {
   "cell_type": "code",
   "execution_count": 71,
   "metadata": {},
   "outputs": [
    {
     "data": {
      "text/plain": [
       "Index(['victim', 'published_date', 'region', 'industry', 'threat_actor',\n",
       "       'sites', 'cost', 'ot_or_physical_consecuences', 'incident_summary',\n",
       "       'references', 'published_year', 'waterfall_report_year',\n",
       "       'waterfall_report_name'],\n",
       "      dtype='object')"
      ]
     },
     "execution_count": 71,
     "metadata": {},
     "output_type": "execute_result"
    }
   ],
   "source": [
    "df.columns"
   ]
  },
  {
   "cell_type": "markdown",
   "metadata": {},
   "source": [
    "Next, we give a brief description of what each column is about.\n",
    "1. **ID**: Incident identifier.\n",
    "2. **Victim**: Name of the victim.\n",
    "3. **Published date**: Publication date of the incident.\n",
    "4. **Region**: Affected region.\n",
    "5. **Industry**: Industry of the victim.\n",
    "6. **Threat actor**: Threat actor.\n",
    "7. **Sites**: Number of affected sites.\n",
    "8. **Cost**: Cost of the incident.\n",
    "9. **Physical consequences**: Consequences of the incident.\n",
    "10. **Incident summary**: Summary of the incident.\n",
    "11. **References**: Related references.\n",
    "12. **Waterfall report year**: Year of the Waterfall report.\n",
    "13. **Waterfall_report name**: Name of the report."
   ]
  },
  {
   "cell_type": "code",
   "execution_count": 72,
   "metadata": {},
   "outputs": [
    {
     "data": {
      "text/html": [
       "<div>\n",
       "<style scoped>\n",
       "    .dataframe tbody tr th:only-of-type {\n",
       "        vertical-align: middle;\n",
       "    }\n",
       "\n",
       "    .dataframe tbody tr th {\n",
       "        vertical-align: top;\n",
       "    }\n",
       "\n",
       "    .dataframe thead th {\n",
       "        text-align: right;\n",
       "    }\n",
       "</style>\n",
       "<table border=\"1\" class=\"dataframe\">\n",
       "  <thead>\n",
       "    <tr style=\"text-align: right;\">\n",
       "      <th></th>\n",
       "      <th>victim</th>\n",
       "      <th>published_date</th>\n",
       "      <th>region</th>\n",
       "      <th>industry</th>\n",
       "      <th>threat_actor</th>\n",
       "      <th>sites</th>\n",
       "      <th>cost</th>\n",
       "      <th>ot_or_physical_consecuences</th>\n",
       "      <th>incident_summary</th>\n",
       "      <th>references</th>\n",
       "      <th>published_year</th>\n",
       "      <th>waterfall_report_year</th>\n",
       "      <th>waterfall_report_name</th>\n",
       "    </tr>\n",
       "    <tr>\n",
       "      <th>id</th>\n",
       "      <th></th>\n",
       "      <th></th>\n",
       "      <th></th>\n",
       "      <th></th>\n",
       "      <th></th>\n",
       "      <th></th>\n",
       "      <th></th>\n",
       "      <th></th>\n",
       "      <th></th>\n",
       "      <th></th>\n",
       "      <th></th>\n",
       "      <th></th>\n",
       "      <th></th>\n",
       "    </tr>\n",
       "  </thead>\n",
       "  <tbody>\n",
       "    <tr>\n",
       "      <th>0</th>\n",
       "      <td>Stuxnet</td>\n",
       "      <td>2010-07-15</td>\n",
       "      <td>Iran</td>\n",
       "      <td>Process Mfg.</td>\n",
       "      <td>Nation State</td>\n",
       "      <td>1</td>\n",
       "      <td>NaN</td>\n",
       "      <td>Destroyed 1000 centrifuges at Natanz</td>\n",
       "      <td>Plant was infected by the Stuxnet worm in a ta...</td>\n",
       "      <td>[\"en.wikipedia.org/wiki/Stuxnet\"]</td>\n",
       "      <td>2010</td>\n",
       "      <td>2023</td>\n",
       "      <td>2023 Threat Report. ICSSTRIVE &amp; Waterfall Secu...</td>\n",
       "    </tr>\n",
       "    <tr>\n",
       "      <th>3</th>\n",
       "      <td>Iran's main oil export terminals</td>\n",
       "      <td>2012-04-22</td>\n",
       "      <td>Iran</td>\n",
       "      <td>Oil &amp; Gas</td>\n",
       "      <td>Nation State</td>\n",
       "      <td>6</td>\n",
       "      <td>NaN</td>\n",
       "      <td>Shutdown 6 terminals</td>\n",
       "      <td>6 terminals ops. affected by Flame malware. Ne...</td>\n",
       "      <td>[\"bbc.com/news/world-middle-east-59062907\",\"ir...</td>\n",
       "      <td>2012</td>\n",
       "      <td>2023</td>\n",
       "      <td>2023 Threat Report. ICSSTRIVE &amp; Waterfall Secu...</td>\n",
       "    </tr>\n",
       "    <tr>\n",
       "      <th>7</th>\n",
       "      <td>Unknown Power Plant</td>\n",
       "      <td>2012-10-?</td>\n",
       "      <td>USA</td>\n",
       "      <td>Power</td>\n",
       "      <td>Unknown</td>\n",
       "      <td>1</td>\n",
       "      <td>NaN</td>\n",
       "      <td>Delayed turbine restart (thus power generation...</td>\n",
       "      <td>10 plant PCs were infected by Mariposa malware...</td>\n",
       "      <td>[\"us-cert.gov/sites/default/files/Monitors/ICS...</td>\n",
       "      <td>2012</td>\n",
       "      <td>2023</td>\n",
       "      <td>2023 Threat Report. ICSSTRIVE &amp; Waterfall Secu...</td>\n",
       "    </tr>\n",
       "    <tr>\n",
       "      <th>12</th>\n",
       "      <td>German steel mill</td>\n",
       "      <td>2014-12-22</td>\n",
       "      <td>Germany</td>\n",
       "      <td>Metals &amp; Mining</td>\n",
       "      <td>Unknown</td>\n",
       "      <td>1</td>\n",
       "      <td>NaN</td>\n",
       "      <td>Caused \"massive damage\" to plant equipment</td>\n",
       "      <td>Sophisticated attack using spear phishing and ...</td>\n",
       "      <td>[\"bbc.com/news/technology-30575104\"]</td>\n",
       "      <td>2014</td>\n",
       "      <td>2023</td>\n",
       "      <td>2023 Threat Report. ICSSTRIVE &amp; Waterfall Secu...</td>\n",
       "    </tr>\n",
       "  </tbody>\n",
       "</table>\n",
       "</div>"
      ],
      "text/plain": [
       "                              victim published_date   region         industry  \\\n",
       "id                                                                              \n",
       "0                            Stuxnet     2010-07-15     Iran     Process Mfg.   \n",
       "3   Iran's main oil export terminals     2012-04-22     Iran        Oil & Gas   \n",
       "7                Unknown Power Plant      2012-10-?      USA            Power   \n",
       "12                 German steel mill     2014-12-22  Germany  Metals & Mining   \n",
       "\n",
       "    threat_actor  sites cost  \\\n",
       "id                             \n",
       "0   Nation State      1  NaN   \n",
       "3   Nation State      6  NaN   \n",
       "7        Unknown      1  NaN   \n",
       "12       Unknown      1  NaN   \n",
       "\n",
       "                          ot_or_physical_consecuences  \\\n",
       "id                                                      \n",
       "0                Destroyed 1000 centrifuges at Natanz   \n",
       "3                                Shutdown 6 terminals   \n",
       "7   Delayed turbine restart (thus power generation...   \n",
       "12         Caused \"massive damage\" to plant equipment   \n",
       "\n",
       "                                     incident_summary  \\\n",
       "id                                                      \n",
       "0   Plant was infected by the Stuxnet worm in a ta...   \n",
       "3   6 terminals ops. affected by Flame malware. Ne...   \n",
       "7   10 plant PCs were infected by Mariposa malware...   \n",
       "12  Sophisticated attack using spear phishing and ...   \n",
       "\n",
       "                                           references  published_year  \\\n",
       "id                                                                      \n",
       "0                   [\"en.wikipedia.org/wiki/Stuxnet\"]            2010   \n",
       "3   [\"bbc.com/news/world-middle-east-59062907\",\"ir...            2012   \n",
       "7   [\"us-cert.gov/sites/default/files/Monitors/ICS...            2012   \n",
       "12               [\"bbc.com/news/technology-30575104\"]            2014   \n",
       "\n",
       "    waterfall_report_year                              waterfall_report_name  \n",
       "id                                                                            \n",
       "0                    2023  2023 Threat Report. ICSSTRIVE & Waterfall Secu...  \n",
       "3                    2023  2023 Threat Report. ICSSTRIVE & Waterfall Secu...  \n",
       "7                    2023  2023 Threat Report. ICSSTRIVE & Waterfall Secu...  \n",
       "12                   2023  2023 Threat Report. ICSSTRIVE & Waterfall Secu...  "
      ]
     },
     "execution_count": 72,
     "metadata": {},
     "output_type": "execute_result"
    }
   ],
   "source": [
    "df.head(4)"
   ]
  },
  {
   "cell_type": "markdown",
   "metadata": {},
   "source": [
    "## Data Cleaning.\n",
    "The column **Waterfall Report Year** will be removed for simplicity from the Dataframe, as it refers to the year in which a specific report related to the incidents or events recorded in the DataFrame was published. This does not provide information for the subsequent classification model or finding relationships between CSVs."
   ]
  },
  {
   "cell_type": "code",
   "execution_count": 73,
   "metadata": {},
   "outputs": [],
   "source": [
    "df.drop(columns=['waterfall_report_year'], inplace=True)"
   ]
  },
  {
   "cell_type": "markdown",
   "metadata": {},
   "source": [
    "We will separate the **Published Date** column into day, month and year components, each of these as a different column, converting it into a date format."
   ]
  },
  {
   "cell_type": "code",
   "execution_count": 74,
   "metadata": {},
   "outputs": [],
   "source": [
    "df['published_date'] = pd.to_datetime(df['published_date'], errors='coerce')\n",
    "df['day'] = df['published_date'].dt.day\n",
    "df['month'] = df['published_date'].dt.month\n",
    "df['year'] = df['published_date'].dt.year"
   ]
  },
  {
   "cell_type": "markdown",
   "metadata": {},
   "source": [
    "We notice that there are two columns indicating the year: **Published Year** and **Year**. We will compare these to identify possible discrepancies."
   ]
  },
  {
   "cell_type": "code",
   "execution_count": 75,
   "metadata": {},
   "outputs": [
    {
     "name": "stdout",
     "output_type": "stream",
     "text": [
      "There are 4 rows where 'year' and 'year_1' are different.\n"
     ]
    },
    {
     "data": {
      "text/html": [
       "<div>\n",
       "<style scoped>\n",
       "    .dataframe tbody tr th:only-of-type {\n",
       "        vertical-align: middle;\n",
       "    }\n",
       "\n",
       "    .dataframe tbody tr th {\n",
       "        vertical-align: top;\n",
       "    }\n",
       "\n",
       "    .dataframe thead th {\n",
       "        text-align: right;\n",
       "    }\n",
       "</style>\n",
       "<table border=\"1\" class=\"dataframe\">\n",
       "  <thead>\n",
       "    <tr style=\"text-align: right;\">\n",
       "      <th></th>\n",
       "      <th>year</th>\n",
       "      <th>published_year</th>\n",
       "    </tr>\n",
       "    <tr>\n",
       "      <th>id</th>\n",
       "      <th></th>\n",
       "      <th></th>\n",
       "    </tr>\n",
       "  </thead>\n",
       "  <tbody>\n",
       "    <tr>\n",
       "      <th>7</th>\n",
       "      <td>NaN</td>\n",
       "      <td>2012</td>\n",
       "    </tr>\n",
       "    <tr>\n",
       "      <th>43</th>\n",
       "      <td>NaN</td>\n",
       "      <td>2017</td>\n",
       "    </tr>\n",
       "    <tr>\n",
       "      <th>58</th>\n",
       "      <td>NaN</td>\n",
       "      <td>2019</td>\n",
       "    </tr>\n",
       "    <tr>\n",
       "      <th>252</th>\n",
       "      <td>NaN</td>\n",
       "      <td>2021</td>\n",
       "    </tr>\n",
       "  </tbody>\n",
       "</table>\n",
       "</div>"
      ],
      "text/plain": [
       "     year  published_year\n",
       "id                       \n",
       "7     NaN            2012\n",
       "43    NaN            2017\n",
       "58    NaN            2019\n",
       "252   NaN            2021"
      ]
     },
     "execution_count": 75,
     "metadata": {},
     "output_type": "execute_result"
    }
   ],
   "source": [
    "differences = df[df['year'] != df['published_year']]\n",
    "\n",
    "print(f\"There are {differences.shape[0]} rows where 'year' and 'year_1' are different.\")\n",
    "differences[['year', 'published_year']].head()"
   ]
  },
  {
   "cell_type": "markdown",
   "metadata": {},
   "source": [
    "In this case, differences have been found due to empty fields in the values ​​extracted from the **Published Date** column. However, this is not a problem, as later when we handle null values ​​we will remove these rows."
   ]
  },
  {
   "cell_type": "code",
   "execution_count": 76,
   "metadata": {},
   "outputs": [],
   "source": [
    "df.drop(columns=['published_year', 'published_date'], inplace=True)"
   ]
  },
  {
   "cell_type": "markdown",
   "metadata": {},
   "source": [
    "### Handling duplicate rows."
   ]
  },
  {
   "cell_type": "code",
   "execution_count": 77,
   "metadata": {},
   "outputs": [
    {
     "data": {
      "text/plain": [
       "np.int64(0)"
      ]
     },
     "execution_count": 77,
     "metadata": {},
     "output_type": "execute_result"
    }
   ],
   "source": [
    "df.duplicated().sum()"
   ]
  },
  {
   "cell_type": "code",
   "execution_count": 78,
   "metadata": {},
   "outputs": [],
   "source": [
    "df.drop_duplicates(inplace=True)"
   ]
  },
  {
   "cell_type": "markdown",
   "metadata": {},
   "source": [
    "### Handling of null rows."
   ]
  },
  {
   "cell_type": "code",
   "execution_count": 79,
   "metadata": {},
   "outputs": [
    {
     "data": {
      "text/plain": [
       "victim                           0\n",
       "region                           0\n",
       "industry                         0\n",
       "threat_actor                     0\n",
       "sites                            0\n",
       "cost                           102\n",
       "ot_or_physical_consecuences      0\n",
       "incident_summary                 0\n",
       "references                       0\n",
       "waterfall_report_name            0\n",
       "day                              4\n",
       "month                            4\n",
       "year                             4\n",
       "dtype: int64"
      ]
     },
     "execution_count": 79,
     "metadata": {},
     "output_type": "execute_result"
    }
   ],
   "source": [
    "df.isnull().sum()"
   ]
  },
  {
   "cell_type": "code",
   "execution_count": 80,
   "metadata": {},
   "outputs": [
    {
     "data": {
      "text/plain": [
       "116"
      ]
     },
     "execution_count": 80,
     "metadata": {},
     "output_type": "execute_result"
    }
   ],
   "source": [
    "df.shape[0]"
   ]
  },
  {
   "cell_type": "markdown",
   "metadata": {},
   "source": [
    "We will remove the **cost** column as it contains mostly null values."
   ]
  },
  {
   "cell_type": "code",
   "execution_count": 81,
   "metadata": {},
   "outputs": [],
   "source": [
    "df.drop(columns=['cost'], inplace=True)"
   ]
  },
  {
   "cell_type": "code",
   "execution_count": 82,
   "metadata": {},
   "outputs": [],
   "source": [
    "df.dropna(inplace=True)"
   ]
  },
  {
   "cell_type": "code",
   "execution_count": 83,
   "metadata": {},
   "outputs": [
    {
     "data": {
      "text/plain": [
       "(112, 12)"
      ]
     },
     "execution_count": 83,
     "metadata": {},
     "output_type": "execute_result"
    }
   ],
   "source": [
    "df.shape"
   ]
  },
  {
   "cell_type": "markdown",
   "metadata": {},
   "source": [
    "### Selection of categorical and continuous variables.\n",
    "To properly perform a data analysis we must distinguish between categorical variables, variables that represent different categories or groups, and continuous variables, variables that can take any value within a given range."
   ]
  },
  {
   "cell_type": "code",
   "execution_count": 84,
   "metadata": {},
   "outputs": [
    {
     "name": "stdout",
     "output_type": "stream",
     "text": [
      "Variables continuous: victim, region, sites, ot_or_physical_consecuences, incident_summary, references, day, month, year\n",
      "Variables categorical: industry, threat_actor, waterfall_report_name\n"
     ]
    }
   ],
   "source": [
    "v_continuas = []\n",
    "v_categoricas = []\n",
    "for i in df.columns:\n",
    "    if df[i].nunique() > 25 or df[i].dtypes in ['float64', 'int64']:\n",
    "        v_continuas.append(i)\n",
    "    else:\n",
    "        v_categoricas.append(i)\n",
    "\n",
    "print('Variables continuous: {}'.format(', '.join(v_continuas)))\n",
    "print('Variables categorical: {}'.format(', '.join(v_categoricas)))"
   ]
  },
  {
   "cell_type": "markdown",
   "metadata": {},
   "source": [
    "#### Categorical Variables Handling.\n",
    "For the subsequent classification model, we need to code our variables. To do this, we will perform an ordinal coding that consists of assigning integer values ​​to the categories based on their position or hierarchy in the data."
   ]
  },
  {
   "cell_type": "code",
   "execution_count": 85,
   "metadata": {},
   "outputs": [
    {
     "data": {
      "text/html": [
       "<div>\n",
       "<style scoped>\n",
       "    .dataframe tbody tr th:only-of-type {\n",
       "        vertical-align: middle;\n",
       "    }\n",
       "\n",
       "    .dataframe tbody tr th {\n",
       "        vertical-align: top;\n",
       "    }\n",
       "\n",
       "    .dataframe thead th {\n",
       "        text-align: right;\n",
       "    }\n",
       "</style>\n",
       "<table border=\"1\" class=\"dataframe\">\n",
       "  <thead>\n",
       "    <tr style=\"text-align: right;\">\n",
       "      <th></th>\n",
       "      <th>industry</th>\n",
       "      <th>threat_actor</th>\n",
       "      <th>waterfall_report_name</th>\n",
       "    </tr>\n",
       "    <tr>\n",
       "      <th>id</th>\n",
       "      <th></th>\n",
       "      <th></th>\n",
       "      <th></th>\n",
       "    </tr>\n",
       "  </thead>\n",
       "  <tbody>\n",
       "    <tr>\n",
       "      <th>0</th>\n",
       "      <td>Process Mfg.</td>\n",
       "      <td>Nation State</td>\n",
       "      <td>2023 Threat Report. ICSSTRIVE &amp; Waterfall Secu...</td>\n",
       "    </tr>\n",
       "    <tr>\n",
       "      <th>3</th>\n",
       "      <td>Oil &amp; Gas</td>\n",
       "      <td>Nation State</td>\n",
       "      <td>2023 Threat Report. ICSSTRIVE &amp; Waterfall Secu...</td>\n",
       "    </tr>\n",
       "    <tr>\n",
       "      <th>12</th>\n",
       "      <td>Metals &amp; Mining</td>\n",
       "      <td>Unknown</td>\n",
       "      <td>2023 Threat Report. ICSSTRIVE &amp; Waterfall Secu...</td>\n",
       "    </tr>\n",
       "  </tbody>\n",
       "</table>\n",
       "</div>"
      ],
      "text/plain": [
       "           industry  threat_actor  \\\n",
       "id                                  \n",
       "0      Process Mfg.  Nation State   \n",
       "3         Oil & Gas  Nation State   \n",
       "12  Metals & Mining       Unknown   \n",
       "\n",
       "                                waterfall_report_name  \n",
       "id                                                     \n",
       "0   2023 Threat Report. ICSSTRIVE & Waterfall Secu...  \n",
       "3   2023 Threat Report. ICSSTRIVE & Waterfall Secu...  \n",
       "12  2023 Threat Report. ICSSTRIVE & Waterfall Secu...  "
      ]
     },
     "execution_count": 85,
     "metadata": {},
     "output_type": "execute_result"
    }
   ],
   "source": [
    "df[v_categoricas].head(3)"
   ]
  },
  {
   "cell_type": "code",
   "execution_count": 86,
   "metadata": {},
   "outputs": [
    {
     "data": {
      "text/plain": [
       "industry                 10\n",
       "threat_actor              4\n",
       "waterfall_report_name     1\n",
       "dtype: int64"
      ]
     },
     "execution_count": 86,
     "metadata": {},
     "output_type": "execute_result"
    }
   ],
   "source": [
    "df[v_categoricas].nunique()"
   ]
  },
  {
   "cell_type": "markdown",
   "metadata": {},
   "source": [
    "We decided to remove the **Waterfall Report Name** column because it contains a single value in all rows. This repeated value does not add any useful information or variability to the dataset, making its inclusion unnecessary for further analysis."
   ]
  },
  {
   "cell_type": "code",
   "execution_count": 87,
   "metadata": {},
   "outputs": [],
   "source": [
    "df.drop(columns=['waterfall_report_name'], inplace=True)"
   ]
  },
  {
   "cell_type": "markdown",
   "metadata": {},
   "source": [
    "##### **Industry**."
   ]
  },
  {
   "cell_type": "code",
   "execution_count": 88,
   "metadata": {},
   "outputs": [
    {
     "data": {
      "text/plain": [
       "array(['Process Mfg.', 'Oil & Gas', 'Metals & Mining', 'Power',\n",
       "       'Discrete Mfg.', 'Transportation', 'All', 'Food & Beverage',\n",
       "       'Agriculture', 'Water'], dtype=object)"
      ]
     },
     "execution_count": 88,
     "metadata": {},
     "output_type": "execute_result"
    }
   ],
   "source": [
    "df['industry'].unique()"
   ]
  },
  {
   "cell_type": "markdown",
   "metadata": {},
   "source": [
    "We are going to group the different sectors into broader categories to facilitate data analysis using the **One Hot Encoding** technique. This will allow us to convert the categories into binary columns that indicate the presence or absence of each sector.\n",
    "\n",
    "In the specific case of the **\"All\"** category, we will mark all the columns corresponding to the sectors with a 1, since this category represents the inclusion of all sectors in the same record. This strategy is carried out to ensure that during data analysis, the sectors are correctly represented and the impact of each of them can be effectively evaluated."
   ]
  },
  {
   "cell_type": "code",
   "execution_count": 89,
   "metadata": {},
   "outputs": [],
   "source": [
    "industry_groups = {\n",
    "    'Manufacturing': ['Process Mfg.', 'Discrete Mfg.'],\n",
    "    'Energy': ['Oil & Gas', 'Power'],\n",
    "    'Mining': ['Metals & Mining'],\n",
    "    'Agriculture': ['Food & Beverage', 'Agriculture']\n",
    "}"
   ]
  },
  {
   "cell_type": "code",
   "execution_count": 90,
   "metadata": {},
   "outputs": [],
   "source": [
    "def replace_with_groups(sector):\n",
    "    for group, sectors in industry_groups.items():\n",
    "        if sector in sectors:\n",
    "            return group\n",
    "    return sector"
   ]
  },
  {
   "cell_type": "code",
   "execution_count": 91,
   "metadata": {},
   "outputs": [],
   "source": [
    "df['industry'] = df['industry'].apply(replace_with_groups)"
   ]
  },
  {
   "cell_type": "code",
   "execution_count": 92,
   "metadata": {},
   "outputs": [
    {
     "data": {
      "text/plain": [
       "array(['Manufacturing', 'Energy', 'Mining', 'Transportation', 'All',\n",
       "       'Agriculture', 'Water'], dtype=object)"
      ]
     },
     "execution_count": 92,
     "metadata": {},
     "output_type": "execute_result"
    }
   ],
   "source": [
    "df['industry'].unique()"
   ]
  },
  {
   "cell_type": "code",
   "execution_count": 93,
   "metadata": {},
   "outputs": [],
   "source": [
    "dummies = pd.get_dummies(df['industry'], prefix='industry')\n",
    "dummies['industry_All'] = (df['industry'] == 'All').astype(int)\n",
    "for col in dummies.columns:\n",
    "    if col != 'industry_All':\n",
    "        dummies[col] = dummies[col] | dummies['industry_All']\n",
    "\n",
    "dummies.drop(['industry_All'], axis=1, inplace=True)\n",
    "df = pd.concat([df, dummies], axis=1)"
   ]
  },
  {
   "cell_type": "code",
   "execution_count": 94,
   "metadata": {},
   "outputs": [],
   "source": [
    "df.drop(columns=['industry'], inplace=True)"
   ]
  },
  {
   "cell_type": "markdown",
   "metadata": {},
   "source": [
    "##### **Threat Actor**."
   ]
  },
  {
   "cell_type": "code",
   "execution_count": 95,
   "metadata": {},
   "outputs": [
    {
     "data": {
      "text/plain": [
       "array(['Nation State', 'Unknown', 'Ransomware', 'Hacktivist'],\n",
       "      dtype=object)"
      ]
     },
     "execution_count": 95,
     "metadata": {},
     "output_type": "execute_result"
    }
   ],
   "source": [
    "df['threat_actor'].unique()"
   ]
  },
  {
   "cell_type": "code",
   "execution_count": 96,
   "metadata": {},
   "outputs": [
    {
     "data": {
      "text/html": [
       "<div>\n",
       "<style scoped>\n",
       "    .dataframe tbody tr th:only-of-type {\n",
       "        vertical-align: middle;\n",
       "    }\n",
       "\n",
       "    .dataframe tbody tr th {\n",
       "        vertical-align: top;\n",
       "    }\n",
       "\n",
       "    .dataframe thead th {\n",
       "        text-align: right;\n",
       "    }\n",
       "</style>\n",
       "<table border=\"1\" class=\"dataframe\">\n",
       "  <thead>\n",
       "    <tr style=\"text-align: right;\">\n",
       "      <th></th>\n",
       "      <th>victim</th>\n",
       "      <th>region</th>\n",
       "      <th>threat_actor</th>\n",
       "      <th>sites</th>\n",
       "      <th>ot_or_physical_consecuences</th>\n",
       "      <th>incident_summary</th>\n",
       "      <th>references</th>\n",
       "      <th>day</th>\n",
       "      <th>month</th>\n",
       "      <th>year</th>\n",
       "      <th>industry_Agriculture</th>\n",
       "      <th>industry_Energy</th>\n",
       "      <th>industry_Manufacturing</th>\n",
       "      <th>industry_Mining</th>\n",
       "      <th>industry_Transportation</th>\n",
       "      <th>industry_Water</th>\n",
       "    </tr>\n",
       "    <tr>\n",
       "      <th>id</th>\n",
       "      <th></th>\n",
       "      <th></th>\n",
       "      <th></th>\n",
       "      <th></th>\n",
       "      <th></th>\n",
       "      <th></th>\n",
       "      <th></th>\n",
       "      <th></th>\n",
       "      <th></th>\n",
       "      <th></th>\n",
       "      <th></th>\n",
       "      <th></th>\n",
       "      <th></th>\n",
       "      <th></th>\n",
       "      <th></th>\n",
       "      <th></th>\n",
       "    </tr>\n",
       "  </thead>\n",
       "  <tbody>\n",
       "    <tr>\n",
       "      <th>0</th>\n",
       "      <td>Stuxnet</td>\n",
       "      <td>Iran</td>\n",
       "      <td>1.0</td>\n",
       "      <td>1</td>\n",
       "      <td>Destroyed 1000 centrifuges at Natanz</td>\n",
       "      <td>Plant was infected by the Stuxnet worm in a ta...</td>\n",
       "      <td>[\"en.wikipedia.org/wiki/Stuxnet\"]</td>\n",
       "      <td>15.0</td>\n",
       "      <td>7.0</td>\n",
       "      <td>2010.0</td>\n",
       "      <td>False</td>\n",
       "      <td>False</td>\n",
       "      <td>True</td>\n",
       "      <td>False</td>\n",
       "      <td>False</td>\n",
       "      <td>False</td>\n",
       "    </tr>\n",
       "    <tr>\n",
       "      <th>3</th>\n",
       "      <td>Iran's main oil export terminals</td>\n",
       "      <td>Iran</td>\n",
       "      <td>1.0</td>\n",
       "      <td>6</td>\n",
       "      <td>Shutdown 6 terminals</td>\n",
       "      <td>6 terminals ops. affected by Flame malware. Ne...</td>\n",
       "      <td>[\"bbc.com/news/world-middle-east-59062907\",\"ir...</td>\n",
       "      <td>22.0</td>\n",
       "      <td>4.0</td>\n",
       "      <td>2012.0</td>\n",
       "      <td>False</td>\n",
       "      <td>True</td>\n",
       "      <td>False</td>\n",
       "      <td>False</td>\n",
       "      <td>False</td>\n",
       "      <td>False</td>\n",
       "    </tr>\n",
       "  </tbody>\n",
       "</table>\n",
       "</div>"
      ],
      "text/plain": [
       "                              victim region  threat_actor  sites  \\\n",
       "id                                                                 \n",
       "0                            Stuxnet   Iran           1.0      1   \n",
       "3   Iran's main oil export terminals   Iran           1.0      6   \n",
       "\n",
       "             ot_or_physical_consecuences  \\\n",
       "id                                         \n",
       "0   Destroyed 1000 centrifuges at Natanz   \n",
       "3                   Shutdown 6 terminals   \n",
       "\n",
       "                                     incident_summary  \\\n",
       "id                                                      \n",
       "0   Plant was infected by the Stuxnet worm in a ta...   \n",
       "3   6 terminals ops. affected by Flame malware. Ne...   \n",
       "\n",
       "                                           references   day  month    year  \\\n",
       "id                                                                           \n",
       "0                   [\"en.wikipedia.org/wiki/Stuxnet\"]  15.0    7.0  2010.0   \n",
       "3   [\"bbc.com/news/world-middle-east-59062907\",\"ir...  22.0    4.0  2012.0   \n",
       "\n",
       "    industry_Agriculture  industry_Energy  industry_Manufacturing  \\\n",
       "id                                                                  \n",
       "0                  False            False                    True   \n",
       "3                  False             True                   False   \n",
       "\n",
       "    industry_Mining  industry_Transportation  industry_Water  \n",
       "id                                                            \n",
       "0             False                    False           False  \n",
       "3             False                    False           False  "
      ]
     },
     "execution_count": 96,
     "metadata": {},
     "output_type": "execute_result"
    }
   ],
   "source": [
    "encoder = OrdinalEncoder()\n",
    "df['threat_actor'] = encoder.fit_transform(df[['threat_actor']])\n",
    "df.head(2)"
   ]
  },
  {
   "cell_type": "markdown",
   "metadata": {},
   "source": [
    "#### Continuous Variables Handling.\n",
    "For the classification model we must convert all columns to int type. Therefore, we must see if we should perform an ordinal encoding as in the previous case or group them.\n",
    "\n",
    "Continuous variables are divided into numeric variables and object variables, which are text strings that require coding for analysis. Although these variables are continuous in the sense that they can take many different values, they are stored as text strings."
   ]
  },
  {
   "cell_type": "code",
   "execution_count": 97,
   "metadata": {},
   "outputs": [
    {
     "data": {
      "text/html": [
       "<div>\n",
       "<style scoped>\n",
       "    .dataframe tbody tr th:only-of-type {\n",
       "        vertical-align: middle;\n",
       "    }\n",
       "\n",
       "    .dataframe tbody tr th {\n",
       "        vertical-align: top;\n",
       "    }\n",
       "\n",
       "    .dataframe thead th {\n",
       "        text-align: right;\n",
       "    }\n",
       "</style>\n",
       "<table border=\"1\" class=\"dataframe\">\n",
       "  <thead>\n",
       "    <tr style=\"text-align: right;\">\n",
       "      <th></th>\n",
       "      <th>victim</th>\n",
       "      <th>region</th>\n",
       "      <th>sites</th>\n",
       "      <th>ot_or_physical_consecuences</th>\n",
       "      <th>incident_summary</th>\n",
       "      <th>references</th>\n",
       "      <th>day</th>\n",
       "      <th>month</th>\n",
       "      <th>year</th>\n",
       "    </tr>\n",
       "    <tr>\n",
       "      <th>id</th>\n",
       "      <th></th>\n",
       "      <th></th>\n",
       "      <th></th>\n",
       "      <th></th>\n",
       "      <th></th>\n",
       "      <th></th>\n",
       "      <th></th>\n",
       "      <th></th>\n",
       "      <th></th>\n",
       "    </tr>\n",
       "  </thead>\n",
       "  <tbody>\n",
       "    <tr>\n",
       "      <th>0</th>\n",
       "      <td>Stuxnet</td>\n",
       "      <td>Iran</td>\n",
       "      <td>1</td>\n",
       "      <td>Destroyed 1000 centrifuges at Natanz</td>\n",
       "      <td>Plant was infected by the Stuxnet worm in a ta...</td>\n",
       "      <td>[\"en.wikipedia.org/wiki/Stuxnet\"]</td>\n",
       "      <td>15.0</td>\n",
       "      <td>7.0</td>\n",
       "      <td>2010.0</td>\n",
       "    </tr>\n",
       "    <tr>\n",
       "      <th>3</th>\n",
       "      <td>Iran's main oil export terminals</td>\n",
       "      <td>Iran</td>\n",
       "      <td>6</td>\n",
       "      <td>Shutdown 6 terminals</td>\n",
       "      <td>6 terminals ops. affected by Flame malware. Ne...</td>\n",
       "      <td>[\"bbc.com/news/world-middle-east-59062907\",\"ir...</td>\n",
       "      <td>22.0</td>\n",
       "      <td>4.0</td>\n",
       "      <td>2012.0</td>\n",
       "    </tr>\n",
       "    <tr>\n",
       "      <th>12</th>\n",
       "      <td>German steel mill</td>\n",
       "      <td>Germany</td>\n",
       "      <td>1</td>\n",
       "      <td>Caused \"massive damage\" to plant equipment</td>\n",
       "      <td>Sophisticated attack using spear phishing and ...</td>\n",
       "      <td>[\"bbc.com/news/technology-30575104\"]</td>\n",
       "      <td>22.0</td>\n",
       "      <td>12.0</td>\n",
       "      <td>2014.0</td>\n",
       "    </tr>\n",
       "  </tbody>\n",
       "</table>\n",
       "</div>"
      ],
      "text/plain": [
       "                              victim   region  sites  \\\n",
       "id                                                     \n",
       "0                            Stuxnet     Iran      1   \n",
       "3   Iran's main oil export terminals     Iran      6   \n",
       "12                 German steel mill  Germany      1   \n",
       "\n",
       "                   ot_or_physical_consecuences  \\\n",
       "id                                               \n",
       "0         Destroyed 1000 centrifuges at Natanz   \n",
       "3                         Shutdown 6 terminals   \n",
       "12  Caused \"massive damage\" to plant equipment   \n",
       "\n",
       "                                     incident_summary  \\\n",
       "id                                                      \n",
       "0   Plant was infected by the Stuxnet worm in a ta...   \n",
       "3   6 terminals ops. affected by Flame malware. Ne...   \n",
       "12  Sophisticated attack using spear phishing and ...   \n",
       "\n",
       "                                           references   day  month    year  \n",
       "id                                                                          \n",
       "0                   [\"en.wikipedia.org/wiki/Stuxnet\"]  15.0    7.0  2010.0  \n",
       "3   [\"bbc.com/news/world-middle-east-59062907\",\"ir...  22.0    4.0  2012.0  \n",
       "12               [\"bbc.com/news/technology-30575104\"]  22.0   12.0  2014.0  "
      ]
     },
     "execution_count": 97,
     "metadata": {},
     "output_type": "execute_result"
    }
   ],
   "source": [
    "df[v_continuas].head(3)"
   ]
  },
  {
   "cell_type": "code",
   "execution_count": 98,
   "metadata": {},
   "outputs": [
    {
     "data": {
      "text/plain": [
       "victim                          object\n",
       "region                          object\n",
       "sites                            int64\n",
       "ot_or_physical_consecuences     object\n",
       "incident_summary                object\n",
       "references                      object\n",
       "day                            float64\n",
       "month                          float64\n",
       "year                           float64\n",
       "dtype: object"
      ]
     },
     "execution_count": 98,
     "metadata": {},
     "output_type": "execute_result"
    }
   ],
   "source": [
    "df[v_continuas].dtypes"
   ]
  },
  {
   "cell_type": "code",
   "execution_count": 99,
   "metadata": {},
   "outputs": [],
   "source": [
    "v_categoricas_cont = list(df[v_continuas].dtypes[df[v_continuas].dtypes == 'object'].index)"
   ]
  },
  {
   "cell_type": "markdown",
   "metadata": {},
   "source": [
    "##### **Region**.\n",
    "In order to perform a more effective assessment of the countries in our data, it is convenient to group them by continent. This is especially relevant because in other CSV files there are records of attacks coming from different countries, distributed across different continents.\n",
    "\n",
    "To facilitate this analysis, we will proceed to create six new columns in our dataset, each representing a specific continent. These columns will indicate with a value of 1 if the country belongs to the corresponding continent and 0 if not, that is, by assigning binary values."
   ]
  },
  {
   "cell_type": "code",
   "execution_count": 100,
   "metadata": {},
   "outputs": [
    {
     "data": {
      "text/plain": [
       "array(['Iran', 'Germany', 'Ukraine', 'France, Slovenia, Romania, India',\n",
       "       'India', 'Global', 'USA', 'Taiwan', 'Norway', 'South Africa',\n",
       "       'Belgium, Romania, China', 'Australia', 'USA & Canada',\n",
       "       'New Zealand', 'Japan, Turkey, UK, USA',\n",
       "       'Germany, France, Malaysia, USA', 'Israel', 'Canada',\n",
       "       'India, UK, Brazil, Russia, USA', 'Europe, N. & S. America, Asia',\n",
       "       'USA, Canada, UK', 'France', 'Netherlands', 'UK',\n",
       "       'Australia, Canada, USA', 'USA, Europe, S. America', 'Spain',\n",
       "       'Switzerland, Germany', 'Belgium, Africa',\n",
       "       'Malta, Belgium, Netherlands', 'Switzerland', 'N. & S. America',\n",
       "       'Belarus', 'Japan', 'Russia', 'Greece', 'Bulgaria', 'Costa Rica',\n",
       "       'USA & Europe', 'Mexico', 'UK, USA', 'Austria',\n",
       "       'Austria, Canada, Finland, USA', 'Ghana', 'Germany, USA',\n",
       "       'Denmark', 'Finland', 'Italy', 'Luxembourg', 'Colombia'],\n",
       "      dtype=object)"
      ]
     },
     "execution_count": 100,
     "metadata": {},
     "output_type": "execute_result"
    }
   ],
   "source": [
    "df['region'].unique()"
   ]
  },
  {
   "cell_type": "code",
   "execution_count": 101,
   "metadata": {},
   "outputs": [],
   "source": [
    "continents_mapping = {\n",
    "    'Africa': ['Ghana', 'South Africa', 'Nigeria', 'Kenya', 'Egypt', 'Morocco', 'Zimbabwe', 'Algeria'],\n",
    "    'Asia': ['Asia', 'Iran', 'India', 'Japan', 'Taiwan', 'Malaysia', 'China', 'Turkey', 'Israel', 'Saudi Arabia', 'Russia'],\n",
    "    'Europe': ['Germany', 'France', 'UK', 'Italy', 'Belgium', 'Austria', 'Sweden', 'Spain', 'Norway', 'Finland', \n",
    "               'Switzerland', 'Ukraine', 'Romania', 'Denmark', 'Bulgaria', 'Greece', 'Malta', 'Portugal', \n",
    "               'Netherlands', 'Czech Republic', 'Luxembourg', 'Belarus', 'Europe'],\n",
    "    'North America': ['USA', 'Canada', 'Mexico', 'Belize', 'Costa Rica', 'El Salvador', 'Guatemala', \n",
    "                     'Honduras', 'Nicaragua', 'Panama', 'N.'],\n",
    "    'South America': ['Brazil', 'Colombia', 'Argentina', 'Chile', 'Peru', 'Venezuela',\n",
    "                      'S. America'],\n",
    "    'Australia': ['Australia', 'New Zealand'],\n",
    "    'Africa, Asia, North America, Europe, South America, Australia': ['Global']\n",
    "}"
   ]
  },
  {
   "cell_type": "code",
   "execution_count": 102,
   "metadata": {},
   "outputs": [],
   "source": [
    "def assign_continent(region):\n",
    "    region = region.replace('&', ',')\n",
    "    countries = [country.strip() for country in region.split(',')]\n",
    "    continents = set()\n",
    "    \n",
    "    for country in countries:\n",
    "        for continent, countries_list in continents_mapping.items():\n",
    "            if country in countries_list:\n",
    "                continents.add(continent)\n",
    "    \n",
    "    # Devolver una lista de continentes, unirlos como una cadena\n",
    "    return ', '.join(continents) if continents else None\n",
    "\n",
    "# Crear una nueva columna en el DataFrame con los continentes\n",
    "df['continent'] = df['region'].apply(assign_continent)"
   ]
  },
  {
   "cell_type": "code",
   "execution_count": 103,
   "metadata": {},
   "outputs": [
    {
     "name": "stdout",
     "output_type": "stream",
     "text": [
      "Lista de países con 'continent' como None:\n",
      "[]\n"
     ]
    }
   ],
   "source": [
    "countries_with_no_continent = df[df['continent'].isnull()]['region'].unique()\n",
    "\n",
    "# Mostrar la lista de países con 'continent' como None\n",
    "print(\"Lista de países con 'continent' como None:\")\n",
    "print(countries_with_no_continent)"
   ]
  },
  {
   "cell_type": "code",
   "execution_count": 104,
   "metadata": {},
   "outputs": [],
   "source": [
    "continent_dummies = df['continent'].str.get_dummies(sep=', ')\n",
    "df = pd.concat([df, continent_dummies], axis=1)"
   ]
  },
  {
   "cell_type": "code",
   "execution_count": 105,
   "metadata": {},
   "outputs": [],
   "source": [
    "df.drop(columns=['region', 'continent'], inplace=True)"
   ]
  },
  {
   "cell_type": "markdown",
   "metadata": {},
   "source": [
    "##### **References**.\n",
    "This column will be used later to define the relationships between CSVs. We will need to extract the domain name from the URL."
   ]
  },
  {
   "cell_type": "code",
   "execution_count": 106,
   "metadata": {},
   "outputs": [],
   "source": [
    "def clean_references(references):\n",
    "    references = references.strip(\"[]\")\n",
    "    references = references.replace('\"', '').replace(\"'\", '')\n",
    "    references = references.replace(',', ', ')\n",
    "\n",
    "    references = re.sub(r'(\\.com|\\.org|\\.es|\\.net|\\.co|\\.gov|\\.edu|\\.int|\\.mil)[^\\s,]*', r'\\1', references)\n",
    "    \n",
    "    return references\n",
    "\n",
    "# Aplicar la función a la columna 'references'\n",
    "df['references'] = df['references'].apply(clean_references)"
   ]
  },
  {
   "cell_type": "code",
   "execution_count": 107,
   "metadata": {},
   "outputs": [
    {
     "data": {
      "text/html": [
       "<div>\n",
       "<style scoped>\n",
       "    .dataframe tbody tr th:only-of-type {\n",
       "        vertical-align: middle;\n",
       "    }\n",
       "\n",
       "    .dataframe tbody tr th {\n",
       "        vertical-align: top;\n",
       "    }\n",
       "\n",
       "    .dataframe thead th {\n",
       "        text-align: right;\n",
       "    }\n",
       "</style>\n",
       "<table border=\"1\" class=\"dataframe\">\n",
       "  <thead>\n",
       "    <tr style=\"text-align: right;\">\n",
       "      <th></th>\n",
       "      <th>victim</th>\n",
       "      <th>threat_actor</th>\n",
       "      <th>sites</th>\n",
       "      <th>ot_or_physical_consecuences</th>\n",
       "      <th>incident_summary</th>\n",
       "      <th>references</th>\n",
       "      <th>day</th>\n",
       "      <th>month</th>\n",
       "      <th>year</th>\n",
       "      <th>industry_Agriculture</th>\n",
       "      <th>...</th>\n",
       "      <th>industry_Manufacturing</th>\n",
       "      <th>industry_Mining</th>\n",
       "      <th>industry_Transportation</th>\n",
       "      <th>industry_Water</th>\n",
       "      <th>Africa</th>\n",
       "      <th>Asia</th>\n",
       "      <th>Australia</th>\n",
       "      <th>Europe</th>\n",
       "      <th>North America</th>\n",
       "      <th>South America</th>\n",
       "    </tr>\n",
       "    <tr>\n",
       "      <th>id</th>\n",
       "      <th></th>\n",
       "      <th></th>\n",
       "      <th></th>\n",
       "      <th></th>\n",
       "      <th></th>\n",
       "      <th></th>\n",
       "      <th></th>\n",
       "      <th></th>\n",
       "      <th></th>\n",
       "      <th></th>\n",
       "      <th></th>\n",
       "      <th></th>\n",
       "      <th></th>\n",
       "      <th></th>\n",
       "      <th></th>\n",
       "      <th></th>\n",
       "      <th></th>\n",
       "      <th></th>\n",
       "      <th></th>\n",
       "      <th></th>\n",
       "      <th></th>\n",
       "    </tr>\n",
       "  </thead>\n",
       "  <tbody>\n",
       "    <tr>\n",
       "      <th>0</th>\n",
       "      <td>Stuxnet</td>\n",
       "      <td>1.0</td>\n",
       "      <td>1</td>\n",
       "      <td>Destroyed 1000 centrifuges at Natanz</td>\n",
       "      <td>Plant was infected by the Stuxnet worm in a ta...</td>\n",
       "      <td>en.wikipedia.org</td>\n",
       "      <td>15.0</td>\n",
       "      <td>7.0</td>\n",
       "      <td>2010.0</td>\n",
       "      <td>False</td>\n",
       "      <td>...</td>\n",
       "      <td>True</td>\n",
       "      <td>False</td>\n",
       "      <td>False</td>\n",
       "      <td>False</td>\n",
       "      <td>0</td>\n",
       "      <td>1</td>\n",
       "      <td>0</td>\n",
       "      <td>0</td>\n",
       "      <td>0</td>\n",
       "      <td>0</td>\n",
       "    </tr>\n",
       "    <tr>\n",
       "      <th>3</th>\n",
       "      <td>Iran's main oil export terminals</td>\n",
       "      <td>1.0</td>\n",
       "      <td>6</td>\n",
       "      <td>Shutdown 6 terminals</td>\n",
       "      <td>6 terminals ops. affected by Flame malware. Ne...</td>\n",
       "      <td>bbc.com, iranprimer.usip.org</td>\n",
       "      <td>22.0</td>\n",
       "      <td>4.0</td>\n",
       "      <td>2012.0</td>\n",
       "      <td>False</td>\n",
       "      <td>...</td>\n",
       "      <td>False</td>\n",
       "      <td>False</td>\n",
       "      <td>False</td>\n",
       "      <td>False</td>\n",
       "      <td>0</td>\n",
       "      <td>1</td>\n",
       "      <td>0</td>\n",
       "      <td>0</td>\n",
       "      <td>0</td>\n",
       "      <td>0</td>\n",
       "    </tr>\n",
       "    <tr>\n",
       "      <th>12</th>\n",
       "      <td>German steel mill</td>\n",
       "      <td>3.0</td>\n",
       "      <td>1</td>\n",
       "      <td>Caused \"massive damage\" to plant equipment</td>\n",
       "      <td>Sophisticated attack using spear phishing and ...</td>\n",
       "      <td>bbc.com</td>\n",
       "      <td>22.0</td>\n",
       "      <td>12.0</td>\n",
       "      <td>2014.0</td>\n",
       "      <td>False</td>\n",
       "      <td>...</td>\n",
       "      <td>False</td>\n",
       "      <td>True</td>\n",
       "      <td>False</td>\n",
       "      <td>False</td>\n",
       "      <td>0</td>\n",
       "      <td>0</td>\n",
       "      <td>0</td>\n",
       "      <td>1</td>\n",
       "      <td>0</td>\n",
       "      <td>0</td>\n",
       "    </tr>\n",
       "  </tbody>\n",
       "</table>\n",
       "<p>3 rows × 21 columns</p>\n",
       "</div>"
      ],
      "text/plain": [
       "                              victim  threat_actor  sites  \\\n",
       "id                                                          \n",
       "0                            Stuxnet           1.0      1   \n",
       "3   Iran's main oil export terminals           1.0      6   \n",
       "12                 German steel mill           3.0      1   \n",
       "\n",
       "                   ot_or_physical_consecuences  \\\n",
       "id                                               \n",
       "0         Destroyed 1000 centrifuges at Natanz   \n",
       "3                         Shutdown 6 terminals   \n",
       "12  Caused \"massive damage\" to plant equipment   \n",
       "\n",
       "                                     incident_summary  \\\n",
       "id                                                      \n",
       "0   Plant was infected by the Stuxnet worm in a ta...   \n",
       "3   6 terminals ops. affected by Flame malware. Ne...   \n",
       "12  Sophisticated attack using spear phishing and ...   \n",
       "\n",
       "                      references   day  month    year  industry_Agriculture  \\\n",
       "id                                                                            \n",
       "0               en.wikipedia.org  15.0    7.0  2010.0                 False   \n",
       "3   bbc.com, iranprimer.usip.org  22.0    4.0  2012.0                 False   \n",
       "12                       bbc.com  22.0   12.0  2014.0                 False   \n",
       "\n",
       "    ...  industry_Manufacturing  industry_Mining  industry_Transportation  \\\n",
       "id  ...                                                                     \n",
       "0   ...                    True            False                    False   \n",
       "3   ...                   False            False                    False   \n",
       "12  ...                   False             True                    False   \n",
       "\n",
       "    industry_Water  Africa  Asia  Australia  Europe  North America  \\\n",
       "id                                                                   \n",
       "0            False       0     1          0       0              0   \n",
       "3            False       0     1          0       0              0   \n",
       "12           False       0     0          0       1              0   \n",
       "\n",
       "    South America  \n",
       "id                 \n",
       "0               0  \n",
       "3               0  \n",
       "12              0  \n",
       "\n",
       "[3 rows x 21 columns]"
      ]
     },
     "execution_count": 107,
     "metadata": {},
     "output_type": "execute_result"
    }
   ],
   "source": [
    "df.head(3)"
   ]
  },
  {
   "cell_type": "code",
   "execution_count": 108,
   "metadata": {},
   "outputs": [
    {
     "data": {
      "text/html": [
       "<div>\n",
       "<style scoped>\n",
       "    .dataframe tbody tr th:only-of-type {\n",
       "        vertical-align: middle;\n",
       "    }\n",
       "\n",
       "    .dataframe tbody tr th {\n",
       "        vertical-align: top;\n",
       "    }\n",
       "\n",
       "    .dataframe thead th {\n",
       "        text-align: right;\n",
       "    }\n",
       "</style>\n",
       "<table border=\"1\" class=\"dataframe\">\n",
       "  <thead>\n",
       "    <tr style=\"text-align: right;\">\n",
       "      <th></th>\n",
       "      <th>victim</th>\n",
       "      <th>threat_actor</th>\n",
       "      <th>sites</th>\n",
       "      <th>ot_or_physical_consecuences</th>\n",
       "      <th>incident_summary</th>\n",
       "      <th>references</th>\n",
       "      <th>day</th>\n",
       "      <th>month</th>\n",
       "      <th>year</th>\n",
       "      <th>industry_Agriculture</th>\n",
       "      <th>...</th>\n",
       "      <th>industry_Manufacturing</th>\n",
       "      <th>industry_Mining</th>\n",
       "      <th>industry_Transportation</th>\n",
       "      <th>industry_Water</th>\n",
       "      <th>Africa</th>\n",
       "      <th>Asia</th>\n",
       "      <th>Australia</th>\n",
       "      <th>Europe</th>\n",
       "      <th>North America</th>\n",
       "      <th>South America</th>\n",
       "    </tr>\n",
       "    <tr>\n",
       "      <th>id</th>\n",
       "      <th></th>\n",
       "      <th></th>\n",
       "      <th></th>\n",
       "      <th></th>\n",
       "      <th></th>\n",
       "      <th></th>\n",
       "      <th></th>\n",
       "      <th></th>\n",
       "      <th></th>\n",
       "      <th></th>\n",
       "      <th></th>\n",
       "      <th></th>\n",
       "      <th></th>\n",
       "      <th></th>\n",
       "      <th></th>\n",
       "      <th></th>\n",
       "      <th></th>\n",
       "      <th></th>\n",
       "      <th></th>\n",
       "      <th></th>\n",
       "      <th></th>\n",
       "    </tr>\n",
       "  </thead>\n",
       "  <tbody>\n",
       "    <tr>\n",
       "      <th>0</th>\n",
       "      <td>Stuxnet</td>\n",
       "      <td>1.0</td>\n",
       "      <td>1</td>\n",
       "      <td>Destroyed 1000 centrifuges at Natanz</td>\n",
       "      <td>Plant was infected by the Stuxnet worm in a ta...</td>\n",
       "      <td>en.wikipedia.org</td>\n",
       "      <td>15.0</td>\n",
       "      <td>7.0</td>\n",
       "      <td>2010.0</td>\n",
       "      <td>False</td>\n",
       "      <td>...</td>\n",
       "      <td>True</td>\n",
       "      <td>False</td>\n",
       "      <td>False</td>\n",
       "      <td>False</td>\n",
       "      <td>0</td>\n",
       "      <td>1</td>\n",
       "      <td>0</td>\n",
       "      <td>0</td>\n",
       "      <td>0</td>\n",
       "      <td>0</td>\n",
       "    </tr>\n",
       "    <tr>\n",
       "      <th>3</th>\n",
       "      <td>Iran's main oil export terminals</td>\n",
       "      <td>1.0</td>\n",
       "      <td>6</td>\n",
       "      <td>Shutdown 6 terminals</td>\n",
       "      <td>6 terminals ops. affected by Flame malware. Ne...</td>\n",
       "      <td>bbc.com, iranprimer.usip.org</td>\n",
       "      <td>22.0</td>\n",
       "      <td>4.0</td>\n",
       "      <td>2012.0</td>\n",
       "      <td>False</td>\n",
       "      <td>...</td>\n",
       "      <td>False</td>\n",
       "      <td>False</td>\n",
       "      <td>False</td>\n",
       "      <td>False</td>\n",
       "      <td>0</td>\n",
       "      <td>1</td>\n",
       "      <td>0</td>\n",
       "      <td>0</td>\n",
       "      <td>0</td>\n",
       "      <td>0</td>\n",
       "    </tr>\n",
       "    <tr>\n",
       "      <th>12</th>\n",
       "      <td>German steel mill</td>\n",
       "      <td>3.0</td>\n",
       "      <td>1</td>\n",
       "      <td>Caused \"massive damage\" to plant equipment</td>\n",
       "      <td>Sophisticated attack using spear phishing and ...</td>\n",
       "      <td>bbc.com</td>\n",
       "      <td>22.0</td>\n",
       "      <td>12.0</td>\n",
       "      <td>2014.0</td>\n",
       "      <td>False</td>\n",
       "      <td>...</td>\n",
       "      <td>False</td>\n",
       "      <td>True</td>\n",
       "      <td>False</td>\n",
       "      <td>False</td>\n",
       "      <td>0</td>\n",
       "      <td>0</td>\n",
       "      <td>0</td>\n",
       "      <td>1</td>\n",
       "      <td>0</td>\n",
       "      <td>0</td>\n",
       "    </tr>\n",
       "    <tr>\n",
       "      <th>15</th>\n",
       "      <td>Prykarpattyaoblenergo, Chernivtsioblenergo, Ky...</td>\n",
       "      <td>1.0</td>\n",
       "      <td>32</td>\n",
       "      <td>Power outage lasts up to 6 hours affecting 230...</td>\n",
       "      <td>First publicly known attack on a power grid oc...</td>\n",
       "      <td>en.wikipedia.org, arstechnica.com</td>\n",
       "      <td>13.0</td>\n",
       "      <td>12.0</td>\n",
       "      <td>2015.0</td>\n",
       "      <td>False</td>\n",
       "      <td>...</td>\n",
       "      <td>False</td>\n",
       "      <td>False</td>\n",
       "      <td>False</td>\n",
       "      <td>False</td>\n",
       "      <td>0</td>\n",
       "      <td>0</td>\n",
       "      <td>0</td>\n",
       "      <td>1</td>\n",
       "      <td>0</td>\n",
       "      <td>0</td>\n",
       "    </tr>\n",
       "    <tr>\n",
       "      <th>21</th>\n",
       "      <td>Pivnichna substation, Kyiv</td>\n",
       "      <td>1.0</td>\n",
       "      <td>1</td>\n",
       "      <td>Power outage for 20% of Kyiv for over 1 hour</td>\n",
       "      <td>Sandworm suspected in deploying Industroyer (a...</td>\n",
       "      <td>en.wikipedia.org, arstechnica.com</td>\n",
       "      <td>17.0</td>\n",
       "      <td>12.0</td>\n",
       "      <td>2016.0</td>\n",
       "      <td>False</td>\n",
       "      <td>...</td>\n",
       "      <td>False</td>\n",
       "      <td>False</td>\n",
       "      <td>False</td>\n",
       "      <td>False</td>\n",
       "      <td>0</td>\n",
       "      <td>0</td>\n",
       "      <td>0</td>\n",
       "      <td>1</td>\n",
       "      <td>0</td>\n",
       "      <td>0</td>\n",
       "    </tr>\n",
       "    <tr>\n",
       "      <th>...</th>\n",
       "      <td>...</td>\n",
       "      <td>...</td>\n",
       "      <td>...</td>\n",
       "      <td>...</td>\n",
       "      <td>...</td>\n",
       "      <td>...</td>\n",
       "      <td>...</td>\n",
       "      <td>...</td>\n",
       "      <td>...</td>\n",
       "      <td>...</td>\n",
       "      <td>...</td>\n",
       "      <td>...</td>\n",
       "      <td>...</td>\n",
       "      <td>...</td>\n",
       "      <td>...</td>\n",
       "      <td>...</td>\n",
       "      <td>...</td>\n",
       "      <td>...</td>\n",
       "      <td>...</td>\n",
       "      <td>...</td>\n",
       "      <td>...</td>\n",
       "    </tr>\n",
       "    <tr>\n",
       "      <th>523</th>\n",
       "      <td>Fruttagel</td>\n",
       "      <td>2.0</td>\n",
       "      <td>1</td>\n",
       "      <td>Shutdown production for 4+ days</td>\n",
       "      <td>A BlackCat (ALPHV) ransomware attack on Frutta...</td>\n",
       "      <td>icsstrive.com</td>\n",
       "      <td>11.0</td>\n",
       "      <td>12.0</td>\n",
       "      <td>2022.0</td>\n",
       "      <td>True</td>\n",
       "      <td>...</td>\n",
       "      <td>False</td>\n",
       "      <td>False</td>\n",
       "      <td>False</td>\n",
       "      <td>False</td>\n",
       "      <td>0</td>\n",
       "      <td>0</td>\n",
       "      <td>0</td>\n",
       "      <td>1</td>\n",
       "      <td>0</td>\n",
       "      <td>0</td>\n",
       "    </tr>\n",
       "    <tr>\n",
       "      <th>527</th>\n",
       "      <td>Empresas Públicas de Medellín (EPM)</td>\n",
       "      <td>2.0</td>\n",
       "      <td>1</td>\n",
       "      <td>Trucked in water for 28k customers on pre-paid...</td>\n",
       "      <td>A BlackCat (ALPHV) ransomware attack shut off ...</td>\n",
       "      <td>isssource.com</td>\n",
       "      <td>13.0</td>\n",
       "      <td>12.0</td>\n",
       "      <td>2022.0</td>\n",
       "      <td>False</td>\n",
       "      <td>...</td>\n",
       "      <td>False</td>\n",
       "      <td>False</td>\n",
       "      <td>False</td>\n",
       "      <td>True</td>\n",
       "      <td>0</td>\n",
       "      <td>0</td>\n",
       "      <td>0</td>\n",
       "      <td>0</td>\n",
       "      <td>0</td>\n",
       "      <td>1</td>\n",
       "    </tr>\n",
       "    <tr>\n",
       "      <th>531</th>\n",
       "      <td>Technolit GmbH, in Grossenlüder</td>\n",
       "      <td>3.0</td>\n",
       "      <td>1</td>\n",
       "      <td>Shutdown operations and sent employees home</td>\n",
       "      <td>A German manufacturer and distributor of weldi...</td>\n",
       "      <td>icsstrive.com</td>\n",
       "      <td>22.0</td>\n",
       "      <td>12.0</td>\n",
       "      <td>2022.0</td>\n",
       "      <td>False</td>\n",
       "      <td>...</td>\n",
       "      <td>True</td>\n",
       "      <td>False</td>\n",
       "      <td>False</td>\n",
       "      <td>False</td>\n",
       "      <td>0</td>\n",
       "      <td>0</td>\n",
       "      <td>0</td>\n",
       "      <td>1</td>\n",
       "      <td>0</td>\n",
       "      <td>0</td>\n",
       "    </tr>\n",
       "    <tr>\n",
       "      <th>535</th>\n",
       "      <td>Copper Mountain Mining Corporation (CMCC)</td>\n",
       "      <td>2.0</td>\n",
       "      <td>1</td>\n",
       "      <td>Shutdown operations for 5 days (pre-emptive), ...</td>\n",
       "      <td>CMCC shutdown mining ops out of an abundance o...</td>\n",
       "      <td>isssource.com</td>\n",
       "      <td>27.0</td>\n",
       "      <td>12.0</td>\n",
       "      <td>2022.0</td>\n",
       "      <td>False</td>\n",
       "      <td>...</td>\n",
       "      <td>False</td>\n",
       "      <td>True</td>\n",
       "      <td>False</td>\n",
       "      <td>False</td>\n",
       "      <td>0</td>\n",
       "      <td>0</td>\n",
       "      <td>0</td>\n",
       "      <td>0</td>\n",
       "      <td>1</td>\n",
       "      <td>0</td>\n",
       "    </tr>\n",
       "    <tr>\n",
       "      <th>538</th>\n",
       "      <td>Beneteau SA</td>\n",
       "      <td>2.0</td>\n",
       "      <td>2</td>\n",
       "      <td>Shutdown for 3-4 weeks at several plants</td>\n",
       "      <td>Boat manufacturer hit by ransomware, impacting...</td>\n",
       "      <td>boatindustry.com</td>\n",
       "      <td>18.0</td>\n",
       "      <td>2.0</td>\n",
       "      <td>2021.0</td>\n",
       "      <td>False</td>\n",
       "      <td>...</td>\n",
       "      <td>True</td>\n",
       "      <td>False</td>\n",
       "      <td>False</td>\n",
       "      <td>False</td>\n",
       "      <td>0</td>\n",
       "      <td>0</td>\n",
       "      <td>0</td>\n",
       "      <td>1</td>\n",
       "      <td>0</td>\n",
       "      <td>0</td>\n",
       "    </tr>\n",
       "  </tbody>\n",
       "</table>\n",
       "<p>112 rows × 21 columns</p>\n",
       "</div>"
      ],
      "text/plain": [
       "                                                victim  threat_actor  sites  \\\n",
       "id                                                                            \n",
       "0                                              Stuxnet           1.0      1   \n",
       "3                     Iran's main oil export terminals           1.0      6   \n",
       "12                                   German steel mill           3.0      1   \n",
       "15   Prykarpattyaoblenergo, Chernivtsioblenergo, Ky...           1.0     32   \n",
       "21                          Pivnichna substation, Kyiv           1.0      1   \n",
       "..                                                 ...           ...    ...   \n",
       "523                                          Fruttagel           2.0      1   \n",
       "527                Empresas Públicas de Medellín (EPM)           2.0      1   \n",
       "531                    Technolit GmbH, in Grossenlüder           3.0      1   \n",
       "535          Copper Mountain Mining Corporation (CMCC)           2.0      1   \n",
       "538                                        Beneteau SA           2.0      2   \n",
       "\n",
       "                           ot_or_physical_consecuences  \\\n",
       "id                                                       \n",
       "0                 Destroyed 1000 centrifuges at Natanz   \n",
       "3                                 Shutdown 6 terminals   \n",
       "12          Caused \"massive damage\" to plant equipment   \n",
       "15   Power outage lasts up to 6 hours affecting 230...   \n",
       "21        Power outage for 20% of Kyiv for over 1 hour   \n",
       "..                                                 ...   \n",
       "523                    Shutdown production for 4+ days   \n",
       "527  Trucked in water for 28k customers on pre-paid...   \n",
       "531        Shutdown operations and sent employees home   \n",
       "535  Shutdown operations for 5 days (pre-emptive), ...   \n",
       "538           Shutdown for 3-4 weeks at several plants   \n",
       "\n",
       "                                      incident_summary  \\\n",
       "id                                                       \n",
       "0    Plant was infected by the Stuxnet worm in a ta...   \n",
       "3    6 terminals ops. affected by Flame malware. Ne...   \n",
       "12   Sophisticated attack using spear phishing and ...   \n",
       "15   First publicly known attack on a power grid oc...   \n",
       "21   Sandworm suspected in deploying Industroyer (a...   \n",
       "..                                                 ...   \n",
       "523  A BlackCat (ALPHV) ransomware attack on Frutta...   \n",
       "527  A BlackCat (ALPHV) ransomware attack shut off ...   \n",
       "531  A German manufacturer and distributor of weldi...   \n",
       "535  CMCC shutdown mining ops out of an abundance o...   \n",
       "538  Boat manufacturer hit by ransomware, impacting...   \n",
       "\n",
       "                            references   day  month    year  \\\n",
       "id                                                            \n",
       "0                     en.wikipedia.org  15.0    7.0  2010.0   \n",
       "3         bbc.com, iranprimer.usip.org  22.0    4.0  2012.0   \n",
       "12                             bbc.com  22.0   12.0  2014.0   \n",
       "15   en.wikipedia.org, arstechnica.com  13.0   12.0  2015.0   \n",
       "21   en.wikipedia.org, arstechnica.com  17.0   12.0  2016.0   \n",
       "..                                 ...   ...    ...     ...   \n",
       "523                      icsstrive.com  11.0   12.0  2022.0   \n",
       "527                      isssource.com  13.0   12.0  2022.0   \n",
       "531                      icsstrive.com  22.0   12.0  2022.0   \n",
       "535                      isssource.com  27.0   12.0  2022.0   \n",
       "538                   boatindustry.com  18.0    2.0  2021.0   \n",
       "\n",
       "     industry_Agriculture  ...  industry_Manufacturing  industry_Mining  \\\n",
       "id                         ...                                            \n",
       "0                   False  ...                    True            False   \n",
       "3                   False  ...                   False            False   \n",
       "12                  False  ...                   False             True   \n",
       "15                  False  ...                   False            False   \n",
       "21                  False  ...                   False            False   \n",
       "..                    ...  ...                     ...              ...   \n",
       "523                  True  ...                   False            False   \n",
       "527                 False  ...                   False            False   \n",
       "531                 False  ...                    True            False   \n",
       "535                 False  ...                   False             True   \n",
       "538                 False  ...                    True            False   \n",
       "\n",
       "     industry_Transportation  industry_Water  Africa  Asia  Australia  Europe  \\\n",
       "id                                                                              \n",
       "0                      False           False       0     1          0       0   \n",
       "3                      False           False       0     1          0       0   \n",
       "12                     False           False       0     0          0       1   \n",
       "15                     False           False       0     0          0       1   \n",
       "21                     False           False       0     0          0       1   \n",
       "..                       ...             ...     ...   ...        ...     ...   \n",
       "523                    False           False       0     0          0       1   \n",
       "527                    False            True       0     0          0       0   \n",
       "531                    False           False       0     0          0       1   \n",
       "535                    False           False       0     0          0       0   \n",
       "538                    False           False       0     0          0       1   \n",
       "\n",
       "     North America  South America  \n",
       "id                                 \n",
       "0                0              0  \n",
       "3                0              0  \n",
       "12               0              0  \n",
       "15               0              0  \n",
       "21               0              0  \n",
       "..             ...            ...  \n",
       "523              0              0  \n",
       "527              0              1  \n",
       "531              0              0  \n",
       "535              1              0  \n",
       "538              0              0  \n",
       "\n",
       "[112 rows x 21 columns]"
      ]
     },
     "execution_count": 108,
     "metadata": {},
     "output_type": "execute_result"
    }
   ],
   "source": [
    "df"
   ]
  },
  {
   "cell_type": "markdown",
   "metadata": {},
   "source": [
    "## Classification models."
   ]
  },
  {
   "cell_type": "code",
   "execution_count": 109,
   "metadata": {},
   "outputs": [],
   "source": [
    "df_1 = df.drop(list(df.select_dtypes(include=['object']).columns), axis = 1)"
   ]
  },
  {
   "cell_type": "code",
   "execution_count": 110,
   "metadata": {},
   "outputs": [
    {
     "data": {
      "text/plain": [
       "threat_actor                4\n",
       "sites                      19\n",
       "day                        31\n",
       "month                      12\n",
       "year                       11\n",
       "industry_Agriculture        2\n",
       "industry_Energy             2\n",
       "industry_Manufacturing      2\n",
       "industry_Mining             2\n",
       "industry_Transportation     2\n",
       "industry_Water              2\n",
       "Africa                      2\n",
       "Asia                        2\n",
       "Australia                   2\n",
       "Europe                      2\n",
       "North America               2\n",
       "South America               2\n",
       "dtype: int64"
      ]
     },
     "execution_count": 110,
     "metadata": {},
     "output_type": "execute_result"
    }
   ],
   "source": [
    "df_1.nunique()"
   ]
  },
  {
   "cell_type": "code",
   "execution_count": 111,
   "metadata": {},
   "outputs": [],
   "source": [
    "X = df_1.drop('threat_actor', axis=1)\n",
    "y = df_1['threat_actor']"
   ]
  },
  {
   "cell_type": "code",
   "execution_count": 112,
   "metadata": {},
   "outputs": [
    {
     "name": "stdout",
     "output_type": "stream",
     "text": [
      "(89, 16)\n",
      "(23, 16)\n"
     ]
    }
   ],
   "source": [
    "X_train, X_test, y_train, y_test = train_test_split(X, y, train_size = 0.8, random_state=42)\n",
    "print(X_train.shape)\n",
    "print(X_test.shape)"
   ]
  },
  {
   "cell_type": "code",
   "execution_count": 113,
   "metadata": {},
   "outputs": [
    {
     "name": "stdout",
     "output_type": "stream",
     "text": [
      "Resultados de los modelos:\n",
      "Random Forest: 0.797979797979798\n",
      "Regresión Logística: 0.8088383838383838\n",
      "Árbol de Decisión: 0.7196969696969697\n",
      "\n",
      "El mejor modelo es: Regresión Logística\n"
     ]
    }
   ],
   "source": [
    "def mejor_modelo(X, y, modelos):\n",
    "    resultados = {}\n",
    "    for nombre, modelo in modelos.items():\n",
    "      if nombre == 'Regresión Logística':\n",
    "        scaler = StandardScaler()\n",
    "        X = scaler.fit_transform(X)\n",
    "      scores = cross_val_score(modelo, X, y, cv=2, scoring='accuracy')\n",
    "      resultados[nombre] = scores.mean()\n",
    "\n",
    "    mejor = max(resultados, key=resultados.get)\n",
    "    return mejor, resultados\n",
    "\n",
    "modelos = {\n",
    "    'Random Forest': RandomForestClassifier(),\n",
    "    'Regresión Logística': LogisticRegression(max_iter=1000),\n",
    "    'Árbol de Decisión': DecisionTreeClassifier()\n",
    "}\n",
    "\n",
    "mejor, resultados = mejor_modelo(X_train, y_train, modelos)\n",
    "\n",
    "print(\"Resultados de los modelos:\")\n",
    "for modelo, score in resultados.items():\n",
    "    print(f\"{modelo}: {score}\")\n",
    "\n",
    "print(f\"\\nEl mejor modelo es: {mejor}\")"
   ]
  },
  {
   "cell_type": "markdown",
   "metadata": {},
   "source": [
    "#### Confusion Matrix.\n",
    "The correlation matrix is ​​a statistical tool that illustrates the relationship between several variables in a dataset. Each cell in the matrix reflects the correlation coefficient between two variables, which can range from -1 to 1. The closer the absolute value is to 1, the stronger the relationship between the variables."
   ]
  },
  {
   "cell_type": "code",
   "execution_count": 114,
   "metadata": {},
   "outputs": [
    {
     "data": {
      "image/png": "[encoded data removed]",
      "text/plain": [
       "<Figure size 1200x800 with 2 Axes>"
      ]
     },
     "metadata": {},
     "output_type": "display_data"
    }
   ],
   "source": [
    "correlation_matrix = df_1.corr()\n",
    "plt.figure(figsize=(12, 8))\n",
    "sns.heatmap(correlation_matrix, annot=True, cmap='coolwarm', cbar=True, fmt=\".2f\")\n",
    "plt.title('Correlation Matrix between Continuous Variables')\n",
    "plt.show()"
   ]
  },
  {
   "cell_type": "markdown",
   "metadata": {},
   "source": [
    "## Overview graphs."
   ]
  },
  {
   "cell_type": "markdown",
   "metadata": {},
   "source": [
    "### Number of Incidents by Industry."
   ]
  },
  {
   "cell_type": "code",
   "execution_count": 115,
   "metadata": {},
   "outputs": [
    {
     "name": "stderr",
     "output_type": "stream",
     "text": [
      "C:\\Users\\Daniel Bolaños\\AppData\\Local\\Temp\\ipykernel_23264\\3158395194.py:4: FutureWarning: \n",
      "\n",
      "Passing `palette` without assigning `hue` is deprecated and will be removed in v0.14.0. Assign the `x` variable to `hue` and set `legend=False` for the same effect.\n",
      "\n",
      "  sns.barplot(x=industry_counts.index.str.replace('industry_', ''), y=industry_counts.values, palette='viridis')\n"
     ]
    },
    {
     "data": {
      "image/png": "[encoded data removed]",
      "text/plain": [
       "<Figure size 1000x600 with 1 Axes>"
      ]
     },
     "metadata": {},
     "output_type": "display_data"
    }
   ],
   "source": [
    "industry_counts = df.filter(like='industry_').sum()\n",
    "\n",
    "plt.figure(figsize=(10, 6))\n",
    "sns.barplot(x=industry_counts.index.str.replace('industry_', ''), y=industry_counts.values, palette='viridis')\n",
    "plt.title('Number of Incidents by Industry')\n",
    "plt.xlabel('Industry')\n",
    "plt.ylabel('Number of Incidents')\n",
    "plt.xticks(rotation=45)\n",
    "plt.tight_layout()\n",
    "plt.show()"
   ]
  },
  {
   "cell_type": "markdown",
   "metadata": {},
   "source": [
    "This bar chart displays the number of cybersecurity incidents classified by industry. It allows for a quick identification of the sectors most affected by these incidents. We can see that \"process manufacturing\" and \"oil & gas\" have a significant number of incidents, indicating the vulnerability of these industries to cyberattacks."
   ]
  },
  {
   "cell_type": "markdown",
   "metadata": {},
   "source": [
    "This chart presents the number of incidents by region. It helps understand the geographic areas most exposed to cyberattacks. Here, we observe a concentration of incidents in Iran and Europe, suggesting that these regions might be focal points for improving cybersecurity."
   ]
  },
  {
   "cell_type": "markdown",
   "metadata": {},
   "source": [
    "### Number of Incidents by Continent."
   ]
  },
  {
   "cell_type": "code",
   "execution_count": 116,
   "metadata": {},
   "outputs": [
    {
     "name": "stderr",
     "output_type": "stream",
     "text": [
      "C:\\Users\\Daniel Bolaños\\AppData\\Local\\Temp\\ipykernel_23264\\1790244416.py:4: FutureWarning: \n",
      "\n",
      "Passing `palette` without assigning `hue` is deprecated and will be removed in v0.14.0. Assign the `x` variable to `hue` and set `legend=False` for the same effect.\n",
      "\n",
      "  sns.barplot(x=continent_counts.index, y=continent_counts.values, palette='viridis')\n"
     ]
    },
    {
     "data": {
      "image/png": "[encoded data removed]",
      "text/plain": [
       "<Figure size 1000x600 with 1 Axes>"
      ]
     },
     "metadata": {},
     "output_type": "display_data"
    }
   ],
   "source": [
    "continent_counts = df[['Africa', 'Asia', 'Europe', 'North America', 'South America', 'Australia']].sum()\n",
    "\n",
    "plt.figure(figsize=(10, 6))\n",
    "sns.barplot(x=continent_counts.index, y=continent_counts.values, palette='viridis')\n",
    "plt.title('Number of Incidents by Continent')\n",
    "plt.xlabel('Continent')\n",
    "plt.ylabel('Number of Incidents')\n",
    "plt.xticks(rotation=45)\n",
    "plt.tight_layout()\n",
    "plt.show()\n"
   ]
  },
  {
   "cell_type": "markdown",
   "metadata": {},
   "source": [
    "This chart represents the number of cybersecurity incidents by continent based on the cleaned CSV data. Europe is the most affected continent with over 50 incidents, likely due to the concentration of advanced technological infrastructure and critical sectors that make it a prime target for cyberattacks. North America follows closely with around 40 incidents, reflecting its heavy reliance on digitalization across industries and commerce, which exposes it to significant cyber risks. Asia, with approximately 25 incidents, ranks third, as its growing economy and critical infrastructure also attract cyber threats. Africa, South America, and Australia report significantly fewer incidents, with Africa showing under 10, and South America and Australia reporting slightly higher numbers but still relatively low compared to other continents. \n",
    "\n",
    "This disparity could be due to a combination of less digital infrastructure in some regions and underreporting of incidents. Overall, the chart highlights that regions with more developed economies and digital infrastructures, like Europe and North America, are the most impacted, underscoring the need for robust cybersecurity measures in these areas, while Asia’s growing incident count also emphasizes the importance of security in emerging regions. The lower numbers in other continents may indicate either a lack of reporting or less technologically advanced infrastructures.\n"
   ]
  },
  {
   "cell_type": "markdown",
   "metadata": {},
   "source": [
    "### Comparison of Incidents by Industry Over Years."
   ]
  },
  {
   "cell_type": "code",
   "execution_count": 117,
   "metadata": {},
   "outputs": [
    {
     "data": {
      "image/png": "[encoded data removed]",
      "text/plain": [
       "<Figure size 1200x800 with 1 Axes>"
      ]
     },
     "metadata": {},
     "output_type": "display_data"
    }
   ],
   "source": [
    "incidents_by_year_and_industry = df.groupby('year')[df.filter(like='industry_').columns].sum()\n",
    "\n",
    "plt.figure(figsize=(12, 8))\n",
    "for column in incidents_by_year_and_industry.columns:\n",
    "    sns.lineplot(data=incidents_by_year_and_industry, x=incidents_by_year_and_industry.index, y=incidents_by_year_and_industry[column], marker='o', label=column)\n",
    "\n",
    "plt.title('Comparison of Incidents by Industry Over Years')\n",
    "plt.xlabel('Year')\n",
    "plt.ylabel('Number of Incidents')\n",
    "plt.legend(title='Industry', bbox_to_anchor=(1.05, 1), loc='upper left')\n",
    "plt.grid(True)\n",
    "plt.tight_layout()\n",
    "plt.show()\n"
   ]
  },
  {
   "cell_type": "markdown",
   "metadata": {},
   "source": [
    "The line plot shows a sharp rise in cybersecurity incidents since 2019, with Manufacturing and Transportation being the most affected, especially in 2022. Agriculture has also seen steady growth in incidents, while Water and Mining show few reported cases. The Energy sector remains relatively stable but shows increased vulnerability after 2020. Overall, the trend highlights growing cyber threats, particularly for Manufacturing, Transportation, and Agriculture as they become more digitally interconnected."
   ]
  },
  {
   "cell_type": "markdown",
   "metadata": {},
   "source": [
    "Extensión del análisis de texto (NLP)"
   ]
  },
  {
   "cell_type": "code",
   "execution_count": 124,
   "metadata": {},
   "outputs": [
    {
     "name": "stdout",
     "output_type": "stream",
     "text": [
      "Text features shape: (112, 100)\n"
     ]
    },
    {
     "name": "stderr",
     "output_type": "stream",
     "text": [
      "C:\\Users\\Daniel Bolaños\\AppData\\Local\\Temp\\ipykernel_23264\\2338567666.py:17: PerformanceWarning: DataFrame is highly fragmented.  This is usually the result of calling `frame.insert` many times, which has poor performance.  Consider joining all columns at once using pd.concat(axis=1) instead. To get a de-fragmented frame, use `newframe = frame.copy()`\n",
      "  df[f'text_feature_{i}'] = text_features[:, i]\n",
      "C:\\Users\\Daniel Bolaños\\AppData\\Local\\Temp\\ipykernel_23264\\2338567666.py:17: PerformanceWarning: DataFrame is highly fragmented.  This is usually the result of calling `frame.insert` many times, which has poor performance.  Consider joining all columns at once using pd.concat(axis=1) instead. To get a de-fragmented frame, use `newframe = frame.copy()`\n",
      "  df[f'text_feature_{i}'] = text_features[:, i]\n",
      "C:\\Users\\Daniel Bolaños\\AppData\\Local\\Temp\\ipykernel_23264\\2338567666.py:17: PerformanceWarning: DataFrame is highly fragmented.  This is usually the result of calling `frame.insert` many times, which has poor performance.  Consider joining all columns at once using pd.concat(axis=1) instead. To get a de-fragmented frame, use `newframe = frame.copy()`\n",
      "  df[f'text_feature_{i}'] = text_features[:, i]\n",
      "C:\\Users\\Daniel Bolaños\\AppData\\Local\\Temp\\ipykernel_23264\\2338567666.py:17: PerformanceWarning: DataFrame is highly fragmented.  This is usually the result of calling `frame.insert` many times, which has poor performance.  Consider joining all columns at once using pd.concat(axis=1) instead. To get a de-fragmented frame, use `newframe = frame.copy()`\n",
      "  df[f'text_feature_{i}'] = text_features[:, i]\n",
      "C:\\Users\\Daniel Bolaños\\AppData\\Local\\Temp\\ipykernel_23264\\2338567666.py:17: PerformanceWarning: DataFrame is highly fragmented.  This is usually the result of calling `frame.insert` many times, which has poor performance.  Consider joining all columns at once using pd.concat(axis=1) instead. To get a de-fragmented frame, use `newframe = frame.copy()`\n",
      "  df[f'text_feature_{i}'] = text_features[:, i]\n",
      "C:\\Users\\Daniel Bolaños\\AppData\\Local\\Temp\\ipykernel_23264\\2338567666.py:17: PerformanceWarning: DataFrame is highly fragmented.  This is usually the result of calling `frame.insert` many times, which has poor performance.  Consider joining all columns at once using pd.concat(axis=1) instead. To get a de-fragmented frame, use `newframe = frame.copy()`\n",
      "  df[f'text_feature_{i}'] = text_features[:, i]\n"
     ]
    }
   ],
   "source": [
    "from sklearn.feature_extraction.text import TfidfVectorizer\n",
    "from sklearn.decomposition import TruncatedSVD\n",
    "\n",
    "# Preparación de textos\n",
    "texts = df['incident_summary']  # Reemplazar con la columna de texto\n",
    "\n",
    "# Generación de vectores TF-IDF\n",
    "tfidf_vectorizer = TfidfVectorizer(max_features=1000, stop_words='english')\n",
    "tfidf_matrix = tfidf_vectorizer.fit_transform(texts)\n",
    "\n",
    "# Reducción de dimensionalidad (opcional)\n",
    "svd = TruncatedSVD(n_components=100, random_state=42)\n",
    "text_features = svd.fit_transform(tfidf_matrix)\n",
    "\n",
    "# Añadir las características textuales al dataset\n",
    "for i in range(text_features.shape[1]):\n",
    "    df[f'text_feature_{i}'] = text_features[:, i]\n",
    "\n",
    "print(f'Text features shape: {text_features.shape}')\n"
   ]
  }
 ],
 "metadata": {
  "kernelspec": {
   "display_name": "Python (NOMBRE_ENTORNO)",
   "language": "python",
   "name": "nombre_entorno"
  },
  "language_info": {
   "codemirror_mode": {
    "name": "ipython",
    "version": 3
   },
   "file_extension": ".py",
   "mimetype": "text/x-python",
   "name": "python",
   "nbconvert_exporter": "python",
   "pygments_lexer": "ipython3",
   "version": "3.12.2"
  }
 },
 "nbformat": 4,
 "nbformat_minor": 2
}
