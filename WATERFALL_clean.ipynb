{
 "cells": [
  {
   "cell_type": "markdown",
   "metadata": {},
   "source": [
    "# Waterfall.\n",
    "Waterfall Classification dataset detalla incidentes de ciberseguridad que afectan a diversos sectores, con información sobre la fecha de publicación, la región, el tipo de actor de la amenaza, las consecuencias físicas o de otro tipo y un resumen del incidente. También incluye referencias para profundizar en cada caso."
   ]
  },
  {
   "cell_type": "markdown",
   "metadata": {},
   "source": [
    "## Importación de librerías."
   ]
  },
  {
   "cell_type": "code",
   "execution_count": 1,
   "metadata": {},
   "outputs": [],
   "source": [
    "# === Importación de librerías ===\n",
    "import os\n",
    "import re\n",
    "import pandas as pd\n",
    "import matplotlib.pyplot as plt\n",
    "import seaborn as sns\n",
    "\n",
    "# Preprocesamiento y clasificación\n",
    "from sklearn.preprocessing import StandardScaler, LabelEncoder\n",
    "from sklearn.model_selection import train_test_split, cross_val_score\n",
    "from sklearn.ensemble import RandomForestClassifier\n",
    "from sklearn.tree import DecisionTreeClassifier\n",
    "\n",
    "# Métricas de evaluación\n",
    "from sklearn.metrics import (\n",
    "    confusion_matrix,\n",
    "    classification_report,\n",
    "    roc_curve,\n",
    "    auc,\n",
    "    precision_score,\n",
    "    recall_score,\n",
    ")\n",
    "\n",
    "# Balanceo de datos\n",
    "from imblearn.over_sampling import RandomOverSampler\n",
    "\n",
    "# Clustering\n",
    "from sklearn.cluster import KMeans\n",
    "from sklearn.metrics import silhouette_score, silhouette_samples\n",
    "\n",
    "# Tabulación de resultados\n",
    "from tabulate import tabulate\n",
    "\n",
    "# === Configuración de colores ===\n",
    "denexus_colors = ['#1B2D40', '#577596', '#C7262B', '#F85C37', '#FF8250', '#4A4A4A']\n",
    "denexus_palette = sns.light_palette(\"#1B2D40\", n_colors=100, as_cmap=True)\n",
    "\n",
    "# === Configuración de Pandas ===\n",
    "pd.set_option('display.max_columns', None)\n",
    "pd.set_option('display.width', 1000)"
   ]
  },
  {
   "cell_type": "markdown",
   "metadata": {},
   "source": [
    "## Importación e información de dataframes."
   ]
  },
  {
   "cell_type": "code",
   "execution_count": 2,
   "metadata": {},
   "outputs": [
    {
     "data": {
      "text/html": [
       "<div>\n",
       "<style scoped>\n",
       "    .dataframe tbody tr th:only-of-type {\n",
       "        vertical-align: middle;\n",
       "    }\n",
       "\n",
       "    .dataframe tbody tr th {\n",
       "        vertical-align: top;\n",
       "    }\n",
       "\n",
       "    .dataframe thead th {\n",
       "        text-align: right;\n",
       "    }\n",
       "</style>\n",
       "<table border=\"1\" class=\"dataframe\">\n",
       "  <thead>\n",
       "    <tr style=\"text-align: right;\">\n",
       "      <th></th>\n",
       "      <th>victim</th>\n",
       "      <th>published_date</th>\n",
       "      <th>region</th>\n",
       "      <th>industry</th>\n",
       "      <th>threat_actor</th>\n",
       "      <th>sites</th>\n",
       "      <th>cost</th>\n",
       "      <th>ot_or_physical_consecuences</th>\n",
       "      <th>incident_summary</th>\n",
       "      <th>references</th>\n",
       "      <th>published_year</th>\n",
       "      <th>waterfall_report_year</th>\n",
       "      <th>waterfall_report_name</th>\n",
       "    </tr>\n",
       "    <tr>\n",
       "      <th>id</th>\n",
       "      <th></th>\n",
       "      <th></th>\n",
       "      <th></th>\n",
       "      <th></th>\n",
       "      <th></th>\n",
       "      <th></th>\n",
       "      <th></th>\n",
       "      <th></th>\n",
       "      <th></th>\n",
       "      <th></th>\n",
       "      <th></th>\n",
       "      <th></th>\n",
       "      <th></th>\n",
       "    </tr>\n",
       "  </thead>\n",
       "  <tbody>\n",
       "    <tr>\n",
       "      <th>0</th>\n",
       "      <td>Stuxnet</td>\n",
       "      <td>2010-07-15</td>\n",
       "      <td>Iran</td>\n",
       "      <td>Process Mfg.</td>\n",
       "      <td>Nation State</td>\n",
       "      <td>1</td>\n",
       "      <td>NaN</td>\n",
       "      <td>Destroyed 1000 centrifuges at Natanz</td>\n",
       "      <td>Plant was infected by the Stuxnet worm in a ta...</td>\n",
       "      <td>[\"en.wikipedia.org/wiki/Stuxnet\"]</td>\n",
       "      <td>2010</td>\n",
       "      <td>2023</td>\n",
       "      <td>2023 Threat Report. ICSSTRIVE &amp; Waterfall Secu...</td>\n",
       "    </tr>\n",
       "    <tr>\n",
       "      <th>3</th>\n",
       "      <td>Iran's main oil export terminals</td>\n",
       "      <td>2012-04-22</td>\n",
       "      <td>Iran</td>\n",
       "      <td>Oil &amp; Gas</td>\n",
       "      <td>Nation State</td>\n",
       "      <td>6</td>\n",
       "      <td>NaN</td>\n",
       "      <td>Shutdown 6 terminals</td>\n",
       "      <td>6 terminals ops. affected by Flame malware. Ne...</td>\n",
       "      <td>[\"bbc.com/news/world-middle-east-59062907\",\"ir...</td>\n",
       "      <td>2012</td>\n",
       "      <td>2023</td>\n",
       "      <td>2023 Threat Report. ICSSTRIVE &amp; Waterfall Secu...</td>\n",
       "    </tr>\n",
       "    <tr>\n",
       "      <th>7</th>\n",
       "      <td>Unknown Power Plant</td>\n",
       "      <td>2012-10-?</td>\n",
       "      <td>USA</td>\n",
       "      <td>Power</td>\n",
       "      <td>Unknown</td>\n",
       "      <td>1</td>\n",
       "      <td>NaN</td>\n",
       "      <td>Delayed turbine restart (thus power generation...</td>\n",
       "      <td>10 plant PCs were infected by Mariposa malware...</td>\n",
       "      <td>[\"us-cert.gov/sites/default/files/Monitors/ICS...</td>\n",
       "      <td>2012</td>\n",
       "      <td>2023</td>\n",
       "      <td>2023 Threat Report. ICSSTRIVE &amp; Waterfall Secu...</td>\n",
       "    </tr>\n",
       "    <tr>\n",
       "      <th>12</th>\n",
       "      <td>German steel mill</td>\n",
       "      <td>2014-12-22</td>\n",
       "      <td>Germany</td>\n",
       "      <td>Metals &amp; Mining</td>\n",
       "      <td>Unknown</td>\n",
       "      <td>1</td>\n",
       "      <td>NaN</td>\n",
       "      <td>Caused \"massive damage\" to plant equipment</td>\n",
       "      <td>Sophisticated attack using spear phishing and ...</td>\n",
       "      <td>[\"bbc.com/news/technology-30575104\"]</td>\n",
       "      <td>2014</td>\n",
       "      <td>2023</td>\n",
       "      <td>2023 Threat Report. ICSSTRIVE &amp; Waterfall Secu...</td>\n",
       "    </tr>\n",
       "    <tr>\n",
       "      <th>15</th>\n",
       "      <td>Prykarpattyaoblenergo, Chernivtsioblenergo, Ky...</td>\n",
       "      <td>2015-12-13</td>\n",
       "      <td>Ukraine</td>\n",
       "      <td>Power</td>\n",
       "      <td>Nation State</td>\n",
       "      <td>32</td>\n",
       "      <td>NaN</td>\n",
       "      <td>Power outage lasts up to 6 hours affecting 230...</td>\n",
       "      <td>First publicly known attack on a power grid oc...</td>\n",
       "      <td>[\"en.wikipedia.org/wiki/2015_Ukraine_power_gri...</td>\n",
       "      <td>2015</td>\n",
       "      <td>2023</td>\n",
       "      <td>2023 Threat Report. ICSSTRIVE &amp; Waterfall Secu...</td>\n",
       "    </tr>\n",
       "  </tbody>\n",
       "</table>\n",
       "</div>"
      ],
      "text/plain": [
       "                                               victim published_date   region         industry  threat_actor  sites cost                        ot_or_physical_consecuences                                   incident_summary                                         references  published_year  waterfall_report_year                              waterfall_report_name\n",
       "id                                                                                                                                                                                                                                                                                                                                                                         \n",
       "0                                             Stuxnet     2010-07-15     Iran     Process Mfg.  Nation State      1  NaN               Destroyed 1000 centrifuges at Natanz  Plant was infected by the Stuxnet worm in a ta...                  [\"en.wikipedia.org/wiki/Stuxnet\"]            2010                   2023  2023 Threat Report. ICSSTRIVE & Waterfall Secu...\n",
       "3                    Iran's main oil export terminals     2012-04-22     Iran        Oil & Gas  Nation State      6  NaN                               Shutdown 6 terminals  6 terminals ops. affected by Flame malware. Ne...  [\"bbc.com/news/world-middle-east-59062907\",\"ir...            2012                   2023  2023 Threat Report. ICSSTRIVE & Waterfall Secu...\n",
       "7                                 Unknown Power Plant      2012-10-?      USA            Power       Unknown      1  NaN  Delayed turbine restart (thus power generation...  10 plant PCs were infected by Mariposa malware...  [\"us-cert.gov/sites/default/files/Monitors/ICS...            2012                   2023  2023 Threat Report. ICSSTRIVE & Waterfall Secu...\n",
       "12                                  German steel mill     2014-12-22  Germany  Metals & Mining       Unknown      1  NaN         Caused \"massive damage\" to plant equipment  Sophisticated attack using spear phishing and ...               [\"bbc.com/news/technology-30575104\"]            2014                   2023  2023 Threat Report. ICSSTRIVE & Waterfall Secu...\n",
       "15  Prykarpattyaoblenergo, Chernivtsioblenergo, Ky...     2015-12-13  Ukraine            Power  Nation State     32  NaN  Power outage lasts up to 6 hours affecting 230...  First publicly known attack on a power grid oc...  [\"en.wikipedia.org/wiki/2015_Ukraine_power_gri...            2015                   2023  2023 Threat Report. ICSSTRIVE & Waterfall Secu..."
      ]
     },
     "execution_count": 2,
     "metadata": {},
     "output_type": "execute_result"
    }
   ],
   "source": [
    "df = pd.read_csv('./data/WATERFALL.csv', index_col=0) #tomamos la primera columna como índice\n",
    "df.head()"
   ]
  },
  {
   "cell_type": "code",
   "execution_count": 3,
   "metadata": {},
   "outputs": [
    {
     "data": {
      "text/html": [
       "<div>\n",
       "<style scoped>\n",
       "    .dataframe tbody tr th:only-of-type {\n",
       "        vertical-align: middle;\n",
       "    }\n",
       "\n",
       "    .dataframe tbody tr th {\n",
       "        vertical-align: top;\n",
       "    }\n",
       "\n",
       "    .dataframe thead th {\n",
       "        text-align: right;\n",
       "    }\n",
       "</style>\n",
       "<table border=\"1\" class=\"dataframe\">\n",
       "  <thead>\n",
       "    <tr style=\"text-align: right;\">\n",
       "      <th></th>\n",
       "      <th>victim</th>\n",
       "      <th>published_date</th>\n",
       "      <th>region</th>\n",
       "      <th>industry</th>\n",
       "      <th>threat_actor</th>\n",
       "      <th>sites</th>\n",
       "      <th>cost</th>\n",
       "      <th>ot_or_physical_consecuences</th>\n",
       "      <th>incident_summary</th>\n",
       "      <th>references</th>\n",
       "      <th>published_year</th>\n",
       "      <th>waterfall_report_year</th>\n",
       "      <th>waterfall_report_name</th>\n",
       "    </tr>\n",
       "  </thead>\n",
       "  <tbody>\n",
       "    <tr>\n",
       "      <th>count</th>\n",
       "      <td>116</td>\n",
       "      <td>116</td>\n",
       "      <td>116</td>\n",
       "      <td>116</td>\n",
       "      <td>116</td>\n",
       "      <td>116.000000</td>\n",
       "      <td>14</td>\n",
       "      <td>116</td>\n",
       "      <td>116</td>\n",
       "      <td>116</td>\n",
       "      <td>116.000000</td>\n",
       "      <td>116.0</td>\n",
       "      <td>116</td>\n",
       "    </tr>\n",
       "    <tr>\n",
       "      <th>unique</th>\n",
       "      <td>116</td>\n",
       "      <td>106</td>\n",
       "      <td>51</td>\n",
       "      <td>10</td>\n",
       "      <td>4</td>\n",
       "      <td>NaN</td>\n",
       "      <td>13</td>\n",
       "      <td>116</td>\n",
       "      <td>116</td>\n",
       "      <td>116</td>\n",
       "      <td>NaN</td>\n",
       "      <td>NaN</td>\n",
       "      <td>1</td>\n",
       "    </tr>\n",
       "    <tr>\n",
       "      <th>top</th>\n",
       "      <td>Stuxnet</td>\n",
       "      <td>2022-02-28</td>\n",
       "      <td>USA</td>\n",
       "      <td>Discrete Mfg.</td>\n",
       "      <td>Ransomware</td>\n",
       "      <td>NaN</td>\n",
       "      <td>$60M</td>\n",
       "      <td>Destroyed 1000 centrifuges at Natanz</td>\n",
       "      <td>Plant was infected by the Stuxnet worm in a ta...</td>\n",
       "      <td>[\"en.wikipedia.org/wiki/Stuxnet\"]</td>\n",
       "      <td>NaN</td>\n",
       "      <td>NaN</td>\n",
       "      <td>2023 Threat Report. ICSSTRIVE &amp; Waterfall Secu...</td>\n",
       "    </tr>\n",
       "    <tr>\n",
       "      <th>freq</th>\n",
       "      <td>1</td>\n",
       "      <td>3</td>\n",
       "      <td>21</td>\n",
       "      <td>43</td>\n",
       "      <td>89</td>\n",
       "      <td>NaN</td>\n",
       "      <td>2</td>\n",
       "      <td>1</td>\n",
       "      <td>1</td>\n",
       "      <td>1</td>\n",
       "      <td>NaN</td>\n",
       "      <td>NaN</td>\n",
       "      <td>116</td>\n",
       "    </tr>\n",
       "    <tr>\n",
       "      <th>mean</th>\n",
       "      <td>NaN</td>\n",
       "      <td>NaN</td>\n",
       "      <td>NaN</td>\n",
       "      <td>NaN</td>\n",
       "      <td>NaN</td>\n",
       "      <td>5.379310</td>\n",
       "      <td>NaN</td>\n",
       "      <td>NaN</td>\n",
       "      <td>NaN</td>\n",
       "      <td>NaN</td>\n",
       "      <td>2020.637931</td>\n",
       "      <td>2023.0</td>\n",
       "      <td>NaN</td>\n",
       "    </tr>\n",
       "    <tr>\n",
       "      <th>std</th>\n",
       "      <td>NaN</td>\n",
       "      <td>NaN</td>\n",
       "      <td>NaN</td>\n",
       "      <td>NaN</td>\n",
       "      <td>NaN</td>\n",
       "      <td>17.177668</td>\n",
       "      <td>NaN</td>\n",
       "      <td>NaN</td>\n",
       "      <td>NaN</td>\n",
       "      <td>NaN</td>\n",
       "      <td>2.212205</td>\n",
       "      <td>0.0</td>\n",
       "      <td>NaN</td>\n",
       "    </tr>\n",
       "    <tr>\n",
       "      <th>min</th>\n",
       "      <td>NaN</td>\n",
       "      <td>NaN</td>\n",
       "      <td>NaN</td>\n",
       "      <td>NaN</td>\n",
       "      <td>NaN</td>\n",
       "      <td>1.000000</td>\n",
       "      <td>NaN</td>\n",
       "      <td>NaN</td>\n",
       "      <td>NaN</td>\n",
       "      <td>NaN</td>\n",
       "      <td>2010.000000</td>\n",
       "      <td>2023.0</td>\n",
       "      <td>NaN</td>\n",
       "    </tr>\n",
       "    <tr>\n",
       "      <th>25%</th>\n",
       "      <td>NaN</td>\n",
       "      <td>NaN</td>\n",
       "      <td>NaN</td>\n",
       "      <td>NaN</td>\n",
       "      <td>NaN</td>\n",
       "      <td>1.000000</td>\n",
       "      <td>NaN</td>\n",
       "      <td>NaN</td>\n",
       "      <td>NaN</td>\n",
       "      <td>NaN</td>\n",
       "      <td>2020.000000</td>\n",
       "      <td>2023.0</td>\n",
       "      <td>NaN</td>\n",
       "    </tr>\n",
       "    <tr>\n",
       "      <th>50%</th>\n",
       "      <td>NaN</td>\n",
       "      <td>NaN</td>\n",
       "      <td>NaN</td>\n",
       "      <td>NaN</td>\n",
       "      <td>NaN</td>\n",
       "      <td>1.000000</td>\n",
       "      <td>NaN</td>\n",
       "      <td>NaN</td>\n",
       "      <td>NaN</td>\n",
       "      <td>NaN</td>\n",
       "      <td>2021.000000</td>\n",
       "      <td>2023.0</td>\n",
       "      <td>NaN</td>\n",
       "    </tr>\n",
       "    <tr>\n",
       "      <th>75%</th>\n",
       "      <td>NaN</td>\n",
       "      <td>NaN</td>\n",
       "      <td>NaN</td>\n",
       "      <td>NaN</td>\n",
       "      <td>NaN</td>\n",
       "      <td>2.000000</td>\n",
       "      <td>NaN</td>\n",
       "      <td>NaN</td>\n",
       "      <td>NaN</td>\n",
       "      <td>NaN</td>\n",
       "      <td>2022.000000</td>\n",
       "      <td>2023.0</td>\n",
       "      <td>NaN</td>\n",
       "    </tr>\n",
       "    <tr>\n",
       "      <th>max</th>\n",
       "      <td>NaN</td>\n",
       "      <td>NaN</td>\n",
       "      <td>NaN</td>\n",
       "      <td>NaN</td>\n",
       "      <td>NaN</td>\n",
       "      <td>170.000000</td>\n",
       "      <td>NaN</td>\n",
       "      <td>NaN</td>\n",
       "      <td>NaN</td>\n",
       "      <td>NaN</td>\n",
       "      <td>2022.000000</td>\n",
       "      <td>2023.0</td>\n",
       "      <td>NaN</td>\n",
       "    </tr>\n",
       "  </tbody>\n",
       "</table>\n",
       "</div>"
      ],
      "text/plain": [
       "         victim published_date region       industry threat_actor       sites  cost           ot_or_physical_consecuences                                   incident_summary                         references  published_year  waterfall_report_year                              waterfall_report_name\n",
       "count       116            116    116            116          116  116.000000    14                                   116                                                116                                116      116.000000                  116.0                                                116\n",
       "unique      116            106     51             10            4         NaN    13                                   116                                                116                                116             NaN                    NaN                                                  1\n",
       "top     Stuxnet     2022-02-28    USA  Discrete Mfg.   Ransomware         NaN  $60M  Destroyed 1000 centrifuges at Natanz  Plant was infected by the Stuxnet worm in a ta...  [\"en.wikipedia.org/wiki/Stuxnet\"]             NaN                    NaN  2023 Threat Report. ICSSTRIVE & Waterfall Secu...\n",
       "freq          1              3     21             43           89         NaN     2                                     1                                                  1                                  1             NaN                    NaN                                                116\n",
       "mean        NaN            NaN    NaN            NaN          NaN    5.379310   NaN                                   NaN                                                NaN                                NaN     2020.637931                 2023.0                                                NaN\n",
       "std         NaN            NaN    NaN            NaN          NaN   17.177668   NaN                                   NaN                                                NaN                                NaN        2.212205                    0.0                                                NaN\n",
       "min         NaN            NaN    NaN            NaN          NaN    1.000000   NaN                                   NaN                                                NaN                                NaN     2010.000000                 2023.0                                                NaN\n",
       "25%         NaN            NaN    NaN            NaN          NaN    1.000000   NaN                                   NaN                                                NaN                                NaN     2020.000000                 2023.0                                                NaN\n",
       "50%         NaN            NaN    NaN            NaN          NaN    1.000000   NaN                                   NaN                                                NaN                                NaN     2021.000000                 2023.0                                                NaN\n",
       "75%         NaN            NaN    NaN            NaN          NaN    2.000000   NaN                                   NaN                                                NaN                                NaN     2022.000000                 2023.0                                                NaN\n",
       "max         NaN            NaN    NaN            NaN          NaN  170.000000   NaN                                   NaN                                                NaN                                NaN     2022.000000                 2023.0                                                NaN"
      ]
     },
     "execution_count": 3,
     "metadata": {},
     "output_type": "execute_result"
    }
   ],
   "source": [
    "df.describe(include='all')"
   ]
  },
  {
   "cell_type": "code",
   "execution_count": 4,
   "metadata": {},
   "outputs": [
    {
     "data": {
      "text/plain": [
       "(116, 13)"
      ]
     },
     "execution_count": 4,
     "metadata": {},
     "output_type": "execute_result"
    }
   ],
   "source": [
    "df.shape"
   ]
  },
  {
   "cell_type": "code",
   "execution_count": 5,
   "metadata": {},
   "outputs": [
    {
     "data": {
      "text/plain": [
       "victim                         object\n",
       "published_date                 object\n",
       "region                         object\n",
       "industry                       object\n",
       "threat_actor                   object\n",
       "sites                           int64\n",
       "cost                           object\n",
       "ot_or_physical_consecuences    object\n",
       "incident_summary               object\n",
       "references                     object\n",
       "published_year                  int64\n",
       "waterfall_report_year           int64\n",
       "waterfall_report_name          object\n",
       "dtype: object"
      ]
     },
     "execution_count": 5,
     "metadata": {},
     "output_type": "execute_result"
    }
   ],
   "source": [
    "df.dtypes"
   ]
  },
  {
   "cell_type": "code",
   "execution_count": 6,
   "metadata": {},
   "outputs": [
    {
     "data": {
      "text/plain": [
       "Index(['victim', 'published_date', 'region', 'industry', 'threat_actor', 'sites', 'cost', 'ot_or_physical_consecuences', 'incident_summary', 'references', 'published_year', 'waterfall_report_year', 'waterfall_report_name'], dtype='object')"
      ]
     },
     "execution_count": 6,
     "metadata": {},
     "output_type": "execute_result"
    }
   ],
   "source": [
    "df.columns"
   ]
  },
  {
   "cell_type": "markdown",
   "metadata": {},
   "source": [
    "Next, we give a brief description of what each column is about.\n",
    "1. **ID**: Incident identifier.\n",
    "2. **Victim**: Name of the victim.\n",
    "3. **Published date**: Publication date of the incident.\n",
    "4. **Region**: Affected region.\n",
    "5. **Industry**: Industry of the victim.\n",
    "6. **Threat actor**: Threat actor.\n",
    "7. **Sites**: Number of affected sites.\n",
    "8. **Cost**: Cost of the incident.\n",
    "9. **Physical consequences**: Consequences of the incident.\n",
    "10. **Incident summary**: Summary of the incident.\n",
    "11. **References**: Related references.\n",
    "12. **Waterfall report year**: Year of the Waterfall report.\n",
    "13. **Waterfall_report name**: Name of the report."
   ]
  },
  {
   "cell_type": "code",
   "execution_count": 7,
   "metadata": {},
   "outputs": [
    {
     "data": {
      "text/html": [
       "<div>\n",
       "<style scoped>\n",
       "    .dataframe tbody tr th:only-of-type {\n",
       "        vertical-align: middle;\n",
       "    }\n",
       "\n",
       "    .dataframe tbody tr th {\n",
       "        vertical-align: top;\n",
       "    }\n",
       "\n",
       "    .dataframe thead th {\n",
       "        text-align: right;\n",
       "    }\n",
       "</style>\n",
       "<table border=\"1\" class=\"dataframe\">\n",
       "  <thead>\n",
       "    <tr style=\"text-align: right;\">\n",
       "      <th></th>\n",
       "      <th>victim</th>\n",
       "      <th>published_date</th>\n",
       "      <th>region</th>\n",
       "      <th>industry</th>\n",
       "      <th>threat_actor</th>\n",
       "      <th>sites</th>\n",
       "      <th>cost</th>\n",
       "      <th>ot_or_physical_consecuences</th>\n",
       "      <th>incident_summary</th>\n",
       "      <th>references</th>\n",
       "      <th>published_year</th>\n",
       "      <th>waterfall_report_year</th>\n",
       "      <th>waterfall_report_name</th>\n",
       "    </tr>\n",
       "    <tr>\n",
       "      <th>id</th>\n",
       "      <th></th>\n",
       "      <th></th>\n",
       "      <th></th>\n",
       "      <th></th>\n",
       "      <th></th>\n",
       "      <th></th>\n",
       "      <th></th>\n",
       "      <th></th>\n",
       "      <th></th>\n",
       "      <th></th>\n",
       "      <th></th>\n",
       "      <th></th>\n",
       "      <th></th>\n",
       "    </tr>\n",
       "  </thead>\n",
       "  <tbody>\n",
       "    <tr>\n",
       "      <th>0</th>\n",
       "      <td>Stuxnet</td>\n",
       "      <td>2010-07-15</td>\n",
       "      <td>Iran</td>\n",
       "      <td>Process Mfg.</td>\n",
       "      <td>Nation State</td>\n",
       "      <td>1</td>\n",
       "      <td>NaN</td>\n",
       "      <td>Destroyed 1000 centrifuges at Natanz</td>\n",
       "      <td>Plant was infected by the Stuxnet worm in a ta...</td>\n",
       "      <td>[\"en.wikipedia.org/wiki/Stuxnet\"]</td>\n",
       "      <td>2010</td>\n",
       "      <td>2023</td>\n",
       "      <td>2023 Threat Report. ICSSTRIVE &amp; Waterfall Secu...</td>\n",
       "    </tr>\n",
       "    <tr>\n",
       "      <th>3</th>\n",
       "      <td>Iran's main oil export terminals</td>\n",
       "      <td>2012-04-22</td>\n",
       "      <td>Iran</td>\n",
       "      <td>Oil &amp; Gas</td>\n",
       "      <td>Nation State</td>\n",
       "      <td>6</td>\n",
       "      <td>NaN</td>\n",
       "      <td>Shutdown 6 terminals</td>\n",
       "      <td>6 terminals ops. affected by Flame malware. Ne...</td>\n",
       "      <td>[\"bbc.com/news/world-middle-east-59062907\",\"ir...</td>\n",
       "      <td>2012</td>\n",
       "      <td>2023</td>\n",
       "      <td>2023 Threat Report. ICSSTRIVE &amp; Waterfall Secu...</td>\n",
       "    </tr>\n",
       "    <tr>\n",
       "      <th>7</th>\n",
       "      <td>Unknown Power Plant</td>\n",
       "      <td>2012-10-?</td>\n",
       "      <td>USA</td>\n",
       "      <td>Power</td>\n",
       "      <td>Unknown</td>\n",
       "      <td>1</td>\n",
       "      <td>NaN</td>\n",
       "      <td>Delayed turbine restart (thus power generation...</td>\n",
       "      <td>10 plant PCs were infected by Mariposa malware...</td>\n",
       "      <td>[\"us-cert.gov/sites/default/files/Monitors/ICS...</td>\n",
       "      <td>2012</td>\n",
       "      <td>2023</td>\n",
       "      <td>2023 Threat Report. ICSSTRIVE &amp; Waterfall Secu...</td>\n",
       "    </tr>\n",
       "    <tr>\n",
       "      <th>12</th>\n",
       "      <td>German steel mill</td>\n",
       "      <td>2014-12-22</td>\n",
       "      <td>Germany</td>\n",
       "      <td>Metals &amp; Mining</td>\n",
       "      <td>Unknown</td>\n",
       "      <td>1</td>\n",
       "      <td>NaN</td>\n",
       "      <td>Caused \"massive damage\" to plant equipment</td>\n",
       "      <td>Sophisticated attack using spear phishing and ...</td>\n",
       "      <td>[\"bbc.com/news/technology-30575104\"]</td>\n",
       "      <td>2014</td>\n",
       "      <td>2023</td>\n",
       "      <td>2023 Threat Report. ICSSTRIVE &amp; Waterfall Secu...</td>\n",
       "    </tr>\n",
       "  </tbody>\n",
       "</table>\n",
       "</div>"
      ],
      "text/plain": [
       "                              victim published_date   region         industry  threat_actor  sites cost                        ot_or_physical_consecuences                                   incident_summary                                         references  published_year  waterfall_report_year                              waterfall_report_name\n",
       "id                                                                                                                                                                                                                                                                                                                                                        \n",
       "0                            Stuxnet     2010-07-15     Iran     Process Mfg.  Nation State      1  NaN               Destroyed 1000 centrifuges at Natanz  Plant was infected by the Stuxnet worm in a ta...                  [\"en.wikipedia.org/wiki/Stuxnet\"]            2010                   2023  2023 Threat Report. ICSSTRIVE & Waterfall Secu...\n",
       "3   Iran's main oil export terminals     2012-04-22     Iran        Oil & Gas  Nation State      6  NaN                               Shutdown 6 terminals  6 terminals ops. affected by Flame malware. Ne...  [\"bbc.com/news/world-middle-east-59062907\",\"ir...            2012                   2023  2023 Threat Report. ICSSTRIVE & Waterfall Secu...\n",
       "7                Unknown Power Plant      2012-10-?      USA            Power       Unknown      1  NaN  Delayed turbine restart (thus power generation...  10 plant PCs were infected by Mariposa malware...  [\"us-cert.gov/sites/default/files/Monitors/ICS...            2012                   2023  2023 Threat Report. ICSSTRIVE & Waterfall Secu...\n",
       "12                 German steel mill     2014-12-22  Germany  Metals & Mining       Unknown      1  NaN         Caused \"massive damage\" to plant equipment  Sophisticated attack using spear phishing and ...               [\"bbc.com/news/technology-30575104\"]            2014                   2023  2023 Threat Report. ICSSTRIVE & Waterfall Secu..."
      ]
     },
     "execution_count": 7,
     "metadata": {},
     "output_type": "execute_result"
    }
   ],
   "source": [
    "df.head(4)"
   ]
  },
  {
   "cell_type": "markdown",
   "metadata": {},
   "source": [
    "## Limpieza de datos.\n",
    "La columna **Waterfall Report Year** se eliminará del DataFrame para simplificar, ya que se refiere al año en que se publicó un informe específico relacionado con los incidentes o sucesos registrados en el DataFrame. Esto no proporciona información para el modelo de clasificación posterior."
   ]
  },
  {
   "cell_type": "code",
   "execution_count": 8,
   "metadata": {},
   "outputs": [],
   "source": [
    "df.drop(columns=['waterfall_report_year'], inplace=True)"
   ]
  },
  {
   "cell_type": "markdown",
   "metadata": {},
   "source": [
    "Separaremos la columna **Published Date** en componentes de día, mes y año, cada uno de ellos como una columna diferente, convirtiéndola en un formato de fecha."
   ]
  },
  {
   "cell_type": "code",
   "execution_count": 9,
   "metadata": {},
   "outputs": [],
   "source": [
    "df['published_date'] = pd.to_datetime(df['published_date'], errors='coerce')\n",
    "df['day'] = df['published_date'].dt.day\n",
    "df['month'] = df['published_date'].dt.month\n",
    "df['year'] = df['published_date'].dt.year"
   ]
  },
  {
   "cell_type": "markdown",
   "metadata": {},
   "source": [
    "Observamos que hay dos columnas que indican el año: **Published Year** y **Year**. Vamos a compararlas para identificar posibles discrepancias."
   ]
  },
  {
   "cell_type": "code",
   "execution_count": 10,
   "metadata": {},
   "outputs": [
    {
     "name": "stdout",
     "output_type": "stream",
     "text": [
      "There are 4 rows where 'year' and 'year_1' are different.\n"
     ]
    },
    {
     "data": {
      "text/html": [
       "<div>\n",
       "<style scoped>\n",
       "    .dataframe tbody tr th:only-of-type {\n",
       "        vertical-align: middle;\n",
       "    }\n",
       "\n",
       "    .dataframe tbody tr th {\n",
       "        vertical-align: top;\n",
       "    }\n",
       "\n",
       "    .dataframe thead th {\n",
       "        text-align: right;\n",
       "    }\n",
       "</style>\n",
       "<table border=\"1\" class=\"dataframe\">\n",
       "  <thead>\n",
       "    <tr style=\"text-align: right;\">\n",
       "      <th></th>\n",
       "      <th>year</th>\n",
       "      <th>published_year</th>\n",
       "    </tr>\n",
       "    <tr>\n",
       "      <th>id</th>\n",
       "      <th></th>\n",
       "      <th></th>\n",
       "    </tr>\n",
       "  </thead>\n",
       "  <tbody>\n",
       "    <tr>\n",
       "      <th>7</th>\n",
       "      <td>NaN</td>\n",
       "      <td>2012</td>\n",
       "    </tr>\n",
       "    <tr>\n",
       "      <th>43</th>\n",
       "      <td>NaN</td>\n",
       "      <td>2017</td>\n",
       "    </tr>\n",
       "    <tr>\n",
       "      <th>58</th>\n",
       "      <td>NaN</td>\n",
       "      <td>2019</td>\n",
       "    </tr>\n",
       "    <tr>\n",
       "      <th>252</th>\n",
       "      <td>NaN</td>\n",
       "      <td>2021</td>\n",
       "    </tr>\n",
       "  </tbody>\n",
       "</table>\n",
       "</div>"
      ],
      "text/plain": [
       "     year  published_year\n",
       "id                       \n",
       "7     NaN            2012\n",
       "43    NaN            2017\n",
       "58    NaN            2019\n",
       "252   NaN            2021"
      ]
     },
     "execution_count": 10,
     "metadata": {},
     "output_type": "execute_result"
    }
   ],
   "source": [
    "differences = df[df['year'] != df['published_year']]\n",
    "\n",
    "print(f\"There are {differences.shape[0]} rows where 'year' and 'year_1' are different.\")\n",
    "differences[['year', 'published_year']].head()"
   ]
  },
  {
   "cell_type": "markdown",
   "metadata": {},
   "source": [
    "En este caso, se han encontrado diferencias debidas a campos vacíos en los valores extraídos de la columna **Published Date**. Sin embargo, esto no es un problema, ya que más adelante, cuando gestionemos los valores nulos, eliminaremos estas filas."
   ]
  },
  {
   "cell_type": "code",
   "execution_count": 11,
   "metadata": {},
   "outputs": [],
   "source": [
    "df.drop(columns=['published_year', 'published_date'], inplace=True)"
   ]
  },
  {
   "cell_type": "markdown",
   "metadata": {},
   "source": [
    "### Tratamiento de filas duplicadas."
   ]
  },
  {
   "cell_type": "code",
   "execution_count": 12,
   "metadata": {},
   "outputs": [
    {
     "data": {
      "text/plain": [
       "0"
      ]
     },
     "execution_count": 12,
     "metadata": {},
     "output_type": "execute_result"
    }
   ],
   "source": [
    "df.duplicated().sum()"
   ]
  },
  {
   "cell_type": "code",
   "execution_count": 13,
   "metadata": {},
   "outputs": [],
   "source": [
    "df.drop_duplicates(inplace=True)"
   ]
  },
  {
   "cell_type": "markdown",
   "metadata": {},
   "source": [
    "### Tratamiento de las filas nulas."
   ]
  },
  {
   "cell_type": "code",
   "execution_count": 14,
   "metadata": {},
   "outputs": [
    {
     "data": {
      "text/plain": [
       "victim                           0\n",
       "region                           0\n",
       "industry                         0\n",
       "threat_actor                     0\n",
       "sites                            0\n",
       "cost                           102\n",
       "ot_or_physical_consecuences      0\n",
       "incident_summary                 0\n",
       "references                       0\n",
       "waterfall_report_name            0\n",
       "day                              4\n",
       "month                            4\n",
       "year                             4\n",
       "dtype: int64"
      ]
     },
     "execution_count": 14,
     "metadata": {},
     "output_type": "execute_result"
    }
   ],
   "source": [
    "df.isnull().sum()"
   ]
  },
  {
   "cell_type": "code",
   "execution_count": 15,
   "metadata": {},
   "outputs": [
    {
     "data": {
      "text/plain": [
       "116"
      ]
     },
     "execution_count": 15,
     "metadata": {},
     "output_type": "execute_result"
    }
   ],
   "source": [
    "df.shape[0]"
   ]
  },
  {
   "cell_type": "markdown",
   "metadata": {},
   "source": [
    "Eliminaremos la columna **Cost** ya que contiene en su mayoría valores nulos."
   ]
  },
  {
   "cell_type": "code",
   "execution_count": 16,
   "metadata": {},
   "outputs": [],
   "source": [
    "df.drop(columns=['cost'], inplace=True)"
   ]
  },
  {
   "cell_type": "code",
   "execution_count": 17,
   "metadata": {},
   "outputs": [],
   "source": [
    "df.dropna(inplace=True)"
   ]
  },
  {
   "cell_type": "code",
   "execution_count": 18,
   "metadata": {},
   "outputs": [
    {
     "data": {
      "text/plain": [
       "(112, 12)"
      ]
     },
     "execution_count": 18,
     "metadata": {},
     "output_type": "execute_result"
    }
   ],
   "source": [
    "df.shape"
   ]
  },
  {
   "cell_type": "markdown",
   "metadata": {},
   "source": [
    "### Selección de variables categóricas y continuas.\n",
    "Para realizar correctamente un análisis de datos debemos distinguir entre variables categóricas, variables que representan diferentes categorías o grupos, y variables continuas, variables que pueden tomar cualquier valor dentro de un rango determinado."
   ]
  },
  {
   "cell_type": "code",
   "execution_count": 19,
   "metadata": {},
   "outputs": [
    {
     "name": "stdout",
     "output_type": "stream",
     "text": [
      "Variables continuous: victim, region, sites, ot_or_physical_consecuences, incident_summary, references, day, month, year\n",
      "Variables categorical: industry, threat_actor, waterfall_report_name\n"
     ]
    }
   ],
   "source": [
    "v_continuas = []\n",
    "v_categoricas = []\n",
    "for i in df.columns:\n",
    "    if df[i].nunique() > 25 or df[i].dtypes in ['float64', 'int64']:\n",
    "        v_continuas.append(i)\n",
    "    else:\n",
    "        v_categoricas.append(i)\n",
    "\n",
    "print('Variables continuous: {}'.format(', '.join(v_continuas)))\n",
    "print('Variables categorical: {}'.format(', '.join(v_categoricas)))"
   ]
  },
  {
   "cell_type": "markdown",
   "metadata": {},
   "source": [
    "#### Manejo de Variables Categóricas.\n",
    "Para el posterior modelo de clasificación, necesitamos codificar nuestras variables. Para ello, realizaremos una codificación ordinal que consiste en asignar valores enteros a las categorías en función de su posición o jerarquía en los datos."
   ]
  },
  {
   "cell_type": "code",
   "execution_count": 20,
   "metadata": {},
   "outputs": [
    {
     "data": {
      "text/html": [
       "<div>\n",
       "<style scoped>\n",
       "    .dataframe tbody tr th:only-of-type {\n",
       "        vertical-align: middle;\n",
       "    }\n",
       "\n",
       "    .dataframe tbody tr th {\n",
       "        vertical-align: top;\n",
       "    }\n",
       "\n",
       "    .dataframe thead th {\n",
       "        text-align: right;\n",
       "    }\n",
       "</style>\n",
       "<table border=\"1\" class=\"dataframe\">\n",
       "  <thead>\n",
       "    <tr style=\"text-align: right;\">\n",
       "      <th></th>\n",
       "      <th>industry</th>\n",
       "      <th>threat_actor</th>\n",
       "      <th>waterfall_report_name</th>\n",
       "    </tr>\n",
       "    <tr>\n",
       "      <th>id</th>\n",
       "      <th></th>\n",
       "      <th></th>\n",
       "      <th></th>\n",
       "    </tr>\n",
       "  </thead>\n",
       "  <tbody>\n",
       "    <tr>\n",
       "      <th>0</th>\n",
       "      <td>Process Mfg.</td>\n",
       "      <td>Nation State</td>\n",
       "      <td>2023 Threat Report. ICSSTRIVE &amp; Waterfall Secu...</td>\n",
       "    </tr>\n",
       "    <tr>\n",
       "      <th>3</th>\n",
       "      <td>Oil &amp; Gas</td>\n",
       "      <td>Nation State</td>\n",
       "      <td>2023 Threat Report. ICSSTRIVE &amp; Waterfall Secu...</td>\n",
       "    </tr>\n",
       "    <tr>\n",
       "      <th>12</th>\n",
       "      <td>Metals &amp; Mining</td>\n",
       "      <td>Unknown</td>\n",
       "      <td>2023 Threat Report. ICSSTRIVE &amp; Waterfall Secu...</td>\n",
       "    </tr>\n",
       "  </tbody>\n",
       "</table>\n",
       "</div>"
      ],
      "text/plain": [
       "           industry  threat_actor                              waterfall_report_name\n",
       "id                                                                                  \n",
       "0      Process Mfg.  Nation State  2023 Threat Report. ICSSTRIVE & Waterfall Secu...\n",
       "3         Oil & Gas  Nation State  2023 Threat Report. ICSSTRIVE & Waterfall Secu...\n",
       "12  Metals & Mining       Unknown  2023 Threat Report. ICSSTRIVE & Waterfall Secu..."
      ]
     },
     "execution_count": 20,
     "metadata": {},
     "output_type": "execute_result"
    }
   ],
   "source": [
    "df[v_categoricas].head(3)"
   ]
  },
  {
   "cell_type": "code",
   "execution_count": 21,
   "metadata": {},
   "outputs": [
    {
     "data": {
      "text/plain": [
       "industry                 10\n",
       "threat_actor              4\n",
       "waterfall_report_name     1\n",
       "dtype: int64"
      ]
     },
     "execution_count": 21,
     "metadata": {},
     "output_type": "execute_result"
    }
   ],
   "source": [
    "df[v_categoricas].nunique()"
   ]
  },
  {
   "cell_type": "markdown",
   "metadata": {},
   "source": [
    "Decidimos eliminar la columna **Waterfall Report Name** porque contiene un único valor en todas las filas. Este valor repetido no añade ninguna información útil ni variabilidad al conjunto de datos, por lo que su inclusión resulta innecesaria para posteriores análisis."
   ]
  },
  {
   "cell_type": "code",
   "execution_count": 22,
   "metadata": {},
   "outputs": [],
   "source": [
    "df.drop(columns=['waterfall_report_name'], inplace=True)"
   ]
  },
  {
   "cell_type": "markdown",
   "metadata": {},
   "source": [
    "##### **Industry**."
   ]
  },
  {
   "cell_type": "code",
   "execution_count": 23,
   "metadata": {},
   "outputs": [
    {
     "data": {
      "text/plain": [
       "array(['Process Mfg.', 'Oil & Gas', 'Metals & Mining', 'Power',\n",
       "       'Discrete Mfg.', 'Transportation', 'All', 'Food & Beverage',\n",
       "       'Agriculture', 'Water'], dtype=object)"
      ]
     },
     "execution_count": 23,
     "metadata": {},
     "output_type": "execute_result"
    }
   ],
   "source": [
    "df['industry'].unique()"
   ]
  },
  {
   "cell_type": "markdown",
   "metadata": {},
   "source": [
    "Vamos a agrupar los distintos sectores en categorías más amplias para facilitar el análisis de los datos mediante la técnica **One Hot Encoding**. Esto nos permitirá convertir las categorías en columnas binarias que indiquen la presencia o ausencia de cada sector.\n",
    "\n",
    "En el caso concreto de la categoría **All**, marcaremos con un 1 todas las columnas correspondientes a los sectores, ya que esta categoría representa la inclusión de todos los sectores en un mismo registro. Esta estrategia se lleva a cabo para garantizar que, durante el análisis de los datos, los sectores estén correctamente representados y se pueda evaluar eficazmente el impacto de cada uno de ellos."
   ]
  },
  {
   "cell_type": "code",
   "execution_count": 24,
   "metadata": {},
   "outputs": [],
   "source": [
    "industry_groups = {\n",
    "    'Manufacturing': ['Process Mfg.', 'Discrete Mfg.'],\n",
    "    'Energy': ['Oil & Gas', 'Power'],\n",
    "    'Mining': ['Metals & Mining'],\n",
    "    'Agriculture': ['Food & Beverage', 'Agriculture']\n",
    "}"
   ]
  },
  {
   "cell_type": "code",
   "execution_count": 25,
   "metadata": {},
   "outputs": [],
   "source": [
    "def replace_with_groups(sector):\n",
    "    for group, sectors in industry_groups.items():\n",
    "        if sector in sectors:\n",
    "            return group\n",
    "    return sector"
   ]
  },
  {
   "cell_type": "code",
   "execution_count": 26,
   "metadata": {},
   "outputs": [],
   "source": [
    "df['industry_group'] = df['industry'].apply(replace_with_groups)"
   ]
  },
  {
   "cell_type": "markdown",
   "metadata": {},
   "source": [
    "El siguiente código se ha agregado para lograr que las columnas codificadas se agreguen justo después de la columna original, de manera que sea más fácil ver a qué se le ha asignado el valor codificado.\n",
    "\n"
   ]
  },
  {
   "cell_type": "code",
   "execution_count": 27,
   "metadata": {},
   "outputs": [],
   "source": [
    "columns = df.columns.tolist()\n",
    "industry_index = columns.index('industry')\n",
    "\n",
    "columns.insert(industry_index + 1, columns.pop(columns.index('industry_group')))\n",
    "df = df[columns]"
   ]
  },
  {
   "cell_type": "code",
   "execution_count": 28,
   "metadata": {},
   "outputs": [
    {
     "data": {
      "text/html": [
       "<div>\n",
       "<style scoped>\n",
       "    .dataframe tbody tr th:only-of-type {\n",
       "        vertical-align: middle;\n",
       "    }\n",
       "\n",
       "    .dataframe tbody tr th {\n",
       "        vertical-align: top;\n",
       "    }\n",
       "\n",
       "    .dataframe thead th {\n",
       "        text-align: right;\n",
       "    }\n",
       "</style>\n",
       "<table border=\"1\" class=\"dataframe\">\n",
       "  <thead>\n",
       "    <tr style=\"text-align: right;\">\n",
       "      <th></th>\n",
       "      <th>victim</th>\n",
       "      <th>region</th>\n",
       "      <th>industry</th>\n",
       "      <th>industry_group</th>\n",
       "      <th>threat_actor</th>\n",
       "      <th>sites</th>\n",
       "      <th>ot_or_physical_consecuences</th>\n",
       "      <th>incident_summary</th>\n",
       "      <th>references</th>\n",
       "      <th>day</th>\n",
       "      <th>month</th>\n",
       "      <th>year</th>\n",
       "    </tr>\n",
       "    <tr>\n",
       "      <th>id</th>\n",
       "      <th></th>\n",
       "      <th></th>\n",
       "      <th></th>\n",
       "      <th></th>\n",
       "      <th></th>\n",
       "      <th></th>\n",
       "      <th></th>\n",
       "      <th></th>\n",
       "      <th></th>\n",
       "      <th></th>\n",
       "      <th></th>\n",
       "      <th></th>\n",
       "    </tr>\n",
       "  </thead>\n",
       "  <tbody>\n",
       "    <tr>\n",
       "      <th>0</th>\n",
       "      <td>Stuxnet</td>\n",
       "      <td>Iran</td>\n",
       "      <td>Process Mfg.</td>\n",
       "      <td>Manufacturing</td>\n",
       "      <td>Nation State</td>\n",
       "      <td>1</td>\n",
       "      <td>Destroyed 1000 centrifuges at Natanz</td>\n",
       "      <td>Plant was infected by the Stuxnet worm in a ta...</td>\n",
       "      <td>[\"en.wikipedia.org/wiki/Stuxnet\"]</td>\n",
       "      <td>15.0</td>\n",
       "      <td>7.0</td>\n",
       "      <td>2010.0</td>\n",
       "    </tr>\n",
       "    <tr>\n",
       "      <th>3</th>\n",
       "      <td>Iran's main oil export terminals</td>\n",
       "      <td>Iran</td>\n",
       "      <td>Oil &amp; Gas</td>\n",
       "      <td>Energy</td>\n",
       "      <td>Nation State</td>\n",
       "      <td>6</td>\n",
       "      <td>Shutdown 6 terminals</td>\n",
       "      <td>6 terminals ops. affected by Flame malware. Ne...</td>\n",
       "      <td>[\"bbc.com/news/world-middle-east-59062907\",\"ir...</td>\n",
       "      <td>22.0</td>\n",
       "      <td>4.0</td>\n",
       "      <td>2012.0</td>\n",
       "    </tr>\n",
       "  </tbody>\n",
       "</table>\n",
       "</div>"
      ],
      "text/plain": [
       "                              victim region      industry industry_group  threat_actor  sites           ot_or_physical_consecuences                                   incident_summary                                         references   day  month    year\n",
       "id                                                                                                                                                                                                                                                            \n",
       "0                            Stuxnet   Iran  Process Mfg.  Manufacturing  Nation State      1  Destroyed 1000 centrifuges at Natanz  Plant was infected by the Stuxnet worm in a ta...                  [\"en.wikipedia.org/wiki/Stuxnet\"]  15.0    7.0  2010.0\n",
       "3   Iran's main oil export terminals   Iran     Oil & Gas         Energy  Nation State      6                  Shutdown 6 terminals  6 terminals ops. affected by Flame malware. Ne...  [\"bbc.com/news/world-middle-east-59062907\",\"ir...  22.0    4.0  2012.0"
      ]
     },
     "execution_count": 28,
     "metadata": {},
     "output_type": "execute_result"
    }
   ],
   "source": [
    "df.head(2)"
   ]
  },
  {
   "cell_type": "code",
   "execution_count": 29,
   "metadata": {},
   "outputs": [
    {
     "data": {
      "text/plain": [
       "array(['Manufacturing', 'Energy', 'Mining', 'Transportation', 'All',\n",
       "       'Agriculture', 'Water'], dtype=object)"
      ]
     },
     "execution_count": 29,
     "metadata": {},
     "output_type": "execute_result"
    }
   ],
   "source": [
    "df['industry_group'].unique()"
   ]
  },
  {
   "cell_type": "code",
   "execution_count": 30,
   "metadata": {},
   "outputs": [],
   "source": [
    "dummies = pd.get_dummies(df['industry_group'], prefix='industry_')\n",
    "industry_all = (df['industry'] == 'All').astype(int)\n",
    "dummies = dummies.where(industry_all == 0, 1)\n",
    "dummies.drop(columns='industry__All', inplace=True)"
   ]
  },
  {
   "cell_type": "markdown",
   "metadata": {},
   "source": [
    "El siguiente código se ha agregado para lograr que las columnas codificadas se agreguen justo después de la columna original, de manera que sea más fácil ver a qué se le ha asignado el valor codificado.\n",
    "\n"
   ]
  },
  {
   "cell_type": "code",
   "execution_count": 31,
   "metadata": {},
   "outputs": [],
   "source": [
    "idx = df.columns.get_loc('industry_group') + 1\n",
    "\n",
    "df_before = df.iloc[:, :idx]\n",
    "df_after = df.iloc[:, idx:]\n",
    "\n",
    "df = pd.concat([df_before, dummies, df_after], axis=1)"
   ]
  },
  {
   "cell_type": "code",
   "execution_count": 32,
   "metadata": {},
   "outputs": [
    {
     "data": {
      "text/html": [
       "<div>\n",
       "<style scoped>\n",
       "    .dataframe tbody tr th:only-of-type {\n",
       "        vertical-align: middle;\n",
       "    }\n",
       "\n",
       "    .dataframe tbody tr th {\n",
       "        vertical-align: top;\n",
       "    }\n",
       "\n",
       "    .dataframe thead th {\n",
       "        text-align: right;\n",
       "    }\n",
       "</style>\n",
       "<table border=\"1\" class=\"dataframe\">\n",
       "  <thead>\n",
       "    <tr style=\"text-align: right;\">\n",
       "      <th></th>\n",
       "      <th>victim</th>\n",
       "      <th>region</th>\n",
       "      <th>industry</th>\n",
       "      <th>industry_group</th>\n",
       "      <th>industry__Agriculture</th>\n",
       "      <th>industry__Energy</th>\n",
       "      <th>industry__Manufacturing</th>\n",
       "      <th>industry__Mining</th>\n",
       "      <th>industry__Transportation</th>\n",
       "      <th>industry__Water</th>\n",
       "      <th>threat_actor</th>\n",
       "      <th>sites</th>\n",
       "      <th>ot_or_physical_consecuences</th>\n",
       "      <th>incident_summary</th>\n",
       "      <th>references</th>\n",
       "      <th>day</th>\n",
       "      <th>month</th>\n",
       "      <th>year</th>\n",
       "    </tr>\n",
       "    <tr>\n",
       "      <th>id</th>\n",
       "      <th></th>\n",
       "      <th></th>\n",
       "      <th></th>\n",
       "      <th></th>\n",
       "      <th></th>\n",
       "      <th></th>\n",
       "      <th></th>\n",
       "      <th></th>\n",
       "      <th></th>\n",
       "      <th></th>\n",
       "      <th></th>\n",
       "      <th></th>\n",
       "      <th></th>\n",
       "      <th></th>\n",
       "      <th></th>\n",
       "      <th></th>\n",
       "      <th></th>\n",
       "      <th></th>\n",
       "    </tr>\n",
       "  </thead>\n",
       "  <tbody>\n",
       "    <tr>\n",
       "      <th>0</th>\n",
       "      <td>Stuxnet</td>\n",
       "      <td>Iran</td>\n",
       "      <td>Process Mfg.</td>\n",
       "      <td>Manufacturing</td>\n",
       "      <td>0</td>\n",
       "      <td>0</td>\n",
       "      <td>1</td>\n",
       "      <td>0</td>\n",
       "      <td>0</td>\n",
       "      <td>0</td>\n",
       "      <td>Nation State</td>\n",
       "      <td>1</td>\n",
       "      <td>Destroyed 1000 centrifuges at Natanz</td>\n",
       "      <td>Plant was infected by the Stuxnet worm in a ta...</td>\n",
       "      <td>[\"en.wikipedia.org/wiki/Stuxnet\"]</td>\n",
       "      <td>15.0</td>\n",
       "      <td>7.0</td>\n",
       "      <td>2010.0</td>\n",
       "    </tr>\n",
       "    <tr>\n",
       "      <th>3</th>\n",
       "      <td>Iran's main oil export terminals</td>\n",
       "      <td>Iran</td>\n",
       "      <td>Oil &amp; Gas</td>\n",
       "      <td>Energy</td>\n",
       "      <td>0</td>\n",
       "      <td>1</td>\n",
       "      <td>0</td>\n",
       "      <td>0</td>\n",
       "      <td>0</td>\n",
       "      <td>0</td>\n",
       "      <td>Nation State</td>\n",
       "      <td>6</td>\n",
       "      <td>Shutdown 6 terminals</td>\n",
       "      <td>6 terminals ops. affected by Flame malware. Ne...</td>\n",
       "      <td>[\"bbc.com/news/world-middle-east-59062907\",\"ir...</td>\n",
       "      <td>22.0</td>\n",
       "      <td>4.0</td>\n",
       "      <td>2012.0</td>\n",
       "    </tr>\n",
       "    <tr>\n",
       "      <th>12</th>\n",
       "      <td>German steel mill</td>\n",
       "      <td>Germany</td>\n",
       "      <td>Metals &amp; Mining</td>\n",
       "      <td>Mining</td>\n",
       "      <td>0</td>\n",
       "      <td>0</td>\n",
       "      <td>0</td>\n",
       "      <td>1</td>\n",
       "      <td>0</td>\n",
       "      <td>0</td>\n",
       "      <td>Unknown</td>\n",
       "      <td>1</td>\n",
       "      <td>Caused \"massive damage\" to plant equipment</td>\n",
       "      <td>Sophisticated attack using spear phishing and ...</td>\n",
       "      <td>[\"bbc.com/news/technology-30575104\"]</td>\n",
       "      <td>22.0</td>\n",
       "      <td>12.0</td>\n",
       "      <td>2014.0</td>\n",
       "    </tr>\n",
       "  </tbody>\n",
       "</table>\n",
       "</div>"
      ],
      "text/plain": [
       "                              victim   region         industry industry_group  industry__Agriculture  industry__Energy  industry__Manufacturing  industry__Mining  industry__Transportation  industry__Water  threat_actor  sites                 ot_or_physical_consecuences                                   incident_summary                                         references   day  month    year\n",
       "id                                                                                                                                                                                                                                                                                                                                                                                                      \n",
       "0                            Stuxnet     Iran     Process Mfg.  Manufacturing                      0                 0                        1                 0                         0                0  Nation State      1        Destroyed 1000 centrifuges at Natanz  Plant was infected by the Stuxnet worm in a ta...                  [\"en.wikipedia.org/wiki/Stuxnet\"]  15.0    7.0  2010.0\n",
       "3   Iran's main oil export terminals     Iran        Oil & Gas         Energy                      0                 1                        0                 0                         0                0  Nation State      6                        Shutdown 6 terminals  6 terminals ops. affected by Flame malware. Ne...  [\"bbc.com/news/world-middle-east-59062907\",\"ir...  22.0    4.0  2012.0\n",
       "12                 German steel mill  Germany  Metals & Mining         Mining                      0                 0                        0                 1                         0                0       Unknown      1  Caused \"massive damage\" to plant equipment  Sophisticated attack using spear phishing and ...               [\"bbc.com/news/technology-30575104\"]  22.0   12.0  2014.0"
      ]
     },
     "execution_count": 32,
     "metadata": {},
     "output_type": "execute_result"
    }
   ],
   "source": [
    "df.head(3)"
   ]
  },
  {
   "cell_type": "markdown",
   "metadata": {},
   "source": [
    "##### **Threat Actor**."
   ]
  },
  {
   "cell_type": "code",
   "execution_count": 33,
   "metadata": {},
   "outputs": [
    {
     "data": {
      "text/plain": [
       "array(['Nation State', 'Unknown', 'Ransomware', 'Hacktivist'],\n",
       "      dtype=object)"
      ]
     },
     "execution_count": 33,
     "metadata": {},
     "output_type": "execute_result"
    }
   ],
   "source": [
    "df['threat_actor'].unique()"
   ]
  },
  {
   "cell_type": "code",
   "execution_count": 34,
   "metadata": {},
   "outputs": [],
   "source": [
    "label_encoder = LabelEncoder()\n",
    "df['threat_actor_encoded'] = label_encoder.fit_transform(df['threat_actor'])"
   ]
  },
  {
   "cell_type": "markdown",
   "metadata": {},
   "source": [
    "El siguiente código se ha agregado para lograr que las columnas codificadas se agreguen justo después de la columna original, de manera que sea más fácil ver a qué se le ha asignado el valor codificado.\n"
   ]
  },
  {
   "cell_type": "code",
   "execution_count": 35,
   "metadata": {},
   "outputs": [],
   "source": [
    "columns = df.columns.tolist()\n",
    "index = columns.index('threat_actor')\n",
    "\n",
    "columns.insert(index + 1, columns.pop(columns.index('threat_actor_encoded')))\n",
    "df = df[columns]"
   ]
  },
  {
   "cell_type": "code",
   "execution_count": 36,
   "metadata": {},
   "outputs": [
    {
     "data": {
      "text/html": [
       "<div>\n",
       "<style scoped>\n",
       "    .dataframe tbody tr th:only-of-type {\n",
       "        vertical-align: middle;\n",
       "    }\n",
       "\n",
       "    .dataframe tbody tr th {\n",
       "        vertical-align: top;\n",
       "    }\n",
       "\n",
       "    .dataframe thead th {\n",
       "        text-align: right;\n",
       "    }\n",
       "</style>\n",
       "<table border=\"1\" class=\"dataframe\">\n",
       "  <thead>\n",
       "    <tr style=\"text-align: right;\">\n",
       "      <th></th>\n",
       "      <th>victim</th>\n",
       "      <th>region</th>\n",
       "      <th>industry</th>\n",
       "      <th>industry_group</th>\n",
       "      <th>industry__Agriculture</th>\n",
       "      <th>industry__Energy</th>\n",
       "      <th>industry__Manufacturing</th>\n",
       "      <th>industry__Mining</th>\n",
       "      <th>industry__Transportation</th>\n",
       "      <th>industry__Water</th>\n",
       "      <th>threat_actor</th>\n",
       "      <th>threat_actor_encoded</th>\n",
       "      <th>sites</th>\n",
       "      <th>ot_or_physical_consecuences</th>\n",
       "      <th>incident_summary</th>\n",
       "      <th>references</th>\n",
       "      <th>day</th>\n",
       "      <th>month</th>\n",
       "      <th>year</th>\n",
       "    </tr>\n",
       "    <tr>\n",
       "      <th>id</th>\n",
       "      <th></th>\n",
       "      <th></th>\n",
       "      <th></th>\n",
       "      <th></th>\n",
       "      <th></th>\n",
       "      <th></th>\n",
       "      <th></th>\n",
       "      <th></th>\n",
       "      <th></th>\n",
       "      <th></th>\n",
       "      <th></th>\n",
       "      <th></th>\n",
       "      <th></th>\n",
       "      <th></th>\n",
       "      <th></th>\n",
       "      <th></th>\n",
       "      <th></th>\n",
       "      <th></th>\n",
       "      <th></th>\n",
       "    </tr>\n",
       "  </thead>\n",
       "  <tbody>\n",
       "    <tr>\n",
       "      <th>0</th>\n",
       "      <td>Stuxnet</td>\n",
       "      <td>Iran</td>\n",
       "      <td>Process Mfg.</td>\n",
       "      <td>Manufacturing</td>\n",
       "      <td>0</td>\n",
       "      <td>0</td>\n",
       "      <td>1</td>\n",
       "      <td>0</td>\n",
       "      <td>0</td>\n",
       "      <td>0</td>\n",
       "      <td>Nation State</td>\n",
       "      <td>1</td>\n",
       "      <td>1</td>\n",
       "      <td>Destroyed 1000 centrifuges at Natanz</td>\n",
       "      <td>Plant was infected by the Stuxnet worm in a ta...</td>\n",
       "      <td>[\"en.wikipedia.org/wiki/Stuxnet\"]</td>\n",
       "      <td>15.0</td>\n",
       "      <td>7.0</td>\n",
       "      <td>2010.0</td>\n",
       "    </tr>\n",
       "    <tr>\n",
       "      <th>3</th>\n",
       "      <td>Iran's main oil export terminals</td>\n",
       "      <td>Iran</td>\n",
       "      <td>Oil &amp; Gas</td>\n",
       "      <td>Energy</td>\n",
       "      <td>0</td>\n",
       "      <td>1</td>\n",
       "      <td>0</td>\n",
       "      <td>0</td>\n",
       "      <td>0</td>\n",
       "      <td>0</td>\n",
       "      <td>Nation State</td>\n",
       "      <td>1</td>\n",
       "      <td>6</td>\n",
       "      <td>Shutdown 6 terminals</td>\n",
       "      <td>6 terminals ops. affected by Flame malware. Ne...</td>\n",
       "      <td>[\"bbc.com/news/world-middle-east-59062907\",\"ir...</td>\n",
       "      <td>22.0</td>\n",
       "      <td>4.0</td>\n",
       "      <td>2012.0</td>\n",
       "    </tr>\n",
       "  </tbody>\n",
       "</table>\n",
       "</div>"
      ],
      "text/plain": [
       "                              victim region      industry industry_group  industry__Agriculture  industry__Energy  industry__Manufacturing  industry__Mining  industry__Transportation  industry__Water  threat_actor  threat_actor_encoded  sites           ot_or_physical_consecuences                                   incident_summary                                         references   day  month    year\n",
       "id                                                                                                                                                                                                                                                                                                                                                                                                                 \n",
       "0                            Stuxnet   Iran  Process Mfg.  Manufacturing                      0                 0                        1                 0                         0                0  Nation State                     1      1  Destroyed 1000 centrifuges at Natanz  Plant was infected by the Stuxnet worm in a ta...                  [\"en.wikipedia.org/wiki/Stuxnet\"]  15.0    7.0  2010.0\n",
       "3   Iran's main oil export terminals   Iran     Oil & Gas         Energy                      0                 1                        0                 0                         0                0  Nation State                     1      6                  Shutdown 6 terminals  6 terminals ops. affected by Flame malware. Ne...  [\"bbc.com/news/world-middle-east-59062907\",\"ir...  22.0    4.0  2012.0"
      ]
     },
     "execution_count": 36,
     "metadata": {},
     "output_type": "execute_result"
    }
   ],
   "source": [
    "df.head(2)"
   ]
  },
  {
   "cell_type": "markdown",
   "metadata": {},
   "source": [
    "#### Manejo de variables continuas.\n",
    "Para el modelo de clasificación debemos convertir todas las columnas a tipo int. Por lo tanto, debemos ver si debemos realizar una codificación ordinal como en el caso anterior o agruparlas.\n",
    "\n",
    "Las variables continuas se dividen en variables numéricas y variables objeto, que son cadenas de texto que requieren codificación para su análisis. Aunque estas variables son continuas en el sentido de que pueden tomar muchos valores diferentes, se almacenan como cadenas de texto."
   ]
  },
  {
   "cell_type": "code",
   "execution_count": 37,
   "metadata": {},
   "outputs": [
    {
     "data": {
      "text/html": [
       "<div>\n",
       "<style scoped>\n",
       "    .dataframe tbody tr th:only-of-type {\n",
       "        vertical-align: middle;\n",
       "    }\n",
       "\n",
       "    .dataframe tbody tr th {\n",
       "        vertical-align: top;\n",
       "    }\n",
       "\n",
       "    .dataframe thead th {\n",
       "        text-align: right;\n",
       "    }\n",
       "</style>\n",
       "<table border=\"1\" class=\"dataframe\">\n",
       "  <thead>\n",
       "    <tr style=\"text-align: right;\">\n",
       "      <th></th>\n",
       "      <th>victim</th>\n",
       "      <th>region</th>\n",
       "      <th>sites</th>\n",
       "      <th>ot_or_physical_consecuences</th>\n",
       "      <th>incident_summary</th>\n",
       "      <th>references</th>\n",
       "      <th>day</th>\n",
       "      <th>month</th>\n",
       "      <th>year</th>\n",
       "    </tr>\n",
       "    <tr>\n",
       "      <th>id</th>\n",
       "      <th></th>\n",
       "      <th></th>\n",
       "      <th></th>\n",
       "      <th></th>\n",
       "      <th></th>\n",
       "      <th></th>\n",
       "      <th></th>\n",
       "      <th></th>\n",
       "      <th></th>\n",
       "    </tr>\n",
       "  </thead>\n",
       "  <tbody>\n",
       "    <tr>\n",
       "      <th>0</th>\n",
       "      <td>Stuxnet</td>\n",
       "      <td>Iran</td>\n",
       "      <td>1</td>\n",
       "      <td>Destroyed 1000 centrifuges at Natanz</td>\n",
       "      <td>Plant was infected by the Stuxnet worm in a ta...</td>\n",
       "      <td>[\"en.wikipedia.org/wiki/Stuxnet\"]</td>\n",
       "      <td>15.0</td>\n",
       "      <td>7.0</td>\n",
       "      <td>2010.0</td>\n",
       "    </tr>\n",
       "    <tr>\n",
       "      <th>3</th>\n",
       "      <td>Iran's main oil export terminals</td>\n",
       "      <td>Iran</td>\n",
       "      <td>6</td>\n",
       "      <td>Shutdown 6 terminals</td>\n",
       "      <td>6 terminals ops. affected by Flame malware. Ne...</td>\n",
       "      <td>[\"bbc.com/news/world-middle-east-59062907\",\"ir...</td>\n",
       "      <td>22.0</td>\n",
       "      <td>4.0</td>\n",
       "      <td>2012.0</td>\n",
       "    </tr>\n",
       "    <tr>\n",
       "      <th>12</th>\n",
       "      <td>German steel mill</td>\n",
       "      <td>Germany</td>\n",
       "      <td>1</td>\n",
       "      <td>Caused \"massive damage\" to plant equipment</td>\n",
       "      <td>Sophisticated attack using spear phishing and ...</td>\n",
       "      <td>[\"bbc.com/news/technology-30575104\"]</td>\n",
       "      <td>22.0</td>\n",
       "      <td>12.0</td>\n",
       "      <td>2014.0</td>\n",
       "    </tr>\n",
       "  </tbody>\n",
       "</table>\n",
       "</div>"
      ],
      "text/plain": [
       "                              victim   region  sites                 ot_or_physical_consecuences                                   incident_summary                                         references   day  month    year\n",
       "id                                                                                                                                                                                                                         \n",
       "0                            Stuxnet     Iran      1        Destroyed 1000 centrifuges at Natanz  Plant was infected by the Stuxnet worm in a ta...                  [\"en.wikipedia.org/wiki/Stuxnet\"]  15.0    7.0  2010.0\n",
       "3   Iran's main oil export terminals     Iran      6                        Shutdown 6 terminals  6 terminals ops. affected by Flame malware. Ne...  [\"bbc.com/news/world-middle-east-59062907\",\"ir...  22.0    4.0  2012.0\n",
       "12                 German steel mill  Germany      1  Caused \"massive damage\" to plant equipment  Sophisticated attack using spear phishing and ...               [\"bbc.com/news/technology-30575104\"]  22.0   12.0  2014.0"
      ]
     },
     "execution_count": 37,
     "metadata": {},
     "output_type": "execute_result"
    }
   ],
   "source": [
    "df[v_continuas].head(3)"
   ]
  },
  {
   "cell_type": "code",
   "execution_count": 38,
   "metadata": {},
   "outputs": [
    {
     "data": {
      "text/plain": [
       "victim                          object\n",
       "region                          object\n",
       "sites                            int64\n",
       "ot_or_physical_consecuences     object\n",
       "incident_summary                object\n",
       "references                      object\n",
       "day                            float64\n",
       "month                          float64\n",
       "year                           float64\n",
       "dtype: object"
      ]
     },
     "execution_count": 38,
     "metadata": {},
     "output_type": "execute_result"
    }
   ],
   "source": [
    "df[v_continuas].dtypes"
   ]
  },
  {
   "cell_type": "code",
   "execution_count": 39,
   "metadata": {},
   "outputs": [],
   "source": [
    "v_categoricas_cont = list(df[v_continuas].dtypes[df[v_continuas].dtypes == 'object'].index)"
   ]
  },
  {
   "cell_type": "markdown",
   "metadata": {},
   "source": [
    "##### **Victim.**\n",
    "La columna `victim` contiene valores que en su mayoría son únicos, lo que sugiere que actúa más como un identificador que como una característica con patrones generales útiles para el modelo. Transformarla directamente podría generar un exceso de categorías o introducir relaciones artificiales entre los valores, lo que podría afectar negativamente el rendimiento del modelo. Por este motivo, es mejor no transformar esta columna y evaluar su relevancia antes de incluirla en el análisis."
   ]
  },
  {
   "cell_type": "code",
   "execution_count": 40,
   "metadata": {},
   "outputs": [
    {
     "data": {
      "text/plain": [
       "112"
      ]
     },
     "execution_count": 40,
     "metadata": {},
     "output_type": "execute_result"
    }
   ],
   "source": [
    "df['victim'].nunique()"
   ]
  },
  {
   "cell_type": "markdown",
   "metadata": {},
   "source": [
    "##### **Region**.\n",
    "Para realizar una evaluación más eficaz de los países de nuestros datos, es conveniente agruparlos por continentes. Esto es especialmente relevante porque en otros archivos CSV hay registros de ataques procedentes de distintos países, distribuidos por diferentes continentes.\n",
    "\n",
    "Para facilitar este análisis, procederemos a crear seis nuevas columnas en nuestro conjunto de datos, cada una de las cuales representará un continente específico. Estas columnas indicarán con un valor 1 si el país pertenece al continente correspondiente y 0 en caso contrario, es decir, asignando valores binarios."
   ]
  },
  {
   "cell_type": "code",
   "execution_count": 41,
   "metadata": {},
   "outputs": [
    {
     "data": {
      "text/plain": [
       "array(['Iran', 'Germany', 'Ukraine', 'France, Slovenia, Romania, India',\n",
       "       'India', 'Global', 'USA', 'Taiwan', 'Norway', 'South Africa',\n",
       "       'Belgium, Romania, China', 'Australia', 'USA & Canada',\n",
       "       'New Zealand', 'Japan, Turkey, UK, USA',\n",
       "       'Germany, France, Malaysia, USA', 'Israel', 'Canada',\n",
       "       'India, UK, Brazil, Russia, USA', 'Europe, N. & S. America, Asia',\n",
       "       'USA, Canada, UK', 'France', 'Netherlands', 'UK',\n",
       "       'Australia, Canada, USA', 'USA, Europe, S. America', 'Spain',\n",
       "       'Switzerland, Germany', 'Belgium, Africa',\n",
       "       'Malta, Belgium, Netherlands', 'Switzerland', 'N. & S. America',\n",
       "       'Belarus', 'Japan', 'Russia', 'Greece', 'Bulgaria', 'Costa Rica',\n",
       "       'USA & Europe', 'Mexico', 'UK, USA', 'Austria',\n",
       "       'Austria, Canada, Finland, USA', 'Ghana', 'Germany, USA',\n",
       "       'Denmark', 'Finland', 'Italy', 'Luxembourg', 'Colombia'],\n",
       "      dtype=object)"
      ]
     },
     "execution_count": 41,
     "metadata": {},
     "output_type": "execute_result"
    }
   ],
   "source": [
    "df['region'].unique()"
   ]
  },
  {
   "cell_type": "code",
   "execution_count": 42,
   "metadata": {},
   "outputs": [],
   "source": [
    "continents_mapping = {\n",
    "    'Africa': ['Ghana', 'South Africa', 'Nigeria', 'Kenya', 'Egypt', 'Morocco', 'Zimbabwe', 'Algeria'],\n",
    "    'Asia': ['Asia', 'Iran', 'India', 'Japan', 'Taiwan', 'Malaysia', 'China', 'Turkey', 'Israel', 'Saudi Arabia', 'Russia'],\n",
    "    'Europe': ['Germany', 'France', 'UK', 'Italy', 'Belgium', 'Austria', 'Sweden', 'Spain', 'Norway', 'Finland', \n",
    "               'Switzerland', 'Ukraine', 'Romania', 'Denmark', 'Bulgaria', 'Greece', 'Malta', 'Portugal', \n",
    "               'Netherlands', 'Czech Republic', 'Luxembourg', 'Belarus', 'Europe'],\n",
    "    'North America': ['USA', 'Canada', 'Mexico', 'Belize', 'Costa Rica', 'El Salvador', 'Guatemala', \n",
    "                     'Honduras', 'Nicaragua', 'Panama', 'N.'],\n",
    "    'South America': ['Brazil', 'Colombia', 'Argentina', 'Chile', 'Peru', 'Venezuela',\n",
    "                      'S. America'],\n",
    "    'Australia': ['Australia', 'New Zealand'],\n",
    "    'Africa, Asia, North America, Europe, South America, Australia': ['Global']\n",
    "}"
   ]
  },
  {
   "cell_type": "code",
   "execution_count": 43,
   "metadata": {},
   "outputs": [],
   "source": [
    "def assign_continent(region):\n",
    "    region = region.replace('&', ',')\n",
    "    countries = [country.strip() for country in region.split(',')]\n",
    "    continents = set()\n",
    "    \n",
    "    for country in countries:\n",
    "        for continent, countries_list in continents_mapping.items():\n",
    "            if country in countries_list:\n",
    "                continents.add(continent)\n",
    "    \n",
    "    # Devolver una lista de continentes, unirlos como una cadena\n",
    "    return ', '.join(continents) if continents else None\n",
    "\n",
    "# Crear una nueva columna en el DataFrame con los continentes\n",
    "df['continent'] = df['region'].apply(assign_continent)"
   ]
  },
  {
   "cell_type": "code",
   "execution_count": 44,
   "metadata": {},
   "outputs": [
    {
     "name": "stdout",
     "output_type": "stream",
     "text": [
      "Lista de países con 'continent' como None:\n",
      "[]\n"
     ]
    }
   ],
   "source": [
    "countries_with_no_continent = df[df['continent'].isnull()]['region'].unique()\n",
    "\n",
    "# Mostrar la lista de países con 'continent' como None\n",
    "print(\"Lista de países con 'continent' como None:\")\n",
    "print(countries_with_no_continent)"
   ]
  },
  {
   "cell_type": "code",
   "execution_count": 45,
   "metadata": {},
   "outputs": [],
   "source": [
    "continent_dummies = df['continent'].str.get_dummies(sep=', ')\n",
    "df = pd.concat([df, continent_dummies], axis=1)"
   ]
  },
  {
   "cell_type": "code",
   "execution_count": 46,
   "metadata": {},
   "outputs": [],
   "source": [
    "df.drop(columns=['region', 'continent'], inplace=True)"
   ]
  },
  {
   "cell_type": "code",
   "execution_count": 47,
   "metadata": {},
   "outputs": [
    {
     "data": {
      "text/html": [
       "<div>\n",
       "<style scoped>\n",
       "    .dataframe tbody tr th:only-of-type {\n",
       "        vertical-align: middle;\n",
       "    }\n",
       "\n",
       "    .dataframe tbody tr th {\n",
       "        vertical-align: top;\n",
       "    }\n",
       "\n",
       "    .dataframe thead th {\n",
       "        text-align: right;\n",
       "    }\n",
       "</style>\n",
       "<table border=\"1\" class=\"dataframe\">\n",
       "  <thead>\n",
       "    <tr style=\"text-align: right;\">\n",
       "      <th></th>\n",
       "      <th>victim</th>\n",
       "      <th>industry</th>\n",
       "      <th>industry_group</th>\n",
       "      <th>industry__Agriculture</th>\n",
       "      <th>industry__Energy</th>\n",
       "      <th>industry__Manufacturing</th>\n",
       "      <th>industry__Mining</th>\n",
       "      <th>industry__Transportation</th>\n",
       "      <th>industry__Water</th>\n",
       "      <th>threat_actor</th>\n",
       "      <th>threat_actor_encoded</th>\n",
       "      <th>sites</th>\n",
       "      <th>ot_or_physical_consecuences</th>\n",
       "      <th>incident_summary</th>\n",
       "      <th>references</th>\n",
       "      <th>day</th>\n",
       "      <th>month</th>\n",
       "      <th>year</th>\n",
       "      <th>Africa</th>\n",
       "      <th>Asia</th>\n",
       "      <th>Australia</th>\n",
       "      <th>Europe</th>\n",
       "      <th>North America</th>\n",
       "      <th>South America</th>\n",
       "    </tr>\n",
       "    <tr>\n",
       "      <th>id</th>\n",
       "      <th></th>\n",
       "      <th></th>\n",
       "      <th></th>\n",
       "      <th></th>\n",
       "      <th></th>\n",
       "      <th></th>\n",
       "      <th></th>\n",
       "      <th></th>\n",
       "      <th></th>\n",
       "      <th></th>\n",
       "      <th></th>\n",
       "      <th></th>\n",
       "      <th></th>\n",
       "      <th></th>\n",
       "      <th></th>\n",
       "      <th></th>\n",
       "      <th></th>\n",
       "      <th></th>\n",
       "      <th></th>\n",
       "      <th></th>\n",
       "      <th></th>\n",
       "      <th></th>\n",
       "      <th></th>\n",
       "      <th></th>\n",
       "    </tr>\n",
       "  </thead>\n",
       "  <tbody>\n",
       "    <tr>\n",
       "      <th>0</th>\n",
       "      <td>Stuxnet</td>\n",
       "      <td>Process Mfg.</td>\n",
       "      <td>Manufacturing</td>\n",
       "      <td>0</td>\n",
       "      <td>0</td>\n",
       "      <td>1</td>\n",
       "      <td>0</td>\n",
       "      <td>0</td>\n",
       "      <td>0</td>\n",
       "      <td>Nation State</td>\n",
       "      <td>1</td>\n",
       "      <td>1</td>\n",
       "      <td>Destroyed 1000 centrifuges at Natanz</td>\n",
       "      <td>Plant was infected by the Stuxnet worm in a ta...</td>\n",
       "      <td>[\"en.wikipedia.org/wiki/Stuxnet\"]</td>\n",
       "      <td>15.0</td>\n",
       "      <td>7.0</td>\n",
       "      <td>2010.0</td>\n",
       "      <td>0</td>\n",
       "      <td>1</td>\n",
       "      <td>0</td>\n",
       "      <td>0</td>\n",
       "      <td>0</td>\n",
       "      <td>0</td>\n",
       "    </tr>\n",
       "    <tr>\n",
       "      <th>3</th>\n",
       "      <td>Iran's main oil export terminals</td>\n",
       "      <td>Oil &amp; Gas</td>\n",
       "      <td>Energy</td>\n",
       "      <td>0</td>\n",
       "      <td>1</td>\n",
       "      <td>0</td>\n",
       "      <td>0</td>\n",
       "      <td>0</td>\n",
       "      <td>0</td>\n",
       "      <td>Nation State</td>\n",
       "      <td>1</td>\n",
       "      <td>6</td>\n",
       "      <td>Shutdown 6 terminals</td>\n",
       "      <td>6 terminals ops. affected by Flame malware. Ne...</td>\n",
       "      <td>[\"bbc.com/news/world-middle-east-59062907\",\"ir...</td>\n",
       "      <td>22.0</td>\n",
       "      <td>4.0</td>\n",
       "      <td>2012.0</td>\n",
       "      <td>0</td>\n",
       "      <td>1</td>\n",
       "      <td>0</td>\n",
       "      <td>0</td>\n",
       "      <td>0</td>\n",
       "      <td>0</td>\n",
       "    </tr>\n",
       "  </tbody>\n",
       "</table>\n",
       "</div>"
      ],
      "text/plain": [
       "                              victim      industry industry_group  industry__Agriculture  industry__Energy  industry__Manufacturing  industry__Mining  industry__Transportation  industry__Water  threat_actor  threat_actor_encoded  sites           ot_or_physical_consecuences                                   incident_summary                                         references   day  month    year  Africa  Asia  Australia  Europe  North America  South America\n",
       "id                                                                                                                                                                                                                                                                                                                                                                                                                                                                         \n",
       "0                            Stuxnet  Process Mfg.  Manufacturing                      0                 0                        1                 0                         0                0  Nation State                     1      1  Destroyed 1000 centrifuges at Natanz  Plant was infected by the Stuxnet worm in a ta...                  [\"en.wikipedia.org/wiki/Stuxnet\"]  15.0    7.0  2010.0       0     1          0       0              0              0\n",
       "3   Iran's main oil export terminals     Oil & Gas         Energy                      0                 1                        0                 0                         0                0  Nation State                     1      6                  Shutdown 6 terminals  6 terminals ops. affected by Flame malware. Ne...  [\"bbc.com/news/world-middle-east-59062907\",\"ir...  22.0    4.0  2012.0       0     1          0       0              0              0"
      ]
     },
     "execution_count": 47,
     "metadata": {},
     "output_type": "execute_result"
    }
   ],
   "source": [
    "df.head(2)"
   ]
  },
  {
   "cell_type": "markdown",
   "metadata": {},
   "source": [
    "##### **OT or Physical Consecuences.**\n",
    "La columna `OT or Physical Consecuences` contiene valores que en su mayoría son únicos, lo que sugiere que actúa más como un identificador que como una característica con patrones generales útiles para el modelo. Transformarla directamente podría generar un exceso de categorías o introducir relaciones artificiales entre los valores, lo que podría afectar negativamente el rendimiento del modelo. Por este motivo, es mejor no transformar esta columna y evaluar su relevancia antes de incluirla en el análisis."
   ]
  },
  {
   "cell_type": "code",
   "execution_count": 48,
   "metadata": {},
   "outputs": [
    {
     "data": {
      "text/plain": [
       "112"
      ]
     },
     "execution_count": 48,
     "metadata": {},
     "output_type": "execute_result"
    }
   ],
   "source": [
    "df['ot_or_physical_consecuences'].nunique()"
   ]
  },
  {
   "cell_type": "markdown",
   "metadata": {},
   "source": [
    "##### **Incident Summary.**\n",
    "La columna `Incident Summary` contiene valores que en su mayoría son únicos, lo que sugiere que actúa más como un identificador que como una característica con patrones generales útiles para el modelo. Transformarla directamente podría generar un exceso de categorías o introducir relaciones artificiales entre los valores, lo que podría afectar negativamente el rendimiento del modelo. Por este motivo, es mejor no transformar esta columna y evaluar su relevancia antes de incluirla en el análisis."
   ]
  },
  {
   "cell_type": "code",
   "execution_count": 49,
   "metadata": {},
   "outputs": [
    {
     "data": {
      "text/plain": [
       "112"
      ]
     },
     "execution_count": 49,
     "metadata": {},
     "output_type": "execute_result"
    }
   ],
   "source": [
    "df['incident_summary'].nunique()"
   ]
  },
  {
   "cell_type": "markdown",
   "metadata": {},
   "source": [
    "##### **References**.\n",
    "This column will be used later to define the relationships between CSVs. We will need to extract the domain name from the URL."
   ]
  },
  {
   "cell_type": "code",
   "execution_count": 50,
   "metadata": {},
   "outputs": [],
   "source": [
    "def clean_references(references):\n",
    "    references = references.strip(\"[]\")\n",
    "    references = references.replace('\"', '').replace(\"'\", '')\n",
    "    references = references.replace(',', ', ')\n",
    "\n",
    "    references = re.sub(r'(\\.com|\\.org|\\.es|\\.net|\\.co|\\.gov|\\.edu|\\.int|\\.mil)[^\\s,]*', r'\\1', references)\n",
    "    \n",
    "    return references\n",
    "\n",
    "# Aplicar la función a la columna 'references'\n",
    "df['references'] = df['references'].apply(clean_references)"
   ]
  },
  {
   "cell_type": "code",
   "execution_count": 51,
   "metadata": {},
   "outputs": [
    {
     "data": {
      "text/html": [
       "<div>\n",
       "<style scoped>\n",
       "    .dataframe tbody tr th:only-of-type {\n",
       "        vertical-align: middle;\n",
       "    }\n",
       "\n",
       "    .dataframe tbody tr th {\n",
       "        vertical-align: top;\n",
       "    }\n",
       "\n",
       "    .dataframe thead th {\n",
       "        text-align: right;\n",
       "    }\n",
       "</style>\n",
       "<table border=\"1\" class=\"dataframe\">\n",
       "  <thead>\n",
       "    <tr style=\"text-align: right;\">\n",
       "      <th></th>\n",
       "      <th>victim</th>\n",
       "      <th>industry</th>\n",
       "      <th>industry_group</th>\n",
       "      <th>industry__Agriculture</th>\n",
       "      <th>industry__Energy</th>\n",
       "      <th>industry__Manufacturing</th>\n",
       "      <th>industry__Mining</th>\n",
       "      <th>industry__Transportation</th>\n",
       "      <th>industry__Water</th>\n",
       "      <th>threat_actor</th>\n",
       "      <th>threat_actor_encoded</th>\n",
       "      <th>sites</th>\n",
       "      <th>ot_or_physical_consecuences</th>\n",
       "      <th>incident_summary</th>\n",
       "      <th>references</th>\n",
       "      <th>day</th>\n",
       "      <th>month</th>\n",
       "      <th>year</th>\n",
       "      <th>Africa</th>\n",
       "      <th>Asia</th>\n",
       "      <th>Australia</th>\n",
       "      <th>Europe</th>\n",
       "      <th>North America</th>\n",
       "      <th>South America</th>\n",
       "    </tr>\n",
       "    <tr>\n",
       "      <th>id</th>\n",
       "      <th></th>\n",
       "      <th></th>\n",
       "      <th></th>\n",
       "      <th></th>\n",
       "      <th></th>\n",
       "      <th></th>\n",
       "      <th></th>\n",
       "      <th></th>\n",
       "      <th></th>\n",
       "      <th></th>\n",
       "      <th></th>\n",
       "      <th></th>\n",
       "      <th></th>\n",
       "      <th></th>\n",
       "      <th></th>\n",
       "      <th></th>\n",
       "      <th></th>\n",
       "      <th></th>\n",
       "      <th></th>\n",
       "      <th></th>\n",
       "      <th></th>\n",
       "      <th></th>\n",
       "      <th></th>\n",
       "      <th></th>\n",
       "    </tr>\n",
       "  </thead>\n",
       "  <tbody>\n",
       "    <tr>\n",
       "      <th>0</th>\n",
       "      <td>Stuxnet</td>\n",
       "      <td>Process Mfg.</td>\n",
       "      <td>Manufacturing</td>\n",
       "      <td>0</td>\n",
       "      <td>0</td>\n",
       "      <td>1</td>\n",
       "      <td>0</td>\n",
       "      <td>0</td>\n",
       "      <td>0</td>\n",
       "      <td>Nation State</td>\n",
       "      <td>1</td>\n",
       "      <td>1</td>\n",
       "      <td>Destroyed 1000 centrifuges at Natanz</td>\n",
       "      <td>Plant was infected by the Stuxnet worm in a ta...</td>\n",
       "      <td>en.wikipedia.org</td>\n",
       "      <td>15.0</td>\n",
       "      <td>7.0</td>\n",
       "      <td>2010.0</td>\n",
       "      <td>0</td>\n",
       "      <td>1</td>\n",
       "      <td>0</td>\n",
       "      <td>0</td>\n",
       "      <td>0</td>\n",
       "      <td>0</td>\n",
       "    </tr>\n",
       "    <tr>\n",
       "      <th>3</th>\n",
       "      <td>Iran's main oil export terminals</td>\n",
       "      <td>Oil &amp; Gas</td>\n",
       "      <td>Energy</td>\n",
       "      <td>0</td>\n",
       "      <td>1</td>\n",
       "      <td>0</td>\n",
       "      <td>0</td>\n",
       "      <td>0</td>\n",
       "      <td>0</td>\n",
       "      <td>Nation State</td>\n",
       "      <td>1</td>\n",
       "      <td>6</td>\n",
       "      <td>Shutdown 6 terminals</td>\n",
       "      <td>6 terminals ops. affected by Flame malware. Ne...</td>\n",
       "      <td>bbc.com, iranprimer.usip.org</td>\n",
       "      <td>22.0</td>\n",
       "      <td>4.0</td>\n",
       "      <td>2012.0</td>\n",
       "      <td>0</td>\n",
       "      <td>1</td>\n",
       "      <td>0</td>\n",
       "      <td>0</td>\n",
       "      <td>0</td>\n",
       "      <td>0</td>\n",
       "    </tr>\n",
       "    <tr>\n",
       "      <th>12</th>\n",
       "      <td>German steel mill</td>\n",
       "      <td>Metals &amp; Mining</td>\n",
       "      <td>Mining</td>\n",
       "      <td>0</td>\n",
       "      <td>0</td>\n",
       "      <td>0</td>\n",
       "      <td>1</td>\n",
       "      <td>0</td>\n",
       "      <td>0</td>\n",
       "      <td>Unknown</td>\n",
       "      <td>3</td>\n",
       "      <td>1</td>\n",
       "      <td>Caused \"massive damage\" to plant equipment</td>\n",
       "      <td>Sophisticated attack using spear phishing and ...</td>\n",
       "      <td>bbc.com</td>\n",
       "      <td>22.0</td>\n",
       "      <td>12.0</td>\n",
       "      <td>2014.0</td>\n",
       "      <td>0</td>\n",
       "      <td>0</td>\n",
       "      <td>0</td>\n",
       "      <td>1</td>\n",
       "      <td>0</td>\n",
       "      <td>0</td>\n",
       "    </tr>\n",
       "  </tbody>\n",
       "</table>\n",
       "</div>"
      ],
      "text/plain": [
       "                              victim         industry industry_group  industry__Agriculture  industry__Energy  industry__Manufacturing  industry__Mining  industry__Transportation  industry__Water  threat_actor  threat_actor_encoded  sites                 ot_or_physical_consecuences                                   incident_summary                    references   day  month    year  Africa  Asia  Australia  Europe  North America  South America\n",
       "id                                                                                                                                                                                                                                                                                                                                                                                                                                                             \n",
       "0                            Stuxnet     Process Mfg.  Manufacturing                      0                 0                        1                 0                         0                0  Nation State                     1      1        Destroyed 1000 centrifuges at Natanz  Plant was infected by the Stuxnet worm in a ta...              en.wikipedia.org  15.0    7.0  2010.0       0     1          0       0              0              0\n",
       "3   Iran's main oil export terminals        Oil & Gas         Energy                      0                 1                        0                 0                         0                0  Nation State                     1      6                        Shutdown 6 terminals  6 terminals ops. affected by Flame malware. Ne...  bbc.com, iranprimer.usip.org  22.0    4.0  2012.0       0     1          0       0              0              0\n",
       "12                 German steel mill  Metals & Mining         Mining                      0                 0                        0                 1                         0                0       Unknown                     3      1  Caused \"massive damage\" to plant equipment  Sophisticated attack using spear phishing and ...                       bbc.com  22.0   12.0  2014.0       0     0          0       1              0              0"
      ]
     },
     "execution_count": 51,
     "metadata": {},
     "output_type": "execute_result"
    }
   ],
   "source": [
    "df.head(3)"
   ]
  },
  {
   "cell_type": "markdown",
   "metadata": {},
   "source": [
    "## Modelos de Clasificación.\n",
    "En este análisis desarrollaremos modelos de clasificación para identificar patrones y predecir ciberataques. Utilizaremos **Threat Actor Encoded** como variable objetivo, ya que representa diferentes tipos de actores detrás de los ataques. Diferenciaremos entre **modelos supervisados**, que utilizan esta variable, y **no supervisados**, que buscan patrones sin depender de un objetivo. Para los modelos supervisados, realizaremos evaluación cruzada para medir su generalización."
   ]
  },
  {
   "cell_type": "code",
   "execution_count": 52,
   "metadata": {},
   "outputs": [],
   "source": [
    "df_1 = df.drop(list(df.select_dtypes(include=['object']).columns), axis = 1)"
   ]
  },
  {
   "cell_type": "markdown",
   "metadata": {},
   "source": [
    "### Matriz de Confusión."
   ]
  },
  {
   "cell_type": "code",
   "execution_count": 53,
   "metadata": {},
   "outputs": [
    {
     "data": {
      "image/png": "[encoded data removed]",
      "text/plain": [
       "<Figure size 1200x800 with 2 Axes>"
      ]
     },
     "metadata": {},
     "output_type": "display_data"
    }
   ],
   "source": [
    "correlation_matrix = df_1.corr()\n",
    "plt.figure(figsize=(12, 8))\n",
    "sns.heatmap(correlation_matrix, annot=True, cmap=denexus_palette, cbar=True, fmt=\".2f\")\n",
    "plt.title('Matriz de correlaciones entre variables continuas')\n",
    "plt.show()"
   ]
  },
  {
   "cell_type": "markdown",
   "metadata": {},
   "source": [
    "### Modelos de Clasificación Supervisado.\n",
    "Hemos seleccionado **Threat Actor Encoded** como la variable objetivo porque representa diferentes tipos de actores detrás de ciberataques. Este análisis se centra en predecir el tipo de amenaza que se encuentra detrás de cada incidente, lo cual tiene un impacto directo en la planificación de estrategias de defensa. Aunque no es una variable binaria, este problema multiclase permite capturar patrones más complejos en los datos."
   ]
  },
  {
   "cell_type": "markdown",
   "metadata": {},
   "source": [
    "#### División en Conjuntos de Entrenamiento y Prueba."
   ]
  },
  {
   "cell_type": "code",
   "execution_count": 54,
   "metadata": {},
   "outputs": [],
   "source": [
    "X = df_1.drop(columns=['threat_actor_encoded'])\n",
    "y = df_1['threat_actor_encoded']"
   ]
  },
  {
   "cell_type": "code",
   "execution_count": 55,
   "metadata": {},
   "outputs": [],
   "source": [
    "X_train, X_test, y_train, y_test = train_test_split(X, y, test_size=0.2, random_state=42)"
   ]
  },
  {
   "cell_type": "code",
   "execution_count": 56,
   "metadata": {},
   "outputs": [
    {
     "data": {
      "text/plain": [
       "2    71\n",
       "3     9\n",
       "0     5\n",
       "1     4\n",
       "Name: threat_actor_encoded, dtype: int64"
      ]
     },
     "execution_count": 56,
     "metadata": {},
     "output_type": "execute_result"
    }
   ],
   "source": [
    "y_train.value_counts()"
   ]
  },
  {
   "cell_type": "code",
   "execution_count": 57,
   "metadata": {},
   "outputs": [
    {
     "data": {
      "text/plain": [
       "2    16\n",
       "3     4\n",
       "1     2\n",
       "0     1\n",
       "Name: threat_actor_encoded, dtype: int64"
      ]
     },
     "execution_count": 57,
     "metadata": {},
     "output_type": "execute_result"
    }
   ],
   "source": [
    "y_test.value_counts()"
   ]
  },
  {
   "cell_type": "markdown",
   "metadata": {},
   "source": [
    "Al tener un **conjunto de entrenamiento muy desbalanceado**, lo óptimo para un correcto modelo de aprendizaje automático sería realizar un **balanceo de las clases** a través de **ROS** ya que este funciona mejor apra variables categóricas que **SMOTE**. Sin embargo, este balanceo no debe aplicarse al conjunto de prueba, ya que hacerlo alteraría la naturaleza de los datos, haciéndolos no representativos de la realidad. El **conjunto de prueba** debe reflejar fielmente la distribución de clases en el mundo real. Por lo tanto, en lugar de aplicar balanceo en el conjunto de prueba, lo que se hará será **asignar mayor importancia a las clases minoritarias** durante el entrenamiento del modelo, ajustando los pesos de las clases en el modelo. De este modo, el modelo aprenderá a prestar más atención a las clases con menos representaciones, sin comprometer la integridad del conjunto de prueba."
   ]
  },
  {
   "cell_type": "markdown",
   "metadata": {},
   "source": [
    "#### Manejo de variables desbalanceadas.\n",
    "Dado el desbalance de clases en el conjunto de entrenamiento, vamos a aplicar **Random Over-Sampling (ROS)** para equilibrar las clases minoritarias. Esta técnica aumenta la representación de las clases menos frecuentes duplicando aleatoriamente sus instancias, lo que permite que el modelo aprenda de manera más equitativa."
   ]
  },
  {
   "cell_type": "code",
   "execution_count": 58,
   "metadata": {},
   "outputs": [],
   "source": [
    "ros = RandomOverSampler(random_state=42)\n",
    "X_train_ros, y_train_ros = ros.fit_resample(X_train, y_train)"
   ]
  },
  {
   "cell_type": "markdown",
   "metadata": {},
   "source": [
    "#### Entrenamiento y Evaluación de Modelos.\n",
    "En este apartado, entrenaremos modelos de aprendizaje supervisado para predecir el tipo de actor detrás de los ciberataques."
   ]
  },
  {
   "cell_type": "code",
   "execution_count": 59,
   "metadata": {},
   "outputs": [],
   "source": [
    "results = pd.DataFrame(columns=['Model', 'Tipo', 'Accuracy', 'Recall'])\n",
    "results['Tipo'] = ['LabelEncoder']*2"
   ]
  },
  {
   "cell_type": "markdown",
   "metadata": {},
   "source": [
    "##### **Random Forest.**\n",
    "**Random Forest** es un algoritmo de aprendizaje automático basado en la creación de múltiples árboles de decisión, cuyos resultados se combinan para mejorar la precisión y evitar el sobreajuste. Es eficaz para clasificación y regresión, **manejando bien el desbalance de clases** y datos complejos."
   ]
  },
  {
   "cell_type": "code",
   "execution_count": 60,
   "metadata": {},
   "outputs": [
    {
     "data": {
      "text/html": [
       "<style>#sk-container-id-1 {\n",
       "  /* Definition of color scheme common for light and dark mode */\n",
       "  --sklearn-color-text: black;\n",
       "  --sklearn-color-line: gray;\n",
       "  /* Definition of color scheme for unfitted estimators */\n",
       "  --sklearn-color-unfitted-level-0: #fff5e6;\n",
       "  --sklearn-color-unfitted-level-1: #f6e4d2;\n",
       "  --sklearn-color-unfitted-level-2: #ffe0b3;\n",
       "  --sklearn-color-unfitted-level-3: chocolate;\n",
       "  /* Definition of color scheme for fitted estimators */\n",
       "  --sklearn-color-fitted-level-0: #f0f8ff;\n",
       "  --sklearn-color-fitted-level-1: #d4ebff;\n",
       "  --sklearn-color-fitted-level-2: #b3dbfd;\n",
       "  --sklearn-color-fitted-level-3: cornflowerblue;\n",
       "\n",
       "  /* Specific color for light theme */\n",
       "  --sklearn-color-text-on-default-background: var(--sg-text-color, var(--theme-code-foreground, var(--jp-content-font-color1, black)));\n",
       "  --sklearn-color-background: var(--sg-background-color, var(--theme-background, var(--jp-layout-color0, white)));\n",
       "  --sklearn-color-border-box: var(--sg-text-color, var(--theme-code-foreground, var(--jp-content-font-color1, black)));\n",
       "  --sklearn-color-icon: #696969;\n",
       "\n",
       "  @media (prefers-color-scheme: dark) {\n",
       "    /* Redefinition of color scheme for dark theme */\n",
       "    --sklearn-color-text-on-default-background: var(--sg-text-color, var(--theme-code-foreground, var(--jp-content-font-color1, white)));\n",
       "    --sklearn-color-background: var(--sg-background-color, var(--theme-background, var(--jp-layout-color0, #111)));\n",
       "    --sklearn-color-border-box: var(--sg-text-color, var(--theme-code-foreground, var(--jp-content-font-color1, white)));\n",
       "    --sklearn-color-icon: #878787;\n",
       "  }\n",
       "}\n",
       "\n",
       "#sk-container-id-1 {\n",
       "  color: var(--sklearn-color-text);\n",
       "}\n",
       "\n",
       "#sk-container-id-1 pre {\n",
       "  padding: 0;\n",
       "}\n",
       "\n",
       "#sk-container-id-1 input.sk-hidden--visually {\n",
       "  border: 0;\n",
       "  clip: rect(1px 1px 1px 1px);\n",
       "  clip: rect(1px, 1px, 1px, 1px);\n",
       "  height: 1px;\n",
       "  margin: -1px;\n",
       "  overflow: hidden;\n",
       "  padding: 0;\n",
       "  position: absolute;\n",
       "  width: 1px;\n",
       "}\n",
       "\n",
       "#sk-container-id-1 div.sk-dashed-wrapped {\n",
       "  border: 1px dashed var(--sklearn-color-line);\n",
       "  margin: 0 0.4em 0.5em 0.4em;\n",
       "  box-sizing: border-box;\n",
       "  padding-bottom: 0.4em;\n",
       "  background-color: var(--sklearn-color-background);\n",
       "}\n",
       "\n",
       "#sk-container-id-1 div.sk-container {\n",
       "  /* jupyter's `normalize.less` sets `[hidden] { display: none; }`\n",
       "     but bootstrap.min.css set `[hidden] { display: none !important; }`\n",
       "     so we also need the `!important` here to be able to override the\n",
       "     default hidden behavior on the sphinx rendered scikit-learn.org.\n",
       "     See: https://github.com/scikit-learn/scikit-learn/issues/21755 */\n",
       "  display: inline-block !important;\n",
       "  position: relative;\n",
       "}\n",
       "\n",
       "#sk-container-id-1 div.sk-text-repr-fallback {\n",
       "  display: none;\n",
       "}\n",
       "\n",
       "div.sk-parallel-item,\n",
       "div.sk-serial,\n",
       "div.sk-item {\n",
       "  /* draw centered vertical line to link estimators */\n",
       "  background-image: linear-gradient(var(--sklearn-color-text-on-default-background), var(--sklearn-color-text-on-default-background));\n",
       "  background-size: 2px 100%;\n",
       "  background-repeat: no-repeat;\n",
       "  background-position: center center;\n",
       "}\n",
       "\n",
       "/* Parallel-specific style estimator block */\n",
       "\n",
       "#sk-container-id-1 div.sk-parallel-item::after {\n",
       "  content: \"\";\n",
       "  width: 100%;\n",
       "  border-bottom: 2px solid var(--sklearn-color-text-on-default-background);\n",
       "  flex-grow: 1;\n",
       "}\n",
       "\n",
       "#sk-container-id-1 div.sk-parallel {\n",
       "  display: flex;\n",
       "  align-items: stretch;\n",
       "  justify-content: center;\n",
       "  background-color: var(--sklearn-color-background);\n",
       "  position: relative;\n",
       "}\n",
       "\n",
       "#sk-container-id-1 div.sk-parallel-item {\n",
       "  display: flex;\n",
       "  flex-direction: column;\n",
       "}\n",
       "\n",
       "#sk-container-id-1 div.sk-parallel-item:first-child::after {\n",
       "  align-self: flex-end;\n",
       "  width: 50%;\n",
       "}\n",
       "\n",
       "#sk-container-id-1 div.sk-parallel-item:last-child::after {\n",
       "  align-self: flex-start;\n",
       "  width: 50%;\n",
       "}\n",
       "\n",
       "#sk-container-id-1 div.sk-parallel-item:only-child::after {\n",
       "  width: 0;\n",
       "}\n",
       "\n",
       "/* Serial-specific style estimator block */\n",
       "\n",
       "#sk-container-id-1 div.sk-serial {\n",
       "  display: flex;\n",
       "  flex-direction: column;\n",
       "  align-items: center;\n",
       "  background-color: var(--sklearn-color-background);\n",
       "  padding-right: 1em;\n",
       "  padding-left: 1em;\n",
       "}\n",
       "\n",
       "\n",
       "/* Toggleable style: style used for estimator/Pipeline/ColumnTransformer box that is\n",
       "clickable and can be expanded/collapsed.\n",
       "- Pipeline and ColumnTransformer use this feature and define the default style\n",
       "- Estimators will overwrite some part of the style using the `sk-estimator` class\n",
       "*/\n",
       "\n",
       "/* Pipeline and ColumnTransformer style (default) */\n",
       "\n",
       "#sk-container-id-1 div.sk-toggleable {\n",
       "  /* Default theme specific background. It is overwritten whether we have a\n",
       "  specific estimator or a Pipeline/ColumnTransformer */\n",
       "  background-color: var(--sklearn-color-background);\n",
       "}\n",
       "\n",
       "/* Toggleable label */\n",
       "#sk-container-id-1 label.sk-toggleable__label {\n",
       "  cursor: pointer;\n",
       "  display: block;\n",
       "  width: 100%;\n",
       "  margin-bottom: 0;\n",
       "  padding: 0.5em;\n",
       "  box-sizing: border-box;\n",
       "  text-align: center;\n",
       "}\n",
       "\n",
       "#sk-container-id-1 label.sk-toggleable__label-arrow:before {\n",
       "  /* Arrow on the left of the label */\n",
       "  content: \"▸\";\n",
       "  float: left;\n",
       "  margin-right: 0.25em;\n",
       "  color: var(--sklearn-color-icon);\n",
       "}\n",
       "\n",
       "#sk-container-id-1 label.sk-toggleable__label-arrow:hover:before {\n",
       "  color: var(--sklearn-color-text);\n",
       "}\n",
       "\n",
       "/* Toggleable content - dropdown */\n",
       "\n",
       "#sk-container-id-1 div.sk-toggleable__content {\n",
       "  max-height: 0;\n",
       "  max-width: 0;\n",
       "  overflow: hidden;\n",
       "  text-align: left;\n",
       "  /* unfitted */\n",
       "  background-color: var(--sklearn-color-unfitted-level-0);\n",
       "}\n",
       "\n",
       "#sk-container-id-1 div.sk-toggleable__content.fitted {\n",
       "  /* fitted */\n",
       "  background-color: var(--sklearn-color-fitted-level-0);\n",
       "}\n",
       "\n",
       "#sk-container-id-1 div.sk-toggleable__content pre {\n",
       "  margin: 0.2em;\n",
       "  border-radius: 0.25em;\n",
       "  color: var(--sklearn-color-text);\n",
       "  /* unfitted */\n",
       "  background-color: var(--sklearn-color-unfitted-level-0);\n",
       "}\n",
       "\n",
       "#sk-container-id-1 div.sk-toggleable__content.fitted pre {\n",
       "  /* unfitted */\n",
       "  background-color: var(--sklearn-color-fitted-level-0);\n",
       "}\n",
       "\n",
       "#sk-container-id-1 input.sk-toggleable__control:checked~div.sk-toggleable__content {\n",
       "  /* Expand drop-down */\n",
       "  max-height: 200px;\n",
       "  max-width: 100%;\n",
       "  overflow: auto;\n",
       "}\n",
       "\n",
       "#sk-container-id-1 input.sk-toggleable__control:checked~label.sk-toggleable__label-arrow:before {\n",
       "  content: \"▾\";\n",
       "}\n",
       "\n",
       "/* Pipeline/ColumnTransformer-specific style */\n",
       "\n",
       "#sk-container-id-1 div.sk-label input.sk-toggleable__control:checked~label.sk-toggleable__label {\n",
       "  color: var(--sklearn-color-text);\n",
       "  background-color: var(--sklearn-color-unfitted-level-2);\n",
       "}\n",
       "\n",
       "#sk-container-id-1 div.sk-label.fitted input.sk-toggleable__control:checked~label.sk-toggleable__label {\n",
       "  background-color: var(--sklearn-color-fitted-level-2);\n",
       "}\n",
       "\n",
       "/* Estimator-specific style */\n",
       "\n",
       "/* Colorize estimator box */\n",
       "#sk-container-id-1 div.sk-estimator input.sk-toggleable__control:checked~label.sk-toggleable__label {\n",
       "  /* unfitted */\n",
       "  background-color: var(--sklearn-color-unfitted-level-2);\n",
       "}\n",
       "\n",
       "#sk-container-id-1 div.sk-estimator.fitted input.sk-toggleable__control:checked~label.sk-toggleable__label {\n",
       "  /* fitted */\n",
       "  background-color: var(--sklearn-color-fitted-level-2);\n",
       "}\n",
       "\n",
       "#sk-container-id-1 div.sk-label label.sk-toggleable__label,\n",
       "#sk-container-id-1 div.sk-label label {\n",
       "  /* The background is the default theme color */\n",
       "  color: var(--sklearn-color-text-on-default-background);\n",
       "}\n",
       "\n",
       "/* On hover, darken the color of the background */\n",
       "#sk-container-id-1 div.sk-label:hover label.sk-toggleable__label {\n",
       "  color: var(--sklearn-color-text);\n",
       "  background-color: var(--sklearn-color-unfitted-level-2);\n",
       "}\n",
       "\n",
       "/* Label box, darken color on hover, fitted */\n",
       "#sk-container-id-1 div.sk-label.fitted:hover label.sk-toggleable__label.fitted {\n",
       "  color: var(--sklearn-color-text);\n",
       "  background-color: var(--sklearn-color-fitted-level-2);\n",
       "}\n",
       "\n",
       "/* Estimator label */\n",
       "\n",
       "#sk-container-id-1 div.sk-label label {\n",
       "  font-family: monospace;\n",
       "  font-weight: bold;\n",
       "  display: inline-block;\n",
       "  line-height: 1.2em;\n",
       "}\n",
       "\n",
       "#sk-container-id-1 div.sk-label-container {\n",
       "  text-align: center;\n",
       "}\n",
       "\n",
       "/* Estimator-specific */\n",
       "#sk-container-id-1 div.sk-estimator {\n",
       "  font-family: monospace;\n",
       "  border: 1px dotted var(--sklearn-color-border-box);\n",
       "  border-radius: 0.25em;\n",
       "  box-sizing: border-box;\n",
       "  margin-bottom: 0.5em;\n",
       "  /* unfitted */\n",
       "  background-color: var(--sklearn-color-unfitted-level-0);\n",
       "}\n",
       "\n",
       "#sk-container-id-1 div.sk-estimator.fitted {\n",
       "  /* fitted */\n",
       "  background-color: var(--sklearn-color-fitted-level-0);\n",
       "}\n",
       "\n",
       "/* on hover */\n",
       "#sk-container-id-1 div.sk-estimator:hover {\n",
       "  /* unfitted */\n",
       "  background-color: var(--sklearn-color-unfitted-level-2);\n",
       "}\n",
       "\n",
       "#sk-container-id-1 div.sk-estimator.fitted:hover {\n",
       "  /* fitted */\n",
       "  background-color: var(--sklearn-color-fitted-level-2);\n",
       "}\n",
       "\n",
       "/* Specification for estimator info (e.g. \"i\" and \"?\") */\n",
       "\n",
       "/* Common style for \"i\" and \"?\" */\n",
       "\n",
       ".sk-estimator-doc-link,\n",
       "a:link.sk-estimator-doc-link,\n",
       "a:visited.sk-estimator-doc-link {\n",
       "  float: right;\n",
       "  font-size: smaller;\n",
       "  line-height: 1em;\n",
       "  font-family: monospace;\n",
       "  background-color: var(--sklearn-color-background);\n",
       "  border-radius: 1em;\n",
       "  height: 1em;\n",
       "  width: 1em;\n",
       "  text-decoration: none !important;\n",
       "  margin-left: 1ex;\n",
       "  /* unfitted */\n",
       "  border: var(--sklearn-color-unfitted-level-1) 1pt solid;\n",
       "  color: var(--sklearn-color-unfitted-level-1);\n",
       "}\n",
       "\n",
       ".sk-estimator-doc-link.fitted,\n",
       "a:link.sk-estimator-doc-link.fitted,\n",
       "a:visited.sk-estimator-doc-link.fitted {\n",
       "  /* fitted */\n",
       "  border: var(--sklearn-color-fitted-level-1) 1pt solid;\n",
       "  color: var(--sklearn-color-fitted-level-1);\n",
       "}\n",
       "\n",
       "/* On hover */\n",
       "div.sk-estimator:hover .sk-estimator-doc-link:hover,\n",
       ".sk-estimator-doc-link:hover,\n",
       "div.sk-label-container:hover .sk-estimator-doc-link:hover,\n",
       ".sk-estimator-doc-link:hover {\n",
       "  /* unfitted */\n",
       "  background-color: var(--sklearn-color-unfitted-level-3);\n",
       "  color: var(--sklearn-color-background);\n",
       "  text-decoration: none;\n",
       "}\n",
       "\n",
       "div.sk-estimator.fitted:hover .sk-estimator-doc-link.fitted:hover,\n",
       ".sk-estimator-doc-link.fitted:hover,\n",
       "div.sk-label-container:hover .sk-estimator-doc-link.fitted:hover,\n",
       ".sk-estimator-doc-link.fitted:hover {\n",
       "  /* fitted */\n",
       "  background-color: var(--sklearn-color-fitted-level-3);\n",
       "  color: var(--sklearn-color-background);\n",
       "  text-decoration: none;\n",
       "}\n",
       "\n",
       "/* Span, style for the box shown on hovering the info icon */\n",
       ".sk-estimator-doc-link span {\n",
       "  display: none;\n",
       "  z-index: 9999;\n",
       "  position: relative;\n",
       "  font-weight: normal;\n",
       "  right: .2ex;\n",
       "  padding: .5ex;\n",
       "  margin: .5ex;\n",
       "  width: min-content;\n",
       "  min-width: 20ex;\n",
       "  max-width: 50ex;\n",
       "  color: var(--sklearn-color-text);\n",
       "  box-shadow: 2pt 2pt 4pt #999;\n",
       "  /* unfitted */\n",
       "  background: var(--sklearn-color-unfitted-level-0);\n",
       "  border: .5pt solid var(--sklearn-color-unfitted-level-3);\n",
       "}\n",
       "\n",
       ".sk-estimator-doc-link.fitted span {\n",
       "  /* fitted */\n",
       "  background: var(--sklearn-color-fitted-level-0);\n",
       "  border: var(--sklearn-color-fitted-level-3);\n",
       "}\n",
       "\n",
       ".sk-estimator-doc-link:hover span {\n",
       "  display: block;\n",
       "}\n",
       "\n",
       "/* \"?\"-specific style due to the `<a>` HTML tag */\n",
       "\n",
       "#sk-container-id-1 a.estimator_doc_link {\n",
       "  float: right;\n",
       "  font-size: 1rem;\n",
       "  line-height: 1em;\n",
       "  font-family: monospace;\n",
       "  background-color: var(--sklearn-color-background);\n",
       "  border-radius: 1rem;\n",
       "  height: 1rem;\n",
       "  width: 1rem;\n",
       "  text-decoration: none;\n",
       "  /* unfitted */\n",
       "  color: var(--sklearn-color-unfitted-level-1);\n",
       "  border: var(--sklearn-color-unfitted-level-1) 1pt solid;\n",
       "}\n",
       "\n",
       "#sk-container-id-1 a.estimator_doc_link.fitted {\n",
       "  /* fitted */\n",
       "  border: var(--sklearn-color-fitted-level-1) 1pt solid;\n",
       "  color: var(--sklearn-color-fitted-level-1);\n",
       "}\n",
       "\n",
       "/* On hover */\n",
       "#sk-container-id-1 a.estimator_doc_link:hover {\n",
       "  /* unfitted */\n",
       "  background-color: var(--sklearn-color-unfitted-level-3);\n",
       "  color: var(--sklearn-color-background);\n",
       "  text-decoration: none;\n",
       "}\n",
       "\n",
       "#sk-container-id-1 a.estimator_doc_link.fitted:hover {\n",
       "  /* fitted */\n",
       "  background-color: var(--sklearn-color-fitted-level-3);\n",
       "}\n",
       "</style><div id=\"sk-container-id-1\" class=\"sk-top-container\"><div class=\"sk-text-repr-fallback\"><pre>RandomForestClassifier(class_weight={0: 1, 1: 1, 2: 1, 3: 6},\n",
       "                       min_samples_split=5, random_state=42)</pre><b>In a Jupyter environment, please rerun this cell to show the HTML representation or trust the notebook. <br />On GitHub, the HTML representation is unable to render, please try loading this page with nbviewer.org.</b></div><div class=\"sk-container\" hidden><div class=\"sk-item\"><div class=\"sk-estimator fitted sk-toggleable\"><input class=\"sk-toggleable__control sk-hidden--visually\" id=\"sk-estimator-id-1\" type=\"checkbox\" checked><label for=\"sk-estimator-id-1\" class=\"sk-toggleable__label fitted sk-toggleable__label-arrow fitted\">&nbsp;&nbsp;RandomForestClassifier<a class=\"sk-estimator-doc-link fitted\" rel=\"noreferrer\" target=\"_blank\" href=\"https://scikit-learn.org/1.5/modules/generated/sklearn.ensemble.RandomForestClassifier.html\">?<span>Documentation for RandomForestClassifier</span></a><span class=\"sk-estimator-doc-link fitted\">i<span>Fitted</span></span></label><div class=\"sk-toggleable__content fitted\"><pre>RandomForestClassifier(class_weight={0: 1, 1: 1, 2: 1, 3: 6},\n",
       "                       min_samples_split=5, random_state=42)</pre></div> </div></div></div></div>"
      ],
      "text/plain": [
       "RandomForestClassifier(class_weight={0: 1, 1: 1, 2: 1, 3: 6},\n",
       "                       min_samples_split=5, random_state=42)"
      ]
     },
     "execution_count": 60,
     "metadata": {},
     "output_type": "execute_result"
    }
   ],
   "source": [
    "class_weights= {0: 1, 1: 1, 2: 1, 3: 6} # pesos de las clases, para dar mas importancia a las clases minoritarias.\n",
    "rf_model = RandomForestClassifier(class_weight=class_weights,\n",
    "                                  random_state=42,\n",
    "                                  n_estimators=100,\n",
    "                                  min_samples_split=5)\n",
    "rf_model.fit(X_train_ros, y_train_ros)"
   ]
  },
  {
   "cell_type": "code",
   "execution_count": 61,
   "metadata": {},
   "outputs": [
    {
     "data": {
      "image/png": "[encoded data removed]",
      "text/plain": [
       "<Figure size 1000x600 with 1 Axes>"
      ]
     },
     "metadata": {},
     "output_type": "display_data"
    }
   ],
   "source": [
    "feature_importances = rf_model.feature_importances_\n",
    "\n",
    "importance_df = pd.DataFrame({\n",
    "    'Feature': X.columns,\n",
    "    'Importance': feature_importances\n",
    "}).sort_values(by='Importance', ascending=False)\n",
    "\n",
    "plt.figure(figsize=(10, 6))\n",
    "plt.barh(importance_df['Feature'], importance_df['Importance'], align='center', color=denexus_colors[2])\n",
    "plt.gca().invert_yaxis()\n",
    "plt.xlabel('Importance Score')\n",
    "plt.ylabel('Features')\n",
    "plt.title('Feature Importance - Random Forest')\n",
    "plt.tight_layout()\n",
    "# Guardar el gráfico en la carpeta 'plots'.\n",
    "output_dir = \"plots\"\n",
    "if os.path.exists(output_dir) and os.path.isdir(output_dir):\n",
    "    output_path = os.path.join(output_dir, \"feature-importance_random-forest.png\")\n",
    "    plt.savefig(output_path)\n",
    "plt.show()"
   ]
  },
  {
   "cell_type": "code",
   "execution_count": 62,
   "metadata": {},
   "outputs": [
    {
     "data": {
      "text/plain": [
       "array([0.92982456, 0.98245614, 0.98245614, 0.98245614, 0.94642857])"
      ]
     },
     "execution_count": 62,
     "metadata": {},
     "output_type": "execute_result"
    }
   ],
   "source": [
    "cv_scores = cross_val_score(rf_model, X_train_ros, y_train_ros, cv=5, scoring='accuracy')\n",
    "cv_scores"
   ]
  },
  {
   "cell_type": "code",
   "execution_count": 63,
   "metadata": {},
   "outputs": [
    {
     "name": "stdout",
     "output_type": "stream",
     "text": [
      "Train set score (Accuracy) = 0.9964788732394366\n",
      "Test set score (Accuracy) = 0.6956521739130435\n",
      "╒══════════════╤════════════════╤════════════════╤════════════════╤════════════════╕\n",
      "│              │   Pred Class 0 │   Pred Class 1 │   Pred Class 2 │   Pred Class 3 │\n",
      "╞══════════════╪════════════════╪════════════════╪════════════════╪════════════════╡\n",
      "│ Real Class 0 │              0 │              0 │              1 │              0 │\n",
      "├──────────────┼────────────────┼────────────────┼────────────────┼────────────────┤\n",
      "│ Real Class 1 │              0 │              1 │              1 │              0 │\n",
      "├──────────────┼────────────────┼────────────────┼────────────────┼────────────────┤\n",
      "│ Real Class 2 │              1 │              1 │             14 │              0 │\n",
      "├──────────────┼────────────────┼────────────────┼────────────────┼────────────────┤\n",
      "│ Real Class 3 │              0 │              0 │              3 │              1 │\n",
      "╘══════════════╧════════════════╧════════════════╧════════════════╧════════════════╛\n",
      "\n",
      "Classification Report:\n",
      "              precision    recall  f1-score   support\n",
      "\n",
      "           0       0.00      0.00      0.00         1\n",
      "           1       0.50      0.50      0.50         2\n",
      "           2       0.74      0.88      0.80        16\n",
      "           3       1.00      0.25      0.40         4\n",
      "\n",
      "    accuracy                           0.70        23\n",
      "   macro avg       0.56      0.41      0.43        23\n",
      "weighted avg       0.73      0.70      0.67        23\n",
      "\n"
     ]
    }
   ],
   "source": [
    "print(\"Train set score (Accuracy) =\", rf_model.score(X_train_ros, y_train_ros))\n",
    "print(\"Test set score (Accuracy) =\", rf_model.score(X_test, y_test))\n",
    "\n",
    "conf_mat = confusion_matrix(y_test, rf_model.predict(X_test))\n",
    "\n",
    "print(tabulate(conf_mat, \n",
    "               headers=[f'Pred Class {i}' for i in range(4)], \n",
    "               showindex=[f'Real Class {i}' for i in range(4)], \n",
    "               tablefmt='fancy_grid'))\n",
    "\n",
    "print(\"\\nClassification Report:\")\n",
    "print(classification_report(y_test, rf_model.predict(X_test)))"
   ]
  },
  {
   "cell_type": "code",
   "execution_count": 64,
   "metadata": {},
   "outputs": [
    {
     "data": {
      "image/png": "[encoded data removed]",
      "text/plain": [
       "<Figure size 800x600 with 2 Axes>"
      ]
     },
     "metadata": {},
     "output_type": "display_data"
    }
   ],
   "source": [
    "class_labels = [f'Class {i}' for i in range(conf_mat.shape[0])]\n",
    "\n",
    "plt.figure(figsize=(8, 6))\n",
    "sns.heatmap(conf_mat, annot=True, fmt='d', cmap=denexus_palette,\n",
    "            xticklabels=class_labels, yticklabels=class_labels, cbar=True)\n",
    "plt.title('Confusion Matrix - Random Forest Classification')\n",
    "plt.xlabel('Predicted Class')\n",
    "plt.ylabel('Actual Class')\n",
    "plt.tight_layout()\n",
    "# Guardar el gráfico en la carpeta 'plots'.\n",
    "output_dir = \"plots\"\n",
    "if os.path.exists(output_dir) and os.path.isdir(output_dir):\n",
    "    output_path = os.path.join(output_dir, \"confusion-matrix_random-forest.png\")\n",
    "    plt.savefig(output_path)\n",
    "plt.show()"
   ]
  },
  {
   "cell_type": "markdown",
   "metadata": {},
   "source": [
    "**Conclusiones.**\n",
    "\n",
    "En los resultados mostrados, el modelo muestra un alto rendimiento en el conjunto de **entrenamiento**. Sin embargo, en el conjunto de **prueba**, la precisión es más baja, lo que indica que el modelo no generaliza tan bien a datos no vistos. Esto es común cuando el modelo está muy ajustado al conjunto de entrenamiento, posiblemente debido a un sobreajuste.\n",
    "\n",
    "El reporte de clasificación muestra que, para algunas clases, el modelo tiene un buen rendimiento en términos de **precisión** y **recall**, especialmente para la clase con más representaciones. No obstante, para las clases minoritarias, el rendimiento es más bajo, reflejando que, aunque se aplicó **oversampling** y se asignaron **pesos** a las clases minoritarias, el modelo aún tiene dificultades para predecir correctamente estas clases menos representadas.\n",
    "\n",
    "La **precisión** general del modelo en el conjunto de prueba no es excelente debido al desbalance persistente, aunque el ajuste de pesos y el oversampling han ayudado a mejorar el rendimiento respecto a las clases más representadas. La **media ponderada** de las métricas es razonablemente alta, lo que indica que, en promedio, el modelo tiene un desempeño aceptable, aunque todavía podría mejorarse, especialmente en las clases minoritarias."
   ]
  },
  {
   "cell_type": "markdown",
   "metadata": {},
   "source": [
    "##### **Arbol de Decisión.**\n",
    "Un Árbol de Decisión es un modelo útil para tareas de clasificación y regresión en aprendizaje automático. Es un modelo de decisión jerárquica que toma decisiones en función de las características de los datos y las distribuye en ramas, con cada nodo representando una prueba de una característica."
   ]
  },
  {
   "cell_type": "code",
   "execution_count": 65,
   "metadata": {},
   "outputs": [
    {
     "data": {
      "text/html": [
       "<style>#sk-container-id-2 {\n",
       "  /* Definition of color scheme common for light and dark mode */\n",
       "  --sklearn-color-text: black;\n",
       "  --sklearn-color-line: gray;\n",
       "  /* Definition of color scheme for unfitted estimators */\n",
       "  --sklearn-color-unfitted-level-0: #fff5e6;\n",
       "  --sklearn-color-unfitted-level-1: #f6e4d2;\n",
       "  --sklearn-color-unfitted-level-2: #ffe0b3;\n",
       "  --sklearn-color-unfitted-level-3: chocolate;\n",
       "  /* Definition of color scheme for fitted estimators */\n",
       "  --sklearn-color-fitted-level-0: #f0f8ff;\n",
       "  --sklearn-color-fitted-level-1: #d4ebff;\n",
       "  --sklearn-color-fitted-level-2: #b3dbfd;\n",
       "  --sklearn-color-fitted-level-3: cornflowerblue;\n",
       "\n",
       "  /* Specific color for light theme */\n",
       "  --sklearn-color-text-on-default-background: var(--sg-text-color, var(--theme-code-foreground, var(--jp-content-font-color1, black)));\n",
       "  --sklearn-color-background: var(--sg-background-color, var(--theme-background, var(--jp-layout-color0, white)));\n",
       "  --sklearn-color-border-box: var(--sg-text-color, var(--theme-code-foreground, var(--jp-content-font-color1, black)));\n",
       "  --sklearn-color-icon: #696969;\n",
       "\n",
       "  @media (prefers-color-scheme: dark) {\n",
       "    /* Redefinition of color scheme for dark theme */\n",
       "    --sklearn-color-text-on-default-background: var(--sg-text-color, var(--theme-code-foreground, var(--jp-content-font-color1, white)));\n",
       "    --sklearn-color-background: var(--sg-background-color, var(--theme-background, var(--jp-layout-color0, #111)));\n",
       "    --sklearn-color-border-box: var(--sg-text-color, var(--theme-code-foreground, var(--jp-content-font-color1, white)));\n",
       "    --sklearn-color-icon: #878787;\n",
       "  }\n",
       "}\n",
       "\n",
       "#sk-container-id-2 {\n",
       "  color: var(--sklearn-color-text);\n",
       "}\n",
       "\n",
       "#sk-container-id-2 pre {\n",
       "  padding: 0;\n",
       "}\n",
       "\n",
       "#sk-container-id-2 input.sk-hidden--visually {\n",
       "  border: 0;\n",
       "  clip: rect(1px 1px 1px 1px);\n",
       "  clip: rect(1px, 1px, 1px, 1px);\n",
       "  height: 1px;\n",
       "  margin: -1px;\n",
       "  overflow: hidden;\n",
       "  padding: 0;\n",
       "  position: absolute;\n",
       "  width: 1px;\n",
       "}\n",
       "\n",
       "#sk-container-id-2 div.sk-dashed-wrapped {\n",
       "  border: 1px dashed var(--sklearn-color-line);\n",
       "  margin: 0 0.4em 0.5em 0.4em;\n",
       "  box-sizing: border-box;\n",
       "  padding-bottom: 0.4em;\n",
       "  background-color: var(--sklearn-color-background);\n",
       "}\n",
       "\n",
       "#sk-container-id-2 div.sk-container {\n",
       "  /* jupyter's `normalize.less` sets `[hidden] { display: none; }`\n",
       "     but bootstrap.min.css set `[hidden] { display: none !important; }`\n",
       "     so we also need the `!important` here to be able to override the\n",
       "     default hidden behavior on the sphinx rendered scikit-learn.org.\n",
       "     See: https://github.com/scikit-learn/scikit-learn/issues/21755 */\n",
       "  display: inline-block !important;\n",
       "  position: relative;\n",
       "}\n",
       "\n",
       "#sk-container-id-2 div.sk-text-repr-fallback {\n",
       "  display: none;\n",
       "}\n",
       "\n",
       "div.sk-parallel-item,\n",
       "div.sk-serial,\n",
       "div.sk-item {\n",
       "  /* draw centered vertical line to link estimators */\n",
       "  background-image: linear-gradient(var(--sklearn-color-text-on-default-background), var(--sklearn-color-text-on-default-background));\n",
       "  background-size: 2px 100%;\n",
       "  background-repeat: no-repeat;\n",
       "  background-position: center center;\n",
       "}\n",
       "\n",
       "/* Parallel-specific style estimator block */\n",
       "\n",
       "#sk-container-id-2 div.sk-parallel-item::after {\n",
       "  content: \"\";\n",
       "  width: 100%;\n",
       "  border-bottom: 2px solid var(--sklearn-color-text-on-default-background);\n",
       "  flex-grow: 1;\n",
       "}\n",
       "\n",
       "#sk-container-id-2 div.sk-parallel {\n",
       "  display: flex;\n",
       "  align-items: stretch;\n",
       "  justify-content: center;\n",
       "  background-color: var(--sklearn-color-background);\n",
       "  position: relative;\n",
       "}\n",
       "\n",
       "#sk-container-id-2 div.sk-parallel-item {\n",
       "  display: flex;\n",
       "  flex-direction: column;\n",
       "}\n",
       "\n",
       "#sk-container-id-2 div.sk-parallel-item:first-child::after {\n",
       "  align-self: flex-end;\n",
       "  width: 50%;\n",
       "}\n",
       "\n",
       "#sk-container-id-2 div.sk-parallel-item:last-child::after {\n",
       "  align-self: flex-start;\n",
       "  width: 50%;\n",
       "}\n",
       "\n",
       "#sk-container-id-2 div.sk-parallel-item:only-child::after {\n",
       "  width: 0;\n",
       "}\n",
       "\n",
       "/* Serial-specific style estimator block */\n",
       "\n",
       "#sk-container-id-2 div.sk-serial {\n",
       "  display: flex;\n",
       "  flex-direction: column;\n",
       "  align-items: center;\n",
       "  background-color: var(--sklearn-color-background);\n",
       "  padding-right: 1em;\n",
       "  padding-left: 1em;\n",
       "}\n",
       "\n",
       "\n",
       "/* Toggleable style: style used for estimator/Pipeline/ColumnTransformer box that is\n",
       "clickable and can be expanded/collapsed.\n",
       "- Pipeline and ColumnTransformer use this feature and define the default style\n",
       "- Estimators will overwrite some part of the style using the `sk-estimator` class\n",
       "*/\n",
       "\n",
       "/* Pipeline and ColumnTransformer style (default) */\n",
       "\n",
       "#sk-container-id-2 div.sk-toggleable {\n",
       "  /* Default theme specific background. It is overwritten whether we have a\n",
       "  specific estimator or a Pipeline/ColumnTransformer */\n",
       "  background-color: var(--sklearn-color-background);\n",
       "}\n",
       "\n",
       "/* Toggleable label */\n",
       "#sk-container-id-2 label.sk-toggleable__label {\n",
       "  cursor: pointer;\n",
       "  display: block;\n",
       "  width: 100%;\n",
       "  margin-bottom: 0;\n",
       "  padding: 0.5em;\n",
       "  box-sizing: border-box;\n",
       "  text-align: center;\n",
       "}\n",
       "\n",
       "#sk-container-id-2 label.sk-toggleable__label-arrow:before {\n",
       "  /* Arrow on the left of the label */\n",
       "  content: \"▸\";\n",
       "  float: left;\n",
       "  margin-right: 0.25em;\n",
       "  color: var(--sklearn-color-icon);\n",
       "}\n",
       "\n",
       "#sk-container-id-2 label.sk-toggleable__label-arrow:hover:before {\n",
       "  color: var(--sklearn-color-text);\n",
       "}\n",
       "\n",
       "/* Toggleable content - dropdown */\n",
       "\n",
       "#sk-container-id-2 div.sk-toggleable__content {\n",
       "  max-height: 0;\n",
       "  max-width: 0;\n",
       "  overflow: hidden;\n",
       "  text-align: left;\n",
       "  /* unfitted */\n",
       "  background-color: var(--sklearn-color-unfitted-level-0);\n",
       "}\n",
       "\n",
       "#sk-container-id-2 div.sk-toggleable__content.fitted {\n",
       "  /* fitted */\n",
       "  background-color: var(--sklearn-color-fitted-level-0);\n",
       "}\n",
       "\n",
       "#sk-container-id-2 div.sk-toggleable__content pre {\n",
       "  margin: 0.2em;\n",
       "  border-radius: 0.25em;\n",
       "  color: var(--sklearn-color-text);\n",
       "  /* unfitted */\n",
       "  background-color: var(--sklearn-color-unfitted-level-0);\n",
       "}\n",
       "\n",
       "#sk-container-id-2 div.sk-toggleable__content.fitted pre {\n",
       "  /* unfitted */\n",
       "  background-color: var(--sklearn-color-fitted-level-0);\n",
       "}\n",
       "\n",
       "#sk-container-id-2 input.sk-toggleable__control:checked~div.sk-toggleable__content {\n",
       "  /* Expand drop-down */\n",
       "  max-height: 200px;\n",
       "  max-width: 100%;\n",
       "  overflow: auto;\n",
       "}\n",
       "\n",
       "#sk-container-id-2 input.sk-toggleable__control:checked~label.sk-toggleable__label-arrow:before {\n",
       "  content: \"▾\";\n",
       "}\n",
       "\n",
       "/* Pipeline/ColumnTransformer-specific style */\n",
       "\n",
       "#sk-container-id-2 div.sk-label input.sk-toggleable__control:checked~label.sk-toggleable__label {\n",
       "  color: var(--sklearn-color-text);\n",
       "  background-color: var(--sklearn-color-unfitted-level-2);\n",
       "}\n",
       "\n",
       "#sk-container-id-2 div.sk-label.fitted input.sk-toggleable__control:checked~label.sk-toggleable__label {\n",
       "  background-color: var(--sklearn-color-fitted-level-2);\n",
       "}\n",
       "\n",
       "/* Estimator-specific style */\n",
       "\n",
       "/* Colorize estimator box */\n",
       "#sk-container-id-2 div.sk-estimator input.sk-toggleable__control:checked~label.sk-toggleable__label {\n",
       "  /* unfitted */\n",
       "  background-color: var(--sklearn-color-unfitted-level-2);\n",
       "}\n",
       "\n",
       "#sk-container-id-2 div.sk-estimator.fitted input.sk-toggleable__control:checked~label.sk-toggleable__label {\n",
       "  /* fitted */\n",
       "  background-color: var(--sklearn-color-fitted-level-2);\n",
       "}\n",
       "\n",
       "#sk-container-id-2 div.sk-label label.sk-toggleable__label,\n",
       "#sk-container-id-2 div.sk-label label {\n",
       "  /* The background is the default theme color */\n",
       "  color: var(--sklearn-color-text-on-default-background);\n",
       "}\n",
       "\n",
       "/* On hover, darken the color of the background */\n",
       "#sk-container-id-2 div.sk-label:hover label.sk-toggleable__label {\n",
       "  color: var(--sklearn-color-text);\n",
       "  background-color: var(--sklearn-color-unfitted-level-2);\n",
       "}\n",
       "\n",
       "/* Label box, darken color on hover, fitted */\n",
       "#sk-container-id-2 div.sk-label.fitted:hover label.sk-toggleable__label.fitted {\n",
       "  color: var(--sklearn-color-text);\n",
       "  background-color: var(--sklearn-color-fitted-level-2);\n",
       "}\n",
       "\n",
       "/* Estimator label */\n",
       "\n",
       "#sk-container-id-2 div.sk-label label {\n",
       "  font-family: monospace;\n",
       "  font-weight: bold;\n",
       "  display: inline-block;\n",
       "  line-height: 1.2em;\n",
       "}\n",
       "\n",
       "#sk-container-id-2 div.sk-label-container {\n",
       "  text-align: center;\n",
       "}\n",
       "\n",
       "/* Estimator-specific */\n",
       "#sk-container-id-2 div.sk-estimator {\n",
       "  font-family: monospace;\n",
       "  border: 1px dotted var(--sklearn-color-border-box);\n",
       "  border-radius: 0.25em;\n",
       "  box-sizing: border-box;\n",
       "  margin-bottom: 0.5em;\n",
       "  /* unfitted */\n",
       "  background-color: var(--sklearn-color-unfitted-level-0);\n",
       "}\n",
       "\n",
       "#sk-container-id-2 div.sk-estimator.fitted {\n",
       "  /* fitted */\n",
       "  background-color: var(--sklearn-color-fitted-level-0);\n",
       "}\n",
       "\n",
       "/* on hover */\n",
       "#sk-container-id-2 div.sk-estimator:hover {\n",
       "  /* unfitted */\n",
       "  background-color: var(--sklearn-color-unfitted-level-2);\n",
       "}\n",
       "\n",
       "#sk-container-id-2 div.sk-estimator.fitted:hover {\n",
       "  /* fitted */\n",
       "  background-color: var(--sklearn-color-fitted-level-2);\n",
       "}\n",
       "\n",
       "/* Specification for estimator info (e.g. \"i\" and \"?\") */\n",
       "\n",
       "/* Common style for \"i\" and \"?\" */\n",
       "\n",
       ".sk-estimator-doc-link,\n",
       "a:link.sk-estimator-doc-link,\n",
       "a:visited.sk-estimator-doc-link {\n",
       "  float: right;\n",
       "  font-size: smaller;\n",
       "  line-height: 1em;\n",
       "  font-family: monospace;\n",
       "  background-color: var(--sklearn-color-background);\n",
       "  border-radius: 1em;\n",
       "  height: 1em;\n",
       "  width: 1em;\n",
       "  text-decoration: none !important;\n",
       "  margin-left: 1ex;\n",
       "  /* unfitted */\n",
       "  border: var(--sklearn-color-unfitted-level-1) 1pt solid;\n",
       "  color: var(--sklearn-color-unfitted-level-1);\n",
       "}\n",
       "\n",
       ".sk-estimator-doc-link.fitted,\n",
       "a:link.sk-estimator-doc-link.fitted,\n",
       "a:visited.sk-estimator-doc-link.fitted {\n",
       "  /* fitted */\n",
       "  border: var(--sklearn-color-fitted-level-1) 1pt solid;\n",
       "  color: var(--sklearn-color-fitted-level-1);\n",
       "}\n",
       "\n",
       "/* On hover */\n",
       "div.sk-estimator:hover .sk-estimator-doc-link:hover,\n",
       ".sk-estimator-doc-link:hover,\n",
       "div.sk-label-container:hover .sk-estimator-doc-link:hover,\n",
       ".sk-estimator-doc-link:hover {\n",
       "  /* unfitted */\n",
       "  background-color: var(--sklearn-color-unfitted-level-3);\n",
       "  color: var(--sklearn-color-background);\n",
       "  text-decoration: none;\n",
       "}\n",
       "\n",
       "div.sk-estimator.fitted:hover .sk-estimator-doc-link.fitted:hover,\n",
       ".sk-estimator-doc-link.fitted:hover,\n",
       "div.sk-label-container:hover .sk-estimator-doc-link.fitted:hover,\n",
       ".sk-estimator-doc-link.fitted:hover {\n",
       "  /* fitted */\n",
       "  background-color: var(--sklearn-color-fitted-level-3);\n",
       "  color: var(--sklearn-color-background);\n",
       "  text-decoration: none;\n",
       "}\n",
       "\n",
       "/* Span, style for the box shown on hovering the info icon */\n",
       ".sk-estimator-doc-link span {\n",
       "  display: none;\n",
       "  z-index: 9999;\n",
       "  position: relative;\n",
       "  font-weight: normal;\n",
       "  right: .2ex;\n",
       "  padding: .5ex;\n",
       "  margin: .5ex;\n",
       "  width: min-content;\n",
       "  min-width: 20ex;\n",
       "  max-width: 50ex;\n",
       "  color: var(--sklearn-color-text);\n",
       "  box-shadow: 2pt 2pt 4pt #999;\n",
       "  /* unfitted */\n",
       "  background: var(--sklearn-color-unfitted-level-0);\n",
       "  border: .5pt solid var(--sklearn-color-unfitted-level-3);\n",
       "}\n",
       "\n",
       ".sk-estimator-doc-link.fitted span {\n",
       "  /* fitted */\n",
       "  background: var(--sklearn-color-fitted-level-0);\n",
       "  border: var(--sklearn-color-fitted-level-3);\n",
       "}\n",
       "\n",
       ".sk-estimator-doc-link:hover span {\n",
       "  display: block;\n",
       "}\n",
       "\n",
       "/* \"?\"-specific style due to the `<a>` HTML tag */\n",
       "\n",
       "#sk-container-id-2 a.estimator_doc_link {\n",
       "  float: right;\n",
       "  font-size: 1rem;\n",
       "  line-height: 1em;\n",
       "  font-family: monospace;\n",
       "  background-color: var(--sklearn-color-background);\n",
       "  border-radius: 1rem;\n",
       "  height: 1rem;\n",
       "  width: 1rem;\n",
       "  text-decoration: none;\n",
       "  /* unfitted */\n",
       "  color: var(--sklearn-color-unfitted-level-1);\n",
       "  border: var(--sklearn-color-unfitted-level-1) 1pt solid;\n",
       "}\n",
       "\n",
       "#sk-container-id-2 a.estimator_doc_link.fitted {\n",
       "  /* fitted */\n",
       "  border: var(--sklearn-color-fitted-level-1) 1pt solid;\n",
       "  color: var(--sklearn-color-fitted-level-1);\n",
       "}\n",
       "\n",
       "/* On hover */\n",
       "#sk-container-id-2 a.estimator_doc_link:hover {\n",
       "  /* unfitted */\n",
       "  background-color: var(--sklearn-color-unfitted-level-3);\n",
       "  color: var(--sklearn-color-background);\n",
       "  text-decoration: none;\n",
       "}\n",
       "\n",
       "#sk-container-id-2 a.estimator_doc_link.fitted:hover {\n",
       "  /* fitted */\n",
       "  background-color: var(--sklearn-color-fitted-level-3);\n",
       "}\n",
       "</style><div id=\"sk-container-id-2\" class=\"sk-top-container\"><div class=\"sk-text-repr-fallback\"><pre>DecisionTreeClassifier(random_state=42)</pre><b>In a Jupyter environment, please rerun this cell to show the HTML representation or trust the notebook. <br />On GitHub, the HTML representation is unable to render, please try loading this page with nbviewer.org.</b></div><div class=\"sk-container\" hidden><div class=\"sk-item\"><div class=\"sk-estimator fitted sk-toggleable\"><input class=\"sk-toggleable__control sk-hidden--visually\" id=\"sk-estimator-id-2\" type=\"checkbox\" checked><label for=\"sk-estimator-id-2\" class=\"sk-toggleable__label fitted sk-toggleable__label-arrow fitted\">&nbsp;&nbsp;DecisionTreeClassifier<a class=\"sk-estimator-doc-link fitted\" rel=\"noreferrer\" target=\"_blank\" href=\"https://scikit-learn.org/1.5/modules/generated/sklearn.tree.DecisionTreeClassifier.html\">?<span>Documentation for DecisionTreeClassifier</span></a><span class=\"sk-estimator-doc-link fitted\">i<span>Fitted</span></span></label><div class=\"sk-toggleable__content fitted\"><pre>DecisionTreeClassifier(random_state=42)</pre></div> </div></div></div></div>"
      ],
      "text/plain": [
       "DecisionTreeClassifier(random_state=42)"
      ]
     },
     "execution_count": 65,
     "metadata": {},
     "output_type": "execute_result"
    }
   ],
   "source": [
    "dt_model = DecisionTreeClassifier(random_state=42)\n",
    "dt_model.fit(X_train_ros, y_train_ros)"
   ]
  },
  {
   "cell_type": "code",
   "execution_count": 66,
   "metadata": {},
   "outputs": [
    {
     "data": {
      "image/png": "[encoded data removed]",
      "text/plain": [
       "<Figure size 1000x600 with 1 Axes>"
      ]
     },
     "metadata": {},
     "output_type": "display_data"
    }
   ],
   "source": [
    "feature_importances = dt_model.feature_importances_\n",
    "\n",
    "importance_df = pd.DataFrame({\n",
    "    'Feature': X.columns,\n",
    "    'Importance': feature_importances\n",
    "}).sort_values(by='Importance', ascending=False)\n",
    "\n",
    "plt.figure(figsize=(10, 6))\n",
    "plt.barh(importance_df['Feature'], importance_df['Importance'], align='center', color=denexus_colors[2])\n",
    "plt.gca().invert_yaxis()\n",
    "plt.xlabel('Importance Score')\n",
    "plt.ylabel('Features')\n",
    "plt.title('Feature Importance - Decision Tree')\n",
    "plt.tight_layout()\n",
    "# Guardar el gráfico en la carpeta 'plots'.\n",
    "output_dir = \"plots\"\n",
    "if os.path.exists(output_dir) and os.path.isdir(output_dir):\n",
    "    output_path = os.path.join(output_dir, \"feature-importance_decision-tree.png\")\n",
    "    plt.savefig(output_path)\n",
    "plt.show()"
   ]
  },
  {
   "cell_type": "code",
   "execution_count": 67,
   "metadata": {},
   "outputs": [
    {
     "data": {
      "text/plain": [
       "array([0.92982456, 0.98245614, 0.94736842, 0.96491228, 0.89285714])"
      ]
     },
     "execution_count": 67,
     "metadata": {},
     "output_type": "execute_result"
    }
   ],
   "source": [
    "cv_scores = cross_val_score(dt_model, X_train_ros, y_train_ros, cv=5, scoring='accuracy')\n",
    "cv_scores"
   ]
  },
  {
   "cell_type": "code",
   "execution_count": 68,
   "metadata": {},
   "outputs": [
    {
     "name": "stdout",
     "output_type": "stream",
     "text": [
      "Train set score (Accuracy) = 1.0\n",
      "Test set score (Accuracy) = 0.5217391304347826\n",
      "╒══════════════╤════════════════╤════════════════╤════════════════╤════════════════╕\n",
      "│              │   Pred Class 0 │   Pred Class 1 │   Pred Class 2 │   Pred Class 3 │\n",
      "╞══════════════╪════════════════╪════════════════╪════════════════╪════════════════╡\n",
      "│ Real Class 0 │              0 │              0 │              1 │              0 │\n",
      "├──────────────┼────────────────┼────────────────┼────────────────┼────────────────┤\n",
      "│ Real Class 1 │              0 │              1 │              1 │              0 │\n",
      "├──────────────┼────────────────┼────────────────┼────────────────┼────────────────┤\n",
      "│ Real Class 2 │              1 │              3 │             11 │              1 │\n",
      "├──────────────┼────────────────┼────────────────┼────────────────┼────────────────┤\n",
      "│ Real Class 3 │              0 │              0 │              4 │              0 │\n",
      "╘══════════════╧════════════════╧════════════════╧════════════════╧════════════════╛\n",
      "\n",
      "Classification Report:\n",
      "              precision    recall  f1-score   support\n",
      "\n",
      "           0       0.00      0.00      0.00         1\n",
      "           1       0.25      0.50      0.33         2\n",
      "           2       0.65      0.69      0.67        16\n",
      "           3       0.00      0.00      0.00         4\n",
      "\n",
      "    accuracy                           0.52        23\n",
      "   macro avg       0.22      0.30      0.25        23\n",
      "weighted avg       0.47      0.52      0.49        23\n",
      "\n"
     ]
    }
   ],
   "source": [
    "print(\"Train set score (Accuracy) =\", dt_model.score(X_train_ros, y_train_ros))\n",
    "print(\"Test set score (Accuracy) =\", dt_model.score(X_test, y_test))\n",
    "\n",
    "# Matriz de confusión\n",
    "conf_mat = confusion_matrix(y_test, dt_model.predict(X_test))\n",
    "\n",
    "# Imprimir la matriz de confusión con un formato bonito\n",
    "print(tabulate(conf_mat, \n",
    "               headers=[f'Pred Class {i}' for i in range(4)], \n",
    "               showindex=[f'Real Class {i}' for i in range(4)], \n",
    "               tablefmt='fancy_grid'))\n",
    "\n",
    "# Reporte de clasificación\n",
    "print(\"\\nClassification Report:\")\n",
    "print(classification_report(y_test, dt_model.predict(X_test)))"
   ]
  },
  {
   "cell_type": "code",
   "execution_count": 69,
   "metadata": {},
   "outputs": [
    {
     "data": {
      "image/png": "[encoded data removed]",
      "text/plain": [
       "<Figure size 800x600 with 2 Axes>"
      ]
     },
     "metadata": {},
     "output_type": "display_data"
    }
   ],
   "source": [
    "class_labels = [f'Class {i}' for i in range(conf_mat.shape[0])]\n",
    "\n",
    "plt.figure(figsize=(8, 6))\n",
    "sns.heatmap(conf_mat, annot=True, fmt='d', cmap=denexus_palette,\n",
    "            xticklabels=class_labels, yticklabels=class_labels, cbar=True)\n",
    "plt.title('Confusion Matrix - Decision Tree Classification')\n",
    "plt.xlabel('Predicted Class')\n",
    "plt.ylabel('Actual Class')\n",
    "plt.tight_layout()\n",
    "# Guardar el gráfico en la carpeta 'plots'.\n",
    "output_dir = \"plots\"\n",
    "if os.path.exists(output_dir) and os.path.isdir(output_dir):\n",
    "    output_path = os.path.join(output_dir, \"confusion-matrix_decision-tree.png\")\n",
    "    plt.savefig(output_path)\n",
    "plt.show()"
   ]
  },
  {
   "cell_type": "markdown",
   "metadata": {},
   "source": [
    "**Conclusiones.**\n",
    "\n",
    "En los resultados mostrados, el modelo de **Árbol de Decisión** presenta un excelente rendimiento en el conjunto de **entrenamiento**, logrando una precisión perfecta. Sin embargo, en el conjunto de **prueba**, la precisión es significativamente más baja, lo que sugiere que el modelo está **sobreajustado** a los datos de entrenamiento y no generaliza bien a datos no vistos.\n",
    "\n",
    "El reporte de clasificación indica que el modelo tiene un rendimiento aceptable para algunas clases, especialmente para aquellas con mayor representación en los datos. Sin embargo, para las clases minoritarias, el desempeño es considerablemente más bajo. Esto refleja que, a pesar de haber realizado **oversampling** y ajustar los **pesos de clase** para las clases menos representadas, el modelo sigue teniendo dificultades para predecir correctamente estas clases. Es un indicio de que el ajuste de pesos y el oversampling no han sido suficientes para mejorar la capacidad de predicción de las clases minoritarias.\n",
    "\n",
    "La **precisión** global del modelo en el conjunto de prueba no es ideal, lo que está relacionado con el desbalance de clases persistente. Aunque las técnicas de **oversampling** y ajuste de pesos han mejorado el rendimiento respecto a las clases más representadas, el modelo sigue enfrentando retos al predecir las clases minoritarias. La **media ponderada** de las métricas muestra un desempeño moderado, indicando que el modelo, en general, tiene un rendimiento aceptable, pero aún puede mejorarse, especialmente en la predicción de las clases menos frecuentes."
   ]
  },
  {
   "cell_type": "code",
   "execution_count": 70,
   "metadata": {},
   "outputs": [],
   "source": [
    "df.to_csv('./data/WATERFALL_cleaned.csv')"
   ]
  },
  {
   "cell_type": "markdown",
   "metadata": {},
   "source": [
    "#### Resultados."
   ]
  },
  {
   "cell_type": "code",
   "execution_count": 71,
   "metadata": {},
   "outputs": [],
   "source": [
    "rf_pred = rf_model.predict(X_test)\n",
    "dt_pred = dt_model.predict(X_test)"
   ]
  },
  {
   "cell_type": "code",
   "execution_count": 72,
   "metadata": {},
   "outputs": [],
   "source": [
    "rf_precision = precision_score(y_test, rf_pred, average='weighted')\n",
    "rf_recall = recall_score(y_test, rf_pred, average='weighted')"
   ]
  },
  {
   "cell_type": "code",
   "execution_count": 73,
   "metadata": {},
   "outputs": [],
   "source": [
    "dt_precision = precision_score(y_test, dt_pred, average='weighted')\n",
    "dt_recall = recall_score(y_test, dt_pred, average='weighted')"
   ]
  },
  {
   "cell_type": "code",
   "execution_count": 74,
   "metadata": {},
   "outputs": [],
   "source": [
    "results['Model'] = ['RandomForest', 'DecisionTree']\n",
    "results['Accuracy'] = [rf_precision, dt_precision]\n",
    "results['Recall'] = [rf_recall, dt_recall]"
   ]
  },
  {
   "cell_type": "code",
   "execution_count": 75,
   "metadata": {},
   "outputs": [
    {
     "data": {
      "text/html": [
       "<div>\n",
       "<style scoped>\n",
       "    .dataframe tbody tr th:only-of-type {\n",
       "        vertical-align: middle;\n",
       "    }\n",
       "\n",
       "    .dataframe tbody tr th {\n",
       "        vertical-align: top;\n",
       "    }\n",
       "\n",
       "    .dataframe thead th {\n",
       "        text-align: right;\n",
       "    }\n",
       "</style>\n",
       "<table border=\"1\" class=\"dataframe\">\n",
       "  <thead>\n",
       "    <tr style=\"text-align: right;\">\n",
       "      <th></th>\n",
       "      <th>Model</th>\n",
       "      <th>Tipo</th>\n",
       "      <th>Accuracy</th>\n",
       "      <th>Recall</th>\n",
       "    </tr>\n",
       "  </thead>\n",
       "  <tbody>\n",
       "    <tr>\n",
       "      <th>0</th>\n",
       "      <td>RandomForest</td>\n",
       "      <td>LabelEncoder</td>\n",
       "      <td>0.729977</td>\n",
       "      <td>0.695652</td>\n",
       "    </tr>\n",
       "    <tr>\n",
       "      <th>1</th>\n",
       "      <td>DecisionTree</td>\n",
       "      <td>LabelEncoder</td>\n",
       "      <td>0.471867</td>\n",
       "      <td>0.521739</td>\n",
       "    </tr>\n",
       "  </tbody>\n",
       "</table>\n",
       "</div>"
      ],
      "text/plain": [
       "          Model          Tipo  Accuracy    Recall\n",
       "0  RandomForest  LabelEncoder  0.729977  0.695652\n",
       "1  DecisionTree  LabelEncoder  0.471867  0.521739"
      ]
     },
     "execution_count": 75,
     "metadata": {},
     "output_type": "execute_result"
    }
   ],
   "source": [
    "results"
   ]
  },
  {
   "cell_type": "markdown",
   "metadata": {},
   "source": [
    "## Visualización de datos."
   ]
  },
  {
   "cell_type": "markdown",
   "metadata": {},
   "source": [
    "### Number of Incidents by Continent."
   ]
  },
  {
   "cell_type": "code",
   "execution_count": 76,
   "metadata": {},
   "outputs": [
    {
     "data": {
      "image/png": "[encoded data removed]",
      "text/plain": [
       "<Figure size 1000x600 with 1 Axes>"
      ]
     },
     "metadata": {},
     "output_type": "display_data"
    }
   ],
   "source": [
    "continent_counts = df[['Africa', 'Asia', 'Europe', 'North America', 'South America', 'Australia']].sum()\n",
    "\n",
    "plt.figure(figsize=(10, 6))\n",
    "sns.barplot(x=continent_counts.index, y=continent_counts.values, palette=denexus_colors)\n",
    "plt.title('Number of Incidents by Continent')\n",
    "plt.xlabel('Continent')\n",
    "plt.ylabel('Number of Incidents')\n",
    "plt.xticks(rotation=45)\n",
    "plt.tight_layout()\n",
    "# Guardar el gráfico en la carpeta 'plots'.\n",
    "output_dir = \"plots\"\n",
    "if os.path.exists(output_dir) and os.path.isdir(output_dir):\n",
    "    output_path = os.path.join(output_dir, \"number-incidents-continent.png\")\n",
    "    plt.savefig(output_path)\n",
    "plt.show()"
   ]
  },
  {
   "cell_type": "markdown",
   "metadata": {},
   "source": [
    "### Comparison of Incidents by Industry Over Years."
   ]
  },
  {
   "cell_type": "code",
   "execution_count": 238,
   "metadata": {},
   "outputs": [
    {
     "data": {
      "image/png": "[encoded data removed]",
      "text/plain": [
       "<Figure size 1200x800 with 1 Axes>"
      ]
     },
     "metadata": {},
     "output_type": "display_data"
    }
   ],
   "source": [
    "incidents_by_year_and_industry = df.groupby('year')[df.filter(like='industry_').columns].sum()\n",
    "\n",
    "plt.figure(figsize=(12, 8))\n",
    "for idx, column in enumerate(incidents_by_year_and_industry.columns):\n",
    "    sns.lineplot(\n",
    "        data=incidents_by_year_and_industry,\n",
    "        x=incidents_by_year_and_industry.index,\n",
    "        y=incidents_by_year_and_industry[column],\n",
    "        marker='o',\n",
    "        label=column,\n",
    "        color=denexus_colors[idx % len(denexus_colors)]\n",
    "    )\n",
    "\n",
    "plt.title('Comparison of Incidents by Industry Over Years')\n",
    "plt.xlabel('Year')\n",
    "plt.ylabel('Number of Incidents')\n",
    "plt.legend(title='Industry', bbox_to_anchor=(1.05, 1), loc='upper left')\n",
    "plt.grid(True)\n",
    "plt.tight_layout()\n",
    "# Guardar el gráfico en la carpeta 'plots'.\n",
    "output_dir = \"plots\"\n",
    "if os.path.exists(output_dir) and os.path.isdir(output_dir):\n",
    "    output_path = os.path.join(output_dir, \"comparasion-incidents-industry.png\")\n",
    "    plt.savefig(output_path)\n",
    "plt.show()"
   ]
  }
 ],
 "metadata": {
  "kernelspec": {
   "display_name": "base",
   "language": "python",
   "name": "python3"
  },
  "language_info": {
   "codemirror_mode": {
    "name": "ipython",
    "version": 3
   },
   "file_extension": ".py",
   "mimetype": "text/x-python",
   "name": "python",
   "nbconvert_exporter": "python",
   "pygments_lexer": "ipython3",
   "version": "3.9.13"
  }
 },
 "nbformat": 4,
 "nbformat_minor": 2
}
