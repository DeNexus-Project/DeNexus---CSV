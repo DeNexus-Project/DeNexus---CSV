{
 "cells": [
  {
   "cell_type": "markdown",
   "metadata": {},
   "source": [
    "# TISAFE.\n",
    "Este CSV contiene datos sobre ciberataques, incluyendo información como la fecha, el país de origen, el tipo de ataque, la industria afectada y una puntuación de riesgo. Estos datos se utilizan para analizar tendencias y patrones en incidentes de ciberseguridad a nivel global\n"
   ]
  },
  {
   "cell_type": "markdown",
   "metadata": {},
   "source": [
    "## Importación de librerias."
   ]
  },
  {
   "cell_type": "code",
   "execution_count": 1,
   "metadata": {},
   "outputs": [],
   "source": [
    "import pandas as pd\n",
    "import matplotlib.pyplot as plt\n",
    "import seaborn as sns\n",
    "from sklearn.preprocessing import LabelEncoder\n",
    "import numpy as np\n",
    "import re\n",
    "from tabulate import tabulate\n",
    "from sklearn.cluster import KMeans\n",
    "import os\n",
    "from urllib.parse import urlparse\n",
    "from sklearn.metrics import silhouette_score, silhouette_samples\n",
    "from sklearn.model_selection import train_test_split\n",
    "from imblearn.over_sampling import RandomOverSampler\n",
    "from sklearn.ensemble import RandomForestClassifier\n",
    "from sklearn.model_selection import train_test_split, cross_val_score\n",
    "from sklearn.tree import DecisionTreeClassifier\n",
    "from sklearn.linear_model import LogisticRegression\n",
    "from sklearn.metrics import (\n",
    "    confusion_matrix,\n",
    "    classification_report,\n",
    "    roc_curve,\n",
    "    auc,\n",
    "    precision_score,\n",
    "    recall_score,\n",
    ")\n",
    "# === Configuración de colores ===\n",
    "denexus_colors = ['#1B2D40', '#577596', '#C7262B', '#F85C37', '#FF8250', '#4A4A4A']\n",
    "denexus_palette = sns.light_palette(\"#1B2D40\", n_colors=100, as_cmap=True)\n",
    "# Ajustar configuraciones de Pandas\n",
    "pd.set_option('display.max_columns', None)\n",
    "pd.set_option('display.width', 1000)"
   ]
  },
  {
   "cell_type": "markdown",
   "metadata": {},
   "source": [
    "## Importación e información del dataframe"
   ]
  },
  {
   "cell_type": "code",
   "execution_count": 2,
   "metadata": {},
   "outputs": [
    {
     "data": {
      "text/html": [
       "<div>\n",
       "<style scoped>\n",
       "    .dataframe tbody tr th:only-of-type {\n",
       "        vertical-align: middle;\n",
       "    }\n",
       "\n",
       "    .dataframe tbody tr th {\n",
       "        vertical-align: top;\n",
       "    }\n",
       "\n",
       "    .dataframe thead th {\n",
       "        text-align: right;\n",
       "    }\n",
       "</style>\n",
       "<table border=\"1\" class=\"dataframe\">\n",
       "  <thead>\n",
       "    <tr style=\"text-align: right;\">\n",
       "      <th></th>\n",
       "      <th>date</th>\n",
       "      <th>year</th>\n",
       "      <th>source_database</th>\n",
       "      <th>origin</th>\n",
       "      <th>attack_vector</th>\n",
       "      <th>attack_description</th>\n",
       "      <th>country</th>\n",
       "      <th>industry_type</th>\n",
       "      <th>subcategory</th>\n",
       "      <th>attack_details</th>\n",
       "      <th>ti_safe_score</th>\n",
       "      <th>impact</th>\n",
       "      <th>link_at_the_internet</th>\n",
       "    </tr>\n",
       "    <tr>\n",
       "      <th>id</th>\n",
       "      <th></th>\n",
       "      <th></th>\n",
       "      <th></th>\n",
       "      <th></th>\n",
       "      <th></th>\n",
       "      <th></th>\n",
       "      <th></th>\n",
       "      <th></th>\n",
       "      <th></th>\n",
       "      <th></th>\n",
       "      <th></th>\n",
       "      <th></th>\n",
       "      <th></th>\n",
       "    </tr>\n",
       "  </thead>\n",
       "  <tbody>\n",
       "    <tr>\n",
       "      <th>1338</th>\n",
       "      <td>15/08/2025</td>\n",
       "      <td>2024</td>\n",
       "      <td>TI Safe</td>\n",
       "      <td>External</td>\n",
       "      <td>Ransomware attack</td>\n",
       "      <td>A massive cyberattack disrupted Iran's Central...</td>\n",
       "      <td>Iran</td>\n",
       "      <td>Financial</td>\n",
       "      <td>Banking and Finance</td>\n",
       "      <td>The Central Bank of Iran suffered a major cybe...</td>\n",
       "      <td>4.0</td>\n",
       "      <td>Severe disruptions in Iran's banking system, w...</td>\n",
       "      <td>&lt;a href='https://www.israelhayom.com/2024/08/1...</td>\n",
       "    </tr>\n",
       "    <tr>\n",
       "      <th>1337</th>\n",
       "      <td>15/08/2024</td>\n",
       "      <td>2024</td>\n",
       "      <td>TI Safe</td>\n",
       "      <td>External</td>\n",
       "      <td>Phishing attack</td>\n",
       "      <td>A previously unknown threat actor, dubbed Acto...</td>\n",
       "      <td>Azerbaijan and Israel</td>\n",
       "      <td>Public Services</td>\n",
       "      <td>Gpver,emt</td>\n",
       "      <td>In July 2024, a newly identified threat actor,...</td>\n",
       "      <td>4.0</td>\n",
       "      <td>Compromise of sensitive diplomatic data throug...</td>\n",
       "      <td>&lt;a href='https://thehackernews.com/2024/08/new...</td>\n",
       "    </tr>\n",
       "    <tr>\n",
       "      <th>1336</th>\n",
       "      <td>15/08/2024</td>\n",
       "      <td>2024</td>\n",
       "      <td>TI Safe</td>\n",
       "      <td>External</td>\n",
       "      <td>Cyberattack</td>\n",
       "      <td>The Iranian state-backed group APT42 launched ...</td>\n",
       "      <td>United States (and Israel)</td>\n",
       "      <td>Public Services</td>\n",
       "      <td>Government and Elections</td>\n",
       "      <td>Between February and late July 2024, APT42, a ...</td>\n",
       "      <td>4.0</td>\n",
       "      <td>Successful breaches of accounts across multipl...</td>\n",
       "      <td>&lt;a href='https://cybersecuritynews.com/iranian...</td>\n",
       "    </tr>\n",
       "    <tr>\n",
       "      <th>1335</th>\n",
       "      <td>14/08/2024</td>\n",
       "      <td>2024</td>\n",
       "      <td>TI Safe</td>\n",
       "      <td>External</td>\n",
       "      <td>Ransomware attack</td>\n",
       "      <td>The ThreeAM ransomware targeted Kootenai Healt...</td>\n",
       "      <td>United States</td>\n",
       "      <td>Health and Homecare services</td>\n",
       "      <td>Healthcare</td>\n",
       "      <td>The ThreeAM ransomware attack, which began on ...</td>\n",
       "      <td>4.0</td>\n",
       "      <td>Personal and medical data of 464,000 patients ...</td>\n",
       "      <td>&lt;a href='https://securityaffairs.com/167020/da...</td>\n",
       "    </tr>\n",
       "    <tr>\n",
       "      <th>1334</th>\n",
       "      <td>14/08/2024</td>\n",
       "      <td>2024</td>\n",
       "      <td>TI Safe</td>\n",
       "      <td>External</td>\n",
       "      <td>Phishing attack</td>\n",
       "      <td>The Brain Cipher ransomware group crippled Ind...</td>\n",
       "      <td>Indonesia</td>\n",
       "      <td>Government</td>\n",
       "      <td>Public Administration</td>\n",
       "      <td>Brain Cipher ransomware group targeted Indones...</td>\n",
       "      <td>4.0</td>\n",
       "      <td>Severe disruptions to government services and ...</td>\n",
       "      <td>&lt;a href='https://www.darkreading.com/threat-in...</td>\n",
       "    </tr>\n",
       "  </tbody>\n",
       "</table>\n",
       "</div>"
      ],
      "text/plain": [
       "            date  year source_database    origin       attack_vector                                 attack_description                     country                 industry_type               subcategory                                     attack_details  ti_safe_score                                             impact                               link_at_the_internet\n",
       "id                                                                                                                                                                                                                                                                                                                                                                                 \n",
       "1338  15/08/2025  2024         TI Safe  External  Ransomware attack   A massive cyberattack disrupted Iran's Central...                        Iran                     Financial       Banking and Finance  The Central Bank of Iran suffered a major cybe...            4.0  Severe disruptions in Iran's banking system, w...  <a href='https://www.israelhayom.com/2024/08/1...\n",
       "1337  15/08/2024  2024         TI Safe  External     Phishing attack  A previously unknown threat actor, dubbed Acto...       Azerbaijan and Israel              Public Services                  Gpver,emt  In July 2024, a newly identified threat actor,...            4.0  Compromise of sensitive diplomatic data throug...  <a href='https://thehackernews.com/2024/08/new...\n",
       "1336  15/08/2024  2024         TI Safe  External         Cyberattack  The Iranian state-backed group APT42 launched ...  United States (and Israel)              Public Services   Government and Elections  Between February and late July 2024, APT42, a ...            4.0  Successful breaches of accounts across multipl...  <a href='https://cybersecuritynews.com/iranian...\n",
       "1335  14/08/2024  2024         TI Safe  External  Ransomware attack   The ThreeAM ransomware targeted Kootenai Healt...               United States  Health and Homecare services                Healthcare  The ThreeAM ransomware attack, which began on ...            4.0  Personal and medical data of 464,000 patients ...  <a href='https://securityaffairs.com/167020/da...\n",
       "1334  14/08/2024  2024         TI Safe  External     Phishing attack  The Brain Cipher ransomware group crippled Ind...                   Indonesia                    Government     Public Administration  Brain Cipher ransomware group targeted Indones...            4.0  Severe disruptions to government services and ...  <a href='https://www.darkreading.com/threat-in..."
      ]
     },
     "execution_count": 2,
     "metadata": {},
     "output_type": "execute_result"
    }
   ],
   "source": [
    "df = pd.read_csv('data/TISAFE.csv', index_col=0) #tomamos la primera columna como índice\n",
    "df.head()"
   ]
  },
  {
   "cell_type": "code",
   "execution_count": 3,
   "metadata": {},
   "outputs": [
    {
     "data": {
      "text/plain": [
       "(1338, 13)"
      ]
     },
     "execution_count": 3,
     "metadata": {},
     "output_type": "execute_result"
    }
   ],
   "source": [
    "df.shape"
   ]
  },
  {
   "cell_type": "code",
   "execution_count": 4,
   "metadata": {},
   "outputs": [
    {
     "data": {
      "text/plain": [
       "date                     object\n",
       "year                      int64\n",
       "source_database          object\n",
       "origin                   object\n",
       "attack_vector            object\n",
       "attack_description       object\n",
       "country                  object\n",
       "industry_type            object\n",
       "subcategory              object\n",
       "attack_details           object\n",
       "ti_safe_score           float64\n",
       "impact                   object\n",
       "link_at_the_internet     object\n",
       "dtype: object"
      ]
     },
     "execution_count": 4,
     "metadata": {},
     "output_type": "execute_result"
    }
   ],
   "source": [
    "df.dtypes"
   ]
  },
  {
   "cell_type": "code",
   "execution_count": 5,
   "metadata": {},
   "outputs": [
    {
     "data": {
      "text/plain": [
       "Index(['date', 'year', 'source_database', 'origin', 'attack_vector', 'attack_description', 'country', 'industry_type', 'subcategory', 'attack_details', 'ti_safe_score', 'impact', 'link_at_the_internet'], dtype='object')"
      ]
     },
     "execution_count": 5,
     "metadata": {},
     "output_type": "execute_result"
    }
   ],
   "source": [
    "df.columns"
   ]
  },
  {
   "cell_type": "markdown",
   "metadata": {},
   "source": [
    "A continuación, se resume cada columna.\n",
    "\n",
    "1. **Date**: Fecha exacta en que ocurrió el ciberataque o se registró el incidente.\n",
    "\n",
    "2. **Year**: Año en que tuvo lugar el ataque, útil para analizar tendencias a lo largo del tiempo.\n",
    "\n",
    "3. **Source Database**:Fuente o base de datos de la que proviene la información sobre el ciberataque.\n",
    "\n",
    "4. **Origin**: Origen del ataque, como el país, la región o el actor responsable.\n",
    "\n",
    "5. **Attack Vector**: Método o vector utilizado para realizar el ataque, como phishing o exploits.\n",
    "\n",
    "6. **Attack Description**: Descripción resumida del ataque, explicando cómo fue llevado a cabo.\n",
    "\n",
    "7. **Country**: País o región donde se encontraba el objetivo o donde ocurrió el ataque.\n",
    "\n",
    "8. **Industry Type**: Tipo de industria o sector afectado, como tecnología, finanzas, gobierno, etc.\n",
    "\n",
    "9. **Subcategory**: Subdivisión que detalla más el tipo de ataque o la industria afectada.\n",
    "\n",
    "10. **Attack Details**: Información adicional y técnica sobre cómo se desarrolló el ataque.\n",
    "\n",
    "11. **TI Safe Score**: Puntaje que refleja el nivel de seguridad o protección del objetivo antes del ataque.\n",
    "\n",
    "12. **Impact**: Consecuencias del ataque, como pérdidas económicas o robo de información.\n",
    "\n",
    "13. **Link at the Internet**: Enlace a fuentes externas con más detalles sobre el ataque, como reportes o artículos.\n"
   ]
  },
  {
   "cell_type": "code",
   "execution_count": 6,
   "metadata": {},
   "outputs": [
    {
     "data": {
      "text/html": [
       "<div>\n",
       "<style scoped>\n",
       "    .dataframe tbody tr th:only-of-type {\n",
       "        vertical-align: middle;\n",
       "    }\n",
       "\n",
       "    .dataframe tbody tr th {\n",
       "        vertical-align: top;\n",
       "    }\n",
       "\n",
       "    .dataframe thead th {\n",
       "        text-align: right;\n",
       "    }\n",
       "</style>\n",
       "<table border=\"1\" class=\"dataframe\">\n",
       "  <thead>\n",
       "    <tr style=\"text-align: right;\">\n",
       "      <th></th>\n",
       "      <th>date</th>\n",
       "      <th>year</th>\n",
       "      <th>source_database</th>\n",
       "      <th>origin</th>\n",
       "      <th>attack_vector</th>\n",
       "      <th>attack_description</th>\n",
       "      <th>country</th>\n",
       "      <th>industry_type</th>\n",
       "      <th>subcategory</th>\n",
       "      <th>attack_details</th>\n",
       "      <th>ti_safe_score</th>\n",
       "      <th>impact</th>\n",
       "      <th>link_at_the_internet</th>\n",
       "    </tr>\n",
       "  </thead>\n",
       "  <tbody>\n",
       "    <tr>\n",
       "      <th>count</th>\n",
       "      <td>1338</td>\n",
       "      <td>1338.000000</td>\n",
       "      <td>1338</td>\n",
       "      <td>209</td>\n",
       "      <td>196</td>\n",
       "      <td>1338</td>\n",
       "      <td>1338</td>\n",
       "      <td>1337</td>\n",
       "      <td>1338</td>\n",
       "      <td>1305</td>\n",
       "      <td>669.000000</td>\n",
       "      <td>760</td>\n",
       "      <td>1123</td>\n",
       "    </tr>\n",
       "    <tr>\n",
       "      <th>unique</th>\n",
       "      <td>965</td>\n",
       "      <td>NaN</td>\n",
       "      <td>5</td>\n",
       "      <td>5</td>\n",
       "      <td>32</td>\n",
       "      <td>1320</td>\n",
       "      <td>113</td>\n",
       "      <td>58</td>\n",
       "      <td>117</td>\n",
       "      <td>762</td>\n",
       "      <td>NaN</td>\n",
       "      <td>708</td>\n",
       "      <td>1051</td>\n",
       "    </tr>\n",
       "    <tr>\n",
       "      <th>top</th>\n",
       "      <td>12/05/2017</td>\n",
       "      <td>NaN</td>\n",
       "      <td>CIRWA</td>\n",
       "      <td>External</td>\n",
       "      <td>Malware infection</td>\n",
       "      <td>Hacker attack on Dolomiti Energia</td>\n",
       "      <td>United States</td>\n",
       "      <td>Government facilities sector</td>\n",
       "      <td>Government Facilities</td>\n",
       "      <td>Ransomware Attack - Blocking or encrypting mac...</td>\n",
       "      <td>NaN</td>\n",
       "      <td>Data leakage</td>\n",
       "      <td>&lt;a href='http://www.ibtimes.co.uk/wannacry-lis...</td>\n",
       "    </tr>\n",
       "    <tr>\n",
       "      <th>freq</th>\n",
       "      <td>26</td>\n",
       "      <td>NaN</td>\n",
       "      <td>578</td>\n",
       "      <td>172</td>\n",
       "      <td>29</td>\n",
       "      <td>2</td>\n",
       "      <td>679</td>\n",
       "      <td>280</td>\n",
       "      <td>276</td>\n",
       "      <td>543</td>\n",
       "      <td>NaN</td>\n",
       "      <td>11</td>\n",
       "      <td>19</td>\n",
       "    </tr>\n",
       "    <tr>\n",
       "      <th>mean</th>\n",
       "      <td>NaN</td>\n",
       "      <td>2017.676383</td>\n",
       "      <td>NaN</td>\n",
       "      <td>NaN</td>\n",
       "      <td>NaN</td>\n",
       "      <td>NaN</td>\n",
       "      <td>NaN</td>\n",
       "      <td>NaN</td>\n",
       "      <td>NaN</td>\n",
       "      <td>NaN</td>\n",
       "      <td>3.515695</td>\n",
       "      <td>NaN</td>\n",
       "      <td>NaN</td>\n",
       "    </tr>\n",
       "    <tr>\n",
       "      <th>std</th>\n",
       "      <td>NaN</td>\n",
       "      <td>6.294141</td>\n",
       "      <td>NaN</td>\n",
       "      <td>NaN</td>\n",
       "      <td>NaN</td>\n",
       "      <td>NaN</td>\n",
       "      <td>NaN</td>\n",
       "      <td>NaN</td>\n",
       "      <td>NaN</td>\n",
       "      <td>NaN</td>\n",
       "      <td>0.967345</td>\n",
       "      <td>NaN</td>\n",
       "      <td>NaN</td>\n",
       "    </tr>\n",
       "    <tr>\n",
       "      <th>min</th>\n",
       "      <td>NaN</td>\n",
       "      <td>1982.000000</td>\n",
       "      <td>NaN</td>\n",
       "      <td>NaN</td>\n",
       "      <td>NaN</td>\n",
       "      <td>NaN</td>\n",
       "      <td>NaN</td>\n",
       "      <td>NaN</td>\n",
       "      <td>NaN</td>\n",
       "      <td>NaN</td>\n",
       "      <td>0.000000</td>\n",
       "      <td>NaN</td>\n",
       "      <td>NaN</td>\n",
       "    </tr>\n",
       "    <tr>\n",
       "      <th>25%</th>\n",
       "      <td>NaN</td>\n",
       "      <td>2017.000000</td>\n",
       "      <td>NaN</td>\n",
       "      <td>NaN</td>\n",
       "      <td>NaN</td>\n",
       "      <td>NaN</td>\n",
       "      <td>NaN</td>\n",
       "      <td>NaN</td>\n",
       "      <td>NaN</td>\n",
       "      <td>NaN</td>\n",
       "      <td>3.000000</td>\n",
       "      <td>NaN</td>\n",
       "      <td>NaN</td>\n",
       "    </tr>\n",
       "    <tr>\n",
       "      <th>50%</th>\n",
       "      <td>NaN</td>\n",
       "      <td>2020.000000</td>\n",
       "      <td>NaN</td>\n",
       "      <td>NaN</td>\n",
       "      <td>NaN</td>\n",
       "      <td>NaN</td>\n",
       "      <td>NaN</td>\n",
       "      <td>NaN</td>\n",
       "      <td>NaN</td>\n",
       "      <td>NaN</td>\n",
       "      <td>4.000000</td>\n",
       "      <td>NaN</td>\n",
       "      <td>NaN</td>\n",
       "    </tr>\n",
       "    <tr>\n",
       "      <th>75%</th>\n",
       "      <td>NaN</td>\n",
       "      <td>2021.000000</td>\n",
       "      <td>NaN</td>\n",
       "      <td>NaN</td>\n",
       "      <td>NaN</td>\n",
       "      <td>NaN</td>\n",
       "      <td>NaN</td>\n",
       "      <td>NaN</td>\n",
       "      <td>NaN</td>\n",
       "      <td>NaN</td>\n",
       "      <td>4.000000</td>\n",
       "      <td>NaN</td>\n",
       "      <td>NaN</td>\n",
       "    </tr>\n",
       "    <tr>\n",
       "      <th>max</th>\n",
       "      <td>NaN</td>\n",
       "      <td>2024.000000</td>\n",
       "      <td>NaN</td>\n",
       "      <td>NaN</td>\n",
       "      <td>NaN</td>\n",
       "      <td>NaN</td>\n",
       "      <td>NaN</td>\n",
       "      <td>NaN</td>\n",
       "      <td>NaN</td>\n",
       "      <td>NaN</td>\n",
       "      <td>5.000000</td>\n",
       "      <td>NaN</td>\n",
       "      <td>NaN</td>\n",
       "    </tr>\n",
       "  </tbody>\n",
       "</table>\n",
       "</div>"
      ],
      "text/plain": [
       "              date         year source_database    origin      attack_vector                 attack_description        country                  industry_type            subcategory                                     attack_details  ti_safe_score        impact                               link_at_the_internet\n",
       "count         1338  1338.000000            1338       209                196                               1338           1338                           1337                   1338                                               1305     669.000000           760                                               1123\n",
       "unique         965          NaN               5         5                 32                               1320            113                             58                    117                                                762            NaN           708                                               1051\n",
       "top     12/05/2017          NaN           CIRWA  External  Malware infection  Hacker attack on Dolomiti Energia  United States  Government facilities sector   Government Facilities  Ransomware Attack - Blocking or encrypting mac...            NaN  Data leakage  <a href='http://www.ibtimes.co.uk/wannacry-lis...\n",
       "freq            26          NaN             578       172                 29                                  2            679                            280                    276                                                543            NaN            11                                                 19\n",
       "mean           NaN  2017.676383             NaN       NaN                NaN                                NaN            NaN                            NaN                    NaN                                                NaN       3.515695           NaN                                                NaN\n",
       "std            NaN     6.294141             NaN       NaN                NaN                                NaN            NaN                            NaN                    NaN                                                NaN       0.967345           NaN                                                NaN\n",
       "min            NaN  1982.000000             NaN       NaN                NaN                                NaN            NaN                            NaN                    NaN                                                NaN       0.000000           NaN                                                NaN\n",
       "25%            NaN  2017.000000             NaN       NaN                NaN                                NaN            NaN                            NaN                    NaN                                                NaN       3.000000           NaN                                                NaN\n",
       "50%            NaN  2020.000000             NaN       NaN                NaN                                NaN            NaN                            NaN                    NaN                                                NaN       4.000000           NaN                                                NaN\n",
       "75%            NaN  2021.000000             NaN       NaN                NaN                                NaN            NaN                            NaN                    NaN                                                NaN       4.000000           NaN                                                NaN\n",
       "max            NaN  2024.000000             NaN       NaN                NaN                                NaN            NaN                            NaN                    NaN                                                NaN       5.000000           NaN                                                NaN"
      ]
     },
     "execution_count": 6,
     "metadata": {},
     "output_type": "execute_result"
    }
   ],
   "source": [
    "df.describe(include='all')"
   ]
  },
  {
   "cell_type": "markdown",
   "metadata": {},
   "source": [
    "## Limpieza de datos."
   ]
  },
  {
   "cell_type": "markdown",
   "metadata": {},
   "source": [
    "Se nos muestra que tiene un total de 13 columnas que deberemos de examinar para saber cuáles tener en cuenta a la hora de la realización de nuestro estudio y lo que significan cada una de ellas."
   ]
  },
  {
   "cell_type": "markdown",
   "metadata": {},
   "source": [
    "**Comprobación fechas**\n",
    "\n",
    "Si nos damos cuenta, en la primera fila hay una discrepancia entre el año que pone en la columna `Date` y el año que proporciona la columna `Year`. Es por ello, que analizaremos si hay mas casos para evaluar que columna interesa"
   ]
  },
  {
   "cell_type": "code",
   "execution_count": 7,
   "metadata": {},
   "outputs": [
    {
     "data": {
      "text/html": [
       "<div>\n",
       "<style scoped>\n",
       "    .dataframe tbody tr th:only-of-type {\n",
       "        vertical-align: middle;\n",
       "    }\n",
       "\n",
       "    .dataframe tbody tr th {\n",
       "        vertical-align: top;\n",
       "    }\n",
       "\n",
       "    .dataframe thead th {\n",
       "        text-align: right;\n",
       "    }\n",
       "</style>\n",
       "<table border=\"1\" class=\"dataframe\">\n",
       "  <thead>\n",
       "    <tr style=\"text-align: right;\">\n",
       "      <th></th>\n",
       "      <th>date</th>\n",
       "      <th>year_1</th>\n",
       "    </tr>\n",
       "    <tr>\n",
       "      <th>id</th>\n",
       "      <th></th>\n",
       "      <th></th>\n",
       "    </tr>\n",
       "  </thead>\n",
       "  <tbody>\n",
       "    <tr>\n",
       "      <th>1338</th>\n",
       "      <td>2025-08-15</td>\n",
       "      <td>2025</td>\n",
       "    </tr>\n",
       "    <tr>\n",
       "      <th>1337</th>\n",
       "      <td>2024-08-15</td>\n",
       "      <td>2024</td>\n",
       "    </tr>\n",
       "    <tr>\n",
       "      <th>1336</th>\n",
       "      <td>2024-08-15</td>\n",
       "      <td>2024</td>\n",
       "    </tr>\n",
       "    <tr>\n",
       "      <th>1335</th>\n",
       "      <td>2024-08-14</td>\n",
       "      <td>2024</td>\n",
       "    </tr>\n",
       "    <tr>\n",
       "      <th>1334</th>\n",
       "      <td>2024-08-14</td>\n",
       "      <td>2024</td>\n",
       "    </tr>\n",
       "  </tbody>\n",
       "</table>\n",
       "</div>"
      ],
      "text/plain": [
       "           date  year_1\n",
       "id                     \n",
       "1338 2025-08-15    2025\n",
       "1337 2024-08-15    2024\n",
       "1336 2024-08-15    2024\n",
       "1335 2024-08-14    2024\n",
       "1334 2024-08-14    2024"
      ]
     },
     "execution_count": 7,
     "metadata": {},
     "output_type": "execute_result"
    }
   ],
   "source": [
    "df['date'] = pd.to_datetime(df['date'], dayfirst=True ,errors='coerce')\n",
    "df['year_1'] = df['date'].dt.year\n",
    "\n",
    "df[['date', 'year_1']].head()"
   ]
  },
  {
   "cell_type": "code",
   "execution_count": 8,
   "metadata": {},
   "outputs": [
    {
     "name": "stdout",
     "output_type": "stream",
     "text": [
      "Hay 1 fila donde 'year' y 'year_1' son diferentes.\n"
     ]
    },
    {
     "data": {
      "text/html": [
       "<div>\n",
       "<style scoped>\n",
       "    .dataframe tbody tr th:only-of-type {\n",
       "        vertical-align: middle;\n",
       "    }\n",
       "\n",
       "    .dataframe tbody tr th {\n",
       "        vertical-align: top;\n",
       "    }\n",
       "\n",
       "    .dataframe thead th {\n",
       "        text-align: right;\n",
       "    }\n",
       "</style>\n",
       "<table border=\"1\" class=\"dataframe\">\n",
       "  <thead>\n",
       "    <tr style=\"text-align: right;\">\n",
       "      <th></th>\n",
       "      <th>year</th>\n",
       "      <th>year_1</th>\n",
       "    </tr>\n",
       "    <tr>\n",
       "      <th>id</th>\n",
       "      <th></th>\n",
       "      <th></th>\n",
       "    </tr>\n",
       "  </thead>\n",
       "  <tbody>\n",
       "    <tr>\n",
       "      <th>1338</th>\n",
       "      <td>2024</td>\n",
       "      <td>2025</td>\n",
       "    </tr>\n",
       "  </tbody>\n",
       "</table>\n",
       "</div>"
      ],
      "text/plain": [
       "      year  year_1\n",
       "id                \n",
       "1338  2024    2025"
      ]
     },
     "execution_count": 8,
     "metadata": {},
     "output_type": "execute_result"
    }
   ],
   "source": [
    "# Filtrar las filas donde year y year_1 son diferentes\n",
    "diferencias = df[df['year'] != df['year_1']]\n",
    "\n",
    "print(f\"Hay {diferencias.shape[0]} fila donde 'year' y 'year_1' son diferentes.\")\n",
    "diferencias[['year', 'year_1']].head()"
   ]
  },
  {
   "cell_type": "code",
   "execution_count": 9,
   "metadata": {},
   "outputs": [
    {
     "data": {
      "text/plain": [
       "Index(['date', 'year', 'source_database', 'origin', 'attack_vector', 'attack_description', 'country', 'industry_type', 'subcategory', 'attack_details', 'ti_safe_score', 'impact', 'link_at_the_internet', 'year_1'], dtype='object')"
      ]
     },
     "execution_count": 9,
     "metadata": {},
     "output_type": "execute_result"
    }
   ],
   "source": [
    "df.columns"
   ]
  },
  {
   "cell_type": "code",
   "execution_count": 10,
   "metadata": {},
   "outputs": [],
   "source": [
    "df['date'] = pd.to_datetime(df['date'], dayfirst=True, errors='coerce')\n",
    "df['day'] = df['date'].dt.day\n",
    "df['month'] = df['date'].dt.month\n",
    "# Usaremos la columna year para año (ya dada en el CSV).\n",
    "\n",
    "cols = ['date', 'day', 'month'] + [col for col in df.columns if col not in ['date', 'day', 'month']] # reorganizar columnas.\n",
    "df = df[cols]"
   ]
  },
  {
   "cell_type": "code",
   "execution_count": 11,
   "metadata": {},
   "outputs": [],
   "source": [
    "df.drop(['date', 'year_1'], axis=1, inplace=True)"
   ]
  },
  {
   "cell_type": "code",
   "execution_count": 12,
   "metadata": {},
   "outputs": [
    {
     "data": {
      "text/html": [
       "<div>\n",
       "<style scoped>\n",
       "    .dataframe tbody tr th:only-of-type {\n",
       "        vertical-align: middle;\n",
       "    }\n",
       "\n",
       "    .dataframe tbody tr th {\n",
       "        vertical-align: top;\n",
       "    }\n",
       "\n",
       "    .dataframe thead th {\n",
       "        text-align: right;\n",
       "    }\n",
       "</style>\n",
       "<table border=\"1\" class=\"dataframe\">\n",
       "  <thead>\n",
       "    <tr style=\"text-align: right;\">\n",
       "      <th></th>\n",
       "      <th>day</th>\n",
       "      <th>month</th>\n",
       "      <th>year</th>\n",
       "      <th>source_database</th>\n",
       "      <th>origin</th>\n",
       "      <th>attack_vector</th>\n",
       "      <th>attack_description</th>\n",
       "      <th>country</th>\n",
       "      <th>industry_type</th>\n",
       "      <th>subcategory</th>\n",
       "      <th>attack_details</th>\n",
       "      <th>ti_safe_score</th>\n",
       "      <th>impact</th>\n",
       "      <th>link_at_the_internet</th>\n",
       "    </tr>\n",
       "    <tr>\n",
       "      <th>id</th>\n",
       "      <th></th>\n",
       "      <th></th>\n",
       "      <th></th>\n",
       "      <th></th>\n",
       "      <th></th>\n",
       "      <th></th>\n",
       "      <th></th>\n",
       "      <th></th>\n",
       "      <th></th>\n",
       "      <th></th>\n",
       "      <th></th>\n",
       "      <th></th>\n",
       "      <th></th>\n",
       "      <th></th>\n",
       "    </tr>\n",
       "  </thead>\n",
       "  <tbody>\n",
       "    <tr>\n",
       "      <th>1338</th>\n",
       "      <td>15</td>\n",
       "      <td>8</td>\n",
       "      <td>2024</td>\n",
       "      <td>TI Safe</td>\n",
       "      <td>External</td>\n",
       "      <td>Ransomware attack</td>\n",
       "      <td>A massive cyberattack disrupted Iran's Central...</td>\n",
       "      <td>Iran</td>\n",
       "      <td>Financial</td>\n",
       "      <td>Banking and Finance</td>\n",
       "      <td>The Central Bank of Iran suffered a major cybe...</td>\n",
       "      <td>4.0</td>\n",
       "      <td>Severe disruptions in Iran's banking system, w...</td>\n",
       "      <td>&lt;a href='https://www.israelhayom.com/2024/08/1...</td>\n",
       "    </tr>\n",
       "    <tr>\n",
       "      <th>1337</th>\n",
       "      <td>15</td>\n",
       "      <td>8</td>\n",
       "      <td>2024</td>\n",
       "      <td>TI Safe</td>\n",
       "      <td>External</td>\n",
       "      <td>Phishing attack</td>\n",
       "      <td>A previously unknown threat actor, dubbed Acto...</td>\n",
       "      <td>Azerbaijan and Israel</td>\n",
       "      <td>Public Services</td>\n",
       "      <td>Gpver,emt</td>\n",
       "      <td>In July 2024, a newly identified threat actor,...</td>\n",
       "      <td>4.0</td>\n",
       "      <td>Compromise of sensitive diplomatic data throug...</td>\n",
       "      <td>&lt;a href='https://thehackernews.com/2024/08/new...</td>\n",
       "    </tr>\n",
       "    <tr>\n",
       "      <th>1336</th>\n",
       "      <td>15</td>\n",
       "      <td>8</td>\n",
       "      <td>2024</td>\n",
       "      <td>TI Safe</td>\n",
       "      <td>External</td>\n",
       "      <td>Cyberattack</td>\n",
       "      <td>The Iranian state-backed group APT42 launched ...</td>\n",
       "      <td>United States (and Israel)</td>\n",
       "      <td>Public Services</td>\n",
       "      <td>Government and Elections</td>\n",
       "      <td>Between February and late July 2024, APT42, a ...</td>\n",
       "      <td>4.0</td>\n",
       "      <td>Successful breaches of accounts across multipl...</td>\n",
       "      <td>&lt;a href='https://cybersecuritynews.com/iranian...</td>\n",
       "    </tr>\n",
       "    <tr>\n",
       "      <th>1335</th>\n",
       "      <td>14</td>\n",
       "      <td>8</td>\n",
       "      <td>2024</td>\n",
       "      <td>TI Safe</td>\n",
       "      <td>External</td>\n",
       "      <td>Ransomware attack</td>\n",
       "      <td>The ThreeAM ransomware targeted Kootenai Healt...</td>\n",
       "      <td>United States</td>\n",
       "      <td>Health and Homecare services</td>\n",
       "      <td>Healthcare</td>\n",
       "      <td>The ThreeAM ransomware attack, which began on ...</td>\n",
       "      <td>4.0</td>\n",
       "      <td>Personal and medical data of 464,000 patients ...</td>\n",
       "      <td>&lt;a href='https://securityaffairs.com/167020/da...</td>\n",
       "    </tr>\n",
       "    <tr>\n",
       "      <th>1334</th>\n",
       "      <td>14</td>\n",
       "      <td>8</td>\n",
       "      <td>2024</td>\n",
       "      <td>TI Safe</td>\n",
       "      <td>External</td>\n",
       "      <td>Phishing attack</td>\n",
       "      <td>The Brain Cipher ransomware group crippled Ind...</td>\n",
       "      <td>Indonesia</td>\n",
       "      <td>Government</td>\n",
       "      <td>Public Administration</td>\n",
       "      <td>Brain Cipher ransomware group targeted Indones...</td>\n",
       "      <td>4.0</td>\n",
       "      <td>Severe disruptions to government services and ...</td>\n",
       "      <td>&lt;a href='https://www.darkreading.com/threat-in...</td>\n",
       "    </tr>\n",
       "  </tbody>\n",
       "</table>\n",
       "</div>"
      ],
      "text/plain": [
       "      day  month  year source_database    origin       attack_vector                                 attack_description                     country                 industry_type               subcategory                                     attack_details  ti_safe_score                                             impact                               link_at_the_internet\n",
       "id                                                                                                                                                                                                                                                                                                                                                                                 \n",
       "1338   15      8  2024         TI Safe  External  Ransomware attack   A massive cyberattack disrupted Iran's Central...                        Iran                     Financial       Banking and Finance  The Central Bank of Iran suffered a major cybe...            4.0  Severe disruptions in Iran's banking system, w...  <a href='https://www.israelhayom.com/2024/08/1...\n",
       "1337   15      8  2024         TI Safe  External     Phishing attack  A previously unknown threat actor, dubbed Acto...       Azerbaijan and Israel              Public Services                  Gpver,emt  In July 2024, a newly identified threat actor,...            4.0  Compromise of sensitive diplomatic data throug...  <a href='https://thehackernews.com/2024/08/new...\n",
       "1336   15      8  2024         TI Safe  External         Cyberattack  The Iranian state-backed group APT42 launched ...  United States (and Israel)              Public Services   Government and Elections  Between February and late July 2024, APT42, a ...            4.0  Successful breaches of accounts across multipl...  <a href='https://cybersecuritynews.com/iranian...\n",
       "1335   14      8  2024         TI Safe  External  Ransomware attack   The ThreeAM ransomware targeted Kootenai Healt...               United States  Health and Homecare services                Healthcare  The ThreeAM ransomware attack, which began on ...            4.0  Personal and medical data of 464,000 patients ...  <a href='https://securityaffairs.com/167020/da...\n",
       "1334   14      8  2024         TI Safe  External     Phishing attack  The Brain Cipher ransomware group crippled Ind...                   Indonesia                    Government     Public Administration  Brain Cipher ransomware group targeted Indones...            4.0  Severe disruptions to government services and ...  <a href='https://www.darkreading.com/threat-in..."
      ]
     },
     "execution_count": 12,
     "metadata": {},
     "output_type": "execute_result"
    }
   ],
   "source": [
    "df.head()"
   ]
  },
  {
   "cell_type": "markdown",
   "metadata": {},
   "source": [
    "#### Manejo de filas duplicadas.\n",
    "En caso de haber filas duplicadas, deberemos de eliminar estas para que no afecten al análisis posterior."
   ]
  },
  {
   "cell_type": "code",
   "execution_count": 13,
   "metadata": {},
   "outputs": [
    {
     "data": {
      "text/plain": [
       "0"
      ]
     },
     "execution_count": 13,
     "metadata": {},
     "output_type": "execute_result"
    }
   ],
   "source": [
    "df.duplicated().sum() # Columnas duplicadas"
   ]
  },
  {
   "cell_type": "code",
   "execution_count": 14,
   "metadata": {},
   "outputs": [],
   "source": [
    "df.drop_duplicates(inplace=True)"
   ]
  },
  {
   "cell_type": "markdown",
   "metadata": {},
   "source": [
    "#### Manejo de filas nulas."
   ]
  },
  {
   "cell_type": "code",
   "execution_count": 15,
   "metadata": {},
   "outputs": [
    {
     "data": {
      "text/plain": [
       "day                        0\n",
       "month                      0\n",
       "year                       0\n",
       "source_database            0\n",
       "origin                  1129\n",
       "attack_vector           1142\n",
       "attack_description         0\n",
       "country                    0\n",
       "industry_type              1\n",
       "subcategory                0\n",
       "attack_details            33\n",
       "ti_safe_score            669\n",
       "impact                   578\n",
       "link_at_the_internet     215\n",
       "dtype: int64"
      ]
     },
     "execution_count": 15,
     "metadata": {},
     "output_type": "execute_result"
    }
   ],
   "source": [
    "df.isnull().sum() # Valores nulos"
   ]
  },
  {
   "cell_type": "code",
   "execution_count": 16,
   "metadata": {},
   "outputs": [
    {
     "data": {
      "text/plain": [
       "1338"
      ]
     },
     "execution_count": 16,
     "metadata": {},
     "output_type": "execute_result"
    }
   ],
   "source": [
    "df.shape[0]"
   ]
  },
  {
   "cell_type": "code",
   "execution_count": 17,
   "metadata": {},
   "outputs": [],
   "source": [
    "df.drop(['origin', 'attack_vector'], axis = 1, inplace = True)"
   ]
  },
  {
   "cell_type": "code",
   "execution_count": 18,
   "metadata": {},
   "outputs": [],
   "source": [
    "threshold = 0.4 * len(df.columns)\n",
    "df = df.dropna(thresh=threshold)"
   ]
  },
  {
   "cell_type": "code",
   "execution_count": 19,
   "metadata": {},
   "outputs": [],
   "source": [
    "df.dropna(subset=['attack_details', 'industry_type'], inplace=True)"
   ]
  },
  {
   "cell_type": "code",
   "execution_count": 20,
   "metadata": {},
   "outputs": [],
   "source": [
    "for i in ['link_at_the_internet', 'ti_safe_score', 'impact']:\n",
    "    if df[i].dtype == 'object':\n",
    "        df[i].fillna(df[i].mode()[0], inplace=True)\n",
    "    else:  # Si es una columna numérica\n",
    "        df[i].fillna(df[i].median(), inplace=True)"
   ]
  },
  {
   "cell_type": "markdown",
   "metadata": {},
   "source": [
    "## Selección de variables categóricas y continuas."
   ]
  },
  {
   "cell_type": "markdown",
   "metadata": {},
   "source": [
    "Para realizar correctamente un ánalisis de datos debemos de distinguir entre las variables categóricas, variables que representan diferentes categorías o grupos, y continuas, variables que pueden tomar cualquier valor dentro de un rango determinado."
   ]
  },
  {
   "cell_type": "code",
   "execution_count": 21,
   "metadata": {},
   "outputs": [
    {
     "name": "stdout",
     "output_type": "stream",
     "text": [
      "Variables continuas: day, month, year, attack_description, attack_details, ti_safe_score, impact, link_at_the_internet\n",
      "Variables categóricas: source_database, country, industry_type, subcategory\n"
     ]
    }
   ],
   "source": [
    "v_continuas = []\n",
    "v_categoricas = []\n",
    "for i in df.columns:\n",
    "    if len(df[i].unique()) > 150 or df[i].dtypes == 'float64' or df[i].dtypes == 'int64':\n",
    "        v_continuas.append(i)\n",
    "    else:\n",
    "        v_categoricas.append(i)\n",
    "\n",
    "print('Variables continuas: {}'.format(', '.join(v_continuas)))\n",
    "print('Variables categóricas: {}'.format(', '.join(v_categoricas)))"
   ]
  },
  {
   "cell_type": "code",
   "execution_count": 22,
   "metadata": {},
   "outputs": [
    {
     "data": {
      "text/plain": [
       "day                       31\n",
       "month                     12\n",
       "year                      36\n",
       "source_database            5\n",
       "attack_description      1286\n",
       "country                  111\n",
       "industry_type             56\n",
       "subcategory              101\n",
       "attack_details           762\n",
       "ti_safe_score              6\n",
       "impact                   677\n",
       "link_at_the_internet    1018\n",
       "dtype: int64"
      ]
     },
     "execution_count": 22,
     "metadata": {},
     "output_type": "execute_result"
    }
   ],
   "source": [
    "df.nunique()"
   ]
  },
  {
   "cell_type": "markdown",
   "metadata": {},
   "source": [
    "#### Tratamiento de variables categóricas.\n",
    "Para el posterior modelo de clasificación, necesitamos codificar nuestras variables object. Para ello, realizaremos una codificación ordinal que consiste en asignar valores enteros a las categorias basándose en su posición o jerarquía en los datos."
   ]
  },
  {
   "cell_type": "code",
   "execution_count": 23,
   "metadata": {},
   "outputs": [
    {
     "data": {
      "text/html": [
       "<div>\n",
       "<style scoped>\n",
       "    .dataframe tbody tr th:only-of-type {\n",
       "        vertical-align: middle;\n",
       "    }\n",
       "\n",
       "    .dataframe tbody tr th {\n",
       "        vertical-align: top;\n",
       "    }\n",
       "\n",
       "    .dataframe thead th {\n",
       "        text-align: right;\n",
       "    }\n",
       "</style>\n",
       "<table border=\"1\" class=\"dataframe\">\n",
       "  <thead>\n",
       "    <tr style=\"text-align: right;\">\n",
       "      <th></th>\n",
       "      <th>source_database</th>\n",
       "      <th>country</th>\n",
       "      <th>industry_type</th>\n",
       "      <th>subcategory</th>\n",
       "    </tr>\n",
       "    <tr>\n",
       "      <th>id</th>\n",
       "      <th></th>\n",
       "      <th></th>\n",
       "      <th></th>\n",
       "      <th></th>\n",
       "    </tr>\n",
       "  </thead>\n",
       "  <tbody>\n",
       "    <tr>\n",
       "      <th>1338</th>\n",
       "      <td>TI Safe</td>\n",
       "      <td>Iran</td>\n",
       "      <td>Financial</td>\n",
       "      <td>Banking and Finance</td>\n",
       "    </tr>\n",
       "    <tr>\n",
       "      <th>1337</th>\n",
       "      <td>TI Safe</td>\n",
       "      <td>Azerbaijan and Israel</td>\n",
       "      <td>Public Services</td>\n",
       "      <td>Gpver,emt</td>\n",
       "    </tr>\n",
       "    <tr>\n",
       "      <th>1336</th>\n",
       "      <td>TI Safe</td>\n",
       "      <td>United States (and Israel)</td>\n",
       "      <td>Public Services</td>\n",
       "      <td>Government and Elections</td>\n",
       "    </tr>\n",
       "  </tbody>\n",
       "</table>\n",
       "</div>"
      ],
      "text/plain": [
       "     source_database                     country     industry_type               subcategory\n",
       "id                                                                                          \n",
       "1338         TI Safe                        Iran         Financial       Banking and Finance\n",
       "1337         TI Safe       Azerbaijan and Israel  Public Services                  Gpver,emt\n",
       "1336         TI Safe  United States (and Israel)  Public Services   Government and Elections"
      ]
     },
     "execution_count": 23,
     "metadata": {},
     "output_type": "execute_result"
    }
   ],
   "source": [
    "df[v_categoricas].head(3)"
   ]
  },
  {
   "cell_type": "code",
   "execution_count": 24,
   "metadata": {},
   "outputs": [
    {
     "data": {
      "text/html": [
       "<div>\n",
       "<style scoped>\n",
       "    .dataframe tbody tr th:only-of-type {\n",
       "        vertical-align: middle;\n",
       "    }\n",
       "\n",
       "    .dataframe tbody tr th {\n",
       "        vertical-align: top;\n",
       "    }\n",
       "\n",
       "    .dataframe thead th {\n",
       "        text-align: right;\n",
       "    }\n",
       "</style>\n",
       "<table border=\"1\" class=\"dataframe\">\n",
       "  <thead>\n",
       "    <tr style=\"text-align: right;\">\n",
       "      <th></th>\n",
       "      <th>source_database</th>\n",
       "      <th>country</th>\n",
       "      <th>industry_type</th>\n",
       "      <th>subcategory</th>\n",
       "    </tr>\n",
       "  </thead>\n",
       "  <tbody>\n",
       "    <tr>\n",
       "      <th>count</th>\n",
       "      <td>1304</td>\n",
       "      <td>1304</td>\n",
       "      <td>1304</td>\n",
       "      <td>1304</td>\n",
       "    </tr>\n",
       "    <tr>\n",
       "      <th>unique</th>\n",
       "      <td>5</td>\n",
       "      <td>111</td>\n",
       "      <td>56</td>\n",
       "      <td>101</td>\n",
       "    </tr>\n",
       "    <tr>\n",
       "      <th>top</th>\n",
       "      <td>CIRWA</td>\n",
       "      <td>United States</td>\n",
       "      <td>Government facilities sector</td>\n",
       "      <td>Government Facilities</td>\n",
       "    </tr>\n",
       "    <tr>\n",
       "      <th>freq</th>\n",
       "      <td>576</td>\n",
       "      <td>672</td>\n",
       "      <td>280</td>\n",
       "      <td>276</td>\n",
       "    </tr>\n",
       "  </tbody>\n",
       "</table>\n",
       "</div>"
      ],
      "text/plain": [
       "       source_database        country                  industry_type            subcategory\n",
       "count             1304           1304                           1304                   1304\n",
       "unique               5            111                             56                    101\n",
       "top              CIRWA  United States  Government facilities sector   Government Facilities\n",
       "freq               576            672                            280                    276"
      ]
     },
     "execution_count": 24,
     "metadata": {},
     "output_type": "execute_result"
    }
   ],
   "source": [
    "df[v_categoricas].describe()"
   ]
  },
  {
   "cell_type": "markdown",
   "metadata": {},
   "source": [
    "##### **Source Database.**"
   ]
  },
  {
   "cell_type": "code",
   "execution_count": 25,
   "metadata": {},
   "outputs": [
    {
     "data": {
      "text/plain": [
       "array(['TI Safe', 'CIRWA', 'SCIDMARK', 'SCIDMARK ', 'RISI'], dtype=object)"
      ]
     },
     "execution_count": 25,
     "metadata": {},
     "output_type": "execute_result"
    }
   ],
   "source": [
    "df['source_database'].unique()"
   ]
  },
  {
   "cell_type": "code",
   "execution_count": 26,
   "metadata": {},
   "outputs": [],
   "source": [
    "label_encoder = LabelEncoder()\n",
    "df['source_database_encoded'] = label_encoder.fit_transform(df['source_database'])"
   ]
  },
  {
   "cell_type": "markdown",
   "metadata": {},
   "source": [
    "El siguiente código se ha agregado para lograr que las columnas codificadas se agreguen justo después de la columna original, de manera que sea más fácil ver a qué se le ha asignado el valor codificado."
   ]
  },
  {
   "cell_type": "code",
   "execution_count": 27,
   "metadata": {},
   "outputs": [],
   "source": [
    "cols = df.columns.tolist()\n",
    "disclosure_index = cols.index('source_database')\n",
    "cols.insert(disclosure_index + 1, cols.pop(cols.index('source_database_encoded')))\n",
    "df = df[cols]"
   ]
  },
  {
   "cell_type": "code",
   "execution_count": 28,
   "metadata": {},
   "outputs": [
    {
     "data": {
      "text/html": [
       "<div>\n",
       "<style scoped>\n",
       "    .dataframe tbody tr th:only-of-type {\n",
       "        vertical-align: middle;\n",
       "    }\n",
       "\n",
       "    .dataframe tbody tr th {\n",
       "        vertical-align: top;\n",
       "    }\n",
       "\n",
       "    .dataframe thead th {\n",
       "        text-align: right;\n",
       "    }\n",
       "</style>\n",
       "<table border=\"1\" class=\"dataframe\">\n",
       "  <thead>\n",
       "    <tr style=\"text-align: right;\">\n",
       "      <th></th>\n",
       "      <th>day</th>\n",
       "      <th>month</th>\n",
       "      <th>year</th>\n",
       "      <th>source_database</th>\n",
       "      <th>source_database_encoded</th>\n",
       "      <th>attack_description</th>\n",
       "      <th>country</th>\n",
       "      <th>industry_type</th>\n",
       "      <th>subcategory</th>\n",
       "      <th>attack_details</th>\n",
       "      <th>ti_safe_score</th>\n",
       "      <th>impact</th>\n",
       "      <th>link_at_the_internet</th>\n",
       "    </tr>\n",
       "    <tr>\n",
       "      <th>id</th>\n",
       "      <th></th>\n",
       "      <th></th>\n",
       "      <th></th>\n",
       "      <th></th>\n",
       "      <th></th>\n",
       "      <th></th>\n",
       "      <th></th>\n",
       "      <th></th>\n",
       "      <th></th>\n",
       "      <th></th>\n",
       "      <th></th>\n",
       "      <th></th>\n",
       "      <th></th>\n",
       "    </tr>\n",
       "  </thead>\n",
       "  <tbody>\n",
       "    <tr>\n",
       "      <th>1338</th>\n",
       "      <td>15</td>\n",
       "      <td>8</td>\n",
       "      <td>2024</td>\n",
       "      <td>TI Safe</td>\n",
       "      <td>4</td>\n",
       "      <td>A massive cyberattack disrupted Iran's Central...</td>\n",
       "      <td>Iran</td>\n",
       "      <td>Financial</td>\n",
       "      <td>Banking and Finance</td>\n",
       "      <td>The Central Bank of Iran suffered a major cybe...</td>\n",
       "      <td>4.0</td>\n",
       "      <td>Severe disruptions in Iran's banking system, w...</td>\n",
       "      <td>&lt;a href='https://www.israelhayom.com/2024/08/1...</td>\n",
       "    </tr>\n",
       "    <tr>\n",
       "      <th>1337</th>\n",
       "      <td>15</td>\n",
       "      <td>8</td>\n",
       "      <td>2024</td>\n",
       "      <td>TI Safe</td>\n",
       "      <td>4</td>\n",
       "      <td>A previously unknown threat actor, dubbed Acto...</td>\n",
       "      <td>Azerbaijan and Israel</td>\n",
       "      <td>Public Services</td>\n",
       "      <td>Gpver,emt</td>\n",
       "      <td>In July 2024, a newly identified threat actor,...</td>\n",
       "      <td>4.0</td>\n",
       "      <td>Compromise of sensitive diplomatic data throug...</td>\n",
       "      <td>&lt;a href='https://thehackernews.com/2024/08/new...</td>\n",
       "    </tr>\n",
       "  </tbody>\n",
       "</table>\n",
       "</div>"
      ],
      "text/plain": [
       "      day  month  year source_database  source_database_encoded                                 attack_description                country     industry_type          subcategory                                     attack_details  ti_safe_score                                             impact                               link_at_the_internet\n",
       "id                                                                                                                                                                                                                                                                                                                                                      \n",
       "1338   15      8  2024         TI Safe                        4  A massive cyberattack disrupted Iran's Central...                   Iran         Financial  Banking and Finance  The Central Bank of Iran suffered a major cybe...            4.0  Severe disruptions in Iran's banking system, w...  <a href='https://www.israelhayom.com/2024/08/1...\n",
       "1337   15      8  2024         TI Safe                        4  A previously unknown threat actor, dubbed Acto...  Azerbaijan and Israel  Public Services             Gpver,emt  In July 2024, a newly identified threat actor,...            4.0  Compromise of sensitive diplomatic data throug...  <a href='https://thehackernews.com/2024/08/new..."
      ]
     },
     "execution_count": 28,
     "metadata": {},
     "output_type": "execute_result"
    }
   ],
   "source": [
    "df.head(2)"
   ]
  },
  {
   "cell_type": "markdown",
   "metadata": {},
   "source": [
    "##### **Industry Type.**\n",
    "Vemos que hay pocos valores únicos, deberemos de examinarlos y catalogarlos por grupos. Tras ello realizaremos una codificación ordinal."
   ]
  },
  {
   "cell_type": "code",
   "execution_count": 29,
   "metadata": {},
   "outputs": [
    {
     "data": {
      "text/plain": [
       "array(['Financial', 'Public Services ', 'Health and Homecare services',\n",
       "       'Government', 'Tecnology services ', 'Critical Infrastructure',\n",
       "       'Technology', 'Healthcare',\n",
       "       'Communication and telecommunications sector', 'Nuclear ',\n",
       "       'Governemnt ', 'Energy', 'Transport sector and systems', 'Media',\n",
       "       'Entertainment', 'Government Facilities', 'Business',\n",
       "       'Healthcare and Public Health', 'Hospital and health sector',\n",
       "       'Steel and mining', 'Financial Services', 'Energy sector ',\n",
       "       'Activism', 'Tecnology Services ', 'Country ', 'Food sector ',\n",
       "       'Manufacturing and automation sector',\n",
       "       'Water and wastewater sector and systems',\n",
       "       'Government facilities sector ', 'Commercial and public sector ',\n",
       "       'Information Technology sector ', 'Education and Research sector ',\n",
       "       'Sector and Production Systems ', 'Banking and finance sector ',\n",
       "       'Chemical and Farmaceutic industry sector ',\n",
       "       'Agricultural sector ', 'Defense and national protection sector',\n",
       "       'Emergency Sector ', 'Emergency sector',\n",
       "       'Water and Wastewater Systems', 'Transportation Systems', 'Legal ',\n",
       "       'Oil and Gas', 'Country  ',\n",
       "       'Information Technology / Governement Sites',\n",
       "       'Information Technology', 'Apps ',\n",
       "       'Agriculture, food and beverage', 'Aerospace',\n",
       "       'Education and Research', 'Maritime', '\\r\\nEngineering',\n",
       "       'Critical Manufacturing', 'Emergency Services', 'Manufacturing',\n",
       "       'Automotive'], dtype=object)"
      ]
     },
     "execution_count": 29,
     "metadata": {},
     "output_type": "execute_result"
    }
   ],
   "source": [
    "df['industry_type'].unique()"
   ]
  },
  {
   "cell_type": "code",
   "execution_count": 30,
   "metadata": {},
   "outputs": [
    {
     "data": {
      "text/plain": [
       "56"
      ]
     },
     "execution_count": 30,
     "metadata": {},
     "output_type": "execute_result"
    }
   ],
   "source": [
    "df['industry_type'].nunique()"
   ]
  },
  {
   "cell_type": "markdown",
   "metadata": {},
   "source": [
    "Se observa que hay valores que son el mismo, únicamente con espacios detrás. Para ello deberemos de eliminar estos para que se detecten como el mismo tipo."
   ]
  },
  {
   "cell_type": "code",
   "execution_count": 31,
   "metadata": {},
   "outputs": [],
   "source": [
    "df['industry_type'] = df['industry_type'].str.strip()"
   ]
  },
  {
   "cell_type": "code",
   "execution_count": 32,
   "metadata": {},
   "outputs": [
    {
     "data": {
      "text/plain": [
       "array(['Financial', 'Public Services', 'Health and Homecare services',\n",
       "       'Government', 'Tecnology services', 'Critical Infrastructure',\n",
       "       'Technology', 'Healthcare',\n",
       "       'Communication and telecommunications sector', 'Nuclear',\n",
       "       'Governemnt', 'Energy', 'Transport sector and systems', 'Media',\n",
       "       'Entertainment', 'Government Facilities', 'Business',\n",
       "       'Healthcare and Public Health', 'Hospital and health sector',\n",
       "       'Steel and mining', 'Financial Services', 'Energy sector',\n",
       "       'Activism', 'Tecnology Services', 'Country', 'Food sector',\n",
       "       'Manufacturing and automation sector',\n",
       "       'Water and wastewater sector and systems',\n",
       "       'Government facilities sector', 'Commercial and public sector',\n",
       "       'Information Technology sector', 'Education and Research sector',\n",
       "       'Sector and Production Systems', 'Banking and finance sector',\n",
       "       'Chemical and Farmaceutic industry sector', 'Agricultural sector',\n",
       "       'Defense and national protection sector', 'Emergency Sector',\n",
       "       'Emergency sector', 'Water and Wastewater Systems',\n",
       "       'Transportation Systems', 'Legal', 'Oil and Gas',\n",
       "       'Information Technology / Governement Sites',\n",
       "       'Information Technology', 'Apps', 'Agriculture, food and beverage',\n",
       "       'Aerospace', 'Education and Research', 'Maritime', 'Engineering',\n",
       "       'Critical Manufacturing', 'Emergency Services', 'Manufacturing',\n",
       "       'Automotive'], dtype=object)"
      ]
     },
     "execution_count": 32,
     "metadata": {},
     "output_type": "execute_result"
    }
   ],
   "source": [
    "df['industry_type'].unique()"
   ]
  },
  {
   "cell_type": "code",
   "execution_count": 33,
   "metadata": {},
   "outputs": [
    {
     "data": {
      "text/plain": [
       "55"
      ]
     },
     "execution_count": 33,
     "metadata": {},
     "output_type": "execute_result"
    }
   ],
   "source": [
    "df['industry_type'].nunique()"
   ]
  },
  {
   "cell_type": "markdown",
   "metadata": {},
   "source": [
    "Observamos que existe un valor `Information Technology / Government Sites` que combina dos tipos de industria. Si este valor aparece en muchas filas, deberíamos separar los registros en función de cada tipo de industria para analizar si se utilizan de manera individual. En caso contrario, si no se logra una separación clara o no es relevante mantener esta combinación, procederemos a eliminar estas filas."
   ]
  },
  {
   "cell_type": "code",
   "execution_count": 34,
   "metadata": {},
   "outputs": [
    {
     "data": {
      "text/plain": [
       "1"
      ]
     },
     "execution_count": 34,
     "metadata": {},
     "output_type": "execute_result"
    }
   ],
   "source": [
    "df[df['industry_type']=='Information Technology / Governement Sites'].shape[0]"
   ]
  },
  {
   "cell_type": "code",
   "execution_count": 35,
   "metadata": {},
   "outputs": [],
   "source": [
    "df = df[df['industry_type'] != 'Information Technology / Governement Sites']"
   ]
  },
  {
   "cell_type": "markdown",
   "metadata": {},
   "source": [
    "Observamos que hay algunas entradas en la columna que terminan con una palabra, siendo iguales a otras categorías. Para agrupar mejor estos valores, eliminaremos estas palabras de estos registros."
   ]
  },
  {
   "cell_type": "code",
   "execution_count": 36,
   "metadata": {},
   "outputs": [],
   "source": [
    "patterns = [r'\\s*[sS]ector$', r'\\s*[sS]ervices$', r'\\s*[fF]acilities$', r'\\s*[sS]ystems$']\n",
    "\n",
    "for pattern in patterns:\n",
    "    df['industry_type'] = df['industry_type'].str.replace(pattern, '', regex=True)"
   ]
  },
  {
   "cell_type": "code",
   "execution_count": 37,
   "metadata": {},
   "outputs": [
    {
     "data": {
      "text/plain": [
       "45"
      ]
     },
     "execution_count": 37,
     "metadata": {},
     "output_type": "execute_result"
    }
   ],
   "source": [
    "df['industry_type'].nunique()"
   ]
  },
  {
   "cell_type": "code",
   "execution_count": 38,
   "metadata": {},
   "outputs": [
    {
     "data": {
      "text/plain": [
       "array(['Financial', 'Public', 'Health and Homecare', 'Government',\n",
       "       'Tecnology', 'Critical Infrastructure', 'Technology', 'Healthcare',\n",
       "       'Communication and telecommunications', 'Nuclear', 'Governemnt',\n",
       "       'Energy', 'Transport sector and', 'Media', 'Entertainment',\n",
       "       'Business', 'Healthcare and Public Health', 'Hospital and health',\n",
       "       'Steel and mining', 'Activism', 'Country', 'Food',\n",
       "       'Manufacturing and automation', 'Water and wastewater sector and',\n",
       "       'Commercial and public', 'Information Technology',\n",
       "       'Education and Research', 'Sector and Production',\n",
       "       'Banking and finance', 'Chemical and Farmaceutic industry',\n",
       "       'Agricultural', 'Defense and national protection', 'Emergency',\n",
       "       'Water and Wastewater', 'Transportation', 'Legal', 'Oil and Gas',\n",
       "       'Apps', 'Agriculture, food and beverage', 'Aerospace', 'Maritime',\n",
       "       'Engineering', 'Critical Manufacturing', 'Manufacturing',\n",
       "       'Automotive'], dtype=object)"
      ]
     },
     "execution_count": 38,
     "metadata": {},
     "output_type": "execute_result"
    }
   ],
   "source": [
    "df['industry_type'].unique()"
   ]
  },
  {
   "cell_type": "markdown",
   "metadata": {},
   "source": [
    "**Diccionario de Mapeo.**"
   ]
  },
  {
   "cell_type": "code",
   "execution_count": 39,
   "metadata": {},
   "outputs": [],
   "source": [
    "mappings = {\n",
    "    'Health and Homecare': [\n",
    "        'Healthcare', 'Health and Homecare', 'Hospital and health', 'Healthcare and Public Health'\n",
    "    ],\n",
    "    'Public': [\n",
    "        'Public', 'Government', 'Governemnt', 'Education and Research', 'Legal', 'Commercial and public',\n",
    "        'Activism', 'Country'\n",
    "    ],\n",
    "    'Technology': [\n",
    "        'Technology', 'Tecnology', 'Information Technology', 'Apps', 'Aerospace',\n",
    "        'Communication and telecommunications'\n",
    "    ],\n",
    "    'Energy': [\n",
    "        'Energy', 'Nuclear', 'Oil and Gas'\n",
    "    ],\n",
    "    'Infrastructure': [\n",
    "        'Critical Infrastructure', 'Water and Wastewater', 'Water and wastewater sector and'\n",
    "    ],\n",
    "    'Transport': [\n",
    "        'Transport sector and', 'Transportation', 'Maritime', 'Automotive'\n",
    "    ],\n",
    "    'Manufacturing': [\n",
    "        'Steel and mining', 'Manufacturing and automation', 'Critical Manufacturing',\n",
    "        'Sector and Production', 'Manufacturing', 'Engineering'\n",
    "    ],\n",
    "    'Agricultural': [\n",
    "        'Agricultural', 'Food', 'Agriculture, food and beverage'\n",
    "    ],\n",
    "    'Business': [\n",
    "        'Business', 'Entertainment', 'Media'\n",
    "    ],\n",
    "    'Defense': [\n",
    "        'Defense and national protection', 'Emergency'\n",
    "    ],\n",
    "    'Chemical Industry': [\n",
    "        'Chemical and Farmaceutic industry'\n",
    "    ],\n",
    "    'Financial': [\n",
    "        'Financial', 'Banking and finance'\n",
    "    ]\n",
    "}"
   ]
  },
  {
   "cell_type": "code",
   "execution_count": 40,
   "metadata": {},
   "outputs": [],
   "source": [
    "def mapping_indsutry(industry):\n",
    "    for category, industries in mappings.items():\n",
    "        if industry in industries:\n",
    "            return category\n",
    "    return None"
   ]
  },
  {
   "cell_type": "code",
   "execution_count": 41,
   "metadata": {},
   "outputs": [],
   "source": [
    "df['industry_type_group'] = df['industry_type'].map(mapping_indsutry)"
   ]
  },
  {
   "cell_type": "code",
   "execution_count": 42,
   "metadata": {},
   "outputs": [
    {
     "data": {
      "text/plain": [
       "0"
      ]
     },
     "execution_count": 42,
     "metadata": {},
     "output_type": "execute_result"
    }
   ],
   "source": [
    "df['industry_type_group'].isnull().sum()"
   ]
  },
  {
   "cell_type": "markdown",
   "metadata": {},
   "source": [
    "El siguiente código se ha agregado para lograr que las columnas codificadas se agreguen justo después de la columna original, de manera que sea más fácil ver a qué se le ha asignado el valor codificado."
   ]
  },
  {
   "cell_type": "code",
   "execution_count": 43,
   "metadata": {},
   "outputs": [],
   "source": [
    "cols = df.columns.tolist()\n",
    "disclosure_index = cols.index('industry_type')\n",
    "cols.insert(disclosure_index + 1, cols.pop(cols.index('industry_type_group')))\n",
    "df = df[cols]"
   ]
  },
  {
   "cell_type": "code",
   "execution_count": 44,
   "metadata": {},
   "outputs": [],
   "source": [
    "label_encoder = LabelEncoder()\n",
    "df['industry_type_group_encoded'] = label_encoder.fit_transform(df['industry_type_group'])"
   ]
  },
  {
   "cell_type": "markdown",
   "metadata": {},
   "source": [
    "El siguiente código se ha agregado para lograr que las columnas codificadas se agreguen justo después de la columna original, de manera que sea más fácil ver a qué se le ha asignado el valor codificado."
   ]
  },
  {
   "cell_type": "code",
   "execution_count": 45,
   "metadata": {},
   "outputs": [],
   "source": [
    "cols = df.columns.tolist()\n",
    "disclosure_index = cols.index('industry_type_group')\n",
    "cols.insert(disclosure_index + 1, cols.pop(cols.index('industry_type_group_encoded')))\n",
    "df = df[cols]"
   ]
  },
  {
   "cell_type": "code",
   "execution_count": 46,
   "metadata": {},
   "outputs": [
    {
     "data": {
      "text/html": [
       "<div>\n",
       "<style scoped>\n",
       "    .dataframe tbody tr th:only-of-type {\n",
       "        vertical-align: middle;\n",
       "    }\n",
       "\n",
       "    .dataframe tbody tr th {\n",
       "        vertical-align: top;\n",
       "    }\n",
       "\n",
       "    .dataframe thead th {\n",
       "        text-align: right;\n",
       "    }\n",
       "</style>\n",
       "<table border=\"1\" class=\"dataframe\">\n",
       "  <thead>\n",
       "    <tr style=\"text-align: right;\">\n",
       "      <th></th>\n",
       "      <th>day</th>\n",
       "      <th>month</th>\n",
       "      <th>year</th>\n",
       "      <th>source_database</th>\n",
       "      <th>source_database_encoded</th>\n",
       "      <th>attack_description</th>\n",
       "      <th>country</th>\n",
       "      <th>industry_type</th>\n",
       "      <th>industry_type_group</th>\n",
       "      <th>industry_type_group_encoded</th>\n",
       "      <th>subcategory</th>\n",
       "      <th>attack_details</th>\n",
       "      <th>ti_safe_score</th>\n",
       "      <th>impact</th>\n",
       "      <th>link_at_the_internet</th>\n",
       "    </tr>\n",
       "    <tr>\n",
       "      <th>id</th>\n",
       "      <th></th>\n",
       "      <th></th>\n",
       "      <th></th>\n",
       "      <th></th>\n",
       "      <th></th>\n",
       "      <th></th>\n",
       "      <th></th>\n",
       "      <th></th>\n",
       "      <th></th>\n",
       "      <th></th>\n",
       "      <th></th>\n",
       "      <th></th>\n",
       "      <th></th>\n",
       "      <th></th>\n",
       "      <th></th>\n",
       "    </tr>\n",
       "  </thead>\n",
       "  <tbody>\n",
       "    <tr>\n",
       "      <th>1338</th>\n",
       "      <td>15</td>\n",
       "      <td>8</td>\n",
       "      <td>2024</td>\n",
       "      <td>TI Safe</td>\n",
       "      <td>4</td>\n",
       "      <td>A massive cyberattack disrupted Iran's Central...</td>\n",
       "      <td>Iran</td>\n",
       "      <td>Financial</td>\n",
       "      <td>Financial</td>\n",
       "      <td>5</td>\n",
       "      <td>Banking and Finance</td>\n",
       "      <td>The Central Bank of Iran suffered a major cybe...</td>\n",
       "      <td>4.0</td>\n",
       "      <td>Severe disruptions in Iran's banking system, w...</td>\n",
       "      <td>&lt;a href='https://www.israelhayom.com/2024/08/1...</td>\n",
       "    </tr>\n",
       "    <tr>\n",
       "      <th>1337</th>\n",
       "      <td>15</td>\n",
       "      <td>8</td>\n",
       "      <td>2024</td>\n",
       "      <td>TI Safe</td>\n",
       "      <td>4</td>\n",
       "      <td>A previously unknown threat actor, dubbed Acto...</td>\n",
       "      <td>Azerbaijan and Israel</td>\n",
       "      <td>Public</td>\n",
       "      <td>Public</td>\n",
       "      <td>9</td>\n",
       "      <td>Gpver,emt</td>\n",
       "      <td>In July 2024, a newly identified threat actor,...</td>\n",
       "      <td>4.0</td>\n",
       "      <td>Compromise of sensitive diplomatic data throug...</td>\n",
       "      <td>&lt;a href='https://thehackernews.com/2024/08/new...</td>\n",
       "    </tr>\n",
       "  </tbody>\n",
       "</table>\n",
       "</div>"
      ],
      "text/plain": [
       "      day  month  year source_database  source_database_encoded                                 attack_description                country industry_type industry_type_group  industry_type_group_encoded          subcategory                                     attack_details  ti_safe_score                                             impact                               link_at_the_internet\n",
       "id                                                                                                                                                                                                                                                                                                                                                                                                   \n",
       "1338   15      8  2024         TI Safe                        4  A massive cyberattack disrupted Iran's Central...                   Iran     Financial           Financial                            5  Banking and Finance  The Central Bank of Iran suffered a major cybe...            4.0  Severe disruptions in Iran's banking system, w...  <a href='https://www.israelhayom.com/2024/08/1...\n",
       "1337   15      8  2024         TI Safe                        4  A previously unknown threat actor, dubbed Acto...  Azerbaijan and Israel        Public              Public                            9            Gpver,emt  In July 2024, a newly identified threat actor,...            4.0  Compromise of sensitive diplomatic data throug...  <a href='https://thehackernews.com/2024/08/new..."
      ]
     },
     "execution_count": 46,
     "metadata": {},
     "output_type": "execute_result"
    }
   ],
   "source": [
    "df.head(2)"
   ]
  },
  {
   "cell_type": "markdown",
   "metadata": {},
   "source": [
    "##### **Countries.**\n",
    "Para realizar una evaluación más efectiva de los países en nuestros datos, es conveniente agruparlos por continentes. Esto es especialmente relevante porque en otros archivos CSV hay registros de ataques provenientes de diferentes países, distribuidos en distintos continentes.\n",
    "\n",
    "Para facilitar este análisis, procederemos a crear seis nuevas columnas en nuestro conjunto de datos, cada una representando un continente específico. Estas columnas indicarán con un valor de 1 si el país pertenece al continente correspondiente y 0 si no es así, es decir, mediante una asignación de valores binarios."
   ]
  },
  {
   "cell_type": "code",
   "execution_count": 47,
   "metadata": {},
   "outputs": [
    {
     "data": {
      "text/plain": [
       "111"
      ]
     },
     "execution_count": 47,
     "metadata": {},
     "output_type": "execute_result"
    }
   ],
   "source": [
    "df['country'].nunique()"
   ]
  },
  {
   "cell_type": "code",
   "execution_count": 48,
   "metadata": {},
   "outputs": [],
   "source": [
    "df['country'] = df['country'].str.strip()"
   ]
  },
  {
   "cell_type": "code",
   "execution_count": 49,
   "metadata": {},
   "outputs": [
    {
     "data": {
      "text/plain": [
       "array(['Iran', 'Azerbaijan and Israel', 'United States (and Israel)',\n",
       "       'United States', 'Indonesia', 'Global', 'Ukraine', 'United Stats',\n",
       "       'Russia', 'Not specified', 'France',\n",
       "       'Multiple countries (global impact)', 'Brazil', 'India',\n",
       "       'Venezuela', 'United Arab Emirates (Dubai)', 'Italy',\n",
       "       'European Union', 'Southeast Asian country (unspecified)',\n",
       "       'Canada', 'Australia', 'United Kingdom',\n",
       "       'Chile, Spain and Uruguay', 'Spain', 'Morocco and Western Sahara',\n",
       "       'Germany', 'Israel', 'Mexico', 'Estonia',\n",
       "       'Not mentioned in the news', 'Switzerland', 'Romania.',\n",
       "       'Philippines', 'Unknown', 'Sweden', 'Globally', 'Paraguay',\n",
       "       'Lebanon', 'South Africa', 'Slovenia', 'Denmark', 'Egypt',\n",
       "       'Finland', 'Asia and United States', 'New Zealand',\n",
       "       'United States and Canada', 'Colombia', 'Argentina', 'Kenya',\n",
       "       'Norway', 'Australia and New Zealand', 'Lithuania', 'Japan',\n",
       "       'Ireland', 'Taiwan', 'Europe', 'Denmark, Sweden, and Norway',\n",
       "       'Portugal', 'Asia', 'England', 'Dominican Republic', 'Greece',\n",
       "       'China', 'Luxembourg', 'Turkey', 'Costa Rica', 'Scotland',\n",
       "       'Andorra', 'New Zealand and Australia', 'Belgium',\n",
       "       'South Australia', 'Poland', 'Singapore', 'Pakistan', 'Ecuador',\n",
       "       'Vietnam', 'Cingapore', 'Arab Emirates', 'Others', 'Malasya',\n",
       "       'Nigeria', 'South Korea', 'Thailand', 'United Arab Emirates',\n",
       "       'Macedonia', 'Puerto Rico', 'Sri Lanka', 'Austria',\n",
       "       'Czech Republic', 'Jamaica', 'Netherlands', 'Oman',\n",
       "       'Brazil, Mexico, and the United States', 'Chile',\n",
       "       'France and Slovenia', 'Saudi Arabia', 'Qatar', 'Guyana', 'Chad',\n",
       "       'Guam'], dtype=object)"
      ]
     },
     "execution_count": 49,
     "metadata": {},
     "output_type": "execute_result"
    }
   ],
   "source": [
    "df['country'].unique()"
   ]
  },
  {
   "cell_type": "code",
   "execution_count": 50,
   "metadata": {},
   "outputs": [],
   "source": [
    "continent_mapping = {\n",
    "    \"North America\": [\n",
    "        \"United States\", \"United States and Israel\", \"Canada\", \"Mexico\", \"Puerto Rico\", \"Guam\", \n",
    "        \"Dominican Republic\", \"Costa Rica\", \"Jamaica\", \"United Stats\", \"United States (and Israel)\"\n",
    "    ],\n",
    "    \"South America\": [\n",
    "        \"Brazil\", \"Argentina\", \"Chile\", \"Venezuela\", \"Colombia\", \"Ecuador\", \"Guyana\", \"Paraguay\", \n",
    "        \"Uruguay\"\n",
    "    ],\n",
    "    \"Europe\": [\n",
    "        \"Ukraine\", \"France\", \"Italy\", \"Spain\", \"Germany\", \"Estonia\", \"Switzerland\", \"Romania\", \n",
    "        \"Romania.\", \"Sweden\", \"Slovenia\", \"Denmark\", \"Finland\", \"Norway\", \"Ireland\", \"Portugal\", \n",
    "        \"Greece\", \"Luxembourg\", \"Macedonia\", \"Austria\", \"Czech Republic\", \"Netherlands\", \n",
    "        \"United Kingdom\", \"Lithuania\", \"Turkey\", \"Scotland\", \"Andorra\", \"Belgium\", \"Poland\", \n",
    "        \"England\", \"Netherlands\", \"Europe\", 'European Union', 'Switzerland', '\\r\\nIceland', 'Finland', 'Azerbaijan'\n",
    "    ],\n",
    "    \"Asia\": [\n",
    "        \"Indonesia\", \"Russia\", \"India\", \"United Arab Emirates\", \"United Arab Emirates Dubai\", \n",
    "        \"United Arab Emirates (Dubai)\", \"Southeast Asian country unspecified\", \"Philippines\", \n",
    "        \"Lebanon\", \"China\", \"Taiwan\", \"Japan\", \"South Korea\", \"Singapore\", \"Pakistan\", \n",
    "        \"Vietnam\", \"Saudi Arabia\", \"Qatar\", \"Malaysia\", \"Malasya\", \"Thailand\", \"Sri Lanka\", \n",
    "        \"Oman\", \"Arab Emirates\", \"Iran\", \"Israel\", \"Asia\", 'Southeast Asian country (unspecified)', 'Cingapore'\n",
    "    ],\n",
    "    \"Africa\": [\n",
    "        \"South Africa\", \"Egypt\", \"Morocco\", \"Western Sahara\", \"Nigeria\", \"Kenya\", \"Chad\"\n",
    "    ],\n",
    "    \"Australia\": [\n",
    "        \"Australia\", \"New Zealand\", \"South Australia\"\n",
    "    ],\n",
    "    \"Africa, Australia, Asia, Europe, South America, North America\": [\n",
    "        \"Global\", \"Globally\", \"Multiple countries (global impact)\", \"Others\"\n",
    "    ]\n",
    "}"
   ]
  },
  {
   "cell_type": "code",
   "execution_count": 51,
   "metadata": {},
   "outputs": [],
   "source": [
    "def assign_continent(region):\n",
    "    continents = set()\n",
    "    region = region.replace(' and ', ',')\n",
    "    countries = [country.strip() for country in region.split(',')]\n",
    "\n",
    "    for country in countries:\n",
    "        for continent, countries_list in continent_mapping.items():\n",
    "            if country in countries_list:\n",
    "                continents.add(continent)\n",
    "    \n",
    "    # Devolver una lista de continentes, unirlos como una cadena.\n",
    "    return ', '.join(continents) if continents else None\n",
    "\n",
    "# Crear una nueva columna en el DataFrame con los continentes\n",
    "df['continent'] = df['country'].apply(assign_continent)"
   ]
  },
  {
   "cell_type": "code",
   "execution_count": 52,
   "metadata": {},
   "outputs": [
    {
     "name": "stdout",
     "output_type": "stream",
     "text": [
      "Lista de países con 'continent' como None:\n",
      "['Not specified' 'Not mentioned in the news' 'Unknown']\n"
     ]
    }
   ],
   "source": [
    "countries_with_no_continent = df[df['continent'].isnull()]['country'].unique()\n",
    "\n",
    "# Mostrar la lista de países con 'continent' como None\n",
    "print(\"Lista de países con 'continent' como None:\")\n",
    "print(countries_with_no_continent)"
   ]
  },
  {
   "cell_type": "code",
   "execution_count": 53,
   "metadata": {},
   "outputs": [
    {
     "data": {
      "text/plain": [
       "7"
      ]
     },
     "execution_count": 53,
     "metadata": {},
     "output_type": "execute_result"
    }
   ],
   "source": [
    "df['continent'].isnull().sum()"
   ]
  },
  {
   "cell_type": "code",
   "execution_count": 54,
   "metadata": {},
   "outputs": [],
   "source": [
    "df.dropna(subset=['continent'], inplace=True)"
   ]
  },
  {
   "cell_type": "code",
   "execution_count": 55,
   "metadata": {},
   "outputs": [],
   "source": [
    "continent_dummies = df['continent'].str.get_dummies(sep=', ')\n",
    "df = pd.concat([df, continent_dummies], axis=1)"
   ]
  },
  {
   "cell_type": "code",
   "execution_count": 56,
   "metadata": {},
   "outputs": [],
   "source": [
    "df.drop(columns=['country', 'continent'], inplace=True)"
   ]
  },
  {
   "cell_type": "code",
   "execution_count": 57,
   "metadata": {},
   "outputs": [
    {
     "data": {
      "text/html": [
       "<div>\n",
       "<style scoped>\n",
       "    .dataframe tbody tr th:only-of-type {\n",
       "        vertical-align: middle;\n",
       "    }\n",
       "\n",
       "    .dataframe tbody tr th {\n",
       "        vertical-align: top;\n",
       "    }\n",
       "\n",
       "    .dataframe thead th {\n",
       "        text-align: right;\n",
       "    }\n",
       "</style>\n",
       "<table border=\"1\" class=\"dataframe\">\n",
       "  <thead>\n",
       "    <tr style=\"text-align: right;\">\n",
       "      <th></th>\n",
       "      <th>day</th>\n",
       "      <th>month</th>\n",
       "      <th>year</th>\n",
       "      <th>source_database</th>\n",
       "      <th>source_database_encoded</th>\n",
       "      <th>attack_description</th>\n",
       "      <th>industry_type</th>\n",
       "      <th>industry_type_group</th>\n",
       "      <th>industry_type_group_encoded</th>\n",
       "      <th>subcategory</th>\n",
       "      <th>attack_details</th>\n",
       "      <th>ti_safe_score</th>\n",
       "      <th>impact</th>\n",
       "      <th>link_at_the_internet</th>\n",
       "      <th>Africa</th>\n",
       "      <th>Asia</th>\n",
       "      <th>Australia</th>\n",
       "      <th>Europe</th>\n",
       "      <th>North America</th>\n",
       "      <th>South America</th>\n",
       "    </tr>\n",
       "    <tr>\n",
       "      <th>id</th>\n",
       "      <th></th>\n",
       "      <th></th>\n",
       "      <th></th>\n",
       "      <th></th>\n",
       "      <th></th>\n",
       "      <th></th>\n",
       "      <th></th>\n",
       "      <th></th>\n",
       "      <th></th>\n",
       "      <th></th>\n",
       "      <th></th>\n",
       "      <th></th>\n",
       "      <th></th>\n",
       "      <th></th>\n",
       "      <th></th>\n",
       "      <th></th>\n",
       "      <th></th>\n",
       "      <th></th>\n",
       "      <th></th>\n",
       "      <th></th>\n",
       "    </tr>\n",
       "  </thead>\n",
       "  <tbody>\n",
       "    <tr>\n",
       "      <th>1338</th>\n",
       "      <td>15</td>\n",
       "      <td>8</td>\n",
       "      <td>2024</td>\n",
       "      <td>TI Safe</td>\n",
       "      <td>4</td>\n",
       "      <td>A massive cyberattack disrupted Iran's Central...</td>\n",
       "      <td>Financial</td>\n",
       "      <td>Financial</td>\n",
       "      <td>5</td>\n",
       "      <td>Banking and Finance</td>\n",
       "      <td>The Central Bank of Iran suffered a major cybe...</td>\n",
       "      <td>4.0</td>\n",
       "      <td>Severe disruptions in Iran's banking system, w...</td>\n",
       "      <td>&lt;a href='https://www.israelhayom.com/2024/08/1...</td>\n",
       "      <td>0</td>\n",
       "      <td>1</td>\n",
       "      <td>0</td>\n",
       "      <td>0</td>\n",
       "      <td>0</td>\n",
       "      <td>0</td>\n",
       "    </tr>\n",
       "    <tr>\n",
       "      <th>1337</th>\n",
       "      <td>15</td>\n",
       "      <td>8</td>\n",
       "      <td>2024</td>\n",
       "      <td>TI Safe</td>\n",
       "      <td>4</td>\n",
       "      <td>A previously unknown threat actor, dubbed Acto...</td>\n",
       "      <td>Public</td>\n",
       "      <td>Public</td>\n",
       "      <td>9</td>\n",
       "      <td>Gpver,emt</td>\n",
       "      <td>In July 2024, a newly identified threat actor,...</td>\n",
       "      <td>4.0</td>\n",
       "      <td>Compromise of sensitive diplomatic data throug...</td>\n",
       "      <td>&lt;a href='https://thehackernews.com/2024/08/new...</td>\n",
       "      <td>0</td>\n",
       "      <td>1</td>\n",
       "      <td>0</td>\n",
       "      <td>1</td>\n",
       "      <td>0</td>\n",
       "      <td>0</td>\n",
       "    </tr>\n",
       "  </tbody>\n",
       "</table>\n",
       "</div>"
      ],
      "text/plain": [
       "      day  month  year source_database  source_database_encoded                                 attack_description industry_type industry_type_group  industry_type_group_encoded          subcategory                                     attack_details  ti_safe_score                                             impact                               link_at_the_internet  Africa  Asia  Australia  Europe  North America  South America\n",
       "id                                                                                                                                                                                                                                                                                                                                                                                                                                           \n",
       "1338   15      8  2024         TI Safe                        4  A massive cyberattack disrupted Iran's Central...     Financial           Financial                            5  Banking and Finance  The Central Bank of Iran suffered a major cybe...            4.0  Severe disruptions in Iran's banking system, w...  <a href='https://www.israelhayom.com/2024/08/1...       0     1          0       0              0              0\n",
       "1337   15      8  2024         TI Safe                        4  A previously unknown threat actor, dubbed Acto...        Public              Public                            9            Gpver,emt  In July 2024, a newly identified threat actor,...            4.0  Compromise of sensitive diplomatic data throug...  <a href='https://thehackernews.com/2024/08/new...       0     1          0       1              0              0"
      ]
     },
     "execution_count": 57,
     "metadata": {},
     "output_type": "execute_result"
    }
   ],
   "source": [
    "df.head(2)"
   ]
  },
  {
   "cell_type": "markdown",
   "metadata": {},
   "source": [
    "##### **Subcategory.**"
   ]
  },
  {
   "cell_type": "code",
   "execution_count": 58,
   "metadata": {},
   "outputs": [
    {
     "data": {
      "text/plain": [
       "98"
      ]
     },
     "execution_count": 58,
     "metadata": {},
     "output_type": "execute_result"
    }
   ],
   "source": [
    "df['subcategory'].nunique()"
   ]
  },
  {
   "cell_type": "code",
   "execution_count": 59,
   "metadata": {},
   "outputs": [
    {
     "data": {
      "text/plain": [
       "array(['Banking and Finance', 'Gpver,emt', 'Government and Elections',\n",
       "       'Healthcare', 'Public Administration', 'Software', 'Policy',\n",
       "       'Multiple Sectors', 'Global', 'Health and Social Care', 'Russia',\n",
       "       'Telecommunications', 'Defense/National',\n",
       "       'Critical Infrastructure', 'Multiple services', 'Aviation',\n",
       "       'Jornalism ', 'Disney ', 'Public Services', 'Business',\n",
       "       'Health Services ', 'Hospital Systems ', 'Information Technology',\n",
       "       'Governmental ', 'Police', 'Companies and Governmental ',\n",
       "       'Public Sector ', 'Metals Mining', 'Telecommunitacion ',\n",
       "       'Santander ', 'Industrial Control Systems (ICS)', 'Human Rights',\n",
       "       'Healthcare services', 'Sewage system', 'Tecnology Services ',\n",
       "       'Public services', 'Country ', 'Ministries', 'Fintech ', 'Banks ',\n",
       "       'Public Services ', 'Cryptocurrency', 'National Security ',\n",
       "       'Electoral systems', 'Healthcare and Public Health', 'Brewery.',\n",
       "       'Governement sector of Oakley ', 'Federal', 'Semiconductors ',\n",
       "       'Water and Wastewater Systems', 'Services', 'Manufacturing',\n",
       "       'Health insurance industry:', 'Government ', 'Technology ',\n",
       "       'Energy', 'Scientific research and meteorology industry.',\n",
       "       'Communications ', 'Entertainment', 'Transportation Systems',\n",
       "       'Health and Hospitals ', 'Supermarkets ', 'Legal ', 'Automotive',\n",
       "       'Financial services', 'Cloud Services for Public Administration.',\n",
       "       ' Fuel industry', 'Aerospace', 'Country  ',\n",
       "       'Critical Manufacturing', 'Security ', 'Oil and Gas',\n",
       "       'industrial automation industry', 'Government Sites', 'Health ',\n",
       "       'Information Technology / Governement Sites', 'Apps ', 'Chemical',\n",
       "       '\\r\\nEngineering', 'Farmaceutic Industry ', 'Petrochemical',\n",
       "       'Government Facilities', 'Pharmaceutical',\n",
       "       'Agriculture, food and beverage', 'Education and Research',\n",
       "       'Commercial Facilities', 'Steel and mining', 'Maritime',\n",
       "       'Emergency Services', 'Marketing and services ',\n",
       "       'Healthcare and public health', 'Financial Services',\n",
       "       'Healhtcare Services (NHS Dumfires ang Galloway) ', 'Many Sectors',\n",
       "       'Nuclear Reactors, Materials, and Waste', 'Hospitality sector',\n",
       "       'Pulp and Paper', 'Nuclear Power Plant '], dtype=object)"
      ]
     },
     "execution_count": 59,
     "metadata": {},
     "output_type": "execute_result"
    }
   ],
   "source": [
    "df['subcategory'].unique()"
   ]
  },
  {
   "cell_type": "markdown",
   "metadata": {},
   "source": [
    "Se observa que hay valores que son el mismo, únicamente con espacios detrás. Para ello deberemos de eliminar estos para que se detecten como el mismo tipo."
   ]
  },
  {
   "cell_type": "code",
   "execution_count": 60,
   "metadata": {},
   "outputs": [],
   "source": [
    "df['subcategory'] = df['subcategory'].str.strip()"
   ]
  },
  {
   "cell_type": "code",
   "execution_count": 61,
   "metadata": {},
   "outputs": [
    {
     "data": {
      "text/plain": [
       "96"
      ]
     },
     "execution_count": 61,
     "metadata": {},
     "output_type": "execute_result"
    }
   ],
   "source": [
    "df['subcategory'].nunique()"
   ]
  },
  {
   "cell_type": "code",
   "execution_count": 62,
   "metadata": {},
   "outputs": [],
   "source": [
    "subcategory_mapping = {\n",
    "    'Financial': ['Banking and Finance', 'Banks', 'Fintech', 'Financial services', 'Cryptocurrency', 'Financial Services', 'Santander', 'Health insurance industry:'],\n",
    "    'Government': ['Ministries', 'Policy', 'Gpver,emt', 'Government and Elections', 'Public Administration', 'Governmental', 'Companies and Governmental', 'Public Sector', 'Electoral systems', 'Government', 'Federal', 'Governement sector of Oakley', 'Government Facilities', 'Government Sites', 'Information Technology / Governement Sites'],\n",
    "    'Healthcare': ['Healthcare and Public Health', 'Hospitality sector','Emergency Services', 'Health and Hospitals', 'Hospital Systems', 'Healthcare', 'Health and Social Care', 'Healthcare services', 'Health Services', 'Hospital Systems', 'Healthcare and Public Health', 'Health and Hospitals', 'Healhtcare Services (NHS Dumfires ang Galloway)', 'Health', 'Healthcare and public health'],\n",
    "    'Technology': ['Telecommunitacion', 'Telecommunications', 'Software', 'Tecnology Services', 'Information Technology', 'Apps', 'Technology', 'Phones'],\n",
    "    'Public': ['Public Services', 'Public services', 'Cloud Services for Public Administration.'],\n",
    "    'Critical Infrastructure': ['Critical Infrastructure', 'Industrial Control Systems (ICS)', 'Water and Wastewater Systems', 'Sewage system'],\n",
    "    'Nuclear': ['Nuclear Power Plant', 'Nuclear Reactors, Materials, and Waste'],\n",
    "    'Energy': ['Energy', 'Fuel industry', 'Petrochemical'],\n",
    "    'Transport': ['Transportation Systems', 'Automotive', 'Aviation', 'Maritime'],\n",
    "    'Media': ['Jornalism', 'Disney'],\n",
    "    'Entertainment': ['Entertainment', 'Disney'],\n",
    "    'Business': ['Business', 'Marketing and services'],\n",
    "    'Steel and mining': ['Steel and mining', 'Metals Mining', 'Critical Manufacturing'],\n",
    "    'Activism': ['Human Rights'],\n",
    "    'Country': ['Country', 'Global', 'Russia'],\n",
    "    'Water and Wastewater': ['Water and Wastewater Systems', 'Sewage system'],\n",
    "    'Commercial and public': ['Commercial Facilities', 'Supermarkets'],\n",
    "    'Information Technology': ['Information Technology', 'Tecnology Services', 'Apps'],\n",
    "    'Education and Research': ['Education and Research', 'Scientific research and meteorology industry.'],\n",
    "    'Sector and Production': ['Sector and Production', 'industrial automation industry'],\n",
    "    'Chemical and Farmaceutic industry': ['Chemical', 'Farmaceutic Industry', 'Pharmaceutical'],\n",
    "    'Agricultural': ['Agriculture, food and beverage', 'Brewery.', 'Agriculture, food and beverage', 'Brewery.'],\n",
    "    'Defense and national protection': ['Police', 'Defense/National', 'National Security', 'Security'],\n",
    "    'Transportation': ['Transportation Systems', 'Aviation', 'Maritime'],\n",
    "    'Legal': ['Legal'],\n",
    "    'Oil and Gas': ['Oil and Gas', 'Fuel industry', 'Petrochemical'],\n",
    "    'Apps': ['Apps'],\n",
    "    'Aerospace': ['Aerospace'],\n",
    "    'Engineering': ['Engineering'],\n",
    "    'Manufacturing': ['Manufacturing', 'industrial automation industry', 'Critical Manufacturing', 'Pulp and Paper', 'Manufacturing', 'industrial automation industry'],\n",
    "    'Automotive': ['Automotive']\n",
    "}"
   ]
  },
  {
   "cell_type": "code",
   "execution_count": 63,
   "metadata": {},
   "outputs": [],
   "source": [
    "def mapping_subcategory(sector):\n",
    "    for group, sectors in subcategory_mapping.items():\n",
    "        if sector in sectors:\n",
    "            return group\n",
    "    return None"
   ]
  },
  {
   "cell_type": "code",
   "execution_count": 64,
   "metadata": {},
   "outputs": [],
   "source": [
    "df['subcategory_group'] = df['subcategory'].map(mapping_subcategory)"
   ]
  },
  {
   "cell_type": "markdown",
   "metadata": {},
   "source": [
    "El siguiente código se ha agregado para lograr que las columnas codificadas se agreguen justo después de la columna original, de manera que sea más fácil ver a qué se le ha asignado el valor codificado."
   ]
  },
  {
   "cell_type": "code",
   "execution_count": 65,
   "metadata": {},
   "outputs": [],
   "source": [
    "cols = df.columns.tolist()\n",
    "disclosure_index = cols.index('subcategory')\n",
    "cols.insert(disclosure_index + 1, cols.pop(cols.index('subcategory_group')))\n",
    "df = df[cols]"
   ]
  },
  {
   "cell_type": "code",
   "execution_count": 66,
   "metadata": {},
   "outputs": [
    {
     "data": {
      "text/plain": [
       "58"
      ]
     },
     "execution_count": 66,
     "metadata": {},
     "output_type": "execute_result"
    }
   ],
   "source": [
    "df['subcategory_group'].isnull().sum()"
   ]
  },
  {
   "cell_type": "code",
   "execution_count": 67,
   "metadata": {},
   "outputs": [],
   "source": [
    "df.dropna(subset=['subcategory_group'], inplace=True)"
   ]
  },
  {
   "cell_type": "code",
   "execution_count": 68,
   "metadata": {},
   "outputs": [],
   "source": [
    "label_encoder = LabelEncoder()\n",
    "df['subcategory_group_encoded'] = label_encoder.fit_transform(df['subcategory_group'])"
   ]
  },
  {
   "cell_type": "markdown",
   "metadata": {},
   "source": [
    "El siguiente código se ha agregado para lograr que las columnas codificadas se agreguen justo después de la columna original, de manera que sea más fácil ver a qué se le ha asignado el valor codificado."
   ]
  },
  {
   "cell_type": "code",
   "execution_count": 69,
   "metadata": {},
   "outputs": [],
   "source": [
    "cols = df.columns.tolist()\n",
    "disclosure_index = cols.index('subcategory_group')\n",
    "cols.insert(disclosure_index + 1, cols.pop(cols.index('subcategory_group_encoded')))\n",
    "df = df[cols]"
   ]
  },
  {
   "cell_type": "code",
   "execution_count": 70,
   "metadata": {},
   "outputs": [
    {
     "data": {
      "text/html": [
       "<div>\n",
       "<style scoped>\n",
       "    .dataframe tbody tr th:only-of-type {\n",
       "        vertical-align: middle;\n",
       "    }\n",
       "\n",
       "    .dataframe tbody tr th {\n",
       "        vertical-align: top;\n",
       "    }\n",
       "\n",
       "    .dataframe thead th {\n",
       "        text-align: right;\n",
       "    }\n",
       "</style>\n",
       "<table border=\"1\" class=\"dataframe\">\n",
       "  <thead>\n",
       "    <tr style=\"text-align: right;\">\n",
       "      <th></th>\n",
       "      <th>day</th>\n",
       "      <th>month</th>\n",
       "      <th>year</th>\n",
       "      <th>source_database</th>\n",
       "      <th>source_database_encoded</th>\n",
       "      <th>attack_description</th>\n",
       "      <th>industry_type</th>\n",
       "      <th>industry_type_group</th>\n",
       "      <th>industry_type_group_encoded</th>\n",
       "      <th>subcategory</th>\n",
       "      <th>subcategory_group</th>\n",
       "      <th>subcategory_group_encoded</th>\n",
       "      <th>attack_details</th>\n",
       "      <th>ti_safe_score</th>\n",
       "      <th>impact</th>\n",
       "      <th>link_at_the_internet</th>\n",
       "      <th>Africa</th>\n",
       "      <th>Asia</th>\n",
       "      <th>Australia</th>\n",
       "      <th>Europe</th>\n",
       "      <th>North America</th>\n",
       "      <th>South America</th>\n",
       "    </tr>\n",
       "    <tr>\n",
       "      <th>id</th>\n",
       "      <th></th>\n",
       "      <th></th>\n",
       "      <th></th>\n",
       "      <th></th>\n",
       "      <th></th>\n",
       "      <th></th>\n",
       "      <th></th>\n",
       "      <th></th>\n",
       "      <th></th>\n",
       "      <th></th>\n",
       "      <th></th>\n",
       "      <th></th>\n",
       "      <th></th>\n",
       "      <th></th>\n",
       "      <th></th>\n",
       "      <th></th>\n",
       "      <th></th>\n",
       "      <th></th>\n",
       "      <th></th>\n",
       "      <th></th>\n",
       "      <th></th>\n",
       "      <th></th>\n",
       "    </tr>\n",
       "  </thead>\n",
       "  <tbody>\n",
       "    <tr>\n",
       "      <th>1338</th>\n",
       "      <td>15</td>\n",
       "      <td>8</td>\n",
       "      <td>2024</td>\n",
       "      <td>TI Safe</td>\n",
       "      <td>4</td>\n",
       "      <td>A massive cyberattack disrupted Iran's Central...</td>\n",
       "      <td>Financial</td>\n",
       "      <td>Financial</td>\n",
       "      <td>5</td>\n",
       "      <td>Banking and Finance</td>\n",
       "      <td>Financial</td>\n",
       "      <td>13</td>\n",
       "      <td>The Central Bank of Iran suffered a major cybe...</td>\n",
       "      <td>4.0</td>\n",
       "      <td>Severe disruptions in Iran's banking system, w...</td>\n",
       "      <td>&lt;a href='https://www.israelhayom.com/2024/08/1...</td>\n",
       "      <td>0</td>\n",
       "      <td>1</td>\n",
       "      <td>0</td>\n",
       "      <td>0</td>\n",
       "      <td>0</td>\n",
       "      <td>0</td>\n",
       "    </tr>\n",
       "    <tr>\n",
       "      <th>1337</th>\n",
       "      <td>15</td>\n",
       "      <td>8</td>\n",
       "      <td>2024</td>\n",
       "      <td>TI Safe</td>\n",
       "      <td>4</td>\n",
       "      <td>A previously unknown threat actor, dubbed Acto...</td>\n",
       "      <td>Public</td>\n",
       "      <td>Public</td>\n",
       "      <td>9</td>\n",
       "      <td>Gpver,emt</td>\n",
       "      <td>Government</td>\n",
       "      <td>14</td>\n",
       "      <td>In July 2024, a newly identified threat actor,...</td>\n",
       "      <td>4.0</td>\n",
       "      <td>Compromise of sensitive diplomatic data throug...</td>\n",
       "      <td>&lt;a href='https://thehackernews.com/2024/08/new...</td>\n",
       "      <td>0</td>\n",
       "      <td>1</td>\n",
       "      <td>0</td>\n",
       "      <td>1</td>\n",
       "      <td>0</td>\n",
       "      <td>0</td>\n",
       "    </tr>\n",
       "  </tbody>\n",
       "</table>\n",
       "</div>"
      ],
      "text/plain": [
       "      day  month  year source_database  source_database_encoded                                 attack_description industry_type industry_type_group  industry_type_group_encoded          subcategory subcategory_group  subcategory_group_encoded                                     attack_details  ti_safe_score                                             impact                               link_at_the_internet  Africa  Asia  Australia  Europe  North America  South America\n",
       "id                                                                                                                                                                                                                                                                                                                                                                                                                                                                                        \n",
       "1338   15      8  2024         TI Safe                        4  A massive cyberattack disrupted Iran's Central...     Financial           Financial                            5  Banking and Finance         Financial                         13  The Central Bank of Iran suffered a major cybe...            4.0  Severe disruptions in Iran's banking system, w...  <a href='https://www.israelhayom.com/2024/08/1...       0     1          0       0              0              0\n",
       "1337   15      8  2024         TI Safe                        4  A previously unknown threat actor, dubbed Acto...        Public              Public                            9            Gpver,emt        Government                         14  In July 2024, a newly identified threat actor,...            4.0  Compromise of sensitive diplomatic data throug...  <a href='https://thehackernews.com/2024/08/new...       0     1          0       1              0              0"
      ]
     },
     "execution_count": 70,
     "metadata": {},
     "output_type": "execute_result"
    }
   ],
   "source": [
    "df.head(2)"
   ]
  },
  {
   "cell_type": "markdown",
   "metadata": {},
   "source": [
    "#### Tratamiento de variables continuas.\n",
    "Para continuar con nuestro estudio, empezaremos evaluando las variables continuas que en nuestra lista han salido de tipo `object`. Primeramente, evaluamos las variables de tipo objecto."
   ]
  },
  {
   "cell_type": "code",
   "execution_count": 71,
   "metadata": {},
   "outputs": [],
   "source": [
    "v_categoricas_cont = list(df[v_continuas].dtypes[df[v_continuas].dtypes == 'object'].index)"
   ]
  },
  {
   "cell_type": "code",
   "execution_count": 72,
   "metadata": {},
   "outputs": [
    {
     "data": {
      "text/plain": [
       "attack_description      1221\n",
       "attack_details           727\n",
       "impact                   645\n",
       "link_at_the_internet     963\n",
       "dtype: int64"
      ]
     },
     "execution_count": 72,
     "metadata": {},
     "output_type": "execute_result"
    }
   ],
   "source": [
    "df[v_categoricas_cont].nunique()"
   ]
  },
  {
   "cell_type": "code",
   "execution_count": 73,
   "metadata": {},
   "outputs": [
    {
     "data": {
      "text/html": [
       "<div>\n",
       "<style scoped>\n",
       "    .dataframe tbody tr th:only-of-type {\n",
       "        vertical-align: middle;\n",
       "    }\n",
       "\n",
       "    .dataframe tbody tr th {\n",
       "        vertical-align: top;\n",
       "    }\n",
       "\n",
       "    .dataframe thead th {\n",
       "        text-align: right;\n",
       "    }\n",
       "</style>\n",
       "<table border=\"1\" class=\"dataframe\">\n",
       "  <thead>\n",
       "    <tr style=\"text-align: right;\">\n",
       "      <th></th>\n",
       "      <th>attack_description</th>\n",
       "      <th>attack_details</th>\n",
       "      <th>impact</th>\n",
       "      <th>link_at_the_internet</th>\n",
       "    </tr>\n",
       "  </thead>\n",
       "  <tbody>\n",
       "    <tr>\n",
       "      <th>count</th>\n",
       "      <td>1238</td>\n",
       "      <td>1238</td>\n",
       "      <td>1238</td>\n",
       "      <td>1238</td>\n",
       "    </tr>\n",
       "    <tr>\n",
       "      <th>unique</th>\n",
       "      <td>1221</td>\n",
       "      <td>727</td>\n",
       "      <td>645</td>\n",
       "      <td>963</td>\n",
       "    </tr>\n",
       "    <tr>\n",
       "      <th>top</th>\n",
       "      <td>Hacker attack on Dolomiti Energia</td>\n",
       "      <td>Ransomware Attack - Blocking or encrypting mac...</td>\n",
       "      <td>Data leakage</td>\n",
       "      <td>&lt;a href='http://www.ibtimes.co.uk/wannacry-lis...</td>\n",
       "    </tr>\n",
       "    <tr>\n",
       "      <th>freq</th>\n",
       "      <td>2</td>\n",
       "      <td>511</td>\n",
       "      <td>553</td>\n",
       "      <td>226</td>\n",
       "    </tr>\n",
       "  </tbody>\n",
       "</table>\n",
       "</div>"
      ],
      "text/plain": [
       "                       attack_description                                     attack_details        impact                               link_at_the_internet\n",
       "count                                1238                                               1238          1238                                               1238\n",
       "unique                               1221                                                727           645                                                963\n",
       "top     Hacker attack on Dolomiti Energia  Ransomware Attack - Blocking or encrypting mac...  Data leakage  <a href='http://www.ibtimes.co.uk/wannacry-lis...\n",
       "freq                                    2                                                511           553                                                226"
      ]
     },
     "execution_count": 73,
     "metadata": {},
     "output_type": "execute_result"
    }
   ],
   "source": [
    "df[v_categoricas_cont].describe(include='all')"
   ]
  },
  {
   "cell_type": "markdown",
   "metadata": {},
   "source": [
    "##### **Attack Description, Attack Details e Impact.**\n",
    "La columna contiene valores que en su mayoría son únicos, lo que sugiere que actúa más como un identificador que como una característica con patrones generales útiles para el modelo. Transformarla directamente podría generar un exceso de categorías o introducir relaciones artificiales entre los valores, lo que podría afectar negativamente el rendimiento del modelo. Por este motivo, es mejor no transformar esta columna y evaluar su relevancia antes de incluirla en el análisis.\n"
   ]
  },
  {
   "cell_type": "code",
   "execution_count": 74,
   "metadata": {},
   "outputs": [
    {
     "data": {
      "text/plain": [
       "1221"
      ]
     },
     "execution_count": 74,
     "metadata": {},
     "output_type": "execute_result"
    }
   ],
   "source": [
    "df['attack_description'].nunique()"
   ]
  },
  {
   "cell_type": "code",
   "execution_count": 75,
   "metadata": {},
   "outputs": [
    {
     "data": {
      "text/plain": [
       "727"
      ]
     },
     "execution_count": 75,
     "metadata": {},
     "output_type": "execute_result"
    }
   ],
   "source": [
    "df['attack_details'].nunique()"
   ]
  },
  {
   "cell_type": "code",
   "execution_count": 76,
   "metadata": {},
   "outputs": [
    {
     "data": {
      "text/plain": [
       "645"
      ]
     },
     "execution_count": 76,
     "metadata": {},
     "output_type": "execute_result"
    }
   ],
   "source": [
    "df['impact'].nunique()"
   ]
  },
  {
   "cell_type": "markdown",
   "metadata": {},
   "source": [
    "##### **Link at the internet.**\n",
    "Deberemos de extraer el nombre del dominio de la URL."
   ]
  },
  {
   "cell_type": "code",
   "execution_count": 77,
   "metadata": {},
   "outputs": [],
   "source": [
    "def extract_url(link_html):\n",
    "    if pd.isna(link_html) or link_html == '':\n",
    "        return None\n",
    "    # Usar una expresión regular para encontrar la URL\n",
    "    match = re.search(r'href=[\\'\"]?([^\\'\" >]+)', link_html)\n",
    "    return match.group(1) if match else None"
   ]
  },
  {
   "cell_type": "code",
   "execution_count": 78,
   "metadata": {},
   "outputs": [],
   "source": [
    "def obtain_domain(url):\n",
    "    if pd.isna(url) or url == '':\n",
    "        return None\n",
    "    try:\n",
    "        # Extraer el dominio\n",
    "        return urlparse(url).netloc\n",
    "    except Exception as e:\n",
    "        print(f\"Error procesando la URL: {url}, Error: {e}\")\n",
    "        return None"
   ]
  },
  {
   "cell_type": "code",
   "execution_count": 79,
   "metadata": {},
   "outputs": [],
   "source": [
    "df['link_at_the_internet'] = df['link_at_the_internet'].apply(extract_url)\n",
    "df['link_at_the_internet'] = df['link_at_the_internet'].apply(obtain_domain)\n",
    "df['link_at_the_internet'] = df['link_at_the_internet'].str.replace('www.', '', regex=False)"
   ]
  },
  {
   "cell_type": "code",
   "execution_count": 80,
   "metadata": {},
   "outputs": [
    {
     "data": {
      "text/html": [
       "<div>\n",
       "<style scoped>\n",
       "    .dataframe tbody tr th:only-of-type {\n",
       "        vertical-align: middle;\n",
       "    }\n",
       "\n",
       "    .dataframe tbody tr th {\n",
       "        vertical-align: top;\n",
       "    }\n",
       "\n",
       "    .dataframe thead th {\n",
       "        text-align: right;\n",
       "    }\n",
       "</style>\n",
       "<table border=\"1\" class=\"dataframe\">\n",
       "  <thead>\n",
       "    <tr style=\"text-align: right;\">\n",
       "      <th></th>\n",
       "      <th>day</th>\n",
       "      <th>month</th>\n",
       "      <th>year</th>\n",
       "      <th>source_database</th>\n",
       "      <th>source_database_encoded</th>\n",
       "      <th>attack_description</th>\n",
       "      <th>industry_type</th>\n",
       "      <th>industry_type_group</th>\n",
       "      <th>industry_type_group_encoded</th>\n",
       "      <th>subcategory</th>\n",
       "      <th>subcategory_group</th>\n",
       "      <th>subcategory_group_encoded</th>\n",
       "      <th>attack_details</th>\n",
       "      <th>ti_safe_score</th>\n",
       "      <th>impact</th>\n",
       "      <th>link_at_the_internet</th>\n",
       "      <th>Africa</th>\n",
       "      <th>Asia</th>\n",
       "      <th>Australia</th>\n",
       "      <th>Europe</th>\n",
       "      <th>North America</th>\n",
       "      <th>South America</th>\n",
       "    </tr>\n",
       "    <tr>\n",
       "      <th>id</th>\n",
       "      <th></th>\n",
       "      <th></th>\n",
       "      <th></th>\n",
       "      <th></th>\n",
       "      <th></th>\n",
       "      <th></th>\n",
       "      <th></th>\n",
       "      <th></th>\n",
       "      <th></th>\n",
       "      <th></th>\n",
       "      <th></th>\n",
       "      <th></th>\n",
       "      <th></th>\n",
       "      <th></th>\n",
       "      <th></th>\n",
       "      <th></th>\n",
       "      <th></th>\n",
       "      <th></th>\n",
       "      <th></th>\n",
       "      <th></th>\n",
       "      <th></th>\n",
       "      <th></th>\n",
       "    </tr>\n",
       "  </thead>\n",
       "  <tbody>\n",
       "    <tr>\n",
       "      <th>1338</th>\n",
       "      <td>15</td>\n",
       "      <td>8</td>\n",
       "      <td>2024</td>\n",
       "      <td>TI Safe</td>\n",
       "      <td>4</td>\n",
       "      <td>A massive cyberattack disrupted Iran's Central...</td>\n",
       "      <td>Financial</td>\n",
       "      <td>Financial</td>\n",
       "      <td>5</td>\n",
       "      <td>Banking and Finance</td>\n",
       "      <td>Financial</td>\n",
       "      <td>13</td>\n",
       "      <td>The Central Bank of Iran suffered a major cybe...</td>\n",
       "      <td>4.0</td>\n",
       "      <td>Severe disruptions in Iran's banking system, w...</td>\n",
       "      <td>israelhayom.com</td>\n",
       "      <td>0</td>\n",
       "      <td>1</td>\n",
       "      <td>0</td>\n",
       "      <td>0</td>\n",
       "      <td>0</td>\n",
       "      <td>0</td>\n",
       "    </tr>\n",
       "    <tr>\n",
       "      <th>1337</th>\n",
       "      <td>15</td>\n",
       "      <td>8</td>\n",
       "      <td>2024</td>\n",
       "      <td>TI Safe</td>\n",
       "      <td>4</td>\n",
       "      <td>A previously unknown threat actor, dubbed Acto...</td>\n",
       "      <td>Public</td>\n",
       "      <td>Public</td>\n",
       "      <td>9</td>\n",
       "      <td>Gpver,emt</td>\n",
       "      <td>Government</td>\n",
       "      <td>14</td>\n",
       "      <td>In July 2024, a newly identified threat actor,...</td>\n",
       "      <td>4.0</td>\n",
       "      <td>Compromise of sensitive diplomatic data throug...</td>\n",
       "      <td>thehackernews.com</td>\n",
       "      <td>0</td>\n",
       "      <td>1</td>\n",
       "      <td>0</td>\n",
       "      <td>1</td>\n",
       "      <td>0</td>\n",
       "      <td>0</td>\n",
       "    </tr>\n",
       "  </tbody>\n",
       "</table>\n",
       "</div>"
      ],
      "text/plain": [
       "      day  month  year source_database  source_database_encoded                                 attack_description industry_type industry_type_group  industry_type_group_encoded          subcategory subcategory_group  subcategory_group_encoded                                     attack_details  ti_safe_score                                             impact link_at_the_internet  Africa  Asia  Australia  Europe  North America  South America\n",
       "id                                                                                                                                                                                                                                                                                                                                                                                                                                                          \n",
       "1338   15      8  2024         TI Safe                        4  A massive cyberattack disrupted Iran's Central...     Financial           Financial                            5  Banking and Finance         Financial                         13  The Central Bank of Iran suffered a major cybe...            4.0  Severe disruptions in Iran's banking system, w...      israelhayom.com       0     1          0       0              0              0\n",
       "1337   15      8  2024         TI Safe                        4  A previously unknown threat actor, dubbed Acto...        Public              Public                            9            Gpver,emt        Government                         14  In July 2024, a newly identified threat actor,...            4.0  Compromise of sensitive diplomatic data throug...    thehackernews.com       0     1          0       1              0              0"
      ]
     },
     "execution_count": 80,
     "metadata": {},
     "output_type": "execute_result"
    }
   ],
   "source": [
    "df.head(2)"
   ]
  },
  {
   "cell_type": "code",
   "execution_count": 81,
   "metadata": {},
   "outputs": [],
   "source": [
    "df.to_csv('data/TISAFE_cleaned.csv')"
   ]
  },
  {
   "cell_type": "markdown",
   "metadata": {},
   "source": [
    "## Modelos de clasificación."
   ]
  },
  {
   "cell_type": "code",
   "execution_count": 82,
   "metadata": {},
   "outputs": [],
   "source": [
    "df_1 = df.drop(list(df.select_dtypes(include=['object']).columns), axis = 1)"
   ]
  },
  {
   "cell_type": "code",
   "execution_count": 83,
   "metadata": {},
   "outputs": [
    {
     "data": {
      "text/plain": [
       "day                              int64\n",
       "month                            int64\n",
       "year                             int64\n",
       "source_database_encoded          int32\n",
       "industry_type_group_encoded      int32\n",
       "subcategory_group_encoded        int32\n",
       "ti_safe_score                  float64\n",
       "Africa                           int64\n",
       "Asia                             int64\n",
       "Australia                        int64\n",
       "Europe                           int64\n",
       "North America                    int64\n",
       "South America                    int64\n",
       "dtype: object"
      ]
     },
     "execution_count": 83,
     "metadata": {},
     "output_type": "execute_result"
    }
   ],
   "source": [
    "df_1.dtypes"
   ]
  },
  {
   "cell_type": "code",
   "execution_count": 84,
   "metadata": {},
   "outputs": [
    {
     "data": {
      "text/plain": [
       "day                            31\n",
       "month                          12\n",
       "year                           36\n",
       "source_database_encoded         5\n",
       "industry_type_group_encoded    12\n",
       "subcategory_group_encoded      26\n",
       "ti_safe_score                   6\n",
       "Africa                          2\n",
       "Asia                            2\n",
       "Australia                       2\n",
       "Europe                          2\n",
       "North America                   2\n",
       "South America                   2\n",
       "dtype: int64"
      ]
     },
     "execution_count": 84,
     "metadata": {},
     "output_type": "execute_result"
    }
   ],
   "source": [
    "df_1.nunique()"
   ]
  },
  {
   "cell_type": "markdown",
   "metadata": {},
   "source": [
    "### Modelos de Clasificación Supervisado.\n",
    "La columna **TI Safe Score** es valiosa para predecir ciberataques porque representa el nivel de seguridad de un sistema, donde valores más bajos podrían indicar mayor vulnerabilidad. Usarla como variable objetivo permite al modelo identificar qué sistemas tienen mayor probabilidad de ser atacados, clasificándolos como de \"alto riesgo\" o \"bajo riesgo\" según su puntaje.\n",
    "\n",
    "Este enfoque facilita priorizar recursos y estrategias de defensa, enfocándose en los sistemas más críticos. Además, el modelo podría revelar patrones asociados con la vulnerabilidad, como la frecuencia de ataques previos, características técnicas del sistema o la falta de actualizaciones. En resumen, predecir **TI Safe Score** permite anticipar riesgos y fortalecer la ciberseguridad de forma proactiva."
   ]
  },
  {
   "cell_type": "code",
   "execution_count": 85,
   "metadata": {},
   "outputs": [
    {
     "data": {
      "text/plain": [
       "array([4., 2., 3., 5., 1., 0.])"
      ]
     },
     "execution_count": 85,
     "metadata": {},
     "output_type": "execute_result"
    }
   ],
   "source": [
    "df_1['ti_safe_score'].unique()"
   ]
  },
  {
   "cell_type": "code",
   "execution_count": 86,
   "metadata": {},
   "outputs": [],
   "source": [
    "df_1['ti_safe_score_binary'] = df_1['ti_safe_score'].apply(lambda x: 1 if x >= 3 else 0) # 1: Alto, 0: Bajo"
   ]
  },
  {
   "cell_type": "code",
   "execution_count": 87,
   "metadata": {},
   "outputs": [],
   "source": [
    "results = pd.DataFrame(columns=['Model', 'Tipo', 'Accuracy', 'Recall'])\n",
    "results['Tipo'] = ['Binary']"
   ]
  },
  {
   "cell_type": "markdown",
   "metadata": {},
   "source": [
    "#### Matriz de correlación."
   ]
  },
  {
   "cell_type": "code",
   "execution_count": 88,
   "metadata": {},
   "outputs": [
    {
     "data": {
      "image/png": "[encoded data removed]",
      "text/plain": [
       "<Figure size 1000x800 with 2 Axes>"
      ]
     },
     "metadata": {},
     "output_type": "display_data"
    }
   ],
   "source": [
    "correlation_matrix = df_1.drop(columns=['ti_safe_score_binary'], axis=True).corr()\n",
    "\n",
    "plt.figure(figsize=(10, 8))\n",
    "sns.heatmap(correlation_matrix, annot=True, cmap=denexus_palette, fmt=\".2f\")\n",
    "plt.title('Correlation Matrix between Continuous Variables')\n",
    "plt.show()"
   ]
  },
  {
   "cell_type": "markdown",
   "metadata": {},
   "source": [
    "##### División en Conjuntos de Entrenamiento y Prueba."
   ]
  },
  {
   "cell_type": "code",
   "execution_count": 89,
   "metadata": {},
   "outputs": [],
   "source": [
    "X = df_1.drop(['ti_safe_score_binary', 'ti_safe_score'], axis=1)\n",
    "y = df_1['ti_safe_score_binary']"
   ]
  },
  {
   "cell_type": "code",
   "execution_count": 90,
   "metadata": {},
   "outputs": [],
   "source": [
    "X_train, X_test, y_train, y_test = train_test_split(X, y, test_size=0.3, random_state=42)"
   ]
  },
  {
   "cell_type": "code",
   "execution_count": 91,
   "metadata": {},
   "outputs": [
    {
     "data": {
      "text/plain": [
       "1    827\n",
       "0     39\n",
       "Name: ti_safe_score_binary, dtype: int64"
      ]
     },
     "execution_count": 91,
     "metadata": {},
     "output_type": "execute_result"
    }
   ],
   "source": [
    "y_train.value_counts()"
   ]
  },
  {
   "cell_type": "code",
   "execution_count": 92,
   "metadata": {},
   "outputs": [
    {
     "data": {
      "text/plain": [
       "1    352\n",
       "0     20\n",
       "Name: ti_safe_score_binary, dtype: int64"
      ]
     },
     "execution_count": 92,
     "metadata": {},
     "output_type": "execute_result"
    }
   ],
   "source": [
    "y_test.value_counts()"
   ]
  },
  {
   "cell_type": "markdown",
   "metadata": {},
   "source": [
    "#### Manejo de variables desbalanceadas.\n",
    "Dado el desbalance de clases en el conjunto de entrenamiento, vamos a aplicar **Random Over-Sampling (ROS)** para equilibrar las clases minoritarias. Esta técnica aumenta la representación de las clases menos frecuentes duplicando aleatoriamente sus instancias, lo que permite que el modelo aprenda de manera más equitativa."
   ]
  },
  {
   "cell_type": "code",
   "execution_count": 96,
   "metadata": {},
   "outputs": [],
   "source": [
    "ros = RandomOverSampler(random_state=42)\n",
    "X_train_ros, y_train_ros = ros.fit_resample(X_train, y_train)"
   ]
  },
  {
   "cell_type": "markdown",
   "metadata": {},
   "source": [
    "#### Entrenamiento y Evaluación de Modelos.\n",
    "En este apartado entrenaremos modelos para predecir el nivel de seguridad de los sistemas, representado por **TI Safe Score**. Este puntaje indica vulnerabilidad, donde valores bajos sugieren mayor riesgo de ciberataques. Los modelos permitirán identificar sistemas críticos, priorizar recursos y fortalecer la defensa contra amenazas."
   ]
  },
  {
   "cell_type": "markdown",
   "metadata": {},
   "source": [
    "##### **Naive Bayes.**\n",
    "Naive Bayes es un algoritmo de aprendizaje automático supervisado que se basa en el teorema de Bayes y asume la independencia de las características. Es un modelo de clasificación que se utiliza para predecir la probabilidad de que un dato pertenezca a una clase en particular."
   ]
  },
  {
   "cell_type": "code",
   "execution_count": 97,
   "metadata": {},
   "outputs": [
    {
     "data": {
      "text/html": [
       "<style>#sk-container-id-2 {\n",
       "  /* Definition of color scheme common for light and dark mode */\n",
       "  --sklearn-color-text: black;\n",
       "  --sklearn-color-line: gray;\n",
       "  /* Definition of color scheme for unfitted estimators */\n",
       "  --sklearn-color-unfitted-level-0: #fff5e6;\n",
       "  --sklearn-color-unfitted-level-1: #f6e4d2;\n",
       "  --sklearn-color-unfitted-level-2: #ffe0b3;\n",
       "  --sklearn-color-unfitted-level-3: chocolate;\n",
       "  /* Definition of color scheme for fitted estimators */\n",
       "  --sklearn-color-fitted-level-0: #f0f8ff;\n",
       "  --sklearn-color-fitted-level-1: #d4ebff;\n",
       "  --sklearn-color-fitted-level-2: #b3dbfd;\n",
       "  --sklearn-color-fitted-level-3: cornflowerblue;\n",
       "\n",
       "  /* Specific color for light theme */\n",
       "  --sklearn-color-text-on-default-background: var(--sg-text-color, var(--theme-code-foreground, var(--jp-content-font-color1, black)));\n",
       "  --sklearn-color-background: var(--sg-background-color, var(--theme-background, var(--jp-layout-color0, white)));\n",
       "  --sklearn-color-border-box: var(--sg-text-color, var(--theme-code-foreground, var(--jp-content-font-color1, black)));\n",
       "  --sklearn-color-icon: #696969;\n",
       "\n",
       "  @media (prefers-color-scheme: dark) {\n",
       "    /* Redefinition of color scheme for dark theme */\n",
       "    --sklearn-color-text-on-default-background: var(--sg-text-color, var(--theme-code-foreground, var(--jp-content-font-color1, white)));\n",
       "    --sklearn-color-background: var(--sg-background-color, var(--theme-background, var(--jp-layout-color0, #111)));\n",
       "    --sklearn-color-border-box: var(--sg-text-color, var(--theme-code-foreground, var(--jp-content-font-color1, white)));\n",
       "    --sklearn-color-icon: #878787;\n",
       "  }\n",
       "}\n",
       "\n",
       "#sk-container-id-2 {\n",
       "  color: var(--sklearn-color-text);\n",
       "}\n",
       "\n",
       "#sk-container-id-2 pre {\n",
       "  padding: 0;\n",
       "}\n",
       "\n",
       "#sk-container-id-2 input.sk-hidden--visually {\n",
       "  border: 0;\n",
       "  clip: rect(1px 1px 1px 1px);\n",
       "  clip: rect(1px, 1px, 1px, 1px);\n",
       "  height: 1px;\n",
       "  margin: -1px;\n",
       "  overflow: hidden;\n",
       "  padding: 0;\n",
       "  position: absolute;\n",
       "  width: 1px;\n",
       "}\n",
       "\n",
       "#sk-container-id-2 div.sk-dashed-wrapped {\n",
       "  border: 1px dashed var(--sklearn-color-line);\n",
       "  margin: 0 0.4em 0.5em 0.4em;\n",
       "  box-sizing: border-box;\n",
       "  padding-bottom: 0.4em;\n",
       "  background-color: var(--sklearn-color-background);\n",
       "}\n",
       "\n",
       "#sk-container-id-2 div.sk-container {\n",
       "  /* jupyter's `normalize.less` sets `[hidden] { display: none; }`\n",
       "     but bootstrap.min.css set `[hidden] { display: none !important; }`\n",
       "     so we also need the `!important` here to be able to override the\n",
       "     default hidden behavior on the sphinx rendered scikit-learn.org.\n",
       "     See: https://github.com/scikit-learn/scikit-learn/issues/21755 */\n",
       "  display: inline-block !important;\n",
       "  position: relative;\n",
       "}\n",
       "\n",
       "#sk-container-id-2 div.sk-text-repr-fallback {\n",
       "  display: none;\n",
       "}\n",
       "\n",
       "div.sk-parallel-item,\n",
       "div.sk-serial,\n",
       "div.sk-item {\n",
       "  /* draw centered vertical line to link estimators */\n",
       "  background-image: linear-gradient(var(--sklearn-color-text-on-default-background), var(--sklearn-color-text-on-default-background));\n",
       "  background-size: 2px 100%;\n",
       "  background-repeat: no-repeat;\n",
       "  background-position: center center;\n",
       "}\n",
       "\n",
       "/* Parallel-specific style estimator block */\n",
       "\n",
       "#sk-container-id-2 div.sk-parallel-item::after {\n",
       "  content: \"\";\n",
       "  width: 100%;\n",
       "  border-bottom: 2px solid var(--sklearn-color-text-on-default-background);\n",
       "  flex-grow: 1;\n",
       "}\n",
       "\n",
       "#sk-container-id-2 div.sk-parallel {\n",
       "  display: flex;\n",
       "  align-items: stretch;\n",
       "  justify-content: center;\n",
       "  background-color: var(--sklearn-color-background);\n",
       "  position: relative;\n",
       "}\n",
       "\n",
       "#sk-container-id-2 div.sk-parallel-item {\n",
       "  display: flex;\n",
       "  flex-direction: column;\n",
       "}\n",
       "\n",
       "#sk-container-id-2 div.sk-parallel-item:first-child::after {\n",
       "  align-self: flex-end;\n",
       "  width: 50%;\n",
       "}\n",
       "\n",
       "#sk-container-id-2 div.sk-parallel-item:last-child::after {\n",
       "  align-self: flex-start;\n",
       "  width: 50%;\n",
       "}\n",
       "\n",
       "#sk-container-id-2 div.sk-parallel-item:only-child::after {\n",
       "  width: 0;\n",
       "}\n",
       "\n",
       "/* Serial-specific style estimator block */\n",
       "\n",
       "#sk-container-id-2 div.sk-serial {\n",
       "  display: flex;\n",
       "  flex-direction: column;\n",
       "  align-items: center;\n",
       "  background-color: var(--sklearn-color-background);\n",
       "  padding-right: 1em;\n",
       "  padding-left: 1em;\n",
       "}\n",
       "\n",
       "\n",
       "/* Toggleable style: style used for estimator/Pipeline/ColumnTransformer box that is\n",
       "clickable and can be expanded/collapsed.\n",
       "- Pipeline and ColumnTransformer use this feature and define the default style\n",
       "- Estimators will overwrite some part of the style using the `sk-estimator` class\n",
       "*/\n",
       "\n",
       "/* Pipeline and ColumnTransformer style (default) */\n",
       "\n",
       "#sk-container-id-2 div.sk-toggleable {\n",
       "  /* Default theme specific background. It is overwritten whether we have a\n",
       "  specific estimator or a Pipeline/ColumnTransformer */\n",
       "  background-color: var(--sklearn-color-background);\n",
       "}\n",
       "\n",
       "/* Toggleable label */\n",
       "#sk-container-id-2 label.sk-toggleable__label {\n",
       "  cursor: pointer;\n",
       "  display: block;\n",
       "  width: 100%;\n",
       "  margin-bottom: 0;\n",
       "  padding: 0.5em;\n",
       "  box-sizing: border-box;\n",
       "  text-align: center;\n",
       "}\n",
       "\n",
       "#sk-container-id-2 label.sk-toggleable__label-arrow:before {\n",
       "  /* Arrow on the left of the label */\n",
       "  content: \"▸\";\n",
       "  float: left;\n",
       "  margin-right: 0.25em;\n",
       "  color: var(--sklearn-color-icon);\n",
       "}\n",
       "\n",
       "#sk-container-id-2 label.sk-toggleable__label-arrow:hover:before {\n",
       "  color: var(--sklearn-color-text);\n",
       "}\n",
       "\n",
       "/* Toggleable content - dropdown */\n",
       "\n",
       "#sk-container-id-2 div.sk-toggleable__content {\n",
       "  max-height: 0;\n",
       "  max-width: 0;\n",
       "  overflow: hidden;\n",
       "  text-align: left;\n",
       "  /* unfitted */\n",
       "  background-color: var(--sklearn-color-unfitted-level-0);\n",
       "}\n",
       "\n",
       "#sk-container-id-2 div.sk-toggleable__content.fitted {\n",
       "  /* fitted */\n",
       "  background-color: var(--sklearn-color-fitted-level-0);\n",
       "}\n",
       "\n",
       "#sk-container-id-2 div.sk-toggleable__content pre {\n",
       "  margin: 0.2em;\n",
       "  border-radius: 0.25em;\n",
       "  color: var(--sklearn-color-text);\n",
       "  /* unfitted */\n",
       "  background-color: var(--sklearn-color-unfitted-level-0);\n",
       "}\n",
       "\n",
       "#sk-container-id-2 div.sk-toggleable__content.fitted pre {\n",
       "  /* unfitted */\n",
       "  background-color: var(--sklearn-color-fitted-level-0);\n",
       "}\n",
       "\n",
       "#sk-container-id-2 input.sk-toggleable__control:checked~div.sk-toggleable__content {\n",
       "  /* Expand drop-down */\n",
       "  max-height: 200px;\n",
       "  max-width: 100%;\n",
       "  overflow: auto;\n",
       "}\n",
       "\n",
       "#sk-container-id-2 input.sk-toggleable__control:checked~label.sk-toggleable__label-arrow:before {\n",
       "  content: \"▾\";\n",
       "}\n",
       "\n",
       "/* Pipeline/ColumnTransformer-specific style */\n",
       "\n",
       "#sk-container-id-2 div.sk-label input.sk-toggleable__control:checked~label.sk-toggleable__label {\n",
       "  color: var(--sklearn-color-text);\n",
       "  background-color: var(--sklearn-color-unfitted-level-2);\n",
       "}\n",
       "\n",
       "#sk-container-id-2 div.sk-label.fitted input.sk-toggleable__control:checked~label.sk-toggleable__label {\n",
       "  background-color: var(--sklearn-color-fitted-level-2);\n",
       "}\n",
       "\n",
       "/* Estimator-specific style */\n",
       "\n",
       "/* Colorize estimator box */\n",
       "#sk-container-id-2 div.sk-estimator input.sk-toggleable__control:checked~label.sk-toggleable__label {\n",
       "  /* unfitted */\n",
       "  background-color: var(--sklearn-color-unfitted-level-2);\n",
       "}\n",
       "\n",
       "#sk-container-id-2 div.sk-estimator.fitted input.sk-toggleable__control:checked~label.sk-toggleable__label {\n",
       "  /* fitted */\n",
       "  background-color: var(--sklearn-color-fitted-level-2);\n",
       "}\n",
       "\n",
       "#sk-container-id-2 div.sk-label label.sk-toggleable__label,\n",
       "#sk-container-id-2 div.sk-label label {\n",
       "  /* The background is the default theme color */\n",
       "  color: var(--sklearn-color-text-on-default-background);\n",
       "}\n",
       "\n",
       "/* On hover, darken the color of the background */\n",
       "#sk-container-id-2 div.sk-label:hover label.sk-toggleable__label {\n",
       "  color: var(--sklearn-color-text);\n",
       "  background-color: var(--sklearn-color-unfitted-level-2);\n",
       "}\n",
       "\n",
       "/* Label box, darken color on hover, fitted */\n",
       "#sk-container-id-2 div.sk-label.fitted:hover label.sk-toggleable__label.fitted {\n",
       "  color: var(--sklearn-color-text);\n",
       "  background-color: var(--sklearn-color-fitted-level-2);\n",
       "}\n",
       "\n",
       "/* Estimator label */\n",
       "\n",
       "#sk-container-id-2 div.sk-label label {\n",
       "  font-family: monospace;\n",
       "  font-weight: bold;\n",
       "  display: inline-block;\n",
       "  line-height: 1.2em;\n",
       "}\n",
       "\n",
       "#sk-container-id-2 div.sk-label-container {\n",
       "  text-align: center;\n",
       "}\n",
       "\n",
       "/* Estimator-specific */\n",
       "#sk-container-id-2 div.sk-estimator {\n",
       "  font-family: monospace;\n",
       "  border: 1px dotted var(--sklearn-color-border-box);\n",
       "  border-radius: 0.25em;\n",
       "  box-sizing: border-box;\n",
       "  margin-bottom: 0.5em;\n",
       "  /* unfitted */\n",
       "  background-color: var(--sklearn-color-unfitted-level-0);\n",
       "}\n",
       "\n",
       "#sk-container-id-2 div.sk-estimator.fitted {\n",
       "  /* fitted */\n",
       "  background-color: var(--sklearn-color-fitted-level-0);\n",
       "}\n",
       "\n",
       "/* on hover */\n",
       "#sk-container-id-2 div.sk-estimator:hover {\n",
       "  /* unfitted */\n",
       "  background-color: var(--sklearn-color-unfitted-level-2);\n",
       "}\n",
       "\n",
       "#sk-container-id-2 div.sk-estimator.fitted:hover {\n",
       "  /* fitted */\n",
       "  background-color: var(--sklearn-color-fitted-level-2);\n",
       "}\n",
       "\n",
       "/* Specification for estimator info (e.g. \"i\" and \"?\") */\n",
       "\n",
       "/* Common style for \"i\" and \"?\" */\n",
       "\n",
       ".sk-estimator-doc-link,\n",
       "a:link.sk-estimator-doc-link,\n",
       "a:visited.sk-estimator-doc-link {\n",
       "  float: right;\n",
       "  font-size: smaller;\n",
       "  line-height: 1em;\n",
       "  font-family: monospace;\n",
       "  background-color: var(--sklearn-color-background);\n",
       "  border-radius: 1em;\n",
       "  height: 1em;\n",
       "  width: 1em;\n",
       "  text-decoration: none !important;\n",
       "  margin-left: 1ex;\n",
       "  /* unfitted */\n",
       "  border: var(--sklearn-color-unfitted-level-1) 1pt solid;\n",
       "  color: var(--sklearn-color-unfitted-level-1);\n",
       "}\n",
       "\n",
       ".sk-estimator-doc-link.fitted,\n",
       "a:link.sk-estimator-doc-link.fitted,\n",
       "a:visited.sk-estimator-doc-link.fitted {\n",
       "  /* fitted */\n",
       "  border: var(--sklearn-color-fitted-level-1) 1pt solid;\n",
       "  color: var(--sklearn-color-fitted-level-1);\n",
       "}\n",
       "\n",
       "/* On hover */\n",
       "div.sk-estimator:hover .sk-estimator-doc-link:hover,\n",
       ".sk-estimator-doc-link:hover,\n",
       "div.sk-label-container:hover .sk-estimator-doc-link:hover,\n",
       ".sk-estimator-doc-link:hover {\n",
       "  /* unfitted */\n",
       "  background-color: var(--sklearn-color-unfitted-level-3);\n",
       "  color: var(--sklearn-color-background);\n",
       "  text-decoration: none;\n",
       "}\n",
       "\n",
       "div.sk-estimator.fitted:hover .sk-estimator-doc-link.fitted:hover,\n",
       ".sk-estimator-doc-link.fitted:hover,\n",
       "div.sk-label-container:hover .sk-estimator-doc-link.fitted:hover,\n",
       ".sk-estimator-doc-link.fitted:hover {\n",
       "  /* fitted */\n",
       "  background-color: var(--sklearn-color-fitted-level-3);\n",
       "  color: var(--sklearn-color-background);\n",
       "  text-decoration: none;\n",
       "}\n",
       "\n",
       "/* Span, style for the box shown on hovering the info icon */\n",
       ".sk-estimator-doc-link span {\n",
       "  display: none;\n",
       "  z-index: 9999;\n",
       "  position: relative;\n",
       "  font-weight: normal;\n",
       "  right: .2ex;\n",
       "  padding: .5ex;\n",
       "  margin: .5ex;\n",
       "  width: min-content;\n",
       "  min-width: 20ex;\n",
       "  max-width: 50ex;\n",
       "  color: var(--sklearn-color-text);\n",
       "  box-shadow: 2pt 2pt 4pt #999;\n",
       "  /* unfitted */\n",
       "  background: var(--sklearn-color-unfitted-level-0);\n",
       "  border: .5pt solid var(--sklearn-color-unfitted-level-3);\n",
       "}\n",
       "\n",
       ".sk-estimator-doc-link.fitted span {\n",
       "  /* fitted */\n",
       "  background: var(--sklearn-color-fitted-level-0);\n",
       "  border: var(--sklearn-color-fitted-level-3);\n",
       "}\n",
       "\n",
       ".sk-estimator-doc-link:hover span {\n",
       "  display: block;\n",
       "}\n",
       "\n",
       "/* \"?\"-specific style due to the `<a>` HTML tag */\n",
       "\n",
       "#sk-container-id-2 a.estimator_doc_link {\n",
       "  float: right;\n",
       "  font-size: 1rem;\n",
       "  line-height: 1em;\n",
       "  font-family: monospace;\n",
       "  background-color: var(--sklearn-color-background);\n",
       "  border-radius: 1rem;\n",
       "  height: 1rem;\n",
       "  width: 1rem;\n",
       "  text-decoration: none;\n",
       "  /* unfitted */\n",
       "  color: var(--sklearn-color-unfitted-level-1);\n",
       "  border: var(--sklearn-color-unfitted-level-1) 1pt solid;\n",
       "}\n",
       "\n",
       "#sk-container-id-2 a.estimator_doc_link.fitted {\n",
       "  /* fitted */\n",
       "  border: var(--sklearn-color-fitted-level-1) 1pt solid;\n",
       "  color: var(--sklearn-color-fitted-level-1);\n",
       "}\n",
       "\n",
       "/* On hover */\n",
       "#sk-container-id-2 a.estimator_doc_link:hover {\n",
       "  /* unfitted */\n",
       "  background-color: var(--sklearn-color-unfitted-level-3);\n",
       "  color: var(--sklearn-color-background);\n",
       "  text-decoration: none;\n",
       "}\n",
       "\n",
       "#sk-container-id-2 a.estimator_doc_link.fitted:hover {\n",
       "  /* fitted */\n",
       "  background-color: var(--sklearn-color-fitted-level-3);\n",
       "}\n",
       "</style><div id=\"sk-container-id-2\" class=\"sk-top-container\"><div class=\"sk-text-repr-fallback\"><pre>GaussianNB()</pre><b>In a Jupyter environment, please rerun this cell to show the HTML representation or trust the notebook. <br />On GitHub, the HTML representation is unable to render, please try loading this page with nbviewer.org.</b></div><div class=\"sk-container\" hidden><div class=\"sk-item\"><div class=\"sk-estimator fitted sk-toggleable\"><input class=\"sk-toggleable__control sk-hidden--visually\" id=\"sk-estimator-id-2\" type=\"checkbox\" checked><label for=\"sk-estimator-id-2\" class=\"sk-toggleable__label fitted sk-toggleable__label-arrow fitted\">&nbsp;&nbsp;GaussianNB<a class=\"sk-estimator-doc-link fitted\" rel=\"noreferrer\" target=\"_blank\" href=\"https://scikit-learn.org/1.5/modules/generated/sklearn.naive_bayes.GaussianNB.html\">?<span>Documentation for GaussianNB</span></a><span class=\"sk-estimator-doc-link fitted\">i<span>Fitted</span></span></label><div class=\"sk-toggleable__content fitted\"><pre>GaussianNB()</pre></div> </div></div></div></div>"
      ],
      "text/plain": [
       "GaussianNB()"
      ]
     },
     "execution_count": 97,
     "metadata": {},
     "output_type": "execute_result"
    }
   ],
   "source": [
    "from sklearn.naive_bayes import GaussianNB\n",
    "nb_model = GaussianNB()\n",
    "nb_model.fit(X_train_ros, y_train_ros)"
   ]
  },
  {
   "cell_type": "code",
   "execution_count": 98,
   "metadata": {},
   "outputs": [
    {
     "name": "stdout",
     "output_type": "stream",
     "text": [
      "Train set score (Accuracy) = 0.6656590084643289\n",
      "Test set score (Accuracy) = 0.7338709677419355\n",
      "╒══════════════╤════════════════╤════════════════╕\n",
      "│              │   Pred Class 0 │   Pred Class 1 │\n",
      "╞══════════════╪════════════════╪════════════════╡\n",
      "│ Real Class 0 │             13 │              7 │\n",
      "├──────────────┼────────────────┼────────────────┤\n",
      "│ Real Class 1 │             92 │            260 │\n",
      "╘══════════════╧════════════════╧════════════════╛\n",
      "\n",
      "Classification Report:\n",
      "              precision    recall  f1-score   support\n",
      "\n",
      "           0       0.12      0.65      0.21        20\n",
      "           1       0.97      0.74      0.84       352\n",
      "\n",
      "    accuracy                           0.73       372\n",
      "   macro avg       0.55      0.69      0.52       372\n",
      "weighted avg       0.93      0.73      0.81       372\n",
      "\n"
     ]
    }
   ],
   "source": [
    "print(\"Train set score (Accuracy) =\", nb_model.score(X_train_ros, y_train_ros))\n",
    "print(\"Test set score (Accuracy) =\", nb_model.score(X_test, y_test))\n",
    "\n",
    "conf_mat = confusion_matrix(y_test, nb_model.predict(X_test))\n",
    "\n",
    "num_classes = conf_mat.shape[0]\n",
    "\n",
    "print(tabulate(\n",
    "    conf_mat,\n",
    "    headers=[f'Pred Class {i}' for i in range(num_classes)],\n",
    "    showindex=[f'Real Class {i}' for i in range(num_classes)],\n",
    "    tablefmt='fancy_grid'\n",
    "))\n",
    "\n",
    "print(\"\\nClassification Report:\")\n",
    "print(classification_report(y_test, nb_model.predict(X_test)))"
   ]
  },
  {
   "cell_type": "code",
   "execution_count": 99,
   "metadata": {},
   "outputs": [
    {
     "data": {
      "image/png": "[encoded data removed]",
      "text/plain": [
       "<Figure size 800x600 with 2 Axes>"
      ]
     },
     "metadata": {},
     "output_type": "display_data"
    }
   ],
   "source": [
    "class_labels = [f'Class {i}' for i in range(conf_mat.shape[0])]\n",
    "\n",
    "plt.figure(figsize=(8, 6))\n",
    "sns.heatmap(conf_mat, annot=True, fmt='d', cmap=denexus_palette,\n",
    "            xticklabels=class_labels, yticklabels=class_labels, cbar=True)\n",
    "plt.title('Confusion Matrix - Naive Bayes Classifier')\n",
    "plt.xlabel('Predicted Class')\n",
    "plt.ylabel('Actual Class')\n",
    "plt.tight_layout()\n",
    "# Guardar el gráfico en la carpeta 'plots'.\n",
    "output_dir = \"plots\"\n",
    "if os.path.exists(output_dir) and os.path.isdir(output_dir):\n",
    "    output_path = os.path.join(output_dir, \"confusion-matrix_decision-nb.png\")\n",
    "    plt.savefig(output_path)\n",
    "plt.show()"
   ]
  },
  {
   "cell_type": "markdown",
   "metadata": {},
   "source": [
    "#### Curva ROC.\n",
    "La curva **ROC** (Receiver Operating Characteristic) es una representación gráfica utilizada para evaluar el rendimiento de un modelo de clasificación binaria. Muestra la relación entre la tasa de verdaderos positivos (**TPR**) y la tasa de falsos positivos (**FPR**) a medida que varía el umbral de decisión del modelo.\n",
    "\n",
    "Un modelo perfecto tendrá una curva que pase cerca del vértice superior izquierdo (**FPR**=0, **TPR**=1), indicando un rendimiento ideal. El área bajo la curva (**AUC** - Area Under the Curve) resume en un único valor qué tan bien el modelo discrimina entre las dos clases, donde un valor de 1 indica un modelo perfecto y 0.5 sugiere un rendimiento aleatorio."
   ]
  },
  {
   "cell_type": "code",
   "execution_count": 104,
   "metadata": {},
   "outputs": [],
   "source": [
    "y_prob_nb = nb_model.predict_proba(X_test)[:, 1]"
   ]
  },
  {
   "cell_type": "code",
   "execution_count": 105,
   "metadata": {},
   "outputs": [],
   "source": [
    "# Calcular FPR, TPR y el AUC.\n",
    "fpr_nb, tpr_nb, _ = roc_curve(y_test, y_prob_nb)\n",
    "roc_auc_nb = auc(fpr_nb, tpr_nb)"
   ]
  },
  {
   "cell_type": "code",
   "execution_count": 106,
   "metadata": {},
   "outputs": [
    {
     "data": {
      "image/png": "[encoded data removed]",
      "text/plain": [
       "<Figure size 800x600 with 1 Axes>"
      ]
     },
     "metadata": {},
     "output_type": "display_data"
    }
   ],
   "source": [
    "plt.figure(figsize=(8, 6))\n",
    "plt.plot(fpr_nb, tpr_nb, label=f'ROC Curve RF (AUC = {roc_auc_nb:.2f})', color=denexus_colors[1])\n",
    "plt.plot([0, 1], [0, 1], color=denexus_colors[3], linestyle='--', label='Random Classifier')\n",
    "plt.title('ROC Curve - Naive Bayes Classifier')\n",
    "plt.xlabel('False Positive Rate')\n",
    "plt.ylabel('True Positive Rate')\n",
    "plt.legend()\n",
    "plt.tight_layout()\n",
    "# Guardar el gráfico en la carpeta 'plots'.\n",
    "output_dir = \"plots\"\n",
    "if os.path.exists(output_dir) and os.path.isdir(output_dir):\n",
    "    output_path = os.path.join(output_dir, \"roc-curve_decision-nb.png\")\n",
    "    plt.savefig(output_path)\n",
    "plt.show()"
   ]
  },
  {
   "cell_type": "markdown",
   "metadata": {},
   "source": [
    "#### Resultados."
   ]
  },
  {
   "cell_type": "code",
   "execution_count": 100,
   "metadata": {},
   "outputs": [],
   "source": [
    "nb_pred = nb_model.predict(X_test)"
   ]
  },
  {
   "cell_type": "code",
   "execution_count": 101,
   "metadata": {},
   "outputs": [],
   "source": [
    "nb_precision = precision_score(y_test, nb_pred, average='weighted')\n",
    "nb_recall = recall_score(y_test, nb_pred, average='weighted')"
   ]
  },
  {
   "cell_type": "code",
   "execution_count": 102,
   "metadata": {},
   "outputs": [],
   "source": [
    "results['Model'] = ['Naive Bayes']\n",
    "results['Accuracy'] = [nb_precision]\n",
    "results['Recall'] = [nb_recall]"
   ]
  },
  {
   "cell_type": "code",
   "execution_count": 103,
   "metadata": {},
   "outputs": [
    {
     "data": {
      "text/html": [
       "<div>\n",
       "<style scoped>\n",
       "    .dataframe tbody tr th:only-of-type {\n",
       "        vertical-align: middle;\n",
       "    }\n",
       "\n",
       "    .dataframe tbody tr th {\n",
       "        vertical-align: top;\n",
       "    }\n",
       "\n",
       "    .dataframe thead th {\n",
       "        text-align: right;\n",
       "    }\n",
       "</style>\n",
       "<table border=\"1\" class=\"dataframe\">\n",
       "  <thead>\n",
       "    <tr style=\"text-align: right;\">\n",
       "      <th></th>\n",
       "      <th>Model</th>\n",
       "      <th>Tipo</th>\n",
       "      <th>Accuracy</th>\n",
       "      <th>Recall</th>\n",
       "    </tr>\n",
       "  </thead>\n",
       "  <tbody>\n",
       "    <tr>\n",
       "      <th>0</th>\n",
       "      <td>Naive Bayes</td>\n",
       "      <td>Binary</td>\n",
       "      <td>0.928085</td>\n",
       "      <td>0.733871</td>\n",
       "    </tr>\n",
       "  </tbody>\n",
       "</table>\n",
       "</div>"
      ],
      "text/plain": [
       "         Model    Tipo  Accuracy    Recall\n",
       "0  Naive Bayes  Binary  0.928085  0.733871"
      ]
     },
     "execution_count": 103,
     "metadata": {},
     "output_type": "execute_result"
    }
   ],
   "source": [
    "results"
   ]
  },
  {
   "cell_type": "markdown",
   "metadata": {},
   "source": [
    "## Gráficas generales."
   ]
  },
  {
   "cell_type": "markdown",
   "metadata": {},
   "source": [
    "### Distribución de ciberataques por año."
   ]
  },
  {
   "cell_type": "code",
   "execution_count": 760,
   "metadata": {},
   "outputs": [
    {
     "data": {
      "image/png": "[encoded data removed]",
      "text/plain": [
       "<Figure size 800x500 with 1 Axes>"
      ]
     },
     "metadata": {},
     "output_type": "display_data"
    }
   ],
   "source": [
    "plt.figure(figsize=(8, 5))\n",
    "df['year'].value_counts().sort_index().plot(kind='bar', color=denexus_colors, width=0.8)\n",
    "plt.title('Distribution of cyberattacks by year')\n",
    "plt.xlabel('Year')\n",
    "plt.ylabel('Frequency')\n",
    "plt.xticks(rotation=45, ha='right') \n",
    "plt.tight_layout()\n",
    "# Guardar el gráfico en la carpeta 'plots'.\n",
    "output_dir = \"plots\"\n",
    "if os.path.exists(output_dir) and os.path.isdir(output_dir):\n",
    "    output_path = os.path.join(output_dir, \"distribution-attacks-year.png\")\n",
    "    plt.savefig(output_path)\n",
    "plt.show()"
   ]
  },
  {
   "cell_type": "markdown",
   "metadata": {},
   "source": [
    "### Histograma de Subcategory."
   ]
  },
  {
   "cell_type": "code",
   "execution_count": 762,
   "metadata": {},
   "outputs": [
    {
     "data": {
      "image/png": "[encoded data removed]",
      "text/plain": [
       "<Figure size 1000x600 with 1 Axes>"
      ]
     },
     "metadata": {},
     "output_type": "display_data"
    }
   ],
   "source": [
    "# Histograma 'subcategory'\n",
    "plt.figure(figsize=(10, 6))\n",
    "df['industry_type_group'].value_counts().plot(kind='bar', color=denexus_colors)\n",
    "plt.title('Distribution of Cyberattacks by Industry Types')\n",
    "plt.xlabel('Grouped Category')\n",
    "plt.ylabel('Frequency')\n",
    "plt.xticks(rotation=45, ha='right')\n",
    "plt.tight_layout()\n",
    "# Guardar el gráfico en la carpeta 'plots'.\n",
    "output_dir = \"plots\"\n",
    "if os.path.exists(output_dir) and os.path.isdir(output_dir):\n",
    "    output_path = os.path.join(output_dir, \"histogram-subcategory.png\")\n",
    "    plt.savefig(output_path)\n",
    "plt.show()"
   ]
  },
  {
   "cell_type": "code",
   "execution_count": 763,
   "metadata": {},
   "outputs": [
    {
     "data": {
      "image/png": "[encoded data removed]",
      "text/plain": [
       "<Figure size 800x800 with 1 Axes>"
      ]
     },
     "metadata": {},
     "output_type": "display_data"
    }
   ],
   "source": [
    "continent_counts = df[['Africa', 'Asia', 'Australia', 'Europe', 'North America', 'South America']].sum()\n",
    "continent_labels = continent_counts.index\n",
    "\n",
    "plt.figure(figsize=(8, 8))\n",
    "plt.pie(\n",
    "    continent_counts,\n",
    "    labels=continent_labels,\n",
    "    colors=denexus_colors[:len(continent_counts)],\n",
    "    startangle=90,\n",
    "    wedgeprops={'edgecolor': 'white'},\n",
    "    textprops={'fontsize': 10}\n",
    ")\n",
    "plt.title('Distribution of Cyberattacks by Continents', fontsize=14)\n",
    "plt.tight_layout()\n",
    "\n",
    "# Guardar el gráfico en la carpeta 'plots'.\n",
    "output_dir = \"plots\"\n",
    "if os.path.exists(output_dir) and os.path.isdir(output_dir):\n",
    "    output_path = os.path.join(output_dir, \"cyber-attacks-continent.png\")\n",
    "    plt.savefig(output_path)\n",
    "plt.show()"
   ]
  }
 ],
 "metadata": {
  "kernelspec": {
   "display_name": "base",
   "language": "python",
   "name": "python3"
  },
  "language_info": {
   "codemirror_mode": {
    "name": "ipython",
    "version": 3
   },
   "file_extension": ".py",
   "mimetype": "text/x-python",
   "name": "python",
   "nbconvert_exporter": "python",
   "pygments_lexer": "ipython3",
   "version": "3.9.13"
  }
 },
 "nbformat": 4,
 "nbformat_minor": 2
}
