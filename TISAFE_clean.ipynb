{
 "cells": [
  {
   "cell_type": "markdown",
   "metadata": {},
   "source": [
    "# TISAFE.\n",
    "Este CSV contiene datos sobre ciberataques, incluyendo información como la fecha, el país de origen, el tipo de ataque, la industria afectada y una puntuación de riesgo. Estos datos se utilizan para analizar tendencias y patrones en incidentes de ciberseguridad a nivel global\n"
   ]
  },
  {
   "cell_type": "markdown",
   "metadata": {},
   "source": [
    "### Importación de librerias."
   ]
  },
  {
   "cell_type": "code",
   "execution_count": 521,
   "metadata": {},
   "outputs": [],
   "source": [
    "import pandas as pd\n",
    "import matplotlib.pyplot as plt\n",
    "import seaborn as sns\n",
    "from sklearn.preprocessing import LabelEncoder\n",
    "import re\n",
    "from urllib.parse import urlparse\n",
    "from sklearn.model_selection import train_test_split\n",
    "from sklearn.preprocessing import StandardScaler\n",
    "from sklearn.ensemble import RandomForestClassifier\n",
    "from sklearn.model_selection import train_test_split, cross_val_score\n",
    "from sklearn.tree import DecisionTreeClassifier\n",
    "from sklearn.linear_model import LogisticRegression\n",
    "# Ajustar configuraciones de Pandas\n",
    "pd.set_option('display.max_columns', None)\n",
    "pd.set_option('display.width', 1000)"
   ]
  },
  {
   "cell_type": "markdown",
   "metadata": {},
   "source": [
    "### Importación e información del dataframe"
   ]
  },
  {
   "cell_type": "code",
   "execution_count": 522,
   "metadata": {},
   "outputs": [
    {
     "data": {
      "text/html": [
       "<div>\n",
       "<style scoped>\n",
       "    .dataframe tbody tr th:only-of-type {\n",
       "        vertical-align: middle;\n",
       "    }\n",
       "\n",
       "    .dataframe tbody tr th {\n",
       "        vertical-align: top;\n",
       "    }\n",
       "\n",
       "    .dataframe thead th {\n",
       "        text-align: right;\n",
       "    }\n",
       "</style>\n",
       "<table border=\"1\" class=\"dataframe\">\n",
       "  <thead>\n",
       "    <tr style=\"text-align: right;\">\n",
       "      <th></th>\n",
       "      <th>date</th>\n",
       "      <th>year</th>\n",
       "      <th>source_database</th>\n",
       "      <th>origin</th>\n",
       "      <th>attack_vector</th>\n",
       "      <th>attack_description</th>\n",
       "      <th>country</th>\n",
       "      <th>industry_type</th>\n",
       "      <th>subcategory</th>\n",
       "      <th>attack_details</th>\n",
       "      <th>ti_safe_score</th>\n",
       "      <th>impact</th>\n",
       "      <th>link_at_the_internet</th>\n",
       "    </tr>\n",
       "    <tr>\n",
       "      <th>id</th>\n",
       "      <th></th>\n",
       "      <th></th>\n",
       "      <th></th>\n",
       "      <th></th>\n",
       "      <th></th>\n",
       "      <th></th>\n",
       "      <th></th>\n",
       "      <th></th>\n",
       "      <th></th>\n",
       "      <th></th>\n",
       "      <th></th>\n",
       "      <th></th>\n",
       "      <th></th>\n",
       "    </tr>\n",
       "  </thead>\n",
       "  <tbody>\n",
       "    <tr>\n",
       "      <th>1338</th>\n",
       "      <td>15/08/2025</td>\n",
       "      <td>2024</td>\n",
       "      <td>TI Safe</td>\n",
       "      <td>External</td>\n",
       "      <td>Ransomware attack</td>\n",
       "      <td>A massive cyberattack disrupted Iran's Central...</td>\n",
       "      <td>Iran</td>\n",
       "      <td>Financial</td>\n",
       "      <td>Banking and Finance</td>\n",
       "      <td>The Central Bank of Iran suffered a major cybe...</td>\n",
       "      <td>4.0</td>\n",
       "      <td>Severe disruptions in Iran's banking system, w...</td>\n",
       "      <td>&lt;a href='https://www.israelhayom.com/2024/08/1...</td>\n",
       "    </tr>\n",
       "    <tr>\n",
       "      <th>1337</th>\n",
       "      <td>15/08/2024</td>\n",
       "      <td>2024</td>\n",
       "      <td>TI Safe</td>\n",
       "      <td>External</td>\n",
       "      <td>Phishing attack</td>\n",
       "      <td>A previously unknown threat actor, dubbed Acto...</td>\n",
       "      <td>Azerbaijan and Israel</td>\n",
       "      <td>Public Services</td>\n",
       "      <td>Gpver,emt</td>\n",
       "      <td>In July 2024, a newly identified threat actor,...</td>\n",
       "      <td>4.0</td>\n",
       "      <td>Compromise of sensitive diplomatic data throug...</td>\n",
       "      <td>&lt;a href='https://thehackernews.com/2024/08/new...</td>\n",
       "    </tr>\n",
       "    <tr>\n",
       "      <th>1336</th>\n",
       "      <td>15/08/2024</td>\n",
       "      <td>2024</td>\n",
       "      <td>TI Safe</td>\n",
       "      <td>External</td>\n",
       "      <td>Cyberattack</td>\n",
       "      <td>The Iranian state-backed group APT42 launched ...</td>\n",
       "      <td>United States (and Israel)</td>\n",
       "      <td>Public Services</td>\n",
       "      <td>Government and Elections</td>\n",
       "      <td>Between February and late July 2024, APT42, a ...</td>\n",
       "      <td>4.0</td>\n",
       "      <td>Successful breaches of accounts across multipl...</td>\n",
       "      <td>&lt;a href='https://cybersecuritynews.com/iranian...</td>\n",
       "    </tr>\n",
       "    <tr>\n",
       "      <th>1335</th>\n",
       "      <td>14/08/2024</td>\n",
       "      <td>2024</td>\n",
       "      <td>TI Safe</td>\n",
       "      <td>External</td>\n",
       "      <td>Ransomware attack</td>\n",
       "      <td>The ThreeAM ransomware targeted Kootenai Healt...</td>\n",
       "      <td>United States</td>\n",
       "      <td>Health and Homecare services</td>\n",
       "      <td>Healthcare</td>\n",
       "      <td>The ThreeAM ransomware attack, which began on ...</td>\n",
       "      <td>4.0</td>\n",
       "      <td>Personal and medical data of 464,000 patients ...</td>\n",
       "      <td>&lt;a href='https://securityaffairs.com/167020/da...</td>\n",
       "    </tr>\n",
       "    <tr>\n",
       "      <th>1334</th>\n",
       "      <td>14/08/2024</td>\n",
       "      <td>2024</td>\n",
       "      <td>TI Safe</td>\n",
       "      <td>External</td>\n",
       "      <td>Phishing attack</td>\n",
       "      <td>The Brain Cipher ransomware group crippled Ind...</td>\n",
       "      <td>Indonesia</td>\n",
       "      <td>Government</td>\n",
       "      <td>Public Administration</td>\n",
       "      <td>Brain Cipher ransomware group targeted Indones...</td>\n",
       "      <td>4.0</td>\n",
       "      <td>Severe disruptions to government services and ...</td>\n",
       "      <td>&lt;a href='https://www.darkreading.com/threat-in...</td>\n",
       "    </tr>\n",
       "  </tbody>\n",
       "</table>\n",
       "</div>"
      ],
      "text/plain": [
       "            date  year source_database    origin       attack_vector                                 attack_description                     country                 industry_type               subcategory                                     attack_details  ti_safe_score                                             impact                               link_at_the_internet\n",
       "id                                                                                                                                                                                                                                                                                                                                                                                 \n",
       "1338  15/08/2025  2024         TI Safe  External  Ransomware attack   A massive cyberattack disrupted Iran's Central...                        Iran                     Financial       Banking and Finance  The Central Bank of Iran suffered a major cybe...            4.0  Severe disruptions in Iran's banking system, w...  <a href='https://www.israelhayom.com/2024/08/1...\n",
       "1337  15/08/2024  2024         TI Safe  External     Phishing attack  A previously unknown threat actor, dubbed Acto...       Azerbaijan and Israel              Public Services                  Gpver,emt  In July 2024, a newly identified threat actor,...            4.0  Compromise of sensitive diplomatic data throug...  <a href='https://thehackernews.com/2024/08/new...\n",
       "1336  15/08/2024  2024         TI Safe  External         Cyberattack  The Iranian state-backed group APT42 launched ...  United States (and Israel)              Public Services   Government and Elections  Between February and late July 2024, APT42, a ...            4.0  Successful breaches of accounts across multipl...  <a href='https://cybersecuritynews.com/iranian...\n",
       "1335  14/08/2024  2024         TI Safe  External  Ransomware attack   The ThreeAM ransomware targeted Kootenai Healt...               United States  Health and Homecare services                Healthcare  The ThreeAM ransomware attack, which began on ...            4.0  Personal and medical data of 464,000 patients ...  <a href='https://securityaffairs.com/167020/da...\n",
       "1334  14/08/2024  2024         TI Safe  External     Phishing attack  The Brain Cipher ransomware group crippled Ind...                   Indonesia                    Government     Public Administration  Brain Cipher ransomware group targeted Indones...            4.0  Severe disruptions to government services and ...  <a href='https://www.darkreading.com/threat-in..."
      ]
     },
     "execution_count": 522,
     "metadata": {},
     "output_type": "execute_result"
    }
   ],
   "source": [
    "df = pd.read_csv('data/TISAFE.csv', index_col=0) #tomamos la primera columna como índice\n",
    "df.head()"
   ]
  },
  {
   "cell_type": "code",
   "execution_count": 523,
   "metadata": {},
   "outputs": [
    {
     "data": {
      "text/plain": [
       "(1338, 13)"
      ]
     },
     "execution_count": 523,
     "metadata": {},
     "output_type": "execute_result"
    }
   ],
   "source": [
    "df.shape"
   ]
  },
  {
   "cell_type": "code",
   "execution_count": 524,
   "metadata": {},
   "outputs": [
    {
     "data": {
      "text/plain": [
       "date                     object\n",
       "year                      int64\n",
       "source_database          object\n",
       "origin                   object\n",
       "attack_vector            object\n",
       "attack_description       object\n",
       "country                  object\n",
       "industry_type            object\n",
       "subcategory              object\n",
       "attack_details           object\n",
       "ti_safe_score           float64\n",
       "impact                   object\n",
       "link_at_the_internet     object\n",
       "dtype: object"
      ]
     },
     "execution_count": 524,
     "metadata": {},
     "output_type": "execute_result"
    }
   ],
   "source": [
    "df.dtypes"
   ]
  },
  {
   "cell_type": "code",
   "execution_count": 525,
   "metadata": {},
   "outputs": [
    {
     "data": {
      "text/plain": [
       "Index(['date', 'year', 'source_database', 'origin', 'attack_vector', 'attack_description', 'country', 'industry_type', 'subcategory', 'attack_details', 'ti_safe_score', 'impact', 'link_at_the_internet'], dtype='object')"
      ]
     },
     "execution_count": 525,
     "metadata": {},
     "output_type": "execute_result"
    }
   ],
   "source": [
    "df.columns"
   ]
  },
  {
   "cell_type": "markdown",
   "metadata": {},
   "source": [
    "A continuación, se resume cada columna.\n",
    "\n",
    "1. **Date**: Fecha exacta en que ocurrió el ciberataque o se registró el incidente.\n",
    "\n",
    "2. **Year**: Año en que tuvo lugar el ataque, útil para analizar tendencias a lo largo del tiempo.\n",
    "\n",
    "3. **Source Database**:Fuente o base de datos de la que proviene la información sobre el ciberataque.\n",
    "\n",
    "4. **Origin**: Origen del ataque, como el país, la región o el actor responsable.\n",
    "\n",
    "5. **Attack Vector**: Método o vector utilizado para realizar el ataque, como phishing o exploits.\n",
    "\n",
    "6. **Attack Description**: Descripción resumida del ataque, explicando cómo fue llevado a cabo.\n",
    "\n",
    "7. **Country**: País o región donde se encontraba el objetivo o donde ocurrió el ataque.\n",
    "\n",
    "8. **Industry Type**: Tipo de industria o sector afectado, como tecnología, finanzas, gobierno, etc.\n",
    "\n",
    "9. **Subcategory**: Subdivisión que detalla más el tipo de ataque o la industria afectada.\n",
    "\n",
    "10. **Attack Details**: Información adicional y técnica sobre cómo se desarrolló el ataque.\n",
    "\n",
    "11. **TI Safe Score**: Puntaje que refleja el nivel de seguridad o protección del objetivo antes del ataque.\n",
    "\n",
    "12. **Impact**: Consecuencias del ataque, como pérdidas económicas o robo de información.\n",
    "\n",
    "13. **Link at the Internet**: Enlace a fuentes externas con más detalles sobre el ataque, como reportes o artículos.\n"
   ]
  },
  {
   "cell_type": "code",
   "execution_count": 526,
   "metadata": {},
   "outputs": [
    {
     "data": {
      "text/html": [
       "<div>\n",
       "<style scoped>\n",
       "    .dataframe tbody tr th:only-of-type {\n",
       "        vertical-align: middle;\n",
       "    }\n",
       "\n",
       "    .dataframe tbody tr th {\n",
       "        vertical-align: top;\n",
       "    }\n",
       "\n",
       "    .dataframe thead th {\n",
       "        text-align: right;\n",
       "    }\n",
       "</style>\n",
       "<table border=\"1\" class=\"dataframe\">\n",
       "  <thead>\n",
       "    <tr style=\"text-align: right;\">\n",
       "      <th></th>\n",
       "      <th>date</th>\n",
       "      <th>year</th>\n",
       "      <th>source_database</th>\n",
       "      <th>origin</th>\n",
       "      <th>attack_vector</th>\n",
       "      <th>attack_description</th>\n",
       "      <th>country</th>\n",
       "      <th>industry_type</th>\n",
       "      <th>subcategory</th>\n",
       "      <th>attack_details</th>\n",
       "      <th>ti_safe_score</th>\n",
       "      <th>impact</th>\n",
       "      <th>link_at_the_internet</th>\n",
       "    </tr>\n",
       "  </thead>\n",
       "  <tbody>\n",
       "    <tr>\n",
       "      <th>count</th>\n",
       "      <td>1338</td>\n",
       "      <td>1338.000000</td>\n",
       "      <td>1338</td>\n",
       "      <td>209</td>\n",
       "      <td>196</td>\n",
       "      <td>1338</td>\n",
       "      <td>1338</td>\n",
       "      <td>1337</td>\n",
       "      <td>1338</td>\n",
       "      <td>1305</td>\n",
       "      <td>669.000000</td>\n",
       "      <td>760</td>\n",
       "      <td>1123</td>\n",
       "    </tr>\n",
       "    <tr>\n",
       "      <th>unique</th>\n",
       "      <td>965</td>\n",
       "      <td>NaN</td>\n",
       "      <td>5</td>\n",
       "      <td>5</td>\n",
       "      <td>32</td>\n",
       "      <td>1320</td>\n",
       "      <td>113</td>\n",
       "      <td>58</td>\n",
       "      <td>117</td>\n",
       "      <td>762</td>\n",
       "      <td>NaN</td>\n",
       "      <td>708</td>\n",
       "      <td>1051</td>\n",
       "    </tr>\n",
       "    <tr>\n",
       "      <th>top</th>\n",
       "      <td>12/05/2017</td>\n",
       "      <td>NaN</td>\n",
       "      <td>CIRWA</td>\n",
       "      <td>External</td>\n",
       "      <td>Malware infection</td>\n",
       "      <td>Hacker attack on Dolomiti Energia</td>\n",
       "      <td>United States</td>\n",
       "      <td>Government facilities sector</td>\n",
       "      <td>Government Facilities</td>\n",
       "      <td>Ransomware Attack - Blocking or encrypting mac...</td>\n",
       "      <td>NaN</td>\n",
       "      <td>Data leakage</td>\n",
       "      <td>&lt;a href='http://www.ibtimes.co.uk/wannacry-lis...</td>\n",
       "    </tr>\n",
       "    <tr>\n",
       "      <th>freq</th>\n",
       "      <td>26</td>\n",
       "      <td>NaN</td>\n",
       "      <td>578</td>\n",
       "      <td>172</td>\n",
       "      <td>29</td>\n",
       "      <td>2</td>\n",
       "      <td>679</td>\n",
       "      <td>280</td>\n",
       "      <td>276</td>\n",
       "      <td>543</td>\n",
       "      <td>NaN</td>\n",
       "      <td>11</td>\n",
       "      <td>19</td>\n",
       "    </tr>\n",
       "    <tr>\n",
       "      <th>mean</th>\n",
       "      <td>NaN</td>\n",
       "      <td>2017.676383</td>\n",
       "      <td>NaN</td>\n",
       "      <td>NaN</td>\n",
       "      <td>NaN</td>\n",
       "      <td>NaN</td>\n",
       "      <td>NaN</td>\n",
       "      <td>NaN</td>\n",
       "      <td>NaN</td>\n",
       "      <td>NaN</td>\n",
       "      <td>3.515695</td>\n",
       "      <td>NaN</td>\n",
       "      <td>NaN</td>\n",
       "    </tr>\n",
       "    <tr>\n",
       "      <th>std</th>\n",
       "      <td>NaN</td>\n",
       "      <td>6.294141</td>\n",
       "      <td>NaN</td>\n",
       "      <td>NaN</td>\n",
       "      <td>NaN</td>\n",
       "      <td>NaN</td>\n",
       "      <td>NaN</td>\n",
       "      <td>NaN</td>\n",
       "      <td>NaN</td>\n",
       "      <td>NaN</td>\n",
       "      <td>0.967345</td>\n",
       "      <td>NaN</td>\n",
       "      <td>NaN</td>\n",
       "    </tr>\n",
       "    <tr>\n",
       "      <th>min</th>\n",
       "      <td>NaN</td>\n",
       "      <td>1982.000000</td>\n",
       "      <td>NaN</td>\n",
       "      <td>NaN</td>\n",
       "      <td>NaN</td>\n",
       "      <td>NaN</td>\n",
       "      <td>NaN</td>\n",
       "      <td>NaN</td>\n",
       "      <td>NaN</td>\n",
       "      <td>NaN</td>\n",
       "      <td>0.000000</td>\n",
       "      <td>NaN</td>\n",
       "      <td>NaN</td>\n",
       "    </tr>\n",
       "    <tr>\n",
       "      <th>25%</th>\n",
       "      <td>NaN</td>\n",
       "      <td>2017.000000</td>\n",
       "      <td>NaN</td>\n",
       "      <td>NaN</td>\n",
       "      <td>NaN</td>\n",
       "      <td>NaN</td>\n",
       "      <td>NaN</td>\n",
       "      <td>NaN</td>\n",
       "      <td>NaN</td>\n",
       "      <td>NaN</td>\n",
       "      <td>3.000000</td>\n",
       "      <td>NaN</td>\n",
       "      <td>NaN</td>\n",
       "    </tr>\n",
       "    <tr>\n",
       "      <th>50%</th>\n",
       "      <td>NaN</td>\n",
       "      <td>2020.000000</td>\n",
       "      <td>NaN</td>\n",
       "      <td>NaN</td>\n",
       "      <td>NaN</td>\n",
       "      <td>NaN</td>\n",
       "      <td>NaN</td>\n",
       "      <td>NaN</td>\n",
       "      <td>NaN</td>\n",
       "      <td>NaN</td>\n",
       "      <td>4.000000</td>\n",
       "      <td>NaN</td>\n",
       "      <td>NaN</td>\n",
       "    </tr>\n",
       "    <tr>\n",
       "      <th>75%</th>\n",
       "      <td>NaN</td>\n",
       "      <td>2021.000000</td>\n",
       "      <td>NaN</td>\n",
       "      <td>NaN</td>\n",
       "      <td>NaN</td>\n",
       "      <td>NaN</td>\n",
       "      <td>NaN</td>\n",
       "      <td>NaN</td>\n",
       "      <td>NaN</td>\n",
       "      <td>NaN</td>\n",
       "      <td>4.000000</td>\n",
       "      <td>NaN</td>\n",
       "      <td>NaN</td>\n",
       "    </tr>\n",
       "    <tr>\n",
       "      <th>max</th>\n",
       "      <td>NaN</td>\n",
       "      <td>2024.000000</td>\n",
       "      <td>NaN</td>\n",
       "      <td>NaN</td>\n",
       "      <td>NaN</td>\n",
       "      <td>NaN</td>\n",
       "      <td>NaN</td>\n",
       "      <td>NaN</td>\n",
       "      <td>NaN</td>\n",
       "      <td>NaN</td>\n",
       "      <td>5.000000</td>\n",
       "      <td>NaN</td>\n",
       "      <td>NaN</td>\n",
       "    </tr>\n",
       "  </tbody>\n",
       "</table>\n",
       "</div>"
      ],
      "text/plain": [
       "              date         year source_database    origin      attack_vector                 attack_description        country                  industry_type            subcategory                                     attack_details  ti_safe_score        impact                               link_at_the_internet\n",
       "count         1338  1338.000000            1338       209                196                               1338           1338                           1337                   1338                                               1305     669.000000           760                                               1123\n",
       "unique         965          NaN               5         5                 32                               1320            113                             58                    117                                                762            NaN           708                                               1051\n",
       "top     12/05/2017          NaN           CIRWA  External  Malware infection  Hacker attack on Dolomiti Energia  United States  Government facilities sector   Government Facilities  Ransomware Attack - Blocking or encrypting mac...            NaN  Data leakage  <a href='http://www.ibtimes.co.uk/wannacry-lis...\n",
       "freq            26          NaN             578       172                 29                                  2            679                            280                    276                                                543            NaN            11                                                 19\n",
       "mean           NaN  2017.676383             NaN       NaN                NaN                                NaN            NaN                            NaN                    NaN                                                NaN       3.515695           NaN                                                NaN\n",
       "std            NaN     6.294141             NaN       NaN                NaN                                NaN            NaN                            NaN                    NaN                                                NaN       0.967345           NaN                                                NaN\n",
       "min            NaN  1982.000000             NaN       NaN                NaN                                NaN            NaN                            NaN                    NaN                                                NaN       0.000000           NaN                                                NaN\n",
       "25%            NaN  2017.000000             NaN       NaN                NaN                                NaN            NaN                            NaN                    NaN                                                NaN       3.000000           NaN                                                NaN\n",
       "50%            NaN  2020.000000             NaN       NaN                NaN                                NaN            NaN                            NaN                    NaN                                                NaN       4.000000           NaN                                                NaN\n",
       "75%            NaN  2021.000000             NaN       NaN                NaN                                NaN            NaN                            NaN                    NaN                                                NaN       4.000000           NaN                                                NaN\n",
       "max            NaN  2024.000000             NaN       NaN                NaN                                NaN            NaN                            NaN                    NaN                                                NaN       5.000000           NaN                                                NaN"
      ]
     },
     "execution_count": 526,
     "metadata": {},
     "output_type": "execute_result"
    }
   ],
   "source": [
    "df.describe(include='all')"
   ]
  },
  {
   "cell_type": "markdown",
   "metadata": {},
   "source": [
    "### Limpieza de datos."
   ]
  },
  {
   "cell_type": "markdown",
   "metadata": {},
   "source": [
    "Se nos muestra que tiene un total de 13 columnas que deberemos de examinar para saber cuáles tener en cuenta a la hora de la realización de nuestro estudio y lo que significan cada una de ellas."
   ]
  },
  {
   "cell_type": "markdown",
   "metadata": {},
   "source": [
    "**Comprobación fechas**\n",
    "\n",
    "Si nos damos cuenta, en la primera fila hay una discrepancia entre el año que pone en la columna `Date` y el año que proporciona la columna `Year`. Es por ello, que analizaremos si hay mas casos para evaluar que columna interesa"
   ]
  },
  {
   "cell_type": "code",
   "execution_count": 527,
   "metadata": {},
   "outputs": [
    {
     "data": {
      "text/html": [
       "<div>\n",
       "<style scoped>\n",
       "    .dataframe tbody tr th:only-of-type {\n",
       "        vertical-align: middle;\n",
       "    }\n",
       "\n",
       "    .dataframe tbody tr th {\n",
       "        vertical-align: top;\n",
       "    }\n",
       "\n",
       "    .dataframe thead th {\n",
       "        text-align: right;\n",
       "    }\n",
       "</style>\n",
       "<table border=\"1\" class=\"dataframe\">\n",
       "  <thead>\n",
       "    <tr style=\"text-align: right;\">\n",
       "      <th></th>\n",
       "      <th>date</th>\n",
       "      <th>year_1</th>\n",
       "    </tr>\n",
       "    <tr>\n",
       "      <th>id</th>\n",
       "      <th></th>\n",
       "      <th></th>\n",
       "    </tr>\n",
       "  </thead>\n",
       "  <tbody>\n",
       "    <tr>\n",
       "      <th>1338</th>\n",
       "      <td>2025-08-15</td>\n",
       "      <td>2025</td>\n",
       "    </tr>\n",
       "    <tr>\n",
       "      <th>1337</th>\n",
       "      <td>2024-08-15</td>\n",
       "      <td>2024</td>\n",
       "    </tr>\n",
       "    <tr>\n",
       "      <th>1336</th>\n",
       "      <td>2024-08-15</td>\n",
       "      <td>2024</td>\n",
       "    </tr>\n",
       "    <tr>\n",
       "      <th>1335</th>\n",
       "      <td>2024-08-14</td>\n",
       "      <td>2024</td>\n",
       "    </tr>\n",
       "    <tr>\n",
       "      <th>1334</th>\n",
       "      <td>2024-08-14</td>\n",
       "      <td>2024</td>\n",
       "    </tr>\n",
       "  </tbody>\n",
       "</table>\n",
       "</div>"
      ],
      "text/plain": [
       "           date  year_1\n",
       "id                     \n",
       "1338 2025-08-15    2025\n",
       "1337 2024-08-15    2024\n",
       "1336 2024-08-15    2024\n",
       "1335 2024-08-14    2024\n",
       "1334 2024-08-14    2024"
      ]
     },
     "execution_count": 527,
     "metadata": {},
     "output_type": "execute_result"
    }
   ],
   "source": [
    "df['date'] = pd.to_datetime(df['date'], dayfirst=True ,errors='coerce')\n",
    "df['year_1'] = df['date'].dt.year\n",
    "\n",
    "df[['date', 'year_1']].head()"
   ]
  },
  {
   "cell_type": "code",
   "execution_count": 528,
   "metadata": {},
   "outputs": [
    {
     "name": "stdout",
     "output_type": "stream",
     "text": [
      "Hay 1 fila donde 'year' y 'year_1' son diferentes.\n"
     ]
    },
    {
     "data": {
      "text/html": [
       "<div>\n",
       "<style scoped>\n",
       "    .dataframe tbody tr th:only-of-type {\n",
       "        vertical-align: middle;\n",
       "    }\n",
       "\n",
       "    .dataframe tbody tr th {\n",
       "        vertical-align: top;\n",
       "    }\n",
       "\n",
       "    .dataframe thead th {\n",
       "        text-align: right;\n",
       "    }\n",
       "</style>\n",
       "<table border=\"1\" class=\"dataframe\">\n",
       "  <thead>\n",
       "    <tr style=\"text-align: right;\">\n",
       "      <th></th>\n",
       "      <th>year</th>\n",
       "      <th>year_1</th>\n",
       "    </tr>\n",
       "    <tr>\n",
       "      <th>id</th>\n",
       "      <th></th>\n",
       "      <th></th>\n",
       "    </tr>\n",
       "  </thead>\n",
       "  <tbody>\n",
       "    <tr>\n",
       "      <th>1338</th>\n",
       "      <td>2024</td>\n",
       "      <td>2025</td>\n",
       "    </tr>\n",
       "  </tbody>\n",
       "</table>\n",
       "</div>"
      ],
      "text/plain": [
       "      year  year_1\n",
       "id                \n",
       "1338  2024    2025"
      ]
     },
     "execution_count": 528,
     "metadata": {},
     "output_type": "execute_result"
    }
   ],
   "source": [
    "# Filtrar las filas donde year y year_1 son diferentes\n",
    "diferencias = df[df['year'] != df['year_1']]\n",
    "\n",
    "print(f\"Hay {diferencias.shape[0]} fila donde 'year' y 'year_1' son diferentes.\")\n",
    "diferencias[['year', 'year_1']].head()"
   ]
  },
  {
   "cell_type": "code",
   "execution_count": 529,
   "metadata": {},
   "outputs": [
    {
     "data": {
      "text/plain": [
       "Index(['date', 'year', 'source_database', 'origin', 'attack_vector', 'attack_description', 'country', 'industry_type', 'subcategory', 'attack_details', 'ti_safe_score', 'impact', 'link_at_the_internet', 'year_1'], dtype='object')"
      ]
     },
     "execution_count": 529,
     "metadata": {},
     "output_type": "execute_result"
    }
   ],
   "source": [
    "df.columns"
   ]
  },
  {
   "cell_type": "code",
   "execution_count": 530,
   "metadata": {},
   "outputs": [],
   "source": [
    "df['date'] = pd.to_datetime(df['date'], dayfirst=True, errors='coerce')\n",
    "df['day'] = df['date'].dt.day\n",
    "df['month'] = df['date'].dt.month\n",
    "# Usaremos la columna year para año (ya dada en el CSV).\n",
    "\n",
    "cols = ['date', 'day', 'month'] + [col for col in df.columns if col not in ['date', 'day', 'month']] # reorganizar columnas.\n",
    "df = df[cols]"
   ]
  },
  {
   "cell_type": "code",
   "execution_count": 531,
   "metadata": {},
   "outputs": [],
   "source": [
    "df.drop(['date', 'year_1'], axis=1, inplace=True)"
   ]
  },
  {
   "cell_type": "code",
   "execution_count": 532,
   "metadata": {},
   "outputs": [
    {
     "data": {
      "text/html": [
       "<div>\n",
       "<style scoped>\n",
       "    .dataframe tbody tr th:only-of-type {\n",
       "        vertical-align: middle;\n",
       "    }\n",
       "\n",
       "    .dataframe tbody tr th {\n",
       "        vertical-align: top;\n",
       "    }\n",
       "\n",
       "    .dataframe thead th {\n",
       "        text-align: right;\n",
       "    }\n",
       "</style>\n",
       "<table border=\"1\" class=\"dataframe\">\n",
       "  <thead>\n",
       "    <tr style=\"text-align: right;\">\n",
       "      <th></th>\n",
       "      <th>day</th>\n",
       "      <th>month</th>\n",
       "      <th>year</th>\n",
       "      <th>source_database</th>\n",
       "      <th>origin</th>\n",
       "      <th>attack_vector</th>\n",
       "      <th>attack_description</th>\n",
       "      <th>country</th>\n",
       "      <th>industry_type</th>\n",
       "      <th>subcategory</th>\n",
       "      <th>attack_details</th>\n",
       "      <th>ti_safe_score</th>\n",
       "      <th>impact</th>\n",
       "      <th>link_at_the_internet</th>\n",
       "    </tr>\n",
       "    <tr>\n",
       "      <th>id</th>\n",
       "      <th></th>\n",
       "      <th></th>\n",
       "      <th></th>\n",
       "      <th></th>\n",
       "      <th></th>\n",
       "      <th></th>\n",
       "      <th></th>\n",
       "      <th></th>\n",
       "      <th></th>\n",
       "      <th></th>\n",
       "      <th></th>\n",
       "      <th></th>\n",
       "      <th></th>\n",
       "      <th></th>\n",
       "    </tr>\n",
       "  </thead>\n",
       "  <tbody>\n",
       "    <tr>\n",
       "      <th>1338</th>\n",
       "      <td>15</td>\n",
       "      <td>8</td>\n",
       "      <td>2024</td>\n",
       "      <td>TI Safe</td>\n",
       "      <td>External</td>\n",
       "      <td>Ransomware attack</td>\n",
       "      <td>A massive cyberattack disrupted Iran's Central...</td>\n",
       "      <td>Iran</td>\n",
       "      <td>Financial</td>\n",
       "      <td>Banking and Finance</td>\n",
       "      <td>The Central Bank of Iran suffered a major cybe...</td>\n",
       "      <td>4.0</td>\n",
       "      <td>Severe disruptions in Iran's banking system, w...</td>\n",
       "      <td>&lt;a href='https://www.israelhayom.com/2024/08/1...</td>\n",
       "    </tr>\n",
       "    <tr>\n",
       "      <th>1337</th>\n",
       "      <td>15</td>\n",
       "      <td>8</td>\n",
       "      <td>2024</td>\n",
       "      <td>TI Safe</td>\n",
       "      <td>External</td>\n",
       "      <td>Phishing attack</td>\n",
       "      <td>A previously unknown threat actor, dubbed Acto...</td>\n",
       "      <td>Azerbaijan and Israel</td>\n",
       "      <td>Public Services</td>\n",
       "      <td>Gpver,emt</td>\n",
       "      <td>In July 2024, a newly identified threat actor,...</td>\n",
       "      <td>4.0</td>\n",
       "      <td>Compromise of sensitive diplomatic data throug...</td>\n",
       "      <td>&lt;a href='https://thehackernews.com/2024/08/new...</td>\n",
       "    </tr>\n",
       "    <tr>\n",
       "      <th>1336</th>\n",
       "      <td>15</td>\n",
       "      <td>8</td>\n",
       "      <td>2024</td>\n",
       "      <td>TI Safe</td>\n",
       "      <td>External</td>\n",
       "      <td>Cyberattack</td>\n",
       "      <td>The Iranian state-backed group APT42 launched ...</td>\n",
       "      <td>United States (and Israel)</td>\n",
       "      <td>Public Services</td>\n",
       "      <td>Government and Elections</td>\n",
       "      <td>Between February and late July 2024, APT42, a ...</td>\n",
       "      <td>4.0</td>\n",
       "      <td>Successful breaches of accounts across multipl...</td>\n",
       "      <td>&lt;a href='https://cybersecuritynews.com/iranian...</td>\n",
       "    </tr>\n",
       "    <tr>\n",
       "      <th>1335</th>\n",
       "      <td>14</td>\n",
       "      <td>8</td>\n",
       "      <td>2024</td>\n",
       "      <td>TI Safe</td>\n",
       "      <td>External</td>\n",
       "      <td>Ransomware attack</td>\n",
       "      <td>The ThreeAM ransomware targeted Kootenai Healt...</td>\n",
       "      <td>United States</td>\n",
       "      <td>Health and Homecare services</td>\n",
       "      <td>Healthcare</td>\n",
       "      <td>The ThreeAM ransomware attack, which began on ...</td>\n",
       "      <td>4.0</td>\n",
       "      <td>Personal and medical data of 464,000 patients ...</td>\n",
       "      <td>&lt;a href='https://securityaffairs.com/167020/da...</td>\n",
       "    </tr>\n",
       "    <tr>\n",
       "      <th>1334</th>\n",
       "      <td>14</td>\n",
       "      <td>8</td>\n",
       "      <td>2024</td>\n",
       "      <td>TI Safe</td>\n",
       "      <td>External</td>\n",
       "      <td>Phishing attack</td>\n",
       "      <td>The Brain Cipher ransomware group crippled Ind...</td>\n",
       "      <td>Indonesia</td>\n",
       "      <td>Government</td>\n",
       "      <td>Public Administration</td>\n",
       "      <td>Brain Cipher ransomware group targeted Indones...</td>\n",
       "      <td>4.0</td>\n",
       "      <td>Severe disruptions to government services and ...</td>\n",
       "      <td>&lt;a href='https://www.darkreading.com/threat-in...</td>\n",
       "    </tr>\n",
       "  </tbody>\n",
       "</table>\n",
       "</div>"
      ],
      "text/plain": [
       "      day  month  year source_database    origin       attack_vector                                 attack_description                     country                 industry_type               subcategory                                     attack_details  ti_safe_score                                             impact                               link_at_the_internet\n",
       "id                                                                                                                                                                                                                                                                                                                                                                                 \n",
       "1338   15      8  2024         TI Safe  External  Ransomware attack   A massive cyberattack disrupted Iran's Central...                        Iran                     Financial       Banking and Finance  The Central Bank of Iran suffered a major cybe...            4.0  Severe disruptions in Iran's banking system, w...  <a href='https://www.israelhayom.com/2024/08/1...\n",
       "1337   15      8  2024         TI Safe  External     Phishing attack  A previously unknown threat actor, dubbed Acto...       Azerbaijan and Israel              Public Services                  Gpver,emt  In July 2024, a newly identified threat actor,...            4.0  Compromise of sensitive diplomatic data throug...  <a href='https://thehackernews.com/2024/08/new...\n",
       "1336   15      8  2024         TI Safe  External         Cyberattack  The Iranian state-backed group APT42 launched ...  United States (and Israel)              Public Services   Government and Elections  Between February and late July 2024, APT42, a ...            4.0  Successful breaches of accounts across multipl...  <a href='https://cybersecuritynews.com/iranian...\n",
       "1335   14      8  2024         TI Safe  External  Ransomware attack   The ThreeAM ransomware targeted Kootenai Healt...               United States  Health and Homecare services                Healthcare  The ThreeAM ransomware attack, which began on ...            4.0  Personal and medical data of 464,000 patients ...  <a href='https://securityaffairs.com/167020/da...\n",
       "1334   14      8  2024         TI Safe  External     Phishing attack  The Brain Cipher ransomware group crippled Ind...                   Indonesia                    Government     Public Administration  Brain Cipher ransomware group targeted Indones...            4.0  Severe disruptions to government services and ...  <a href='https://www.darkreading.com/threat-in..."
      ]
     },
     "execution_count": 532,
     "metadata": {},
     "output_type": "execute_result"
    }
   ],
   "source": [
    "df.head()"
   ]
  },
  {
   "cell_type": "markdown",
   "metadata": {},
   "source": [
    "#### Manejo de filas duplicadas.\n",
    "En caso de haber filas duplicadas, deberemos de eliminar estas para que no afecten al análisis posterior."
   ]
  },
  {
   "cell_type": "code",
   "execution_count": 533,
   "metadata": {},
   "outputs": [
    {
     "data": {
      "text/plain": [
       "0"
      ]
     },
     "execution_count": 533,
     "metadata": {},
     "output_type": "execute_result"
    }
   ],
   "source": [
    "df.duplicated().sum() # Columnas duplicadas"
   ]
  },
  {
   "cell_type": "code",
   "execution_count": 534,
   "metadata": {},
   "outputs": [],
   "source": [
    "df.drop_duplicates(inplace=True)"
   ]
  },
  {
   "cell_type": "markdown",
   "metadata": {},
   "source": [
    "#### Manejo de filas nulas."
   ]
  },
  {
   "cell_type": "code",
   "execution_count": 535,
   "metadata": {},
   "outputs": [
    {
     "data": {
      "text/plain": [
       "day                        0\n",
       "month                      0\n",
       "year                       0\n",
       "source_database            0\n",
       "origin                  1129\n",
       "attack_vector           1142\n",
       "attack_description         0\n",
       "country                    0\n",
       "industry_type              1\n",
       "subcategory                0\n",
       "attack_details            33\n",
       "ti_safe_score            669\n",
       "impact                   578\n",
       "link_at_the_internet     215\n",
       "dtype: int64"
      ]
     },
     "execution_count": 535,
     "metadata": {},
     "output_type": "execute_result"
    }
   ],
   "source": [
    "df.isnull().sum() # Valores nulos"
   ]
  },
  {
   "cell_type": "code",
   "execution_count": 536,
   "metadata": {},
   "outputs": [
    {
     "data": {
      "text/plain": [
       "1338"
      ]
     },
     "execution_count": 536,
     "metadata": {},
     "output_type": "execute_result"
    }
   ],
   "source": [
    "df.shape[0]"
   ]
  },
  {
   "cell_type": "code",
   "execution_count": 537,
   "metadata": {},
   "outputs": [],
   "source": [
    "df.drop(['origin', 'attack_vector'], axis = 1, inplace = True)"
   ]
  },
  {
   "cell_type": "code",
   "execution_count": 538,
   "metadata": {},
   "outputs": [],
   "source": [
    "threshold = 0.4 * len(df.columns)\n",
    "df = df.dropna(thresh=threshold)"
   ]
  },
  {
   "cell_type": "code",
   "execution_count": 539,
   "metadata": {},
   "outputs": [],
   "source": [
    "df.dropna(subset=['attack_details', 'industry_type'], inplace=True)"
   ]
  },
  {
   "cell_type": "code",
   "execution_count": 540,
   "metadata": {},
   "outputs": [],
   "source": [
    "for i in ['link_at_the_internet', 'ti_safe_score', 'impact']:\n",
    "    if df[i].dtype == 'object':\n",
    "        df[i].fillna(df[i].mode()[0], inplace=True)\n",
    "    else:  # Si es una columna numérica\n",
    "        df[i].fillna(df[i].median(), inplace=True)"
   ]
  },
  {
   "cell_type": "markdown",
   "metadata": {},
   "source": [
    "### Selección de variables categóricas y continuas."
   ]
  },
  {
   "cell_type": "markdown",
   "metadata": {},
   "source": [
    "Para realizar correctamente un ánalisis de datos debemos de distinguir entre las variables categóricas, variables que representan diferentes categorías o grupos, y continuas, variables que pueden tomar cualquier valor dentro de un rango determinado."
   ]
  },
  {
   "cell_type": "code",
   "execution_count": 541,
   "metadata": {},
   "outputs": [
    {
     "name": "stdout",
     "output_type": "stream",
     "text": [
      "Variables continuas: day, month, year, attack_description, attack_details, ti_safe_score, impact, link_at_the_internet\n",
      "Variables categóricas: source_database, country, industry_type, subcategory\n"
     ]
    }
   ],
   "source": [
    "v_continuas = []\n",
    "v_categoricas = []\n",
    "for i in df.columns:\n",
    "    if len(df[i].unique()) > 150 or df[i].dtypes == 'float64' or df[i].dtypes == 'int64':\n",
    "        v_continuas.append(i)\n",
    "    else:\n",
    "        v_categoricas.append(i)\n",
    "\n",
    "print('Variables continuas: {}'.format(', '.join(v_continuas)))\n",
    "print('Variables categóricas: {}'.format(', '.join(v_categoricas)))"
   ]
  },
  {
   "cell_type": "code",
   "execution_count": 542,
   "metadata": {},
   "outputs": [
    {
     "data": {
      "text/plain": [
       "day                       31\n",
       "month                     12\n",
       "year                      36\n",
       "source_database            5\n",
       "attack_description      1286\n",
       "country                  111\n",
       "industry_type             56\n",
       "subcategory              101\n",
       "attack_details           762\n",
       "ti_safe_score              6\n",
       "impact                   677\n",
       "link_at_the_internet    1018\n",
       "dtype: int64"
      ]
     },
     "execution_count": 542,
     "metadata": {},
     "output_type": "execute_result"
    }
   ],
   "source": [
    "df.nunique()"
   ]
  },
  {
   "cell_type": "markdown",
   "metadata": {},
   "source": [
    "#### Tratamiento de variables categóricas.\n",
    "Para el posterior modelo de clasificación, necesitamos codificar nuestras variables object. Para ello, realizaremos una codificación ordinal que consiste en asignar valores enteros a las categorias basándose en su posición o jerarquía en los datos."
   ]
  },
  {
   "cell_type": "code",
   "execution_count": 543,
   "metadata": {},
   "outputs": [
    {
     "data": {
      "text/html": [
       "<div>\n",
       "<style scoped>\n",
       "    .dataframe tbody tr th:only-of-type {\n",
       "        vertical-align: middle;\n",
       "    }\n",
       "\n",
       "    .dataframe tbody tr th {\n",
       "        vertical-align: top;\n",
       "    }\n",
       "\n",
       "    .dataframe thead th {\n",
       "        text-align: right;\n",
       "    }\n",
       "</style>\n",
       "<table border=\"1\" class=\"dataframe\">\n",
       "  <thead>\n",
       "    <tr style=\"text-align: right;\">\n",
       "      <th></th>\n",
       "      <th>source_database</th>\n",
       "      <th>country</th>\n",
       "      <th>industry_type</th>\n",
       "      <th>subcategory</th>\n",
       "    </tr>\n",
       "    <tr>\n",
       "      <th>id</th>\n",
       "      <th></th>\n",
       "      <th></th>\n",
       "      <th></th>\n",
       "      <th></th>\n",
       "    </tr>\n",
       "  </thead>\n",
       "  <tbody>\n",
       "    <tr>\n",
       "      <th>1338</th>\n",
       "      <td>TI Safe</td>\n",
       "      <td>Iran</td>\n",
       "      <td>Financial</td>\n",
       "      <td>Banking and Finance</td>\n",
       "    </tr>\n",
       "    <tr>\n",
       "      <th>1337</th>\n",
       "      <td>TI Safe</td>\n",
       "      <td>Azerbaijan and Israel</td>\n",
       "      <td>Public Services</td>\n",
       "      <td>Gpver,emt</td>\n",
       "    </tr>\n",
       "    <tr>\n",
       "      <th>1336</th>\n",
       "      <td>TI Safe</td>\n",
       "      <td>United States (and Israel)</td>\n",
       "      <td>Public Services</td>\n",
       "      <td>Government and Elections</td>\n",
       "    </tr>\n",
       "  </tbody>\n",
       "</table>\n",
       "</div>"
      ],
      "text/plain": [
       "     source_database                     country     industry_type               subcategory\n",
       "id                                                                                          \n",
       "1338         TI Safe                        Iran         Financial       Banking and Finance\n",
       "1337         TI Safe       Azerbaijan and Israel  Public Services                  Gpver,emt\n",
       "1336         TI Safe  United States (and Israel)  Public Services   Government and Elections"
      ]
     },
     "execution_count": 543,
     "metadata": {},
     "output_type": "execute_result"
    }
   ],
   "source": [
    "df[v_categoricas].head(3)"
   ]
  },
  {
   "cell_type": "code",
   "execution_count": 544,
   "metadata": {},
   "outputs": [
    {
     "data": {
      "text/html": [
       "<div>\n",
       "<style scoped>\n",
       "    .dataframe tbody tr th:only-of-type {\n",
       "        vertical-align: middle;\n",
       "    }\n",
       "\n",
       "    .dataframe tbody tr th {\n",
       "        vertical-align: top;\n",
       "    }\n",
       "\n",
       "    .dataframe thead th {\n",
       "        text-align: right;\n",
       "    }\n",
       "</style>\n",
       "<table border=\"1\" class=\"dataframe\">\n",
       "  <thead>\n",
       "    <tr style=\"text-align: right;\">\n",
       "      <th></th>\n",
       "      <th>source_database</th>\n",
       "      <th>country</th>\n",
       "      <th>industry_type</th>\n",
       "      <th>subcategory</th>\n",
       "    </tr>\n",
       "  </thead>\n",
       "  <tbody>\n",
       "    <tr>\n",
       "      <th>count</th>\n",
       "      <td>1304</td>\n",
       "      <td>1304</td>\n",
       "      <td>1304</td>\n",
       "      <td>1304</td>\n",
       "    </tr>\n",
       "    <tr>\n",
       "      <th>unique</th>\n",
       "      <td>5</td>\n",
       "      <td>111</td>\n",
       "      <td>56</td>\n",
       "      <td>101</td>\n",
       "    </tr>\n",
       "    <tr>\n",
       "      <th>top</th>\n",
       "      <td>CIRWA</td>\n",
       "      <td>United States</td>\n",
       "      <td>Government facilities sector</td>\n",
       "      <td>Government Facilities</td>\n",
       "    </tr>\n",
       "    <tr>\n",
       "      <th>freq</th>\n",
       "      <td>576</td>\n",
       "      <td>672</td>\n",
       "      <td>280</td>\n",
       "      <td>276</td>\n",
       "    </tr>\n",
       "  </tbody>\n",
       "</table>\n",
       "</div>"
      ],
      "text/plain": [
       "       source_database        country                  industry_type            subcategory\n",
       "count             1304           1304                           1304                   1304\n",
       "unique               5            111                             56                    101\n",
       "top              CIRWA  United States  Government facilities sector   Government Facilities\n",
       "freq               576            672                            280                    276"
      ]
     },
     "execution_count": 544,
     "metadata": {},
     "output_type": "execute_result"
    }
   ],
   "source": [
    "df[v_categoricas].describe()"
   ]
  },
  {
   "cell_type": "markdown",
   "metadata": {},
   "source": [
    "##### **Source Database.**"
   ]
  },
  {
   "cell_type": "code",
   "execution_count": 545,
   "metadata": {},
   "outputs": [
    {
     "data": {
      "text/plain": [
       "array(['TI Safe', 'CIRWA', 'SCIDMARK', 'SCIDMARK ', 'RISI'], dtype=object)"
      ]
     },
     "execution_count": 545,
     "metadata": {},
     "output_type": "execute_result"
    }
   ],
   "source": [
    "df['source_database'].unique()"
   ]
  },
  {
   "cell_type": "code",
   "execution_count": 546,
   "metadata": {},
   "outputs": [],
   "source": [
    "label_encoder = LabelEncoder()\n",
    "df['source_database_encoded'] = label_encoder.fit_transform(df['source_database'])"
   ]
  },
  {
   "cell_type": "markdown",
   "metadata": {},
   "source": [
    "El siguiente código se ha agregado para lograr que las columnas codificadas se agreguen justo después de la columna original, de manera que sea más fácil ver a qué se le ha asignado el valor codificado."
   ]
  },
  {
   "cell_type": "code",
   "execution_count": 547,
   "metadata": {},
   "outputs": [],
   "source": [
    "cols = df.columns.tolist()\n",
    "disclosure_index = cols.index('source_database')\n",
    "cols.insert(disclosure_index + 1, cols.pop(cols.index('source_database_encoded')))\n",
    "df = df[cols]"
   ]
  },
  {
   "cell_type": "code",
   "execution_count": 548,
   "metadata": {},
   "outputs": [
    {
     "data": {
      "text/html": [
       "<div>\n",
       "<style scoped>\n",
       "    .dataframe tbody tr th:only-of-type {\n",
       "        vertical-align: middle;\n",
       "    }\n",
       "\n",
       "    .dataframe tbody tr th {\n",
       "        vertical-align: top;\n",
       "    }\n",
       "\n",
       "    .dataframe thead th {\n",
       "        text-align: right;\n",
       "    }\n",
       "</style>\n",
       "<table border=\"1\" class=\"dataframe\">\n",
       "  <thead>\n",
       "    <tr style=\"text-align: right;\">\n",
       "      <th></th>\n",
       "      <th>day</th>\n",
       "      <th>month</th>\n",
       "      <th>year</th>\n",
       "      <th>source_database</th>\n",
       "      <th>source_database_encoded</th>\n",
       "      <th>attack_description</th>\n",
       "      <th>country</th>\n",
       "      <th>industry_type</th>\n",
       "      <th>subcategory</th>\n",
       "      <th>attack_details</th>\n",
       "      <th>ti_safe_score</th>\n",
       "      <th>impact</th>\n",
       "      <th>link_at_the_internet</th>\n",
       "    </tr>\n",
       "    <tr>\n",
       "      <th>id</th>\n",
       "      <th></th>\n",
       "      <th></th>\n",
       "      <th></th>\n",
       "      <th></th>\n",
       "      <th></th>\n",
       "      <th></th>\n",
       "      <th></th>\n",
       "      <th></th>\n",
       "      <th></th>\n",
       "      <th></th>\n",
       "      <th></th>\n",
       "      <th></th>\n",
       "      <th></th>\n",
       "    </tr>\n",
       "  </thead>\n",
       "  <tbody>\n",
       "    <tr>\n",
       "      <th>1338</th>\n",
       "      <td>15</td>\n",
       "      <td>8</td>\n",
       "      <td>2024</td>\n",
       "      <td>TI Safe</td>\n",
       "      <td>4</td>\n",
       "      <td>A massive cyberattack disrupted Iran's Central...</td>\n",
       "      <td>Iran</td>\n",
       "      <td>Financial</td>\n",
       "      <td>Banking and Finance</td>\n",
       "      <td>The Central Bank of Iran suffered a major cybe...</td>\n",
       "      <td>4.0</td>\n",
       "      <td>Severe disruptions in Iran's banking system, w...</td>\n",
       "      <td>&lt;a href='https://www.israelhayom.com/2024/08/1...</td>\n",
       "    </tr>\n",
       "    <tr>\n",
       "      <th>1337</th>\n",
       "      <td>15</td>\n",
       "      <td>8</td>\n",
       "      <td>2024</td>\n",
       "      <td>TI Safe</td>\n",
       "      <td>4</td>\n",
       "      <td>A previously unknown threat actor, dubbed Acto...</td>\n",
       "      <td>Azerbaijan and Israel</td>\n",
       "      <td>Public Services</td>\n",
       "      <td>Gpver,emt</td>\n",
       "      <td>In July 2024, a newly identified threat actor,...</td>\n",
       "      <td>4.0</td>\n",
       "      <td>Compromise of sensitive diplomatic data throug...</td>\n",
       "      <td>&lt;a href='https://thehackernews.com/2024/08/new...</td>\n",
       "    </tr>\n",
       "  </tbody>\n",
       "</table>\n",
       "</div>"
      ],
      "text/plain": [
       "      day  month  year source_database  source_database_encoded                                 attack_description                country     industry_type          subcategory                                     attack_details  ti_safe_score                                             impact                               link_at_the_internet\n",
       "id                                                                                                                                                                                                                                                                                                                                                      \n",
       "1338   15      8  2024         TI Safe                        4  A massive cyberattack disrupted Iran's Central...                   Iran         Financial  Banking and Finance  The Central Bank of Iran suffered a major cybe...            4.0  Severe disruptions in Iran's banking system, w...  <a href='https://www.israelhayom.com/2024/08/1...\n",
       "1337   15      8  2024         TI Safe                        4  A previously unknown threat actor, dubbed Acto...  Azerbaijan and Israel  Public Services             Gpver,emt  In July 2024, a newly identified threat actor,...            4.0  Compromise of sensitive diplomatic data throug...  <a href='https://thehackernews.com/2024/08/new..."
      ]
     },
     "execution_count": 548,
     "metadata": {},
     "output_type": "execute_result"
    }
   ],
   "source": [
    "df.head(2)"
   ]
  },
  {
   "cell_type": "markdown",
   "metadata": {},
   "source": [
    "##### **Industry Type.**\n",
    "Vemos que hay pocos valores únicos, deberemos de examinarlos y catalogarlos por grupos. Tras ello realizaremos una codificación ordinal."
   ]
  },
  {
   "cell_type": "code",
   "execution_count": 549,
   "metadata": {},
   "outputs": [
    {
     "data": {
      "text/plain": [
       "array(['Financial', 'Public Services ', 'Health and Homecare services',\n",
       "       'Government', 'Tecnology services ', 'Critical Infrastructure',\n",
       "       'Technology', 'Healthcare',\n",
       "       'Communication and telecommunications sector', 'Nuclear ',\n",
       "       'Governemnt ', 'Energy', 'Transport sector and systems', 'Media',\n",
       "       'Entertainment', 'Government Facilities', 'Business',\n",
       "       'Healthcare and Public Health', 'Hospital and health sector',\n",
       "       'Steel and mining', 'Financial Services', 'Energy sector ',\n",
       "       'Activism', 'Tecnology Services ', 'Country ', 'Food sector ',\n",
       "       'Manufacturing and automation sector',\n",
       "       'Water and wastewater sector and systems',\n",
       "       'Government facilities sector ', 'Commercial and public sector ',\n",
       "       'Information Technology sector ', 'Education and Research sector ',\n",
       "       'Sector and Production Systems ', 'Banking and finance sector ',\n",
       "       'Chemical and Farmaceutic industry sector ',\n",
       "       'Agricultural sector ', 'Defense and national protection sector',\n",
       "       'Emergency Sector ', 'Emergency sector',\n",
       "       'Water and Wastewater Systems', 'Transportation Systems', 'Legal ',\n",
       "       'Oil and Gas', 'Country  ',\n",
       "       'Information Technology / Governement Sites',\n",
       "       'Information Technology', 'Apps ',\n",
       "       'Agriculture, food and beverage', 'Aerospace',\n",
       "       'Education and Research', 'Maritime', '\\r\\nEngineering',\n",
       "       'Critical Manufacturing', 'Emergency Services', 'Manufacturing',\n",
       "       'Automotive'], dtype=object)"
      ]
     },
     "execution_count": 549,
     "metadata": {},
     "output_type": "execute_result"
    }
   ],
   "source": [
    "df['industry_type'].unique()"
   ]
  },
  {
   "cell_type": "code",
   "execution_count": 550,
   "metadata": {},
   "outputs": [
    {
     "data": {
      "text/plain": [
       "56"
      ]
     },
     "execution_count": 550,
     "metadata": {},
     "output_type": "execute_result"
    }
   ],
   "source": [
    "df['industry_type'].nunique()"
   ]
  },
  {
   "cell_type": "markdown",
   "metadata": {},
   "source": [
    "Se observa que hay valores que son el mismo, únicamente con espacios detrás. Para ello deberemos de eliminar estos para que se detecten como el mismo tipo."
   ]
  },
  {
   "cell_type": "code",
   "execution_count": 551,
   "metadata": {},
   "outputs": [],
   "source": [
    "df['industry_type'] = df['industry_type'].str.strip()"
   ]
  },
  {
   "cell_type": "code",
   "execution_count": 552,
   "metadata": {},
   "outputs": [
    {
     "data": {
      "text/plain": [
       "array(['Financial', 'Public Services', 'Health and Homecare services',\n",
       "       'Government', 'Tecnology services', 'Critical Infrastructure',\n",
       "       'Technology', 'Healthcare',\n",
       "       'Communication and telecommunications sector', 'Nuclear',\n",
       "       'Governemnt', 'Energy', 'Transport sector and systems', 'Media',\n",
       "       'Entertainment', 'Government Facilities', 'Business',\n",
       "       'Healthcare and Public Health', 'Hospital and health sector',\n",
       "       'Steel and mining', 'Financial Services', 'Energy sector',\n",
       "       'Activism', 'Tecnology Services', 'Country', 'Food sector',\n",
       "       'Manufacturing and automation sector',\n",
       "       'Water and wastewater sector and systems',\n",
       "       'Government facilities sector', 'Commercial and public sector',\n",
       "       'Information Technology sector', 'Education and Research sector',\n",
       "       'Sector and Production Systems', 'Banking and finance sector',\n",
       "       'Chemical and Farmaceutic industry sector', 'Agricultural sector',\n",
       "       'Defense and national protection sector', 'Emergency Sector',\n",
       "       'Emergency sector', 'Water and Wastewater Systems',\n",
       "       'Transportation Systems', 'Legal', 'Oil and Gas',\n",
       "       'Information Technology / Governement Sites',\n",
       "       'Information Technology', 'Apps', 'Agriculture, food and beverage',\n",
       "       'Aerospace', 'Education and Research', 'Maritime', 'Engineering',\n",
       "       'Critical Manufacturing', 'Emergency Services', 'Manufacturing',\n",
       "       'Automotive'], dtype=object)"
      ]
     },
     "execution_count": 552,
     "metadata": {},
     "output_type": "execute_result"
    }
   ],
   "source": [
    "df['industry_type'].unique()"
   ]
  },
  {
   "cell_type": "code",
   "execution_count": 553,
   "metadata": {},
   "outputs": [
    {
     "data": {
      "text/plain": [
       "55"
      ]
     },
     "execution_count": 553,
     "metadata": {},
     "output_type": "execute_result"
    }
   ],
   "source": [
    "df['industry_type'].nunique()"
   ]
  },
  {
   "cell_type": "markdown",
   "metadata": {},
   "source": [
    "Observamos que existe un valor `Information Technology / Government Sites` que combina dos tipos de industria. Si este valor aparece en muchas filas, deberíamos separar los registros en función de cada tipo de industria para analizar si se utilizan de manera individual. En caso contrario, si no se logra una separación clara o no es relevante mantener esta combinación, procederemos a eliminar estas filas."
   ]
  },
  {
   "cell_type": "code",
   "execution_count": 554,
   "metadata": {},
   "outputs": [
    {
     "data": {
      "text/plain": [
       "1"
      ]
     },
     "execution_count": 554,
     "metadata": {},
     "output_type": "execute_result"
    }
   ],
   "source": [
    "df[df['industry_type']=='Information Technology / Governement Sites'].shape[0]"
   ]
  },
  {
   "cell_type": "code",
   "execution_count": 555,
   "metadata": {},
   "outputs": [],
   "source": [
    "df = df[df['industry_type'] != 'Information Technology / Governement Sites']"
   ]
  },
  {
   "cell_type": "markdown",
   "metadata": {},
   "source": [
    "Observamos que hay algunas entradas en la columna que terminan con una palabra, siendo iguales a otras categorías. Para agrupar mejor estos valores, eliminaremos estas palabras de estos registros."
   ]
  },
  {
   "cell_type": "code",
   "execution_count": 556,
   "metadata": {},
   "outputs": [],
   "source": [
    "patterns = [r'\\s*[sS]ector$', r'\\s*[sS]ervices$', r'\\s*[fF]acilities$', r'\\s*[sS]ystems$']\n",
    "\n",
    "for pattern in patterns:\n",
    "    df['industry_type'] = df['industry_type'].str.replace(pattern, '', regex=True)"
   ]
  },
  {
   "cell_type": "code",
   "execution_count": 557,
   "metadata": {},
   "outputs": [
    {
     "data": {
      "text/plain": [
       "45"
      ]
     },
     "execution_count": 557,
     "metadata": {},
     "output_type": "execute_result"
    }
   ],
   "source": [
    "df['industry_type'].nunique()"
   ]
  },
  {
   "cell_type": "code",
   "execution_count": 558,
   "metadata": {},
   "outputs": [
    {
     "data": {
      "text/plain": [
       "array(['Financial', 'Public', 'Health and Homecare', 'Government',\n",
       "       'Tecnology', 'Critical Infrastructure', 'Technology', 'Healthcare',\n",
       "       'Communication and telecommunications', 'Nuclear', 'Governemnt',\n",
       "       'Energy', 'Transport sector and', 'Media', 'Entertainment',\n",
       "       'Business', 'Healthcare and Public Health', 'Hospital and health',\n",
       "       'Steel and mining', 'Activism', 'Country', 'Food',\n",
       "       'Manufacturing and automation', 'Water and wastewater sector and',\n",
       "       'Commercial and public', 'Information Technology',\n",
       "       'Education and Research', 'Sector and Production',\n",
       "       'Banking and finance', 'Chemical and Farmaceutic industry',\n",
       "       'Agricultural', 'Defense and national protection', 'Emergency',\n",
       "       'Water and Wastewater', 'Transportation', 'Legal', 'Oil and Gas',\n",
       "       'Apps', 'Agriculture, food and beverage', 'Aerospace', 'Maritime',\n",
       "       'Engineering', 'Critical Manufacturing', 'Manufacturing',\n",
       "       'Automotive'], dtype=object)"
      ]
     },
     "execution_count": 558,
     "metadata": {},
     "output_type": "execute_result"
    }
   ],
   "source": [
    "df['industry_type'].unique()"
   ]
  },
  {
   "cell_type": "markdown",
   "metadata": {},
   "source": [
    "**Diccionario de Mapeo.**"
   ]
  },
  {
   "cell_type": "code",
   "execution_count": 559,
   "metadata": {},
   "outputs": [],
   "source": [
    "mappings = {\n",
    "    'Health and Homecare': [\n",
    "        'Healthcare', 'Health and Homecare', 'Hospital and health', 'Healthcare and Public Health'\n",
    "    ],\n",
    "    'Public': [\n",
    "        'Public', 'Government', 'Governemnt', 'Education and Research', 'Legal', 'Commercial and public',\n",
    "        'Activism', 'Country'\n",
    "    ],\n",
    "    'Technology': [\n",
    "        'Technology', 'Tecnology', 'Information Technology', 'Apps', 'Aerospace',\n",
    "        'Communication and telecommunications'\n",
    "    ],\n",
    "    'Energy': [\n",
    "        'Energy', 'Nuclear', 'Oil and Gas'\n",
    "    ],\n",
    "    'Infrastructure': [\n",
    "        'Critical Infrastructure', 'Water and Wastewater', 'Water and wastewater sector and'\n",
    "    ],\n",
    "    'Transport': [\n",
    "        'Transport sector and', 'Transportation', 'Maritime', 'Automotive'\n",
    "    ],\n",
    "    'Manufacturing': [\n",
    "        'Steel and mining', 'Manufacturing and automation', 'Critical Manufacturing',\n",
    "        'Sector and Production', 'Manufacturing', 'Engineering'\n",
    "    ],\n",
    "    'Agricultural': [\n",
    "        'Agricultural', 'Food', 'Agriculture, food and beverage'\n",
    "    ],\n",
    "    'Business': [\n",
    "        'Business', 'Entertainment', 'Media'\n",
    "    ],\n",
    "    'Defense': [\n",
    "        'Defense and national protection', 'Emergency'\n",
    "    ],\n",
    "    'Chemical Industry': [\n",
    "        'Chemical and Farmaceutic industry'\n",
    "    ],\n",
    "    'Financial': [\n",
    "        'Financial', 'Banking and finance'\n",
    "    ]\n",
    "}"
   ]
  },
  {
   "cell_type": "code",
   "execution_count": 560,
   "metadata": {},
   "outputs": [],
   "source": [
    "def mapping_indsutry(industry):\n",
    "    for category, industries in mappings.items():\n",
    "        if industry in industries:\n",
    "            return category\n",
    "    return None"
   ]
  },
  {
   "cell_type": "code",
   "execution_count": 561,
   "metadata": {},
   "outputs": [],
   "source": [
    "df['industry_type_group'] = df['industry_type'].map(mapping_indsutry)"
   ]
  },
  {
   "cell_type": "code",
   "execution_count": 562,
   "metadata": {},
   "outputs": [
    {
     "data": {
      "text/plain": [
       "0"
      ]
     },
     "execution_count": 562,
     "metadata": {},
     "output_type": "execute_result"
    }
   ],
   "source": [
    "df['industry_type_group'].isnull().sum()"
   ]
  },
  {
   "cell_type": "markdown",
   "metadata": {},
   "source": [
    "El siguiente código se ha agregado para lograr que las columnas codificadas se agreguen justo después de la columna original, de manera que sea más fácil ver a qué se le ha asignado el valor codificado."
   ]
  },
  {
   "cell_type": "code",
   "execution_count": 563,
   "metadata": {},
   "outputs": [],
   "source": [
    "cols = df.columns.tolist()\n",
    "disclosure_index = cols.index('industry_type')\n",
    "cols.insert(disclosure_index + 1, cols.pop(cols.index('industry_type_group')))\n",
    "df = df[cols]"
   ]
  },
  {
   "cell_type": "code",
   "execution_count": 564,
   "metadata": {},
   "outputs": [],
   "source": [
    "label_encoder = LabelEncoder()\n",
    "df['industry_type_group_encoded'] = label_encoder.fit_transform(df['industry_type_group'])"
   ]
  },
  {
   "cell_type": "markdown",
   "metadata": {},
   "source": [
    "El siguiente código se ha agregado para lograr que las columnas codificadas se agreguen justo después de la columna original, de manera que sea más fácil ver a qué se le ha asignado el valor codificado."
   ]
  },
  {
   "cell_type": "code",
   "execution_count": 565,
   "metadata": {},
   "outputs": [],
   "source": [
    "cols = df.columns.tolist()\n",
    "disclosure_index = cols.index('industry_type_group')\n",
    "cols.insert(disclosure_index + 1, cols.pop(cols.index('industry_type_group_encoded')))\n",
    "df = df[cols]"
   ]
  },
  {
   "cell_type": "code",
   "execution_count": 566,
   "metadata": {},
   "outputs": [
    {
     "data": {
      "text/html": [
       "<div>\n",
       "<style scoped>\n",
       "    .dataframe tbody tr th:only-of-type {\n",
       "        vertical-align: middle;\n",
       "    }\n",
       "\n",
       "    .dataframe tbody tr th {\n",
       "        vertical-align: top;\n",
       "    }\n",
       "\n",
       "    .dataframe thead th {\n",
       "        text-align: right;\n",
       "    }\n",
       "</style>\n",
       "<table border=\"1\" class=\"dataframe\">\n",
       "  <thead>\n",
       "    <tr style=\"text-align: right;\">\n",
       "      <th></th>\n",
       "      <th>day</th>\n",
       "      <th>month</th>\n",
       "      <th>year</th>\n",
       "      <th>source_database</th>\n",
       "      <th>source_database_encoded</th>\n",
       "      <th>attack_description</th>\n",
       "      <th>country</th>\n",
       "      <th>industry_type</th>\n",
       "      <th>industry_type_group</th>\n",
       "      <th>industry_type_group_encoded</th>\n",
       "      <th>subcategory</th>\n",
       "      <th>attack_details</th>\n",
       "      <th>ti_safe_score</th>\n",
       "      <th>impact</th>\n",
       "      <th>link_at_the_internet</th>\n",
       "    </tr>\n",
       "    <tr>\n",
       "      <th>id</th>\n",
       "      <th></th>\n",
       "      <th></th>\n",
       "      <th></th>\n",
       "      <th></th>\n",
       "      <th></th>\n",
       "      <th></th>\n",
       "      <th></th>\n",
       "      <th></th>\n",
       "      <th></th>\n",
       "      <th></th>\n",
       "      <th></th>\n",
       "      <th></th>\n",
       "      <th></th>\n",
       "      <th></th>\n",
       "      <th></th>\n",
       "    </tr>\n",
       "  </thead>\n",
       "  <tbody>\n",
       "    <tr>\n",
       "      <th>1338</th>\n",
       "      <td>15</td>\n",
       "      <td>8</td>\n",
       "      <td>2024</td>\n",
       "      <td>TI Safe</td>\n",
       "      <td>4</td>\n",
       "      <td>A massive cyberattack disrupted Iran's Central...</td>\n",
       "      <td>Iran</td>\n",
       "      <td>Financial</td>\n",
       "      <td>Financial</td>\n",
       "      <td>5</td>\n",
       "      <td>Banking and Finance</td>\n",
       "      <td>The Central Bank of Iran suffered a major cybe...</td>\n",
       "      <td>4.0</td>\n",
       "      <td>Severe disruptions in Iran's banking system, w...</td>\n",
       "      <td>&lt;a href='https://www.israelhayom.com/2024/08/1...</td>\n",
       "    </tr>\n",
       "    <tr>\n",
       "      <th>1337</th>\n",
       "      <td>15</td>\n",
       "      <td>8</td>\n",
       "      <td>2024</td>\n",
       "      <td>TI Safe</td>\n",
       "      <td>4</td>\n",
       "      <td>A previously unknown threat actor, dubbed Acto...</td>\n",
       "      <td>Azerbaijan and Israel</td>\n",
       "      <td>Public</td>\n",
       "      <td>Public</td>\n",
       "      <td>9</td>\n",
       "      <td>Gpver,emt</td>\n",
       "      <td>In July 2024, a newly identified threat actor,...</td>\n",
       "      <td>4.0</td>\n",
       "      <td>Compromise of sensitive diplomatic data throug...</td>\n",
       "      <td>&lt;a href='https://thehackernews.com/2024/08/new...</td>\n",
       "    </tr>\n",
       "  </tbody>\n",
       "</table>\n",
       "</div>"
      ],
      "text/plain": [
       "      day  month  year source_database  source_database_encoded                                 attack_description                country industry_type industry_type_group  industry_type_group_encoded          subcategory                                     attack_details  ti_safe_score                                             impact                               link_at_the_internet\n",
       "id                                                                                                                                                                                                                                                                                                                                                                                                   \n",
       "1338   15      8  2024         TI Safe                        4  A massive cyberattack disrupted Iran's Central...                   Iran     Financial           Financial                            5  Banking and Finance  The Central Bank of Iran suffered a major cybe...            4.0  Severe disruptions in Iran's banking system, w...  <a href='https://www.israelhayom.com/2024/08/1...\n",
       "1337   15      8  2024         TI Safe                        4  A previously unknown threat actor, dubbed Acto...  Azerbaijan and Israel        Public              Public                            9            Gpver,emt  In July 2024, a newly identified threat actor,...            4.0  Compromise of sensitive diplomatic data throug...  <a href='https://thehackernews.com/2024/08/new..."
      ]
     },
     "execution_count": 566,
     "metadata": {},
     "output_type": "execute_result"
    }
   ],
   "source": [
    "df.head(2)"
   ]
  },
  {
   "cell_type": "markdown",
   "metadata": {},
   "source": [
    "##### **Countries.**\n",
    "Para realizar una evaluación más efectiva de los países en nuestros datos, es conveniente agruparlos por continentes. Esto es especialmente relevante porque en otros archivos CSV hay registros de ataques provenientes de diferentes países, distribuidos en distintos continentes.\n",
    "\n",
    "Para facilitar este análisis, procederemos a crear seis nuevas columnas en nuestro conjunto de datos, cada una representando un continente específico. Estas columnas indicarán con un valor de 1 si el país pertenece al continente correspondiente y 0 si no es así, es decir, mediante una asignación de valores binarios."
   ]
  },
  {
   "cell_type": "code",
   "execution_count": 567,
   "metadata": {},
   "outputs": [
    {
     "data": {
      "text/plain": [
       "111"
      ]
     },
     "execution_count": 567,
     "metadata": {},
     "output_type": "execute_result"
    }
   ],
   "source": [
    "df['country'].nunique()"
   ]
  },
  {
   "cell_type": "code",
   "execution_count": 568,
   "metadata": {},
   "outputs": [],
   "source": [
    "df['country'] = df['country'].str.strip()"
   ]
  },
  {
   "cell_type": "code",
   "execution_count": 569,
   "metadata": {},
   "outputs": [
    {
     "data": {
      "text/plain": [
       "array(['Iran', 'Azerbaijan and Israel', 'United States (and Israel)',\n",
       "       'United States', 'Indonesia', 'Global', 'Ukraine', 'United Stats',\n",
       "       'Russia', 'Not specified', 'France',\n",
       "       'Multiple countries (global impact)', 'Brazil', 'India',\n",
       "       'Venezuela', 'United Arab Emirates (Dubai)', 'Italy',\n",
       "       'European Union', 'Southeast Asian country (unspecified)',\n",
       "       'Canada', 'Australia', 'United Kingdom',\n",
       "       'Chile, Spain and Uruguay', 'Spain', 'Morocco and Western Sahara',\n",
       "       'Germany', 'Israel', 'Mexico', 'Estonia',\n",
       "       'Not mentioned in the news', 'Switzerland', 'Romania.',\n",
       "       'Philippines', 'Unknown', 'Sweden', 'Globally', 'Paraguay',\n",
       "       'Lebanon', 'South Africa', 'Slovenia', 'Denmark', 'Egypt',\n",
       "       'Finland', 'Asia and United States', 'New Zealand',\n",
       "       'United States and Canada', 'Colombia', 'Argentina', 'Kenya',\n",
       "       'Norway', 'Australia and New Zealand', 'Lithuania', 'Japan',\n",
       "       'Ireland', 'Taiwan', 'Europe', 'Denmark, Sweden, and Norway',\n",
       "       'Portugal', 'Asia', 'England', 'Dominican Republic', 'Greece',\n",
       "       'China', 'Luxembourg', 'Turkey', 'Costa Rica', 'Scotland',\n",
       "       'Andorra', 'New Zealand and Australia', 'Belgium',\n",
       "       'South Australia', 'Poland', 'Singapore', 'Pakistan', 'Ecuador',\n",
       "       'Vietnam', 'Cingapore', 'Arab Emirates', 'Others', 'Malasya',\n",
       "       'Nigeria', 'South Korea', 'Thailand', 'United Arab Emirates',\n",
       "       'Macedonia', 'Puerto Rico', 'Sri Lanka', 'Austria',\n",
       "       'Czech Republic', 'Jamaica', 'Netherlands', 'Oman',\n",
       "       'Brazil, Mexico, and the United States', 'Chile',\n",
       "       'France and Slovenia', 'Saudi Arabia', 'Qatar', 'Guyana', 'Chad',\n",
       "       'Guam'], dtype=object)"
      ]
     },
     "execution_count": 569,
     "metadata": {},
     "output_type": "execute_result"
    }
   ],
   "source": [
    "df['country'].unique()"
   ]
  },
  {
   "cell_type": "code",
   "execution_count": 570,
   "metadata": {},
   "outputs": [],
   "source": [
    "continent_mapping = {\n",
    "    \"North America\": [\n",
    "        \"United States\", \"United States and Israel\", \"Canada\", \"Mexico\", \"Puerto Rico\", \"Guam\", \n",
    "        \"Dominican Republic\", \"Costa Rica\", \"Jamaica\", \"United Stats\", \"United States (and Israel)\"\n",
    "    ],\n",
    "    \"South America\": [\n",
    "        \"Brazil\", \"Argentina\", \"Chile\", \"Venezuela\", \"Colombia\", \"Ecuador\", \"Guyana\", \"Paraguay\", \n",
    "        \"Uruguay\"\n",
    "    ],\n",
    "    \"Europe\": [\n",
    "        \"Ukraine\", \"France\", \"Italy\", \"Spain\", \"Germany\", \"Estonia\", \"Switzerland\", \"Romania\", \n",
    "        \"Romania.\", \"Sweden\", \"Slovenia\", \"Denmark\", \"Finland\", \"Norway\", \"Ireland\", \"Portugal\", \n",
    "        \"Greece\", \"Luxembourg\", \"Macedonia\", \"Austria\", \"Czech Republic\", \"Netherlands\", \n",
    "        \"United Kingdom\", \"Lithuania\", \"Turkey\", \"Scotland\", \"Andorra\", \"Belgium\", \"Poland\", \n",
    "        \"England\", \"Netherlands\", \"Europe\", 'European Union', 'Switzerland', '\\r\\nIceland', 'Finland', 'Azerbaijan'\n",
    "    ],\n",
    "    \"Asia\": [\n",
    "        \"Indonesia\", \"Russia\", \"India\", \"United Arab Emirates\", \"United Arab Emirates Dubai\", \n",
    "        \"United Arab Emirates (Dubai)\", \"Southeast Asian country unspecified\", \"Philippines\", \n",
    "        \"Lebanon\", \"China\", \"Taiwan\", \"Japan\", \"South Korea\", \"Singapore\", \"Pakistan\", \n",
    "        \"Vietnam\", \"Saudi Arabia\", \"Qatar\", \"Malaysia\", \"Malasya\", \"Thailand\", \"Sri Lanka\", \n",
    "        \"Oman\", \"Arab Emirates\", \"Iran\", \"Israel\", \"Asia\", 'Southeast Asian country (unspecified)', 'Cingapore'\n",
    "    ],\n",
    "    \"Africa\": [\n",
    "        \"South Africa\", \"Egypt\", \"Morocco\", \"Western Sahara\", \"Nigeria\", \"Kenya\", \"Chad\"\n",
    "    ],\n",
    "    \"Australia\": [\n",
    "        \"Australia\", \"New Zealand\", \"South Australia\"\n",
    "    ],\n",
    "    \"Africa, Australia, Asia, Europe, South America, North America\": [\n",
    "        \"Global\", \"Globally\", \"Multiple countries (global impact)\", \"Others\"\n",
    "    ]\n",
    "}"
   ]
  },
  {
   "cell_type": "code",
   "execution_count": 571,
   "metadata": {},
   "outputs": [],
   "source": [
    "def assign_continent(region):\n",
    "    continents = set()\n",
    "    region = region.replace(' and ', ',')\n",
    "    countries = [country.strip() for country in region.split(',')]\n",
    "\n",
    "    for country in countries:\n",
    "        for continent, countries_list in continent_mapping.items():\n",
    "            if country in countries_list:\n",
    "                continents.add(continent)\n",
    "    \n",
    "    # Devolver una lista de continentes, unirlos como una cadena.\n",
    "    return ', '.join(continents) if continents else None\n",
    "\n",
    "# Crear una nueva columna en el DataFrame con los continentes\n",
    "df['continent'] = df['country'].apply(assign_continent)"
   ]
  },
  {
   "cell_type": "code",
   "execution_count": 572,
   "metadata": {},
   "outputs": [
    {
     "name": "stdout",
     "output_type": "stream",
     "text": [
      "Lista de países con 'continent' como None:\n",
      "['Not specified' 'Not mentioned in the news' 'Unknown']\n"
     ]
    }
   ],
   "source": [
    "countries_with_no_continent = df[df['continent'].isnull()]['country'].unique()\n",
    "\n",
    "# Mostrar la lista de países con 'continent' como None\n",
    "print(\"Lista de países con 'continent' como None:\")\n",
    "print(countries_with_no_continent)"
   ]
  },
  {
   "cell_type": "code",
   "execution_count": 573,
   "metadata": {},
   "outputs": [
    {
     "data": {
      "text/plain": [
       "7"
      ]
     },
     "execution_count": 573,
     "metadata": {},
     "output_type": "execute_result"
    }
   ],
   "source": [
    "df['continent'].isnull().sum()"
   ]
  },
  {
   "cell_type": "code",
   "execution_count": 574,
   "metadata": {},
   "outputs": [],
   "source": [
    "df.dropna(subset=['continent'], inplace=True)"
   ]
  },
  {
   "cell_type": "code",
   "execution_count": 575,
   "metadata": {},
   "outputs": [],
   "source": [
    "continent_dummies = df['continent'].str.get_dummies(sep=', ')\n",
    "df = pd.concat([df, continent_dummies], axis=1)"
   ]
  },
  {
   "cell_type": "code",
   "execution_count": 576,
   "metadata": {},
   "outputs": [],
   "source": [
    "df.drop(columns=['country', 'continent'], inplace=True)"
   ]
  },
  {
   "cell_type": "code",
   "execution_count": 577,
   "metadata": {},
   "outputs": [
    {
     "data": {
      "text/html": [
       "<div>\n",
       "<style scoped>\n",
       "    .dataframe tbody tr th:only-of-type {\n",
       "        vertical-align: middle;\n",
       "    }\n",
       "\n",
       "    .dataframe tbody tr th {\n",
       "        vertical-align: top;\n",
       "    }\n",
       "\n",
       "    .dataframe thead th {\n",
       "        text-align: right;\n",
       "    }\n",
       "</style>\n",
       "<table border=\"1\" class=\"dataframe\">\n",
       "  <thead>\n",
       "    <tr style=\"text-align: right;\">\n",
       "      <th></th>\n",
       "      <th>day</th>\n",
       "      <th>month</th>\n",
       "      <th>year</th>\n",
       "      <th>source_database</th>\n",
       "      <th>source_database_encoded</th>\n",
       "      <th>attack_description</th>\n",
       "      <th>industry_type</th>\n",
       "      <th>industry_type_group</th>\n",
       "      <th>industry_type_group_encoded</th>\n",
       "      <th>subcategory</th>\n",
       "      <th>attack_details</th>\n",
       "      <th>ti_safe_score</th>\n",
       "      <th>impact</th>\n",
       "      <th>link_at_the_internet</th>\n",
       "      <th>Africa</th>\n",
       "      <th>Asia</th>\n",
       "      <th>Australia</th>\n",
       "      <th>Europe</th>\n",
       "      <th>North America</th>\n",
       "      <th>South America</th>\n",
       "    </tr>\n",
       "    <tr>\n",
       "      <th>id</th>\n",
       "      <th></th>\n",
       "      <th></th>\n",
       "      <th></th>\n",
       "      <th></th>\n",
       "      <th></th>\n",
       "      <th></th>\n",
       "      <th></th>\n",
       "      <th></th>\n",
       "      <th></th>\n",
       "      <th></th>\n",
       "      <th></th>\n",
       "      <th></th>\n",
       "      <th></th>\n",
       "      <th></th>\n",
       "      <th></th>\n",
       "      <th></th>\n",
       "      <th></th>\n",
       "      <th></th>\n",
       "      <th></th>\n",
       "      <th></th>\n",
       "    </tr>\n",
       "  </thead>\n",
       "  <tbody>\n",
       "    <tr>\n",
       "      <th>1338</th>\n",
       "      <td>15</td>\n",
       "      <td>8</td>\n",
       "      <td>2024</td>\n",
       "      <td>TI Safe</td>\n",
       "      <td>4</td>\n",
       "      <td>A massive cyberattack disrupted Iran's Central...</td>\n",
       "      <td>Financial</td>\n",
       "      <td>Financial</td>\n",
       "      <td>5</td>\n",
       "      <td>Banking and Finance</td>\n",
       "      <td>The Central Bank of Iran suffered a major cybe...</td>\n",
       "      <td>4.0</td>\n",
       "      <td>Severe disruptions in Iran's banking system, w...</td>\n",
       "      <td>&lt;a href='https://www.israelhayom.com/2024/08/1...</td>\n",
       "      <td>0</td>\n",
       "      <td>1</td>\n",
       "      <td>0</td>\n",
       "      <td>0</td>\n",
       "      <td>0</td>\n",
       "      <td>0</td>\n",
       "    </tr>\n",
       "    <tr>\n",
       "      <th>1337</th>\n",
       "      <td>15</td>\n",
       "      <td>8</td>\n",
       "      <td>2024</td>\n",
       "      <td>TI Safe</td>\n",
       "      <td>4</td>\n",
       "      <td>A previously unknown threat actor, dubbed Acto...</td>\n",
       "      <td>Public</td>\n",
       "      <td>Public</td>\n",
       "      <td>9</td>\n",
       "      <td>Gpver,emt</td>\n",
       "      <td>In July 2024, a newly identified threat actor,...</td>\n",
       "      <td>4.0</td>\n",
       "      <td>Compromise of sensitive diplomatic data throug...</td>\n",
       "      <td>&lt;a href='https://thehackernews.com/2024/08/new...</td>\n",
       "      <td>0</td>\n",
       "      <td>1</td>\n",
       "      <td>0</td>\n",
       "      <td>1</td>\n",
       "      <td>0</td>\n",
       "      <td>0</td>\n",
       "    </tr>\n",
       "  </tbody>\n",
       "</table>\n",
       "</div>"
      ],
      "text/plain": [
       "      day  month  year source_database  source_database_encoded                                 attack_description industry_type industry_type_group  industry_type_group_encoded          subcategory                                     attack_details  ti_safe_score                                             impact                               link_at_the_internet  Africa  Asia  Australia  Europe  North America  South America\n",
       "id                                                                                                                                                                                                                                                                                                                                                                                                                                           \n",
       "1338   15      8  2024         TI Safe                        4  A massive cyberattack disrupted Iran's Central...     Financial           Financial                            5  Banking and Finance  The Central Bank of Iran suffered a major cybe...            4.0  Severe disruptions in Iran's banking system, w...  <a href='https://www.israelhayom.com/2024/08/1...       0     1          0       0              0              0\n",
       "1337   15      8  2024         TI Safe                        4  A previously unknown threat actor, dubbed Acto...        Public              Public                            9            Gpver,emt  In July 2024, a newly identified threat actor,...            4.0  Compromise of sensitive diplomatic data throug...  <a href='https://thehackernews.com/2024/08/new...       0     1          0       1              0              0"
      ]
     },
     "execution_count": 577,
     "metadata": {},
     "output_type": "execute_result"
    }
   ],
   "source": [
    "df.head(2)"
   ]
  },
  {
   "cell_type": "markdown",
   "metadata": {},
   "source": [
    "##### **Subcategory.**"
   ]
  },
  {
   "cell_type": "code",
   "execution_count": 578,
   "metadata": {},
   "outputs": [
    {
     "data": {
      "text/plain": [
       "98"
      ]
     },
     "execution_count": 578,
     "metadata": {},
     "output_type": "execute_result"
    }
   ],
   "source": [
    "df['subcategory'].nunique()"
   ]
  },
  {
   "cell_type": "code",
   "execution_count": 579,
   "metadata": {},
   "outputs": [
    {
     "data": {
      "text/plain": [
       "array(['Banking and Finance', 'Gpver,emt', 'Government and Elections',\n",
       "       'Healthcare', 'Public Administration', 'Software', 'Policy',\n",
       "       'Multiple Sectors', 'Global', 'Health and Social Care', 'Russia',\n",
       "       'Telecommunications', 'Defense/National',\n",
       "       'Critical Infrastructure', 'Multiple services', 'Aviation',\n",
       "       'Jornalism ', 'Disney ', 'Public Services', 'Business',\n",
       "       'Health Services ', 'Hospital Systems ', 'Information Technology',\n",
       "       'Governmental ', 'Police', 'Companies and Governmental ',\n",
       "       'Public Sector ', 'Metals Mining', 'Telecommunitacion ',\n",
       "       'Santander ', 'Industrial Control Systems (ICS)', 'Human Rights',\n",
       "       'Healthcare services', 'Sewage system', 'Tecnology Services ',\n",
       "       'Public services', 'Country ', 'Ministries', 'Fintech ', 'Banks ',\n",
       "       'Public Services ', 'Cryptocurrency', 'National Security ',\n",
       "       'Electoral systems', 'Healthcare and Public Health', 'Brewery.',\n",
       "       'Governement sector of Oakley ', 'Federal', 'Semiconductors ',\n",
       "       'Water and Wastewater Systems', 'Services', 'Manufacturing',\n",
       "       'Health insurance industry:', 'Government ', 'Technology ',\n",
       "       'Energy', 'Scientific research and meteorology industry.',\n",
       "       'Communications ', 'Entertainment', 'Transportation Systems',\n",
       "       'Health and Hospitals ', 'Supermarkets ', 'Legal ', 'Automotive',\n",
       "       'Financial services', 'Cloud Services for Public Administration.',\n",
       "       ' Fuel industry', 'Aerospace', 'Country  ',\n",
       "       'Critical Manufacturing', 'Security ', 'Oil and Gas',\n",
       "       'industrial automation industry', 'Government Sites', 'Health ',\n",
       "       'Information Technology / Governement Sites', 'Apps ', 'Chemical',\n",
       "       '\\r\\nEngineering', 'Farmaceutic Industry ', 'Petrochemical',\n",
       "       'Government Facilities', 'Pharmaceutical',\n",
       "       'Agriculture, food and beverage', 'Education and Research',\n",
       "       'Commercial Facilities', 'Steel and mining', 'Maritime',\n",
       "       'Emergency Services', 'Marketing and services ',\n",
       "       'Healthcare and public health', 'Financial Services',\n",
       "       'Healhtcare Services (NHS Dumfires ang Galloway) ', 'Many Sectors',\n",
       "       'Nuclear Reactors, Materials, and Waste', 'Hospitality sector',\n",
       "       'Pulp and Paper', 'Nuclear Power Plant '], dtype=object)"
      ]
     },
     "execution_count": 579,
     "metadata": {},
     "output_type": "execute_result"
    }
   ],
   "source": [
    "df['subcategory'].unique()"
   ]
  },
  {
   "cell_type": "markdown",
   "metadata": {},
   "source": [
    "Se observa que hay valores que son el mismo, únicamente con espacios detrás. Para ello deberemos de eliminar estos para que se detecten como el mismo tipo."
   ]
  },
  {
   "cell_type": "code",
   "execution_count": 580,
   "metadata": {},
   "outputs": [],
   "source": [
    "df['subcategory'] = df['subcategory'].str.strip()"
   ]
  },
  {
   "cell_type": "code",
   "execution_count": 581,
   "metadata": {},
   "outputs": [
    {
     "data": {
      "text/plain": [
       "96"
      ]
     },
     "execution_count": 581,
     "metadata": {},
     "output_type": "execute_result"
    }
   ],
   "source": [
    "df['subcategory'].nunique()"
   ]
  },
  {
   "cell_type": "code",
   "execution_count": 582,
   "metadata": {},
   "outputs": [],
   "source": [
    "subcategory_mapping = {\n",
    "    'Financial': ['Banking and Finance', 'Banks', 'Fintech', 'Financial services', 'Cryptocurrency', 'Financial Services', 'Santander', 'Health insurance industry:'],\n",
    "    'Government': ['Ministries', 'Policy', 'Gpver,emt', 'Government and Elections', 'Public Administration', 'Governmental', 'Companies and Governmental', 'Public Sector', 'Electoral systems', 'Government', 'Federal', 'Governement sector of Oakley', 'Government Facilities', 'Government Sites', 'Information Technology / Governement Sites'],\n",
    "    'Healthcare': ['Healthcare and Public Health', 'Hospitality sector','Emergency Services', 'Health and Hospitals', 'Hospital Systems', 'Healthcare', 'Health and Social Care', 'Healthcare services', 'Health Services', 'Hospital Systems', 'Healthcare and Public Health', 'Health and Hospitals', 'Healhtcare Services (NHS Dumfires ang Galloway)', 'Health', 'Healthcare and public health'],\n",
    "    'Technology': ['Telecommunitacion', 'Telecommunications', 'Software', 'Tecnology Services', 'Information Technology', 'Apps', 'Technology', 'Phones'],\n",
    "    'Public': ['Public Services', 'Public services', 'Cloud Services for Public Administration.'],\n",
    "    'Critical Infrastructure': ['Critical Infrastructure', 'Industrial Control Systems (ICS)', 'Water and Wastewater Systems', 'Sewage system'],\n",
    "    'Nuclear': ['Nuclear Power Plant', 'Nuclear Reactors, Materials, and Waste'],\n",
    "    'Energy': ['Energy', 'Fuel industry', 'Petrochemical'],\n",
    "    'Transport': ['Transportation Systems', 'Automotive', 'Aviation', 'Maritime'],\n",
    "    'Media': ['Jornalism', 'Disney'],\n",
    "    'Entertainment': ['Entertainment', 'Disney'],\n",
    "    'Business': ['Business', 'Marketing and services'],\n",
    "    'Steel and mining': ['Steel and mining', 'Metals Mining', 'Critical Manufacturing'],\n",
    "    'Activism': ['Human Rights'],\n",
    "    'Country': ['Country', 'Global', 'Russia'],\n",
    "    'Water and Wastewater': ['Water and Wastewater Systems', 'Sewage system'],\n",
    "    'Commercial and public': ['Commercial Facilities', 'Supermarkets'],\n",
    "    'Information Technology': ['Information Technology', 'Tecnology Services', 'Apps'],\n",
    "    'Education and Research': ['Education and Research', 'Scientific research and meteorology industry.'],\n",
    "    'Sector and Production': ['Sector and Production', 'industrial automation industry'],\n",
    "    'Chemical and Farmaceutic industry': ['Chemical', 'Farmaceutic Industry', 'Pharmaceutical'],\n",
    "    'Agricultural': ['Agriculture, food and beverage', 'Brewery.', 'Agriculture, food and beverage', 'Brewery.'],\n",
    "    'Defense and national protection': ['Police', 'Defense/National', 'National Security', 'Security'],\n",
    "    'Transportation': ['Transportation Systems', 'Aviation', 'Maritime'],\n",
    "    'Legal': ['Legal'],\n",
    "    'Oil and Gas': ['Oil and Gas', 'Fuel industry', 'Petrochemical'],\n",
    "    'Apps': ['Apps'],\n",
    "    'Aerospace': ['Aerospace'],\n",
    "    'Engineering': ['Engineering'],\n",
    "    'Manufacturing': ['Manufacturing', 'industrial automation industry', 'Critical Manufacturing', 'Pulp and Paper', 'Manufacturing', 'industrial automation industry'],\n",
    "    'Automotive': ['Automotive']\n",
    "}"
   ]
  },
  {
   "cell_type": "code",
   "execution_count": 583,
   "metadata": {},
   "outputs": [],
   "source": [
    "def mapping_subcategory(sector):\n",
    "    for group, sectors in subcategory_mapping.items():\n",
    "        if sector in sectors:\n",
    "            return group\n",
    "    return None"
   ]
  },
  {
   "cell_type": "code",
   "execution_count": 584,
   "metadata": {},
   "outputs": [],
   "source": [
    "df['subcategory_group'] = df['subcategory'].map(mapping_subcategory)"
   ]
  },
  {
   "cell_type": "markdown",
   "metadata": {},
   "source": [
    "El siguiente código se ha agregado para lograr que las columnas codificadas se agreguen justo después de la columna original, de manera que sea más fácil ver a qué se le ha asignado el valor codificado."
   ]
  },
  {
   "cell_type": "code",
   "execution_count": 585,
   "metadata": {},
   "outputs": [],
   "source": [
    "cols = df.columns.tolist()\n",
    "disclosure_index = cols.index('subcategory')\n",
    "cols.insert(disclosure_index + 1, cols.pop(cols.index('subcategory_group')))\n",
    "df = df[cols]"
   ]
  },
  {
   "cell_type": "code",
   "execution_count": 586,
   "metadata": {},
   "outputs": [
    {
     "data": {
      "text/plain": [
       "58"
      ]
     },
     "execution_count": 586,
     "metadata": {},
     "output_type": "execute_result"
    }
   ],
   "source": [
    "df['subcategory_group'].isnull().sum()"
   ]
  },
  {
   "cell_type": "code",
   "execution_count": 587,
   "metadata": {},
   "outputs": [],
   "source": [
    "df.dropna(subset=['subcategory_group'], inplace=True)"
   ]
  },
  {
   "cell_type": "code",
   "execution_count": 588,
   "metadata": {},
   "outputs": [],
   "source": [
    "label_encoder = LabelEncoder()\n",
    "df['subcategory_group_encoded'] = label_encoder.fit_transform(df['subcategory_group'])"
   ]
  },
  {
   "cell_type": "markdown",
   "metadata": {},
   "source": [
    "El siguiente código se ha agregado para lograr que las columnas codificadas se agreguen justo después de la columna original, de manera que sea más fácil ver a qué se le ha asignado el valor codificado."
   ]
  },
  {
   "cell_type": "code",
   "execution_count": 589,
   "metadata": {},
   "outputs": [],
   "source": [
    "cols = df.columns.tolist()\n",
    "disclosure_index = cols.index('subcategory_group')\n",
    "cols.insert(disclosure_index + 1, cols.pop(cols.index('subcategory_group_encoded')))\n",
    "df = df[cols]"
   ]
  },
  {
   "cell_type": "code",
   "execution_count": 590,
   "metadata": {},
   "outputs": [
    {
     "data": {
      "text/html": [
       "<div>\n",
       "<style scoped>\n",
       "    .dataframe tbody tr th:only-of-type {\n",
       "        vertical-align: middle;\n",
       "    }\n",
       "\n",
       "    .dataframe tbody tr th {\n",
       "        vertical-align: top;\n",
       "    }\n",
       "\n",
       "    .dataframe thead th {\n",
       "        text-align: right;\n",
       "    }\n",
       "</style>\n",
       "<table border=\"1\" class=\"dataframe\">\n",
       "  <thead>\n",
       "    <tr style=\"text-align: right;\">\n",
       "      <th></th>\n",
       "      <th>day</th>\n",
       "      <th>month</th>\n",
       "      <th>year</th>\n",
       "      <th>source_database</th>\n",
       "      <th>source_database_encoded</th>\n",
       "      <th>attack_description</th>\n",
       "      <th>industry_type</th>\n",
       "      <th>industry_type_group</th>\n",
       "      <th>industry_type_group_encoded</th>\n",
       "      <th>subcategory</th>\n",
       "      <th>subcategory_group</th>\n",
       "      <th>subcategory_group_encoded</th>\n",
       "      <th>attack_details</th>\n",
       "      <th>ti_safe_score</th>\n",
       "      <th>impact</th>\n",
       "      <th>link_at_the_internet</th>\n",
       "      <th>Africa</th>\n",
       "      <th>Asia</th>\n",
       "      <th>Australia</th>\n",
       "      <th>Europe</th>\n",
       "      <th>North America</th>\n",
       "      <th>South America</th>\n",
       "    </tr>\n",
       "    <tr>\n",
       "      <th>id</th>\n",
       "      <th></th>\n",
       "      <th></th>\n",
       "      <th></th>\n",
       "      <th></th>\n",
       "      <th></th>\n",
       "      <th></th>\n",
       "      <th></th>\n",
       "      <th></th>\n",
       "      <th></th>\n",
       "      <th></th>\n",
       "      <th></th>\n",
       "      <th></th>\n",
       "      <th></th>\n",
       "      <th></th>\n",
       "      <th></th>\n",
       "      <th></th>\n",
       "      <th></th>\n",
       "      <th></th>\n",
       "      <th></th>\n",
       "      <th></th>\n",
       "      <th></th>\n",
       "      <th></th>\n",
       "    </tr>\n",
       "  </thead>\n",
       "  <tbody>\n",
       "    <tr>\n",
       "      <th>1338</th>\n",
       "      <td>15</td>\n",
       "      <td>8</td>\n",
       "      <td>2024</td>\n",
       "      <td>TI Safe</td>\n",
       "      <td>4</td>\n",
       "      <td>A massive cyberattack disrupted Iran's Central...</td>\n",
       "      <td>Financial</td>\n",
       "      <td>Financial</td>\n",
       "      <td>5</td>\n",
       "      <td>Banking and Finance</td>\n",
       "      <td>Financial</td>\n",
       "      <td>13</td>\n",
       "      <td>The Central Bank of Iran suffered a major cybe...</td>\n",
       "      <td>4.0</td>\n",
       "      <td>Severe disruptions in Iran's banking system, w...</td>\n",
       "      <td>&lt;a href='https://www.israelhayom.com/2024/08/1...</td>\n",
       "      <td>0</td>\n",
       "      <td>1</td>\n",
       "      <td>0</td>\n",
       "      <td>0</td>\n",
       "      <td>0</td>\n",
       "      <td>0</td>\n",
       "    </tr>\n",
       "    <tr>\n",
       "      <th>1337</th>\n",
       "      <td>15</td>\n",
       "      <td>8</td>\n",
       "      <td>2024</td>\n",
       "      <td>TI Safe</td>\n",
       "      <td>4</td>\n",
       "      <td>A previously unknown threat actor, dubbed Acto...</td>\n",
       "      <td>Public</td>\n",
       "      <td>Public</td>\n",
       "      <td>9</td>\n",
       "      <td>Gpver,emt</td>\n",
       "      <td>Government</td>\n",
       "      <td>14</td>\n",
       "      <td>In July 2024, a newly identified threat actor,...</td>\n",
       "      <td>4.0</td>\n",
       "      <td>Compromise of sensitive diplomatic data throug...</td>\n",
       "      <td>&lt;a href='https://thehackernews.com/2024/08/new...</td>\n",
       "      <td>0</td>\n",
       "      <td>1</td>\n",
       "      <td>0</td>\n",
       "      <td>1</td>\n",
       "      <td>0</td>\n",
       "      <td>0</td>\n",
       "    </tr>\n",
       "  </tbody>\n",
       "</table>\n",
       "</div>"
      ],
      "text/plain": [
       "      day  month  year source_database  source_database_encoded                                 attack_description industry_type industry_type_group  industry_type_group_encoded          subcategory subcategory_group  subcategory_group_encoded                                     attack_details  ti_safe_score                                             impact                               link_at_the_internet  Africa  Asia  Australia  Europe  North America  South America\n",
       "id                                                                                                                                                                                                                                                                                                                                                                                                                                                                                        \n",
       "1338   15      8  2024         TI Safe                        4  A massive cyberattack disrupted Iran's Central...     Financial           Financial                            5  Banking and Finance         Financial                         13  The Central Bank of Iran suffered a major cybe...            4.0  Severe disruptions in Iran's banking system, w...  <a href='https://www.israelhayom.com/2024/08/1...       0     1          0       0              0              0\n",
       "1337   15      8  2024         TI Safe                        4  A previously unknown threat actor, dubbed Acto...        Public              Public                            9            Gpver,emt        Government                         14  In July 2024, a newly identified threat actor,...            4.0  Compromise of sensitive diplomatic data throug...  <a href='https://thehackernews.com/2024/08/new...       0     1          0       1              0              0"
      ]
     },
     "execution_count": 590,
     "metadata": {},
     "output_type": "execute_result"
    }
   ],
   "source": [
    "df.head(2)"
   ]
  },
  {
   "cell_type": "markdown",
   "metadata": {},
   "source": [
    "#### Tratamiento de variables continuas.\n",
    "Para continuar con nuestro estudio, empezaremos evaluando las variables continuas que en nuestra lista han salido de tipo `object`. Primeramente, evaluamos las variables de tipo objecto."
   ]
  },
  {
   "cell_type": "code",
   "execution_count": 591,
   "metadata": {},
   "outputs": [],
   "source": [
    "v_categoricas_cont = list(df[v_continuas].dtypes[df[v_continuas].dtypes == 'object'].index)"
   ]
  },
  {
   "cell_type": "code",
   "execution_count": 592,
   "metadata": {},
   "outputs": [
    {
     "data": {
      "text/plain": [
       "attack_description      1221\n",
       "attack_details           727\n",
       "impact                   645\n",
       "link_at_the_internet     963\n",
       "dtype: int64"
      ]
     },
     "execution_count": 592,
     "metadata": {},
     "output_type": "execute_result"
    }
   ],
   "source": [
    "df[v_categoricas_cont].nunique()"
   ]
  },
  {
   "cell_type": "code",
   "execution_count": 593,
   "metadata": {},
   "outputs": [
    {
     "data": {
      "text/html": [
       "<div>\n",
       "<style scoped>\n",
       "    .dataframe tbody tr th:only-of-type {\n",
       "        vertical-align: middle;\n",
       "    }\n",
       "\n",
       "    .dataframe tbody tr th {\n",
       "        vertical-align: top;\n",
       "    }\n",
       "\n",
       "    .dataframe thead th {\n",
       "        text-align: right;\n",
       "    }\n",
       "</style>\n",
       "<table border=\"1\" class=\"dataframe\">\n",
       "  <thead>\n",
       "    <tr style=\"text-align: right;\">\n",
       "      <th></th>\n",
       "      <th>attack_description</th>\n",
       "      <th>attack_details</th>\n",
       "      <th>impact</th>\n",
       "      <th>link_at_the_internet</th>\n",
       "    </tr>\n",
       "  </thead>\n",
       "  <tbody>\n",
       "    <tr>\n",
       "      <th>count</th>\n",
       "      <td>1238</td>\n",
       "      <td>1238</td>\n",
       "      <td>1238</td>\n",
       "      <td>1238</td>\n",
       "    </tr>\n",
       "    <tr>\n",
       "      <th>unique</th>\n",
       "      <td>1221</td>\n",
       "      <td>727</td>\n",
       "      <td>645</td>\n",
       "      <td>963</td>\n",
       "    </tr>\n",
       "    <tr>\n",
       "      <th>top</th>\n",
       "      <td>Hacker attack on Dolomiti Energia</td>\n",
       "      <td>Ransomware Attack - Blocking or encrypting mac...</td>\n",
       "      <td>Data leakage</td>\n",
       "      <td>&lt;a href='http://www.ibtimes.co.uk/wannacry-lis...</td>\n",
       "    </tr>\n",
       "    <tr>\n",
       "      <th>freq</th>\n",
       "      <td>2</td>\n",
       "      <td>511</td>\n",
       "      <td>553</td>\n",
       "      <td>226</td>\n",
       "    </tr>\n",
       "  </tbody>\n",
       "</table>\n",
       "</div>"
      ],
      "text/plain": [
       "                       attack_description                                     attack_details        impact                               link_at_the_internet\n",
       "count                                1238                                               1238          1238                                               1238\n",
       "unique                               1221                                                727           645                                                963\n",
       "top     Hacker attack on Dolomiti Energia  Ransomware Attack - Blocking or encrypting mac...  Data leakage  <a href='http://www.ibtimes.co.uk/wannacry-lis...\n",
       "freq                                    2                                                511           553                                                226"
      ]
     },
     "execution_count": 593,
     "metadata": {},
     "output_type": "execute_result"
    }
   ],
   "source": [
    "df[v_categoricas_cont].describe(include='all')"
   ]
  },
  {
   "cell_type": "markdown",
   "metadata": {},
   "source": [
    "##### **Attack Description, Attack Details e Impact.**\n",
    "La columna contiene valores que en su mayoría son únicos, lo que sugiere que actúa más como un identificador que como una característica con patrones generales útiles para el modelo. Transformarla directamente podría generar un exceso de categorías o introducir relaciones artificiales entre los valores, lo que podría afectar negativamente el rendimiento del modelo. Por este motivo, es mejor no transformar esta columna y evaluar su relevancia antes de incluirla en el análisis.\n"
   ]
  },
  {
   "cell_type": "code",
   "execution_count": 598,
   "metadata": {},
   "outputs": [
    {
     "data": {
      "text/plain": [
       "1221"
      ]
     },
     "execution_count": 598,
     "metadata": {},
     "output_type": "execute_result"
    }
   ],
   "source": [
    "df['attack_description'].nunique()"
   ]
  },
  {
   "cell_type": "code",
   "execution_count": 600,
   "metadata": {},
   "outputs": [
    {
     "data": {
      "text/plain": [
       "727"
      ]
     },
     "execution_count": 600,
     "metadata": {},
     "output_type": "execute_result"
    }
   ],
   "source": [
    "df['attack_details'].nunique()"
   ]
  },
  {
   "cell_type": "code",
   "execution_count": 601,
   "metadata": {},
   "outputs": [
    {
     "data": {
      "text/plain": [
       "645"
      ]
     },
     "execution_count": 601,
     "metadata": {},
     "output_type": "execute_result"
    }
   ],
   "source": [
    "df['impact'].nunique()"
   ]
  },
  {
   "cell_type": "markdown",
   "metadata": {},
   "source": [
    "##### **Link at the internet.**\n",
    "Deberemos de extraer el nombre del dominio de la URL."
   ]
  },
  {
   "cell_type": "code",
   "execution_count": 594,
   "metadata": {},
   "outputs": [],
   "source": [
    "def extract_url(link_html):\n",
    "    if pd.isna(link_html) or link_html == '':\n",
    "        return None\n",
    "    # Usar una expresión regular para encontrar la URL\n",
    "    match = re.search(r'href=[\\'\"]?([^\\'\" >]+)', link_html)\n",
    "    return match.group(1) if match else None"
   ]
  },
  {
   "cell_type": "code",
   "execution_count": 595,
   "metadata": {},
   "outputs": [],
   "source": [
    "def obtain_domain(url):\n",
    "    if pd.isna(url) or url == '':\n",
    "        return None\n",
    "    try:\n",
    "        # Extraer el dominio\n",
    "        return urlparse(url).netloc\n",
    "    except Exception as e:\n",
    "        print(f\"Error procesando la URL: {url}, Error: {e}\")\n",
    "        return None"
   ]
  },
  {
   "cell_type": "code",
   "execution_count": 596,
   "metadata": {},
   "outputs": [],
   "source": [
    "df['link_at_the_internet'] = df['link_at_the_internet'].apply(extract_url)\n",
    "df['link_at_the_internet'] = df['link_at_the_internet'].apply(obtain_domain)\n",
    "df['link_at_the_internet'] = df['link_at_the_internet'].str.replace('www.', '', regex=False)"
   ]
  },
  {
   "cell_type": "code",
   "execution_count": 597,
   "metadata": {},
   "outputs": [
    {
     "data": {
      "text/html": [
       "<div>\n",
       "<style scoped>\n",
       "    .dataframe tbody tr th:only-of-type {\n",
       "        vertical-align: middle;\n",
       "    }\n",
       "\n",
       "    .dataframe tbody tr th {\n",
       "        vertical-align: top;\n",
       "    }\n",
       "\n",
       "    .dataframe thead th {\n",
       "        text-align: right;\n",
       "    }\n",
       "</style>\n",
       "<table border=\"1\" class=\"dataframe\">\n",
       "  <thead>\n",
       "    <tr style=\"text-align: right;\">\n",
       "      <th></th>\n",
       "      <th>day</th>\n",
       "      <th>month</th>\n",
       "      <th>year</th>\n",
       "      <th>source_database</th>\n",
       "      <th>source_database_encoded</th>\n",
       "      <th>attack_description</th>\n",
       "      <th>industry_type</th>\n",
       "      <th>industry_type_group</th>\n",
       "      <th>industry_type_group_encoded</th>\n",
       "      <th>subcategory</th>\n",
       "      <th>subcategory_group</th>\n",
       "      <th>subcategory_group_encoded</th>\n",
       "      <th>attack_details</th>\n",
       "      <th>ti_safe_score</th>\n",
       "      <th>impact</th>\n",
       "      <th>link_at_the_internet</th>\n",
       "      <th>Africa</th>\n",
       "      <th>Asia</th>\n",
       "      <th>Australia</th>\n",
       "      <th>Europe</th>\n",
       "      <th>North America</th>\n",
       "      <th>South America</th>\n",
       "    </tr>\n",
       "    <tr>\n",
       "      <th>id</th>\n",
       "      <th></th>\n",
       "      <th></th>\n",
       "      <th></th>\n",
       "      <th></th>\n",
       "      <th></th>\n",
       "      <th></th>\n",
       "      <th></th>\n",
       "      <th></th>\n",
       "      <th></th>\n",
       "      <th></th>\n",
       "      <th></th>\n",
       "      <th></th>\n",
       "      <th></th>\n",
       "      <th></th>\n",
       "      <th></th>\n",
       "      <th></th>\n",
       "      <th></th>\n",
       "      <th></th>\n",
       "      <th></th>\n",
       "      <th></th>\n",
       "      <th></th>\n",
       "      <th></th>\n",
       "    </tr>\n",
       "  </thead>\n",
       "  <tbody>\n",
       "    <tr>\n",
       "      <th>1338</th>\n",
       "      <td>15</td>\n",
       "      <td>8</td>\n",
       "      <td>2024</td>\n",
       "      <td>TI Safe</td>\n",
       "      <td>4</td>\n",
       "      <td>A massive cyberattack disrupted Iran's Central...</td>\n",
       "      <td>Financial</td>\n",
       "      <td>Financial</td>\n",
       "      <td>5</td>\n",
       "      <td>Banking and Finance</td>\n",
       "      <td>Financial</td>\n",
       "      <td>13</td>\n",
       "      <td>The Central Bank of Iran suffered a major cybe...</td>\n",
       "      <td>4.0</td>\n",
       "      <td>Severe disruptions in Iran's banking system, w...</td>\n",
       "      <td>israelhayom.com</td>\n",
       "      <td>0</td>\n",
       "      <td>1</td>\n",
       "      <td>0</td>\n",
       "      <td>0</td>\n",
       "      <td>0</td>\n",
       "      <td>0</td>\n",
       "    </tr>\n",
       "    <tr>\n",
       "      <th>1337</th>\n",
       "      <td>15</td>\n",
       "      <td>8</td>\n",
       "      <td>2024</td>\n",
       "      <td>TI Safe</td>\n",
       "      <td>4</td>\n",
       "      <td>A previously unknown threat actor, dubbed Acto...</td>\n",
       "      <td>Public</td>\n",
       "      <td>Public</td>\n",
       "      <td>9</td>\n",
       "      <td>Gpver,emt</td>\n",
       "      <td>Government</td>\n",
       "      <td>14</td>\n",
       "      <td>In July 2024, a newly identified threat actor,...</td>\n",
       "      <td>4.0</td>\n",
       "      <td>Compromise of sensitive diplomatic data throug...</td>\n",
       "      <td>thehackernews.com</td>\n",
       "      <td>0</td>\n",
       "      <td>1</td>\n",
       "      <td>0</td>\n",
       "      <td>1</td>\n",
       "      <td>0</td>\n",
       "      <td>0</td>\n",
       "    </tr>\n",
       "  </tbody>\n",
       "</table>\n",
       "</div>"
      ],
      "text/plain": [
       "      day  month  year source_database  source_database_encoded                                 attack_description industry_type industry_type_group  industry_type_group_encoded          subcategory subcategory_group  subcategory_group_encoded                                     attack_details  ti_safe_score                                             impact link_at_the_internet  Africa  Asia  Australia  Europe  North America  South America\n",
       "id                                                                                                                                                                                                                                                                                                                                                                                                                                                          \n",
       "1338   15      8  2024         TI Safe                        4  A massive cyberattack disrupted Iran's Central...     Financial           Financial                            5  Banking and Finance         Financial                         13  The Central Bank of Iran suffered a major cybe...            4.0  Severe disruptions in Iran's banking system, w...      israelhayom.com       0     1          0       0              0              0\n",
       "1337   15      8  2024         TI Safe                        4  A previously unknown threat actor, dubbed Acto...        Public              Public                            9            Gpver,emt        Government                         14  In July 2024, a newly identified threat actor,...            4.0  Compromise of sensitive diplomatic data throug...    thehackernews.com       0     1          0       1              0              0"
      ]
     },
     "execution_count": 597,
     "metadata": {},
     "output_type": "execute_result"
    }
   ],
   "source": [
    "df.head(2)"
   ]
  },
  {
   "cell_type": "code",
   "execution_count": 602,
   "metadata": {},
   "outputs": [],
   "source": [
    "df.to_csv('data/TISAFE_cleaned.csv')"
   ]
  },
  {
   "cell_type": "markdown",
   "metadata": {},
   "source": [
    "### Modelos de clasificación."
   ]
  },
  {
   "cell_type": "markdown",
   "metadata": {},
   "source": [
    "Para la realización de los modelos de clasificación, deberemos de utilizar las columnas numéricas. Estas columnas se utilizarán como características para entrenar los modelos, permitiendo que estos aprendan patrones en los datos.\n",
    "\n",
    "Este proceso tiene como objetivo comprobar la limpieza de los datos y garantizar que la información sea adecuada para el análisis posterior."
   ]
  },
  {
   "cell_type": "markdown",
   "metadata": {},
   "source": [
    "### Gráficas generales."
   ]
  },
  {
   "cell_type": "code",
   "execution_count": null,
   "metadata": {},
   "outputs": [
    {
     "data": {
      "image/png": "[encoded data removed]",
      "text/plain": [
       "<Figure size 800x500 with 1 Axes>"
      ]
     },
     "metadata": {},
     "output_type": "display_data"
    }
   ],
   "source": [
    "plt.figure(figsize=(8, 5))\n",
    "df['year'].value_counts().sort_index().plot(kind='bar', color='skyblue', width=0.8)\n",
    "plt.title('Distribution of cyberattacks by year')\n",
    "plt.xlabel('Year')\n",
    "plt.ylabel('Frequency')\n",
    "plt.xticks(rotation=45, ha='right') \n",
    "plt.tight_layout()\n",
    "plt.show()"
   ]
  },
  {
   "cell_type": "code",
   "execution_count": null,
   "metadata": {},
   "outputs": [
    {
     "data": {
      "image/png": "[encoded data removed]",
      "text/plain": [
       "<Figure size 1000x600 with 1 Axes>"
      ]
     },
     "metadata": {},
     "output_type": "display_data"
    }
   ],
   "source": [
    "# Histograma 'subcategory'\n",
    "plt.figure(figsize=(10, 6))\n",
    "df['industry_type'].value_counts().plot(kind='bar', color='skyblue')\n",
    "plt.title('Distribution of Cyberattacks by Industry Types')\n",
    "plt.xlabel('Grouped Category')\n",
    "plt.ylabel('Frequency')\n",
    "plt.xticks(rotation=45, ha='right')\n",
    "plt.tight_layout()\n",
    "plt.show()"
   ]
  },
  {
   "cell_type": "code",
   "execution_count": null,
   "metadata": {},
   "outputs": [
    {
     "data": {
      "image/png": "[encoded data removed]",
      "text/plain": [
       "<Figure size 1000x600 with 1 Axes>"
      ]
     },
     "metadata": {},
     "output_type": "display_data"
    }
   ],
   "source": [
    "# Crear un histograma de la columna 'continent'\n",
    "plt.figure(figsize=(10, 6))\n",
    "df['continent'].value_counts().plot(kind='bar', color='coral')\n",
    "plt.title('Distribution of Cyberattacks by Continents')\n",
    "plt.xlabel('Continent')\n",
    "plt.ylabel('Frecuency')\n",
    "plt.xticks(rotation=45, ha='right')\n",
    "plt.tight_layout()\n",
    "plt.show()"
   ]
  }
 ],
 "metadata": {
  "kernelspec": {
   "display_name": "base",
   "language": "python",
   "name": "python3"
  },
  "language_info": {
   "codemirror_mode": {
    "name": "ipython",
    "version": 3
   },
   "file_extension": ".py",
   "mimetype": "text/x-python",
   "name": "python",
   "nbconvert_exporter": "python",
   "pygments_lexer": "ipython3",
   "version": "3.9.13"
  }
 },
 "nbformat": 4,
 "nbformat_minor": 2
}
