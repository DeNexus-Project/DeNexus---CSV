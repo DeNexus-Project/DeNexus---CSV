{
 "cells": [
  {
   "cell_type": "markdown",
   "metadata": {},
   "source": [
    "# **Hackmageddon.**\n",
    "El CSV se centra en incidentes de ciberseguridad, específicamente en ataques de secuestro de cuentas."
   ]
  },
  {
   "cell_type": "markdown",
   "metadata": {},
   "source": [
    "## Importación de librerias."
   ]
  },
  {
   "cell_type": "code",
   "execution_count": 1,
   "metadata": {},
   "outputs": [],
   "source": [
    "import pandas as pd\n",
    "import matplotlib.pyplot as plt\n",
    "import seaborn as sns\n",
    "from sklearn.preprocessing import OrdinalEncoder\n",
    "from urllib.parse import urlparse\n",
    "from sklearn.model_selection import train_test_split\n",
    "from sklearn.preprocessing import StandardScaler\n",
    "from sklearn.ensemble import RandomForestClassifier\n",
    "from sklearn.model_selection import train_test_split, cross_val_score\n",
    "from sklearn.tree import DecisionTreeClassifier\n",
    "from sklearn.linear_model import LogisticRegression"
   ]
  },
  {
   "cell_type": "markdown",
   "metadata": {},
   "source": [
    "## Importación e información del DataFrame."
   ]
  },
  {
   "cell_type": "code",
   "execution_count": null,
   "metadata": {},
   "outputs": [],
   "source": []
  },
  {
   "cell_type": "code",
   "execution_count": 2,
   "metadata": {},
   "outputs": [
    {
     "data": {
      "text/html": [
       "<div>\n",
       "<style scoped>\n",
       "    .dataframe tbody tr th:only-of-type {\n",
       "        vertical-align: middle;\n",
       "    }\n",
       "\n",
       "    .dataframe tbody tr th {\n",
       "        vertical-align: top;\n",
       "    }\n",
       "\n",
       "    .dataframe thead th {\n",
       "        text-align: right;\n",
       "    }\n",
       "</style>\n",
       "<table border=\"1\" class=\"dataframe\">\n",
       "  <thead>\n",
       "    <tr style=\"text-align: right;\">\n",
       "      <th></th>\n",
       "      <th>Date Reported</th>\n",
       "      <th>Date Occurred</th>\n",
       "      <th>Date Discovered</th>\n",
       "      <th>Author</th>\n",
       "      <th>Target</th>\n",
       "      <th>Description</th>\n",
       "      <th>Attack</th>\n",
       "      <th>Target Class</th>\n",
       "      <th>Attack Class</th>\n",
       "      <th>Country</th>\n",
       "      <th>Link</th>\n",
       "      <th>Tags</th>\n",
       "    </tr>\n",
       "  </thead>\n",
       "  <tbody>\n",
       "    <tr>\n",
       "      <th>0</th>\n",
       "      <td>2020-01-02 00:00:00</td>\n",
       "      <td>NaN</td>\n",
       "      <td>NaN</td>\n",
       "      <td>Chuckling Squad</td>\n",
       "      <td>Adam Sandler's Twitter account</td>\n",
       "      <td>Adam Sandler's Twitter account is hacked and u...</td>\n",
       "      <td>Account Hijacking</td>\n",
       "      <td>R Arts entertainment and recreation</td>\n",
       "      <td>CC</td>\n",
       "      <td>US</td>\n",
       "      <td>https://www.forbes.com/sites/daveywinder/2020/...</td>\n",
       "      <td>Adam Sandler, Twitter, Mariah Carey, President...</td>\n",
       "    </tr>\n",
       "    <tr>\n",
       "      <th>1</th>\n",
       "      <td>2020-01-02 00:00:00</td>\n",
       "      <td>NaN</td>\n",
       "      <td>NaN</td>\n",
       "      <td>?</td>\n",
       "      <td>Klamath County Veterans Service Office</td>\n",
       "      <td>Klamath County Veterans Service Office notifie...</td>\n",
       "      <td>Account Hijacking</td>\n",
       "      <td>O Public administration and defence, compulsor...</td>\n",
       "      <td>CC</td>\n",
       "      <td>US</td>\n",
       "      <td>https://www.databreaches.net/or-klamath-county...</td>\n",
       "      <td>Klamath County Veterans Service Office</td>\n",
       "    </tr>\n",
       "    <tr>\n",
       "      <th>2</th>\n",
       "      <td>2020-01-03 00:00:00</td>\n",
       "      <td>NaN</td>\n",
       "      <td>NaN</td>\n",
       "      <td>?</td>\n",
       "      <td>Alomere Health</td>\n",
       "      <td>The personal and medical information of 49,351...</td>\n",
       "      <td>Account Hijacking</td>\n",
       "      <td>Q Human health and social work activities</td>\n",
       "      <td>CC</td>\n",
       "      <td>US</td>\n",
       "      <td>https://www.bleepingcomputer.com/news/security...</td>\n",
       "      <td>Alomere Health</td>\n",
       "    </tr>\n",
       "    <tr>\n",
       "      <th>3</th>\n",
       "      <td>2020-01-03 00:00:00</td>\n",
       "      <td>NaN</td>\n",
       "      <td>NaN</td>\n",
       "      <td>?</td>\n",
       "      <td>Contra Costa County Library System</td>\n",
       "      <td>The Contra Costa County Library System is hit ...</td>\n",
       "      <td>Malware</td>\n",
       "      <td>O Public administration and defence, compulsor...</td>\n",
       "      <td>CC</td>\n",
       "      <td>US</td>\n",
       "      <td>https://www.govtech.com/security/Bay-Area-Libr...</td>\n",
       "      <td>The Contra Costa County Library System, ransom...</td>\n",
       "    </tr>\n",
       "    <tr>\n",
       "      <th>4</th>\n",
       "      <td>2020-01-03 00:00:00</td>\n",
       "      <td>NaN</td>\n",
       "      <td>NaN</td>\n",
       "      <td>?</td>\n",
       "      <td>Native American Rehabilitation Association</td>\n",
       "      <td>Native American Rehabilitation Association ann...</td>\n",
       "      <td>Malware</td>\n",
       "      <td>Q Human health and social work activities</td>\n",
       "      <td>CC</td>\n",
       "      <td>US</td>\n",
       "      <td>https://www.databreaches.net/native-american-r...</td>\n",
       "      <td>Native American Rehabilitation Association, Em...</td>\n",
       "    </tr>\n",
       "    <tr>\n",
       "      <th>...</th>\n",
       "      <td>...</td>\n",
       "      <td>...</td>\n",
       "      <td>...</td>\n",
       "      <td>...</td>\n",
       "      <td>...</td>\n",
       "      <td>...</td>\n",
       "      <td>...</td>\n",
       "      <td>...</td>\n",
       "      <td>...</td>\n",
       "      <td>...</td>\n",
       "      <td>...</td>\n",
       "      <td>...</td>\n",
       "    </tr>\n",
       "    <tr>\n",
       "      <th>4957</th>\n",
       "      <td>2022-01-12 00:00:00</td>\n",
       "      <td>Since 26/10/2021</td>\n",
       "      <td>-</td>\n",
       "      <td>?</td>\n",
       "      <td>Multiple Organizations</td>\n",
       "      <td>Researchers from Cisco Talos discover a new ca...</td>\n",
       "      <td>Malware</td>\n",
       "      <td>Multiple Industries</td>\n",
       "      <td>CC</td>\n",
       "      <td>&gt;1</td>\n",
       "      <td>https://www.zdnet.com/article/remote-access-tr...</td>\n",
       "      <td>Cisco Talos, Nanocore, Netwire, AsyncRAT</td>\n",
       "    </tr>\n",
       "    <tr>\n",
       "      <th>4958</th>\n",
       "      <td>2022-01-12 00:00:00</td>\n",
       "      <td>During January 2021</td>\n",
       "      <td>During January 2021</td>\n",
       "      <td>?</td>\n",
       "      <td>OneDigital</td>\n",
       "      <td>OneDigital, an insurance broker, discloses a r...</td>\n",
       "      <td>Malware</td>\n",
       "      <td>Professional, scientific and technical</td>\n",
       "      <td>CC</td>\n",
       "      <td>US</td>\n",
       "      <td>https://www.hipaajournal.com/phi-of-anthem-mem...</td>\n",
       "      <td>OneDigital, ransomware</td>\n",
       "    </tr>\n",
       "    <tr>\n",
       "      <th>4959</th>\n",
       "      <td>2022-01-13 00:00:00</td>\n",
       "      <td>During November 2021</td>\n",
       "      <td>During November 2021</td>\n",
       "      <td>BlueNoroff</td>\n",
       "      <td>Cryptocurrency startups</td>\n",
       "      <td>Researchers from Kaspersky discover SnatchCryp...</td>\n",
       "      <td>Malware</td>\n",
       "      <td>Fintech</td>\n",
       "      <td>CC</td>\n",
       "      <td>&gt;1</td>\n",
       "      <td>https://www.bleepingcomputer.com/news/security...</td>\n",
       "      <td>Kaspersky, 'BlueNoroff', MetaMask, SnatchCrypto</td>\n",
       "    </tr>\n",
       "    <tr>\n",
       "      <th>4960</th>\n",
       "      <td>2022-01-13 00:00:00</td>\n",
       "      <td>Since December 2021</td>\n",
       "      <td>During December 2021</td>\n",
       "      <td>Multiple threat actors</td>\n",
       "      <td>Office 365 users</td>\n",
       "      <td>Researchers from Avanan discover multiple camp...</td>\n",
       "      <td>Account Takeover</td>\n",
       "      <td>Multiple Industries</td>\n",
       "      <td>CC</td>\n",
       "      <td>&gt;1</td>\n",
       "      <td>https://www.helpnetsecurity.com/2022/01/13/phi...</td>\n",
       "      <td>Avanan, Adobe Creative Cloud</td>\n",
       "    </tr>\n",
       "    <tr>\n",
       "      <th>4961</th>\n",
       "      <td>2022-01-13 00:00:00</td>\n",
       "      <td>During the past three weeks</td>\n",
       "      <td>During the past three weeks</td>\n",
       "      <td>GootLoader</td>\n",
       "      <td>Law and accounting firms</td>\n",
       "      <td>Researchers from eSentire, warn law and accoun...</td>\n",
       "      <td>Malware</td>\n",
       "      <td>Professional, scientific and technical</td>\n",
       "      <td>CC</td>\n",
       "      <td>&gt;1</td>\n",
       "      <td>https://threatpost.com/gootloader-accounting-l...</td>\n",
       "      <td>eSentire, GootLoader</td>\n",
       "    </tr>\n",
       "  </tbody>\n",
       "</table>\n",
       "<p>4962 rows × 12 columns</p>\n",
       "</div>"
      ],
      "text/plain": [
       "            Date Reported                Date Occurred  \\\n",
       "0     2020-01-02 00:00:00                          NaN   \n",
       "1     2020-01-02 00:00:00                          NaN   \n",
       "2     2020-01-03 00:00:00                          NaN   \n",
       "3     2020-01-03 00:00:00                          NaN   \n",
       "4     2020-01-03 00:00:00                          NaN   \n",
       "...                   ...                          ...   \n",
       "4957  2022-01-12 00:00:00             Since 26/10/2021   \n",
       "4958  2022-01-12 00:00:00          During January 2021   \n",
       "4959  2022-01-13 00:00:00         During November 2021   \n",
       "4960  2022-01-13 00:00:00          Since December 2021   \n",
       "4961  2022-01-13 00:00:00  During the past three weeks   \n",
       "\n",
       "                  Date Discovered                  Author  \\\n",
       "0                             NaN         Chuckling Squad   \n",
       "1                             NaN                       ?   \n",
       "2                             NaN                       ?   \n",
       "3                             NaN                       ?   \n",
       "4                             NaN                       ?   \n",
       "...                           ...                     ...   \n",
       "4957                            -                       ?   \n",
       "4958          During January 2021                       ?   \n",
       "4959         During November 2021              BlueNoroff   \n",
       "4960         During December 2021  Multiple threat actors   \n",
       "4961  During the past three weeks              GootLoader   \n",
       "\n",
       "                                          Target  \\\n",
       "0                 Adam Sandler's Twitter account   \n",
       "1         Klamath County Veterans Service Office   \n",
       "2                                 Alomere Health   \n",
       "3             Contra Costa County Library System   \n",
       "4     Native American Rehabilitation Association   \n",
       "...                                          ...   \n",
       "4957                      Multiple Organizations   \n",
       "4958                                  OneDigital   \n",
       "4959                     Cryptocurrency startups   \n",
       "4960                            Office 365 users   \n",
       "4961                    Law and accounting firms   \n",
       "\n",
       "                                            Description             Attack  \\\n",
       "0     Adam Sandler's Twitter account is hacked and u...  Account Hijacking   \n",
       "1     Klamath County Veterans Service Office notifie...  Account Hijacking   \n",
       "2     The personal and medical information of 49,351...  Account Hijacking   \n",
       "3     The Contra Costa County Library System is hit ...            Malware   \n",
       "4     Native American Rehabilitation Association ann...            Malware   \n",
       "...                                                 ...                ...   \n",
       "4957  Researchers from Cisco Talos discover a new ca...            Malware   \n",
       "4958  OneDigital, an insurance broker, discloses a r...            Malware   \n",
       "4959  Researchers from Kaspersky discover SnatchCryp...            Malware   \n",
       "4960  Researchers from Avanan discover multiple camp...   Account Takeover   \n",
       "4961  Researchers from eSentire, warn law and accoun...            Malware   \n",
       "\n",
       "                                           Target Class Attack Class Country  \\\n",
       "0                   R Arts entertainment and recreation           CC      US   \n",
       "1     O Public administration and defence, compulsor...           CC      US   \n",
       "2             Q Human health and social work activities           CC      US   \n",
       "3     O Public administration and defence, compulsor...           CC      US   \n",
       "4             Q Human health and social work activities           CC      US   \n",
       "...                                                 ...          ...     ...   \n",
       "4957                                Multiple Industries           CC      >1   \n",
       "4958             Professional, scientific and technical           CC      US   \n",
       "4959                                            Fintech           CC      >1   \n",
       "4960                                Multiple Industries           CC      >1   \n",
       "4961             Professional, scientific and technical           CC      >1   \n",
       "\n",
       "                                                   Link  \\\n",
       "0     https://www.forbes.com/sites/daveywinder/2020/...   \n",
       "1     https://www.databreaches.net/or-klamath-county...   \n",
       "2     https://www.bleepingcomputer.com/news/security...   \n",
       "3     https://www.govtech.com/security/Bay-Area-Libr...   \n",
       "4     https://www.databreaches.net/native-american-r...   \n",
       "...                                                 ...   \n",
       "4957  https://www.zdnet.com/article/remote-access-tr...   \n",
       "4958  https://www.hipaajournal.com/phi-of-anthem-mem...   \n",
       "4959  https://www.bleepingcomputer.com/news/security...   \n",
       "4960  https://www.helpnetsecurity.com/2022/01/13/phi...   \n",
       "4961  https://threatpost.com/gootloader-accounting-l...   \n",
       "\n",
       "                                                   Tags  \n",
       "0     Adam Sandler, Twitter, Mariah Carey, President...  \n",
       "1                Klamath County Veterans Service Office  \n",
       "2                                        Alomere Health  \n",
       "3     The Contra Costa County Library System, ransom...  \n",
       "4     Native American Rehabilitation Association, Em...  \n",
       "...                                                 ...  \n",
       "4957           Cisco Talos, Nanocore, Netwire, AsyncRAT  \n",
       "4958                             OneDigital, ransomware  \n",
       "4959    Kaspersky, 'BlueNoroff', MetaMask, SnatchCrypto  \n",
       "4960                       Avanan, Adobe Creative Cloud  \n",
       "4961                               eSentire, GootLoader  \n",
       "\n",
       "[4962 rows x 12 columns]"
      ]
     },
     "execution_count": 2,
     "metadata": {},
     "output_type": "execute_result"
    }
   ],
   "source": [
    "df = pd.read_csv('../data/HACKMAGEDDON.csv')\n",
    "df"
   ]
  },
  {
   "cell_type": "code",
   "execution_count": 3,
   "metadata": {},
   "outputs": [
    {
     "data": {
      "text/html": [
       "<div>\n",
       "<style scoped>\n",
       "    .dataframe tbody tr th:only-of-type {\n",
       "        vertical-align: middle;\n",
       "    }\n",
       "\n",
       "    .dataframe tbody tr th {\n",
       "        vertical-align: top;\n",
       "    }\n",
       "\n",
       "    .dataframe thead th {\n",
       "        text-align: right;\n",
       "    }\n",
       "</style>\n",
       "<table border=\"1\" class=\"dataframe\">\n",
       "  <thead>\n",
       "    <tr style=\"text-align: right;\">\n",
       "      <th></th>\n",
       "      <th>Date Reported</th>\n",
       "      <th>Date Occurred</th>\n",
       "      <th>Date Discovered</th>\n",
       "      <th>Author</th>\n",
       "      <th>Target</th>\n",
       "      <th>Description</th>\n",
       "      <th>Attack</th>\n",
       "      <th>Target Class</th>\n",
       "      <th>Attack Class</th>\n",
       "      <th>Country</th>\n",
       "      <th>Link</th>\n",
       "      <th>Tags</th>\n",
       "    </tr>\n",
       "  </thead>\n",
       "  <tbody>\n",
       "    <tr>\n",
       "      <th>count</th>\n",
       "      <td>4962</td>\n",
       "      <td>2614</td>\n",
       "      <td>2613</td>\n",
       "      <td>4942</td>\n",
       "      <td>4947</td>\n",
       "      <td>4948</td>\n",
       "      <td>4947</td>\n",
       "      <td>4948</td>\n",
       "      <td>4871</td>\n",
       "      <td>4773</td>\n",
       "      <td>4932</td>\n",
       "      <td>4703</td>\n",
       "    </tr>\n",
       "    <tr>\n",
       "      <th>unique</th>\n",
       "      <td>725</td>\n",
       "      <td>841</td>\n",
       "      <td>513</td>\n",
       "      <td>844</td>\n",
       "      <td>3864</td>\n",
       "      <td>4861</td>\n",
       "      <td>74</td>\n",
       "      <td>43</td>\n",
       "      <td>6</td>\n",
       "      <td>154</td>\n",
       "      <td>4534</td>\n",
       "      <td>4542</td>\n",
       "    </tr>\n",
       "    <tr>\n",
       "      <th>top</th>\n",
       "      <td>2021-03-10 00:00:00</td>\n",
       "      <td>-</td>\n",
       "      <td>-</td>\n",
       "      <td>?</td>\n",
       "      <td>Multiple targets</td>\n",
       "      <td>A threat actor sells account databases contain...</td>\n",
       "      <td>Malware</td>\n",
       "      <td>Multiple Industries</td>\n",
       "      <td>CC</td>\n",
       "      <td>US</td>\n",
       "      <td>https://www.bleepingcomputer.com/news/security...</td>\n",
       "      <td>University of York, Oxford Brookes University,...</td>\n",
       "    </tr>\n",
       "    <tr>\n",
       "      <th>freq</th>\n",
       "      <td>24</td>\n",
       "      <td>1021</td>\n",
       "      <td>1393</td>\n",
       "      <td>3342</td>\n",
       "      <td>307</td>\n",
       "      <td>16</td>\n",
       "      <td>1963</td>\n",
       "      <td>541</td>\n",
       "      <td>4207</td>\n",
       "      <td>1749</td>\n",
       "      <td>16</td>\n",
       "      <td>11</td>\n",
       "    </tr>\n",
       "  </tbody>\n",
       "</table>\n",
       "</div>"
      ],
      "text/plain": [
       "              Date Reported Date Occurred Date Discovered Author  \\\n",
       "count                  4962          2614            2613   4942   \n",
       "unique                  725           841             513    844   \n",
       "top     2021-03-10 00:00:00             -               -      ?   \n",
       "freq                     24          1021            1393   3342   \n",
       "\n",
       "                  Target                                        Description  \\\n",
       "count               4947                                               4948   \n",
       "unique              3864                                               4861   \n",
       "top     Multiple targets  A threat actor sells account databases contain...   \n",
       "freq                 307                                                 16   \n",
       "\n",
       "         Attack         Target Class Attack Class Country  \\\n",
       "count      4947                 4948         4871    4773   \n",
       "unique       74                   43            6     154   \n",
       "top     Malware  Multiple Industries           CC      US   \n",
       "freq       1963                  541         4207    1749   \n",
       "\n",
       "                                                     Link  \\\n",
       "count                                                4932   \n",
       "unique                                               4534   \n",
       "top     https://www.bleepingcomputer.com/news/security...   \n",
       "freq                                                   16   \n",
       "\n",
       "                                                     Tags  \n",
       "count                                                4703  \n",
       "unique                                               4542  \n",
       "top     University of York, Oxford Brookes University,...  \n",
       "freq                                                   11  "
      ]
     },
     "execution_count": 3,
     "metadata": {},
     "output_type": "execute_result"
    }
   ],
   "source": [
    "df.describe()"
   ]
  },
  {
   "cell_type": "code",
   "execution_count": 4,
   "metadata": {},
   "outputs": [
    {
     "data": {
      "text/plain": [
       "(4962, 12)"
      ]
     },
     "execution_count": 4,
     "metadata": {},
     "output_type": "execute_result"
    }
   ],
   "source": [
    "df.shape"
   ]
  },
  {
   "cell_type": "code",
   "execution_count": 5,
   "metadata": {},
   "outputs": [
    {
     "data": {
      "text/plain": [
       "Date Reported      object\n",
       "Date Occurred      object\n",
       "Date Discovered    object\n",
       "Author             object\n",
       "Target             object\n",
       "Description        object\n",
       "Attack             object\n",
       "Target Class       object\n",
       "Attack Class       object\n",
       "Country            object\n",
       "Link               object\n",
       "Tags               object\n",
       "dtype: object"
      ]
     },
     "execution_count": 5,
     "metadata": {},
     "output_type": "execute_result"
    }
   ],
   "source": [
    "df.dtypes"
   ]
  },
  {
   "cell_type": "code",
   "execution_count": 6,
   "metadata": {},
   "outputs": [
    {
     "data": {
      "text/plain": [
       "Index(['Date Reported', 'Date Occurred', 'Date Discovered', 'Author', 'Target',\n",
       "       'Description', 'Attack', 'Target Class', 'Attack Class', 'Country',\n",
       "       'Link', 'Tags'],\n",
       "      dtype='object')"
      ]
     },
     "execution_count": 6,
     "metadata": {},
     "output_type": "execute_result"
    }
   ],
   "source": [
    "df.columns"
   ]
  },
  {
   "cell_type": "markdown",
   "metadata": {},
   "source": [
    "Se nos muestra que tiene un total de 12 columnas que deberemos de examinar para saber cuáles tener en cuenta a la hora de la realización de nuestro estudio y lo q significan cada una de ellas.\n",
    "1. **Date Reported**: La fecha en que el incidente fue reportado por primera vez a la organización o autoridad competente. Puede diferir de la fecha en que ocurrió el ataque.   \n",
    "2. **Date Occurred**: La fecha en que ocurrió el incidente o ataque. En algunos casos, puede ser desconocida si el ataque no fue detectado inmediatamente.     \n",
    "3. **Date Discovered**: La fecha en que se descubrió el incidente. Esta fecha puede ser posterior a la fecha en que ocurrió el evento, especialmente si el ataque pasó desapercibido durante un tiempo.    \n",
    "4. **Author**: La entidad o persona que reportó o documentó el incidente. Puede ser un investigador, analista de seguridad o un sistema automatizado de detección            \n",
    "5. **Target**: La entidad o sistema que fue el objetivo del ataque. Puede ser una empresa, un gobierno, un servidor específico, o una persona            \n",
    "6. **Description**: Una descripción detallada del incidente o ataque. Aquí se proporcionan detalles técnicos o generales sobre lo sucedido.       \n",
    "7. **Attack**: El tipo de ataque llevado a cabo, por ejemplo, \"phishing\", \"ransomware\", \"ataque de denegación de servicio (DoS)\", etc.             \n",
    "8. **Target Class**: La clase o tipo de objetivo del ataque. Puede referirse a categorías como \"infraestructura crítica\", \"empresa privada\", \"usuario final\", entre otros.       \n",
    "9. **Attack Class**: Clasificación del ataque según su naturaleza. Por ejemplo, \"intrusión\", \"exfiltración de datos\", \"interrupción de servicio\", etc.      \n",
    "10. **Country**: El país de origen del ataque, o donde se encuentra el objetivo del ataque.            \n",
    "11. **Link**: Un enlace (URL) a una fuente externa que proporciona más información sobre el incidente o ataque.               \n",
    "12. **Tags**: Etiquetas que ayudan a clasificar el incidente, a menudo utilizadas para categorizar o identificar temas comunes en los datos, como \"malware\", \"APT (Advanced Persistent Threat)\", \"fraude financiero\", etc.               "
   ]
  },
  {
   "cell_type": "markdown",
   "metadata": {},
   "source": [
    "### **Date Reported.**\n",
    "\n",
    "Transformaremos la columna **Date Reported** en tres nuevas columnas que representarán el día, mes y año por separado. Esto permitirá realizar un análisis más detallado de los datos basados en fechas específicas."
   ]
  },
  {
   "cell_type": "code",
   "execution_count": 7,
   "metadata": {},
   "outputs": [],
   "source": [
    "df['Date Reported'] = pd.to_datetime(df['Date Reported'])\n",
    "\n",
    "df['Day'] = df['Date Reported'].dt.day\n",
    "df['Month'] = df['Date Reported'].dt.month\n",
    "df['Year'] = df['Date Reported'].dt.year"
   ]
  },
  {
   "cell_type": "code",
   "execution_count": 8,
   "metadata": {},
   "outputs": [
    {
     "data": {
      "text/html": [
       "<div>\n",
       "<style scoped>\n",
       "    .dataframe tbody tr th:only-of-type {\n",
       "        vertical-align: middle;\n",
       "    }\n",
       "\n",
       "    .dataframe tbody tr th {\n",
       "        vertical-align: top;\n",
       "    }\n",
       "\n",
       "    .dataframe thead th {\n",
       "        text-align: right;\n",
       "    }\n",
       "</style>\n",
       "<table border=\"1\" class=\"dataframe\">\n",
       "  <thead>\n",
       "    <tr style=\"text-align: right;\">\n",
       "      <th></th>\n",
       "      <th>Date Occurred</th>\n",
       "      <th>Date Discovered</th>\n",
       "      <th>Author</th>\n",
       "      <th>Target</th>\n",
       "      <th>Description</th>\n",
       "      <th>Attack</th>\n",
       "      <th>Target Class</th>\n",
       "      <th>Attack Class</th>\n",
       "      <th>Country</th>\n",
       "      <th>Link</th>\n",
       "      <th>Tags</th>\n",
       "      <th>Day</th>\n",
       "      <th>Month</th>\n",
       "      <th>Year</th>\n",
       "    </tr>\n",
       "  </thead>\n",
       "  <tbody>\n",
       "    <tr>\n",
       "      <th>0</th>\n",
       "      <td>NaN</td>\n",
       "      <td>NaN</td>\n",
       "      <td>Chuckling Squad</td>\n",
       "      <td>Adam Sandler's Twitter account</td>\n",
       "      <td>Adam Sandler's Twitter account is hacked and u...</td>\n",
       "      <td>Account Hijacking</td>\n",
       "      <td>R Arts entertainment and recreation</td>\n",
       "      <td>CC</td>\n",
       "      <td>US</td>\n",
       "      <td>https://www.forbes.com/sites/daveywinder/2020/...</td>\n",
       "      <td>Adam Sandler, Twitter, Mariah Carey, President...</td>\n",
       "      <td>2</td>\n",
       "      <td>1</td>\n",
       "      <td>2020</td>\n",
       "    </tr>\n",
       "    <tr>\n",
       "      <th>1</th>\n",
       "      <td>NaN</td>\n",
       "      <td>NaN</td>\n",
       "      <td>?</td>\n",
       "      <td>Klamath County Veterans Service Office</td>\n",
       "      <td>Klamath County Veterans Service Office notifie...</td>\n",
       "      <td>Account Hijacking</td>\n",
       "      <td>O Public administration and defence, compulsor...</td>\n",
       "      <td>CC</td>\n",
       "      <td>US</td>\n",
       "      <td>https://www.databreaches.net/or-klamath-county...</td>\n",
       "      <td>Klamath County Veterans Service Office</td>\n",
       "      <td>2</td>\n",
       "      <td>1</td>\n",
       "      <td>2020</td>\n",
       "    </tr>\n",
       "    <tr>\n",
       "      <th>2</th>\n",
       "      <td>NaN</td>\n",
       "      <td>NaN</td>\n",
       "      <td>?</td>\n",
       "      <td>Alomere Health</td>\n",
       "      <td>The personal and medical information of 49,351...</td>\n",
       "      <td>Account Hijacking</td>\n",
       "      <td>Q Human health and social work activities</td>\n",
       "      <td>CC</td>\n",
       "      <td>US</td>\n",
       "      <td>https://www.bleepingcomputer.com/news/security...</td>\n",
       "      <td>Alomere Health</td>\n",
       "      <td>3</td>\n",
       "      <td>1</td>\n",
       "      <td>2020</td>\n",
       "    </tr>\n",
       "    <tr>\n",
       "      <th>3</th>\n",
       "      <td>NaN</td>\n",
       "      <td>NaN</td>\n",
       "      <td>?</td>\n",
       "      <td>Contra Costa County Library System</td>\n",
       "      <td>The Contra Costa County Library System is hit ...</td>\n",
       "      <td>Malware</td>\n",
       "      <td>O Public administration and defence, compulsor...</td>\n",
       "      <td>CC</td>\n",
       "      <td>US</td>\n",
       "      <td>https://www.govtech.com/security/Bay-Area-Libr...</td>\n",
       "      <td>The Contra Costa County Library System, ransom...</td>\n",
       "      <td>3</td>\n",
       "      <td>1</td>\n",
       "      <td>2020</td>\n",
       "    </tr>\n",
       "    <tr>\n",
       "      <th>4</th>\n",
       "      <td>NaN</td>\n",
       "      <td>NaN</td>\n",
       "      <td>?</td>\n",
       "      <td>Native American Rehabilitation Association</td>\n",
       "      <td>Native American Rehabilitation Association ann...</td>\n",
       "      <td>Malware</td>\n",
       "      <td>Q Human health and social work activities</td>\n",
       "      <td>CC</td>\n",
       "      <td>US</td>\n",
       "      <td>https://www.databreaches.net/native-american-r...</td>\n",
       "      <td>Native American Rehabilitation Association, Em...</td>\n",
       "      <td>3</td>\n",
       "      <td>1</td>\n",
       "      <td>2020</td>\n",
       "    </tr>\n",
       "  </tbody>\n",
       "</table>\n",
       "</div>"
      ],
      "text/plain": [
       "  Date Occurred Date Discovered           Author  \\\n",
       "0           NaN             NaN  Chuckling Squad   \n",
       "1           NaN             NaN                ?   \n",
       "2           NaN             NaN                ?   \n",
       "3           NaN             NaN                ?   \n",
       "4           NaN             NaN                ?   \n",
       "\n",
       "                                       Target  \\\n",
       "0              Adam Sandler's Twitter account   \n",
       "1      Klamath County Veterans Service Office   \n",
       "2                              Alomere Health   \n",
       "3          Contra Costa County Library System   \n",
       "4  Native American Rehabilitation Association   \n",
       "\n",
       "                                         Description             Attack  \\\n",
       "0  Adam Sandler's Twitter account is hacked and u...  Account Hijacking   \n",
       "1  Klamath County Veterans Service Office notifie...  Account Hijacking   \n",
       "2  The personal and medical information of 49,351...  Account Hijacking   \n",
       "3  The Contra Costa County Library System is hit ...            Malware   \n",
       "4  Native American Rehabilitation Association ann...            Malware   \n",
       "\n",
       "                                        Target Class Attack Class Country  \\\n",
       "0                R Arts entertainment and recreation           CC      US   \n",
       "1  O Public administration and defence, compulsor...           CC      US   \n",
       "2          Q Human health and social work activities           CC      US   \n",
       "3  O Public administration and defence, compulsor...           CC      US   \n",
       "4          Q Human health and social work activities           CC      US   \n",
       "\n",
       "                                                Link  \\\n",
       "0  https://www.forbes.com/sites/daveywinder/2020/...   \n",
       "1  https://www.databreaches.net/or-klamath-county...   \n",
       "2  https://www.bleepingcomputer.com/news/security...   \n",
       "3  https://www.govtech.com/security/Bay-Area-Libr...   \n",
       "4  https://www.databreaches.net/native-american-r...   \n",
       "\n",
       "                                                Tags  Day  Month  Year  \n",
       "0  Adam Sandler, Twitter, Mariah Carey, President...    2      1  2020  \n",
       "1             Klamath County Veterans Service Office    2      1  2020  \n",
       "2                                     Alomere Health    3      1  2020  \n",
       "3  The Contra Costa County Library System, ransom...    3      1  2020  \n",
       "4  Native American Rehabilitation Association, Em...    3      1  2020  "
      ]
     },
     "execution_count": 8,
     "metadata": {},
     "output_type": "execute_result"
    }
   ],
   "source": [
    "df.drop(columns=['Date Reported'], inplace=True)\n",
    "df.head()"
   ]
  },
  {
   "cell_type": "markdown",
   "metadata": {},
   "source": [
    "### **Link**.\n",
    "Esta columna será útil para definir las relaciones entre diferentes CSVs. Extraeremos el nombre del dominio de la URL para simplificar el análisis y la comparación entre los datos."
   ]
  },
  {
   "cell_type": "code",
   "execution_count": 9,
   "metadata": {},
   "outputs": [],
   "source": [
    "def obtener_dominio(url):\n",
    "    try:\n",
    "        return urlparse(url).netloc\n",
    "    except:\n",
    "        return None\n",
    "\n",
    "df['Link'] = df['Link'].apply(obtener_dominio)\n",
    "df['Link'] = df['Link'].str.replace('www.', '', regex=False)\n"
   ]
  },
  {
   "cell_type": "markdown",
   "metadata": {},
   "source": [
    "## Limpieza de datos."
   ]
  },
  {
   "cell_type": "markdown",
   "metadata": {},
   "source": [
    "### Manejo de filas duplicadas.\n",
    "En caso de haber filas duplicadas, deberemos de eliminar estas para que no afecten al análisis posterior."
   ]
  },
  {
   "cell_type": "code",
   "execution_count": 10,
   "metadata": {},
   "outputs": [
    {
     "data": {
      "text/plain": [
       "2"
      ]
     },
     "execution_count": 10,
     "metadata": {},
     "output_type": "execute_result"
    }
   ],
   "source": [
    "df.duplicated().sum() # Columnas duplicadas"
   ]
  },
  {
   "cell_type": "code",
   "execution_count": 11,
   "metadata": {},
   "outputs": [
    {
     "data": {
      "text/html": [
       "<div>\n",
       "<style scoped>\n",
       "    .dataframe tbody tr th:only-of-type {\n",
       "        vertical-align: middle;\n",
       "    }\n",
       "\n",
       "    .dataframe tbody tr th {\n",
       "        vertical-align: top;\n",
       "    }\n",
       "\n",
       "    .dataframe thead th {\n",
       "        text-align: right;\n",
       "    }\n",
       "</style>\n",
       "<table border=\"1\" class=\"dataframe\">\n",
       "  <thead>\n",
       "    <tr style=\"text-align: right;\">\n",
       "      <th></th>\n",
       "      <th>Date Occurred</th>\n",
       "      <th>Date Discovered</th>\n",
       "      <th>Author</th>\n",
       "      <th>Target</th>\n",
       "      <th>Description</th>\n",
       "      <th>Attack</th>\n",
       "      <th>Target Class</th>\n",
       "      <th>Attack Class</th>\n",
       "      <th>Country</th>\n",
       "      <th>Link</th>\n",
       "      <th>Tags</th>\n",
       "      <th>Day</th>\n",
       "      <th>Month</th>\n",
       "      <th>Year</th>\n",
       "    </tr>\n",
       "  </thead>\n",
       "  <tbody>\n",
       "    <tr>\n",
       "      <th>1656</th>\n",
       "      <td>NaN</td>\n",
       "      <td>NaN</td>\n",
       "      <td>?</td>\n",
       "      <td>Undisclosed North American hospitality merchant</td>\n",
       "      <td>Visa reveals that two North American hospitali...</td>\n",
       "      <td>Malware</td>\n",
       "      <td>K Financial and insurance activities</td>\n",
       "      <td>CC</td>\n",
       "      <td>US</td>\n",
       "      <td>zdnet.com</td>\n",
       "      <td>Visa</td>\n",
       "      <td>30</td>\n",
       "      <td>9</td>\n",
       "      <td>2020</td>\n",
       "    </tr>\n",
       "    <tr>\n",
       "      <th>2902</th>\n",
       "      <td>-</td>\n",
       "      <td>-</td>\n",
       "      <td>Revil AKA Sodinokibi</td>\n",
       "      <td>Unnamed Law Firm</td>\n",
       "      <td>Researchers from eSentire reveal the details o...</td>\n",
       "      <td>Malware</td>\n",
       "      <td>Professional, scientific and technical</td>\n",
       "      <td>CC</td>\n",
       "      <td>US</td>\n",
       "      <td>threatpost.com</td>\n",
       "      <td>REvil, Sodinokibi, eSentire</td>\n",
       "      <td>12</td>\n",
       "      <td>3</td>\n",
       "      <td>2021</td>\n",
       "    </tr>\n",
       "  </tbody>\n",
       "</table>\n",
       "</div>"
      ],
      "text/plain": [
       "     Date Occurred Date Discovered                Author  \\\n",
       "1656           NaN             NaN                     ?   \n",
       "2902             -               -  Revil AKA Sodinokibi   \n",
       "\n",
       "                                               Target  \\\n",
       "1656  Undisclosed North American hospitality merchant   \n",
       "2902                                 Unnamed Law Firm   \n",
       "\n",
       "                                            Description   Attack  \\\n",
       "1656  Visa reveals that two North American hospitali...  Malware   \n",
       "2902  Researchers from eSentire reveal the details o...  Malware   \n",
       "\n",
       "                                Target Class Attack Class Country  \\\n",
       "1656    K Financial and insurance activities           CC      US   \n",
       "2902  Professional, scientific and technical           CC      US   \n",
       "\n",
       "                Link                         Tags  Day  Month  Year  \n",
       "1656       zdnet.com                         Visa   30      9  2020  \n",
       "2902  threatpost.com  REvil, Sodinokibi, eSentire   12      3  2021  "
      ]
     },
     "execution_count": 11,
     "metadata": {},
     "output_type": "execute_result"
    }
   ],
   "source": [
    "df[df.duplicated()]"
   ]
  },
  {
   "cell_type": "code",
   "execution_count": 12,
   "metadata": {},
   "outputs": [],
   "source": [
    "df.drop_duplicates(inplace = True)"
   ]
  },
  {
   "cell_type": "code",
   "execution_count": 13,
   "metadata": {},
   "outputs": [
    {
     "data": {
      "text/plain": [
       "(4960, 14)"
      ]
     },
     "execution_count": 13,
     "metadata": {},
     "output_type": "execute_result"
    }
   ],
   "source": [
    "df.shape"
   ]
  },
  {
   "cell_type": "markdown",
   "metadata": {},
   "source": [
    "### Manejo de valores nulos."
   ]
  },
  {
   "cell_type": "code",
   "execution_count": 14,
   "metadata": {},
   "outputs": [
    {
     "data": {
      "text/plain": [
       "Date Occurred      2347\n",
       "Date Discovered    2348\n",
       "Author               20\n",
       "Target               15\n",
       "Description          14\n",
       "Attack               15\n",
       "Target Class         14\n",
       "Attack Class         91\n",
       "Country             189\n",
       "Link                 30\n",
       "Tags                259\n",
       "Day                   0\n",
       "Month                 0\n",
       "Year                  0\n",
       "dtype: int64"
      ]
     },
     "execution_count": 14,
     "metadata": {},
     "output_type": "execute_result"
    }
   ],
   "source": [
    "df.isnull().sum()"
   ]
  },
  {
   "cell_type": "markdown",
   "metadata": {},
   "source": [
    "Se decidió eliminar las columnas **Date Ocurred** y **Date Discovered** debido a la alta proporción de valores `NaN`, que supera el 50%. Esta columna no aportaba información significativa para el análisis y su presencia podría afectar la calidad y el rendimiento del modelo. Mantener columnas con muchos valores nulos complicaría el preprocesamiento de datos y no contribuiría al aprendizaje del modelo."
   ]
  },
  {
   "cell_type": "code",
   "execution_count": 15,
   "metadata": {},
   "outputs": [],
   "source": [
    "df.drop(['Date Occurred', 'Date Discovered'], axis=1, inplace=True)"
   ]
  },
  {
   "cell_type": "markdown",
   "metadata": {},
   "source": [
    "Las demás columnas con valores nulos representan menos del 20% del total de filas del DataFrame. Por lo tanto, lo más conveniente será eliminar estas filas en lugar de rellenarlas con valores como la mediana o la moda."
   ]
  },
  {
   "cell_type": "code",
   "execution_count": 16,
   "metadata": {},
   "outputs": [
    {
     "data": {
      "text/plain": [
       "(4960, 12)"
      ]
     },
     "execution_count": 16,
     "metadata": {},
     "output_type": "execute_result"
    }
   ],
   "source": [
    "df.shape"
   ]
  },
  {
   "cell_type": "code",
   "execution_count": 17,
   "metadata": {},
   "outputs": [
    {
     "data": {
      "text/plain": [
       "(4477, 12)"
      ]
     },
     "execution_count": 17,
     "metadata": {},
     "output_type": "execute_result"
    }
   ],
   "source": [
    "df.dropna(inplace=True)\n",
    "df.shape"
   ]
  },
  {
   "cell_type": "markdown",
   "metadata": {},
   "source": [
    "Finalmente, tendríamos nuestro dataframe lleno, sin valores duplicados y nulos."
   ]
  },
  {
   "cell_type": "markdown",
   "metadata": {},
   "source": [
    "### Selección de variables categóricas y continuas.\n",
    "Para realizar correctamente un ánalisis de datos debemos de distinguir entre las variables categóricas, variables que representan diferentes categorías o grupos."
   ]
  },
  {
   "cell_type": "code",
   "execution_count": 18,
   "metadata": {},
   "outputs": [
    {
     "data": {
      "text/plain": [
       "Author           784\n",
       "Target          3530\n",
       "Description     4423\n",
       "Attack            67\n",
       "Target Class      43\n",
       "Attack Class       6\n",
       "Country          150\n",
       "Link             267\n",
       "Tags            4339\n",
       "Day               31\n",
       "Month             12\n",
       "Year               3\n",
       "dtype: int64"
      ]
     },
     "execution_count": 18,
     "metadata": {},
     "output_type": "execute_result"
    }
   ],
   "source": [
    "df.nunique()"
   ]
  },
  {
   "cell_type": "code",
   "execution_count": 19,
   "metadata": {},
   "outputs": [
    {
     "name": "stdout",
     "output_type": "stream",
     "text": [
      "Variables continuas: Author, Target, Description, Link, Tags, Day, Month, Year\n",
      "Variables categóricas: Attack, Target Class, Attack Class, Country\n"
     ]
    }
   ],
   "source": [
    "v_continuas = []\n",
    "v_categoricas = []\n",
    "for i in df.columns:\n",
    "    if df[i].nunique() > 200 or df[i].dtypes in ['float64', 'int64']:\n",
    "        v_continuas.append(i)\n",
    "    else:\n",
    "        v_categoricas.append(i)\n",
    "\n",
    "print('Variables continuas: {}'.format(', '.join(v_continuas)))\n",
    "print('Variables categóricas: {}'.format(', '.join(v_categoricas)))"
   ]
  },
  {
   "cell_type": "markdown",
   "metadata": {},
   "source": [
    "#### Tratamiento de variables categóricas.\n",
    "Para el posterior modelo de clasificación, necesitamos codificar nuestras variables. Para ello, realizaremos una codificación ordinal que consiste en asignar valores enteros a las categorias basándose en su posición o jerarquía en los datos."
   ]
  },
  {
   "cell_type": "code",
   "execution_count": 20,
   "metadata": {},
   "outputs": [
    {
     "data": {
      "text/html": [
       "<div>\n",
       "<style scoped>\n",
       "    .dataframe tbody tr th:only-of-type {\n",
       "        vertical-align: middle;\n",
       "    }\n",
       "\n",
       "    .dataframe tbody tr th {\n",
       "        vertical-align: top;\n",
       "    }\n",
       "\n",
       "    .dataframe thead th {\n",
       "        text-align: right;\n",
       "    }\n",
       "</style>\n",
       "<table border=\"1\" class=\"dataframe\">\n",
       "  <thead>\n",
       "    <tr style=\"text-align: right;\">\n",
       "      <th></th>\n",
       "      <th>Attack</th>\n",
       "      <th>Target Class</th>\n",
       "      <th>Attack Class</th>\n",
       "      <th>Country</th>\n",
       "    </tr>\n",
       "  </thead>\n",
       "  <tbody>\n",
       "    <tr>\n",
       "      <th>0</th>\n",
       "      <td>Account Hijacking</td>\n",
       "      <td>R Arts entertainment and recreation</td>\n",
       "      <td>CC</td>\n",
       "      <td>US</td>\n",
       "    </tr>\n",
       "    <tr>\n",
       "      <th>1</th>\n",
       "      <td>Account Hijacking</td>\n",
       "      <td>O Public administration and defence, compulsor...</td>\n",
       "      <td>CC</td>\n",
       "      <td>US</td>\n",
       "    </tr>\n",
       "    <tr>\n",
       "      <th>2</th>\n",
       "      <td>Account Hijacking</td>\n",
       "      <td>Q Human health and social work activities</td>\n",
       "      <td>CC</td>\n",
       "      <td>US</td>\n",
       "    </tr>\n",
       "  </tbody>\n",
       "</table>\n",
       "</div>"
      ],
      "text/plain": [
       "              Attack                                       Target Class  \\\n",
       "0  Account Hijacking                R Arts entertainment and recreation   \n",
       "1  Account Hijacking  O Public administration and defence, compulsor...   \n",
       "2  Account Hijacking          Q Human health and social work activities   \n",
       "\n",
       "  Attack Class Country  \n",
       "0           CC      US  \n",
       "1           CC      US  \n",
       "2           CC      US  "
      ]
     },
     "execution_count": 20,
     "metadata": {},
     "output_type": "execute_result"
    }
   ],
   "source": [
    "df[v_categoricas].head(3)"
   ]
  },
  {
   "cell_type": "code",
   "execution_count": 21,
   "metadata": {},
   "outputs": [
    {
     "data": {
      "text/plain": [
       "Attack           67\n",
       "Target Class     43\n",
       "Attack Class      6\n",
       "Country         150\n",
       "dtype: int64"
      ]
     },
     "execution_count": 21,
     "metadata": {},
     "output_type": "execute_result"
    }
   ],
   "source": [
    "df[v_categoricas].nunique()"
   ]
  },
  {
   "cell_type": "code",
   "execution_count": 22,
   "metadata": {},
   "outputs": [
    {
     "data": {
      "text/html": [
       "<div>\n",
       "<style scoped>\n",
       "    .dataframe tbody tr th:only-of-type {\n",
       "        vertical-align: middle;\n",
       "    }\n",
       "\n",
       "    .dataframe tbody tr th {\n",
       "        vertical-align: top;\n",
       "    }\n",
       "\n",
       "    .dataframe thead th {\n",
       "        text-align: right;\n",
       "    }\n",
       "</style>\n",
       "<table border=\"1\" class=\"dataframe\">\n",
       "  <thead>\n",
       "    <tr style=\"text-align: right;\">\n",
       "      <th></th>\n",
       "      <th>Attack</th>\n",
       "      <th>Target Class</th>\n",
       "      <th>Attack Class</th>\n",
       "      <th>Country</th>\n",
       "    </tr>\n",
       "  </thead>\n",
       "  <tbody>\n",
       "    <tr>\n",
       "      <th>count</th>\n",
       "      <td>4477</td>\n",
       "      <td>4477</td>\n",
       "      <td>4477</td>\n",
       "      <td>4477</td>\n",
       "    </tr>\n",
       "    <tr>\n",
       "      <th>unique</th>\n",
       "      <td>67</td>\n",
       "      <td>43</td>\n",
       "      <td>6</td>\n",
       "      <td>150</td>\n",
       "    </tr>\n",
       "    <tr>\n",
       "      <th>top</th>\n",
       "      <td>Malware</td>\n",
       "      <td>Multiple Industries</td>\n",
       "      <td>CC</td>\n",
       "      <td>US</td>\n",
       "    </tr>\n",
       "    <tr>\n",
       "      <th>freq</th>\n",
       "      <td>1821</td>\n",
       "      <td>517</td>\n",
       "      <td>3882</td>\n",
       "      <td>1665</td>\n",
       "    </tr>\n",
       "  </tbody>\n",
       "</table>\n",
       "</div>"
      ],
      "text/plain": [
       "         Attack         Target Class Attack Class Country\n",
       "count      4477                 4477         4477    4477\n",
       "unique       67                   43            6     150\n",
       "top     Malware  Multiple Industries           CC      US\n",
       "freq       1821                  517         3882    1665"
      ]
     },
     "execution_count": 22,
     "metadata": {},
     "output_type": "execute_result"
    }
   ],
   "source": [
    "df[v_categoricas].describe()"
   ]
  },
  {
   "cell_type": "markdown",
   "metadata": {},
   "source": [
    "**Análisis de Datos Categóricos de Ciberataques.**\n",
    "\n",
    "- **Dominancia de CC y Malware**: La clase de ataque más frecuente es **CC**, lo que sugiere que este tipo de ataque es el más común. Además, **Malware/Malicious Software** es el grupo de ataque más prevalente, lo que indica una tendencia a utilizar software malicioso para ejecutar ataques.\n",
    "\n",
    "- **Predominancia de USA**: La mayoría de los ataques se registran en **USA**, lo que puede indicar que esta región es un blanco preferido para los ciberataques.\n",
    "\n",
    "Este análisis proporciona una visión general de los datos categóricos sobre ciberataques y ayuda a identificar patrones y tendencias que pueden ser cruciales para mejorar las medidas de seguridad."
   ]
  },
  {
   "cell_type": "markdown",
   "metadata": {},
   "source": [
    "##### **Attack.**"
   ]
  },
  {
   "cell_type": "code",
   "execution_count": 23,
   "metadata": {},
   "outputs": [
    {
     "data": {
      "text/plain": [
       "array(['Account Hijacking', 'Malware', 'Targeted attack', 'Defacement',\n",
       "       'Unknown', 'Malicious Script Injection', 'Vulnerability',\n",
       "       'Password-spraying', 'Business Email Compromise',\n",
       "       'Search Engine Poisoning', 'Malicious Spam', 'Misconfiguration',\n",
       "       'DDoS', 'Malvertising', '>1', 'DNS hijacking', 'Domain Spoofing',\n",
       "       'API Exploit', 'SQL Injection', 'Malicious Browser Extension',\n",
       "       'Targeted Attack', 'Malicious Wordpress Plugin',\n",
       "       'Fake Social Network accounts/groups/pages', 'Credential Stuffing',\n",
       "       'Server-Side Ad Insertion (SSAI) Hijacking', 'DNS Hijacking',\n",
       "       'Zoom bombing', 'Zoom Bombing', 'Web Shells',\n",
       "       'Credential stuffing', 'Brute-force',\n",
       "       'Malicious browser extension', 'Brute-Force', 'Wiretapping',\n",
       "       'Bitcoin vanity addresses', 'Jackpotting', 'ATM \"Black Box\"',\n",
       "       'OAuth token hijacking', 'Malicious SEO redirection',\n",
       "       'Evil cursor', 'SSL Stripping', 'Malicious spam',\n",
       "       'Account hijacking', 'Fake social Network accounts/groups/pages',\n",
       "       'Data-Scraping', 'Account Takeover', 'Compromised certificate',\n",
       "       'Fake Social Accounts', 'Password-Spraying/Credential Stuffing',\n",
       "       'Windows Bit locker', 'SQLi', 'Malicious Google search ads',\n",
       "       'Wind River Systems', 'SIM swap', 'Malicious Wordpress plugin',\n",
       "       'Crypto Scam', 'Fake Websites', 'Crypto scam',\n",
       "       'Malicious Docker Images', 'Watering Hole',\n",
       "       'PetitPotam NTLM Relay ', 'Reentrancy attack',\n",
       "       'Malicious Docker Image', 'Deepfake', 'HTML smuggling',\n",
       "       'Fake job listings', 'Malicious OWA Module'], dtype=object)"
      ]
     },
     "execution_count": 23,
     "metadata": {},
     "output_type": "execute_result"
    }
   ],
   "source": [
    "df['Attack'].unique()"
   ]
  },
  {
   "cell_type": "code",
   "execution_count": 24,
   "metadata": {},
   "outputs": [],
   "source": [
    "df['Attack'] = df['Attack'].apply(lambda x: 'Malware' if x.startswith('Malicious') else x)"
   ]
  },
  {
   "cell_type": "code",
   "execution_count": 25,
   "metadata": {},
   "outputs": [],
   "source": [
    "attack_types = {\n",
    "    'Account Hijacking': ['Account Hijacking', 'Account Takeover', 'Account hijacking',\n",
    "                          'Credential Stuffing', 'Password-spraying', 'Credential stuffing',\n",
    "                          'Password-Spraying/Credential Stuffing', 'Brute-Force'\n",
    "                        ],\n",
    "    'Phishing': ['Fake Social Network accounts/groups/pages', 'Fake Social Accounts', 'Fake Websites', \n",
    "                 'Fake job listings', 'OAuth token hijacking', 'Fake social Network accounts/groups/pages'\n",
    "                 ],\n",
    "    'Denial of Service': ['DDoS', 'Server-Side Ad Insertion (SSAI) Hijacking', 'Zoom bombing', \n",
    "                          'Zoom Bombing'],\n",
    "    'Vulnerability Exploitation': ['Vulnerability', 'SQL Injection', 'API Exploit', 'Brute-force', \n",
    "                                   'Evil cursor', 'SQLi','SSL Stripping', 'Compromised certificate',\n",
    "                                   'Watering Hole'],\n",
    "    'Data Breaches': ['Data-Scraping'],\n",
    "    'Malvertising': ['Malvertising', 'Malicious Google search ads'],\n",
    "    'Social Engineering': ['Business Email Compromise', 'Crypto Scam', 'Crypto scam'],\n",
    "    'Targeted Attack': ['Targeted attack', 'Targeted Attack'],\n",
    "    'Defacement': ['Defacement'],\n",
    "    'Search Engine Poisoning': ['Search Engine Poisoning'],\n",
    "    'Misconfiguration': ['Misconfiguration'],\n",
    "    'DNS Hijacking': ['DNS hijacking', 'DNS Hijacking'],\n",
    "    'Domain Spoofing': ['Domain Spoofing'],\n",
    "    'Jackpotting': ['Jackpotting'],\n",
    "    'ATM Black Box': ['ATM \"Black Box\"'],\n",
    "    'Wiretapping': ['Wiretapping'],\n",
    "    'Bitcoin Vanity Addresses': ['Bitcoin vanity addresses'],\n",
    "    'Wind River Systems': ['Wind River Systems'],\n",
    "    'SIM Swap': ['SIM swap'],\n",
    "    'Deepfake': ['Deepfake'],\n",
    "    'HTML Smuggling': ['HTML smuggling'],\n",
    "    'PetitPotam NTLM Relay': ['PetitPotam NTLM Relay '],\n",
    "    'Reentrancy Attack': ['Reentrancy attack'],\n",
    "    'Malware': ['Malware', 'Web Shells', 'Windows Bit locker'],\n",
    "    'Unknown': ['Unknown'], # desconocido\n",
    "    '>1': ['>1'] # cuando hay más de uno\n",
    "}\n"
   ]
  },
  {
   "cell_type": "code",
   "execution_count": 26,
   "metadata": {},
   "outputs": [],
   "source": [
    "def categorize_attack(attack):\n",
    "    for category, attacks in attack_types.items():\n",
    "        if attack in attacks:\n",
    "            return category\n",
    "    return None"
   ]
  },
  {
   "cell_type": "code",
   "execution_count": 27,
   "metadata": {},
   "outputs": [],
   "source": [
    "df['Attack'] = df['Attack'].apply(categorize_attack)"
   ]
  },
  {
   "cell_type": "code",
   "execution_count": 28,
   "metadata": {},
   "outputs": [
    {
     "data": {
      "text/html": [
       "<div>\n",
       "<style scoped>\n",
       "    .dataframe tbody tr th:only-of-type {\n",
       "        vertical-align: middle;\n",
       "    }\n",
       "\n",
       "    .dataframe tbody tr th {\n",
       "        vertical-align: top;\n",
       "    }\n",
       "\n",
       "    .dataframe thead th {\n",
       "        text-align: right;\n",
       "    }\n",
       "</style>\n",
       "<table border=\"1\" class=\"dataframe\">\n",
       "  <thead>\n",
       "    <tr style=\"text-align: right;\">\n",
       "      <th></th>\n",
       "      <th>Author</th>\n",
       "      <th>Target</th>\n",
       "      <th>Description</th>\n",
       "      <th>Attack</th>\n",
       "      <th>Target Class</th>\n",
       "      <th>Attack Class</th>\n",
       "      <th>Country</th>\n",
       "      <th>Link</th>\n",
       "      <th>Tags</th>\n",
       "      <th>Day</th>\n",
       "      <th>Month</th>\n",
       "      <th>Year</th>\n",
       "    </tr>\n",
       "  </thead>\n",
       "  <tbody>\n",
       "    <tr>\n",
       "      <th>0</th>\n",
       "      <td>Chuckling Squad</td>\n",
       "      <td>Adam Sandler's Twitter account</td>\n",
       "      <td>Adam Sandler's Twitter account is hacked and u...</td>\n",
       "      <td>1.0</td>\n",
       "      <td>R Arts entertainment and recreation</td>\n",
       "      <td>CC</td>\n",
       "      <td>US</td>\n",
       "      <td>forbes.com</td>\n",
       "      <td>Adam Sandler, Twitter, Mariah Carey, President...</td>\n",
       "      <td>2</td>\n",
       "      <td>1</td>\n",
       "      <td>2020</td>\n",
       "    </tr>\n",
       "    <tr>\n",
       "      <th>1</th>\n",
       "      <td>?</td>\n",
       "      <td>Klamath County Veterans Service Office</td>\n",
       "      <td>Klamath County Veterans Service Office notifie...</td>\n",
       "      <td>1.0</td>\n",
       "      <td>O Public administration and defence, compulsor...</td>\n",
       "      <td>CC</td>\n",
       "      <td>US</td>\n",
       "      <td>databreaches.net</td>\n",
       "      <td>Klamath County Veterans Service Office</td>\n",
       "      <td>2</td>\n",
       "      <td>1</td>\n",
       "      <td>2020</td>\n",
       "    </tr>\n",
       "  </tbody>\n",
       "</table>\n",
       "</div>"
      ],
      "text/plain": [
       "            Author                                  Target  \\\n",
       "0  Chuckling Squad          Adam Sandler's Twitter account   \n",
       "1                ?  Klamath County Veterans Service Office   \n",
       "\n",
       "                                         Description  Attack  \\\n",
       "0  Adam Sandler's Twitter account is hacked and u...     1.0   \n",
       "1  Klamath County Veterans Service Office notifie...     1.0   \n",
       "\n",
       "                                        Target Class Attack Class Country  \\\n",
       "0                R Arts entertainment and recreation           CC      US   \n",
       "1  O Public administration and defence, compulsor...           CC      US   \n",
       "\n",
       "               Link                                               Tags  Day  \\\n",
       "0        forbes.com  Adam Sandler, Twitter, Mariah Carey, President...    2   \n",
       "1  databreaches.net             Klamath County Veterans Service Office    2   \n",
       "\n",
       "   Month  Year  \n",
       "0      1  2020  \n",
       "1      1  2020  "
      ]
     },
     "execution_count": 28,
     "metadata": {},
     "output_type": "execute_result"
    }
   ],
   "source": [
    "encoder = OrdinalEncoder()\n",
    "df['Attack'] = encoder.fit_transform(df[['Attack Class']])\n",
    "df.head(2)"
   ]
  },
  {
   "cell_type": "markdown",
   "metadata": {},
   "source": [
    "##### **Attack Class.**\n",
    "Debemos revisar los valores únicos en la columna para poder codificarlos adecuadamente. Sin embargo, observamos que hay una categoría que indica más de un tipo de ataque, representada como `'>1'` y `‘CC/CE’`. Por ello, es importante verificar cuántas filas contienen estos valores. Si el número de filas con estos valores es significativo, consideraremos crear columnas adicionales que representen cada tipo de ataque con un 1 o 0, indicando su presencia. En caso contrario, si no hay muchas filas, simplemente eliminaremos estos registros."
   ]
  },
  {
   "cell_type": "code",
   "execution_count": 29,
   "metadata": {},
   "outputs": [
    {
     "data": {
      "text/plain": [
       "array(['CC', 'CE', 'CW', 'H', '>1', 'CC/CE'], dtype=object)"
      ]
     },
     "execution_count": 29,
     "metadata": {},
     "output_type": "execute_result"
    }
   ],
   "source": [
    "df['Attack Class'].unique()"
   ]
  },
  {
   "cell_type": "code",
   "execution_count": 30,
   "metadata": {},
   "outputs": [
    {
     "name": "stdout",
     "output_type": "stream",
     "text": [
      "Para la clase CC/CE tenemos 2 registros\n",
      "Para la clase >1 tenemos 4 registros\n"
     ]
    }
   ],
   "source": [
    "for i in ['CC/CE', '>1']:\n",
    "    print('Para la clase {} tenemos {} registros'.format(i, df[df['Attack Class'] == i].shape[0]))"
   ]
  },
  {
   "cell_type": "code",
   "execution_count": 31,
   "metadata": {},
   "outputs": [],
   "source": [
    "index_to_drop = df[df['Attack Class'].isin(['CC/CE', '>1'])].index\n",
    "df.drop(index=index_to_drop, inplace=True)"
   ]
  },
  {
   "cell_type": "code",
   "execution_count": 32,
   "metadata": {},
   "outputs": [
    {
     "data": {
      "text/html": [
       "<div>\n",
       "<style scoped>\n",
       "    .dataframe tbody tr th:only-of-type {\n",
       "        vertical-align: middle;\n",
       "    }\n",
       "\n",
       "    .dataframe tbody tr th {\n",
       "        vertical-align: top;\n",
       "    }\n",
       "\n",
       "    .dataframe thead th {\n",
       "        text-align: right;\n",
       "    }\n",
       "</style>\n",
       "<table border=\"1\" class=\"dataframe\">\n",
       "  <thead>\n",
       "    <tr style=\"text-align: right;\">\n",
       "      <th></th>\n",
       "      <th>Author</th>\n",
       "      <th>Target</th>\n",
       "      <th>Description</th>\n",
       "      <th>Attack</th>\n",
       "      <th>Target Class</th>\n",
       "      <th>Attack Class</th>\n",
       "      <th>Country</th>\n",
       "      <th>Link</th>\n",
       "      <th>Tags</th>\n",
       "      <th>Day</th>\n",
       "      <th>Month</th>\n",
       "      <th>Year</th>\n",
       "    </tr>\n",
       "  </thead>\n",
       "  <tbody>\n",
       "    <tr>\n",
       "      <th>0</th>\n",
       "      <td>Chuckling Squad</td>\n",
       "      <td>Adam Sandler's Twitter account</td>\n",
       "      <td>Adam Sandler's Twitter account is hacked and u...</td>\n",
       "      <td>1.0</td>\n",
       "      <td>R Arts entertainment and recreation</td>\n",
       "      <td>0.0</td>\n",
       "      <td>US</td>\n",
       "      <td>forbes.com</td>\n",
       "      <td>Adam Sandler, Twitter, Mariah Carey, President...</td>\n",
       "      <td>2</td>\n",
       "      <td>1</td>\n",
       "      <td>2020</td>\n",
       "    </tr>\n",
       "    <tr>\n",
       "      <th>1</th>\n",
       "      <td>?</td>\n",
       "      <td>Klamath County Veterans Service Office</td>\n",
       "      <td>Klamath County Veterans Service Office notifie...</td>\n",
       "      <td>1.0</td>\n",
       "      <td>O Public administration and defence, compulsor...</td>\n",
       "      <td>0.0</td>\n",
       "      <td>US</td>\n",
       "      <td>databreaches.net</td>\n",
       "      <td>Klamath County Veterans Service Office</td>\n",
       "      <td>2</td>\n",
       "      <td>1</td>\n",
       "      <td>2020</td>\n",
       "    </tr>\n",
       "  </tbody>\n",
       "</table>\n",
       "</div>"
      ],
      "text/plain": [
       "            Author                                  Target  \\\n",
       "0  Chuckling Squad          Adam Sandler's Twitter account   \n",
       "1                ?  Klamath County Veterans Service Office   \n",
       "\n",
       "                                         Description  Attack  \\\n",
       "0  Adam Sandler's Twitter account is hacked and u...     1.0   \n",
       "1  Klamath County Veterans Service Office notifie...     1.0   \n",
       "\n",
       "                                        Target Class  Attack Class Country  \\\n",
       "0                R Arts entertainment and recreation           0.0      US   \n",
       "1  O Public administration and defence, compulsor...           0.0      US   \n",
       "\n",
       "               Link                                               Tags  Day  \\\n",
       "0        forbes.com  Adam Sandler, Twitter, Mariah Carey, President...    2   \n",
       "1  databreaches.net             Klamath County Veterans Service Office    2   \n",
       "\n",
       "   Month  Year  \n",
       "0      1  2020  \n",
       "1      1  2020  "
      ]
     },
     "execution_count": 32,
     "metadata": {},
     "output_type": "execute_result"
    }
   ],
   "source": [
    "encoder = OrdinalEncoder()\n",
    "df['Attack Class'] = encoder.fit_transform(df[['Attack Class']])\n",
    "df.head(2)"
   ]
  },
  {
   "cell_type": "markdown",
   "metadata": {},
   "source": [
    "##### **Target Class.**\n",
    "Para agrupar las categorías en la columna **Target Class**, podemos crear un nuevo diccionario que asocie cada categoría original a un grupo más general. Esto ayudará a simplificar el análisis y facilitar el uso de técnicas de aprendizaje automático."
   ]
  },
  {
   "cell_type": "code",
   "execution_count": 33,
   "metadata": {},
   "outputs": [
    {
     "data": {
      "text/plain": [
       "array(['R Arts entertainment and recreation',\n",
       "       'O Public administration and defence, compulsory social security',\n",
       "       'Q Human health and social work activities',\n",
       "       'K Financial and insurance activities', 'Y Multiple Industries',\n",
       "       'C Manufacturing', 'G Wholesale and retail trade', 'X Individual',\n",
       "       'P Education', 'V Fintech',\n",
       "       'D Electricity gas steam and air conditioning supply',\n",
       "       'H Transportation and storage', 'J Information and communication',\n",
       "       'M Professional scientific and technical activities',\n",
       "       'U Activities of extraterritorial organizations and bodies',\n",
       "       'E Water supply, sewerage waste management, and remediation activities',\n",
       "       'S Other service activities',\n",
       "       'I Accommodation and food service activities',\n",
       "       'N Administrative and support service activities',\n",
       "       'L Real estate activities', 'Z Unknown',\n",
       "       'Administration and support service', 'Multiple Industries',\n",
       "       'Finance and Insurance', 'Individual',\n",
       "       'Human health and social work', 'Arts entertainment, recreation',\n",
       "       'Education', 'Manufacturing', 'Fintech',\n",
       "       'Public admin and defence, social security',\n",
       "       'Information and communication', 'Other service activities',\n",
       "       'Transportation and storage',\n",
       "       'Professional, scientific and technical',\n",
       "       'Electricity, gas steam, air conditioning', 'Real estate',\n",
       "       'Wholesale and retail',\n",
       "       'Extraterritorial organizations and bodies',\n",
       "       'Water supply, waste mgmt, remediation', 'Unknown',\n",
       "       'Accommodation and food service', 'Finance and insurance'],\n",
       "      dtype=object)"
      ]
     },
     "execution_count": 33,
     "metadata": {},
     "output_type": "execute_result"
    }
   ],
   "source": [
    "df['Target Class'].unique()"
   ]
  },
  {
   "cell_type": "code",
   "execution_count": 34,
   "metadata": {},
   "outputs": [],
   "source": [
    "target_class_mapping = {\n",
    "    'Financial Services': ['Finance', 'Fintech', 'Financial and insurance activities','K Financial and insurance activities','V Fintech','Finance and Insurance','Finance and insurance'],\n",
    "    'Healthcare/Social Services': ['Human health and social work', 'Health', 'Social', 'Social security','Q Human health and social work activities'],\n",
    "    'Public Sector/Government': ['Extraterritorial organizations and bodies','U Activities of extraterritorial organizations and bodies','Public admin and defence', 'Public administration and defence', 'Government','O Public administration and defence, compulsory social security','N Administrative and support service activities','Public admin and defence, social security'],\n",
    "    'Education': ['Education','P Education'],\n",
    "    'Manufacturing/Energy': ['Manufacturing', 'Electricity', 'Electricity gas steam and air conditioning supply','C Manufacturing','D Electricity gas steam and air conditioning supply','Electricity, gas steam, air conditioning'],\n",
    "    'Information/Communication': ['M Professional scientific and technical activities','J Information and communication','Information', 'Communication', 'Information and communication'],\n",
    "    'Arts/Entertainment': ['Arts entertainment, recreation','Arts entertainment', 'Entertainment', 'Recreation','R Arts entertainment and recreation'],\n",
    "    'Individuals': ['Individual'],\n",
    "    'Multiple Industries': ['Multiple Industries', 'Y Multiple Industries', 'X Individual', 'Multiple targets'],\n",
    "    'Retail Trade': ['Wholesale and retail trade', 'Wholesale and retail','G Wholesale and retail trade'],\n",
    "    'Transportation': ['H Transportation and storage','Transportation and storage', 'Transport'],\n",
    "    'Professional Services': ['Administration and support service','M Professional scientific and technical activities', 'Professional, scientific and technical'],\n",
    "    'Environmental Services': ['E Water supply, sewerage waste management, and remediation activities', 'Water supply, waste mgmt, remediation'],\n",
    "    'Accommodation and Food Services': ['I Accommodation and food service activities','Accommodation and food service', 'Accommodation and food service activities'],\n",
    "    'Real Estate': ['L Real estate activities', 'Real estate'],\n",
    "    'Other': ['Other service activities', 'S Other service activities', 'Unknown', 'Z Unknown']\n",
    "}\n"
   ]
  },
  {
   "cell_type": "markdown",
   "metadata": {},
   "source": [
    "Esta agrupación ofrece múltiples beneficios. Primero, simplifica el análisis al reducir el número de categorías, lo que facilita la interpretación y el manejo de los datos. Además, mejora la eficiencia de los modelos, ya que menos categorías pueden resultar en un mejor rendimiento en el aprendizaje automático. También facilita las visualizaciones, permitiendo crear gráficos más claros y comprensibles, lo que mejora la comunicación de los resultados. \n",
    "\n",
    "La agrupación contribuye a la reducción del ruido al eliminar categorías poco relevantes, lo que mejora la calidad del análisis y facilita la identificación de tendencias significativas. Asimismo, ayuda en la toma de decisiones al proporcionar un análisis más claro y simplificado, lo que permite a los responsables tomar decisiones informadas basadas en datos. Finalmente, esta agrupación prepara el camino para el aprendizaje supervisado, optimizando el proceso de modelado.\n",
    "\n",
    "\n"
   ]
  },
  {
   "cell_type": "code",
   "execution_count": 35,
   "metadata": {},
   "outputs": [],
   "source": [
    "def assign_target(Target_Class):\n",
    "    for continent, countries in target_class_mapping.items():\n",
    "        if Target_Class in countries:\n",
    "            return continent\n",
    "    return None  # Si el país no está en la lista, retornar None"
   ]
  },
  {
   "cell_type": "code",
   "execution_count": 36,
   "metadata": {},
   "outputs": [
    {
     "data": {
      "text/plain": [
       "\"df['Target Class'] = df['Target Class'].map(assign_target)\""
      ]
     },
     "execution_count": 36,
     "metadata": {},
     "output_type": "execute_result"
    }
   ],
   "source": [
    "'''df['Target Class'] = df['Target Class'].map(assign_target)'''"
   ]
  },
  {
   "cell_type": "code",
   "execution_count": 37,
   "metadata": {},
   "outputs": [
    {
     "data": {
      "text/html": [
       "<div>\n",
       "<style scoped>\n",
       "    .dataframe tbody tr th:only-of-type {\n",
       "        vertical-align: middle;\n",
       "    }\n",
       "\n",
       "    .dataframe tbody tr th {\n",
       "        vertical-align: top;\n",
       "    }\n",
       "\n",
       "    .dataframe thead th {\n",
       "        text-align: right;\n",
       "    }\n",
       "</style>\n",
       "<table border=\"1\" class=\"dataframe\">\n",
       "  <thead>\n",
       "    <tr style=\"text-align: right;\">\n",
       "      <th></th>\n",
       "      <th>Author</th>\n",
       "      <th>Target</th>\n",
       "      <th>Description</th>\n",
       "      <th>Attack</th>\n",
       "      <th>Target Class</th>\n",
       "      <th>Attack Class</th>\n",
       "      <th>Country</th>\n",
       "      <th>Link</th>\n",
       "      <th>Tags</th>\n",
       "      <th>Day</th>\n",
       "      <th>Month</th>\n",
       "      <th>Year</th>\n",
       "    </tr>\n",
       "  </thead>\n",
       "  <tbody>\n",
       "    <tr>\n",
       "      <th>0</th>\n",
       "      <td>Chuckling Squad</td>\n",
       "      <td>Adam Sandler's Twitter account</td>\n",
       "      <td>Adam Sandler's Twitter account is hacked and u...</td>\n",
       "      <td>1.0</td>\n",
       "      <td>31.0</td>\n",
       "      <td>0.0</td>\n",
       "      <td>US</td>\n",
       "      <td>forbes.com</td>\n",
       "      <td>Adam Sandler, Twitter, Mariah Carey, President...</td>\n",
       "      <td>2</td>\n",
       "      <td>1</td>\n",
       "      <td>2020</td>\n",
       "    </tr>\n",
       "    <tr>\n",
       "      <th>1</th>\n",
       "      <td>?</td>\n",
       "      <td>Klamath County Veterans Service Office</td>\n",
       "      <td>Klamath County Veterans Service Office notifie...</td>\n",
       "      <td>1.0</td>\n",
       "      <td>25.0</td>\n",
       "      <td>0.0</td>\n",
       "      <td>US</td>\n",
       "      <td>databreaches.net</td>\n",
       "      <td>Klamath County Veterans Service Office</td>\n",
       "      <td>2</td>\n",
       "      <td>1</td>\n",
       "      <td>2020</td>\n",
       "    </tr>\n",
       "  </tbody>\n",
       "</table>\n",
       "</div>"
      ],
      "text/plain": [
       "            Author                                  Target  \\\n",
       "0  Chuckling Squad          Adam Sandler's Twitter account   \n",
       "1                ?  Klamath County Veterans Service Office   \n",
       "\n",
       "                                         Description  Attack  Target Class  \\\n",
       "0  Adam Sandler's Twitter account is hacked and u...     1.0          31.0   \n",
       "1  Klamath County Veterans Service Office notifie...     1.0          25.0   \n",
       "\n",
       "   Attack Class Country              Link  \\\n",
       "0           0.0      US        forbes.com   \n",
       "1           0.0      US  databreaches.net   \n",
       "\n",
       "                                                Tags  Day  Month  Year  \n",
       "0  Adam Sandler, Twitter, Mariah Carey, President...    2      1  2020  \n",
       "1             Klamath County Veterans Service Office    2      1  2020  "
      ]
     },
     "execution_count": 37,
     "metadata": {},
     "output_type": "execute_result"
    }
   ],
   "source": [
    "encoder = OrdinalEncoder()\n",
    "df['Target Class'] = encoder.fit_transform(df[['Target Class']])\n",
    "df.head(2)"
   ]
  },
  {
   "cell_type": "markdown",
   "metadata": {},
   "source": [
    "##### **Countries.**\n",
    "Para realizar una evaluación más efectiva de los países en nuestros datos, es conveniente agruparlos por continentes. Esto es especialmente relevante porque en otros archivos CSV hay registros de ataques provenientes de diferentes países, distribuidos en distintos continentes.\n",
    "\n",
    "Para facilitar este análisis, procederemos a crear seis nuevas columnas en nuestro conjunto de datos, cada una representando un continente específico. Estas columnas indicarán con un valor de 1 si el país pertenece al continente correspondiente y 0 si no es así, es decir, mediante una asignación de valores binarios."
   ]
  },
  {
   "cell_type": "code",
   "execution_count": 38,
   "metadata": {},
   "outputs": [
    {
     "data": {
      "text/plain": [
       "array(['US', 'AT', 'SL', '>1', 'DE', 'KR', 'BH', 'CA', 'AU', 'UA', 'KW',\n",
       "       'US\\n CA\\n MX', 'CZ', 'GR', 'TR', 'OM', 'JP', 'EU', 'MT', 'IT',\n",
       "       'UK', 'NL', 'FR', 'HK', 'BR', 'IN', 'MY', 'US\\n UK', 'IR', 'PR',\n",
       "       'ZA', 'PS', 'US\\n CA', 'ES', 'HR', 'IL', 'DK', 'RU', 'RW', 'CH',\n",
       "       'PK', 'MX', 'PT', 'NZ', 'SG', 'US\\n HK', 'SC', 'RS', 'LB',\n",
       "       'SA\\n AE', 'CN', 'MA', 'VN', 'MN', 'AM', 'JM', 'ES\\n PT', 'LY',\n",
       "       'INT', 'GE', 'IE', 'SA', 'CW', 'LK', 'CA\\n JP', 'SY', 'NP', 'AZ',\n",
       "       'US\\n AU', 'PE', 'IL\\n UK', 'US\\n KR', 'EE', 'DE\\n NL', 'PL', 'CR',\n",
       "       'ID', 'TW', 'SK', 'NO', 'TW\\n PH', 'MK', 'CY', 'TH', 'KR\\n TW',\n",
       "       'KW\\n SA', 'UAE', 'PH', 'EG', 'BE', 'AR', 'IN\\n HK', 'VA', 'US/UK',\n",
       "       'BY', 'CL', 'HU', 'SE', 'FI', 'BB', 'MM', 'GI', 'CI', 'SI', 'UG',\n",
       "       'CV', 'CO', 'US, CA', 'US, DE, AT', 'BD', 'Multiple targets',\n",
       "       'US/CA', 'DZ', 'LT', 'AO', '-', 'EC', 'NL/UK', 'US, IL', 'RO', '>',\n",
       "       'JO', 'FJ', 'LU', 'DO', 'UK/US', 'AF', 'KZ', 'MD', 'KE', 'TW\\nKR',\n",
       "       'AU\\nDE', 'SV', 'US\\nCA', 'AG', 'TG', 'US\\nIL', 'TN', 'IN\\nAF',\n",
       "       'VE', 'PG', 'AU\\nTR', 'NI', 'IT\\nFR', 'CF', 'LY\\nSY', 'KY', 'KH',\n",
       "       'LA', 'AL'], dtype=object)"
      ]
     },
     "execution_count": 38,
     "metadata": {},
     "output_type": "execute_result"
    }
   ],
   "source": [
    "df['Country'].unique()"
   ]
  },
  {
   "cell_type": "code",
   "execution_count": 39,
   "metadata": {},
   "outputs": [],
   "source": [
    "continent_mapping = {\n",
    "    'North America': ['US', 'CA', 'MX', 'PR', 'JM', 'CW', 'BB', 'CR', 'DO', 'SV', 'KY', 'NI', 'AG','US\\r\\n CA\\r\\n MX','US\\r\\n UK','US\\r\\n CA','US\\r\\n HK','INT','CA\\r\\n JP','US\\r\\n AU','US\\r\\n KR','US/UK','US, CA','US, DE, AT','US/CA','US, IL','UK/US','US\\r\\nCA','US\\r\\nIL','Multiple targets'],\n",
    "    'Europe': ['AT', 'SL', 'DE', 'UA', 'CZ', 'GR', 'TR', 'MT', 'IT', 'UK', 'NL', 'FR', 'ES', 'HR', 'DK', 'RU', 'CH', 'PT', 'EE', 'PL', 'SK', 'NO', 'MK', 'CY', 'VA', 'BE', 'HU', 'SE', 'FI', 'GI', 'LI', 'RO', 'MD', 'AL','EU','US\\r\\n UK', 'RS','ES\\r\\n PT','INT','IE''IL\\r\\n UK','DE\\r\\n NL','US/UK','BY','SI','US, DE, AT','LT','NL/UK','LU','UK/US','AU\\r\\nDE','AU\\r\\nTR','IT\\r\\nFR','IE','Multiple targets'],\n",
    "    'Asia': ['KR', 'BH', 'KW', 'OM', 'JP', 'IL', 'HK', 'IN', 'MY', 'IR', 'PS', 'PK', 'SG', 'LB', 'CN', 'VN', 'MN', 'AM', 'GE', 'SA', 'LK', 'SY', 'NP', 'AZ', 'ID', 'TW', 'TH', 'UAE', 'PH', 'AF', 'KZ', 'BD', 'QA', 'KH', 'LA','US\\r\\n HK','SA\\r\\n AE','INT','CA\\r\\n JP','IL\\r\\n UK','US\\r\\n KR','TW\\r\\n PH','KR\\r\\n TW','KW\\r\\n SA','IN\\r\\n HK','MM','US, IL','JO','TW\\r\\nKR','US\\r\\nIL','IN\\r\\nAF','LY\\r\\nSY','Multiple targets'],\n",
    "    'Oceania': ['AU', 'NZ', 'FJ', 'PG','INT','US\\r\\n AU','AU\\r\\nDE','AU\\r\\nTR','Multiple targets'],\n",
    "    'South America': ['BR', 'PE', 'AR', 'CL', 'CO', 'VE', 'EC','INT','Multiple targets'],\n",
    "    'Africa': ['ZA', 'RW', 'SC', 'MA', 'LY', 'DZ', 'AO', 'UG', 'CV', 'EG', 'CI', 'TG', 'TN','INT','KE','IN\\r\\nAF','CF','LY\\r\\nSY','Multiple targets']\n",
    "}"
   ]
  },
  {
   "cell_type": "code",
   "execution_count": 40,
   "metadata": {},
   "outputs": [],
   "source": [
    "def assign_continent(country):\n",
    "    for continent, countries in continent_mapping.items():\n",
    "        if country in countries:\n",
    "            return continent\n",
    "    return None  # Si el país no está en la lista, retornar None"
   ]
  },
  {
   "cell_type": "code",
   "execution_count": 41,
   "metadata": {},
   "outputs": [],
   "source": [
    "df['Continent'] = df['Country'].map(assign_continent)"
   ]
  },
  {
   "cell_type": "code",
   "execution_count": 42,
   "metadata": {},
   "outputs": [
    {
     "name": "stdout",
     "output_type": "stream",
     "text": [
      "Lista de países con 'Continent' como None:\n",
      "['>1' 'US\\n CA\\n MX' 'US\\n UK' 'US\\n CA' 'US\\n HK' 'SA\\n AE' 'ES\\n PT'\n",
      " 'CA\\n JP' 'US\\n AU' 'IL\\n UK' 'US\\n KR' 'DE\\n NL' 'TW\\n PH' 'KR\\n TW'\n",
      " 'KW\\n SA' 'IN\\n HK' '-' '>' 'TW\\nKR' 'AU\\nDE' 'US\\nCA' 'US\\nIL' 'IN\\nAF'\n",
      " 'AU\\nTR' 'IT\\nFR' 'LY\\nSY']\n"
     ]
    }
   ],
   "source": [
    "countries_with_no_continent = df[df['Continent'].isnull()]['Country'].unique()\n",
    "\n",
    "# Mostrar la lista de países con 'continent' como None\n",
    "print(\"Lista de países con 'Continent' como None:\")\n",
    "print(countries_with_no_continent)"
   ]
  },
  {
   "cell_type": "code",
   "execution_count": 43,
   "metadata": {},
   "outputs": [
    {
     "data": {
      "text/plain": [
       "1294"
      ]
     },
     "execution_count": 43,
     "metadata": {},
     "output_type": "execute_result"
    }
   ],
   "source": [
    "df[df['Country'] == '>1'].shape[0] # no sabemos a que pertenecen"
   ]
  },
  {
   "cell_type": "markdown",
   "metadata": {},
   "source": [
    "Dado que se trata de un porcentaje significativo de datos, optaremos por reemplazar estos valores utilizando la mediana de la columna correspondiente.\n",
    "\n",
    "La mediana es una medida de estimación eficaz para esta sustitución, ya que no se ve influenciada por valores atípicos, a diferencia de la media.\n",
    "\n",
    "En nuestro caso al ser una variable de tipo object, utilizaremos la moda."
   ]
  },
  {
   "cell_type": "code",
   "execution_count": 44,
   "metadata": {},
   "outputs": [],
   "source": [
    "df['Continent'].fillna(df['Continent'].mode()[0], inplace=True)"
   ]
  },
  {
   "cell_type": "code",
   "execution_count": 45,
   "metadata": {},
   "outputs": [],
   "source": [
    "df_continentes = pd.get_dummies(df['Continent'])\n",
    "df = pd.concat([df, df_continentes], axis=1)"
   ]
  },
  {
   "cell_type": "code",
   "execution_count": 46,
   "metadata": {},
   "outputs": [
    {
     "data": {
      "text/html": [
       "<div>\n",
       "<style scoped>\n",
       "    .dataframe tbody tr th:only-of-type {\n",
       "        vertical-align: middle;\n",
       "    }\n",
       "\n",
       "    .dataframe tbody tr th {\n",
       "        vertical-align: top;\n",
       "    }\n",
       "\n",
       "    .dataframe thead th {\n",
       "        text-align: right;\n",
       "    }\n",
       "</style>\n",
       "<table border=\"1\" class=\"dataframe\">\n",
       "  <thead>\n",
       "    <tr style=\"text-align: right;\">\n",
       "      <th></th>\n",
       "      <th>Author</th>\n",
       "      <th>Target</th>\n",
       "      <th>Description</th>\n",
       "      <th>Attack</th>\n",
       "      <th>Target Class</th>\n",
       "      <th>Attack Class</th>\n",
       "      <th>Country</th>\n",
       "      <th>Link</th>\n",
       "      <th>Tags</th>\n",
       "      <th>Day</th>\n",
       "      <th>Month</th>\n",
       "      <th>Year</th>\n",
       "      <th>Continent</th>\n",
       "      <th>Africa</th>\n",
       "      <th>Asia</th>\n",
       "      <th>Europe</th>\n",
       "      <th>North America</th>\n",
       "      <th>Oceania</th>\n",
       "      <th>South America</th>\n",
       "    </tr>\n",
       "  </thead>\n",
       "  <tbody>\n",
       "    <tr>\n",
       "      <th>0</th>\n",
       "      <td>Chuckling Squad</td>\n",
       "      <td>Adam Sandler's Twitter account</td>\n",
       "      <td>Adam Sandler's Twitter account is hacked and u...</td>\n",
       "      <td>1.0</td>\n",
       "      <td>31.0</td>\n",
       "      <td>0.0</td>\n",
       "      <td>US</td>\n",
       "      <td>forbes.com</td>\n",
       "      <td>Adam Sandler, Twitter, Mariah Carey, President...</td>\n",
       "      <td>2</td>\n",
       "      <td>1</td>\n",
       "      <td>2020</td>\n",
       "      <td>North America</td>\n",
       "      <td>0</td>\n",
       "      <td>0</td>\n",
       "      <td>0</td>\n",
       "      <td>1</td>\n",
       "      <td>0</td>\n",
       "      <td>0</td>\n",
       "    </tr>\n",
       "    <tr>\n",
       "      <th>1</th>\n",
       "      <td>?</td>\n",
       "      <td>Klamath County Veterans Service Office</td>\n",
       "      <td>Klamath County Veterans Service Office notifie...</td>\n",
       "      <td>1.0</td>\n",
       "      <td>25.0</td>\n",
       "      <td>0.0</td>\n",
       "      <td>US</td>\n",
       "      <td>databreaches.net</td>\n",
       "      <td>Klamath County Veterans Service Office</td>\n",
       "      <td>2</td>\n",
       "      <td>1</td>\n",
       "      <td>2020</td>\n",
       "      <td>North America</td>\n",
       "      <td>0</td>\n",
       "      <td>0</td>\n",
       "      <td>0</td>\n",
       "      <td>1</td>\n",
       "      <td>0</td>\n",
       "      <td>0</td>\n",
       "    </tr>\n",
       "  </tbody>\n",
       "</table>\n",
       "</div>"
      ],
      "text/plain": [
       "            Author                                  Target  \\\n",
       "0  Chuckling Squad          Adam Sandler's Twitter account   \n",
       "1                ?  Klamath County Veterans Service Office   \n",
       "\n",
       "                                         Description  Attack  Target Class  \\\n",
       "0  Adam Sandler's Twitter account is hacked and u...     1.0          31.0   \n",
       "1  Klamath County Veterans Service Office notifie...     1.0          25.0   \n",
       "\n",
       "   Attack Class Country              Link  \\\n",
       "0           0.0      US        forbes.com   \n",
       "1           0.0      US  databreaches.net   \n",
       "\n",
       "                                                Tags  Day  Month  Year  \\\n",
       "0  Adam Sandler, Twitter, Mariah Carey, President...    2      1  2020   \n",
       "1             Klamath County Veterans Service Office    2      1  2020   \n",
       "\n",
       "       Continent  Africa  Asia  Europe  North America  Oceania  South America  \n",
       "0  North America       0     0       0              1        0              0  \n",
       "1  North America       0     0       0              1        0              0  "
      ]
     },
     "execution_count": 46,
     "metadata": {},
     "output_type": "execute_result"
    }
   ],
   "source": [
    "df.head(2)"
   ]
  },
  {
   "cell_type": "code",
   "execution_count": 47,
   "metadata": {},
   "outputs": [],
   "source": [
    "df.drop(['Country', 'Continent'], axis = 1, inplace = True)"
   ]
  },
  {
   "cell_type": "markdown",
   "metadata": {},
   "source": [
    "### Tratamiento de las variables continuas.\n",
    "Para el modelo de clasificación debemos de pasar todas las columnas a tipo int. Por ello, debemos de ver si realizar como en el caso anterior una codificación ordinal o agruparlos."
   ]
  },
  {
   "cell_type": "code",
   "execution_count": 48,
   "metadata": {},
   "outputs": [
    {
     "data": {
      "text/html": [
       "<div>\n",
       "<style scoped>\n",
       "    .dataframe tbody tr th:only-of-type {\n",
       "        vertical-align: middle;\n",
       "    }\n",
       "\n",
       "    .dataframe tbody tr th {\n",
       "        vertical-align: top;\n",
       "    }\n",
       "\n",
       "    .dataframe thead th {\n",
       "        text-align: right;\n",
       "    }\n",
       "</style>\n",
       "<table border=\"1\" class=\"dataframe\">\n",
       "  <thead>\n",
       "    <tr style=\"text-align: right;\">\n",
       "      <th></th>\n",
       "      <th>Author</th>\n",
       "      <th>Target</th>\n",
       "      <th>Description</th>\n",
       "      <th>Link</th>\n",
       "      <th>Tags</th>\n",
       "      <th>Day</th>\n",
       "      <th>Month</th>\n",
       "      <th>Year</th>\n",
       "    </tr>\n",
       "  </thead>\n",
       "  <tbody>\n",
       "    <tr>\n",
       "      <th>0</th>\n",
       "      <td>Chuckling Squad</td>\n",
       "      <td>Adam Sandler's Twitter account</td>\n",
       "      <td>Adam Sandler's Twitter account is hacked and u...</td>\n",
       "      <td>forbes.com</td>\n",
       "      <td>Adam Sandler, Twitter, Mariah Carey, President...</td>\n",
       "      <td>2</td>\n",
       "      <td>1</td>\n",
       "      <td>2020</td>\n",
       "    </tr>\n",
       "    <tr>\n",
       "      <th>1</th>\n",
       "      <td>?</td>\n",
       "      <td>Klamath County Veterans Service Office</td>\n",
       "      <td>Klamath County Veterans Service Office notifie...</td>\n",
       "      <td>databreaches.net</td>\n",
       "      <td>Klamath County Veterans Service Office</td>\n",
       "      <td>2</td>\n",
       "      <td>1</td>\n",
       "      <td>2020</td>\n",
       "    </tr>\n",
       "  </tbody>\n",
       "</table>\n",
       "</div>"
      ],
      "text/plain": [
       "            Author                                  Target  \\\n",
       "0  Chuckling Squad          Adam Sandler's Twitter account   \n",
       "1                ?  Klamath County Veterans Service Office   \n",
       "\n",
       "                                         Description              Link  \\\n",
       "0  Adam Sandler's Twitter account is hacked and u...        forbes.com   \n",
       "1  Klamath County Veterans Service Office notifie...  databreaches.net   \n",
       "\n",
       "                                                Tags  Day  Month  Year  \n",
       "0  Adam Sandler, Twitter, Mariah Carey, President...    2      1  2020  \n",
       "1             Klamath County Veterans Service Office    2      1  2020  "
      ]
     },
     "execution_count": 48,
     "metadata": {},
     "output_type": "execute_result"
    }
   ],
   "source": [
    "df[v_continuas].head(2)"
   ]
  },
  {
   "cell_type": "code",
   "execution_count": 49,
   "metadata": {},
   "outputs": [
    {
     "data": {
      "text/plain": [
       "Author          783\n",
       "Target         3528\n",
       "Description    4417\n",
       "Link            267\n",
       "Tags           4334\n",
       "Day              31\n",
       "Month            12\n",
       "Year              3\n",
       "dtype: int64"
      ]
     },
     "execution_count": 49,
     "metadata": {},
     "output_type": "execute_result"
    }
   ],
   "source": [
    "df[v_continuas].nunique()"
   ]
  },
  {
   "cell_type": "markdown",
   "metadata": {},
   "source": [
    "Observamos que, excluyendo las fechas, hay columnas que contienen texto que no podemos utilizar directamente para modelos de clasificación, como Author, Target, Description, Link y Tags. Estos campos incluyen información textual que no se puede procesar."
   ]
  },
  {
   "cell_type": "markdown",
   "metadata": {},
   "source": [
    "## Modelos de clasificación.\n",
    "Para la realización de los modelos de clasificación, deberemos de utilizar las columnas numéricas. Estas columnas se utilizarán como características para entrenar los modelos, permitiendo que estos aprendan patrones en los datos.\n",
    "\n",
    "Este proceso tiene como objetivo comprobar la limpieza de los datos y garantizar que la información sea adecuada para el análisis posterior."
   ]
  },
  {
   "cell_type": "code",
   "execution_count": 50,
   "metadata": {},
   "outputs": [
    {
     "data": {
      "text/html": [
       "<div>\n",
       "<style scoped>\n",
       "    .dataframe tbody tr th:only-of-type {\n",
       "        vertical-align: middle;\n",
       "    }\n",
       "\n",
       "    .dataframe tbody tr th {\n",
       "        vertical-align: top;\n",
       "    }\n",
       "\n",
       "    .dataframe thead th {\n",
       "        text-align: right;\n",
       "    }\n",
       "</style>\n",
       "<table border=\"1\" class=\"dataframe\">\n",
       "  <thead>\n",
       "    <tr style=\"text-align: right;\">\n",
       "      <th></th>\n",
       "      <th>Attack</th>\n",
       "      <th>Target Class</th>\n",
       "      <th>Attack Class</th>\n",
       "      <th>Day</th>\n",
       "      <th>Month</th>\n",
       "      <th>Year</th>\n",
       "      <th>Africa</th>\n",
       "      <th>Asia</th>\n",
       "      <th>Europe</th>\n",
       "      <th>North America</th>\n",
       "      <th>Oceania</th>\n",
       "      <th>South America</th>\n",
       "    </tr>\n",
       "  </thead>\n",
       "  <tbody>\n",
       "    <tr>\n",
       "      <th>0</th>\n",
       "      <td>1.0</td>\n",
       "      <td>31.0</td>\n",
       "      <td>0.0</td>\n",
       "      <td>2</td>\n",
       "      <td>1</td>\n",
       "      <td>2020</td>\n",
       "      <td>0</td>\n",
       "      <td>0</td>\n",
       "      <td>0</td>\n",
       "      <td>1</td>\n",
       "      <td>0</td>\n",
       "      <td>0</td>\n",
       "    </tr>\n",
       "    <tr>\n",
       "      <th>1</th>\n",
       "      <td>1.0</td>\n",
       "      <td>25.0</td>\n",
       "      <td>0.0</td>\n",
       "      <td>2</td>\n",
       "      <td>1</td>\n",
       "      <td>2020</td>\n",
       "      <td>0</td>\n",
       "      <td>0</td>\n",
       "      <td>0</td>\n",
       "      <td>1</td>\n",
       "      <td>0</td>\n",
       "      <td>0</td>\n",
       "    </tr>\n",
       "    <tr>\n",
       "      <th>2</th>\n",
       "      <td>1.0</td>\n",
       "      <td>30.0</td>\n",
       "      <td>0.0</td>\n",
       "      <td>3</td>\n",
       "      <td>1</td>\n",
       "      <td>2020</td>\n",
       "      <td>0</td>\n",
       "      <td>0</td>\n",
       "      <td>0</td>\n",
       "      <td>1</td>\n",
       "      <td>0</td>\n",
       "      <td>0</td>\n",
       "    </tr>\n",
       "    <tr>\n",
       "      <th>3</th>\n",
       "      <td>1.0</td>\n",
       "      <td>25.0</td>\n",
       "      <td>0.0</td>\n",
       "      <td>3</td>\n",
       "      <td>1</td>\n",
       "      <td>2020</td>\n",
       "      <td>0</td>\n",
       "      <td>0</td>\n",
       "      <td>0</td>\n",
       "      <td>1</td>\n",
       "      <td>0</td>\n",
       "      <td>0</td>\n",
       "    </tr>\n",
       "    <tr>\n",
       "      <th>4</th>\n",
       "      <td>1.0</td>\n",
       "      <td>30.0</td>\n",
       "      <td>0.0</td>\n",
       "      <td>3</td>\n",
       "      <td>1</td>\n",
       "      <td>2020</td>\n",
       "      <td>0</td>\n",
       "      <td>0</td>\n",
       "      <td>0</td>\n",
       "      <td>1</td>\n",
       "      <td>0</td>\n",
       "      <td>0</td>\n",
       "    </tr>\n",
       "  </tbody>\n",
       "</table>\n",
       "</div>"
      ],
      "text/plain": [
       "   Attack  Target Class  Attack Class  Day  Month  Year  Africa  Asia  Europe  \\\n",
       "0     1.0          31.0           0.0    2      1  2020       0     0       0   \n",
       "1     1.0          25.0           0.0    2      1  2020       0     0       0   \n",
       "2     1.0          30.0           0.0    3      1  2020       0     0       0   \n",
       "3     1.0          25.0           0.0    3      1  2020       0     0       0   \n",
       "4     1.0          30.0           0.0    3      1  2020       0     0       0   \n",
       "\n",
       "   North America  Oceania  South America  \n",
       "0              1        0              0  \n",
       "1              1        0              0  \n",
       "2              1        0              0  \n",
       "3              1        0              0  \n",
       "4              1        0              0  "
      ]
     },
     "execution_count": 50,
     "metadata": {},
     "output_type": "execute_result"
    }
   ],
   "source": [
    "df_1 = df.drop(list(df.select_dtypes(include=['object']).columns), axis=1)\n",
    "df_1.head()\n"
   ]
  },
  {
   "cell_type": "code",
   "execution_count": 51,
   "metadata": {},
   "outputs": [
    {
     "name": "stdout",
     "output_type": "stream",
     "text": [
      "(3576, 11)\n",
      "(895, 11)\n"
     ]
    }
   ],
   "source": [
    "X = df_1.drop('Attack Class', axis=1)  \n",
    "y = df_1['Attack Class']\n",
    "X_train, X_test, y_train, y_test = train_test_split(X, y, train_size = 0.8, random_state=42)\n",
    "print(X_train.shape)\n",
    "print(X_test.shape)"
   ]
  },
  {
   "cell_type": "code",
   "execution_count": 52,
   "metadata": {},
   "outputs": [
    {
     "name": "stdout",
     "output_type": "stream",
     "text": [
      "Resultados de los modelos:\n",
      "Random Forest: 0.9994\n",
      "Regresión Logística: 0.9992\n",
      "Árbol de Decisión: 1.0000\n",
      "\n",
      "El mejor modelo es: Árbol de Decisión\n"
     ]
    }
   ],
   "source": [
    "# Definir la función para encontrar el mejor modelo\n",
    "def mejor_modelo(X, y, modelos):\n",
    "    resultados = {}\n",
    "    for nombre, modelo in modelos.items():\n",
    "        if nombre == 'Regresión Logística':\n",
    "            scaler = StandardScaler()\n",
    "            X_scaled = scaler.fit_transform(X)  # Escalar solo si es Regresión Logística\n",
    "            scores = cross_val_score(modelo, X_scaled, y, cv=5, scoring='accuracy')\n",
    "        else:\n",
    "            scores = cross_val_score(modelo, X, y, cv=5, scoring='accuracy')\n",
    "        resultados[nombre] = scores.mean()\n",
    "\n",
    "    mejor = max(resultados, key=resultados.get)\n",
    "    return mejor, resultados\n",
    "\n",
    "# Definir los modelos que deseas evaluar\n",
    "modelos = {\n",
    "    'Random Forest': RandomForestClassifier(),\n",
    "    'Regresión Logística': LogisticRegression(max_iter=1000),\n",
    "    'Árbol de Decisión': DecisionTreeClassifier()\n",
    "}\n",
    "\n",
    "# Obtener el mejor modelo y sus resultados\n",
    "mejor, resultados = mejor_modelo(X_train, y_train, modelos)\n",
    "\n",
    "# Imprimir los resultados\n",
    "print(\"Resultados de los modelos:\")\n",
    "for modelo, score in resultados.items():\n",
    "    print(f\"{modelo}: {score:.4f}\")\n",
    "\n",
    "print(f\"\\nEl mejor modelo es: {mejor}\")\n"
   ]
  },
  {
   "cell_type": "markdown",
   "metadata": {},
   "source": [
    "### Matriz de correlación"
   ]
  },
  {
   "cell_type": "markdown",
   "metadata": {},
   "source": [
    "La matriz de correlación es una herramienta estadística que ilustra la relación entre varias variables en un conjunto de datos. Cada celda de la matriz refleja el coeficiente de correlación entre dos variables, que puede oscilar entre -1 y 1. Cuanto más cerca esté el valor absoluto de 1, mayor será la relación entre las variables."
   ]
  },
  {
   "cell_type": "code",
   "execution_count": 53,
   "metadata": {},
   "outputs": [
    {
     "data": {
      "image/png": "[encoded data removed]",
      "text/plain": [
       "<Figure size 1000x800 with 2 Axes>"
      ]
     },
     "metadata": {},
     "output_type": "display_data"
    }
   ],
   "source": [
    "correlation_matrix = df_1.corr()\n",
    "\n",
    "# Configurar el tamaño de la figura y generar el heatmap\n",
    "plt.figure(figsize=(10, 8))\n",
    "sns.heatmap(correlation_matrix, annot=True, cmap='coolwarm', fmt=\".2f\")\n",
    "\n",
    "# Título de la gráfica\n",
    "plt.title('Correlation Matrix between Continuous Variables')\n",
    "plt.show()"
   ]
  }
 ],
 "metadata": {
  "kernelspec": {
   "display_name": "base",
   "language": "python",
   "name": "python3"
  },
  "language_info": {
   "codemirror_mode": {
    "name": "ipython",
    "version": 3
   },
   "file_extension": ".py",
   "mimetype": "text/x-python",
   "name": "python",
   "nbconvert_exporter": "python",
   "pygments_lexer": "ipython3",
   "version": "3.10.9"
  }
 },
 "nbformat": 4,
 "nbformat_minor": 2
}
