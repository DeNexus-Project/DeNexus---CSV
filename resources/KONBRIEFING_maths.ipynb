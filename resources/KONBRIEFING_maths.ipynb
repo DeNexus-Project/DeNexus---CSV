{
 "cells": [
  {
   "cell_type": "markdown",
   "metadata": {
    "id": "R1UYmHwWBEIe"
   },
   "source": [
    "# Konbriefing.\n",
    "El archivo CSV contiene un registro de ciberataques dirigidos a diferentes industrias y sectores en múltiples países."
   ]
  },
  {
   "cell_type": "markdown",
   "metadata": {
    "id": "1AhMDXimBEIg"
   },
   "source": [
    "## Importación de librerías."
   ]
  },
  {
   "cell_type": "code",
   "execution_count": 1,
   "metadata": {
    "id": "Y4_1xa3WBEIg"
   },
   "outputs": [],
   "source": [
    "import pandas as pd\n",
    "import numpy as np\n",
    "import matplotlib.pyplot as plt\n",
    "import seaborn as sns\n",
    "from sklearn.model_selection import train_test_split\n",
    "import re\n",
    "import json\n",
    "from urllib.parse import urlparse\n",
    "from sklearn.preprocessing import OrdinalEncoder\n",
    "from sklearn.preprocessing import StandardScaler\n",
    "from sklearn.ensemble import RandomForestClassifier\n",
    "from sklearn.model_selection import train_test_split, cross_val_score\n",
    "from sklearn.tree import DecisionTreeClassifier\n",
    "from sklearn.linear_model import LogisticRegression\n",
    "from sklearn.metrics import accuracy_score, classification_report"
   ]
  },
  {
   "cell_type": "markdown",
   "metadata": {
    "id": "d1xd6vqCBEIh"
   },
   "source": [
    "## Visualización de los datos."
   ]
  },
  {
   "cell_type": "code",
   "execution_count": 2,
   "metadata": {
    "colab": {
     "base_uri": "https://localhost:8080/",
     "height": 519
    },
    "id": "16PiipNDBEIh",
    "outputId": "63929c3d-870f-42f9-9057-6aeba004df65"
   },
   "outputs": [
    {
     "data": {
      "text/html": [
       "<div>\n",
       "<style scoped>\n",
       "    .dataframe tbody tr th:only-of-type {\n",
       "        vertical-align: middle;\n",
       "    }\n",
       "\n",
       "    .dataframe tbody tr th {\n",
       "        vertical-align: top;\n",
       "    }\n",
       "\n",
       "    .dataframe thead th {\n",
       "        text-align: right;\n",
       "    }\n",
       "</style>\n",
       "<table border=\"1\" class=\"dataframe\">\n",
       "  <thead>\n",
       "    <tr style=\"text-align: right;\">\n",
       "      <th></th>\n",
       "      <th>date</th>\n",
       "      <th>title</th>\n",
       "      <th>description</th>\n",
       "      <th>references</th>\n",
       "      <th>date_uploaded</th>\n",
       "    </tr>\n",
       "  </thead>\n",
       "  <tbody>\n",
       "    <tr>\n",
       "      <th>0</th>\n",
       "      <td>April 2024</td>\n",
       "      <td>Facebook page of the local branch of a politic...</td>\n",
       "      <td>SPÖ Müllendorf - Müllendorf, Burgenland, Austria</td>\n",
       "      <td>[{\"title\":\"Hackerangriff auf Facebookseite der...</td>\n",
       "      <td>2024-04-29</td>\n",
       "    </tr>\n",
       "    <tr>\n",
       "      <th>1</th>\n",
       "      <td>April 25, 2024</td>\n",
       "      <td>Cyber attack on a construction company in Germany</td>\n",
       "      <td>Max Wild GmbH - Berkheim, Baden-Württemberg, G...</td>\n",
       "      <td>[{\"title\":\"Cyberangriff auf Max Wild GmbH\",\"ur...</td>\n",
       "      <td>2024-04-29</td>\n",
       "    </tr>\n",
       "    <tr>\n",
       "      <th>2</th>\n",
       "      <td>April 25, 2024</td>\n",
       "      <td>Cyber attack on a city government in France</td>\n",
       "      <td>Ville de Gravelines - Gravelines, Hauts-de-Fra...</td>\n",
       "      <td>[{\"title\":\"Notre ville est actuellement victim...</td>\n",
       "      <td>2024-04-29</td>\n",
       "    </tr>\n",
       "    <tr>\n",
       "      <th>3</th>\n",
       "      <td>April 25, 2024</td>\n",
       "      <td>Cyber attack on a traffic management system in...</td>\n",
       "      <td>KC Scout - Kansas City, Missouri, USA (Jackson...</td>\n",
       "      <td>[{\"title\":\"KC Scout Alert\",\"url\":\"https://www....</td>\n",
       "      <td>2024-04-29</td>\n",
       "    </tr>\n",
       "    <tr>\n",
       "      <th>4</th>\n",
       "      <td>April 24, 2024</td>\n",
       "      <td>Mail account of a city government in Belgium h...</td>\n",
       "      <td>Deinze, Flemish Region, Belgium</td>\n",
       "      <td>[{\"title\":\"Stadsdiensten van Deinze geplaagd d...</td>\n",
       "      <td>2024-04-29</td>\n",
       "    </tr>\n",
       "  </tbody>\n",
       "</table>\n",
       "</div>"
      ],
      "text/plain": [
       "             date                                              title  \\\n",
       "0      April 2024  Facebook page of the local branch of a politic...   \n",
       "1  April 25, 2024  Cyber attack on a construction company in Germany   \n",
       "2  April 25, 2024        Cyber attack on a city government in France   \n",
       "3  April 25, 2024  Cyber attack on a traffic management system in...   \n",
       "4  April 24, 2024  Mail account of a city government in Belgium h...   \n",
       "\n",
       "                                         description  \\\n",
       "0   SPÖ Müllendorf - Müllendorf, Burgenland, Austria   \n",
       "1  Max Wild GmbH - Berkheim, Baden-Württemberg, G...   \n",
       "2  Ville de Gravelines - Gravelines, Hauts-de-Fra...   \n",
       "3  KC Scout - Kansas City, Missouri, USA (Jackson...   \n",
       "4                    Deinze, Flemish Region, Belgium   \n",
       "\n",
       "                                          references date_uploaded  \n",
       "0  [{\"title\":\"Hackerangriff auf Facebookseite der...    2024-04-29  \n",
       "1  [{\"title\":\"Cyberangriff auf Max Wild GmbH\",\"ur...    2024-04-29  \n",
       "2  [{\"title\":\"Notre ville est actuellement victim...    2024-04-29  \n",
       "3  [{\"title\":\"KC Scout Alert\",\"url\":\"https://www....    2024-04-29  \n",
       "4  [{\"title\":\"Stadsdiensten van Deinze geplaagd d...    2024-04-29  "
      ]
     },
     "execution_count": 2,
     "metadata": {},
     "output_type": "execute_result"
    }
   ],
   "source": [
    "df = pd.read_csv('../data/KONBRIEFING.csv')\n",
    "df.head()"
   ]
  },
  {
   "cell_type": "code",
   "execution_count": 3,
   "metadata": {
    "colab": {
     "base_uri": "https://localhost:8080/",
     "height": 210
    },
    "id": "i3p7FqWyBEIh",
    "outputId": "0d8ef1b8-5090-4174-ad1e-ff263c5399a7"
   },
   "outputs": [
    {
     "data": {
      "text/html": [
       "<div>\n",
       "<style scoped>\n",
       "    .dataframe tbody tr th:only-of-type {\n",
       "        vertical-align: middle;\n",
       "    }\n",
       "\n",
       "    .dataframe tbody tr th {\n",
       "        vertical-align: top;\n",
       "    }\n",
       "\n",
       "    .dataframe thead th {\n",
       "        text-align: right;\n",
       "    }\n",
       "</style>\n",
       "<table border=\"1\" class=\"dataframe\">\n",
       "  <thead>\n",
       "    <tr style=\"text-align: right;\">\n",
       "      <th></th>\n",
       "      <th>date</th>\n",
       "      <th>title</th>\n",
       "      <th>description</th>\n",
       "      <th>references</th>\n",
       "      <th>date_uploaded</th>\n",
       "    </tr>\n",
       "  </thead>\n",
       "  <tbody>\n",
       "    <tr>\n",
       "      <th>count</th>\n",
       "      <td>67310</td>\n",
       "      <td>67326</td>\n",
       "      <td>67358</td>\n",
       "      <td>67358</td>\n",
       "      <td>67358</td>\n",
       "    </tr>\n",
       "    <tr>\n",
       "      <th>unique</th>\n",
       "      <td>1129</td>\n",
       "      <td>4027</td>\n",
       "      <td>4030</td>\n",
       "      <td>4053</td>\n",
       "      <td>16</td>\n",
       "    </tr>\n",
       "    <tr>\n",
       "      <th>top</th>\n",
       "      <td>May 31, 2023</td>\n",
       "      <td>Cyber attack on a university of applied scienc...</td>\n",
       "      <td>? - USA</td>\n",
       "      <td>[]</td>\n",
       "      <td>2024-04-29</td>\n",
       "    </tr>\n",
       "    <tr>\n",
       "      <th>freq</th>\n",
       "      <td>6624</td>\n",
       "      <td>218</td>\n",
       "      <td>1296</td>\n",
       "      <td>2803</td>\n",
       "      <td>4392</td>\n",
       "    </tr>\n",
       "  </tbody>\n",
       "</table>\n",
       "</div>"
      ],
      "text/plain": [
       "                date                                              title  \\\n",
       "count          67310                                              67326   \n",
       "unique          1129                                               4027   \n",
       "top     May 31, 2023  Cyber attack on a university of applied scienc...   \n",
       "freq            6624                                                218   \n",
       "\n",
       "       description references date_uploaded  \n",
       "count        67358      67358         67358  \n",
       "unique        4030       4053            16  \n",
       "top        ? - USA         []    2024-04-29  \n",
       "freq          1296       2803          4392  "
      ]
     },
     "execution_count": 3,
     "metadata": {},
     "output_type": "execute_result"
    }
   ],
   "source": [
    "df.describe()"
   ]
  },
  {
   "cell_type": "code",
   "execution_count": 4,
   "metadata": {
    "colab": {
     "base_uri": "https://localhost:8080/"
    },
    "id": "f-kBbzDrBEIi",
    "outputId": "a94902fd-c4f7-4e75-eb73-f29386dd0904"
   },
   "outputs": [
    {
     "data": {
      "text/plain": [
       "(67358, 5)"
      ]
     },
     "execution_count": 4,
     "metadata": {},
     "output_type": "execute_result"
    }
   ],
   "source": [
    "df.shape"
   ]
  },
  {
   "cell_type": "code",
   "execution_count": 5,
   "metadata": {
    "colab": {
     "base_uri": "https://localhost:8080/",
     "height": 241
    },
    "id": "Dq5L47egBEIi",
    "outputId": "91dda635-aaf5-4562-dc5c-6c4fbcadbbfe"
   },
   "outputs": [
    {
     "data": {
      "text/plain": [
       "date             object\n",
       "title            object\n",
       "description      object\n",
       "references       object\n",
       "date_uploaded    object\n",
       "dtype: object"
      ]
     },
     "execution_count": 5,
     "metadata": {},
     "output_type": "execute_result"
    }
   ],
   "source": [
    "df.dtypes"
   ]
  },
  {
   "cell_type": "code",
   "execution_count": 6,
   "metadata": {
    "colab": {
     "base_uri": "https://localhost:8080/"
    },
    "id": "sSxtfE3IBEIi",
    "outputId": "062a5c0f-e2c9-4f56-af33-3c93d0a6d072"
   },
   "outputs": [
    {
     "data": {
      "text/plain": [
       "Index(['date', 'title', 'description', 'references', 'date_uploaded'], dtype='object')"
      ]
     },
     "execution_count": 6,
     "metadata": {},
     "output_type": "execute_result"
    }
   ],
   "source": [
    "df.columns"
   ]
  },
  {
   "cell_type": "markdown",
   "metadata": {
    "id": "7Ycrpxb7BEIi"
   },
   "source": [
    "El archivo contiene 67,358 registros  y tiene las siguientes columnas:\n",
    "\n",
    "- **Date**: Fecha del ataque (aunque algunos valores están incompletos).\n",
    "- **Title**: Título del incidente.\n",
    "- **Description**: Descripción del incidente, que puede incluir la víctima o el sector.\n",
    "- **References**: Fuentes de referencia para el incidente.\n",
    "- **Date Uploaded**: Fecha de subida del incidente al sistema."
   ]
  },
  {
   "cell_type": "markdown",
   "metadata": {
    "id": "WZUZq8zDBEIi"
   },
   "source": [
    "## Limpieza de los datos.\n",
    "En un análisis de ciberseguridad, las columnas más importantes son **date** (fecha del ataque), **title** (título del incidente) y **description** (descripción del ataque), ya que proporcionan la información necesaria para identificar patrones temporales, tipos de ataques y sectores afectados. Estas son fundamentales para estudios sobre tendencias, como el aumento de incidentes en ciertos periodos o vulnerabilidades en sectores específicos. Por otro lado, las columnas **date_uploaded** y **references** son menos relevantes para el análisis de patrones, ya que solo indican cuándo se documentó el incidente y las fuentes, aunque pueden ser útiles para validar la información."
   ]
  },
  {
   "cell_type": "code",
   "execution_count": 7,
   "metadata": {
    "colab": {
     "base_uri": "https://localhost:8080/",
     "height": 182
    },
    "id": "9SQflCqNBEIj",
    "outputId": "9415d520-26b4-4759-fdfb-5fb073a466fa"
   },
   "outputs": [
    {
     "data": {
      "text/html": [
       "<div>\n",
       "<style scoped>\n",
       "    .dataframe tbody tr th:only-of-type {\n",
       "        vertical-align: middle;\n",
       "    }\n",
       "\n",
       "    .dataframe tbody tr th {\n",
       "        vertical-align: top;\n",
       "    }\n",
       "\n",
       "    .dataframe thead th {\n",
       "        text-align: right;\n",
       "    }\n",
       "</style>\n",
       "<table border=\"1\" class=\"dataframe\">\n",
       "  <thead>\n",
       "    <tr style=\"text-align: right;\">\n",
       "      <th></th>\n",
       "      <th>date</th>\n",
       "      <th>title</th>\n",
       "      <th>description</th>\n",
       "      <th>references</th>\n",
       "    </tr>\n",
       "  </thead>\n",
       "  <tbody>\n",
       "    <tr>\n",
       "      <th>0</th>\n",
       "      <td>April 2024</td>\n",
       "      <td>Facebook page of the local branch of a politic...</td>\n",
       "      <td>SPÖ Müllendorf - Müllendorf, Burgenland, Austria</td>\n",
       "      <td>[{\"title\":\"Hackerangriff auf Facebookseite der...</td>\n",
       "    </tr>\n",
       "    <tr>\n",
       "      <th>1</th>\n",
       "      <td>April 25, 2024</td>\n",
       "      <td>Cyber attack on a construction company in Germany</td>\n",
       "      <td>Max Wild GmbH - Berkheim, Baden-Württemberg, G...</td>\n",
       "      <td>[{\"title\":\"Cyberangriff auf Max Wild GmbH\",\"ur...</td>\n",
       "    </tr>\n",
       "  </tbody>\n",
       "</table>\n",
       "</div>"
      ],
      "text/plain": [
       "             date                                              title  \\\n",
       "0      April 2024  Facebook page of the local branch of a politic...   \n",
       "1  April 25, 2024  Cyber attack on a construction company in Germany   \n",
       "\n",
       "                                         description  \\\n",
       "0   SPÖ Müllendorf - Müllendorf, Burgenland, Austria   \n",
       "1  Max Wild GmbH - Berkheim, Baden-Württemberg, G...   \n",
       "\n",
       "                                          references  \n",
       "0  [{\"title\":\"Hackerangriff auf Facebookseite der...  \n",
       "1  [{\"title\":\"Cyberangriff auf Max Wild GmbH\",\"ur...  "
      ]
     },
     "execution_count": 7,
     "metadata": {},
     "output_type": "execute_result"
    }
   ],
   "source": [
    "df.drop(columns=['date_uploaded'], inplace=True)\n",
    "df.head(2)"
   ]
  },
  {
   "cell_type": "code",
   "execution_count": 8,
   "metadata": {
    "colab": {
     "base_uri": "https://localhost:8080/",
     "height": 1000
    },
    "id": "Yz2jc0OUCZdv",
    "outputId": "ca3c6e4c-06fb-49c6-95bc-8f7e54ece0e5"
   },
   "outputs": [
    {
     "data": {
      "text/html": [
       "<div>\n",
       "<style scoped>\n",
       "    .dataframe tbody tr th:only-of-type {\n",
       "        vertical-align: middle;\n",
       "    }\n",
       "\n",
       "    .dataframe tbody tr th {\n",
       "        vertical-align: top;\n",
       "    }\n",
       "\n",
       "    .dataframe thead th {\n",
       "        text-align: right;\n",
       "    }\n",
       "</style>\n",
       "<table border=\"1\" class=\"dataframe\">\n",
       "  <thead>\n",
       "    <tr style=\"text-align: right;\">\n",
       "      <th></th>\n",
       "      <th>date</th>\n",
       "      <th>title</th>\n",
       "      <th>description</th>\n",
       "      <th>references</th>\n",
       "      <th>title_extracted</th>\n",
       "      <th>site_name_extracted</th>\n",
       "    </tr>\n",
       "  </thead>\n",
       "  <tbody>\n",
       "    <tr>\n",
       "      <th>0</th>\n",
       "      <td>April 2024</td>\n",
       "      <td>Facebook page of the local branch of a politic...</td>\n",
       "      <td>SPÖ Müllendorf - Müllendorf, Burgenland, Austria</td>\n",
       "      <td>[{\"title\":\"Hackerangriff auf Facebookseite der...</td>\n",
       "      <td>Hackerangriff auf Facebookseite der SPÖ Müllen...</td>\n",
       "      <td>meinbezirk.at</td>\n",
       "    </tr>\n",
       "    <tr>\n",
       "      <th>1</th>\n",
       "      <td>April 25, 2024</td>\n",
       "      <td>Cyber attack on a construction company in Germany</td>\n",
       "      <td>Max Wild GmbH - Berkheim, Baden-Württemberg, G...</td>\n",
       "      <td>[{\"title\":\"Cyberangriff auf Max Wild GmbH\",\"ur...</td>\n",
       "      <td>Cyberangriff auf Max Wild GmbH</td>\n",
       "      <td>maxwild.com</td>\n",
       "    </tr>\n",
       "    <tr>\n",
       "      <th>2</th>\n",
       "      <td>April 25, 2024</td>\n",
       "      <td>Cyber attack on a city government in France</td>\n",
       "      <td>Ville de Gravelines - Gravelines, Hauts-de-Fra...</td>\n",
       "      <td>[{\"title\":\"Notre ville est actuellement victim...</td>\n",
       "      <td>Notre ville est actuellement victime d’une cyb...</td>\n",
       "      <td>facebook.com</td>\n",
       "    </tr>\n",
       "    <tr>\n",
       "      <th>3</th>\n",
       "      <td>April 25, 2024</td>\n",
       "      <td>Cyber attack on a traffic management system in...</td>\n",
       "      <td>KC Scout - Kansas City, Missouri, USA (Jackson...</td>\n",
       "      <td>[{\"title\":\"KC Scout Alert\",\"url\":\"https://www....</td>\n",
       "      <td>KC Scout Alert</td>\n",
       "      <td>facebook.com</td>\n",
       "    </tr>\n",
       "    <tr>\n",
       "      <th>4</th>\n",
       "      <td>April 24, 2024</td>\n",
       "      <td>Mail account of a city government in Belgium h...</td>\n",
       "      <td>Deinze, Flemish Region, Belgium</td>\n",
       "      <td>[{\"title\":\"Stadsdiensten van Deinze geplaagd d...</td>\n",
       "      <td>Stadsdiensten van Deinze geplaagd door cyberaa...</td>\n",
       "      <td>nieuwsblad.be</td>\n",
       "    </tr>\n",
       "    <tr>\n",
       "      <th>5</th>\n",
       "      <td>April 2024</td>\n",
       "      <td>A municipality in Argentina loses 19 million p...</td>\n",
       "      <td>San Agustín, Provincia de Santa Fe, Argentina</td>\n",
       "      <td>[{\"title\":\"LA COMUNA DE SAN AGUSTÍN VÍCTIMA DE...</td>\n",
       "      <td>LA COMUNA DE SAN AGUSTÍN VÍCTIMA DE DELITO CIB...</td>\n",
       "      <td>facebook.com</td>\n",
       "    </tr>\n",
       "    <tr>\n",
       "      <th>6</th>\n",
       "      <td>April 23, 2024</td>\n",
       "      <td>Cyber attack on a municipality in Canada</td>\n",
       "      <td>Municipalité La Guadeloupe - La Guadeloupe, Qu...</td>\n",
       "      <td>[{\"title\":\"Le 23 avril dernier, la Municipalit...</td>\n",
       "      <td>Le 23 avril dernier, la Municipalité de La Gua...</td>\n",
       "      <td>facebook.com</td>\n",
       "    </tr>\n",
       "    <tr>\n",
       "      <th>7</th>\n",
       "      <td>April 23, 2024</td>\n",
       "      <td>Website of a Czech news agency hacked</td>\n",
       "      <td>České noviny (ČN) / Česká tisková kancelář (ČT...</td>\n",
       "      <td>[{\"title\":\"UPOZORNĚNÍ ČTK: Útočník napadl web ...</td>\n",
       "      <td>UPOZORNĚNÍ ČTK: Útočník napadl web České novin...</td>\n",
       "      <td>ctk.cz</td>\n",
       "    </tr>\n",
       "    <tr>\n",
       "      <th>8</th>\n",
       "      <td>April 2024</td>\n",
       "      <td>Cyber attack on a logistics company in Sweden,...</td>\n",
       "      <td>Skanlog - Sweden</td>\n",
       "      <td>[{\"title\":\"Hackerangrep kan gi tomme hyller ho...</td>\n",
       "      <td>Hackerangrep kan gi tomme hyller hos Systembol...</td>\n",
       "      <td>e24.no</td>\n",
       "    </tr>\n",
       "    <tr>\n",
       "      <th>9</th>\n",
       "      <td>April 22, 2024</td>\n",
       "      <td>Cyber attack on a city government in France</td>\n",
       "      <td>Ville d'Albi - Albi, Occitanie, France</td>\n",
       "      <td>[{\"title\":\"La Ville d'Albi victime d'une attaq...</td>\n",
       "      <td>La Ville d'Albi victime d'une attaque informat...</td>\n",
       "      <td>mairie-albi.fr</td>\n",
       "    </tr>\n",
       "  </tbody>\n",
       "</table>\n",
       "</div>"
      ],
      "text/plain": [
       "             date                                              title  \\\n",
       "0      April 2024  Facebook page of the local branch of a politic...   \n",
       "1  April 25, 2024  Cyber attack on a construction company in Germany   \n",
       "2  April 25, 2024        Cyber attack on a city government in France   \n",
       "3  April 25, 2024  Cyber attack on a traffic management system in...   \n",
       "4  April 24, 2024  Mail account of a city government in Belgium h...   \n",
       "5      April 2024  A municipality in Argentina loses 19 million p...   \n",
       "6  April 23, 2024           Cyber attack on a municipality in Canada   \n",
       "7  April 23, 2024              Website of a Czech news agency hacked   \n",
       "8      April 2024  Cyber attack on a logistics company in Sweden,...   \n",
       "9  April 22, 2024        Cyber attack on a city government in France   \n",
       "\n",
       "                                         description  \\\n",
       "0   SPÖ Müllendorf - Müllendorf, Burgenland, Austria   \n",
       "1  Max Wild GmbH - Berkheim, Baden-Württemberg, G...   \n",
       "2  Ville de Gravelines - Gravelines, Hauts-de-Fra...   \n",
       "3  KC Scout - Kansas City, Missouri, USA (Jackson...   \n",
       "4                    Deinze, Flemish Region, Belgium   \n",
       "5      San Agustín, Provincia de Santa Fe, Argentina   \n",
       "6  Municipalité La Guadeloupe - La Guadeloupe, Qu...   \n",
       "7  České noviny (ČN) / Česká tisková kancelář (ČT...   \n",
       "8                                   Skanlog - Sweden   \n",
       "9             Ville d'Albi - Albi, Occitanie, France   \n",
       "\n",
       "                                          references  \\\n",
       "0  [{\"title\":\"Hackerangriff auf Facebookseite der...   \n",
       "1  [{\"title\":\"Cyberangriff auf Max Wild GmbH\",\"ur...   \n",
       "2  [{\"title\":\"Notre ville est actuellement victim...   \n",
       "3  [{\"title\":\"KC Scout Alert\",\"url\":\"https://www....   \n",
       "4  [{\"title\":\"Stadsdiensten van Deinze geplaagd d...   \n",
       "5  [{\"title\":\"LA COMUNA DE SAN AGUSTÍN VÍCTIMA DE...   \n",
       "6  [{\"title\":\"Le 23 avril dernier, la Municipalit...   \n",
       "7  [{\"title\":\"UPOZORNĚNÍ ČTK: Útočník napadl web ...   \n",
       "8  [{\"title\":\"Hackerangrep kan gi tomme hyller ho...   \n",
       "9  [{\"title\":\"La Ville d'Albi victime d'une attaq...   \n",
       "\n",
       "                                     title_extracted site_name_extracted  \n",
       "0  Hackerangriff auf Facebookseite der SPÖ Müllen...       meinbezirk.at  \n",
       "1                     Cyberangriff auf Max Wild GmbH         maxwild.com  \n",
       "2  Notre ville est actuellement victime d’une cyb...        facebook.com  \n",
       "3                                     KC Scout Alert        facebook.com  \n",
       "4  Stadsdiensten van Deinze geplaagd door cyberaa...       nieuwsblad.be  \n",
       "5  LA COMUNA DE SAN AGUSTÍN VÍCTIMA DE DELITO CIB...        facebook.com  \n",
       "6  Le 23 avril dernier, la Municipalité de La Gua...        facebook.com  \n",
       "7  UPOZORNĚNÍ ČTK: Útočník napadl web České novin...              ctk.cz  \n",
       "8  Hackerangrep kan gi tomme hyller hos Systembol...              e24.no  \n",
       "9  La Ville d'Albi victime d'une attaque informat...      mairie-albi.fr  "
      ]
     },
     "execution_count": 8,
     "metadata": {},
     "output_type": "execute_result"
    }
   ],
   "source": [
    "def extract_title_url(reference_column):\n",
    "    titles, urls = [], []\n",
    "\n",
    "    for ref in reference_column:\n",
    "        if not ref:\n",
    "            titles.append(\"\")\n",
    "            urls.append(\"\")\n",
    "            continue\n",
    "\n",
    "        try:\n",
    "\n",
    "            ref_json = json.loads(ref)\n",
    "\n",
    "\n",
    "            if isinstance(ref_json, list) and len(ref_json) > 0:\n",
    "                first_ref = ref_json[0]\n",
    "\n",
    "\n",
    "                title = first_ref.get(\"title\", \"\")\n",
    "                url = first_ref.get(\"url\", \"\")\n",
    "\n",
    "\n",
    "                site_name = urlparse(url).netloc.replace('www.', '') if url else \"\"\n",
    "\n",
    "                titles.append(title)\n",
    "                urls.append(site_name)\n",
    "            else:\n",
    "                titles.append(\"\")\n",
    "                urls.append(\"\")\n",
    "        except (json.JSONDecodeError, IndexError, TypeError) as e:\n",
    "\n",
    "            titles.append(\"\")\n",
    "            urls.append(\"\")\n",
    "\n",
    "    return titles, urls\n",
    "\n",
    "df['title_extracted'], df['site_name_extracted'] = extract_title_url(df['references'])\n",
    "\n",
    "df.head(10)\n",
    "\n"
   ]
  },
  {
   "cell_type": "code",
   "execution_count": 9,
   "metadata": {
    "colab": {
     "base_uri": "https://localhost:8080/"
    },
    "id": "eFmb1dgsHZ03",
    "outputId": "4708d86e-8e24-44df-f8c5-3af60a65ec86"
   },
   "outputs": [
    {
     "data": {
      "text/plain": [
       "(67358, 6)"
      ]
     },
     "execution_count": 9,
     "metadata": {},
     "output_type": "execute_result"
    }
   ],
   "source": [
    "df.shape"
   ]
  },
  {
   "cell_type": "code",
   "execution_count": 10,
   "metadata": {
    "colab": {
     "base_uri": "https://localhost:8080/",
     "height": 268
    },
    "id": "soCzcRH0Hzjm",
    "outputId": "d3187669-4004-46ab-f80e-4fc4391d02ae"
   },
   "outputs": [
    {
     "data": {
      "text/html": [
       "<div>\n",
       "<style scoped>\n",
       "    .dataframe tbody tr th:only-of-type {\n",
       "        vertical-align: middle;\n",
       "    }\n",
       "\n",
       "    .dataframe tbody tr th {\n",
       "        vertical-align: top;\n",
       "    }\n",
       "\n",
       "    .dataframe thead th {\n",
       "        text-align: right;\n",
       "    }\n",
       "</style>\n",
       "<table border=\"1\" class=\"dataframe\">\n",
       "  <thead>\n",
       "    <tr style=\"text-align: right;\">\n",
       "      <th></th>\n",
       "      <th>date</th>\n",
       "      <th>title</th>\n",
       "      <th>description</th>\n",
       "      <th>title_extracted</th>\n",
       "      <th>site_name_extracted</th>\n",
       "    </tr>\n",
       "  </thead>\n",
       "  <tbody>\n",
       "    <tr>\n",
       "      <th>0</th>\n",
       "      <td>April 2024</td>\n",
       "      <td>Facebook page of the local branch of a politic...</td>\n",
       "      <td>SPÖ Müllendorf - Müllendorf, Burgenland, Austria</td>\n",
       "      <td>Hackerangriff auf Facebookseite der SPÖ Müllen...</td>\n",
       "      <td>meinbezirk.at</td>\n",
       "    </tr>\n",
       "    <tr>\n",
       "      <th>1</th>\n",
       "      <td>April 25, 2024</td>\n",
       "      <td>Cyber attack on a construction company in Germany</td>\n",
       "      <td>Max Wild GmbH - Berkheim, Baden-Württemberg, G...</td>\n",
       "      <td>Cyberangriff auf Max Wild GmbH</td>\n",
       "      <td>maxwild.com</td>\n",
       "    </tr>\n",
       "  </tbody>\n",
       "</table>\n",
       "</div>"
      ],
      "text/plain": [
       "             date                                              title  \\\n",
       "0      April 2024  Facebook page of the local branch of a politic...   \n",
       "1  April 25, 2024  Cyber attack on a construction company in Germany   \n",
       "\n",
       "                                         description  \\\n",
       "0   SPÖ Müllendorf - Müllendorf, Burgenland, Austria   \n",
       "1  Max Wild GmbH - Berkheim, Baden-Württemberg, G...   \n",
       "\n",
       "                                     title_extracted site_name_extracted  \n",
       "0  Hackerangriff auf Facebookseite der SPÖ Müllen...       meinbezirk.at  \n",
       "1                     Cyberangriff auf Max Wild GmbH         maxwild.com  "
      ]
     },
     "execution_count": 10,
     "metadata": {},
     "output_type": "execute_result"
    }
   ],
   "source": [
    "df.drop(columns=['references'], inplace=True)\n",
    "df.head(2)"
   ]
  },
  {
   "cell_type": "code",
   "execution_count": 11,
   "metadata": {
    "colab": {
     "base_uri": "https://localhost:8080/"
    },
    "id": "BZOs-kX1D4ti",
    "outputId": "b43dfeaa-ebbc-4912-e9f0-bc0fe3ffb92a"
   },
   "outputs": [
    {
     "name": "stdout",
     "output_type": "stream",
     "text": [
      "        Mes   Día       date\n",
      "0       4.0   1.0 2024-04-01\n",
      "1       4.0  25.0 2024-04-25\n",
      "2       4.0  25.0 2024-04-25\n",
      "3       4.0  25.0 2024-04-25\n",
      "4       4.0  24.0 2024-04-24\n",
      "...     ...   ...        ...\n",
      "67353  12.0  28.0 2021-12-28\n",
      "67354  12.0  28.0 2021-12-28\n",
      "67355  12.0   1.0 2021-12-01\n",
      "67356  12.0  29.0 2021-12-29\n",
      "67357  12.0  31.0 2021-12-31\n",
      "\n",
      "[67358 rows x 3 columns]\n"
     ]
    }
   ],
   "source": [
    "# Función para limpiar la fecha\n",
    "def limpiar_fecha(fecha):\n",
    "    # Eliminar caracteres no deseados\n",
    "    fecha = re.sub(r'[?]', '', fecha)  # Eliminar signos de interrogación\n",
    "    fecha = fecha.strip()  # Eliminar espacios al inicio y al final\n",
    "    return fecha\n",
    "\n",
    "# Función para procesar la fecha\n",
    "def procesar_fecha(fecha):\n",
    "    # Limpiar la cadena de fecha\n",
    "    fecha = limpiar_fecha(fecha)\n",
    "\n",
    "    # Si la fecha está vacía después de limpiar\n",
    "    if not fecha:\n",
    "        return pd.NaT\n",
    "\n",
    "    # Verificar los formatos de fecha y convertir directamente 'date'\n",
    "    if re.match(r'^\\d{1,2}\\. \\w+ \\d{4}$', fecha):\n",
    "        # Formato: DÍA. MES AÑO\n",
    "        return pd.to_datetime(fecha, format='%d. %B %Y', errors='coerce')\n",
    "    elif re.match(r'^\\w+/\\w+ \\d{4}$', fecha):\n",
    "        # Formato: MES/MES AÑO\n",
    "        meses = fecha.split('/')\n",
    "        return pd.to_datetime(f\"{meses[0]} 1 {meses[1]}\", format='%B 1 %Y', errors='coerce')\n",
    "    elif re.match(r'^\\w+ \\d{1,2}, \\d{4}$', fecha):\n",
    "        # Formato: MES DÍA, AÑO\n",
    "        return pd.to_datetime(fecha, format='%B %d, %Y', errors='coerce')\n",
    "    elif re.match(r'^\\w+ \\d{4}$', fecha):\n",
    "        # Formato: MES AÑO\n",
    "        return pd.to_datetime(fecha, format='%B %Y', errors='coerce')\n",
    "    elif re.match(r'^\\d{1,2} \\w+ \\d{4}$', fecha):\n",
    "        # Formato: DÍA MES, AÑO\n",
    "        return pd.to_datetime(fecha, format='%d %B %Y', errors='coerce')\n",
    "    elif re.match(r'^\\d{1,2} \\w+$', fecha):\n",
    "        # Formato: DÍA MES (sin año)\n",
    "        return pd.to_datetime(fecha + ' 2000', format='%d %B %Y', errors='coerce')\n",
    "    else:\n",
    "        return pd.NaT\n",
    "\n",
    "# Asegurarse de que la columna 'date' sea de tipo string\n",
    "df['date'] = df['date'].astype(str)\n",
    "\n",
    "# Aplicar la función procesar_fecha directamente sobre 'date'\n",
    "df['date'] = df['date'].apply(procesar_fecha)\n",
    "\n",
    "# Obtener mes y día a partir de 'date'\n",
    "mes_dia = df['date'].apply(lambda x: (x.month, x.day) if pd.notnull(x) else (None, None))\n",
    "\n",
    "# Crear DataFrame con los resultados\n",
    "df_resultado = pd.DataFrame(mes_dia.tolist(), columns=['Mes', 'Día'])\n",
    "\n",
    "# Añadir la columna 'date' original procesada\n",
    "df_resultado['date'] = df['date']\n",
    "\n",
    "# Mostrar resultados\n",
    "print(df_resultado)\n",
    "\n"
   ]
  },
  {
   "cell_type": "code",
   "execution_count": 12,
   "metadata": {
    "colab": {
     "base_uri": "https://localhost:8080/",
     "height": 288
    },
    "id": "J9J6u6HOIj_F",
    "outputId": "3006fa6e-e13b-4364-c7a9-e859a89a6389"
   },
   "outputs": [
    {
     "data": {
      "text/html": [
       "<div>\n",
       "<style scoped>\n",
       "    .dataframe tbody tr th:only-of-type {\n",
       "        vertical-align: middle;\n",
       "    }\n",
       "\n",
       "    .dataframe tbody tr th {\n",
       "        vertical-align: top;\n",
       "    }\n",
       "\n",
       "    .dataframe thead th {\n",
       "        text-align: right;\n",
       "    }\n",
       "</style>\n",
       "<table border=\"1\" class=\"dataframe\">\n",
       "  <thead>\n",
       "    <tr style=\"text-align: right;\">\n",
       "      <th></th>\n",
       "      <th>date</th>\n",
       "      <th>title</th>\n",
       "      <th>description</th>\n",
       "      <th>title_extracted</th>\n",
       "      <th>site_name_extracted</th>\n",
       "      <th>year</th>\n",
       "      <th>month</th>\n",
       "    </tr>\n",
       "  </thead>\n",
       "  <tbody>\n",
       "    <tr>\n",
       "      <th>0</th>\n",
       "      <td>2024-04-01</td>\n",
       "      <td>Facebook page of the local branch of a politic...</td>\n",
       "      <td>SPÖ Müllendorf - Müllendorf, Burgenland, Austria</td>\n",
       "      <td>Hackerangriff auf Facebookseite der SPÖ Müllen...</td>\n",
       "      <td>meinbezirk.at</td>\n",
       "      <td>2024</td>\n",
       "      <td>4</td>\n",
       "    </tr>\n",
       "    <tr>\n",
       "      <th>1</th>\n",
       "      <td>2024-04-25</td>\n",
       "      <td>Cyber attack on a construction company in Germany</td>\n",
       "      <td>Max Wild GmbH - Berkheim, Baden-Württemberg, G...</td>\n",
       "      <td>Cyberangriff auf Max Wild GmbH</td>\n",
       "      <td>maxwild.com</td>\n",
       "      <td>2024</td>\n",
       "      <td>4</td>\n",
       "    </tr>\n",
       "  </tbody>\n",
       "</table>\n",
       "</div>"
      ],
      "text/plain": [
       "        date                                              title  \\\n",
       "0 2024-04-01  Facebook page of the local branch of a politic...   \n",
       "1 2024-04-25  Cyber attack on a construction company in Germany   \n",
       "\n",
       "                                         description  \\\n",
       "0   SPÖ Müllendorf - Müllendorf, Burgenland, Austria   \n",
       "1  Max Wild GmbH - Berkheim, Baden-Württemberg, G...   \n",
       "\n",
       "                                     title_extracted site_name_extracted  \\\n",
       "0  Hackerangriff auf Facebookseite der SPÖ Müllen...       meinbezirk.at   \n",
       "1                     Cyberangriff auf Max Wild GmbH         maxwild.com   \n",
       "\n",
       "   year  month  \n",
       "0  2024      4  \n",
       "1  2024      4  "
      ]
     },
     "execution_count": 12,
     "metadata": {},
     "output_type": "execute_result"
    }
   ],
   "source": [
    "\n",
    "df['date'] = pd.to_datetime(df['date'], errors='coerce')\n",
    "\n",
    "df['year'] = df['date'].dt.year.astype('Int64')\n",
    "df['month'] = df['date'].dt.month.astype('Int64')\n",
    "\n",
    "\n",
    "\n",
    "df.head(2)"
   ]
  },
  {
   "cell_type": "markdown",
   "metadata": {
    "id": "NP18eArKBEIj"
   },
   "source": [
    "### Tratamiento de filas nulas.\n",
    "EL dataframe inicial contiene 67000 filas. Se ha observado que las columas **date** tenia valores nulos en 48 filas, y **title** en 32 filas. Lo que representa menos del 1% de filas en los dos casos, por lo que se considera lo más apropiado eliminarlas."
   ]
  },
  {
   "cell_type": "code",
   "execution_count": 13,
   "metadata": {
    "colab": {
     "base_uri": "https://localhost:8080/",
     "height": 304
    },
    "id": "Yufzyobavi4c",
    "outputId": "ef9dcca9-c4dc-4c57-b090-f52ef6827aa6"
   },
   "outputs": [
    {
     "data": {
      "text/plain": [
       "date                   990\n",
       "title                   32\n",
       "description              0\n",
       "title_extracted          0\n",
       "site_name_extracted      0\n",
       "year                   990\n",
       "month                  990\n",
       "dtype: int64"
      ]
     },
     "execution_count": 13,
     "metadata": {},
     "output_type": "execute_result"
    }
   ],
   "source": [
    "df.isnull().sum()"
   ]
  },
  {
   "cell_type": "code",
   "execution_count": 14,
   "metadata": {
    "id": "hhQkWkXO8heW"
   },
   "outputs": [],
   "source": [
    "for i in ['title','date']:\n",
    "    df = df.dropna(subset=[i])"
   ]
  },
  {
   "cell_type": "code",
   "execution_count": 15,
   "metadata": {
    "colab": {
     "base_uri": "https://localhost:8080/",
     "height": 304
    },
    "id": "CD-MxWpOJ5NN",
    "outputId": "144c7116-2a4e-46b5-bd38-5b03b6fbc986"
   },
   "outputs": [
    {
     "data": {
      "text/plain": [
       "date                   0\n",
       "title                  0\n",
       "description            0\n",
       "title_extracted        0\n",
       "site_name_extracted    0\n",
       "year                   0\n",
       "month                  0\n",
       "dtype: int64"
      ]
     },
     "execution_count": 15,
     "metadata": {},
     "output_type": "execute_result"
    }
   ],
   "source": [
    "df.isnull().sum()"
   ]
  },
  {
   "cell_type": "code",
   "execution_count": 16,
   "metadata": {
    "colab": {
     "base_uri": "https://localhost:8080/"
    },
    "id": "-Z--P11Rf0YU",
    "outputId": "f25a4ced-9f47-4d8a-f5dd-614c7909b680"
   },
   "outputs": [],
   "source": [
    "df.drop(columns=['date'], inplace=True)"
   ]
  },
  {
   "cell_type": "code",
   "execution_count": 17,
   "metadata": {
    "colab": {
     "base_uri": "https://localhost:8080/"
    },
    "id": "xf8PfxSedHmP",
    "outputId": "6414163e-9eaf-4fe7-f9c0-49742b59473e"
   },
   "outputs": [
    {
     "name": "stdout",
     "output_type": "stream",
     "text": [
      "Valores nulos en 'title_extracted': 0\n",
      "Valores vacíos en 'title_extracted': 2771\n",
      "Valores nulos en 'site_name_extracted': 0\n",
      "Valores vacíos en 'site_name_extracted': 2883\n"
     ]
    }
   ],
   "source": [
    "nulos_title_extracted = df['title_extracted'].isnull().sum()\n",
    "nulos_site_name_extracted = df['site_name_extracted'].isnull().sum()\n",
    "\n",
    "vacios_title_extracted = (df['title_extracted'] == '').sum()\n",
    "vacios_site_name_extracted = (df['site_name_extracted'] == '').sum()\n",
    "\n",
    "print(f\"Valores nulos en 'title_extracted': {nulos_title_extracted}\")\n",
    "print(f\"Valores vacíos en 'title_extracted': {vacios_title_extracted}\")\n",
    "print(f\"Valores nulos en 'site_name_extracted': {nulos_site_name_extracted}\")\n",
    "print(f\"Valores vacíos en 'site_name_extracted': {vacios_site_name_extracted}\")\n"
   ]
  },
  {
   "cell_type": "code",
   "execution_count": 18,
   "metadata": {
    "colab": {
     "base_uri": "https://localhost:8080/",
     "height": 591
    },
    "id": "UM9OIxhjeWpf",
    "outputId": "bb6190c8-5508-4184-8ebe-85df37a56b49"
   },
   "outputs": [
    {
     "data": {
      "text/html": [
       "<div>\n",
       "<style scoped>\n",
       "    .dataframe tbody tr th:only-of-type {\n",
       "        vertical-align: middle;\n",
       "    }\n",
       "\n",
       "    .dataframe tbody tr th {\n",
       "        vertical-align: top;\n",
       "    }\n",
       "\n",
       "    .dataframe thead th {\n",
       "        text-align: right;\n",
       "    }\n",
       "</style>\n",
       "<table border=\"1\" class=\"dataframe\">\n",
       "  <thead>\n",
       "    <tr style=\"text-align: right;\">\n",
       "      <th></th>\n",
       "      <th>title</th>\n",
       "      <th>description</th>\n",
       "      <th>title_extracted</th>\n",
       "      <th>site_name_extracted</th>\n",
       "      <th>year</th>\n",
       "      <th>month</th>\n",
       "    </tr>\n",
       "  </thead>\n",
       "  <tbody>\n",
       "    <tr>\n",
       "      <th>0</th>\n",
       "      <td>Facebook page of the local branch of a politic...</td>\n",
       "      <td>SPÖ Müllendorf - Müllendorf, Burgenland, Austria</td>\n",
       "      <td>Hackerangriff auf Facebookseite der SPÖ Müllen...</td>\n",
       "      <td>meinbezirk.at</td>\n",
       "      <td>2024</td>\n",
       "      <td>4</td>\n",
       "    </tr>\n",
       "    <tr>\n",
       "      <th>1</th>\n",
       "      <td>Cyber attack on a construction company in Germany</td>\n",
       "      <td>Max Wild GmbH - Berkheim, Baden-Württemberg, G...</td>\n",
       "      <td>Cyberangriff auf Max Wild GmbH</td>\n",
       "      <td>maxwild.com</td>\n",
       "      <td>2024</td>\n",
       "      <td>4</td>\n",
       "    </tr>\n",
       "    <tr>\n",
       "      <th>2</th>\n",
       "      <td>Cyber attack on a city government in France</td>\n",
       "      <td>Ville de Gravelines - Gravelines, Hauts-de-Fra...</td>\n",
       "      <td>Notre ville est actuellement victime d’une cyb...</td>\n",
       "      <td>facebook.com</td>\n",
       "      <td>2024</td>\n",
       "      <td>4</td>\n",
       "    </tr>\n",
       "    <tr>\n",
       "      <th>3</th>\n",
       "      <td>Cyber attack on a traffic management system in...</td>\n",
       "      <td>KC Scout - Kansas City, Missouri, USA (Jackson...</td>\n",
       "      <td>KC Scout Alert</td>\n",
       "      <td>facebook.com</td>\n",
       "      <td>2024</td>\n",
       "      <td>4</td>\n",
       "    </tr>\n",
       "    <tr>\n",
       "      <th>4</th>\n",
       "      <td>Mail account of a city government in Belgium h...</td>\n",
       "      <td>Deinze, Flemish Region, Belgium</td>\n",
       "      <td>Stadsdiensten van Deinze geplaagd door cyberaa...</td>\n",
       "      <td>nieuwsblad.be</td>\n",
       "      <td>2024</td>\n",
       "      <td>4</td>\n",
       "    </tr>\n",
       "  </tbody>\n",
       "</table>\n",
       "</div>"
      ],
      "text/plain": [
       "                                               title  \\\n",
       "0  Facebook page of the local branch of a politic...   \n",
       "1  Cyber attack on a construction company in Germany   \n",
       "2        Cyber attack on a city government in France   \n",
       "3  Cyber attack on a traffic management system in...   \n",
       "4  Mail account of a city government in Belgium h...   \n",
       "\n",
       "                                         description  \\\n",
       "0   SPÖ Müllendorf - Müllendorf, Burgenland, Austria   \n",
       "1  Max Wild GmbH - Berkheim, Baden-Württemberg, G...   \n",
       "2  Ville de Gravelines - Gravelines, Hauts-de-Fra...   \n",
       "3  KC Scout - Kansas City, Missouri, USA (Jackson...   \n",
       "4                    Deinze, Flemish Region, Belgium   \n",
       "\n",
       "                                     title_extracted site_name_extracted  \\\n",
       "0  Hackerangriff auf Facebookseite der SPÖ Müllen...       meinbezirk.at   \n",
       "1                     Cyberangriff auf Max Wild GmbH         maxwild.com   \n",
       "2  Notre ville est actuellement victime d’une cyb...        facebook.com   \n",
       "3                                     KC Scout Alert        facebook.com   \n",
       "4  Stadsdiensten van Deinze geplaagd door cyberaa...       nieuwsblad.be   \n",
       "\n",
       "   year  month  \n",
       "0  2024      4  \n",
       "1  2024      4  \n",
       "2  2024      4  \n",
       "3  2024      4  \n",
       "4  2024      4  "
      ]
     },
     "execution_count": 18,
     "metadata": {},
     "output_type": "execute_result"
    }
   ],
   "source": [
    "df = df[(df['title_extracted'].notnull()) & (df['title_extracted'] != '') &\n",
    "                (df['site_name_extracted'].notnull()) & (df['site_name_extracted'] != '')]\n",
    "\n",
    "df.head()\n"
   ]
  },
  {
   "cell_type": "code",
   "execution_count": 19,
   "metadata": {
    "colab": {
     "base_uri": "https://localhost:8080/",
     "height": 272
    },
    "id": "MeIcuT-wKDWf",
    "outputId": "2ef6baa8-7962-4217-bcbd-2acc8530bcfd"
   },
   "outputs": [
    {
     "data": {
      "text/plain": [
       "title                  0\n",
       "description            0\n",
       "title_extracted        0\n",
       "site_name_extracted    0\n",
       "year                   0\n",
       "month                  0\n",
       "dtype: int64"
      ]
     },
     "execution_count": 19,
     "metadata": {},
     "output_type": "execute_result"
    }
   ],
   "source": [
    "df.isnull().sum()"
   ]
  },
  {
   "cell_type": "code",
   "execution_count": 20,
   "metadata": {
    "colab": {
     "base_uri": "https://localhost:8080/"
    },
    "id": "x--LmIWihPI4",
    "outputId": "9c2a46d8-647e-4479-b41f-4c6deaa0cacb"
   },
   "outputs": [
    {
     "name": "stdout",
     "output_type": "stream",
     "text": [
      "2014-04      16\n",
      "2021-01     432\n",
      "2021-02     544\n",
      "2021-03     736\n",
      "2021-04     688\n",
      "2021-05     640\n",
      "2021-06     800\n",
      "2021-07    1152\n",
      "2021-08    1264\n",
      "2021-09    1216\n",
      "2021-10    1552\n",
      "2021-11    1136\n",
      "2021-12    1632\n",
      "2022-01    1776\n",
      "2022-02    1952\n",
      "2022-03    2336\n",
      "2022-04    2448\n",
      "2022-05    2272\n",
      "2022-06    1600\n",
      "2022-07    1104\n",
      "2022-08    1584\n",
      "2022-09    1552\n",
      "2022-10    1808\n",
      "2022-11    1536\n",
      "2022-12    2032\n",
      "2023-01    2031\n",
      "2023-02    2052\n",
      "2023-03    2416\n",
      "2023-04    2336\n",
      "2023-05    6538\n",
      "2023-06    1536\n",
      "2023-07    1241\n",
      "2023-08    1487\n",
      "2023-09    1632\n",
      "2023-10    2090\n",
      "2023-11    2022\n",
      "2023-12    1339\n",
      "2024-01    1334\n",
      "2024-02     978\n",
      "2024-03     460\n",
      "2024-04     153\n",
      "Freq: M, dtype: int64\n",
      "                                               title  \\\n",
      "0  Facebook page of the local branch of a politic...   \n",
      "1  Cyber attack on a construction company in Germany   \n",
      "\n",
      "                                         description  \\\n",
      "0   SPÖ Müllendorf - Müllendorf, Burgenland, Austria   \n",
      "1  Max Wild GmbH - Berkheim, Baden-Württemberg, G...   \n",
      "\n",
      "                                     title_extracted site_name_extracted  \\\n",
      "0  Hackerangriff auf Facebookseite der SPÖ Müllen...       meinbezirk.at   \n",
      "1                     Cyberangriff auf Max Wild GmbH         maxwild.com   \n",
      "\n",
      "   year  month  \n",
      "0  2024      4  \n",
      "1  2024      4  \n"
     ]
    }
   ],
   "source": [
    "df = df.dropna(subset=['year', 'month'])\n",
    "\n",
    "month_year = pd.to_datetime(\n",
    "    df['year'].astype(int).astype(str) + '-' + df['month'].astype(int).astype(str).str.zfill(2),\n",
    "    format='%Y-%m'\n",
    ").dt.to_period('M')\n",
    "\n",
    "attacks_per_month = month_year.value_counts().sort_index()\n",
    "\n",
    "print(attacks_per_month)\n",
    "\n",
    "print(df.head(2))\n",
    "\n"
   ]
  },
  {
   "cell_type": "code",
   "execution_count": 21,
   "metadata": {
    "colab": {
     "base_uri": "https://localhost:8080/"
    },
    "id": "iNv7pfeohZX9",
    "outputId": "ec5926e2-3758-4dbd-faf9-fc154e07bc1d"
   },
   "outputs": [
    {
     "data": {
      "text/plain": [
       "(63453, 6)"
      ]
     },
     "execution_count": 21,
     "metadata": {},
     "output_type": "execute_result"
    }
   ],
   "source": [
    "df.shape"
   ]
  },
  {
   "cell_type": "markdown",
   "metadata": {
    "id": "TrIjjrZrBEIj"
   },
   "source": [
    "### Tratamiento de filas duplicadas.\n"
   ]
  },
  {
   "cell_type": "code",
   "execution_count": 22,
   "metadata": {
    "colab": {
     "base_uri": "https://localhost:8080/"
    },
    "id": "MSFxW7qhBEIj",
    "outputId": "84fa7d45-70f1-4876-e147-68a90d96c705"
   },
   "outputs": [
    {
     "data": {
      "text/plain": [
       "(63453, 6)"
      ]
     },
     "execution_count": 22,
     "metadata": {},
     "output_type": "execute_result"
    }
   ],
   "source": [
    "df.shape"
   ]
  },
  {
   "cell_type": "code",
   "execution_count": 23,
   "metadata": {
    "colab": {
     "base_uri": "https://localhost:8080/"
    },
    "id": "DEj9zhLtBEIk",
    "outputId": "e0e9855f-6e6c-4c73-c34e-ac520ea71adb"
   },
   "outputs": [
    {
     "name": "stdout",
     "output_type": "stream",
     "text": [
      "Filas duplicadas antes de eliminar: 59303\n",
      "Filas duplicadas después de eliminar: 0\n"
     ]
    }
   ],
   "source": [
    "\n",
    "duplicados_antes = df.duplicated().sum()\n",
    "print(f\"Filas duplicadas antes de eliminar: {duplicados_antes}\")\n",
    "\n",
    "\n",
    "df_cleaned = df.drop_duplicates(keep=False)\n",
    "\n",
    "\n",
    "duplicados_despues = df_cleaned.duplicated().sum()\n",
    "print(f\"Filas duplicadas después de eliminar: {duplicados_despues}\")\n"
   ]
  },
  {
   "cell_type": "markdown",
   "metadata": {
    "id": "ySyTlr7wBEIk"
   },
   "source": [
    "## Análisis de los datos por tiempo"
   ]
  },
  {
   "cell_type": "markdown",
   "metadata": {
    "id": "FIVLK2OvBEIk"
   },
   "source": [
    "Para este dataframe esinteresante hacer un análisis temporal para ver las tendencias de los incidentes a lo largo del tiempo."
   ]
  },
  {
   "cell_type": "markdown",
   "metadata": {
    "id": "ukhW6r-NBEIl"
   },
   "source": [
    "El análisis temporal de los incidentes muestra que el registro más antiguo corresponde a octubre de 2010, y luego hay un salto hasta abril de 2014. A partir de enero de 2021, el número de incidentes coienza a umentar significativamiente. HAcemos una gráfica para observar mejor estos datos."
   ]
  },
  {
   "cell_type": "code",
   "execution_count": 24,
   "metadata": {
    "colab": {
     "base_uri": "https://localhost:8080/",
     "height": 392
    },
    "id": "7Uo0wurjBEIl",
    "outputId": "105aae13-9b18-4d76-bf6b-b27b4af5f9fa"
   },
   "outputs": [
    {
     "data": {
      "image/png": "[encoded data removed]",
      "text/plain": [
       "<Figure size 1000x600 with 1 Axes>"
      ]
     },
     "metadata": {},
     "output_type": "display_data"
    }
   ],
   "source": [
    "\n",
    "month_year = pd.to_datetime(df['year'].astype(str) + '-' + df['month'].astype(str).str.zfill(2), format='%Y-%m').dt.to_period('M')\n",
    "\n",
    "temporal_analysis = month_year.value_counts().sort_index()\n",
    "\n",
    "\n",
    "plt.figure(figsize=(10, 6))\n",
    "temporal_analysis.plot(kind='line', color='red')\n",
    "plt.title('Evolución temporal de los ataques de ciberseguridad')\n",
    "plt.xlabel('Fecha (Año-Mes)')\n",
    "plt.ylabel('Número de ataques')\n",
    "plt.grid(True)\n",
    "plt.xticks(rotation=45)\n",
    "plt.tight_layout()\n",
    "plt.show()\n"
   ]
  },
  {
   "cell_type": "markdown",
   "metadata": {
    "id": "JSZ7Hdy_BEIl"
   },
   "source": [
    "El gráfico muestra un aumento significativo en los ataques de ciberseguridad a partir de 2021, con picos en varios meses. Esto puede estar relacionado con el incremento de incidentes a nivel mundial debido a la pandemia y ala mayor digitalización."
   ]
  },
  {
   "cell_type": "code",
   "execution_count": 25,
   "metadata": {
    "colab": {
     "base_uri": "https://localhost:8080/",
     "height": 392
    },
    "id": "JmeROhDnBEIl",
    "outputId": "87e39766-2f1a-4d37-b7d2-855a6afea85b"
   },
   "outputs": [
    {
     "data": {
      "image/png": "[encoded data removed]",
      "text/plain": [
       "<Figure size 1000x600 with 1 Axes>"
      ]
     },
     "metadata": {},
     "output_type": "display_data"
    }
   ],
   "source": [
    "attacks_per_month.sort_index().plot(kind='bar', figsize=(10, 6), color='blue')\n",
    "plt.title('Ciberataques por mes')\n",
    "plt.xlabel('Mes')\n",
    "plt.ylabel('Número de ataques')\n",
    "plt.xticks(rotation=45)\n",
    "plt.grid(True)\n",
    "plt.tight_layout()\n",
    "plt.show()"
   ]
  },
  {
   "cell_type": "markdown",
   "metadata": {
    "id": "1skwh4YGBEIl"
   },
   "source": [
    "Se observa claramente que en abril de 2023 hubo un alto número de ataques."
   ]
  },
  {
   "cell_type": "markdown",
   "metadata": {
    "id": "Tk3LgcW1BEIl"
   },
   "source": []
  },
  {
   "cell_type": "markdown",
   "metadata": {
    "id": "2oUQYxstBEIl"
   },
   "source": [
    "## Análisis por sectores"
   ]
  },
  {
   "cell_type": "code",
   "execution_count": 26,
   "metadata": {
    "id": "iwLSqU1gkyOW"
   },
   "outputs": [],
   "source": [
    "\n",
    "sectors = {\n",
    "    'Gobierno y servicios públicos': [\n",
    "        'government', 'public administration', 'municipality', 'city',\n",
    "        'federal', 'state', 'local', 'public sector', 'regulatory agency', 'department',\n",
    "        'agency', 'bureau', 'authority'\n",
    "    ],\n",
    "    'Salud y cuidado': [\n",
    "        'health', 'healthcare', 'hospital', 'medical', 'pharmaceutical',\n",
    "        'biotechnology', 'telehealth', 'nursing', 'clinic', 'doctor',\n",
    "        'medical facility', 'health insurance', 'dentistry', 'wellness'\n",
    "    ],\n",
    "    'Educación': [\n",
    "        'education', 'university', 'college', 'school', 'academic',\n",
    "        'institute', 'training', 'vocational', 'tuition', 'online learning',\n",
    "        'educational institution', 'scholarship'\n",
    "    ],\n",
    "    'Finanzas y banca': [\n",
    "        'bank', 'financial', 'fintech', 'insurance', 'investment',\n",
    "        'venture capital', 'mortgage', 'credit', 'loans', 'stock market',\n",
    "        'payment processing', 'currency exchange', 'brokerage', 'savings',\n",
    "        'credit union'\n",
    "    ],\n",
    "    'Tecnología y telecomunicaciones': [\n",
    "        'technology', 'tech', 'it', 'software', 'hardware', 'cloud computing',\n",
    "        'internet service provider', 'network provider', 'cybersecurity',\n",
    "        'data protection', 'privacy', 'AI', 'artificial intelligence',\n",
    "        'machine learning', 'data analytics', 'mobile', 'telecom',\n",
    "        'app development', 'e-commerce'\n",
    "    ],\n",
    "    'Energía y recursos': [\n",
    "        'energy', 'oil', 'gas', 'power', 'utilities', 'renewable',\n",
    "        'solar', 'wind', 'nuclear', 'electricity', 'water supply',\n",
    "        'waste management', 'agriculture', 'farming', 'biofuels',\n",
    "        'natural resources'\n",
    "    ],\n",
    "    'Construcción e infraestructura': [\n",
    "        'construction', 'infrastructure', 'engineering', 'real estate development',\n",
    "        'architecture', 'contractor', 'landscaping', 'building materials',\n",
    "        'civil engineering', 'urban planning'\n",
    "    ],\n",
    "    'Transporte y logística': [\n",
    "        'transport', 'logistics', 'shipping', 'aerospace', 'automotive',\n",
    "        'airline', 'hospitality', 'travel', 'tourism', 'supply chain',\n",
    "        'public transport', 'freight', 'cargo', 'distribution',\n",
    "        'shipping lines', 'delivery services'\n",
    "    ],\n",
    "    'Comercio y servicios': [\n",
    "        'retail', 'e-commerce', 'wholesale', 'consumer goods',\n",
    "        'online services', 'home services', 'cleaning', 'maintenance',\n",
    "        'repair', 'restaurant', 'food and beverage', 'grocery', 'apparel',\n",
    "        'fashion', 'shopping'\n",
    "    ],\n",
    "    'Industria y manufactura': [\n",
    "        'manufacturing', 'production', 'industry', 'factory',\n",
    "        'food processing', 'textiles', 'automotive manufacturing',\n",
    "        'pharmaceutical manufacturing', 'chemical manufacturing',\n",
    "        'construction materials', 'consumer electronics', 'heavy machinery'\n",
    "    ],\n",
    "    'Medios y entretenimiento': [\n",
    "        'media', 'news', 'journalism', 'entertainment', 'broadcasting',\n",
    "        'art', 'culture', 'sports', 'fitness', 'health and wellness',\n",
    "        'social media', 'music', 'film', 'television', 'streaming',\n",
    "        'gaming', 'theater'\n",
    "    ],\n",
    "    'Sector militar y defensa': [\n",
    "        'military', 'defense', 'army', 'navy', 'air force',\n",
    "        'intelligence', 'national security', 'defense contractor',\n",
    "        'weapons', 'cyber defense', 'surveillance', 'homeland security'\n",
    "    ],\n",
    "    'Organizaciones sin fines de lucro': [\n",
    "        'non-profit', 'ngo', 'charity', 'philanthropy',\n",
    "        'foundations', 'advocacy', 'community service',\n",
    "        'human rights', 'environmental', 'social justice',\n",
    "        'international organization'\n",
    "    ],\n",
    "    'Servicios profesionales': [\n",
    "        'legal', 'law firm', 'consulting', 'professional services',\n",
    "        'accounting', 'auditing', 'management', 'marketing',\n",
    "        'human resources', 'public relations', 'real estate',\n",
    "        'investment advisory', 'financial consulting'\n",
    "    ],\n",
    "    'Sector de investigación y desarrollo': [\n",
    "        'research', 'development', 'laboratory', 'science',\n",
    "        'technology transfer', 'innovation', 'R&D',\n",
    "        'clinical trials', 'academic research', 'scientific research'\n",
    "    ],\n",
    "    'Agricultura y alimentación': [\n",
    "        'agriculture', 'farming', 'food production',\n",
    "        'agrochemical', 'livestock', 'dairy',\n",
    "        'fishing', 'food distribution', 'organic',\n",
    "        'farm-to-table'\n",
    "    ],\n",
    "    'Sector medioambiental': [\n",
    "        'environment', 'ecology', 'sustainability',\n",
    "        'wildlife', 'conservation', 'pollution',\n",
    "        'recycling', 'climate change', 'renewable energy',\n",
    "        'green technology'\n",
    "    ],\n",
    "}"
   ]
  },
  {
   "cell_type": "code",
   "execution_count": 27,
   "metadata": {
    "colab": {
     "base_uri": "https://localhost:8080/"
    },
    "id": "1MbOFpOEBEIm",
    "outputId": "52f0e284-69cd-4606-a12e-2af5b4d6e9ab"
   },
   "outputs": [
    {
     "name": "stdout",
     "output_type": "stream",
     "text": [
      "Número de incidentes clasificados como 'other':\n",
      "other    30442\n",
      "Name: sector, dtype: int64\n",
      "Total de incidentes clasificados como 'other': 30442\n",
      "\n",
      "Análisis de sectores agrupados:\n",
      "other                                   30442\n",
      "Tecnología y telecomunicaciones         16957\n",
      "Educación                                4624\n",
      "Gobierno y servicios públicos            4071\n",
      "Salud y cuidado                          3635\n",
      "Finanzas y banca                         1449\n",
      "Medios y entretenimiento                 1090\n",
      "Energía y recursos                        413\n",
      "Transporte y logística                    237\n",
      "Servicios profesionales                   148\n",
      "Sector de investigación y desarrollo      130\n",
      "Organizaciones sin fines de lucro          65\n",
      "Construcción e infraestructura             48\n",
      "Industria y manufactura                    48\n",
      "Sector militar y defensa                   48\n",
      "Comercio y servicios                       48\n",
      "Name: sector, dtype: int64\n"
     ]
    }
   ],
   "source": [
    "\n",
    "def extract_sector(text):\n",
    "    for group, keywords in sectors.items():\n",
    "        for sector in keywords:\n",
    "            if re.search(sector, text, re.IGNORECASE):\n",
    "                return group\n",
    "    return 'other'\n",
    "\n",
    "\n",
    "df['sector'] = df['description'].apply(extract_sector)\n",
    "\n",
    "\n",
    "sector_analysis = df['sector'].value_counts()\n",
    "\n",
    "other_sectors = sector_analysis[sector_analysis.index == 'other']\n",
    "\n",
    "print(\"Número de incidentes clasificados como 'other':\")\n",
    "print(other_sectors)\n",
    "\n",
    "\n",
    "unclassified_count = df[df['sector'] == 'other'].shape[0]\n",
    "print(f\"Total de incidentes clasificados como 'other': {unclassified_count}\")\n",
    "\n",
    "print(\"\\nAnálisis de sectores agrupados:\")\n",
    "print(sector_analysis)\n"
   ]
  },
  {
   "cell_type": "code",
   "execution_count": 28,
   "metadata": {
    "colab": {
     "base_uri": "https://localhost:8080/",
     "height": 393
    },
    "id": "cs-edh_jBEIm",
    "outputId": "65b0ef76-7cb5-4d61-ce30-be043661732b"
   },
   "outputs": [
    {
     "data": {
      "image/png": "[encoded data removed]",
      "text/plain": [
       "<Figure size 1000x600 with 1 Axes>"
      ]
     },
     "metadata": {},
     "output_type": "display_data"
    }
   ],
   "source": [
    "top_10_sectors = sector_analysis.nlargest(10)\n",
    "\n",
    "\n",
    "plt.figure(figsize=(10, 6))\n",
    "top_10_sectors.plot(kind='bar', color='c')\n",
    "\n",
    "plt.title('Número de ataques por sector (Top 10)')\n",
    "plt.xlabel('Sector')\n",
    "plt.ylabel('Número de incidentes')\n",
    "\n",
    "\n",
    "plt.xticks(ticks=range(len(top_10_sectors)), labels=top_10_sectors.index, rotation=45)\n",
    "\n",
    "plt.tight_layout()\n",
    "plt.show()"
   ]
  },
  {
   "cell_type": "markdown",
   "metadata": {
    "id": "8LtzANnjBEIm"
   },
   "source": [
    "## Análisis de ataques por país"
   ]
  },
  {
   "cell_type": "code",
   "execution_count": 29,
   "metadata": {
    "colab": {
     "base_uri": "https://localhost:8080/"
    },
    "id": "KiXe-nZyTRhw",
    "outputId": "c563d37c-0323-42c0-b415-bf4786e88b89"
   },
   "outputs": [
    {
     "name": "stdout",
     "output_type": "stream",
     "text": [
      "Germany                                                              5971\n",
      "France                                                               4438\n",
      "USA                                                                  4168\n",
      "United Kingdom                                                       2775\n",
      "Canada                                                               2571\n",
      "                                                                     ... \n",
      "USA (Coffee County)                                                     1\n",
      "Coppel - Mexico                                                         1\n",
      "Germany (Landkreis Unterallgäu)                                         1\n",
      "Skanlog - Sweden                                                        1\n",
      "České noviny (ČN) / Česká tisková kancelář (ČTK) - Czech Republik       1\n",
      "Name: country, Length: 888, dtype: int64\n"
     ]
    }
   ],
   "source": [
    "df['country'] = df['description'].apply(lambda x: x.split(',')[-1].strip() if isinstance(x, str) else None)\n",
    "\n",
    "attacks_per_country = df['country'].value_counts()\n",
    "\n",
    "print(attacks_per_country)"
   ]
  },
  {
   "cell_type": "code",
   "execution_count": 30,
   "metadata": {
    "id": "jm67bGIvStYr"
   },
   "outputs": [],
   "source": [
    "def clean_country_name(country):\n",
    "  if '-' in country:\n",
    "    cleaned_name = country.split('-')[-1].strip()\n",
    "  else:\n",
    "    cleaned_name = re.sub(r\"\\(.*?\\)\", \"\", country).strip()\n",
    "  return cleaned_name.strip()\n",
    "\n",
    "  df['country_clean'] = df['country'].apply(clean_country_name)\n",
    "  df.head(10)"
   ]
  },
  {
   "cell_type": "code",
   "execution_count": 31,
   "metadata": {
    "id": "5VZj3qoXSj_b"
   },
   "outputs": [],
   "source": [
    "\n",
    "\n",
    "  continents_mapping = {\n",
    "\n",
    "    'Africa': [\n",
    "        'Algeria', 'Angola', 'Benin', 'Botswana', 'Burkina Faso', 'Burundi', 'Cabo Verde', 'Cameroon', 'Central African Republic',\n",
    "        'Chad', 'Comoros', 'Congo', 'Djibouti', 'Egypt', 'Equatorial Guinea', 'Eritrea', 'Eswatini', 'Ethiopia', 'Gabon',\n",
    "        'Gambia', 'Ghana', 'Guinea', 'Guinea-Bissau', 'Ivory Coast', 'Kenya', 'Lesotho', 'Liberia', 'Libya', 'Madagascar',\n",
    "        'Malawi', 'Mali', 'Mauritania', 'Mauritius', 'Morocco', 'Mozambique', 'Namibia', 'Niger', 'Nigeria', 'Rwanda',\n",
    "        'Sao Tome and Principe', 'Senegal', 'Seychelles', 'Sierra Leone', 'Somalia', 'South Africa', 'South Sudan',\n",
    "        'Sudan', 'Tanzania', 'Togo', 'Tunisia', 'Uganda', 'Zambia', 'Zimbabwe', 'Libya / ليبيا'\n",
    "    ],\n",
    "    'Asia': [\n",
    "        'Afghanistan', 'Armenia', 'Bahrain', 'Bangladesh', 'Bhutan', 'Brunei', 'Cambodia', 'China', 'Cyprus',\n",
    "        'India', 'Indonesia', 'Iran', 'Iraq', 'Israel', 'Japan', 'Jordan', 'Kazakhstan', 'Kuwait', 'Kyrgyzstan',\n",
    "        'Laos', 'Lebanon', 'Malaysia', 'Maldives', 'Mongolia', 'Myanmar', 'Nepal', 'North Korea', 'Oman', 'Pakistan',\n",
    "        'Palestine', 'Philippines', 'Qatar', 'Saudi Arabia', 'Singapore', 'South Korea', 'Sri Lanka', 'Syria', 'Taiwan',\n",
    "        'Tajikistan', 'Thailand', 'Timor-Leste', 'Turkey', 'Turkmenistan', 'United Arab Emirates', 'Uzbekistan', 'Vietnam', 'Yemen',\n",
    "        \"People's Republic of China\", 'Republic of China / Taiwan', 'Jordanien / الأردن', 'Malediven / ދިވެހިރާއްޖޭގެ ޖުމްހޫރިއްޔާ'\n",
    "    ],\n",
    "    'Europe': [\n",
    "        'Albania', 'Andorra', 'Austria', 'Azerbaijan', 'Belarus', 'Belgium', 'Bosnia and Herzegovina', 'Bulgaria',\n",
    "        'Croatia', 'Czech Republic', 'Denmark', 'Estonia', 'Finland', 'France', 'Georgia', 'Germany', 'Greece',\n",
    "        'Hungary', 'Iceland', 'Ireland', 'Italy', 'Kosovo', 'Latvia', 'Liechtenstein', 'Lithuania', 'Luxembourg', 'Malta',\n",
    "        'Moldova', 'Monaco', 'Montenegro', 'Netherlands', 'North Macedonia', 'Norway', 'Poland', 'Portugal', 'Romania',\n",
    "        'Russia', 'San Marino', 'Serbia', 'Slovakia', 'Slovenia', 'Spain', 'Sweden', 'Switzerland', 'Ukraine', 'United Kingdom',\n",
    "        'Vatican City', 'Czech Republik', 'Upper Austria', 'Kingdom of the Netherlands', 'Serbien / Србија', 'UK', 'Isle of Man',\n",
    "        'Vatican'\n",
    "    ],\n",
    "    'North America': [\n",
    "        'Antigua and Barbuda', 'Bahamas', 'Barbados', 'Belize', 'Canada', 'Costa Rica', 'Cuba', 'Dominica', 'Dominican Republic',\n",
    "        'El Salvador', 'Grenada', 'Guatemala', 'Haiti', 'Honduras', 'Jamaica', 'Mexico', 'Nicaragua', 'Panama',\n",
    "        'Saint Kitts and Nevis', 'Saint Lucia', 'Saint Vincent and the Grenadines', 'Trinidad and Tobago', 'United States of America (USA)',\n",
    "        'USA', 'Grönland', 'Puerto Rico', 'Bermuda', 'United States of America'\n",
    "    ],\n",
    "    'South America': [\n",
    "        'Argentina', 'Bolivia', 'Brazil', 'Chile', 'Colombia', 'Ecuador', 'Guyana', 'Paraguay', 'Peru', 'Suriname', 'Uruguay', 'Venezuela'\n",
    "    ],\n",
    "    'Oceania': [\n",
    "        'Australia', 'Fiji', 'Kiribati', 'Marshall Islands', 'Micronesia', 'Nauru', 'New Zealand', 'Palau', 'Papua New Guinea',\n",
    "        'Samoa', 'Solomon Islands', 'Tonga', 'Tuvalu', 'Vanuatu'\n",
    "    ]\n",
    "}\n",
    "\n",
    "\n"
   ]
  },
  {
   "cell_type": "code",
   "execution_count": 32,
   "metadata": {
    "colab": {
     "base_uri": "https://localhost:8080/"
    },
    "id": "ptT3l75AM_Gm",
    "outputId": "fadefd41-555c-4532-ab66-40c739a9d2e4"
   },
   "outputs": [
    {
     "name": "stdout",
     "output_type": "stream",
     "text": [
      "                                                   title  \\\n",
      "3      Cyber attack on a traffic management system in...   \n",
      "36     Unauthorized access at a telecommunications pr...   \n",
      "71     Ransomware at a county government in Missouri,...   \n",
      "78     Cyber attack on a school district in Michigan,...   \n",
      "85              Cyber attack on a hotel chain in the USA   \n",
      "...                                                  ...   \n",
      "67204  Unauthorized access at a benefit plan service ...   \n",
      "67241  Cyber attack with emails on global furniture s...   \n",
      "67267  Hackers capture $200 million from the BitMart ...   \n",
      "67286   Cyberattack on a healthcare provider in Guernsey   \n",
      "67304  140 million US dollars stolen from crypto plat...   \n",
      "\n",
      "                                             description  \\\n",
      "3      KC Scout - Kansas City, Missouri, USA (Jackson...   \n",
      "36     Frontier Communications - Dallas, Texas, USA (...   \n",
      "71     Jackson County - Kansas City, Missouri, USA (J...   \n",
      "78     Traverse City Area Public Schools (TCAPS) - Tr...   \n",
      "85     Omni Hotels & Resorts - Dallas, Texas, USA (Da...   \n",
      "...                                                  ...   \n",
      "67204  Horizon Actuarial Services, LLC - Atlanta, Geo...   \n",
      "67241                                   Inter IKEA Group   \n",
      "67267  BitMart Security Breach Update\\r\\nhttps://supp...   \n",
      "67286  Medical Specialist Group (MSG) - St Martin, Gu...   \n",
      "67304                                      Vulcan Forged   \n",
      "\n",
      "                                         title_extracted  \\\n",
      "3                                         KC Scout Alert   \n",
      "36                                              Form 8-K   \n",
      "71     Jackson County responds to potential ransomwar...   \n",
      "78     We are currently investigating a network disru...   \n",
      "85                                   Cyber Attack Update   \n",
      "...                                                  ...   \n",
      "67204                           ​Notice of Data Incident   \n",
      "67241      IKEA email systems hit by ongoing cyberattack   \n",
      "67267                     BitMart Security Breach Update   \n",
      "67286             Investigation following Cyber Incident   \n",
      "67304      148 wallets holding PYR have been compromised   \n",
      "\n",
      "        site_name_extracted  year  month                           sector  \\\n",
      "3              facebook.com  2024      4    Gobierno y servicios públicos   \n",
      "36                  sec.gov  2024      4                            other   \n",
      "71           jacksongov.org  2024      4    Gobierno y servicios públicos   \n",
      "78             facebook.com  2024      3    Gobierno y servicios públicos   \n",
      "85           omnihotels.com  2024      3                            other   \n",
      "...                     ...   ...    ...                              ...   \n",
      "67204  horizonactuarial.com  2021     11                            other   \n",
      "67241  bleepingcomputer.com  2021     11                            other   \n",
      "67267      support.bmx.fund  2021     12  Tecnología y telecomunicaciones   \n",
      "67286                msg.gg  2021     12                  Salud y cuidado   \n",
      "67304           twitter.com  2021     12                            other   \n",
      "\n",
      "                                                 country     country_clean  \\\n",
      "3                                         Platte County)    Platte County)   \n",
      "36                                      Rockwall County)  Rockwall County)   \n",
      "71                                        Platte County)    Platte County)   \n",
      "78                                      Leelanau County)  Leelanau County)   \n",
      "85                                      Rockwall County)  Rockwall County)   \n",
      "...                                                  ...               ...   \n",
      "67204                                     DeKalb County)    DeKalb County)   \n",
      "67241                                   Inter IKEA Group  Inter IKEA Group   \n",
      "67267  BitMart Security Breach Update\\r\\nhttps://supp...      us/articl...   \n",
      "67286                                           Guernsey          Guernsey   \n",
      "67304                                      Vulcan Forged     Vulcan Forged   \n",
      "\n",
      "            continent  \n",
      "3      Sin continente  \n",
      "36     Sin continente  \n",
      "71     Sin continente  \n",
      "78     Sin continente  \n",
      "85     Sin continente  \n",
      "...               ...  \n",
      "67204  Sin continente  \n",
      "67241  Sin continente  \n",
      "67267  Sin continente  \n",
      "67286  Sin continente  \n",
      "67304  Sin continente  \n",
      "\n",
      "[3407 rows x 10 columns]\n",
      "Número de filas sin continente: 3407\n"
     ]
    }
   ],
   "source": [
    "def assign_continent(country_clean):\n",
    "  continents = set()\n",
    "\n",
    "  for continent, countries_list in continents_mapping.items():\n",
    "    if country_clean in countries_list:\n",
    "       continents.add(continent)\n",
    "  return ', '.join(continents) if continents else 'Sin continente'\n",
    "\n",
    "df['country_clean'] = df['country'].apply(clean_country_name)\n",
    "df['continent'] = df['country_clean'].apply(assign_continent)\n",
    "\n",
    "sin_continente_rows = df[df['continent'] == 'Sin continente']\n",
    "print(sin_continente_rows)\n",
    "\n",
    "print(f\"Número de filas sin continente: {len(sin_continente_rows)}\")\n"
   ]
  },
  {
   "cell_type": "code",
   "execution_count": 33,
   "metadata": {
    "colab": {
     "base_uri": "https://localhost:8080/",
     "height": 1000
    },
    "id": "yd0K_u1PcgcU",
    "outputId": "c999a486-2ee0-4519-f746-b7eb52704b46"
   },
   "outputs": [
    {
     "data": {
      "text/html": [
       "<div>\n",
       "<style scoped>\n",
       "    .dataframe tbody tr th:only-of-type {\n",
       "        vertical-align: middle;\n",
       "    }\n",
       "\n",
       "    .dataframe tbody tr th {\n",
       "        vertical-align: top;\n",
       "    }\n",
       "\n",
       "    .dataframe thead th {\n",
       "        text-align: right;\n",
       "    }\n",
       "</style>\n",
       "<table border=\"1\" class=\"dataframe\">\n",
       "  <thead>\n",
       "    <tr style=\"text-align: right;\">\n",
       "      <th></th>\n",
       "      <th>title</th>\n",
       "      <th>description</th>\n",
       "      <th>title_extracted</th>\n",
       "      <th>site_name_extracted</th>\n",
       "      <th>year</th>\n",
       "      <th>month</th>\n",
       "      <th>sector</th>\n",
       "      <th>country</th>\n",
       "      <th>country_clean</th>\n",
       "      <th>continent</th>\n",
       "    </tr>\n",
       "  </thead>\n",
       "  <tbody>\n",
       "    <tr>\n",
       "      <th>0</th>\n",
       "      <td>Facebook page of the local branch of a politic...</td>\n",
       "      <td>SPÖ Müllendorf - Müllendorf, Burgenland, Austria</td>\n",
       "      <td>Hackerangriff auf Facebookseite der SPÖ Müllen...</td>\n",
       "      <td>meinbezirk.at</td>\n",
       "      <td>2024</td>\n",
       "      <td>4</td>\n",
       "      <td>other</td>\n",
       "      <td>Austria</td>\n",
       "      <td>Austria</td>\n",
       "      <td>Europe</td>\n",
       "    </tr>\n",
       "    <tr>\n",
       "      <th>1</th>\n",
       "      <td>Cyber attack on a construction company in Germany</td>\n",
       "      <td>Max Wild GmbH - Berkheim, Baden-Württemberg, G...</td>\n",
       "      <td>Cyberangriff auf Max Wild GmbH</td>\n",
       "      <td>maxwild.com</td>\n",
       "      <td>2024</td>\n",
       "      <td>4</td>\n",
       "      <td>other</td>\n",
       "      <td>Germany (Landkreis Biberach)</td>\n",
       "      <td>Germany</td>\n",
       "      <td>Europe</td>\n",
       "    </tr>\n",
       "    <tr>\n",
       "      <th>2</th>\n",
       "      <td>Cyber attack on a city government in France</td>\n",
       "      <td>Ville de Gravelines - Gravelines, Hauts-de-Fra...</td>\n",
       "      <td>Notre ville est actuellement victime d’une cyb...</td>\n",
       "      <td>facebook.com</td>\n",
       "      <td>2024</td>\n",
       "      <td>4</td>\n",
       "      <td>other</td>\n",
       "      <td>France</td>\n",
       "      <td>France</td>\n",
       "      <td>Europe</td>\n",
       "    </tr>\n",
       "    <tr>\n",
       "      <th>3</th>\n",
       "      <td>Cyber attack on a traffic management system in...</td>\n",
       "      <td>KC Scout - Kansas City, Missouri, USA (Jackson...</td>\n",
       "      <td>KC Scout Alert</td>\n",
       "      <td>facebook.com</td>\n",
       "      <td>2024</td>\n",
       "      <td>4</td>\n",
       "      <td>Gobierno y servicios públicos</td>\n",
       "      <td>Platte County)</td>\n",
       "      <td>Platte County)</td>\n",
       "      <td>Sin continente</td>\n",
       "    </tr>\n",
       "    <tr>\n",
       "      <th>4</th>\n",
       "      <td>Mail account of a city government in Belgium h...</td>\n",
       "      <td>Deinze, Flemish Region, Belgium</td>\n",
       "      <td>Stadsdiensten van Deinze geplaagd door cyberaa...</td>\n",
       "      <td>nieuwsblad.be</td>\n",
       "      <td>2024</td>\n",
       "      <td>4</td>\n",
       "      <td>other</td>\n",
       "      <td>Belgium</td>\n",
       "      <td>Belgium</td>\n",
       "      <td>Europe</td>\n",
       "    </tr>\n",
       "    <tr>\n",
       "      <th>5</th>\n",
       "      <td>A municipality in Argentina loses 19 million p...</td>\n",
       "      <td>San Agustín, Provincia de Santa Fe, Argentina</td>\n",
       "      <td>LA COMUNA DE SAN AGUSTÍN VÍCTIMA DE DELITO CIB...</td>\n",
       "      <td>facebook.com</td>\n",
       "      <td>2024</td>\n",
       "      <td>4</td>\n",
       "      <td>other</td>\n",
       "      <td>Argentina</td>\n",
       "      <td>Argentina</td>\n",
       "      <td>South America</td>\n",
       "    </tr>\n",
       "    <tr>\n",
       "      <th>6</th>\n",
       "      <td>Cyber attack on a municipality in Canada</td>\n",
       "      <td>Municipalité La Guadeloupe - La Guadeloupe, Qu...</td>\n",
       "      <td>Le 23 avril dernier, la Municipalité de La Gua...</td>\n",
       "      <td>facebook.com</td>\n",
       "      <td>2024</td>\n",
       "      <td>4</td>\n",
       "      <td>Tecnología y telecomunicaciones</td>\n",
       "      <td>Canada</td>\n",
       "      <td>Canada</td>\n",
       "      <td>North America</td>\n",
       "    </tr>\n",
       "    <tr>\n",
       "      <th>7</th>\n",
       "      <td>Website of a Czech news agency hacked</td>\n",
       "      <td>České noviny (ČN) / Česká tisková kancelář (ČT...</td>\n",
       "      <td>UPOZORNĚNÍ ČTK: Útočník napadl web České novin...</td>\n",
       "      <td>ctk.cz</td>\n",
       "      <td>2024</td>\n",
       "      <td>4</td>\n",
       "      <td>other</td>\n",
       "      <td>České noviny (ČN) / Česká tisková kancelář (ČT...</td>\n",
       "      <td>Czech Republik</td>\n",
       "      <td>Europe</td>\n",
       "    </tr>\n",
       "    <tr>\n",
       "      <th>8</th>\n",
       "      <td>Cyber attack on a logistics company in Sweden,...</td>\n",
       "      <td>Skanlog - Sweden</td>\n",
       "      <td>Hackerangrep kan gi tomme hyller hos Systembol...</td>\n",
       "      <td>e24.no</td>\n",
       "      <td>2024</td>\n",
       "      <td>4</td>\n",
       "      <td>other</td>\n",
       "      <td>Skanlog - Sweden</td>\n",
       "      <td>Sweden</td>\n",
       "      <td>Europe</td>\n",
       "    </tr>\n",
       "    <tr>\n",
       "      <th>9</th>\n",
       "      <td>Cyber attack on a city government in France</td>\n",
       "      <td>Ville d'Albi - Albi, Occitanie, France</td>\n",
       "      <td>La Ville d'Albi victime d'une attaque informat...</td>\n",
       "      <td>mairie-albi.fr</td>\n",
       "      <td>2024</td>\n",
       "      <td>4</td>\n",
       "      <td>Tecnología y telecomunicaciones</td>\n",
       "      <td>France</td>\n",
       "      <td>France</td>\n",
       "      <td>Europe</td>\n",
       "    </tr>\n",
       "  </tbody>\n",
       "</table>\n",
       "</div>"
      ],
      "text/plain": [
       "                                               title  \\\n",
       "0  Facebook page of the local branch of a politic...   \n",
       "1  Cyber attack on a construction company in Germany   \n",
       "2        Cyber attack on a city government in France   \n",
       "3  Cyber attack on a traffic management system in...   \n",
       "4  Mail account of a city government in Belgium h...   \n",
       "5  A municipality in Argentina loses 19 million p...   \n",
       "6           Cyber attack on a municipality in Canada   \n",
       "7              Website of a Czech news agency hacked   \n",
       "8  Cyber attack on a logistics company in Sweden,...   \n",
       "9        Cyber attack on a city government in France   \n",
       "\n",
       "                                         description  \\\n",
       "0   SPÖ Müllendorf - Müllendorf, Burgenland, Austria   \n",
       "1  Max Wild GmbH - Berkheim, Baden-Württemberg, G...   \n",
       "2  Ville de Gravelines - Gravelines, Hauts-de-Fra...   \n",
       "3  KC Scout - Kansas City, Missouri, USA (Jackson...   \n",
       "4                    Deinze, Flemish Region, Belgium   \n",
       "5      San Agustín, Provincia de Santa Fe, Argentina   \n",
       "6  Municipalité La Guadeloupe - La Guadeloupe, Qu...   \n",
       "7  České noviny (ČN) / Česká tisková kancelář (ČT...   \n",
       "8                                   Skanlog - Sweden   \n",
       "9             Ville d'Albi - Albi, Occitanie, France   \n",
       "\n",
       "                                     title_extracted site_name_extracted  \\\n",
       "0  Hackerangriff auf Facebookseite der SPÖ Müllen...       meinbezirk.at   \n",
       "1                     Cyberangriff auf Max Wild GmbH         maxwild.com   \n",
       "2  Notre ville est actuellement victime d’une cyb...        facebook.com   \n",
       "3                                     KC Scout Alert        facebook.com   \n",
       "4  Stadsdiensten van Deinze geplaagd door cyberaa...       nieuwsblad.be   \n",
       "5  LA COMUNA DE SAN AGUSTÍN VÍCTIMA DE DELITO CIB...        facebook.com   \n",
       "6  Le 23 avril dernier, la Municipalité de La Gua...        facebook.com   \n",
       "7  UPOZORNĚNÍ ČTK: Útočník napadl web České novin...              ctk.cz   \n",
       "8  Hackerangrep kan gi tomme hyller hos Systembol...              e24.no   \n",
       "9  La Ville d'Albi victime d'une attaque informat...      mairie-albi.fr   \n",
       "\n",
       "   year  month                           sector  \\\n",
       "0  2024      4                            other   \n",
       "1  2024      4                            other   \n",
       "2  2024      4                            other   \n",
       "3  2024      4    Gobierno y servicios públicos   \n",
       "4  2024      4                            other   \n",
       "5  2024      4                            other   \n",
       "6  2024      4  Tecnología y telecomunicaciones   \n",
       "7  2024      4                            other   \n",
       "8  2024      4                            other   \n",
       "9  2024      4  Tecnología y telecomunicaciones   \n",
       "\n",
       "                                             country   country_clean  \\\n",
       "0                                            Austria         Austria   \n",
       "1                       Germany (Landkreis Biberach)         Germany   \n",
       "2                                             France          France   \n",
       "3                                     Platte County)  Platte County)   \n",
       "4                                            Belgium         Belgium   \n",
       "5                                          Argentina       Argentina   \n",
       "6                                             Canada          Canada   \n",
       "7  České noviny (ČN) / Česká tisková kancelář (ČT...  Czech Republik   \n",
       "8                                   Skanlog - Sweden          Sweden   \n",
       "9                                             France          France   \n",
       "\n",
       "        continent  \n",
       "0          Europe  \n",
       "1          Europe  \n",
       "2          Europe  \n",
       "3  Sin continente  \n",
       "4          Europe  \n",
       "5   South America  \n",
       "6   North America  \n",
       "7          Europe  \n",
       "8          Europe  \n",
       "9          Europe  "
      ]
     },
     "execution_count": 33,
     "metadata": {},
     "output_type": "execute_result"
    }
   ],
   "source": [
    "df.head(10)"
   ]
  },
  {
   "cell_type": "code",
   "execution_count": 34,
   "metadata": {
    "id": "LHfKDT8MS6FZ"
   },
   "outputs": [],
   "source": [
    "df = df.drop(columns=['country', 'country_clean'])"
   ]
  },
  {
   "cell_type": "markdown",
   "metadata": {
    "id": "mdx1oQp0BEIm"
   },
   "source": [
    "## Análisis de tipo de ciberataque"
   ]
  },
  {
   "cell_type": "code",
   "execution_count": 35,
   "metadata": {
    "id": "04kOV74W2oaf"
   },
   "outputs": [],
   "source": [
    "attack_types = {\n",
    "    'ransomware': [\n",
    "        'ransomware', 'encrypt', 'extortion', 'locker', 'crypto', 'bitcoin', 'cryptolocker', 'decrypt',\n",
    "        'payment demanded', 'file encryption', 'ransom', 'data hostage', 'crypto-ransom', 'hostage data',\n",
    "        'ransomed files', 'malware ransom', 'blackmail'\n",
    "    ],\n",
    "    'phishing': [\n",
    "        'phishing', 'email scam', 'spear-phishing', 'fraud', 'social engineering', 'fake email', 'whaling',\n",
    "        'vishing', 'smishing', 'email impersonation', 'credential harvesting', 'account hijack',\n",
    "        'spoofed email', 'phishing attempt', 'phish', 'deceptive emails', 'phishing link',\n",
    "        'malicious attachment', 'fake login page'\n",
    "    ],\n",
    "    'ddos': [\n",
    "        'ddos', 'denial of service', 'dos', 'botnet', 'traffic flood', 'amplification', 'overload',\n",
    "        'slow loris', 'ping of death', 'udp flood', 'syn flood', 'reflection attack', 'service outage',\n",
    "        'distributed denial of service', 'traffic spike', 'botnet traffic', 'service disruption',\n",
    "        'volumetric attack', 'application layer attack', 'protocol attack'\n",
    "    ],\n",
    "    'malware': [\n",
    "        'malware', 'virus', 'trojan', 'worm', 'spyware', 'adware', 'exploit', 'keylogger', 'rootkit', 'backdoor',\n",
    "        'malicious software', 'malware infection', 'payload', 'malicious code', 'remote access trojan',\n",
    "        'fileless malware', 'infostealer', 'stealer malware', 'rogueware', 'wiper', 'PUP', 'potentially unwanted program',\n",
    "        'packers', 'downloaders'\n",
    "    ],\n",
    "    'intrusion': [\n",
    "        'intrusion', 'breach', 'unauthorized access', 'compromise', 'penetration', 'hack', 'infiltration',\n",
    "        'access control bypass', 'security breach', 'system intrusion', 'data breach', 'system compromise',\n",
    "        'network intrusion', 'unauthorized entry', 'hacking attempt', 'attack vector', 'unauthorized modification',\n",
    "        'internal attack'\n",
    "    ],\n",
    "    'spoofing': [\n",
    "        'spoofing', 'impersonation', 'fake', 'fraudulent', 'falsification', 'identity theft', 'caller id spoofing',\n",
    "        'email spoofing', 'ip spoofing', 'domain spoofing', 'website spoofing', 'fake profile',\n",
    "        'malicious impersonation', 'deceptive communication', 'address spoofing', 'user impersonation'\n",
    "    ],\n",
    "    'credential_stuffing': [\n",
    "        'credential stuffing', 'brute force', 'password guessing', 'account takeover', 'password spraying',\n",
    "        'login attempt', 'account compromise', 'credential-based attack', 'login bypass', 'password attack',\n",
    "        'mass login attempt', 'authentication bypass', 'session hijacking', 'password replay'\n",
    "    ],\n",
    "    'spyware': [\n",
    "        'spyware', 'monitoring', 'keylogger', 'spying', 'tracking software', 'surveillance', 'monitoring software',\n",
    "        'spy app', 'data surveillance', 'keystroke logging', 'user activity monitoring', 'screen capture',\n",
    "        'stalkerware', 'monitorware', 'tracking cookie', 'ad tracking', 'persistent surveillance'\n",
    "    ],\n",
    "    'data breach': [\n",
    "        'data breach', 'leak', 'data leak', 'exposure', 'compromise', 'information disclosure',\n",
    "        'sensitive data leak', 'data theft', 'database compromise', 'data exposure', 'leaked credentials',\n",
    "        'information leak', 'personal data leak', 'sensitive information disclosure', 'data compromise',\n",
    "        'confidential information leak'\n",
    "    ],\n",
    "    'sql injection': [\n",
    "        'sql injection', 'database attack', 'injection flaw', 'query injection', 'sql exploit', 'sql query manipulation',\n",
    "        'database compromise', 'code injection', 'database vulnerability', 'sql command execution',\n",
    "        'database query injection', 'unauthorized database access', 'sql attack', 'data extraction'\n",
    "    ],\n",
    "    'zero-day': [\n",
    "        'zero-day', '0-day', 'vulnerability', 'unpatched exploit', 'zero day vulnerability', 'zero day attack',\n",
    "        'security flaw', 'unpatched software', 'unknown vulnerability', 'day zero exploit', 'undisclosed vulnerability',\n",
    "        'new exploit', 'undetected flaw', 'exploit kit', 'unknown threat'\n",
    "    ],\n",
    "    'botnet': [\n",
    "        'botnet', 'zombie network', 'bot herder', 'infected machines', 'distributed botnet', 'botnet controller',\n",
    "        'botnet traffic', 'botnet attack', 'botnet malware', 'command and control', 'c&c server', 'bot army',\n",
    "        'network of bots', 'botnet operation', 'bot infection', 'distributed attack'\n",
    "    ],\n",
    "    'social engineering': [\n",
    "        'social engineering', 'manipulation', 'pretexting', 'baiting', 'tailgating', 'psychological manipulation',\n",
    "        'deceptive practices', 'insider attack', 'human factor attack', 'social exploit', 'deceptive interaction',\n",
    "        'tricking user', 'social manipulation', 'phishing attack', 'manipulative tactics'\n",
    "    ],\n",
    "    'brute force': [\n",
    "        'brute force', 'password guessing', 'dictionary attack', 'login attack', 'credential guessing',\n",
    "        'password cracking', 'bruteforce attempt', 'login brute force', 'authentication attack', 'credential brute force',\n",
    "        'exhaustive search', 'login attempt flood'\n",
    "    ],\n",
    "    'cross-site scripting': [\n",
    "        'cross-site scripting', 'xss', 'script injection', 'client-side attack', 'script vulnerability',\n",
    "        'malicious script', 'xss flaw', 'website vulnerability', 'html injection', 'javascript injection',\n",
    "        'stored xss', 'reflected xss', 'dom-based xss'\n",
    "    ],\n",
    "    'man-in-the-middle': [\n",
    "        'man-in-the-middle', 'mitm', 'eavesdropping', 'session hijacking', 'ssl strip', 'packet interception',\n",
    "        'network interception', 'spoofed communication', 'intercepted data', 'traffic interception', 'sniffing attack',\n",
    "        'man-in-the-browser', 'session fixation'\n",
    "    ],\n",
    "    'dns hijacking': [\n",
    "        'dns hijacking', 'dns spoofing', 'domain hijacking', 'dns attack', 'dns poisoning', 'dns manipulation',\n",
    "        'domain name system hijack', 'dns redirection', 'dns cache poisoning', 'redirected domain',\n",
    "        'malicious dns entry', 'domain spoofing'\n",
    "    ]\n",
    "}\n"
   ]
  },
  {
   "cell_type": "code",
   "execution_count": 36,
   "metadata": {
    "colab": {
     "base_uri": "https://localhost:8080/"
    },
    "id": "on3dANESBEIm",
    "outputId": "ec3efa81-b8e2-4789-9198-7ad62f4c570c"
   },
   "outputs": [
    {
     "name": "stdout",
     "output_type": "stream",
     "text": [
      "unknown        37935\n",
      "ransomware      8709\n",
      "intrusion       7950\n",
      "ddos            6329\n",
      "data breach      992\n",
      "malware          793\n",
      "phishing         603\n",
      "spyware          110\n",
      "zero-day          32\n",
      "Name: attack_type, dtype: int64\n"
     ]
    }
   ],
   "source": [
    "def classify_attack(row):\n",
    "    combined_text = f\"{row['description']} {row['title']}\"\n",
    "    for attack, keywords in attack_types.items():\n",
    "        for keyword in keywords:\n",
    "            if re.search(keyword, combined_text, re.IGNORECASE):\n",
    "                return attack\n",
    "    return 'unknown'\n",
    "\n",
    "\n",
    "df['attack_type'] = df.apply(classify_attack, axis=1)\n",
    "\n",
    "\n",
    "attack_type_counts = df['attack_type'].value_counts()\n",
    "\n",
    "print(attack_type_counts)\n"
   ]
  },
  {
   "cell_type": "markdown",
   "metadata": {
    "id": "0hKvQs7EBEIk"
   },
   "source": [
    "## Variables categóricas y continuas\n"
   ]
  },
  {
   "cell_type": "code",
   "execution_count": 37,
   "metadata": {
    "colab": {
     "base_uri": "https://localhost:8080/"
    },
    "id": "DsofzbBaBEIk",
    "outputId": "a87168fe-7b45-4a85-8d14-91d597d29887"
   },
   "outputs": [
    {
     "name": "stdout",
     "output_type": "stream",
     "text": [
      "Variables continuas: title, description, title_extracted, site_name_extracted\n",
      "Variables categóricas: year, month, sector, continent, attack_type\n"
     ]
    }
   ],
   "source": [
    "v_continuas = []\n",
    "v_categoricas = []\n",
    "for i in df.columns:\n",
    "    if len(df[i].unique()) > 25 or df[i].dtypes in ['float64', 'int64']:\n",
    "        v_continuas.append(i)\n",
    "    else:\n",
    "        v_categoricas.append(i)\n",
    "\n",
    "print('Variables continuas: {}'.format(', '.join(v_continuas)))\n",
    "print('Variables categóricas: {}'.format(', '.join(v_categoricas)))"
   ]
  },
  {
   "cell_type": "markdown",
   "metadata": {
    "id": "zVEPvG98G7UW"
   },
   "source": [
    "### Tratamiento de variables catégoricas"
   ]
  },
  {
   "cell_type": "code",
   "execution_count": 38,
   "metadata": {
    "colab": {
     "base_uri": "https://localhost:8080/",
     "height": 112
    },
    "id": "Vtsv6efuHCRm",
    "outputId": "8300c2f7-69d1-4904-8f45-90530a1a954c"
   },
   "outputs": [
    {
     "data": {
      "text/html": [
       "<div>\n",
       "<style scoped>\n",
       "    .dataframe tbody tr th:only-of-type {\n",
       "        vertical-align: middle;\n",
       "    }\n",
       "\n",
       "    .dataframe tbody tr th {\n",
       "        vertical-align: top;\n",
       "    }\n",
       "\n",
       "    .dataframe thead th {\n",
       "        text-align: right;\n",
       "    }\n",
       "</style>\n",
       "<table border=\"1\" class=\"dataframe\">\n",
       "  <thead>\n",
       "    <tr style=\"text-align: right;\">\n",
       "      <th></th>\n",
       "      <th>year</th>\n",
       "      <th>month</th>\n",
       "      <th>sector</th>\n",
       "      <th>continent</th>\n",
       "      <th>attack_type</th>\n",
       "    </tr>\n",
       "  </thead>\n",
       "  <tbody>\n",
       "    <tr>\n",
       "      <th>0</th>\n",
       "      <td>2024</td>\n",
       "      <td>4</td>\n",
       "      <td>other</td>\n",
       "      <td>Europe</td>\n",
       "      <td>intrusion</td>\n",
       "    </tr>\n",
       "    <tr>\n",
       "      <th>1</th>\n",
       "      <td>2024</td>\n",
       "      <td>4</td>\n",
       "      <td>other</td>\n",
       "      <td>Europe</td>\n",
       "      <td>unknown</td>\n",
       "    </tr>\n",
       "  </tbody>\n",
       "</table>\n",
       "</div>"
      ],
      "text/plain": [
       "   year  month sector continent attack_type\n",
       "0  2024      4  other    Europe   intrusion\n",
       "1  2024      4  other    Europe     unknown"
      ]
     },
     "execution_count": 38,
     "metadata": {},
     "output_type": "execute_result"
    }
   ],
   "source": [
    "df[v_categoricas].head(2)"
   ]
  },
  {
   "cell_type": "code",
   "execution_count": 39,
   "metadata": {
    "colab": {
     "base_uri": "https://localhost:8080/",
     "height": 241
    },
    "id": "uA7hglb1Ja_c",
    "outputId": "c80f2e6a-0c36-42f7-f56b-543c83f6a546"
   },
   "outputs": [
    {
     "data": {
      "text/plain": [
       "year            5\n",
       "month          12\n",
       "sector         16\n",
       "continent       7\n",
       "attack_type     9\n",
       "dtype: int64"
      ]
     },
     "execution_count": 39,
     "metadata": {},
     "output_type": "execute_result"
    }
   ],
   "source": [
    "df[v_categoricas].nunique()"
   ]
  },
  {
   "cell_type": "markdown",
   "metadata": {
    "id": "UETA2h90k7DI"
   },
   "source": [
    "#### ATTACK TYPE"
   ]
  },
  {
   "cell_type": "code",
   "execution_count": 40,
   "metadata": {
    "colab": {
     "base_uri": "https://localhost:8080/"
    },
    "id": "U0pVXMx1K2vi",
    "outputId": "9e77ab51-5363-4488-eade-b84ffdc0dad4"
   },
   "outputs": [
    {
     "data": {
      "text/plain": [
       "array(['intrusion', 'unknown', 'ddos', 'malware', 'ransomware',\n",
       "       'phishing', 'spyware', 'data breach', 'zero-day'], dtype=object)"
      ]
     },
     "execution_count": 40,
     "metadata": {},
     "output_type": "execute_result"
    }
   ],
   "source": [
    "df['attack_type'].unique()"
   ]
  },
  {
   "cell_type": "code",
   "execution_count": 41,
   "metadata": {
    "colab": {
     "base_uri": "https://localhost:8080/",
     "height": 591
    },
    "id": "cXT97eRjlkje",
    "outputId": "2c9c2d25-6454-47b4-e0b6-cf67ab4d5b93"
   },
   "outputs": [
    {
     "data": {
      "text/html": [
       "<div>\n",
       "<style scoped>\n",
       "    .dataframe tbody tr th:only-of-type {\n",
       "        vertical-align: middle;\n",
       "    }\n",
       "\n",
       "    .dataframe tbody tr th {\n",
       "        vertical-align: top;\n",
       "    }\n",
       "\n",
       "    .dataframe thead th {\n",
       "        text-align: right;\n",
       "    }\n",
       "</style>\n",
       "<table border=\"1\" class=\"dataframe\">\n",
       "  <thead>\n",
       "    <tr style=\"text-align: right;\">\n",
       "      <th></th>\n",
       "      <th>title</th>\n",
       "      <th>description</th>\n",
       "      <th>title_extracted</th>\n",
       "      <th>site_name_extracted</th>\n",
       "      <th>year</th>\n",
       "      <th>month</th>\n",
       "      <th>sector</th>\n",
       "      <th>continent</th>\n",
       "      <th>attack_type</th>\n",
       "      <th>attack_type_mapping</th>\n",
       "    </tr>\n",
       "  </thead>\n",
       "  <tbody>\n",
       "    <tr>\n",
       "      <th>0</th>\n",
       "      <td>Facebook page of the local branch of a politic...</td>\n",
       "      <td>SPÖ Müllendorf - Müllendorf, Burgenland, Austria</td>\n",
       "      <td>Hackerangriff auf Facebookseite der SPÖ Müllen...</td>\n",
       "      <td>meinbezirk.at</td>\n",
       "      <td>2024</td>\n",
       "      <td>4</td>\n",
       "      <td>other</td>\n",
       "      <td>Europe</td>\n",
       "      <td>intrusion</td>\n",
       "      <td>2.0</td>\n",
       "    </tr>\n",
       "    <tr>\n",
       "      <th>1</th>\n",
       "      <td>Cyber attack on a construction company in Germany</td>\n",
       "      <td>Max Wild GmbH - Berkheim, Baden-Württemberg, G...</td>\n",
       "      <td>Cyberangriff auf Max Wild GmbH</td>\n",
       "      <td>maxwild.com</td>\n",
       "      <td>2024</td>\n",
       "      <td>4</td>\n",
       "      <td>other</td>\n",
       "      <td>Europe</td>\n",
       "      <td>unknown</td>\n",
       "      <td>7.0</td>\n",
       "    </tr>\n",
       "    <tr>\n",
       "      <th>2</th>\n",
       "      <td>Cyber attack on a city government in France</td>\n",
       "      <td>Ville de Gravelines - Gravelines, Hauts-de-Fra...</td>\n",
       "      <td>Notre ville est actuellement victime d’une cyb...</td>\n",
       "      <td>facebook.com</td>\n",
       "      <td>2024</td>\n",
       "      <td>4</td>\n",
       "      <td>other</td>\n",
       "      <td>Europe</td>\n",
       "      <td>unknown</td>\n",
       "      <td>7.0</td>\n",
       "    </tr>\n",
       "    <tr>\n",
       "      <th>3</th>\n",
       "      <td>Cyber attack on a traffic management system in...</td>\n",
       "      <td>KC Scout - Kansas City, Missouri, USA (Jackson...</td>\n",
       "      <td>KC Scout Alert</td>\n",
       "      <td>facebook.com</td>\n",
       "      <td>2024</td>\n",
       "      <td>4</td>\n",
       "      <td>Gobierno y servicios públicos</td>\n",
       "      <td>Sin continente</td>\n",
       "      <td>unknown</td>\n",
       "      <td>7.0</td>\n",
       "    </tr>\n",
       "    <tr>\n",
       "      <th>4</th>\n",
       "      <td>Mail account of a city government in Belgium h...</td>\n",
       "      <td>Deinze, Flemish Region, Belgium</td>\n",
       "      <td>Stadsdiensten van Deinze geplaagd door cyberaa...</td>\n",
       "      <td>nieuwsblad.be</td>\n",
       "      <td>2024</td>\n",
       "      <td>4</td>\n",
       "      <td>other</td>\n",
       "      <td>Europe</td>\n",
       "      <td>intrusion</td>\n",
       "      <td>2.0</td>\n",
       "    </tr>\n",
       "  </tbody>\n",
       "</table>\n",
       "</div>"
      ],
      "text/plain": [
       "                                               title  \\\n",
       "0  Facebook page of the local branch of a politic...   \n",
       "1  Cyber attack on a construction company in Germany   \n",
       "2        Cyber attack on a city government in France   \n",
       "3  Cyber attack on a traffic management system in...   \n",
       "4  Mail account of a city government in Belgium h...   \n",
       "\n",
       "                                         description  \\\n",
       "0   SPÖ Müllendorf - Müllendorf, Burgenland, Austria   \n",
       "1  Max Wild GmbH - Berkheim, Baden-Württemberg, G...   \n",
       "2  Ville de Gravelines - Gravelines, Hauts-de-Fra...   \n",
       "3  KC Scout - Kansas City, Missouri, USA (Jackson...   \n",
       "4                    Deinze, Flemish Region, Belgium   \n",
       "\n",
       "                                     title_extracted site_name_extracted  \\\n",
       "0  Hackerangriff auf Facebookseite der SPÖ Müllen...       meinbezirk.at   \n",
       "1                     Cyberangriff auf Max Wild GmbH         maxwild.com   \n",
       "2  Notre ville est actuellement victime d’une cyb...        facebook.com   \n",
       "3                                     KC Scout Alert        facebook.com   \n",
       "4  Stadsdiensten van Deinze geplaagd door cyberaa...       nieuwsblad.be   \n",
       "\n",
       "   year  month                         sector       continent attack_type  \\\n",
       "0  2024      4                          other          Europe   intrusion   \n",
       "1  2024      4                          other          Europe     unknown   \n",
       "2  2024      4                          other          Europe     unknown   \n",
       "3  2024      4  Gobierno y servicios públicos  Sin continente     unknown   \n",
       "4  2024      4                          other          Europe   intrusion   \n",
       "\n",
       "   attack_type_mapping  \n",
       "0                  2.0  \n",
       "1                  7.0  \n",
       "2                  7.0  \n",
       "3                  7.0  \n",
       "4                  2.0  "
      ]
     },
     "execution_count": 41,
     "metadata": {},
     "output_type": "execute_result"
    }
   ],
   "source": [
    "encoder = OrdinalEncoder()\n",
    "df['attack_type_mapping'] = encoder.fit_transform(df[['attack_type']])\n",
    "df.head(5)"
   ]
  },
  {
   "cell_type": "markdown",
   "metadata": {
    "id": "kYIJJIJ8lClB"
   },
   "source": [
    "#### SECTOR"
   ]
  },
  {
   "cell_type": "code",
   "execution_count": 42,
   "metadata": {
    "colab": {
     "base_uri": "https://localhost:8080/"
    },
    "id": "W7SVIm57KxdR",
    "outputId": "9f712d7c-ea74-4890-b313-a51970e69e9a"
   },
   "outputs": [
    {
     "data": {
      "text/plain": [
       "array(['other', 'Gobierno y servicios públicos',\n",
       "       'Tecnología y telecomunicaciones',\n",
       "       'Organizaciones sin fines de lucro',\n",
       "       'Sector de investigación y desarrollo', 'Salud y cuidado',\n",
       "       'Educación', 'Finanzas y banca', 'Servicios profesionales',\n",
       "       'Medios y entretenimiento', 'Transporte y logística',\n",
       "       'Energía y recursos', 'Construcción e infraestructura',\n",
       "       'Industria y manufactura', 'Sector militar y defensa',\n",
       "       'Comercio y servicios'], dtype=object)"
      ]
     },
     "execution_count": 42,
     "metadata": {},
     "output_type": "execute_result"
    }
   ],
   "source": [
    "df['sector'].unique()"
   ]
  },
  {
   "cell_type": "code",
   "execution_count": 43,
   "metadata": {
    "colab": {
     "base_uri": "https://localhost:8080/",
     "height": 591
    },
    "id": "sbEdGhfNgKGp",
    "outputId": "f0c5510e-333d-45fc-e3b9-31057f8711e5"
   },
   "outputs": [
    {
     "data": {
      "text/html": [
       "<div>\n",
       "<style scoped>\n",
       "    .dataframe tbody tr th:only-of-type {\n",
       "        vertical-align: middle;\n",
       "    }\n",
       "\n",
       "    .dataframe tbody tr th {\n",
       "        vertical-align: top;\n",
       "    }\n",
       "\n",
       "    .dataframe thead th {\n",
       "        text-align: right;\n",
       "    }\n",
       "</style>\n",
       "<table border=\"1\" class=\"dataframe\">\n",
       "  <thead>\n",
       "    <tr style=\"text-align: right;\">\n",
       "      <th></th>\n",
       "      <th>title</th>\n",
       "      <th>description</th>\n",
       "      <th>title_extracted</th>\n",
       "      <th>site_name_extracted</th>\n",
       "      <th>year</th>\n",
       "      <th>month</th>\n",
       "      <th>sector</th>\n",
       "      <th>continent</th>\n",
       "      <th>attack_type</th>\n",
       "      <th>attack_type_mapping</th>\n",
       "      <th>sector_mapping</th>\n",
       "    </tr>\n",
       "  </thead>\n",
       "  <tbody>\n",
       "    <tr>\n",
       "      <th>0</th>\n",
       "      <td>Facebook page of the local branch of a politic...</td>\n",
       "      <td>SPÖ Müllendorf - Müllendorf, Burgenland, Austria</td>\n",
       "      <td>Hackerangriff auf Facebookseite der SPÖ Müllen...</td>\n",
       "      <td>meinbezirk.at</td>\n",
       "      <td>2024</td>\n",
       "      <td>4</td>\n",
       "      <td>other</td>\n",
       "      <td>Europe</td>\n",
       "      <td>intrusion</td>\n",
       "      <td>2.0</td>\n",
       "      <td>15.0</td>\n",
       "    </tr>\n",
       "    <tr>\n",
       "      <th>1</th>\n",
       "      <td>Cyber attack on a construction company in Germany</td>\n",
       "      <td>Max Wild GmbH - Berkheim, Baden-Württemberg, G...</td>\n",
       "      <td>Cyberangriff auf Max Wild GmbH</td>\n",
       "      <td>maxwild.com</td>\n",
       "      <td>2024</td>\n",
       "      <td>4</td>\n",
       "      <td>other</td>\n",
       "      <td>Europe</td>\n",
       "      <td>unknown</td>\n",
       "      <td>7.0</td>\n",
       "      <td>15.0</td>\n",
       "    </tr>\n",
       "    <tr>\n",
       "      <th>2</th>\n",
       "      <td>Cyber attack on a city government in France</td>\n",
       "      <td>Ville de Gravelines - Gravelines, Hauts-de-Fra...</td>\n",
       "      <td>Notre ville est actuellement victime d’une cyb...</td>\n",
       "      <td>facebook.com</td>\n",
       "      <td>2024</td>\n",
       "      <td>4</td>\n",
       "      <td>other</td>\n",
       "      <td>Europe</td>\n",
       "      <td>unknown</td>\n",
       "      <td>7.0</td>\n",
       "      <td>15.0</td>\n",
       "    </tr>\n",
       "    <tr>\n",
       "      <th>3</th>\n",
       "      <td>Cyber attack on a traffic management system in...</td>\n",
       "      <td>KC Scout - Kansas City, Missouri, USA (Jackson...</td>\n",
       "      <td>KC Scout Alert</td>\n",
       "      <td>facebook.com</td>\n",
       "      <td>2024</td>\n",
       "      <td>4</td>\n",
       "      <td>Gobierno y servicios públicos</td>\n",
       "      <td>Sin continente</td>\n",
       "      <td>unknown</td>\n",
       "      <td>7.0</td>\n",
       "      <td>5.0</td>\n",
       "    </tr>\n",
       "    <tr>\n",
       "      <th>4</th>\n",
       "      <td>Mail account of a city government in Belgium h...</td>\n",
       "      <td>Deinze, Flemish Region, Belgium</td>\n",
       "      <td>Stadsdiensten van Deinze geplaagd door cyberaa...</td>\n",
       "      <td>nieuwsblad.be</td>\n",
       "      <td>2024</td>\n",
       "      <td>4</td>\n",
       "      <td>other</td>\n",
       "      <td>Europe</td>\n",
       "      <td>intrusion</td>\n",
       "      <td>2.0</td>\n",
       "      <td>15.0</td>\n",
       "    </tr>\n",
       "  </tbody>\n",
       "</table>\n",
       "</div>"
      ],
      "text/plain": [
       "                                               title  \\\n",
       "0  Facebook page of the local branch of a politic...   \n",
       "1  Cyber attack on a construction company in Germany   \n",
       "2        Cyber attack on a city government in France   \n",
       "3  Cyber attack on a traffic management system in...   \n",
       "4  Mail account of a city government in Belgium h...   \n",
       "\n",
       "                                         description  \\\n",
       "0   SPÖ Müllendorf - Müllendorf, Burgenland, Austria   \n",
       "1  Max Wild GmbH - Berkheim, Baden-Württemberg, G...   \n",
       "2  Ville de Gravelines - Gravelines, Hauts-de-Fra...   \n",
       "3  KC Scout - Kansas City, Missouri, USA (Jackson...   \n",
       "4                    Deinze, Flemish Region, Belgium   \n",
       "\n",
       "                                     title_extracted site_name_extracted  \\\n",
       "0  Hackerangriff auf Facebookseite der SPÖ Müllen...       meinbezirk.at   \n",
       "1                     Cyberangriff auf Max Wild GmbH         maxwild.com   \n",
       "2  Notre ville est actuellement victime d’une cyb...        facebook.com   \n",
       "3                                     KC Scout Alert        facebook.com   \n",
       "4  Stadsdiensten van Deinze geplaagd door cyberaa...       nieuwsblad.be   \n",
       "\n",
       "   year  month                         sector       continent attack_type  \\\n",
       "0  2024      4                          other          Europe   intrusion   \n",
       "1  2024      4                          other          Europe     unknown   \n",
       "2  2024      4                          other          Europe     unknown   \n",
       "3  2024      4  Gobierno y servicios públicos  Sin continente     unknown   \n",
       "4  2024      4                          other          Europe   intrusion   \n",
       "\n",
       "   attack_type_mapping  sector_mapping  \n",
       "0                  2.0            15.0  \n",
       "1                  7.0            15.0  \n",
       "2                  7.0            15.0  \n",
       "3                  7.0             5.0  \n",
       "4                  2.0            15.0  "
      ]
     },
     "execution_count": 43,
     "metadata": {},
     "output_type": "execute_result"
    }
   ],
   "source": [
    "encoder = OrdinalEncoder()\n",
    "df['sector_mapping'] = encoder.fit_transform(df[['sector']])\n",
    "df.head(5)"
   ]
  },
  {
   "cell_type": "markdown",
   "metadata": {
    "id": "MvG7IZQajJyU"
   },
   "source": [
    "#### CONTINENT"
   ]
  },
  {
   "cell_type": "code",
   "execution_count": 44,
   "metadata": {
    "colab": {
     "base_uri": "https://localhost:8080/"
    },
    "id": "rN-xBb95MiFA",
    "outputId": "0b4b10a0-7d62-48d4-f8bb-cf859e0efb79"
   },
   "outputs": [
    {
     "data": {
      "text/plain": [
       "array(['Europe', 'Sin continente', 'South America', 'North America',\n",
       "       'Oceania', 'Asia', 'Africa'], dtype=object)"
      ]
     },
     "execution_count": 44,
     "metadata": {},
     "output_type": "execute_result"
    }
   ],
   "source": [
    "df['continent'].unique()"
   ]
  },
  {
   "cell_type": "code",
   "execution_count": 45,
   "metadata": {
    "colab": {
     "base_uri": "https://localhost:8080/",
     "height": 306
    },
    "id": "ljFJh_Pqk5iM",
    "outputId": "f2f2828c-55a5-4d7a-da01-e92fdb6eb438"
   },
   "outputs": [
    {
     "data": {
      "text/html": [
       "<div>\n",
       "<style scoped>\n",
       "    .dataframe tbody tr th:only-of-type {\n",
       "        vertical-align: middle;\n",
       "    }\n",
       "\n",
       "    .dataframe tbody tr th {\n",
       "        vertical-align: top;\n",
       "    }\n",
       "\n",
       "    .dataframe thead th {\n",
       "        text-align: right;\n",
       "    }\n",
       "</style>\n",
       "<table border=\"1\" class=\"dataframe\">\n",
       "  <thead>\n",
       "    <tr style=\"text-align: right;\">\n",
       "      <th></th>\n",
       "      <th>title</th>\n",
       "      <th>description</th>\n",
       "      <th>title_extracted</th>\n",
       "      <th>site_name_extracted</th>\n",
       "      <th>year</th>\n",
       "      <th>month</th>\n",
       "      <th>sector</th>\n",
       "      <th>continent</th>\n",
       "      <th>attack_type</th>\n",
       "      <th>attack_type_mapping</th>\n",
       "      <th>sector_mapping</th>\n",
       "      <th>Africa</th>\n",
       "      <th>Asia</th>\n",
       "      <th>Europe</th>\n",
       "      <th>North America</th>\n",
       "      <th>Oceania</th>\n",
       "      <th>Sin continente</th>\n",
       "      <th>South America</th>\n",
       "    </tr>\n",
       "  </thead>\n",
       "  <tbody>\n",
       "    <tr>\n",
       "      <th>0</th>\n",
       "      <td>Facebook page of the local branch of a politic...</td>\n",
       "      <td>SPÖ Müllendorf - Müllendorf, Burgenland, Austria</td>\n",
       "      <td>Hackerangriff auf Facebookseite der SPÖ Müllen...</td>\n",
       "      <td>meinbezirk.at</td>\n",
       "      <td>2024</td>\n",
       "      <td>4</td>\n",
       "      <td>other</td>\n",
       "      <td>Europe</td>\n",
       "      <td>intrusion</td>\n",
       "      <td>2.0</td>\n",
       "      <td>15.0</td>\n",
       "      <td>0</td>\n",
       "      <td>0</td>\n",
       "      <td>1</td>\n",
       "      <td>0</td>\n",
       "      <td>0</td>\n",
       "      <td>0</td>\n",
       "      <td>0</td>\n",
       "    </tr>\n",
       "    <tr>\n",
       "      <th>1</th>\n",
       "      <td>Cyber attack on a construction company in Germany</td>\n",
       "      <td>Max Wild GmbH - Berkheim, Baden-Württemberg, G...</td>\n",
       "      <td>Cyberangriff auf Max Wild GmbH</td>\n",
       "      <td>maxwild.com</td>\n",
       "      <td>2024</td>\n",
       "      <td>4</td>\n",
       "      <td>other</td>\n",
       "      <td>Europe</td>\n",
       "      <td>unknown</td>\n",
       "      <td>7.0</td>\n",
       "      <td>15.0</td>\n",
       "      <td>0</td>\n",
       "      <td>0</td>\n",
       "      <td>1</td>\n",
       "      <td>0</td>\n",
       "      <td>0</td>\n",
       "      <td>0</td>\n",
       "      <td>0</td>\n",
       "    </tr>\n",
       "  </tbody>\n",
       "</table>\n",
       "</div>"
      ],
      "text/plain": [
       "                                               title  \\\n",
       "0  Facebook page of the local branch of a politic...   \n",
       "1  Cyber attack on a construction company in Germany   \n",
       "\n",
       "                                         description  \\\n",
       "0   SPÖ Müllendorf - Müllendorf, Burgenland, Austria   \n",
       "1  Max Wild GmbH - Berkheim, Baden-Württemberg, G...   \n",
       "\n",
       "                                     title_extracted site_name_extracted  \\\n",
       "0  Hackerangriff auf Facebookseite der SPÖ Müllen...       meinbezirk.at   \n",
       "1                     Cyberangriff auf Max Wild GmbH         maxwild.com   \n",
       "\n",
       "   year  month sector continent attack_type  attack_type_mapping  \\\n",
       "0  2024      4  other    Europe   intrusion                  2.0   \n",
       "1  2024      4  other    Europe     unknown                  7.0   \n",
       "\n",
       "   sector_mapping  Africa  Asia  Europe  North America  Oceania  \\\n",
       "0            15.0       0     0       1              0        0   \n",
       "1            15.0       0     0       1              0        0   \n",
       "\n",
       "   Sin continente  South America  \n",
       "0               0              0  \n",
       "1               0              0  "
      ]
     },
     "execution_count": 45,
     "metadata": {},
     "output_type": "execute_result"
    }
   ],
   "source": [
    "dummies = pd.get_dummies(df['continent'], prefix='', prefix_sep='', dtype=int)\n",
    "df = pd.concat([df, dummies], axis=1)\n",
    "\n",
    "df.head(2)\n"
   ]
  },
  {
   "cell_type": "code",
   "execution_count": 46,
   "metadata": {
    "id": "QmjGyDe0HSjA"
   },
   "outputs": [],
   "source": [
    "df = df.drop(columns=['Sin continente'])"
   ]
  },
  {
   "cell_type": "markdown",
   "metadata": {
    "id": "ICnslIKmp0dG"
   },
   "source": [
    "### Tratamiento de variables continuas"
   ]
  },
  {
   "cell_type": "code",
   "execution_count": 47,
   "metadata": {
    "colab": {
     "base_uri": "https://localhost:8080/",
     "height": 216
    },
    "id": "YIHrwmmJp7Uu",
    "outputId": "786e6e4d-254f-446d-d1e5-7d6da9ad794e"
   },
   "outputs": [
    {
     "data": {
      "text/html": [
       "<div>\n",
       "<style scoped>\n",
       "    .dataframe tbody tr th:only-of-type {\n",
       "        vertical-align: middle;\n",
       "    }\n",
       "\n",
       "    .dataframe tbody tr th {\n",
       "        vertical-align: top;\n",
       "    }\n",
       "\n",
       "    .dataframe thead th {\n",
       "        text-align: right;\n",
       "    }\n",
       "</style>\n",
       "<table border=\"1\" class=\"dataframe\">\n",
       "  <thead>\n",
       "    <tr style=\"text-align: right;\">\n",
       "      <th></th>\n",
       "      <th>title</th>\n",
       "      <th>description</th>\n",
       "      <th>title_extracted</th>\n",
       "      <th>site_name_extracted</th>\n",
       "    </tr>\n",
       "  </thead>\n",
       "  <tbody>\n",
       "    <tr>\n",
       "      <th>0</th>\n",
       "      <td>Facebook page of the local branch of a politic...</td>\n",
       "      <td>SPÖ Müllendorf - Müllendorf, Burgenland, Austria</td>\n",
       "      <td>Hackerangriff auf Facebookseite der SPÖ Müllen...</td>\n",
       "      <td>meinbezirk.at</td>\n",
       "    </tr>\n",
       "    <tr>\n",
       "      <th>1</th>\n",
       "      <td>Cyber attack on a construction company in Germany</td>\n",
       "      <td>Max Wild GmbH - Berkheim, Baden-Württemberg, G...</td>\n",
       "      <td>Cyberangriff auf Max Wild GmbH</td>\n",
       "      <td>maxwild.com</td>\n",
       "    </tr>\n",
       "  </tbody>\n",
       "</table>\n",
       "</div>"
      ],
      "text/plain": [
       "                                               title  \\\n",
       "0  Facebook page of the local branch of a politic...   \n",
       "1  Cyber attack on a construction company in Germany   \n",
       "\n",
       "                                         description  \\\n",
       "0   SPÖ Müllendorf - Müllendorf, Burgenland, Austria   \n",
       "1  Max Wild GmbH - Berkheim, Baden-Württemberg, G...   \n",
       "\n",
       "                                     title_extracted site_name_extracted  \n",
       "0  Hackerangriff auf Facebookseite der SPÖ Müllen...       meinbezirk.at  \n",
       "1                     Cyberangriff auf Max Wild GmbH         maxwild.com  "
      ]
     },
     "execution_count": 47,
     "metadata": {},
     "output_type": "execute_result"
    }
   ],
   "source": [
    "df[v_continuas].head(2)"
   ]
  },
  {
   "cell_type": "code",
   "execution_count": 48,
   "metadata": {
    "id": "t4msoRCmrQMi"
   },
   "outputs": [],
   "source": [
    "v_categoricas_cont = list(df[v_continuas].dtypes[df[v_continuas].dtypes == 'object'].index)"
   ]
  },
  {
   "cell_type": "code",
   "execution_count": 49,
   "metadata": {
    "colab": {
     "base_uri": "https://localhost:8080/",
     "height": 210
    },
    "id": "GLasyuA2rgg8",
    "outputId": "375fc562-d845-49e9-a537-b80950aab06d"
   },
   "outputs": [
    {
     "data": {
      "text/plain": [
       "title                  3814\n",
       "description            3911\n",
       "title_extracted        3767\n",
       "site_name_extracted    2445\n",
       "dtype: int64"
      ]
     },
     "execution_count": 49,
     "metadata": {},
     "output_type": "execute_result"
    }
   ],
   "source": [
    "df[v_categoricas_cont].nunique()"
   ]
  },
  {
   "cell_type": "code",
   "execution_count": 50,
   "metadata": {
    "colab": {
     "base_uri": "https://localhost:8080/"
    },
    "id": "uFEaI-z_rgS4",
    "outputId": "4d249984-19ad-4e82-9f4f-fd57ab13f093"
   },
   "outputs": [
    {
     "data": {
      "text/plain": [
       "array(['Facebook page of the local branch of a political party in Austria hacked',\n",
       "       'Cyber attack on a construction company in Germany',\n",
       "       'Cyber attack on a city government in France', ...,\n",
       "       'DDoS attack on the website of a airport in India',\n",
       "       'DDoS attack on the website of a airport in Italy',\n",
       "       'Cyber attack on a airport authority in Kenya'], dtype=object)"
      ]
     },
     "execution_count": 50,
     "metadata": {},
     "output_type": "execute_result"
    }
   ],
   "source": [
    "df['title'].unique()"
   ]
  },
  {
   "cell_type": "code",
   "execution_count": 51,
   "metadata": {
    "colab": {
     "base_uri": "https://localhost:8080/"
    },
    "id": "tYGNEI51ul6m",
    "outputId": "a93e1db6-3173-4902-b8b1-07080ffe73de"
   },
   "outputs": [
    {
     "data": {
      "text/plain": [
       "array(['SPÖ Müllendorf - Müllendorf, Burgenland, Austria',\n",
       "       'Max Wild GmbH - Berkheim, Baden-Württemberg, Germany (Landkreis Biberach)',\n",
       "       'Ville de Gravelines - Gravelines, Hauts-de-France, France', ...,\n",
       "       'Universitat Oberta de Catalunya (UOC) - Barcelona, Catalonia, Spain',\n",
       "       'Universität Düsseldorf (HHU) - Düsseldorf, North Rhine-Westphalia, Germany',\n",
       "       'Katholische Kirche Nordharz - Goslar, Lower Saxony, Germany'],\n",
       "      dtype=object)"
      ]
     },
     "execution_count": 51,
     "metadata": {},
     "output_type": "execute_result"
    }
   ],
   "source": [
    "df['description'].unique()"
   ]
  },
  {
   "cell_type": "code",
   "execution_count": 52,
   "metadata": {
    "colab": {
     "base_uri": "https://localhost:8080/"
    },
    "id": "GT_5jm1nuv1c",
    "outputId": "21c18d66-e03e-4553-df3e-2c0c22a3cba4"
   },
   "outputs": [
    {
     "data": {
      "text/plain": [
       "array(['Hackerangriff auf Facebookseite der SPÖ Müllendorf',\n",
       "       'Cyberangriff auf Max Wild GmbH',\n",
       "       'Notre ville est actuellement victime d’une cyber-attaque.', ...,\n",
       "       'Internet restored after cyber attack against Rowan-Salisbury Schools',\n",
       "       'Ciberataque contra la Universitat Oberta de Catalunya',\n",
       "       'Hackerangriff auf Uni Düsseldorf – Mails des Kanzlers abgefangen'],\n",
       "      dtype=object)"
      ]
     },
     "execution_count": 52,
     "metadata": {},
     "output_type": "execute_result"
    }
   ],
   "source": [
    "df['title_extracted'].unique()"
   ]
  },
  {
   "cell_type": "code",
   "execution_count": 53,
   "metadata": {
    "colab": {
     "base_uri": "https://localhost:8080/"
    },
    "id": "66QIZ0oju2Nw",
    "outputId": "bbf4df74-b037-4790-83ce-bf0ee40fd61d"
   },
   "outputs": [
    {
     "data": {
      "text/plain": [
       "array(['meinbezirk.at', 'maxwild.com', 'facebook.com', ..., 'npr.org',\n",
       "       'chcwm.com', 'salisburypost.com'], dtype=object)"
      ]
     },
     "execution_count": 53,
     "metadata": {},
     "output_type": "execute_result"
    }
   ],
   "source": [
    "df['site_name_extracted'].unique()"
   ]
  },
  {
   "cell_type": "code",
   "execution_count": 54,
   "metadata": {
    "colab": {
     "base_uri": "https://localhost:8080/",
     "height": 608
    },
    "id": "9nRvXM69fhtH",
    "outputId": "e83d531c-0de9-4639-e6d2-2bb20e7b56ce"
   },
   "outputs": [
    {
     "data": {
      "text/html": [
       "<div>\n",
       "<style scoped>\n",
       "    .dataframe tbody tr th:only-of-type {\n",
       "        vertical-align: middle;\n",
       "    }\n",
       "\n",
       "    .dataframe tbody tr th {\n",
       "        vertical-align: top;\n",
       "    }\n",
       "\n",
       "    .dataframe thead th {\n",
       "        text-align: right;\n",
       "    }\n",
       "</style>\n",
       "<table border=\"1\" class=\"dataframe\">\n",
       "  <thead>\n",
       "    <tr style=\"text-align: right;\">\n",
       "      <th></th>\n",
       "      <th>title</th>\n",
       "      <th>description</th>\n",
       "      <th>title_extracted</th>\n",
       "      <th>site_name_extracted</th>\n",
       "      <th>year</th>\n",
       "      <th>month</th>\n",
       "      <th>sector</th>\n",
       "      <th>continent</th>\n",
       "      <th>attack_type</th>\n",
       "      <th>attack_type_mapping</th>\n",
       "      <th>sector_mapping</th>\n",
       "      <th>Africa</th>\n",
       "      <th>Asia</th>\n",
       "      <th>Europe</th>\n",
       "      <th>North America</th>\n",
       "      <th>Oceania</th>\n",
       "      <th>South America</th>\n",
       "    </tr>\n",
       "  </thead>\n",
       "  <tbody>\n",
       "    <tr>\n",
       "      <th>0</th>\n",
       "      <td>Facebook page of the local branch of a politic...</td>\n",
       "      <td>SPÖ Müllendorf - Müllendorf, Burgenland, Austria</td>\n",
       "      <td>Hackerangriff auf Facebookseite der SPÖ Müllen...</td>\n",
       "      <td>meinbezirk.at</td>\n",
       "      <td>2024</td>\n",
       "      <td>4</td>\n",
       "      <td>other</td>\n",
       "      <td>Europe</td>\n",
       "      <td>intrusion</td>\n",
       "      <td>2.0</td>\n",
       "      <td>15.0</td>\n",
       "      <td>0</td>\n",
       "      <td>0</td>\n",
       "      <td>1</td>\n",
       "      <td>0</td>\n",
       "      <td>0</td>\n",
       "      <td>0</td>\n",
       "    </tr>\n",
       "    <tr>\n",
       "      <th>1</th>\n",
       "      <td>Cyber attack on a construction company in Germany</td>\n",
       "      <td>Max Wild GmbH - Berkheim, Baden-Württemberg, G...</td>\n",
       "      <td>Cyberangriff auf Max Wild GmbH</td>\n",
       "      <td>maxwild.com</td>\n",
       "      <td>2024</td>\n",
       "      <td>4</td>\n",
       "      <td>other</td>\n",
       "      <td>Europe</td>\n",
       "      <td>unknown</td>\n",
       "      <td>7.0</td>\n",
       "      <td>15.0</td>\n",
       "      <td>0</td>\n",
       "      <td>0</td>\n",
       "      <td>1</td>\n",
       "      <td>0</td>\n",
       "      <td>0</td>\n",
       "      <td>0</td>\n",
       "    </tr>\n",
       "    <tr>\n",
       "      <th>2</th>\n",
       "      <td>Cyber attack on a city government in France</td>\n",
       "      <td>Ville de Gravelines - Gravelines, Hauts-de-Fra...</td>\n",
       "      <td>Notre ville est actuellement victime d’une cyb...</td>\n",
       "      <td>facebook.com</td>\n",
       "      <td>2024</td>\n",
       "      <td>4</td>\n",
       "      <td>other</td>\n",
       "      <td>Europe</td>\n",
       "      <td>unknown</td>\n",
       "      <td>7.0</td>\n",
       "      <td>15.0</td>\n",
       "      <td>0</td>\n",
       "      <td>0</td>\n",
       "      <td>1</td>\n",
       "      <td>0</td>\n",
       "      <td>0</td>\n",
       "      <td>0</td>\n",
       "    </tr>\n",
       "    <tr>\n",
       "      <th>3</th>\n",
       "      <td>Cyber attack on a traffic management system in...</td>\n",
       "      <td>KC Scout - Kansas City, Missouri, USA (Jackson...</td>\n",
       "      <td>KC Scout Alert</td>\n",
       "      <td>facebook.com</td>\n",
       "      <td>2024</td>\n",
       "      <td>4</td>\n",
       "      <td>Gobierno y servicios públicos</td>\n",
       "      <td>Sin continente</td>\n",
       "      <td>unknown</td>\n",
       "      <td>7.0</td>\n",
       "      <td>5.0</td>\n",
       "      <td>0</td>\n",
       "      <td>0</td>\n",
       "      <td>0</td>\n",
       "      <td>0</td>\n",
       "      <td>0</td>\n",
       "      <td>0</td>\n",
       "    </tr>\n",
       "    <tr>\n",
       "      <th>4</th>\n",
       "      <td>Mail account of a city government in Belgium h...</td>\n",
       "      <td>Deinze, Flemish Region, Belgium</td>\n",
       "      <td>Stadsdiensten van Deinze geplaagd door cyberaa...</td>\n",
       "      <td>nieuwsblad.be</td>\n",
       "      <td>2024</td>\n",
       "      <td>4</td>\n",
       "      <td>other</td>\n",
       "      <td>Europe</td>\n",
       "      <td>intrusion</td>\n",
       "      <td>2.0</td>\n",
       "      <td>15.0</td>\n",
       "      <td>0</td>\n",
       "      <td>0</td>\n",
       "      <td>1</td>\n",
       "      <td>0</td>\n",
       "      <td>0</td>\n",
       "      <td>0</td>\n",
       "    </tr>\n",
       "  </tbody>\n",
       "</table>\n",
       "</div>"
      ],
      "text/plain": [
       "                                               title  \\\n",
       "0  Facebook page of the local branch of a politic...   \n",
       "1  Cyber attack on a construction company in Germany   \n",
       "2        Cyber attack on a city government in France   \n",
       "3  Cyber attack on a traffic management system in...   \n",
       "4  Mail account of a city government in Belgium h...   \n",
       "\n",
       "                                         description  \\\n",
       "0   SPÖ Müllendorf - Müllendorf, Burgenland, Austria   \n",
       "1  Max Wild GmbH - Berkheim, Baden-Württemberg, G...   \n",
       "2  Ville de Gravelines - Gravelines, Hauts-de-Fra...   \n",
       "3  KC Scout - Kansas City, Missouri, USA (Jackson...   \n",
       "4                    Deinze, Flemish Region, Belgium   \n",
       "\n",
       "                                     title_extracted site_name_extracted  \\\n",
       "0  Hackerangriff auf Facebookseite der SPÖ Müllen...       meinbezirk.at   \n",
       "1                     Cyberangriff auf Max Wild GmbH         maxwild.com   \n",
       "2  Notre ville est actuellement victime d’une cyb...        facebook.com   \n",
       "3                                     KC Scout Alert        facebook.com   \n",
       "4  Stadsdiensten van Deinze geplaagd door cyberaa...       nieuwsblad.be   \n",
       "\n",
       "   year  month                         sector       continent attack_type  \\\n",
       "0  2024      4                          other          Europe   intrusion   \n",
       "1  2024      4                          other          Europe     unknown   \n",
       "2  2024      4                          other          Europe     unknown   \n",
       "3  2024      4  Gobierno y servicios públicos  Sin continente     unknown   \n",
       "4  2024      4                          other          Europe   intrusion   \n",
       "\n",
       "   attack_type_mapping  sector_mapping  Africa  Asia  Europe  North America  \\\n",
       "0                  2.0            15.0       0     0       1              0   \n",
       "1                  7.0            15.0       0     0       1              0   \n",
       "2                  7.0            15.0       0     0       1              0   \n",
       "3                  7.0             5.0       0     0       0              0   \n",
       "4                  2.0            15.0       0     0       1              0   \n",
       "\n",
       "   Oceania  South America  \n",
       "0        0              0  \n",
       "1        0              0  \n",
       "2        0              0  \n",
       "3        0              0  \n",
       "4        0              0  "
      ]
     },
     "execution_count": 54,
     "metadata": {},
     "output_type": "execute_result"
    }
   ],
   "source": [
    "df.head(5)"
   ]
  },
  {
   "cell_type": "markdown",
   "metadata": {
    "id": "ymab209prAHZ"
   },
   "source": [
    "## Modelos de clasificación"
   ]
  },
  {
   "cell_type": "code",
   "execution_count": 55,
   "metadata": {
    "id": "Ux4lLt3MjJiW"
   },
   "outputs": [],
   "source": [
    "X = df[['year', 'month', 'Africa', 'Asia', 'Europe', 'North America', 'Oceania', 'South America','sector_mapping']]\n",
    "y = df['attack_type_mapping']\n"
   ]
  },
  {
   "cell_type": "code",
   "execution_count": 56,
   "metadata": {
    "colab": {
     "base_uri": "https://localhost:8080/"
    },
    "id": "J4zsUPjyjWw5",
    "outputId": "de91a6ff-a3b4-46ab-a1ba-540a61778c48"
   },
   "outputs": [
    {
     "name": "stderr",
     "output_type": "stream",
     "text": [
      "c:\\Users\\mgonzgarc\\Anaconda3\\lib\\site-packages\\sklearn\\linear_model\\_logistic.py:814: ConvergenceWarning: lbfgs failed to converge (status=1):\n",
      "STOP: TOTAL NO. of ITERATIONS REACHED LIMIT.\n",
      "\n",
      "Increase the number of iterations (max_iter) or scale the data as shown in:\n",
      "    https://scikit-learn.org/stable/modules/preprocessing.html\n",
      "Please also refer to the documentation for alternative solver options:\n",
      "    https://scikit-learn.org/stable/modules/linear_model.html#logistic-regression\n",
      "  n_iter_i = _check_optimize_result(\n"
     ]
    },
    {
     "name": "stdout",
     "output_type": "stream",
     "text": [
      "Árbol de Decisión: 0.6614923961862738\n",
      "Regresión Logística: 0.6000315183988654\n",
      "Random Forest: 0.6614923961862738\n"
     ]
    }
   ],
   "source": [
    "LogisticRegression(max_iter=500, random_state=42)\n",
    "\n",
    "scaler = StandardScaler()\n",
    "X_scaled = scaler.fit_transform(X)\n",
    "\n",
    "X_train, X_test, y_train, y_test = train_test_split(X_scaled, y, test_size=0.2, random_state=42)\n",
    "\n",
    "\n",
    "models = {\n",
    "    'Árbol de Decisión': DecisionTreeClassifier(random_state=42),\n",
    "    'Regresión Logística': LogisticRegression(max_iter=200, random_state=42),\n",
    "    'Random Forest': RandomForestClassifier(random_state=42)\n",
    "}\n",
    "\n",
    "results = {}\n",
    "\n",
    "for name, model in models.items():\n",
    "    model.fit(X_train, y_train)\n",
    "    y_pred = model.predict(X_test)\n",
    "    accuracy = accuracy_score(y_test, y_pred)\n",
    "    results[name] = accuracy\n",
    "\n",
    "for model_name, accuracy in results.items():\n",
    "    print(f'{model_name}: {accuracy}')"
   ]
  },
  {
   "cell_type": "code",
   "execution_count": 58,
   "metadata": {},
   "outputs": [],
   "source": [
    "df.to_csv('../data/KONBRIEFING_cleaned.csv', index=False)"
   ]
  }
 ],
 "metadata": {
  "colab": {
   "provenance": [],
   "toc_visible": true
  },
  "kernelspec": {
   "display_name": "base",
   "language": "python",
   "name": "python3"
  },
  "language_info": {
   "codemirror_mode": {
    "name": "ipython",
    "version": 3
   },
   "file_extension": ".py",
   "mimetype": "text/x-python",
   "name": "python",
   "nbconvert_exporter": "python",
   "pygments_lexer": "ipython3",
   "version": "3.9.13"
  }
 },
 "nbformat": 4,
 "nbformat_minor": 0
}
