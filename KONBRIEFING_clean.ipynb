{
 "cells": [
  {
   "cell_type": "markdown",
   "metadata": {},
   "source": [
    "#  KONBRIEFING\n"
   ]
  },
  {
   "cell_type": "markdown",
   "metadata": {},
   "source": [
    "## Importación de librerías."
   ]
  },
  {
   "cell_type": "code",
   "execution_count": 2,
   "metadata": {},
   "outputs": [],
   "source": [
    "import pandas as pd\n",
    "import numpy as np\n",
    "import seaborn as sns\n",
    "from sklearn.preprocessing import LabelEncoder\n",
    "from sklearn.preprocessing import OneHotEncoder\n",
    "import country_converter as coco\n",
    "import matplotlib.pyplot as plt\n",
    "import re\n",
    "import hashlib\n",
    "from urllib.parse import urlparse\n",
    "import os\n",
    "import json\n",
    "from sklearn.feature_extraction.text import TfidfVectorizer\n"
   ]
  },
  {
   "cell_type": "markdown",
   "metadata": {},
   "source": [
    "## Importación e información del Dataframe."
   ]
  },
  {
   "cell_type": "code",
   "execution_count": 3,
   "metadata": {},
   "outputs": [],
   "source": [
    "df = pd.read_csv(\"data/KONBRIEFING.csv\")"
   ]
  },
  {
   "cell_type": "code",
   "execution_count": 4,
   "metadata": {},
   "outputs": [
    {
     "data": {
      "text/html": [
       "<div>\n",
       "<style scoped>\n",
       "    .dataframe tbody tr th:only-of-type {\n",
       "        vertical-align: middle;\n",
       "    }\n",
       "\n",
       "    .dataframe tbody tr th {\n",
       "        vertical-align: top;\n",
       "    }\n",
       "\n",
       "    .dataframe thead th {\n",
       "        text-align: right;\n",
       "    }\n",
       "</style>\n",
       "<table border=\"1\" class=\"dataframe\">\n",
       "  <thead>\n",
       "    <tr style=\"text-align: right;\">\n",
       "      <th></th>\n",
       "      <th>date</th>\n",
       "      <th>title</th>\n",
       "      <th>description</th>\n",
       "      <th>references</th>\n",
       "      <th>date_uploaded</th>\n",
       "    </tr>\n",
       "  </thead>\n",
       "  <tbody>\n",
       "    <tr>\n",
       "      <th>0</th>\n",
       "      <td>April 2024</td>\n",
       "      <td>Facebook page of the local branch of a politic...</td>\n",
       "      <td>SPÖ Müllendorf - Müllendorf, Burgenland, Austria</td>\n",
       "      <td>[{\"title\":\"Hackerangriff auf Facebookseite der...</td>\n",
       "      <td>2024-04-29</td>\n",
       "    </tr>\n",
       "    <tr>\n",
       "      <th>1</th>\n",
       "      <td>April 25, 2024</td>\n",
       "      <td>Cyber attack on a construction company in Germany</td>\n",
       "      <td>Max Wild GmbH - Berkheim, Baden-Württemberg, G...</td>\n",
       "      <td>[{\"title\":\"Cyberangriff auf Max Wild GmbH\",\"ur...</td>\n",
       "      <td>2024-04-29</td>\n",
       "    </tr>\n",
       "    <tr>\n",
       "      <th>2</th>\n",
       "      <td>April 25, 2024</td>\n",
       "      <td>Cyber attack on a city government in France</td>\n",
       "      <td>Ville de Gravelines - Gravelines, Hauts-de-Fra...</td>\n",
       "      <td>[{\"title\":\"Notre ville est actuellement victim...</td>\n",
       "      <td>2024-04-29</td>\n",
       "    </tr>\n",
       "    <tr>\n",
       "      <th>3</th>\n",
       "      <td>April 25, 2024</td>\n",
       "      <td>Cyber attack on a traffic management system in...</td>\n",
       "      <td>KC Scout - Kansas City, Missouri, USA (Jackson...</td>\n",
       "      <td>[{\"title\":\"KC Scout Alert\",\"url\":\"https://www....</td>\n",
       "      <td>2024-04-29</td>\n",
       "    </tr>\n",
       "    <tr>\n",
       "      <th>4</th>\n",
       "      <td>April 24, 2024</td>\n",
       "      <td>Mail account of a city government in Belgium h...</td>\n",
       "      <td>Deinze, Flemish Region, Belgium</td>\n",
       "      <td>[{\"title\":\"Stadsdiensten van Deinze geplaagd d...</td>\n",
       "      <td>2024-04-29</td>\n",
       "    </tr>\n",
       "  </tbody>\n",
       "</table>\n",
       "</div>"
      ],
      "text/plain": [
       "             date                                              title  \\\n",
       "0      April 2024  Facebook page of the local branch of a politic...   \n",
       "1  April 25, 2024  Cyber attack on a construction company in Germany   \n",
       "2  April 25, 2024        Cyber attack on a city government in France   \n",
       "3  April 25, 2024  Cyber attack on a traffic management system in...   \n",
       "4  April 24, 2024  Mail account of a city government in Belgium h...   \n",
       "\n",
       "                                         description  \\\n",
       "0   SPÖ Müllendorf - Müllendorf, Burgenland, Austria   \n",
       "1  Max Wild GmbH - Berkheim, Baden-Württemberg, G...   \n",
       "2  Ville de Gravelines - Gravelines, Hauts-de-Fra...   \n",
       "3  KC Scout - Kansas City, Missouri, USA (Jackson...   \n",
       "4                    Deinze, Flemish Region, Belgium   \n",
       "\n",
       "                                          references date_uploaded  \n",
       "0  [{\"title\":\"Hackerangriff auf Facebookseite der...    2024-04-29  \n",
       "1  [{\"title\":\"Cyberangriff auf Max Wild GmbH\",\"ur...    2024-04-29  \n",
       "2  [{\"title\":\"Notre ville est actuellement victim...    2024-04-29  \n",
       "3  [{\"title\":\"KC Scout Alert\",\"url\":\"https://www....    2024-04-29  \n",
       "4  [{\"title\":\"Stadsdiensten van Deinze geplaagd d...    2024-04-29  "
      ]
     },
     "execution_count": 4,
     "metadata": {},
     "output_type": "execute_result"
    }
   ],
   "source": [
    "df.head()"
   ]
  },
  {
   "cell_type": "code",
   "execution_count": 5,
   "metadata": {},
   "outputs": [
    {
     "data": {
      "text/plain": [
       "Index(['date', 'title', 'description', 'references', 'date_uploaded'], dtype='object')"
      ]
     },
     "execution_count": 5,
     "metadata": {},
     "output_type": "execute_result"
    }
   ],
   "source": [
    "df.columns"
   ]
  },
  {
   "cell_type": "markdown",
   "metadata": {},
   "source": [
    "A continuación, se incluye una breve explicación sobre la información que aporta cada columna.\n",
    "- **Date**: Fecha del ataque (aunque algunos valores están incompletos).\n",
    "- **Title**: Título del incidente.\n",
    "- **Description**: Descripción del incidente, que puede incluir la víctima o el sector.\n",
    "- **References**: Fuentes de referencia para el incidente.\n",
    "- **Date Uploaded**: Fecha de subida del incidente al sistema."
   ]
  },
  {
   "cell_type": "code",
   "execution_count": 6,
   "metadata": {},
   "outputs": [
    {
     "data": {
      "text/html": [
       "<div>\n",
       "<style scoped>\n",
       "    .dataframe tbody tr th:only-of-type {\n",
       "        vertical-align: middle;\n",
       "    }\n",
       "\n",
       "    .dataframe tbody tr th {\n",
       "        vertical-align: top;\n",
       "    }\n",
       "\n",
       "    .dataframe thead th {\n",
       "        text-align: right;\n",
       "    }\n",
       "</style>\n",
       "<table border=\"1\" class=\"dataframe\">\n",
       "  <thead>\n",
       "    <tr style=\"text-align: right;\">\n",
       "      <th></th>\n",
       "      <th>date</th>\n",
       "      <th>title</th>\n",
       "      <th>description</th>\n",
       "      <th>references</th>\n",
       "      <th>date_uploaded</th>\n",
       "    </tr>\n",
       "  </thead>\n",
       "  <tbody>\n",
       "    <tr>\n",
       "      <th>count</th>\n",
       "      <td>67310</td>\n",
       "      <td>67326</td>\n",
       "      <td>67358</td>\n",
       "      <td>67358</td>\n",
       "      <td>67358</td>\n",
       "    </tr>\n",
       "    <tr>\n",
       "      <th>unique</th>\n",
       "      <td>1129</td>\n",
       "      <td>4027</td>\n",
       "      <td>4030</td>\n",
       "      <td>4053</td>\n",
       "      <td>16</td>\n",
       "    </tr>\n",
       "    <tr>\n",
       "      <th>top</th>\n",
       "      <td>May 31, 2023</td>\n",
       "      <td>Cyber attack on a university of applied scienc...</td>\n",
       "      <td>? - USA</td>\n",
       "      <td>[]</td>\n",
       "      <td>2024-04-29</td>\n",
       "    </tr>\n",
       "    <tr>\n",
       "      <th>freq</th>\n",
       "      <td>6624</td>\n",
       "      <td>218</td>\n",
       "      <td>1296</td>\n",
       "      <td>2803</td>\n",
       "      <td>4392</td>\n",
       "    </tr>\n",
       "  </tbody>\n",
       "</table>\n",
       "</div>"
      ],
      "text/plain": [
       "                date                                              title  \\\n",
       "count          67310                                              67326   \n",
       "unique          1129                                               4027   \n",
       "top     May 31, 2023  Cyber attack on a university of applied scienc...   \n",
       "freq            6624                                                218   \n",
       "\n",
       "       description references date_uploaded  \n",
       "count        67358      67358         67358  \n",
       "unique        4030       4053            16  \n",
       "top        ? - USA         []    2024-04-29  \n",
       "freq          1296       2803          4392  "
      ]
     },
     "execution_count": 6,
     "metadata": {},
     "output_type": "execute_result"
    }
   ],
   "source": [
    "df.describe(include='all')"
   ]
  },
  {
   "cell_type": "code",
   "execution_count": 7,
   "metadata": {},
   "outputs": [
    {
     "data": {
      "text/plain": [
       "date             object\n",
       "title            object\n",
       "description      object\n",
       "references       object\n",
       "date_uploaded    object\n",
       "dtype: object"
      ]
     },
     "execution_count": 7,
     "metadata": {},
     "output_type": "execute_result"
    }
   ],
   "source": [
    "df.dtypes"
   ]
  },
  {
   "cell_type": "markdown",
   "metadata": {},
   "source": [
    "## Limpieza de datos.\n",
    "En un análisis de ciberseguridad, las columnas más importantes son **Date** (fecha del ataque), **Title** (título del incidente) y **Description** (descripción del ataque), ya que proporcionan la información necesaria para identificar patrones temporales, tipos de ataques y sectores afectados. Estas son fundamentales para estudios sobre tendencias, como el aumento de incidentes en ciertos periodos o vulnerabilidades en sectores específicos. Por otro lado, las columnas **Date uploaded** y **References** son menos relevantes para el análisis de patrones, ya que solo indican cuándo se documentó el incidente y las fuentes, aunque pueden ser útiles para validar la información."
   ]
  },
  {
   "cell_type": "code",
   "execution_count": 8,
   "metadata": {},
   "outputs": [],
   "source": [
    "df.drop(columns=['date_uploaded'], inplace=True)"
   ]
  },
  {
   "cell_type": "markdown",
   "metadata": {},
   "source": [
    "El proceso consiste en convertir las cadenas de la columna, que pueden representar listas de diccionarios, en estructuras adecuadas para extraer la información relevante.\n",
    "\n",
    "Primero, las cadenas se convierten en listas de diccionarios, manejando posibles errores de formato mediante excepciones para evitar fallos. Cuando la conversión es exitosa, se extraen los valores de las claves `title` y `url` de los diccionarios dentro de la lista, asignando valores predeterminados como `None` si no se encuentran datos. Esto permite crear dos nuevas columnas: **References title** y **References URL**."
   ]
  },
  {
   "cell_type": "markdown",
   "metadata": {},
   "source": [
    "### Manejo de filas duplicadas.\n",
    "En caso de haber filas duplicadas, deberemos de eliminar estas para que no afecten al análisis posterior."
   ]
  },
  {
   "cell_type": "code",
   "execution_count": 9,
   "metadata": {},
   "outputs": [
    {
     "data": {
      "text/plain": [
       "62970"
      ]
     },
     "execution_count": 9,
     "metadata": {},
     "output_type": "execute_result"
    }
   ],
   "source": [
    "df.duplicated().sum() # Columnas duplicadas"
   ]
  },
  {
   "cell_type": "markdown",
   "metadata": {},
   "source": [
    "Los duplicados en el conjunto de datos representan registros que contienen información redundante o repetitiva, lo que puede sesgar los análisis y afectar la calidad de un modelo de Machine Learning. En este caso, se consideran duplicados aquellos registros que comparten el mismo título, descripción y referencias, ya que estas columnas capturan la esencia del contenido del dato. La columna **Date Uploaded**, que refleja el momento en que los datos fueron cargados al sistema, no será relevante para definir duplicados porque no aporta información directa sobre los ciberataques en sí. Al eliminar los duplicados, aseguramos que el modelo trabaje con datos únicos y representativos, evitando sesgos y optimizando la eficiencia del análisis."
   ]
  },
  {
   "cell_type": "code",
   "execution_count": 10,
   "metadata": {},
   "outputs": [],
   "source": [
    "df.drop_duplicates(inplace = True)"
   ]
  },
  {
   "cell_type": "code",
   "execution_count": 11,
   "metadata": {},
   "outputs": [
    {
     "data": {
      "text/plain": [
       "(4388, 4)"
      ]
     },
     "execution_count": 11,
     "metadata": {},
     "output_type": "execute_result"
    }
   ],
   "source": [
    "df.shape"
   ]
  },
  {
   "cell_type": "markdown",
   "metadata": {},
   "source": [
    "### Manejo de filas nulas."
   ]
  },
  {
   "cell_type": "code",
   "execution_count": 12,
   "metadata": {},
   "outputs": [
    {
     "data": {
      "text/plain": [
       "date           3\n",
       "title          2\n",
       "description    0\n",
       "references     0\n",
       "dtype: int64"
      ]
     },
     "execution_count": 12,
     "metadata": {},
     "output_type": "execute_result"
    }
   ],
   "source": [
    "df.isnull().sum()"
   ]
  },
  {
   "cell_type": "code",
   "execution_count": 13,
   "metadata": {},
   "outputs": [],
   "source": [
    "df.dropna(inplace=True)"
   ]
  },
  {
   "cell_type": "markdown",
   "metadata": {},
   "source": [
    "### Selección de variables categóricas y continuas.\n",
    "Para realizar correctamente un ánalisis de datos debemos de distinguir entre las variables categóricas, variables que representan diferentes categorías o grupos, y continuas, variables que pueden tomar cualquier valor dentro de un rango determinado."
   ]
  },
  {
   "cell_type": "code",
   "execution_count": 14,
   "metadata": {},
   "outputs": [
    {
     "name": "stdout",
     "output_type": "stream",
     "text": [
      "Variables continuas: date, title, description, references\n",
      "Variables categóricas: \n"
     ]
    }
   ],
   "source": [
    "v_continuas = []\n",
    "v_categoricas = []\n",
    "for i in df.columns:\n",
    "    if df[i].nunique() > 70 or df[i].dtypes in ['float64', 'int64']:\n",
    "        v_continuas.append(i)\n",
    "    else:\n",
    "        v_categoricas.append(i)\n",
    "\n",
    "print('Variables continuas: {}'.format(', '.join(v_continuas)))\n",
    "print('Variables categóricas: {}'.format(', '.join(v_categoricas)))"
   ]
  },
  {
   "cell_type": "markdown",
   "metadata": {},
   "source": [
    "#### Tratamiento de variables continuas.\n",
    "Para el modelo de clasificación debemos de pasar todas las columnas a tipo `int`. Por ello, debemos de ver si realizar como en el caso anterior una codificación ordinal o agruparlos."
   ]
  },
  {
   "cell_type": "markdown",
   "metadata": {},
   "source": [
    "##### **Date.**"
   ]
  },
  {
   "cell_type": "code",
   "execution_count": 15,
   "metadata": {},
   "outputs": [],
   "source": [
    "df['date'] = pd.to_datetime(df['date'], errors='coerce')"
   ]
  },
  {
   "cell_type": "code",
   "execution_count": 16,
   "metadata": {},
   "outputs": [
    {
     "data": {
      "text/plain": [
       "date           199\n",
       "title            0\n",
       "description      0\n",
       "references       0\n",
       "dtype: int64"
      ]
     },
     "execution_count": 16,
     "metadata": {},
     "output_type": "execute_result"
    }
   ],
   "source": [
    "df.isnull().sum()"
   ]
  },
  {
   "cell_type": "code",
   "execution_count": 17,
   "metadata": {},
   "outputs": [],
   "source": [
    "df.dropna(inplace=True)"
   ]
  },
  {
   "cell_type": "code",
   "execution_count": 18,
   "metadata": {},
   "outputs": [],
   "source": [
    "df['year'] = df['date'].dt.year\n",
    "df['month'] = df['date'].dt.month\n",
    "df['day'] = df['date'].dt.day"
   ]
  },
  {
   "cell_type": "code",
   "execution_count": 19,
   "metadata": {},
   "outputs": [
    {
     "data": {
      "text/html": [
       "<div>\n",
       "<style scoped>\n",
       "    .dataframe tbody tr th:only-of-type {\n",
       "        vertical-align: middle;\n",
       "    }\n",
       "\n",
       "    .dataframe tbody tr th {\n",
       "        vertical-align: top;\n",
       "    }\n",
       "\n",
       "    .dataframe thead th {\n",
       "        text-align: right;\n",
       "    }\n",
       "</style>\n",
       "<table border=\"1\" class=\"dataframe\">\n",
       "  <thead>\n",
       "    <tr style=\"text-align: right;\">\n",
       "      <th></th>\n",
       "      <th>date</th>\n",
       "      <th>title</th>\n",
       "      <th>description</th>\n",
       "      <th>references</th>\n",
       "      <th>year</th>\n",
       "      <th>month</th>\n",
       "      <th>day</th>\n",
       "    </tr>\n",
       "  </thead>\n",
       "  <tbody>\n",
       "    <tr>\n",
       "      <th>0</th>\n",
       "      <td>2024-04-01</td>\n",
       "      <td>Facebook page of the local branch of a politic...</td>\n",
       "      <td>SPÖ Müllendorf - Müllendorf, Burgenland, Austria</td>\n",
       "      <td>[{\"title\":\"Hackerangriff auf Facebookseite der...</td>\n",
       "      <td>2024</td>\n",
       "      <td>4</td>\n",
       "      <td>1</td>\n",
       "    </tr>\n",
       "    <tr>\n",
       "      <th>1</th>\n",
       "      <td>2024-04-25</td>\n",
       "      <td>Cyber attack on a construction company in Germany</td>\n",
       "      <td>Max Wild GmbH - Berkheim, Baden-Württemberg, G...</td>\n",
       "      <td>[{\"title\":\"Cyberangriff auf Max Wild GmbH\",\"ur...</td>\n",
       "      <td>2024</td>\n",
       "      <td>4</td>\n",
       "      <td>25</td>\n",
       "    </tr>\n",
       "    <tr>\n",
       "      <th>2</th>\n",
       "      <td>2024-04-25</td>\n",
       "      <td>Cyber attack on a city government in France</td>\n",
       "      <td>Ville de Gravelines - Gravelines, Hauts-de-Fra...</td>\n",
       "      <td>[{\"title\":\"Notre ville est actuellement victim...</td>\n",
       "      <td>2024</td>\n",
       "      <td>4</td>\n",
       "      <td>25</td>\n",
       "    </tr>\n",
       "    <tr>\n",
       "      <th>3</th>\n",
       "      <td>2024-04-25</td>\n",
       "      <td>Cyber attack on a traffic management system in...</td>\n",
       "      <td>KC Scout - Kansas City, Missouri, USA (Jackson...</td>\n",
       "      <td>[{\"title\":\"KC Scout Alert\",\"url\":\"https://www....</td>\n",
       "      <td>2024</td>\n",
       "      <td>4</td>\n",
       "      <td>25</td>\n",
       "    </tr>\n",
       "    <tr>\n",
       "      <th>4</th>\n",
       "      <td>2024-04-24</td>\n",
       "      <td>Mail account of a city government in Belgium h...</td>\n",
       "      <td>Deinze, Flemish Region, Belgium</td>\n",
       "      <td>[{\"title\":\"Stadsdiensten van Deinze geplaagd d...</td>\n",
       "      <td>2024</td>\n",
       "      <td>4</td>\n",
       "      <td>24</td>\n",
       "    </tr>\n",
       "  </tbody>\n",
       "</table>\n",
       "</div>"
      ],
      "text/plain": [
       "        date                                              title  \\\n",
       "0 2024-04-01  Facebook page of the local branch of a politic...   \n",
       "1 2024-04-25  Cyber attack on a construction company in Germany   \n",
       "2 2024-04-25        Cyber attack on a city government in France   \n",
       "3 2024-04-25  Cyber attack on a traffic management system in...   \n",
       "4 2024-04-24  Mail account of a city government in Belgium h...   \n",
       "\n",
       "                                         description  \\\n",
       "0   SPÖ Müllendorf - Müllendorf, Burgenland, Austria   \n",
       "1  Max Wild GmbH - Berkheim, Baden-Württemberg, G...   \n",
       "2  Ville de Gravelines - Gravelines, Hauts-de-Fra...   \n",
       "3  KC Scout - Kansas City, Missouri, USA (Jackson...   \n",
       "4                    Deinze, Flemish Region, Belgium   \n",
       "\n",
       "                                          references  year  month  day  \n",
       "0  [{\"title\":\"Hackerangriff auf Facebookseite der...  2024      4    1  \n",
       "1  [{\"title\":\"Cyberangriff auf Max Wild GmbH\",\"ur...  2024      4   25  \n",
       "2  [{\"title\":\"Notre ville est actuellement victim...  2024      4   25  \n",
       "3  [{\"title\":\"KC Scout Alert\",\"url\":\"https://www....  2024      4   25  \n",
       "4  [{\"title\":\"Stadsdiensten van Deinze geplaagd d...  2024      4   24  "
      ]
     },
     "execution_count": 19,
     "metadata": {},
     "output_type": "execute_result"
    }
   ],
   "source": [
    "df.head()"
   ]
  },
  {
   "cell_type": "code",
   "execution_count": 20,
   "metadata": {},
   "outputs": [],
   "source": [
    "df.drop(columns=['date'], inplace=True)"
   ]
  },
  {
   "cell_type": "markdown",
   "metadata": {},
   "source": [
    "##### **Description.**\n",
    "La columna **Description** contiene información clave sobre el lugar donde ocurrió el incidente, proporcionando un contexto geográfico valioso para el análisis. Este dato se puede aprovechar clasificando cada registro según el continente al que pertenece la ubicación de la víctima. Identificar los continentes nos permitirá segmentar los datos de manera más eficiente, ayudando a detectar patrones regionales de ciberataques y sus posibles tendencias."
   ]
  },
  {
   "cell_type": "code",
   "execution_count": 21,
   "metadata": {},
   "outputs": [
    {
     "data": {
      "text/plain": [
       "array(['SPÖ Müllendorf - Müllendorf, Burgenland, Austria',\n",
       "       'Max Wild GmbH - Berkheim, Baden-Württemberg, Germany (Landkreis Biberach)',\n",
       "       'Ville de Gravelines - Gravelines, Hauts-de-France, France', ...,\n",
       "       'Universitat Oberta de Catalunya (UOC) - Barcelona, Catalonia, Spain',\n",
       "       'Llucmajor, Islas Baleares, Spain',\n",
       "       'Katholische Kirche Nordharz - Goslar, Lower Saxony, Germany'],\n",
       "      dtype=object)"
      ]
     },
     "execution_count": 21,
     "metadata": {},
     "output_type": "execute_result"
    }
   ],
   "source": [
    "df['description'].unique()"
   ]
  },
  {
   "cell_type": "code",
   "execution_count": 22,
   "metadata": {},
   "outputs": [
    {
     "data": {
      "text/plain": [
       "array(['Austria', 'Germany (Landkreis Biberach)', 'France',\n",
       "       'Platte County)', 'Belgium', 'Argentina', 'Canada',\n",
       "       'České noviny (ČN) / Česká tisková kancelář (ČTK) - Czech Republik',\n",
       "       'Skanlog - Sweden', 'Germany (Landkreis Unterallgäu)'],\n",
       "      dtype=object)"
      ]
     },
     "execution_count": 22,
     "metadata": {},
     "output_type": "execute_result"
    }
   ],
   "source": [
    "df['country'] = df['description'].apply(lambda x: x.split(',')[-1].strip() if isinstance(x, str) else None)\n",
    "\n",
    "df['country'].unique()[:10]"
   ]
  },
  {
   "cell_type": "code",
   "execution_count": 23,
   "metadata": {},
   "outputs": [],
   "source": [
    "def clean_country_name(country):\n",
    "  if '-' in country:\n",
    "    cleaned_name = country.split('-')[-1].strip()\n",
    "  else:\n",
    "    cleaned_name = re.sub(r\"\\(.*?\\)\", \"\", country).strip()\n",
    "  return cleaned_name.strip()\n",
    "\n",
    "df['country'] = df['country'].apply(clean_country_name)"
   ]
  },
  {
   "cell_type": "code",
   "execution_count": 24,
   "metadata": {},
   "outputs": [],
   "source": [
    "df['country'] = df['country'].str.replace(r'\\)', '', regex=True)"
   ]
  },
  {
   "cell_type": "code",
   "execution_count": 25,
   "metadata": {},
   "outputs": [
    {
     "data": {
      "text/plain": [
       "array(['Austria', 'Germany', 'France', 'Platte County', 'Belgium',\n",
       "       'Argentina', 'Canada', 'Czech Republik', 'Sweden', 'Mexico'],\n",
       "      dtype=object)"
      ]
     },
     "execution_count": 25,
     "metadata": {},
     "output_type": "execute_result"
    }
   ],
   "source": [
    "df['country'].unique()[:10]"
   ]
  },
  {
   "cell_type": "code",
   "execution_count": 45,
   "metadata": {},
   "outputs": [],
   "source": [
    "continents_mapping = {\n",
    "    'Africa': [\n",
    "        'Algeria', 'Angola', 'Benin', 'Botswana', 'Burkina Faso', 'Burundi', 'Cabo Verde', 'Cameroon', 'Central African Republic',\n",
    "        'Chad', 'Comoros', 'Congo', 'Djibouti', 'Egypt', 'Equatorial Guinea', 'Eritrea', 'Eswatini', 'Ethiopia', 'Gabon',\n",
    "        'Gambia', 'Ghana', 'Guinea', 'Guinea-Bissau', 'Ivory Coast', 'Kenya', 'Lesotho', 'Liberia', 'Libya', 'Madagascar',\n",
    "        'Malawi', 'Mali', 'Mauritania', 'Mauritius', 'Morocco', 'Mozambique', 'Namibia', 'Niger', 'Nigeria', 'Rwanda',\n",
    "        'Sao Tome and Principe', 'Senegal', 'Seychelles', 'Sierra Leone', 'Somalia', 'South Africa', 'South Sudan',\n",
    "        'Sudan', 'Tanzania', 'Togo', 'Tunisia', 'Uganda', 'Zambia', 'Zimbabwe', 'Libya / ليبيا'\n",
    "    ],\n",
    "    'Asia': [\n",
    "        'Afghanistan', 'Armenia', 'Bahrain', 'Bangladesh', 'Bhutan', 'Brunei', 'Cambodia', 'China', 'Cyprus',\n",
    "        'India', 'Indonesia', 'Iran', 'Iraq', 'Israel', 'Japan', 'Jordan', 'Kazakhstan', 'Kuwait', 'Kyrgyzstan',\n",
    "        'Laos', 'Lebanon', 'Malaysia', 'Maldives', 'Mongolia', 'Myanmar', 'Nepal', 'North Korea', 'Oman', 'Pakistan',\n",
    "        'Palestine', 'Philippines', 'Qatar', 'Saudi Arabia', 'Singapore', 'South Korea', 'Sri Lanka', 'Syria', 'Taiwan',\n",
    "        'Tajikistan', 'Thailand', 'Timor-Leste', 'Turkey', 'Turkmenistan', 'United Arab Emirates', 'Uzbekistan', 'Vietnam', 'Yemen',\n",
    "        \"People's Republic of China\", 'Republic of China / Taiwan', 'Jordanien / الأردن', 'Malediven / ދިވެހިރާއްޖޭގެ ޖުމްހޫރިއްޔާ'\n",
    "    ],\n",
    "    'Europe': [\n",
    "        'Albania', 'Andorra', 'Austria', 'Azerbaijan', 'Belarus', 'Belgium', 'Bosnia and Herzegovina', 'Bulgaria',\n",
    "        'Croatia', 'Czech Republic', 'Denmark', 'Estonia', 'Finland', 'France', 'Georgia', 'Germany', 'Greece',\n",
    "        'Hungary', 'Iceland', 'Ireland', 'Italy', 'Kosovo', 'Latvia', 'Liechtenstein', 'Lithuania', 'Luxembourg', 'Malta',\n",
    "        'Moldova', 'Monaco', 'Montenegro', 'Netherlands', 'North Macedonia', 'Norway', 'Poland', 'Portugal', 'Romania',\n",
    "        'Russia', 'San Marino', 'Serbia', 'Slovakia', 'Slovenia', 'Spain', 'Sweden', 'Switzerland', 'Ukraine', 'United Kingdom',\n",
    "        'Vatican City', 'Czech Republik', 'Upper Austria', 'Kingdom of the Netherlands', 'Serbien / Србија', 'UK', 'Isle of Man',\n",
    "        'Vatican', 'Rügen', 'Kreis', 'Schrobenhausen', 'Frankreich', 'Lübbecke', 'Meiningen', 'Bogen', 'Wittgenstein',\n",
    "        'Zell', 'Ulm', 'Kreis Neuss', 'Koblenz', 'Neckar district', 'Weilburg', 'Grafenau', 'Greifswald', 'Gunzenhausen',\n",
    "        'Bitterfeld district', 'Bingen district', 'Frankenberg', 'Spessart', 'Jersey', 'Osterzgebirge', 'Hochschwarzwald',\n",
    "        'Germany ', 'Höchstadt', 'Guernsey', 'Europe', 'Worms', 'Harmony', 'Poly Network', 'PolyNetwork', 'Wormhole'\n",
    "    ],\n",
    "    'North America': [\n",
    "        'Antigua and Barbuda', 'Bahamas', 'Barbados', 'Belize', 'Canada', 'Costa Rica', 'Cuba', 'Dominica', 'Dominican Republic',\n",
    "        'El Salvador', 'Grenada', 'Guatemala', 'Haiti', 'Honduras', 'Jamaica', 'Mexico', 'Nicaragua', 'Panama',\n",
    "        'Saint Kitts and Nevis', 'Saint Lucia', 'Saint Vincent and the Grenadines', 'Trinidad and Tobago', 'United States of America (USA)',\n",
    "        'USA', 'Grönland', 'Puerto Rico', 'Bermuda', 'United States of America', 'Platte County', 'Rockwall County', 'Leelanau County', 'Lehigh County', 'Columbus County', 'DuPage County',\n",
    "        'DeKalb County', 'Manatee County', 'Miami County', 'Montgomery County', 'Cook County', 'Hawkins County',\n",
    "        'Williamson County', 'Utah County', 'Rankin County', 'Dade County', 'Roane County', 'Chester County', 'Callaway Country',\n",
    "        'Howard County', 'Clinton County', 'Marion County', 'Durham County', 'Warren County', 'Peach County', 'Kanawha County',\n",
    "        'Lexington County', 'Allegan County', 'Sint Maarten', 'Fairfield County', 'Baltimore County', 'Baltimore City', 'Baltimore', 'Bossier Parish',\n",
    "        'Nicollet County'\n",
    "    ],\n",
    "    'South America': [\n",
    "        'Argentina', 'Bolivia', 'Brazil', 'Chile', 'Colombia', 'Ecuador', 'Guyana', 'Paraguay', 'Peru', 'Suriname', 'Uruguay', 'Venezuela'\n",
    "    ],\n",
    "    'Australia': [\n",
    "        'Australia', 'Fiji', 'Kiribati', 'Marshall Islands', 'Micronesia', 'Nauru', 'New Zealand', 'Palau', 'Papua New Guinea',\n",
    "        'Samoa', 'Solomon Islands', 'Tonga', 'Tuvalu', 'Vanuatu', 'Oceania'\n",
    "    ],\n",
    "    'Africa, Asia, North America, Europe, South America, Australia': ['Global']\n",
    "}"
   ]
  },
  {
   "cell_type": "code",
   "execution_count": 46,
   "metadata": {},
   "outputs": [],
   "source": [
    "def assign_continent(country_clean):\n",
    "  continents = set()\n",
    "\n",
    "  for continent, countries_list in continents_mapping.items():\n",
    "    if country_clean in countries_list:\n",
    "      continents.add(continent)\n",
    "  return ', '.join(continents) if continents else None\n",
    "\n",
    "df['continent'] = df['country'].apply(assign_continent)"
   ]
  },
  {
   "cell_type": "code",
   "execution_count": 47,
   "metadata": {},
   "outputs": [
    {
     "name": "stdout",
     "output_type": "stream",
     "text": [
      "Lista de países con 'continent' como None:\n",
      "['Apex Legends Global Series' 'Pyrmont' 'Pottawatomie' 'KyberSwap'\n",
      " 'Unibot' 'HTX / Huobi' 'Remitano' 'CoinEx' 'Cloudflare' 'Zunami Protocol'\n",
      " 'Curve Stablecoin' 'NATO' 'Alphapo' 'Era Lend' 'CoinsPaid'\n",
      " 'Archive of Our Own' 'Sturdy Finance'\n",
      " 'Vulnerabilities: Progress Software MOVEit Transfer'\n",
      " '0558 targeting of customer email\\r\\nhttps://msrc.microsoft.com/blog/2023/07/...'\n",
      " 'KuCoin' 'Kodi' 'Allbridge' 'Poolz' 'Algorand MyAlgo' 'Platypus' 'Azuki'\n",
      " 'Legacy of War Foundation' 'gb/games/fifa/fifa...' 'Qubit Finance'\n",
      " 'Compromised accounts of Ukrainian military personnel are being used to attack European government officials involved with refugees from Ukraine.'\n",
      " 'Trickbot' 'DEUS Finance' 'Ola Finance' 'Bored Ape Yacht Club'\n",
      " 'Inverse Finance' 'Beanstalk Farms' 'ZEED'\n",
      " 'How Google Cloud blocked the largest Layer 7 DDoS attack at 46 million rps\\r\\nhttps://cloud.google.com/blog/products/i...'\n",
      " 'Crema Finance'\n",
      " '399 address that have been sent a malicious token to target their assets\\r\\nhttps://twitter.com/sniko_/status/154653...'\n",
      " 'Nomad Bridge' 'Solana' 'CS.MONEY' '000 worth of damage.'\n",
      " 'Rockstar Games' 'Wintermute' 'Pokerstars WCOOP / Galactic'\n",
      " 'Transit Swap' 'Overwatch 2'\n",
      " 'Around 22:00 UTC October 11th the Mango protocol had an incident involving the following\\r\\nhttps://twitter.com/mangomarkets/status/...'\n",
      " 'QuickSwap'\n",
      " 'Numerous users of the remote maintenance software are affected.'\n",
      " 'Open Subtitles' 'Affected is xToken with xSNX.'\n",
      " 'The platform affected is C.R.E.A.M Finance.' 'GSS Grupo Covisian'\n",
      " 'Vee Finance' 'Cream Finance' 'Inter IKEA Group' 'us/articl...'\n",
      " 'Vulcan Forged']\n"
     ]
    }
   ],
   "source": [
    "countries_with_no_continent = df[df['continent'].isnull()]['country'].unique()\n",
    "\n",
    "# Mostrar la lista de países con 'continent' como None\n",
    "print(\"Lista de países con 'continent' como None:\")\n",
    "print(countries_with_no_continent)\n"
   ]
  },
  {
   "cell_type": "code",
   "execution_count": 48,
   "metadata": {},
   "outputs": [
    {
     "data": {
      "text/plain": [
       "66"
      ]
     },
     "execution_count": 48,
     "metadata": {},
     "output_type": "execute_result"
    }
   ],
   "source": [
    "df['continent'].isnull().sum()"
   ]
  },
  {
   "cell_type": "code",
   "execution_count": 50,
   "metadata": {},
   "outputs": [],
   "source": [
    "df.dropna(subset=['continent'], inplace=True)"
   ]
  },
  {
   "cell_type": "markdown",
   "metadata": {},
   "source": [
    "##### **References.**\n",
    "El proceso consiste en convertir las cadenas de la columna, que pueden representar listas de diccionarios, en estructuras adecuadas para extraer la información relevante.\n",
    "\n",
    "Primero, las cadenas se convierten en listas de diccionarios, manejando posibles errores de formato mediante excepciones para evitar fallos. Cuando la conversión es exitosa, se extraen los valores de las claves `title` y `url` de los diccionarios dentro de la lista. Esto permite crear dos nuevas columnas: **References title** y **References URL**."
   ]
  },
  {
   "cell_type": "code",
   "execution_count": 51,
   "metadata": {},
   "outputs": [],
   "source": [
    "def extract_title_url(reference_column):\n",
    "    titles, urls = [], []\n",
    "    for ref in reference_column:\n",
    "        if not ref:\n",
    "            titles.append(\"\")\n",
    "            urls.append(\"\")\n",
    "            continue\n",
    "        try:\n",
    "            ref_json = json.loads(ref)\n",
    "            if isinstance(ref_json, list) and len(ref_json) > 0:\n",
    "                first_ref = ref_json[0]\n",
    "                title = first_ref.get(\"title\", \"\")\n",
    "                url = first_ref.get(\"url\", \"\")\n",
    "                site_name = urlparse(url).netloc.replace('www.', '') if url else \"\"\n",
    "                titles.append(title)\n",
    "                urls.append(site_name)\n",
    "            else:\n",
    "                titles.append(\"\")\n",
    "                urls.append(\"\")\n",
    "        except (json.JSONDecodeError, IndexError, TypeError) as e:\n",
    "            titles.append(\"\")\n",
    "            urls.append(\"\")\n",
    "\n",
    "    return titles, urls"
   ]
  },
  {
   "cell_type": "code",
   "execution_count": 54,
   "metadata": {},
   "outputs": [
    {
     "data": {
      "text/html": [
       "<div>\n",
       "<style scoped>\n",
       "    .dataframe tbody tr th:only-of-type {\n",
       "        vertical-align: middle;\n",
       "    }\n",
       "\n",
       "    .dataframe tbody tr th {\n",
       "        vertical-align: top;\n",
       "    }\n",
       "\n",
       "    .dataframe thead th {\n",
       "        text-align: right;\n",
       "    }\n",
       "</style>\n",
       "<table border=\"1\" class=\"dataframe\">\n",
       "  <thead>\n",
       "    <tr style=\"text-align: right;\">\n",
       "      <th></th>\n",
       "      <th>title</th>\n",
       "      <th>description</th>\n",
       "      <th>references</th>\n",
       "      <th>year</th>\n",
       "      <th>month</th>\n",
       "      <th>day</th>\n",
       "      <th>country</th>\n",
       "      <th>continent</th>\n",
       "      <th>reference_title</th>\n",
       "      <th>reference_url</th>\n",
       "    </tr>\n",
       "  </thead>\n",
       "  <tbody>\n",
       "    <tr>\n",
       "      <th>0</th>\n",
       "      <td>Facebook page of the local branch of a politic...</td>\n",
       "      <td>SPÖ Müllendorf - Müllendorf, Burgenland, Austria</td>\n",
       "      <td>[{\"title\":\"Hackerangriff auf Facebookseite der...</td>\n",
       "      <td>2024</td>\n",
       "      <td>4</td>\n",
       "      <td>1</td>\n",
       "      <td>Austria</td>\n",
       "      <td>Europe</td>\n",
       "      <td>Hackerangriff auf Facebookseite der SPÖ Müllen...</td>\n",
       "      <td>meinbezirk.at</td>\n",
       "    </tr>\n",
       "    <tr>\n",
       "      <th>1</th>\n",
       "      <td>Cyber attack on a construction company in Germany</td>\n",
       "      <td>Max Wild GmbH - Berkheim, Baden-Württemberg, G...</td>\n",
       "      <td>[{\"title\":\"Cyberangriff auf Max Wild GmbH\",\"ur...</td>\n",
       "      <td>2024</td>\n",
       "      <td>4</td>\n",
       "      <td>25</td>\n",
       "      <td>Germany</td>\n",
       "      <td>Europe</td>\n",
       "      <td>Cyberangriff auf Max Wild GmbH</td>\n",
       "      <td>maxwild.com</td>\n",
       "    </tr>\n",
       "  </tbody>\n",
       "</table>\n",
       "</div>"
      ],
      "text/plain": [
       "                                               title  \\\n",
       "0  Facebook page of the local branch of a politic...   \n",
       "1  Cyber attack on a construction company in Germany   \n",
       "\n",
       "                                         description  \\\n",
       "0   SPÖ Müllendorf - Müllendorf, Burgenland, Austria   \n",
       "1  Max Wild GmbH - Berkheim, Baden-Württemberg, G...   \n",
       "\n",
       "                                          references  year  month  day  \\\n",
       "0  [{\"title\":\"Hackerangriff auf Facebookseite der...  2024      4    1   \n",
       "1  [{\"title\":\"Cyberangriff auf Max Wild GmbH\",\"ur...  2024      4   25   \n",
       "\n",
       "   country continent                                    reference_title  \\\n",
       "0  Austria    Europe  Hackerangriff auf Facebookseite der SPÖ Müllen...   \n",
       "1  Germany    Europe                     Cyberangriff auf Max Wild GmbH   \n",
       "\n",
       "   reference_url  \n",
       "0  meinbezirk.at  \n",
       "1    maxwild.com  "
      ]
     },
     "execution_count": 54,
     "metadata": {},
     "output_type": "execute_result"
    }
   ],
   "source": [
    "df['reference_title'], df['reference_url'] = extract_title_url(df['references'])\n",
    "df.head(2)"
   ]
  },
  {
   "cell_type": "code",
   "execution_count": 55,
   "metadata": {},
   "outputs": [],
   "source": [
    "df.drop(columns=['references'], inplace=True)"
   ]
  }
 ],
 "metadata": {
  "kernelspec": {
   "display_name": "base",
   "language": "python",
   "name": "python3"
  },
  "language_info": {
   "codemirror_mode": {
    "name": "ipython",
    "version": 3
   },
   "file_extension": ".py",
   "mimetype": "text/x-python",
   "name": "python",
   "nbconvert_exporter": "python",
   "pygments_lexer": "ipython3",
   "version": "3.9.13"
  }
 },
 "nbformat": 4,
 "nbformat_minor": 2
}
